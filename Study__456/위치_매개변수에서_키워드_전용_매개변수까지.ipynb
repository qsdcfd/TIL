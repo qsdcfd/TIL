{
  "nbformat": 4,
  "nbformat_minor": 0,
  "metadata": {
    "colab": {
      "provenance": [],
      "authorship_tag": "ABX9TyODq74oJcTkPJZ0h37IEUnn"
    },
    "kernelspec": {
      "name": "python3",
      "display_name": "Python 3"
    },
    "language_info": {
      "name": "python"
    }
  },
  "cells": [
    {
      "cell_type": "markdown",
      "source": [
        "# 일급함수\n",
        "## 객체로서의 함수\n",
        "### 위치 매개변수에서 키워드 전용 매개변수까지\n",
        "\n",
        "키워드 전용 인수를 이용해서 향상된 파이썬3는 융통성 있는 매개변수 처리 메커니즘으로 파이썬 함수에서 볼 수 있는 가장 훌륭한 기능 중 하나로 함수를 호출할 때 반복 가능 객체나 매핑형을 별도의 인수로 폭발시키는 *와 **기호도 이 메커니즘과 밀접하게 연관이 되어 있습니다.\n",
        "\n",
        "```\n",
        "#HTML을 생성하는 tag()함수, class는 파이썬에 정의된 키워드로, class 속성을 전달하기 위해서 키워드 전용 매개변수로 cls를 사용했다.\n",
        "\n",
        "def tag(name, *content, cls=None, **attrs):\n",
        "\t\"\"\"하나 이상의 HTML 태그를 생성한다.\"\"\"\n",
        "    if cls is not None:\n",
        "    \tattrs['class'] = cls\n",
        "    if attrs:\n",
        "    \tattr_str = ''.join(' %s=\"%s\"' % (attr, value)\n",
        "        \t\t\t\t   for attr, value\n",
        "                           in sorted(attrs.items())\n",
        "        else:\n",
        "        \tattr_str =''\n",
        "        \n",
        "        if content:\n",
        "        \treturn '\\n'.join('<%s%s>%s</%s>' %\n",
        "            \t\t\t\t (name, attr_str, c, name) for c in content)\n",
        "                             \n",
        "                             \n",
        "        else:\n",
        "        \treturn '<%s%s />' % (name, attr_str)\n",
        "```\n",
        "\n",
        "<br>\n",
        "\n",
        "```\n",
        "#tag()함수를 호출하는 법\n",
        "tag('br')\n",
        "tag('p', 'hello')\n",
        "print(tag('p', 'hello', 'world'))\n",
        "tag('p','hello',id==33)\n",
        "print(tag('p','hello','world', cls='sidebar'))\n",
        "tag(content='testing', name=\"img\")\n",
        "my_tag = {'name': 'img', 'title': 'Sunset Boulevard', 'src':'sunset.jpg', 'cls': 'framed'}\n",
        "tag(**my_tag)\n",
        "```\n",
        "\n",
        ">키워드 전용 인수는 파이썬 3에 추가된 기능으로 cls 매개변수는 키워드 인수로만 전달될 수 있고, 결코 익명의 위치 인수로는 전달되지 않는다. 함수를 정의할 때 키워드 전용 인수를 지정하려면 * 가 붙은 인수 뒤에 이름을 지정하고, 가변 개수의 위치 인수를 지원하지 않으면서 키워드 전용 인수를 지원하고 싶다면, * 만 시그니처에 초함\n",
        "\n",
        "```\n",
        "def f(a,*,b):\n",
        "\treturn a,b\n",
        "    \n",
        "f(1,b=2)\n",
        "\n",
        "```\n",
        "\n",
        ">키워드 전용 인수는 기본값을 저장하지 않아도 되고,b처럼 필수 인자로 만들 수 있다. "
      ],
      "metadata": {
        "id": "3bbnLmwAyfzS"
      }
    },
    {
      "cell_type": "code",
      "source": [],
      "metadata": {
        "id": "gs8JT9MkygHI"
      },
      "execution_count": null,
      "outputs": []
    }
  ]
}