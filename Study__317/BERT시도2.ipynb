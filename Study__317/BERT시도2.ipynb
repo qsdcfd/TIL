{
  "nbformat": 4,
  "nbformat_minor": 0,
  "metadata": {
    "colab": {
      "name": "BERT시도2",
      "provenance": [],
      "authorship_tag": "ABX9TyOeOYF5hE7Zxl1zi2Dovari"
    },
    "kernelspec": {
      "name": "python3",
      "display_name": "Python 3"
    },
    "language_info": {
      "name": "python"
    },
    "accelerator": "GPU",
    "gpuClass": "standard"
  },
  "cells": [
    {
      "cell_type": "markdown",
      "source": [
        "https://towardsdatascience.com/multi-label-text-classification-using-bert-and-tensorflow-d2e88d8f488d"
      ],
      "metadata": {
        "id": "s4Sx4K0U3fWB"
      }
    },
    {
      "cell_type": "code",
      "source": [
        "!pip install tensorflow_text"
      ],
      "metadata": {
        "colab": {
          "base_uri": "https://localhost:8080/"
        },
        "id": "1IgyYYJB9tfr",
        "outputId": "e442c999-7e57-477f-ad05-d82c7d09dddb"
      },
      "execution_count": 1,
      "outputs": [
        {
          "output_type": "stream",
          "name": "stdout",
          "text": [
            "Looking in indexes: https://pypi.org/simple, https://us-python.pkg.dev/colab-wheels/public/simple/\n",
            "Requirement already satisfied: tensorflow_text in /usr/local/lib/python3.7/dist-packages (2.9.0)\n",
            "Requirement already satisfied: tensorflow<2.10,>=2.9.0 in /usr/local/lib/python3.7/dist-packages (from tensorflow_text) (2.9.1)\n",
            "Requirement already satisfied: tensorflow-hub>=0.8.0 in /usr/local/lib/python3.7/dist-packages (from tensorflow_text) (0.12.0)\n",
            "Requirement already satisfied: tensorboard<2.10,>=2.9 in /usr/local/lib/python3.7/dist-packages (from tensorflow<2.10,>=2.9.0->tensorflow_text) (2.9.1)\n",
            "Requirement already satisfied: tensorflow-estimator<2.10.0,>=2.9.0rc0 in /usr/local/lib/python3.7/dist-packages (from tensorflow<2.10,>=2.9.0->tensorflow_text) (2.9.0)\n",
            "Requirement already satisfied: astunparse>=1.6.0 in /usr/local/lib/python3.7/dist-packages (from tensorflow<2.10,>=2.9.0->tensorflow_text) (1.6.3)\n",
            "Requirement already satisfied: wrapt>=1.11.0 in /usr/local/lib/python3.7/dist-packages (from tensorflow<2.10,>=2.9.0->tensorflow_text) (1.14.1)\n",
            "Requirement already satisfied: termcolor>=1.1.0 in /usr/local/lib/python3.7/dist-packages (from tensorflow<2.10,>=2.9.0->tensorflow_text) (1.1.0)\n",
            "Requirement already satisfied: gast<=0.4.0,>=0.2.1 in /usr/local/lib/python3.7/dist-packages (from tensorflow<2.10,>=2.9.0->tensorflow_text) (0.4.0)\n",
            "Requirement already satisfied: absl-py>=1.0.0 in /usr/local/lib/python3.7/dist-packages (from tensorflow<2.10,>=2.9.0->tensorflow_text) (1.1.0)\n",
            "Requirement already satisfied: libclang>=13.0.0 in /usr/local/lib/python3.7/dist-packages (from tensorflow<2.10,>=2.9.0->tensorflow_text) (14.0.1)\n",
            "Requirement already satisfied: typing-extensions>=3.6.6 in /usr/local/lib/python3.7/dist-packages (from tensorflow<2.10,>=2.9.0->tensorflow_text) (4.1.1)\n",
            "Requirement already satisfied: tensorflow-io-gcs-filesystem>=0.23.1 in /usr/local/lib/python3.7/dist-packages (from tensorflow<2.10,>=2.9.0->tensorflow_text) (0.26.0)\n",
            "Requirement already satisfied: packaging in /usr/local/lib/python3.7/dist-packages (from tensorflow<2.10,>=2.9.0->tensorflow_text) (21.3)\n",
            "Requirement already satisfied: keras-preprocessing>=1.1.1 in /usr/local/lib/python3.7/dist-packages (from tensorflow<2.10,>=2.9.0->tensorflow_text) (1.1.2)\n",
            "Requirement already satisfied: numpy>=1.20 in /usr/local/lib/python3.7/dist-packages (from tensorflow<2.10,>=2.9.0->tensorflow_text) (1.21.6)\n",
            "Requirement already satisfied: setuptools in /usr/local/lib/python3.7/dist-packages (from tensorflow<2.10,>=2.9.0->tensorflow_text) (57.4.0)\n",
            "Requirement already satisfied: h5py>=2.9.0 in /usr/local/lib/python3.7/dist-packages (from tensorflow<2.10,>=2.9.0->tensorflow_text) (3.1.0)\n",
            "Requirement already satisfied: protobuf<3.20,>=3.9.2 in /usr/local/lib/python3.7/dist-packages (from tensorflow<2.10,>=2.9.0->tensorflow_text) (3.17.3)\n",
            "Requirement already satisfied: opt-einsum>=2.3.2 in /usr/local/lib/python3.7/dist-packages (from tensorflow<2.10,>=2.9.0->tensorflow_text) (3.3.0)\n",
            "Requirement already satisfied: flatbuffers<2,>=1.12 in /usr/local/lib/python3.7/dist-packages (from tensorflow<2.10,>=2.9.0->tensorflow_text) (1.12)\n",
            "Requirement already satisfied: google-pasta>=0.1.1 in /usr/local/lib/python3.7/dist-packages (from tensorflow<2.10,>=2.9.0->tensorflow_text) (0.2.0)\n",
            "Requirement already satisfied: keras<2.10.0,>=2.9.0rc0 in /usr/local/lib/python3.7/dist-packages (from tensorflow<2.10,>=2.9.0->tensorflow_text) (2.9.0)\n",
            "Requirement already satisfied: six>=1.12.0 in /usr/local/lib/python3.7/dist-packages (from tensorflow<2.10,>=2.9.0->tensorflow_text) (1.15.0)\n",
            "Requirement already satisfied: grpcio<2.0,>=1.24.3 in /usr/local/lib/python3.7/dist-packages (from tensorflow<2.10,>=2.9.0->tensorflow_text) (1.47.0)\n",
            "Requirement already satisfied: wheel<1.0,>=0.23.0 in /usr/local/lib/python3.7/dist-packages (from astunparse>=1.6.0->tensorflow<2.10,>=2.9.0->tensorflow_text) (0.37.1)\n",
            "Requirement already satisfied: cached-property in /usr/local/lib/python3.7/dist-packages (from h5py>=2.9.0->tensorflow<2.10,>=2.9.0->tensorflow_text) (1.5.2)\n",
            "Requirement already satisfied: google-auth<3,>=1.6.3 in /usr/local/lib/python3.7/dist-packages (from tensorboard<2.10,>=2.9->tensorflow<2.10,>=2.9.0->tensorflow_text) (1.35.0)\n",
            "Requirement already satisfied: werkzeug>=1.0.1 in /usr/local/lib/python3.7/dist-packages (from tensorboard<2.10,>=2.9->tensorflow<2.10,>=2.9.0->tensorflow_text) (1.0.1)\n",
            "Requirement already satisfied: google-auth-oauthlib<0.5,>=0.4.1 in /usr/local/lib/python3.7/dist-packages (from tensorboard<2.10,>=2.9->tensorflow<2.10,>=2.9.0->tensorflow_text) (0.4.6)\n",
            "Requirement already satisfied: requests<3,>=2.21.0 in /usr/local/lib/python3.7/dist-packages (from tensorboard<2.10,>=2.9->tensorflow<2.10,>=2.9.0->tensorflow_text) (2.23.0)\n",
            "Requirement already satisfied: tensorboard-data-server<0.7.0,>=0.6.0 in /usr/local/lib/python3.7/dist-packages (from tensorboard<2.10,>=2.9->tensorflow<2.10,>=2.9.0->tensorflow_text) (0.6.1)\n",
            "Requirement already satisfied: markdown>=2.6.8 in /usr/local/lib/python3.7/dist-packages (from tensorboard<2.10,>=2.9->tensorflow<2.10,>=2.9.0->tensorflow_text) (3.3.7)\n",
            "Requirement already satisfied: tensorboard-plugin-wit>=1.6.0 in /usr/local/lib/python3.7/dist-packages (from tensorboard<2.10,>=2.9->tensorflow<2.10,>=2.9.0->tensorflow_text) (1.8.1)\n",
            "Requirement already satisfied: rsa<5,>=3.1.4 in /usr/local/lib/python3.7/dist-packages (from google-auth<3,>=1.6.3->tensorboard<2.10,>=2.9->tensorflow<2.10,>=2.9.0->tensorflow_text) (4.8)\n",
            "Requirement already satisfied: cachetools<5.0,>=2.0.0 in /usr/local/lib/python3.7/dist-packages (from google-auth<3,>=1.6.3->tensorboard<2.10,>=2.9->tensorflow<2.10,>=2.9.0->tensorflow_text) (4.2.4)\n",
            "Requirement already satisfied: pyasn1-modules>=0.2.1 in /usr/local/lib/python3.7/dist-packages (from google-auth<3,>=1.6.3->tensorboard<2.10,>=2.9->tensorflow<2.10,>=2.9.0->tensorflow_text) (0.2.8)\n",
            "Requirement already satisfied: requests-oauthlib>=0.7.0 in /usr/local/lib/python3.7/dist-packages (from google-auth-oauthlib<0.5,>=0.4.1->tensorboard<2.10,>=2.9->tensorflow<2.10,>=2.9.0->tensorflow_text) (1.3.1)\n",
            "Requirement already satisfied: importlib-metadata>=4.4 in /usr/local/lib/python3.7/dist-packages (from markdown>=2.6.8->tensorboard<2.10,>=2.9->tensorflow<2.10,>=2.9.0->tensorflow_text) (4.12.0)\n",
            "Requirement already satisfied: zipp>=0.5 in /usr/local/lib/python3.7/dist-packages (from importlib-metadata>=4.4->markdown>=2.6.8->tensorboard<2.10,>=2.9->tensorflow<2.10,>=2.9.0->tensorflow_text) (3.8.0)\n",
            "Requirement already satisfied: pyasn1<0.5.0,>=0.4.6 in /usr/local/lib/python3.7/dist-packages (from pyasn1-modules>=0.2.1->google-auth<3,>=1.6.3->tensorboard<2.10,>=2.9->tensorflow<2.10,>=2.9.0->tensorflow_text) (0.4.8)\n",
            "Requirement already satisfied: idna<3,>=2.5 in /usr/local/lib/python3.7/dist-packages (from requests<3,>=2.21.0->tensorboard<2.10,>=2.9->tensorflow<2.10,>=2.9.0->tensorflow_text) (2.10)\n",
            "Requirement already satisfied: chardet<4,>=3.0.2 in /usr/local/lib/python3.7/dist-packages (from requests<3,>=2.21.0->tensorboard<2.10,>=2.9->tensorflow<2.10,>=2.9.0->tensorflow_text) (3.0.4)\n",
            "Requirement already satisfied: certifi>=2017.4.17 in /usr/local/lib/python3.7/dist-packages (from requests<3,>=2.21.0->tensorboard<2.10,>=2.9->tensorflow<2.10,>=2.9.0->tensorflow_text) (2022.6.15)\n",
            "Requirement already satisfied: urllib3!=1.25.0,!=1.25.1,<1.26,>=1.21.1 in /usr/local/lib/python3.7/dist-packages (from requests<3,>=2.21.0->tensorboard<2.10,>=2.9->tensorflow<2.10,>=2.9.0->tensorflow_text) (1.24.3)\n",
            "Requirement already satisfied: oauthlib>=3.0.0 in /usr/local/lib/python3.7/dist-packages (from requests-oauthlib>=0.7.0->google-auth-oauthlib<0.5,>=0.4.1->tensorboard<2.10,>=2.9->tensorflow<2.10,>=2.9.0->tensorflow_text) (3.2.0)\n",
            "Requirement already satisfied: pyparsing!=3.0.5,>=2.0.2 in /usr/local/lib/python3.7/dist-packages (from packaging->tensorflow<2.10,>=2.9.0->tensorflow_text) (3.0.9)\n"
          ]
        }
      ]
    },
    {
      "cell_type": "code",
      "source": [
        "!pip install translate"
      ],
      "metadata": {
        "colab": {
          "base_uri": "https://localhost:8080/"
        },
        "id": "Vlauj_Mm8FCz",
        "outputId": "88323e1d-a648-4a03-d095-dc2b661a30f5"
      },
      "execution_count": 2,
      "outputs": [
        {
          "output_type": "stream",
          "name": "stdout",
          "text": [
            "Looking in indexes: https://pypi.org/simple, https://us-python.pkg.dev/colab-wheels/public/simple/\n",
            "Requirement already satisfied: translate in /usr/local/lib/python3.7/dist-packages (3.6.1)\n",
            "Requirement already satisfied: click in /usr/local/lib/python3.7/dist-packages (from translate) (7.1.2)\n",
            "Requirement already satisfied: requests in /usr/local/lib/python3.7/dist-packages (from translate) (2.23.0)\n",
            "Requirement already satisfied: libretranslatepy==2.1.1 in /usr/local/lib/python3.7/dist-packages (from translate) (2.1.1)\n",
            "Requirement already satisfied: lxml in /usr/local/lib/python3.7/dist-packages (from translate) (4.2.6)\n",
            "Requirement already satisfied: urllib3!=1.25.0,!=1.25.1,<1.26,>=1.21.1 in /usr/local/lib/python3.7/dist-packages (from requests->translate) (1.24.3)\n",
            "Requirement already satisfied: idna<3,>=2.5 in /usr/local/lib/python3.7/dist-packages (from requests->translate) (2.10)\n",
            "Requirement already satisfied: chardet<4,>=3.0.2 in /usr/local/lib/python3.7/dist-packages (from requests->translate) (3.0.4)\n",
            "Requirement already satisfied: certifi>=2017.4.17 in /usr/local/lib/python3.7/dist-packages (from requests->translate) (2022.6.15)\n"
          ]
        }
      ]
    },
    {
      "cell_type": "code",
      "source": [
        "\n",
        "\n",
        "!sudo apt-get install -y fonts-nanum\n",
        "!sudo fc-cache -fv\n",
        "!rm ~/.cache/matplotlib -rf"
      ],
      "metadata": {
        "colab": {
          "base_uri": "https://localhost:8080/"
        },
        "id": "Q0_l5swLAZoE",
        "outputId": "848e428a-c3c1-422a-e934-186d063abf31"
      },
      "execution_count": 3,
      "outputs": [
        {
          "output_type": "stream",
          "name": "stdout",
          "text": [
            "Reading package lists... Done\n",
            "Building dependency tree       \n",
            "Reading state information... Done\n",
            "fonts-nanum is already the newest version (20170925-1).\n",
            "The following package was automatically installed and is no longer required:\n",
            "  libnvidia-common-460\n",
            "Use 'sudo apt autoremove' to remove it.\n",
            "0 upgraded, 0 newly installed, 0 to remove and 49 not upgraded.\n",
            "/usr/share/fonts: caching, new cache contents: 0 fonts, 1 dirs\n",
            "/usr/share/fonts/truetype: caching, new cache contents: 0 fonts, 3 dirs\n",
            "/usr/share/fonts/truetype/humor-sans: caching, new cache contents: 1 fonts, 0 dirs\n",
            "/usr/share/fonts/truetype/liberation: caching, new cache contents: 16 fonts, 0 dirs\n",
            "/usr/share/fonts/truetype/nanum: caching, new cache contents: 10 fonts, 0 dirs\n",
            "/usr/local/share/fonts: caching, new cache contents: 0 fonts, 0 dirs\n",
            "/root/.local/share/fonts: skipping, no such directory\n",
            "/root/.fonts: skipping, no such directory\n",
            "/var/cache/fontconfig: cleaning cache directory\n",
            "/root/.cache/fontconfig: not cleaning non-existent cache directory\n",
            "/root/.fontconfig: not cleaning non-existent cache directory\n",
            "fc-cache: succeeded\n"
          ]
        }
      ]
    },
    {
      "cell_type": "code",
      "execution_count": 4,
      "metadata": {
        "id": "EtBD2s1Y3ezD"
      },
      "outputs": [],
      "source": [
        "import pandas as pd\n"
      ]
    },
    {
      "cell_type": "code",
      "source": [
        "df = pd.read_csv('/content/train.csv')\n",
        "df.head()"
      ],
      "metadata": {
        "id": "I354Siqr3fnm",
        "colab": {
          "base_uri": "https://localhost:8080/",
          "height": 206
        },
        "outputId": "8c2591bf-c5bb-4035-c2d4-08a04333728a"
      },
      "execution_count": 5,
      "outputs": [
        {
          "output_type": "execute_result",
          "data": {
            "text/plain": [
              "   id                                            reviews  target\n",
              "0   0                                     조아요 처음구입 싸게햇어요       2\n",
              "1   1  생각보다 잘 안돼요 매지 바른지 하루밖에 안됐는데ㅠㅠ 25천원가량 주고 사기 너무 ...       1\n",
              "2   2  디자인은괜찮은데 상품이 금이가서 교환했는데 두번째받은상품도 까져있고 안쪽에 금이가져...       2\n",
              "3   3  기전에 이 제품말고 이마트 트레이더스에서만 팔던 프리미엄 제품을 사용했었습니다. 샘...       2\n",
              "4   4                                  튼튼하고 손목을 잘 받쳐주네요~       5"
            ],
            "text/html": [
              "\n",
              "  <div id=\"df-66e576a3-78e3-49dc-952e-4e58e5d4475c\">\n",
              "    <div class=\"colab-df-container\">\n",
              "      <div>\n",
              "<style scoped>\n",
              "    .dataframe tbody tr th:only-of-type {\n",
              "        vertical-align: middle;\n",
              "    }\n",
              "\n",
              "    .dataframe tbody tr th {\n",
              "        vertical-align: top;\n",
              "    }\n",
              "\n",
              "    .dataframe thead th {\n",
              "        text-align: right;\n",
              "    }\n",
              "</style>\n",
              "<table border=\"1\" class=\"dataframe\">\n",
              "  <thead>\n",
              "    <tr style=\"text-align: right;\">\n",
              "      <th></th>\n",
              "      <th>id</th>\n",
              "      <th>reviews</th>\n",
              "      <th>target</th>\n",
              "    </tr>\n",
              "  </thead>\n",
              "  <tbody>\n",
              "    <tr>\n",
              "      <th>0</th>\n",
              "      <td>0</td>\n",
              "      <td>조아요 처음구입 싸게햇어요</td>\n",
              "      <td>2</td>\n",
              "    </tr>\n",
              "    <tr>\n",
              "      <th>1</th>\n",
              "      <td>1</td>\n",
              "      <td>생각보다 잘 안돼요 매지 바른지 하루밖에 안됐는데ㅠㅠ 25천원가량 주고 사기 너무 ...</td>\n",
              "      <td>1</td>\n",
              "    </tr>\n",
              "    <tr>\n",
              "      <th>2</th>\n",
              "      <td>2</td>\n",
              "      <td>디자인은괜찮은데 상품이 금이가서 교환했는데 두번째받은상품도 까져있고 안쪽에 금이가져...</td>\n",
              "      <td>2</td>\n",
              "    </tr>\n",
              "    <tr>\n",
              "      <th>3</th>\n",
              "      <td>3</td>\n",
              "      <td>기전에 이 제품말고 이마트 트레이더스에서만 팔던 프리미엄 제품을 사용했었습니다. 샘...</td>\n",
              "      <td>2</td>\n",
              "    </tr>\n",
              "    <tr>\n",
              "      <th>4</th>\n",
              "      <td>4</td>\n",
              "      <td>튼튼하고 손목을 잘 받쳐주네요~</td>\n",
              "      <td>5</td>\n",
              "    </tr>\n",
              "  </tbody>\n",
              "</table>\n",
              "</div>\n",
              "      <button class=\"colab-df-convert\" onclick=\"convertToInteractive('df-66e576a3-78e3-49dc-952e-4e58e5d4475c')\"\n",
              "              title=\"Convert this dataframe to an interactive table.\"\n",
              "              style=\"display:none;\">\n",
              "        \n",
              "  <svg xmlns=\"http://www.w3.org/2000/svg\" height=\"24px\"viewBox=\"0 0 24 24\"\n",
              "       width=\"24px\">\n",
              "    <path d=\"M0 0h24v24H0V0z\" fill=\"none\"/>\n",
              "    <path d=\"M18.56 5.44l.94 2.06.94-2.06 2.06-.94-2.06-.94-.94-2.06-.94 2.06-2.06.94zm-11 1L8.5 8.5l.94-2.06 2.06-.94-2.06-.94L8.5 2.5l-.94 2.06-2.06.94zm10 10l.94 2.06.94-2.06 2.06-.94-2.06-.94-.94-2.06-.94 2.06-2.06.94z\"/><path d=\"M17.41 7.96l-1.37-1.37c-.4-.4-.92-.59-1.43-.59-.52 0-1.04.2-1.43.59L10.3 9.45l-7.72 7.72c-.78.78-.78 2.05 0 2.83L4 21.41c.39.39.9.59 1.41.59.51 0 1.02-.2 1.41-.59l7.78-7.78 2.81-2.81c.8-.78.8-2.07 0-2.86zM5.41 20L4 18.59l7.72-7.72 1.47 1.35L5.41 20z\"/>\n",
              "  </svg>\n",
              "      </button>\n",
              "      \n",
              "  <style>\n",
              "    .colab-df-container {\n",
              "      display:flex;\n",
              "      flex-wrap:wrap;\n",
              "      gap: 12px;\n",
              "    }\n",
              "\n",
              "    .colab-df-convert {\n",
              "      background-color: #E8F0FE;\n",
              "      border: none;\n",
              "      border-radius: 50%;\n",
              "      cursor: pointer;\n",
              "      display: none;\n",
              "      fill: #1967D2;\n",
              "      height: 32px;\n",
              "      padding: 0 0 0 0;\n",
              "      width: 32px;\n",
              "    }\n",
              "\n",
              "    .colab-df-convert:hover {\n",
              "      background-color: #E2EBFA;\n",
              "      box-shadow: 0px 1px 2px rgba(60, 64, 67, 0.3), 0px 1px 3px 1px rgba(60, 64, 67, 0.15);\n",
              "      fill: #174EA6;\n",
              "    }\n",
              "\n",
              "    [theme=dark] .colab-df-convert {\n",
              "      background-color: #3B4455;\n",
              "      fill: #D2E3FC;\n",
              "    }\n",
              "\n",
              "    [theme=dark] .colab-df-convert:hover {\n",
              "      background-color: #434B5C;\n",
              "      box-shadow: 0px 1px 3px 1px rgba(0, 0, 0, 0.15);\n",
              "      filter: drop-shadow(0px 1px 2px rgba(0, 0, 0, 0.3));\n",
              "      fill: #FFFFFF;\n",
              "    }\n",
              "  </style>\n",
              "\n",
              "      <script>\n",
              "        const buttonEl =\n",
              "          document.querySelector('#df-66e576a3-78e3-49dc-952e-4e58e5d4475c button.colab-df-convert');\n",
              "        buttonEl.style.display =\n",
              "          google.colab.kernel.accessAllowed ? 'block' : 'none';\n",
              "\n",
              "        async function convertToInteractive(key) {\n",
              "          const element = document.querySelector('#df-66e576a3-78e3-49dc-952e-4e58e5d4475c');\n",
              "          const dataTable =\n",
              "            await google.colab.kernel.invokeFunction('convertToInteractive',\n",
              "                                                     [key], {});\n",
              "          if (!dataTable) return;\n",
              "\n",
              "          const docLinkHtml = 'Like what you see? Visit the ' +\n",
              "            '<a target=\"_blank\" href=https://colab.research.google.com/notebooks/data_table.ipynb>data table notebook</a>'\n",
              "            + ' to learn more about interactive tables.';\n",
              "          element.innerHTML = '';\n",
              "          dataTable['output_type'] = 'display_data';\n",
              "          await google.colab.output.renderOutput(dataTable, element);\n",
              "          const docLink = document.createElement('div');\n",
              "          docLink.innerHTML = docLinkHtml;\n",
              "          element.appendChild(docLink);\n",
              "        }\n",
              "      </script>\n",
              "    </div>\n",
              "  </div>\n",
              "  "
            ]
          },
          "metadata": {},
          "execution_count": 5
        }
      ]
    },
    {
      "cell_type": "markdown",
      "source": [
        "**target의 값 시각화**"
      ],
      "metadata": {
        "id": "4fzjTpYq9Csv"
      }
    },
    {
      "cell_type": "code",
      "source": [
        "df['target'].hist()"
      ],
      "metadata": {
        "colab": {
          "base_uri": "https://localhost:8080/",
          "height": 283
        },
        "id": "pf_lfuLb7YsK",
        "outputId": "50d1a846-2f6b-4aee-b6cd-c6c19e16adcf"
      },
      "execution_count": 6,
      "outputs": [
        {
          "output_type": "execute_result",
          "data": {
            "text/plain": [
              "<matplotlib.axes._subplots.AxesSubplot at 0x7f903fa42890>"
            ]
          },
          "metadata": {},
          "execution_count": 6
        },
        {
          "output_type": "display_data",
          "data": {
            "text/plain": [
              "<Figure size 432x288 with 1 Axes>"
            ],
            "image/png": "[encoded data removed]"
          },
          "metadata": {
            "needs_background": "light"
          }
        }
      ]
    },
    {
      "cell_type": "code",
      "source": [
        "import numpy as np\n",
        "import matplotlib.pyplot as plt\n",
        "plt.style.use('ggplot')\n",
        "\n",
        "\n",
        "num_classes = len(df[\"target\"].value_counts())\n",
        "\n",
        "colors = plt.cm.Dark2(np.linspace(0, 1, num_classes))\n",
        "iter_color = iter(colors)\n",
        "\n",
        "df['target'].value_counts().plot.barh(title=\"Reviews for each topic (n, %)\", \n",
        "                                                 ylabel=\"Topics\",\n",
        "                                                 color=colors,\n",
        "                                                 figsize=(9,9))\n",
        "\n",
        "for i, v in enumerate(df['target'].value_counts()):\n",
        "  c = next(iter_color)\n",
        "  plt.text(v, i,\n",
        "           \" \"+str(v)+\", \"+str(round(v*100/df.shape[0],2))+\"%\", \n",
        "           color=c, \n",
        "           va='center', \n",
        "           fontweight='bold')"
      ],
      "metadata": {
        "colab": {
          "base_uri": "https://localhost:8080/",
          "height": 554
        },
        "id": "7CHUrfnH72Hy",
        "outputId": "f21d622a-2b85-4585-dff0-640208e4cbc5"
      },
      "execution_count": 7,
      "outputs": [
        {
          "output_type": "display_data",
          "data": {
            "text/plain": [
              "<Figure size 648x648 with 1 Axes>"
            ],
            "image/png": "[encoded data removed]"
          },
          "metadata": {}
        }
      ]
    },
    {
      "cell_type": "markdown",
      "source": [
        "**조건에 맞게 translate**"
      ],
      "metadata": {
        "id": "sv1rlInyDBLM"
      }
    },
    {
      "cell_type": "code",
      "source": [
        "from translate import Translator\n",
        "from termcolor import colored\n",
        "\n",
        "\n",
        "translator= Translator(from_lang=\"kr\", to_lang=\"kr\")\n",
        "\n",
        "def print_rand_example(df, col_name, col_value, chars=180):\n",
        "  '''print a random review and its translation given a label\n",
        "  Args:\n",
        "    - df: input dataframe\n",
        "    - col_name: column to use as filter (e.g. Label)\n",
        "    - col_value: value of col_name to use as filter \n",
        "\n",
        "    - chars (optional, def:180) max number of characters to display\n",
        "  '''\n",
        "  original = df[df[col_name]==col_value].sample()[\"reviews\"].values[0]\n",
        "  translation = translator.translate(original).replace(\"&#39;\",\"'\")\n",
        "  print(colored(\"\\nOriginal\", 'green', attrs=['bold','underline']))\n",
        "  print(original[0:chars] + \"...\")\n",
        "  print(colored(\"\\nTranslation\", 'red', attrs=['bold','underline']))\n",
        "  print(translation[0:chars] + \"...\")"
      ],
      "metadata": {
        "id": "JMYJAhwkDFai"
      },
      "execution_count": 8,
      "outputs": []
    },
    {
      "cell_type": "code",
      "source": [
        "print_rand_example(df, \"target\", 1)"
      ],
      "metadata": {
        "colab": {
          "base_uri": "https://localhost:8080/"
        },
        "id": "0gJnOMtqDMXv",
        "outputId": "60f461e0-7424-46cc-800e-3eb5db9a8053"
      },
      "execution_count": 9,
      "outputs": [
        {
          "output_type": "stream",
          "name": "stdout",
          "text": [
            "\u001b[4m\u001b[1m\u001b[32m\n",
            "Original\u001b[0m\n",
            "끝물이라고는 하지만 1개 서비스로 더 왔고 그거 제외하고 8개가 완전 마르고 알도없어서 버렸어요 엄마집까지 6박스시켯는데.. 다음엔 안시킬것같아요...\n",
            "\u001b[4m\u001b[1m\u001b[31m\n",
            "Translation\u001b[0m\n",
            "끝물이라고는 하지만 1개 서비스로 더 왔고 그거 제외하고 8개가 완전 마르고 알도없어서 버렸어요 엄마집까지 6박스시켯는데.. 다음엔 안시킬것같아요...\n"
          ]
        }
      ]
    },
    {
      "cell_type": "code",
      "source": [
        ""
      ],
      "metadata": {
        "id": "smshrnyyDKys"
      },
      "execution_count": 9,
      "outputs": []
    },
    {
      "cell_type": "markdown",
      "source": [
        "**split in train and test set**"
      ],
      "metadata": {
        "id": "xhvdZVKl-oF-"
      }
    },
    {
      "cell_type": "code",
      "source": [
        "import tensorflow as tf\n",
        "from sklearn.model_selection import train_test_split\n",
        "\n",
        "#y = tf.keras.utils.to_categorical(df[\"target\"].values, num_classes=6)\n",
        "\n",
        "x_train, x_test, y_train, y_test = train_test_split(df['reviews'], df['target'], test_size=0.25)"
      ],
      "metadata": {
        "id": "qZkKpw0p9lt4"
      },
      "execution_count": 11,
      "outputs": []
    },
    {
      "cell_type": "markdown",
      "source": [
        "## Data modeling"
      ],
      "metadata": {
        "id": "nqO2rSpV-ts8"
      }
    },
    {
      "cell_type": "markdown",
      "source": [
        "**Load BERT with TensorFlow Hub**\n",
        "\n"
      ],
      "metadata": {
        "id": "FyHTUQ9t-w8v"
      }
    },
    {
      "cell_type": "code",
      "source": [
        "import tensorflow_hub as hub\n",
        "import tensorflow_text as text\n",
        "\n",
        "preprocessor = hub.KerasLayer(\"https://tfhub.dev/google/universal-sentence-encoder-cmlm/multilingual-preprocess/2\")\n",
        "encoder = hub.KerasLayer(\"https://tfhub.dev/google/universal-sentence-encoder-cmlm/multilingual-base/1\")\n",
        "\n",
        "\n",
        "def get_embeddings(sentences):\n",
        "  '''return BERT-like embeddings of input text\n",
        "  Args:\n",
        "    - sentences: list of strings\n",
        "  Output:\n",
        "    - BERT-like embeddings: tf.Tensor of shape=(len(sentences), 768)\n",
        "  '''\n",
        "  preprocessed_text = preprocessor(sentences)\n",
        "  return encoder(preprocessed_text)['pooled_output']\n",
        "\n",
        "\n",
        "get_embeddings([\n",
        "    \"Questa collezione di Haiku è una porta aperta sulla cultura giapponese.\"]\n",
        ")"
      ],
      "metadata": {
        "colab": {
          "base_uri": "https://localhost:8080/"
        },
        "id": "JPU0oOnL-8P-",
        "outputId": "3daeecbd-9d06-406f-ff2d-d2f958039250"
      },
      "execution_count": 12,
      "outputs": [
        {
          "output_type": "execute_result",
          "data": {
            "text/plain": [
              "<tf.Tensor: shape=(1, 768), dtype=float32, numpy=\n",
              "array([[ 1.08269431e-01, -9.16300118e-02, -3.19652706e-01,\n",
              "        -1.70694496e-02,  3.34133953e-01,  2.00266495e-01,\n",
              "        -2.46935934e-01, -5.43310583e-01, -3.56957525e-01,\n",
              "        -2.97796339e-01, -2.08980575e-01,  1.42025962e-01,\n",
              "         2.72504054e-02, -4.33980882e-01, -5.73599875e-01,\n",
              "        -8.82729352e-01,  2.37144008e-01, -1.87127769e-01,\n",
              "        -2.56523997e-01, -2.46629968e-01,  6.32454157e-01,\n",
              "         1.21353932e-01, -3.95606428e-01,  1.58425495e-01,\n",
              "        -6.60165250e-02, -1.00859702e+00,  3.03425044e-01,\n",
              "         2.40533538e-02, -9.84719545e-02, -6.36505902e-01,\n",
              "         1.15401857e-01, -7.62528837e-01, -5.43886423e-01,\n",
              "        -4.67392147e-01, -6.24042749e-01,  2.63593107e-01,\n",
              "        -4.41221416e-01,  6.62038177e-02, -3.88788283e-01,\n",
              "         1.61619782e-02,  1.15522929e-01, -4.35087234e-01,\n",
              "        -5.12637258e-01,  2.74717331e-01, -3.44000757e-01,\n",
              "        -1.88089788e-01,  1.52753713e-02, -3.23565960e-01,\n",
              "         3.03293645e-01,  3.83590549e-01,  3.73140216e-01,\n",
              "         1.05662215e+00,  2.65405476e-01, -2.77808279e-01,\n",
              "         6.00599498e-02,  9.51384678e-02,  1.53984390e-02,\n",
              "        -3.05229515e-01,  2.57458895e-01, -2.20640808e-01,\n",
              "        -3.19688857e-01, -4.33157176e-01, -1.83581322e-01,\n",
              "        -5.61816096e-01, -3.60706896e-01, -1.27187353e-02,\n",
              "        -2.26824284e-01, -4.15556043e-01, -1.52611420e-01,\n",
              "        -4.75151867e-01, -8.22974861e-01, -7.81015456e-01,\n",
              "         1.13983743e-01, -3.97321433e-01, -1.61369801e-01,\n",
              "        -1.50216995e-02, -3.85155141e-01, -1.41645297e-01,\n",
              "        -5.67433774e-01, -1.96933940e-01,  9.26953629e-02,\n",
              "         3.41263819e+00, -4.40866292e-01, -3.74857634e-01,\n",
              "         3.05708021e-01,  9.27159041e-02, -1.75334215e-01,\n",
              "        -1.90603063e-01,  2.08361566e-01,  1.57443255e-01,\n",
              "        -2.96183020e-01,  5.33570588e-01, -4.92964178e-01,\n",
              "        -6.09962702e-01,  7.23476335e-02, -2.35901043e-01,\n",
              "        -4.35635358e-01,  2.84979373e-01, -1.12737887e-01,\n",
              "        -8.74459445e-02,  1.06023148e-01, -2.77983785e-01,\n",
              "         4.13429588e-02, -8.70153755e-02,  6.58435941e-01,\n",
              "        -2.40862206e-01, -3.30954373e-01, -2.05701157e-01,\n",
              "         7.51761198e-02,  1.29353646e-02, -9.85727757e-02,\n",
              "        -1.16355412e-01,  8.02324712e-02,  2.37922639e-01,\n",
              "        -2.28398398e-01,  4.86106694e-01, -2.93942869e-01,\n",
              "         2.02163890e-01, -2.21727073e-01,  3.97714108e-01,\n",
              "        -1.21958815e-01, -1.49668559e-01,  1.49842128e-01,\n",
              "        -2.35190749e+00, -2.80009091e-01,  4.76798594e-01,\n",
              "         2.38757521e-01, -1.85722440e-01,  1.89203843e-01,\n",
              "        -1.34296492e-01,  5.39201386e-02,  8.31942633e-02,\n",
              "        -3.04814816e-01, -3.19170147e-01, -3.75501513e-01,\n",
              "        -1.86103866e-01, -1.66042581e-01, -3.35772038e-01,\n",
              "         1.98824510e-01,  1.06203839e-01,  2.22116917e-01,\n",
              "         1.69316500e-01, -8.01406875e-02,  5.85859299e-01,\n",
              "        -4.21976537e-01,  1.92272723e-01, -1.17813937e-01,\n",
              "         5.07529229e-02, -6.33534603e-03, -2.58770376e-01,\n",
              "        -1.55982912e-01, -9.29401293e-02, -1.29259601e-01,\n",
              "        -1.86782494e-01, -4.52822298e-01, -3.72046158e-02,\n",
              "        -1.79112762e-01,  7.37307906e-01, -2.70773530e-01,\n",
              "         6.77010342e-02, -4.02352422e-01,  3.56926560e-01,\n",
              "        -1.24754235e-01, -1.35014534e-01, -4.02243227e-01,\n",
              "        -2.08426028e-01, -1.80958748e-01, -1.68645248e-01,\n",
              "        -4.42371875e-01, -2.91358322e-01, -3.87244761e-01,\n",
              "        -2.18316689e-01, -1.20590098e-01,  1.26222134e-01,\n",
              "         2.22632959e-01,  4.13879663e-01, -3.56124908e-01,\n",
              "        -5.81821442e-01, -4.61167395e-01,  3.83983046e-01,\n",
              "        -2.19284803e-01,  4.97522771e-01, -2.60479208e-02,\n",
              "        -3.52640718e-01, -1.38495356e-01, -2.48727813e-01,\n",
              "        -6.27781376e-02,  2.00328872e-01, -7.88270175e-01,\n",
              "         1.19191758e-01,  1.42031893e-01, -6.05769873e-01,\n",
              "         6.37909397e-02, -2.26173744e-01, -6.35088265e-01,\n",
              "         3.88163835e-01, -3.55442524e-01, -8.75470102e-01,\n",
              "         1.42647445e-01, -6.87846318e-02, -5.20076692e-01,\n",
              "         1.39270812e-01,  3.53218704e-01, -4.94885713e-01,\n",
              "        -2.22826198e-01, -3.46113175e-01,  2.55104825e-02,\n",
              "        -3.59313101e-01, -3.39053363e-01, -5.22465892e-02,\n",
              "        -5.30674040e-01, -5.25371619e-02,  5.55584490e-01,\n",
              "        -5.38592279e-01,  6.42331615e-02, -6.47421896e-01,\n",
              "        -4.31252569e-01, -6.47720024e-02, -3.78567606e-01,\n",
              "         3.19086760e-01,  1.58831805e-01, -4.33933549e-02,\n",
              "        -1.97739676e-01,  2.61362374e-01, -6.11117780e-01,\n",
              "        -7.43354201e-01, -8.40409994e-01, -2.52397269e-01,\n",
              "         6.84557781e-02,  5.17156541e-01, -2.68190116e-01,\n",
              "         1.09282985e-01, -1.45635352e-01, -3.55044097e-01,\n",
              "        -1.29664123e-01,  1.52991164e+00,  1.95043832e-01,\n",
              "        -4.62972373e-01, -5.01527429e-01, -1.48183316e-01,\n",
              "         9.83449891e-02, -3.73080879e-01, -1.57468975e-01,\n",
              "        -2.43043482e-01, -1.59453213e-01,  9.99966934e-02,\n",
              "        -3.64761427e-02,  3.51282090e-01,  1.44407615e-01,\n",
              "         2.42307276e-01, -7.36036718e-01, -5.60945511e-01,\n",
              "        -1.87428996e-01,  3.36208194e-01, -4.80296791e-01,\n",
              "        -3.68308634e-01, -5.68377376e-01, -4.56657618e-01,\n",
              "        -7.02094853e-01, -1.54305222e-02,  3.06935161e-01,\n",
              "         2.63165385e-01,  3.38008225e-01,  9.23088863e-02,\n",
              "        -4.15672392e-01, -3.40315849e-01, -1.73356771e+00,\n",
              "         5.65594286e-02, -4.55609143e-01,  1.12783782e-01,\n",
              "        -2.25903273e-01,  2.04137504e-01,  3.44312102e-01,\n",
              "         2.50567030e-02,  9.63597447e-02, -7.12234899e-02,\n",
              "         1.45250320e-01, -4.04904783e-01, -2.34394539e-02,\n",
              "        -2.50297725e-01, -9.20383111e-02,  2.23543242e-01,\n",
              "        -1.35792613e+00, -3.98427963e-01, -6.01878285e-01,\n",
              "        -7.61915967e-02, -2.64523506e-01, -4.41330761e-01,\n",
              "         4.81940992e-02,  3.58299553e-01, -1.33150530e+00,\n",
              "         2.17109155e-02,  1.53144360e-01, -4.04418290e-01,\n",
              "        -5.83853006e-01, -7.22645640e-01,  3.77285555e-02,\n",
              "        -5.03761470e-01,  1.83342934e-01, -5.16896229e-03,\n",
              "         2.33441308e-01, -4.99748111e-01,  6.85963988e-01,\n",
              "        -7.93872103e-02,  3.08638275e-01, -1.59952879e-01,\n",
              "        -5.87115049e-01, -2.52798408e-01, -2.85169184e-01,\n",
              "         1.18621744e-01,  2.65130579e-01,  6.61568940e-02,\n",
              "         3.45351771e-02, -6.27704620e-01, -4.70491976e-01,\n",
              "        -3.76360327e-01, -1.35674387e-01, -3.00187141e-01,\n",
              "        -4.05925721e-01,  4.01477329e-02, -4.80753422e-01,\n",
              "        -6.21601522e-01, -7.45006502e-02, -8.79777789e-01,\n",
              "         1.89425737e-01,  5.04525900e-01, -2.83185393e-01,\n",
              "        -5.44335186e-01, -1.37117103e-01,  2.96508849e-01,\n",
              "        -2.39186823e-01,  1.59068435e-01,  3.14902425e-01,\n",
              "        -4.26553220e-01, -4.28238362e-01,  1.53175741e-01,\n",
              "        -4.79633868e-01, -1.42727554e-01, -2.89245784e-01,\n",
              "         3.99240017e-01, -3.32198799e-01, -2.85578649e-02,\n",
              "        -6.20941043e-01, -1.69071853e-01, -2.96477675e-01,\n",
              "        -1.12306774e+00, -5.29508054e-01,  1.20835865e+00,\n",
              "        -4.32095200e-01, -8.64040405e-02, -3.50385904e-03,\n",
              "        -1.35400236e-01, -3.38872492e-01, -2.52410620e-01,\n",
              "         9.61905420e-02,  4.19668764e-01, -2.71689326e-01,\n",
              "        -1.45881429e-01,  1.23759620e-01,  2.13959083e-01,\n",
              "         1.59111485e-01,  3.57742041e-01, -1.14355540e+00,\n",
              "        -8.31817910e-02,  6.55237317e-01, -2.34257117e-01,\n",
              "         6.68020368e-01, -3.47832561e-01, -6.14469200e-02,\n",
              "         1.16835706e-01, -3.47783953e-01, -1.11869477e-01,\n",
              "        -5.78172684e-01, -1.45530596e-01,  2.53923982e-01,\n",
              "         2.52303720e-01, -3.85980338e-01,  2.52888829e-01,\n",
              "        -1.17506430e-01, -4.99595314e-01,  6.26746193e-02,\n",
              "        -2.16273079e-03, -3.49671334e-01,  2.32552841e-01,\n",
              "        -9.08977017e-02, -6.51562884e-02, -2.55360961e-01,\n",
              "         6.48920611e-02, -3.53196472e-01, -6.00122690e-01,\n",
              "        -7.58729517e-01,  1.76420853e-01, -7.12870881e-02,\n",
              "        -2.55982399e-01, -2.59139746e-01, -7.13046268e-02,\n",
              "        -5.95096499e-02, -3.06402147e-01, -2.96071351e-01,\n",
              "        -1.00795396e-01,  1.87205374e-01, -1.47629594e-02,\n",
              "        -6.01508379e-01, -3.39255273e-01,  3.23090583e-01,\n",
              "         7.57318914e-01, -2.00506017e-01, -5.29878438e-01,\n",
              "         6.48644418e-02,  4.61985320e-02, -4.58673418e-01,\n",
              "        -2.86636710e-01,  2.50961959e-01, -6.18168831e-01,\n",
              "         4.05809969e-01, -6.87809959e-02,  4.24551189e-01,\n",
              "        -6.21736646e-02, -3.39808613e-01, -9.69121933e-01,\n",
              "        -9.13542137e-02,  1.42469347e-01, -3.27545941e-01,\n",
              "        -4.83615100e-01, -7.27520883e-01, -5.70859909e-01,\n",
              "         1.00367576e-01, -8.45976532e-01, -2.43919387e-01,\n",
              "         5.78142628e-02, -3.02723795e-01,  1.06639145e-02,\n",
              "         8.99902955e-02, -2.33167723e-01, -3.11468005e+00,\n",
              "         3.29167485e-01, -1.39614314e-01,  1.02733038e-01,\n",
              "        -9.09854397e-02,  8.20485502e-02,  3.56283933e-01,\n",
              "         1.19334090e+00,  8.39916244e-02,  5.25508728e-03,\n",
              "         9.40005332e-02, -4.75272298e-01, -3.02919708e-02,\n",
              "         4.20691073e-01, -2.70278845e-02, -1.62039712e-01,\n",
              "         3.78885791e-02, -2.65558749e-01, -1.00597270e-01,\n",
              "         1.69086258e-03, -4.98750955e-01, -7.69661129e-01,\n",
              "         7.53792524e-02, -2.00717285e-01,  3.21471006e-01,\n",
              "         6.44895621e-03, -2.47086689e-01, -2.70209432e-01,\n",
              "        -7.71889865e-01, -4.39380825e-01, -3.15874368e-01,\n",
              "        -2.83888012e-01, -1.42223701e-01, -2.45841101e-01,\n",
              "         1.71645079e-02, -3.88525218e-01, -1.42030030e-01,\n",
              "        -2.24418730e-01,  4.37545896e-01, -1.23890918e-02,\n",
              "         3.48796725e-01, -4.78701256e-02, -3.33002597e-01,\n",
              "        -5.60467601e-01,  1.76142782e-01,  2.88321227e-01,\n",
              "        -6.50513113e-01, -1.89969152e-01,  3.77419442e-02,\n",
              "        -4.02461886e-01,  2.74133980e-01, -3.48836601e-01,\n",
              "        -6.56167030e-01, -5.83127379e-01, -9.67207924e-03,\n",
              "         2.55938560e-01, -3.37734193e-01,  4.18113470e-02,\n",
              "        -4.22189176e-01, -1.48968697e-01,  6.61202660e-03,\n",
              "        -1.50332659e-01, -1.95644468e-01, -4.71435219e-01,\n",
              "         3.83720666e-01,  1.89864904e-01,  7.33698845e-01,\n",
              "        -1.09784670e-01, -4.95695263e-01,  5.03363200e-02,\n",
              "        -3.68161462e-02, -3.58069688e-01, -1.54385129e-02,\n",
              "        -2.72295084e-02,  8.80401254e-01, -1.29185542e-01,\n",
              "         3.61403346e-01, -2.78489709e-01,  1.58043891e-01,\n",
              "        -3.34318668e-01,  2.64281690e-01, -1.67409271e-01,\n",
              "         4.37186565e-03,  3.04006547e-01,  8.28974470e-02,\n",
              "        -4.43532079e-01, -7.67219901e-01,  1.27058506e-01,\n",
              "        -1.27811328e-01, -5.65582931e-01, -2.30786771e-01,\n",
              "        -6.54356897e-01,  6.04460418e-01, -1.91539899e-01,\n",
              "        -1.27589434e-01,  9.39528704e-01, -5.85638762e-01,\n",
              "         1.69813529e-01, -2.98428893e-01,  3.85908902e-01,\n",
              "        -1.69387311e-01, -3.00402462e-01,  1.76812440e-01,\n",
              "        -6.39458418e-01,  6.05483465e-02,  3.62400919e-01,\n",
              "        -6.38771176e-01, -1.89916289e-04,  1.84139654e-01,\n",
              "        -3.36119533e-01, -1.06192999e-01, -1.04941405e-01,\n",
              "        -3.88572335e-01, -1.81991547e-01,  2.77761906e-01,\n",
              "        -8.13033730e-02, -5.41395724e-01,  4.51610118e-01,\n",
              "        -2.73833841e-01, -2.82286257e-01,  5.22313476e-01,\n",
              "        -1.11360915e-01, -7.59105146e-01, -2.18092963e-01,\n",
              "         5.26549637e-01, -3.63155082e-02,  2.44015232e-01,\n",
              "        -1.01801112e-01,  4.35273722e-02, -3.86084653e-02,\n",
              "        -1.61701888e-01, -6.13518894e-01, -4.59828943e-01,\n",
              "         1.51406288e-01, -1.71734199e-01,  2.16186959e-02,\n",
              "        -3.03414047e-01, -5.67613006e-01, -3.47678061e-03,\n",
              "        -2.95787692e-01, -4.13329720e-01, -1.43417925e-01,\n",
              "        -3.43641758e-01, -3.13954838e-02, -7.09285378e-01,\n",
              "        -4.48446155e-01, -1.17010355e-01,  7.53778294e-02,\n",
              "         7.95768723e-02, -6.49366081e-02,  2.47722208e-01,\n",
              "        -9.75490510e-02, -1.74207687e-01, -2.81795830e-01,\n",
              "        -1.74393237e-01, -2.36101434e-01, -3.46551120e-01,\n",
              "         2.31090859e-01, -2.10902154e-01, -4.01737869e-01,\n",
              "         3.49364765e-02,  3.29537719e-01,  1.82514384e-01,\n",
              "        -9.21233535e-01, -1.78981274e-01,  9.38107744e-02,\n",
              "        -6.31081387e-02, -3.83346111e-01,  3.16464156e-01,\n",
              "         4.24019217e-01, -1.99327394e-01, -4.19511832e-02,\n",
              "         1.26036368e-02,  3.82633477e-01,  7.88050666e-02,\n",
              "        -2.43515253e-01,  1.11866919e-02,  7.11550117e-01,\n",
              "        -1.06267482e-01, -3.13524425e-01, -3.89120653e-02,\n",
              "        -5.21774054e-01, -7.98662156e-02,  7.38600641e-02,\n",
              "        -4.83709089e-02,  3.27068508e-01,  2.73987889e-01,\n",
              "        -1.64233148e-01,  1.95478788e-03, -1.73914358e-01,\n",
              "         1.41128842e-02, -5.05727604e-02, -2.91822523e-01,\n",
              "        -6.98175669e-01,  5.74838147e-02, -7.65891671e-01,\n",
              "         2.86359906e-01, -2.18708798e-01, -6.94728782e-03,\n",
              "        -5.80258667e-01,  5.33905737e-02, -9.47830901e-02,\n",
              "        -8.24900642e-02,  4.77858514e-01, -4.94445145e-01,\n",
              "        -5.06340921e-01, -8.48833799e-01, -1.35629845e+00,\n",
              "        -3.92206699e-01,  2.66225040e-01,  4.72581774e-01,\n",
              "         4.74542603e-02, -8.40488151e-02, -6.11176789e-01,\n",
              "        -2.77258009e-01, -4.33367163e-01,  8.09900314e-02,\n",
              "        -2.94400036e-01,  8.31183940e-02,  1.21778458e-01,\n",
              "        -4.86485630e-01,  2.07453176e-01, -3.73955160e-01,\n",
              "        -3.13676864e-01, -3.68659139e-01,  1.30866155e-01,\n",
              "        -1.02567729e-02,  2.28802413e-01,  1.24097139e-01,\n",
              "        -1.70712709e-01, -4.31590259e-01,  5.89257181e-01,\n",
              "        -1.13135673e-01, -3.66987765e-01,  2.04518795e+00,\n",
              "         3.01997006e-01, -3.01489085e-01, -3.45577747e-01,\n",
              "        -4.48928535e-01, -9.99412499e-03, -1.28506511e-01,\n",
              "        -1.52878836e-01,  2.88957506e-01, -9.74645391e-02,\n",
              "        -2.06356376e-01, -1.80277497e-01,  1.40995398e-01,\n",
              "         1.74816459e-01,  8.93046632e-02, -1.18417472e-01,\n",
              "        -1.87857166e-01, -1.78235509e-02, -7.73711562e-01,\n",
              "        -2.25853711e-01,  1.09384432e-01, -2.71459054e-02,\n",
              "        -4.08823341e-01,  4.82964851e-02, -5.72387159e-01,\n",
              "        -2.01550484e-01, -7.58018076e-01, -8.02607164e-02,\n",
              "         1.43199131e-01, -2.54355758e-01, -7.71074295e-02,\n",
              "        -7.10117444e-02, -8.19679573e-02, -3.81209970e-01,\n",
              "        -7.45249465e-02,  2.51101851e-01, -1.20165311e-01,\n",
              "         1.25487410e-02, -6.74843192e-01,  6.15665436e-01,\n",
              "        -2.00629719e-02, -5.02994478e-01,  2.55705148e-01,\n",
              "        -7.34697469e-03, -6.62068248e-01,  2.28921726e-01,\n",
              "        -7.45225072e-01, -1.20328970e-01, -3.93407851e-01,\n",
              "         1.37418211e-01,  2.78632939e-01, -1.75016582e-01,\n",
              "         1.22510754e-02, -2.72784922e-02, -6.05924070e-01,\n",
              "        -9.28303972e-02,  1.95985317e-01, -2.35152524e-02,\n",
              "        -4.10495341e-01,  9.41901878e-02, -2.48037338e-01,\n",
              "        -2.63280898e-01, -3.56169164e-01, -6.83448017e-02,\n",
              "        -6.24910891e-01, -3.70503604e-01,  4.48974371e-02,\n",
              "        -8.14882293e-02, -6.33918643e-01,  9.85701531e-02,\n",
              "         2.71174550e-01, -3.89518887e-02, -1.05086006e-01,\n",
              "        -4.01222378e-01, -3.58504653e-01, -6.68667734e-01,\n",
              "        -4.02836621e-01, -7.14626312e-01, -5.28744936e-01,\n",
              "        -6.12608671e-01,  1.63218439e-01,  2.29248032e-01,\n",
              "         8.38348567e-02, -4.62603581e-04, -1.57136500e-01,\n",
              "         8.11281502e-02, -1.69786900e-01, -4.18063343e-01,\n",
              "         9.97973680e-01,  6.68052733e-01, -3.24505895e-01,\n",
              "        -7.89333507e-03, -7.25977421e-02, -2.89816082e-01,\n",
              "         3.91992390e-01, -3.11667293e-01,  2.58146226e-01,\n",
              "         9.12456512e-02, -3.82214069e-01, -1.45119086e-01]], dtype=float32)>"
            ]
          },
          "metadata": {},
          "execution_count": 12
        }
      ]
    },
    {
      "cell_type": "markdown",
      "source": [
        "**observe semantic textual similarities**"
      ],
      "metadata": {
        "id": "Ubyk4NNz_4rW"
      }
    },
    {
      "cell_type": "code",
      "source": [
        "import seaborn as sns\n",
        "from sklearn.metrics.pairwise import cosine_similarity\n",
        "\n",
        "\n",
        "def plot_similarity(features, labels):\n",
        "  \"\"\"Plot a similarity matrix of the embeddings.\"\"\"\n",
        "  cos_sim = cosine_similarity(features)\n",
        "  fig = plt.figure(figsize=(10,8))\n",
        "  sns.set(font_scale=1.2)\n",
        "  cbar_kws=dict(use_gridspec=False, location=\"left\")\n",
        "  g = sns.heatmap(\n",
        "      cos_sim, xticklabels=labels, yticklabels=labels,\n",
        "      vmin=0, vmax=1, annot=True, cmap=\"Blues\", \n",
        "      cbar_kws=cbar_kws)\n",
        "  g.tick_params(labelright=True, labelleft=False)\n",
        "  g.set_yticklabels(labels, rotation=0)\n",
        "  g.set_title(\"Semantic Textual Similarity\")"
      ],
      "metadata": {
        "id": "XHxzVY7q_nW-"
      },
      "execution_count": 13,
      "outputs": []
    },
    {
      "cell_type": "markdown",
      "source": [
        "**Create and train the classification model**"
      ],
      "metadata": {
        "id": "M2KGuI_2A0uo"
      }
    },
    {
      "cell_type": "code",
      "source": [
        "from keras import backend as K\n",
        "\n",
        "def balanced_recall(y_true, y_pred):\n",
        "    \"\"\"This function calculates the balanced recall metric\n",
        "    recall = TP / (TP + FN)\n",
        "    \"\"\"\n",
        "    recall_by_class = 0\n",
        "    # iterate over each predicted class to get class-specific metric\n",
        "    for i in range(y_pred.shape[1]):\n",
        "        y_pred_class = y_pred[:, i]\n",
        "        y_true_class = y_true[:, i]\n",
        "        true_positives = K.sum(K.round(K.clip(y_true_class * y_pred_class, 0, 1)))\n",
        "        possible_positives = K.sum(K.round(K.clip(y_true_class, 0, 1)))\n",
        "        recall = true_positives / (possible_positives + K.epsilon())\n",
        "        recall_by_class = recall_by_class + recall\n",
        "    return recall_by_class / y_pred.shape[1]"
      ],
      "metadata": {
        "id": "j9e1EMvoAERW"
      },
      "execution_count": 14,
      "outputs": []
    },
    {
      "cell_type": "code",
      "source": [
        "def balanced_precision(y_true, y_pred):\n",
        "    \"\"\"This function calculates the balanced precision metric\n",
        "    precision = TP / (TP + FP)\n",
        "    \"\"\"\n",
        "    precision_by_class = 0\n",
        "    # iterate over each predicted class to get class-specific metric\n",
        "    for i in range(y_pred.shape[1]):\n",
        "        y_pred_class = y_pred[:, i]\n",
        "        y_true_class = y_true[:, i]\n",
        "        true_positives = K.sum(K.round(K.clip(y_true_class * y_pred_class, 0, 1)))\n",
        "        predicted_positives = K.sum(K.round(K.clip(y_pred_class, 0, 1)))\n",
        "        precision = true_positives / (predicted_positives + K.epsilon())\n",
        "        precision_by_class = precision_by_class + precision\n",
        "    # return average balanced metric for each class\n",
        "    return precision_by_class / y_pred.shape[1]\n",
        "\n",
        "def balanced_f1_score(y_true, y_pred):\n",
        "    \"\"\"This function calculates the F1 score metric\"\"\"\n",
        "    precision = balanced_precision(y_true, y_pred)\n",
        "    recall = balanced_recall(y_true, y_pred)\n",
        "    return 2 * ((precision * recall) / (precision + recall + K.epsilon()))"
      ],
      "metadata": {
        "id": "E9G2xOhYA83N"
      },
      "execution_count": 15,
      "outputs": []
    },
    {
      "cell_type": "markdown",
      "source": [
        "*model*"
      ],
      "metadata": {
        "id": "P94SuPPzBGs8"
      }
    },
    {
      "cell_type": "code",
      "source": [
        "i = tf.keras.layers.Input(shape=(), dtype=tf.string, name='reviews')\n",
        "x = preprocessor(i)\n",
        "x = encoder(x)\n",
        "x = tf.keras.layers.Dropout(0.2, name=\"dropout\")(x['pooled_output'])\n",
        "x = tf.keras.layers.Dense(1, activation='softmax', name=\"output\")(x)\n",
        "\n",
        "model = tf.keras.Model(i, x)"
      ],
      "metadata": {
        "id": "dTk13MvDAwI0"
      },
      "execution_count": 16,
      "outputs": []
    },
    {
      "cell_type": "code",
      "source": [
        "n_epochs = 20\n",
        "\n",
        "METRICS = [\n",
        "      tf.keras.metrics.CategoricalAccuracy(name=\"accuracy\"),\n",
        "      balanced_recall,\n",
        "      balanced_precision,\n",
        "      balanced_f1_score\n",
        "]\n",
        "\n",
        "earlystop_callback = tf.keras.callbacks.EarlyStopping(monitor = \"val_loss\", \n",
        "                                                      patience = 3,\n",
        "                                                      restore_best_weights = True)\n",
        "\n",
        "model.compile(optimizer = \"adam\",\n",
        "              loss = \"categorical_crossentropy\",\n",
        "              metrics = METRICS)\n",
        "\n",
        "model_fit = model.fit(x_train, \n",
        "                      y_train, \n",
        "                      epochs = n_epochs,\n",
        "                      validation_data = (x_test, y_test),\n",
        "                      callbacks = [earlystop_callback])"
      ],
      "metadata": {
        "colab": {
          "base_uri": "https://localhost:8080/"
        },
        "id": "dtjYw1ZuBM5X",
        "outputId": "6b796dd8-8f7f-44b9-e15e-c9996c4bfd28"
      },
      "execution_count": 22,
      "outputs": [
        {
          "output_type": "stream",
          "name": "stdout",
          "text": [
            "Epoch 1/20\n",
            "586/586 [==============================] - 308s 496ms/step - loss: 0.0000e+00 - accuracy: 1.0000 - balanced_recall: 1.0000 - balanced_precision: 1.0000 - balanced_f1_score: 1.0000 - val_loss: 0.0000e+00 - val_accuracy: 1.0000 - val_balanced_recall: 1.0000 - val_balanced_precision: 1.0000 - val_balanced_f1_score: 1.0000\n",
            "Epoch 2/20\n",
            "586/586 [==============================] - 268s 458ms/step - loss: 0.0000e+00 - accuracy: 1.0000 - balanced_recall: 1.0000 - balanced_precision: 1.0000 - balanced_f1_score: 1.0000 - val_loss: 0.0000e+00 - val_accuracy: 1.0000 - val_balanced_recall: 1.0000 - val_balanced_precision: 1.0000 - val_balanced_f1_score: 1.0000\n",
            "Epoch 3/20\n",
            "586/586 [==============================] - 269s 459ms/step - loss: 0.0000e+00 - accuracy: 1.0000 - balanced_recall: 1.0000 - balanced_precision: 1.0000 - balanced_f1_score: 1.0000 - val_loss: 0.0000e+00 - val_accuracy: 1.0000 - val_balanced_recall: 1.0000 - val_balanced_precision: 1.0000 - val_balanced_f1_score: 1.0000\n",
            "Epoch 4/20\n",
            "586/586 [==============================] - 269s 459ms/step - loss: 0.0000e+00 - accuracy: 1.0000 - balanced_recall: 1.0000 - balanced_precision: 1.0000 - balanced_f1_score: 1.0000 - val_loss: 0.0000e+00 - val_accuracy: 1.0000 - val_balanced_recall: 1.0000 - val_balanced_precision: 1.0000 - val_balanced_f1_score: 1.0000\n"
          ]
        }
      ]
    },
    {
      "cell_type": "markdown",
      "source": [
        "**결과  plot**"
      ],
      "metadata": {
        "id": "j9JC7M6hEvqN"
      }
    },
    {
      "cell_type": "code",
      "source": [
        "\n",
        "x = list(range(1, n_epochs+1))\n",
        "metric_list = list(model_fit.history.keys())\n",
        "num_metrics = int(len(metric_list)/2)\n",
        "\n",
        "fig, ax = plt.subplots(nrows=1, ncols=num_metrics, figsize=(30, 5))\n",
        "\n",
        "for i in range(0, num_metrics):\n",
        "  ax[i].plot(x, model_fit.history[metric_list[i]], marker=\"o\", label=metric_list[i].replace(\"_\", \" \"))\n",
        "  ax[i].plot(x, model_fit.history[metric_list[i+num_metrics]], marker=\"o\", label=metric_list[i+num_metrics].replace(\"_\", \" \"))\n",
        "  ax[i].set_xlabel(\"epochs\",fontsize=14)\n",
        "  ax[i].set_title(metric_list[i].replace(\"_\", \" \"),fontsize=20)\n",
        "  ax[i].legend(loc=\"lower left\")"
      ],
      "metadata": {
        "id": "sESZwSkUBRMq"
      },
      "execution_count": null,
      "outputs": []
    },
    {
      "cell_type": "markdown",
      "source": [
        "**Predict**"
      ],
      "metadata": {
        "id": "_PqVvOvHJ7fY"
      }
    },
    {
      "cell_type": "code",
      "source": [
        "# test prediction on some newly generated reviews\n",
        "reviews = [\"이 제품은 가성비가 좋다\"\n",
        "]\n",
        "\n",
        "# observe translated samples\n",
        "print([translator.translate(review).replace(\"&#39;\",\"'\") for review in reviews])"
      ],
      "metadata": {
        "colab": {
          "base_uri": "https://localhost:8080/"
        },
        "id": "6cltUORXJKfC",
        "outputId": "b641656e-072e-4a32-c487-7bcc5e0c01a3"
      },
      "execution_count": 25,
      "outputs": [
        {
          "output_type": "stream",
          "name": "stdout",
          "text": [
            "['이 제품은 가성비가 좋다']\n"
          ]
        }
      ]
    },
    {
      "cell_type": "code",
      "source": [
        "def predict_class(reviews):\n",
        "  '''predict class of input text\n",
        "  Args:\n",
        "    - reviews (list of strings)\n",
        "  Output:\n",
        "    - class (list of int)\n",
        "  '''\n",
        "  return [np.argmax(pred) for pred in model.predict(reviews)]\n",
        "\n",
        "\n",
        "predict_class(reviews)"
      ],
      "metadata": {
        "colab": {
          "base_uri": "https://localhost:8080/"
        },
        "id": "_AT0AYCGJrUZ",
        "outputId": "6b192950-3bce-4057-d5b1-2570b8bf11d7"
      },
      "execution_count": 26,
      "outputs": [
        {
          "output_type": "stream",
          "name": "stdout",
          "text": [
            "1/1 [==============================] - 1s 1s/step\n"
          ]
        },
        {
          "output_type": "execute_result",
          "data": {
            "text/plain": [
              "[0]"
            ]
          },
          "metadata": {},
          "execution_count": 26
        }
      ]
    },
    {
      "cell_type": "markdown",
      "source": [
        "**test**"
      ],
      "metadata": {
        "id": "yG6JZ7gTJ509"
      }
    },
    {
      "cell_type": "code",
      "source": [
        "# load blind set\n",
        "test_set = pd.read_csv('/content/test.csv')\n",
        "test_set.head()"
      ],
      "metadata": {
        "colab": {
          "base_uri": "https://localhost:8080/",
          "height": 206
        },
        "id": "aE0UhuQ-J10i",
        "outputId": "e07d8166-7e54-449a-d428-0748ef566c28"
      },
      "execution_count": 29,
      "outputs": [
        {
          "output_type": "execute_result",
          "data": {
            "text/plain": [
              "   id                                            reviews\n",
              "0   0                                     채소가 약간 시들어 있어요\n",
              "1   1  발톱 두껍고 단단한 분들 써도 소용없어요 이 테이프 물렁거리고 힘이없어서 들어 올리...\n",
              "2   2                           부들부들 좋네요 입어보고 시원하면 또 살게요\n",
              "3   3      이런 1. 8 골드 주라니깐 파란개 오네 회사전화걸어도 받지도 않고 머하자는거임?\n",
              "4   4       검수도 없이 보내구 불량 배송비 5000원 청구하네요 완전별로 별하나도 아까워요"
            ],
            "text/html": [
              "\n",
              "  <div id=\"df-21f3586e-749f-4432-86bc-0f6e9835df9b\">\n",
              "    <div class=\"colab-df-container\">\n",
              "      <div>\n",
              "<style scoped>\n",
              "    .dataframe tbody tr th:only-of-type {\n",
              "        vertical-align: middle;\n",
              "    }\n",
              "\n",
              "    .dataframe tbody tr th {\n",
              "        vertical-align: top;\n",
              "    }\n",
              "\n",
              "    .dataframe thead th {\n",
              "        text-align: right;\n",
              "    }\n",
              "</style>\n",
              "<table border=\"1\" class=\"dataframe\">\n",
              "  <thead>\n",
              "    <tr style=\"text-align: right;\">\n",
              "      <th></th>\n",
              "      <th>id</th>\n",
              "      <th>reviews</th>\n",
              "    </tr>\n",
              "  </thead>\n",
              "  <tbody>\n",
              "    <tr>\n",
              "      <th>0</th>\n",
              "      <td>0</td>\n",
              "      <td>채소가 약간 시들어 있어요</td>\n",
              "    </tr>\n",
              "    <tr>\n",
              "      <th>1</th>\n",
              "      <td>1</td>\n",
              "      <td>발톱 두껍고 단단한 분들 써도 소용없어요 이 테이프 물렁거리고 힘이없어서 들어 올리...</td>\n",
              "    </tr>\n",
              "    <tr>\n",
              "      <th>2</th>\n",
              "      <td>2</td>\n",
              "      <td>부들부들 좋네요 입어보고 시원하면 또 살게요</td>\n",
              "    </tr>\n",
              "    <tr>\n",
              "      <th>3</th>\n",
              "      <td>3</td>\n",
              "      <td>이런 1. 8 골드 주라니깐 파란개 오네 회사전화걸어도 받지도 않고 머하자는거임?</td>\n",
              "    </tr>\n",
              "    <tr>\n",
              "      <th>4</th>\n",
              "      <td>4</td>\n",
              "      <td>검수도 없이 보내구 불량 배송비 5000원 청구하네요 완전별로 별하나도 아까워요</td>\n",
              "    </tr>\n",
              "  </tbody>\n",
              "</table>\n",
              "</div>\n",
              "      <button class=\"colab-df-convert\" onclick=\"convertToInteractive('df-21f3586e-749f-4432-86bc-0f6e9835df9b')\"\n",
              "              title=\"Convert this dataframe to an interactive table.\"\n",
              "              style=\"display:none;\">\n",
              "        \n",
              "  <svg xmlns=\"http://www.w3.org/2000/svg\" height=\"24px\"viewBox=\"0 0 24 24\"\n",
              "       width=\"24px\">\n",
              "    <path d=\"M0 0h24v24H0V0z\" fill=\"none\"/>\n",
              "    <path d=\"M18.56 5.44l.94 2.06.94-2.06 2.06-.94-2.06-.94-.94-2.06-.94 2.06-2.06.94zm-11 1L8.5 8.5l.94-2.06 2.06-.94-2.06-.94L8.5 2.5l-.94 2.06-2.06.94zm10 10l.94 2.06.94-2.06 2.06-.94-2.06-.94-.94-2.06-.94 2.06-2.06.94z\"/><path d=\"M17.41 7.96l-1.37-1.37c-.4-.4-.92-.59-1.43-.59-.52 0-1.04.2-1.43.59L10.3 9.45l-7.72 7.72c-.78.78-.78 2.05 0 2.83L4 21.41c.39.39.9.59 1.41.59.51 0 1.02-.2 1.41-.59l7.78-7.78 2.81-2.81c.8-.78.8-2.07 0-2.86zM5.41 20L4 18.59l7.72-7.72 1.47 1.35L5.41 20z\"/>\n",
              "  </svg>\n",
              "      </button>\n",
              "      \n",
              "  <style>\n",
              "    .colab-df-container {\n",
              "      display:flex;\n",
              "      flex-wrap:wrap;\n",
              "      gap: 12px;\n",
              "    }\n",
              "\n",
              "    .colab-df-convert {\n",
              "      background-color: #E8F0FE;\n",
              "      border: none;\n",
              "      border-radius: 50%;\n",
              "      cursor: pointer;\n",
              "      display: none;\n",
              "      fill: #1967D2;\n",
              "      height: 32px;\n",
              "      padding: 0 0 0 0;\n",
              "      width: 32px;\n",
              "    }\n",
              "\n",
              "    .colab-df-convert:hover {\n",
              "      background-color: #E2EBFA;\n",
              "      box-shadow: 0px 1px 2px rgba(60, 64, 67, 0.3), 0px 1px 3px 1px rgba(60, 64, 67, 0.15);\n",
              "      fill: #174EA6;\n",
              "    }\n",
              "\n",
              "    [theme=dark] .colab-df-convert {\n",
              "      background-color: #3B4455;\n",
              "      fill: #D2E3FC;\n",
              "    }\n",
              "\n",
              "    [theme=dark] .colab-df-convert:hover {\n",
              "      background-color: #434B5C;\n",
              "      box-shadow: 0px 1px 3px 1px rgba(0, 0, 0, 0.15);\n",
              "      filter: drop-shadow(0px 1px 2px rgba(0, 0, 0, 0.3));\n",
              "      fill: #FFFFFF;\n",
              "    }\n",
              "  </style>\n",
              "\n",
              "      <script>\n",
              "        const buttonEl =\n",
              "          document.querySelector('#df-21f3586e-749f-4432-86bc-0f6e9835df9b button.colab-df-convert');\n",
              "        buttonEl.style.display =\n",
              "          google.colab.kernel.accessAllowed ? 'block' : 'none';\n",
              "\n",
              "        async function convertToInteractive(key) {\n",
              "          const element = document.querySelector('#df-21f3586e-749f-4432-86bc-0f6e9835df9b');\n",
              "          const dataTable =\n",
              "            await google.colab.kernel.invokeFunction('convertToInteractive',\n",
              "                                                     [key], {});\n",
              "          if (!dataTable) return;\n",
              "\n",
              "          const docLinkHtml = 'Like what you see? Visit the ' +\n",
              "            '<a target=\"_blank\" href=https://colab.research.google.com/notebooks/data_table.ipynb>data table notebook</a>'\n",
              "            + ' to learn more about interactive tables.';\n",
              "          element.innerHTML = '';\n",
              "          dataTable['output_type'] = 'display_data';\n",
              "          await google.colab.output.renderOutput(dataTable, element);\n",
              "          const docLink = document.createElement('div');\n",
              "          docLink.innerHTML = docLinkHtml;\n",
              "          element.appendChild(docLink);\n",
              "        }\n",
              "      </script>\n",
              "    </div>\n",
              "  </div>\n",
              "  "
            ]
          },
          "metadata": {},
          "execution_count": 29
        }
      ]
    },
    {
      "cell_type": "code",
      "source": [
        "from sklearn.metrics import classification_report\n",
        "\n",
        "\n",
        "y_pred = predict_class(test_set[\"reviews\"])\n",
        "#print(classification_report(test_set[\"Labels\"], y_pred))"
      ],
      "metadata": {
        "colab": {
          "base_uri": "https://localhost:8080/"
        },
        "id": "vEjfl_Z_KIZj",
        "outputId": "b252febf-4c69-4054-858d-9098e80ebc7d"
      },
      "execution_count": 30,
      "outputs": [
        {
          "output_type": "stream",
          "name": "stdout",
          "text": [
            "782/782 [==============================] - 269s 342ms/step\n"
          ]
        }
      ]
    },
    {
      "cell_type": "code",
      "source": [
        "from tensorflow import keras\n",
        "[np.argmax(pred) for pred in y_pred]\n"
      ],
      "metadata": {
        "id": "JNay6NWQMgsK"
      },
      "execution_count": null,
      "outputs": []
    },
    {
      "cell_type": "code",
      "source": [
        "submission = pd.read_csv(\"./sample_submission.csv\") \n",
        "\n",
        "submission.head() "
      ],
      "metadata": {
        "colab": {
          "base_uri": "https://localhost:8080/",
          "height": 206
        },
        "id": "4Pvevt3FMmIe",
        "outputId": "7198adcf-2fd0-4ad0-acea-fad28b3b30fa"
      },
      "execution_count": 38,
      "outputs": [
        {
          "output_type": "execute_result",
          "data": {
            "text/plain": [
              "   id  target\n",
              "0   0       0\n",
              "1   1       0\n",
              "2   2       0\n",
              "3   3       0\n",
              "4   4       0"
            ],
            "text/html": [
              "\n",
              "  <div id=\"df-797fc02b-9d86-4492-a228-950512c93131\">\n",
              "    <div class=\"colab-df-container\">\n",
              "      <div>\n",
              "<style scoped>\n",
              "    .dataframe tbody tr th:only-of-type {\n",
              "        vertical-align: middle;\n",
              "    }\n",
              "\n",
              "    .dataframe tbody tr th {\n",
              "        vertical-align: top;\n",
              "    }\n",
              "\n",
              "    .dataframe thead th {\n",
              "        text-align: right;\n",
              "    }\n",
              "</style>\n",
              "<table border=\"1\" class=\"dataframe\">\n",
              "  <thead>\n",
              "    <tr style=\"text-align: right;\">\n",
              "      <th></th>\n",
              "      <th>id</th>\n",
              "      <th>target</th>\n",
              "    </tr>\n",
              "  </thead>\n",
              "  <tbody>\n",
              "    <tr>\n",
              "      <th>0</th>\n",
              "      <td>0</td>\n",
              "      <td>0</td>\n",
              "    </tr>\n",
              "    <tr>\n",
              "      <th>1</th>\n",
              "      <td>1</td>\n",
              "      <td>0</td>\n",
              "    </tr>\n",
              "    <tr>\n",
              "      <th>2</th>\n",
              "      <td>2</td>\n",
              "      <td>0</td>\n",
              "    </tr>\n",
              "    <tr>\n",
              "      <th>3</th>\n",
              "      <td>3</td>\n",
              "      <td>0</td>\n",
              "    </tr>\n",
              "    <tr>\n",
              "      <th>4</th>\n",
              "      <td>4</td>\n",
              "      <td>0</td>\n",
              "    </tr>\n",
              "  </tbody>\n",
              "</table>\n",
              "</div>\n",
              "      <button class=\"colab-df-convert\" onclick=\"convertToInteractive('df-797fc02b-9d86-4492-a228-950512c93131')\"\n",
              "              title=\"Convert this dataframe to an interactive table.\"\n",
              "              style=\"display:none;\">\n",
              "        \n",
              "  <svg xmlns=\"http://www.w3.org/2000/svg\" height=\"24px\"viewBox=\"0 0 24 24\"\n",
              "       width=\"24px\">\n",
              "    <path d=\"M0 0h24v24H0V0z\" fill=\"none\"/>\n",
              "    <path d=\"M18.56 5.44l.94 2.06.94-2.06 2.06-.94-2.06-.94-.94-2.06-.94 2.06-2.06.94zm-11 1L8.5 8.5l.94-2.06 2.06-.94-2.06-.94L8.5 2.5l-.94 2.06-2.06.94zm10 10l.94 2.06.94-2.06 2.06-.94-2.06-.94-.94-2.06-.94 2.06-2.06.94z\"/><path d=\"M17.41 7.96l-1.37-1.37c-.4-.4-.92-.59-1.43-.59-.52 0-1.04.2-1.43.59L10.3 9.45l-7.72 7.72c-.78.78-.78 2.05 0 2.83L4 21.41c.39.39.9.59 1.41.59.51 0 1.02-.2 1.41-.59l7.78-7.78 2.81-2.81c.8-.78.8-2.07 0-2.86zM5.41 20L4 18.59l7.72-7.72 1.47 1.35L5.41 20z\"/>\n",
              "  </svg>\n",
              "      </button>\n",
              "      \n",
              "  <style>\n",
              "    .colab-df-container {\n",
              "      display:flex;\n",
              "      flex-wrap:wrap;\n",
              "      gap: 12px;\n",
              "    }\n",
              "\n",
              "    .colab-df-convert {\n",
              "      background-color: #E8F0FE;\n",
              "      border: none;\n",
              "      border-radius: 50%;\n",
              "      cursor: pointer;\n",
              "      display: none;\n",
              "      fill: #1967D2;\n",
              "      height: 32px;\n",
              "      padding: 0 0 0 0;\n",
              "      width: 32px;\n",
              "    }\n",
              "\n",
              "    .colab-df-convert:hover {\n",
              "      background-color: #E2EBFA;\n",
              "      box-shadow: 0px 1px 2px rgba(60, 64, 67, 0.3), 0px 1px 3px 1px rgba(60, 64, 67, 0.15);\n",
              "      fill: #174EA6;\n",
              "    }\n",
              "\n",
              "    [theme=dark] .colab-df-convert {\n",
              "      background-color: #3B4455;\n",
              "      fill: #D2E3FC;\n",
              "    }\n",
              "\n",
              "    [theme=dark] .colab-df-convert:hover {\n",
              "      background-color: #434B5C;\n",
              "      box-shadow: 0px 1px 3px 1px rgba(0, 0, 0, 0.15);\n",
              "      filter: drop-shadow(0px 1px 2px rgba(0, 0, 0, 0.3));\n",
              "      fill: #FFFFFF;\n",
              "    }\n",
              "  </style>\n",
              "\n",
              "      <script>\n",
              "        const buttonEl =\n",
              "          document.querySelector('#df-797fc02b-9d86-4492-a228-950512c93131 button.colab-df-convert');\n",
              "        buttonEl.style.display =\n",
              "          google.colab.kernel.accessAllowed ? 'block' : 'none';\n",
              "\n",
              "        async function convertToInteractive(key) {\n",
              "          const element = document.querySelector('#df-797fc02b-9d86-4492-a228-950512c93131');\n",
              "          const dataTable =\n",
              "            await google.colab.kernel.invokeFunction('convertToInteractive',\n",
              "                                                     [key], {});\n",
              "          if (!dataTable) return;\n",
              "\n",
              "          const docLinkHtml = 'Like what you see? Visit the ' +\n",
              "            '<a target=\"_blank\" href=https://colab.research.google.com/notebooks/data_table.ipynb>data table notebook</a>'\n",
              "            + ' to learn more about interactive tables.';\n",
              "          element.innerHTML = '';\n",
              "          dataTable['output_type'] = 'display_data';\n",
              "          await google.colab.output.renderOutput(dataTable, element);\n",
              "          const docLink = document.createElement('div');\n",
              "          docLink.innerHTML = docLinkHtml;\n",
              "          element.appendChild(docLink);\n",
              "        }\n",
              "      </script>\n",
              "    </div>\n",
              "  </div>\n",
              "  "
            ]
          },
          "metadata": {},
          "execution_count": 38
        }
      ]
    },
    {
      "cell_type": "code",
      "source": [
        "# 예측 값 넣어주기\n",
        "submission[\"target\"] = y_pred \n",
        "\n",
        "# 데이터가 잘 들어갔는지 확인합니다.\n",
        "submission.head() "
      ],
      "metadata": {
        "colab": {
          "base_uri": "https://localhost:8080/",
          "height": 206
        },
        "id": "wyBTRs8XM4AM",
        "outputId": "4f79f33f-b60c-45db-968c-b46edbafe776"
      },
      "execution_count": 39,
      "outputs": [
        {
          "output_type": "execute_result",
          "data": {
            "text/plain": [
              "   id  target\n",
              "0   0       0\n",
              "1   1       0\n",
              "2   2       0\n",
              "3   3       0\n",
              "4   4       0"
            ],
            "text/html": [
              "\n",
              "  <div id=\"df-525f51f1-2ba4-4fcc-9243-d14a46e0e796\">\n",
              "    <div class=\"colab-df-container\">\n",
              "      <div>\n",
              "<style scoped>\n",
              "    .dataframe tbody tr th:only-of-type {\n",
              "        vertical-align: middle;\n",
              "    }\n",
              "\n",
              "    .dataframe tbody tr th {\n",
              "        vertical-align: top;\n",
              "    }\n",
              "\n",
              "    .dataframe thead th {\n",
              "        text-align: right;\n",
              "    }\n",
              "</style>\n",
              "<table border=\"1\" class=\"dataframe\">\n",
              "  <thead>\n",
              "    <tr style=\"text-align: right;\">\n",
              "      <th></th>\n",
              "      <th>id</th>\n",
              "      <th>target</th>\n",
              "    </tr>\n",
              "  </thead>\n",
              "  <tbody>\n",
              "    <tr>\n",
              "      <th>0</th>\n",
              "      <td>0</td>\n",
              "      <td>0</td>\n",
              "    </tr>\n",
              "    <tr>\n",
              "      <th>1</th>\n",
              "      <td>1</td>\n",
              "      <td>0</td>\n",
              "    </tr>\n",
              "    <tr>\n",
              "      <th>2</th>\n",
              "      <td>2</td>\n",
              "      <td>0</td>\n",
              "    </tr>\n",
              "    <tr>\n",
              "      <th>3</th>\n",
              "      <td>3</td>\n",
              "      <td>0</td>\n",
              "    </tr>\n",
              "    <tr>\n",
              "      <th>4</th>\n",
              "      <td>4</td>\n",
              "      <td>0</td>\n",
              "    </tr>\n",
              "  </tbody>\n",
              "</table>\n",
              "</div>\n",
              "      <button class=\"colab-df-convert\" onclick=\"convertToInteractive('df-525f51f1-2ba4-4fcc-9243-d14a46e0e796')\"\n",
              "              title=\"Convert this dataframe to an interactive table.\"\n",
              "              style=\"display:none;\">\n",
              "        \n",
              "  <svg xmlns=\"http://www.w3.org/2000/svg\" height=\"24px\"viewBox=\"0 0 24 24\"\n",
              "       width=\"24px\">\n",
              "    <path d=\"M0 0h24v24H0V0z\" fill=\"none\"/>\n",
              "    <path d=\"M18.56 5.44l.94 2.06.94-2.06 2.06-.94-2.06-.94-.94-2.06-.94 2.06-2.06.94zm-11 1L8.5 8.5l.94-2.06 2.06-.94-2.06-.94L8.5 2.5l-.94 2.06-2.06.94zm10 10l.94 2.06.94-2.06 2.06-.94-2.06-.94-.94-2.06-.94 2.06-2.06.94z\"/><path d=\"M17.41 7.96l-1.37-1.37c-.4-.4-.92-.59-1.43-.59-.52 0-1.04.2-1.43.59L10.3 9.45l-7.72 7.72c-.78.78-.78 2.05 0 2.83L4 21.41c.39.39.9.59 1.41.59.51 0 1.02-.2 1.41-.59l7.78-7.78 2.81-2.81c.8-.78.8-2.07 0-2.86zM5.41 20L4 18.59l7.72-7.72 1.47 1.35L5.41 20z\"/>\n",
              "  </svg>\n",
              "      </button>\n",
              "      \n",
              "  <style>\n",
              "    .colab-df-container {\n",
              "      display:flex;\n",
              "      flex-wrap:wrap;\n",
              "      gap: 12px;\n",
              "    }\n",
              "\n",
              "    .colab-df-convert {\n",
              "      background-color: #E8F0FE;\n",
              "      border: none;\n",
              "      border-radius: 50%;\n",
              "      cursor: pointer;\n",
              "      display: none;\n",
              "      fill: #1967D2;\n",
              "      height: 32px;\n",
              "      padding: 0 0 0 0;\n",
              "      width: 32px;\n",
              "    }\n",
              "\n",
              "    .colab-df-convert:hover {\n",
              "      background-color: #E2EBFA;\n",
              "      box-shadow: 0px 1px 2px rgba(60, 64, 67, 0.3), 0px 1px 3px 1px rgba(60, 64, 67, 0.15);\n",
              "      fill: #174EA6;\n",
              "    }\n",
              "\n",
              "    [theme=dark] .colab-df-convert {\n",
              "      background-color: #3B4455;\n",
              "      fill: #D2E3FC;\n",
              "    }\n",
              "\n",
              "    [theme=dark] .colab-df-convert:hover {\n",
              "      background-color: #434B5C;\n",
              "      box-shadow: 0px 1px 3px 1px rgba(0, 0, 0, 0.15);\n",
              "      filter: drop-shadow(0px 1px 2px rgba(0, 0, 0, 0.3));\n",
              "      fill: #FFFFFF;\n",
              "    }\n",
              "  </style>\n",
              "\n",
              "      <script>\n",
              "        const buttonEl =\n",
              "          document.querySelector('#df-525f51f1-2ba4-4fcc-9243-d14a46e0e796 button.colab-df-convert');\n",
              "        buttonEl.style.display =\n",
              "          google.colab.kernel.accessAllowed ? 'block' : 'none';\n",
              "\n",
              "        async function convertToInteractive(key) {\n",
              "          const element = document.querySelector('#df-525f51f1-2ba4-4fcc-9243-d14a46e0e796');\n",
              "          const dataTable =\n",
              "            await google.colab.kernel.invokeFunction('convertToInteractive',\n",
              "                                                     [key], {});\n",
              "          if (!dataTable) return;\n",
              "\n",
              "          const docLinkHtml = 'Like what you see? Visit the ' +\n",
              "            '<a target=\"_blank\" href=https://colab.research.google.com/notebooks/data_table.ipynb>data table notebook</a>'\n",
              "            + ' to learn more about interactive tables.';\n",
              "          element.innerHTML = '';\n",
              "          dataTable['output_type'] = 'display_data';\n",
              "          await google.colab.output.renderOutput(dataTable, element);\n",
              "          const docLink = document.createElement('div');\n",
              "          docLink.innerHTML = docLinkHtml;\n",
              "          element.appendChild(docLink);\n",
              "        }\n",
              "      </script>\n",
              "    </div>\n",
              "  </div>\n",
              "  "
            ]
          },
          "metadata": {},
          "execution_count": 39
        }
      ]
    },
    {
      "cell_type": "code",
      "source": [
        "# submission을 csv 파일로 저장합니다.\n",
        "# index=False란 추가적인 id를 부여할 필요가 없다는 뜻입니다. \n",
        "# 정확한 채점을 위해 꼭 index=False를 넣어주세요.\n",
        "submission.to_csv(\"submission.csv\",index=False)"
      ],
      "metadata": {
        "id": "tlQqc1wvM7uy"
      },
      "execution_count": 40,
      "outputs": []
    },
    {
      "cell_type": "code",
      "source": [
        ""
      ],
      "metadata": {
        "id": "uIczK34MM_k4"
      },
      "execution_count": null,
      "outputs": []
    }
  ]
}