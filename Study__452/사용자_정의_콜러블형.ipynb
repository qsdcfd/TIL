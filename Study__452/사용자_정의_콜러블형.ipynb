{
  "nbformat": 4,
  "nbformat_minor": 0,
  "metadata": {
    "colab": {
      "provenance": [],
      "authorship_tag": "ABX9TyPCLjxUE/cyVMw3ZSl96goV"
    },
    "kernelspec": {
      "name": "python3",
      "display_name": "Python 3"
    },
    "language_info": {
      "name": "python"
    }
  },
  "cells": [
    {
      "cell_type": "markdown",
      "source": [
        "# 객체로서의 함수\n",
        "## 일급함수\n",
        "### 사용자 정의 콜러블형\n",
        "\n",
        "파이썬 함수가 실제 객체일 뿐만 아니라, 모든 파이썬 객체가 함수처럼 동작할 수 있게 __call__()인스턴스 메서드 구현\n",
        "\n",
        "```\n",
        "\"\"\"\n",
        "BingoCage 클래스를 구현한다.\n",
        "반복 가능 객체를 받아서 한 항목을 담은 객체를 생성하고, 무작위 순으로 내부에 항목들의 리스트를 저장한다.\n",
        "객체를 호출하면 항목을 하나 꺼낸다.\n",
        "\"\"\"\n",
        "\n",
        "#bingocall.py:BingoCage 클래스는 뒤섞인 리스트에서 항목을 골라낼 뿐이다.\n",
        "\n",
        "import random\n",
        "\n",
        "class BingoCage:\n",
        "\n",
        "\tdef __init__(self, items):\n",
        "    \tself._items = list(items)\n",
        "        random.shuffle(self._items)\n",
        "        \n",
        "    def pick(self):\n",
        "    \ttry:\n",
        "        \treturn self._items.pop()\n",
        "        expert IndexError:\n",
        "        \traise LookupError('pick from empty BingoCage')\n",
        "            \n",
        "    def __call__(self):\n",
        "    \treturn self.pick()\n",
        "\n",
        "#callable() 내장 함수가 이 객체를 콜러블 객체로 인식하는지 주의하기\n",
        "\n",
        "bingo = BingoCage(range(3))\n",
        "bingo.pick()\n",
        "bingo()\n",
        "callable(bingo)\n",
        "```\n",
        "\n",
        "<br>\n",
        "\n",
        ">BingoCase의 경우 객체를 함수처럼 호출할 때마다 항목을 하나 꺼내서 변경 후 상태를 유지하는 __call__() 메서드를 구현하면 객체를 생성하기 쉽고, 데커레이터는 함수이긴 하지만 호출된 후의 상태를 '기억'할 수 있는 기능이 유용하게 사용된다.\n",
        "\n",
        ">클로저는 내부 상태를 가진 함수를 전혀 다른 방식으로 생성한다."
      ],
      "metadata": {
        "id": "47Bx1n_Vay7g"
      }
    },
    {
      "cell_type": "code",
      "source": [],
      "metadata": {
        "id": "jwSIuBCBazVU"
      },
      "execution_count": null,
      "outputs": []
    }
  ]
}