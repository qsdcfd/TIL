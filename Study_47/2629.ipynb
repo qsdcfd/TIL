{
 "cells": [
  {
   "cell_type": "code",
   "execution_count": null,
   "id": "promising-connectivity",
   "metadata": {},
   "outputs": [],
   "source": [
    "import sys\n",
    "\n",
    "n = int(sys.stdin.readline())\n",
    "weight = list(map(int, sys.stdin.readline().split()))\n",
    "m = int(sys.stdin.readline())\n",
    "check = list(map(int, sys.stdin.readline().split()))\n",
    "possible = []\n",
    "ans = [[0 for _ in range(15001)] for __ in range(n + 1)]\n",
    "\n",
    "\n",
    "def scale(weight, n, now, left, right):\n",
    "    new = abs(left - right)\n",
    "    if new not in possible:\n",
    "        possible.append(new)\n",
    "    if now == n:\n",
    "        return 0\n",
    "    if ans[now][new] == 0:\n",
    "        scale(weight, n, now + 1, left + weight[now], right)\n",
    "        scale(weight, n, now + 1, left, right + weight[now])\n",
    "        scale(weight, n, now + 1, left, right)\n",
    "        ans[now][new] = 1\n",
    "\n",
    "\n",
    "scale(weight, n, 0, 0, 0)\n",
    "for i in check:\n",
    "    if i in possible:\n",
    "        print('Y', end=' ')\n",
    "    else:\n",
    "        print('N', end=' ')"
   ]
  }
 ],
 "metadata": {
  "kernelspec": {
   "display_name": "Python 3",
   "language": "python",
   "name": "python3"
  },
  "language_info": {
   "codemirror_mode": {
    "name": "ipython",
    "version": 3
   },
   "file_extension": ".py",
   "mimetype": "text/x-python",
   "name": "python",
   "nbconvert_exporter": "python",
   "pygments_lexer": "ipython3",
   "version": "3.7.9"
  }
 },
 "nbformat": 4,
 "nbformat_minor": 5
}
