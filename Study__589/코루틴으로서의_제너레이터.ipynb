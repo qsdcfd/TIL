{
  "nbformat": 4,
  "nbformat_minor": 0,
  "metadata": {
    "colab": {
      "provenance": [],
      "authorship_tag": "ABX9TyPwEOG6N/+0sr1mOR88MKAH"
    },
    "kernelspec": {
      "name": "python3",
      "display_name": "Python 3"
    },
    "language_info": {
      "name": "python"
    }
  },
  "cells": [
    {
      "cell_type": "markdown",
      "source": [
        "# 제어 흐름\n",
        "## 반복형,반복자,제너레이터\n",
        "### 코루틴으로서의 제너레이터\n",
        "\n",
        "- 제너레이터는 반복하기 위한 데이터를 생성한다.\n",
        "- 코루틴은 데이터의 소비자다.\n",
        "- 머리가 터지지 않으려면 이 두 개념을 뒤섞지 마라\n",
        "- 코루틴은 반복과 상관없다.\n",
        "- 주의: 코루틴 안에서 yield가 값을 생성하게 하는 것은 쓸모가 있지만, 이것은 반복과 상관없다."
      ],
      "metadata": {
        "id": "l8OYvRv4j3zT"
      }
    },
    {
      "cell_type": "code",
      "source": [],
      "metadata": {
        "id": "98sUmHkAj40a"
      },
      "execution_count": null,
      "outputs": []
    },
    {
      "cell_type": "code",
      "source": [],
      "metadata": {
        "id": "XetcKgqLj8de"
      },
      "execution_count": null,
      "outputs": []
    },
    {
      "cell_type": "code",
      "source": [],
      "metadata": {
        "id": "B7tRJ9Pbj8h6"
      },
      "execution_count": null,
      "outputs": []
    }
  ]
}