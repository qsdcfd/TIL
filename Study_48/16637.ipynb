{
 "cells": [
  {
   "cell_type": "code",
   "execution_count": null,
   "id": "similar-investing",
   "metadata": {},
   "outputs": [],
   "source": [
    "N = int(input())\n",
    "expression = input()\n",
    "answer = -2 ** 31\n",
    " \n",
    "if N == 1:\n",
    "    print(max(answer, int(expression)))\n",
    "    exit()\n",
    " \n",
    "symbol = [\"+\", \"-\", \"*\"]\n",
    " \n",
    " \n",
    "def add_parenthesis(index, expression_list):\n",
    "    global answer\n",
    "    if index == N:\n",
    "        for i, j in enumerate(expression_list):\n",
    "            if len(j) == 3:\n",
    "                expression_list[i] = str(eval(j))\n",
    "        result = expression_list[0]\n",
    "        for _ in range(1, len(expression_list), 2):\n",
    "            result = eval(str(result)+expression_list[_]+expression_list[_+1])\n",
    " \n",
    "        if answer < result:\n",
    "            answer = result\n",
    "        return\n",
    " \n",
    " \n",
    "    expression_list.append(expression[index])\n",
    "    add_parenthesis(index + 1, expression_list)\n",
    "    del expression_list[-1]\n",
    " \n",
    "    if expression_list[-1] in symbol and index + 3 <= N:\n",
    "        expression_list.append(expression[index:index+3])\n",
    "        add_parenthesis(index + 3, expression_list)\n",
    "        del expression_list[-1]\n",
    " \n",
    " \n",
    "add_parenthesis(1, [expression[0]])\n",
    "print(answer)"
   ]
  }
 ],
 "metadata": {
  "kernelspec": {
   "display_name": "Python 3",
   "language": "python",
   "name": "python3"
  },
  "language_info": {
   "codemirror_mode": {
    "name": "ipython",
    "version": 3
   },
   "file_extension": ".py",
   "mimetype": "text/x-python",
   "name": "python",
   "nbconvert_exporter": "python",
   "pygments_lexer": "ipython3",
   "version": "3.7.9"
  }
 },
 "nbformat": 4,
 "nbformat_minor": 5
}
