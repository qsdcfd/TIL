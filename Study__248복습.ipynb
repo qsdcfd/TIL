{
  "nbformat": 4,
  "nbformat_minor": 0,
  "metadata": {
    "colab": {
      "name": "복습",
      "provenance": [],
      "authorship_tag": "ABX9TyOROhJ/DoaAFiFzAnPUinaz"
    },
    "kernelspec": {
      "name": "python3",
      "display_name": "Python 3"
    },
    "language_info": {
      "name": "python"
    }
  },
  "cells": [
    {
      "cell_type": "markdown",
      "source": [
        "### 실제로 시각화를 통해서 살펴보도록 해요"
      ],
      "metadata": {
        "id": "P-SLg7JTkhb7"
      }
    },
    {
      "cell_type": "code",
      "source": [
        ""
      ],
      "metadata": {
        "id": "ZCQhNQAd1-ZE"
      },
      "execution_count": null,
      "outputs": []
    },
    {
      "cell_type": "code",
      "source": [
        "import numpy as np\n",
        "import pandas as pd\n",
        "import seaborn as sns\n",
        "import matplotlib.pyplot as plt"
      ],
      "metadata": {
        "id": "VOL29iUtkuTn"
      },
      "execution_count": null,
      "outputs": []
    },
    {
      "cell_type": "code",
      "execution_count": null,
      "metadata": {
        "colab": {
          "base_uri": "https://localhost:8080/",
          "height": 297
        },
        "id": "hsqNMSeJkbxj",
        "outputId": "2edcf663-494d-496a-ef18-ebac83f5c096"
      },
      "outputs": [
        {
          "output_type": "execute_result",
          "data": {
            "text/plain": [
              "<matplotlib.axes._subplots.AxesSubplot at 0x7f6e6a2b0510>"
            ]
          },
          "metadata": {},
          "execution_count": 4
        },
        {
          "output_type": "display_data",
          "data": {
            "text/plain": [
              "<Figure size 432x288 with 1 Axes>"
            ],
            "image/png": "[encoded data removed]"
          },
          "metadata": {
            "needs_background": "light"
          }
        }
      ],
      "source": [
        "X = np.array([[6.6, 6.2, 1],\n",
        "              [9.7, 9.9, 2],\n",
        "              [8.0, 8.3, 2],\n",
        "              [6.3, 5.4, 1],\n",
        "              [1.3, 2.7, 0],\n",
        "              [2.3, 3.1, 0],\n",
        "              [6.6, 6.0, 1],\n",
        "              [6.5, 6.4, 1],\n",
        "              [6.3, 5.8, 1],\n",
        "              [9.5, 9.9, 2],\n",
        "              [8.9, 8.9, 2],\n",
        "              [8.7, 9.5, 2],\n",
        "              [2.5, 3.8, 0],\n",
        "              [2.0, 3.1, 0],\n",
        "              [1.3, 1.3, 0]])\n",
        "\n",
        "df = pd.DataFrame(X, columns=['weight', 'length', 'label'])\n",
        "\n",
        "ax = df[df['label'] == 0].plot.scatter(x='weight', y='length', c='blue', label='young')\n",
        "ax = df[df['label'] == 1].plot.scatter(x='weight', y='length', c='orange', label='mid', ax=ax)\n",
        "ax = df[df['label'] == 2].plot.scatter(x='weight', y='length', c='red', label='adult', ax=ax)\n",
        "ax"
      ]
    },
    {
      "cell_type": "markdown",
      "source": [
        "색깔이 다른 수 많은 숫자들 중에서 각각 하나씩만 선별해볼게요\n",
        "\n",
        "찾고 싶은 것은 point를 셋 중 어느 레이블에 설정하는 게 좋을까입니다."
      ],
      "metadata": {
        "id": "3vlzUZBflHu9"
      }
    },
    {
      "cell_type": "code",
      "source": [
        "df2 = pd.DataFrame([df.iloc[0], df.iloc[1], df.iloc[4]], columns=['weight', 'length', 'label'])\n",
        "df3 = pd.DataFrame([df.iloc[14]], columns=['weight', 'length', 'label'])\n",
        "\n",
        "ax = df2[df2['label'] == 0].plot.scatter(x='weight', y='length', c='blue', label='young')\n",
        "ax = df2[df2['label'] == 1].plot.scatter(x='weight', y='length', c='orange', label='mid', ax=ax)\n",
        "ax = df2[df2['label'] == 2].plot.scatter(x='weight', y='length', c='red', label='adult', ax=ax)\n",
        "ax = df3.plot.scatter(x='weight', y='length', c='gray', label='point', ax=ax)\n",
        "ax"
      ],
      "metadata": {
        "colab": {
          "base_uri": "https://localhost:8080/",
          "height": 297
        },
        "id": "BeJpzbZplDlI",
        "outputId": "03e435f8-a4da-41ea-bcb4-e05f19ebd412"
      },
      "execution_count": null,
      "outputs": [
        {
          "output_type": "execute_result",
          "data": {
            "text/plain": [
              "<matplotlib.axes._subplots.AxesSubplot at 0x7f6e69c7b110>"
            ]
          },
          "metadata": {},
          "execution_count": 6
        },
        {
          "output_type": "display_data",
          "data": {
            "text/plain": [
              "<Figure size 432x288 with 1 Axes>"
            ],
            "image/png": "[encoded data removed]"
          },
          "metadata": {
            "needs_background": "light"
          }
        }
      ]
    },
    {
      "cell_type": "markdown",
      "source": [
        "### 살펴보기\n",
        "\n",
        "1. 유클리드의 결과, 맨허튼 거리의 결과, 코사인 유사도의 차이가 있을까?\n",
        "\n",
        "2. 값의 차이를 볼 때 무엇을 쓰는 게 더 좋을까?\n"
      ],
      "metadata": {
        "id": "mll_4AMRmjF5"
      }
    },
    {
      "cell_type": "markdown",
      "source": [
        "#### 유클리드부터 해보죠 (L2)"
      ],
      "metadata": {
        "id": "1JNimJnClbXh"
      }
    },
    {
      "cell_type": "code",
      "source": [
        "def euclidean_distance(x, y):   \n",
        "    return np.sqrt(np.sum((x - y) ** 2))"
      ],
      "metadata": {
        "id": "oDsIen3xlNE0"
      },
      "execution_count": null,
      "outputs": []
    },
    {
      "cell_type": "code",
      "source": [
        "x0 = X[0][:-1]\n",
        "x1 = X[1][:-1]\n",
        "x4 = X[4][:-1]\n",
        "x14 = X[14][:-1] #point\n",
        "print(\" x0:\", x0, \"\\n x1:\", x1, \"\\n x4:\", x4, \"\\nx14:\", x14)\n",
        "\n",
        "print(\" x14 and x0:\", euclidean_distance(x14, x0), \"\\n\",\n",
        "      \"x14 and x1:\", euclidean_distance(x14, x1), \"\\n\",\n",
        "      \"x14 and x4:\", euclidean_distance(x14, x4))\n",
        "\n",
        "#아래의 결과값은 유클리드를 활용하여 결과값을 나타낸 것입니다.."
      ],
      "metadata": {
        "colab": {
          "base_uri": "https://localhost:8080/"
        },
        "id": "WTvVAuW8lfc4",
        "outputId": "8dc7acab-d93c-40c2-b84f-6096681b6d31"
      },
      "execution_count": null,
      "outputs": [
        {
          "output_type": "stream",
          "name": "stdout",
          "text": [
            " x0: [6.6 6.2] \n",
            " x1: [9.7 9.9] \n",
            " x4: [1.3 2.7] \n",
            "x14: [1.3 1.3]\n",
            " x14 and x0: 7.218032973047436 \n",
            " x14 and x1: 12.021647141718974 \n",
            " x14 and x4: 1.4000000000000001\n"
          ]
        }
      ]
    },
    {
      "cell_type": "markdown",
      "source": [
        "가장 거리가 가까운 것은 4번으로 point를 young클래스로 추축할 수 있겠네요\n",
        "저희가 생각하는 직관과 같네요\n",
        "\n",
        "실제로 머신러닝에서도 이런 느낌으로 돌아가요"
      ],
      "metadata": {
        "id": "q3-_A9L3lrsj"
      }
    },
    {
      "cell_type": "markdown",
      "source": [
        "맨허튼 거리입니다.(L1)"
      ],
      "metadata": {
        "id": "weOvICH_mcpa"
      }
    },
    {
      "cell_type": "code",
      "source": [
        "def Manhattan_distance(x, y):   \n",
        "    return np.sqrt(np.sum(abs(x - y)))"
      ],
      "metadata": {
        "id": "ru-akUQcljYJ"
      },
      "execution_count": null,
      "outputs": []
    },
    {
      "cell_type": "code",
      "source": [
        "x0 = X[0][:-1]\n",
        "x1 = X[1][:-1]\n",
        "x4 = X[4][:-1]\n",
        "x14 = X[14][:-1] #point\n",
        "print(\" x0:\", x0, \"\\n x1:\", x1, \"\\n x4:\", x4, \"\\nx14:\", x14)\n",
        "\n",
        "print(\" x14 and x0:\", Manhattan_distance(x14, x0), \"\\n\",\n",
        "      \"x14 and x1:\", Manhattan_distance(x14, x1), \"\\n\",\n",
        "      \"x14 and x4:\", Manhattan_distance(x14, x4))"
      ],
      "metadata": {
        "colab": {
          "base_uri": "https://localhost:8080/"
        },
        "id": "baWqNg_8mAwv",
        "outputId": "aa47366e-6bdc-419c-edf8-f39bd00a0070"
      },
      "execution_count": null,
      "outputs": [
        {
          "output_type": "stream",
          "name": "stdout",
          "text": [
            " x0: [6.6 6.2] \n",
            " x1: [9.7 9.9] \n",
            " x4: [1.3 2.7] \n",
            "x14: [1.3 1.3]\n",
            " x14 and x0: 3.1937438845342623 \n",
            " x14 and x1: 4.123105625617661 \n",
            " x14 and x4: 1.1832159566199232\n"
          ]
        }
      ]
    },
    {
      "cell_type": "markdown",
      "source": [
        "### 코사인 유사도\n",
        "\n",
        "특징: 유클리드가 줄자로 하는 것이라면 코사인 유사도는 벡터 사이의 각도로만 측정하는 것이고 그 각도가 커지만 서로 멀어져서 커지는 것이기에 각도가 적을 수록 가까운 것을 알 수 있습니다.\n",
        "\n",
        "사용 상황: 벡터의 크기가 중요하지 않고 거리를 측정할 때 사용이 됩니다.\n",
        "그래서, 지금처리 거리보다는 나중에 NLP를 하신다면 텍스트 데이터 처리할 때 주로 사용이 되고 더 나아가 정보 검색할 때 사용이됩니다."
      ],
      "metadata": {
        "id": "i2ir72mpoEoN"
      }
    },
    {
      "cell_type": "code",
      "source": [
        "def cosine_similarity(x, y):\n",
        "    return np.dot(x, y) / (np.sqrt(np.dot(x, x)) * np.sqrt(np.dot(y, y)))\n",
        "\n",
        "print(\" x14 and x0:\", cosine_similarity(x14, x0), \"\\n\",\n",
        "      \"x14 and x1:\", cosine_similarity(x14, x1), \"\\n\",\n",
        "      \"x14 and x4:\", cosine_similarity(x14, x4))"
      ],
      "metadata": {
        "colab": {
          "base_uri": "https://localhost:8080/"
        },
        "id": "seVoETxKmEVI",
        "outputId": "f3c1df92-d471-4844-da91-bbd67ecbf02d"
      },
      "execution_count": null,
      "outputs": [
        {
          "output_type": "stream",
          "name": "stdout",
          "text": [
            " x14 and x0: 0.9995120760870786 \n",
            " x14 and x1: 0.9999479424242859 \n",
            " x14 and x4: 0.9438583563660174\n"
          ]
        }
      ]
    },
    {
      "cell_type": "code",
      "source": [
        ""
      ],
      "metadata": {
        "id": "Uti2htN-oF7P"
      },
      "execution_count": null,
      "outputs": []
    }
  ]
}