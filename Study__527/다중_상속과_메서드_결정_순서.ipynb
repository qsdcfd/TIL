{
  "nbformat": 4,
  "nbformat_minor": 0,
  "metadata": {
    "colab": {
      "provenance": [],
      "authorship_tag": "ABX9TyMyIkKVngKHszg4MtnZgI/6"
    },
    "kernelspec": {
      "name": "python3",
      "display_name": "Python 3"
    },
    "language_info": {
      "name": "python"
    }
  },
  "cells": [
    {
      "cell_type": "markdown",
      "source": [
        "# 객체지향 상용구\n",
        "## 내장 자료형 상속과 다중 상속\n",
        "### 다중 상속과 메서드 결정 순서\n",
        "\n",
        ">다중 상속을 지원하는 언어에선 별개의 상위클래스가 동일한 이름으로 메서드를 구현하 ㄹ때 발생하는 이름 충돌 문제(다이아몬드 문제)를 해결해야 한다.\n",
        "\n",
        "```\n",
        "\n",
        "\"\"\"\n",
        "B클래스와 C클래스 모두 pong() 메서드를 구현하고 있지만, C.pong() 메서드는 대문자로 출력한다는 것이 다르다.\n",
        "\"\"\"\n",
        "class A:\n",
        "\tdef ping(self):\n",
        "    \tprint('ping:', self)\n",
        "        \n",
        "class B(A):\n",
        "\tdef pong(self):\n",
        "    \tprint(\"pong\", self)\n",
        "\n",
        "class C(A):\n",
        "\tdef pong(self):\n",
        "    \tprint(\"pong\", self)\n",
        "        \n",
        "class D(B,C):\n",
        "\tdef ping(self):\n",
        "    \tsuper().ping()\n",
        "        print(\"post-ping:\", self)\n",
        "        \n",
        "    def pingpong(self):\n",
        "    \tself.ping()\n",
        "        super().ping()\n",
        "        self.pong()\n",
        "        super().pong()\n",
        "        C.pong(self)\n",
        "```\n",
        "\n",
        "<br>\n",
        "\n",
        "*D클래스 객체의 pong() 메서드를 호출하는 두 가지 방법*\n",
        "\n",
        "```\n",
        "from diamond import *\n",
        "d = D()\n",
        "d.pong()\n",
        "C.pong(d)\n",
        "```\n",
        "\n",
        ">파이썬이 상속 그래프를 조회할 때는 특정한 순서를 따르고, d.pong()과 같은 호출의 모호함이 해결되고, 이 순서를 메서드 결정 순서(MRO)라고 한다.   클래스에 있는 __mro__속성은 현재 클래스부터 object 클래스까지 슈퍼 클래스들의 MRO를 튜플 형태로 저장한다.\n",
        "\n",
        "<br>\n",
        "\n",
        "*슈퍼클래스 메서드에 위힘할 때는 내장 함수인 super()를 사용하는 것이 좋다*\n",
        "\n",
        "```\n",
        "def ping(self):\n",
        "\tA.ping(self) # super().ping() 대신 호출\n",
        "    print('post-ping:', self)\n",
        "```\n",
        "\n",
        ">객체 메서드를 클래스에 직접 호출할 때는 self를 반드시 명시해야 하고, 바인딩되지 않은 메서드에 접근하는 것이기 때문이다. 그러나, 프레임워크 혹은 여러분이 직접 제어할 수 없는 클래스 계층 구조에 들어 있는 메서드를 호출할 때는 super()를 사용하는 것이 안전하며, 향우 프레임워크가 변경 되어도 문제없이 작동한다.\n",
        "\n",
        "```\n",
        "from diamond import D\n",
        "d = D()\n",
        "d.ping()\n",
        "```\n",
        "\n"
      ],
      "metadata": {
        "id": "nl7pqDSitGu6"
      }
    },
    {
      "cell_type": "code",
      "source": [],
      "metadata": {
        "id": "bHnIjr3ItHDD"
      },
      "execution_count": null,
      "outputs": []
    }
  ]
}