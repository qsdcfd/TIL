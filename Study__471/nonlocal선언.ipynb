{
  "nbformat": 4,
  "nbformat_minor": 0,
  "metadata": {
    "colab": {
      "provenance": [],
      "authorship_tag": "ABX9TyNMchx4g313w0PyK/1xyE7W"
    },
    "kernelspec": {
      "name": "python3",
      "display_name": "Python 3"
    },
    "language_info": {
      "name": "python"
    }
  },
  "cells": [
    {
      "cell_type": "markdown",
      "source": [
        "# 객체로서의 함수\n",
        "## 함수 데커레이터와 클로저\n",
        "### nonlocal선언\n",
        "\n",
        "이전 블로그에서 구현한 make_averager()는 그리 효율적이지 않고, 우리는 모든 값을 series에 저장하고 average()가 호출될 때마다 sum을 계산했다. 합계와 항목 수를 저장한 후 이 두 개의 숫자를 이용해서 평균을 구하면 훨씬 더 효율적으로 구현할 수 있습니다.\n",
        "\n",
        "```\n",
        "# 전체 이력을 유지하지 않고 이동 평균을 계산하는 잘못된 고위 함수\n",
        "\n",
        "def make_averager():\n",
        "\tcount = 0\n",
        "    total = 0\n",
        "    \n",
        "    def averager(new_value):\n",
        "    \tcount +=1\n",
        "        total += new_value\n",
        "        return total / count\n",
        "        \n",
        "     return averager\n",
        "```\n",
        "\n",
        "```\n",
        "avg = make_averager()\n",
        "avg(10)\n",
        "```\n",
        "\n",
        ">count가 수치형이거나 어떤 가변형일 때 count +=1을 의미하기 때문에 문체가 발생하므로 averager() 본체 안에서 count 변수에 할당하므로 count를 지역변수로 만든다.\n",
        "\n",
        "<br>\n",
        "\n",
        "**근본적인 해결책은 nonlocal선언으로 변수를 nonlocal로 선언하면 함수 안에서 변수에 새로운 값을 할당해도 자유 변수임으로 새로운 값을 nonlocal 변수에 할당하면 클로저에 저장된 바인딩이 변경된다.**\n",
        "\n",
        "```\n",
        "#전체 이력을 유지하지 않고 이동 평균 계산(nonlocal로 수정)\n",
        "\n",
        "def make_averager():\n",
        "\tcount = 0\n",
        "    total = 0\n",
        "    \n",
        "    def averager(new_value):\n",
        "    \tnonlocal count, total\n",
        "        count +=1\n",
        "        total += new_value\n",
        "        return total / count\n",
        "        \n",
        "    return averager\n",
        "```\n"
      ],
      "metadata": {
        "id": "ol-9woIfHmiV"
      }
    },
    {
      "cell_type": "code",
      "source": [],
      "metadata": {
        "id": "c6nDX8aQHmub"
      },
      "execution_count": null,
      "outputs": []
    }
  ]
}