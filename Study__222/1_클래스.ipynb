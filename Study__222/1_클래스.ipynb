{
  "cells": [
    {
      "cell_type": "markdown",
      "metadata": {
        "id": "view-in-github",
        "colab_type": "text"
      },
      "source": [
        "<a href=\"https://colab.research.google.com/github/qsdcfd/TIL/blob/TIL/Study__222/1_%E1%84%8F%E1%85%B3%E1%86%AF%E1%84%85%E1%85%A2%E1%84%89%E1%85%B3.ipynb\" target=\"_parent\"><img src=\"https://colab.research.google.com/assets/colab-badge.svg\" alt=\"Open In Colab\"/></a>"
      ]
    },
    {
      "cell_type": "markdown",
      "metadata": {
        "id": "8q9ByGSb-G39"
      },
      "source": [
        "# 파이썬 클래스\n",
        "최대한(?) 간단히 클래스를 설명해보겠습니다. 기본적인 내용만 설명하기 때문에 파이썬 입문서를 한 권 추가로 읽어 보실 것을 추천드립니다.   "
      ]
    },
    {
      "cell_type": "markdown",
      "metadata": {
        "id": "JNOP_an5-G3_"
      },
      "source": [
        "## 클래스란?"
      ]
    },
    {
      "cell_type": "markdown",
      "metadata": {
        "id": "5ZHM67kh-G3_"
      },
      "source": [
        "클래스는 함수와 같은 의도로 코드를 정리하기 위해 사용합니다. 함수 보다 한 발 더 나아가 관련된 함수와 변수를 하나로 묶어서 정리할 수 있습니다. 관련 있는 통계학/경제학/정치학을 사회과학이라는 보다 큰 카테고리로 묶는 것과 같습니다.  \n",
        "<img src=\"https://i.ibb.co/2MgSYz7/class-0.png\" width=\"600\" style=\"float:left\" />"
      ]
    },
    {
      "cell_type": "markdown",
      "metadata": {
        "id": "kVFoPrw9-G3_"
      },
      "source": [
        "클래스는 `class` 키워드로 정의(정리) 할 수 있습니다. 함수와 같은 원리로 정의 자체는 아무런 동작을 수행하지 않습니다. 클래스내에 정의된 함수를 특별히 <b>메서드(method)</b>라고 부릅니다. 이 때 함수의 첫 번째 파라미터로 `self`를 추가해야 합니다. "
      ]
    },
    {
      "cell_type": "code",
      "execution_count": null,
      "metadata": {
        "id": "ZAXCE7bM-G4B"
      },
      "outputs": [],
      "source": [
        "def 통계학 ():\n",
        "    print(\"통계학\")\n",
        "\n",
        "def 경제학 ():\n",
        "    print(\"경제학\")\n",
        "\n",
        "def 정치학 ():\n",
        "    print(\"정치학\")"
      ]
    },
    {
      "cell_type": "code",
      "execution_count": null,
      "metadata": {
        "id": "Okua4AXf-G4B"
      },
      "outputs": [],
      "source": [
        "\n",
        "\n",
        "\n",
        "\n",
        "\n"
      ]
    },
    {
      "cell_type": "markdown",
      "metadata": {
        "id": "46v9qZu1-G4C"
      },
      "source": [
        "정의된 클래스는 이를 호출해서 생성할 수 있습니다. 클래스로 정의하면 사용하는 방법이 조금 달라지는것 뿐입니다."
      ]
    },
    {
      "cell_type": "code",
      "execution_count": null,
      "metadata": {
        "id": "itT-RYcS-G4C",
        "outputId": "33a3ca1d-f178-4553-a86b-811350617e02"
      },
      "outputs": [
        {
          "name": "stdout",
          "output_type": "stream",
          "text": [
            "<class '__main__.사회과학'>\n"
          ]
        }
      ],
      "source": [
        "변수 = 사회과학()\n",
        "print(type(변수))"
      ]
    },
    {
      "cell_type": "markdown",
      "metadata": {
        "id": "7Vf4liH2-G4D"
      },
      "source": [
        "클래스를 생성한 결과를 인스턴스/오브젝트/객체 라고 부릅니다. 위 코드는 사회과학 클래스를 생성해서 반환된 사회과학 객체를 변수에 바인딩하는 겁니다. 붕어빵처럼 얼마든지 여러개의 객체를 찍어낼 수 있습니다. "
      ]
    },
    {
      "cell_type": "code",
      "execution_count": null,
      "metadata": {
        "id": "KfzL_egi-G4D"
      },
      "outputs": [],
      "source": [
        "변수1 = 사회과학()\n",
        "변수2 = 사회과학()"
      ]
    },
    {
      "cell_type": "markdown",
      "metadata": {
        "id": "0OJCQpb7-G4D"
      },
      "source": [
        "메모리에는 다음과 같이 클래스와 객체가 저장됩니다. 우선 설계도인 \"사회과학 클래스\"가 메모리에 저장됩니다. 그리고 `변수1 = 사회과학()` 코드가 실행되면 클래스를 복사해서 객체를 메모리의 새로운 공간에 복사하고 이를 변수 1이 가리킵니다. `변수2 = 사회과학()` 코드가 실행되면 동일한 과정이 반복됩니다. 여기서 중요한 점은 <b> 별도의 메모리에 두 객체가 저장</b>된다는 것입니다. "
      ]
    },
    {
      "cell_type": "markdown",
      "metadata": {
        "id": "JQtsHxaF-G4D"
      },
      "source": [
        "<img src=\"https://i.ibb.co/HDPzP9D/class-1.png\" width=\"400\" style=\"float:left\" />"
      ]
    },
    {
      "cell_type": "markdown",
      "metadata": {
        "id": "ProZOi1R-G4E"
      },
      "source": [
        "클래스에 정의된 메서드 (함수)는 객체를 통해 호출할 수 있습니다. 위 그림을 참고하면 변수1 객체에는 사회과학 클래스로부터 복사된 세 개의 함수가 정의돼 있습니다. 이를 호출하는 코드는 다음과 같습니다."
      ]
    },
    {
      "cell_type": "code",
      "execution_count": null,
      "metadata": {
        "id": "NkCT_5aX-G4E",
        "outputId": "982ec5b9-dd5f-4d21-e9ef-7e58ff725191"
      },
      "outputs": [
        {
          "name": "stdout",
          "output_type": "stream",
          "text": [
            "통계학\n",
            "경제학\n",
            "정치학\n"
          ]
        }
      ],
      "source": [
        "변수1 = 사회과학()\n",
        "\n",
        "사회과학.통계학(변수1)\n",
        "사회과학.경제학(변수1)\n",
        "사회과학.정치학(변수1)"
      ]
    },
    {
      "cell_type": "markdown",
      "metadata": {
        "id": "u42KzWFf-G4E"
      },
      "source": [
        "함수와 동일하게 메서드의 정의에 따라 메서드를 호출하는 방법이 다릅니다. "
      ]
    },
    {
      "cell_type": "code",
      "execution_count": null,
      "metadata": {
        "id": "qpLgX81a-G4E"
      },
      "outputs": [],
      "source": [
        "class 수업시간:\n",
        "    def 예제1(self):\n",
        "        return \"어려워요\"\n",
        "\n",
        "    def 예제2(self, 값):\n",
        "        print(\"입력:\", 값)"
      ]
    },
    {
      "cell_type": "code",
      "execution_count": null,
      "metadata": {
        "id": "PdAI4IFW-G4E",
        "outputId": "b17b6a05-f2c3-4d8a-c67f-9119e22e4020"
      },
      "outputs": [
        {
          "name": "stdout",
          "output_type": "stream",
          "text": [
            "어려워요\n",
            "입력: 10\n"
          ]
        }
      ],
      "source": [
        "\n",
        "\n",
        "\n"
      ]
    },
    {
      "cell_type": "markdown",
      "metadata": {
        "id": "H1n4b-8Q-G4E"
      },
      "source": [
        "###### 연습 문제 \n",
        "다음의 함수를 \"예의바른학생\"이라는 이름의 클래스로 정리해 봅시다."
      ]
    },
    {
      "cell_type": "code",
      "execution_count": 2,
      "metadata": {
        "id": "oV4heA2O-G4F"
      },
      "outputs": [],
      "source": [
        "class 예의바른학생:\n",
        "    def 첫인사(이름):\n",
        "        print(\"안녕하세요\")\n",
        "        print(\"반갑습니다\")\n",
        "        print(f\"내이름은 {이름}!\")\n",
        "    \n",
        "    \n",
        "    def 작별인사():\n",
        "        print(\"안녕히가세요\")\n",
        "        print(\"다음에 뵙겠습니다\")    "
      ]
    },
    {
      "cell_type": "code",
      "execution_count": null,
      "metadata": {
        "id": "bg4DuRx4-G4F"
      },
      "outputs": [],
      "source": [
        "\n",
        "\n"
      ]
    },
    {
      "cell_type": "markdown",
      "metadata": {
        "id": "BCo0n5iu-G4F"
      },
      "source": [
        "예의바른학생에 정의된 `첫인사`, `작별인사` 메서드를 호출하라."
      ]
    },
    {
      "cell_type": "code",
      "execution_count": 6,
      "metadata": {
        "colab": {
          "base_uri": "https://localhost:8080/"
        },
        "id": "_cDpDg58-G4F",
        "outputId": "227c2043-ec89-4fb9-df5c-c14cde72eb29"
      },
      "outputs": [
        {
          "output_type": "stream",
          "name": "stdout",
          "text": [
            "안녕하세요\n",
            "반갑습니다\n",
            "내이름은 무지!\n",
            "안녕히가세요\n",
            "다음에 뵙겠습니다\n"
          ]
        }
      ],
      "source": [
        "\n",
        "객체 = 예의바른학생()\n",
        "예의바른학생.첫인사(\"무지\")\n",
        "예의바른학생.작별인사()"
      ]
    },
    {
      "cell_type": "markdown",
      "metadata": {
        "id": "k5D42oCr-G4F"
      },
      "source": [
        "## self의 이해"
      ]
    },
    {
      "cell_type": "markdown",
      "metadata": {
        "id": "nIgRHVQ5-G4F"
      },
      "source": [
        "메서드에 추가하는 첫 번째 파라미터의 이름입니다. 변수처럼 `self` 대신 다른 이름을 넣어도 정상 동작합니다. "
      ]
    },
    {
      "cell_type": "code",
      "execution_count": null,
      "metadata": {
        "id": "ft245vzr-G4F",
        "outputId": "61d103fe-9130-4e7c-f22a-7524bb5073f4"
      },
      "outputs": [
        {
          "name": "stdout",
          "output_type": "stream",
          "text": [
            "통계학\n"
          ]
        }
      ],
      "source": [
        "class 사회과학:\n",
        "    def 통계학 (ㅇㅇㅇ):\n",
        "        print(\"통계학\")\n",
        "        \n",
        "객체 = 사회과학()\n",
        "사회과학.통계학(객체)"
      ]
    },
    {
      "cell_type": "markdown",
      "metadata": {
        "id": "shLQC836-G4F"
      },
      "source": [
        "하지만 관습적으로 `self`라는 키워드를 사용합니다. 함수의 정의만 보고 클래스 안의 함수인 것을 알아챌 수 있도록 우리도 `self`를 사용하는 것이죠."
      ]
    },
    {
      "cell_type": "markdown",
      "metadata": {
        "id": "XBwyrNnE-G4F"
      },
      "source": [
        "파이썬은 클래스에 정의된 메서드를 `객체.메서드()` 형태로 쉽게 사용할 수 있는 편의 기능을 제공합니다. "
      ]
    },
    {
      "cell_type": "code",
      "execution_count": null,
      "metadata": {
        "id": "B67SSOX_-G4F",
        "outputId": "0ac5ea13-6779-424e-8890-97d8a211e49b"
      },
      "outputs": [
        {
          "name": "stdout",
          "output_type": "stream",
          "text": [
            "통계학\n"
          ]
        }
      ],
      "source": [
        "객체 = 사회과학()\n",
        "객체.통계학()    # 사회과학.통계학(객체)와 동일한 동작"
      ]
    },
    {
      "cell_type": "markdown",
      "metadata": {
        "id": "xossk9r5-G4G"
      },
      "source": [
        "객체는 일반적으로 메모리를 가리키는 `변수`와 함께 `.` 그리고 `메서드 이름`을 나열합니다.   \n",
        "- `객체.메서드명()`"
      ]
    },
    {
      "cell_type": "markdown",
      "metadata": {
        "id": "PGPXSXmV-G4G"
      },
      "source": [
        "###### 연습 문제\n",
        "`예의바른학생` 클래스를 메서드 편의 기능을 활용해서 간단히 <span style=\"color:red\">호출</span>하라."
      ]
    },
    {
      "cell_type": "code",
      "execution_count": null,
      "metadata": {
        "id": "r9XHTumA-G4G"
      },
      "outputs": [],
      "source": [
        ""
      ]
    },
    {
      "cell_type": "markdown",
      "metadata": {
        "id": "euB_uOdp-G4G"
      },
      "source": [
        "## 인스턴스 변수"
      ]
    },
    {
      "cell_type": "markdown",
      "metadata": {
        "id": "C6splwJq-G4G"
      },
      "source": [
        "함수의 지역변수는 함수의 호출 종료와 함께 제거됩니다. "
      ]
    },
    {
      "cell_type": "code",
      "execution_count": 8,
      "metadata": {
        "colab": {
          "base_uri": "https://localhost:8080/",
          "height": 205
        },
        "id": "2rk69xuk-G4G",
        "outputId": "bc77e5ac-8a69-4a05-8c66-56df3aab7a97"
      },
      "outputs": [
        {
          "output_type": "error",
          "ename": "TypeError",
          "evalue": "ignored",
          "traceback": [
            "\u001b[0;31m---------------------------------------------------------------------------\u001b[0m",
            "\u001b[0;31mTypeError\u001b[0m                                 Traceback (most recent call last)",
            "\u001b[0;32m<ipython-input-8-a61d7198bfa1>\u001b[0m in \u001b[0;36m<module>\u001b[0;34m()\u001b[0m\n\u001b[1;32m      6\u001b[0m \u001b[0;34m\u001b[0m\u001b[0m\n\u001b[1;32m      7\u001b[0m \u001b[0m이름입력\u001b[0m\u001b[0;34m(\u001b[0m\u001b[0;34m\"유종훈\"\u001b[0m\u001b[0;34m)\u001b[0m\u001b[0;34m\u001b[0m\u001b[0;34m\u001b[0m\u001b[0m\n\u001b[0;32m----> 8\u001b[0;31m \u001b[0m출력하기\u001b[0m\u001b[0;34m(\u001b[0m\u001b[0;34m)\u001b[0m\u001b[0;34m\u001b[0m\u001b[0;34m\u001b[0m\u001b[0m\n\u001b[0m",
            "\u001b[0;31mTypeError\u001b[0m: 출력하기() missing 1 required positional argument: '이름'"
          ]
        }
      ],
      "source": [
        "def 이름입력(name):\n",
        "    이름 = name\n",
        "    \n",
        "def 출력하기():\n",
        "    print(이름)\n",
        "    \n",
        "이름입력(\"유종훈\")\n",
        "출력하기()"
      ]
    },
    {
      "cell_type": "code",
      "source": [
        "def A(x):\n",
        "    y = 10\n",
        "    z = y +x\n",
        "    return z\n",
        "\n",
        "val = 20\n",
        "A(20)"
      ],
      "metadata": {
        "colab": {
          "base_uri": "https://localhost:8080/"
        },
        "id": "c-AxXOylHDvF",
        "outputId": "05d71415-47fa-4a78-bd25-637fcc11ee9b"
      },
      "execution_count": 22,
      "outputs": [
        {
          "output_type": "execute_result",
          "data": {
            "text/plain": [
              "30"
            ]
          },
          "metadata": {},
          "execution_count": 22
        }
      ]
    },
    {
      "cell_type": "code",
      "source": [
        "class B:\n",
        "    def f(self,x):\n",
        "        y = 10\n",
        "        z = x+y\n",
        "        self.z = z\n",
        "        return z\n",
        "\n",
        "객체 = B()\n",
        "객체.f(10)"
      ],
      "metadata": {
        "colab": {
          "base_uri": "https://localhost:8080/"
        },
        "id": "dxKn_gi5ImL3",
        "outputId": "2f522db2-5797-495c-f91a-40f8f456d334"
      },
      "execution_count": 24,
      "outputs": [
        {
          "output_type": "execute_result",
          "data": {
            "text/plain": [
              "20"
            ]
          },
          "metadata": {},
          "execution_count": 24
        }
      ]
    },
    {
      "cell_type": "code",
      "source": [
        "class C:\n",
        "    def f(self,x):\n",
        "        y = 10\n",
        "        z = x+y\n",
        "        #self.z = z\n",
        "        return z\n",
        "\n",
        "객체 = C()\n",
        "객체.f(10)"
      ],
      "metadata": {
        "colab": {
          "base_uri": "https://localhost:8080/"
        },
        "id": "SHjq7VLWJUqm",
        "outputId": "414ddcee-96a2-4772-fc0b-f303b98870e7"
      },
      "execution_count": 25,
      "outputs": [
        {
          "output_type": "execute_result",
          "data": {
            "text/plain": [
              "20"
            ]
          },
          "metadata": {},
          "execution_count": 25
        }
      ]
    },
    {
      "cell_type": "markdown",
      "metadata": {
        "id": "6LJYvQFs-G4G"
      },
      "source": [
        "인스턴스의 함수 간에는 변수(값)을 공유할 수 있습니다. `self` 변수라고도 불리는데 `self.변수`와 같은 형태로 작성하면 일반 변수와 달리 그 값이 함수의 종료 이후에도 유지됩니다. "
      ]
    },
    {
      "cell_type": "code",
      "execution_count": 18,
      "metadata": {
        "colab": {
          "base_uri": "https://localhost:8080/"
        },
        "id": "CAl5T1vL-G4G",
        "outputId": "dcd553b6-5efd-4c35-d4f5-9feab5b30f3c"
      },
      "outputs": [
        {
          "output_type": "stream",
          "name": "stdout",
          "text": [
            "유종훈\n"
          ]
        }
      ],
      "source": [
        "class 사람:\n",
        "    def 이름입력 (self, 이름):\n",
        "        self.이름 = 이름\n",
        "\n",
        "    def 출력하기 (self):\n",
        "        print(self.이름)\n",
        "\n",
        "첫째 = 사람()\n",
        "첫째.이름입력(\"유종훈\")\n",
        "첫째.출력하기()"
      ]
    },
    {
      "cell_type": "markdown",
      "metadata": {
        "id": "6HViJ-v6-G4G"
      },
      "source": [
        "출력하기 메서드 안에서 `self.이름`은 `이름입력` 함수에서 저장한 값입니다. 클래스에서는 `self.이름`과 `이름` 두 가지는 변수명이 비슷하지만 전혀 특성이 다른 변수입니다. 만약 일반 변수 (self가 없는)에 값을 저장했다면 `이름입력` 함수가 종료되면서 제거되기 때문에, 출력하기에서 변수를 사용할 수 없습니다. "
      ]
    },
    {
      "cell_type": "code",
      "execution_count": 13,
      "metadata": {
        "colab": {
          "base_uri": "https://localhost:8080/"
        },
        "id": "Va3FRY5m-G4G",
        "outputId": "3ebdd473-0df5-4dfe-e4dc-e8bc5d11162b"
      },
      "outputs": [
        {
          "output_type": "stream",
          "name": "stdout",
          "text": [
            "유종훈\n"
          ]
        }
      ],
      "source": [
        "class 사람:\n",
        "    def 이름입력 (self, 이름):\n",
        "        self.너의이름은 = 이름\n",
        "\n",
        "    def 출력하기 (self):\n",
        "        print(self.너의이름은)\n",
        "\n",
        "첫째 = 사람()\n",
        "첫째.이름입력(\"유종훈\")\n",
        "첫째.출력하기()"
      ]
    },
    {
      "cell_type": "markdown",
      "metadata": {
        "id": "Y2wDx6S--G4G"
      },
      "source": [
        "그림과 함께 이해해 봅시다.   \n",
        "- 사람 객체를 생성하면 메모리 어딘가에 저장되고 첫재라는 이름표를 붙입니다. 첫째 안에는 이름하기(), 출력하기() 메서드가 복사됩니다. \n",
        "- `이름입력` 메서드를 호출하면 내부적으로 `self.이름` 변수에 `유종훈`이 저장됩니다. 인스턴스 변수를 사용하면 첫째가 저장된 메모리 공간에  이름을 추가적으로 저장합니다. \n",
        "- `출력하기` 메서드를 호출하면 `self.이름`을 가져와서 화면에 출력합니다. 이때 `self`는 메서드가 포함된 객체를 의미하여, `self.이름`은 현재 첫째의 메모리안에 있는 이름이라는 변수를 가리킵니다."
      ]
    },
    {
      "cell_type": "markdown",
      "metadata": {
        "id": "7aXzpUJd-G4G"
      },
      "source": [
        "<img src=\"https://i.ibb.co/SsjQHdd/class-2.png\" width=\"700\" style=\"float:left\" />"
      ]
    },
    {
      "cell_type": "markdown",
      "metadata": {
        "id": "pw4xNaVv-G4G"
      },
      "source": [
        "인스턴스에 저장된 변수는 객체를 사용해서도 가져올 수 있습니다. 첫째 객체 안에 있는 이름이라는 변수에 저장된 값을 가져오니 \"유종훈\" 이라는 문자열이 출력됩니다. "
      ]
    },
    {
      "cell_type": "code",
      "execution_count": null,
      "metadata": {
        "id": "hF5HoXiU-G4G"
      },
      "outputs": [],
      "source": [
        "class 사람:\n",
        "    def 이름입력 (self, 이름):\n",
        "        self.이름 = 이름\n",
        "\n",
        "    def 출력하기 (self):\n",
        "        print(self.이름)\n",
        "\n",
        "첫째 = 사람()\n",
        "첫째.이름입력(\"유종훈\")"
      ]
    },
    {
      "cell_type": "code",
      "execution_count": null,
      "metadata": {
        "id": "ZR7CHimN-G4G",
        "outputId": "e0ccc99d-ef21-473e-f931-a6ae97baf25b"
      },
      "outputs": [
        {
          "name": "stdout",
          "output_type": "stream",
          "text": [
            "유종훈\n"
          ]
        }
      ],
      "source": [
        "print(첫째.이름)"
      ]
    },
    {
      "cell_type": "markdown",
      "metadata": {
        "id": "7lHo_ghJ-G4H"
      },
      "source": [
        "객체의 외부에서 값을 저장 및 변경할 수 있습니다. "
      ]
    },
    {
      "cell_type": "code",
      "execution_count": null,
      "metadata": {
        "id": "boAY7Gqr-G4H"
      },
      "outputs": [],
      "source": [
        "print(첫째.이름)\n",
        "첫째.이름 = \"철수\"\n",
        "print(첫째.이름)"
      ]
    },
    {
      "cell_type": "markdown",
      "metadata": {
        "id": "CFWxhYAe-G4H"
      },
      "source": [
        "객체는 붕어빵찍듯이 여러 개를 생성할 수있습니다. 코드를 정리해서 재사용성을 높이기 위해서 함수와 클래스를 사용한다고 했었죠? 여기에서 클래스의 장점을 확인할 수 있습니다. "
      ]
    },
    {
      "cell_type": "code",
      "execution_count": null,
      "metadata": {
        "id": "i7TZ3n5m-G4H"
      },
      "outputs": [],
      "source": [
        "첫째 = 사람()\n",
        "첫째.이름입력(\"유종훈\")\n",
        "print(첫째.이름)\n",
        "\n",
        "둘째 = 사람()\n",
        "둘째.이름입력(\"유정현\")\n",
        "둘째.출력하기()"
      ]
    },
    {
      "cell_type": "markdown",
      "metadata": {
        "id": "-KPc79h5-G4H"
      },
      "source": [
        "메모리에서 이를 표현해 봅시다. 첫째와 둘째는 각각 독립적인 공간에 생성이되고 이를 각각의 변수가 가리킵니다. 첫째와 둘째 각각에 `이름입력`, `출력하기` 메서드가 복사됩니다. `이름입력` 메서드를 호출할 때 전달한 파라미터 값이 인스턴스가 저장된 공간에 저장됩니다. 중요한 점은 인턴스 간에는 서로 영향을 받지 않는다는 것입니다. "
      ]
    },
    {
      "cell_type": "markdown",
      "metadata": {
        "id": "cyY9NHAI-G4H"
      },
      "source": [
        "<img src=\"https://i.ibb.co/thvWjLv/class-3.png\" width=\"300\" style=\"float:left\" />"
      ]
    },
    {
      "cell_type": "markdown",
      "metadata": {
        "id": "utiiQFpt-G4H"
      },
      "source": [
        "## 초기화자 (Initializer)\n",
        "다음의 사람 클래스를 참고하면 클래스를 생성하는 코드가 반복됩니다. "
      ]
    },
    {
      "cell_type": "markdown",
      "metadata": {
        "id": "K0M_kRDx-G4H"
      },
      "source": [
        "```python\n",
        "엄마 = 사람()\n",
        "엄마.출생(\"이월순\", \"640423\", \"여\")\n",
        "엄마.정보출력()\n",
        "\n",
        "아빠 = 사람()\n",
        "아빠.출생(\"유희준\", \"590125\", \"남\")\n",
        "아빠.정보출력()\n",
        "```"
      ]
    },
    {
      "cell_type": "markdown",
      "metadata": {
        "id": "aJ-TCqrJ-G4H"
      },
      "source": [
        "초기화자를 사용하면 클래스를 생성할 때 값을 함께 입력할 수 있습니다. `__init__`이라는 이름을 갖는 메서드를 초기화자라고 부르는데 이는 특별한 기능을 갖습니다. 초기화자가 정의되면 파이썬 인터프리터는 객체가 생성될 때 자동으로 `__init__` 메서드를 호출해 줍니다. 아래의 코드에서 `__init__` 함수를 호출하지 않았지만 파이썬 인터프리터가 자동으로 호출하여 콘솔창에 \"자동호출됨\"이라는 문자열이 출력됩니다."
      ]
    },
    {
      "cell_type": "code",
      "execution_count": null,
      "metadata": {
        "id": "z4Y9u1s4-G4H",
        "outputId": "57202f7f-7a5d-4997-a0b1-2ba761897822"
      },
      "outputs": [
        {
          "name": "stdout",
          "output_type": "stream",
          "text": [
            "자동호출됨\n"
          ]
        },
        {
          "data": {
            "text/plain": [
              "<__main__.사람 at 0x2031ea96be0>"
            ]
          },
          "execution_count": 8,
          "metadata": {},
          "output_type": "execute_result"
        }
      ],
      "source": [
        "class 사람 :\n",
        "    def __init__(self):\n",
        "        print(\"자동호출됨\")\n",
        "        \n",
        "사람()"
      ]
    },
    {
      "cell_type": "markdown",
      "metadata": {
        "id": "-1D9YDrR-G4H"
      },
      "source": [
        "초기화자에 입력값을 추가하면 객체를 생성할 때 파라미터를 반드시 전달해야 합니다. `__init__` 메서드도 함수의 일종이기 때문에 사용 원리는 함수와 같습니다. "
      ]
    },
    {
      "cell_type": "code",
      "execution_count": null,
      "metadata": {
        "id": "IY90Gj4I-G4H"
      },
      "outputs": [],
      "source": [
        "class 사람 :\n",
        "    \n",
        "\n",
        "아빠 = 사람(\"유희준\")\n",
        "print(아빠.이름)"
      ]
    },
    {
      "cell_type": "markdown",
      "metadata": {
        "id": "6NV1uGxd-G4H"
      },
      "source": [
        "다음과 같이 두 개의 값을 입력받도록 정의하면 두 개의 파라미터를 전달해야 합니다. \n",
        "참고로 pass는 기능을 구현하지 않고 문법 에러를 회피하기 위해 사용하는 키워드입니다."
      ]
    },
    {
      "cell_type": "code",
      "execution_count": null,
      "metadata": {
        "id": "HUm9SEpI-G4H",
        "outputId": "69f571ab-20ca-4fa0-ae6e-c069b709ecdd"
      },
      "outputs": [
        {
          "data": {
            "text/plain": [
              "<__main__.사람 at 0x2031eae3040>"
            ]
          },
          "execution_count": 9,
          "metadata": {},
          "output_type": "execute_result"
        }
      ],
      "source": [
        "class 사람 :\n",
        "    def __init__(self, 이름, 나이):\n",
        "        pass\n",
        "\n",
        "사람(\"유희준\", 60)"
      ]
    }
  ],
  "metadata": {
    "kernelspec": {
      "display_name": "Python 3",
      "language": "python",
      "name": "python3"
    },
    "language_info": {
      "codemirror_mode": {
        "name": "ipython",
        "version": 3
      },
      "file_extension": ".py",
      "mimetype": "text/x-python",
      "name": "python",
      "nbconvert_exporter": "python",
      "pygments_lexer": "ipython3",
      "version": "3.8.8"
    },
    "toc": {
      "base_numbering": 1,
      "nav_menu": {},
      "number_sections": true,
      "sideBar": true,
      "skip_h1_title": false,
      "title_cell": "Table of Contents",
      "title_sidebar": "Contents",
      "toc_cell": false,
      "toc_position": {
        "height": "calc(100% - 180px)",
        "left": "10px",
        "top": "150px",
        "width": "165px"
      },
      "toc_section_display": true,
      "toc_window_display": true
    },
    "colab": {
      "name": "1.클래스.ipynb",
      "provenance": [],
      "include_colab_link": true
    }
  },
  "nbformat": 4,
  "nbformat_minor": 0
}