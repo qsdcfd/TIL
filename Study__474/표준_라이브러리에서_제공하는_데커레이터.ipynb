{
  "nbformat": 4,
  "nbformat_minor": 0,
  "metadata": {
    "colab": {
      "provenance": [],
      "authorship_tag": "ABX9TyPTkmvIgGl4uhKaoMwKYPeg"
    },
    "kernelspec": {
      "name": "python3",
      "display_name": "Python 3"
    },
    "language_info": {
      "name": "python"
    }
  },
  "cells": [
    {
      "cell_type": "markdown",
      "source": [
        "# 객체로서의 함수\n",
        "## 함수 데커레이터와 클로저\n",
        "### 표준 라이브러리에서 제공하는 데커레이터\n",
        "\n",
        ">파이썬에서 데커레이터하기 위한 것은 property(), classmethod(), statoc,etjpd)를 제공한다.\n",
        "이 중 자주 보는 것은 functools.warps()로, 제대로 작동하는 데커레이터를 만들기 위한 헬퍼이다.\n",
        "\n",
        "<br>\n",
        "\n",
        "#### functools.lru_cache()를 이용한 메모이제이션\n",
        "\n",
        ">functools.lru_cache()는 실제로 쓸모가 많은 데커레이터로, 메모이제이션을 구현하고, 이전에 실행한 값비싼 함수의 결과를 저장함으로써 이전에 사용된 인수에 대해 다시 꼐산할 필요가 없게 해준다.\n",
        "\n",
        "```\n",
        "#fibo_demo.py: 피보나치 수열에서 n번째 숫자를 아주 값비싸게 계산하는 방식\n",
        "\n",
        "from clockdeco import clock\n",
        "@clock\n",
        "def fibonacci(n):\n",
        "\tif n < 2:\n",
        "    \treturn n\n",
        "    return fibonacci(n-2) + fibonacci(n-1)\n",
        "   \n",
        "if __name__ =='__main__':\n",
        "\tprint(fibonacci(6))\n",
        "```\n",
        "\n",
        "```\n",
        "#캐시로 이용한 빠른 구현\n",
        "\n",
        "import functools:\n",
        "\n",
        "from clockdeco import clock\n",
        "@functools.lru_cache()\n",
        "\n",
        "@clock\n",
        "def fibonacci(n):\n",
        "\tif n <2:\n",
        "    \treturn n\n",
        "    return fibonacci(n-2) + fibonacci(n-1)\n",
        "    \n",
        "if __name__ == '__main__':\n",
        "\tprint(fibonacci(6))\n",
        "    \n",
        "#시그니처\n",
        "\n",
        "functools.lru_cache)maxsize=128, typed=False)\n",
        "```\n"
      ],
      "metadata": {
        "id": "i8Q9Qi7AJmCM"
      }
    },
    {
      "cell_type": "code",
      "source": [],
      "metadata": {
        "id": "JYPEnn4lJmWU"
      },
      "execution_count": null,
      "outputs": []
    }
  ]
}