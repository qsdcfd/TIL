{
  "nbformat": 4,
  "nbformat_minor": 0,
  "metadata": {
    "colab": {
      "provenance": [],
      "authorship_tag": "ABX9TyOM819H1UMAstCDYYXDdvld"
    },
    "kernelspec": {
      "name": "python3",
      "display_name": "Python 3"
    },
    "language_info": {
      "name": "python"
    }
  },
  "cells": [
    {
      "cell_type": "markdown",
      "source": [
        "# 객체로서의 함수\n",
        "## 데커레이터와 클로저\n",
        "### 누적된 데커레이터\n",
        "\n",
        ">@clock이 적용된 fabonacci()에 다시 @lru_cache가 적영되었고, 모듈의 마지막 함수에 @htmlize.register 데커레이터가 두 번 적영되었다.\n",
        "\n",
        "\n",
        "```\n",
        "# 두 데커레이터 @d1과 @d2를 차례대로 적용하기\n",
        "#결과 f = d1(d2(f))와 동일하다\n",
        "\n",
        "@d1\n",
        "@d2\n",
        "def f():\n",
        "\tprint('f')\n",
        "    \n",
        "#동일 코드\n",
        "\n",
        "def f():\n",
        "\tprint('f')\n",
        "\n",
        "f = d1(d2(f))\n",
        "```"
      ],
      "metadata": {
        "id": "wHybFR4WZH07"
      }
    },
    {
      "cell_type": "code",
      "source": [],
      "metadata": {
        "id": "3DwbMrbmZICB"
      },
      "execution_count": null,
      "outputs": []
    }
  ]
}