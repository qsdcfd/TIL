{
  "nbformat": 4,
  "nbformat_minor": 0,
  "metadata": {
    "colab": {
      "provenance": [],
      "authorship_tag": "ABX9TyNulIlpHVxCwDfYaLsGb29K"
    },
    "kernelspec": {
      "name": "python3",
      "display_name": "Python 3"
    },
    "language_info": {
      "name": "python"
    }
  },
  "cells": [
    {
      "cell_type": "markdown",
      "source": [
        "# 객체지향 상용구\n",
        "## 파이썬스러운 객체\n",
        "### 해시 가능한 Vector2d\n",
        "\n",
        ">Vector2d를 해시 가능하게 만들려면 __hash__() 메서드를 구현해야 하므로 불변형으로 만들어야 한다.\n",
        "\n",
        "```\n",
        "#Vector2d_v3.py: 불변형으로 만드는 코드만 보여줌\n",
        "\n",
        "class Vector2d:\n",
        "\ttypecode = 'd'\n",
        "    \n",
        "    def __init__(self,x,y):\n",
        "    \tself.__x = float(x)\n",
        "        self.__y = float(y)\n",
        "        \n",
        "    @property\n",
        "    def x(self):\n",
        "    \treturn self.__x\n",
        "        \n",
        "    @property\n",
        "    def y(self):\n",
        "    \treturn self.__y\n",
        "        \n",
        "    def __iter__(self):\n",
        "    \treturn (i for i in (self.x, self.y))\n",
        "```\n",
        "\n",
        "<br>\n",
        "\n",
        ">불변형으로 만들었으니, __hash__() 메서드를 구현할 차례로, __hash__() 메서드는 int형을 반환해야합니다.\n",
        "동일하다고 판단되는 객체는 동일한 해시 값을 가져야 하므로 __eq__() 메서드가 사용하는 객체의 속성을 이용해서 해식를 계산해야 한다.\n",
        "\n",
        "```\n",
        "#Vector2d 클래스 내부\n",
        "\n",
        "def __hash__(self):\n",
        "\treturn hash(self.x)^hash(self.y)\n",
        "```\n",
        "\n",
        "<br>\n",
        "\n",
        ">적절한 스칼라 값을 가진  자료형을 만들 때는 경우에 따라 자료혀응ㄹ 강제 변환하기 위해 사용되는 int()와 float가 호출하는 __int__()와 __float__() 메서드를 구현하는 것도 좋고, 내장된 complex() 생성자를 지원하기 위한 __complex__() 메서드도 있고, Vector2d도 __complex__() 메서드를 구현해야 하기도 한다.\n",
        "\n",
        "<br>\n",
        "\n",
        "```\n",
        "#vector2d_v3.py: 전체 코드\n",
        "\n",
        "from array import array\n",
        "import math\n",
        "\n",
        "class Vector2d:\n",
        "\ttypecode='d'\n",
        "    \n",
        "    def __init__(self,x,y):\n",
        "    \tself.__x = float(x)\n",
        "        self.__y = float(y)\n",
        "        \n",
        "    @property\n",
        "    def x(self):\n",
        "    \treturn self.__x\n",
        "        \n",
        "    @property\n",
        "    def y(self):\n",
        "    \treturn self.__y\n",
        "        \n",
        "    def __iter__(self):\n",
        "    \treturn (i for i in (self.x , self.y))\n",
        "        \n",
        "    def __repr__(self):\n",
        "    \tclass_name = type(self).__name__\n",
        "        return '{}({!r}, {!r})'.format(class_name, *self)\n",
        "        \n",
        "    def __str__(self):\n",
        "    \treturn str(tuple(self))\n",
        "        \n",
        "    \n",
        "    def __bytes__(self):\n",
        "    \treturn (bytes([ord(self.typecode)]) +\n",
        "        \t\tbytes(array(self.typecode, self)))\n",
        "                \n",
        "```"
      ],
      "metadata": {
        "id": "I4ya3ptV5Ubz"
      }
    },
    {
      "cell_type": "code",
      "source": [],
      "metadata": {
        "id": "0dldaMd95U00"
      },
      "execution_count": null,
      "outputs": []
    }
  ]
}