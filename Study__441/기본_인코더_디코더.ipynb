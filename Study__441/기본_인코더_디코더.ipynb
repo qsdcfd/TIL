{
  "nbformat": 4,
  "nbformat_minor": 0,
  "metadata": {
    "colab": {
      "provenance": [],
      "authorship_tag": "ABX9TyOA+gYaJtvGPFKBlGLVo3q/"
    },
    "kernelspec": {
      "name": "python3",
      "display_name": "Python 3"
    },
    "language_info": {
      "name": "python"
    }
  },
  "cells": [
    {
      "cell_type": "markdown",
      "source": [
        "# 텍스트와 바이트\n",
        "\n",
        "## 기본 인코더/디코더\n",
        "\n",
        ">텍스트를 바이트로 혹은 바이트를 텍스트로 변환하기 위해 파이썬 배포본에는 100여 개의 코덱(인코더/디코더)이 포함되어 있다. 코텍은 open(), str.encode(), bytes.encode() 등의  함수를 호출할 때 encoding인수에 전달해서 사용할 수 있다.\n",
        "\n",
        "```\n",
        "#전혀 다른 바이트 시퀀스를 만드는 세 개의 코덱으로 인코딩한 문자열\n",
        "\n",
        "for codec in ['latin_1', 'utf_8', 'utf_16']:\n",
        "\tprint(codec, 'El Nino'.encode(codec), sep='\\t')\n",
        "```\n",
        "\n",
        "![](https://velog.velcdn.com/images/qsdcfd/post/80fc8390-dda8-4848-83ff-522d9b6c870a/image.png)\n",
        "\n",
        "<br>\n",
        "\n",
        "**latin1(iso8859_1)**\n",
        "\n",
        ">cp1252와 같은 다른 인코딩 방식 및 유니코드 자체의 기반이 되는 중요한 인코딩 방식이다.\n",
        "\n",
        "**cp1252**\n",
        "\n",
        ">마이크로소프트에서 둥근 따옴표 및 유로화 기호등을 추가해서 latin1을 확장하는 것이다.\n",
        "\n",
        "**cp437**\n",
        "\n",
        ">상자를 그리기 위한 문자를 포함해서 IBM PC에서 사용하는 문자셋이고 나중에 등장한 latin1과 호환되지 않는다.\n",
        "\n",
        "**gb2312**\n",
        "\n",
        ">중국 본토에서 사용하는 간체를 인코딩하기 위한 레거시 표준이고, 아시아 언어를 위해 널리 사용되던 다중바이트 인코딩 방식 중 하나다.\n",
        "\n",
        "**utf-8**\n",
        "\n",
        ">웹에서 8비트 인코딩을 하기 위해서 가장 널리 사용되는 인코딩 방식으로, 아스키코드와 하위 호환된다.\n",
        "\n",
        "**utf-16le**\n",
        "\n",
        ">16비트 인코딩 체게인 UTF-16의 한 형태다.\n"
      ],
      "metadata": {
        "id": "3Jm3SEkAXa97"
      }
    },
    {
      "cell_type": "code",
      "source": [],
      "metadata": {
        "id": "_QWmsTPRXbNo"
      },
      "execution_count": null,
      "outputs": []
    }
  ]
}