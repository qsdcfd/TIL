{
 "cells": [
  {
   "cell_type": "markdown",
   "id": "relevant-gender",
   "metadata": {},
   "source": [
    "# 실습 순서\n",
    "\n",
    "STEP1. 아이디어 개요\n",
    " \n",
    " 비슷한 이미지만 골라서 화면에 표시하기.\n",
    "\n",
    "<이용할 것들>\n",
    "\n",
    "cv2.calcHist():히스토그램 만들어주는 함수\n",
    "\n",
    "cv2.compareHist(): 히스토그램끼리의 유사성 계산\n",
    "\n",
    "sys.argv:이밎 파일 경로 명령줄에서 입력\n",
    "\n",
    "<pre-code>\n",
    "    i)프로그램 실행\n",
    "    \n",
    "    ii)이미지 파일 부르기\n",
    "    \n",
    "    iii)비슷한 이미지 5개 선정 후 표시\n",
    "    iv)끝\n",
    "    \n",
    "    \n",
    "STEP2. 아이디어 구체화\n",
    "    \n",
    "    pre-code의 iii\n",
    " -유사도를 통해서 순서매김 -> 순서상 상위 5개 고르기\n",
    "    \n",
    "STEP3. 핵심 알고리즘-유사도 계산방법\n",
    "    \n",
    "    -히스토그램으로 비교\n",
    "    -Open CV기능 이용(compareHist()함수)\n",
    "    \n",
    "STEP4.기능의 모듈화\n",
    "    \n",
    "    build_histogram_db() : 검색대상 이미지를 부르고 \n",
    "    히스토그램화(검색 대상:CIFAR-100이미지)\n",
    "\n",
    "    search(): 유사도 계산 및 정렬에 필요\n",
    "\n",
    "STEP5.설계과정 완성\n",
    "    \n",
    "각 함수에 입력되고 반환될ㄹ 데이터의 형태와 변수명지정\n",
    "    \n",
    "    1. histogram_db{키 : 이미지 이름, 값: 히스토그램}\n",
    "    2, 선택된 이미지는 입력 이미지로 선택함\n",
    "    3, 이때, 변수명은 target_histogram\n",
    "    4. compareHist()함수를 통해 유사도 계산\n",
    "    5. 결과: result{키: 이미지 이름, 값: 유사도}\n",
    "    6. 정렬\n",
    "    7. 상위 5개 선택 후 result에 남기기\n",
    "    \n",
    "STEP6. 코드 구현"
   ]
  },
  {
   "cell_type": "code",
   "execution_count": null,
   "id": "official-heather",
   "metadata": {},
   "outputs": [],
   "source": [
    "\n",
    "def get_histogram(image):\n",
    "    histogram = []\n",
    "\n",
    "    # Create histograms per channels, in 4 bins each.\n",
    "    for i in range(3):\n",
    "        channel_histogram = cv2.calcHist(images=[image],\n",
    "                                         channels=[i],\n",
    "                                         mask=None,\n",
    "                                         histSize=[4],  # 히스토그램 구간을 4개로 한다.\n",
    "                                         ranges=[0, 256])\n",
    "        histogram.append(channel_histogram)  \n",
    "\n",
    "    histogram = np.concatenate(histogram)\n",
    "    histogram = cv2.normalize(histogram, histogram)\n",
    "\n",
    "    return histogram"
   ]
  },
  {
   "cell_type": "code",
   "execution_count": null,
   "id": "injured-mineral",
   "metadata": {},
   "outputs": [],
   "source": [
    "# get_histogram() 확인용 코드\n",
    "filename = train[b'filenames'][0].decode()\n",
    "file_path = os.path.join(images_dir_path, filename)\n",
    "image = cv2.imread(file_path)\n",
    "histogram = get_histogram(image)\n",
    "histogram"
   ]
  },
  {
   "cell_type": "code",
   "execution_count": null,
   "id": "serious-council",
   "metadata": {},
   "outputs": [],
   "source": [
    "def build_histogram_db():\n",
    "    histogram_db = {}\n",
    "\n",
    "    #디렉토리에 모아 둔 이미지 파일들을 전부 리스트업합니다. \n",
    "    path = images_dir_path\n",
    "    file_list = os.listdir(images_dir_path)\n",
    "\n",
    "    for file_name in tqdm(file_list):\n",
    "        file_path = os.path.join(images_dir_path, file_name)\n",
    "        image = cv2.imread(file_path)\n",
    "\n",
    "        histogram = get_histogram(image)\n",
    "\n",
    "        histogram_db[file_name] = histogram\n",
    "\n",
    "    return histogram_db\n"
   ]
  },
  {
   "cell_type": "code",
   "execution_count": null,
   "id": "superior-patch",
   "metadata": {},
   "outputs": [],
   "source": [
    "histogram_db = build_histogram_db()\n",
    "histogram_db['adriatic_s_001807.png']"
   ]
  },
  {
   "cell_type": "code",
   "execution_count": null,
   "id": "contemporary-greeting",
   "metadata": {},
   "outputs": [],
   "source": [
    "def get_target_histogram():\n",
    "    filename = input(\"이미지 파일명을 입력하세요: \")\n",
    "    if filename not in histogram_db:\n",
    "        print('유효하지 않은 이미지 파일명입니다.')\n",
    "        return None\n",
    "    return histogram_db[filename]"
   ]
  },
  {
   "cell_type": "code",
   "execution_count": null,
   "id": "handmade-headquarters",
   "metadata": {},
   "outputs": [],
   "source": [
    "target_histogram = get_target_histogram()\n",
    "target_histogram"
   ]
  },
  {
   "cell_type": "code",
   "execution_count": null,
   "id": "emerging-constitutional",
   "metadata": {},
   "outputs": [],
   "source": [
    "def search(histogram_db, target_histogram, top_k=5):\n",
    "    results = {}\n",
    "\n",
    "    # Calculate similarity distance by comparing histograms.\n",
    "    for file_name, histogram in tqdm(histogram_db.items()):\n",
    "        distance = cv2.compareHist(H1=target_histogram,\n",
    "                                   H2=histogram,\n",
    "                                   method=cv2.HISTCMP_CHISQR)\n",
    "\n",
    "        results[file_name] = distance\n",
    "\n",
    "    results = dict(sorted(results.items(), key=lambda item: item[1])[:top_k])\n",
    "\n",
    "    return results\n"
   ]
  },
  {
   "cell_type": "code",
   "execution_count": null,
   "id": "sonic-tribune",
   "metadata": {},
   "outputs": [],
   "source": [
    "result = search(histogram_db, target_histogram)\n",
    "result"
   ]
  },
  {
   "cell_type": "code",
   "execution_count": null,
   "id": "bronze-polymer",
   "metadata": {},
   "outputs": [],
   "source": [
    "def show_result(result):\n",
    "    f=plt.figure(figsize=(10,3))\n",
    "    for idx, filename in enumerate(result.keys()):    \n",
    "        img_path = os.path.join(images_dir_path, filename)\n",
    "        im = f.add_subplot(1,len(result),idx+1)\n",
    "        img = Image.open(img_path)\n",
    "        im.imshow(img)\n"
   ]
  },
  {
   "cell_type": "code",
   "execution_count": null,
   "id": "sublime-limitation",
   "metadata": {},
   "outputs": [],
   "source": [
    "show_result(result)"
   ]
  },
  {
   "cell_type": "code",
   "execution_count": null,
   "id": "facial-fairy",
   "metadata": {},
   "outputs": [],
   "source": [
    "target_histogram = get_target_histogram()\n",
    "result = search(histogram_db, target_histogram)\n",
    "show_result(result)"
   ]
  }
 ],
 "metadata": {
  "kernelspec": {
   "display_name": "Python 3",
   "language": "python",
   "name": "python3"
  },
  "language_info": {
   "codemirror_mode": {
    "name": "ipython",
    "version": 3
   },
   "file_extension": ".py",
   "mimetype": "text/x-python",
   "name": "python",
   "nbconvert_exporter": "python",
   "pygments_lexer": "ipython3",
   "version": "3.7.9"
  }
 },
 "nbformat": 4,
 "nbformat_minor": 5
}
