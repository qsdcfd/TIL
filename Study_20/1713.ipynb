{
 "cells": [
  {
   "cell_type": "code",
   "execution_count": null,
   "id": "fatal-branch",
   "metadata": {},
   "outputs": [],
   "source": [
    "import sys\n",
    "input = sys.stdin.readline\n",
    "\n",
    "N = int(input())\n",
    "W = int(input())\n",
    "num = list(map(int, input().split(\" \")))\n",
    "\n",
    "photo = dict()\n",
    "for i in range(W) :\n",
    "    if num[i] in photo :\n",
    "        photo[num[i]][0] += 1\n",
    "    else : \n",
    "        if len(photo) < N :\n",
    "            photo[num[i]] = [1, i]\n",
    "        else :\n",
    "            del_list = sorted(photo.items(), key= lambda x : (x[1][0] , x[1][1]) )\n",
    "            del_key = del_list[0][0]\n",
    "            del(photo[del_key])\n",
    "            photo[num[i]] = [1, i]\n",
    "\n",
    "ans_list = list(sorted(photo.keys()))\n",
    "answer = str(ans_list[0])\n",
    "for i in ans_list[1: ] :\n",
    "    answer += \" \" + str(i)\n",
    "print(answer)"
   ]
  }
 ],
 "metadata": {
  "kernelspec": {
   "display_name": "Python 3",
   "language": "python",
   "name": "python3"
  },
  "language_info": {
   "codemirror_mode": {
    "name": "ipython",
    "version": 3
   },
   "file_extension": ".py",
   "mimetype": "text/x-python",
   "name": "python",
   "nbconvert_exporter": "python",
   "pygments_lexer": "ipython3",
   "version": "3.7.9"
  }
 },
 "nbformat": 4,
 "nbformat_minor": 5
}
