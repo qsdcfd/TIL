{
  "nbformat": 4,
  "nbformat_minor": 0,
  "metadata": {
    "colab": {
      "provenance": [],
      "authorship_tag": "ABX9TyO0KaaHLgYAhintt08ENm7R"
    },
    "kernelspec": {
      "name": "python3",
      "display_name": "Python 3"
    },
    "language_info": {
      "name": "python"
    }
  },
  "cells": [
    {
      "cell_type": "markdown",
      "source": [
        "# 객체지향 상용구\n",
        "## 객체 참조, 가변성, 재활용\n",
        "### 파이썬의 특이한 불변형 처리법\n",
        "\n",
        "튜플 t에 대해 t[:]가 사본을 생성하지않고 그 객체에 대한 참조를 반환한다는 사실로, tuple(t)로 작성하더라도 튜플 t에 대한 참조가 반환된다.\n",
        "\n",
        "```\n",
        "t1 = (1,2,3)\n",
        "t2 = tuple(t1)\n",
        "t2 is t1 #True\n",
        "t3 = t1[:]\n",
        "t3 is t1 #True\n",
        "```\n",
        "\n",
        ">str,bytes, frozenset 객체에서도 동일한 동작으로 frozenset이 시퀀스가 아니므로 frozenset 형인 fs에 대해 fs[:]는 작동하지 않지만, fs.copy()는 동일하게 작동하므로 fs.copy()는 사본이 아니라 동일 객체에 대한 참조를 반환한다.\n",
        "\n",
        "```\n",
        "#스트링 리터러은 공유 객체를 생성하기도 한다.\n",
        "\n",
        "\n",
        "t1 = (1,2,3)\n",
        "t3 = (1,2,3)\n",
        "\n",
        "t3 is t1 #False\n",
        "s1 ='ABC'\n",
        "s2 = 'ABC'\n",
        "s2 is s1 #True\n",
        "```\n",
        "\n",
        "<br>\n",
        "\n",
        ">문자열 리터럴을 공유하는 최적화 기법을 인터닝이라고 하는데 CPython 에선 0,-1,42등 인기있는 숫자를 불필요하게 중복하지 않도록 작은 정수에도 동일한 기법을 사용하고, CPython이 모든 문자열이나 정수를 인터닝하는 것은 아니며, 인터닝 기준은 구현 특징으로서 문서화 되어있지 않다. <br>\n",
        "frozenset.copy()의 작동 등 이 절에서 설명한 기법은 '선의의 거짓말'로서, 메모리 사용량을 줄이고 인터프리터가 더 빨리 실행되게 하므로 이런 특성에 대해 너무 신경 쓸 필요는 없다. 불변형에만 적용되므로 아무런 문제도 생기지 않는다."
      ],
      "metadata": {
        "id": "ewTeVYNsK5aN"
      }
    },
    {
      "cell_type": "code",
      "source": [],
      "metadata": {
        "id": "OruYY0nnK5tH"
      },
      "execution_count": null,
      "outputs": []
    }
  ]
}