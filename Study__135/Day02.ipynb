{
 "cells": [
  {
   "cell_type": "markdown",
   "id": "constant-falls",
   "metadata": {},
   "source": [
    "## 오늘 한 일\n",
    "\n",
    "해커톤 개요서를 19(수)까지 완료하기 위해 coggle와 회의를 바탕으로 작성을 하였고 그러던 와중에 해커톤 진행 방식에 대해서 정립이 된 것 같아서 좋았다.\n",
    "\n",
    "사실 해커톤이 시작은 되었고 방식에 대해서도 얼추 감은 잡혔지만 뭔가 배에 돛대가 없는 허전한 느낌이 들었는데 담당 퍼실님께 질문을 통해서 해결했습니다.\n",
    "\n",
    "허전한 부분은 바로 데이터에 대한 활용도이었던 것 같습니다. 현재 기업에서 데이터를 받았기에 그 기업이 원하는 것에 맞춰서 해야하는지 아니면 원하는 목표와 스텝을 잡아서 활용해도 되는 건지에 대한 갈팡질팡이 있었습니다.\n",
    "\n",
    "결론적으로, 저희의 자율성을 더 보장해준 기업에 감사합니다.\n",
    "\n",
    "무튼, 이러한 상황에서 보고서들이 작성되고 개발 목표~ 모델 및 데이터 선정까지 나름 수월하게 되고 있는 것 같아 좋습니다.\n",
    "\n",
    "아직, 협업 툴에 대한 이해도가 낮지만 그것은 공부를 통해서 극복을 해야하고 아직 2일 차라서 그런지 프로젝트의 방향성과 뼈대에 초점을 두고 있고 시간이 지나면 세부사항까지 의논할 것 같은 기대가 되어 원하는 결과가 나올 것 같습니다."
   ]
  },
  {
   "cell_type": "code",
   "execution_count": null,
   "id": "nuclear-treasure",
   "metadata": {},
   "outputs": [],
   "source": []
  }
 ],
 "metadata": {
  "kernelspec": {
   "display_name": "Python 3",
   "language": "python",
   "name": "python3"
  },
  "language_info": {
   "codemirror_mode": {
    "name": "ipython",
    "version": 3
   },
   "file_extension": ".py",
   "mimetype": "text/x-python",
   "name": "python",
   "nbconvert_exporter": "python",
   "pygments_lexer": "ipython3",
   "version": "3.7.9"
  }
 },
 "nbformat": 4,
 "nbformat_minor": 5
}
