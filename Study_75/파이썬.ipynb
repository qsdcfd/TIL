{
 "cells": [
  {
   "cell_type": "markdown",
   "id": "appropriate-colony",
   "metadata": {},
   "source": [
    "## 파이썬 문법\n",
    "\n",
    "### 인덴트\n",
    "\n",
    "공백 4칸 들여쓰기 원칙으로 파라미터가 시작되는 부분을 보기 좋게 하거나 여러 줄 나눠쓸 경우에도 사용한다.\n",
    "\n",
    "### 네이밍 컨벤션\n",
    "\n",
    "각 단어를 밑줄( _ ) 로 구분하여 표기하는 스네이크 케이스 따른다. 소문자로 문자를 작성한다.\n",
    "\n",
    "\n"
   ]
  },
  {
   "cell_type": "code",
   "execution_count": null,
   "id": "harmful-collins",
   "metadata": {},
   "outputs": [],
   "source": [
    "#파라미터 시작 부분\n",
    "def long_function_name( \n",
    "    var_one, var_two, var_ three, \n",
    "    var_fo ur ) : \n",
    "print(var_one ) "
   ]
  },
  {
   "cell_type": "code",
   "execution_count": null,
   "id": "invalid-infrastructure",
   "metadata": {},
   "outputs": [],
   "source": [
    "# 여러 줄 나눠쓰기\n",
    "foo=long_function_name( \n",
    "    var_one, var_two, \n",
    "    var_ three, var_ four)\n",
    "\n"
   ]
  },
  {
   "cell_type": "markdown",
   "id": "trained-simple",
   "metadata": {},
   "source": [
    "### 타입 힌트\n",
    "\n",
    "타입을 지정할 수 있는 타입 힌트가 있다"
   ]
  },
  {
   "cell_type": "code",
   "execution_count": null,
   "id": "further-reverse",
   "metadata": {},
   "outputs": [],
   "source": [
    "#타입힌트\n",
    "# 파라미터 a가 정확히 정수형이라는 것을 알 수 있다\n",
    "# 리턴 값으로 True or False를 리턴할 것이다\n",
    "def fn( a : i.nt ) -> bool : "
   ]
  },
  {
   "cell_type": "markdown",
   "id": "answering-pearl",
   "metadata": {},
   "source": [
    "### 리스트 컴프리헨션\n",
    "\n",
    "리스트 컴프리헨션은 기존 리스트를 기반으로 새로운 리스트를 만들어내는 구문으로 map,filter와 같은 함수형 기능을 지원하고 람다 표현식도 지원한다.게다가 딕셔너리 등도 가능하도록 추가했다."
   ]
  },
  {
   "cell_type": "code",
   "execution_count": null,
   "id": "judicial-lexington",
   "metadata": {},
   "outputs": [],
   "source": [
    "# 리스트 컴프리헨션\n",
    "\n",
    "l i.st (map(lambda x: x + 10, (1, 2, 3] )) #[11,12,13]\n",
    "        \n",
    "[ n * 2 for n in range( 1, 10 + 1 ) i.f n %  2 == 1 ] #[2,6,10,14,18]\n",
    "        \n",
    "    \n",
    " a = {key: value for key, value in original.items( )}    "
   ]
  },
  {
   "cell_type": "markdown",
   "id": "primary-financing",
   "metadata": {},
   "source": [
    "### 제너레이터\n",
    "\n",
    "루프의 반복 동작을 제어할 수 있는 루틴형태이다. yield는 제너레이터가 실행 중이던 값을 내보낸다는 것으로 중간값을 리턴한 후에 다음 함수는 종료되지 않고 계속해서 맨 끝에 도달할 때까지 실행하므로 구문을 사용하면 제너레이터를 리턴할 수 있다.\n",
    "\n",
    "\n",
    "여러 타입의 값의 하나의 함수에서 생성이 가능하다"
   ]
  },
  {
   "cell_type": "code",
   "execution_count": null,
   "id": "cultural-think",
   "metadata": {},
   "outputs": [],
   "source": [
    "# yield 와 제너레이터\n",
    "\n",
    "def get _natural_number( ): \n",
    "    n = O \n",
    "    whi.le True: \n",
    "        n += 1 \n",
    "        yield n \n",
    "        \n",
    "    \n",
    "get _nat ural_number( ) \n",
    "<generat or obj ect get _nat ural_number at 0x10d3139d0>\n",
    "\n",
    "g = get _natural_number( ) \n",
    "for _ in range( 0 , 100 ) : \n",
    "    print( next( g ) ) # 1~100까지 출력\n",
    "    \n"
   ]
  },
  {
   "cell_type": "code",
   "execution_count": null,
   "id": "danish-basin",
   "metadata": {},
   "outputs": [],
   "source": [
    "# 여러 타입의 값을 하나의 함수로 생성\n",
    "\n",
    "def generator( ): \n",
    "    yield 1 \n",
    "    \n",
    "    yield 'string' \n",
    "\n",
    "    yield True \n",
    "g = generator( ) \n",
    "g \n",
    "<generat or obj ect generat or at 0x10a47c678> \n",
    "next(g) \n",
    "1 \n",
    "next(g) \n",
    "'string' \n",
    "next(g) \n",
    "True     "
   ]
  },
  {
   "cell_type": "markdown",
   "id": "conditional-assist",
   "metadata": {},
   "source": [
    "### range\n",
    "\n",
    "제너레이터의 방식을 활용하는 대표함수로 for문에서 잘 쓰입니다. for문에서 사용할 경우 내부적으로 다음 숫자를 생성해낸다. 메모리 점유율에서 확실한 이점을 가질 수 있다.\n",
    "\n"
   ]
  },
  {
   "cell_type": "code",
   "execution_count": null,
   "id": "relative-preparation",
   "metadata": {},
   "outputs": [],
   "source": [
    "list(range(5)) # [0, 1, 2, 3, 4] \n",
    "\n",
    "range(5) # range(0, 5) \n",
    "\n",
    "type(range(5)) # <class 'ran ge'> \n",
    "\n",
    "for i in range(0, 5):\n",
    "    \n",
    "    print(i,end=' ')  # 0 1 2 3 4 "
   ]
  },
  {
   "cell_type": "markdown",
   "id": "paperback-sessions",
   "metadata": {},
   "source": [
    "### enumerate\n",
    "\n",
    "열거하다라는 뜻의 함수로 여러 가지 자료형(list,set,tuple등)을 인덱스로 포함한 enumerate객체로 리턴한다."
   ]
  },
  {
   "cell_type": "code",
   "execution_count": null,
   "id": "oriented-creativity",
   "metadata": {},
   "outputs": [],
   "source": [
    "a = [1,2,3,2,45,2,5] \n",
    "a  # [1, 2, 3, 2, 45, 2, 5]\n",
    "\n",
    "enumerat e(a) # <enumerat e obj ect at 0x1010f 83f 0> \n",
    "\n",
    "list(enumerat e(a)) \n",
    "\n",
    "#리스트로 결과를 받을 수 있고 인덱스를 자동으로 부여해준다.\n",
    "\n",
    "[(0, 1), (1, 2), (2, 3), (3, 2), (4, 45), (5, 2), (6, 5)]\n"
   ]
  },
  {
   "cell_type": "code",
   "execution_count": null,
   "id": "unexpected-adelaide",
   "metadata": {},
   "outputs": [],
   "source": [
    "# a = ['a1', 'b2', 'c3']일 때 리스트의 인덱스와 값 출력\n",
    "\n",
    "# 하나의 방식이 될 순 있으나 a[i 조회 작업과 신체 길이 조회하여 루프 처리하는 형태이지만 깔끔하진 않음]\n",
    "for i in range(len(a)): \n",
    "    print( i, a[i]) \n",
    "\n",
    "    \n",
    "# 값은 깔끔하나 인덱스를 위한 변수 설정을 해야 하기에 아쉽\n",
    "\n",
    "i = 0 \n",
    "for v in a: \n",
    "    print(i, v) \n",
    "    i += 1 \n",
    "    \n",
    "# 인덱스와 값 모두 깔끔하게 처리\n",
    "\n",
    "for i, v in enumerate(a) : \n",
    "\n",
    "    print(i, v) \n",
    "    \n",
    "    "
   ]
  },
  {
   "cell_type": "markdown",
   "id": "synthetic-flesh",
   "metadata": {},
   "source": [
    "### // 나눗셈 연산자\n",
    "\n",
    "몫을 구하는 연산자입니다.\n"
   ]
  },
  {
   "cell_type": "code",
   "execution_count": null,
   "id": "legendary-series",
   "metadata": {},
   "outputs": [],
   "source": [
    "# II 나눗셈 연산자는 int ( a / b )와 동일하다 \n",
    "5 // 3 \n",
    "1 \n"
   ]
  },
  {
   "cell_type": "markdown",
   "id": "committed-shield",
   "metadata": {},
   "source": [
    "### print\n",
    "\n",
    "디버깅할 때 가장 자주 쓰는 명령어로 출력결과를 보여주고 항상 줄바꿈을 하여 긴 루프의 값을 반복적으로 출력하는데 이때, end 파라미터를 공백으로 처리하여 줄바꿈방지"
   ]
  },
  {
   "cell_type": "code",
   "execution_count": 2,
   "id": "expensive-container",
   "metadata": {},
   "outputs": [
    {
     "name": "stdout",
     "output_type": "stream",
     "text": [
      "A1 B2\n"
     ]
    }
   ],
   "source": [
    "print('A1', 'B2') # A1,B2\n"
   ]
  },
  {
   "cell_type": "code",
   "execution_count": 3,
   "id": "forward-genesis",
   "metadata": {},
   "outputs": [
    {
     "name": "stdout",
     "output_type": "stream",
     "text": [
      "aa  bb\n"
     ]
    }
   ],
   "source": [
    "print('aa', end=' ') \n",
    "print(' bb' )\n"
   ]
  },
  {
   "cell_type": "code",
   "execution_count": null,
   "id": "dress-theology",
   "metadata": {},
   "outputs": [],
   "source": [
    "# join()함수 이용하여 리스트 출력 시 묶기\n",
    "\n",
    "a = ['A', 'B'] \n",
    "print(' '.join(a)) \n",
    "\n",
    "A B"
   ]
  },
  {
   "cell_type": "code",
   "execution_count": null,
   "id": "favorite-homework",
   "metadata": {},
   "outputs": [],
   "source": [
    "# f-string(formated string literal)\n",
    "\n",
    "idx = 1\n",
    "fruit = \"Apple\"\n",
    "\n",
    "print(f'{idx + 1}: {fruit}' ) \n",
    "2: Apple"
   ]
  },
  {
   "cell_type": "markdown",
   "id": "retired-arrow",
   "metadata": {},
   "source": [
    "### Pass\n",
    "\n",
    "pass는 IndentationError를 막는 역할을 하지만 실제 연산에서는 널 연산으로 아무것도 하지 않는다."
   ]
  },
  {
   "cell_type": "code",
   "execution_count": null,
   "id": "literary-prescription",
   "metadata": {},
   "outputs": [],
   "source": [
    "class MyClass (object): \n",
    "    def method_a(self): \n",
    "# 여기에 pass 추가 \n",
    "        pass \n",
    "\n",
    "    def method_b(self): \n",
    "        print(\"Method B\") \n",
    "c = MyClass( ) "
   ]
  },
  {
   "cell_type": "markdown",
   "id": "rough-mandate",
   "metadata": {},
   "source": [
    "### locals\n",
    "\n",
    "딕셔너리를 가져오는 메소드로 업데이트 또한 가능하다. 로컬에 선언된 모둔 변수를 조회할 정도로 강한 명령어여서 디버깅 시 도움이되고 로컬 영역에 제한하여 정보 조회가 가능하기 대문에 클래스의 특정 메소드 내부에서나 함수 내부의 로컬 정보를 조회해서 잘못 선언 부분 없는지 확인하는 용도로 활용 가능하다. 이로 인해 변수명을 일일이 찾아낼 필요없이 로컬 스코프에 정의된 모든 변수를 출력하기 때문에 좋다."
   ]
  },
  {
   "cell_type": "code",
   "execution_count": null,
   "id": "proved-purpose",
   "metadata": {},
   "outputs": [],
   "source": [
    "import pprint \n",
    "pprint.pprint( locals( ) ) \n",
    "\n",
    "{'nums' : 12, 7, 11, 15], \n",
    "'pprint' : <module 'pprint' from '/usr/ lib/ python3.8/ pprint.py'>, \n",
    "'self' : < __ main__.Solution object at Ox7f0994769d90>, \n",
    "' target ' : 9} "
   ]
  },
  {
   "cell_type": "markdown",
   "id": "accompanied-blake",
   "metadata": {},
   "source": [
    "### 변수명과 주석\n",
    "\n",
    "변수명과 주석을 적절하게 달면 가독성이 높아진다."
   ]
  },
  {
   "cell_type": "code",
   "execution_count": null,
   "id": "fantastic-canvas",
   "metadata": {},
   "outputs": [],
   "source": [
    "def numMatchingSubseq(self, S:str, words: List[str]) -> int:\n",
    "    \n",
    "    matched_count = 0\n",
    "    \n",
    "    for word in words:\n",
    "        \n",
    "        pos = 0\n",
    "        \n",
    "        for i in range(len(word)):\n",
    "            \n",
    "            # Find matching position for each character.\n",
    "            \n",
    "            found_pos = S[pos:].find(word[i])\n",
    "            if found_pos < 0:\n",
    "                \n",
    "                matched_count -=1\n",
    "                break\n",
    "                \n",
    "            else: # If found, take step position forward.\n",
    "                \n",
    "                pos += found_pos +=1\n",
    "                \n",
    "        matched_count +=1\n",
    "        \n",
    "    return matched_count"
   ]
  }
 ],
 "metadata": {
  "kernelspec": {
   "display_name": "Python 3",
   "language": "python",
   "name": "python3"
  },
  "language_info": {
   "codemirror_mode": {
    "name": "ipython",
    "version": 3
   },
   "file_extension": ".py",
   "mimetype": "text/x-python",
   "name": "python",
   "nbconvert_exporter": "python",
   "pygments_lexer": "ipython3",
   "version": "3.7.9"
  }
 },
 "nbformat": 4,
 "nbformat_minor": 5
}
