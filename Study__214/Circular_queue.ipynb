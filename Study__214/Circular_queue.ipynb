{
  "nbformat": 4,
  "nbformat_minor": 0,
  "metadata": {
    "colab": {
      "name": "Circular_queue",
      "provenance": [],
      "authorship_tag": "ABX9TyMvxS7oZc5hU70KxRjUVRgJ",
      "include_colab_link": true
    },
    "kernelspec": {
      "name": "python3",
      "display_name": "Python 3"
    },
    "language_info": {
      "name": "python"
    }
  },
  "cells": [
    {
      "cell_type": "markdown",
      "metadata": {
        "id": "view-in-github",
        "colab_type": "text"
      },
      "source": [
        "<a href=\"https://colab.research.google.com/github/qsdcfd/TIL/blob/TIL/Study__214/Circular_queue.ipynb\" target=\"_parent\"><img src=\"https://colab.research.google.com/assets/colab-badge.svg\" alt=\"Open In Colab\"/></a>"
      ]
    },
    {
      "cell_type": "code",
      "execution_count": 10,
      "metadata": {
        "id": "E0ZgKNqM29bT"
      },
      "outputs": [],
      "source": [
        "class CircularQueue:\n",
        "    def __init__(self, max_size):\n",
        "        self.elements = [None] * (max_size + 1)\n",
        "        self.front = 0\n",
        "        self.rear = 0\n",
        "        self.max_size = max_size + 1\n",
        "\n",
        "    def is_full(self):\n",
        "        return (self.rear + 1) % self.max_size == self.front\n",
        "\n",
        "    def is_empty(self):\n",
        "        return self.front == self.rear\n",
        "\n",
        "    def clear(self):\n",
        "        self.front = 0\n",
        "        self.rear = 0\n",
        "\n",
        "    def offer(self, data):\n",
        "        if self.is_full():\n",
        "            raise RuntimeError(\"Queue is full\")\n",
        "\n",
        "        self.rear = (self.rear + 1) % self.max_size\n",
        "        self.elements[self.rear] = data\n",
        "\n",
        "    def poll(self):\n",
        "        if self.is_empty():\n",
        "            raise RuntimeError(\"Queue is empty\")\n",
        "        self.front = (self.front + 1) % self.max_size\n",
        "        return self.elements[self.front]\n",
        "\n",
        "    def size(self):\n",
        "        if self.front <= self.rear:\n",
        "            return self.rear - self.front\n",
        "        return self.max_size - self.front + self.rear\n",
        "\n"
      ]
    },
    {
      "cell_type": "code",
      "source": [
        "if __name__ == \"__main__\":\n",
        "    q = CircularQueue(5)\n",
        "    for e in range(5):\n",
        "        print(f\"is_full: {q.is_full()}, is_empty:{q.is_empty()}, size: {q.size()}\")\n",
        "        q.offer(e)\n",
        "        print(f\"q.offer({e})\")\n",
        "        print(f\"is_full: {q.is_full()}, is_empty: {q.is_empty()}, size:{q.size()}\")\n",
        "\n",
        "    print(\"-------------------------------\")\n",
        "    while q.size() > 0:\n",
        "        print(f\"is_full: {q.is_full()}, is_empty: {q.is_empty()}, size: {q.size()}\")\n",
        "        print(f\"q.poll(): {q.poll()}\")"
      ],
      "metadata": {
        "colab": {
          "base_uri": "https://localhost:8080/"
        },
        "id": "KhTsel3Z7dIY",
        "outputId": "4ebee53e-5c92-43fb-d4ce-9ae6cab7ca9e"
      },
      "execution_count": 11,
      "outputs": [
        {
          "output_type": "stream",
          "name": "stdout",
          "text": [
            "is_full: False, is_empty:True, size: 0\n",
            "q.offer(0)\n",
            "is_full: False, is_empty: False, size:1\n",
            "is_full: False, is_empty:False, size: 1\n",
            "q.offer(1)\n",
            "is_full: False, is_empty: False, size:2\n",
            "is_full: False, is_empty:False, size: 2\n",
            "q.offer(2)\n",
            "is_full: False, is_empty: False, size:3\n",
            "is_full: False, is_empty:False, size: 3\n",
            "q.offer(3)\n",
            "is_full: False, is_empty: False, size:4\n",
            "is_full: False, is_empty:False, size: 4\n",
            "q.offer(4)\n",
            "is_full: True, is_empty: False, size:5\n",
            "-------------------------------\n",
            "is_full: True, is_empty: False, size: 5\n",
            "q.poll(): 0\n",
            "is_full: False, is_empty: False, size: 4\n",
            "q.poll(): 1\n",
            "is_full: False, is_empty: False, size: 3\n",
            "q.poll(): 2\n",
            "is_full: False, is_empty: False, size: 2\n",
            "q.poll(): 3\n",
            "is_full: False, is_empty: False, size: 1\n",
            "q.poll(): 4\n"
          ]
        }
      ]
    },
    {
      "cell_type": "code",
      "source": [
        ""
      ],
      "metadata": {
        "id": "gOiOlzer8WpB"
      },
      "execution_count": null,
      "outputs": []
    }
  ]
}