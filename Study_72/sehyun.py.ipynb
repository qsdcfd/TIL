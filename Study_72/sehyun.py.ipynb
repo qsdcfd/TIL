{
 "cells": [
  {
   "cell_type": "markdown",
   "id": "parallel-closure",
   "metadata": {},
   "source": [
    "- 초보이기 때문에 하나하나 생각이 나는대로 끄적이면서 흐름을 따라가는 중입니다."
   ]
  },
  {
   "cell_type": "code",
   "execution_count": 6,
   "id": "fifty-orleans",
   "metadata": {},
   "outputs": [
    {
     "name": "stdout",
     "output_type": "stream",
     "text": [
      "5\n",
      "R R R U D D\n",
      "3 4\n"
     ]
    }
   ],
   "source": [
    "#상하좌우 문제\n",
    "#(1,1)에서 시작 \n",
    "#정사각형 공간을 넘어가는 건 무시(if~continue)\n",
    "\n",
    "N = int(input()) # 정사각형의 크기\n",
    "\n",
    "x ,y =1,1 # 시작점\n",
    "\n",
    "moves = input().split() # 이동하는 방향 대입\n",
    "\n",
    "# L: y축 -1, R: y축 +1 , U: x축 -1 , D: x축 +1\n",
    "\n",
    "dx = [0,0,-1,1] # x축에 영향을 주는 것\n",
    "\n",
    "dy = [-1,1,0,0] # y축에 영향을 주는 것\n",
    "\n",
    "types = ['L','R','U','D'] # 움직이는 방향 유형\n",
    "\n",
    "for move in moves:\n",
    "    \n",
    "    for i in range(len(types)):# 방향 유형 삽입한 후에 인덱스 값 0,-1,1 추출\n",
    "        \n",
    "        if move == types[i]: # 인덱스 값 대입\n",
    "            \n",
    "            nx = x + dx[i] #변화한 x좌표\n",
    "            \n",
    "            ny = y + dy[i] # 변화한 y좌표\n",
    "            \n",
    "            \n",
    "    if nx < 1 or ny <1 or nx > N or ny > N: # 무시하는 값\n",
    "        \n",
    "        continue\n",
    "        \n",
    "    x,y = nx , ny# 변화한 값 대입\n",
    "        \n",
    "print(x,y) # 변화한 값 출력\n",
    "        "
   ]
  },
  {
   "cell_type": "code",
   "execution_count": 7,
   "id": "exempt-testimony",
   "metadata": {},
   "outputs": [
    {
     "name": "stdout",
     "output_type": "stream",
     "text": [
      "5\n",
      "714\n"
     ]
    }
   ],
   "source": [
    "# 시각 문제\n",
    "\n",
    "# 숫자를 어떻게 셀 것인가 관점\n",
    "\n",
    "# 시 , 분, 초 별로 따져서 갯수 세기 = for문 3개 쓰기\n",
    "\n",
    "# 24, 60, 60 : range()함수 쓰기\n",
    "\n",
    "# 신기한 포인트: 어떻게 3을 세야할까? 시,분,초를 합쳐서 하나의 숫자 형태로 만들어야한다.\n",
    "\n",
    "N = int(input()) # 시 받는 수\n",
    "\n",
    "count = 0 # 최종 경우의 수 센다\n",
    "\n",
    "# 시,분,초가 나오게 되는 값 \n",
    "\n",
    "for i in range(N+1):\n",
    "    \n",
    "    for j in range(60):\n",
    "        \n",
    "        for k in range(60):\n",
    "            \n",
    "            if str(i) =='3 ' or str(j) == '3' or str(k) == '3': #3이 있는 거 고르기\n",
    "                count +=1\n",
    "                \n",
    "print(count)"
   ]
  },
  {
   "cell_type": "code",
   "execution_count": 8,
   "id": "careful-bunny",
   "metadata": {},
   "outputs": [
    {
     "name": "stdout",
     "output_type": "stream",
     "text": [
      "5\n",
      "11475\n"
     ]
    }
   ],
   "source": [
    "# 시각\n",
    "# 둘의 차이가 뭘까요?\n",
    "N = int(input()) # 시 받는 수\n",
    "\n",
    "count = 0 # 최종 경우의 수 센다\n",
    "\n",
    "# 시,분,초가 나오게 되는 값 \n",
    "\n",
    "for i in range(N+1):\n",
    "    \n",
    "    for j in range(60):\n",
    "        \n",
    "        for k in range(60):\n",
    "            \n",
    "            if '3' in str(i) + str(j) + str(k): # 하나의 수로 만들어서 3이 있는 거 고르기 왜냐하면 시,분,초 어디에 있는지는 상관이 없음\n",
    "                count +=1\n",
    "                \n",
    "print(count)"
   ]
  },
  {
   "cell_type": "code",
   "execution_count": 8,
   "id": "scientific-aquatic",
   "metadata": {},
   "outputs": [
    {
     "ename": "SyntaxError",
     "evalue": "invalid syntax (<ipython-input-8-2ddfe9e37bfd>, line 22)",
     "output_type": "error",
     "traceback": [
      "\u001b[0;36m  File \u001b[0;32m\"<ipython-input-8-2ddfe9e37bfd>\"\u001b[0;36m, line \u001b[0;32m22\u001b[0m\n\u001b[0;31m    moves = [\u001b[0m\n\u001b[0m        ^\u001b[0m\n\u001b[0;31mSyntaxError\u001b[0m\u001b[0;31m:\u001b[0m invalid syntax\n"
     ]
    }
   ],
   "source": [
    "#왕실의 나이트\n",
    "\n",
    "# 상하좌우 문제와 유사한 flow 같습니다.\n",
    "\n",
    "# 시작위치 잡기\n",
    "\n",
    "# 행, 열을 잡아줘야한다 시작위치의 의거해서 왜냐하면 시작위치 기준으로 움직이는 경우의 수 변화\n",
    "\n",
    "data = input() #입력 데이터는 int를 안해줄 경우 문자형으로 입력 받는다.\n",
    "\n",
    "row = int(data([1])) # 1~8까지의 숫자\n",
    "\n",
    "column = int(ord(data([0]))- int(ord('a')) +1               # 문자데이터 처리를 어떻게 할까..\n",
    "\n",
    "\n",
    "# 나이트가 이동하는 경우의 수\n",
    "# 상하좌우 L,R,U,D  느낌\n",
    "\n",
    "# 근데 왜 이 값이 나오게 되는지 모르겠다.\n",
    "# 왜 오류죠..ㅠ\n",
    "             \n",
    "moves = [\n",
    "    \n",
    "          (-2,-1),(-1,-2),(1,-2),(2,-1),\n",
    "    \n",
    "          (2,1), (1,2), (-1,2), (-2,1)\n",
    "        ]\n",
    "\n",
    "count = 0 # 경우의 수 합치기\n",
    "\n",
    "# for문을 이용하여 이동방향 구하기\n",
    "# next_row, next_column\n",
    "# 상하좌우와 비슷하다\n",
    "\n",
    "for move in moves:\n",
    "    \n",
    "    # 이동 변화\n",
    "    next_row = row + move[0]\n",
    "    next_column = column + move[1]\n",
    "    \n",
    "    # 상자 안에 있어야한다\n",
    "    if next_row >=1 and next_row <= 8 and next_column >=1 and next_column <=8:\n",
    "        count +=1\n",
    "        \n",
    "print(count)\n"
   ]
  },
  {
   "cell_type": "code",
   "execution_count": 12,
   "id": "continued-functionality",
   "metadata": {},
   "outputs": [
    {
     "name": "stdout",
     "output_type": "stream",
     "text": [
      "7755\n",
      "READY\n"
     ]
    }
   ],
   "source": [
    "#럭키 스트레이트\n",
    "\n",
    "# 입력값: 자릿수가 짝수개인 수만 입력이 되어야함, len함수 이용 그리고 2로 나누면 짝홀 구분 가능\n",
    "\n",
    "# 입력값 기준으로 절반 나눈 뒤에 합쳐서 양쪽이 같으면 \"LUCKY\" 아니면 \"READY\"\n",
    "\n",
    "N = input()# 입력조건\n",
    "\n",
    "n = len(N) \n",
    "\n",
    "sum = 0 # 자릿수의 합\n",
    "\n",
    "# 왼쪽의합\n",
    "for i in range(n//2):\n",
    "    \n",
    "    sum += int(N[i])\n",
    "\n",
    "# 오른쪽의합\n",
    "for i in range(n//2, n):\n",
    "    \n",
    "    sum -= int(N[i])\n",
    "\n",
    "# 둘의 나누기\n",
    "\n",
    "if sum ==0:\n",
    "    \n",
    "    print(\"LUCKY\")\n",
    "    \n",
    "else: \n",
    "\n",
    "    print(\"READY\")\n",
    "\n"
   ]
  },
  {
   "cell_type": "code",
   "execution_count": null,
   "id": "sunset-manor",
   "metadata": {},
   "outputs": [],
   "source": [
    "#문자열 재정렬\n",
    "\n",
    "#입력값: 알파벳과 숫자\n",
    "\n",
    "# 출력값: 알파벳을 순서대로 정렬한 후에 숫자들은 더해서 출력\n",
    "\n",
    "# 알파벳과 숫자 분리(리스트)\n",
    "\n",
    "# 알파벳과 숫자가 섞여 있어서 하나 하나 파악해서 숫자인 것과 알파벳인거 잡아야할 듯\n",
    "\n",
    "# 숫자를 어떻게..해야..뒤로 보낼 수 있을까?\n",
    "\n",
    "\n",
    "N = input() # 입력값\n",
    "\n",
    "result = [] # 결과값 빈 리스트 만들기\n",
    "\n",
    "figure = 0 # 숫자들 넣어서 합하기 위한 데이터\n",
    "\n",
    "\n",
    "\n",
    "for i in N: # 숫자와 알파벳이 섞여있기 때문\n",
    "    \n",
    "    if i.isalpha():  # 알파벳\n",
    "        \n",
    "        result.append(i)\n",
    "\n",
    "        \n",
    "    else:  #숫자\n",
    "        \n",
    "        figure += int(i)\n",
    "        \n",
    "result.sort() #  정렬\n",
    "\n"
   ]
  }
 ],
 "metadata": {
  "kernelspec": {
   "display_name": "Python 3",
   "language": "python",
   "name": "python3"
  },
  "language_info": {
   "codemirror_mode": {
    "name": "ipython",
    "version": 3
   },
   "file_extension": ".py",
   "mimetype": "text/x-python",
   "name": "python",
   "nbconvert_exporter": "python",
   "pygments_lexer": "ipython3",
   "version": "3.7.9"
  }
 },
 "nbformat": 4,
 "nbformat_minor": 5
}
