{
 "cells": [
  {
   "cell_type": "code",
   "execution_count": null,
   "id": "acceptable-wales",
   "metadata": {},
   "outputs": [],
   "source": [
    "from collections import deque\n",
    "\n",
    "n = int(input())\n",
    "s = [list(map(int, input().split())) for _ in range(n)]\n",
    "\n",
    "visited = [False] * (n + 1)\n",
    "team = list()\n",
    "result = deque()\n",
    "\n",
    "def BackTracking(start, depth, person_sum):\n",
    "    if depth == n // 2 + 1:\n",
    "        result.append(person_sum)\n",
    "        return\n",
    "    for i in range(start, n+1):\n",
    "        if visited[i]:\n",
    "            continue\n",
    "\n",
    "        visited[i] = True\n",
    "        team.append(i)\n",
    "        BackTracking(i, depth + 1, PersonSum(person_sum, team, i))\n",
    "        team.pop()\n",
    "        visited[i] = False\n",
    "\n",
    "def PersonSum(person_sum, team, i):\n",
    "    for person in team:\n",
    "        person_sum += Solve(person, i)\n",
    "    return person_sum\n",
    "\n",
    "def Solve(i, j):\n",
    "    return s[i-1][j-1] + s[j-1][i-1]\n",
    "\n",
    "def Result(result : deque):\n",
    "    result_min = 1e9\n",
    "\n",
    "    for i in range(len(result) // 2):\n",
    "        team1 = result.popleft()\n",
    "        team2 = result.pop()\n",
    "        result_min = min(result_min, abs(team1 - team2))\n",
    "\n",
    "    return result_min\n",
    "\n",
    "BackTracking(1, 1, 0)\n",
    "print(Result(result))"
   ]
  }
 ],
 "metadata": {
  "kernelspec": {
   "display_name": "Python 3",
   "language": "python",
   "name": "python3"
  },
  "language_info": {
   "codemirror_mode": {
    "name": "ipython",
    "version": 3
   },
   "file_extension": ".py",
   "mimetype": "text/x-python",
   "name": "python",
   "nbconvert_exporter": "python",
   "pygments_lexer": "ipython3",
   "version": "3.7.9"
  }
 },
 "nbformat": 4,
 "nbformat_minor": 5
}
