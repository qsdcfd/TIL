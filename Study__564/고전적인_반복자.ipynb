{
  "nbformat": 4,
  "nbformat_minor": 0,
  "metadata": {
    "colab": {
      "provenance": [],
      "authorship_tag": "ABX9TyPb4P+T2AgvFpZaGZybvJQk"
    },
    "kernelspec": {
      "name": "python3",
      "display_name": "Python 3"
    },
    "language_info": {
      "name": "python"
    }
  },
  "cells": [
    {
      "cell_type": "markdown",
      "source": [
        "# 제어 흐름\n",
        "## 반복형, 반복자, 제너레이터\n",
        "### 고전적인 반복자\n",
        "\n",
        "Sentence 클래스의 다음 버전은 고전적인 반복자 패턴에 맞춰 구현하고, 리팩토링하면서 명확해지지만, 파이썬의 관용적인 방법은 아니다.\n",
        "\n",
        "__iter__() 특별 메서드를 구현하고 있고, 이 메서드가 SentenceIterator를 반환하기 때문이다.\n",
        "\n",
        "```\n",
        "\"\"\"\n",
        "반복형과 반복자의 차이 및 이 둘이 어떻게 명확히 보여주기 위해 다음과 같이 구현한다.\n",
        "\"\"\"\n",
        "import re\n",
        "import reprlib\n",
        "\n",
        "RE_WORD = re.compile('\\w+')\n",
        "\n",
        "class Sentence:\n",
        "\t\n",
        "    def __init__(self, text):\n",
        "    \tself.text = text\n",
        "        self.words = RE_WORD.findall(text)\n",
        "    \n",
        "    def __repr__(self):\n",
        "    \treturn 'Sentence(%s)' % reprlib.repr(self.text)\n",
        "        \n",
        "    def __iter__(self):\n",
        "    \treturn SentenceIterator(self.words)\n",
        "        \n",
        "class SentenceIterator:\n",
        "\n",
        "\tdef __init__(self,words):\t\n",
        "    \tself.words = words\n",
        "   \t\tself.index = 0\n",
        "        \n",
        "    def __next__(self):\n",
        "    \ttry:\n",
        "    \t\tword = self.words[self.index]\n",
        "        except IndexError:\n",
        "        \traise StopIteration()\n",
        "        self.index += 1\n",
        "        return word\n",
        "    def __iter__(self):\n",
        "    \treturn self\n",
        "```\n"
      ],
      "metadata": {
        "id": "rOC38kCKBYW9"
      }
    },
    {
      "cell_type": "code",
      "source": [],
      "metadata": {
        "id": "-iZSZZg-BYoe"
      },
      "execution_count": null,
      "outputs": []
    }
  ]
}