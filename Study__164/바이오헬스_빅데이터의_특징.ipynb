{
  "nbformat": 4,
  "nbformat_minor": 0,
  "metadata": {
    "colab": {
      "name": "바이오헬스 빅데이터의 특징",
      "provenance": [],
      "authorship_tag": "ABX9TyOtKlSb41Xp0KTDxf92HUPk"
    },
    "kernelspec": {
      "name": "python3",
      "display_name": "Python 3"
    },
    "language_info": {
      "name": "python"
    }
  },
  "cells": [
    {
      "cell_type": "markdown",
      "source": [
        "### 바이오헬스 빅데이터 특징\n",
        "\n",
        "*바이오 미래 유망 기술\n",
        "\n",
        "바이오헬스 빅데이터는 2017넌 바이오 미래유망 기술이라 할 수 있는데요.\n",
        "\n",
        "먼저, 글로벌 보건의료 분야 데이터 분석시장은 2014년부터 2019년까지 연평균 25% 이상의 성장률이 예측되고 있습니다. 또한 경제성장을 견인하는 유망분야로 주목 받고 있는데요.\n",
        "\n",
        "2013년 맥킨지 보고서에 따르면 “지난 수십 년 간 의료기관의 의무기록을 디지털화하고, 제약회사가 연구개발 데이터를 전자 DB로 통합하며, 정부와 공공기관들이 저장된 데이터를 이용ㆍ검색ㆍ실행 가능하도록 투명성을 확대함에 따라서 보건의료 분야에서도 정보공개가 진행되고 있으며, 이러한 데이터의 유동성 확대는 보건의료 산업을 변화시킬 것” 이라고 전망하기도 했습니다.\n",
        "\n",
        "\n",
        "이처럼 바이오헬스 빅데이터는 4차 산업혁명 시대의 핵심 영역이자 경제 및 의료 분야에서 매우 부각되는 산업이 될 것으로 보입니다.\n",
        "\n",
        "\n",
        "또한 한국생명공학연구원에서는 바이오헬스 이슈를 선도하는 2017년 바이오 미래유망기술을 공개하였는데요.\n",
        "\n",
        "그 이슈에는 보건의료 빅데이터 플랫폼 구축이 포함되었습니다. 또한 보건의료 빅데이터 플랫폼 구축의 미래유망기술로는 대규모 임상 유전체 정보관리기술이 선정되기도 했습니다.\n",
        "\n",
        "이만큼 바이오헬스는 2017년 이후부터 급격히 관심을 갖게 된 분야라고 할 수 있습니다.\n",
        "\n",
        "<br>\n",
        "\n",
        "### 바이오헬스 산업에 가져올 변화\n",
        "\n",
        "![](https://images.velog.io/images/qsdcfd/post/8ab930de-99e4-4a3e-a7ee-e34696775085/image.png)\n",
        "\n",
        "- 계약산업의 발전과 정밀 의학에 기반한 신약 개발(바이오마커, NGS)\n",
        "\n",
        "- 예시: IBM 왓슨 온콜로지, 일루미나의 100달러 유전체 분석\n",
        "\n",
        "![](https://images.velog.io/images/qsdcfd/post/8506a200-fd8c-436c-a426-6c4b9bae7243/image.png)\n",
        "\n",
        "![](https://images.velog.io/images/qsdcfd/post/836a9ecd-2550-4404-b474-d7677014bb02/image.png)"
      ],
      "metadata": {
        "id": "xzFJOioqoc5h"
      }
    },
    {
      "cell_type": "code",
      "source": [
        ""
      ],
      "metadata": {
        "id": "x9_aJKmZodJJ"
      },
      "execution_count": null,
      "outputs": []
    }
  ]
}