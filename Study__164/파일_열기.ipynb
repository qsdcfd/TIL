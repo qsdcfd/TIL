{
  "nbformat": 4,
  "nbformat_minor": 0,
  "metadata": {
    "colab": {
      "name": "파일 열기",
      "provenance": [],
      "authorship_tag": "ABX9TyPaADCAuIXTICOiWbNFd/IG"
    },
    "kernelspec": {
      "name": "python3",
      "display_name": "Python 3"
    },
    "language_info": {
      "name": "python"
    }
  },
  "cells": [
    {
      "cell_type": "markdown",
      "source": [
        "#### 학습목표\n",
        "\n",
        "파일이 어떠한 방식으로 열리는 이해하고 파일을 열기 위한 open() 함수를 사용하여 텍스트 파일의 구성과 이와 관련된 기본적인 코드들을 이해하고 사용할 수 있다.\n",
        "\n",
        "<br>\n",
        "\n",
        "#### 핵심 키워드\n",
        "\n",
        "open() 함수\n",
        "\n",
        "개행문자\n",
        "\n",
        "---\n",
        "\n",
        "\n",
        "### 텍스트 파일은 무엇인가?\n",
        "\n",
        "텍스트 파일은 연속적으로 연결되어 있는 줄글들의 집합이라고 생각할 수 있습니다. 우리는 지금까지 많은 텍스트 파일을 만들어 왔습니다.\n",
        "\n",
        "그럼 텍스트 파일을 열고 처리하는 것과 관련된 몇 가지 함수들을 살펴보도록 하겠습니다.\n",
        "\n",
        " \n",
        "<br>\n",
        "\n",
        "### open()\n",
        "\n",
        "파일을 여는 것은 open() 함수를 이용해 달성할 수 있습니다. open() 함수는 handle을 반환하게 되고 handle은 파일에 대한 작업을 수행하기 위해 사용됩니다.\n",
        "\n",
        "handle은 텍스트가 파일 형태, 메모리에 저장된 문자열의 형태, 웹 사이트에서 존재하는 형태와 같이 다른 방식으로 저장되어 있는 텍스트를 처리하는 하나의 표준화된 방식입니다. \n",
        "\n",
        "또한, 많은 양의 문자 파일을 한꺼번에 읽어 발생할 수 있는 성능의 문제를 handle은 점진적으로 읽어 방지합니다.\n",
        "\n",
        "```\n",
        "fhand = open('hello.txt', 'r')\n",
        "\n",
        "# open('파일명입력', '모드 선택')\n",
        "# 1. 파일명 입력\n",
        "# 파일명은 문자열 타입으로 입력하며, 확장자까지 포함시켜 줍니다.\n",
        "# 2. 모드 선택\n",
        "# 모드에서는 w 또는 r 두가지를 선택할 수 있습니다. 'w'는 파일을 작성할 때 사용하며, 'r'은 파일을 읽을 때 사용합니다.\n",
        "```\n",
        " \n",
        "<br>\n",
        "\n",
        "### 개행 문자\n",
        "\n",
        "파이썬에서 행을 바꾸는 문자인 개행 문자는 '\\n'입니다. print() 함수를 사용하게 되면 해당 함수에 의해 '\\n'가 발생하게 됩니다. 여기서 중요한 것은 '\\n'도 하나의 문자라는 점입니다. \n",
        "\n",
        "문자열의 길이를 확인하기 위해 len() 함수를 호출해 보면 'Hello World!'와 'Hello\\nWorld!'길이가 동일한 것을 확인할 수 있습니다.\n",
        "\n",
        "```\n",
        "stuff1 = 'Hello World!'\n",
        "print(stuff1)\n",
        "print(len(stuff1))\n",
        "stuff2 = 'Hello\\nWorld!'\n",
        "print(stuff2)\n",
        "print(len(stuff2))\n",
        "\n",
        "# Hello World!\n",
        "# 12\n",
        "# Hello\n",
        "# World!\n",
        "# 12\n",
        "```\n",
        "\n"
      ],
      "metadata": {
        "id": "BX4wHowVszhd"
      }
    },
    {
      "cell_type": "code",
      "source": [
        ""
      ],
      "metadata": {
        "id": "bKoy8a-qs0SQ"
      },
      "execution_count": null,
      "outputs": []
    }
  ]
}