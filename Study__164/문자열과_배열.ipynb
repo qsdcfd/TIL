{
  "nbformat": 4,
  "nbformat_minor": 0,
  "metadata": {
    "colab": {
      "name": "문자열과 배열",
      "provenance": [],
      "authorship_tag": "ABX9TyPzUc86A0iUEB1Zq+T6Vr0y"
    },
    "kernelspec": {
      "name": "python3",
      "display_name": "Python 3"
    },
    "language_info": {
      "name": "python"
    }
  },
  "cells": [
    {
      "cell_type": "markdown",
      "source": [
        "\n",
        "#### 학습 목표\n",
        "\n",
        "문자열이 C에서 정의되는 방식과 메모리에 저장되는 방식을 설명할 수 있습니다.\n",
        "\n",
        "<br>\n",
        "\n",
        "#### 핵심 단어\n",
        "\n",
        "문자\n",
        "\n",
        "문자열\n",
        "\n",
        "---\n",
        "\n",
        "우리가 여지껏 사용한 문자열(string) 자료형의 데이터는 사실 문자(char) 자료형의 데이터들의 배열이었습니다. \n",
        "\n",
        "string s = “HI!”; 과 같이 문자열 s가 정의되어 있다고 생각해봅시다.\n",
        "\n",
        "s는 문자의 배열이기 때문에 메모리상에 아래 그림과 같이 저장되고, 인덱스로 각 문자에 접근할 수 있습니다.\n",
        "\n",
        "![](https://images.velog.io/images/qsdcfd/post/a59ba7e2-9e75-44b5-9036-a36585c870cf/image.png)\n",
        "\n",
        "여기서 가장 끝의 ‘\\0’은 문자열의 끝을 나타내는 널 종단 문자입니다.\n",
        "\n",
        "단순히 모든 비트가 0인 1바이트를 의미합니다.\n",
        "\n",
        "그럼 아래 코드와 같이 여러 문자열이 동시에 선언된 경우를 살펴보겠습니다.\n",
        "\n",
        " \n",
        "\n",
        "```\n",
        "string names[4];\n",
        "\n",
        "names[0] = \"EMMA\";\n",
        "names[1] = \"RODRIGO\";\n",
        "names[2] = \"BRIAN\";\n",
        "names[3] = \"DAVID\";\n",
        "\n",
        "printf(\"%s\\n\", names[0]);\n",
        "printf(\"%c%c%c%c\\n\", names[0][0], names[0][1], names[0][2], names[0][3]);\n",
        "```\n",
        "\n",
        "names라는 문자열 형식의 배열에 네 개의 이름이 저장되어있습니다.\n",
        "\n",
        "첫 번째 printf에서는 names의 첫번째 인덱스의 값, 즉 “EMMA”를 출력합니다.\n",
        "\n",
        "두 번째 printf에서는 형식 지정자가 %s가 아닌 %c로 설정되어 있음을 확인할 수 있습니다.\n",
        "\n",
        "따라서 출력하는 것은 문자열이 아닌 문자입니다.\n",
        "\n",
        "여기서는 각 이름의 두번째 문자를 출력하고자 합니다.\n",
        "\n",
        "이는 names[0][1]과 같이 2차원 배열을 통해 접근할 수 있습니다.\n",
        "\n",
        "다시 말해 names[0][1]는 names의 첫 번째 값, 즉 “EMMA”라는 문자열에서, 그 두번째 값, 즉 ‘M’ 이라는 문자를 의미합니다.\n",
        "\n",
        "아래 그림에서 names가 실제 메모리상에 저장된 예시와 해당하는 인덱스를 확인할 수 있습니다.\n",
        "\n",
        "\n",
        "![](https://images.velog.io/images/qsdcfd/post/58f0c9a0-45e6-46ef-b387-c1d96122e18d/image.png)"
      ],
      "metadata": {
        "id": "Qs-BuO0-R1iz"
      }
    },
    {
      "cell_type": "code",
      "source": [
        ""
      ],
      "metadata": {
        "id": "XZz3tBXBR2zj"
      },
      "execution_count": null,
      "outputs": []
    }
  ]
}