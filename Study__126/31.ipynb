{
 "cells": [
  {
   "cell_type": "markdown",
   "id": "narrative-fusion",
   "metadata": {},
   "source": [
    "<재귀함수호출>\n",
    "\n",
    "1)재귀호출 사용하기\n",
    "def hello():\n",
    "    print('Hello, world!')\n",
    "    hello()\n",
    " \n",
    "hello()\n",
    "\n",
    "\n",
    "https://dojang.io/pluginfile.php/13846/mod_page/content/3/031001.png\n",
    "\n",
    "->계속 진행되다가 초과하면 에러!\n",
    "\n",
    "2) 재귀호출에 종료 조건 만들기\n",
    "\n",
    "def hello(count):\n",
    "    if count == 0:    # 종료 조건을 만듦. count가 0이면 다시 hello 함수를 호출하지 않고 끝냄\n",
    "        return\n",
    "    \n",
    "    print('Hello, world!', count)\n",
    "    \n",
    "    count -= 1      # count를 1 감소시킨 뒤\n",
    "    hello(count)    # 다시 hello에 넣음\n",
    " \n",
    "hello(5)    # hello 함수 호출\n",
    "\n",
    "https://dojang.io/pluginfile.php/13846/mod_page/content/3/031002.png\n",
    "\n",
    "3)재귀 호출로 팩토리얼 구하기\n",
    "  \n",
    "  * 반환값 부분이 핵심이다!\n",
    "  왜냐하면 바로 나오는 것이 아니라 재귀호출로 곱하는 과정을 반복하다가\n",
    "  n=1이 될 때 반환하기 때문이다.\n",
    "def factorial(n):\n",
    "    if n == 1:      # n이 1일 때\n",
    "        return 1    # 1을 반환하고 재귀호출을 끝냄\n",
    "    return n * factorial(n - 1)    # n과 factorial 함수에 n - 1을 넣어서 반환된 값을 곱함\n",
    " \n",
    "print(factorial(5))\n",
    "\n",
    "https://dojang.io/pluginfile.php/13847/mod_page/content/2/031003.png\n",
    "\n",
    "https://dojang.io/pluginfile.php/13847/mod_page/content/2/031004.png\n",
    "\n",
    "https://dojang.io/pluginfile.php/13847/mod_page/content/2/031005.png\n"
   ]
  }
 ],
 "metadata": {
  "kernelspec": {
   "display_name": "Python 3",
   "language": "python",
   "name": "python3"
  },
  "language_info": {
   "codemirror_mode": {
    "name": "ipython",
    "version": 3
   },
   "file_extension": ".py",
   "mimetype": "text/x-python",
   "name": "python",
   "nbconvert_exporter": "python",
   "pygments_lexer": "ipython3",
   "version": "3.7.9"
  }
 },
 "nbformat": 4,
 "nbformat_minor": 5
}
