{
  "cells": [
    {
      "cell_type": "raw",
      "metadata": {
        "id": "Xdzm3MyXTw83"
      },
      "source": [
        "Q. 영화 흥행 예측 프로젝트를 하려고 하는데요, 다음의 데이터 크롤링이 필요한 상황입니다.\n",
        "   1. 배우 이정재가 수상한 수상횟수\n",
        "   2. 주연을 맡았던 영화들의 관객수 \n",
        "\n",
        "어떻게 이 데이터를 수집할 수 있을까요?"
      ]
    },
    {
      "cell_type": "code",
      "execution_count": null,
      "metadata": {
        "scrolled": true,
        "id": "xgCnnDPOTw9B",
        "outputId": "3cba0aef-3c97-480d-de62-62aedf90a5bf"
      },
      "outputs": [
        {
          "data": {
            "text/plain": [
              "'/Users/aiden/Dropbox/Mac/Desktop'"
            ]
          },
          "execution_count": 35,
          "metadata": {},
          "output_type": "execute_result"
        }
      ],
      "source": [
        "pwd"
      ]
    },
    {
      "cell_type": "code",
      "execution_count": null,
      "metadata": {
        "id": "KTpEDW81Tw9C"
      },
      "outputs": [],
      "source": [
        "# 라이브러리 import\n",
        "import os\n",
        "import pandas as pd\n",
        "import numpy as np\n",
        "import math \n",
        "\n",
        "# 셀레늄\n",
        "from selenium.webdriver.common.alert import Alert\n",
        "from selenium import webdriver  # 라이브러리(모듈) 가져오라\n",
        "# pip install chromedriver_autoinstaller\n",
        "from selenium.webdriver.common.keys import Keys\n",
        "from selenium.webdriver import ActionChains as AC\n",
        "\n",
        "# tqdm : for문 진행상황 체크\n",
        "from tqdm import tqdm, tqdm_notebook\n",
        "from tqdm.notebook import tqdm\n",
        "\n",
        "# 정규표현식(regular expression) : 문자(알파벳,한글), 숫자, 특수기호 정제 및 추출\n",
        "import re\n",
        "from time import sleep\n",
        "import time\n",
        "\n",
        "# 워닝 무시\n",
        "import warnings\n",
        "warnings.filterwarnings('ignore')"
      ]
    },
    {
      "cell_type": "code",
      "execution_count": null,
      "metadata": {
        "id": "VmsRodjkTw9D"
      },
      "outputs": [],
      "source": [
        "# 영화배우 이름 검색\n",
        "name = '배우 이정재'\n",
        "\n",
        "# 크롬 옵션\n",
        "options = webdriver.ChromeOptions()\n",
        "\n",
        "# 크롬 윈도우 사이즈 조절\n",
        "options.add_argument(\"--window-size=800,1200\") # window-size -> 기본 : 1920,1080\n",
        "\n",
        "import chromedriver_autoinstaller\n",
        "chrome_path = chromedriver_autoinstaller.install()\n",
        "driver = webdriver.Chrome(chrome_path, options=options)\n",
        "time.sleep(3)\n",
        "driver.get(\"https://www.naver.com\")\n",
        "# -> 네이버 크롬 창이 뜬다."
      ]
    },
    {
      "cell_type": "code",
      "execution_count": null,
      "metadata": {
        "id": "rA4bKwDFTw9E"
      },
      "outputs": [],
      "source": [
        "# 네이버 검색어 입력 후 검색\n",
        "element = driver.find_element_by_name(\"query\")\n",
        "element.clear()  # 혹시 검색창에 존재하는 텍스트 제거\n",
        "\n",
        "element.send_keys(name)  # 검색창에 검색어 전달\n",
        "element.submit()  # 검색 클릭\n",
        "time.sleep(1)\n",
        "\n",
        "# 프로필 클릭\n",
        "driver.find_element_by_link_text(\"프로필\").click()\n",
        "time.sleep(1)"
      ]
    },
    {
      "cell_type": "markdown",
      "metadata": {
        "id": "eYbD6xujTw9F"
      },
      "source": [
        "# 1. 배우 수상내역 수집하기"
      ]
    },
    {
      "cell_type": "code",
      "execution_count": null,
      "metadata": {
        "id": "qcCkxkPPTw9G"
      },
      "outputs": [],
      "source": [
        "# 수상내역 더보기 클릭\n",
        "try:\n",
        "    driver.find_element_by_css_selector(\".area_button_arrow\").click()\n",
        "    time.sleep(1)\n",
        "except:\n",
        "    pass"
      ]
    },
    {
      "cell_type": "code",
      "execution_count": null,
      "metadata": {
        "id": "PekaqDQdTw9H"
      },
      "outputs": [],
      "source": [
        "# 수상내역 크롤링\n",
        "prize_list = []"
      ]
    },
    {
      "cell_type": "code",
      "execution_count": null,
      "metadata": {
        "id": "Kmhs-3NlTw9I",
        "outputId": "c8e0e7b6-8407-4fb0-8726-df45bb2dfd09"
      },
      "outputs": [
        {
          "data": {
            "text/plain": [
              "'수상내역\\n2022\\n제1회 청룡시리즈어워즈 드라마부문 남우주연상 (오징어 게임)\\n2022\\n제27회 크리틱스 초이스 시상식 TV드라마시리즈부문 남우주연상 (오징어 게임)\\n2022\\n제37회 인디펜던트 스피릿 어워드 TV부문 남우주연상 (오징어 게임)\\n2022\\n제28회 미국배우조합상 TV드라마시리즈부문 남우주연상 (오징어 게임)\\n2021\\n아시아 아티스트 어워즈 대상 올해의 배우\\n2021\\n아시아 아티스트 어워즈 배우부문 페뷸러스상\\n2021\\n아시아 아티스트 어워즈 배우부문 핫트렌드상\\n2020\\n아시아 아티스트 어워즈 대상 올해의 배우 영화부문\\n2016\\n스타일아이콘어워즈 본상\\n2015\\n제3회 마리끌레르 아시아 스타 어워즈 올해의 배우상\\n2015\\n제24회 부일영화상 남우주연상\\n2015\\n제51회 백상예술대상 InStyle상\\n이전\\n현재\\n1\\n전체\\n3 다음\\n펴고 닫기'"
            ]
          },
          "execution_count": 6,
          "metadata": {},
          "output_type": "execute_result"
        }
      ],
      "source": [
        "prize = driver.find_element_by_css_selector(\".cm_content_area._cm_content_area_prize\").text\n",
        "prize"
      ]
    },
    {
      "cell_type": "code",
      "execution_count": null,
      "metadata": {
        "id": "w1OwvSbZTw9I",
        "outputId": "c3c4f4da-4b01-4e64-85ae-4ef489715006"
      },
      "outputs": [
        {
          "data": {
            "text/plain": [
              "['2022',\n",
              " '2022',\n",
              " '2022',\n",
              " '2022',\n",
              " '2021',\n",
              " '2021',\n",
              " '2021',\n",
              " '2020',\n",
              " '2016',\n",
              " '2015',\n",
              " '2015',\n",
              " '2015']"
            ]
          },
          "execution_count": 7,
          "metadata": {},
          "output_type": "execute_result"
        }
      ],
      "source": [
        "# 년도만 세기\n",
        "import re\n",
        "p = re.compile('[0-9]{4,4}')  # 정규표현식 - 숫자 4자리만 추출하라\n",
        "m = p.findall(prize)\n",
        "m"
      ]
    },
    {
      "cell_type": "code",
      "execution_count": null,
      "metadata": {
        "id": "XdyHLyKdTw9J",
        "outputId": "d8c14021-12dd-4239-d230-d78a879d10eb"
      },
      "outputs": [
        {
          "data": {
            "text/plain": [
              "['2022',\n",
              " '2022',\n",
              " '2022',\n",
              " '2022',\n",
              " '2021',\n",
              " '2021',\n",
              " '2021',\n",
              " '2020',\n",
              " '2016',\n",
              " '2015',\n",
              " '2015',\n",
              " '2015']"
            ]
          },
          "execution_count": 8,
          "metadata": {},
          "output_type": "execute_result"
        }
      ],
      "source": [
        "prize_list = prize_list + m\n",
        "prize_list"
      ]
    },
    {
      "cell_type": "code",
      "execution_count": null,
      "metadata": {
        "scrolled": true,
        "id": "K5-bmY6DTw9J"
      },
      "outputs": [],
      "source": [
        "# 수상내역 다음페이지 클릭\n",
        "if driver.find_element_by_css_selector('.pg_next.on'):\n",
        "    next = driver.find_element_by_css_selector('.pg_next.on').click()\n",
        "    time.sleep(2)"
      ]
    },
    {
      "cell_type": "code",
      "execution_count": null,
      "metadata": {
        "id": "_vRwr222Tw9K"
      },
      "outputs": [],
      "source": [
        ""
      ]
    },
    {
      "cell_type": "markdown",
      "metadata": {
        "id": "ATax-od2Tw9K"
      },
      "source": [
        "# 배우 수상내역 페이지 for문으로 묶기"
      ]
    },
    {
      "cell_type": "code",
      "execution_count": null,
      "metadata": {
        "id": "mz_sel0uTw9K",
        "outputId": "5c528b1c-d56d-48df-b7fa-75dd3ec78fd4"
      },
      "outputs": [
        {
          "name": "stdout",
          "output_type": "stream",
          "text": [
            "수상 수:  29\n"
          ]
        },
        {
          "data": {
            "text/plain": [
              "['2022',\n",
              " '2022',\n",
              " '2022',\n",
              " '2022',\n",
              " '2021',\n",
              " '2021',\n",
              " '2021',\n",
              " '2020',\n",
              " '2016',\n",
              " '2015',\n",
              " '2015',\n",
              " '2015',\n",
              " '2014',\n",
              " '2013',\n",
              " '2013',\n",
              " '2013',\n",
              " '2011',\n",
              " '2010',\n",
              " '2008',\n",
              " '2006',\n",
              " '2001',\n",
              " '1999',\n",
              " '1999',\n",
              " '1999',\n",
              " '1997',\n",
              " '1995',\n",
              " '1995',\n",
              " '1995',\n",
              " '1995']"
            ]
          },
          "execution_count": 10,
          "metadata": {},
          "output_type": "execute_result"
        }
      ],
      "source": [
        "# 영화배우 이름 검색\n",
        "name = '배우 이정재'\n",
        "\n",
        "# 크롬 옵션\n",
        "options = webdriver.ChromeOptions()  \n",
        "\n",
        "# 크롬 윈도우 사이즈 조절\n",
        "options.add_argument(\"--window-size=800, 1200\") # window-size -> 기본 : 1920,1080\n",
        "\n",
        "import chromedriver_autoinstaller\n",
        "chrome_path = chromedriver_autoinstaller.install()\n",
        "driver = webdriver.Chrome(chrome_path, options=options)\n",
        "time.sleep(3)\n",
        "driver.get(\"https://www.naver.com\")\n",
        "\n",
        "# 네이버 검색어 입력 후 검색\n",
        "element = driver.find_element_by_name(\"query\")\n",
        "element.clear()  # 혹시 검색창에 존재하는 텍스트 제거\n",
        "\n",
        "element.send_keys(name)  # 검색창에 검색어 전달\n",
        "element.submit()  # 검색 클릭\n",
        "time.sleep(1)\n",
        "\n",
        "# 프로필 클릭\n",
        "driver.find_element_by_link_text(\"프로필\").click()\n",
        "time.sleep(1)\n",
        "\n",
        "# 수상내역 더보기 클릭\n",
        "try:\n",
        "    driver.find_element_by_css_selector(\".cm_content_area._cm_content_area_prize .area_button_arrow\").click()\n",
        "    time.sleep(1)\n",
        "except:\n",
        "    pass\n",
        "\n",
        "# 수상내역 갯수 세기\n",
        "prize_list = []\n",
        "\n",
        "for i in range(0, 100):  # 수상내역 페이지 최대 100페이지까지 수집할 수 있게 설정\n",
        "    try:\n",
        "        # 수상내역 크롤링\n",
        "        prize = driver.find_element_by_css_selector(\".cm_content_area._cm_content_area_prize\").text\n",
        "        # 년도만 세기\n",
        "        p = re.compile('[0-9]{4,4}')   # 정규표현식으로 \"0-9숫자 4자리\" 수집\n",
        "        m = p.findall(prize)           # prize 중에서 모두 찾아라(findall 함수)\n",
        "        prize_list = prize_list + m    # 페이지 별 수상내역 리스트 전부 합치기\n",
        "\n",
        "        # 수상내역 다음페이지 클릭\n",
        "        if driver.find_element_by_css_selector('.pg_next.on'):\n",
        "            next = driver.find_element_by_css_selector('.pg_next.on').click()\n",
        "            time.sleep(2)\n",
        "    except:  \n",
        "        break\n",
        "    \n",
        "print('수상 수: ', len(prize_list))\n",
        "prize_list"
      ]
    },
    {
      "cell_type": "markdown",
      "metadata": {
        "id": "XL5R3EQTTw9L"
      },
      "source": [
        "# 2. 배우 필모그래피 수집하기"
      ]
    },
    {
      "cell_type": "code",
      "execution_count": null,
      "metadata": {
        "id": "4-FJmJnoTw9M"
      },
      "outputs": [],
      "source": [
        "# 필모그래피 클릭\n",
        "driver.find_element_by_link_text(\"필모그래피\").click()\n",
        "time.sleep(1)"
      ]
    },
    {
      "cell_type": "code",
      "execution_count": null,
      "metadata": {
        "id": "cIRw6nfkTw9M"
      },
      "outputs": [],
      "source": [
        "# 인기순 클릭\n",
        "driver.find_element_by_link_text(\"인기순\").click()\n",
        "time.sleep(1)"
      ]
    },
    {
      "cell_type": "code",
      "execution_count": null,
      "metadata": {
        "id": "0T1g6lvRTw9M",
        "outputId": "b521a33e-5f91-4ec5-90fd-66540114009e"
      },
      "outputs": [
        {
          "data": {
            "text/plain": [
              "'36'"
            ]
          },
          "execution_count": 13,
          "metadata": {},
          "output_type": "execute_result"
        }
      ],
      "source": [
        "driver.find_element_by_css_selector('.this_text_number').text"
      ]
    },
    {
      "cell_type": "code",
      "execution_count": null,
      "metadata": {
        "id": "sVMMfIrRTw9M",
        "outputId": "187ea21a-5e85-4259-a7ce-9ff659396ca4"
      },
      "outputs": [
        {
          "name": "stdout",
          "output_type": "stream",
          "text": [
            "필모 수:  36\n"
          ]
        }
      ],
      "source": [
        "film_num = int(driver.find_element_by_css_selector('.this_text_number').text)\n",
        "print('필모 수: ', film_num)"
      ]
    },
    {
      "cell_type": "code",
      "execution_count": null,
      "metadata": {
        "id": "BALsvL7STw9N",
        "outputId": "fee8621e-322f-426f-a899-7b3bc2d0ed66"
      },
      "outputs": [
        {
          "name": "stdout",
          "output_type": "stream",
          "text": [
            "페이지 클릭 횟수:  8\n"
          ]
        }
      ],
      "source": [
        "# 페이지 클릭횟수 계산\n",
        "page_click = math.ceil(film_num/4) - 1\n",
        "print('페이지 클릭 횟수: ', page_click)"
      ]
    },
    {
      "cell_type": "code",
      "execution_count": null,
      "metadata": {
        "id": "UT7irKBTTw9N"
      },
      "outputs": [],
      "source": [
        "# 영화 데이터 수집\n",
        "\n",
        "score_list = []\n",
        "cast_list = []\n",
        "audiance_list = []\n",
        "main_sub_list = []"
      ]
    },
    {
      "cell_type": "code",
      "execution_count": null,
      "metadata": {
        "id": "qTnPhUFyTw9N"
      },
      "outputs": [],
      "source": [
        ""
      ]
    },
    {
      "cell_type": "code",
      "execution_count": null,
      "metadata": {
        "id": "VUwX4kk_Tw9O",
        "outputId": "796d782e-88fb-4fec-c9b6-fb14618f27bd"
      },
      "outputs": [
        {
          "data": {
            "text/plain": [
              "['신과함께-죄와 벌', '도둑들', '암살', '신과함께-인과 연']"
            ]
          },
          "execution_count": 17,
          "metadata": {},
          "output_type": "execute_result"
        }
      ],
      "source": [
        "title_list = []\n",
        "\n",
        "# 제목\n",
        "titles = driver.find_elements_by_css_selector('.this_text')\n",
        "temp_list = []\n",
        "for title in titles:\n",
        "    temp_list.append(title.text)\n",
        "    # ['도둑들', '상영중', '암살', '상영중', '']\n",
        "    # 리스트 컴프리헨션 : for문 + 리스트\n",
        "    temp_list = [x for x in temp_list if x !='' and x != '상영중']\n",
        "#     print(temp_list)    \n",
        "title_list = title_list + temp_list \n",
        "title_list"
      ]
    },
    {
      "cell_type": "code",
      "execution_count": null,
      "metadata": {
        "id": "AKx0vjmVTw9O",
        "outputId": "e80d0ef0-0da7-44d7-8310-9e1326999910"
      },
      "outputs": [
        {
          "data": {
            "text/plain": [
              "[]"
            ]
          },
          "execution_count": 18,
          "metadata": {},
          "output_type": "execute_result"
        }
      ],
      "source": [
        "# 배역\n",
        "cast_list = []\n",
        "cast_temp = []\n",
        "for t in range(1, 5):\n",
        "    try:\n",
        "        cast = driver.find_element_by_css_selector('#mflick > div:nth-child({}) > div > div > div:nth-child({}) > div.data_area > div > span'.format(i+1, t)).text[:2]\n",
        "        cast_temp.append(cast)\n",
        "    except:\n",
        "        break\n",
        "cast_list = cast_list + cast_temp        \n",
        "cast_list\n",
        "#     print(cast_temp)\n"
      ]
    },
    {
      "cell_type": "code",
      "execution_count": null,
      "metadata": {
        "id": "LzVNEDfeTw9P",
        "outputId": "bcd5cc24-4428-41eb-f13b-7a1ce6c4bcd6"
      },
      "outputs": [
        {
          "name": "stdout",
          "output_type": "stream",
          "text": [
            "신과함께-죄와 벌\n"
          ]
        }
      ],
      "source": [
        "i = 0\n",
        "\n",
        "# 제목 수집 해보기\n",
        "\n",
        "# 제목 전체 리스트\n",
        "title_list = []\n",
        "\n",
        "# 제목 페이지별 리스트\n",
        "temp_list = []\n",
        "\n",
        "titles = driver.find_elements_by_css_selector('.this_text')\n",
        "title = titles[0]\n",
        "print(title.text)"
      ]
    },
    {
      "cell_type": "code",
      "execution_count": null,
      "metadata": {
        "id": "_ihIgmYjTw9P"
      },
      "outputs": [],
      "source": [
        ""
      ]
    },
    {
      "cell_type": "code",
      "execution_count": null,
      "metadata": {
        "id": "LmHxg-N1Tw9P"
      },
      "outputs": [],
      "source": [
        ""
      ]
    },
    {
      "cell_type": "markdown",
      "metadata": {
        "id": "dagVmhWWTw9P"
      },
      "source": [
        "## 배우 필모그래피 for문으로 수집하기"
      ]
    },
    {
      "cell_type": "code",
      "execution_count": null,
      "metadata": {
        "id": "-fqzNUeFTw9Q"
      },
      "outputs": [],
      "source": [
        "# 배우 리스트에서 이름 불러와서 name 변수에 저장하고 필모그래피 크롤링하기\n",
        "# pd.read_csv(\"actor_list.csv\")"
      ]
    },
    {
      "cell_type": "code",
      "execution_count": null,
      "metadata": {
        "id": "C9gBnx_2Tw9Q"
      },
      "outputs": [],
      "source": [
        "# 영화배우 이름 검색\n",
        "name = '배우 이정재'\n",
        "\n",
        "# 크롬 옵션\n",
        "options = webdriver.ChromeOptions()\n",
        "\n",
        "# 크롬 윈도우 사이즈 조절\n",
        "options.add_argument(\"--window-size=800,1200\") # window-size -> 기본 : 1920,1080\n",
        "\n",
        "import chromedriver_autoinstaller\n",
        "chrome_path = chromedriver_autoinstaller.install()\n",
        "driver = webdriver.Chrome(chrome_path, options=options)\n",
        "time.sleep(3)\n",
        "driver.get(\"https://www.naver.com\")\n",
        "\n",
        "# 네이버 검색어 입력 후 검색\n",
        "element = driver.find_element_by_name(\"query\")\n",
        "element.clear()  # 혹시 검색창에 존재하는 텍스트 제거\n",
        "\n",
        "element.send_keys(name)  # 검색창에 검색어 전달\n",
        "element.submit()  # 검색 클릭\n",
        "time.sleep(1)\n",
        "\n",
        "# ctrl shift -  : 셀 나누기\n",
        "# shift m :  셀 합치기"
      ]
    },
    {
      "cell_type": "code",
      "execution_count": null,
      "metadata": {
        "id": "Tz0r5pPwTw9Q",
        "outputId": "c3ff3cdf-a94c-42c4-a7a2-82f533150933"
      },
      "outputs": [
        {
          "name": "stdout",
          "output_type": "stream",
          "text": [
            "필모 수:  36\n",
            "페이지 클릭 횟수:  8\n"
          ]
        }
      ],
      "source": [
        "# 필모그래피 클릭\n",
        "driver.find_element_by_link_text(\"필모그래피\").click()\n",
        "time.sleep(1)\n",
        "\n",
        "# 인기순 클릭\n",
        "driver.find_element_by_link_text(\"인기순\").click()\n",
        "time.sleep(1)\n",
        "\n",
        "film_num = int(driver.find_element_by_css_selector('.this_text_number').text)\n",
        "print('필모 수: ', film_num)\n",
        "\n",
        "# 페이지 클릭횟수 계산\n",
        "page_click = math.ceil(film_num/4) - 1\n",
        "print('페이지 클릭 횟수: ', page_click)"
      ]
    },
    {
      "cell_type": "code",
      "execution_count": null,
      "metadata": {
        "id": "pmnJyyqjTw9Q",
        "outputId": "4c483730-a6ab-420f-e6de-b03bc12d04fd"
      },
      "outputs": [
        {
          "name": "stdout",
          "output_type": "stream",
          "text": [
            "\n",
            " 17\n",
            "['신과함께-죄와 벌', '도둑들', '암살', '신과함께-인과 연', '관상', '인천상륙작전', '신세계', '다만 악에서 구하소서', '태풍', '사바하', '하녀', '빅매치', '대립군', '1724 기방난동사건', '어쩌다, 결혼', '다만 악에서 구하소서 파이널컷', '인천상륙작전 : 익스텐디드 에디션(확장판)']\n",
            "['특별', '주연', '주연', '특별', '주연', '주연', '주연', '주연', '주연', '주연', '주연', '주연', '주연', '주연', '특별', '주연', '주연']\n",
            "[14410000, 12980000, 12700000, 12270000, 9130000, 7050000, 4680000, 4350000, 3470000, 2390000, 2260000, 1170000, 830000, 280000, 77000, 38000, 27000]\n"
          ]
        }
      ],
      "source": [
        "# 영화 데이터 수집\n",
        "title_list = []\n",
        "score_list = []\n",
        "cast_list = []\n",
        "audiance_list = []\n",
        "main_sub_list = []\n",
        "\n",
        "for i in range(page_click):    \n",
        "\n",
        "    # 제목\n",
        "    titles = driver.find_elements_by_css_selector('.this_text')\n",
        "    temp_list = []\n",
        "    for title in titles:\n",
        "        temp_list.append(title.text)\n",
        "        temp_list = [x for x in temp_list if x !='' and x != '상영중']\n",
        "#     print(temp_list)    \n",
        "    title_list = title_list + temp_list    \n",
        "    \n",
        "    # 배역\n",
        "    cast_temp = []\n",
        "    for t in range(1, 5):\n",
        "        try:\n",
        "            cast = driver.find_element_by_css_selector('#mflick > div:nth-child({}) > div > div > div:nth-child({}) > div.data_area > div > span'.format(i+1, t)).text[:2]\n",
        "            cast_temp.append(cast)\n",
        "        except:\n",
        "            break\n",
        "    cast_list = cast_list + cast_temp        \n",
        "#     print(cast_temp)\n",
        "    \n",
        "    # 관객수\n",
        "    score_temp = []\n",
        "    for j in range(1, 5):\n",
        "        try:\n",
        "            score = driver.find_element_by_css_selector('#mflick > div:nth-child({}) > div > div > div:nth-child({}) > div.data_area > div > div.info > dl:nth-child(2)'.format(i+1, j)).text.split('\\n')[1]\n",
        "            score = score.replace('만','0000').replace(',','')\n",
        "            if '.' in score:\n",
        "                score = int(score.replace('.', ''))\n",
        "                score = round(score*0.1)\n",
        "            else:\n",
        "                score = round(int(score))\n",
        "            \n",
        "            score_temp.append(score)\n",
        "        except:\n",
        "            break\n",
        "    score_list = score_list + score_temp\n",
        "#     print(score_temp, '\\n')\n",
        "    if len(score_temp) < 4:\n",
        "        break\n",
        "        \n",
        "    # 필모 다음페이지 클릭\n",
        "    driver.find_element_by_css_selector('.pg_next.on').click()\n",
        "    time.sleep(2)\n",
        "\n",
        "title_list = title_list[:len(score_list)]\n",
        "cast_list = cast_list[:len(score_list)]\n",
        "\n",
        "print('\\n', len(title_list))\n",
        "print(title_list)\n",
        "print(cast_list)\n",
        "print(score_list)"
      ]
    },
    {
      "cell_type": "code",
      "execution_count": null,
      "metadata": {
        "id": "hynJP8bnTw9R",
        "outputId": "79cbe229-63c5-4f1f-e6bd-601cc251934e"
      },
      "outputs": [
        {
          "name": "stdout",
          "output_type": "stream",
          "text": [
            "관객수 데이터가 있는 영화들만: \n",
            "                         제목  배역     score\n",
            "0                 신과함께-죄와 벌  특별  14410000\n",
            "1                       도둑들  주연  12980000\n",
            "2                        암살  주연  12700000\n",
            "3                 신과함께-인과 연  특별  12270000\n",
            "4                        관상  주연   9130000\n",
            "5                    인천상륙작전  주연   7050000\n",
            "6                       신세계  주연   4680000\n",
            "7               다만 악에서 구하소서  주연   4350000\n",
            "8                        태풍  주연   3470000\n",
            "9                       사바하  주연   2390000\n",
            "10                       하녀  주연   2260000\n",
            "11                      빅매치  주연   1170000\n",
            "12                      대립군  주연    830000\n",
            "13              1724 기방난동사건  주연    280000\n",
            "14                  어쩌다, 결혼  특별     77000\n",
            "15         다만 악에서 구하소서 파이널컷  주연     38000\n",
            "16  인천상륙작전 : 익스텐디드 에디션(확장판)  주연     27000\n"
          ]
        }
      ],
      "source": [
        "# \n",
        "df = pd.DataFrame(list(zip(title_list, cast_list, score_list)), columns = ['제목','배역', 'score'])\n",
        "print('관객수 데이터가 있는 영화들만: ')\n",
        "print(df)"
      ]
    },
    {
      "cell_type": "code",
      "execution_count": null,
      "metadata": {
        "id": "LHG1m07UTw9R",
        "outputId": "c876a922-2c6e-4e5c-edbb-e950d0ca1891"
      },
      "outputs": [
        {
          "name": "stdout",
          "output_type": "stream",
          "text": [
            "배우 이정재 배우 흥행지수:  1961953\n"
          ]
        }
      ],
      "source": [
        "# 주연 스코어 합\n",
        "cast_main = df[(df['배역']=='주연')]\n",
        "main_score = cast_main['score'].sum()\n",
        "\n",
        "# 조연 스코어 합\n",
        "cast_sub = df[(df['배역']=='조연')]\n",
        "sub_score = cast_sub['score'].sum()\n",
        "\n",
        "# 단역 스코어 합\n",
        "cast_other = df[(df['배역']!='주연') & (df['배역']!='조연')]\n",
        "cast_score = cast_other['score'].sum()\n",
        "\n",
        "# 배우 흥행지수\n",
        "actor_score_index = round((main_score*0.5 + sub_score*0.4 + cast_score*0.1) / len(df))\n",
        "print('{} 배우 흥행지수: '.format(name), actor_score_index)"
      ]
    },
    {
      "cell_type": "raw",
      "metadata": {
        "id": "7_jDUEy5Tw9R"
      },
      "source": [
        "<배우 흥행지수>\n",
        "이정재 1961953\n",
        "황정민 1484814\n",
        "김혜수 1355667\n",
        "유해진 1355268\n",
        "김인권 856353\n",
        "박정민 646406\n",
        "류승범 623295\n",
        "정해인 402957\n",
        "구교환 374000\n",
        "김고은 373216"
      ]
    },
    {
      "cell_type": "raw",
      "metadata": {
        "id": "6ufZ7wBmTw9R"
      },
      "source": [
        "배우 흥행지수 : (주연관객수*0.5 + 조연관객수*0.4 + 단역관객수*0.1) / 영화수\n",
        "\n",
        "추가로 고려할 사항들 : 수상수, 필모수"
      ]
    },
    {
      "cell_type": "code",
      "execution_count": null,
      "metadata": {
        "id": "XGDuxjc_Tw9S",
        "outputId": "08144ad4-463b-426b-d60c-5f56691ad721"
      },
      "outputs": [
        {
          "data": {
            "text/html": [
              "<div>\n",
              "<style scoped>\n",
              "    .dataframe tbody tr th:only-of-type {\n",
              "        vertical-align: middle;\n",
              "    }\n",
              "\n",
              "    .dataframe tbody tr th {\n",
              "        vertical-align: top;\n",
              "    }\n",
              "\n",
              "    .dataframe thead th {\n",
              "        text-align: right;\n",
              "    }\n",
              "</style>\n",
              "<table border=\"1\" class=\"dataframe\">\n",
              "  <thead>\n",
              "    <tr style=\"text-align: right;\">\n",
              "      <th></th>\n",
              "      <th>제목</th>\n",
              "      <th>배역</th>\n",
              "      <th>score</th>\n",
              "    </tr>\n",
              "  </thead>\n",
              "  <tbody>\n",
              "    <tr>\n",
              "      <th>1</th>\n",
              "      <td>도둑들</td>\n",
              "      <td>주연</td>\n",
              "      <td>12980000</td>\n",
              "    </tr>\n",
              "    <tr>\n",
              "      <th>2</th>\n",
              "      <td>암살</td>\n",
              "      <td>주연</td>\n",
              "      <td>12700000</td>\n",
              "    </tr>\n",
              "    <tr>\n",
              "      <th>4</th>\n",
              "      <td>관상</td>\n",
              "      <td>주연</td>\n",
              "      <td>9130000</td>\n",
              "    </tr>\n",
              "    <tr>\n",
              "      <th>5</th>\n",
              "      <td>인천상륙작전</td>\n",
              "      <td>주연</td>\n",
              "      <td>7050000</td>\n",
              "    </tr>\n",
              "    <tr>\n",
              "      <th>6</th>\n",
              "      <td>신세계</td>\n",
              "      <td>주연</td>\n",
              "      <td>4680000</td>\n",
              "    </tr>\n",
              "    <tr>\n",
              "      <th>7</th>\n",
              "      <td>다만 악에서 구하소서</td>\n",
              "      <td>주연</td>\n",
              "      <td>4350000</td>\n",
              "    </tr>\n",
              "    <tr>\n",
              "      <th>8</th>\n",
              "      <td>태풍</td>\n",
              "      <td>주연</td>\n",
              "      <td>3470000</td>\n",
              "    </tr>\n",
              "    <tr>\n",
              "      <th>9</th>\n",
              "      <td>사바하</td>\n",
              "      <td>주연</td>\n",
              "      <td>2390000</td>\n",
              "    </tr>\n",
              "    <tr>\n",
              "      <th>10</th>\n",
              "      <td>하녀</td>\n",
              "      <td>주연</td>\n",
              "      <td>2260000</td>\n",
              "    </tr>\n",
              "    <tr>\n",
              "      <th>11</th>\n",
              "      <td>빅매치</td>\n",
              "      <td>주연</td>\n",
              "      <td>1170000</td>\n",
              "    </tr>\n",
              "    <tr>\n",
              "      <th>12</th>\n",
              "      <td>대립군</td>\n",
              "      <td>주연</td>\n",
              "      <td>830000</td>\n",
              "    </tr>\n",
              "    <tr>\n",
              "      <th>13</th>\n",
              "      <td>1724 기방난동사건</td>\n",
              "      <td>주연</td>\n",
              "      <td>280000</td>\n",
              "    </tr>\n",
              "    <tr>\n",
              "      <th>15</th>\n",
              "      <td>다만 악에서 구하소서 파이널컷</td>\n",
              "      <td>주연</td>\n",
              "      <td>38000</td>\n",
              "    </tr>\n",
              "    <tr>\n",
              "      <th>16</th>\n",
              "      <td>인천상륙작전 : 익스텐디드 에디션(확장판)</td>\n",
              "      <td>주연</td>\n",
              "      <td>27000</td>\n",
              "    </tr>\n",
              "  </tbody>\n",
              "</table>\n",
              "</div>"
            ],
            "text/plain": [
              "                         제목  배역     score\n",
              "1                       도둑들  주연  12980000\n",
              "2                        암살  주연  12700000\n",
              "4                        관상  주연   9130000\n",
              "5                    인천상륙작전  주연   7050000\n",
              "6                       신세계  주연   4680000\n",
              "7               다만 악에서 구하소서  주연   4350000\n",
              "8                        태풍  주연   3470000\n",
              "9                       사바하  주연   2390000\n",
              "10                       하녀  주연   2260000\n",
              "11                      빅매치  주연   1170000\n",
              "12                      대립군  주연    830000\n",
              "13              1724 기방난동사건  주연    280000\n",
              "15         다만 악에서 구하소서 파이널컷  주연     38000\n",
              "16  인천상륙작전 : 익스텐디드 에디션(확장판)  주연     27000"
            ]
          },
          "execution_count": 27,
          "metadata": {},
          "output_type": "execute_result"
        }
      ],
      "source": [
        "cast_main = df[(df['배역']=='주연')]\n",
        "cast_main"
      ]
    },
    {
      "cell_type": "raw",
      "metadata": {
        "id": "d3VgHNZqTw9S"
      },
      "source": [
        ""
      ]
    },
    {
      "cell_type": "code",
      "execution_count": null,
      "metadata": {
        "id": "2qORLmx6Tw9S"
      },
      "outputs": [],
      "source": [
        ""
      ]
    },
    {
      "cell_type": "code",
      "execution_count": null,
      "metadata": {
        "id": "d3tWppfOTw9S"
      },
      "outputs": [],
      "source": [
        ""
      ]
    },
    {
      "cell_type": "code",
      "execution_count": null,
      "metadata": {
        "id": "LD_D5VOjTw9S"
      },
      "outputs": [],
      "source": [
        ""
      ]
    },
    {
      "cell_type": "code",
      "execution_count": null,
      "metadata": {
        "id": "BuhU6C5STw9S"
      },
      "outputs": [],
      "source": [
        ""
      ]
    },
    {
      "cell_type": "code",
      "execution_count": null,
      "metadata": {
        "id": "zPfhfZklTw9S"
      },
      "outputs": [],
      "source": [
        ""
      ]
    },
    {
      "cell_type": "code",
      "execution_count": null,
      "metadata": {
        "id": "RELhZRjTTw9S"
      },
      "outputs": [],
      "source": [
        ""
      ]
    },
    {
      "cell_type": "code",
      "execution_count": null,
      "metadata": {
        "id": "LeGb0EOzTw9T"
      },
      "outputs": [],
      "source": [
        ""
      ]
    },
    {
      "cell_type": "code",
      "execution_count": null,
      "metadata": {
        "id": "YzL16QeITw9T"
      },
      "outputs": [],
      "source": [
        ""
      ]
    },
    {
      "cell_type": "code",
      "execution_count": null,
      "metadata": {
        "id": "jLfV1V3YTw9T"
      },
      "outputs": [],
      "source": [
        ""
      ]
    },
    {
      "cell_type": "code",
      "execution_count": null,
      "metadata": {
        "id": "OYVv7_e_Tw9T"
      },
      "outputs": [],
      "source": [
        ""
      ]
    }
  ],
  "metadata": {
    "kernelspec": {
      "display_name": "Python 3",
      "language": "python",
      "name": "python3"
    },
    "language_info": {
      "codemirror_mode": {
        "name": "ipython",
        "version": 3
      },
      "file_extension": ".py",
      "mimetype": "text/x-python",
      "name": "python",
      "nbconvert_exporter": "python",
      "pygments_lexer": "ipython3",
      "version": "3.8.8"
    },
    "toc": {
      "base_numbering": 1,
      "nav_menu": {},
      "number_sections": true,
      "sideBar": true,
      "skip_h1_title": false,
      "title_cell": "Table of Contents",
      "title_sidebar": "Contents",
      "toc_cell": false,
      "toc_position": {},
      "toc_section_display": true,
      "toc_window_display": false
    },
    "varInspector": {
      "cols": {
        "lenName": 16,
        "lenType": 16,
        "lenVar": 40
      },
      "kernels_config": {
        "python": {
          "delete_cmd_postfix": "",
          "delete_cmd_prefix": "del ",
          "library": "var_list.py",
          "varRefreshCmd": "print(var_dic_list())"
        },
        "r": {
          "delete_cmd_postfix": ") ",
          "delete_cmd_prefix": "rm(",
          "library": "var_list.r",
          "varRefreshCmd": "cat(var_dic_list()) "
        }
      },
      "types_to_exclude": [
        "module",
        "function",
        "builtin_function_or_method",
        "instance",
        "_Feature"
      ],
      "window_display": false
    },
    "colab": {
      "name": "네이버 영화배우 수상내역 크롤링(202205).ipynb",
      "provenance": []
    }
  },
  "nbformat": 4,
  "nbformat_minor": 0
}