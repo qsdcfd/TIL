{
  "nbformat": 4,
  "nbformat_minor": 0,
  "metadata": {
    "colab": {
      "name": "조건문(elif)과 예외처리(try, except)",
      "provenance": [],
      "authorship_tag": "ABX9TyMvhJytVbSaw2CoPCpHmNhH",
      "include_colab_link": true
    },
    "kernelspec": {
      "name": "python3",
      "display_name": "Python 3"
    },
    "language_info": {
      "name": "python"
    }
  },
  "cells": [
    {
      "cell_type": "markdown",
      "metadata": {
        "id": "view-in-github",
        "colab_type": "text"
      },
      "source": [
        "<a href=\"https://colab.research.google.com/github/qsdcfd/TIL/blob/TIL/Study__151/%EC%A1%B0%EA%B1%B4%EB%AC%B8(elif)%EA%B3%BC_%EC%98%88%EC%99%B8%EC%B2%98%EB%A6%AC(try%2C_except).ipynb\" target=\"_parent\"><img src=\"https://colab.research.google.com/assets/colab-badge.svg\" alt=\"Open In Colab\"/></a>"
      ]
    },
    {
      "cell_type": "markdown",
      "source": [
        "#### 학습목표\n",
        "\n",
        "다중 분기(Multi-way Decision) 조건문을 이해하고 사용할 수 있다.\n",
        "\n",
        "try / except 문을 이용하여 오류를 처리 할 수 있다.\n",
        "\n",
        "<br>\n",
        "\n",
        "#### 핵심 키워드\n",
        "\n",
        "다중 분기 (Multi-way Decision)\n",
        "\n",
        "try / except\n",
        "\n",
        "---\n",
        "\n",
        "#### 다중 분기(Multi-way decisions)\n",
        "\n",
        "\n",
        "![](https://images.velog.io/images/qsdcfd/post/bfdc261e-f5eb-46d7-8250-eb07fbdedb3c/image.png)\n",
        "\n",
        "- 순서가 중요하다\n",
        "\n",
        "- 하나의 조건문 블록에다가 조건문들을 추가할 수 있습니다.(by elif)\n",
        "\n",
        "```\n",
        "x = 21\n",
        "\n",
        "if x < 2 :\n",
        "    print('Small')\n",
        "elif x < 10 :\n",
        "    print('Medium')\n",
        "elif x < 20 :\n",
        "    print('Big')\n",
        "elif x < 40 :\n",
        "    print('Large')\n",
        "elif x < 100 :\n",
        "    print('Huge')\n",
        "else :\n",
        "    print('Ginormous')\n",
        "\n",
        "# Large가 출력됩니다.\n",
        "```\n",
        "\n",
        "<br>\n",
        "\n",
        "#### try/except\n",
        "\n",
        "\n",
        "![](https://images.velog.io/images/qsdcfd/post/f88ecfb0-7165-4f73-b0f3-49aa9af147d3/image.png)\n",
        "\n",
        "\n",
        "- 파이썬에서 발생할 error를 미리 대체하기\n",
        "\n",
        "- 잘못된 입력을 넣었을 때 프로그램 종료가 아닌 올바르게 입력값을 넣도록 유도\n",
        "\n",
        "- try부분에 출력문을 넣어도 실행되지 않고 프로그램이 중단될 수 있다.\n",
        "\n",
        "```\n",
        "astr = \"123\"\n",
        "\n",
        "try:\n",
        "    print(\"Hello\")\n",
        "    isInt = int(astr)\n",
        "    print(\"World\")\n",
        "except:\n",
        "    isInt = \"Integer로 변환할 수 없습니다.\"\n",
        "\n",
        "print('Done', isInt)\n",
        "# Hello\n",
        "# World\n",
        "# Done 123이 순서대로 출력됩니다\n",
        "```\n",
        "\n",
        "*예시\n",
        "\n",
        "![](https://images.velog.io/images/qsdcfd/post/44140d97-4426-4eda-86c5-87f8e76ff427/image.png)\n"
      ],
      "metadata": {
        "id": "2ejAwa_R_Wcn"
      }
    }
  ]
}