{
  "nbformat": 4,
  "nbformat_minor": 0,
  "metadata": {
    "colab": {
      "name": "소켓 모듈을 통한 네트워크 연결",
      "provenance": [],
      "authorship_tag": "ABX9TyPdxDSeEP2Y/9BVaaLEQoJU"
    },
    "kernelspec": {
      "name": "python3",
      "display_name": "Python 3"
    },
    "language_info": {
      "name": "python"
    }
  },
  "cells": [
    {
      "cell_type": "markdown",
      "source": [
        "### TCP\n",
        "\n",
        "- IP 만들 수 있다(인터넷 프로토콜)\n",
        "\n",
        "- 저장과 제한 데이터들은 잃게 보일 수 있다\n",
        "\n",
        "- 윈도우 tansmit사용 시 컨트롤의 흐름을 작동한다\n",
        "\n",
        "- 좋고 믿을만한 pipe 제공\n",
        "\n",
        "![](https://images.velog.io/images/qsdcfd/post/9a0c2767-77dc-42fb-834b-580672e1b062/image.png)\n",
        "\n",
        "*왼쪽은 내 컴퓨터, 오른쪽은 서브 컴퓨터입니다.\n",
        "\n",
        "<br>\n",
        "\n",
        "**Sockets**\n",
        "\n",
        "pipe로 서로 연결하여 데이터를 주고받는 상태\n",
        "\n",
        "![](https://images.velog.io/images/qsdcfd/post/7f2fd5d6-6022-43a2-86f3-e2cc1aef0cb2/image.png)\n",
        "\n",
        "\n",
        "<br>\n",
        "\n",
        "**Port Numbers**\n",
        "\n",
        "![](https://images.velog.io/images/qsdcfd/post/50b50afa-64b1-487b-b6ce-2e8d95d9e404/image.png)\n",
        "\n",
        "- 내선번호 느낌입니다.\n",
        "\n",
        "- 포트는 소프트웨어의 끝점을 말하는 것입니다.\n",
        "\n",
        "- 포트는 다중 네트워 애플리케이션에서도 같은 서버에 공존합니다\n",
        "\n",
        "- 예시\n",
        "\n",
        "   - Telnet(23): Login\n",
        "   \n",
        "   - SSH(22): Secure Login\n",
        "   \n",
        "   - HTTP(80)\n",
        "   \n",
        "   - HTTPS(443): Secure\n",
        "   \n",
        "   - SMTP(25): Mail\n",
        "   \n",
        "   - IMAP(143/220/993): : Mail Retrieval\n",
        "   \n",
        "   - POP(109/110): Mail Retrieval\n",
        "   \n",
        "   - DNS(53): Domain Name\n",
        "   \n",
        "   - FTP(21): File Transfer\n",
        "   \n",
        "   \n",
        " <br>\n",
        " \n",
        " ### 파이썬으로 소켓\n",
        " \n",
        "\n",
        "\n",
        "파이썬에서는 다음과 같은 방법으로 소켓을 굉장히 쉽게 만들 수 있습니다.\n",
        "\n",
        "import socket #socket 모듈 import\n",
        "mysock = socket.socket(socket.AF_INET, socket.SOCK_STREAM) #스트링 방식으로 만들어주기\n",
        "mysock.connect( ('data.pr4e.org', 80) ) # 80포트로 연결\n"
      ],
      "metadata": {
        "id": "D6OOBYsFAEoj"
      }
    },
    {
      "cell_type": "code",
      "source": [
        ""
      ],
      "metadata": {
        "id": "8xd2f1z2AFVC"
      },
      "execution_count": null,
      "outputs": []
    }
  ]
}