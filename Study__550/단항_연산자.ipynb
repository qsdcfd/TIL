{
  "nbformat": 4,
  "nbformat_minor": 0,
  "metadata": {
    "colab": {
      "provenance": [],
      "authorship_tag": "ABX9TyM5RoLQAZ4OMtByxCMva4uA"
    },
    "kernelspec": {
      "name": "python3",
      "display_name": "Python 3"
    },
    "language_info": {
      "name": "python"
    }
  },
  "cells": [
    {
      "cell_type": "markdown",
      "source": [
        "# 객체지향 상용구\n",
        "## 연산자 오버로딩: 제대로 하기\n",
        "### 단항 연산자\n",
        "\n",
        "![](https://velog.velcdn.com/images/qsdcfd/post/267eae7e-2299-496e-b8a3-347b80b17ec0/image.png)\n",
        "\n",
        ">단항 연산자는 self 인수 하나를 받는 적절한 특별 메서드를 구현하기에ㅔ 쉽다. 물론, 클래스에 논리적으로 합당한 연산을 수행해야 하므로 self를 수정하지 말고 적절한 자료형의 객체를 새로 생성해서 반환해야 한다.\n",
        "\n",
        "<br>\n",
        "\n",
        "단적으로, +와-인 경우 결과는 아마도 self와 같은 클래스의 객체로 +의 경우 일반적으로 self의 사본을 반환하는 것이 좋다.\n",
        "\n",
        "abs()의 경우 스칼라형 숫자가 결과로 나온다.\n",
        "\n",
        "~의 경우 정수이외의 피연산자에 적용한다면 어떤 값이 나와야 하는지 확답하기 어렵고, ORM에서 ~를 사용하면 SQL의 WHERE 구를 부정한 결과를 반환하는 것이 타당하다.\n",
        "\n",
        "```\n",
        "#vector_v6.py: 단항 연산자 - 와 + 추가\n",
        "\n",
        "def __abs__(self):\n",
        "\treturn math.sqrt(sum(x * x for x in self))\n",
        "    \n",
        "def __neg__(self):\n",
        "\treturn Vector(-x for x in self)\n",
        "\n",
        "def __pos__(self):\n",
        "\treturn Vector(self)\n",
        "```\n",
        "\n",
        "<br>\n",
        "\n",
        "Vector 객체를 반복할 수 있고, Vector.__init__()이 반복형 인수를 받으므로 __neg__()와 __pos__()를 짧고 멋지게 구현할 수 있다.\n",
        "\n",
        "__invert__() 메서드는 구현하지 않을 것이므로 Vector 객체에 ~v 연산을 실행하면 파이썬은 단항 연산자 ~에 맞지 않는 피연산자라는 것을 의미하는 'bad operand type for unary ~: 'Vector\".\"메시지와 함께 TypeError가 발생한다.\n",
        "\n",
        "<br>\n",
        "\n",
        "#### _x와 +x가 동일하지 않은 경우 _\n",
        "\n",
        "```\n",
        "#산술 콘텍스트의 정밀도를 변경하면 x와 +x가 달라질 수 있다.\n",
        "\n",
        "import decimal\n",
        "ctx = decimal.getcontext()\n",
        "ctx.prec = 40\n",
        "one_third = decimal.Decimal('1') / decimal.Decimal('3')\n",
        "one_third == +one_third\n",
        "ctx.prec = 28\n",
        "one_third == +one_third\n",
        "+one_third\n",
        "```\n",
        "<br>\n",
        "\n",
        "```\n",
        "#단항 연산자 +는 합계가 0이 아닌 음수인 항목을 제외하고 Counter 객체를 새로 생성한다.\n",
        "ct  = Counter('abracadabra')\n",
        "ct\n",
        "```"
      ],
      "metadata": {
        "id": "c7Ohdof0bgrw"
      }
    },
    {
      "cell_type": "code",
      "source": [],
      "metadata": {
        "id": "jEELRKrabg22"
      },
      "execution_count": null,
      "outputs": []
    }
  ]
}