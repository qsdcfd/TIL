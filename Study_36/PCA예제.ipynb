{
 "cells": [
  {
   "cell_type": "code",
   "execution_count": null,
   "id": "military-scenario",
   "metadata": {},
   "outputs": [],
   "source": [
    "# 차원 축소 예제: 유방암 데이터셋\n",
    "from sklearn.datasets import load_breast_cancer\n",
    "from sklearn.model_selection import train_test_split\n",
    "\n",
    "# 데이터 로드\n",
    "cancer=load_breast_cancer()\n",
    "\n",
    "# y=0(Malignant:악성 종양), y=1(Benign:양성 종양)\n",
    "cancer_X, cancer_y= cancer.data, cancer['target']\n",
    "train_X, test_X, train_y, test_y = train_test_split(cancer_X, cancer_y, test_size=0.1, random_state=10) # train 데이터셋과 test 데이터셋으로 나눔\n",
    "print(\"전체 검사자 수: {}\".format(len(cancer_X)))\n",
    "print(\"Train dataset에 사용되는 검사자 수: {}\".format(len(train_X)))\n",
    "print(\"Test dataset에 사용되는 검사자 수: {}\".format(len(test_X)))\n",
    "cancer_df = pd.DataFrame(cancer_X, columns=cancer['feature_names'])\n",
    "cancer_df.head()"
   ]
  },
  {
   "cell_type": "code",
   "execution_count": null,
   "id": "abroad-herald",
   "metadata": {},
   "outputs": [],
   "source": [
    "from sklearn.preprocessing import StandardScaler\n",
    "from sklearn.decomposition import PCA\n",
    "from sklearn import svm\n",
    "from sklearn.metrics import accuracy_score\n",
    "from collections import Counter\n",
    "\n",
    "# color dictionary\n",
    "color_dict = {0: 'red', 1: 'blue', 2:'red', 3:'blue'}\n",
    "target_dict = {0: 'malignant_train', 1: 'benign_train', 2: 'malignant_test', 3:'benign_test'}\n",
    "\n",
    "#Train data에 PCA 알고리즘 적용\n",
    "train_X_ = StandardScaler().fit_transform(train_X) # 불러온 데이터에 대한 정규화 -> 각 column의 range of value가 전부 다르기 때문에 정규화를 진행해 주어야 합니다.\n",
    "train_df = pd.DataFrame(train_X_, columns=cancer['feature_names'])\n",
    "pca = PCA(n_components=2) # 주성분의 수를 2개, 즉 기저가 되는 방향벡터를 2개로 하는 PCA 알고리즘 수행\n",
    "pc = pca.fit_transform(train_df)"
   ]
  },
  {
   "cell_type": "code",
   "execution_count": null,
   "id": "opponent-remove",
   "metadata": {},
   "outputs": [],
   "source": [
    "#Test data에 PCA 알고리즘 적용\n",
    "test_X_ = StandardScaler().fit_transform(test_X) # normalization\n",
    "test_df = pd.DataFrame(test_X_, columns=cancer['feature_names'])\n",
    "pca_test = PCA(n_components=2)\n",
    "pc_test = pca_test.fit_transform(test_df)"
   ]
  },
  {
   "cell_type": "code",
   "execution_count": null,
   "id": "developmental-formula",
   "metadata": {},
   "outputs": [],
   "source": [
    "# 훈련한 classifier의 decision boundary를 그리는 함수\n",
    "def plot_decision_boundary(X, clf, ax): \n",
    "    h = .02  # step size in the mesh\n",
    "    # create a mesh to plot in\n",
    "    x_min, x_max = X[:, 0].min() - 1, X[:, 0].max() + 1\n",
    "    y_min, y_max = X[:, 1].min() - 1, X[:, 1].max() + 1\n",
    "    xx, yy = np.meshgrid(np.arange(x_min, x_max, h), np.arange(y_min, y_max, h))\n",
    "    Z = clf.predict(np.c_[xx.ravel(), yy.ravel()])\n",
    "    Z = Z.reshape(xx.shape)\n",
    "    ax.contour(xx, yy, Z, cmap='Blues')\n",
    "\n",
    "# PCA를 적용한 train data의 classifier 훈련: classfier로 Support Vector Machine(SVM) 사용\n",
    "clf = svm.SVC(kernel = 'rbf', gamma=0.5, C=0.8) # 여기서는 classifier로 SVM을 사용한다는 정도만 알아둡시다!\n",
    "clf.fit(pc, train_y) # train data로 classifier 훈련\n",
    "\n",
    "# PCA를 적용하지 않은 original data의 SVM 훈련\n",
    "clf_orig = svm.SVC(kernel = 'rbf', gamma=0.5, C=0.8) # 여기서는 classifier로 SVM을 사용한다는 정도만 알아둡시다!\n",
    "clf_orig.fit(train_df, train_y)"
   ]
  },
  {
   "cell_type": "code",
   "execution_count": null,
   "id": "expired-division",
   "metadata": {},
   "outputs": [],
   "source": [
    "# 캔버스 도식\n",
    "fig = plt.figure()\n",
    "ax = fig.add_subplot(1, 1, 1)\n",
    "\n",
    "# malignant와 benign의 SVM decision boundary 그리기\n",
    "plot_decision_boundary(pc, clf, ax)\n",
    "\n",
    "#Train data 도식\n",
    "for cluster in range(2):\n",
    "    sub_cancer_points = pc[train_y == cluster]\n",
    "    ax.scatter(sub_cancer_points[:, 0], sub_cancer_points[:, 1], edgecolor=color_dict[cluster], c='none', label=target_dict[cluster])\n",
    "#Test data 도식\n",
    "for cluster in range(2):\n",
    "    sub_cancer_points = pc_test[test_y == cluster]\n",
    "    ax.scatter(sub_cancer_points[:, 0], sub_cancer_points[:, 1], marker= 'x', c=color_dict[cluster+2], label=target_dict[cluster+2])\n",
    "ax.set_xlabel('PC1')\n",
    "ax.set_ylabel('PC2')\n",
    "ax.set_title('PCA-Breast cancer dataset')\n",
    "ax.legend()\n",
    "ax.grid()\n",
    "\n",
    "# Scoring\n",
    "pca_test_accuracy_dict = Counter(clf.predict(pc_test) == test_y)\n",
    "orig_test_accuracy_dict = Counter(clf_orig.predict(test_df) == test_y)\n",
    "\n",
    "print(\"PCA 분석을 사용한 Test dataset accuracy: {}명/{}명 => {:.3f}\".format(pca_test_accuracy_dict[True], sum(pca_test_accuracy_dict.values()), clf.score(pc_test, test_y)))\n",
    "print(\"PCA를 적용하지 않은 Test dataset accuracy: {}명/{}명 => {:.3f}\".format(orig_test_accuracy_dict[True], sum(orig_test_accuracy_dict.values()), clf_orig.score(test_df, test_y)))"
   ]
  }
 ],
 "metadata": {
  "kernelspec": {
   "display_name": "Python 3",
   "language": "python",
   "name": "python3"
  },
  "language_info": {
   "codemirror_mode": {
    "name": "ipython",
    "version": 3
   },
   "file_extension": ".py",
   "mimetype": "text/x-python",
   "name": "python",
   "nbconvert_exporter": "python",
   "pygments_lexer": "ipython3",
   "version": "3.7.9"
  }
 },
 "nbformat": 4,
 "nbformat_minor": 5
}
