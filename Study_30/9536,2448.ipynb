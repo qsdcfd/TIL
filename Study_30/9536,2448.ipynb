{
 "cells": [
  {
   "cell_type": "code",
   "execution_count": null,
   "id": "indonesian-valley",
   "metadata": {},
   "outputs": [],
   "source": [
    "import sys\n",
    "\n",
    "t = int(sys.stdin.readline().rstrip())\n",
    "\n",
    "for i in range(t):\n",
    "    dict = {}\n",
    "    lst = []\n",
    "    sound = sys.stdin.readline().rstrip()\n",
    "    lst.append(sound.split())\n",
    "\n",
    "    while True:\n",
    "        ani = sys.stdin.readline().rstrip()\n",
    "        if ani == \"what does the fox say?\":\n",
    "            break\n",
    "        dict[ani.split()[0]] = ani.split()[2]\n",
    "    lsta = list(dict.values())\n",
    "\n",
    "    for j in range(len(lsta)):\n",
    "        while True:\n",
    "            try:\n",
    "                lst[0].remove(lsta[j])\n",
    "            except:\n",
    "                break\n",
    "    print(' '.join(lst[0]))\n",
    "\n",
    "\n"
   ]
  },
  {
   "cell_type": "code",
   "execution_count": null,
   "id": "quarterly-verification",
   "metadata": {},
   "outputs": [],
   "source": [
    "import math\n",
    "\n",
    "answer = [\"  *   \", \" * *  \", \"***** \"]\n",
    "def stars(space):\n",
    "    length = len(answer)\n",
    "    for i in range(length):\n",
    "        answer.append(answer[i] + answer[i])\n",
    "        answer[i] = (\"   \" * space + answer[i] + \"   \" * space)\n",
    "\n",
    "\n",
    "N = int(input())\n",
    "iterate = int(math.log(N//3, 2))\n",
    "\n",
    "for i in range(iterate):\n",
    "    stars(int(pow(2, i)))\n",
    "\n",
    "for i in range(N):\n",
    "    print(answer[i])"
   ]
  }
 ],
 "metadata": {
  "kernelspec": {
   "display_name": "Python 3",
   "language": "python",
   "name": "python3"
  },
  "language_info": {
   "codemirror_mode": {
    "name": "ipython",
    "version": 3
   },
   "file_extension": ".py",
   "mimetype": "text/x-python",
   "name": "python",
   "nbconvert_exporter": "python",
   "pygments_lexer": "ipython3",
   "version": "3.7.9"
  }
 },
 "nbformat": 4,
 "nbformat_minor": 5
}
