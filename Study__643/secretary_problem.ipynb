{
  "nbformat": 4,
  "nbformat_minor": 0,
  "metadata": {
    "colab": {
      "provenance": [],
      "authorship_tag": "ABX9TyNc0w90lnii831G8RF3BK+f"
    },
    "kernelspec": {
      "name": "python3",
      "display_name": "Python 3"
    },
    "language_info": {
      "name": "python"
    }
  },
  "cells": [
    {
      "cell_type": "markdown",
      "source": [
        "비서 1명을 뽑는 공고에 100명의 사람이 지원했습니다. 당신은 1명씩 면접을 진행하며, 합불여부를 바로 현장에서 통보해야 합니다. 한 번 불합격시킨 면접자는 다시 번복할 수 없고 합격자가 나오면 이후의 모든 면접은 취소됩니다. 당신의 목표는 100명 중 가장 뛰어난 지원자를 뽑는 것입니다. 당신은 k%의 지원자를 본 뒤 그 중 가장 뛰어난 지원자보다 뛰어난 지원자를 나머지 (100-k)%의 지원자 중에서 만나면 뽑기로 결정했습니다. 최적의 k를 시뮬레이션을 통해 구해보세요.\n",
        "\n"
      ],
      "metadata": {
        "id": "zG1KrqDxVTg3"
      }
    },
    {
      "cell_type": "code",
      "source": [],
      "metadata": {
        "id": "MHBYIXhJVoPf"
      },
      "execution_count": null,
      "outputs": []
    },
    {
      "cell_type": "code",
      "execution_count": 10,
      "metadata": {
        "id": "n_nc9PgNVSDH"
      },
      "outputs": [],
      "source": [
        "import random\n",
        "\n",
        "def interview(k):\n",
        "    scores = list(range(1, 101))\n",
        "    random.shuffle(scores)\n",
        "\n",
        "    explore = scores[:30]\n",
        "    max_explore = max(explore)\n",
        "\n",
        "    max_found = False\n",
        "    for idx, score in enumerate(scores[k:]):\n",
        "        if score > max_explore:\n",
        "            if score == 100:\n",
        "                return True\n",
        "            else:\n",
        "                return False\n",
        "\n",
        "    return False\n",
        "\n",
        "def interview_iterator(n, k):\n",
        "    interviewed = [interview(k) for i in range(n)]\n",
        "    found_count = sum(interviewed)\n",
        "    success_percentage = 100 * found_count / n\n",
        "    print(f\"{n}회 중 성공 횟수: {found_count}({success_percentage}%)\")\n"
      ]
    },
    {
      "cell_type": "code",
      "source": [
        "interview_iterator(10000, 50)\n",
        "\n",
        "interview_iterator(10000, 75)\n",
        "\n",
        "interview_iterator(10000, 25)\n",
        "\n",
        "interview_iterator(10000, 37)\n"
      ],
      "metadata": {
        "colab": {
          "base_uri": "https://localhost:8080/"
        },
        "id": "DuXsNINrVY8V",
        "outputId": "95b3e01e-9e92-454c-c2b5-b1aeefcad10a"
      },
      "execution_count": 11,
      "outputs": [
        {
          "output_type": "stream",
          "name": "stdout",
          "text": [
            "10000회 중 성공 횟수: 2965(29.65%)\n",
            "10000회 중 성공 횟수: 1890(18.9%)\n",
            "10000회 중 성공 횟수: 3626(36.26%)\n",
            "10000회 중 성공 횟수: 3508(35.08%)\n"
          ]
        }
      ]
    },
    {
      "cell_type": "code",
      "source": [
        "10000회 중 성공 횟수: 3564(35.64%)\n",
        "\n",
        "10000회 중 성공 횟수: 2098(20.98%)\n",
        "\n",
        "10000회 중 성공 횟수: 3506(35.06%)\n",
        "\n",
        "10000회 중 성공 횟수: 3776(37.76%)"
      ],
      "metadata": {
        "id": "2zxfHcF9V5Bh"
      },
      "execution_count": null,
      "outputs": []
    }
  ]
}