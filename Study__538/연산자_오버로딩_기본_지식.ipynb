{
  "nbformat": 4,
  "nbformat_minor": 0,
  "metadata": {
    "colab": {
      "provenance": [],
      "authorship_tag": "ABX9TyM1yJ0WPvIICwR+5a7jYB1G"
    },
    "kernelspec": {
      "name": "python3",
      "display_name": "Python 3"
    },
    "language_info": {
      "name": "python"
    }
  },
  "cells": [
    {
      "cell_type": "markdown",
      "source": [
        "# 객체지향 상용구\n",
        "## 연산자 오버로딩:제대로하기\n",
        "\n",
        "<br>\n",
        "\n",
        "연산자 오버로딩은 사용자 정의 객체가 +와 | 같은 중위 연산자, -와 ~같은 단항 연산자를 사용할 수 있게 해주고, 함수 호출, 속성 접근, 항목 접근/슬라이싱도 연산자로 파이썬에 구현되어 있다.\n",
        "\n",
        "<br>\n",
        "\n",
        "### 연산자 오버로딩 기본 지식\n",
        "\n",
        "잘 사용하면 코드의 가독성이 향상되고 만족스러운 API를 구현할 수 있으며, 파이썬은 아래와 같은 제한을 통해서 융통성, 사용성, 안정성을 적절히 유지한다.\n",
        "\n",
        "- 내장 자료형에 대한 연산자는 오버로딩할 수 없다.\n",
        "- 새로운 연산자를 생성할 수 없으며, 기존 연산자를 오버로딩만 할 수 있다.\n",
        "- is,and,or,not 연산자는 오버로딩할 수 없다."
      ],
      "metadata": {
        "id": "_34kYwgUTatH"
      }
    },
    {
      "cell_type": "code",
      "source": [],
      "metadata": {
        "id": "4tExBWOyTa12"
      },
      "execution_count": null,
      "outputs": []
    }
  ]
}