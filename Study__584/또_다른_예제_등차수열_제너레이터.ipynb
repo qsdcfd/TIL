{
  "nbformat": 4,
  "nbformat_minor": 0,
  "metadata": {
    "colab": {
      "provenance": [],
      "authorship_tag": "ABX9TyNxpfdxc1g5RsKzcb0eeqbm"
    },
    "kernelspec": {
      "name": "python3",
      "display_name": "Python 3"
    },
    "language_info": {
      "name": "python"
    }
  },
  "cells": [
    {
      "cell_type": "markdown",
      "source": [
        "# 제어 흐름\n",
        "## 반복형,반복자, 제너레이터\n",
        "### 또 다른 예제: 등차수열 제너레이터\n",
        "\n",
        "전통적인 반복자 패턴은 모두 데이터 구조체를 뒤져서 항목들을 나열하기 위한 것이지만 수열에서 다음 항목을 가져우는 메서드에 기반한 표준 인터페이스는 컬렉션에서 항목을 가져오는 대신 실행 도중에 항목을 생성하는 경우에도 유용하게 사용할 수 있다.\n",
        "\n",
        "**내장함수 range()는 정수로 구성된 유한 등차수열을 생성하며 itertools.count() 함수는 무한 등차수열을 생성한다.**\n",
        "\n",
        "\n",
        "```\n",
        "#ArithmeticProgression 사용 예\n",
        "ap = ArithmeticProgression(0,1,3)\n",
        "list(ap)\n",
        "ap = ArithmeticProgression(1, ,5,3)\n",
        "list(ap)\n",
        "ap = ArithmeticProgression(0,1/3,1)\n",
        "list(ap)\n",
        "from fractions import Fraction\n",
        "ap = ArithmeticProgression(0,Fraction(1,3),1)\n",
        "list(ap)\n",
        "from decimal import Decimal\n",
        "ap = ArithmeticProgression(0,Decimal('.1')m.3)\n",
        "list(ap)\n",
        "\n",
        "\n",
        "```\n",
        ">등차수열로 생성된 숫자들의 자료형이 파이썬 산술의 수치형 강제 변환 규칙에 의해 begin이나 step의 자료형을 따름에 주의하자\n",
        "\n",
        "<br>\n",
        "\n",
        "```\n",
        "class ArithmeticProgression:\n",
        "\n",
        "\tdef __init__(self, begin,step,end=None):\n",
        "    \tself.begin = begin\n",
        "        self.step = step\n",
        "        self.end = end #None이면 무한 수열이다.\n",
        "        \n",
        "    def __iter__(self):\n",
        "    \tresult = type(self.begin + self.step)(self.begin)\n",
        "        forever = self.end is None\n",
        "        index =0\n",
        "        while forever or result < self.end:\n",
        "        \tyield result\n",
        "            index +=1\n",
        "            result = self.begin+self.step * index\n",
        "\n",
        "\n",
        "```\n",
        "\n",
        "> __iter__()를 구현함으로써 제너레이터를 생성하는 것이었다면, 클래스는 단지 하나의 제너레이터 함수로 만들 수도 있을 것이었다. 왜냐하면, 제너레이터 함수도 일종의 제너레이터 팩토리이기 때문이다.\n",
        "\n",
        "```\n",
        "def aritprog_gen(begin, step, end=None):\n",
        "\tresult = type(begin+step)(begin)\n",
        "    forever = end is None\n",
        "    index = 0\n",
        "    while forever or result < end:\n",
        "    \tyield result\n",
        "        index +=1\n",
        "        result = begin+step * index\n",
        "```"
      ],
      "metadata": {
        "id": "htZjDlnixjoj"
      }
    },
    {
      "cell_type": "code",
      "source": [],
      "metadata": {
        "id": "GjDsmz-Oxj3d"
      },
      "execution_count": null,
      "outputs": []
    }
  ]
}