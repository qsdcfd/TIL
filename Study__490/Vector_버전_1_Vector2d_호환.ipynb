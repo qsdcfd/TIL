{
  "nbformat": 4,
  "nbformat_minor": 0,
  "metadata": {
    "colab": {
      "provenance": [],
      "authorship_tag": "ABX9TyMKPE58H7IH0NEyCIH6Esq1"
    },
    "kernelspec": {
      "name": "python3",
      "display_name": "Python 3"
    },
    "language_info": {
      "name": "python"
    }
  },
  "cells": [
    {
      "cell_type": "markdown",
      "source": [
        "# 객제지향 상용구\n",
        "## 시퀀스,해킹, 해시, 슬라이스\n",
        "### Vector 버전 #1: Vector2d 호환\n",
        "\n",
        ">Vector 생성자는 Vector2d 생성자와 호환되지 않도록 설계하여, __init__() 메서드에서 임의의 인수 *args를 받아서 Vector(3,4)\t나 Vector(3,4,5)형태로 작동하게 만들 수 있으나 시퀀스 생성자는 내장 시퀀스처럼 반복형을 인수로 받게 만드는 것이 좋다.\n",
        "\n",
        "```\n",
        "#Vector.__init__ , Vector.__repr__() 테스트\n",
        "\n",
        "Vector([3.1, 4.2])\n",
        "Vector((3,4,5))\n",
        "Vector(range(10))\n",
        "```\n",
        "\n",
        "생성자 시그니처가 달라진 점 외에 요소 두 개를 가진 Vector 클래스는 Vector2로 수행했던 모든 테스트와 동일한 결과가 나오도록 만들어졌다.\n",
        "\n",
        "<br>\n",
        "\n",
        "```\n",
        "#vector_v1.py: vector2d_v1.py에서의 유도\n",
        "\n",
        "from array import array\n",
        "import reprlib\n",
        "import math\n",
        "\n",
        "class Vector:\n",
        "\ttypecode = 'd'\n",
        "    \n",
        "    def __init__(self, components):\n",
        "    \tself._components = array(self.typecode, components)\n",
        "        \n",
        "    def __iter__(self):\n",
        "    \treturn iter(self._components)\n",
        "        \n",
        "    def __repr__(self):\n",
        "    \tcomponents = reprlib.repr(self._components)\n",
        "        components = components[components.find('['):-1]\n",
        "        return 'Vector({})'.format(components)\n",
        "        \n",
        "    def __str__(self):\n",
        "    \treturn str(tuple(self))\n",
        "        \n",
        "    def __bytes__(self):\n",
        "    \treturn (bytes([ird(self.typecode)]) + \n",
        "        \t\tbytes(self._components))\n",
        "                \n",
        "                \n",
        "    def __eq__(self,other):\n",
        "    \treturn tuple(self) == tuple(other)\n",
        "        \n",
        "    def __abs__(self):\n",
        "    \treturn math.sqrt(sum(x * x for x in self))\n",
        "        \n",
        "    def __bool__(self):\n",
        "    \treturn bool(abs(self))\n",
        "        \n",
        "    @classmethod\n",
        "    def frombytes(cls, octets):\n",
        "    \ttypecode = chr(octets[0])\n",
        "        memv = memoryview(octets[1:]).cast(typecode)\n",
        "        return cls(memv)\n",
        "```\n",
        "\n",
        "<br>\n",
        "\n",
        ">reprlib.repr()을 사용한 방법을 자세히 설명하면, 이 함수는 생략 기호를 이용해서 생성할 문자열의 길이를 제한하므로 대형 구조체나 재귀적 구조체도 안전하게 표현하고, repr()이 Vector객체를 배열의 형태로 사용하여 구현 내용을 외부로 노출하지 않길 원한다.\n",
        "\n",
        "<br>\n",
        "\n",
        "__repr__()을 구현할 때, reprlib.repr(list(self._components))문장으로 components를 간략히 출력할 순 있으나 시간소요가 많으므로 바깥쪽에 글자들을 잘라낸다.\n",
        "\n",
        "<br>\n",
        "\n",
        ">생성자가 호환되지 않으므로 상속받는 것은 좋지 않고, __init__()에서 매개변수를 영리하게 처리해서 이 문제를 해결할 수 있지만, 두 번째가 더 중요하고 Vector클래스가 시퀀스 프로토콜을 구현하는 독자적이길 원한다.\n"
      ],
      "metadata": {
        "id": "eUB_y4GDeIoZ"
      }
    },
    {
      "cell_type": "code",
      "source": [],
      "metadata": {
        "id": "bjpzmvoVeK3d"
      },
      "execution_count": null,
      "outputs": []
    }
  ]
}