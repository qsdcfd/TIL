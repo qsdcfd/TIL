{
  "nbformat": 4,
  "nbformat_minor": 0,
  "metadata": {
    "colab": {
      "name": "YouTuber.ipynb",
      "provenance": [],
      "collapsed_sections": []
    },
    "kernelspec": {
      "name": "python3",
      "display_name": "Python 3"
    },
    "language_info": {
      "name": "python"
    },
    "accelerator": "GPU",
    "gpuClass": "standard"
  },
  "cells": [
    {
      "cell_type": "code",
      "metadata": {
        "id": "GW505OZ7MgjF"
      },
      "source": [
        "# 유전 알고리즘을 활용한 머신러닝 입력 최적화 및 대안 제안 메소드\n",
        "# Part 4. 인플루언서 YouTuber 되기 실습\n"
      ],
      "execution_count": null,
      "outputs": []
    },
    {
      "cell_type": "markdown",
      "metadata": {
        "id": "X1-BoFMyM1nQ"
      },
      "source": [
        "# **1. 모듈 설치 및 호출**"
      ]
    },
    {
      "cell_type": "code",
      "metadata": {
        "id": "rUK3Pqptn-7_",
        "colab": {
          "base_uri": "https://localhost:8080/"
        },
        "outputId": "b75bf185-4d7e-4091-c5a8-3c8430dc17c6"
      },
      "source": [
        "!pip install geneticalgorithm"
      ],
      "execution_count": null,
      "outputs": [
        {
          "output_type": "stream",
          "name": "stdout",
          "text": [
            "Looking in indexes: https://pypi.org/simple, https://us-python.pkg.dev/colab-wheels/public/simple/\n",
            "Collecting geneticalgorithm\n",
            "  Downloading geneticalgorithm-1.0.2-py3-none-any.whl (16 kB)\n",
            "Collecting func-timeout\n",
            "  Downloading func_timeout-4.3.5.tar.gz (44 kB)\n",
            "\u001b[K     |████████████████████████████████| 44 kB 2.1 MB/s \n",
            "\u001b[?25hRequirement already satisfied: numpy in /usr/local/lib/python3.7/dist-packages (from geneticalgorithm) (1.21.6)\n",
            "Building wheels for collected packages: func-timeout\n",
            "  Building wheel for func-timeout (setup.py) ... \u001b[?25l\u001b[?25hdone\n",
            "  Created wheel for func-timeout: filename=func_timeout-4.3.5-py3-none-any.whl size=15098 sha256=63330fb711565803f1331dc3efb9ffce73b64e269eedc8bba06cbd8bab807d3a\n",
            "  Stored in directory: /root/.cache/pip/wheels/68/b5/a5/67c4364c354e141f5a1bd3ec568126f77877ab7554cf5af8cb\n",
            "Successfully built func-timeout\n",
            "Installing collected packages: func-timeout, geneticalgorithm\n",
            "Successfully installed func-timeout-4.3.5 geneticalgorithm-1.0.2\n"
          ]
        }
      ]
    },
    {
      "cell_type": "code",
      "metadata": {
        "id": "sDT4sIIVJ8Ui"
      },
      "source": [
        "import copy\n",
        "import math\n",
        "import datetime\n",
        "import itertools\n",
        "import requests\n",
        "from io import BytesIO\n",
        "from random import randint\n",
        "\n",
        "import chardet\n",
        "import numpy as np\n",
        "import pandas as pd\n",
        "import tqdm\n",
        "import matplotlib.pyplot as plt\n",
        "from PIL import Image\n",
        "from scipy.stats import spearmanr\n",
        "from scipy.cluster import hierarchy\n",
        "from sklearn.ensemble import RandomForestRegressor, VotingRegressor\n",
        "from sklearn.inspection import permutation_importance\n",
        "from sklearn.linear_model import ElasticNet\n",
        "from sklearn.metrics import r2_score\n",
        "from sklearn.model_selection import train_test_split, GridSearchCV, RandomizedSearchCV\n",
        "from sklearn.neighbors import KNeighborsRegressor\n",
        "from sklearn.neural_network import MLPRegressor\n",
        "from sklearn.preprocessing import MinMaxScaler\n",
        "from sklearn.svm import SVR\n",
        "from sklearn.utils.fixes import loguniform\n",
        "from xgboost import XGBRegressor\n",
        "from geneticalgorithm import geneticalgorithm\n",
        "\n",
        "\n",
        "pd.set_option('display.max_columns', None)"
      ],
      "execution_count": null,
      "outputs": []
    },
    {
      "cell_type": "markdown",
      "metadata": {
        "id": "OyN5gmsdNHTS"
      },
      "source": [
        "# **2. 데이터 로드 및 탐색적 데이터 분석**"
      ]
    },
    {
      "cell_type": "code",
      "metadata": {
        "id": "g3Hp-l_lH90C"
      },
      "source": [
        "# KRvideos.csv 데이터 파일을 Colab에 업로드\n",
        "# Data link: https://www.kaggle.com/datasnaek/youtube-new\n",
        "# 여러 나라 data file중 한국 데이터 (KRvideos.csv) 사용\n",
        "\n",
        "#from google.colab import files, drive\n",
        "#file_uploaded = files.upload()"
      ],
      "execution_count": null,
      "outputs": []
    },
    {
      "cell_type": "code",
      "metadata": {
        "id": "lQrDg-lcZdvv",
        "colab": {
          "base_uri": "https://localhost:8080/"
        },
        "outputId": "489345ce-8732-4ec1-8410-11ba9b8503c0"
      },
      "source": [
        "# Colab에 데이터 파일을 올려놓은 경우\n",
        "# drive.mount('./content')\n",
        "#! ls /content"
      ],
      "execution_count": null,
      "outputs": [
        {
          "output_type": "stream",
          "name": "stdout",
          "text": [
            " KRvideos.csv\t\t\t\t\t\t\t    sample_data\n",
            "'KRvideos(본래 파일이 변환이 안 되시면 이 파일을 사용하세요).csv'\n"
          ]
        }
      ]
    },
    {
      "cell_type": "code",
      "metadata": {
        "colab": {
          "base_uri": "https://localhost:8080/"
        },
        "id": "V2gcUa4zZLvb",
        "outputId": "4d26de24-56a1-4a74-f14c-6e52d181d656"
      },
      "source": [
        "filename = 'KRvideos(본래 파일이 변환이 안 되시면 이 파일을 사용하세요).csv'\n",
        "with open(filename, 'rb') as f:\n",
        "    result = chardet.detect(f.readline())\n",
        "    print('Encoding type:', result['encoding'])"
      ],
      "execution_count": null,
      "outputs": [
        {
          "output_type": "stream",
          "name": "stdout",
          "text": [
            "Encoding type: UTF-8-SIG\n"
          ]
        }
      ]
    },
    {
      "cell_type": "code",
      "metadata": {
        "colab": {
          "base_uri": "https://localhost:8080/",
          "height": 895
        },
        "id": "umTHeyYfbib0",
        "outputId": "724a6515-7d27-44d7-fa30-2b2238a263a0"
      },
      "source": [
        "raw_data = pd.read_csv(filename, engine='python',   encoding=\"UTF-8-SIG\")\n",
        "raw_data.head(5)"
      ],
      "execution_count": null,
      "outputs": [
        {
          "output_type": "execute_result",
          "data": {
            "text/plain": [
              "      video_id trending_date                       title channel_title  \\\n",
              "0  RxGQe4EeEpA      17.14.11          좋아 by 민서_윤종신_좋니 답가        라푸마코리아   \n",
              "1  hH7wVE8OlQ0      17.14.11            JSA 귀순 북한군 총격 부상        Edward   \n",
              "2  9V8bnWUmE9U      17.14.11  나몰라패밀리 운동화 영상 2탄 (빼빼로데이버젼)     나몰라패밀리 핫쇼   \n",
              "3  0_8py-t5R80      17.14.11  이명박 출국 현장, 놓치면 안되는 장면         미디어몽구   \n",
              "4  bk55RbxiQdI      17.14.11     김장겸은 물러갔다 MBC 노조 환호와 눈물        NocutV   \n",
              "\n",
              "  category_id              publish_time  \\\n",
              "0          22  2017-11-13T07:07:36.000Z   \n",
              "1          25  2017-11-13T10:59:16.000Z   \n",
              "2          22  2017-11-11T07:16:08.000Z   \n",
              "3          25  2017-11-12T11:19:52.000Z   \n",
              "4          25  2017-11-13T11:08:59.000Z   \n",
              "\n",
              "                                                tags   views likes dislikes  \\\n",
              "0                      라푸마|\"윤종신\"|\"좋니\"|\"좋아\"|\"샬레\"|\"민서\"  156130  1422       40   \n",
              "1        JSA|\"귀순\"|\"북한군\"|\"총격\"|\"부상\"|\"JSA 귀순 북한군 총격 부상\"   76533   211       28   \n",
              "2                아디다스|\"빼빼로\"|\"핫쇼\"|\"나몰라패밀리\"|\"대학로\"|\"공연\"  421409  5112      166   \n",
              "3  이명박|\"이명박 출국금지\"|\"이명박 출국현장\"|\"이명박 바레인\"|\"이명박 대통령\"|...  222850  2093      173   \n",
              "4          nocutV|\"노컷V\"|\"CBS\"|\"mbc\"|\"김장겸\"|\"해임\"|\"허일후\"   84466  1094      109   \n",
              "\n",
              "  comment_count                                  thumbnail_link  \\\n",
              "0           272  https://i.ytimg.com/vi/RxGQe4EeEpA/default.jpg   \n",
              "1           113  https://i.ytimg.com/vi/hH7wVE8OlQ0/default.jpg   \n",
              "2           459  https://i.ytimg.com/vi/9V8bnWUmE9U/default.jpg   \n",
              "3          1219  https://i.ytimg.com/vi/0_8py-t5R80/default.jpg   \n",
              "4           450  https://i.ytimg.com/vi/bk55RbxiQdI/default.jpg   \n",
              "\n",
              "  comments_disabled ratings_disabled video_error_or_removed  \\\n",
              "0             False            False                  False   \n",
              "1             False            False                  False   \n",
              "2             False            False                  False   \n",
              "3             False            False                  False   \n",
              "4             False            False                  False   \n",
              "\n",
              "                                         description  \n",
              "0  윤종신 '좋니'의 답가 '좋아' 최초 공개!\\n그 여자의 이야기를 지금 만나보세요....  \n",
              "1  [채널A단독]北 병사 현재 '의식불명'… 혈압 떨어지는 중 \\n[채널A단독]우리측 ...  \n",
              "2                                    퍼가실때 꼭 출처 부탁드려요  \n",
              "3                                다스는 누구겁니까 듣고 난 후 표정  \n",
              "4  김장겸 MBC 사장이 결국 해임됐다.\\n\\nMBC 대주주인 방송문화진흥회는 13일 ...  "
            ],
            "text/html": [
              "\n",
              "  <div id=\"df-c699e136-e002-45a4-9ebd-3ee11d4b2249\">\n",
              "    <div class=\"colab-df-container\">\n",
              "      <div>\n",
              "<style scoped>\n",
              "    .dataframe tbody tr th:only-of-type {\n",
              "        vertical-align: middle;\n",
              "    }\n",
              "\n",
              "    .dataframe tbody tr th {\n",
              "        vertical-align: top;\n",
              "    }\n",
              "\n",
              "    .dataframe thead th {\n",
              "        text-align: right;\n",
              "    }\n",
              "</style>\n",
              "<table border=\"1\" class=\"dataframe\">\n",
              "  <thead>\n",
              "    <tr style=\"text-align: right;\">\n",
              "      <th></th>\n",
              "      <th>video_id</th>\n",
              "      <th>trending_date</th>\n",
              "      <th>title</th>\n",
              "      <th>channel_title</th>\n",
              "      <th>category_id</th>\n",
              "      <th>publish_time</th>\n",
              "      <th>tags</th>\n",
              "      <th>views</th>\n",
              "      <th>likes</th>\n",
              "      <th>dislikes</th>\n",
              "      <th>comment_count</th>\n",
              "      <th>thumbnail_link</th>\n",
              "      <th>comments_disabled</th>\n",
              "      <th>ratings_disabled</th>\n",
              "      <th>video_error_or_removed</th>\n",
              "      <th>description</th>\n",
              "    </tr>\n",
              "  </thead>\n",
              "  <tbody>\n",
              "    <tr>\n",
              "      <th>0</th>\n",
              "      <td>RxGQe4EeEpA</td>\n",
              "      <td>17.14.11</td>\n",
              "      <td>좋아 by 민서_윤종신_좋니 답가</td>\n",
              "      <td>라푸마코리아</td>\n",
              "      <td>22</td>\n",
              "      <td>2017-11-13T07:07:36.000Z</td>\n",
              "      <td>라푸마|\"윤종신\"|\"좋니\"|\"좋아\"|\"샬레\"|\"민서\"</td>\n",
              "      <td>156130</td>\n",
              "      <td>1422</td>\n",
              "      <td>40</td>\n",
              "      <td>272</td>\n",
              "      <td>https://i.ytimg.com/vi/RxGQe4EeEpA/default.jpg</td>\n",
              "      <td>False</td>\n",
              "      <td>False</td>\n",
              "      <td>False</td>\n",
              "      <td>윤종신 '좋니'의 답가 '좋아' 최초 공개!\\n그 여자의 이야기를 지금 만나보세요....</td>\n",
              "    </tr>\n",
              "    <tr>\n",
              "      <th>1</th>\n",
              "      <td>hH7wVE8OlQ0</td>\n",
              "      <td>17.14.11</td>\n",
              "      <td>JSA 귀순 북한군 총격 부상</td>\n",
              "      <td>Edward</td>\n",
              "      <td>25</td>\n",
              "      <td>2017-11-13T10:59:16.000Z</td>\n",
              "      <td>JSA|\"귀순\"|\"북한군\"|\"총격\"|\"부상\"|\"JSA 귀순 북한군 총격 부상\"</td>\n",
              "      <td>76533</td>\n",
              "      <td>211</td>\n",
              "      <td>28</td>\n",
              "      <td>113</td>\n",
              "      <td>https://i.ytimg.com/vi/hH7wVE8OlQ0/default.jpg</td>\n",
              "      <td>False</td>\n",
              "      <td>False</td>\n",
              "      <td>False</td>\n",
              "      <td>[채널A단독]北 병사 현재 '의식불명'… 혈압 떨어지는 중 \\n[채널A단독]우리측 ...</td>\n",
              "    </tr>\n",
              "    <tr>\n",
              "      <th>2</th>\n",
              "      <td>9V8bnWUmE9U</td>\n",
              "      <td>17.14.11</td>\n",
              "      <td>나몰라패밀리 운동화 영상 2탄 (빼빼로데이버젼)</td>\n",
              "      <td>나몰라패밀리 핫쇼</td>\n",
              "      <td>22</td>\n",
              "      <td>2017-11-11T07:16:08.000Z</td>\n",
              "      <td>아디다스|\"빼빼로\"|\"핫쇼\"|\"나몰라패밀리\"|\"대학로\"|\"공연\"</td>\n",
              "      <td>421409</td>\n",
              "      <td>5112</td>\n",
              "      <td>166</td>\n",
              "      <td>459</td>\n",
              "      <td>https://i.ytimg.com/vi/9V8bnWUmE9U/default.jpg</td>\n",
              "      <td>False</td>\n",
              "      <td>False</td>\n",
              "      <td>False</td>\n",
              "      <td>퍼가실때 꼭 출처 부탁드려요</td>\n",
              "    </tr>\n",
              "    <tr>\n",
              "      <th>3</th>\n",
              "      <td>0_8py-t5R80</td>\n",
              "      <td>17.14.11</td>\n",
              "      <td>이명박 출국 현장, 놓치면 안되는 장면</td>\n",
              "      <td>미디어몽구</td>\n",
              "      <td>25</td>\n",
              "      <td>2017-11-12T11:19:52.000Z</td>\n",
              "      <td>이명박|\"이명박 출국금지\"|\"이명박 출국현장\"|\"이명박 바레인\"|\"이명박 대통령\"|...</td>\n",
              "      <td>222850</td>\n",
              "      <td>2093</td>\n",
              "      <td>173</td>\n",
              "      <td>1219</td>\n",
              "      <td>https://i.ytimg.com/vi/0_8py-t5R80/default.jpg</td>\n",
              "      <td>False</td>\n",
              "      <td>False</td>\n",
              "      <td>False</td>\n",
              "      <td>다스는 누구겁니까 듣고 난 후 표정</td>\n",
              "    </tr>\n",
              "    <tr>\n",
              "      <th>4</th>\n",
              "      <td>bk55RbxiQdI</td>\n",
              "      <td>17.14.11</td>\n",
              "      <td>김장겸은 물러갔다 MBC 노조 환호와 눈물</td>\n",
              "      <td>NocutV</td>\n",
              "      <td>25</td>\n",
              "      <td>2017-11-13T11:08:59.000Z</td>\n",
              "      <td>nocutV|\"노컷V\"|\"CBS\"|\"mbc\"|\"김장겸\"|\"해임\"|\"허일후\"</td>\n",
              "      <td>84466</td>\n",
              "      <td>1094</td>\n",
              "      <td>109</td>\n",
              "      <td>450</td>\n",
              "      <td>https://i.ytimg.com/vi/bk55RbxiQdI/default.jpg</td>\n",
              "      <td>False</td>\n",
              "      <td>False</td>\n",
              "      <td>False</td>\n",
              "      <td>김장겸 MBC 사장이 결국 해임됐다.\\n\\nMBC 대주주인 방송문화진흥회는 13일 ...</td>\n",
              "    </tr>\n",
              "  </tbody>\n",
              "</table>\n",
              "</div>\n",
              "      <button class=\"colab-df-convert\" onclick=\"convertToInteractive('df-c699e136-e002-45a4-9ebd-3ee11d4b2249')\"\n",
              "              title=\"Convert this dataframe to an interactive table.\"\n",
              "              style=\"display:none;\">\n",
              "        \n",
              "  <svg xmlns=\"http://www.w3.org/2000/svg\" height=\"24px\"viewBox=\"0 0 24 24\"\n",
              "       width=\"24px\">\n",
              "    <path d=\"M0 0h24v24H0V0z\" fill=\"none\"/>\n",
              "    <path d=\"M18.56 5.44l.94 2.06.94-2.06 2.06-.94-2.06-.94-.94-2.06-.94 2.06-2.06.94zm-11 1L8.5 8.5l.94-2.06 2.06-.94-2.06-.94L8.5 2.5l-.94 2.06-2.06.94zm10 10l.94 2.06.94-2.06 2.06-.94-2.06-.94-.94-2.06-.94 2.06-2.06.94z\"/><path d=\"M17.41 7.96l-1.37-1.37c-.4-.4-.92-.59-1.43-.59-.52 0-1.04.2-1.43.59L10.3 9.45l-7.72 7.72c-.78.78-.78 2.05 0 2.83L4 21.41c.39.39.9.59 1.41.59.51 0 1.02-.2 1.41-.59l7.78-7.78 2.81-2.81c.8-.78.8-2.07 0-2.86zM5.41 20L4 18.59l7.72-7.72 1.47 1.35L5.41 20z\"/>\n",
              "  </svg>\n",
              "      </button>\n",
              "      \n",
              "  <style>\n",
              "    .colab-df-container {\n",
              "      display:flex;\n",
              "      flex-wrap:wrap;\n",
              "      gap: 12px;\n",
              "    }\n",
              "\n",
              "    .colab-df-convert {\n",
              "      background-color: #E8F0FE;\n",
              "      border: none;\n",
              "      border-radius: 50%;\n",
              "      cursor: pointer;\n",
              "      display: none;\n",
              "      fill: #1967D2;\n",
              "      height: 32px;\n",
              "      padding: 0 0 0 0;\n",
              "      width: 32px;\n",
              "    }\n",
              "\n",
              "    .colab-df-convert:hover {\n",
              "      background-color: #E2EBFA;\n",
              "      box-shadow: 0px 1px 2px rgba(60, 64, 67, 0.3), 0px 1px 3px 1px rgba(60, 64, 67, 0.15);\n",
              "      fill: #174EA6;\n",
              "    }\n",
              "\n",
              "    [theme=dark] .colab-df-convert {\n",
              "      background-color: #3B4455;\n",
              "      fill: #D2E3FC;\n",
              "    }\n",
              "\n",
              "    [theme=dark] .colab-df-convert:hover {\n",
              "      background-color: #434B5C;\n",
              "      box-shadow: 0px 1px 3px 1px rgba(0, 0, 0, 0.15);\n",
              "      filter: drop-shadow(0px 1px 2px rgba(0, 0, 0, 0.3));\n",
              "      fill: #FFFFFF;\n",
              "    }\n",
              "  </style>\n",
              "\n",
              "      <script>\n",
              "        const buttonEl =\n",
              "          document.querySelector('#df-c699e136-e002-45a4-9ebd-3ee11d4b2249 button.colab-df-convert');\n",
              "        buttonEl.style.display =\n",
              "          google.colab.kernel.accessAllowed ? 'block' : 'none';\n",
              "\n",
              "        async function convertToInteractive(key) {\n",
              "          const element = document.querySelector('#df-c699e136-e002-45a4-9ebd-3ee11d4b2249');\n",
              "          const dataTable =\n",
              "            await google.colab.kernel.invokeFunction('convertToInteractive',\n",
              "                                                     [key], {});\n",
              "          if (!dataTable) return;\n",
              "\n",
              "          const docLinkHtml = 'Like what you see? Visit the ' +\n",
              "            '<a target=\"_blank\" href=https://colab.research.google.com/notebooks/data_table.ipynb>data table notebook</a>'\n",
              "            + ' to learn more about interactive tables.';\n",
              "          element.innerHTML = '';\n",
              "          dataTable['output_type'] = 'display_data';\n",
              "          await google.colab.output.renderOutput(dataTable, element);\n",
              "          const docLink = document.createElement('div');\n",
              "          docLink.innerHTML = docLinkHtml;\n",
              "          element.appendChild(docLink);\n",
              "        }\n",
              "      </script>\n",
              "    </div>\n",
              "  </div>\n",
              "  "
            ]
          },
          "metadata": {},
          "execution_count": 7
        }
      ]
    },
    {
      "cell_type": "code",
      "metadata": {
        "id": "tQw3NeN7QQmf"
      },
      "source": [
        "# KR_category_id.json에서 가져옴\n",
        "category_id_code = {'1': 'Film & Animation',\n",
        "                    '2': 'Autos & Vehicles',\n",
        "                    '10': 'Music',\n",
        "                    '15': 'Pets & Animals',\n",
        "                    '17': 'Sports',\n",
        "                    '18': 'Short Movies',\n",
        "                    '19': 'Travel & Events',\n",
        "                    '20': 'Gaming',\n",
        "                    '21': 'Videoblogging',\n",
        "                    '22': 'People & Blogs',\n",
        "                    '23': 'Comedy',\n",
        "                    '24': 'Entertainment',\n",
        "                    '25': 'News & Politics',\n",
        "                    '26': 'Howto & Style',\n",
        "                    '27': 'Education',\n",
        "                    '28': 'Science & Technology',\n",
        "                    '29': 'Nonprofits & Activism',\n",
        "                    '30': 'Movies',\n",
        "                    '31': 'Anime/Animation',\n",
        "                    '32': 'Action/Adventure',\n",
        "                    '33': 'Classics',\n",
        "                    '34': 'Comedy',\n",
        "                    '35': 'Documentary',\n",
        "                    '36': 'Drama',\n",
        "                    '37': 'Family',\n",
        "                    '38': 'Foreign',                    \n",
        "                    '39': 'Horror',\n",
        "                    '40': 'Sci-Fi/Fantasy',\n",
        "                    '41': 'Thriller',\n",
        "                    '42': 'Shorts',\n",
        "                    '43': 'Shows',\n",
        "                    '44': 'Trailers'}"
      ],
      "execution_count": null,
      "outputs": []
    },
    {
      "cell_type": "code",
      "metadata": {
        "id": "vTHZXjRmIB07",
        "colab": {
          "base_uri": "https://localhost:8080/"
        },
        "outputId": "3d5f3b6e-6aff-44cf-c3e8-ef302ff120c2"
      },
      "source": [
        "raw_data.info()"
      ],
      "execution_count": null,
      "outputs": [
        {
          "output_type": "stream",
          "name": "stdout",
          "text": [
            "<class 'pandas.core.frame.DataFrame'>\n",
            "RangeIndex: 36897 entries, 0 to 36896\n",
            "Data columns (total 16 columns):\n",
            " #   Column                  Non-Null Count  Dtype \n",
            "---  ------                  --------------  ----- \n",
            " 0   video_id                36741 non-null  object\n",
            " 1   trending_date           34730 non-null  object\n",
            " 2   title                   34592 non-null  object\n",
            " 3   channel_title           34575 non-null  object\n",
            " 4   category_id             34572 non-null  object\n",
            " 5   publish_time            34568 non-null  object\n",
            " 6   tags                    34568 non-null  object\n",
            " 7   views                   34568 non-null  object\n",
            " 8   likes                   34568 non-null  object\n",
            " 9   dislikes                34568 non-null  object\n",
            " 10  comment_count           34568 non-null  object\n",
            " 11  thumbnail_link          34568 non-null  object\n",
            " 12  comments_disabled       34567 non-null  object\n",
            " 13  ratings_disabled        34567 non-null  object\n",
            " 14  video_error_or_removed  34567 non-null  object\n",
            " 15  description             31404 non-null  object\n",
            "dtypes: object(16)\n",
            "memory usage: 4.5+ MB\n"
          ]
        }
      ]
    },
    {
      "cell_type": "code",
      "metadata": {
        "colab": {
          "base_uri": "https://localhost:8080/"
        },
        "id": "YL3m7TJEBw_t",
        "outputId": "c9cf0b47-db3c-45aa-a5ba-08f494c1947e"
      },
      "source": [
        "raw_data['description'].isnull().sum()"
      ],
      "execution_count": null,
      "outputs": [
        {
          "output_type": "execute_result",
          "data": {
            "text/plain": [
              "5493"
            ]
          },
          "metadata": {},
          "execution_count": 10
        }
      ]
    },
    {
      "cell_type": "code",
      "metadata": {
        "colab": {
          "base_uri": "https://localhost:8080/"
        },
        "id": "JfS9PvtoDGN9",
        "outputId": "c5193b55-7cfd-499b-8886-1837ddf5045f"
      },
      "source": [
        "raw_data['comments_disabled'][raw_data['comments_disabled'] == True].sum()"
      ],
      "execution_count": null,
      "outputs": [
        {
          "output_type": "execute_result",
          "data": {
            "text/plain": [
              "511"
            ]
          },
          "metadata": {},
          "execution_count": 11
        }
      ]
    },
    {
      "cell_type": "code",
      "metadata": {
        "colab": {
          "base_uri": "https://localhost:8080/"
        },
        "id": "p8kwi4VVDvD4",
        "outputId": "d8914a51-085e-4246-ca6d-afcc2bd15ef4"
      },
      "source": [
        "raw_data['ratings_disabled'][raw_data['ratings_disabled'] == True].sum()"
      ],
      "execution_count": null,
      "outputs": [
        {
          "output_type": "execute_result",
          "data": {
            "text/plain": [
              "1400"
            ]
          },
          "metadata": {},
          "execution_count": 12
        }
      ]
    },
    {
      "cell_type": "code",
      "metadata": {
        "colab": {
          "base_uri": "https://localhost:8080/"
        },
        "id": "Li8jaghED4u0",
        "outputId": "678eefe9-a1eb-44f7-f55d-8277ed6b92c9"
      },
      "source": [
        "raw_data['video_error_or_removed'][raw_data['video_error_or_removed'] == True].sum()"
      ],
      "execution_count": null,
      "outputs": [
        {
          "output_type": "execute_result",
          "data": {
            "text/plain": [
              "41"
            ]
          },
          "metadata": {},
          "execution_count": 13
        }
      ]
    },
    {
      "cell_type": "code",
      "metadata": {
        "colab": {
          "base_uri": "https://localhost:8080/"
        },
        "id": "GOBUpibXETbQ",
        "outputId": "af589a49-4fca-4104-8dd8-20c7c95d466b"
      },
      "source": [
        "for i in list(raw_data):\n",
        "    print(i)\n",
        "    print(raw_data[i].duplicated().value_counts())\n",
        "    print('\\n')"
      ],
      "execution_count": null,
      "outputs": [
        {
          "output_type": "stream",
          "name": "stdout",
          "text": [
            "video_id\n",
            "True     20563\n",
            "False    16334\n",
            "Name: video_id, dtype: int64\n",
            "\n",
            "\n",
            "trending_date\n",
            "True     36623\n",
            "False      274\n",
            "Name: trending_date, dtype: int64\n",
            "\n",
            "\n",
            "title\n",
            "True     20529\n",
            "False    16368\n",
            "Name: title, dtype: int64\n",
            "\n",
            "\n",
            "channel_title\n",
            "True     32849\n",
            "False     4048\n",
            "Name: channel_title, dtype: int64\n",
            "\n",
            "\n",
            "category_id\n",
            "True     36875\n",
            "False       22\n",
            "Name: category_id, dtype: int64\n",
            "\n",
            "\n",
            "publish_time\n",
            "True     21033\n",
            "False    15864\n",
            "Name: publish_time, dtype: int64\n",
            "\n",
            "\n",
            "tags\n",
            "True     26104\n",
            "False    10793\n",
            "Name: tags, dtype: int64\n",
            "\n",
            "\n",
            "views\n",
            "False    30692\n",
            "True      6205\n",
            "Name: views, dtype: int64\n",
            "\n",
            "\n",
            "likes\n",
            "True     27421\n",
            "False     9476\n",
            "Name: likes, dtype: int64\n",
            "\n",
            "\n",
            "dislikes\n",
            "True     34820\n",
            "False     2077\n",
            "Name: dislikes, dtype: int64\n",
            "\n",
            "\n",
            "comment_count\n",
            "True     32206\n",
            "False     4691\n",
            "Name: comment_count, dtype: int64\n",
            "\n",
            "\n",
            "thumbnail_link\n",
            "True     20806\n",
            "False    16091\n",
            "Name: thumbnail_link, dtype: int64\n",
            "\n",
            "\n",
            "comments_disabled\n",
            "True     36894\n",
            "False        3\n",
            "Name: comments_disabled, dtype: int64\n",
            "\n",
            "\n",
            "ratings_disabled\n",
            "True     36894\n",
            "False        3\n",
            "Name: ratings_disabled, dtype: int64\n",
            "\n",
            "\n",
            "video_error_or_removed\n",
            "True     36894\n",
            "False        3\n",
            "Name: video_error_or_removed, dtype: int64\n",
            "\n",
            "\n",
            "description\n",
            "True     24017\n",
            "False    12880\n",
            "Name: description, dtype: int64\n",
            "\n",
            "\n"
          ]
        }
      ]
    },
    {
      "cell_type": "code",
      "metadata": {
        "colab": {
          "base_uri": "https://localhost:8080/",
          "height": 895
        },
        "id": "tcYafZQNMOjb",
        "outputId": "071bceb4-6318-4003-855d-0f39e1c90265"
      },
      "source": [
        "df = raw_data[raw_data['comments_disabled'] != 1]\n",
        "df = df[df['ratings_disabled'] != 1]\n",
        "df = df[df['video_error_or_removed'] != 1]\n",
        "df = df[df['tags'] != '[none]']\n",
        "df.head(5)"
      ],
      "execution_count": null,
      "outputs": [
        {
          "output_type": "execute_result",
          "data": {
            "text/plain": [
              "      video_id trending_date                       title channel_title  \\\n",
              "0  RxGQe4EeEpA      17.14.11          좋아 by 민서_윤종신_좋니 답가        라푸마코리아   \n",
              "1  hH7wVE8OlQ0      17.14.11            JSA 귀순 북한군 총격 부상        Edward   \n",
              "2  9V8bnWUmE9U      17.14.11  나몰라패밀리 운동화 영상 2탄 (빼빼로데이버젼)     나몰라패밀리 핫쇼   \n",
              "3  0_8py-t5R80      17.14.11  이명박 출국 현장, 놓치면 안되는 장면         미디어몽구   \n",
              "4  bk55RbxiQdI      17.14.11     김장겸은 물러갔다 MBC 노조 환호와 눈물        NocutV   \n",
              "\n",
              "  category_id              publish_time  \\\n",
              "0          22  2017-11-13T07:07:36.000Z   \n",
              "1          25  2017-11-13T10:59:16.000Z   \n",
              "2          22  2017-11-11T07:16:08.000Z   \n",
              "3          25  2017-11-12T11:19:52.000Z   \n",
              "4          25  2017-11-13T11:08:59.000Z   \n",
              "\n",
              "                                                tags   views likes dislikes  \\\n",
              "0                      라푸마|\"윤종신\"|\"좋니\"|\"좋아\"|\"샬레\"|\"민서\"  156130  1422       40   \n",
              "1        JSA|\"귀순\"|\"북한군\"|\"총격\"|\"부상\"|\"JSA 귀순 북한군 총격 부상\"   76533   211       28   \n",
              "2                아디다스|\"빼빼로\"|\"핫쇼\"|\"나몰라패밀리\"|\"대학로\"|\"공연\"  421409  5112      166   \n",
              "3  이명박|\"이명박 출국금지\"|\"이명박 출국현장\"|\"이명박 바레인\"|\"이명박 대통령\"|...  222850  2093      173   \n",
              "4          nocutV|\"노컷V\"|\"CBS\"|\"mbc\"|\"김장겸\"|\"해임\"|\"허일후\"   84466  1094      109   \n",
              "\n",
              "  comment_count                                  thumbnail_link  \\\n",
              "0           272  https://i.ytimg.com/vi/RxGQe4EeEpA/default.jpg   \n",
              "1           113  https://i.ytimg.com/vi/hH7wVE8OlQ0/default.jpg   \n",
              "2           459  https://i.ytimg.com/vi/9V8bnWUmE9U/default.jpg   \n",
              "3          1219  https://i.ytimg.com/vi/0_8py-t5R80/default.jpg   \n",
              "4           450  https://i.ytimg.com/vi/bk55RbxiQdI/default.jpg   \n",
              "\n",
              "  comments_disabled ratings_disabled video_error_or_removed  \\\n",
              "0             False            False                  False   \n",
              "1             False            False                  False   \n",
              "2             False            False                  False   \n",
              "3             False            False                  False   \n",
              "4             False            False                  False   \n",
              "\n",
              "                                         description  \n",
              "0  윤종신 '좋니'의 답가 '좋아' 최초 공개!\\n그 여자의 이야기를 지금 만나보세요....  \n",
              "1  [채널A단독]北 병사 현재 '의식불명'… 혈압 떨어지는 중 \\n[채널A단독]우리측 ...  \n",
              "2                                    퍼가실때 꼭 출처 부탁드려요  \n",
              "3                                다스는 누구겁니까 듣고 난 후 표정  \n",
              "4  김장겸 MBC 사장이 결국 해임됐다.\\n\\nMBC 대주주인 방송문화진흥회는 13일 ...  "
            ],
            "text/html": [
              "\n",
              "  <div id=\"df-04c23712-c7b3-4837-ba9a-991a76305d9c\">\n",
              "    <div class=\"colab-df-container\">\n",
              "      <div>\n",
              "<style scoped>\n",
              "    .dataframe tbody tr th:only-of-type {\n",
              "        vertical-align: middle;\n",
              "    }\n",
              "\n",
              "    .dataframe tbody tr th {\n",
              "        vertical-align: top;\n",
              "    }\n",
              "\n",
              "    .dataframe thead th {\n",
              "        text-align: right;\n",
              "    }\n",
              "</style>\n",
              "<table border=\"1\" class=\"dataframe\">\n",
              "  <thead>\n",
              "    <tr style=\"text-align: right;\">\n",
              "      <th></th>\n",
              "      <th>video_id</th>\n",
              "      <th>trending_date</th>\n",
              "      <th>title</th>\n",
              "      <th>channel_title</th>\n",
              "      <th>category_id</th>\n",
              "      <th>publish_time</th>\n",
              "      <th>tags</th>\n",
              "      <th>views</th>\n",
              "      <th>likes</th>\n",
              "      <th>dislikes</th>\n",
              "      <th>comment_count</th>\n",
              "      <th>thumbnail_link</th>\n",
              "      <th>comments_disabled</th>\n",
              "      <th>ratings_disabled</th>\n",
              "      <th>video_error_or_removed</th>\n",
              "      <th>description</th>\n",
              "    </tr>\n",
              "  </thead>\n",
              "  <tbody>\n",
              "    <tr>\n",
              "      <th>0</th>\n",
              "      <td>RxGQe4EeEpA</td>\n",
              "      <td>17.14.11</td>\n",
              "      <td>좋아 by 민서_윤종신_좋니 답가</td>\n",
              "      <td>라푸마코리아</td>\n",
              "      <td>22</td>\n",
              "      <td>2017-11-13T07:07:36.000Z</td>\n",
              "      <td>라푸마|\"윤종신\"|\"좋니\"|\"좋아\"|\"샬레\"|\"민서\"</td>\n",
              "      <td>156130</td>\n",
              "      <td>1422</td>\n",
              "      <td>40</td>\n",
              "      <td>272</td>\n",
              "      <td>https://i.ytimg.com/vi/RxGQe4EeEpA/default.jpg</td>\n",
              "      <td>False</td>\n",
              "      <td>False</td>\n",
              "      <td>False</td>\n",
              "      <td>윤종신 '좋니'의 답가 '좋아' 최초 공개!\\n그 여자의 이야기를 지금 만나보세요....</td>\n",
              "    </tr>\n",
              "    <tr>\n",
              "      <th>1</th>\n",
              "      <td>hH7wVE8OlQ0</td>\n",
              "      <td>17.14.11</td>\n",
              "      <td>JSA 귀순 북한군 총격 부상</td>\n",
              "      <td>Edward</td>\n",
              "      <td>25</td>\n",
              "      <td>2017-11-13T10:59:16.000Z</td>\n",
              "      <td>JSA|\"귀순\"|\"북한군\"|\"총격\"|\"부상\"|\"JSA 귀순 북한군 총격 부상\"</td>\n",
              "      <td>76533</td>\n",
              "      <td>211</td>\n",
              "      <td>28</td>\n",
              "      <td>113</td>\n",
              "      <td>https://i.ytimg.com/vi/hH7wVE8OlQ0/default.jpg</td>\n",
              "      <td>False</td>\n",
              "      <td>False</td>\n",
              "      <td>False</td>\n",
              "      <td>[채널A단독]北 병사 현재 '의식불명'… 혈압 떨어지는 중 \\n[채널A단독]우리측 ...</td>\n",
              "    </tr>\n",
              "    <tr>\n",
              "      <th>2</th>\n",
              "      <td>9V8bnWUmE9U</td>\n",
              "      <td>17.14.11</td>\n",
              "      <td>나몰라패밀리 운동화 영상 2탄 (빼빼로데이버젼)</td>\n",
              "      <td>나몰라패밀리 핫쇼</td>\n",
              "      <td>22</td>\n",
              "      <td>2017-11-11T07:16:08.000Z</td>\n",
              "      <td>아디다스|\"빼빼로\"|\"핫쇼\"|\"나몰라패밀리\"|\"대학로\"|\"공연\"</td>\n",
              "      <td>421409</td>\n",
              "      <td>5112</td>\n",
              "      <td>166</td>\n",
              "      <td>459</td>\n",
              "      <td>https://i.ytimg.com/vi/9V8bnWUmE9U/default.jpg</td>\n",
              "      <td>False</td>\n",
              "      <td>False</td>\n",
              "      <td>False</td>\n",
              "      <td>퍼가실때 꼭 출처 부탁드려요</td>\n",
              "    </tr>\n",
              "    <tr>\n",
              "      <th>3</th>\n",
              "      <td>0_8py-t5R80</td>\n",
              "      <td>17.14.11</td>\n",
              "      <td>이명박 출국 현장, 놓치면 안되는 장면</td>\n",
              "      <td>미디어몽구</td>\n",
              "      <td>25</td>\n",
              "      <td>2017-11-12T11:19:52.000Z</td>\n",
              "      <td>이명박|\"이명박 출국금지\"|\"이명박 출국현장\"|\"이명박 바레인\"|\"이명박 대통령\"|...</td>\n",
              "      <td>222850</td>\n",
              "      <td>2093</td>\n",
              "      <td>173</td>\n",
              "      <td>1219</td>\n",
              "      <td>https://i.ytimg.com/vi/0_8py-t5R80/default.jpg</td>\n",
              "      <td>False</td>\n",
              "      <td>False</td>\n",
              "      <td>False</td>\n",
              "      <td>다스는 누구겁니까 듣고 난 후 표정</td>\n",
              "    </tr>\n",
              "    <tr>\n",
              "      <th>4</th>\n",
              "      <td>bk55RbxiQdI</td>\n",
              "      <td>17.14.11</td>\n",
              "      <td>김장겸은 물러갔다 MBC 노조 환호와 눈물</td>\n",
              "      <td>NocutV</td>\n",
              "      <td>25</td>\n",
              "      <td>2017-11-13T11:08:59.000Z</td>\n",
              "      <td>nocutV|\"노컷V\"|\"CBS\"|\"mbc\"|\"김장겸\"|\"해임\"|\"허일후\"</td>\n",
              "      <td>84466</td>\n",
              "      <td>1094</td>\n",
              "      <td>109</td>\n",
              "      <td>450</td>\n",
              "      <td>https://i.ytimg.com/vi/bk55RbxiQdI/default.jpg</td>\n",
              "      <td>False</td>\n",
              "      <td>False</td>\n",
              "      <td>False</td>\n",
              "      <td>김장겸 MBC 사장이 결국 해임됐다.\\n\\nMBC 대주주인 방송문화진흥회는 13일 ...</td>\n",
              "    </tr>\n",
              "  </tbody>\n",
              "</table>\n",
              "</div>\n",
              "      <button class=\"colab-df-convert\" onclick=\"convertToInteractive('df-04c23712-c7b3-4837-ba9a-991a76305d9c')\"\n",
              "              title=\"Convert this dataframe to an interactive table.\"\n",
              "              style=\"display:none;\">\n",
              "        \n",
              "  <svg xmlns=\"http://www.w3.org/2000/svg\" height=\"24px\"viewBox=\"0 0 24 24\"\n",
              "       width=\"24px\">\n",
              "    <path d=\"M0 0h24v24H0V0z\" fill=\"none\"/>\n",
              "    <path d=\"M18.56 5.44l.94 2.06.94-2.06 2.06-.94-2.06-.94-.94-2.06-.94 2.06-2.06.94zm-11 1L8.5 8.5l.94-2.06 2.06-.94-2.06-.94L8.5 2.5l-.94 2.06-2.06.94zm10 10l.94 2.06.94-2.06 2.06-.94-2.06-.94-.94-2.06-.94 2.06-2.06.94z\"/><path d=\"M17.41 7.96l-1.37-1.37c-.4-.4-.92-.59-1.43-.59-.52 0-1.04.2-1.43.59L10.3 9.45l-7.72 7.72c-.78.78-.78 2.05 0 2.83L4 21.41c.39.39.9.59 1.41.59.51 0 1.02-.2 1.41-.59l7.78-7.78 2.81-2.81c.8-.78.8-2.07 0-2.86zM5.41 20L4 18.59l7.72-7.72 1.47 1.35L5.41 20z\"/>\n",
              "  </svg>\n",
              "      </button>\n",
              "      \n",
              "  <style>\n",
              "    .colab-df-container {\n",
              "      display:flex;\n",
              "      flex-wrap:wrap;\n",
              "      gap: 12px;\n",
              "    }\n",
              "\n",
              "    .colab-df-convert {\n",
              "      background-color: #E8F0FE;\n",
              "      border: none;\n",
              "      border-radius: 50%;\n",
              "      cursor: pointer;\n",
              "      display: none;\n",
              "      fill: #1967D2;\n",
              "      height: 32px;\n",
              "      padding: 0 0 0 0;\n",
              "      width: 32px;\n",
              "    }\n",
              "\n",
              "    .colab-df-convert:hover {\n",
              "      background-color: #E2EBFA;\n",
              "      box-shadow: 0px 1px 2px rgba(60, 64, 67, 0.3), 0px 1px 3px 1px rgba(60, 64, 67, 0.15);\n",
              "      fill: #174EA6;\n",
              "    }\n",
              "\n",
              "    [theme=dark] .colab-df-convert {\n",
              "      background-color: #3B4455;\n",
              "      fill: #D2E3FC;\n",
              "    }\n",
              "\n",
              "    [theme=dark] .colab-df-convert:hover {\n",
              "      background-color: #434B5C;\n",
              "      box-shadow: 0px 1px 3px 1px rgba(0, 0, 0, 0.15);\n",
              "      filter: drop-shadow(0px 1px 2px rgba(0, 0, 0, 0.3));\n",
              "      fill: #FFFFFF;\n",
              "    }\n",
              "  </style>\n",
              "\n",
              "      <script>\n",
              "        const buttonEl =\n",
              "          document.querySelector('#df-04c23712-c7b3-4837-ba9a-991a76305d9c button.colab-df-convert');\n",
              "        buttonEl.style.display =\n",
              "          google.colab.kernel.accessAllowed ? 'block' : 'none';\n",
              "\n",
              "        async function convertToInteractive(key) {\n",
              "          const element = document.querySelector('#df-04c23712-c7b3-4837-ba9a-991a76305d9c');\n",
              "          const dataTable =\n",
              "            await google.colab.kernel.invokeFunction('convertToInteractive',\n",
              "                                                     [key], {});\n",
              "          if (!dataTable) return;\n",
              "\n",
              "          const docLinkHtml = 'Like what you see? Visit the ' +\n",
              "            '<a target=\"_blank\" href=https://colab.research.google.com/notebooks/data_table.ipynb>data table notebook</a>'\n",
              "            + ' to learn more about interactive tables.';\n",
              "          element.innerHTML = '';\n",
              "          dataTable['output_type'] = 'display_data';\n",
              "          await google.colab.output.renderOutput(dataTable, element);\n",
              "          const docLink = document.createElement('div');\n",
              "          docLink.innerHTML = docLinkHtml;\n",
              "          element.appendChild(docLink);\n",
              "        }\n",
              "      </script>\n",
              "    </div>\n",
              "  </div>\n",
              "  "
            ]
          },
          "metadata": {},
          "execution_count": 15
        }
      ]
    },
    {
      "cell_type": "code",
      "metadata": {
        "id": "RF6VsOdtNkVZ",
        "colab": {
          "base_uri": "https://localhost:8080/"
        },
        "outputId": "8648891a-aed7-4419-9bbf-cc6d06f7f191"
      },
      "source": [
        "print('Before dropna:', len(df))\n",
        "df = df.dropna()\n",
        "print('After  dropna:', len(df))\n",
        "df = df.reset_index(drop=True)"
      ],
      "execution_count": null,
      "outputs": [
        {
          "output_type": "stream",
          "name": "stdout",
          "text": [
            "Before dropna: 28408\n",
            "After  dropna: 24768\n"
          ]
        }
      ]
    },
    {
      "cell_type": "markdown",
      "metadata": {
        "id": "0LKy16y4N4E8"
      },
      "source": [
        "#**3. 피쳐 엔지니어링**"
      ]
    },
    {
      "cell_type": "code",
      "metadata": {
        "id": "yvzKrlALIB7y",
        "colab": {
          "base_uri": "https://localhost:8080/"
        },
        "outputId": "fa25648b-4ef8-40a8-eb9d-09587b2e387d"
      },
      "source": [
        "r_avg = []\n",
        "g_avg = []\n",
        "b_avg = []\n",
        "\n",
        "for i in tqdm.tqdm(range(len(df))):\n",
        "    url = df['thumbnail_link'][i]\n",
        "    res = requests.get(url)\n",
        "    request_get_img = Image.open(BytesIO(res.content))\n",
        "    red, green, blue = request_get_img.split()\n",
        "\n",
        "    r_avg.append(int(np.average(red)))\n",
        "    g_avg.append(int(np.average(green)))\n",
        "    b_avg.append(int(np.average(blue)))\n",
        "\n",
        "df['r_avg'] = r_avg\n",
        "df['g_avg'] = g_avg\n",
        "df['b_avg'] = b_avg"
      ],
      "execution_count": null,
      "outputs": [
        {
          "output_type": "stream",
          "name": "stderr",
          "text": [
            "100%|██████████| 24768/24768 [10:44<00:00, 38.42it/s]\n"
          ]
        }
      ]
    },
    {
      "cell_type": "code",
      "metadata": {
        "colab": {
          "base_uri": "https://localhost:8080/",
          "height": 895
        },
        "id": "3dmbFV8vgk5O",
        "outputId": "563f11ae-49ed-4ca8-878d-ed2fb9c6e4a8"
      },
      "source": [
        "df.head(5)"
      ],
      "execution_count": null,
      "outputs": [
        {
          "output_type": "execute_result",
          "data": {
            "text/plain": [
              "      video_id trending_date                       title channel_title  \\\n",
              "0  RxGQe4EeEpA      17.14.11          좋아 by 민서_윤종신_좋니 답가        라푸마코리아   \n",
              "1  hH7wVE8OlQ0      17.14.11            JSA 귀순 북한군 총격 부상        Edward   \n",
              "2  9V8bnWUmE9U      17.14.11  나몰라패밀리 운동화 영상 2탄 (빼빼로데이버젼)     나몰라패밀리 핫쇼   \n",
              "3  0_8py-t5R80      17.14.11  이명박 출국 현장, 놓치면 안되는 장면         미디어몽구   \n",
              "4  bk55RbxiQdI      17.14.11     김장겸은 물러갔다 MBC 노조 환호와 눈물        NocutV   \n",
              "\n",
              "  category_id              publish_time  \\\n",
              "0          22  2017-11-13T07:07:36.000Z   \n",
              "1          25  2017-11-13T10:59:16.000Z   \n",
              "2          22  2017-11-11T07:16:08.000Z   \n",
              "3          25  2017-11-12T11:19:52.000Z   \n",
              "4          25  2017-11-13T11:08:59.000Z   \n",
              "\n",
              "                                                tags   views likes dislikes  \\\n",
              "0                      라푸마|\"윤종신\"|\"좋니\"|\"좋아\"|\"샬레\"|\"민서\"  156130  1422       40   \n",
              "1        JSA|\"귀순\"|\"북한군\"|\"총격\"|\"부상\"|\"JSA 귀순 북한군 총격 부상\"   76533   211       28   \n",
              "2                아디다스|\"빼빼로\"|\"핫쇼\"|\"나몰라패밀리\"|\"대학로\"|\"공연\"  421409  5112      166   \n",
              "3  이명박|\"이명박 출국금지\"|\"이명박 출국현장\"|\"이명박 바레인\"|\"이명박 대통령\"|...  222850  2093      173   \n",
              "4          nocutV|\"노컷V\"|\"CBS\"|\"mbc\"|\"김장겸\"|\"해임\"|\"허일후\"   84466  1094      109   \n",
              "\n",
              "  comment_count                                  thumbnail_link  \\\n",
              "0           272  https://i.ytimg.com/vi/RxGQe4EeEpA/default.jpg   \n",
              "1           113  https://i.ytimg.com/vi/hH7wVE8OlQ0/default.jpg   \n",
              "2           459  https://i.ytimg.com/vi/9V8bnWUmE9U/default.jpg   \n",
              "3          1219  https://i.ytimg.com/vi/0_8py-t5R80/default.jpg   \n",
              "4           450  https://i.ytimg.com/vi/bk55RbxiQdI/default.jpg   \n",
              "\n",
              "  comments_disabled ratings_disabled video_error_or_removed  \\\n",
              "0             False            False                  False   \n",
              "1             False            False                  False   \n",
              "2             False            False                  False   \n",
              "3             False            False                  False   \n",
              "4             False            False                  False   \n",
              "\n",
              "                                         description  r_avg  g_avg  b_avg  \n",
              "0  윤종신 '좋니'의 답가 '좋아' 최초 공개!\\n그 여자의 이야기를 지금 만나보세요....     56     41     31  \n",
              "1  [채널A단독]北 병사 현재 '의식불명'… 혈압 떨어지는 중 \\n[채널A단독]우리측 ...    193    193    193  \n",
              "2                                    퍼가실때 꼭 출처 부탁드려요    105     84     86  \n",
              "3                                다스는 누구겁니까 듣고 난 후 표정     89     86     86  \n",
              "4  김장겸 MBC 사장이 결국 해임됐다.\\n\\nMBC 대주주인 방송문화진흥회는 13일 ...     81     77     61  "
            ],
            "text/html": [
              "\n",
              "  <div id=\"df-03cab91c-0d64-4a91-ac79-47e4f129b499\">\n",
              "    <div class=\"colab-df-container\">\n",
              "      <div>\n",
              "<style scoped>\n",
              "    .dataframe tbody tr th:only-of-type {\n",
              "        vertical-align: middle;\n",
              "    }\n",
              "\n",
              "    .dataframe tbody tr th {\n",
              "        vertical-align: top;\n",
              "    }\n",
              "\n",
              "    .dataframe thead th {\n",
              "        text-align: right;\n",
              "    }\n",
              "</style>\n",
              "<table border=\"1\" class=\"dataframe\">\n",
              "  <thead>\n",
              "    <tr style=\"text-align: right;\">\n",
              "      <th></th>\n",
              "      <th>video_id</th>\n",
              "      <th>trending_date</th>\n",
              "      <th>title</th>\n",
              "      <th>channel_title</th>\n",
              "      <th>category_id</th>\n",
              "      <th>publish_time</th>\n",
              "      <th>tags</th>\n",
              "      <th>views</th>\n",
              "      <th>likes</th>\n",
              "      <th>dislikes</th>\n",
              "      <th>comment_count</th>\n",
              "      <th>thumbnail_link</th>\n",
              "      <th>comments_disabled</th>\n",
              "      <th>ratings_disabled</th>\n",
              "      <th>video_error_or_removed</th>\n",
              "      <th>description</th>\n",
              "      <th>r_avg</th>\n",
              "      <th>g_avg</th>\n",
              "      <th>b_avg</th>\n",
              "    </tr>\n",
              "  </thead>\n",
              "  <tbody>\n",
              "    <tr>\n",
              "      <th>0</th>\n",
              "      <td>RxGQe4EeEpA</td>\n",
              "      <td>17.14.11</td>\n",
              "      <td>좋아 by 민서_윤종신_좋니 답가</td>\n",
              "      <td>라푸마코리아</td>\n",
              "      <td>22</td>\n",
              "      <td>2017-11-13T07:07:36.000Z</td>\n",
              "      <td>라푸마|\"윤종신\"|\"좋니\"|\"좋아\"|\"샬레\"|\"민서\"</td>\n",
              "      <td>156130</td>\n",
              "      <td>1422</td>\n",
              "      <td>40</td>\n",
              "      <td>272</td>\n",
              "      <td>https://i.ytimg.com/vi/RxGQe4EeEpA/default.jpg</td>\n",
              "      <td>False</td>\n",
              "      <td>False</td>\n",
              "      <td>False</td>\n",
              "      <td>윤종신 '좋니'의 답가 '좋아' 최초 공개!\\n그 여자의 이야기를 지금 만나보세요....</td>\n",
              "      <td>56</td>\n",
              "      <td>41</td>\n",
              "      <td>31</td>\n",
              "    </tr>\n",
              "    <tr>\n",
              "      <th>1</th>\n",
              "      <td>hH7wVE8OlQ0</td>\n",
              "      <td>17.14.11</td>\n",
              "      <td>JSA 귀순 북한군 총격 부상</td>\n",
              "      <td>Edward</td>\n",
              "      <td>25</td>\n",
              "      <td>2017-11-13T10:59:16.000Z</td>\n",
              "      <td>JSA|\"귀순\"|\"북한군\"|\"총격\"|\"부상\"|\"JSA 귀순 북한군 총격 부상\"</td>\n",
              "      <td>76533</td>\n",
              "      <td>211</td>\n",
              "      <td>28</td>\n",
              "      <td>113</td>\n",
              "      <td>https://i.ytimg.com/vi/hH7wVE8OlQ0/default.jpg</td>\n",
              "      <td>False</td>\n",
              "      <td>False</td>\n",
              "      <td>False</td>\n",
              "      <td>[채널A단독]北 병사 현재 '의식불명'… 혈압 떨어지는 중 \\n[채널A단독]우리측 ...</td>\n",
              "      <td>193</td>\n",
              "      <td>193</td>\n",
              "      <td>193</td>\n",
              "    </tr>\n",
              "    <tr>\n",
              "      <th>2</th>\n",
              "      <td>9V8bnWUmE9U</td>\n",
              "      <td>17.14.11</td>\n",
              "      <td>나몰라패밀리 운동화 영상 2탄 (빼빼로데이버젼)</td>\n",
              "      <td>나몰라패밀리 핫쇼</td>\n",
              "      <td>22</td>\n",
              "      <td>2017-11-11T07:16:08.000Z</td>\n",
              "      <td>아디다스|\"빼빼로\"|\"핫쇼\"|\"나몰라패밀리\"|\"대학로\"|\"공연\"</td>\n",
              "      <td>421409</td>\n",
              "      <td>5112</td>\n",
              "      <td>166</td>\n",
              "      <td>459</td>\n",
              "      <td>https://i.ytimg.com/vi/9V8bnWUmE9U/default.jpg</td>\n",
              "      <td>False</td>\n",
              "      <td>False</td>\n",
              "      <td>False</td>\n",
              "      <td>퍼가실때 꼭 출처 부탁드려요</td>\n",
              "      <td>105</td>\n",
              "      <td>84</td>\n",
              "      <td>86</td>\n",
              "    </tr>\n",
              "    <tr>\n",
              "      <th>3</th>\n",
              "      <td>0_8py-t5R80</td>\n",
              "      <td>17.14.11</td>\n",
              "      <td>이명박 출국 현장, 놓치면 안되는 장면</td>\n",
              "      <td>미디어몽구</td>\n",
              "      <td>25</td>\n",
              "      <td>2017-11-12T11:19:52.000Z</td>\n",
              "      <td>이명박|\"이명박 출국금지\"|\"이명박 출국현장\"|\"이명박 바레인\"|\"이명박 대통령\"|...</td>\n",
              "      <td>222850</td>\n",
              "      <td>2093</td>\n",
              "      <td>173</td>\n",
              "      <td>1219</td>\n",
              "      <td>https://i.ytimg.com/vi/0_8py-t5R80/default.jpg</td>\n",
              "      <td>False</td>\n",
              "      <td>False</td>\n",
              "      <td>False</td>\n",
              "      <td>다스는 누구겁니까 듣고 난 후 표정</td>\n",
              "      <td>89</td>\n",
              "      <td>86</td>\n",
              "      <td>86</td>\n",
              "    </tr>\n",
              "    <tr>\n",
              "      <th>4</th>\n",
              "      <td>bk55RbxiQdI</td>\n",
              "      <td>17.14.11</td>\n",
              "      <td>김장겸은 물러갔다 MBC 노조 환호와 눈물</td>\n",
              "      <td>NocutV</td>\n",
              "      <td>25</td>\n",
              "      <td>2017-11-13T11:08:59.000Z</td>\n",
              "      <td>nocutV|\"노컷V\"|\"CBS\"|\"mbc\"|\"김장겸\"|\"해임\"|\"허일후\"</td>\n",
              "      <td>84466</td>\n",
              "      <td>1094</td>\n",
              "      <td>109</td>\n",
              "      <td>450</td>\n",
              "      <td>https://i.ytimg.com/vi/bk55RbxiQdI/default.jpg</td>\n",
              "      <td>False</td>\n",
              "      <td>False</td>\n",
              "      <td>False</td>\n",
              "      <td>김장겸 MBC 사장이 결국 해임됐다.\\n\\nMBC 대주주인 방송문화진흥회는 13일 ...</td>\n",
              "      <td>81</td>\n",
              "      <td>77</td>\n",
              "      <td>61</td>\n",
              "    </tr>\n",
              "  </tbody>\n",
              "</table>\n",
              "</div>\n",
              "      <button class=\"colab-df-convert\" onclick=\"convertToInteractive('df-03cab91c-0d64-4a91-ac79-47e4f129b499')\"\n",
              "              title=\"Convert this dataframe to an interactive table.\"\n",
              "              style=\"display:none;\">\n",
              "        \n",
              "  <svg xmlns=\"http://www.w3.org/2000/svg\" height=\"24px\"viewBox=\"0 0 24 24\"\n",
              "       width=\"24px\">\n",
              "    <path d=\"M0 0h24v24H0V0z\" fill=\"none\"/>\n",
              "    <path d=\"M18.56 5.44l.94 2.06.94-2.06 2.06-.94-2.06-.94-.94-2.06-.94 2.06-2.06.94zm-11 1L8.5 8.5l.94-2.06 2.06-.94-2.06-.94L8.5 2.5l-.94 2.06-2.06.94zm10 10l.94 2.06.94-2.06 2.06-.94-2.06-.94-.94-2.06-.94 2.06-2.06.94z\"/><path d=\"M17.41 7.96l-1.37-1.37c-.4-.4-.92-.59-1.43-.59-.52 0-1.04.2-1.43.59L10.3 9.45l-7.72 7.72c-.78.78-.78 2.05 0 2.83L4 21.41c.39.39.9.59 1.41.59.51 0 1.02-.2 1.41-.59l7.78-7.78 2.81-2.81c.8-.78.8-2.07 0-2.86zM5.41 20L4 18.59l7.72-7.72 1.47 1.35L5.41 20z\"/>\n",
              "  </svg>\n",
              "      </button>\n",
              "      \n",
              "  <style>\n",
              "    .colab-df-container {\n",
              "      display:flex;\n",
              "      flex-wrap:wrap;\n",
              "      gap: 12px;\n",
              "    }\n",
              "\n",
              "    .colab-df-convert {\n",
              "      background-color: #E8F0FE;\n",
              "      border: none;\n",
              "      border-radius: 50%;\n",
              "      cursor: pointer;\n",
              "      display: none;\n",
              "      fill: #1967D2;\n",
              "      height: 32px;\n",
              "      padding: 0 0 0 0;\n",
              "      width: 32px;\n",
              "    }\n",
              "\n",
              "    .colab-df-convert:hover {\n",
              "      background-color: #E2EBFA;\n",
              "      box-shadow: 0px 1px 2px rgba(60, 64, 67, 0.3), 0px 1px 3px 1px rgba(60, 64, 67, 0.15);\n",
              "      fill: #174EA6;\n",
              "    }\n",
              "\n",
              "    [theme=dark] .colab-df-convert {\n",
              "      background-color: #3B4455;\n",
              "      fill: #D2E3FC;\n",
              "    }\n",
              "\n",
              "    [theme=dark] .colab-df-convert:hover {\n",
              "      background-color: #434B5C;\n",
              "      box-shadow: 0px 1px 3px 1px rgba(0, 0, 0, 0.15);\n",
              "      filter: drop-shadow(0px 1px 2px rgba(0, 0, 0, 0.3));\n",
              "      fill: #FFFFFF;\n",
              "    }\n",
              "  </style>\n",
              "\n",
              "      <script>\n",
              "        const buttonEl =\n",
              "          document.querySelector('#df-03cab91c-0d64-4a91-ac79-47e4f129b499 button.colab-df-convert');\n",
              "        buttonEl.style.display =\n",
              "          google.colab.kernel.accessAllowed ? 'block' : 'none';\n",
              "\n",
              "        async function convertToInteractive(key) {\n",
              "          const element = document.querySelector('#df-03cab91c-0d64-4a91-ac79-47e4f129b499');\n",
              "          const dataTable =\n",
              "            await google.colab.kernel.invokeFunction('convertToInteractive',\n",
              "                                                     [key], {});\n",
              "          if (!dataTable) return;\n",
              "\n",
              "          const docLinkHtml = 'Like what you see? Visit the ' +\n",
              "            '<a target=\"_blank\" href=https://colab.research.google.com/notebooks/data_table.ipynb>data table notebook</a>'\n",
              "            + ' to learn more about interactive tables.';\n",
              "          element.innerHTML = '';\n",
              "          dataTable['output_type'] = 'display_data';\n",
              "          await google.colab.output.renderOutput(dataTable, element);\n",
              "          const docLink = document.createElement('div');\n",
              "          docLink.innerHTML = docLinkHtml;\n",
              "          element.appendChild(docLink);\n",
              "        }\n",
              "      </script>\n",
              "    </div>\n",
              "  </div>\n",
              "  "
            ]
          },
          "metadata": {},
          "execution_count": 18
        }
      ]
    },
    {
      "cell_type": "code",
      "metadata": {
        "colab": {
          "base_uri": "https://localhost:8080/"
        },
        "id": "_YNDzBz-Yhuk",
        "outputId": "25cda156-e22c-4d1a-ad62-2e5a2237729b"
      },
      "source": [
        "check_table = df[df['r_avg'] == df['g_avg']]\n",
        "check_table = check_table[check_table['g_avg'] == check_table['b_avg']]\n",
        "print('len_check_table:', len(check_table))\n",
        "\n",
        "print('Before removing non-thumbnail images:', len(df))\n",
        "df_rgb = df[df['r_avg'] != 193]\n",
        "print('After  removing non-thumbnail images:', len(df_rgb))\n",
        "df_rgb = df_rgb.reset_index(drop=True)\n",
        "df_rgb.to_csv('df_color_encode.csv', index_label=False)"
      ],
      "execution_count": null,
      "outputs": [
        {
          "output_type": "stream",
          "name": "stdout",
          "text": [
            "len_check_table: 10081\n",
            "Before removing non-thumbnail images: 24768\n",
            "After  removing non-thumbnail images: 14807\n"
          ]
        }
      ]
    },
    {
      "cell_type": "code",
      "metadata": {
        "colab": {
          "base_uri": "https://localhost:8080/",
          "height": 1000
        },
        "id": "qNjs01M2SOzV",
        "outputId": "0f28550a-1add-4294-d2c4-ee944d9a1849"
      },
      "source": [
        "# df_rgb = pd.read_csv('df_color_encode.csv')\n",
        "print(df['video_id'].duplicated().value_counts())\n",
        "df_rgb[df_rgb.duplicated('video_id')].sort_values(by='video_id')"
      ],
      "execution_count": null,
      "outputs": [
        {
          "output_type": "stream",
          "name": "stdout",
          "text": [
            "True     13672\n",
            "False    11096\n",
            "Name: video_id, dtype: int64\n"
          ]
        },
        {
          "output_type": "execute_result",
          "data": {
            "text/plain": [
              "          video_id trending_date  \\\n",
              "13046       #NAME?      18.26.05   \n",
              "1471        #NAME?      17.04.12   \n",
              "13300       #NAME?      18.30.05   \n",
              "9518        #NAME?      18.06.04   \n",
              "9505        #NAME?      18.06.04   \n",
              "...            ...           ...   \n",
              "7584   zxjJLN12Ig0      18.09.03   \n",
              "7466   zxpH0ekLUHI      18.07.03   \n",
              "7396   zxpH0ekLUHI      18.06.03   \n",
              "11205  zy9W8V1ICOw      18.05.05   \n",
              "10737  zyz3rnlxOvM      18.29.04   \n",
              "\n",
              "                                                   title channel_title  \\\n",
              "13046  방탄소년단 - ANPANMAN (BTS - ANPANMAN) │BTS COMEBAC...         RT TV   \n",
              "1471           Ep 37.문과 1등 이과 1등 담배 피우는 뒤에서 1등을 발견하다~!!!        1등 미디어   \n",
              "13300                    총을 못 만지는 남자가 군대에 가서 보여준 기적적인 실화           미들뻔   \n",
              "9518   중국에서 유행한다는 신기한 액체얼음을 먹어보았습니다! 이건 얼음인가 액체인가?! - 허팝      허팝Heopop   \n",
              "9505   예수님과 동행하는 삶_유기성 목사,박리부가 사모(선한목자교회), 내가매일기쁘게201...      CTS기독교TV   \n",
              "...                                                  ...           ...   \n",
              "7584   [리플] 달달한 머랭쿠키 맨손으로 직접 만들어보았다! 이번에는 어떻게 망할까? | ...      Ripple_S   \n",
              "7466   [MV] Hyungdon & Daejune(형돈이와 대준이) _ The King o...  1theK (원더케이)   \n",
              "7396   [MV] Hyungdon & Daejune(형돈이와 대준이) _ The King o...  1theK (원더케이)   \n",
              "11205              【꽃핀】 자상무색 한국어 커버 (自傷無色  korean cover)            꽃핀   \n",
              "10737                       친구한테 써먹기 좋은 마술 몰카ㅋㅋㅋㅋㅋㅋㅋㅋㅋㅋㅋ        악어의사생활   \n",
              "\n",
              "      category_id              publish_time  \\\n",
              "13046          22  2018-05-25T09:20:17.000Z   \n",
              "1471           23  2017-12-01T07:30:00.000Z   \n",
              "13300           1  2018-05-26T10:30:47.000Z   \n",
              "9518           24  2018-04-02T12:16:14.000Z   \n",
              "9505           29  2018-04-03T03:04:22.000Z   \n",
              "...           ...                       ...   \n",
              "7584           23  2018-03-07T10:30:02.000Z   \n",
              "7466           10  2018-03-04T09:00:03.000Z   \n",
              "7396           10  2018-03-04T09:00:03.000Z   \n",
              "11205          10  2018-05-03T05:38:40.000Z   \n",
              "10737          22  2018-04-27T09:30:01.000Z   \n",
              "\n",
              "                                                    tags   views likes  \\\n",
              "13046  bts anpanman reaction|\"bts anpanman comeback s...  221175  8496   \n",
              "1471   웃찾사|\"문과1등\"|\"이과1등\"|\"이그젝틀리\"|\"이과젝틀리\"|\"김성기\"|\"신흥재\"|...  427430  6819   \n",
              "13300  미들뻔|\"미드펀\"|\"미드뻔\"|\"미들펀\"|\"뻔펀\"|\"영화\"|\"영화 추천\"|\"영화 소개...  973039  8051   \n",
              "9518   허팝|\"heopop\"|\"gjvkq\"|\"중국\"|\"얼음\"|\"겉에만 언 얼음\"|\"속은 물...  760427  9185   \n",
              "9505   기독교|\"CTS\"|\"기독교텔레비전\"|\"CTS기독교TV\"|\"CTSTV\"|\"기독교방송\"...   56884   500   \n",
              "...                                                  ...     ...   ...   \n",
              "7584   Ripple|\"Ripple_S\"|\"Replay\"|\"리플즈\"|\"리플에스\"|\"리플레이\"...  250100  3592   \n",
              "7466   Kpop|\"1theK\"|\"원더케이\"|\"loen\"|\"로엔\"|\"뮤비\"|\"티져\"|\"MV\"...  224813  8662   \n",
              "7396   Kpop|\"1theK\"|\"원더케이\"|\"loen\"|\"로엔\"|\"뮤비\"|\"티져\"|\"MV\"...  175110  7640   \n",
              "11205  꽃핀|\"샌드박스\"|\"Jishou mushoku\"|\"자상무색\"|\"自傷無色\"|\"네코보로...   67169  3751   \n",
              "10737  트레져헌터|\"늪지대\"|\"마인크래프트\"|\"minecraft\"|\"게임\"|\"game\"|\"...  142454  2802   \n",
              "\n",
              "      dislikes comment_count                                  thumbnail_link  \\\n",
              "13046       84           331  https://i.ytimg.com/vi/-qFrHv2XbBY/default.jpg   \n",
              "1471       159          2314  https://i.ytimg.com/vi/-eogDUxczeE/default.jpg   \n",
              "13300      293          2232  https://i.ytimg.com/vi/-ArRPlpU9Tc/default.jpg   \n",
              "9518       699          1549  https://i.ytimg.com/vi/-A62Br1WkOs/default.jpg   \n",
              "9505        53            30  https://i.ytimg.com/vi/-swmzN_BQWQ/default.jpg   \n",
              "...        ...           ...                                             ...   \n",
              "7584        54           713  https://i.ytimg.com/vi/zxjJLN12Ig0/default.jpg   \n",
              "7466       165          1019  https://i.ytimg.com/vi/zxpH0ekLUHI/default.jpg   \n",
              "7396       152           873  https://i.ytimg.com/vi/zxpH0ekLUHI/default.jpg   \n",
              "11205       50           815  https://i.ytimg.com/vi/zy9W8V1ICOw/default.jpg   \n",
              "10737       51           255  https://i.ytimg.com/vi/zyz3rnlxOvM/default.jpg   \n",
              "\n",
              "      comments_disabled ratings_disabled video_error_or_removed  \\\n",
              "13046             False            False                  False   \n",
              "1471              False            False                  False   \n",
              "13300             False            False                  False   \n",
              "9518              False            False                  False   \n",
              "9505              False            False                  False   \n",
              "...                 ...              ...                    ...   \n",
              "7584              False            False                  False   \n",
              "7466              False            False                  False   \n",
              "7396              False            False                  False   \n",
              "11205             False            False                  False   \n",
              "10737             False            False                  False   \n",
              "\n",
              "                                             description  r_avg  g_avg  b_avg  \n",
              "13046  방탄소년단 - ANPANMAN (BTS - ANPANMAN) │BTS COMEBAC...     95     93     83  \n",
              "1471   오늘도 평화롭게 길을 가던 문과이과에 눈에 띈\\n담배피는 뒤에서 1등!!!\\n과연 ...     76     69     68  \n",
              "13300  안녕하세요, 미들뻔입니다.오늘 리뷰할 작품은 '핵소 고지(Hacksaw Ridge ...     73     69     55  \n",
              "9518   요즘 중국에선 이런 신기한 얼음을 먹는다고 해요... 중국은 벌써부터 엄청 더운건가...    125    125    114  \n",
              "9505   은혜로운 간증으로 살아계신 하나님을 전하는 크리스천 토크 프로그램 \\n[내가 매일 ...    107     95     89  \n",
              "...                                                  ...    ...    ...    ...  \n",
              "7584   극한직업 리플PD...\\n\\n[Contents Awesome!]\\n\\n리플의 꿀잼 ...    125    129    127  \n",
              "7466   [MV] Hyungdon & Daejune(형돈이와 대준이) _ The King o...    134    132    129  \n",
              "7396   [MV] Hyungdon & Daejune(형돈이와 대준이) _ The King o...    134    132    129  \n",
              "11205  ◕‿◕✿ 매월 마지막 날은 노래 업로드 하는 날~!● 원곡 : @nekobolo【初...    119     89     93  \n",
              "10737  귀엽고 시크한 그들이 간단한 트릭부터 신기한 마술까지 선보인다!\\n그리고 마술로 친...    121     91     77  \n",
              "\n",
              "[8316 rows x 19 columns]"
            ],
            "text/html": [
              "\n",
              "  <div id=\"df-1d91a6ba-b169-4604-bfe1-680c6c74419c\">\n",
              "    <div class=\"colab-df-container\">\n",
              "      <div>\n",
              "<style scoped>\n",
              "    .dataframe tbody tr th:only-of-type {\n",
              "        vertical-align: middle;\n",
              "    }\n",
              "\n",
              "    .dataframe tbody tr th {\n",
              "        vertical-align: top;\n",
              "    }\n",
              "\n",
              "    .dataframe thead th {\n",
              "        text-align: right;\n",
              "    }\n",
              "</style>\n",
              "<table border=\"1\" class=\"dataframe\">\n",
              "  <thead>\n",
              "    <tr style=\"text-align: right;\">\n",
              "      <th></th>\n",
              "      <th>video_id</th>\n",
              "      <th>trending_date</th>\n",
              "      <th>title</th>\n",
              "      <th>channel_title</th>\n",
              "      <th>category_id</th>\n",
              "      <th>publish_time</th>\n",
              "      <th>tags</th>\n",
              "      <th>views</th>\n",
              "      <th>likes</th>\n",
              "      <th>dislikes</th>\n",
              "      <th>comment_count</th>\n",
              "      <th>thumbnail_link</th>\n",
              "      <th>comments_disabled</th>\n",
              "      <th>ratings_disabled</th>\n",
              "      <th>video_error_or_removed</th>\n",
              "      <th>description</th>\n",
              "      <th>r_avg</th>\n",
              "      <th>g_avg</th>\n",
              "      <th>b_avg</th>\n",
              "    </tr>\n",
              "  </thead>\n",
              "  <tbody>\n",
              "    <tr>\n",
              "      <th>13046</th>\n",
              "      <td>#NAME?</td>\n",
              "      <td>18.26.05</td>\n",
              "      <td>방탄소년단 - ANPANMAN (BTS - ANPANMAN) │BTS COMEBAC...</td>\n",
              "      <td>RT TV</td>\n",
              "      <td>22</td>\n",
              "      <td>2018-05-25T09:20:17.000Z</td>\n",
              "      <td>bts anpanman reaction|\"bts anpanman comeback s...</td>\n",
              "      <td>221175</td>\n",
              "      <td>8496</td>\n",
              "      <td>84</td>\n",
              "      <td>331</td>\n",
              "      <td>https://i.ytimg.com/vi/-qFrHv2XbBY/default.jpg</td>\n",
              "      <td>False</td>\n",
              "      <td>False</td>\n",
              "      <td>False</td>\n",
              "      <td>방탄소년단 - ANPANMAN (BTS - ANPANMAN) │BTS COMEBAC...</td>\n",
              "      <td>95</td>\n",
              "      <td>93</td>\n",
              "      <td>83</td>\n",
              "    </tr>\n",
              "    <tr>\n",
              "      <th>1471</th>\n",
              "      <td>#NAME?</td>\n",
              "      <td>17.04.12</td>\n",
              "      <td>Ep 37.문과 1등 이과 1등 담배 피우는 뒤에서 1등을 발견하다~!!!</td>\n",
              "      <td>1등 미디어</td>\n",
              "      <td>23</td>\n",
              "      <td>2017-12-01T07:30:00.000Z</td>\n",
              "      <td>웃찾사|\"문과1등\"|\"이과1등\"|\"이그젝틀리\"|\"이과젝틀리\"|\"김성기\"|\"신흥재\"|...</td>\n",
              "      <td>427430</td>\n",
              "      <td>6819</td>\n",
              "      <td>159</td>\n",
              "      <td>2314</td>\n",
              "      <td>https://i.ytimg.com/vi/-eogDUxczeE/default.jpg</td>\n",
              "      <td>False</td>\n",
              "      <td>False</td>\n",
              "      <td>False</td>\n",
              "      <td>오늘도 평화롭게 길을 가던 문과이과에 눈에 띈\\n담배피는 뒤에서 1등!!!\\n과연 ...</td>\n",
              "      <td>76</td>\n",
              "      <td>69</td>\n",
              "      <td>68</td>\n",
              "    </tr>\n",
              "    <tr>\n",
              "      <th>13300</th>\n",
              "      <td>#NAME?</td>\n",
              "      <td>18.30.05</td>\n",
              "      <td>총을 못 만지는 남자가 군대에 가서 보여준 기적적인 실화</td>\n",
              "      <td>미들뻔</td>\n",
              "      <td>1</td>\n",
              "      <td>2018-05-26T10:30:47.000Z</td>\n",
              "      <td>미들뻔|\"미드펀\"|\"미드뻔\"|\"미들펀\"|\"뻔펀\"|\"영화\"|\"영화 추천\"|\"영화 소개...</td>\n",
              "      <td>973039</td>\n",
              "      <td>8051</td>\n",
              "      <td>293</td>\n",
              "      <td>2232</td>\n",
              "      <td>https://i.ytimg.com/vi/-ArRPlpU9Tc/default.jpg</td>\n",
              "      <td>False</td>\n",
              "      <td>False</td>\n",
              "      <td>False</td>\n",
              "      <td>안녕하세요, 미들뻔입니다.오늘 리뷰할 작품은 '핵소 고지(Hacksaw Ridge ...</td>\n",
              "      <td>73</td>\n",
              "      <td>69</td>\n",
              "      <td>55</td>\n",
              "    </tr>\n",
              "    <tr>\n",
              "      <th>9518</th>\n",
              "      <td>#NAME?</td>\n",
              "      <td>18.06.04</td>\n",
              "      <td>중국에서 유행한다는 신기한 액체얼음을 먹어보았습니다! 이건 얼음인가 액체인가?! - 허팝</td>\n",
              "      <td>허팝Heopop</td>\n",
              "      <td>24</td>\n",
              "      <td>2018-04-02T12:16:14.000Z</td>\n",
              "      <td>허팝|\"heopop\"|\"gjvkq\"|\"중국\"|\"얼음\"|\"겉에만 언 얼음\"|\"속은 물...</td>\n",
              "      <td>760427</td>\n",
              "      <td>9185</td>\n",
              "      <td>699</td>\n",
              "      <td>1549</td>\n",
              "      <td>https://i.ytimg.com/vi/-A62Br1WkOs/default.jpg</td>\n",
              "      <td>False</td>\n",
              "      <td>False</td>\n",
              "      <td>False</td>\n",
              "      <td>요즘 중국에선 이런 신기한 얼음을 먹는다고 해요... 중국은 벌써부터 엄청 더운건가...</td>\n",
              "      <td>125</td>\n",
              "      <td>125</td>\n",
              "      <td>114</td>\n",
              "    </tr>\n",
              "    <tr>\n",
              "      <th>9505</th>\n",
              "      <td>#NAME?</td>\n",
              "      <td>18.06.04</td>\n",
              "      <td>예수님과 동행하는 삶_유기성 목사,박리부가 사모(선한목자교회), 내가매일기쁘게201...</td>\n",
              "      <td>CTS기독교TV</td>\n",
              "      <td>29</td>\n",
              "      <td>2018-04-03T03:04:22.000Z</td>\n",
              "      <td>기독교|\"CTS\"|\"기독교텔레비전\"|\"CTS기독교TV\"|\"CTSTV\"|\"기독교방송\"...</td>\n",
              "      <td>56884</td>\n",
              "      <td>500</td>\n",
              "      <td>53</td>\n",
              "      <td>30</td>\n",
              "      <td>https://i.ytimg.com/vi/-swmzN_BQWQ/default.jpg</td>\n",
              "      <td>False</td>\n",
              "      <td>False</td>\n",
              "      <td>False</td>\n",
              "      <td>은혜로운 간증으로 살아계신 하나님을 전하는 크리스천 토크 프로그램 \\n[내가 매일 ...</td>\n",
              "      <td>107</td>\n",
              "      <td>95</td>\n",
              "      <td>89</td>\n",
              "    </tr>\n",
              "    <tr>\n",
              "      <th>...</th>\n",
              "      <td>...</td>\n",
              "      <td>...</td>\n",
              "      <td>...</td>\n",
              "      <td>...</td>\n",
              "      <td>...</td>\n",
              "      <td>...</td>\n",
              "      <td>...</td>\n",
              "      <td>...</td>\n",
              "      <td>...</td>\n",
              "      <td>...</td>\n",
              "      <td>...</td>\n",
              "      <td>...</td>\n",
              "      <td>...</td>\n",
              "      <td>...</td>\n",
              "      <td>...</td>\n",
              "      <td>...</td>\n",
              "      <td>...</td>\n",
              "      <td>...</td>\n",
              "      <td>...</td>\n",
              "    </tr>\n",
              "    <tr>\n",
              "      <th>7584</th>\n",
              "      <td>zxjJLN12Ig0</td>\n",
              "      <td>18.09.03</td>\n",
              "      <td>[리플] 달달한 머랭쿠키 맨손으로 직접 만들어보았다! 이번에는 어떻게 망할까? | ...</td>\n",
              "      <td>Ripple_S</td>\n",
              "      <td>23</td>\n",
              "      <td>2018-03-07T10:30:02.000Z</td>\n",
              "      <td>Ripple|\"Ripple_S\"|\"Replay\"|\"리플즈\"|\"리플에스\"|\"리플레이\"...</td>\n",
              "      <td>250100</td>\n",
              "      <td>3592</td>\n",
              "      <td>54</td>\n",
              "      <td>713</td>\n",
              "      <td>https://i.ytimg.com/vi/zxjJLN12Ig0/default.jpg</td>\n",
              "      <td>False</td>\n",
              "      <td>False</td>\n",
              "      <td>False</td>\n",
              "      <td>극한직업 리플PD...\\n\\n[Contents Awesome!]\\n\\n리플의 꿀잼 ...</td>\n",
              "      <td>125</td>\n",
              "      <td>129</td>\n",
              "      <td>127</td>\n",
              "    </tr>\n",
              "    <tr>\n",
              "      <th>7466</th>\n",
              "      <td>zxpH0ekLUHI</td>\n",
              "      <td>18.07.03</td>\n",
              "      <td>[MV] Hyungdon &amp; Daejune(형돈이와 대준이) _ The King o...</td>\n",
              "      <td>1theK (원더케이)</td>\n",
              "      <td>10</td>\n",
              "      <td>2018-03-04T09:00:03.000Z</td>\n",
              "      <td>Kpop|\"1theK\"|\"원더케이\"|\"loen\"|\"로엔\"|\"뮤비\"|\"티져\"|\"MV\"...</td>\n",
              "      <td>224813</td>\n",
              "      <td>8662</td>\n",
              "      <td>165</td>\n",
              "      <td>1019</td>\n",
              "      <td>https://i.ytimg.com/vi/zxpH0ekLUHI/default.jpg</td>\n",
              "      <td>False</td>\n",
              "      <td>False</td>\n",
              "      <td>False</td>\n",
              "      <td>[MV] Hyungdon &amp; Daejune(형돈이와 대준이) _ The King o...</td>\n",
              "      <td>134</td>\n",
              "      <td>132</td>\n",
              "      <td>129</td>\n",
              "    </tr>\n",
              "    <tr>\n",
              "      <th>7396</th>\n",
              "      <td>zxpH0ekLUHI</td>\n",
              "      <td>18.06.03</td>\n",
              "      <td>[MV] Hyungdon &amp; Daejune(형돈이와 대준이) _ The King o...</td>\n",
              "      <td>1theK (원더케이)</td>\n",
              "      <td>10</td>\n",
              "      <td>2018-03-04T09:00:03.000Z</td>\n",
              "      <td>Kpop|\"1theK\"|\"원더케이\"|\"loen\"|\"로엔\"|\"뮤비\"|\"티져\"|\"MV\"...</td>\n",
              "      <td>175110</td>\n",
              "      <td>7640</td>\n",
              "      <td>152</td>\n",
              "      <td>873</td>\n",
              "      <td>https://i.ytimg.com/vi/zxpH0ekLUHI/default.jpg</td>\n",
              "      <td>False</td>\n",
              "      <td>False</td>\n",
              "      <td>False</td>\n",
              "      <td>[MV] Hyungdon &amp; Daejune(형돈이와 대준이) _ The King o...</td>\n",
              "      <td>134</td>\n",
              "      <td>132</td>\n",
              "      <td>129</td>\n",
              "    </tr>\n",
              "    <tr>\n",
              "      <th>11205</th>\n",
              "      <td>zy9W8V1ICOw</td>\n",
              "      <td>18.05.05</td>\n",
              "      <td>【꽃핀】 자상무색 한국어 커버 (自傷無色  korean cover)</td>\n",
              "      <td>꽃핀</td>\n",
              "      <td>10</td>\n",
              "      <td>2018-05-03T05:38:40.000Z</td>\n",
              "      <td>꽃핀|\"샌드박스\"|\"Jishou mushoku\"|\"자상무색\"|\"自傷無色\"|\"네코보로...</td>\n",
              "      <td>67169</td>\n",
              "      <td>3751</td>\n",
              "      <td>50</td>\n",
              "      <td>815</td>\n",
              "      <td>https://i.ytimg.com/vi/zy9W8V1ICOw/default.jpg</td>\n",
              "      <td>False</td>\n",
              "      <td>False</td>\n",
              "      <td>False</td>\n",
              "      <td>◕‿◕✿ 매월 마지막 날은 노래 업로드 하는 날~!● 원곡 : @nekobolo【初...</td>\n",
              "      <td>119</td>\n",
              "      <td>89</td>\n",
              "      <td>93</td>\n",
              "    </tr>\n",
              "    <tr>\n",
              "      <th>10737</th>\n",
              "      <td>zyz3rnlxOvM</td>\n",
              "      <td>18.29.04</td>\n",
              "      <td>친구한테 써먹기 좋은 마술 몰카ㅋㅋㅋㅋㅋㅋㅋㅋㅋㅋㅋ</td>\n",
              "      <td>악어의사생활</td>\n",
              "      <td>22</td>\n",
              "      <td>2018-04-27T09:30:01.000Z</td>\n",
              "      <td>트레져헌터|\"늪지대\"|\"마인크래프트\"|\"minecraft\"|\"게임\"|\"game\"|\"...</td>\n",
              "      <td>142454</td>\n",
              "      <td>2802</td>\n",
              "      <td>51</td>\n",
              "      <td>255</td>\n",
              "      <td>https://i.ytimg.com/vi/zyz3rnlxOvM/default.jpg</td>\n",
              "      <td>False</td>\n",
              "      <td>False</td>\n",
              "      <td>False</td>\n",
              "      <td>귀엽고 시크한 그들이 간단한 트릭부터 신기한 마술까지 선보인다!\\n그리고 마술로 친...</td>\n",
              "      <td>121</td>\n",
              "      <td>91</td>\n",
              "      <td>77</td>\n",
              "    </tr>\n",
              "  </tbody>\n",
              "</table>\n",
              "<p>8316 rows × 19 columns</p>\n",
              "</div>\n",
              "      <button class=\"colab-df-convert\" onclick=\"convertToInteractive('df-1d91a6ba-b169-4604-bfe1-680c6c74419c')\"\n",
              "              title=\"Convert this dataframe to an interactive table.\"\n",
              "              style=\"display:none;\">\n",
              "        \n",
              "  <svg xmlns=\"http://www.w3.org/2000/svg\" height=\"24px\"viewBox=\"0 0 24 24\"\n",
              "       width=\"24px\">\n",
              "    <path d=\"M0 0h24v24H0V0z\" fill=\"none\"/>\n",
              "    <path d=\"M18.56 5.44l.94 2.06.94-2.06 2.06-.94-2.06-.94-.94-2.06-.94 2.06-2.06.94zm-11 1L8.5 8.5l.94-2.06 2.06-.94-2.06-.94L8.5 2.5l-.94 2.06-2.06.94zm10 10l.94 2.06.94-2.06 2.06-.94-2.06-.94-.94-2.06-.94 2.06-2.06.94z\"/><path d=\"M17.41 7.96l-1.37-1.37c-.4-.4-.92-.59-1.43-.59-.52 0-1.04.2-1.43.59L10.3 9.45l-7.72 7.72c-.78.78-.78 2.05 0 2.83L4 21.41c.39.39.9.59 1.41.59.51 0 1.02-.2 1.41-.59l7.78-7.78 2.81-2.81c.8-.78.8-2.07 0-2.86zM5.41 20L4 18.59l7.72-7.72 1.47 1.35L5.41 20z\"/>\n",
              "  </svg>\n",
              "      </button>\n",
              "      \n",
              "  <style>\n",
              "    .colab-df-container {\n",
              "      display:flex;\n",
              "      flex-wrap:wrap;\n",
              "      gap: 12px;\n",
              "    }\n",
              "\n",
              "    .colab-df-convert {\n",
              "      background-color: #E8F0FE;\n",
              "      border: none;\n",
              "      border-radius: 50%;\n",
              "      cursor: pointer;\n",
              "      display: none;\n",
              "      fill: #1967D2;\n",
              "      height: 32px;\n",
              "      padding: 0 0 0 0;\n",
              "      width: 32px;\n",
              "    }\n",
              "\n",
              "    .colab-df-convert:hover {\n",
              "      background-color: #E2EBFA;\n",
              "      box-shadow: 0px 1px 2px rgba(60, 64, 67, 0.3), 0px 1px 3px 1px rgba(60, 64, 67, 0.15);\n",
              "      fill: #174EA6;\n",
              "    }\n",
              "\n",
              "    [theme=dark] .colab-df-convert {\n",
              "      background-color: #3B4455;\n",
              "      fill: #D2E3FC;\n",
              "    }\n",
              "\n",
              "    [theme=dark] .colab-df-convert:hover {\n",
              "      background-color: #434B5C;\n",
              "      box-shadow: 0px 1px 3px 1px rgba(0, 0, 0, 0.15);\n",
              "      filter: drop-shadow(0px 1px 2px rgba(0, 0, 0, 0.3));\n",
              "      fill: #FFFFFF;\n",
              "    }\n",
              "  </style>\n",
              "\n",
              "      <script>\n",
              "        const buttonEl =\n",
              "          document.querySelector('#df-1d91a6ba-b169-4604-bfe1-680c6c74419c button.colab-df-convert');\n",
              "        buttonEl.style.display =\n",
              "          google.colab.kernel.accessAllowed ? 'block' : 'none';\n",
              "\n",
              "        async function convertToInteractive(key) {\n",
              "          const element = document.querySelector('#df-1d91a6ba-b169-4604-bfe1-680c6c74419c');\n",
              "          const dataTable =\n",
              "            await google.colab.kernel.invokeFunction('convertToInteractive',\n",
              "                                                     [key], {});\n",
              "          if (!dataTable) return;\n",
              "\n",
              "          const docLinkHtml = 'Like what you see? Visit the ' +\n",
              "            '<a target=\"_blank\" href=https://colab.research.google.com/notebooks/data_table.ipynb>data table notebook</a>'\n",
              "            + ' to learn more about interactive tables.';\n",
              "          element.innerHTML = '';\n",
              "          dataTable['output_type'] = 'display_data';\n",
              "          await google.colab.output.renderOutput(dataTable, element);\n",
              "          const docLink = document.createElement('div');\n",
              "          docLink.innerHTML = docLinkHtml;\n",
              "          element.appendChild(docLink);\n",
              "        }\n",
              "      </script>\n",
              "    </div>\n",
              "  </div>\n",
              "  "
            ]
          },
          "metadata": {},
          "execution_count": 20
        }
      ]
    },
    {
      "cell_type": "code",
      "metadata": {
        "colab": {
          "base_uri": "https://localhost:8080/",
          "height": 1000
        },
        "id": "RIOnPfh7fqgm",
        "outputId": "9801e8cd-70e9-4660-bdc7-cedff032d6a2"
      },
      "source": [
        "df_rgb[df_rgb['video_id']=='#NAME?']"
      ],
      "execution_count": null,
      "outputs": [
        {
          "output_type": "execute_result",
          "data": {
            "text/plain": [
              "      video_id trending_date  \\\n",
              "33      #NAME?      17.14.11   \n",
              "116     #NAME?      17.15.11   \n",
              "155     #NAME?      17.15.11   \n",
              "156     #NAME?      17.15.11   \n",
              "204     #NAME?      17.16.11   \n",
              "...        ...           ...   \n",
              "14577   #NAME?      18.12.06   \n",
              "14638   #NAME?      18.13.06   \n",
              "14717   #NAME?      18.13.06   \n",
              "14752   #NAME?      18.14.06   \n",
              "14783   #NAME?      18.14.06   \n",
              "\n",
              "                                                   title  \\\n",
              "33                                     [영화걸작선] 37회 - 장산범   \n",
              "116                                     JSA 귀순 북한군 총격 부상   \n",
              "155                                    [영화걸작선] 37회 - 장산범   \n",
              "156    Sau Ánh Hào Quang #7 FULL | Cát Phượng: Cái sa...   \n",
              "204    171115 AAA 레드카펫 워너원 강다니엘 포커스 4K 직캠 / WANNAONE ...   \n",
              "...                                                  ...   \n",
              "14577  BTS RM, SUGA, J-HOPE - DDAENG (땡) (DISS) REACT...   \n",
              "14638  미우새 입살림 끝판왕 양세형 레전드 모음 2편!! 《모았캐치 / 미운우리새끼 / 스...   \n",
              "14717  미우새 입살림 끝판왕 양세형 레전드 모음 2편!! 《모았캐치 / 미운우리새끼 / 스...   \n",
              "14752  미우새 입살림 끝판왕 양세형 레전드 모음 2편!! 《모았캐치 / 미운우리새끼 / 스...   \n",
              "14783                      Dumbo Official Teaser Trailer   \n",
              "\n",
              "                     channel_title category_id              publish_time  \\\n",
              "33                            거의없다           1  2017-11-11T13:56:14.000Z   \n",
              "116                    채널A 뉴스TOP10          43  2017-11-13T11:47:18.000Z   \n",
              "155                           거의없다           1  2017-11-11T13:56:14.000Z   \n",
              "156    ĐÔNG TÂY PROMOTION OFFICIAL          24  2017-11-13T15:08:54.000Z   \n",
              "204                    Peach Crush          22  2017-11-15T08:29:30.000Z   \n",
              "...                            ...         ...                       ...   \n",
              "14577                        RT TV          22  2018-06-11T06:39:01.000Z   \n",
              "14638                    SBS Catch          24  2018-06-12T05:00:01.000Z   \n",
              "14717                    SBS Catch          24  2018-06-12T05:00:01.000Z   \n",
              "14752                    SBS Catch          24  2018-06-12T05:00:01.000Z   \n",
              "14783        Disney Movie Trailers           1  2018-06-13T07:00:00.000Z   \n",
              "\n",
              "                                                    tags    views  likes  \\\n",
              "33     영화걸작선|\"영화\"|\"애니\"|\"demasian\"|\"거의없다\"|\"없다\"|\"걸작선\"|\"...    78134   3126   \n",
              "116                                                 채널 A    85097    223   \n",
              "155    영화걸작선|\"영화\"|\"애니\"|\"demasian\"|\"거의없다\"|\"없다\"|\"걸작선\"|\"...    84466   3226   \n",
              "156    sau anh hao quang|\"sau ánh hào quang\"|\"sau anh...  1544710  12417   \n",
              "204    워너원|\"강다니엘\"|\"직캠\"|\"AAA\"|\"레드카펫\"|\"WANNAONE\"|\"KANGD...    30451   1763   \n",
              "...                                                  ...      ...    ...   \n",
              "14577  bts ddaeng|\"bts rm suga j hope ddaeng\"|\"ddaeng...   114672   7056   \n",
              "14638  스브스캐치|\"미운우리새끼\"|\"미우새 양세형\"|\"양세형\"|\"양세형 레전드\"|\"미운우리...    96412    572   \n",
              "14717  스브스캐치|\"미운우리새끼\"|\"미우새 양세형\"|\"양세형\"|\"양세형 레전드\"|\"미운우리...    96412    572   \n",
              "14752  스브스캐치|\"미운우리새끼\"|\"미우새 양세형\"|\"양세형\"|\"양세형 레전드\"|\"미운우리...   150166    691   \n",
              "14783  Disney|\"Walt Disney Studios\"|\"Dumbo\"|\"Flying E...  4427381  96391   \n",
              "\n",
              "      dislikes comment_count                                  thumbnail_link  \\\n",
              "33          28           615  https://i.ytimg.com/vi/-JPy_nBFDtc/default.jpg   \n",
              "116         20            95  https://i.ytimg.com/vi/-yRXK7elKnU/default.jpg   \n",
              "155         30           630  https://i.ytimg.com/vi/-JPy_nBFDtc/default.jpg   \n",
              "156        803          2186  https://i.ytimg.com/vi/-k6j6Dkyl1M/default.jpg   \n",
              "204          5           118  https://i.ytimg.com/vi/-krZhrUSEUU/default.jpg   \n",
              "...        ...           ...                                             ...   \n",
              "14577       44           588  https://i.ytimg.com/vi/-VCm09pywpc/default.jpg   \n",
              "14638       22            93  https://i.ytimg.com/vi/-Yr3cNO_09o/default.jpg   \n",
              "14717       22            93  https://i.ytimg.com/vi/-Yr3cNO_09o/default.jpg   \n",
              "14752       31           112  https://i.ytimg.com/vi/-Yr3cNO_09o/default.jpg   \n",
              "14783     5508         12726  https://i.ytimg.com/vi/-QPdRfqTnt4/default.jpg   \n",
              "\n",
              "      comments_disabled ratings_disabled video_error_or_removed  \\\n",
              "33                False            False                  False   \n",
              "116               False            False                  False   \n",
              "155               False            False                  False   \n",
              "156               False            False                  False   \n",
              "204               False            False                  False   \n",
              "...                 ...              ...                    ...   \n",
              "14577             False            False                  False   \n",
              "14638             False            False                  False   \n",
              "14717             False            False                  False   \n",
              "14752             False            False                  False   \n",
              "14783             False            False                  False   \n",
              "\n",
              "                                             description  r_avg  g_avg  b_avg  \n",
              "33     좋은 패 잔뜩 들고 뭐하는거야...  공포영화를 줘, 고구마 말고!!\\n잘 나가던 ...     64     65     40  \n",
              "116    [채널A단독]北 병사 현재 '의식불명'… 혈압 떨어지는 중\\n[채널A단독]우리측 초...     76     83     92  \n",
              "155    좋은 패 잔뜩 들고 뭐하는거야...  공포영화를 줘, 고구마 말고!!\\n잘 나가던 ...     64     65     40  \n",
              "156    sau anh hao quang, sau ánh hào quang, sau anh ...     97     82     84  \n",
              "204    B.G.M : Be there - 치즈\\n\\n출처 명시 및 로고 유지 하에 짤 생성...    101    105    120  \n",
              "...                                                  ...    ...    ...    ...  \n",
              "14577  BTS RM, SUGA, J-HOPE - DDAENG (땡) (DISS) REACT...    112    100     92  \n",
              "14638  [스브스캐치] 구독하기▶https://goo.gl/bnT3WD미운우리새끼 양세형이 ...     59     48     43  \n",
              "14717  [스브스캐치] 구독하기▶https://goo.gl/bnT3WD미운우리새끼 양세형이 ...     59     48     43  \n",
              "14752  [스브스캐치] 구독하기▶https://goo.gl/bnT3WD미운우리새끼 양세형이 ...     59     48     43  \n",
              "14783  Watch the teaser trailer for Tim Burton’s all-...     59     56     56  \n",
              "\n",
              "[211 rows x 19 columns]"
            ],
            "text/html": [
              "\n",
              "  <div id=\"df-1f5e069c-4d3c-4446-ae18-93c0706aa032\">\n",
              "    <div class=\"colab-df-container\">\n",
              "      <div>\n",
              "<style scoped>\n",
              "    .dataframe tbody tr th:only-of-type {\n",
              "        vertical-align: middle;\n",
              "    }\n",
              "\n",
              "    .dataframe tbody tr th {\n",
              "        vertical-align: top;\n",
              "    }\n",
              "\n",
              "    .dataframe thead th {\n",
              "        text-align: right;\n",
              "    }\n",
              "</style>\n",
              "<table border=\"1\" class=\"dataframe\">\n",
              "  <thead>\n",
              "    <tr style=\"text-align: right;\">\n",
              "      <th></th>\n",
              "      <th>video_id</th>\n",
              "      <th>trending_date</th>\n",
              "      <th>title</th>\n",
              "      <th>channel_title</th>\n",
              "      <th>category_id</th>\n",
              "      <th>publish_time</th>\n",
              "      <th>tags</th>\n",
              "      <th>views</th>\n",
              "      <th>likes</th>\n",
              "      <th>dislikes</th>\n",
              "      <th>comment_count</th>\n",
              "      <th>thumbnail_link</th>\n",
              "      <th>comments_disabled</th>\n",
              "      <th>ratings_disabled</th>\n",
              "      <th>video_error_or_removed</th>\n",
              "      <th>description</th>\n",
              "      <th>r_avg</th>\n",
              "      <th>g_avg</th>\n",
              "      <th>b_avg</th>\n",
              "    </tr>\n",
              "  </thead>\n",
              "  <tbody>\n",
              "    <tr>\n",
              "      <th>33</th>\n",
              "      <td>#NAME?</td>\n",
              "      <td>17.14.11</td>\n",
              "      <td>[영화걸작선] 37회 - 장산범</td>\n",
              "      <td>거의없다</td>\n",
              "      <td>1</td>\n",
              "      <td>2017-11-11T13:56:14.000Z</td>\n",
              "      <td>영화걸작선|\"영화\"|\"애니\"|\"demasian\"|\"거의없다\"|\"없다\"|\"걸작선\"|\"...</td>\n",
              "      <td>78134</td>\n",
              "      <td>3126</td>\n",
              "      <td>28</td>\n",
              "      <td>615</td>\n",
              "      <td>https://i.ytimg.com/vi/-JPy_nBFDtc/default.jpg</td>\n",
              "      <td>False</td>\n",
              "      <td>False</td>\n",
              "      <td>False</td>\n",
              "      <td>좋은 패 잔뜩 들고 뭐하는거야...  공포영화를 줘, 고구마 말고!!\\n잘 나가던 ...</td>\n",
              "      <td>64</td>\n",
              "      <td>65</td>\n",
              "      <td>40</td>\n",
              "    </tr>\n",
              "    <tr>\n",
              "      <th>116</th>\n",
              "      <td>#NAME?</td>\n",
              "      <td>17.15.11</td>\n",
              "      <td>JSA 귀순 북한군 총격 부상</td>\n",
              "      <td>채널A 뉴스TOP10</td>\n",
              "      <td>43</td>\n",
              "      <td>2017-11-13T11:47:18.000Z</td>\n",
              "      <td>채널 A</td>\n",
              "      <td>85097</td>\n",
              "      <td>223</td>\n",
              "      <td>20</td>\n",
              "      <td>95</td>\n",
              "      <td>https://i.ytimg.com/vi/-yRXK7elKnU/default.jpg</td>\n",
              "      <td>False</td>\n",
              "      <td>False</td>\n",
              "      <td>False</td>\n",
              "      <td>[채널A단독]北 병사 현재 '의식불명'… 혈압 떨어지는 중\\n[채널A단독]우리측 초...</td>\n",
              "      <td>76</td>\n",
              "      <td>83</td>\n",
              "      <td>92</td>\n",
              "    </tr>\n",
              "    <tr>\n",
              "      <th>155</th>\n",
              "      <td>#NAME?</td>\n",
              "      <td>17.15.11</td>\n",
              "      <td>[영화걸작선] 37회 - 장산범</td>\n",
              "      <td>거의없다</td>\n",
              "      <td>1</td>\n",
              "      <td>2017-11-11T13:56:14.000Z</td>\n",
              "      <td>영화걸작선|\"영화\"|\"애니\"|\"demasian\"|\"거의없다\"|\"없다\"|\"걸작선\"|\"...</td>\n",
              "      <td>84466</td>\n",
              "      <td>3226</td>\n",
              "      <td>30</td>\n",
              "      <td>630</td>\n",
              "      <td>https://i.ytimg.com/vi/-JPy_nBFDtc/default.jpg</td>\n",
              "      <td>False</td>\n",
              "      <td>False</td>\n",
              "      <td>False</td>\n",
              "      <td>좋은 패 잔뜩 들고 뭐하는거야...  공포영화를 줘, 고구마 말고!!\\n잘 나가던 ...</td>\n",
              "      <td>64</td>\n",
              "      <td>65</td>\n",
              "      <td>40</td>\n",
              "    </tr>\n",
              "    <tr>\n",
              "      <th>156</th>\n",
              "      <td>#NAME?</td>\n",
              "      <td>17.15.11</td>\n",
              "      <td>Sau Ánh Hào Quang #7 FULL | Cát Phượng: Cái sa...</td>\n",
              "      <td>ĐÔNG TÂY PROMOTION OFFICIAL</td>\n",
              "      <td>24</td>\n",
              "      <td>2017-11-13T15:08:54.000Z</td>\n",
              "      <td>sau anh hao quang|\"sau ánh hào quang\"|\"sau anh...</td>\n",
              "      <td>1544710</td>\n",
              "      <td>12417</td>\n",
              "      <td>803</td>\n",
              "      <td>2186</td>\n",
              "      <td>https://i.ytimg.com/vi/-k6j6Dkyl1M/default.jpg</td>\n",
              "      <td>False</td>\n",
              "      <td>False</td>\n",
              "      <td>False</td>\n",
              "      <td>sau anh hao quang, sau ánh hào quang, sau anh ...</td>\n",
              "      <td>97</td>\n",
              "      <td>82</td>\n",
              "      <td>84</td>\n",
              "    </tr>\n",
              "    <tr>\n",
              "      <th>204</th>\n",
              "      <td>#NAME?</td>\n",
              "      <td>17.16.11</td>\n",
              "      <td>171115 AAA 레드카펫 워너원 강다니엘 포커스 4K 직캠 / WANNAONE ...</td>\n",
              "      <td>Peach Crush</td>\n",
              "      <td>22</td>\n",
              "      <td>2017-11-15T08:29:30.000Z</td>\n",
              "      <td>워너원|\"강다니엘\"|\"직캠\"|\"AAA\"|\"레드카펫\"|\"WANNAONE\"|\"KANGD...</td>\n",
              "      <td>30451</td>\n",
              "      <td>1763</td>\n",
              "      <td>5</td>\n",
              "      <td>118</td>\n",
              "      <td>https://i.ytimg.com/vi/-krZhrUSEUU/default.jpg</td>\n",
              "      <td>False</td>\n",
              "      <td>False</td>\n",
              "      <td>False</td>\n",
              "      <td>B.G.M : Be there - 치즈\\n\\n출처 명시 및 로고 유지 하에 짤 생성...</td>\n",
              "      <td>101</td>\n",
              "      <td>105</td>\n",
              "      <td>120</td>\n",
              "    </tr>\n",
              "    <tr>\n",
              "      <th>...</th>\n",
              "      <td>...</td>\n",
              "      <td>...</td>\n",
              "      <td>...</td>\n",
              "      <td>...</td>\n",
              "      <td>...</td>\n",
              "      <td>...</td>\n",
              "      <td>...</td>\n",
              "      <td>...</td>\n",
              "      <td>...</td>\n",
              "      <td>...</td>\n",
              "      <td>...</td>\n",
              "      <td>...</td>\n",
              "      <td>...</td>\n",
              "      <td>...</td>\n",
              "      <td>...</td>\n",
              "      <td>...</td>\n",
              "      <td>...</td>\n",
              "      <td>...</td>\n",
              "      <td>...</td>\n",
              "    </tr>\n",
              "    <tr>\n",
              "      <th>14577</th>\n",
              "      <td>#NAME?</td>\n",
              "      <td>18.12.06</td>\n",
              "      <td>BTS RM, SUGA, J-HOPE - DDAENG (땡) (DISS) REACT...</td>\n",
              "      <td>RT TV</td>\n",
              "      <td>22</td>\n",
              "      <td>2018-06-11T06:39:01.000Z</td>\n",
              "      <td>bts ddaeng|\"bts rm suga j hope ddaeng\"|\"ddaeng...</td>\n",
              "      <td>114672</td>\n",
              "      <td>7056</td>\n",
              "      <td>44</td>\n",
              "      <td>588</td>\n",
              "      <td>https://i.ytimg.com/vi/-VCm09pywpc/default.jpg</td>\n",
              "      <td>False</td>\n",
              "      <td>False</td>\n",
              "      <td>False</td>\n",
              "      <td>BTS RM, SUGA, J-HOPE - DDAENG (땡) (DISS) REACT...</td>\n",
              "      <td>112</td>\n",
              "      <td>100</td>\n",
              "      <td>92</td>\n",
              "    </tr>\n",
              "    <tr>\n",
              "      <th>14638</th>\n",
              "      <td>#NAME?</td>\n",
              "      <td>18.13.06</td>\n",
              "      <td>미우새 입살림 끝판왕 양세형 레전드 모음 2편!! 《모았캐치 / 미운우리새끼 / 스...</td>\n",
              "      <td>SBS Catch</td>\n",
              "      <td>24</td>\n",
              "      <td>2018-06-12T05:00:01.000Z</td>\n",
              "      <td>스브스캐치|\"미운우리새끼\"|\"미우새 양세형\"|\"양세형\"|\"양세형 레전드\"|\"미운우리...</td>\n",
              "      <td>96412</td>\n",
              "      <td>572</td>\n",
              "      <td>22</td>\n",
              "      <td>93</td>\n",
              "      <td>https://i.ytimg.com/vi/-Yr3cNO_09o/default.jpg</td>\n",
              "      <td>False</td>\n",
              "      <td>False</td>\n",
              "      <td>False</td>\n",
              "      <td>[스브스캐치] 구독하기▶https://goo.gl/bnT3WD미운우리새끼 양세형이 ...</td>\n",
              "      <td>59</td>\n",
              "      <td>48</td>\n",
              "      <td>43</td>\n",
              "    </tr>\n",
              "    <tr>\n",
              "      <th>14717</th>\n",
              "      <td>#NAME?</td>\n",
              "      <td>18.13.06</td>\n",
              "      <td>미우새 입살림 끝판왕 양세형 레전드 모음 2편!! 《모았캐치 / 미운우리새끼 / 스...</td>\n",
              "      <td>SBS Catch</td>\n",
              "      <td>24</td>\n",
              "      <td>2018-06-12T05:00:01.000Z</td>\n",
              "      <td>스브스캐치|\"미운우리새끼\"|\"미우새 양세형\"|\"양세형\"|\"양세형 레전드\"|\"미운우리...</td>\n",
              "      <td>96412</td>\n",
              "      <td>572</td>\n",
              "      <td>22</td>\n",
              "      <td>93</td>\n",
              "      <td>https://i.ytimg.com/vi/-Yr3cNO_09o/default.jpg</td>\n",
              "      <td>False</td>\n",
              "      <td>False</td>\n",
              "      <td>False</td>\n",
              "      <td>[스브스캐치] 구독하기▶https://goo.gl/bnT3WD미운우리새끼 양세형이 ...</td>\n",
              "      <td>59</td>\n",
              "      <td>48</td>\n",
              "      <td>43</td>\n",
              "    </tr>\n",
              "    <tr>\n",
              "      <th>14752</th>\n",
              "      <td>#NAME?</td>\n",
              "      <td>18.14.06</td>\n",
              "      <td>미우새 입살림 끝판왕 양세형 레전드 모음 2편!! 《모았캐치 / 미운우리새끼 / 스...</td>\n",
              "      <td>SBS Catch</td>\n",
              "      <td>24</td>\n",
              "      <td>2018-06-12T05:00:01.000Z</td>\n",
              "      <td>스브스캐치|\"미운우리새끼\"|\"미우새 양세형\"|\"양세형\"|\"양세형 레전드\"|\"미운우리...</td>\n",
              "      <td>150166</td>\n",
              "      <td>691</td>\n",
              "      <td>31</td>\n",
              "      <td>112</td>\n",
              "      <td>https://i.ytimg.com/vi/-Yr3cNO_09o/default.jpg</td>\n",
              "      <td>False</td>\n",
              "      <td>False</td>\n",
              "      <td>False</td>\n",
              "      <td>[스브스캐치] 구독하기▶https://goo.gl/bnT3WD미운우리새끼 양세형이 ...</td>\n",
              "      <td>59</td>\n",
              "      <td>48</td>\n",
              "      <td>43</td>\n",
              "    </tr>\n",
              "    <tr>\n",
              "      <th>14783</th>\n",
              "      <td>#NAME?</td>\n",
              "      <td>18.14.06</td>\n",
              "      <td>Dumbo Official Teaser Trailer</td>\n",
              "      <td>Disney Movie Trailers</td>\n",
              "      <td>1</td>\n",
              "      <td>2018-06-13T07:00:00.000Z</td>\n",
              "      <td>Disney|\"Walt Disney Studios\"|\"Dumbo\"|\"Flying E...</td>\n",
              "      <td>4427381</td>\n",
              "      <td>96391</td>\n",
              "      <td>5508</td>\n",
              "      <td>12726</td>\n",
              "      <td>https://i.ytimg.com/vi/-QPdRfqTnt4/default.jpg</td>\n",
              "      <td>False</td>\n",
              "      <td>False</td>\n",
              "      <td>False</td>\n",
              "      <td>Watch the teaser trailer for Tim Burton’s all-...</td>\n",
              "      <td>59</td>\n",
              "      <td>56</td>\n",
              "      <td>56</td>\n",
              "    </tr>\n",
              "  </tbody>\n",
              "</table>\n",
              "<p>211 rows × 19 columns</p>\n",
              "</div>\n",
              "      <button class=\"colab-df-convert\" onclick=\"convertToInteractive('df-1f5e069c-4d3c-4446-ae18-93c0706aa032')\"\n",
              "              title=\"Convert this dataframe to an interactive table.\"\n",
              "              style=\"display:none;\">\n",
              "        \n",
              "  <svg xmlns=\"http://www.w3.org/2000/svg\" height=\"24px\"viewBox=\"0 0 24 24\"\n",
              "       width=\"24px\">\n",
              "    <path d=\"M0 0h24v24H0V0z\" fill=\"none\"/>\n",
              "    <path d=\"M18.56 5.44l.94 2.06.94-2.06 2.06-.94-2.06-.94-.94-2.06-.94 2.06-2.06.94zm-11 1L8.5 8.5l.94-2.06 2.06-.94-2.06-.94L8.5 2.5l-.94 2.06-2.06.94zm10 10l.94 2.06.94-2.06 2.06-.94-2.06-.94-.94-2.06-.94 2.06-2.06.94z\"/><path d=\"M17.41 7.96l-1.37-1.37c-.4-.4-.92-.59-1.43-.59-.52 0-1.04.2-1.43.59L10.3 9.45l-7.72 7.72c-.78.78-.78 2.05 0 2.83L4 21.41c.39.39.9.59 1.41.59.51 0 1.02-.2 1.41-.59l7.78-7.78 2.81-2.81c.8-.78.8-2.07 0-2.86zM5.41 20L4 18.59l7.72-7.72 1.47 1.35L5.41 20z\"/>\n",
              "  </svg>\n",
              "      </button>\n",
              "      \n",
              "  <style>\n",
              "    .colab-df-container {\n",
              "      display:flex;\n",
              "      flex-wrap:wrap;\n",
              "      gap: 12px;\n",
              "    }\n",
              "\n",
              "    .colab-df-convert {\n",
              "      background-color: #E8F0FE;\n",
              "      border: none;\n",
              "      border-radius: 50%;\n",
              "      cursor: pointer;\n",
              "      display: none;\n",
              "      fill: #1967D2;\n",
              "      height: 32px;\n",
              "      padding: 0 0 0 0;\n",
              "      width: 32px;\n",
              "    }\n",
              "\n",
              "    .colab-df-convert:hover {\n",
              "      background-color: #E2EBFA;\n",
              "      box-shadow: 0px 1px 2px rgba(60, 64, 67, 0.3), 0px 1px 3px 1px rgba(60, 64, 67, 0.15);\n",
              "      fill: #174EA6;\n",
              "    }\n",
              "\n",
              "    [theme=dark] .colab-df-convert {\n",
              "      background-color: #3B4455;\n",
              "      fill: #D2E3FC;\n",
              "    }\n",
              "\n",
              "    [theme=dark] .colab-df-convert:hover {\n",
              "      background-color: #434B5C;\n",
              "      box-shadow: 0px 1px 3px 1px rgba(0, 0, 0, 0.15);\n",
              "      filter: drop-shadow(0px 1px 2px rgba(0, 0, 0, 0.3));\n",
              "      fill: #FFFFFF;\n",
              "    }\n",
              "  </style>\n",
              "\n",
              "      <script>\n",
              "        const buttonEl =\n",
              "          document.querySelector('#df-1f5e069c-4d3c-4446-ae18-93c0706aa032 button.colab-df-convert');\n",
              "        buttonEl.style.display =\n",
              "          google.colab.kernel.accessAllowed ? 'block' : 'none';\n",
              "\n",
              "        async function convertToInteractive(key) {\n",
              "          const element = document.querySelector('#df-1f5e069c-4d3c-4446-ae18-93c0706aa032');\n",
              "          const dataTable =\n",
              "            await google.colab.kernel.invokeFunction('convertToInteractive',\n",
              "                                                     [key], {});\n",
              "          if (!dataTable) return;\n",
              "\n",
              "          const docLinkHtml = 'Like what you see? Visit the ' +\n",
              "            '<a target=\"_blank\" href=https://colab.research.google.com/notebooks/data_table.ipynb>data table notebook</a>'\n",
              "            + ' to learn more about interactive tables.';\n",
              "          element.innerHTML = '';\n",
              "          dataTable['output_type'] = 'display_data';\n",
              "          await google.colab.output.renderOutput(dataTable, element);\n",
              "          const docLink = document.createElement('div');\n",
              "          docLink.innerHTML = docLinkHtml;\n",
              "          element.appendChild(docLink);\n",
              "        }\n",
              "      </script>\n",
              "    </div>\n",
              "  </div>\n",
              "  "
            ]
          },
          "metadata": {},
          "execution_count": 21
        }
      ]
    },
    {
      "cell_type": "code",
      "metadata": {
        "colab": {
          "base_uri": "https://localhost:8080/"
        },
        "id": "kvKWPcX2S0Ko",
        "outputId": "687114a6-6aff-4ae7-d6c5-63601f83f9f1"
      },
      "source": [
        "print('Before removing duplicated video_id:', len(df_rgb))\n",
        "df_rgb2 = df_rgb.drop_duplicates('video_id')\n",
        "print('After  removing duplicated video_id:', len(df_rgb2))\n",
        "df_rgb2 = df_rgb2.reset_index(drop=True)"
      ],
      "execution_count": null,
      "outputs": [
        {
          "output_type": "stream",
          "name": "stdout",
          "text": [
            "Before removing duplicated video_id: 14807\n",
            "After  removing duplicated video_id: 6491\n"
          ]
        }
      ]
    },
    {
      "cell_type": "code",
      "metadata": {
        "id": "u2MQLtuyJ-aW"
      },
      "source": [
        "df_rgb2.head(5)"
      ],
      "execution_count": null,
      "outputs": []
    },
    {
      "cell_type": "code",
      "metadata": {
        "colab": {
          "base_uri": "https://localhost:8080/"
        },
        "id": "U-m0se7vaSrO",
        "outputId": "054b0dc1-fea8-482f-986a-25f6def47994"
      },
      "source": [
        "df_rgb2['publish_time2'] = df_rgb2['publish_time'].apply(lambda x: x.split('T')[0])\n",
        "df_rgb2['publish_date'] = df_rgb2['publish_time2'].astype('datetime64[ns]')\n",
        "df_rgb2['publish_date']"
      ],
      "execution_count": null,
      "outputs": [
        {
          "output_type": "execute_result",
          "data": {
            "text/plain": [
              "0      2017-11-13\n",
              "1      2017-11-11\n",
              "2      2017-11-12\n",
              "3      2017-11-13\n",
              "4      2017-11-12\n",
              "          ...    \n",
              "6486   2018-06-11\n",
              "6487   2018-06-13\n",
              "6488   2018-06-13\n",
              "6489   2018-06-13\n",
              "6490   2018-06-13\n",
              "Name: publish_date, Length: 6491, dtype: datetime64[ns]"
            ]
          },
          "metadata": {},
          "execution_count": 26
        }
      ]
    },
    {
      "cell_type": "code",
      "metadata": {
        "colab": {
          "base_uri": "https://localhost:8080/"
        },
        "id": "qWIpoOWShaBq",
        "outputId": "c83d760d-5b50-497f-8895-e71e28dcc3e9"
      },
      "source": [
        "df_rgb2['trending_date'] = pd.to_datetime(df_rgb2['trending_date'], format=\"%y.%d.%m\")\n",
        "df_rgb2['trending_date']"
      ],
      "execution_count": null,
      "outputs": [
        {
          "output_type": "execute_result",
          "data": {
            "text/plain": [
              "0      2017-11-14\n",
              "1      2017-11-14\n",
              "2      2017-11-14\n",
              "3      2017-11-14\n",
              "4      2017-11-14\n",
              "          ...    \n",
              "6486   2018-06-14\n",
              "6487   2018-06-14\n",
              "6488   2018-06-14\n",
              "6489   2018-06-14\n",
              "6490   2018-06-14\n",
              "Name: trending_date, Length: 6491, dtype: datetime64[ns]"
            ]
          },
          "metadata": {},
          "execution_count": 27
        }
      ]
    },
    {
      "cell_type": "code",
      "metadata": {
        "colab": {
          "base_uri": "https://localhost:8080/"
        },
        "id": "yzTsLtWUiDa8",
        "outputId": "27a58aa0-f97c-4dea-9c33-cd67c2a1ee42"
      },
      "source": [
        "df_rgb2['elapsed_day'] = df_rgb2['trending_date'] - df_rgb2['publish_date'] + datetime.timedelta(days=1)\n",
        "df_rgb2['elapsed_day'] = df_rgb2['elapsed_day'].dt.days\n",
        "df_rgb2['elapsed_day']"
      ],
      "execution_count": null,
      "outputs": [
        {
          "output_type": "execute_result",
          "data": {
            "text/plain": [
              "0       2\n",
              "1       4\n",
              "2       3\n",
              "3       2\n",
              "4       3\n",
              "       ..\n",
              "6486    4\n",
              "6487    2\n",
              "6488    2\n",
              "6489    2\n",
              "6490    2\n",
              "Name: elapsed_day, Length: 6491, dtype: int64"
            ]
          },
          "metadata": {},
          "execution_count": 28
        }
      ]
    },
    {
      "cell_type": "code",
      "source": [
        "df_rgb2['total_number_of_sign'] = df_rgb2['likes'] + df_rgb2['dislikes']\n",
        "\n",
        "df_rgb2['number_of_tag'] = df_rgb2['tags'].apply(lambda x: len(x.split('|')) if x != '[none]' else 0)\n"
      ],
      "metadata": {
        "id": "q6miAVNprKF5"
      },
      "execution_count": null,
      "outputs": []
    },
    {
      "cell_type": "code",
      "source": [
        "df_rgb2 = df_rgb2.astype({'likes':int, 'dislikes':int})\n",
        "df_rgb2.info()"
      ],
      "metadata": {
        "colab": {
          "base_uri": "https://localhost:8080/"
        },
        "id": "4yho2Yo1xeGu",
        "outputId": "a040cd12-0935-4cee-e5ad-82bc27c21c54"
      },
      "execution_count": null,
      "outputs": [
        {
          "output_type": "stream",
          "name": "stdout",
          "text": [
            "<class 'pandas.core.frame.DataFrame'>\n",
            "RangeIndex: 6491 entries, 0 to 6490\n",
            "Data columns (total 24 columns):\n",
            " #   Column                  Non-Null Count  Dtype         \n",
            "---  ------                  --------------  -----         \n",
            " 0   video_id                6491 non-null   object        \n",
            " 1   trending_date           6491 non-null   datetime64[ns]\n",
            " 2   title                   6491 non-null   object        \n",
            " 3   channel_title           6491 non-null   object        \n",
            " 4   category_id             6491 non-null   object        \n",
            " 5   publish_time            6491 non-null   object        \n",
            " 6   tags                    6491 non-null   object        \n",
            " 7   views                   6491 non-null   object        \n",
            " 8   likes                   6491 non-null   int64         \n",
            " 9   dislikes                6491 non-null   int64         \n",
            " 10  comment_count           6491 non-null   object        \n",
            " 11  thumbnail_link          6491 non-null   object        \n",
            " 12  comments_disabled       6491 non-null   object        \n",
            " 13  ratings_disabled        6491 non-null   object        \n",
            " 14  video_error_or_removed  6491 non-null   object        \n",
            " 15  description             6491 non-null   object        \n",
            " 16  r_avg                   6491 non-null   int64         \n",
            " 17  g_avg                   6491 non-null   int64         \n",
            " 18  b_avg                   6491 non-null   int64         \n",
            " 19  publish_time2           6491 non-null   object        \n",
            " 20  publish_date            6491 non-null   datetime64[ns]\n",
            " 21  elapsed_day             6491 non-null   int64         \n",
            " 22  total_number_of_sign    6491 non-null   object        \n",
            " 23  number_of_tag           6491 non-null   int64         \n",
            "dtypes: datetime64[ns](2), int64(7), object(15)\n",
            "memory usage: 1.2+ MB\n"
          ]
        }
      ]
    },
    {
      "cell_type": "code",
      "source": [
        "df_rgb2['positive_ratio'] = df_rgb2['likes'] / df_rgb2['dislikes']\n",
        "positive_ratio_max = df_rgb2['positive_ratio'].replace([np.inf, -np.inf], 0).max()\n",
        "df_rgb2['positive_ratio'] = df_rgb2['positive_ratio'].replace([np.inf, -np.inf], positive_ratio_max*1.5)\n"
      ],
      "metadata": {
        "id": "zFLYVHNzxV1V"
      },
      "execution_count": null,
      "outputs": []
    },
    {
      "cell_type": "code",
      "source": [
        "df_rgb2 = df_rgb2.astype({'total_number_of_sign':int, 'elapsed_day':int})\n",
        "df_rgb2.info()"
      ],
      "metadata": {
        "colab": {
          "base_uri": "https://localhost:8080/"
        },
        "id": "Hp9MeMt-yFbv",
        "outputId": "db71b5ff-e9e7-44aa-d5e4-6f644d88d27a"
      },
      "execution_count": null,
      "outputs": [
        {
          "output_type": "stream",
          "name": "stdout",
          "text": [
            "<class 'pandas.core.frame.DataFrame'>\n",
            "RangeIndex: 6491 entries, 0 to 6490\n",
            "Data columns (total 25 columns):\n",
            " #   Column                  Non-Null Count  Dtype         \n",
            "---  ------                  --------------  -----         \n",
            " 0   video_id                6491 non-null   object        \n",
            " 1   trending_date           6491 non-null   datetime64[ns]\n",
            " 2   title                   6491 non-null   object        \n",
            " 3   channel_title           6491 non-null   object        \n",
            " 4   category_id             6491 non-null   object        \n",
            " 5   publish_time            6491 non-null   object        \n",
            " 6   tags                    6491 non-null   object        \n",
            " 7   views                   6491 non-null   object        \n",
            " 8   likes                   6491 non-null   int64         \n",
            " 9   dislikes                6491 non-null   int64         \n",
            " 10  comment_count           6491 non-null   object        \n",
            " 11  thumbnail_link          6491 non-null   object        \n",
            " 12  comments_disabled       6491 non-null   object        \n",
            " 13  ratings_disabled        6491 non-null   object        \n",
            " 14  video_error_or_removed  6491 non-null   object        \n",
            " 15  description             6491 non-null   object        \n",
            " 16  r_avg                   6491 non-null   int64         \n",
            " 17  g_avg                   6491 non-null   int64         \n",
            " 18  b_avg                   6491 non-null   int64         \n",
            " 19  publish_time2           6491 non-null   object        \n",
            " 20  publish_date            6491 non-null   datetime64[ns]\n",
            " 21  elapsed_day             6491 non-null   int64         \n",
            " 22  total_number_of_sign    6491 non-null   int64         \n",
            " 23  number_of_tag           6491 non-null   int64         \n",
            " 24  positive_ratio          6491 non-null   float64       \n",
            "dtypes: datetime64[ns](2), float64(1), int64(8), object(14)\n",
            "memory usage: 1.2+ MB\n"
          ]
        }
      ]
    },
    {
      "cell_type": "code",
      "source": [
        ""
      ],
      "metadata": {
        "id": "0DIFxk5SyPRA"
      },
      "execution_count": null,
      "outputs": []
    },
    {
      "cell_type": "code",
      "source": [
        "\n",
        "df_rgb2['sign_per_day'] = df_rgb2['total_number_of_sign'] / df_rgb2['elapsed_day']\n",
        "\n",
        "df_rgb2['positive_ratio_per_day'] = df_rgb2['positive_ratio'] / df_rgb2['elapsed_day']"
      ],
      "metadata": {
        "id": "MedSru7dySJq"
      },
      "execution_count": null,
      "outputs": []
    },
    {
      "cell_type": "code",
      "source": [
        "df_rgb2 = df_rgb2.astype({'comment_count':int})\n",
        "df_rgb2.info()"
      ],
      "metadata": {
        "colab": {
          "base_uri": "https://localhost:8080/"
        },
        "id": "vMQel0RcyPXZ",
        "outputId": "add77361-208e-4134-dec4-6727e1900524"
      },
      "execution_count": null,
      "outputs": [
        {
          "output_type": "stream",
          "name": "stdout",
          "text": [
            "<class 'pandas.core.frame.DataFrame'>\n",
            "RangeIndex: 6491 entries, 0 to 6490\n",
            "Data columns (total 27 columns):\n",
            " #   Column                  Non-Null Count  Dtype         \n",
            "---  ------                  --------------  -----         \n",
            " 0   video_id                6491 non-null   object        \n",
            " 1   trending_date           6491 non-null   datetime64[ns]\n",
            " 2   title                   6491 non-null   object        \n",
            " 3   channel_title           6491 non-null   object        \n",
            " 4   category_id             6491 non-null   object        \n",
            " 5   publish_time            6491 non-null   object        \n",
            " 6   tags                    6491 non-null   object        \n",
            " 7   views                   6491 non-null   object        \n",
            " 8   likes                   6491 non-null   int64         \n",
            " 9   dislikes                6491 non-null   int64         \n",
            " 10  comment_count           6491 non-null   int64         \n",
            " 11  thumbnail_link          6491 non-null   object        \n",
            " 12  comments_disabled       6491 non-null   object        \n",
            " 13  ratings_disabled        6491 non-null   object        \n",
            " 14  video_error_or_removed  6491 non-null   object        \n",
            " 15  description             6491 non-null   object        \n",
            " 16  r_avg                   6491 non-null   int64         \n",
            " 17  g_avg                   6491 non-null   int64         \n",
            " 18  b_avg                   6491 non-null   int64         \n",
            " 19  publish_time2           6491 non-null   object        \n",
            " 20  publish_date            6491 non-null   datetime64[ns]\n",
            " 21  elapsed_day             6491 non-null   int64         \n",
            " 22  total_number_of_sign    6491 non-null   int64         \n",
            " 23  number_of_tag           6491 non-null   int64         \n",
            " 24  positive_ratio          6491 non-null   float64       \n",
            " 25  sign_per_day            6491 non-null   float64       \n",
            " 26  positive_ratio_per_day  6491 non-null   float64       \n",
            "dtypes: datetime64[ns](2), float64(3), int64(9), object(13)\n",
            "memory usage: 1.3+ MB\n"
          ]
        }
      ]
    },
    {
      "cell_type": "code",
      "metadata": {
        "id": "2n9iNmFRKRVh"
      },
      "source": [
        "\n",
        "\n",
        "df_rgb2['comment_per_day'] = df_rgb2['comment_count'] / df_rgb2['elapsed_day']\n",
        "\n",
        "df_rgb2['total_sign_comment_ratio'] = df_rgb2['total_number_of_sign'] / df_rgb2['comment_count']\n",
        "total_sign_comment_ratio_max = df_rgb2['total_sign_comment_ratio'].replace([np.inf, -np.inf], 0).max()\n",
        "df_rgb2['total_sign_comment_ratio'] = \\\n",
        "    df_rgb2['total_sign_comment_ratio'].replace([np.inf, -np.inf], total_sign_comment_ratio_max*1.5)\n",
        "\n",
        "df_rgb2['description_length'] = df_rgb2['description'].apply(lambda x: len(str(x) if pd.isnull(x) is False else 0))\n",
        "\n",
        "df_rgb2['title_length'] = df_rgb2['title'].apply(lambda x: len(str(x) if pd.isnull(x) is False else 0))"
      ],
      "execution_count": null,
      "outputs": []
    },
    {
      "cell_type": "code",
      "metadata": {
        "colab": {
          "base_uri": "https://localhost:8080/"
        },
        "id": "2drbVB9tKRl3",
        "outputId": "4ac9692e-edd2-4c10-f8d8-14794e05fc49"
      },
      "source": [
        "df_rgb2['channel_title'].value_counts()"
      ],
      "execution_count": null,
      "outputs": [
        {
          "output_type": "execute_result",
          "data": {
            "text/plain": [
              "TV Derana       103\n",
              "JTBC News        90\n",
              "황장수의 뉴스브리핑o      85\n",
              "tbs 시민의 방송       83\n",
              "o 황장수의 뉴스브리핑     76\n",
              "               ... \n",
              "렛츠고 TV            1\n",
              "제이                1\n",
              "Jass Records      1\n",
              "TKT GMM           1\n",
              "오싹튜브              1\n",
              "Name: channel_title, Length: 1455, dtype: int64"
            ]
          },
          "metadata": {},
          "execution_count": 43
        }
      ]
    },
    {
      "cell_type": "code",
      "metadata": {
        "colab": {
          "base_uri": "https://localhost:8080/"
        },
        "id": "6Twa20Wzi4hB",
        "outputId": "6e50f909-25ad-431a-d647-4900c03a6676"
      },
      "source": [
        "mean_encode_channel = df_rgb2.groupby('channel_title')['views'].mean()\n",
        "print(mean_encode_channel)\n",
        "\n",
        "df_rgb2.loc[:, 'channel_title_mean_enc'] = df_rgb2['channel_title'].map(mean_encode_channel)\n",
        "df_rgb2['channel_title_mean_enc']"
      ],
      "execution_count": null,
      "outputs": [
        {
          "output_type": "stream",
          "name": "stdout",
          "text": [
            "channel_title\n",
            "!t Live             1.511620e+14\n",
            "#NAME?              5.299687e+53\n",
            "& 홍대 쏭카페창현 거리노래방    6.569408e+10\n",
            "(MUTUBE)와꾸대장봉준      3.721085e+14\n",
            "* eundaromi         2.825210e+10\n",
            "                        ...     \n",
            "흔한남매                3.133000e+15\n",
            "히스토리                2.301280e+05\n",
            "히죽HIZUK             7.773700e+04\n",
            "히히튜브                2.938900e+04\n",
            "힙합버스                7.641223e+09\n",
            "Name: views, Length: 1455, dtype: float64\n"
          ]
        },
        {
          "output_type": "execute_result",
          "data": {
            "text/plain": [
              "0        7.806547e+09\n",
              "1        4.214090e+05\n",
              "2        3.183575e+39\n",
              "3       2.724714e+171\n",
              "4        7.016633e+49\n",
              "            ...      \n",
              "6486     3.392785e+18\n",
              "6487     3.081710e+43\n",
              "6488     4.937098e+18\n",
              "6489     2.340400e+04\n",
              "6490              inf\n",
              "Name: channel_title_mean_enc, Length: 6491, dtype: float64"
            ]
          },
          "metadata": {},
          "execution_count": 44
        }
      ]
    },
    {
      "cell_type": "code",
      "metadata": {
        "colab": {
          "base_uri": "https://localhost:8080/"
        },
        "id": "ZalMyfevjRzK",
        "outputId": "e6880871-0787-47b8-98c8-a76f0fe64e8a"
      },
      "source": [
        "df_rgb2['category_id'].value_counts()"
      ],
      "execution_count": null,
      "outputs": [
        {
          "output_type": "execute_result",
          "data": {
            "text/plain": [
              "24    1843\n",
              "25    1217\n",
              "22     844\n",
              "23     501\n",
              "10     476\n",
              "20     443\n",
              "1      340\n",
              "15     193\n",
              "17     174\n",
              "26     171\n",
              "27      88\n",
              "43      69\n",
              "29      67\n",
              "2       25\n",
              "28      22\n",
              "19      18\n",
              "Name: category_id, dtype: int64"
            ]
          },
          "metadata": {},
          "execution_count": 45
        }
      ]
    },
    {
      "cell_type": "code",
      "metadata": {
        "colab": {
          "base_uri": "https://localhost:8080/"
        },
        "id": "BcJP1LQYpHLn",
        "outputId": "1e4c3a98-2213-46c2-e3f0-dddfa08a21fb"
      },
      "source": [
        "mean_encode_category = df_rgb2.groupby('category_id')['views'].mean()\n",
        "print(mean_encode_category)\n",
        "\n",
        "df_rgb2.loc[:, 'category_id_mean_enc'] = df_rgb2['category_id'].map(mean_encode_category)\n",
        "df_rgb2['category_id_mean_enc']"
      ],
      "execution_count": null,
      "outputs": [
        {
          "output_type": "stream",
          "name": "stdout",
          "text": [
            "category_id\n",
            "1               inf\n",
            "10              inf\n",
            "15              inf\n",
            "17              inf\n",
            "19     2.333178e+98\n",
            "2     1.179760e+132\n",
            "20              inf\n",
            "22              inf\n",
            "23              inf\n",
            "24              inf\n",
            "25              inf\n",
            "26              inf\n",
            "27              inf\n",
            "28    2.061693e+129\n",
            "29              inf\n",
            "43              inf\n",
            "Name: views, dtype: float64\n"
          ]
        },
        {
          "output_type": "execute_result",
          "data": {
            "text/plain": [
              "0       inf\n",
              "1       inf\n",
              "2       inf\n",
              "3       inf\n",
              "4       inf\n",
              "       ... \n",
              "6486    inf\n",
              "6487    inf\n",
              "6488    inf\n",
              "6489    inf\n",
              "6490    inf\n",
              "Name: category_id_mean_enc, Length: 6491, dtype: float64"
            ]
          },
          "metadata": {},
          "execution_count": 46
        }
      ]
    },
    {
      "cell_type": "code",
      "metadata": {
        "colab": {
          "base_uri": "https://localhost:8080/"
        },
        "id": "zdMI2V34o47U",
        "outputId": "c50a2947-1553-492c-b575-9bb8934b9c65"
      },
      "source": [
        "plt.figure(figsize=(20, 30))\n",
        "\n",
        "for i in range(1, len(df_rgb2.describe().columns)):\n",
        "    plt.subplot(5, 4, i)\n",
        "    title = str(df_rgb2.describe().columns[i]) + ' vs. Views'\n",
        "    plt.title(title)\n",
        "    plt.xlabel(df_rgb2.describe().columns[i])\n",
        "    plt.ylabel('Views')\n",
        "    plt.grid()\n",
        "    plt.scatter(df_rgb2[df_rgb2.describe().columns[i]], df_rgb2['views'])    "
      ],
      "execution_count": null,
      "outputs": [
        {
          "output_type": "stream",
          "name": "stderr",
          "text": [
            "/usr/local/lib/python3.7/dist-packages/numpy/lib/function_base.py:4009: RuntimeWarning: invalid value encountered in subtract\n",
            "  diff_b_a = subtract(b, a)\n"
          ]
        }
      ]
    },
    {
      "cell_type": "code",
      "metadata": {
        "colab": {
          "base_uri": "https://localhost:8080/"
        },
        "id": "9UP3HylbnL6U",
        "outputId": "044a0955-274a-4932-a7aa-4bb9b3891560"
      },
      "source": [
        "list(df_rgb2)"
      ],
      "execution_count": null,
      "outputs": [
        {
          "output_type": "execute_result",
          "data": {
            "text/plain": [
              "['video_id',\n",
              " 'trending_date',\n",
              " 'title',\n",
              " 'channel_title',\n",
              " 'category_id',\n",
              " 'publish_time',\n",
              " 'tags',\n",
              " 'views',\n",
              " 'likes',\n",
              " 'dislikes',\n",
              " 'comment_count',\n",
              " 'thumbnail_link',\n",
              " 'comments_disabled',\n",
              " 'ratings_disabled',\n",
              " 'video_error_or_removed',\n",
              " 'description',\n",
              " 'r_avg',\n",
              " 'g_avg',\n",
              " 'b_avg',\n",
              " 'publish_time2',\n",
              " 'publish_date',\n",
              " 'elapsed_day',\n",
              " 'total_number_of_sign',\n",
              " 'number_of_tag',\n",
              " 'positive_ratio',\n",
              " 'sign_per_day',\n",
              " 'positive_ratio_per_day',\n",
              " 'comment_per_day',\n",
              " 'total_sign_comment_ratio',\n",
              " 'description_length',\n",
              " 'title_length',\n",
              " 'channel_title_mean_enc',\n",
              " 'category_id_mean_enc']"
            ]
          },
          "metadata": {},
          "execution_count": 48
        }
      ]
    },
    {
      "cell_type": "code",
      "metadata": {
        "colab": {
          "base_uri": "https://localhost:8080/",
          "height": 1000
        },
        "id": "dFTrG4QeGcF6",
        "outputId": "94354488-a6f2-4877-e67c-b933c56bc6c7"
      },
      "source": [
        "features = ['likes', 'dislikes', 'comment_count', 'r_avg', 'g_avg', 'b_avg', 'elapsed_day', 'number_of_tag',\n",
        "            'positive_ratio', 'sign_per_day', 'positive_ratio_per_day', 'comment_per_day',\n",
        "            'total_sign_comment_ratio', 'description_length', 'title_length', 'channel_title_mean_enc',\n",
        "            'category_id_mean_enc']\n",
        "\n",
        "x_input = df_rgb2[features]\n",
        "cor_table = x_input.corr()\n",
        "\n",
        "print(cor_table[cor_table > 0.9])\n",
        "\n",
        "fig, (ax1, ax2) = plt.subplots(1, 2, figsize=(12, 8))\n",
        "ax1.set_title('Hierarchical dendrogram')\n",
        "corr = spearmanr(x_input).correlation\n",
        "corr_linkage = hierarchy.ward(corr)\n",
        "dendro = hierarchy.dendrogram(corr_linkage, labels=features, ax=ax1, leaf_rotation=90)\n",
        "\n",
        "dendro_idx = np.arange(0, len(dendro['ivl']))\n",
        "\n",
        "ax2.imshow(corr[dendro['leaves'], :][:, dendro['leaves']])\n",
        "ax2.set_title('Feature correlation')\n",
        "ax2.set_xticks(dendro_idx)\n",
        "ax2.set_yticks(dendro_idx)\n",
        "ax2.set_xticklabels(dendro['ivl'], rotation='vertical')\n",
        "ax2.set_yticklabels(dendro['ivl'])\n",
        "\n",
        "fig.tight_layout()"
      ],
      "execution_count": null,
      "outputs": [
        {
          "output_type": "stream",
          "name": "stdout",
          "text": [
            "                          likes  dislikes  comment_count  r_avg  g_avg  b_avg  \\\n",
            "likes                       1.0       NaN            NaN    NaN    NaN    NaN   \n",
            "dislikes                    NaN       1.0            NaN    NaN    NaN    NaN   \n",
            "comment_count               NaN       NaN       1.000000    NaN    NaN    NaN   \n",
            "r_avg                       NaN       NaN            NaN    1.0    NaN    NaN   \n",
            "g_avg                       NaN       NaN            NaN    NaN    1.0    NaN   \n",
            "b_avg                       NaN       NaN            NaN    NaN    NaN    1.0   \n",
            "elapsed_day                 NaN       NaN            NaN    NaN    NaN    NaN   \n",
            "number_of_tag               NaN       NaN            NaN    NaN    NaN    NaN   \n",
            "positive_ratio              NaN       NaN            NaN    NaN    NaN    NaN   \n",
            "sign_per_day                NaN       NaN            NaN    NaN    NaN    NaN   \n",
            "positive_ratio_per_day      NaN       NaN            NaN    NaN    NaN    NaN   \n",
            "comment_per_day             NaN       NaN       0.973707    NaN    NaN    NaN   \n",
            "total_sign_comment_ratio    NaN       NaN            NaN    NaN    NaN    NaN   \n",
            "description_length          NaN       NaN            NaN    NaN    NaN    NaN   \n",
            "title_length                NaN       NaN            NaN    NaN    NaN    NaN   \n",
            "channel_title_mean_enc      NaN       NaN            NaN    NaN    NaN    NaN   \n",
            "category_id_mean_enc        NaN       NaN            NaN    NaN    NaN    NaN   \n",
            "\n",
            "                          elapsed_day  number_of_tag  positive_ratio  \\\n",
            "likes                             NaN            NaN             NaN   \n",
            "dislikes                          NaN            NaN             NaN   \n",
            "comment_count                     NaN            NaN             NaN   \n",
            "r_avg                             NaN            NaN             NaN   \n",
            "g_avg                             NaN            NaN             NaN   \n",
            "b_avg                             NaN            NaN             NaN   \n",
            "elapsed_day                       1.0            NaN             NaN   \n",
            "number_of_tag                     NaN            1.0             NaN   \n",
            "positive_ratio                    NaN            NaN          1.0000   \n",
            "sign_per_day                      NaN            NaN             NaN   \n",
            "positive_ratio_per_day            NaN            NaN          0.9589   \n",
            "comment_per_day                   NaN            NaN             NaN   \n",
            "total_sign_comment_ratio          NaN            NaN             NaN   \n",
            "description_length                NaN            NaN             NaN   \n",
            "title_length                      NaN            NaN             NaN   \n",
            "channel_title_mean_enc            NaN            NaN             NaN   \n",
            "category_id_mean_enc              NaN            NaN             NaN   \n",
            "\n",
            "                          sign_per_day  positive_ratio_per_day  \\\n",
            "likes                              NaN                     NaN   \n",
            "dislikes                           NaN                     NaN   \n",
            "comment_count                      NaN                     NaN   \n",
            "r_avg                              NaN                     NaN   \n",
            "g_avg                              NaN                     NaN   \n",
            "b_avg                              NaN                     NaN   \n",
            "elapsed_day                        NaN                     NaN   \n",
            "number_of_tag                      NaN                     NaN   \n",
            "positive_ratio                     NaN                  0.9589   \n",
            "sign_per_day                       1.0                     NaN   \n",
            "positive_ratio_per_day             NaN                  1.0000   \n",
            "comment_per_day                    NaN                     NaN   \n",
            "total_sign_comment_ratio           NaN                     NaN   \n",
            "description_length                 NaN                     NaN   \n",
            "title_length                       NaN                     NaN   \n",
            "channel_title_mean_enc             NaN                     NaN   \n",
            "category_id_mean_enc               NaN                     NaN   \n",
            "\n",
            "                          comment_per_day  total_sign_comment_ratio  \\\n",
            "likes                                 NaN                       NaN   \n",
            "dislikes                              NaN                       NaN   \n",
            "comment_count                    0.973707                       NaN   \n",
            "r_avg                                 NaN                       NaN   \n",
            "g_avg                                 NaN                       NaN   \n",
            "b_avg                                 NaN                       NaN   \n",
            "elapsed_day                           NaN                       NaN   \n",
            "number_of_tag                         NaN                       NaN   \n",
            "positive_ratio                        NaN                       NaN   \n",
            "sign_per_day                          NaN                       NaN   \n",
            "positive_ratio_per_day                NaN                       NaN   \n",
            "comment_per_day                  1.000000                       NaN   \n",
            "total_sign_comment_ratio              NaN                       1.0   \n",
            "description_length                    NaN                       NaN   \n",
            "title_length                          NaN                       NaN   \n",
            "channel_title_mean_enc                NaN                       NaN   \n",
            "category_id_mean_enc                  NaN                       NaN   \n",
            "\n",
            "                          description_length  title_length  \\\n",
            "likes                                    NaN           NaN   \n",
            "dislikes                                 NaN           NaN   \n",
            "comment_count                            NaN           NaN   \n",
            "r_avg                                    NaN           NaN   \n",
            "g_avg                                    NaN           NaN   \n",
            "b_avg                                    NaN           NaN   \n",
            "elapsed_day                              NaN           NaN   \n",
            "number_of_tag                            NaN           NaN   \n",
            "positive_ratio                           NaN           NaN   \n",
            "sign_per_day                             NaN           NaN   \n",
            "positive_ratio_per_day                   NaN           NaN   \n",
            "comment_per_day                          NaN           NaN   \n",
            "total_sign_comment_ratio                 NaN           NaN   \n",
            "description_length                       1.0           NaN   \n",
            "title_length                             NaN           1.0   \n",
            "channel_title_mean_enc                   NaN           NaN   \n",
            "category_id_mean_enc                     NaN           NaN   \n",
            "\n",
            "                          channel_title_mean_enc  category_id_mean_enc  \n",
            "likes                                        NaN                   NaN  \n",
            "dislikes                                     NaN                   NaN  \n",
            "comment_count                                NaN                   NaN  \n",
            "r_avg                                        NaN                   NaN  \n",
            "g_avg                                        NaN                   NaN  \n",
            "b_avg                                        NaN                   NaN  \n",
            "elapsed_day                                  NaN                   NaN  \n",
            "number_of_tag                                NaN                   NaN  \n",
            "positive_ratio                               NaN                   NaN  \n",
            "sign_per_day                                 NaN                   NaN  \n",
            "positive_ratio_per_day                       NaN                   NaN  \n",
            "comment_per_day                              NaN                   NaN  \n",
            "total_sign_comment_ratio                     NaN                   NaN  \n",
            "description_length                           NaN                   NaN  \n",
            "title_length                                 NaN                   NaN  \n",
            "channel_title_mean_enc                       NaN                   NaN  \n",
            "category_id_mean_enc                         NaN                   NaN  \n"
          ]
        },
        {
          "output_type": "display_data",
          "data": {
            "text/plain": [
              "<Figure size 864x576 with 2 Axes>"
            ],
            "image/png": "[encoded data removed]"
          },
          "metadata": {
            "needs_background": "light"
          }
        }
      ]
    },
    {
      "cell_type": "code",
      "metadata": {
        "colab": {
          "base_uri": "https://localhost:8080/",
          "height": 1000
        },
        "id": "wQ9Zzc5hIVxF",
        "outputId": "dd3404eb-642c-46db-99ad-7f24778787b4"
      },
      "source": [
        "features = ['likes', 'dislikes', 'comment_count', 'elapsed_day', 'number_of_tag',\n",
        "            'positive_ratio', 'description_length', 'title_length',\n",
        "            'r_avg', 'g_avg', 'b_avg',  \n",
        "            'channel_title_mean_enc', 'category_id_mean_enc']            \n",
        "\n",
        "x_input = df_rgb2[features]\n",
        "cor_table = x_input.corr()\n",
        "print(cor_table[cor_table > 0.9])\n",
        "\n",
        "fig, (ax1, ax2) = plt.subplots(1, 2, figsize=(12, 8))\n",
        "ax1.set_title('Hierarchical dendrogram')\n",
        "corr = spearmanr(x_input).correlation\n",
        "corr_linkage = hierarchy.ward(corr)\n",
        "dendro = hierarchy.dendrogram(corr_linkage, labels=features, ax=ax1, leaf_rotation=90)\n",
        "\n",
        "dendro_idx = np.arange(0, len(dendro['ivl']))\n",
        "\n",
        "ax2.imshow(corr[dendro['leaves'], :][:, dendro['leaves']])\n",
        "ax2.set_title('Feature correlation')\n",
        "ax2.set_xticks(dendro_idx)\n",
        "ax2.set_yticks(dendro_idx)\n",
        "ax2.set_xticklabels(dendro['ivl'], rotation='vertical')\n",
        "ax2.set_yticklabels(dendro['ivl'])\n",
        "\n",
        "fig.tight_layout()"
      ],
      "execution_count": null,
      "outputs": [
        {
          "output_type": "stream",
          "name": "stdout",
          "text": [
            "                        likes  dislikes  comment_count  elapsed_day  \\\n",
            "likes                     1.0       NaN            NaN          NaN   \n",
            "dislikes                  NaN       1.0            NaN          NaN   \n",
            "comment_count             NaN       NaN            1.0          NaN   \n",
            "elapsed_day               NaN       NaN            NaN          1.0   \n",
            "number_of_tag             NaN       NaN            NaN          NaN   \n",
            "positive_ratio            NaN       NaN            NaN          NaN   \n",
            "description_length        NaN       NaN            NaN          NaN   \n",
            "title_length              NaN       NaN            NaN          NaN   \n",
            "r_avg                     NaN       NaN            NaN          NaN   \n",
            "g_avg                     NaN       NaN            NaN          NaN   \n",
            "b_avg                     NaN       NaN            NaN          NaN   \n",
            "channel_title_mean_enc    NaN       NaN            NaN          NaN   \n",
            "category_id_mean_enc      NaN       NaN            NaN          NaN   \n",
            "\n",
            "                        number_of_tag  positive_ratio  description_length  \\\n",
            "likes                             NaN             NaN                 NaN   \n",
            "dislikes                          NaN             NaN                 NaN   \n",
            "comment_count                     NaN             NaN                 NaN   \n",
            "elapsed_day                       NaN             NaN                 NaN   \n",
            "number_of_tag                     1.0             NaN                 NaN   \n",
            "positive_ratio                    NaN             1.0                 NaN   \n",
            "description_length                NaN             NaN                 1.0   \n",
            "title_length                      NaN             NaN                 NaN   \n",
            "r_avg                             NaN             NaN                 NaN   \n",
            "g_avg                             NaN             NaN                 NaN   \n",
            "b_avg                             NaN             NaN                 NaN   \n",
            "channel_title_mean_enc            NaN             NaN                 NaN   \n",
            "category_id_mean_enc              NaN             NaN                 NaN   \n",
            "\n",
            "                        title_length  r_avg  g_avg  b_avg  \\\n",
            "likes                            NaN    NaN    NaN    NaN   \n",
            "dislikes                         NaN    NaN    NaN    NaN   \n",
            "comment_count                    NaN    NaN    NaN    NaN   \n",
            "elapsed_day                      NaN    NaN    NaN    NaN   \n",
            "number_of_tag                    NaN    NaN    NaN    NaN   \n",
            "positive_ratio                   NaN    NaN    NaN    NaN   \n",
            "description_length               NaN    NaN    NaN    NaN   \n",
            "title_length                     1.0    NaN    NaN    NaN   \n",
            "r_avg                            NaN    1.0    NaN    NaN   \n",
            "g_avg                            NaN    NaN    1.0    NaN   \n",
            "b_avg                            NaN    NaN    NaN    1.0   \n",
            "channel_title_mean_enc           NaN    NaN    NaN    NaN   \n",
            "category_id_mean_enc             NaN    NaN    NaN    NaN   \n",
            "\n",
            "                        channel_title_mean_enc  category_id_mean_enc  \n",
            "likes                                      NaN                   NaN  \n",
            "dislikes                                   NaN                   NaN  \n",
            "comment_count                              NaN                   NaN  \n",
            "elapsed_day                                NaN                   NaN  \n",
            "number_of_tag                              NaN                   NaN  \n",
            "positive_ratio                             NaN                   NaN  \n",
            "description_length                         NaN                   NaN  \n",
            "title_length                               NaN                   NaN  \n",
            "r_avg                                      NaN                   NaN  \n",
            "g_avg                                      NaN                   NaN  \n",
            "b_avg                                      NaN                   NaN  \n",
            "channel_title_mean_enc                     NaN                   NaN  \n",
            "category_id_mean_enc                       NaN                   NaN  \n"
          ]
        },
        {
          "output_type": "display_data",
          "data": {
            "text/plain": [
              "<Figure size 864x576 with 2 Axes>"
            ],
            "image/png": "[encoded data removed]"
          },
          "metadata": {
            "needs_background": "light"
          }
        }
      ]
    },
    {
      "cell_type": "code",
      "metadata": {
        "id": "vpD6X9PxLB5b"
      },
      "source": [
        "y_output = df_rgb2['views']\n",
        "\n",
        "x_train, x_test, y_train, y_test = train_test_split(x_input, y_output, random_state=42)"
      ],
      "execution_count": null,
      "outputs": []
    },
    {
      "cell_type": "markdown",
      "metadata": {
        "id": "xw3gSuQjO0WF"
      },
      "source": [
        "#**4. 데이터 스케일링**"
      ]
    },
    {
      "cell_type": "code",
      "metadata": {
        "id": "j8Fw7pxBLCDx",
        "colab": {
          "base_uri": "https://localhost:8080/",
          "height": 363
        },
        "outputId": "0bae2a1a-20e0-429a-b3fb-756365fc594f"
      },
      "source": [
        "scaler = MinMaxScaler()\n",
        "x_train_scaled = scaler.fit_transform(x_train)\n",
        "x_test_scaled = scaler.transform(x_test)"
      ],
      "execution_count": null,
      "outputs": [
        {
          "output_type": "error",
          "ename": "ValueError",
          "evalue": "ignored",
          "traceback": [
            "\u001b[0;31m---------------------------------------------------------------------------\u001b[0m",
            "\u001b[0;31mValueError\u001b[0m                                Traceback (most recent call last)",
            "\u001b[0;32m<ipython-input-52-780cc536294d>\u001b[0m in \u001b[0;36m<module>\u001b[0;34m()\u001b[0m\n\u001b[1;32m      1\u001b[0m \u001b[0mscaler\u001b[0m \u001b[0;34m=\u001b[0m \u001b[0mMinMaxScaler\u001b[0m\u001b[0;34m(\u001b[0m\u001b[0;34m)\u001b[0m\u001b[0;34m\u001b[0m\u001b[0;34m\u001b[0m\u001b[0m\n\u001b[0;32m----> 2\u001b[0;31m \u001b[0mx_train_scaled\u001b[0m \u001b[0;34m=\u001b[0m \u001b[0mscaler\u001b[0m\u001b[0;34m.\u001b[0m\u001b[0mfit_transform\u001b[0m\u001b[0;34m(\u001b[0m\u001b[0mx_train\u001b[0m\u001b[0;34m)\u001b[0m\u001b[0;34m\u001b[0m\u001b[0;34m\u001b[0m\u001b[0m\n\u001b[0m\u001b[1;32m      3\u001b[0m \u001b[0mx_test_scaled\u001b[0m \u001b[0;34m=\u001b[0m \u001b[0mscaler\u001b[0m\u001b[0;34m.\u001b[0m\u001b[0mtransform\u001b[0m\u001b[0;34m(\u001b[0m\u001b[0mx_test\u001b[0m\u001b[0;34m)\u001b[0m\u001b[0;34m\u001b[0m\u001b[0;34m\u001b[0m\u001b[0m\n",
            "\u001b[0;32m/usr/local/lib/python3.7/dist-packages/sklearn/base.py\u001b[0m in \u001b[0;36mfit_transform\u001b[0;34m(self, X, y, **fit_params)\u001b[0m\n\u001b[1;32m    850\u001b[0m         \u001b[0;32mif\u001b[0m \u001b[0my\u001b[0m \u001b[0;32mis\u001b[0m \u001b[0;32mNone\u001b[0m\u001b[0;34m:\u001b[0m\u001b[0;34m\u001b[0m\u001b[0;34m\u001b[0m\u001b[0m\n\u001b[1;32m    851\u001b[0m             \u001b[0;31m# fit method of arity 1 (unsupervised transformation)\u001b[0m\u001b[0;34m\u001b[0m\u001b[0;34m\u001b[0m\u001b[0;34m\u001b[0m\u001b[0m\n\u001b[0;32m--> 852\u001b[0;31m             \u001b[0;32mreturn\u001b[0m \u001b[0mself\u001b[0m\u001b[0;34m.\u001b[0m\u001b[0mfit\u001b[0m\u001b[0;34m(\u001b[0m\u001b[0mX\u001b[0m\u001b[0;34m,\u001b[0m \u001b[0;34m**\u001b[0m\u001b[0mfit_params\u001b[0m\u001b[0;34m)\u001b[0m\u001b[0;34m.\u001b[0m\u001b[0mtransform\u001b[0m\u001b[0;34m(\u001b[0m\u001b[0mX\u001b[0m\u001b[0;34m)\u001b[0m\u001b[0;34m\u001b[0m\u001b[0;34m\u001b[0m\u001b[0m\n\u001b[0m\u001b[1;32m    853\u001b[0m         \u001b[0;32melse\u001b[0m\u001b[0;34m:\u001b[0m\u001b[0;34m\u001b[0m\u001b[0;34m\u001b[0m\u001b[0m\n\u001b[1;32m    854\u001b[0m             \u001b[0;31m# fit method of arity 2 (supervised transformation)\u001b[0m\u001b[0;34m\u001b[0m\u001b[0;34m\u001b[0m\u001b[0;34m\u001b[0m\u001b[0m\n",
            "\u001b[0;32m/usr/local/lib/python3.7/dist-packages/sklearn/preprocessing/_data.py\u001b[0m in \u001b[0;36mfit\u001b[0;34m(self, X, y)\u001b[0m\n\u001b[1;32m    414\u001b[0m         \u001b[0;31m# Reset internal state before fitting\u001b[0m\u001b[0;34m\u001b[0m\u001b[0;34m\u001b[0m\u001b[0;34m\u001b[0m\u001b[0m\n\u001b[1;32m    415\u001b[0m         \u001b[0mself\u001b[0m\u001b[0;34m.\u001b[0m\u001b[0m_reset\u001b[0m\u001b[0;34m(\u001b[0m\u001b[0;34m)\u001b[0m\u001b[0;34m\u001b[0m\u001b[0;34m\u001b[0m\u001b[0m\n\u001b[0;32m--> 416\u001b[0;31m         \u001b[0;32mreturn\u001b[0m \u001b[0mself\u001b[0m\u001b[0;34m.\u001b[0m\u001b[0mpartial_fit\u001b[0m\u001b[0;34m(\u001b[0m\u001b[0mX\u001b[0m\u001b[0;34m,\u001b[0m \u001b[0my\u001b[0m\u001b[0;34m)\u001b[0m\u001b[0;34m\u001b[0m\u001b[0;34m\u001b[0m\u001b[0m\n\u001b[0m\u001b[1;32m    417\u001b[0m \u001b[0;34m\u001b[0m\u001b[0m\n\u001b[1;32m    418\u001b[0m     \u001b[0;32mdef\u001b[0m \u001b[0mpartial_fit\u001b[0m\u001b[0;34m(\u001b[0m\u001b[0mself\u001b[0m\u001b[0;34m,\u001b[0m \u001b[0mX\u001b[0m\u001b[0;34m,\u001b[0m \u001b[0my\u001b[0m\u001b[0;34m=\u001b[0m\u001b[0;32mNone\u001b[0m\u001b[0;34m)\u001b[0m\u001b[0;34m:\u001b[0m\u001b[0;34m\u001b[0m\u001b[0;34m\u001b[0m\u001b[0m\n",
            "\u001b[0;32m/usr/local/lib/python3.7/dist-packages/sklearn/preprocessing/_data.py\u001b[0m in \u001b[0;36mpartial_fit\u001b[0;34m(self, X, y)\u001b[0m\n\u001b[1;32m    456\u001b[0m             \u001b[0mestimator\u001b[0m\u001b[0;34m=\u001b[0m\u001b[0mself\u001b[0m\u001b[0;34m,\u001b[0m\u001b[0;34m\u001b[0m\u001b[0;34m\u001b[0m\u001b[0m\n\u001b[1;32m    457\u001b[0m             \u001b[0mdtype\u001b[0m\u001b[0;34m=\u001b[0m\u001b[0mFLOAT_DTYPES\u001b[0m\u001b[0;34m,\u001b[0m\u001b[0;34m\u001b[0m\u001b[0;34m\u001b[0m\u001b[0m\n\u001b[0;32m--> 458\u001b[0;31m             \u001b[0mforce_all_finite\u001b[0m\u001b[0;34m=\u001b[0m\u001b[0;34m\"allow-nan\"\u001b[0m\u001b[0;34m,\u001b[0m\u001b[0;34m\u001b[0m\u001b[0;34m\u001b[0m\u001b[0m\n\u001b[0m\u001b[1;32m    459\u001b[0m         )\n\u001b[1;32m    460\u001b[0m \u001b[0;34m\u001b[0m\u001b[0m\n",
            "\u001b[0;32m/usr/local/lib/python3.7/dist-packages/sklearn/base.py\u001b[0m in \u001b[0;36m_validate_data\u001b[0;34m(self, X, y, reset, validate_separately, **check_params)\u001b[0m\n\u001b[1;32m    564\u001b[0m             \u001b[0;32mraise\u001b[0m \u001b[0mValueError\u001b[0m\u001b[0;34m(\u001b[0m\u001b[0;34m\"Validation should be done on X, y or both.\"\u001b[0m\u001b[0;34m)\u001b[0m\u001b[0;34m\u001b[0m\u001b[0;34m\u001b[0m\u001b[0m\n\u001b[1;32m    565\u001b[0m         \u001b[0;32melif\u001b[0m \u001b[0;32mnot\u001b[0m \u001b[0mno_val_X\u001b[0m \u001b[0;32mand\u001b[0m \u001b[0mno_val_y\u001b[0m\u001b[0;34m:\u001b[0m\u001b[0;34m\u001b[0m\u001b[0;34m\u001b[0m\u001b[0m\n\u001b[0;32m--> 566\u001b[0;31m             \u001b[0mX\u001b[0m \u001b[0;34m=\u001b[0m \u001b[0mcheck_array\u001b[0m\u001b[0;34m(\u001b[0m\u001b[0mX\u001b[0m\u001b[0;34m,\u001b[0m \u001b[0;34m**\u001b[0m\u001b[0mcheck_params\u001b[0m\u001b[0;34m)\u001b[0m\u001b[0;34m\u001b[0m\u001b[0;34m\u001b[0m\u001b[0m\n\u001b[0m\u001b[1;32m    567\u001b[0m             \u001b[0mout\u001b[0m \u001b[0;34m=\u001b[0m \u001b[0mX\u001b[0m\u001b[0;34m\u001b[0m\u001b[0;34m\u001b[0m\u001b[0m\n\u001b[1;32m    568\u001b[0m         \u001b[0;32melif\u001b[0m \u001b[0mno_val_X\u001b[0m \u001b[0;32mand\u001b[0m \u001b[0;32mnot\u001b[0m \u001b[0mno_val_y\u001b[0m\u001b[0;34m:\u001b[0m\u001b[0;34m\u001b[0m\u001b[0;34m\u001b[0m\u001b[0m\n",
            "\u001b[0;32m/usr/local/lib/python3.7/dist-packages/sklearn/utils/validation.py\u001b[0m in \u001b[0;36mcheck_array\u001b[0;34m(array, accept_sparse, accept_large_sparse, dtype, order, copy, force_all_finite, ensure_2d, allow_nd, ensure_min_samples, ensure_min_features, estimator)\u001b[0m\n\u001b[1;32m    798\u001b[0m \u001b[0;34m\u001b[0m\u001b[0m\n\u001b[1;32m    799\u001b[0m         \u001b[0;32mif\u001b[0m \u001b[0mforce_all_finite\u001b[0m\u001b[0;34m:\u001b[0m\u001b[0;34m\u001b[0m\u001b[0;34m\u001b[0m\u001b[0m\n\u001b[0;32m--> 800\u001b[0;31m             \u001b[0m_assert_all_finite\u001b[0m\u001b[0;34m(\u001b[0m\u001b[0marray\u001b[0m\u001b[0;34m,\u001b[0m \u001b[0mallow_nan\u001b[0m\u001b[0;34m=\u001b[0m\u001b[0mforce_all_finite\u001b[0m \u001b[0;34m==\u001b[0m \u001b[0;34m\"allow-nan\"\u001b[0m\u001b[0;34m)\u001b[0m\u001b[0;34m\u001b[0m\u001b[0;34m\u001b[0m\u001b[0m\n\u001b[0m\u001b[1;32m    801\u001b[0m \u001b[0;34m\u001b[0m\u001b[0m\n\u001b[1;32m    802\u001b[0m     \u001b[0;32mif\u001b[0m \u001b[0mensure_min_samples\u001b[0m \u001b[0;34m>\u001b[0m \u001b[0;36m0\u001b[0m\u001b[0;34m:\u001b[0m\u001b[0;34m\u001b[0m\u001b[0;34m\u001b[0m\u001b[0m\n",
            "\u001b[0;32m/usr/local/lib/python3.7/dist-packages/sklearn/utils/validation.py\u001b[0m in \u001b[0;36m_assert_all_finite\u001b[0;34m(X, allow_nan, msg_dtype)\u001b[0m\n\u001b[1;32m    114\u001b[0m             raise ValueError(\n\u001b[1;32m    115\u001b[0m                 msg_err.format(\n\u001b[0;32m--> 116\u001b[0;31m                     \u001b[0mtype_err\u001b[0m\u001b[0;34m,\u001b[0m \u001b[0mmsg_dtype\u001b[0m \u001b[0;32mif\u001b[0m \u001b[0mmsg_dtype\u001b[0m \u001b[0;32mis\u001b[0m \u001b[0;32mnot\u001b[0m \u001b[0;32mNone\u001b[0m \u001b[0;32melse\u001b[0m \u001b[0mX\u001b[0m\u001b[0;34m.\u001b[0m\u001b[0mdtype\u001b[0m\u001b[0;34m\u001b[0m\u001b[0;34m\u001b[0m\u001b[0m\n\u001b[0m\u001b[1;32m    117\u001b[0m                 )\n\u001b[1;32m    118\u001b[0m             )\n",
            "\u001b[0;31mValueError\u001b[0m: Input contains infinity or a value too large for dtype('float64')."
          ]
        }
      ]
    },
    {
      "cell_type": "markdown",
      "metadata": {
        "id": "R9mjxzM0O9X4"
      },
      "source": [
        "#**5. 모델 생성 및 최적화**"
      ]
    },
    {
      "cell_type": "code",
      "metadata": {
        "id": "9lHy5bThz1JT"
      },
      "source": [
        "model_name = []\n",
        "train_perf = []\n",
        "test_perf = []"
      ],
      "execution_count": null,
      "outputs": []
    },
    {
      "cell_type": "code",
      "metadata": {
        "id": "atNzceVwLCJP"
      },
      "source": [
        "en_model = ElasticNet(max_iter=100000000, random_state=42)\n",
        "\n",
        "en_param = {'l1_ratio': np.arange(0.9, 0.995, 0.005),\n",
        "            'alpha': np.arange(0.0008, 0.0028, 0.0001),\n",
        "            'tol': [1e-2, 3.16e-2, 1e-1, 3.16e-1, 1e0]}\n",
        "\n",
        "clf = GridSearchCV(estimator=en_model, param_grid=en_param, n_jobs=-1, verbose=3)\n",
        "clf.fit(x_train_scaled, y_train)\n",
        "y_train_pred = clf.predict(x_train_scaled)\n",
        "y_test_pred = clf.predict(x_test_scaled)\n",
        "\n",
        "print('Best_estimator:', clf.best_estimator_)\n",
        "print('Best_params:', clf.best_params_)\n",
        "print('Best_score:', clf.best_score_)\n",
        "train_score = r2_score(y_train_pred, y_train)\n",
        "print('Train score:', train_score)\n",
        "test_score = r2_score(y_test_pred, y_test)\n",
        "print('Test  score:', test_score)\n",
        "\n",
        "model_name.append('Elastic Net')\n",
        "train_perf.append(train_score)\n",
        "test_perf.append(test_score)\n",
        "\n",
        "plt.title('Prediction vs ground truth scatter plot (Elastic Net)')\n",
        "plt.xlabel('Prediction')\n",
        "plt.ylabel('Ground truth')\n",
        "plt.grid()\n",
        "plt.scatter(y_test_pred, y_test)"
      ],
      "execution_count": null,
      "outputs": []
    },
    {
      "cell_type": "code",
      "metadata": {
        "id": "mIndmPTcNn9R"
      },
      "source": [
        "en_model = ElasticNet(alpha=0.0027, l1_ratio=0.96, tol=0.1, max_iter=100000000, random_state=42)"
      ],
      "execution_count": null,
      "outputs": []
    },
    {
      "cell_type": "code",
      "metadata": {
        "id": "C2Z_IyDuLCOM"
      },
      "source": [
        "rf_model = RandomForestRegressor(n_jobs=-1, random_state=42)\n",
        "\n",
        "rf_param = {'n_estimators': range(76, 136, 20),\n",
        "            'max_depth': range(30, 42, 4),\n",
        "            'min_samples_split': range(2, 5, 1)}\n",
        "\n",
        "clf = GridSearchCV(estimator=rf_model, param_grid=rf_param, n_jobs=-1, verbose=2)\n",
        "\n",
        "clf.fit(x_train_scaled, y_train)\n",
        "y_train_pred = clf.predict(x_train_scaled)\n",
        "y_test_pred = clf.predict(x_test_scaled)\n",
        "\n",
        "print('Best_estimator:', clf.best_estimator_)\n",
        "print('Best_params:', clf.best_params_)\n",
        "print('Best_score:', clf.best_score_)\n",
        "train_score = r2_score(y_train_pred, y_train)\n",
        "print('Train score:', train_score)\n",
        "test_score = r2_score(y_test_pred, y_test)\n",
        "print('Test  score:', test_score)\n",
        "\n",
        "model_name.append('Random Forest')\n",
        "train_perf.append(train_score)\n",
        "test_perf.append(test_score)\n",
        "\n",
        "plt.title('Prediction vs ground truth scatter plot (Random Forest)')\n",
        "plt.xlabel('Prediction')\n",
        "plt.ylabel('Ground truth')\n",
        "plt.grid()\n",
        "plt.scatter(y_test_pred, y_test)"
      ],
      "execution_count": null,
      "outputs": []
    },
    {
      "cell_type": "code",
      "metadata": {
        "id": "EoqJddbXW4oX"
      },
      "source": [
        "rf_model = RandomForestRegressor(n_estimators=96, max_depth=34, min_samples_split=3, n_jobs=-1, random_state=42)"
      ],
      "execution_count": null,
      "outputs": []
    },
    {
      "cell_type": "code",
      "metadata": {
        "id": "3V-r3wllLCSb"
      },
      "source": [
        "rf_model.fit(x_train_scaled, y_train)\n",
        "\n",
        "feature_names = ['feature {i}' for i in range(x_train_scaled.shape[1])]\n",
        "\n",
        "importances = rf_model.feature_importances_\n",
        "std = np.std([tree.feature_importances_ for tree in rf_model.estimators_], axis=0)\n",
        "\n",
        "forest_importances = pd.Series(importances, index=features)\n",
        "forest_importances = forest_importances.sort_values(ascending=False)\n",
        "\n",
        "fig, ax = plt.subplots()\n",
        "forest_importances.plot.bar(yerr=std, ax=ax)\n",
        "ax.set_title(\"Feature importances using MDI\")\n",
        "ax.set_ylabel(\"Mean decrease in impurity\")\n",
        "fig.tight_layout()"
      ],
      "execution_count": null,
      "outputs": []
    },
    {
      "cell_type": "code",
      "metadata": {
        "id": "1_tkPTr6LVeE"
      },
      "source": [
        "result = permutation_importance(rf_model, x_train_scaled, y_train, n_repeats=100, n_jobs=-1, random_state=42)\n",
        "sorted_idx = result.importances_mean.argsort()\n",
        "\n",
        "fig, ax = plt.subplots()\n",
        "ax.boxplot(result.importances[sorted_idx].T, vert=False, labels=x_train.columns[sorted_idx])\n",
        "ax.set_title(\"Permutation importances (train set)\")\n",
        "fig.tight_layout()"
      ],
      "execution_count": null,
      "outputs": []
    },
    {
      "cell_type": "code",
      "metadata": {
        "id": "DpHk-72hLXUL"
      },
      "source": [
        "mlp_model = MLPRegressor(learning_rate='adaptive', max_iter=2000000, verbose=0,\n",
        "                         early_stopping=True, random_state=42)\n",
        "\n",
        "mlp_param = {'hidden_layer_sizes': [x for x in itertools.product((range(24, 32)), repeat=4)],\n",
        "             'alpha': loguniform(1e-4, 1e-3)}\n",
        "\n",
        "rand_clf = RandomizedSearchCV(estimator=mlp_model, param_distributions=mlp_param, n_iter=10, n_jobs=-1,\n",
        "                              cv=3, verbose=2, random_state=42)\n",
        "\n",
        "rand_clf.fit(x_train_scaled, y_train)\n",
        "\n",
        "y_train_pred = rand_clf.predict(x_train_scaled)\n",
        "y_test_pred = rand_clf.predict(x_test_scaled)\n",
        "\n",
        "print('Best_estimator:', rand_clf.best_estimator_)\n",
        "print('Best_params:', rand_clf.best_params_)\n",
        "print('Best_score:', rand_clf.best_score_)\n",
        "train_score = r2_score(y_train_pred, y_train)\n",
        "print('Train score:', train_score)\n",
        "test_score = r2_score(y_test_pred, y_test)\n",
        "print('Test  score:', test_score)\n",
        "\n",
        "model_name.append('Neural Network')\n",
        "train_perf.append(train_score)\n",
        "test_perf.append(test_score)\n",
        "plt.title('Prediction vs ground truth scatter plot (Neural Network)')\n",
        "plt.xlabel('Prediction')\n",
        "plt.ylabel('Ground truth')\n",
        "plt.grid()\n",
        "plt.scatter(y_test_pred, y_test)"
      ],
      "execution_count": null,
      "outputs": []
    },
    {
      "cell_type": "code",
      "metadata": {
        "id": "ohF-q3ClS6Dg"
      },
      "source": [
        "mlp_model = MLPRegressor(hidden_layer_sizes=(24, 27, 28, 31), alpha=2.715e-4, learning_rate='adaptive',\n",
        "                         max_iter=2000000, verbose=0, early_stopping=True, random_state=42)"
      ],
      "execution_count": null,
      "outputs": []
    },
    {
      "cell_type": "code",
      "metadata": {
        "id": "5pC-TTOqLXYB"
      },
      "source": [
        "xgb_model = XGBRegressor(n_jobs=-1, random_state=42)\n",
        "\n",
        "xgb_param = {'n_estimators': range(80, 140, 20),\n",
        "             'max_depth': range(2, 5, 1),\n",
        "             'reg_alpha': [1e-2, 3.16e-2, 1e-1],\n",
        "             'reg_lambda': [0.1, 0.316, 1]}\n",
        "\n",
        "xgb_clf = GridSearchCV(estimator=xgb_model, param_grid=xgb_param, n_jobs=-1, verbose=2, cv=3)\n",
        "\n",
        "xgb_clf.fit(x_train_scaled, y_train)\n",
        "y_train_pred = xgb_clf.predict(x_train_scaled)\n",
        "y_test_pred = xgb_clf.predict(x_test_scaled)\n",
        "\n",
        "print('Best_estimator:', xgb_clf.best_estimator_)\n",
        "print('Best_params:', xgb_clf.best_params_)\n",
        "print('Best_score:', xgb_clf.best_score_)\n",
        "train_score = r2_score(y_train_pred, y_train)\n",
        "print('Train score:', train_score)\n",
        "test_score = r2_score(y_test_pred, y_test)\n",
        "print('Test  score:', test_score)\n",
        "\n",
        "model_name.append('XGBoost')\n",
        "train_perf.append(train_score)\n",
        "test_perf.append(test_score)\n",
        "\n",
        "plt.title('Prediction vs ground truth scatter plot (XGBoost)')\n",
        "plt.xlabel('Prediction')\n",
        "plt.ylabel('Ground truth')\n",
        "plt.grid()\n",
        "plt.scatter(y_test_pred, y_test)"
      ],
      "execution_count": null,
      "outputs": []
    },
    {
      "cell_type": "code",
      "metadata": {
        "id": "6y3qqTq2aBB0"
      },
      "source": [
        "xgb_model = XGBRegressor(max_depth=4, n_estimators=120, reg_alpha=0.1, reg_lambda=0.1, n_jobs=-1, random_state=42)"
      ],
      "execution_count": null,
      "outputs": []
    },
    {
      "cell_type": "code",
      "metadata": {
        "id": "Yr8GthcHLXci"
      },
      "source": [
        "svr_model = SVR()\n",
        "\n",
        "svr_param = {'C': [3.16e7, 1e8],\n",
        "             'gamma': [0.1, 0.316]}\n",
        "\n",
        "svr_clf = GridSearchCV(estimator=svr_model, param_grid=svr_param, n_jobs=-1, verbose=3, cv=3)\n",
        "\n",
        "svr_clf.fit(x_train_scaled, y_train)\n",
        "y_train_pred = svr_clf.predict(x_train_scaled)\n",
        "y_test_pred = svr_clf.predict(x_test_scaled)\n",
        "\n",
        "print('Best_estimator:', svr_clf.best_estimator_)\n",
        "print('Best_params:', svr_clf.best_params_)\n",
        "print('Best_score:', svr_clf.best_score_)\n",
        "train_score = r2_score(y_train_pred, y_train)\n",
        "print('Train score:', train_score)\n",
        "test_score = r2_score(y_test_pred, y_test)\n",
        "print('Test  score:', test_score)\n",
        "\n",
        "model_name.append('SVM')\n",
        "train_perf.append(train_score)\n",
        "test_perf.append(test_score)\n",
        "\n",
        "plt.title('Prediction vs ground truth scatter plot (SVM)')\n",
        "plt.xlabel('Prediction')\n",
        "plt.ylabel('Ground truth')\n",
        "plt.grid()\n",
        "plt.scatter(y_test_pred, y_test)"
      ],
      "execution_count": null,
      "outputs": []
    },
    {
      "cell_type": "code",
      "metadata": {
        "id": "oUoqczd4TPfe"
      },
      "source": [
        "svr_model = SVR(C=1e8, gamma=0.1)"
      ],
      "execution_count": null,
      "outputs": []
    },
    {
      "cell_type": "code",
      "metadata": {
        "id": "Oy9k_CQZLXgd"
      },
      "source": [
        "knn_model = KNeighborsRegressor(n_jobs=-1)\n",
        "\n",
        "knn_param = {'n_neighbors': range(1, 6, 1),\n",
        "             'weights': ['uniform', 'distance'],\n",
        "             'leaf_size': range(1, 5, 1)}\n",
        "\n",
        "knn_clf = GridSearchCV(estimator=knn_model, param_grid=knn_param, n_jobs=-1, verbose=3)\n",
        "\n",
        "knn_clf.fit(x_train_scaled, y_train)\n",
        "y_train_pred = knn_clf.predict(x_train_scaled)\n",
        "y_test_pred = knn_clf.predict(x_test_scaled)\n",
        "\n",
        "print('Best_estimator:', knn_clf.best_estimator_)\n",
        "print('Best_params:', knn_clf.best_params_)\n",
        "print('Best_score:', knn_clf.best_score_)\n",
        "print('Train score:', r2_score(y_train_pred, y_train))\n",
        "print('Test  score:', r2_score(y_test_pred, y_test))\n",
        "\n",
        "plt.title('Prediction vs ground truth scatter plot (kNN)')\n",
        "plt.xlabel('Prediction')\n",
        "plt.ylabel('Ground truth')\n",
        "plt.grid()\n",
        "plt.scatter(y_test_pred, y_test)"
      ],
      "execution_count": null,
      "outputs": []
    },
    {
      "cell_type": "code",
      "metadata": {
        "id": "OkV2udwYH7EY"
      },
      "source": [
        "plt.title('Model performance comparison')\n",
        "plt.xticks(rotation=90)\n",
        "plt.ylabel('Accuracy')\n",
        "\n",
        "x = np.arange(len(model_name))\n",
        "plt.xticks(x, model_name)\n",
        "plt.bar(x - 0.2, train_perf, width=0.4, label='Train Acc.')\n",
        "plt.bar(x + 0.2, test_perf, width=0.4, label='Test Acc.')\n",
        "plt.legend()"
      ],
      "execution_count": null,
      "outputs": []
    },
    {
      "cell_type": "markdown",
      "metadata": {
        "id": "0VSBFDA3PLzH"
      },
      "source": [
        "#**6. 모델 앙상블**"
      ]
    },
    {
      "cell_type": "code",
      "metadata": {
        "id": "r3wRugEJLXkh"
      },
      "source": [
        "ensemble_list = [('xgb', xgb_model),\n",
        "                 ('rf', rf_model),\n",
        "                 ('svm', svr_model),\n",
        "                 ('mlp', mlp_model),\n",
        "                 ('en', en_model)]\n",
        "\n",
        "voting_est = []\n",
        "\n",
        "for idx, target_model in enumerate(ensemble_list):\n",
        "    voting_est.append(target_model)\n",
        "\n",
        "    voting_clf = VotingRegressor(estimators=voting_est, n_jobs=-1)\n",
        "    voting_clf.fit(x_train_scaled, y_train)\n",
        "    y_train_pred = voting_clf.predict(x_train_scaled)\n",
        "    y_test_pred = voting_clf.predict(x_test_scaled)\n",
        "    print(idx + 1, 'Ensemble train score:', r2_score(y_train_pred, y_train))\n",
        "    print(idx + 1, 'Ensemble test  score:', r2_score(y_test_pred, y_test))\n",
        "\n",
        "    plt.scatter(y_test_pred, y_test, label=str(idx + 1), alpha=0.5)\n",
        "    title = 'Prediction vs ground truth scatter plot: Ensemble'     \n",
        "    plt.title(title)\n",
        "    plt.xlabel('Prediction')\n",
        "    plt.ylabel('Ground truth')\n",
        "    plt.grid()\n",
        "    plt.legend()"
      ],
      "execution_count": null,
      "outputs": []
    },
    {
      "cell_type": "code",
      "metadata": {
        "id": "LpsAsLkvLXoa"
      },
      "source": [
        "voting_clf = VotingRegressor(estimators=[('xgb', xgb_model), ('rf', rf_model), ('svm', svr_model)],\n",
        "                             n_jobs=-1)\n",
        "voting_clf.fit(x_train_scaled, y_train)"
      ],
      "execution_count": null,
      "outputs": []
    },
    {
      "cell_type": "markdown",
      "metadata": {
        "id": "SXmdNnOOPTWn"
      },
      "source": [
        "#**7. 특성(피쳐) 중요도 분석**"
      ]
    },
    {
      "cell_type": "code",
      "metadata": {
        "id": "tHGIaCkSLz2N"
      },
      "source": [
        "result = permutation_importance(voting_clf, x_train_scaled, y_train, n_repeats=100, n_jobs=-1, random_state=42)\n",
        "sorted_idx = result.importances_mean.argsort()\n",
        "\n",
        "fig, ax = plt.subplots()\n",
        "ax.boxplot(result.importances[sorted_idx].T, vert=False, labels=x_train.columns[sorted_idx])\n",
        "ax.set_title(\"Permutation importances (train set)\")\n",
        "fig.tight_layout()"
      ],
      "execution_count": null,
      "outputs": []
    },
    {
      "cell_type": "code",
      "metadata": {
        "id": "NnjmEAHY3-c3"
      },
      "source": [
        "x_total = np.concatenate((x_train, x_test), axis=0)\n",
        "y_total = np.concatenate((y_train, y_test), axis=0)\n",
        "\n",
        "x_total_scaled = scaler.transform(x_total)\n",
        "\n",
        "voting_clf.fit(x_total_scaled, y_total)"
      ],
      "execution_count": null,
      "outputs": []
    },
    {
      "cell_type": "markdown",
      "metadata": {
        "id": "DntCOo0yP8R0"
      },
      "source": [
        "#**8. 유전 알고리즘 - 최적 피쳐 탐색: 일반 YouTuber**"
      ]
    },
    {
      "cell_type": "code",
      "metadata": {
        "id": "4DVKdlsbJqhO"
      },
      "source": [
        "df_rgb2['views'].describe(percentiles=[0.5, 0.75, 0.9, 0.95, 0.99])"
      ],
      "execution_count": null,
      "outputs": []
    },
    {
      "cell_type": "code",
      "metadata": {
        "id": "2sdO0OFEFAi_"
      },
      "source": [
        "# features = ['likes', 'dislikes', 'comment_count', 'elapsed_day', 'number_of_tag', 'positive_ratio',\n",
        "#             'description_length', 'title_length', 'r_avg', 'g_avg', 'b_avg', 'channel_title_mean_enc',\n",
        "#             'category_id_mean_enc']\n",
        "\n",
        "# 0: 'likes'\n",
        "# 1: 'dislikes'\n",
        "# 2: 'comment_count'\n",
        "# 3: 'elapsed_day'\n",
        "# 4: 'number_of_tag'\n",
        "# 5: 'positive_ratio'\n",
        "# 6: 'description_length'\n",
        "# 7: 'title_length'\n",
        "# 8: 'r_avg'\n",
        "# 9: 'g_avg'\n",
        "# 10: 'b_avg'\n",
        "# 11: 'channel_title_mean_enc'\n",
        "# 12: 'category_id_mean_enc'\n",
        "\n",
        "\n",
        "def input_conversion(x_input):\n",
        "    conversion = [int(x_input[0]),\n",
        "                  int(x_input[1]),\n",
        "                  int(x_input[2]),\n",
        "                  int(x_input[3]),\n",
        "                  int(x_input[4]),\n",
        "                  x_input[0] / x_input[1],\n",
        "                  int(x_input[5]),\n",
        "                  int(x_input[6]),\n",
        "                  int(x_input[7]),\n",
        "                  int(x_input[8]),\n",
        "                  int(x_input[9]),\n",
        "                  mean_encode_channel.iloc[int(x_input[10])],\n",
        "                  mean_encode_category.iloc[int(x_input[11])]]\n",
        "\n",
        "    return conversion"
      ],
      "execution_count": null,
      "outputs": []
    },
    {
      "cell_type": "code",
      "metadata": {
        "id": "M5bZa7mUJ9lV"
      },
      "source": [
        "# 0: 'likes'\n",
        "# 1: 'dislikes'\n",
        "# 2: 'comment_count'\n",
        "# 3: 'elapsed_day'\n",
        "# 4: 'number_of_tag'\n",
        "# 5: 'positive_ratio'\n",
        "# 6: 'description_length'\n",
        "# 7: 'title_length'\n",
        "# 8: 'r_avg'\n",
        "# 9: 'g_avg'\n",
        "# 10: 'b_avg'\n",
        "# 11: 'channel_title_mean_enc'\n",
        "# 12: 'category_id_mean_enc'\n",
        "\n",
        "varbound = np.array([[df_rgb2['likes'].min(), df_rgb2['likes'].max()],\n",
        "                     [df_rgb2['dislikes'].min() + 1, df_rgb2['dislikes'].max()],\n",
        "                     [df_rgb2['comment_count'].min() + 1, df_rgb2['comment_count'].max()],\n",
        "                     [df_rgb2['elapsed_day'].min(), df_rgb2['elapsed_day'].max()],\n",
        "                     [df_rgb2['number_of_tag'].min(), df_rgb2['number_of_tag'].max()],\n",
        "                     [df_rgb2['description_length'].min(), df_rgb2['description_length'].max()],\n",
        "                     [df_rgb2['title_length'].min(), df_rgb2['title_length'].max()],\n",
        "                     [df_rgb2['r_avg'].min(), df_rgb2['r_avg'].max()],\n",
        "                     [df_rgb2['g_avg'].min(), df_rgb2['g_avg'].max()],\n",
        "                     [df_rgb2['b_avg'].min(), df_rgb2['b_avg'].max()],\n",
        "                     [0, len(mean_encode_channel) - 1],\n",
        "                     # [0, len(mean_encode_category) - 1]],\n",
        "                     [2, 2]])"
      ],
      "execution_count": null,
      "outputs": []
    },
    {
      "cell_type": "code",
      "metadata": {
        "id": "fZwdaLXNFAnL"
      },
      "source": [
        "def object_function_median(x_input, target_model=voting_clf):\n",
        "    input_converted = input_conversion(x_input)\n",
        "    input_converted = np.array(input_converted).reshape(1, -1)\n",
        "\n",
        "    input_scaled = scaler.transform(input_converted)\n",
        "    prediction = target_model.predict(input_scaled)        \n",
        "\n",
        "    target = df_rgb2['views'].median()\n",
        "    print('Predicted views:', int(prediction), 'Difference from target:', int(prediction - target))\n",
        "\n",
        "    # return abs(int(prediction) - target)\n",
        "    return math.log(abs(target - int(prediction))) "
      ],
      "execution_count": null,
      "outputs": []
    },
    {
      "cell_type": "code",
      "metadata": {
        "id": "qGpCWv8NGpvd"
      },
      "source": [
        "algorithm_param = {'max_num_iteration': 300,\n",
        "                   'population_size': 100,\n",
        "                   'mutation_probability': 0.1,\n",
        "                   'elit_ratio': 0.01,\n",
        "                   'crossover_probability': 0.5,\n",
        "                   'parents_portion': 0.3,\n",
        "                   'crossover_type': 'uniform',\n",
        "                   'max_iteration_without_improv': None}"
      ],
      "execution_count": null,
      "outputs": []
    },
    {
      "cell_type": "code",
      "metadata": {
        "id": "jQ5u12YF1Ge_"
      },
      "source": [
        "model_ga_median = geneticalgorithm(function=object_function_median,\n",
        "                                   dimension=12,\n",
        "                                   variable_type='int',\n",
        "                                   variable_boundaries=varbound,\n",
        "                                   algorithm_parameters=algorithm_param)\n",
        "\n",
        "model_ga_median.run()"
      ],
      "execution_count": null,
      "outputs": []
    },
    {
      "cell_type": "code",
      "metadata": {
        "id": "RlpwN2sAzyiy"
      },
      "source": [
        "convergence_median = model_ga_median.report\n",
        "solution_median = model_ga_median.output_dict\n",
        "\n",
        "print(convergence_median)\n",
        "print(solution_median)"
      ],
      "execution_count": null,
      "outputs": []
    },
    {
      "cell_type": "code",
      "metadata": {
        "id": "xttNS_kTlZwa"
      },
      "source": [
        "ga_solution = input_conversion(solution_median['variable'])\n",
        "ga_solution = np.array(ga_solution).reshape(1, -1)\n",
        "\n",
        "ga_solution_df = pd.DataFrame(ga_solution, columns=features)\n",
        "ga_solution_df"
      ],
      "execution_count": null,
      "outputs": []
    },
    {
      "cell_type": "code",
      "metadata": {
        "id": "PWuOxcZbLaKC"
      },
      "source": [
        "channel_title = mean_encode_channel[mean_encode_channel.isin(ga_solution_df['channel_title_mean_enc'])].index[0]\n",
        "ga_solution_df['channel_title_mean_enc'] = channel_title\n",
        "ga_solution_df = ga_solution_df.rename(columns={'channel_title_mean_enc': 'channel_title'})\n",
        "\n",
        "category_id = mean_encode_category[mean_encode_category.isin(ga_solution_df['category_id_mean_enc'])].index[0]\n",
        "ga_solution_df['category_id_mean_enc'] = category_id\n",
        "ga_solution_df = ga_solution_df.rename(columns={'category_id_mean_enc': 'category_id'})\n",
        "ga_solution_df"
      ],
      "execution_count": null,
      "outputs": []
    },
    {
      "cell_type": "code",
      "metadata": {
        "id": "zR_yNdDAQmo3"
      },
      "source": [
        "ga_solution_df['category_id'] = category_id_code[str(ga_solution_df['category_id'][0])]\n",
        "ga_solution_df = ga_solution_df.rename(columns={'category_id': 'category'})\n",
        "ga_solution_df"
      ],
      "execution_count": null,
      "outputs": []
    },
    {
      "cell_type": "code",
      "metadata": {
        "id": "yfQwIsn7T7jS"
      },
      "source": [
        "prediction = voting_clf.predict(scaler.transform(ga_solution))\n",
        "ga_solution_df['Views'] = int(prediction[0])\n",
        "ga_solution_median = ga_solution_df\n",
        "ga_solution_median"
      ],
      "execution_count": null,
      "outputs": []
    },
    {
      "cell_type": "markdown",
      "metadata": {
        "id": "e8a9t9ZvQXSx"
      },
      "source": [
        "#**9. 결과 검토 및 분석: 일반 YouTuber**"
      ]
    },
    {
      "cell_type": "code",
      "metadata": {
        "id": "2wvlWLZkTr4-"
      },
      "source": [
        "df_rgb2.describe()"
      ],
      "execution_count": null,
      "outputs": []
    },
    {
      "cell_type": "code",
      "metadata": {
        "id": "LGAMmhOOr7Z8"
      },
      "source": [
        "inf_input = copy.deepcopy(model_ga_median)\n",
        "\n",
        "comment_count_dep_median = []\n",
        "\n",
        "for i in tqdm.tqdm(range(df_rgb2['comment_count'].min(), df_rgb2['comment_count'].max(), 1000)):    \n",
        "    inf_input.output_dict['variable'][2] = i\n",
        "    input_converted = input_conversion(inf_input.output_dict['variable'])\n",
        "    input_converted = np.array(input_converted).reshape(1, -1)\n",
        "\n",
        "    input_scaled = scaler.transform(input_converted)\n",
        "    prediction = voting_clf.predict(input_scaled)    \n",
        "    comment_count_dep_median.append([i, int(prediction)])"
      ],
      "execution_count": null,
      "outputs": []
    },
    {
      "cell_type": "code",
      "metadata": {
        "id": "kQdBjj-wHcqd"
      },
      "source": [
        "comment_count_dep_median_df = pd.DataFrame(comment_count_dep_median, columns=['comment_count', 'views'])\n",
        "\n",
        "plt.title('Comment count dependency for general YouTuber')\n",
        "plt.xlabel('Comment count')\n",
        "plt.ylabel('Views')\n",
        "plt.grid()\n",
        "plt.plot(comment_count_dep_median_df['comment_count'], comment_count_dep_median_df['views'])"
      ],
      "execution_count": null,
      "outputs": []
    },
    {
      "cell_type": "code",
      "metadata": {
        "id": "-uplZ0Ibj4_u"
      },
      "source": [
        "inf_input = copy.deepcopy(model_ga_median)\n",
        "\n",
        "positive_ratio_dep_median = []\n",
        "\n",
        "total_sign = inf_input.output_dict['variable'][0] + inf_input.output_dict['variable'][1]\n",
        "calculation_plot = 500\n",
        "step = total_sign / calculation_plot\n",
        "\n",
        "for i in tqdm.tqdm(np.arange(1, total_sign, step)):    \n",
        "    inf_input.output_dict['variable'][0] = int(i)\n",
        "    inf_input.output_dict['variable'][1] = total_sign - int(i)\n",
        "    ratio = inf_input.output_dict['variable'][0] / inf_input.output_dict['variable'][1]\n",
        "\n",
        "    input_converted = input_conversion(inf_input.output_dict['variable'])\n",
        "    input_converted = np.array(input_converted).reshape(1, -1)\n",
        "\n",
        "    input_scaled = scaler.transform(input_converted)\n",
        "    prediction = voting_clf.predict(input_scaled)   \n",
        "    positive_ratio_dep_median.append([ratio, int(prediction)])"
      ],
      "execution_count": null,
      "outputs": []
    },
    {
      "cell_type": "code",
      "metadata": {
        "id": "t81PdKHej5K1"
      },
      "source": [
        "positive_ratio_dep_median_df = pd.DataFrame(positive_ratio_dep_median, columns=['positive_ratio', 'views'])\n",
        "\n",
        "plt.title('Positive ratio dependency for general YouTuber')\n",
        "plt.xlabel('Positive ratio')\n",
        "plt.ylabel('Views')\n",
        "plt.xscale('log')\n",
        "plt.grid()\n",
        "plt.bar(positive_ratio_dep_median_df['positive_ratio'], positive_ratio_dep_median_df['views'])"
      ],
      "execution_count": null,
      "outputs": []
    },
    {
      "cell_type": "code",
      "metadata": {
        "id": "QBsDMNKh5rFc"
      },
      "source": [
        "inf_input = copy.deepcopy(model_ga_median)\n",
        "\n",
        "number_of_tag_dep_median = []\n",
        "\n",
        "for i in tqdm.tqdm(range(df_rgb2['number_of_tag'].min(), df_rgb2['number_of_tag'].max())):    \n",
        "    inf_input.output_dict['variable'][4] = i\n",
        "    input_converted = input_conversion(inf_input.output_dict['variable'])\n",
        "    input_converted = np.array(input_converted).reshape(1, -1)\n",
        "\n",
        "    input_scaled = scaler.transform(input_converted)\n",
        "    prediction = voting_clf.predict(input_scaled)   \n",
        "    number_of_tag_dep_median.append([i, int(prediction)])"
      ],
      "execution_count": null,
      "outputs": []
    },
    {
      "cell_type": "code",
      "metadata": {
        "id": "fzJ2coAP5rOt"
      },
      "source": [
        "number_of_tag_dep_median_df = pd.DataFrame(number_of_tag_dep_median, columns=['number_of_tag', 'views'])\n",
        "\n",
        "plt.title('Number of tag dependency for general YouTuber')\n",
        "plt.xlabel('The number of tag')\n",
        "plt.ylabel('Views')\n",
        "plt.grid()\n",
        "plt.bar(number_of_tag_dep_median_df['number_of_tag'], number_of_tag_dep_median_df['views'])"
      ],
      "execution_count": null,
      "outputs": []
    },
    {
      "cell_type": "code",
      "metadata": {
        "id": "38rvYeMMj5QB"
      },
      "source": [
        "inf_input = copy.deepcopy(model_ga_median)\n",
        "\n",
        "random_image_dep_median = []\n",
        "\n",
        "for i in tqdm.tqdm(range(2000)):    \n",
        "    inf_input.output_dict['variable'][7] = randint(df_rgb2['r_avg'].min(), df_rgb2['r_avg'].max())\n",
        "    inf_input.output_dict['variable'][8] = randint(df_rgb2['g_avg'].min(), df_rgb2['g_avg'].max())\n",
        "    inf_input.output_dict['variable'][9] = randint(df_rgb2['b_avg'].min(), df_rgb2['b_avg'].max())\n",
        "    input_converted = input_conversion(inf_input.output_dict['variable'])\n",
        "    input_converted = np.array(input_converted).reshape(1, -1)\n",
        "\n",
        "    input_scaled = scaler.transform(input_converted)\n",
        "    prediction = voting_clf.predict(input_scaled)    \n",
        "    random_image_dep_median.append([i, int(prediction)])"
      ],
      "execution_count": null,
      "outputs": []
    },
    {
      "cell_type": "code",
      "metadata": {
        "id": "QiB0SAEoj5Un"
      },
      "source": [
        "random_image_dep_median_df = pd.DataFrame(random_image_dep_median, columns=['Random_image', 'Views'])\n",
        "\n",
        "plt.grid()\n",
        "plt.title('Thumbnail image dependency')\n",
        "plt.plot(random_image_dep_median_df['Random_image'], random_image_dep_median_df['Views'])"
      ],
      "execution_count": null,
      "outputs": []
    },
    {
      "cell_type": "code",
      "metadata": {
        "id": "1DGEE0Rpj5ZE"
      },
      "source": [
        "plt.grid()\n",
        "plt.title('Views distribution for randomized thumbnail images')\n",
        "plt.xlabel('Views')\n",
        "plt.ylabel('Counts')\n",
        "plt.hist(random_image_dep_median_df['Views'], bins=96)\n",
        "\n",
        "print('Average views:', random_image_dep_median_df['Views'].mean())\n",
        "print('Median views:', random_image_dep_median_df['Views'].median())\n",
        "print('Standard deviation of views [count]:', random_image_dep_median_df['Views'].std())\n",
        "print('Standard deviation of views     [%]:', random_image_dep_median_df['Views'].std()*100 / random_image_dep_median_df['Views'].mean())"
      ],
      "execution_count": null,
      "outputs": []
    },
    {
      "cell_type": "code",
      "metadata": {
        "id": "lkGQLh0Bj5dk"
      },
      "source": [
        "inf_input = copy.deepcopy(model_ga_median)\n",
        "\n",
        "channel_title_dep_median = []\n",
        "\n",
        "for i in tqdm.tqdm(range(len(mean_encode_channel))):\n",
        "    inf_input.output_dict['variable'][10] = i \n",
        "    \n",
        "    input_converted = input_conversion(inf_input.output_dict['variable'])\n",
        "    input_converted = np.array(input_converted).reshape(1, -1)\n",
        "\n",
        "    input_scaled = scaler.transform(input_converted)\n",
        "    prediction = voting_clf.predict(input_scaled)    \n",
        "    channel_title_dep_median.append([mean_encode_channel.index[i], int(prediction)])"
      ],
      "execution_count": null,
      "outputs": []
    },
    {
      "cell_type": "code",
      "metadata": {
        "id": "4TWj6O4cri0L"
      },
      "source": [
        "channel_title_dep_median_df = pd.DataFrame(channel_title_dep_median, columns=['channel_title', 'views'])\n",
        "\n",
        "plt.title('Channel dependency for general YouTuber')\n",
        "plt.xlabel('Channel name')\n",
        "plt.ylabel('Views')\n",
        "plt.yscale('log')\n",
        "plt.grid()\n",
        "plt.bar(range(len(channel_title_dep_median_df['channel_title'])), channel_title_dep_median_df['views'])"
      ],
      "execution_count": null,
      "outputs": []
    },
    {
      "cell_type": "code",
      "metadata": {
        "id": "NXvm9qwJ0PxG"
      },
      "source": [
        "channel_title_dep_median_df.sort_values(by='views', ascending=False).head(10)"
      ],
      "execution_count": null,
      "outputs": []
    },
    {
      "cell_type": "code",
      "metadata": {
        "id": "HR8CT5z_zS3_"
      },
      "source": [
        "plt.grid()\n",
        "plt.title('Views distribution for different channels')\n",
        "plt.xlabel('Views')\n",
        "plt.ylabel('Counts')\n",
        "plt.yscale('log')\n",
        "plt.hist(channel_title_dep_median_df['views'], bins=96)\n",
        "\n",
        "print('Average views:', channel_title_dep_median_df['views'].mean())\n",
        "print('Median views:', channel_title_dep_median_df['views'].median())\n",
        "print('Standard deviation of views [count]:', channel_title_dep_median_df['views'].std())\n",
        "print('Standard deviation of views     [%]:', channel_title_dep_median_df['views'].std()*100 / channel_title_dep_median_df['views'].mean())"
      ],
      "execution_count": null,
      "outputs": []
    },
    {
      "cell_type": "markdown",
      "metadata": {
        "id": "iLLSksFl7qbn"
      },
      "source": [
        "#**10. 유전 알고리즘 - 최적 피쳐 탐색: Top YouTuber**"
      ]
    },
    {
      "cell_type": "code",
      "metadata": {
        "id": "iEupdSJD0Uih"
      },
      "source": [
        "# 0: 'likes'\n",
        "# 1: 'dislikes'\n",
        "# 2: 'comment_count'\n",
        "# 3: 'elapsed_day'\n",
        "# 4: 'number_of_tag'\n",
        "# 5: 'positive_ratio'\n",
        "# 6: 'description_length'\n",
        "# 7: 'title_length'\n",
        "# 8: 'r_avg'\n",
        "# 9: 'g_avg'\n",
        "# 10: 'b_avg'\n",
        "# 11: 'channel_title_mean_enc'\n",
        "# 12: 'category_id_mean_enc'\n",
        "\n",
        "varbound = np.array([[df_rgb2['likes'].min(), df_rgb2['likes'].max()*2],\n",
        "                     [df_rgb2['dislikes'].min() + 1, df_rgb2['dislikes'].max()*2],\n",
        "                     [df_rgb2['comment_count'].min() + 1, df_rgb2['comment_count'].max()*2],\n",
        "                     [df_rgb2['elapsed_day'].min(), df_rgb2['elapsed_day'].max()],\n",
        "                     [df_rgb2['number_of_tag'].min(), df_rgb2['number_of_tag'].max()],\n",
        "                     [df_rgb2['description_length'].min(), df_rgb2['description_length'].max()],\n",
        "                     [df_rgb2['title_length'].min(), df_rgb2['title_length'].max()*2],\n",
        "                     [df_rgb2['r_avg'].min(), df_rgb2['r_avg'].max()],\n",
        "                     [df_rgb2['g_avg'].min(), df_rgb2['g_avg'].max()],\n",
        "                     [df_rgb2['b_avg'].min(), df_rgb2['b_avg'].max()],\n",
        "                     [0, len(mean_encode_channel) - 1],\n",
        "                     # [0, len(mean_encode_category) - 1]],\n",
        "                     [2, 2]])"
      ],
      "execution_count": null,
      "outputs": []
    },
    {
      "cell_type": "code",
      "metadata": {
        "id": "NQd-7fYxYWq5"
      },
      "source": [
        "def object_function_top(x_input, target_model=voting_clf):\n",
        "    input_converted = input_conversion(x_input)\n",
        "    input_converted = np.array(input_converted).reshape(1, -1)\n",
        "\n",
        "    input_scaled = scaler.transform(input_converted)\n",
        "    prediction = target_model.predict(input_scaled)        \n",
        "\n",
        "    target = 70000000\n",
        "    print('Predicted views:', int(prediction), 'Difference from target:', int(target - prediction))\n",
        "\n",
        "    # return abs(int(prediction) - target)\n",
        "    return math.log(abs(target - int(prediction))) "
      ],
      "execution_count": null,
      "outputs": []
    },
    {
      "cell_type": "code",
      "metadata": {
        "id": "Rn1oPlVfYWq5"
      },
      "source": [
        "algorithm_param = {'max_num_iteration': 300,\n",
        "                   'population_size': 100,\n",
        "                   'mutation_probability': 0.1,\n",
        "                   'elit_ratio': 0.01,\n",
        "                   'crossover_probability': 0.5,\n",
        "                   'parents_portion': 0.3,\n",
        "                   'crossover_type': 'uniform',\n",
        "                   'max_iteration_without_improv': None}"
      ],
      "execution_count": null,
      "outputs": []
    },
    {
      "cell_type": "code",
      "metadata": {
        "id": "YL2qGaSzYWq5"
      },
      "source": [
        "model_ga_top = geneticalgorithm(function=object_function_top,\n",
        "                                dimension=12,\n",
        "                                variable_type='int',\n",
        "                                variable_boundaries=varbound,\n",
        "                                algorithm_parameters=algorithm_param)\n",
        "\n",
        "model_ga_top.run()"
      ],
      "execution_count": null,
      "outputs": []
    },
    {
      "cell_type": "code",
      "metadata": {
        "id": "qNg3iu9XYWq5"
      },
      "source": [
        "convergence_top = model_ga_top.report\n",
        "solution_top = model_ga_top.output_dict\n",
        "\n",
        "print(convergence_top)\n",
        "print(solution_top)"
      ],
      "execution_count": null,
      "outputs": []
    },
    {
      "cell_type": "code",
      "metadata": {
        "id": "pff6Z4hkYWq6"
      },
      "source": [
        "ga_solution = input_conversion(solution_top['variable'])\n",
        "ga_solution = np.array(ga_solution).reshape(1, -1)\n",
        "\n",
        "ga_solution_df = pd.DataFrame(ga_solution, columns=features)\n",
        "ga_solution_df"
      ],
      "execution_count": null,
      "outputs": []
    },
    {
      "cell_type": "code",
      "metadata": {
        "id": "9TwXIp8OYWq6"
      },
      "source": [
        "channel_title = mean_encode_channel[mean_encode_channel.isin(ga_solution_df['channel_title_mean_enc'])].index[0]\n",
        "ga_solution_df['channel_title_mean_enc'] = channel_title\n",
        "ga_solution_df = ga_solution_df.rename(columns={'channel_title_mean_enc': 'channel_title'})\n",
        "\n",
        "category_id = mean_encode_category[mean_encode_category.isin(ga_solution_df['category_id_mean_enc'])].index[0]\n",
        "ga_solution_df['category_id_mean_enc'] = category_id\n",
        "ga_solution_df = ga_solution_df.rename(columns={'category_id_mean_enc': 'category_id'})\n",
        "ga_solution_df"
      ],
      "execution_count": null,
      "outputs": []
    },
    {
      "cell_type": "code",
      "metadata": {
        "id": "rRiHj2HGYWq6"
      },
      "source": [
        "ga_solution_df['category_id'] = category_id_code[str(ga_solution_df['category_id'][0])]\n",
        "ga_solution_df = ga_solution_df.rename(columns={'category_id': 'category'})\n",
        "ga_solution_df"
      ],
      "execution_count": null,
      "outputs": []
    },
    {
      "cell_type": "code",
      "metadata": {
        "id": "ktWgI4lLYWq6"
      },
      "source": [
        "prediction = voting_clf.predict(scaler.transform(ga_solution))\n",
        "ga_solution_df['Views'] = int(prediction[0])\n",
        "ga_solution_top = ga_solution_df\n",
        "ga_solution_top"
      ],
      "execution_count": null,
      "outputs": []
    },
    {
      "cell_type": "markdown",
      "metadata": {
        "id": "jeL13KNRYWq7"
      },
      "source": [
        "#**11. 결과 검토 및 분석: Top YouTuber**"
      ]
    },
    {
      "cell_type": "code",
      "metadata": {
        "id": "FeGYOm-8YWq7"
      },
      "source": [
        "df_rgb2.describe()"
      ],
      "execution_count": null,
      "outputs": []
    },
    {
      "cell_type": "code",
      "metadata": {
        "id": "6VgnvguuYWq7"
      },
      "source": [
        "inf_input = copy.deepcopy(model_ga_top)\n",
        "\n",
        "comment_count_dep_top = []\n",
        "\n",
        "for i in tqdm.tqdm(range(df_rgb2['comment_count'].min(), df_rgb2['comment_count'].max(), 1000)):    \n",
        "    inf_input.output_dict['variable'][2] = i\n",
        "    input_converted = input_conversion(inf_input.output_dict['variable'])\n",
        "    input_converted = np.array(input_converted).reshape(1, -1)\n",
        "\n",
        "    input_scaled = scaler.transform(input_converted)\n",
        "    prediction = voting_clf.predict(input_scaled)    \n",
        "    comment_count_dep_top.append([i, int(prediction)])"
      ],
      "execution_count": null,
      "outputs": []
    },
    {
      "cell_type": "code",
      "metadata": {
        "id": "DWUC9FXnYWq8"
      },
      "source": [
        "comment_count_dep_top_df = pd.DataFrame(comment_count_dep_top, columns=['comment_count', 'views'])\n",
        "\n",
        "plt.title('Comment count dependency for general YouTuber')\n",
        "plt.xlabel('Comment count')\n",
        "plt.ylabel('Views')\n",
        "plt.grid()\n",
        "plt.plot(comment_count_dep_top_df['comment_count'], comment_count_dep_top_df['views'])"
      ],
      "execution_count": null,
      "outputs": []
    },
    {
      "cell_type": "code",
      "metadata": {
        "id": "rL_TkBbvYWq8"
      },
      "source": [
        "\"inf_input = copy.deepcopy(model_ga_top)\n",
        "\n",
        "positive_ratio_dep_top = []\n",
        "\n",
        "total_sign = inf_input.output_dict['variable'][0] + inf_input.output_dict['variable'][1]\n",
        "calculation_plot = 500\n",
        "step = total_sign / calculation_plot\n",
        "\n",
        "for i in tqdm.tqdm(np.arange(1, total_sign, step)):    \n",
        "    inf_input.output_dict['variable'][0] = int(i)\n",
        "    inf_input.output_dict['variable'][1] = total_sign - int(i)\n",
        "    ratio = inf_input.output_dict['variable'][0] / inf_input.output_dict['variable'][1]\n",
        "\n",
        "    input_converted = input_conversion(inf_input.output_dict['variable'])\n",
        "    input_converted = np.array(input_converted).reshape(1, -1)\n",
        "\n",
        "    input_scaled = scaler.transform(input_converted)\n",
        "    prediction = voting_clf.predict(input_scaled)   \n",
        "    positive_ratio_dep_top.append([ratio, int(prediction)])"
      ],
      "execution_count": null,
      "outputs": []
    },
    {
      "cell_type": "code",
      "metadata": {
        "id": "bGokQUueYWq8"
      },
      "source": [
        "positive_ratio_dep_top_df = pd.DataFrame(positive_ratio_dep_top, columns=['positive_ratio', 'views'])\n",
        "\n",
        "plt.title('Positive ratio dependency for top YouTuber')\n",
        "plt.xlabel('Positive ratio')\n",
        "plt.ylabel('Views')\n",
        "plt.xscale('log')\n",
        "plt.grid()\n",
        "plt.bar(positive_ratio_dep_top_df['positive_ratio'], positive_ratio_dep_top_df['views'])"
      ],
      "execution_count": null,
      "outputs": []
    },
    {
      "cell_type": "code",
      "metadata": {
        "id": "hYi2fjN8YWq9"
      },
      "source": [
        "inf_input = copy.deepcopy(model_ga_top)\n",
        "\n",
        "number_of_tag_dep_top = []\n",
        "\n",
        "for i in tqdm.tqdm(range(df_rgb2['number_of_tag'].min(), df_rgb2['number_of_tag'].max())):    \n",
        "    inf_input.output_dict['variable'][4] = i\n",
        "    input_converted = input_conversion(inf_input.output_dict['variable'])\n",
        "    input_converted = np.array(input_converted).reshape(1, -1)\n",
        "\n",
        "    input_scaled = scaler.transform(input_converted)\n",
        "    prediction = voting_clf.predict(input_scaled)   \n",
        "    number_of_tag_dep_top.append([i, int(prediction)])"
      ],
      "execution_count": null,
      "outputs": []
    },
    {
      "cell_type": "code",
      "metadata": {
        "id": "-QZfXwC0YWq9"
      },
      "source": [
        "number_of_tag_dep_top_df = pd.DataFrame(number_of_tag_dep_top, columns=['number_of_tag', 'views'])\n",
        "\n",
        "plt.title('Number of tag dependency for top YouTuber')\n",
        "plt.xlabel('The number of tag')\n",
        "plt.ylabel('Views')\n",
        "plt.grid()\n",
        "plt.bar(number_of_tag_dep_top_df['number_of_tag'], number_of_tag_dep_top_df['views'])"
      ],
      "execution_count": null,
      "outputs": []
    },
    {
      "cell_type": "code",
      "metadata": {
        "id": "J3sVVN9yYWq9"
      },
      "source": [
        "inf_input = copy.deepcopy(model_ga_top)\n",
        "\n",
        "random_image_dep_top = []\n",
        "\n",
        "for i in tqdm.tqdm(range(2000)):    \n",
        "    inf_input.output_dict['variable'][7] = randint(df_rgb2['r_avg'].min(), df_rgb2['r_avg'].max())\n",
        "    inf_input.output_dict['variable'][8] = randint(df_rgb2['g_avg'].min(), df_rgb2['g_avg'].max())\n",
        "    inf_input.output_dict['variable'][9] = randint(df_rgb2['b_avg'].min(), df_rgb2['b_avg'].max())\n",
        "    input_converted = input_conversion(inf_input.output_dict['variable'])\n",
        "    input_converted = np.array(input_converted).reshape(1, -1)\n",
        "\n",
        "    input_scaled = scaler.transform(input_converted)\n",
        "    prediction = voting_clf.predict(input_scaled)    \n",
        "    random_image_dep_top.append([i, int(prediction)])"
      ],
      "execution_count": null,
      "outputs": []
    },
    {
      "cell_type": "code",
      "metadata": {
        "id": "F29F_n0jYWq9"
      },
      "source": [
        "random_image_dep_top_df = pd.DataFrame(random_image_dep_top, columns=['Random_image', 'Views'])\n",
        "\n",
        "plt.grid()\n",
        "plt.title('Thumbnail image dependency')\n",
        "plt.plot(random_image_dep_top_df['Random_image'], random_image_dep_top_df['Views'])"
      ],
      "execution_count": null,
      "outputs": []
    },
    {
      "cell_type": "code",
      "metadata": {
        "id": "XSj1lsSFYWq9"
      },
      "source": [
        "plt.grid()\n",
        "plt.title('Views distribution for randomized thumbnail images')\n",
        "plt.xlabel('Views')\n",
        "plt.ylabel('Counts')\n",
        "plt.hist(random_image_dep_top_df['Views'], bins=96)\n",
        "\n",
        "print('Average views:', random_image_dep_top_df['Views'].mean())\n",
        "print('Median views:', random_image_dep_top_df['Views'].median())\n",
        "print('Standard deviation of views [count]:', random_image_dep_top_df['Views'].std())\n",
        "print('Standard deviation of views     [%]:', random_image_dep_top_df['Views'].std()*100 / random_image_dep_top_df['Views'].mean())"
      ],
      "execution_count": null,
      "outputs": []
    },
    {
      "cell_type": "code",
      "metadata": {
        "id": "vC7FjWj9YWq9"
      },
      "source": [
        "inf_input = copy.deepcopy(model_ga_top)\n",
        "\n",
        "channel_title_dep_top = []\n",
        "\n",
        "for i in tqdm.tqdm(range(len(mean_encode_channel))):\n",
        "    inf_input.output_dict['variable'][10] = i \n",
        "    \n",
        "    input_converted = input_conversion(inf_input.output_dict['variable'])\n",
        "    input_converted = np.array(input_converted).reshape(1, -1)\n",
        "\n",
        "    input_scaled = scaler.transform(input_converted)\n",
        "    prediction = voting_clf.predict(input_scaled)    \n",
        "    channel_title_dep_top.append([mean_encode_channel.index[i], int(prediction)])"
      ],
      "execution_count": null,
      "outputs": []
    },
    {
      "cell_type": "code",
      "metadata": {
        "id": "KnqcdA2pYWq9"
      },
      "source": [
        "channel_title_dep_top_df = pd.DataFrame(channel_title_dep_top, columns=['channel_title', 'views'])\n",
        "\n",
        "plt.title('Channel dependency for top YouTuber')\n",
        "plt.xlabel('Channel name')\n",
        "plt.ylabel('Views')\n",
        "plt.yscale('log')\n",
        "plt.grid()\n",
        "plt.bar(range(len(channel_title_dep_top_df['channel_title'])), channel_title_dep_top_df['views'])"
      ],
      "execution_count": null,
      "outputs": []
    },
    {
      "cell_type": "code",
      "metadata": {
        "id": "ScwPeSdSYWq9"
      },
      "source": [
        "channel_title_dep_top_df.sort_values(by='views', ascending=False).head(10)"
      ],
      "execution_count": null,
      "outputs": []
    },
    {
      "cell_type": "code",
      "metadata": {
        "id": "1olyLORqYWq-"
      },
      "source": [
        "plt.grid()\n",
        "plt.title('Views distribution for different channels')\n",
        "plt.xlabel('Views')\n",
        "plt.ylabel('Counts')\n",
        "plt.yscale('log')\n",
        "plt.hist(channel_title_dep_top_df['views'], bins=96)\n",
        "\n",
        "print('Average views:', channel_title_dep_top_df['views'].mean())\n",
        "print('Median views:', channel_title_dep_top_df['views'].median())\n",
        "print('Standard deviation of views [count]:', channel_title_dep_top_df['views'].std())\n",
        "print('Standard deviation of views     [%]:', channel_title_dep_top_df['views'].std()*100 / channel_title_dep_top_df['views'].mean())"
      ],
      "execution_count": null,
      "outputs": []
    },
    {
      "cell_type": "code",
      "metadata": {
        "id": "OqkkUjJEAz48"
      },
      "source": [
        "df_rgb2.sort_values(by='views', ascending=False).head(10)"
      ],
      "execution_count": null,
      "outputs": []
    },
    {
      "cell_type": "code",
      "metadata": {
        "id": "AqGhuqB7VJY2"
      },
      "source": [
        " "
      ],
      "execution_count": null,
      "outputs": []
    }
  ]
}