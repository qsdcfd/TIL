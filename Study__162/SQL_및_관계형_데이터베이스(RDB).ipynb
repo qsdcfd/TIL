{
  "nbformat": 4,
  "nbformat_minor": 0,
  "metadata": {
    "colab": {
      "name": "SQL 및 관계형 데이터베이스(RDB)",
      "provenance": [],
      "authorship_tag": "ABX9TyOZ4ge8bwebM9bD3ya0UyO0"
    },
    "kernelspec": {
      "name": "python3",
      "display_name": "Python 3"
    },
    "language_info": {
      "name": "python"
    }
  },
  "cells": [
    {
      "cell_type": "markdown",
      "source": [
        "#### 핵심키워드\n",
        "\n",
        "SQL\n",
        "관계형 데이터베이스\n",
        "\n",
        "---\n",
        "\n",
        "### SQL(Structured Query Language)\n",
        "\n",
        "\n",
        "\n",
        "- 관계형 데이터베이스가 이해할 수 있는 구조화된 질의어(SQL)를 학습합니다.\n",
        "\n",
        "\n",
        "\n",
        "![](https://images.velog.io/images/qsdcfd/post/39dd964c-526a-4d87-a5f3-71f4207e74eb/image.png)\n",
        "\n",
        "\n",
        "<br>\n",
        "\n",
        "- 관계형 테이블 간의 관계를 학습합니다.\n",
        "\n",
        "- 관계형 테이블은 관계형 데이터베이스에 저장되는 데이터의 집합으로 행과 열로 구성되어있습니다.\n",
        "\n",
        "- 관계는 1:1, 1:N, N:N세가지 형태로 테이블간의 연결이 가능하다는 것입니다.\n",
        "\n",
        "![](https://images.velog.io/images/qsdcfd/post/64a57c46-973f-4d75-8291-49d29b26b598/image.png)\n",
        "\n",
        "<br>\n",
        "\n",
        "- 데이터가 관계형 데이터베이스에 저장되고, SQL로 데이터 분석을 수행하는 흐름을 학습합니다\n",
        "\n",
        "*관계형 데이터베이스는 행과 열로 구성된 테이블이 다른 테이블과 관계를 맺게 되어 모여있는 집합체*\n",
        "\n",
        "![](https://images.velog.io/images/qsdcfd/post/5771ec5b-6e7d-469c-bbcc-1e67d6689964/image.png)"
      ],
      "metadata": {
        "id": "ZmXMYp2kBZid"
      }
    },
    {
      "cell_type": "code",
      "source": [
        ""
      ],
      "metadata": {
        "id": "txDoQKvEBbH9"
      },
      "execution_count": null,
      "outputs": []
    }
  ]
}