{
  "nbformat": 4,
  "nbformat_minor": 0,
  "metadata": {
    "colab": {
      "name": "배열(1)",
      "provenance": [],
      "authorship_tag": "ABX9TyMMPBchRdyoy/cznxfU+dIT"
    },
    "kernelspec": {
      "name": "python3",
      "display_name": "Python 3"
    },
    "language_info": {
      "name": "python"
    }
  },
  "cells": [
    {
      "cell_type": "markdown",
      "source": [
        "### 메모리\n",
        "\n",
        "C에는 아래와 같은 여러 자료형이 있고, 각각의 자료형은 서로 다른 크기의 메모리를 차지합니다.\n",
        "\n",
        "bool: 불리언, 1바이트\n",
        "char: 문자, 1바이트\n",
        "int: 정수, 4바이트\n",
        "float: 실수, 4바이트\n",
        "long: (더 큰) 정수, 8바이트\n",
        "double: (더 큰) 실수, 8바이트\n",
        "string: 문자열, ?바이트\n",
        "\n",
        "\n",
        "컴퓨터 안에는 아래 사진과 같은 RAM 이라고 하는 물리적 칩이 메모리 역할을 합니다.\n",
        "\n",
        "쉽게 생각하면 아래 사진에서 여러 개의 노란색 사각형이 메모리를 의미하고, 작은 사각형 하나가 1바이트를 의미한다고 볼 수 있습니다.\n",
        "\n",
        "\n",
        "\n",
        "\n",
        "\n",
        "예를 들어 char 타입의 변수를 하나 생성하고, 그 값을 입력한다고 하면 위 사진에서 한 사각형 안에 그 변수의 값이 저장되는 것이죠.\n",
        "\n",
        "\n",
        "<br>\n",
        "\n",
        "### 배열\n",
        "\n",
        "아래와 같이 세 개의 점수를 저장하고 그 평균을 출력하는 프로그램이 있습니다.\n",
        "\n",
        "```\n",
        "#include <cs50.h>\n",
        "#include <stdio.h>\n",
        "\n",
        "int main(void)\n",
        "{\n",
        "    // Scores\n",
        "    int score1 = 72;\n",
        "    int score2 = 73;\n",
        "    int score3 = 33;\n",
        "\n",
        "    // Print average\n",
        "    printf(\"Average: %i\\n\", (score1 + score2 + score3) / 3);\n",
        "}\n",
        "```\n",
        "\n",
        "만약 점수의 개수가 더 많아진다면 이 프로그램은 많은 부분을 수정해줘야 합니다.\n",
        "\n",
        "이 때 활용할 수 있는 것이 배열의 개념입니다.\n",
        "\n",
        "배열은 같은 자료형의 데이터를 메모리상에 연이어서 저장하고 이를 하나의 변수로 관리하기 위해 사용됩니다.\n",
        "\n",
        "위 코드는 배열을 이용하면 아래와 같이 바꿀 수 있습니다.\n",
        "\n",
        " \n",
        "\n",
        "```\n",
        "#include <cs50.h>\n",
        "#include <stdio.h>\n",
        "\n",
        "int main(void)\n",
        "{\n",
        "    // Scores\n",
        "    int scores[3];\n",
        "    scores[0] = 72;\n",
        "    scores[1] = 73;\n",
        "    scores[2] = 33;\n",
        "\n",
        "    // Print average\n",
        "    printf(\"Average: %i\\n\", (scores[0] + scores[1] + scores[2]) / 3);\n",
        "}\n",
        "```\n",
        "\n",
        "\n",
        "int scores[3]; 이라는 코드는 int 자료형을 가지는 크기 3의 배열을 scores 라는 이름으로 생성하겠다는 의미입니다.\n",
        "\n",
        "배열의 인덱스는 0부터 시작하기 때문에, scores의 인덱스는 0, 1, 2 세 개가 있습니다.\n",
        "\n",
        "이 인덱스를 변수명 뒤 대괄호 [ ] 사이에 입력하여 배열의 원하는 위치에 원하는 값을 저장하고 불러올 수 있습니다.\n",
        "\n",
        "하지만 위와 같은 코드는 여전히 점수의 개수가 바뀌는 상황에서 제약이 많습니다."
      ],
      "metadata": {
        "id": "PBGXXuI-6Aqk"
      }
    },
    {
      "cell_type": "code",
      "source": [
        ""
      ],
      "metadata": {
        "id": "hGdPPILe6A-f"
      },
      "execution_count": null,
      "outputs": []
    }
  ]
}