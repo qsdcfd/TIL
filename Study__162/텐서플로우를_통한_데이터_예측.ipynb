{
  "nbformat": 4,
  "nbformat_minor": 0,
  "metadata": {
    "colab": {
      "name": "텐서플로우를 통한 데이터 예측",
      "provenance": [],
      "authorship_tag": "ABX9TyO9y2mtghFpYQWCBQnBWq0f"
    },
    "kernelspec": {
      "name": "python3",
      "display_name": "Python 3"
    },
    "language_info": {
      "name": "python"
    }
  },
  "cells": [
    {
      "cell_type": "markdown",
      "source": [
        "#### 학습 목표\n",
        "\n",
        "인공지능, 머신러닝, 딥러닝의 차이와 머신러닝과 딥러닝의 학습과정에 대해 알아보기\n",
        "\n",
        "<br>\n",
        "\n",
        "#### 핵심 키워드\n",
        "\n",
        "인공지능, 머신러닝, 딥러닝\n",
        "\n",
        "지도학습, 비지도 학습\n",
        "\n",
        "분류와 회귀\n",
        "\n",
        "지도학습의 학습과 예측 과정\n",
        "\n",
        "\n",
        "---\n",
        "\n",
        "#### Point\n",
        "\n",
        "![](https://images.velog.io/images/qsdcfd/post/286cbeb8-0608-4629-9724-89eba2351094/image.png)\n",
        "\n",
        "인공지능에는 머신러닝과 딥러닝이 하위개념으로 있습니다. 인공지능이라는 기술은 어느 날 갑자기 등장한 개념이 아니라 이미 1950년대부터 등장했던 개념입니다.\n",
        "\n",
        "머신러닝을 통해 우리는 스팸메일인지 아닌지를 구분한다든지 딥러닝을 통해 고양이인지 강아지인지 이미지를 학습해서 분류를 해볼 수도 있습니다. \n",
        "\n",
        "\n",
        "![](https://images.velog.io/images/qsdcfd/post/e30b0a6a-1846-482c-83fe-a7490920321c/image.png)\n",
        "\n",
        "\n",
        "머신러닝은 지도학습, 비지도학습, 강화학습으로 구분할 수 있고, 지도학습과 비지도학습을 나누는 기준은 정답값이 있는지 없는지에 대한 여부에 따라 학습을 구분하게 됩니다. \n",
        "\n",
        "![](https://images.velog.io/images/qsdcfd/post/780fd972-3378-49bc-a36b-9aad0f8a0478/image.png)\n",
        "\n",
        "또, 지도학습에는 분류와 회귀라는 개념이 존재하게 됩니다.\n",
        "\n",
        "\n",
        "![](https://images.velog.io/images/qsdcfd/post/bb96df9a-73b4-40d7-adc7-e1175f3ddf3c/image.png)\n",
        "\n",
        "분류는 범주형 데이터를 나눌 때 사용하며 회귀는 연속된 수치데이터를 예측할 때 사용합니다.\n",
        "\n",
        "*그림으로 보는 지도학습\n",
        "\n",
        "![](https://images.velog.io/images/qsdcfd/post/3a5a5761-8f08-4381-8023-cf214122c88a/image.png)\n",
        "\n",
        "\n",
        "\n",
        "이전 수업까지 분석했던 자동차 연비 데이터셋을 통해 자동차의 연비를 예측해 볼 예정입니다.\n",
        "\n",
        "자동차의 연비는 연속된 수치데이터 이기 때문에 회귀로 예측해 볼 수 있습니다.\n",
        "\n",
        "만약 데이터셋의 origin 값을 예측한다면 분류로 예측해 볼 수 있을 것입니다.\n"
      ],
      "metadata": {
        "id": "oFU6bxRfwsOw"
      }
    },
    {
      "cell_type": "code",
      "source": [
        ""
      ],
      "metadata": {
        "id": "G_Feic4uwvM3"
      },
      "execution_count": null,
      "outputs": []
    }
  ]
}