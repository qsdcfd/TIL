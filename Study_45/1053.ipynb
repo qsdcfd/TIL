{
 "cells": [
  {
   "cell_type": "code",
   "execution_count": null,
   "id": "broken-collaboration",
   "metadata": {},
   "outputs": [],
   "source": [
    "from itertools import combinations\n",
    "\n",
    "\n",
    "def swap_char(a, b, st):\n",
    "    c = st[b]\n",
    "    st = st[:b] + st[a] + st[b+1:]\n",
    "    st = st[:a] + c + st[a+1:]\n",
    "    return st\n",
    "\n",
    "\n",
    "def factory(start_idx, end_idx, string):\n",
    "    if cache[start_idx][end_idx] != -1:\n",
    "        return cache[start_idx][end_idx]\n",
    "\n",
    "    while start_idx < end_idx:\n",
    "        if string[start_idx] == string[end_idx]:\n",
    "            start_idx += 1\n",
    "            end_idx -= 1\n",
    "        else:\n",
    "            break\n",
    "\n",
    "    if start_idx >= end_idx:\n",
    "        return 0\n",
    "\n",
    "    ret = 1000000000\n",
    "    ret = min(\n",
    "        ret,\n",
    "        factory(start_idx + 1, end_idx, string) + 1,\n",
    "        factory(start_idx, end_idx - 1, string) + 1,\n",
    "        factory(start_idx + 1, end_idx - 1, string) + 1\n",
    "    )\n",
    "    cache[start_idx][end_idx] = ret\n",
    "    return ret\n",
    "\n",
    "\n",
    "S = input()\n",
    "s_len = len(S)\n",
    "change_two = list(combinations([i for i in range(s_len)], 2))\n",
    "answer = 1000000000\n",
    "cache = [[-1]*51 for _ in range(51)]\n",
    "answer = min(answer, factory(0, s_len-1, S))\n",
    "for com in change_two:\n",
    "    cache = [[-1] * 51 for _ in range(51)]\n",
    "    s = swap_char(com[0], com[1], S)\n",
    "    answer = min(answer, factory(0, s_len-1, s) + 1)\n",
    "print(answer)"
   ]
  }
 ],
 "metadata": {
  "kernelspec": {
   "display_name": "Python 3",
   "language": "python",
   "name": "python3"
  },
  "language_info": {
   "codemirror_mode": {
    "name": "ipython",
    "version": 3
   },
   "file_extension": ".py",
   "mimetype": "text/x-python",
   "name": "python",
   "nbconvert_exporter": "python",
   "pygments_lexer": "ipython3",
   "version": "3.7.9"
  }
 },
 "nbformat": 4,
 "nbformat_minor": 5
}
