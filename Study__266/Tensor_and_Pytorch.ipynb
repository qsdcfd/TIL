{
  "nbformat": 4,
  "nbformat_minor": 0,
  "metadata": {
    "colab": {
      "name": "Tensor and Pytorch",
      "provenance": [],
      "authorship_tag": "ABX9TyMXl/1FwqxXViNCQOZs1uHE"
    },
    "kernelspec": {
      "name": "python3",
      "display_name": "Python 3"
    },
    "language_info": {
      "name": "python"
    },
    "accelerator": "GPU"
  },
  "cells": [
    {
      "cell_type": "markdown",
      "source": [
        "파이토치 공식 문서 :https://tutorials.pytorch.kr/beginner/deep_learning_60min_blitz.html"
      ],
      "metadata": {
        "id": "ENx4HGn3fy12"
      }
    },
    {
      "cell_type": "code",
      "execution_count": 2,
      "metadata": {
        "id": "2VWe6H0eeSYR"
      },
      "outputs": [],
      "source": [
        "import torch"
      ]
    },
    {
      "cell_type": "markdown",
      "source": [
        "### Tensor란? Tensor 만들기\n",
        "\n",
        "- Tensors : Multidimensional arrays"
      ],
      "metadata": {
        "id": "MH2EB3rsf4rb"
      }
    },
    {
      "cell_type": "code",
      "source": [
        "# Create a torch.Tensor object with the given data.  It is a 1D vector\n",
        "V_data = [1., 2., 3.]\n",
        "V = torch.Tensor(V_data)\n",
        "print(V)\n",
        "\n",
        "# Creates a matrix\n",
        "M_data = [[1., 2., 3.], [4., 5., 6]]\n",
        "M = torch.Tensor(M_data)\n",
        "print(M)\n",
        "\n",
        "# Create a 3D tensor of size 2x2x2.\n",
        "T_data = [[[1.,2.], [3.,4.]],\n",
        "          [[5.,6.], [7.,8.]]]\n",
        "T = torch.Tensor(T_data)\n",
        "print(T)"
      ],
      "metadata": {
        "colab": {
          "base_uri": "https://localhost:8080/"
        },
        "id": "EmS_WskPfsWj",
        "outputId": "d8b62915-4f05-4ec3-da3d-baaa4711af07"
      },
      "execution_count": 3,
      "outputs": [
        {
          "output_type": "stream",
          "name": "stdout",
          "text": [
            "tensor([1., 2., 3.])\n",
            "tensor([[1., 2., 3.],\n",
            "        [4., 5., 6.]])\n",
            "tensor([[[1., 2.],\n",
            "         [3., 4.]],\n",
            "\n",
            "        [[5., 6.],\n",
            "         [7., 8.]]])\n"
          ]
        }
      ]
    },
    {
      "cell_type": "code",
      "source": [
        "\n",
        "# torch.ones: tensor를 size에 맞게 1로 채운다\n",
        "a = torch.ones(3)\n",
        "print(a)\n",
        "\n",
        "b = torch.ones(2, 3)\n",
        "print(b)"
      ],
      "metadata": {
        "colab": {
          "base_uri": "https://localhost:8080/"
        },
        "id": "VvhRhqKXgHeS",
        "outputId": "d3a79ebc-df6d-48cc-c5a1-6927796b8494"
      },
      "execution_count": 4,
      "outputs": [
        {
          "output_type": "stream",
          "name": "stdout",
          "text": [
            "tensor([1., 1., 1.])\n",
            "tensor([[1., 1., 1.],\n",
            "        [1., 1., 1.]])\n"
          ]
        }
      ]
    },
    {
      "cell_type": "code",
      "source": [
        "# torch.zeros: tensor를 size에 맞게 0으로 채운다\n",
        "c = torch.zeros(4)\n",
        "print(c)\n",
        "\n",
        "d = torch.zeros(5, 2, 3)\n",
        "print(d)"
      ],
      "metadata": {
        "colab": {
          "base_uri": "https://localhost:8080/"
        },
        "id": "upLsrD1mgL_b",
        "outputId": "945886a0-c19e-4042-f8cc-30da67a94389"
      },
      "execution_count": 5,
      "outputs": [
        {
          "output_type": "stream",
          "name": "stdout",
          "text": [
            "tensor([0., 0., 0., 0.])\n",
            "tensor([[[0., 0., 0.],\n",
            "         [0., 0., 0.]],\n",
            "\n",
            "        [[0., 0., 0.],\n",
            "         [0., 0., 0.]],\n",
            "\n",
            "        [[0., 0., 0.],\n",
            "         [0., 0., 0.]],\n",
            "\n",
            "        [[0., 0., 0.],\n",
            "         [0., 0., 0.]],\n",
            "\n",
            "        [[0., 0., 0.],\n",
            "         [0., 0., 0.]]])\n"
          ]
        }
      ]
    },
    {
      "cell_type": "code",
      "source": [
        "# 초기화하면서 현재 메모리에 존재하는 값\n",
        "x = torch.empty(5, 3)\n",
        "print(x)\n",
        "\n",
        "x = torch.rand(5, 3)\n",
        "print(x)"
      ],
      "metadata": {
        "colab": {
          "base_uri": "https://localhost:8080/"
        },
        "id": "LpFb8cfMgOmZ",
        "outputId": "b007a0c7-339a-4c6f-967c-4d666756ca58"
      },
      "execution_count": 6,
      "outputs": [
        {
          "output_type": "stream",
          "name": "stdout",
          "text": [
            "tensor([[2.6403e-35, 0.0000e+00, 3.3631e-44],\n",
            "        [0.0000e+00,        nan, 0.0000e+00],\n",
            "        [1.1578e+27, 1.1362e+30, 7.1547e+22],\n",
            "        [4.5828e+30, 1.2121e+04, 7.1846e+22],\n",
            "        [9.2198e-39, 7.0374e+22, 0.0000e+00]])\n",
            "tensor([[0.0553, 0.6250, 0.9012],\n",
            "        [0.2521, 0.7834, 0.2456],\n",
            "        [0.4118, 0.8489, 0.0145],\n",
            "        [0.0555, 0.8740, 0.1224],\n",
            "        [0.4602, 0.8708, 0.4412]])\n"
          ]
        }
      ]
    },
    {
      "cell_type": "code",
      "source": [
        "# torch.rand: 랜덤 숫자로 tensor를 채운다\n",
        "rand_points = torch.rand(4, dtype=torch.double)\n",
        "print(rand_points)\n",
        "\n",
        "rand_points_2 = torch.rand(2, 3, dtype=torch.float)\n",
        "print(rand_points_2)"
      ],
      "metadata": {
        "colab": {
          "base_uri": "https://localhost:8080/"
        },
        "id": "jpwm5FKfgQ0e",
        "outputId": "d81d1dd7-d7b4-45a6-a18e-5d08cd52e601"
      },
      "execution_count": 7,
      "outputs": [
        {
          "output_type": "stream",
          "name": "stdout",
          "text": [
            "tensor([0.9012, 0.5818, 0.3938, 0.2227], dtype=torch.float64)\n",
            "tensor([[0.7220, 0.5081, 0.0642],\n",
            "        [0.5877, 0.9728, 0.5508]])\n"
          ]
        }
      ]
    },
    {
      "cell_type": "code",
      "source": [
        " #행렬 사이즈\n",
        "print(rand_points_2.size())"
      ],
      "metadata": {
        "colab": {
          "base_uri": "https://localhost:8080/"
        },
        "id": "e0_Srz-MgT_a",
        "outputId": "b480f6e8-b78d-426d-ded2-fcb57fae4e2e"
      },
      "execution_count": 8,
      "outputs": [
        {
          "output_type": "stream",
          "name": "stdout",
          "text": [
            "torch.Size([2, 3])\n"
          ]
        }
      ]
    },
    {
      "cell_type": "code",
      "source": [
        ""
      ],
      "metadata": {
        "id": "fIfm8UdagWcp"
      },
      "execution_count": 8,
      "outputs": []
    },
    {
      "cell_type": "markdown",
      "source": [
        "### indexing Tensors"
      ],
      "metadata": {
        "id": "l_TewJl6gaD9"
      }
    },
    {
      "cell_type": "code",
      "source": [
        "temp = torch.Tensor([0, 1, 2, 3, 4, 5, 6, 7])\n",
        "\n",
        "print(temp[:]) # tensor element 전체\n",
        "print(temp[1:4]) # index 1과 4 사이의 원소들 출력\n",
        "print(temp[1:]) # index 1부터의 원소들 출력\n",
        "print(temp[:4]) # index 4까지의 원소들 출력\n",
        "print(temp[-1]) # 뒤에서 첫번째 원소 출력\n",
        "print(temp[:-1]) # index -1 = 뒤에서부터 index 1에 해당하는 원소까지만 출력\n",
        "print(temp[1:6:2]) # index 1과 6 사이의 원소 출력, 이때 2개 단위로 건너뛰면서"
      ],
      "metadata": {
        "colab": {
          "base_uri": "https://localhost:8080/"
        },
        "id": "H9yRIN5Sgboi",
        "outputId": "031737f6-cdb9-4535-bf95-3d83fef64f8c"
      },
      "execution_count": 9,
      "outputs": [
        {
          "output_type": "stream",
          "name": "stdout",
          "text": [
            "tensor([0., 1., 2., 3., 4., 5., 6., 7.])\n",
            "tensor([1., 2., 3.])\n",
            "tensor([1., 2., 3., 4., 5., 6., 7.])\n",
            "tensor([0., 1., 2., 3.])\n",
            "tensor(7.)\n",
            "tensor([0., 1., 2., 3., 4., 5., 6.])\n",
            "tensor([1., 3., 5.])\n"
          ]
        }
      ]
    },
    {
      "cell_type": "code",
      "source": [
        "temp2 = torch.Tensor([[1, 2, 3], [4, 5, 6]])\n",
        "\n",
        "print(temp2)\n",
        "print(temp2[1:])\n",
        "print(temp2[1:, 1:])\n",
        "print(temp2[1:, 0])"
      ],
      "metadata": {
        "colab": {
          "base_uri": "https://localhost:8080/"
        },
        "id": "qSjq3GhUgitG",
        "outputId": "d008a67f-c383-42f7-e551-e4e46ecc81df"
      },
      "execution_count": 10,
      "outputs": [
        {
          "output_type": "stream",
          "name": "stdout",
          "text": [
            "tensor([[1., 2., 3.],\n",
            "        [4., 5., 6.]])\n",
            "tensor([[4., 5., 6.]])\n",
            "tensor([[5., 6.]])\n",
            "tensor([4.])\n"
          ]
        }
      ]
    },
    {
      "cell_type": "code",
      "source": [
        ""
      ],
      "metadata": {
        "id": "teI8skEVgoiE"
      },
      "execution_count": 10,
      "outputs": []
    },
    {
      "cell_type": "markdown",
      "source": [
        "### Tensor element types\n",
        "\n",
        "add 'dtype' argument to tensor constructors\n",
        "\n",
        "-> specify the data type that will be contained in the tensor\n",
        "\n",
        "dtype을 구성하는 것:\n",
        "\n",
        "- possible values the tensor can hold (int, float, ...)\n",
        "- number of bytes per value (8, 16, 32, ...)\n",
        "\n",
        "예)\n",
        "\n",
        "- torch.float32 (= torch.float): 32-bit floating point\n",
        "\n",
        "- torch.float64 (= torch.double): 64-bit, double-precision floating point\n",
        "\n",
        "- torch.float16 (= torch.half): 16-bit, half-precision floating point\n",
        "\n",
        "- torch.int32 (= torch.int): 32-bit integers\n",
        "\n",
        "- torch.int64 (= torch.long): 64-bit integers\n",
        "\n",
        "torch.bool: Boolean"
      ],
      "metadata": {
        "id": "WGvEyUeegpB0"
      }
    },
    {
      "cell_type": "code",
      "source": [
        "float_points = torch.ones(5, 2, dtype=torch.float32)\n",
        "int_points = torch.zeros(3, dtype=torch.int64)\n",
        "\n",
        "print(float_points)\n",
        "print(int_points)"
      ],
      "metadata": {
        "colab": {
          "base_uri": "https://localhost:8080/"
        },
        "id": "u3dzGPRrgxKH",
        "outputId": "1a08bba2-39f1-425a-a9f4-a3ac1d4f8082"
      },
      "execution_count": 11,
      "outputs": [
        {
          "output_type": "stream",
          "name": "stdout",
          "text": [
            "tensor([[1., 1.],\n",
            "        [1., 1.],\n",
            "        [1., 1.],\n",
            "        [1., 1.],\n",
            "        [1., 1.]])\n",
            "tensor([0, 0, 0])\n"
          ]
        }
      ]
    },
    {
      "cell_type": "code",
      "source": [
        "# default: float\n",
        "default_points = torch.Tensor([2, 2])\n",
        "print(default_points)"
      ],
      "metadata": {
        "colab": {
          "base_uri": "https://localhost:8080/"
        },
        "id": "HByoUD63gyue",
        "outputId": "bbea5fd9-136e-4658-e745-fe5e7df77abf"
      },
      "execution_count": 12,
      "outputs": [
        {
          "output_type": "stream",
          "name": "stdout",
          "text": [
            "tensor([2., 2.])\n"
          ]
        }
      ]
    },
    {
      "cell_type": "code",
      "source": [
        "# find out dtype\n",
        "print(float_points.dtype)\n",
        "print(int_points.dtype)\n",
        "print(default_points.dtype)"
      ],
      "metadata": {
        "colab": {
          "base_uri": "https://localhost:8080/"
        },
        "id": "mIQdEM3igzJb",
        "outputId": "2d28edc2-f92f-4601-c94b-7c1ef920150d"
      },
      "execution_count": 13,
      "outputs": [
        {
          "output_type": "stream",
          "name": "stdout",
          "text": [
            "torch.float32\n",
            "torch.int64\n",
            "torch.float32\n"
          ]
        }
      ]
    },
    {
      "cell_type": "code",
      "source": [
        "# other forms of specifying dtype\n",
        "\n",
        "to_int_1 = float_points.int()\n",
        "print(to_int_1.dtype)\n",
        "\n",
        "# 'to' checks whether the conversion is necessary and if so, does it.\n",
        "to_int_2 = float_points.to(torch.int64)\n",
        "print(to_int_2.dtype)\n",
        "\n",
        "to_float_1 = int_points.float()\n",
        "print(to_float_1.dtype)\n",
        "\n",
        "to_float_2 = int_points.to(dtype=torch.float16)\n",
        "print(to_float_2.dtype)"
      ],
      "metadata": {
        "colab": {
          "base_uri": "https://localhost:8080/"
        },
        "id": "pz_GZAsYgzLz",
        "outputId": "c32106fe-4173-464a-a370-6b95961bd612"
      },
      "execution_count": 14,
      "outputs": [
        {
          "output_type": "stream",
          "name": "stdout",
          "text": [
            "torch.int32\n",
            "torch.int64\n",
            "torch.float32\n",
            "torch.float16\n"
          ]
        }
      ]
    },
    {
      "cell_type": "code",
      "source": [
        ""
      ],
      "metadata": {
        "id": "2pNlyv2YgzOH"
      },
      "execution_count": 14,
      "outputs": []
    },
    {
      "cell_type": "markdown",
      "source": [
        "### The Tensor API\n",
        "\n",
        "tensor와 관련된 대부분의 operation은 torch 모듈에 구현되어 있음\n",
        "\n",
        "예)\n",
        "\n",
        "- math operations: abs, cos, mean, std, norm, equal, max, ...\n",
        "- tensor element-wise sum, concat, ...\n",
        "- random sampling: randn, normal, ...\n",
        "\n",
        "online docs: https://pytorch.org/docs"
      ],
      "metadata": {
        "id": "lPZklMBAg6a_"
      }
    },
    {
      "cell_type": "code",
      "source": [
        ""
      ],
      "metadata": {
        "id": "UJQ3Zf8PgzSd"
      },
      "execution_count": 14,
      "outputs": []
    },
    {
      "cell_type": "markdown",
      "source": [
        "### Tensor Shape and Reshape\n"
      ],
      "metadata": {
        "id": "mE8r05nqg_LC"
      }
    },
    {
      "cell_type": "code",
      "source": [
        "# shape: Returns the size of the tensor\n",
        "\n",
        "a = torch.Tensor([[1, 2, 3], [4, 5, 6]])\n",
        "\n",
        "print(a)\n",
        "print(a.shape)"
      ],
      "metadata": {
        "colab": {
          "base_uri": "https://localhost:8080/"
        },
        "id": "FpXJCnkBgzU7",
        "outputId": "f64156af-fe53-475d-aa69-98b6f5b1a7de"
      },
      "execution_count": 15,
      "outputs": [
        {
          "output_type": "stream",
          "name": "stdout",
          "text": [
            "tensor([[1., 2., 3.],\n",
            "        [4., 5., 6.]])\n",
            "torch.Size([2, 3])\n"
          ]
        }
      ]
    },
    {
      "cell_type": "code",
      "source": [
        "# size()\n",
        "\n",
        "print(a.size())"
      ],
      "metadata": {
        "colab": {
          "base_uri": "https://localhost:8080/"
        },
        "id": "hrfqQwB5gzXo",
        "outputId": "5cd49b6e-4f9d-4a30-9548-8f76f106227d"
      },
      "execution_count": 16,
      "outputs": [
        {
          "output_type": "stream",
          "name": "stdout",
          "text": [
            "torch.Size([2, 3])\n"
          ]
        }
      ]
    },
    {
      "cell_type": "code",
      "source": [
        "# Reshape: 주어진 shape로 original tensor에서 데이터를 가져와서 reshape한다\n",
        "\n",
        "a_reshape = a.reshape(3, 2)\n",
        "print(a_reshape)\n",
        "print(a_reshape.shape)\n",
        "\n",
        "a_reshape_2 = a.reshape(-1, 2) # the size -1 is inferred from other dimensions\n",
        "print(a_reshape_2)\n",
        "print(a_reshape_2.shape)"
      ],
      "metadata": {
        "colab": {
          "base_uri": "https://localhost:8080/"
        },
        "id": "7z9-v-nQhCrW",
        "outputId": "69826efd-1c6d-4704-ee88-1de98db1809d"
      },
      "execution_count": 17,
      "outputs": [
        {
          "output_type": "stream",
          "name": "stdout",
          "text": [
            "tensor([[1., 2.],\n",
            "        [3., 4.],\n",
            "        [5., 6.]])\n",
            "torch.Size([3, 2])\n",
            "tensor([[1., 2.],\n",
            "        [3., 4.],\n",
            "        [5., 6.]])\n",
            "torch.Size([3, 2])\n"
          ]
        }
      ]
    },
    {
      "cell_type": "code",
      "source": [
        "# if shape is not compatible with the current shape:\n",
        "a_no_reshape = a.reshape(4, 2)"
      ],
      "metadata": {
        "colab": {
          "base_uri": "https://localhost:8080/",
          "height": 193
        },
        "id": "Fo0DrpFohCt3",
        "outputId": "ed8a93b8-7826-4c88-867d-3fc86618b801"
      },
      "execution_count": 18,
      "outputs": [
        {
          "output_type": "error",
          "ename": "RuntimeError",
          "evalue": "ignored",
          "traceback": [
            "\u001b[0;31m---------------------------------------------------------------------------\u001b[0m",
            "\u001b[0;31mRuntimeError\u001b[0m                              Traceback (most recent call last)",
            "\u001b[0;32m<ipython-input-18-1e7ad2969007>\u001b[0m in \u001b[0;36m<module>\u001b[0;34m()\u001b[0m\n\u001b[1;32m      1\u001b[0m \u001b[0;31m# if shape is not compatible with the current shape:\u001b[0m\u001b[0;34m\u001b[0m\u001b[0;34m\u001b[0m\u001b[0;34m\u001b[0m\u001b[0m\n\u001b[0;32m----> 2\u001b[0;31m \u001b[0ma_no_reshape\u001b[0m \u001b[0;34m=\u001b[0m \u001b[0ma\u001b[0m\u001b[0;34m.\u001b[0m\u001b[0mreshape\u001b[0m\u001b[0;34m(\u001b[0m\u001b[0;36m4\u001b[0m\u001b[0;34m,\u001b[0m \u001b[0;36m2\u001b[0m\u001b[0;34m)\u001b[0m\u001b[0;34m\u001b[0m\u001b[0;34m\u001b[0m\u001b[0m\n\u001b[0m",
            "\u001b[0;31mRuntimeError\u001b[0m: shape '[4, 2]' is invalid for input of size 6"
          ]
        }
      ]
    },
    {
      "cell_type": "code",
      "source": [
        "# View: Returns a new tensor with the same data as the original tensor but of a different shape.\n",
        "# reshape과 거의 비슷하게 사용\n",
        "\n",
        "x = torch.randn(4, 4)\n",
        "print(x.size())\n",
        "\n",
        "y = x.view(16)\n",
        "print(y.size())\n",
        "\n",
        "z = x.view(-1, 8)  # the size -1 is inferred from other dimensions\n",
        "print(z.size())"
      ],
      "metadata": {
        "colab": {
          "base_uri": "https://localhost:8080/"
        },
        "id": "b40hp--yhCy7",
        "outputId": "ebe4e498-466b-487e-ea17-8935a43b6776"
      },
      "execution_count": 19,
      "outputs": [
        {
          "output_type": "stream",
          "name": "stdout",
          "text": [
            "torch.Size([4, 4])\n",
            "torch.Size([16])\n",
            "torch.Size([2, 8])\n"
          ]
        }
      ]
    },
    {
      "cell_type": "code",
      "source": [
        ""
      ],
      "metadata": {
        "id": "QbsTg82DhC1v"
      },
      "execution_count": null,
      "outputs": []
    },
    {
      "cell_type": "markdown",
      "source": [
        " ### Transpose"
      ],
      "metadata": {
        "id": "vb6RMZIihPyT"
      }
    },
    {
      "cell_type": "code",
      "source": [
        "# torch.t: 가장 간단한 형태의 transpose\n",
        "# Expects input to be <= 2-D tensor and transposes dimensions 0 and 1.\n",
        "# 0-D and 1-D tensors are returned as is. When input is a 2-D tensor this is equivalent to transpose(input, 0, 1).\n",
        "\n",
        "x = torch.randn(1)\n",
        "print(x)\n",
        "print(torch.t(x))\n",
        "\n",
        "y = torch.randn(3)\n",
        "print(y)\n",
        "print(y.t())\n",
        "\n",
        "z = torch.randn(2, 3)\n",
        "print(z)\n",
        "print(torch.t(z))"
      ],
      "metadata": {
        "colab": {
          "base_uri": "https://localhost:8080/"
        },
        "id": "2FBR5Tu2hQy6",
        "outputId": "595452c4-1b68-46b5-eb2c-8f828c693f3a"
      },
      "execution_count": 20,
      "outputs": [
        {
          "output_type": "stream",
          "name": "stdout",
          "text": [
            "tensor([1.3769])\n",
            "tensor([1.3769])\n",
            "tensor([-1.4500, -0.1049, -0.2691])\n",
            "tensor([-1.4500, -0.1049, -0.2691])\n",
            "tensor([[-1.4024,  0.6818, -0.6873],\n",
            "        [ 0.0592, -0.9129, -0.4439]])\n",
            "tensor([[-1.4024,  0.0592],\n",
            "        [ 0.6818, -0.9129],\n",
            "        [-0.6873, -0.4439]])\n"
          ]
        }
      ]
    },
    {
      "cell_type": "code",
      "source": [
        "# torch.transpose\n",
        "# Returns a tensor that is a transposed version of input. The given dimensions dim0 and dim1 are swapped.\n",
        "\n",
        "w = torch.randn(2, 3)\n",
        "print(w)\n",
        "print(torch.transpose(w, 0, 1))"
      ],
      "metadata": {
        "colab": {
          "base_uri": "https://localhost:8080/"
        },
        "id": "46IyZsCMhR2W",
        "outputId": "c6f112e2-8ec8-44a0-ea08-4bfcf8a16ac8"
      },
      "execution_count": 21,
      "outputs": [
        {
          "output_type": "stream",
          "name": "stdout",
          "text": [
            "tensor([[ 1.9033, -0.4341, -0.3996],\n",
            "        [ 0.4800, -1.7923,  0.9714]])\n",
            "tensor([[ 1.9033,  0.4800],\n",
            "        [-0.4341, -1.7923],\n",
            "        [-0.3996,  0.9714]])\n"
          ]
        }
      ]
    },
    {
      "cell_type": "code",
      "source": [
        "# more complex case\n",
        "\n",
        "real_example = torch.randn(64, 128, 768)\n",
        "print(real_example.shape)\n",
        "transposed = torch.transpose(real_example, 1, 2)\n",
        "print(transposed.shape)"
      ],
      "metadata": {
        "colab": {
          "base_uri": "https://localhost:8080/"
        },
        "id": "nlXdgYHZhWju",
        "outputId": "d3b9fcd8-a9ba-4c5a-fa0b-0a2fac409a0d"
      },
      "execution_count": 22,
      "outputs": [
        {
          "output_type": "stream",
          "name": "stdout",
          "text": [
            "torch.Size([64, 128, 768])\n",
            "torch.Size([64, 768, 128])\n"
          ]
        }
      ]
    },
    {
      "cell_type": "code",
      "source": [
        ""
      ],
      "metadata": {
        "id": "o3eWjkl7hX5q"
      },
      "execution_count": 22,
      "outputs": []
    },
    {
      "cell_type": "markdown",
      "source": [
        "### Operations Example"
      ],
      "metadata": {
        "id": "deI3vy7Fha--"
      }
    },
    {
      "cell_type": "code",
      "source": [
        "x = torch.ones(1, 2)\n",
        "print(x)\n",
        "y = torch.ones(5, 3)\n",
        "print(y)"
      ],
      "metadata": {
        "colab": {
          "base_uri": "https://localhost:8080/"
        },
        "id": "VujVMuSohcYN",
        "outputId": "26c6367e-7c25-4fed-d515-b6d6ee480ef8"
      },
      "execution_count": 23,
      "outputs": [
        {
          "output_type": "stream",
          "name": "stdout",
          "text": [
            "tensor([[1., 1.]])\n",
            "tensor([[1., 1., 1.],\n",
            "        [1., 1., 1.],\n",
            "        [1., 1., 1.],\n",
            "        [1., 1., 1.],\n",
            "        [1., 1., 1.]])\n"
          ]
        }
      ]
    },
    {
      "cell_type": "code",
      "source": [
        "print(x+y)"
      ],
      "metadata": {
        "colab": {
          "base_uri": "https://localhost:8080/",
          "height": 174
        },
        "id": "5SPfo7X_hwDP",
        "outputId": "1e05ea5f-022f-4447-9369-2cbf5f097d5e"
      },
      "execution_count": 24,
      "outputs": [
        {
          "output_type": "error",
          "ename": "RuntimeError",
          "evalue": "ignored",
          "traceback": [
            "\u001b[0;31m---------------------------------------------------------------------------\u001b[0m",
            "\u001b[0;31mRuntimeError\u001b[0m                              Traceback (most recent call last)",
            "\u001b[0;32m<ipython-input-24-39cb3db33052>\u001b[0m in \u001b[0;36m<module>\u001b[0;34m()\u001b[0m\n\u001b[0;32m----> 1\u001b[0;31m \u001b[0mprint\u001b[0m\u001b[0;34m(\u001b[0m\u001b[0mx\u001b[0m\u001b[0;34m+\u001b[0m\u001b[0my\u001b[0m\u001b[0;34m)\u001b[0m\u001b[0;34m\u001b[0m\u001b[0;34m\u001b[0m\u001b[0m\n\u001b[0m",
            "\u001b[0;31mRuntimeError\u001b[0m: The size of tensor a (2) must match the size of tensor b (3) at non-singleton dimension 1"
          ]
        }
      ]
    },
    {
      "cell_type": "code",
      "source": [
        "y = torch.ones(5, 2)\n",
        "print(y)\n",
        "\n",
        "# 1.\n",
        "print(x+y)\n",
        "# 2. \n",
        "print(torch.add(x, y))\n",
        "# 3.\n",
        "result = torch.empty(5, 2)\n",
        "torch.add(x, y, out=result)\n",
        "print(result)\n",
        "# 4. inplace\n",
        "print(y.add_(x))"
      ],
      "metadata": {
        "colab": {
          "base_uri": "https://localhost:8080/"
        },
        "id": "Vp1MUiT7hxFB",
        "outputId": "4b586fe4-1f79-4288-fa92-39cc11fc2d82"
      },
      "execution_count": 25,
      "outputs": [
        {
          "output_type": "stream",
          "name": "stdout",
          "text": [
            "tensor([[1., 1.],\n",
            "        [1., 1.],\n",
            "        [1., 1.],\n",
            "        [1., 1.],\n",
            "        [1., 1.]])\n",
            "tensor([[2., 2.],\n",
            "        [2., 2.],\n",
            "        [2., 2.],\n",
            "        [2., 2.],\n",
            "        [2., 2.]])\n",
            "tensor([[2., 2.],\n",
            "        [2., 2.],\n",
            "        [2., 2.],\n",
            "        [2., 2.],\n",
            "        [2., 2.]])\n",
            "tensor([[2., 2.],\n",
            "        [2., 2.],\n",
            "        [2., 2.],\n",
            "        [2., 2.],\n",
            "        [2., 2.]])\n",
            "tensor([[2., 2.],\n",
            "        [2., 2.],\n",
            "        [2., 2.],\n",
            "        [2., 2.],\n",
            "        [2., 2.]])\n"
          ]
        }
      ]
    },
    {
      "cell_type": "markdown",
      "source": [
        "### Additional Information\n",
        "\n",
        "- torch 연산(transpose, indexing, slicing, mathematical operations, linear algebra 등)은 아래 링크에서 추가로 확인 가능\n",
        "\n",
        "- https://pytorch.org/docs/stable/torch.html\n",
        "\n",
        "### Reference: Moving tensors to the GPU\n",
        "\n",
        "if you are using Google Colaboratory, please set the runtime type to GPUs.\n",
        "\n",
        "화면 상단 런타임 >> 런타임 유형 변경 >> 하드웨어 가속기 GPU 선택"
      ],
      "metadata": {
        "id": "9BTzUri4h2Pa"
      }
    },
    {
      "cell_type": "code",
      "source": [
        "torch.cuda.is_available()"
      ],
      "metadata": {
        "colab": {
          "base_uri": "https://localhost:8080/"
        },
        "id": "VpMIMF-UhxHf",
        "outputId": "8981fb68-ccfb-4f6e-e505-ad6ed937f7be"
      },
      "execution_count": 26,
      "outputs": [
        {
          "output_type": "execute_result",
          "data": {
            "text/plain": [
              "True"
            ]
          },
          "metadata": {},
          "execution_count": 26
        }
      ]
    },
    {
      "cell_type": "code",
      "source": [
        "import torch # 런타임 유형을 변경하면 colab 세션이 초기화될 수 있음\n",
        "\n",
        "points_gpu = torch.tensor([[4.0, 1.0], [5.0, 3.0], [2.0, 1.0]], device='cuda')\n",
        "\n",
        "print(points_gpu)"
      ],
      "metadata": {
        "colab": {
          "base_uri": "https://localhost:8080/"
        },
        "id": "IHTsD6qSihIS",
        "outputId": "e1947925-35e0-458a-ae86-93d0d72984c8"
      },
      "execution_count": 27,
      "outputs": [
        {
          "output_type": "stream",
          "name": "stdout",
          "text": [
            "tensor([[4., 1.],\n",
            "        [5., 3.],\n",
            "        [2., 1.]], device='cuda:0')\n"
          ]
        }
      ]
    },
    {
      "cell_type": "code",
      "source": [
        "points = torch.randn(2, 3)\n",
        "points_gpu = points.to(device='cuda')\n",
        "\n",
        "print(points_gpu)"
      ],
      "metadata": {
        "colab": {
          "base_uri": "https://localhost:8080/"
        },
        "id": "OEa4LpsXix7F",
        "outputId": "29b6bcec-9d13-480c-fc10-e25368717fdf"
      },
      "execution_count": 28,
      "outputs": [
        {
          "output_type": "stream",
          "name": "stdout",
          "text": [
            "tensor([[ 0.1976, -0.8639,  0.3614],\n",
            "        [ 1.0143, -0.8257,  1.9005]], device='cuda:0')\n"
          ]
        }
      ]
    },
    {
      "cell_type": "code",
      "source": [
        "points_gpu_0 = points.to(device='cuda:0')\n",
        "print(points_gpu_0)"
      ],
      "metadata": {
        "colab": {
          "base_uri": "https://localhost:8080/"
        },
        "id": "7ksC6vHGiz-N",
        "outputId": "aff4d3a4-49e6-47ed-fec8-566476041310"
      },
      "execution_count": 29,
      "outputs": [
        {
          "output_type": "stream",
          "name": "stdout",
          "text": [
            "tensor([[ 0.1976, -0.8639,  0.3614],\n",
            "        [ 1.0143, -0.8257,  1.9005]], device='cuda:0')\n"
          ]
        }
      ]
    },
    {
      "cell_type": "code",
      "source": [
        "# operations performed on CPU and GPU\n",
        "\n",
        "points = 2 * points   # cpu에서 계산 수행\n",
        "print(points)\n",
        "\n",
        "points_op_gpu = 2 * points.to(device='cuda')  # gpu에서 계산 수행\n",
        "print(points_op_gpu)"
      ],
      "metadata": {
        "colab": {
          "base_uri": "https://localhost:8080/"
        },
        "id": "vSOJyQexi1t6",
        "outputId": "e3287b7a-6e72-4d21-af1f-d7a28fae8880"
      },
      "execution_count": 30,
      "outputs": [
        {
          "output_type": "stream",
          "name": "stdout",
          "text": [
            "tensor([[ 0.3951, -1.7278,  0.7229],\n",
            "        [ 2.0285, -1.6513,  3.8010]])\n",
            "tensor([[ 0.7902, -3.4555,  1.4457],\n",
            "        [ 4.0570, -3.3026,  7.6020]], device='cuda:0')\n"
          ]
        }
      ]
    },
    {
      "cell_type": "code",
      "source": [
        "# move the tensor back to the CPU\n",
        "\n",
        "points_cpu = points_gpu_0.to(device='cpu')\n",
        "print(points_cpu)\n",
        "print(points_cpu.device)"
      ],
      "metadata": {
        "colab": {
          "base_uri": "https://localhost:8080/"
        },
        "id": "oOF4PM3Ii2aK",
        "outputId": "8eaada37-b92b-414c-ee02-14d140ca5d54"
      },
      "execution_count": 31,
      "outputs": [
        {
          "output_type": "stream",
          "name": "stdout",
          "text": [
            "tensor([[ 0.1976, -0.8639,  0.3614],\n",
            "        [ 1.0143, -0.8257,  1.9005]])\n",
            "cpu\n"
          ]
        }
      ]
    },
    {
      "cell_type": "code",
      "source": [
        "# shorter forms\n",
        "points_gpu = points.cuda()\n",
        "print(points_gpu)\n",
        "\n",
        "points_gpu = points.cuda(0)\n",
        "print(points_gpu)\n",
        "\n",
        "points_cpu = points_gpu.cpu()\n",
        "print(points_cpu)"
      ],
      "metadata": {
        "colab": {
          "base_uri": "https://localhost:8080/"
        },
        "id": "1ZuCzr6Hi2cf",
        "outputId": "cd59a823-586c-4e5d-d5db-b211bf006c2e"
      },
      "execution_count": 32,
      "outputs": [
        {
          "output_type": "stream",
          "name": "stdout",
          "text": [
            "tensor([[ 0.3951, -1.7278,  0.7229],\n",
            "        [ 2.0285, -1.6513,  3.8010]], device='cuda:0')\n",
            "tensor([[ 0.3951, -1.7278,  0.7229],\n",
            "        [ 2.0285, -1.6513,  3.8010]], device='cuda:0')\n",
            "tensor([[ 0.3951, -1.7278,  0.7229],\n",
            "        [ 2.0285, -1.6513,  3.8010]])\n"
          ]
        }
      ]
    },
    {
      "cell_type": "code",
      "source": [
        ""
      ],
      "metadata": {
        "id": "XyEO0bqxi2e3"
      },
      "execution_count": null,
      "outputs": []
    },
    {
      "cell_type": "markdown",
      "source": [
        "###  Numpy Interpretability"
      ],
      "metadata": {
        "id": "4zh6aeNIi7CU"
      }
    },
    {
      "cell_type": "code",
      "source": [
        "# tensor to numpy array\n",
        "\n",
        "points = torch.ones(3, 4)\n",
        "points_np = points.numpy()\n",
        "\n",
        "print(points_np)"
      ],
      "metadata": {
        "colab": {
          "base_uri": "https://localhost:8080/"
        },
        "id": "OJbDZ5hFi2h4",
        "outputId": "a65f5e48-70e8-446a-8c5d-d55de07a15b8"
      },
      "execution_count": 34,
      "outputs": [
        {
          "output_type": "stream",
          "name": "stdout",
          "text": [
            "[[1. 1. 1. 1.]\n",
            " [1. 1. 1. 1.]\n",
            " [1. 1. 1. 1.]]\n"
          ]
        }
      ]
    },
    {
      "cell_type": "code",
      "source": [
        "# numpy arrray to tensor\n",
        "\n",
        "points = torch.from_numpy(points_np)\n",
        "\n",
        "print(points)"
      ],
      "metadata": {
        "colab": {
          "base_uri": "https://localhost:8080/"
        },
        "id": "VJqyjlY_i2kH",
        "outputId": "b2fa066e-db81-4247-860b-c49fb4454cd5"
      },
      "execution_count": 35,
      "outputs": [
        {
          "output_type": "stream",
          "name": "stdout",
          "text": [
            "tensor([[1., 1., 1., 1.],\n",
            "        [1., 1., 1., 1.],\n",
            "        [1., 1., 1., 1.]])\n"
          ]
        }
      ]
    },
    {
      "cell_type": "code",
      "source": [
        ""
      ],
      "metadata": {
        "id": "Y2NRhIBZi_c-"
      },
      "execution_count": null,
      "outputs": []
    },
    {
      "cell_type": "markdown",
      "source": [
        "### Save and load tensors"
      ],
      "metadata": {
        "id": "ukOt3727i_xF"
      }
    },
    {
      "cell_type": "code",
      "source": [
        "print(points)\n",
        "\n",
        "torch.save(points, './points_temp.t')"
      ],
      "metadata": {
        "colab": {
          "base_uri": "https://localhost:8080/"
        },
        "id": "OWMkI99vjCIP",
        "outputId": "3a5eb0e7-04e5-472a-d335-dac5ee265342"
      },
      "execution_count": 36,
      "outputs": [
        {
          "output_type": "stream",
          "name": "stdout",
          "text": [
            "tensor([[1., 1., 1., 1.],\n",
            "        [1., 1., 1., 1.],\n",
            "        [1., 1., 1., 1.]])\n"
          ]
        }
      ]
    },
    {
      "cell_type": "code",
      "source": [
        ""
      ],
      "metadata": {
        "id": "kWoi0uOXjDBZ"
      },
      "execution_count": null,
      "outputs": []
    }
  ]
}