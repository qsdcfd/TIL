{
  "nbformat": 4,
  "nbformat_minor": 0,
  "metadata": {
    "colab": {
      "provenance": [],
      "authorship_tag": "ABX9TyOBMqzajvG2G8m4RFF0Niuu"
    },
    "kernelspec": {
      "name": "python3",
      "display_name": "Python 3"
    },
    "language_info": {
      "name": "python"
    }
  },
  "cells": [
    {
      "cell_type": "markdown",
      "source": [
        "# 연산자 오버로딩:제대로하기\n",
        "## 객체지향 상용구\n",
        "### 복합 할당 연산자\n",
        "\n",
        "```\n",
        "#복합 할당이 불변 타깃을 처리할 때는 객체를 생성하고 다시 바인딩한다.\n",
        "v1 = Vector([1,2,3])\n",
        "v1_alias = v1\n",
        "id(v1)\n",
        "v1 += Vector([4,5,6])\n",
        "v1\n",
        "v1_alias\n",
        "v1 *= 11\n",
        "v1\n",
        "id(v1)\n",
        "```\n",
        "\n",
        "클래스가 인플레이스 연사자를 구현하지 않으면, 복합 할당 연산자는 단지 편의 구문으로서, a += b를 정확히 a = a +b와 동일하게 평가하고, 가변형의 경우 이렇게 동작하는 것이 타당하므로, __add__() 메서드가 구현되어 있으며 아무런 코드를 추가하지 않고도 += 연산자가 구동한다.\n",
        "\n",
        "<br>\n",
        "\n",
        "```\n",
        "#AddableBingoCage 객체 사용법\n",
        "\n",
        "vowels = 'AEIOU'\n",
        "globe - AddableBingoCage(vowels)\n",
        "globe.inspect()\n",
        "globe.pick() in vowels\n",
        "len(globe.inspect())\n",
        "globe2 = AddableBingoCage('XYZ')\n",
        "globe3 - globe + globe2\n",
        "```\n",
        "![](https://velog.velcdn.com/images/qsdcfd/post/b580f2a1-4d77-4dc7-a843-93b7a1c2eb11/image.png)\n"
      ],
      "metadata": {
        "id": "C4PUFENApmeF"
      }
    },
    {
      "cell_type": "code",
      "source": [],
      "metadata": {
        "id": "Q-VfhptlpmoQ"
      },
      "execution_count": null,
      "outputs": []
    }
  ]
}