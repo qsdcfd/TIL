{
  "nbformat": 4,
  "nbformat_minor": 0,
  "metadata": {
    "colab": {
      "provenance": [],
      "authorship_tag": "ABX9TyPFUxAKn8N8/FxS8z7l5MvV"
    },
    "kernelspec": {
      "name": "python3",
      "display_name": "Python 3"
    },
    "language_info": {
      "name": "python"
    }
  },
  "cells": [
    {
      "cell_type": "markdown",
      "source": [
        "\n",
        "# 객체로서의 함수\n",
        "## 함수 데커레이터와 클로저\n",
        "### 파이썬이 데커레이터를 실행하는 시점\n",
        "\n",
        "데커레이터의 핵심 특징은 데커레이터된 함수가 정의된 직후에 실행된다는 것으로 일반적으로 파이썬이 모듈을 로딩하는 시점,즉 임포트 타임에 실행된다.\n",
        "\n",
        "```\n",
        "registry = []\n",
        "\n",
        "def register(func):\n",
        "\tprint('running register(%s)' % func)\n",
        "    registry.append(func)\n",
        "    return func\n",
        "    \n",
        "@register\n",
        "def f1():\n",
        "\tprint('running f1()')\n",
        "\n",
        "@register\n",
        "def f2():\n",
        "\tprint('running f2()')\n",
        "    \n",
        "@register\n",
        "def f3():\n",
        "\tprint('running f3()')\n",
        "\n",
        "def main():\n",
        "\tprint('running main()')\n",
        "    print('registry->', registry)\n",
        "    f1()\n",
        "    f2()\n",
        "    f3()\n",
        "    \n",
        "if __name__=='__main__':\n",
        "\tmain()\n",
        "```\n",
        "\n",
        ">register()는 모듈 내의 다른 어떠한 함수보다 먼저 실행 (두 번)되고, register()가 호출될 때 데커레이터된 함수를 인수로 받는다.\n",
        "\n",
        "<br>\n",
        "\n",
        "모듈이 로딩된 후 registry는 데커레이터된 두 개의 함수 f1()과 f2()에 대한 참조를 가진다. 이 두 함수는 main()에 의해 명시적으로 호출될 때만 실행된다.\n",
        "\n",
        "\n",
        "```\n",
        "import registration\n",
        "registration.registry\n",
        "```\n",
        "\n",
        ">함수 데커레이터는 모듈이 임포트되자마자 실행되지만, 데커레이트된 함수는 명시적으로 호출될 때만 실행됨을 알 수 있다."
      ],
      "metadata": {
        "id": "Sko4QiqWpVnY"
      }
    },
    {
      "cell_type": "code",
      "source": [],
      "metadata": {
        "id": "fWcYG6YwpV08"
      },
      "execution_count": null,
      "outputs": []
    }
  ]
}