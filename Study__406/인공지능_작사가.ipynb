{
  "nbformat": 4,
  "nbformat_minor": 0,
  "metadata": {
    "colab": {
      "provenance": [],
      "authorship_tag": "ABX9TyM4pNxg9zl1NGEBulvliAK9"
    },
    "kernelspec": {
      "name": "python3",
      "display_name": "Python 3"
    },
    "language_info": {
      "name": "python"
    },
    "accelerator": "GPU"
  },
  "cells": [
    {
      "cell_type": "markdown",
      "source": [
        "## 순환 신경망을 이용한 문장 생성 예제\n",
        "\n",
        "**Simple RNN, GRU, LSTM 활용**"
      ],
      "metadata": {
        "id": "lJ8yWVOD7pYc"
      }
    },
    {
      "cell_type": "markdown",
      "source": [
        "**진행하시면서 a를 채워넣어 주세요**"
      ],
      "metadata": {
        "id": "sHXYzSAHMYBr"
      }
    },
    {
      "cell_type": "markdown",
      "source": [
        "Simple RNN, GRU, LSTM 각 세 개의 문장 생성 모델을 학습하여 생성된 문장과 validation loss를 확인한다. \n",
        "\n",
        "학습 데이터는 영문으로 작성된 자연어 문장으로, a개의 문장과 a개의 단어로 구성된다.\n",
        "\n",
        "<br>\n",
        "\n",
        "데이터 분석 과정에서 a% 문장이 a개의 단어로 이루어져있으며, 단어는 대체로 a자 이하이며, 그 이상의 단어는 감탄사나 여러 단어가 합쳐진 것을 확인하였다. \n",
        "\n",
        "따라서 전처리 과정에서 a개 이상,a개 이하의 단어로 구성된 문장과 a자 이하의 글자 수로 된 단어만을 추출하였다. \n",
        "\n",
        "<br>\n",
        "\n",
        "토크나이저의 단어 사전은 a개로 설정하였다. Simple RNN, LSTM, GRU 모델 모두 a차원의 임베딩 레이어, a개 유닛의 RNN 레이어, a% 비율의 드롭아웃 레이어, 배치 정규화 레이어 순으로 설계하였다. \n",
        "\n",
        "옵티마이저는 Adam을 사용하였으며, 학습 데이터 a개를 배치사이즈로 설정하고 각 모델 모두 동일하게 적용하였다. \n",
        "\n",
        "<br>\n",
        "\n",
        "각 모델을 학습한 결과 Simple RNN 모델에서는 epoch a에서 validation loss가 a였다.\n",
        "\n",
        "Simple RNN 학습 결과의 특이사항으로는 단어사전에 추가되지 못한 토큰인 <unk>가 생성 문장에 자주 등장하였다. \n",
        "\n",
        "또한, 해당 토큰이 주로 '명사' 자리에 위치하였다. GRU 모델에서는 validation loss가epoch a에서 a였다. \n",
        "\n",
        "GRU 학습 결과의 특이사항으로는 LSTM에 비해 적은 파라미터를 이용함에도 불구하고 좋은 결과를 제시해 주었다. LSTM 모델에서는 epoch a에서 a로 세모델 중 가장 낮은 validationo loss를 획득하였다."
      ],
      "metadata": {
        "id": "OqnW_T6mMClt"
      }
    },
    {
      "cell_type": "markdown",
      "source": [
        "## 서론\n",
        "\n",
        "\n",
        "본 예제는 Simple RNN과 GRU, LSTM을 사용한 세 개의 문장생성 모델을 이용하여 validation loss와 문장생성 능력을 확인한다. \n",
        "\n",
        "RNN 즉, 재귀 신경망은 마르코프 체인과 함께 문장 생성 알고리즘 중 하나이며, 시간 순서를 가진 데이터를 다룰 수 있다는 특성을 가지고 있는 것으로 Simple RNN과 이를 개량한 LSTM, GRU가 있다\n",
        "\n",
        "<br>\n",
        "\n",
        "\n",
        "학습 데이터는 영문으로 된 자연어 문장으로 모델의 학습에 앞서 분석과 전처리 과정을 거친다. \n",
        "\n",
        "이후 각 모델을 생성하여 validation loss와 생성된 문장을 확인하고자 한다. 다음은 본 예제 진행 순서를 제시한 것이다.\n",
        "\n",
        ">학습 데이터 분석\n",
        "\n",
        ">학습 데이터 정제 및 토크나이저 생성\n",
        "\n",
        ">문장 생성 모델 생성\n",
        "\n",
        ">모델 학습 및 생성 문장 확인\n"
      ],
      "metadata": {
        "id": "JPPtkIC3NF5j"
      }
    },
    {
      "cell_type": "markdown",
      "source": [
        "\n",
        "## 학습 데이터 분석\n",
        "\n",
        "먼저, 모델을 학습하기 위한 학습 데이터를 분석한다. \n",
        "\n",
        "\n",
        "데이터는 텍스트 파일로 자연어로 된 여러 문장으로 구성되어있다. 학습 데이터를 분석하기 위해 데이터 수와 같은 기본 적인 사항을 알아보고 이후, 데이터를 문장과 단어 중심으로 살펴본다. \n",
        "\n",
        "<br>\n",
        "\n",
        "특히, 문장을 구성하고 있는 단어의 개수와 단어의 사용 빈도, 단어의 글자 개수 등을 파악하여 이후 전처리 시, 적절한 데이터로 정제과정을 거친다."
      ],
      "metadata": {
        "id": "5p6yywPnNRos"
      }
    },
    {
      "cell_type": "markdown",
      "source": [
        "**라이브러리 호출 및 학습 데이터 불러오기**"
      ],
      "metadata": {
        "id": "w1gUTjCpNYTl"
      }
    },
    {
      "cell_type": "code",
      "source": [
        "#데이터 다운로드\n",
        "!git clone \"https://github.com/brunoklein99/deep-learning-notes\""
      ],
      "metadata": {
        "colab": {
          "base_uri": "https://localhost:8080/"
        },
        "id": "PWX_AETnmUqg",
        "outputId": "14b8df83-67b9-4cd0-be2f-25775f1a403a"
      },
      "execution_count": null,
      "outputs": [
        {
          "output_type": "stream",
          "name": "stdout",
          "text": [
            "Cloning into 'deep-learning-notes'...\n",
            "remote: Enumerating objects: 491, done.\u001b[K\n",
            "remote: Total 491 (delta 0), reused 0 (delta 0), pack-reused 491\u001b[K\n",
            "Receiving objects: 100% (491/491), 57.55 MiB | 13.51 MiB/s, done.\n",
            "Resolving deltas: 100% (183/183), done.\n"
          ]
        }
      ]
    },
    {
      "cell_type": "code",
      "source": [
        "#라이브러리 호출\n",
        "import re   #문자열 정규식\n",
        "import os   #디렉토리 관리\n",
        "import glob   #디렉토리 관리(2)\n",
        "import nltk   #자연어 처리\n",
        "import tensorflow as tf   #텐서관리\n",
        "import matplotlib.pyplot as plt   #데이터 시각화"
      ],
      "metadata": {
        "id": "ORWlHq7hldoN"
      },
      "execution_count": null,
      "outputs": []
    },
    {
      "cell_type": "code",
      "source": [
        "#/content/deep-learning-notes/shakespeare.txt\n",
        "\n",
        "txt_file_path = \"/content/deep-learning-notes/shakespeare.txt\"\n",
        "txt_list = glob.glob(txt_file_path)\n",
        "\n",
        "raw_corpus = []\n",
        "for txt_file in txt_list:\n",
        "    with open(txt_file, \"r\") as f:\n",
        "        raw = f.read().splitlines()\n",
        "        raw_corpus.extend(raw)"
      ],
      "metadata": {
        "id": "hXRBNX5Pl7VC"
      },
      "execution_count": null,
      "outputs": []
    },
    {
      "cell_type": "markdown",
      "source": [
        "\n",
        "**문장 단위 전처리**\n",
        "\n",
        "데이터 분석에 앞서, 비어있는 문장이나 특수기호 등의 불필요한 요소를 제거하는 과정이다.\n",
        "\n",
        "정규식을 사용한 문장 단위 전처리는 김윤 박사의 'CNN_sentence'의 코드를 사용하였다.\n"
      ],
      "metadata": {
        "id": "3ssl_aepNcLz"
      }
    },
    {
      "cell_type": "code",
      "source": [
        "#단어 단위 분할 함수+++++++++++++++++++++++++++++++\n",
        "def clean_str(string, TREC=False):\n",
        "    \"\"\"\n",
        "    Tokenization/string cleaning for all datasets except for SST.\n",
        "    Every dataset is lower cased except for TREC\n",
        "    \"\"\"\n",
        "    #코드 수정==========================\n",
        "    string = re.sub(r\"[^A-Za-z!?\\']\", \" \", string)\n",
        "    string = re.sub(r'[\" \"]+', \" \", string)\n",
        "    #End================================\n",
        "    \n",
        "    string = re.sub(r\"\\'s\", \" \\'s\", string) \n",
        "    string = re.sub(r\"\\'ve\", \" \\'ve\", string) \n",
        "    string = re.sub(r\"n\\'t\", \" n\\'t\", string) \n",
        "    string = re.sub(r\"\\'re\", \" \\'re\", string) \n",
        "    string = re.sub(r\"\\'d\", \" \\'d\", string) \n",
        "    string = re.sub(r\"\\'ll\", \" \\'ll\", string) \n",
        "    \n",
        "    string = re.sub(r\"!\", \" ! \", string) \n",
        "    string = re.sub(r\"\\?\", \" \\? \", string) \n",
        "    string = re.sub(r\"\\s{2,}\", \" \", string)\n",
        "    \n",
        "    #코드 수정==========================\n",
        "    string = re.sub(r\",\", \" \", string) \n",
        "    string = re.sub(r\"\\(\", \" \", string) \n",
        "    string = re.sub(r\"\\)\", \" \", string) \n",
        "    #End================================\n",
        "    return string.strip() if TREC else string.strip().lower()\n",
        "#\"CNN_sentence\", Kim Yoon, accessed Oct, 8, 2021, https://github.com/yoonkim/CNN_sentence\n",
        "#End++++++++++++++++++++++++++++++++++++++++++++++++++\n",
        "\n",
        "\n",
        "#문장별로 정제하기===========================\n",
        "corpus_sample = [clean_str(sentence) for sentence in raw_corpus if len(sentence) != 0]\n",
        "#End=========================================\n",
        "\n",
        "\n",
        "print(\"*\" * 50, end=\"\\n\\n\")\n",
        "print(raw_corpus[3], \"\\n\\n\" + \"↓\" * 30 + \"\\n\\n\", corpus_sample[3])\n",
        "print(\"\\n\" + \"*\" * 50)"
      ],
      "metadata": {
        "colab": {
          "base_uri": "https://localhost:8080/"
        },
        "id": "MtRak27VmxJx",
        "outputId": "bbe217f9-9f2a-4aa9-bade-9c8074130fe7"
      },
      "execution_count": null,
      "outputs": [
        {
          "output_type": "stream",
          "name": "stdout",
          "text": [
            "**************************************************\n",
            "\n",
            " \n",
            "\n",
            "↓↓↓↓↓↓↓↓↓↓↓↓↓↓↓↓↓↓↓↓↓↓↓↓↓↓↓↓↓↓\n",
            "\n",
            " that thereby beauty 's rose might never die\n",
            "\n",
            "**************************************************\n"
          ]
        }
      ]
    },
    {
      "cell_type": "markdown",
      "source": [
        "**clean_str() 코드 출처**\n",
        "\n",
        "\n",
        "\"CNN_sentence\", Kim Yoon, accessed Oct, 8, 2021, https://github.com/yoonkim/CNN_sentence"
      ],
      "metadata": {
        "id": "BKMFAaiSNgKd"
      }
    },
    {
      "cell_type": "markdown",
      "source": [
        "### 2.1. 문장 중심 데이터 분석\n",
        "\n",
        "\n",
        "데이터는 총 a개의 영어 문장으로 이루어져있다. 또한, a%의 문장이 a개 이하의 단어로 이루어져있으며, 가장 많은 단어 로 이루어져 있는 문장의 단어 수는 a개이다. \n",
        "\n",
        "\n",
        "1개의 단어로 이루어져있는 데이터도 존재한다. 이는 전처리 과정 시 정제할 필요가 있다. Fig. 1은 문장별 단어 수를 보여준다.\n",
        "\n",
        "<br>\n",
        "\n",
        "\n",
        "**데이터 기본 정보**\n",
        "\n",
        "- 데이터 문장의 일부를 출력한다.\n",
        "- 문장의 총 개수는 a개이다.\n"
      ],
      "metadata": {
        "id": "tuz-vgTPNj_W"
      }
    },
    {
      "cell_type": "code",
      "source": [
        "#데이터 일부 출력========\n",
        "print(\"*\" * 50)\n",
        "for line in corpus_sample[10:15]:\n",
        "    print(line, end=\"\\n\\n\")\n",
        "print(\"*\" * 50)\n",
        "#End======================\n",
        "\n",
        "#data_len=================\n",
        "print(\"\\n*sentence num:\", len(corpus_sample), end=\"\\n\\n\")"
      ],
      "metadata": {
        "colab": {
          "base_uri": "https://localhost:8080/"
        },
        "id": "SJ76tKudmz9u",
        "outputId": "7d5b0aa8-3dab-4045-a4fd-15faee06a4dc"
      },
      "execution_count": null,
      "outputs": [
        {
          "output_type": "stream",
          "name": "stdout",
          "text": [
            "**************************************************\n",
            "thou that art now the world 's fresh ornament\n",
            "\n",
            "and only herald to the gaudy spring\n",
            "\n",
            "within thine own bud buriest thy content\n",
            "\n",
            "and tender churl mak 'st waste in niggarding\n",
            "\n",
            "pity the world or else this glutton be\n",
            "\n",
            "**************************************************\n",
            "\n",
            "*sentence num: 2177\n",
            "\n"
          ]
        }
      ]
    },
    {
      "cell_type": "markdown",
      "source": [
        "\n",
        "**문장별 단어 수 확인**\n",
        "\n",
        "\n",
        "문장의 단어 최대 개수는 a개, 최소 개수는 a개이다.\n",
        "\n",
        "\n",
        "약 a%의 문장은 a개 이하의 단어로 구성되어 있다."
      ],
      "metadata": {
        "id": "BsD7W5buNzob"
      }
    },
    {
      "cell_type": "code",
      "source": [
        "sentence_len = [len(sentence.split(\" \")) for sentence in corpus_sample]\n",
        "sentence_len.sort()\n",
        "\n",
        "\n",
        "cut_size = int(len(sentence_len) * 0.85)\n",
        "print(\"*\" * 50)\n",
        "print(\"minimum word:\", sentence_len[0])\n",
        "print(\"maximum word:\", sentence_len[-1])\n",
        "print(\"85% word:\", sentence_len[cut_size])\n",
        "print(\"*\" * 50)\n",
        "\n",
        "# #14개 이하 단어로 구성된 문장으로 정제\n",
        "# corpus = [sentence for sentence in corpus if len(sentence.split(\" \")) < 15]\n",
        "\n",
        "\n",
        "#시각화==========================\n",
        "plt.figure(figsize=(7, 4))\n",
        "plt.title(\"<Fig. 1> word num by sentence\")\n",
        "plt.plot(sentence_len, color=\"#1e90ff\")\n",
        "plt.show()\n",
        "\n",
        "#End================================="
      ],
      "metadata": {
        "colab": {
          "base_uri": "https://localhost:8080/",
          "height": 366
        },
        "id": "wyjefGcLm4Cr",
        "outputId": "e0ff0222-2efb-48c7-8978-066c64d9d4a4"
      },
      "execution_count": null,
      "outputs": [
        {
          "output_type": "stream",
          "name": "stdout",
          "text": [
            "**************************************************\n",
            "minimum word: 1\n",
            "maximum word: 12\n",
            "85% word: 10\n",
            "**************************************************\n"
          ]
        },
        {
          "output_type": "display_data",
          "data": {
            "text/plain": [
              "<Figure size 504x288 with 1 Axes>"
            ],
            "image/png": "[encoded data removed]"
          },
          "metadata": {
            "needs_background": "light"
          }
        }
      ]
    },
    {
      "cell_type": "markdown",
      "source": [
        "\n",
        "**하나의 단어로 이루어진 문장**\n",
        "\n",
        "- 한 단어로 이루어진 데이터는 문장이 아닐 가능성이 크다. 따라서 이후의 전처리 과정에서 제외할 필요가 있다.\n",
        "\n",
        "\n",
        "- 한 단어로 이루어진 데이터는 a개 이며, 아래는 한 단어로 이루어진 데이터 일부를 보여준다."
      ],
      "metadata": {
        "id": "-XhbdXtcN-IH"
      }
    },
    {
      "cell_type": "code",
      "source": [
        "one_word_sentence = {sentence for sentence in corpus_sample if len(sentence.split(\" \")) == 1}\n",
        "\n",
        "print(\"*\" * 50)\n",
        "for line in list(one_word_sentence)[10:15]:\n",
        "    print(line, end=\"\\n\\n\")\n",
        "print(\"*\" * 50)\n",
        "\n",
        "print(\"\\n*one word sentence num:\", len(one_word_sentence))"
      ],
      "metadata": {
        "colab": {
          "base_uri": "https://localhost:8080/"
        },
        "id": "RpR4Gc9Gm6eS",
        "outputId": "0d2f6b0b-4584-47dc-b051-7cf52ae59b0a"
      },
      "execution_count": null,
      "outputs": [
        {
          "output_type": "stream",
          "name": "stdout",
          "text": [
            "**************************************************\n",
            "**************************************************\n",
            "\n",
            "*one word sentence num: 1\n"
          ]
        }
      ]
    },
    {
      "cell_type": "markdown",
      "source": [
        "\n",
        "### 2.2. 단어 중심 데이터 분석\n",
        "\n",
        "\n",
        "토큰 단위가 되는 단어를 중심으로 데이터를 분석한다. \n",
        "\n",
        "데이터에서 단어가 전체적으로 사용된 빈도와 단어의 길이 즉, 글자 개수를 살펴본다. \n",
        "\n",
        "데이터에서 사용된 단어는 총 a개 이다. 데이터에서 가장 많이 사용된 단어는 'i', 'the' 'you' 순으로 약 a회 정도 사용되었다. \n",
        "\n",
        "\n",
        "Fig. 2는 데이터에서 단어가 사용된 빈도를 보여준다. \n",
        "\n",
        "또한 단어의 글자 개수는 약 a ~ a개이다. \n",
        "\n",
        "하지만 글자 수가 a개 이상의 단어는 대체로 'owowowowowowowahhhh', 'yeahyeaheyeahhh' 등과 같이 감탄사 혹은 띄어쓰기가 되지 않은 단어의 빈도가 높다. \n",
        "\n",
        "따라서 이러한 점을 고려하여, 이후 전처리 시 제외 작업을 할 필요가 있다. Fig. 3은 단어 별 글자 개수를 보여준다."
      ],
      "metadata": {
        "id": "BblG05tvOjZA"
      }
    },
    {
      "cell_type": "code",
      "source": [
        "word_list_dup = [word for sentence in corpus_sample for word in sentence.split(\" \")]\n",
        "word_list = {word for word in word_list_dup}\n",
        "nltk_text = nltk.Text(word_list_dup)\n",
        "\n",
        "print(\"*\" * 50)\n",
        "print(\"*word num:\", len(word_list))\n",
        "print(\"*\" * 50)\n",
        "\n",
        "\n",
        "plt.figure(figsize=(11, 3))\n",
        "plt.title(\"<Fig. 2> word num\")\n",
        "nltk_text.plot(40)\n",
        "plt.show()"
      ],
      "metadata": {
        "colab": {
          "base_uri": "https://localhost:8080/",
          "height": 297
        },
        "id": "qVZhKMf2m9sV",
        "outputId": "242273ee-02c4-4769-9946-cf2a117642bc"
      },
      "execution_count": null,
      "outputs": [
        {
          "output_type": "stream",
          "name": "stdout",
          "text": [
            "**************************************************\n",
            "*word num: 3116\n",
            "**************************************************\n"
          ]
        },
        {
          "output_type": "display_data",
          "data": {
            "text/plain": [
              "<Figure size 792x216 with 1 Axes>"
            ],
            "image/png": "[encoded data removed]"
          },
          "metadata": {
            "needs_background": "light"
          }
        }
      ]
    },
    {
      "cell_type": "markdown",
      "source": [
        "\n",
        "**단어별 글자 개수**\n",
        "\n",
        "- 대부분의 단어는 a ~ a개 사이의 글자로 이루어져있다.\n",
        "\n",
        "- 그 이상의 단어는 감탄사나 띄어쓰기 하지 않은 단어로 이루어져있다."
      ],
      "metadata": {
        "id": "ZOaI57vDOxRz"
      }
    },
    {
      "cell_type": "code",
      "source": [
        "word_len = [len(word) for word in word_list]\n",
        "word_len.sort()\n",
        "\n",
        "#시각화==========================\n",
        "plt.figure(figsize=(7, 4))\n",
        "plt.title(\"<Fig. 3> letter num by word\")\n",
        "plt.plot(word_len, color=\"#1e90ff\")\n",
        "plt.show()\n",
        "#End================================="
      ],
      "metadata": {
        "colab": {
          "base_uri": "https://localhost:8080/",
          "height": 281
        },
        "id": "kMImyTZhnAHe",
        "outputId": "740d9bcf-ef35-47c1-ffc7-dc542ba5c126"
      },
      "execution_count": null,
      "outputs": [
        {
          "output_type": "display_data",
          "data": {
            "text/plain": [
              "<Figure size 504x288 with 1 Axes>"
            ],
            "image/png": "[encoded data removed]"
          },
          "metadata": {
            "needs_background": "light"
          }
        }
      ]
    },
    {
      "cell_type": "code",
      "source": [
        "word_over_ten = [word for word in word_list if len(word) >= 15]\n",
        "\n",
        "print(\"*\" * 50)\n",
        "for word in word_over_ten[:10]:\n",
        "    print(word, end=\"\\n\\n\")\n",
        "print(\"*\" * 50)"
      ],
      "metadata": {
        "colab": {
          "base_uri": "https://localhost:8080/"
        },
        "id": "zoObT_xAnG8y",
        "outputId": "b09eb41c-eee0-4007-c26d-917103f40531"
      },
      "execution_count": null,
      "outputs": [
        {
          "output_type": "stream",
          "name": "stdout",
          "text": [
            "**************************************************\n",
            "**************************************************\n"
          ]
        }
      ]
    },
    {
      "cell_type": "markdown",
      "source": [
        "\n",
        "\n",
        "## 3. 데이터 전처리\n",
        "\n",
        "\n",
        "앞서 학습 데이터로 사용될 데이터를 분석하였다. \n",
        "\n",
        "그 결과, a%의 문장이 단어 a개로 이루어져 있음을 확인하였다. \n",
        "\n",
        "또한, 한 개의 단어로 이루어진 데이터는 대부분 문장이 아님을 확인하였다. \n",
        "\n",
        "데이터에 사용된 단어는 a개이다. 단어는 약 a ~ a개의 글자로 되어있다.\n",
        "\n",
        "\n",
        "이러한 분석을 바탕으로, 데이터 전처리는 다음과 같은 작업을 수행하고자 한다. \n",
        "\n",
        "단어가 a ~ a개로 이루어진 문장만을 데이터로 사용한다. \n",
        "\n",
        "글자 수가 a개 이상인 단어를 포함한 문장은 제외한다. \n",
        "\n",
        "\n",
        "전처리 과정을 거친 데이터는 총 a개의 문장과 a개의 단어로 구성된다."
      ],
      "metadata": {
        "id": "KZ43xsG-O3_l"
      }
    },
    {
      "cell_type": "code",
      "source": [
        "sample_corpus = None\n",
        "corpus = []\n",
        "for sentence in raw_corpus:\n",
        "    if len(sentence) == 0: continue;   #길이가 0인 문장\n",
        "    if sentence[-1] == \":\": continue;   #문장의 끝이 ':'인 문장\n",
        "\n",
        "    new_sentence = clean_str(sentence, TREC=False)\n",
        "\n",
        "    if len(new_sentence.split(\" \")) < 3: continue;   #단어가 2개 이하인 문장 제외\n",
        "    if len(new_sentence.split(\" \")) > 12: continue;   #토큰이 15개 이상인 문장\n",
        "    \n",
        "    #단어 중심===========\n",
        "    letter_num_TF = True\n",
        "    for word in new_sentence.split(\" \"):\n",
        "        if len(word) > 14:   #글자 수 15개 이상 단어 제외\n",
        "            letter_num_TF = False\n",
        "            break\n",
        "    if not letter_num_TF: continue\n",
        "    #End=================\n",
        "        \n",
        "    new_sentence = \"<start> \" + new_sentence + \" <end>\"\n",
        "    corpus.append(new_sentence)"
      ],
      "metadata": {
        "id": "j91dlM_CnLHl"
      },
      "execution_count": null,
      "outputs": []
    },
    {
      "cell_type": "markdown",
      "source": [
        "\n",
        "**정제 데이터 정보**\n",
        "\n",
        "\n",
        "- <start>와 <end> 토큰을 추가한 것을 확인할 수 있다.\n",
        "\n",
        "- 총 문장 수는 a개, 단어 수는 a개 이다.\n"
      ],
      "metadata": {
        "id": "iuOJoIFbPLrt"
      }
    },
    {
      "cell_type": "code",
      "source": [
        "word_list = {word for sentence in corpus for word in sentence.split(\" \")}\n",
        "\n",
        "\n",
        "#데이터 일부 출력========\n",
        "print(\"*\" * 50)\n",
        "for line in corpus[10:15]:\n",
        "    print(line, end=\"\\n\\n\")\n",
        "print(\"*\" * 50)\n",
        "#End======================\n",
        "\n",
        "\n",
        "print(\"\\n*sentence num:\", len(corpus))\n",
        "print(\"*word num:\", len(word_list))"
      ],
      "metadata": {
        "colab": {
          "base_uri": "https://localhost:8080/"
        },
        "id": "-6RAdjbMnNXq",
        "outputId": "a23c01eb-d085-4252-cbee-47cfd7193779"
      },
      "execution_count": null,
      "outputs": [
        {
          "output_type": "stream",
          "name": "stdout",
          "text": [
            "**************************************************\n",
            "<start> pity the world or else this glutton be <end>\n",
            "\n",
            "<start> to eat the world 's due by the grave and thee <end>\n",
            "\n",
            "<start> when forty winters shall besiege thy brow <end>\n",
            "\n",
            "<start> and dig deep trenches in thy beauty 's field <end>\n",
            "\n",
            "<start> thy youth 's proud livery so gazed on now <end>\n",
            "\n",
            "**************************************************\n",
            "\n",
            "*sentence num: 2020\n",
            "*word num: 2988\n"
          ]
        }
      ]
    },
    {
      "cell_type": "markdown",
      "source": [
        "**데이터 토큰화**\n",
        "\n",
        "- a개의 단어사전을 가진 토크나이저를 생성한다.\n",
        "\n",
        "- 문장은 뒷 부분에 패딩을 추가한다."
      ],
      "metadata": {
        "id": "LmokSe28PWAj"
      }
    },
    {
      "cell_type": "code",
      "source": [
        " #토크나이즈 함수======================================\n",
        "def tokenize(corpus):\n",
        "    tokenizer = tf.keras.preprocessing.text.Tokenizer(\n",
        "        num_words=12000, \n",
        "        oov_token=\"<unk>\",   #포함되지 못한 단어는 \"<unk>\"로 처리\n",
        "        filters=' '   #전처리되었으므로 제외\n",
        "    )\n",
        "    \n",
        "    tokenizer.fit_on_texts(corpus)   #매개변수로 토크나이저 내부 단어장 생성\n",
        "    tensor = tokenizer.texts_to_sequences(corpus)   #매개변수 Tensor로 변환\n",
        "    tensor = tf.keras.preprocessing.sequence.pad_sequences(tensor, padding=\"post\", maxlen = 15)\n",
        "    return tensor, tokenizer\n",
        "#End====================================================\n",
        "\n",
        "\n",
        "tensor, tokenizer = tokenize(corpus)\n",
        "\n",
        "print(\"*tensor shape:\", tensor.shape)\n",
        "print(\"\\n*one_sample:\", tensor[:1])\n",
        "\n",
        "print(\"\\n\" + \"*\" * 50)\n",
        "for idx in tokenizer.index_word:\n",
        "    print(idx, \":\", tokenizer.index_word[idx])\n",
        "    if idx >= 8: break\n",
        "print(\"*\" * 50)"
      ],
      "metadata": {
        "colab": {
          "base_uri": "https://localhost:8080/"
        },
        "id": "jPGdC5xZnPC1",
        "outputId": "f54bc10a-9705-48a3-adcc-acee4b12148f"
      },
      "execution_count": null,
      "outputs": [
        {
          "output_type": "stream",
          "name": "stdout",
          "text": [
            "*tensor shape: (2020, 15)\n",
            "\n",
            "*one_sample: [[   2   36 1298 1299    3    0    0    0    0    0    0    0    0    0\n",
            "     0]]\n",
            "\n",
            "**************************************************\n",
            "1 : <unk>\n",
            "2 : <start>\n",
            "3 : <end>\n",
            "4 : and\n",
            "5 : the\n",
            "6 : my\n",
            "7 : to\n",
            "8 : of\n",
            "**************************************************\n"
          ]
        }
      ]
    },
    {
      "cell_type": "markdown",
      "source": [
        "**데이터셋 생성하기**\n",
        "\n",
        "- train_test_split으로 데이터를 분리한 후, from_tensor_slices를 이용하여 데이터셋을 생성한다.\n",
        "\n",
        "- 데이터셋 배치사이즈는 a로 설정한다."
      ],
      "metadata": {
        "id": "UHXpgIlrPdUr"
      }
    },
    {
      "cell_type": "code",
      "source": [
        "#학습데이터와 정답 데이터 분리하기\n",
        "from sklearn.model_selection import train_test_split\n",
        "src_input = tensor[:, :-1]   #마지막 토큰을 잘라내 소스문장 생성 => x_data\n",
        "tgt_input = tensor[:, 1:]   #첫번째 idx인 <start>를 잘라내기 => target_data\n",
        "\n",
        "enc_train, enc_val, dec_train, dec_val = train_test_split(src_input, tgt_input, test_size = 0.2, random_state = 2)\n",
        "\n",
        "#텐서플로 데이터셋으로 만들기==============\n",
        "BUFFER_SIZE = len(src_input)\n",
        "BATCH_SIZE = 32\n",
        "\n",
        "dataset = tf.data.Dataset.from_tensor_slices((src_input, tgt_input))   #tensor를 dataset으로 변환\n",
        "# dataset = dataset.shuffle(BUFFER_SIZE)\n",
        "dataset = dataset.batch(BATCH_SIZE, drop_remainder=True)\n",
        "#End=======================================\n",
        "\n",
        "print(\"\\n\" + \"*\" * 50)\n",
        "print(\"Source Train:\", enc_train.shape)\n",
        "print(\"Source val Train:\", enc_val.shape)\n",
        "\n",
        "print(\"\\nTarget Train:\", dec_train.shape)\n",
        "print(\"Target val Train:\", dec_val.shape)\n",
        "print(\"*\" * 50)"
      ],
      "metadata": {
        "colab": {
          "base_uri": "https://localhost:8080/"
        },
        "id": "vTDSc48hnQ2D",
        "outputId": "a041e0fc-4ceb-4535-e502-27507a6edc8c"
      },
      "execution_count": null,
      "outputs": [
        {
          "output_type": "stream",
          "name": "stdout",
          "text": [
            "\n",
            "**************************************************\n",
            "Source Train: (1616, 14)\n",
            "Source val Train: (404, 14)\n",
            "\n",
            "Target Train: (1616, 14)\n",
            "Target val Train: (404, 14)\n",
            "**************************************************\n"
          ]
        }
      ]
    },
    {
      "cell_type": "markdown",
      "source": [
        "\n",
        "\n",
        "## 4. 모델 학습 및 평가\n",
        "\n",
        "\n",
        "전처리를 거친 데이터를 바탕으로 모델을 학습 한다. 'Simple RNN', 'GRU', 'LSTM'에 대한 각 모델을 적용하여 학습을 진행한다. \n",
        "\n",
        "각 모델은 임베딩 레이어, RNN 레이어, a 비율의 드롭아웃 레이어, 배치정규화 레이어, 출력 레이어 순으로 설계하였으며, RNN 레이어의 유닛 수는 a개로 모두 동일하게 적용하였다. \n",
        "\n",
        "또한, 임베딩 사이즈는 a을 적용하였다.\n",
        "\n",
        "<br>\n",
        "\n",
        "옵티마이저로 Adam을 사용하였으며, 배치 사이즈를 a개로 설정하였다. 학습 epoch는 a로 설정하였다. 또한, 매 epoch 마다 'i', 'you', 'love'를 문장의 시작 단어로 입력하여 생성되는 문장을 확인하고자 한다."
      ],
      "metadata": {
        "id": "OA2FPPlyPrcx"
      }
    },
    {
      "cell_type": "markdown",
      "source": [
        "**모델 생성 및 콜백, 문장 예측 함수**\n",
        "\n",
        "\n",
        "- 자주 사용되는 모델 생성과 콜백, 문장 예측, 모델 학습 기능을 클래스 및 함수화하였다.\n",
        "\n",
        "- 콜백 함수의 경우 모델 학습 시 매 epoch가 종료될 때, 문장 생성 예시를 출력한다."
      ],
      "metadata": {
        "id": "jyalgMU2P51t"
      }
    },
    {
      "cell_type": "code",
      "source": [
        "#모델 생성 클래스=================================\n",
        "class TextGenerator(tf.keras.Model):\n",
        "    def __init__(\n",
        "            self,\n",
        "            model_type, #\"LSTM\", \"GRU\", \"RNN\"\n",
        "            vocab_size,   #단어사전 크기\n",
        "        ):\n",
        "        super().__init__()\n",
        "        \n",
        "        self.embedding = tf.keras.layers.Embedding(vocab_size, 500)\n",
        "        \n",
        "        if model_type == \"LSTM\":\n",
        "            self.rnn_1 = tf.keras.layers.LSTM(2000, return_sequences=True)\n",
        "        elif model_type == \"GRU\":\n",
        "            self.rnn_1 = tf.keras.layers.GRU(2000, return_sequences=True)\n",
        "        else:\n",
        "            self.rnn_1 = tf.keras.layers.SimpleRNN(2000, return_sequences=True, activation=\"tanh\")\n",
        "            \n",
        "        self.dropout_1 = tf.keras.layers.Dropout(rate=0.2)\n",
        "        \n",
        "        self.batnorm_1 = tf.keras.layers.BatchNormalization()\n",
        "        self.linear = tf.keras.layers.Dense(vocab_size)\n",
        "        \n",
        "    def call(self, x):\n",
        "        out = self.embedding(x)\n",
        "        out = self.rnn_1(out)\n",
        "        out = self.dropout_1(out)\n",
        "        \n",
        "        out = self.batnorm_1(out)\n",
        "        out = self.linear(out)\n",
        "        \n",
        "        return out\n",
        "#End==============================================\n",
        "    \n",
        "    \n",
        "#문장 예측 함수====================================\n",
        "def generate_text(model, tokenizer, init_sentence=\"<start>\", max_len=15):\n",
        "    test_input = tokenizer.texts_to_sequences([init_sentence])\n",
        "    test_tensor = tf.convert_to_tensor(test_input, dtype=tf.int64)\n",
        "    end_token = tokenizer.word_index[\"<end>\"]\n",
        "\n",
        "    while True:\n",
        "        predict = model(test_tensor)\n",
        "        predict_word = tf.argmax(tf.nn.softmax(predict, axis=-1), axis=-1)[:, -1]\n",
        "        test_tensor = tf.concat(\n",
        "            [test_tensor, tf.expand_dims(predict_word, axis=0)], axis=-1\n",
        "        )\n",
        "        if predict_word.numpy()[0] == end_token: break\n",
        "        if test_tensor.shape[1] >= max_len: break\n",
        "\n",
        "    generated = \"\"\n",
        "    for word_index in test_tensor[0].numpy():\n",
        "        generated += tokenizer.index_word[word_index] + \" \"\n",
        "    \n",
        "    return generated\n",
        "#End==============================================\n",
        "\n",
        "\n",
        "#콜백 함수========================================\n",
        "def train_model(epoch, logs):\n",
        "    print(\"\\n\\n\" + \"*\" * 25)\n",
        "    words = [\"i\", \"you\", \"love\"]\n",
        "    for init_word in words:\n",
        "        sentence = generate_text(model, tokenizer, \"<start> \" + init_word, 15)\n",
        "        print(sentence, end=\"\\n\\n\")\n",
        "    print(\"*\" * 25)\n",
        "    \n",
        "testmodelcb = tf.keras.callbacks.LambdaCallback(on_epoch_end=train_model)\n",
        "#End==============================================\n",
        "\n",
        "\n",
        "#컴파일 및 학습 함수==============================\n",
        "def compile_fit(model, callback_func):\n",
        "    optimizer = tf.keras.optimizers.Adam()\n",
        "    loss = tf.keras.losses.SparseCategoricalCrossentropy(\n",
        "        from_logits=True, reduction='none'\n",
        "    )\n",
        "\n",
        "    model.compile(loss=loss, optimizer=optimizer)\n",
        "\n",
        "    hist = model.fit(\n",
        "        enc_train, dec_train, \n",
        "        epochs=4,\n",
        "        batch_size=32,\n",
        "        validation_data=(enc_val, dec_val),\n",
        "        shuffle=True,\n",
        "        callbacks=[callback_func],\n",
        "        verbose=1\n",
        "    )\n",
        "    return None\n",
        "#End=============================================="
      ],
      "metadata": {
        "id": "LGyx44sMnSon"
      },
      "execution_count": null,
      "outputs": []
    },
    {
      "cell_type": "markdown",
      "source": [
        "**input size 설정용 샘플 데이터**\n",
        "\n",
        "- 모델의 입력 사이즈 설정을 위한 샘플 데이터 추출 과정"
      ],
      "metadata": {
        "id": "Cv9WlKVpP_87"
      }
    },
    {
      "cell_type": "code",
      "source": [
        "for src_sample, _ in dataset.take(1): break   #dataset으로부터 하나의 데이터 받아오기\n"
      ],
      "metadata": {
        "id": "z_7dwB4znVxq"
      },
      "execution_count": null,
      "outputs": []
    },
    {
      "cell_type": "markdown",
      "source": [
        "\n",
        "### 4.1 Simple RNN\n",
        "\n",
        "Simple RNN은 순환 신경망의 기초적인 레이어이다. 과거에 대한 정보를 지속적으로 전달하여 시계열 등의 문제에 사용된다. \n",
        "\n",
        "<br>\n",
        "\n",
        "Simple RNN의 경우 입력 데이터가 길어질수록 '장기의존성' 문제로 인해 성능이 저하되는 단점이 존재한다. \n",
        "\n",
        "본 예제에서는 a개의 유닛을 가진 Simple RNN 레이어를 사용하였다. 또한, 활성화 함수로 'tanh'를 사용하였다."
      ],
      "metadata": {
        "id": "eGT7njLxQFxb"
      }
    },
    {
      "cell_type": "code",
      "source": [
        "model = TextGenerator(\n",
        "    \"SimpleRNN\",\n",
        "    tokenizer.num_words + 1,   #tokenizer.num_words: 단어사전 사이즈 + <pad>\n",
        ")\n",
        "\n",
        "model(src_sample)   #해당 데이터를 넣어줌으로써 모델 input_size 설정\n",
        "model.summary()"
      ],
      "metadata": {
        "colab": {
          "base_uri": "https://localhost:8080/"
        },
        "id": "5RjmtpeanXKf",
        "outputId": "63ba1c4a-1601-42b2-a554-a89887244be0"
      },
      "execution_count": null,
      "outputs": [
        {
          "output_type": "stream",
          "name": "stdout",
          "text": [
            "Model: \"text_generator\"\n",
            "_________________________________________________________________\n",
            " Layer (type)                Output Shape              Param #   \n",
            "=================================================================\n",
            " embedding (Embedding)       multiple                  6000500   \n",
            "                                                                 \n",
            " simple_rnn (SimpleRNN)      multiple                  5002000   \n",
            "                                                                 \n",
            " dropout (Dropout)           multiple                  0         \n",
            "                                                                 \n",
            " batch_normalization (BatchN  multiple                 8000      \n",
            " ormalization)                                                   \n",
            "                                                                 \n",
            " dense (Dense)               multiple                  24014001  \n",
            "                                                                 \n",
            "=================================================================\n",
            "Total params: 35,024,501\n",
            "Trainable params: 35,020,501\n",
            "Non-trainable params: 4,000\n",
            "_________________________________________________________________\n"
          ]
        }
      ]
    },
    {
      "cell_type": "markdown",
      "source": [
        "**모델 학습 및 문장생성**\n",
        "\n",
        "\n",
        "Simple RNN 모델의 학습 결과, epoch a 일 때 validation loss가 a로 성능이 가장 좋았다. \n",
        "\n",
        "Simple RNN 모델의 특징은 단어 사전에 등록되지 못한 토큰인 <unk>가 자주 사용된 다는 것이다.\n",
        "\n",
        "또한, 해당 토큰이 주로 명사 부분에 사용되는 것을 확인할 수 있다. \n",
        "\n",
        "다음은 'I', 'You', 'Love'를 시작 단어로 주었을 때, Simple RNN 모델이 생성한 문장을 제시한 것이다."
      ],
      "metadata": {
        "id": "-hbUqs6UQQJk"
      }
    },
    {
      "cell_type": "code",
      "source": [
        "compile_fit(model, testmodelcb)\n"
      ],
      "metadata": {
        "colab": {
          "base_uri": "https://localhost:8080/"
        },
        "id": "sqIjwOpInZHu",
        "outputId": "22e31fec-a5c4-4190-8751-78eca0bea21f"
      },
      "execution_count": null,
      "outputs": [
        {
          "output_type": "stream",
          "name": "stdout",
          "text": [
            "Epoch 1/4\n",
            "50/51 [============================>.] - ETA: 0s - loss: 5.8372\n",
            "\n",
            "*************************\n",
            "<start> i love thee thee gave <end> \n",
            "\n",
            "<start> you love thee thee gave gave <end> \n",
            "\n",
            "<start> love love thee thee gave gave <end> \n",
            "\n",
            "*************************\n",
            "51/51 [==============================] - 5s 54ms/step - loss: 5.8317 - val_loss: 5.6929\n",
            "Epoch 2/4\n",
            "50/51 [============================>.] - ETA: 0s - loss: 4.2883\n",
            "\n",
            "*************************\n",
            "<start> i 's 's 's 's 's <end> \n",
            "\n",
            "<start> you 's 's 's 's 's <end> \n",
            "\n",
            "<start> love 's 's 's 's 's <end> \n",
            "\n",
            "*************************\n",
            "51/51 [==============================] - 3s 55ms/step - loss: 4.2881 - val_loss: 5.1231\n",
            "Epoch 3/4\n",
            "51/51 [==============================] - ETA: 0s - loss: 4.1582\n",
            "\n",
            "*************************\n",
            "<start> i i 's 's 's 's <end> \n",
            "\n",
            "<start> you i 's 's 's 's <end> \n",
            "\n",
            "<start> love i 's 's 's 's <end> \n",
            "\n",
            "*************************\n",
            "51/51 [==============================] - 2s 47ms/step - loss: 4.1582 - val_loss: 5.2652\n",
            "Epoch 4/4\n",
            "51/51 [==============================] - ETA: 0s - loss: 4.0647\n",
            "\n",
            "*************************\n",
            "<start> i thou i love of my <end> \n",
            "\n",
            "<start> you thou i love of my <end> \n",
            "\n",
            "<start> love thou i love of my <end> \n",
            "\n",
            "*************************\n",
            "51/51 [==============================] - 2s 48ms/step - loss: 4.0647 - val_loss: 4.4923\n"
          ]
        }
      ]
    },
    {
      "cell_type": "markdown",
      "source": [
        "\n",
        "### 4.2 GRU\n",
        "GRU는 RNN의 '장기의존성'에 관한 논문을 제시한 '요슈아 벤지오' 교수의 제자인 뉴욕대학교 '조경현' 교수 등이 제안한 구조이다\n",
        "\n",
        "LSTM과 비슷한 기능을 하지만 구조가 간단하여 파라미터 수가 LSTM에 비해 적으며 특정 문제에서는 LSTM에 비해 좋은 성능을 보이기도 한다.\n",
        "\n"
      ],
      "metadata": {
        "id": "nQe43aFbQcQM"
      }
    },
    {
      "cell_type": "code",
      "source": [
        "model = TextGenerator(\n",
        "    \"GRU\",\n",
        "    tokenizer.num_words + 1,   #tokenizer.num_words: 단어사전 사이즈 + <pad>\n",
        ")\n",
        "\n",
        "model(src_sample)   #해당 데이터를 넣어줌으로써 모델 input_size 설정\n",
        "model.summary()"
      ],
      "metadata": {
        "colab": {
          "base_uri": "https://localhost:8080/"
        },
        "id": "8DE4C405nazB",
        "outputId": "aed7d1cf-be0f-481d-a51c-a83a7e7e1946"
      },
      "execution_count": null,
      "outputs": [
        {
          "output_type": "stream",
          "name": "stdout",
          "text": [
            "Model: \"text_generator_1\"\n",
            "_________________________________________________________________\n",
            " Layer (type)                Output Shape              Param #   \n",
            "=================================================================\n",
            " embedding_1 (Embedding)     multiple                  6000500   \n",
            "                                                                 \n",
            " gru (GRU)                   multiple                  15012000  \n",
            "                                                                 \n",
            " dropout_1 (Dropout)         multiple                  0         \n",
            "                                                                 \n",
            " batch_normalization_1 (Batc  multiple                 8000      \n",
            " hNormalization)                                                 \n",
            "                                                                 \n",
            " dense_1 (Dense)             multiple                  24014001  \n",
            "                                                                 \n",
            "=================================================================\n",
            "Total params: 45,034,501\n",
            "Trainable params: 45,030,501\n",
            "Non-trainable params: 4,000\n",
            "_________________________________________________________________\n"
          ]
        }
      ]
    },
    {
      "cell_type": "markdown",
      "source": [
        "**모델 학습 및 문장생성**\n",
        "\n",
        "GRU 모델의 학습 결과, epoch a 일 때 validation loss가 a로 성능이 가장 좋았다. \n",
        "\n",
        "하지만 생성한 문장은 오히려 epoch a의 경우가 더 명확하고 직관적이다. \n",
        "\n",
        "다음은 'I', 'You', 'Love'를 시작 단어로 주었을 때, GRU 모델이 생성한 문장을 제시한 것이다."
      ],
      "metadata": {
        "id": "DHUsNYhtQhZj"
      }
    },
    {
      "cell_type": "code",
      "source": [
        "compile_fit(model, testmodelcb)\n"
      ],
      "metadata": {
        "colab": {
          "base_uri": "https://localhost:8080/"
        },
        "id": "bdIQWsPIneuU",
        "outputId": "5306adb1-b0b2-4031-db8c-7341dde25a26"
      },
      "execution_count": null,
      "outputs": [
        {
          "output_type": "stream",
          "name": "stdout",
          "text": [
            "Epoch 1/4\n",
            "51/51 [==============================] - ETA: 0s - loss: 6.9130\n",
            "\n",
            "*************************\n",
            "<start> i <end> \n",
            "\n",
            "<start> you <end> \n",
            "\n",
            "<start> love <end> \n",
            "\n",
            "*************************\n",
            "51/51 [==============================] - 6s 78ms/step - loss: 6.9130 - val_loss: 9.5923\n",
            "Epoch 2/4\n",
            "50/51 [============================>.] - ETA: 0s - loss: 3.9447\n",
            "\n",
            "*************************\n",
            "<start> i heart <end> \n",
            "\n",
            "<start> you <end> \n",
            "\n",
            "<start> love <end> \n",
            "\n",
            "*************************\n",
            "51/51 [==============================] - 3s 54ms/step - loss: 3.9447 - val_loss: 6.0433\n",
            "Epoch 3/4\n",
            "50/51 [============================>.] - ETA: 0s - loss: 3.7101\n",
            "\n",
            "*************************\n",
            "<start> i beauty false false false <end> \n",
            "\n",
            "<start> you eye false false false <end> \n",
            "\n",
            "<start> love eye false false false <end> \n",
            "\n",
            "*************************\n",
            "51/51 [==============================] - 3s 51ms/step - loss: 3.7101 - val_loss: 5.1638\n",
            "Epoch 4/4\n",
            "50/51 [============================>.] - ETA: 0s - loss: 3.4435\n",
            "\n",
            "*************************\n",
            "<start> i beauty beauty 's beauty <end> \n",
            "\n",
            "<start> you beauty beauty 's beauty <end> \n",
            "\n",
            "<start> love beauty beauty 's beauty <end> \n",
            "\n",
            "*************************\n",
            "51/51 [==============================] - 3s 51ms/step - loss: 3.4441 - val_loss: 4.8631\n"
          ]
        }
      ]
    },
    {
      "cell_type": "markdown",
      "source": [
        "\n",
        "### 4.3 LSTM\n",
        "    \n",
        "LSTM은 Simple RNN의 장기의존성 문제를 해결하기 위해 제안된 것으로, 유닛 간 상태를 보존하여 전달하는 것으로 해당 문제를 해결하였다. \n",
        "\n",
        "\n",
        "즉, 과거의 기억을 잊게 하고, 최근 기억을 많이 이용하게 하는 것이다\n",
        "\n",
        "앞서 제시된 Simple RNN과 GRU에 비해 요구되는 파라미터 수가 큰 편이다."
      ],
      "metadata": {
        "id": "qkthIImfQnt0"
      }
    },
    {
      "cell_type": "code",
      "source": [
        "model = TextGenerator(\n",
        "    \"LSTM\",\n",
        "    tokenizer.num_words + 1,   #tokenizer.num_words: 단어사전 사이즈 + <pad>\n",
        ")\n",
        "\n",
        "model(src_sample)   #해당 데이터를 넣어줌으로써 모델 input_size 설정\n",
        "model.summary()"
      ],
      "metadata": {
        "colab": {
          "base_uri": "https://localhost:8080/"
        },
        "id": "5dBNIczqnhOt",
        "outputId": "a3ebe1ce-b977-490f-c019-64d04faaa94a"
      },
      "execution_count": null,
      "outputs": [
        {
          "output_type": "stream",
          "name": "stdout",
          "text": [
            "Model: \"text_generator_2\"\n",
            "_________________________________________________________________\n",
            " Layer (type)                Output Shape              Param #   \n",
            "=================================================================\n",
            " embedding_2 (Embedding)     multiple                  6000500   \n",
            "                                                                 \n",
            " lstm (LSTM)                 multiple                  20008000  \n",
            "                                                                 \n",
            " dropout_2 (Dropout)         multiple                  0         \n",
            "                                                                 \n",
            " batch_normalization_2 (Batc  multiple                 8000      \n",
            " hNormalization)                                                 \n",
            "                                                                 \n",
            " dense_2 (Dense)             multiple                  24014001  \n",
            "                                                                 \n",
            "=================================================================\n",
            "Total params: 50,030,501\n",
            "Trainable params: 50,026,501\n",
            "Non-trainable params: 4,000\n",
            "_________________________________________________________________\n"
          ]
        }
      ]
    },
    {
      "cell_type": "markdown",
      "source": [
        "\n",
        "**모델 학습 및 문장생성**\n",
        "\n",
        "LSTM 모델의 학습 결과, epoch a일 때 validation loss가 a 으로 성능이 가장 좋았다. \n",
        "\n",
        "다음은 'I', 'You', 'Love'를 시작 단어로 주었을 때, LSTM 모델이 생성한 문장을 제시한 것이다.\n"
      ],
      "metadata": {
        "id": "VMu9oajvQvgF"
      }
    },
    {
      "cell_type": "code",
      "source": [
        "compile_fit(model, testmodelcb)\n"
      ],
      "metadata": {
        "colab": {
          "base_uri": "https://localhost:8080/"
        },
        "id": "_GkHOK5fnhKE",
        "outputId": "09dfcf3a-ca70-4d3b-85f1-9c5372684dd2"
      },
      "execution_count": null,
      "outputs": [
        {
          "output_type": "stream",
          "name": "stdout",
          "text": [
            "Epoch 1/4\n",
            "50/51 [============================>.] - ETA: 0s - loss: 4.8574\n",
            "\n",
            "*************************\n",
            "<start> i to to to the of <end> \n",
            "\n",
            "<start> you to to to the of <end> \n",
            "\n",
            "<start> love to to to the of <end> \n",
            "\n",
            "*************************\n",
            "51/51 [==============================] - 6s 70ms/step - loss: 4.8556 - val_loss: 7.6601\n",
            "Epoch 2/4\n",
            "50/51 [============================>.] - ETA: 0s - loss: 3.8819\n",
            "\n",
            "*************************\n",
            "<start> i and and of of to <end> \n",
            "\n",
            "<start> you and and to of and <end> \n",
            "\n",
            "<start> love and and to and of <end> \n",
            "\n",
            "*************************\n",
            "51/51 [==============================] - 3s 61ms/step - loss: 3.8815 - val_loss: 7.6192\n",
            "Epoch 3/4\n",
            "50/51 [============================>.] - ETA: 0s - loss: 3.5649\n",
            "\n",
            "*************************\n",
            "<start> i in my heart and <end> \n",
            "\n",
            "<start> you in my heart and in <end> \n",
            "\n",
            "<start> love and in my heart <end> \n",
            "\n",
            "*************************\n",
            "51/51 [==============================] - 3s 59ms/step - loss: 3.5657 - val_loss: 7.3880\n",
            "Epoch 4/4\n",
            "50/51 [============================>.] - ETA: 0s - loss: 3.1801\n",
            "\n",
            "*************************\n",
            "<start> i in the earth and all all all all <end> \n",
            "\n",
            "<start> you in my love and in love love still <end> \n",
            "\n",
            "<start> love to be and in the fair <end> \n",
            "\n",
            "*************************\n",
            "51/51 [==============================] - 3s 63ms/step - loss: 3.1808 - val_loss: 7.2635\n"
          ]
        }
      ]
    },
    {
      "cell_type": "markdown",
      "source": [
        "\n",
        "\n",
        "## 결론\n",
        "\n",
        "\n",
        "Simple RNN, GRU, LSTM을 사용한 문장생성 모델로부터 a 단어 이하로 구성된 문장을 출력하도록 하였다. \n",
        "\n",
        "\n",
        "validation loss가 가장 낮았던 모델은 LSTM을 사용한 모델이었으며, epoch a일 때, a이었다. \n",
        "\n",
        "\n",
        "Simple RNN의 경우 장기의존문제로 인해 학습이 의도대로 이루어지지 않았으며, 단어 사전에 포함되지 못한 토큰을 자주 출력하였다. \n",
        "\n",
        "\n",
        "또한, 해당 토큰을 명사 자리에 주로 사용한 것을 확인하였다. GRU의 경우 LSTM에 비해 validation loss가 높았지만, 그 차이는 미미했으며, 적은 파라미터를 사용하였음에도 불구하고 문장생성이 올바르게 이루어진것을 확인하였다. \n",
        "\n",
        "각 모델의 validation loss와 생성 문장을 제시한 것이다.\n",
        "\n",
        "아래의 이미지처럼 결과를 적어주세요"
      ],
      "metadata": {
        "id": "vxOojeT0Q7Yd"
      }
    },
    {
      "cell_type": "markdown",
      "source": [
        "![image.png](data:image/png;base64,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)"
      ],
      "metadata": {
        "id": "qieXVRi6RHx0"
      }
    },
    {
      "cell_type": "code",
      "source": [],
      "metadata": {
        "id": "97pus3qeRFp2"
      },
      "execution_count": null,
      "outputs": []
    }
  ]
}