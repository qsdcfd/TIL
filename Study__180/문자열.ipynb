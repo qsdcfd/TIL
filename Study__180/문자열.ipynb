{
  "nbformat": 4,
  "nbformat_minor": 0,
  "metadata": {
    "colab": {
      "name": "문자열",
      "provenance": [],
      "authorship_tag": "ABX9TyPXpy4J+C1S7tugb3raVLAn"
    },
    "kernelspec": {
      "name": "python3",
      "display_name": "Python 3"
    },
    "language_info": {
      "name": "python"
    }
  },
  "cells": [
    {
      "cell_type": "markdown",
      "source": [
        "우리는 여태껏 문자열을 저장하기 위해 CS50 라이브러리에 포함된 string 자료형을 사용하였었습니다.\n",
        "\n",
        "아래와 같이 s에 “EMMA”라는 값을 저장한다고 생각해 봅시다.\n",
        "\n",
        "```\n",
        "string s = “EMMA”;\n",
        "```\n",
        "\n",
        "문자열은 결국 문자의 배열이고, s[0], s[1], s[2], … 와 같이 하나의 문자가 배열의 한 부분을 나타냅니다.\n",
        "\n",
        "가장 마지막의 \\0은 0으로 이루어진 바이트로, 문자열의 끝을 표시하는 약속입니다.\n",
        "\n",
        " \n",
        "\n",
        "![](https://images.velog.io/images/qsdcfd/post/02a0f104-af02-402d-aecd-a7fe99143395/image.png)\n",
        "\n",
        "\n",
        "\n",
        "여기서 변수 s는 결국 이러한 문자열을 가리키는 포인터가 됩니다.\n",
        "\n",
        "더 상세히는 문자열의 가장 첫번째 문자, 즉 주소 0x123에 있는 s[0]를 가리키게 됩니다.\n",
        "\n",
        " \n",
        "\n",
        "\n",
        "![](https://images.velog.io/images/qsdcfd/post/f57720ac-e83f-4381-9626-613ae2802fc8/image.png)\n",
        "\n",
        "\n",
        "실제 CS50 라이브러리를 보면 string 자료형은 아래와 같이 정의되어 있습니다.\n",
        "\n",
        "```\n",
        "typedef char *string\n",
        "```\n",
        "\n",
        "\n",
        "\n",
        "\n",
        "여기서 typedef는 새로운 자료형을, char *은 문자에 대한 포인터를, string은 자료형의 이름을 의미합니다.\n",
        "\n",
        "따라서 아래 두 코드는 동일하게 동작할 것입니다.\n",
        "\n",
        "\n",
        "\n",
        "string 자료형을 이용하여 “EMMA” 출력\n",
        "\n",
        "```\n",
        "#include <cs50.h>\n",
        "#include <stdio.h>\n",
        "\n",
        "int main(void)\n",
        "{\n",
        "    string s = \"EMMA\";\n",
        "    printf(\"%s\\n\", s);\n",
        "}\n",
        "```\n",
        " \n",
        "\n",
        "char 포인터를 이용하여 “EMMA” 출력\n",
        "```\n",
        "\n",
        "#include <stdio.h>\n",
        "\n",
        "int main(void)\n",
        "{\n",
        "    char *s = \"EMMA\";\n",
        "    printf(\"%s\\n\", s);\n",
        "}\n",
        "```\n",
        "\n",
        "2번 코드의 char *s에서 s라는 변수는 문자에 대한 포인터가 되고, “EMMA”라는 문자열의 가장 첫 번째 값을 저장하기 때문이죠\n",
        "\n"
      ],
      "metadata": {
        "id": "xXCFeHAyFfXI"
      }
    },
    {
      "cell_type": "code",
      "source": [
        ""
      ],
      "metadata": {
        "id": "wnsQ4QdlFgMY"
      },
      "execution_count": null,
      "outputs": []
    }
  ]
}