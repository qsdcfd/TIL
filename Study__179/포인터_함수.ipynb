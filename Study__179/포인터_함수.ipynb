{
  "nbformat": 4,
  "nbformat_minor": 0,
  "metadata": {
    "colab": {
      "name": "포인터 함수",
      "provenance": [],
      "authorship_tag": "ABX9TyNFAuj2h6Re1btQpz3I66DG"
    },
    "kernelspec": {
      "name": "python3",
      "display_name": "Python 3"
    },
    "language_info": {
      "name": "python"
    }
  },
  "cells": [
    {
      "cell_type": "markdown",
      "source": [
        "### 포인터\n",
        "\n",
        "이 연산자를 이용해서 포인터 역할을 하는 변수를 선언할 수도 있습니다.\n",
        "\n",
        "```\n",
        "#include <stdio.h>\n",
        "\n",
        "int main(void)\n",
        "{\n",
        "   int n = 50;\n",
        "   int *p = &n;\n",
        "   printf(\"%p\\n\", p);\n",
        "   printf(\"%i\\n\", *p);\n",
        "}\n",
        " \n",
        "\n",
        "```\n",
        "위 코드를 보면 정수형 변수 n에는 50이라는 값이 저장되어 있습니다.\n",
        "\n",
        "그리고 *p라는 포인터 변수에 &n 이라는 값, 즉 변수 n의 주소를 저장합니다.\n",
        "\n",
        "int *p 에서 p앞의 *는 이 변수가 포인터라는 의미이고, int 는 이 포인터가 int 타입의 변수를 가리킨다는 의미입니다.\n",
        "\n",
        "따라서 첫 번째 printf문과 같이 포인터 p의 값, 즉 변수 n의 주소를 출력하거나, 두 번째 printft문과 같이 포인터 p가 가리키는 변수의 값, 즉 변수 n의 값을 출력할 수도 있습니다.\n",
        "\n",
        "\n",
        "\n",
        "\n",
        "\n",
        "실제 컴퓨터 메모리에서 변수 p는 아래와 같이 저장될 수 있습니다.\n",
        "\n",
        " \n",
        "![](https://images.velog.io/images/qsdcfd/post/8142b462-ebbc-46f4-b0b9-3d0465ba001a/image.png)\n",
        "\n",
        "\n",
        "\n",
        "\n",
        "하지만 아래 그림과 같이 실제로 p의 값, 즉 n의 주소값을 생각하지 않고, 추상적으로 단지 p가 n을 가리키고 있다는 것만 생각해도 됩니다.\n",
        "\n",
        "\n",
        "\n",
        "![](https://images.velog.io/images/qsdcfd/post/2911e068-a135-407c-b475-0996c5b30753/image.png)\n",
        "\n",
        "\n",
        "\n",
        "이런 포인터를 기반으로 해서 앞으로 배울 다양한 데이터 구조를 정의하고 사용할 수 있습니다.\n",
        "\n"
      ],
      "metadata": {
        "id": "SNA-YVxLkAGj"
      }
    },
    {
      "cell_type": "code",
      "source": [
        ""
      ],
      "metadata": {
        "id": "t9wFJEaWkAUb"
      },
      "execution_count": null,
      "outputs": []
    }
  ]
}