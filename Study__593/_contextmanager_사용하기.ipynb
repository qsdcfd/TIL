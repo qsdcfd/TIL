{
  "nbformat": 4,
  "nbformat_minor": 0,
  "metadata": {
    "colab": {
      "provenance": [],
      "authorship_tag": "ABX9TyN5LYstAB/l6ctyhRjdiL5X"
    },
    "kernelspec": {
      "name": "python3",
      "display_name": "Python 3"
    },
    "language_info": {
      "name": "python"
    }
  },
  "cells": [
    {
      "cell_type": "markdown",
      "source": [
        "# 제어 흐름\n",
        "## 콘텍스트 관리자와 else블록\n",
        "### @contextmanager 사용하기\n",
        "\n",
        "@contextmanager 데커레이터는 콘텍스트 관리자를 생성할 때 작성하는 틀에 박힌 코드를 줄여주고, __enter__()와 __exit__() 메서드를 가진 클래스 전체를 작성하는 대신 __enter__() 메서드가 반환할 것을 생성하는 yield문 하나를 가진 제너레이터만 구현하면 된다.\n",
        "\n",
        "@contextmanager로 데커레이터된 제너레이터에서 yield는 함수 본체를 두 부분으로 나누기 위해 사용되고, yield 문 앞에 있는 모든 코드는 with블록 앞에서 인터프리터가 __enter__()를 호출할 때, 실행되고, yield문 뒤에 있는 코드는 블록의 마지막에서 __exit__()가 호출될 때 실행된다.\n",
        "\n",
        "```\n",
        "#제너레이터로 구현한 콘텍스트 관리자\n",
        "import contextlib\n",
        "\n",
        "@contextlib.contextmanager\n",
        "def looking_glass():\n",
        "\timport sys\n",
        "    original_write = sys.stdout.write\n",
        "    \n",
        "    sys.stdout.write = reverse_write\n",
        "    yield 'JABBERWORCKY'\n",
        "    sys.stdout.write = original_write\n",
        "    \n",
        "    \n",
        "    \n",
        "#looking_glass() 콘텍스트 함수 사용 예\n",
        "from mirror_gen import looking_glass\n",
        "with looking_glass() as what:\n",
        "\tprint('Alice, Kitty and Snowdrop')\n",
        "    print(what)\n",
        "    \n",
        "#예외처리를 구현한 제너레이터 기반 콘첵스트 관리자\n",
        "import contextlib\n",
        "\n",
        "@contextlib.contextmanager\n",
        "def looking_glass():\n",
        "\timport sys\n",
        "    original_write = sys.stdout.write\n",
        "    \n",
        "    def reverse_write(text):\n",
        "    \toriginal_write(text[::-1])\n",
        "        sys.stdout.write = reverse_write\n",
        "        msg = ''\n",
        "        try:\n",
        "        \tyield \"JABBERWOCKY'\n",
        "        except ZeroDivisionError:\n",
        "        \tmsg = 'Please DO NOT divide by zero!'\n",
        "        finally:\n",
        "        \tsys.stodut.write = original_write\n",
        "            if msg:\n",
        "            \tprint(msg)\n",
        "```"
      ],
      "metadata": {
        "id": "4hnaTJ45-xDV"
      }
    },
    {
      "cell_type": "code",
      "source": [],
      "metadata": {
        "id": "y0sT5YZa-xM_"
      },
      "execution_count": null,
      "outputs": []
    }
  ]
}