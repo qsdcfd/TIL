{
  "nbformat": 4,
  "nbformat_minor": 0,
  "metadata": {
    "colab": {
      "name": "문자열 비교",
      "provenance": [],
      "authorship_tag": "ABX9TyOezx9pcpWYUM3vG0pA81T4"
    },
    "kernelspec": {
      "name": "python3",
      "display_name": "Python 3"
    },
    "language_info": {
      "name": "python"
    }
  },
  "cells": [
    {
      "cell_type": "markdown",
      "source": [
        "```\n",
        "#include <stdio.h>\n",
        "\n",
        "int main(void)\n",
        "{\n",
        "    char *s = \"EMMA\";\n",
        "    printf(\"%p\\n\", s);\n",
        "}\n",
        "```\n",
        "\n",
        "위 코드를 실행하면, s라는 포인터의 값, 즉 “EMMA”라는 문자열의 가장 첫 값인 “E”에 해당하는 메모리 주소를 출력하게 될 것입니다. \n",
        "\n",
        "\n",
        "\n",
        "그렇다면 아래 코드들은 무엇을 출력할까요?\n",
        "\n",
        " \n",
        "\n",
        "```\n",
        "printf(\"%p\\n\", &s[0]);\n",
        "printf(\"%p\\n\", &s[1]);\n",
        "printf(\"%p\\n\", &s[2]);\n",
        "printf(\"%p\\n\", &s[3]);\n",
        "```\n",
        "\n",
        "s가 가리키는 곳을 시작으로 “EMMA”라는 문자열로 이루어진 문자들의 배열이 있으니, 각각\n",
        "\n",
        "s라는 문자열의 첫 번째 문자에 해당하는 주소값,\n",
        "\n",
        "s라는 문자열의 두 번째 문자에 해당하는 주소값,\n",
        "\n",
        "s라는 문자열의 세 번째 문자에 해당하는 주소값,\n",
        "\n",
        "s라는 문자열의 네 번째 문자에 해당하는 주소값을 출력하게 되겠죠.\n",
        "\n",
        "\n",
        "\n",
        "이를 좀 더 자세히 들여다보면 &s[0]는 “E”의 주소값을, &s[1]은 “M”의 주소값을,  &s[2]은 “M”의 주소값을,  &s[3]은 “A”의 주소값을 의미합니다.\n",
        "\n",
        "문자열은 첫번째 문자를 시작으로 메모리상에서 바로 옆에 저장되어 있습니다.\n",
        "\n",
        "다시 말해, 가장 첫 번째 문자에 해당하는 주소값을 하나씩 증가시키면 바로 옆에 있는 문자의 값을 출력할 수 있는 것이죠.\n",
        "\n",
        "따라서 아래 코드는 E M M A를 순서대로 출력할 것입니다.\n",
        "\n",
        "```\n",
        "\n",
        "printf(\"%c\\n\", *s);\n",
        "printf(\"%c\\n\", *(s+1));\n",
        "printf(\"%c\\n\", *(s+2));\n",
        "printf(\"%c\\n\", *(s+3));\n",
        "```\n",
        " \n",
        "\n",
        "문자열을 비교할 때도 아래 코드와 같이 문자열이 저장된 변수를 바로 비교하게 되면 그 변수가 저장되어 있는 주소가 다르기 때문에 다르다는 결과가 나올 것입니다.\n",
        "\n",
        "정확한 비교를 위해서는 실제 문자열이 저장되어 있는 곳으로 이동하여, 각 문자를 하나하나씩 비교해야 되겠죠.\n",
        "\n",
        "```\n",
        "#include <cs50.h>\n",
        "#include <stdio.h>\n",
        "\n",
        "int main(void)\n",
        "{\n",
        "    // 사용자로부터 s와 t 두 개의 문자열 입력받아 저장\n",
        "    string s = get_string(\"s: \");\n",
        "    string t = get_string(\"t: \");\n",
        "\n",
        "    // 두 문자열을 비교 (각 문자들을 비교)\n",
        "    if (s == t)\n",
        "    {\n",
        "        printf(\"Same\\n\");\n",
        "    }\n",
        "    else\n",
        "    {\n",
        "        printf(\"Different\\n\");\n",
        "    }\n",
        "```"
      ],
      "metadata": {
        "id": "cYdkq8lMkpjz"
      }
    },
    {
      "cell_type": "code",
      "source": [
        ""
      ],
      "metadata": {
        "id": "VMXyJuIXkpx5"
      },
      "execution_count": null,
      "outputs": []
    }
  ]
}