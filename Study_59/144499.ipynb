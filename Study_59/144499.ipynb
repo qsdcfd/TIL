{
 "cells": [
  {
   "cell_type": "code",
   "execution_count": null,
   "id": "undefined-rochester",
   "metadata": {},
   "outputs": [],
   "source": [
    "import sys\n",
    "input = sys.stdin.readline\n",
    "def move(direction):\n",
    "    if direction == 1:\n",
    "        dice[1], dice[3], dice[4], dice[6] = dice[3], dice[6], dice[1], dice[4]\n",
    "    elif direction == 2:\n",
    "        dice[1], dice[3], dice[4], dice[6] = dice[4], dice[1], dice[6], dice[3]\n",
    "    elif direction == 3:\n",
    "        dice[1], dice[2], dice[5], dice[6] = dice[2], dice[6], dice[1], dice[5]\n",
    "    elif direction == 4:\n",
    "        dice[1], dice[2], dice[5], dice[6] = dice[5], dice[1], dice[6], dice[2]\n",
    "def dire(direction):\n",
    "    if direction == 1: return 0, 1\n",
    "    elif direction == 2: return 0, -1\n",
    "    elif direction == 3: return -1, 0\n",
    "    elif direction == 4: return 1, 0\n",
    "n, m, x, y, k = map(int, input().split())\n",
    "s = []\n",
    "for i in range(n):\n",
    "    s.append(list(map(int, input().split())))\n",
    "com = list(map(int, input().split()))\n",
    "dice = [0, 0, 0, 0, 0, 0, 0]\n",
    "for i in com:\n",
    "    a, b = dire(i)\n",
    "    if 0 <= x + a < n and 0 <= y + b < m:\n",
    "        x += a\n",
    "        y += b\n",
    "        move(i)\n",
    "        if s[x][y] != 0:\n",
    "            dice[1] = s[x][y]\n",
    "            s[x][y] = 0\n",
    "        else:\n",
    "            s[x][y] = dice[1]\n",
    "        print(dice[6])"
   ]
  }
 ],
 "metadata": {
  "kernelspec": {
   "display_name": "Python 3",
   "language": "python",
   "name": "python3"
  },
  "language_info": {
   "codemirror_mode": {
    "name": "ipython",
    "version": 3
   },
   "file_extension": ".py",
   "mimetype": "text/x-python",
   "name": "python",
   "nbconvert_exporter": "python",
   "pygments_lexer": "ipython3",
   "version": "3.7.9"
  }
 },
 "nbformat": 4,
 "nbformat_minor": 5
}
