{
  "nbformat": 4,
  "nbformat_minor": 0,
  "metadata": {
    "colab": {
      "provenance": [],
      "authorship_tag": "ABX9TyNSKrSk5V2Y1+EHL3lrWudg"
    },
    "kernelspec": {
      "name": "python3",
      "display_name": "Python 3"
    },
    "language_info": {
      "name": "python"
    }
  },
  "cells": [
    {
      "cell_type": "markdown",
      "source": [
        "# 객체지향 상용구\n",
        "## 연산자 오버로딩: 제대로하기\n",
        "### 벡터를 스칼라와 곱하기 위해 * 오버로딩하기\n",
        "\n",
        "```\n",
        "v1 = Vector([1,2,3])\n",
        "v1 * 10\n",
        "#Vector([10.0,20.0,30.0])\n",
        "```\n",
        "\n",
        ">Vector 피연산자를 이용해서 곱하는 또 다른 방법은 두 벡터의 내적을 구하는 스칼라곱으로 Numpy및 이와 유사한 라이브러리에서는 * 연산자를 사용하는 경우, 벡터의 각 항목에 값을 곱하며, 벡터의 스칼라곱을 구하기 위해서 numpy.dot()함수를 사용한다.\n",
        "\n",
        "\n",
        "```\n",
        "#Vector 클래스 내부\n",
        "\n",
        "def __mul__(self, scalar):\n",
        "\treturn Vector(n * scalar for n in self)\n",
        "    \n",
        "def __rmul__(self, scalar):\n",
        "\treturn self * scalar\n",
        "```\n",
        "\n",
        "<br>\n",
        "\n",
        "scalar의 자료형을 검사하기 위해서 isinstance() 함수를 사용하지만, 구체적인 자료형으로 하드코딩하는 대신 numbers.Real ABC로 검사하며, numbers.Real은 이 메서드에 필요한 자료형을 모두 포함할 뿐만 아니라 향후에 numbers.Real ABC의 실제 서브클래스나 가상 서브클래스로 선언된 수치형 자료도 모두 포함한다.\n",
        "\n",
        "```\n",
        "#vector_v7.py * 연산자 메서드 추가\n",
        "\n",
        "from array import array\n",
        "import reprlib\n",
        "import math\n",
        "import functools\n",
        "import operator\n",
        "import itertools\n",
        "import numbers\n",
        "\n",
        "class Vector:\n",
        "\ttypecode = 'd'\n",
        "    \n",
        "    def __init__(self, components):\n",
        "    \tself._components = array(self.typecode, components)\n",
        "        \n",
        "    def __mul__(self, scalar):\n",
        "    \tif isinstance(scalar, numbers.Real):\n",
        "        \treturn Vector(n*scalar for n in self)\n",
        "        else:\n",
        "        \treturn NotImplemented\n",
        "            \n",
        "    def __rmul__(self, scalar):\n",
        "    \treturn self * scalar\n",
        "```\n",
        "\n",
        "![](https://velog.velcdn.com/images/qsdcfd/post/0a7b2978-159c-4cab-9979-772786ba54b9/image.png)\n",
        "\n",
        "![](https://velog.velcdn.com/images/qsdcfd/post/0c65337f-3198-4616-a182-499835f7cdab/image.png)"
      ],
      "metadata": {
        "id": "oepb4MA9S9hm"
      }
    },
    {
      "cell_type": "code",
      "source": [],
      "metadata": {
        "id": "jgW1oSV5S9ri"
      },
      "execution_count": null,
      "outputs": []
    }
  ]
}