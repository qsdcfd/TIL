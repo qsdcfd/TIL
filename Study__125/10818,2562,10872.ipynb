{
 "cells": [
  {
   "cell_type": "code",
   "execution_count": null,
   "id": "binding-massage",
   "metadata": {},
   "outputs": [],
   "source": [
    "a=int(input())\n",
    "b= list(map(int,input().split()))\n",
    "\n",
    "print('{} {}'.format(min(a),max(b)))"
   ]
  },
  {
   "cell_type": "code",
   "execution_count": null,
   "id": "friendly-outline",
   "metadata": {},
   "outputs": [],
   "source": [
    "a= []\n",
    "for k in range(9):\n",
    "    a.append(int(input()))\n",
    "print(max(a), a.index(max(a)) +1)"
   ]
  },
  {
   "cell_type": "code",
   "execution_count": null,
   "id": "mysterious-pattern",
   "metadata": {},
   "outputs": [],
   "source": [
    "N = int(input())\n",
    "def fal(N):\n",
    "    if N <= 1:\n",
    "        return 1\n",
    "    return N * fal(N-1)\n",
    "\n",
    "print(fal(N))"
   ]
  },
  {
   "cell_type": "code",
   "execution_count": null,
   "id": "angry-musician",
   "metadata": {},
   "outputs": [],
   "source": []
  }
 ],
 "metadata": {
  "kernelspec": {
   "display_name": "Python 3",
   "language": "python",
   "name": "python3"
  },
  "language_info": {
   "codemirror_mode": {
    "name": "ipython",
    "version": 3
   },
   "file_extension": ".py",
   "mimetype": "text/x-python",
   "name": "python",
   "nbconvert_exporter": "python",
   "pygments_lexer": "ipython3",
   "version": "3.7.9"
  }
 },
 "nbformat": 4,
 "nbformat_minor": 5
}
