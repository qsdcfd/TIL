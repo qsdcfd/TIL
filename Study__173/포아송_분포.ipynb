{
  "nbformat": 4,
  "nbformat_minor": 0,
  "metadata": {
    "colab": {
      "name": "포아송 분포",
      "provenance": [],
      "authorship_tag": "ABX9TyMVxW2KFtNMARAbWLPi3Niv"
    },
    "kernelspec": {
      "name": "python3",
      "display_name": "Python 3"
    },
    "language_info": {
      "name": "python"
    }
  },
  "cells": [
    {
      "cell_type": "markdown",
      "source": [
        "### 포아송 분포\n",
        "\n",
        "*공식\n",
        "\n",
        "![](https://images.velog.io/images/qsdcfd/post/852c51a9-99ca-4fad-ad7c-4f9067576f75/image.png)\n",
        "\n",
        "- X: 단위시간 또는 단위공간에서 발생되는 사건의 수\n",
        "\n",
        "- m: 단위시간 또는 단위공간에서 발생되는 사건의 수의 평균, 즉 m=E(X)\n",
        "\n",
        "<br>\n",
        "\n",
        "*조건\n",
        "\n",
        "- 독립성(independence)\n",
        "\n",
        ">단위 시간 혹은 단위 공간에서 발생되는 사건의 수는 또 다른 단위 사건 혹은 단위 공간에서 발생되는 사건의 수와 무관하다\n",
        "\n",
        "- 단일성(lack of clustering)\n",
        "\n",
        ">동시에 두 개 이상의 사건이 발생할 확률은 0에 가깝다\n",
        "\n",
        "- 동일성(constant rate)\n",
        "\n",
        ">사건의 수 평균 m은 모든 단위시간 또는 단위 공간에서 일정하다.\n",
        "\n",
        "<br>\n",
        "\n",
        "**이항분포의 포아송 근사화**\n",
        "\n",
        ">이항분포에서 시행횟수 n이 매우 크고, 성공의 확률p는 매우 작지만(rare events), np->m이 되면 이항분포는 포아송 분포에 가까워 진다.\n",
        "\n",
        "![](https://images.velog.io/images/qsdcfd/post/3f601e78-fb82-4449-9ac9-34ac03bbca49/image.png)\n",
        "\n",
        "*예시\n",
        "\n",
        "![](https://images.velog.io/images/qsdcfd/post/4b038369-923d-410b-940e-334e66051d20/image.png)\n",
        "\n",
        "![](https://images.velog.io/images/qsdcfd/post/b369d201-705c-43a0-8e0e-cd105781dcd2/image.png)"
      ],
      "metadata": {
        "id": "zcbKyz0QZgaa"
      }
    },
    {
      "cell_type": "code",
      "source": [
        ""
      ],
      "metadata": {
        "id": "YsvkmO8gZgs9"
      },
      "execution_count": null,
      "outputs": []
    }
  ]
}