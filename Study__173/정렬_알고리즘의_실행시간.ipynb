{
  "nbformat": 4,
  "nbformat_minor": 0,
  "metadata": {
    "colab": {
      "name": "정렬 알고리즘의 실행시간",
      "provenance": [],
      "authorship_tag": "ABX9TyMuViDHXdmLsOoWuyGBhhZJ"
    },
    "kernelspec": {
      "name": "python3",
      "display_name": "Python 3"
    },
    "language_info": {
      "name": "python"
    }
  },
  "cells": [
    {
      "cell_type": "markdown",
      "source": [
        "### 실행시간의 상한\n",
        "\n",
        "O(n^2): 선택 정렬, 버블 정렬\n",
        "O(n log n)\n",
        "O(n): 선형 검색\n",
        "O(log n): 이진 검색\n",
        "O(1)\n",
        "\n",
        "<br>\n",
        "\n",
        "### 실행시간의 하한\n",
        "\n",
        "Ω(n^2): 선택 정렬, 버블 정렬\n",
        "Ω(n log n)\n",
        "Ω(n)\n",
        "Ω(log n)\n",
        "Ω(1): 선형 검색, 이진 검색\n",
        " \n",
        "\n",
        "여기서 버블 정렬을 좀 더 잘 할 수 있는 방법을 알아보겠습니다.\n",
        "\n",
        "만약 정렬이 모두 되어 있는 숫자 리스트가 주어진다면 어떨까요?\n",
        "\n",
        "\n",
        "\n",
        "원래 의사 코드는 아래와 같습니다.\n",
        "\n",
        "```\n",
        "Repeat n–1 times\n",
        "\n",
        "    For i from 0 to n–2\n",
        "\n",
        "        If i'th and i+1'th elements out of order\n",
        "\n",
        "            Swap them\n",
        "```\n",
        "            \n",
        "여기서 안쪽 루프에서 만약 교환이 하나도 일어나지 않는다면 이미 정렬이 잘 되어 있는 상황일 것입니다.\n",
        "\n",
        "따라서 바깥쪽 루프를 ‘교환이 일어나지 않을때’까지만 수행하도록 다음과 같이 바꿀 수 있습니다.\n",
        "```\n",
        "\n",
        "Repeat until no swaps\n",
        "\n",
        "    For i from 0 to n–2\n",
        "\n",
        "        If i'th and i+1'th elements out of order\n",
        "\n",
        "            Swap them\n",
        "```\n",
        "            \n",
        "따라서 최종적으로 버블 정렬의 하한은 Ω(n)이 됩니다.\n",
        "\n",
        "상황에 따라서는 선택 정렬보다 더 빠른 방법이 되는 것이죠.\n",
        "\n",
        "\n",
        "\n",
        "실행시간의 하한\n",
        "\n",
        "Ω(n^2): 선택 정렬\n",
        "Ω(n log n)\n",
        "Ω(n): 버블 정렬\n",
        "Ω(log n)\n",
        "Ω(1): 선형 검색, 이진 검색\n"
      ],
      "metadata": {
        "id": "pr9ZpXSJiinO"
      }
    },
    {
      "cell_type": "code",
      "source": [
        ""
      ],
      "metadata": {
        "id": "ahnM6YV5ii5e"
      },
      "execution_count": null,
      "outputs": []
    }
  ]
}