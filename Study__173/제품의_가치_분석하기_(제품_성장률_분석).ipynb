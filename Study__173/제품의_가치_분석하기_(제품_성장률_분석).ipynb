{
  "nbformat": 4,
  "nbformat_minor": 0,
  "metadata": {
    "colab": {
      "name": "제품의 가치 분석하기 (제품 성장률 분석)",
      "provenance": [],
      "authorship_tag": "ABX9TyPMREu8JmxqzPhwKV0nN2YP"
    },
    "kernelspec": {
      "name": "python3",
      "display_name": "Python 3"
    },
    "language_info": {
      "name": "python"
    }
  },
  "cells": [
    {
      "cell_type": "markdown",
      "source": [
        "### 제품 성장률 분석- 제품 성장률 분석용 데이터 마트\n",
        "\n",
        "제분 성장률 분석을 위해, 제품 성장률 분석용 데이터 마트 생성\n",
        "\n",
        "- Sales 테이블(mem_no) + Product테이블(category,brand)+ 구매금액, 분기(주문일자:2020.01~06)\n",
        "\n",
        "![](https://images.velog.io/images/qsdcfd/post/536ae52e-4b3c-47d0-8bb9-f58f0617a11d/image.png)\n",
        "\n",
        "<br/>\n",
        "\n",
        "**분석 보고서**\n",
        "\n",
        "- 카테고리별 구매금액 성장률(2020년 1분기 ~ 2020년 2분기)\n",
        "\n",
        "- Beauty 키테고리 중, 브랜드별 구매자료\n",
        "\n",
        "![](https://images.velog.io/images/qsdcfd/post/19fca604-ce57-41b5-ac1f-ade6ff0bf78a/image.png)\n",
        "\n",
        "\n",
        "```\n",
        "USE PRACTICE;\n",
        "\n",
        "/****************************************************************************/\n",
        "/********************************제품 성장률 분석********************************/\n",
        "/****************************************************************************/\n",
        "\n",
        "/***************제품 성장률 분석용 데이터 마트***************/\n",
        "\n",
        "CREATE TABLE PRODUCT_GROWTH AS\n",
        "SELECT  A.MEM_NO\n",
        "        ,B.CATEGORY\n",
        "        ,B.BRAND\n",
        "        ,A.SALES_QTY * B.PRICE AS 구매금액\n",
        "        ,CASE WHEN DATE_FORMAT(ORDER_DATE, '%Y-%m') BETWEEN '2020-01' AND '2020-03' THEN '2020_1분기'\n",
        "\t\t\t  WHEN DATE_FORMAT(ORDER_DATE, '%Y-%m') BETWEEN '2020-04' AND '2020-06' THEN '2020_2분기'\n",
        "              END AS 분기\n",
        "  FROM  SALES AS A\n",
        "  LEFT\n",
        "  JOIN  PRODUCT AS B\n",
        "    ON  A.PRODUCT_CODE = B.PRODUCT_CODE\n",
        " WHERE  DATE_FORMAT(ORDER_DATE, '%Y-%m') BETWEEN '2020-01' AND '2020-06';\n",
        "\n",
        "/* 확인 */\n",
        "SELECT  *\n",
        "  FROM  PRODUCT_GROWTH;\n",
        "\n",
        "\n",
        "/* 1. 카테고리별 구매금액 성장률(2020년 1분기 -> 2020년 2분기) */\n",
        "\n",
        "SELECT  *\n",
        "\t\t,2020_2분기_구매금액 / 2020_1분기_구매금액 -1 AS 성장률\n",
        "  FROM  (\n",
        "\t\tSELECT  CATEGORY\n",
        "\t\t\t\t,SUM(CASE WHEN 분기 = '2020_1분기' THEN 구매금액 END) AS 2020_1분기_구매금액\n",
        "\t\t\t\t,SUM(CASE WHEN 분기 = '2020_2분기' THEN 구매금액 END) AS 2020_2분기_구매금액\n",
        "\t\t  FROM  PRODUCT_GROWTH\n",
        "\t\t GROUP\n",
        "\t\t\tBY  CATEGORY\n",
        "\t\t)AS A\n",
        " ORDER\n",
        "    BY  4 DESC;\n",
        "\n",
        "```\n",
        "\n",
        "![](https://images.velog.io/images/qsdcfd/post/3368ae3f-7646-40ec-bb29-c9ab2d19616e/image.png)\n",
        "\n",
        "\n",
        "```\n",
        "/* 2. Beauty 카테고리 중, 브랜드별 구매지표 */\n",
        "\n",
        "SELECT  BRAND\n",
        "        ,COUNT(DISTINCT MEM_NO) AS 구매자수\n",
        "        ,SUM(구매금액) AS 구매금액_합계\n",
        "        ,SUM(구매금액) / COUNT(DISTINCT MEM_NO) AS 인당_구매금액\n",
        "  FROM  PRODUCT_GROWTH\n",
        " WHERE  CATEGORY = 'beauty'\n",
        " GROUP\n",
        "    BY  BRAND\n",
        " ORDER\n",
        "    BY  4 DESC;\n",
        "\n",
        "\n",
        "```\n",
        "\n",
        "![](https://images.velog.io/images/qsdcfd/post/b64830fb-3ca6-4215-ba97-fa1bbdb0f1db/image.png)"
      ],
      "metadata": {
        "id": "I2g7L26ueZJp"
      }
    },
    {
      "cell_type": "code",
      "source": [
        ""
      ],
      "metadata": {
        "id": "PODWLmKdeZqE"
      },
      "execution_count": null,
      "outputs": []
    }
  ]
}