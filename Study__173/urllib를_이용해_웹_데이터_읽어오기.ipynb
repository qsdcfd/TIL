{
  "nbformat": 4,
  "nbformat_minor": 0,
  "metadata": {
    "colab": {
      "name": "urllib를 이용해 웹 데이터 읽어오기",
      "provenance": [],
      "authorship_tag": "ABX9TyPYZDYVKXkb4M/pHitWF0Lh"
    },
    "kernelspec": {
      "name": "python3",
      "display_name": "Python 3"
    },
    "language_info": {
      "name": "python"
    }
  },
  "cells": [
    {
      "cell_type": "markdown",
      "source": [
        "### urllib 라이브러리\n",
        "\n",
        "urllib을 활용하면 아주 간단하게 웹 브라우저를 만들 수 있습니다.\n",
        "\n",
        "이전에 여러 줄에 걸쳐 만들었던 웹 브라우저가 urllib 라이브러리를 활용하면 이렇게 4줄만에 완성이 됩니다.\n",
        "\n",
        "```\n",
        "import urllib.request, urllib.parse, urllib.error\n",
        "\n",
        "fhand = urllib.request.urlopen('http://data.pr4e.org/romeo.txt')\n",
        "for line in fhand:\n",
        "    print(line.decode().strip())\n",
        "```\n",
        " \n",
        "![](https://images.velog.io/images/qsdcfd/post/f24f0772-f4d6-4aaf-bac8-831d6afea946/image.png)\n",
        "\n",
        "이것을 응용하면 이전에 파일에서 데이터를 읽어왔던 것을 인터넷에서 데이터를 읽어올 수 있습니다.\n",
        "\n",
        "```\n",
        "import urllib.request, urllib.parse, urllib.error\n",
        "\n",
        "fhand = urllib.request.urlopen('http://data.pr4e.org/romeo.txt')\n",
        "\n",
        "counts = dict()\n",
        "for line in fhand:\n",
        "    words = line.decode().split()\n",
        "    for word in words:\n",
        "        counts[word] = counts.get(word, 0) + 1\n",
        "print(counts)\n",
        " \n",
        "```\n",
        "![](https://images.velog.io/images/qsdcfd/post/e1e06790-3063-4b3c-9bbd-0efe7b51dbf7/image.png)\n",
        "\n",
        "그리고 이렇게 HTML로 만들어진 웹 페이지도 읽어올 수 있습니다.\n",
        "\n",
        "```\n",
        "import urllib.request, urllib.parse, urllib.error\n",
        "\n",
        "fhand = urllib.request.urlopen('http://www.dr-chuck.com/page1.htm')\n",
        "for line in fhand:\n",
        "    print(line.decode().strip())\n",
        "```\n",
        "![](https://images.velog.io/images/qsdcfd/post/a270e267-b308-4964-9b8f-427abd94067d/image.png)\n",
        "\n",
        "웹 페이지에서 읽어온 데이터는 HTML 형태"
      ],
      "metadata": {
        "id": "XyYS4OJuQwed"
      }
    },
    {
      "cell_type": "code",
      "source": [
        ""
      ],
      "metadata": {
        "id": "Y0G1Zx4KPyYD"
      },
      "execution_count": null,
      "outputs": []
    }
  ]
}