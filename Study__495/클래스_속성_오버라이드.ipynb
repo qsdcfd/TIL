{
  "nbformat": 4,
  "nbformat_minor": 0,
  "metadata": {
    "colab": {
      "provenance": [],
      "authorship_tag": "ABX9TyOKwKOByq1bfP/njrL6t0Jv"
    },
    "kernelspec": {
      "name": "python3",
      "display_name": "Python 3"
    },
    "language_info": {
      "name": "python"
    }
  },
  "cells": [
    {
      "cell_type": "markdown",
      "source": [
        "# 객체지향 상용구\n",
        "## 파이썬스러운 객체\n",
        "### 클래스 속성 오버라이드\n",
        "\n",
        ">객체 속성의 기본값으로 사용하는 것은 파이썬의 독특한 특징으로, Vector2d클래스에는 typecode라는 클래스 속성이 있고, 이 속성은 __bytes__() 메서드에서 두 번 사용되고, 단지 self.typecode로 그 값을 읽습니다. Vector2d 객체가 그들 자신의 typecode 속성을 가지고 생성된 것이 아니므로, self.typecode는 기본적으로 Vector2d.typecode 클래스 속성을 가져온다.\n",
        "\n",
        "<br>\n",
        "\n",
        ">존재하지 않는 객체 속성에 값을 저장하고, 새로운 객체 속성을 생성하고 동일한 이름의 클래스 속성은 변경하지 않고, 객체가 self.typecode를 읽을 때 객체 자체의 typecode를 가져오므로, 동일한 이름의 클래스 속성을 가리게 되어 각 객체가 서로 다른 typecode를 갖도록 커스터마이즈할 수 있다.\n",
        "\n",
        "\n",
        "```\n",
        "\n",
        "<br>\n",
        "\n",
        "\n",
        "#클래스에서 상속받은 typecode 속성을 설정해서 객체 커스터마이즈하기\n",
        "from vector2d_v3 import Vector2d\n",
        "v1 = Vector2d(1.1, 2.2)\n",
        "dumpd = bytes(v1)\n",
        "dumpd\n",
        "len(dumpd)\n",
        "v1.typecode='f'\n",
        "dumpf = bytes(v1)\n",
        "dumpf\n",
        "len(dumpf)\n",
        "Vector2d.typecode\n",
        "\n",
        "```\n",
        "\n",
        "<br>\n",
        "\n",
        "```\n",
        "#ShortVector2d는 기본 typecode만 덮어쓴 Vector2d의 서브클래스다.\n",
        "from vector2d_v3 import Vector2d\n",
        "class ShortVector2d(Vector2d):\n",
        "\ttypecode = 'f'\n",
        "    \n",
        "sv =ShortVector2d(1/11, 1/27)\n",
        "sv\n",
        "len(bytes(sv))\n",
        "```\n",
        "<br>\n",
        "\n",
        ">class_name을 하드코딩했다면 단지 class_name을 변경하기 위해서 ShortVector2d와 같은 Vector2d 서브 클래스의 __repr__() 메서드도 변경해야하고, 객체의 type에서 이름을 읽어오도록 만듦으로써 이 클래스를 상속하더라도 __repr__()을 안전하게 사용할 수 있다.|\\|"
      ],
      "metadata": {
        "id": "bZSjUmCryvTV"
      }
    },
    {
      "cell_type": "code",
      "source": [],
      "metadata": {
        "id": "Ck0Iz8BQyvx-"
      },
      "execution_count": null,
      "outputs": []
    }
  ]
}