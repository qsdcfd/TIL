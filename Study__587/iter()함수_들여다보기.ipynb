{
  "nbformat": 4,
  "nbformat_minor": 0,
  "metadata": {
    "colab": {
      "provenance": [],
      "authorship_tag": "ABX9TyONhZ+CGjzgsQ5tTOVAdIpd"
    },
    "kernelspec": {
      "name": "python3",
      "display_name": "Python 3"
    },
    "language_info": {
      "name": "python"
    }
  },
  "cells": [
    {
      "cell_type": "markdown",
      "source": [
        "# 제어흐름\n",
        "## 반복형,반복자,제너레이터\n",
        "### iter()함수 들여다보기\n",
        "\n",
        "iter()함수는 일반 함수나 콜러블 객체로부터 반복자를 생성하기 위해 두 개의 인수를 전달해서 호출할 수 있다. \n",
        "\n",
        "첫 번째 인수는 값을 생성하기 위해서 인수없이 반복적으로 호출되는 콜러블이다.\n",
        "\n",
        "두 번째 인수는 구분 표시로서, 콜러블에서 이 값이 반환되면 반복자가 StopIteration 예외를 발생시키도록 만든다.\n",
        "\n",
        "```\n",
        "def d6():\n",
        "\treturn randint(1,6)\n",
        "\n",
        "d6_iter = iter(d6,1)\n",
        "d6_iter\n",
        "for roll in d6_iter:\n",
        "\tprint(roll\n",
        "```\n",
        "\n",
        ">iter()함수는 callable_iterator 객체를 반환하고, for 루프에서 1은 구분 표시이므로 아무리 오래 실행하더라도 결코 1을 출력하지 않는다.\n",
        "\n",
        "```\n",
        "with open('mydata.txt') as fp:\n",
        "\tfor line in iter(fp.readline, ''):\n",
        "    \tprocess_line(line)\n",
        "```"
      ],
      "metadata": {
        "id": "54pLb9xig-Ni"
      }
    },
    {
      "cell_type": "code",
      "source": [],
      "metadata": {
        "id": "hQkq-o6Mg_O5"
      },
      "execution_count": null,
      "outputs": []
    }
  ]
}