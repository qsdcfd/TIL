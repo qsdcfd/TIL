{
  "nbformat": 4,
  "nbformat_minor": 0,
  "metadata": {
    "colab": {
      "provenance": [],
      "authorship_tag": "ABX9TyO3/GKuU6Xq2e2qUHivZo35"
    },
    "kernelspec": {
      "name": "python3",
      "display_name": "Python 3"
    },
    "language_info": {
      "name": "python"
    }
  },
  "cells": [
    {
      "cell_type": "markdown",
      "source": [
        "# 제어 흐름\n",
        "## 코루틴\n",
        "### 코루틴에서 값 반환하기\n",
        "\n",
        "averager() 코루틴을 변형해서 값을 반환하고, 활성화할 때마다 이동 평균을 생성하지 않는다.\n",
        "의미 있는 값을 생성하지는 않지만 최후에 어떤 의미 있는 값을 반환하는 코루틴도 있음을 설명해야 한다.\n",
        "\n",
        "```\n",
        "#결과를 반환하는 averager() 코루틴 코드\n",
        "from collections import namedtuple\n",
        "\n",
        "Result = namedtuple('Result', 'count average')\n",
        "\n",
        "def averager():\n",
        "\ttotal = 0.0\n",
        "    count = 0\n",
        "    average = None\n",
        "    while True:\n",
        "    \tterm = yield\n",
        "        if term is None:\n",
        "        \tbreak\n",
        "        total += term\n",
        "        count += 1\n",
        "        average = total/count\n",
        "    return Result(count, average)\n",
        "\n",
        "#averager()의 동작을 보여주는 doctest\n",
        "coro_avg = averager()\n",
        "next(coro_avg)\n",
        "coro_avg.send(10)\n",
        "coro_avg.send(30)\n",
        "coro_avg.send(6.5)\n",
        "coro_avg.send(None)\n",
        "```\n",
        "\n",
        "<br>\n",
        "\n",
        ">return 문이 반환하는 값은 StopIteration 예외의 속성에 담겨 호출자에 밀반입됨에 주의하고, 실행이 완료되면 StopIteartion 예외를 발생시키는 기존 제너레이터 객체의 작동 방식을 유지한다.\n",
        "\n",
        "```\n",
        "coro_avg = averager()\n",
        "next(coro_avg)\n",
        "coro_avg.send(10)\n",
        "coro_avg.send(30)\n",
        "coro_avg.send(6.5)\n",
        "try:\n",
        "\tcoro_avg.send(None)\n",
        "except StopIteration as exc:\n",
        "\tresult = exc.value\n",
        "result\n",
        "```\n",
        "\n"
      ],
      "metadata": {
        "id": "W-_mpQwv2QaE"
      }
    },
    {
      "cell_type": "code",
      "source": [],
      "metadata": {
        "id": "YO1sJwRo2QlS"
      },
      "execution_count": null,
      "outputs": []
    }
  ]
}