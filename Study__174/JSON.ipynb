{
  "nbformat": 4,
  "nbformat_minor": 0,
  "metadata": {
    "colab": {
      "name": "JSON",
      "provenance": [],
      "authorship_tag": "ABX9TyM7nq2siuOkY6Xwc+tUBpiF"
    },
    "kernelspec": {
      "name": "python3",
      "display_name": "Python 3"
    },
    "language_info": {
      "name": "python"
    }
  },
  "cells": [
    {
      "cell_type": "markdown",
      "source": [
        "### JSON(JavaScript Object Notation)\n",
        "\n",
        "JSON은 XML보다 더 자주 사용되는 데이터 포맷입니다. 이 코드는 이전 시간에 XML로 실행했던 것과 정확히 같은 내용의 코드입니다. \n",
        "\n",
        "데이터가 XML 형식에서 JSON 형식으로 바뀐 것을 제외하면 말입니다.\n",
        "JSON은 파이썬에서의 딕셔너리와 굉장히 비슷하기 때문에 데이터를 읽어온 후 딕셔너리로 접근할 수 있습니다.\n",
        "\n",
        "\n",
        "```\n",
        "\n",
        "\n",
        "import json\n",
        "data = '''{\n",
        "  \"name\" : \"Chuck\",\n",
        "  \"phone\" : {\n",
        "    \"type\" : \"intl\",\n",
        "    \"number\" : \"+1 734 303 4456\"\n",
        "   },\n",
        "   \"email\" : {\n",
        "     \"hide\" : \"yes\"\n",
        "   }\n",
        "}'''\n",
        "\n",
        "info = json.loads(data)\n",
        "print('Name:',info[\"name\"])\n",
        "print('Hide:',info[\"email\"][\"hide\"])\n",
        "\n",
        "#Name: Chuck\n",
        "#Hide: yes\n",
        "```\n",
        "\n",
        "이와 같이 여러 개의 데이터를 읽어올 경우 리스트에 딕셔너리가 포함된 형태로 읽어집니다.\n",
        "\n",
        "```\n",
        "import json\n",
        "input = '''[\n",
        "  { \"id\" : \"001\",\n",
        "    \"x\" : \"2\",\n",
        "    \"name\" : \"Chuck\"\n",
        "  } ,\n",
        "  { \"id\" : \"009\",\n",
        "    \"x\" : \"7\",\n",
        "    \"name\" : \"Chuck\"\n",
        "  }\n",
        "]'''\n",
        "\n",
        "info = json.loads(input)\n",
        "print(info)\n",
        "print('User count:', len(info))\n",
        "for item in info:\n",
        "    print('Name', item['name'])\n",
        "    print('Id', item['id'])\n",
        "    print('Attribute', item['x'])\n",
        "\n",
        "# [{'id': '001', 'x': '2', 'name': 'Chuck'}, {'id': '009', 'x': '7', 'name': 'Chuck'}]\n",
        "# User count: 2\n",
        "# Name Chuck\n",
        "# Id 001\n",
        "# Attribute 2\n",
        "# Name Chuck\n",
        "# Id 009\n",
        "# Attribute 7\n",
        " \n",
        "```"
      ],
      "metadata": {
        "id": "mCRnmTo0sNC9"
      }
    },
    {
      "cell_type": "code",
      "source": [
        ""
      ],
      "metadata": {
        "id": "feU83YfDsNTK"
      },
      "execution_count": null,
      "outputs": []
    }
  ]
}