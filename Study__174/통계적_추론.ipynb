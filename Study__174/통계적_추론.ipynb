{
  "nbformat": 4,
  "nbformat_minor": 0,
  "metadata": {
    "colab": {
      "name": "통계적 추론",
      "provenance": [],
      "authorship_tag": "ABX9TyNVSyARTNlIeJiA1uglEJ+N"
    },
    "kernelspec": {
      "name": "python3",
      "display_name": "Python 3"
    },
    "language_info": {
      "name": "python"
    }
  },
  "cells": [
    {
      "cell_type": "markdown",
      "source": [
        "### 통계적 추론\n",
        "모집단으로부터 표본을 추출하는 이유는 모집단의 특성을 나타내는 모수 (평균, 분산, 비율 등)에 대한 정보를 얻기 위한 것입니다.\n",
        "\n",
        "*추정(estimation)\n",
        "\n",
        "추정은 하나의 점으로 모수 값을 추정하는 점 추정이 있고 이 모수가 어느 구간에 속할 것인가 라는 구간추정으로 구분합니다.\n",
        "\n",
        "점 추정을 point estimation 구간추정은 interval estimation 가설검정을 hypothesis test 라고 합니다.\n",
        "\n",
        "\n",
        "모집단의 특성을 나타내는 모평균과 모분산이 있다고 할 때, 이 값들을 모르기 때문에 표본을 추출해서 표본평균과 표본분산으로 추정을 합니다.\n",
        "\n",
        "![](https://images.velog.io/images/qsdcfd/post/df701d63-c950-47c8-9262-72fb448c4edd/image.png)\n",
        "\n",
        "그래서 일반적으로 모수를 theta라고 했을 때 이 theta는 모평균 모분산 등의 값이 될 수 있습니다.\n",
        "\n",
        "그리고 어떤 점 추정치를 theta hat이라는 기호를 쓰겠습니다.\n",
        "\n",
        "계산된 theta hat에 기댓값을 취할 수 있고, 기댓값을 취한다는 것은 theta hat이 가지는 분포를 구해서 기댓값을 구할 수 있습니다.\n",
        "\n",
        "이 기댓값이 우리가 구하고자 했던 모수와 같게 되면 theta hat은 theta에 대한 불편 추정치(unbiased estimator)라고 합니다.\n",
        "\n",
        "*모평균 M에 대한 점 추정치 X의 성질\n",
        "\n",
        "![](https://images.velog.io/images/qsdcfd/post/0ab4aeef-1932-4e22-9579-bbd849923bb3/image.png)\n",
        "\n",
        "*모분산에대한 점 추정치의 성질\n",
        "\n",
        "![](https://images.velog.io/images/qsdcfd/post/97b13e56-2996-4be5-b3e8-bd2ce7edbc37/image.png)\n",
        "\n",
        "\n",
        "*베르누이 시행과 이항분포의 경우\n",
        " \n",
        "![](https://images.velog.io/images/qsdcfd/post/378993e8-351d-447e-af54-543af017b28d/image.png)\n",
        "\n",
        "\n",
        "따라서 이것에 대한 점 추정치는 phat이라 하고 이것은 X/n이 됩니다.\n",
        "\n",
        "이것이 바로 표본평균이 되며 성공의 확률 p에 대한 점 추정치가 되겠습니다."
      ],
      "metadata": {
        "id": "ius6d_31qvY4"
      }
    },
    {
      "cell_type": "code",
      "source": [
        ""
      ],
      "metadata": {
        "id": "4T_PiM3sqv8k"
      },
      "execution_count": null,
      "outputs": []
    }
  ]
}