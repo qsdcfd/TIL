{
  "nbformat": 4,
  "nbformat_minor": 0,
  "metadata": {
    "colab": {
      "name": "함수의 개념",
      "provenance": [],
      "authorship_tag": "ABX9TyMn1GQVy9zV3Ht00eg8cNw6"
    },
    "kernelspec": {
      "name": "python3",
      "display_name": "Python 3"
    },
    "language_info": {
      "name": "python"
    }
  },
  "cells": [
    {
      "cell_type": "markdown",
      "source": [
        "#### 학습목표\n",
        "\n",
        "함수의 개념을 이해하고 내장 함수를 잘 사용 할 수 있다.\n",
        "\n",
        "<br> \n",
        "\n",
        "#### 핵심 키워드\n",
        "\n",
        "함수\n",
        "\n",
        "내장 함수\n",
        "\n",
        "--- \n",
        "\n",
        "\n",
        "### 함수\n",
        "\n",
        "*함수 정의\n",
        "\n",
        "![](https://images.velog.io/images/qsdcfd/post/34336fa9-5c26-476d-8230-904b022752ed/image.png)\n",
        "\n",
        "*함수 예시들\n",
        "\n",
        "![](https://images.velog.io/images/qsdcfd/post/b3ccc540-a77a-4549-9c2d-cb970066616a/image.png)\n",
        "\n",
        "*함수 동작원리\n",
        "\n",
        "![](https://images.velog.io/images/qsdcfd/post/eb6766bf-6781-4276-ae15-eb8f5fa63e17/image.png)\n",
        "\n",
        "함수는 반복적으로 호출해야 하는 코드의 묶음을 하나의 블럭으로 만들어서 이름을 붙여 재사용률을 높인 코드의 묶음.\n",
        "\n",
        "이것에 대한 효율성을 알아보자면,\n",
        "\n",
        "치약과 칫솔을 꺼낸다 → 치약을 칫솔에 1cm가량 바른다 → 물을 묻힌다 → 윗니를 닦는다 → 아랫니를 닦는다 → 물로 행군다. 이것을 반복한다면 얼마나 짜증이 나겠습니까? 이걸 함수의 이름으로 호출하여 :(콜론) 이후에 입력해 놓은 실행 코드를 순차적 실행 가능\n",
        "\n",
        "\n",
        "```\n",
        "def 양치질():\n",
        "    치약과 칫솔을 꺼낸다.\n",
        "    치약을 칫솔에 1cm가량 바른다.\n",
        "    물을 묻힌다. \n",
        "    윗니를 닦는다.\n",
        "    아랫니를 닦는다.\n",
        "    물로 행군다.\n",
        "```\n",
        "\n",
        "\n",
        "\n",
        "\n",
        "<br>\n",
        "\n",
        "### 내장 함수\n",
        "\n",
        "print(\"Hello World\") # ( 괄호 ) 안의 내용을 출력하는 함수\n",
        "\n",
        "input( ) # ( 괄호 ) 안의 사용자 입력값을 받는 함수\n",
        "\n",
        "float( ) # ( 괄호 ) 안의 값을 float로 변환하는 함수\n",
        "\n",
        "int( ) # ( 괄호 ) 안의 값을 int로 변환하는 함수"
      ],
      "metadata": {
        "id": "k0g_nEYvBWex"
      }
    },
    {
      "cell_type": "code",
      "source": [
        ""
      ],
      "metadata": {
        "id": "Vpdt6IzGBb6x"
      },
      "execution_count": null,
      "outputs": []
    }
  ]
}