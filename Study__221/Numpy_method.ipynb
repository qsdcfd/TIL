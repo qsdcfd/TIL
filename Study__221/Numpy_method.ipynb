{
  "cells": [
    {
      "cell_type": "markdown",
      "metadata": {
        "id": "view-in-github",
        "colab_type": "text"
      },
      "source": [
        "<a href=\"https://colab.research.google.com/github/qsdcfd/TIL/blob/TIL/Study__221/Numpy_method.ipynb\" target=\"_parent\"><img src=\"https://colab.research.google.com/assets/colab-badge.svg\" alt=\"Open In Colab\"/></a>"
      ]
    },
    {
      "cell_type": "markdown",
      "metadata": {
        "id": "kv6gH7G01Pal"
      },
      "source": [
        "## Numpy"
      ]
    },
    {
      "cell_type": "markdown",
      "metadata": {
        "id": "RQWkeQgD1Pam"
      },
      "source": [
        "### 1. Numpy Array and Operation"
      ]
    },
    {
      "cell_type": "markdown",
      "metadata": {
        "id": "igGUA1oE1Pam"
      },
      "source": [
        "- numpy의 기본적인 사용법에 대해서 배워봅니다.\n",
        "\n",
        "\n",
        "- numpy에서 numpy.array를 만드는 여러가지 방법과 지원하는 연산자에 대해서 공부합니다."
      ]
    },
    {
      "cell_type": "markdown",
      "source": [
        "### 1.1. Numpy Array creation"
      ],
      "metadata": {
        "id": "ZzPzxgQ53PcS"
      }
    },
    {
      "cell_type": "code",
      "execution_count": 6,
      "metadata": {
        "id": "MoD6QOXY1Pan"
      },
      "outputs": [],
      "source": [
        "# numpy 라이브러리를 불러옵니다.\n",
        "import numpy as np"
      ]
    },
    {
      "cell_type": "code",
      "execution_count": 2,
      "metadata": {
        "id": "bqVEQaBP1Pan",
        "colab": {
          "base_uri": "https://localhost:8080/"
        },
        "outputId": "86eba5c1-d4ed-4758-9ce1-5ab7493b625f"
      },
      "outputs": [
        {
          "output_type": "execute_result",
          "data": {
            "text/plain": [
              "[1, 2, 3, 4, 5]"
            ]
          },
          "metadata": {},
          "execution_count": 2
        }
      ],
      "source": [
        "# 파이썬 리스트 선언\n",
        "data = [1,2,3,4,5]\n",
        "data"
      ]
    },
    {
      "cell_type": "code",
      "execution_count": 4,
      "metadata": {
        "id": "jADukVLG1Pan",
        "colab": {
          "base_uri": "https://localhost:8080/"
        },
        "outputId": "0976ff84-09a7-4c97-940a-52adeebb7baf"
      },
      "outputs": [
        {
          "output_type": "execute_result",
          "data": {
            "text/plain": [
              "[[1, 2], [3, 4]]"
            ]
          },
          "metadata": {},
          "execution_count": 4
        }
      ],
      "source": [
        "# 파이썬 2차원 리스트(행렬) 선언\n",
        "data2 = [[1,2], [3,4]]\n",
        "data2"
      ]
    },
    {
      "cell_type": "code",
      "execution_count": 9,
      "metadata": {
        "id": "jQq60ZfX1Pan",
        "colab": {
          "base_uri": "https://localhost:8080/"
        },
        "outputId": "4e5f2873-e525-4686-ae18-3e53771e901d"
      },
      "outputs": [
        {
          "output_type": "execute_result",
          "data": {
            "text/plain": [
              "array([1, 2, 3, 4, 5])"
            ]
          },
          "metadata": {},
          "execution_count": 9
        }
      ],
      "source": [
        "\n",
        "\n",
        "# 파이썬 list를 numpy array로 변환합니다.\n",
        "arr =np.array(data)\n",
        "# numpy array를 만드는 방식의 대부분은 파이썬 리스트를 np.array로 변환하는 방식입니다.\n",
        "arr"
      ]
    },
    {
      "cell_type": "code",
      "execution_count": 8,
      "metadata": {
        "id": "eqbxPjfu1Pao",
        "colab": {
          "base_uri": "https://localhost:8080/"
        },
        "outputId": "07458ee4-2147-4b33-88b0-2cccc24ae388"
      },
      "outputs": [
        {
          "output_type": "execute_result",
          "data": {
            "text/plain": [
              "array([[1, 2],\n",
              "       [3, 4]])"
            ]
          },
          "metadata": {},
          "execution_count": 8
        }
      ],
      "source": [
        "# 2차원 리스트를 np.array로 만듭니다.\n",
        "arr2 = np.array(data2) # data2라는 리스트를 numpy array로 만들어라.\n",
        "arr2"
      ]
    },
    {
      "cell_type": "code",
      "execution_count": 11,
      "metadata": {
        "id": "oMdYjtc21Pao",
        "colab": {
          "base_uri": "https://localhost:8080/"
        },
        "outputId": "bf29b84a-eb6c-4a91-cec3-c4446108c531"
      },
      "outputs": [
        {
          "output_type": "execute_result",
          "data": {
            "text/plain": [
              "array([0, 1, 2, 3, 4, 5, 6, 7, 8, 9])"
            ]
          },
          "metadata": {},
          "execution_count": 11
        }
      ],
      "source": [
        "# 0부터 9까지 숫자를 자동으로 생성한 array\n",
        "#np.array(list(range(10)))\n",
        "np.arange(10)"
      ]
    },
    {
      "cell_type": "code",
      "execution_count": 13,
      "metadata": {
        "id": "NwMSPz0Z1Pao",
        "colab": {
          "base_uri": "https://localhost:8080/"
        },
        "outputId": "81e01683-5d78-4c42-b7e0-eaf93b7bf916"
      },
      "outputs": [
        {
          "output_type": "execute_result",
          "data": {
            "text/plain": [
              "array([10, 11, 12, 13, 14, 15, 16, 17, 18, 19, 20, 21, 22, 23, 24, 25, 26,\n",
              "       27, 28, 29, 30, 31, 32, 33, 34, 35, 36, 37, 38, 39, 40, 41, 42, 43,\n",
              "       44, 45, 46, 47, 48, 49, 50, 51, 52, 53, 54, 55, 56, 57, 58, 59, 60,\n",
              "       61, 62, 63, 64, 65, 66, 67, 68, 69, 70, 71, 72, 73, 74, 75, 76, 77,\n",
              "       78, 79, 80, 81, 82, 83, 84, 85, 86, 87, 88, 89, 90, 91, 92, 93, 94,\n",
              "       95, 96, 97, 98, 99])"
            ]
          },
          "metadata": {},
          "execution_count": 13
        }
      ],
      "source": [
        "# 10부터 99까지 숫자를 자동으로 생성한 array\n",
        "np.arange(10,100)"
      ]
    },
    {
      "cell_type": "markdown",
      "metadata": {
        "id": "UFFwSitw1Pao"
      },
      "source": [
        "### 1.2. Reshaping array"
      ]
    },
    {
      "cell_type": "code",
      "execution_count": 14,
      "metadata": {
        "id": "-vcHHFl81Pao",
        "colab": {
          "base_uri": "https://localhost:8080/"
        },
        "outputId": "3c80c6e0-ed6e-4b46-fe84-dbf5983faea9"
      },
      "outputs": [
        {
          "output_type": "execute_result",
          "data": {
            "text/plain": [
              "array([[1, 2, 3],\n",
              "       [4, 5, 6],\n",
              "       [7, 8, 9]])"
            ]
          },
          "metadata": {},
          "execution_count": 14
        }
      ],
      "source": [
        "# 3 x 3 행렬을 만들어봅시다.\n",
        "x = np.array([[1,2,3],\n",
        "              [4,5,6],\n",
        "              [7,8,9]])\n",
        "x"
      ]
    },
    {
      "cell_type": "code",
      "execution_count": 15,
      "metadata": {
        "id": "HChX3Sv91Pao",
        "colab": {
          "base_uri": "https://localhost:8080/"
        },
        "outputId": "32cd17d5-7440-435a-f311-19114a66264a"
      },
      "outputs": [
        {
          "output_type": "execute_result",
          "data": {
            "text/plain": [
              "array([[1, 2, 3],\n",
              "       [4, 5, 6],\n",
              "       [7, 8, 9]])"
            ]
          },
          "metadata": {},
          "execution_count": 15
        }
      ],
      "source": [
        "# reshape을 이용하여 만들어봅시다.\n",
        "np.arange(1,10).reshape(3,3)"
      ]
    },
    {
      "cell_type": "code",
      "source": [
        "# row vector를 column vector로\n",
        "np.arange(6).reshape(6,1)"
      ],
      "metadata": {
        "id": "jKHQRaFx5QFT",
        "colab": {
          "base_uri": "https://localhost:8080/"
        },
        "outputId": "7d3dbbbe-aac3-49c4-fb05-e3f783245ca2"
      },
      "execution_count": 17,
      "outputs": [
        {
          "output_type": "execute_result",
          "data": {
            "text/plain": [
              "array([[0],\n",
              "       [1],\n",
              "       [2],\n",
              "       [3],\n",
              "       [4],\n",
              "       [5]])"
            ]
          },
          "metadata": {},
          "execution_count": 17
        }
      ]
    },
    {
      "cell_type": "code",
      "source": [
        "# 펼치기\n",
        "x.reshape(-1, )"
      ],
      "metadata": {
        "id": "Jre4TnZT5YwK",
        "colab": {
          "base_uri": "https://localhost:8080/"
        },
        "outputId": "5874ba6a-6514-4034-bde6-c2fdfd707aad"
      },
      "execution_count": 18,
      "outputs": [
        {
          "output_type": "execute_result",
          "data": {
            "text/plain": [
              "array([1, 2, 3, 4, 5, 6, 7, 8, 9])"
            ]
          },
          "metadata": {},
          "execution_count": 18
        }
      ]
    },
    {
      "cell_type": "markdown",
      "metadata": {
        "id": "MMrKtZy-1Pao"
      },
      "source": [
        "### 1.3. Concatenation of arrays"
      ]
    },
    {
      "cell_type": "code",
      "execution_count": 20,
      "metadata": {
        "id": "6g1bOHDn1Pao",
        "colab": {
          "base_uri": "https://localhost:8080/"
        },
        "outputId": "b89579b5-6dd7-42bd-c30e-2c76f141e7d4"
      },
      "outputs": [
        {
          "output_type": "execute_result",
          "data": {
            "text/plain": [
              "array([1, 2, 3, 4, 5, 6])"
            ]
          },
          "metadata": {},
          "execution_count": 20
        }
      ],
      "source": [
        "arr1 = np.array([1, 2, 3])\n",
        "arr2 = np.array([4, 5, 6])\n",
        "# arr1 + arr2 = ?\n",
        "arr1 + arr2\n",
        "# arr1와 arr2를 합칩니다\n",
        "np.concatenate([arr1, arr2])"
      ]
    },
    {
      "cell_type": "code",
      "execution_count": 21,
      "metadata": {
        "id": "ePV80Pwx1Pao",
        "colab": {
          "base_uri": "https://localhost:8080/"
        },
        "outputId": "7b800c23-a66f-4de5-c12b-18e0172bc038"
      },
      "outputs": [
        {
          "output_type": "execute_result",
          "data": {
            "text/plain": [
              "array([[1, 2, 3],\n",
              "       [4, 5, 6]])"
            ]
          },
          "metadata": {},
          "execution_count": 21
        }
      ],
      "source": [
        "# stacking vertically\n",
        "np.vstack([arr1, arr2])"
      ]
    },
    {
      "cell_type": "code",
      "execution_count": 23,
      "metadata": {
        "id": "xcY9pR2M1Pap",
        "colab": {
          "base_uri": "https://localhost:8080/"
        },
        "outputId": "cc193574-efd7-4f8e-ee90-a5eacba3bb10"
      },
      "outputs": [
        {
          "output_type": "execute_result",
          "data": {
            "text/plain": [
              "array([1, 2, 3, 4, 5, 6])"
            ]
          },
          "metadata": {},
          "execution_count": 23
        }
      ],
      "source": [
        "# stacking horizontally\n",
        "np.hstack([arr1,arr2])"
      ]
    },
    {
      "cell_type": "markdown",
      "metadata": {
        "id": "1Pioy4a-1Pap"
      },
      "source": [
        "## 1.4. Array Arithmetic (like vector) --> Universal Function"
      ]
    },
    {
      "cell_type": "code",
      "execution_count": 24,
      "metadata": {
        "id": "sxjF6pdh1Pap"
      },
      "outputs": [],
      "source": [
        "# v1 = (1, 2, 3), v2 = (4, 5, 6) 벡터 2개 생성하기.\n",
        "v1 = np.array([1,2,3])\n",
        "v2 = np.array([4,5,6])"
      ]
    },
    {
      "cell_type": "code",
      "execution_count": 25,
      "metadata": {
        "id": "KFKEKB711Pap",
        "colab": {
          "base_uri": "https://localhost:8080/"
        },
        "outputId": "e80d1580-3447-4cb0-8059-499d84c632e6"
      },
      "outputs": [
        {
          "output_type": "execute_result",
          "data": {
            "text/plain": [
              "[1, 2, 3, 4, 5, 6]"
            ]
          },
          "metadata": {},
          "execution_count": 25
        }
      ],
      "source": [
        "# 리스트로 더하기 연산해보기\n",
        "L = [1,2,3]\n",
        "L2 = [4,5,6]\n",
        "L + L2"
      ]
    },
    {
      "cell_type": "code",
      "execution_count": 26,
      "metadata": {
        "id": "UiDh2wZX1Pap",
        "colab": {
          "base_uri": "https://localhost:8080/"
        },
        "outputId": "c65705a0-c6d3-4e52-b371-e7f8744b569b"
      },
      "outputs": [
        {
          "output_type": "execute_result",
          "data": {
            "text/plain": [
              "array([5, 7, 9])"
            ]
          },
          "metadata": {},
          "execution_count": 26
        }
      ],
      "source": [
        "#  vector addition\n",
        "v1 + v2"
      ]
    },
    {
      "cell_type": "code",
      "execution_count": 27,
      "metadata": {
        "id": "z1uh1zIW1Pap",
        "colab": {
          "base_uri": "https://localhost:8080/"
        },
        "outputId": "f71462c8-9337-498f-dd14-bd440e85425a"
      },
      "outputs": [
        {
          "output_type": "execute_result",
          "data": {
            "text/plain": [
              "array([-3, -3, -3])"
            ]
          },
          "metadata": {},
          "execution_count": 27
        }
      ],
      "source": [
        "#  vector subtraction\n",
        "v1-v2"
      ]
    },
    {
      "cell_type": "code",
      "execution_count": 28,
      "metadata": {
        "id": "Kp3n7JU91Pap",
        "colab": {
          "base_uri": "https://localhost:8080/"
        },
        "outputId": "3e24bfe4-420a-44cd-a4f0-3feb2154aada"
      },
      "outputs": [
        {
          "output_type": "execute_result",
          "data": {
            "text/plain": [
              "array([ 4, 10, 18])"
            ]
          },
          "metadata": {},
          "execution_count": 28
        }
      ],
      "source": [
        "# (not vector operation) elementwise multiplication\n",
        "v1 * v2"
      ]
    },
    {
      "cell_type": "code",
      "execution_count": 29,
      "metadata": {
        "id": "WQDxd6ew1Pap",
        "colab": {
          "base_uri": "https://localhost:8080/"
        },
        "outputId": "07e7818f-24f4-409a-a613-c6ad2bc6c671"
      },
      "outputs": [
        {
          "output_type": "execute_result",
          "data": {
            "text/plain": [
              "array([0.25, 0.4 , 0.5 ])"
            ]
          },
          "metadata": {},
          "execution_count": 29
        }
      ],
      "source": [
        "# (not vector operation) elementwise division\n",
        "v1/v2"
      ]
    },
    {
      "cell_type": "code",
      "execution_count": 30,
      "metadata": {
        "id": "Kh9DEujN1Pap",
        "colab": {
          "base_uri": "https://localhost:8080/"
        },
        "outputId": "3508aed2-4613-4bdf-e2d2-58c6bc7b9c73"
      },
      "outputs": [
        {
          "output_type": "execute_result",
          "data": {
            "text/plain": [
              "32"
            ]
          },
          "metadata": {},
          "execution_count": 30
        }
      ],
      "source": [
        "# dot product\n",
        "v1 @ v2"
      ]
    },
    {
      "cell_type": "markdown",
      "metadata": {
        "id": "Dp11IV1l1Pap"
      },
      "source": [
        "### 1.5. Broadcast and Universal Function"
      ]
    },
    {
      "cell_type": "markdown",
      "metadata": {
        "id": "lbGKwuWf1Pap"
      },
      "source": [
        "- 서로 크기가 다른 numpy array를 연산할 때, 자동으로 연산을 전파(broadcast)해주는 기능. 행렬곱 연산을 할 때 편리하다."
      ]
    },
    {
      "cell_type": "code",
      "execution_count": 31,
      "metadata": {
        "id": "g8pG0d-V1Paq"
      },
      "outputs": [],
      "source": [
        "arr1 = np.array([1,2,3])"
      ]
    },
    {
      "cell_type": "code",
      "execution_count": 32,
      "metadata": {
        "id": "CQDgu7vG1Paq",
        "colab": {
          "base_uri": "https://localhost:8080/"
        },
        "outputId": "13a39943-f3bd-4240-978b-916f63135b0b"
      },
      "outputs": [
        {
          "output_type": "execute_result",
          "data": {
            "text/plain": [
              "(2, 3)"
            ]
          },
          "metadata": {},
          "execution_count": 32
        }
      ],
      "source": [
        "arr2 = np.array([[-1,-1,-1],\n",
        "                 [1,1,1]])\n",
        "arr2.shape "
      ]
    },
    {
      "cell_type": "code",
      "execution_count": 33,
      "metadata": {
        "id": "-4EWUAZB1Paq",
        "colab": {
          "base_uri": "https://localhost:8080/"
        },
        "outputId": "c8c5f365-8ffe-4719-c73d-aa8685902afb"
      },
      "outputs": [
        {
          "output_type": "execute_result",
          "data": {
            "text/plain": [
              "array([[0, 1, 2],\n",
              "       [2, 3, 4]])"
            ]
          },
          "metadata": {},
          "execution_count": 33
        }
      ],
      "source": [
        "# 2개의 array를 더해보면?\n",
        "arr1 + arr2 # 2->2->3(v)"
      ]
    },
    {
      "cell_type": "code",
      "execution_count": 34,
      "metadata": {
        "id": "EvOolsHz1Paq",
        "colab": {
          "base_uri": "https://localhost:8080/"
        },
        "outputId": "c0068a2a-4933-4aa0-f1ac-275a8ca1c5cc"
      },
      "outputs": [
        {
          "output_type": "execute_result",
          "data": {
            "text/plain": [
              "array([[-1, -2, -3],\n",
              "       [ 1,  2,  3]])"
            ]
          },
          "metadata": {},
          "execution_count": 34
        }
      ],
      "source": [
        "# 2개의 array를 곱해보면? (**)\n",
        "arr1 * arr2"
      ]
    },
    {
      "cell_type": "markdown",
      "source": [
        "- Universal Function : broadcast 기능을 확장해서, numpy array의 모든 원소에 동일한 함수를 반복문으로 적용한 것과 같은 효과를 내는 기능."
      ],
      "metadata": {
        "id": "Rch_pHQW55S-"
      }
    },
    {
      "cell_type": "code",
      "source": [
        "# f = lambda x : 1/x\n",
        "arr1 = np.array([1., 2., 3.])\n",
        "print(1 / arr1)"
      ],
      "metadata": {
        "id": "AeXAfqUI6H0V",
        "colab": {
          "base_uri": "https://localhost:8080/"
        },
        "outputId": "45f51e54-0cee-4253-b282-05bf6719b6e2"
      },
      "execution_count": 35,
      "outputs": [
        {
          "output_type": "stream",
          "name": "stdout",
          "text": [
            "[1.         0.5        0.33333333]\n"
          ]
        }
      ]
    },
    {
      "cell_type": "code",
      "execution_count": 36,
      "metadata": {
        "id": "xt20aKq21Paq",
        "colab": {
          "base_uri": "https://localhost:8080/"
        },
        "outputId": "1c16d470-231d-46f3-b782-4545825f2fd1"
      },
      "outputs": [
        {
          "output_type": "execute_result",
          "data": {
            "text/plain": [
              "array([3., 4., 5.])"
            ]
          },
          "metadata": {},
          "execution_count": 36
        }
      ],
      "source": [
        "# f = lambda x : x + 2\n",
        "arr1 = arr1 +2\n",
        "arr1"
      ]
    },
    {
      "cell_type": "markdown",
      "metadata": {
        "id": "JQ9vQmo-1Paq"
      },
      "source": [
        "### 1.6. Indexing\n"
      ]
    },
    {
      "cell_type": "code",
      "execution_count": null,
      "metadata": {
        "id": "C2U2Y3Sz1Paq"
      },
      "outputs": [],
      "source": [
        "arr1 = np.arange(10)"
      ]
    },
    {
      "cell_type": "code",
      "execution_count": 37,
      "metadata": {
        "id": "5WULHYrI1Paq",
        "colab": {
          "base_uri": "https://localhost:8080/"
        },
        "outputId": "a7931335-9c05-467d-cee4-3838749518b3"
      },
      "outputs": [
        {
          "output_type": "execute_result",
          "data": {
            "text/plain": [
              "3.0"
            ]
          },
          "metadata": {},
          "execution_count": 37
        }
      ],
      "source": [
        "# 첫번째 원소\n",
        "arr1[0]"
      ]
    },
    {
      "cell_type": "code",
      "execution_count": 38,
      "metadata": {
        "id": "_N-nEw7V1Paq",
        "colab": {
          "base_uri": "https://localhost:8080/"
        },
        "outputId": "80e4c5dd-823b-4ac4-ae69-80846d98f383"
      },
      "outputs": [
        {
          "output_type": "execute_result",
          "data": {
            "text/plain": [
              "5.0"
            ]
          },
          "metadata": {},
          "execution_count": 38
        }
      ],
      "source": [
        "# 마지막 원소\n",
        "arr1[-1]"
      ]
    },
    {
      "cell_type": "code",
      "execution_count": 39,
      "metadata": {
        "id": "wNQa8qoO1Paq",
        "colab": {
          "base_uri": "https://localhost:8080/"
        },
        "outputId": "088cff57-0718-4eae-f73b-9d62fc85b406"
      },
      "outputs": [
        {
          "output_type": "execute_result",
          "data": {
            "text/plain": [
              "array([1, 2, 3])"
            ]
          },
          "metadata": {},
          "execution_count": 39
        }
      ],
      "source": [
        "# 앞에서부터 원소 3개 slicing\n",
        "arr[:3]"
      ]
    },
    {
      "cell_type": "code",
      "execution_count": 40,
      "metadata": {
        "id": "29pYfFvL1Paq",
        "colab": {
          "base_uri": "https://localhost:8080/"
        },
        "outputId": "e3f31c79-2ab7-432a-afd2-95158655a9a5"
      },
      "outputs": [
        {
          "output_type": "execute_result",
          "data": {
            "text/plain": [
              "array([[ 1,  2,  3,  4],\n",
              "       [ 5,  6,  7,  8],\n",
              "       [ 9, 10, 11, 12]])"
            ]
          },
          "metadata": {},
          "execution_count": 40
        }
      ],
      "source": [
        "arr2 = np.array([[1, 2, 3, 4],\n",
        "               [5, 6, 7, 8],\n",
        "               [9, 10, 11, 12]])\n",
        "arr2"
      ]
    },
    {
      "cell_type": "code",
      "execution_count": 42,
      "metadata": {
        "id": "p8EFXNq91Paq",
        "colab": {
          "base_uri": "https://localhost:8080/"
        },
        "outputId": "a755f1eb-9294-40fa-a53c-adc6d6c6feeb"
      },
      "outputs": [
        {
          "output_type": "execute_result",
          "data": {
            "text/plain": [
              "7"
            ]
          },
          "metadata": {},
          "execution_count": 42
        }
      ],
      "source": [
        "# arr2의 2row, 3column 원소 = 7\n",
        "arr2[1][2]\n",
        "arr2[1,2]"
      ]
    },
    {
      "cell_type": "code",
      "execution_count": 43,
      "metadata": {
        "id": "OVgw4bT11Paq",
        "colab": {
          "base_uri": "https://localhost:8080/"
        },
        "outputId": "a8865d2b-da55-4fb6-c7e5-cce29f85d4af"
      },
      "outputs": [
        {
          "output_type": "execute_result",
          "data": {
            "text/plain": [
              "array([ 3,  7, 11])"
            ]
          },
          "metadata": {},
          "execution_count": 43
        }
      ],
      "source": [
        "# arr2의 세번째 column [3, 7, 11]\n",
        "arr2[0,2]\n",
        "arr2[1,2]\n",
        "arr2[2,2]\n",
        "arr2[:,2]"
      ]
    },
    {
      "cell_type": "code",
      "execution_count": 44,
      "metadata": {
        "id": "krLo7Tvg1Paq",
        "colab": {
          "base_uri": "https://localhost:8080/"
        },
        "outputId": "f5250b4b-49a4-4d56-a8ff-921747c533cb"
      },
      "outputs": [
        {
          "output_type": "execute_result",
          "data": {
            "text/plain": [
              "array([[1, 2],\n",
              "       [5, 6]])"
            ]
          },
          "metadata": {},
          "execution_count": 44
        }
      ],
      "source": [
        "# arr2의 두번째 row\n",
        "arr2[0:2, 0:2]"
      ]
    },
    {
      "cell_type": "markdown",
      "metadata": {
        "id": "nb3NOpgU1Par"
      },
      "source": [
        "## 2. Numpy Methods\n",
        "\n",
        "- numpy에서 사용되는 여러가지 함수들을 사용해봅시다."
      ]
    },
    {
      "cell_type": "markdown",
      "metadata": {
        "id": "wsDCnH9Q1Par"
      },
      "source": [
        "### 2.1. Math Functions "
      ]
    },
    {
      "cell_type": "code",
      "execution_count": 45,
      "metadata": {
        "id": "Pme3p6FQ1Par",
        "colab": {
          "base_uri": "https://localhost:8080/"
        },
        "outputId": "372e7eee-6ff5-4054-c266-049b5c104265"
      },
      "outputs": [
        {
          "output_type": "execute_result",
          "data": {
            "text/plain": [
              "array([[-1.61131402, -0.32932463, -0.96780569],\n",
              "       [-1.04595115, -1.33803069,  0.7785728 ],\n",
              "       [-0.60272802, -0.39344687, -1.45002982],\n",
              "       [ 0.51787084,  2.061645  ,  1.08489648],\n",
              "       [-0.57888785,  1.48597866,  1.44614198]])"
            ]
          },
          "metadata": {},
          "execution_count": 45
        }
      ],
      "source": [
        "# 표준정규분포에서 random sampling을 한 원소를 가지는 5x3 행렬을 만든다.\n",
        "mat1 = np.random.randn(5,3)\n",
        "mat1"
      ]
    },
    {
      "cell_type": "code",
      "execution_count": 46,
      "metadata": {
        "id": "YnWulebZ1Par",
        "colab": {
          "base_uri": "https://localhost:8080/"
        },
        "outputId": "93a23386-08b1-44c4-fe6a-601911e25f1e"
      },
      "outputs": [
        {
          "output_type": "execute_result",
          "data": {
            "text/plain": [
              "array([[1.61131402, 0.32932463, 0.96780569],\n",
              "       [1.04595115, 1.33803069, 0.7785728 ],\n",
              "       [0.60272802, 0.39344687, 1.45002982],\n",
              "       [0.51787084, 2.061645  , 1.08489648],\n",
              "       [0.57888785, 1.48597866, 1.44614198]])"
            ]
          },
          "metadata": {},
          "execution_count": 46
        }
      ],
      "source": [
        "# mat1에 절대값 씌우기\n",
        "np.abs(mat1)"
      ]
    },
    {
      "cell_type": "code",
      "source": [
        "# mat1 제곱하기\n",
        "np.square(mat1)"
      ],
      "metadata": {
        "id": "LEt94K-t6sdK",
        "colab": {
          "base_uri": "https://localhost:8080/"
        },
        "outputId": "5743f884-49b4-4c74-c75a-6cf64173430b"
      },
      "execution_count": 47,
      "outputs": [
        {
          "output_type": "execute_result",
          "data": {
            "text/plain": [
              "array([[2.59633288, 0.10845471, 0.93664785],\n",
              "       [1.0940138 , 1.79032613, 0.60617561],\n",
              "       [0.36328107, 0.15480044, 2.10258649],\n",
              "       [0.26819021, 4.25038009, 1.17700038],\n",
              "       [0.33511115, 2.20813259, 2.09132664]])"
            ]
          },
          "metadata": {},
          "execution_count": 47
        }
      ]
    },
    {
      "cell_type": "code",
      "source": [
        "# mat1의 제곱근 구하기\n",
        "np.sqrt(mat1)"
      ],
      "metadata": {
        "id": "mFldaHe_6wHC",
        "colab": {
          "base_uri": "https://localhost:8080/"
        },
        "outputId": "5403be71-0e37-4b6b-8893-b3e3c133305d"
      },
      "execution_count": 48,
      "outputs": [
        {
          "output_type": "stream",
          "name": "stderr",
          "text": [
            "/usr/local/lib/python3.7/dist-packages/ipykernel_launcher.py:2: RuntimeWarning: invalid value encountered in sqrt\n",
            "  \n"
          ]
        },
        {
          "output_type": "execute_result",
          "data": {
            "text/plain": [
              "array([[       nan,        nan,        nan],\n",
              "       [       nan,        nan, 0.88236772],\n",
              "       [       nan,        nan,        nan],\n",
              "       [0.71963244, 1.43584296, 1.04158364],\n",
              "       [       nan, 1.21900725, 1.20255644]])"
            ]
          },
          "metadata": {},
          "execution_count": 48
        }
      ]
    },
    {
      "cell_type": "code",
      "source": [
        "# linear algebra functions\n",
        "vec = np.array([1, 2 ,3])\n",
        "\n",
        "# 1. norm\n",
        "np.linalg.norm(vec) #Vector L2 norm\n",
        "\n",
        "# 2. eigenvalue\n",
        "mat1 = np.array([[1,2],\n",
        "           [3,4]])\n",
        "\n",
        "np.linalg.eig(mat1)"
      ],
      "metadata": {
        "id": "khqI2kwA62Ez",
        "colab": {
          "base_uri": "https://localhost:8080/"
        },
        "outputId": "5581bf0e-f173-4978-9343-40b5d81fc31a"
      },
      "execution_count": 51,
      "outputs": [
        {
          "output_type": "execute_result",
          "data": {
            "text/plain": [
              "(array([-0.37228132,  5.37228132]), array([[-0.82456484, -0.41597356],\n",
              "        [ 0.56576746, -0.90937671]]))"
            ]
          },
          "metadata": {},
          "execution_count": 51
        }
      ]
    },
    {
      "cell_type": "markdown",
      "metadata": {
        "id": "Tk5S0yOf1Par"
      },
      "source": [
        "### 2.2. Aggregation functions "
      ]
    },
    {
      "cell_type": "code",
      "execution_count": 53,
      "metadata": {
        "id": "b0ei5LJ51Par",
        "colab": {
          "base_uri": "https://localhost:8080/"
        },
        "outputId": "4a0f8b7c-f168-49a9-a881-2e06dee4fbc6"
      },
      "outputs": [
        {
          "output_type": "execute_result",
          "data": {
            "text/plain": [
              "array([[0.30807481, 0.72571265],\n",
              "       [0.17226228, 0.75425152],\n",
              "       [0.44613091, 0.20957241]])"
            ]
          },
          "metadata": {},
          "execution_count": 53
        }
      ],
      "source": [
        "mat2 = np.random.rand(3, 2)\n",
        "mat2"
      ]
    },
    {
      "cell_type": "code",
      "execution_count": 54,
      "metadata": {
        "id": "hMKOS5O51Par",
        "colab": {
          "base_uri": "https://localhost:8080/"
        },
        "outputId": "8ae64648-089a-4081-93a8-f26f1a4aa0fc"
      },
      "outputs": [
        {
          "output_type": "execute_result",
          "data": {
            "text/plain": [
              "array([0.926468  , 1.68953659])"
            ]
          },
          "metadata": {},
          "execution_count": 54
        }
      ],
      "source": [
        "# Summation\n",
        "np.sum(mat2)\n",
        "np.sum(mat2, axis=1)\n",
        "np.sum(mat2, axis=0)"
      ]
    },
    {
      "cell_type": "code",
      "execution_count": 55,
      "metadata": {
        "id": "OdJZdrx_1Par",
        "colab": {
          "base_uri": "https://localhost:8080/"
        },
        "outputId": "3f801bd3-d007-415a-b5be-86f351735175"
      },
      "outputs": [
        {
          "output_type": "execute_result",
          "data": {
            "text/plain": [
              "array([0.30882267, 0.56317886])"
            ]
          },
          "metadata": {},
          "execution_count": 55
        }
      ],
      "source": [
        "# mean\n",
        "np.mean(mat2)\n",
        "np.mean(mat2, axis=0)\n"
      ]
    },
    {
      "cell_type": "code",
      "execution_count": 56,
      "metadata": {
        "id": "78xMuXMY1Par",
        "colab": {
          "base_uri": "https://localhost:8080/"
        },
        "outputId": "ee776bdd-972e-4d90-b51b-9c93f5ed6947"
      },
      "outputs": [
        {
          "output_type": "execute_result",
          "data": {
            "text/plain": [
              "0.23184476853776334"
            ]
          },
          "metadata": {},
          "execution_count": 56
        }
      ],
      "source": [
        "# std\n",
        "np.std(mat2)"
      ]
    },
    {
      "cell_type": "code",
      "execution_count": 57,
      "metadata": {
        "id": "KzfPurFc1Par",
        "colab": {
          "base_uri": "https://localhost:8080/"
        },
        "outputId": "fdabf911-c95f-4172-ceb1-1a26c8eec248"
      },
      "outputs": [
        {
          "output_type": "execute_result",
          "data": {
            "text/plain": [
              "array([0.72571265, 0.75425152, 0.44613091])"
            ]
          },
          "metadata": {},
          "execution_count": 57
        }
      ],
      "source": [
        "# min, max\n",
        "np.min(mat2, axis=0)\n",
        "np.max(mat2, axis=1)"
      ]
    },
    {
      "cell_type": "code",
      "execution_count": 58,
      "metadata": {
        "id": "YtRtiSG31Pas",
        "colab": {
          "base_uri": "https://localhost:8080/"
        },
        "outputId": "cd51f79a-4dbb-4aba-a711-51d7f37aa444"
      },
      "outputs": [
        {
          "output_type": "execute_result",
          "data": {
            "text/plain": [
              "array([1, 1, 0])"
            ]
          },
          "metadata": {},
          "execution_count": 58
        }
      ],
      "source": [
        "# 최소값이 있는 Index\n",
        "np.argmin(mat2, axis=0)\n",
        "np.argmax(mat2, axis=1)"
      ]
    },
    {
      "cell_type": "code",
      "execution_count": 59,
      "metadata": {
        "id": "0cndLCKl1Pas",
        "colab": {
          "base_uri": "https://localhost:8080/"
        },
        "outputId": "d71fb6f0-2075-48b7-aadf-f286d904a1c3"
      },
      "outputs": [
        {
          "output_type": "execute_result",
          "data": {
            "text/plain": [
              "array([1, 1, 0])"
            ]
          },
          "metadata": {},
          "execution_count": 59
        }
      ],
      "source": [
        "# 최대값이 있는 Index\n",
        "np.argmax(mat2, axis=1)"
      ]
    },
    {
      "cell_type": "code",
      "execution_count": 61,
      "metadata": {
        "id": "y2LVvF5b1Pas",
        "colab": {
          "base_uri": "https://localhost:8080/"
        },
        "outputId": "21795294-62ee-4a8d-e83e-c1c6fad8c180"
      },
      "outputs": [
        {
          "output_type": "execute_result",
          "data": {
            "text/plain": [
              "array([[0.30807481, 0.72571265],\n",
              "       [0.17226228, 0.75425152],\n",
              "       [0.44613091, 0.20957241]])"
            ]
          },
          "metadata": {},
          "execution_count": 61
        }
      ],
      "source": [
        "# 그냥 정렬 (오름차순 정렬만 지원합니다)\n",
        "mat2"
      ]
    },
    {
      "cell_type": "code",
      "source": [
        "## 내림차순 정렬\n",
        "np.sort(mat2, axis = 0)[::-1]"
      ],
      "metadata": {
        "colab": {
          "base_uri": "https://localhost:8080/"
        },
        "id": "g3ZsHsbNqLzO",
        "outputId": "bff81889-c3e3-4699-f10f-58fd93ab37e4"
      },
      "execution_count": 65,
      "outputs": [
        {
          "output_type": "execute_result",
          "data": {
            "text/plain": [
              "array([[0.44613091, 0.75425152],\n",
              "       [0.30807481, 0.72571265],\n",
              "       [0.17226228, 0.20957241]])"
            ]
          },
          "metadata": {},
          "execution_count": 65
        }
      ]
    },
    {
      "cell_type": "code",
      "execution_count": 64,
      "metadata": {
        "id": "mLeMOv7f1Pas",
        "colab": {
          "base_uri": "https://localhost:8080/"
        },
        "outputId": "0ac1c6a0-5670-439b-a42c-f8aea170d3c3"
      },
      "outputs": [
        {
          "output_type": "execute_result",
          "data": {
            "text/plain": [
              "array([[1, 2],\n",
              "       [0, 0],\n",
              "       [2, 1]])"
            ]
          },
          "metadata": {},
          "execution_count": 64
        }
      ],
      "source": [
        "# index를 정렬\n",
        "np.argsort(mat2, axis=0)"
      ]
    },
    {
      "cell_type": "markdown",
      "metadata": {
        "id": "2a2AgVdm1Pas"
      },
      "source": [
        "## 3. \bPerformance Check"
      ]
    },
    {
      "cell_type": "markdown",
      "metadata": {
        "id": "ciO_FLLW1Pas"
      },
      "source": [
        "- Universal Function 기능을 통해 반복문을 사용한 것보다 훨씬 빠른 성능을 냅니다.\n",
        "\n",
        "\n",
        "- 직접 실험을 통해 그 차이를 확인해보겠습니다."
      ]
    },
    {
      "cell_type": "code",
      "execution_count": 66,
      "metadata": {
        "id": "oVBZX1U31Pas"
      },
      "outputs": [],
      "source": [
        "np.random.seed(0)\n",
        "\n",
        "def reverse_num(values):\n",
        "    output = np.empty(len(values))\n",
        "    \n",
        "    for i in range(len(values)):\n",
        "        output[i] = 1.0 / values[i]\n",
        "    \n",
        "    return output"
      ]
    },
    {
      "cell_type": "code",
      "execution_count": 67,
      "metadata": {
        "id": "aagBlNXs1Pas",
        "colab": {
          "base_uri": "https://localhost:8080/"
        },
        "outputId": "2f89576e-c6d4-4203-9f02-d4ee3aa817f1"
      },
      "outputs": [
        {
          "output_type": "execute_result",
          "data": {
            "text/plain": [
              "array([45, 48, 65, ..., 93, 62, 19])"
            ]
          },
          "metadata": {},
          "execution_count": 67
        }
      ],
      "source": [
        "# 1부터 100까지 범위에서 1000000개를 랜덤으로 뽑아서 array를 만듭니다.\n",
        "big_array = np.random.randint(1, 100, 1000000)\n",
        "big_array"
      ]
    },
    {
      "cell_type": "code",
      "execution_count": 68,
      "metadata": {
        "id": "VMyEUiVM1Pas",
        "colab": {
          "base_uri": "https://localhost:8080/"
        },
        "outputId": "1f5d4414-34dd-4c3b-8118-7ef5eb22b9bb"
      },
      "outputs": [
        {
          "output_type": "stream",
          "name": "stdout",
          "text": [
            "1 loop, best of 5: 2.64 s per loop\n"
          ]
        }
      ],
      "source": [
        "%timeit reverse_num(big_array)"
      ]
    },
    {
      "cell_type": "code",
      "execution_count": 69,
      "metadata": {
        "id": "k7PvHI7-1Pas",
        "colab": {
          "base_uri": "https://localhost:8080/"
        },
        "outputId": "e590709c-3e72-4fad-c4ef-e0ce547b64ac"
      },
      "outputs": [
        {
          "output_type": "stream",
          "name": "stdout",
          "text": [
            "100 loops, best of 5: 3.01 ms per loop\n"
          ]
        }
      ],
      "source": [
        "%timeit 1.0 / big_array"
      ]
    },
    {
      "cell_type": "code",
      "execution_count": null,
      "metadata": {
        "id": "_11lEint1Pas"
      },
      "outputs": [],
      "source": [
        ""
      ]
    }
  ],
  "metadata": {
    "kernelspec": {
      "display_name": "Python 3 (ipykernel)",
      "language": "python",
      "name": "python3"
    },
    "language_info": {
      "codemirror_mode": {
        "name": "ipython",
        "version": 3
      },
      "file_extension": ".py",
      "mimetype": "text/x-python",
      "name": "python",
      "nbconvert_exporter": "python",
      "pygments_lexer": "ipython3",
      "version": "3.8.2"
    },
    "colab": {
      "name": "Chapter.02 데이터 분석 라이브러리-03. Numpy method (실습).ipynb의 사본",
      "provenance": [],
      "collapsed_sections": [],
      "include_colab_link": true
    }
  },
  "nbformat": 4,
  "nbformat_minor": 0
}