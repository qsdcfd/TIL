{
  "cells": [
    {
      "cell_type": "markdown",
      "metadata": {
        "id": "view-in-github",
        "colab_type": "text"
      },
      "source": [
        "<a href=\"https://colab.research.google.com/github/qsdcfd/TIL/blob/TIL/Study__221/%E1%84%87%E1%85%A1%E1%86%AB%E1%84%87%E1%85%A9%E1%86%A8%E1%84%86%E1%85%AE%E1%86%AB_1_ipynb%EC%9D%98_%EC%82%AC%EB%B3%B8.ipynb\" target=\"_parent\"><img src=\"https://colab.research.google.com/assets/colab-badge.svg\" alt=\"Open In Colab\"/></a>"
      ]
    },
    {
      "cell_type": "markdown",
      "metadata": {
        "id": "tisuLiBRaTYE"
      },
      "source": [
        "# 반복문\n",
        "반복문은 자료구조의 데이터 수만큼 코드를 반복실행 합니다.  \n",
        "자료구조에 있는 \"데이터를 하나씩 바인딩하고 들여쓰기된 코드를 실행\" 과정을 반복하는 겁니다. \n",
        "  \n",
        "## 반복문 - 기본형\n",
        "`for 변수 in 자료구조 : ` 형태로 코드를 작성합니다. 코드 끝에 콜론 `:` 있음에 주의하세요. 분기문과 같이 콜론 다음에는 들여쓰기와 함께 영향을 받는 코드를 작성합니다. "
      ]
    },
    {
      "cell_type": "markdown",
      "metadata": {
        "id": "2p7rwKJKaTYG"
      },
      "source": [
        "<img src=\"https://i.ibb.co/gR952tp/for-0.png\" width=\"300\" style=\"float:left\" />"
      ]
    },
    {
      "cell_type": "markdown",
      "metadata": {
        "id": "InREYvOpaTYG"
      },
      "source": [
        "###### 반복문을 사용하지 않고 한 줄에 하나의 값 출력하기"
      ]
    },
    {
      "cell_type": "code",
      "execution_count": 4,
      "metadata": {
        "id": "SPnndNp5aTYG",
        "outputId": "fba48413-fb2f-49cc-d2f7-cc6a837bc4dc",
        "colab": {
          "base_uri": "https://localhost:8080/"
        }
      },
      "outputs": [
        {
          "output_type": "stream",
          "name": "stdout",
          "text": [
            "가\n",
            "나\n",
            "다\n",
            "라\n"
          ]
        }
      ],
      "source": [
        "리스트 = [\"가\",\"나\",\"다\",\"라\",\"a\",\"b\",\"c\"]\n",
        "print(리스트[0])\n",
        "print(리스트[1])\n",
        "print(리스트[2])\n",
        "print(리스트[3])"
      ]
    },
    {
      "cell_type": "markdown",
      "metadata": {
        "id": "FZRjwVEmaTYH"
      },
      "source": [
        "###### 반복문으로 코드를 정리하기"
      ]
    },
    {
      "cell_type": "code",
      "execution_count": 5,
      "metadata": {
        "id": "7SoKu7KNaTYH",
        "colab": {
          "base_uri": "https://localhost:8080/"
        },
        "outputId": "03797a19-67fc-47ca-c8f3-ac6bfa0377b6"
      },
      "outputs": [
        {
          "output_type": "stream",
          "name": "stdout",
          "text": [
            "가\n",
            "나\n",
            "다\n",
            "라\n",
            "a\n",
            "b\n",
            "c\n"
          ]
        }
      ],
      "source": [
        "for s in 리스트:\n",
        "    print(s)"
      ]
    },
    {
      "cell_type": "code",
      "source": [
        "기차 = [\"철수\",\"영희\",\"희철\"]\n",
        "for 승무원 in 기차:\n",
        "    print(\"표검사:\", 승무원)"
      ],
      "metadata": {
        "colab": {
          "base_uri": "https://localhost:8080/"
        },
        "id": "J6S6WIg7fghG",
        "outputId": "828f9623-f19c-4e33-c2c0-9fdf0cba1c33"
      },
      "execution_count": 3,
      "outputs": [
        {
          "output_type": "stream",
          "name": "stdout",
          "text": [
            "표검사: 철수\n",
            "표검사: 영희\n",
            "표검사: 희철\n"
          ]
        }
      ]
    },
    {
      "cell_type": "markdown",
      "metadata": {
        "id": "EVBNX5cgaTYI"
      },
      "source": [
        "###### 연습문제 - 1\n",
        "다음 코드의 실행 결과를 예측하라."
      ]
    },
    {
      "cell_type": "markdown",
      "metadata": {
        "id": "BH-VVxRkaTYI"
      },
      "source": [
        "```python\n",
        "리스트 = [\"가\", \"나\", \"다\"]\n",
        "for 변수 in 리스트 :\n",
        "    print(변수)\n",
        "    print(\"-\" * 10)\n",
        "for 변수 in 리스트 :\n",
        "    print(변수)\n",
        "```"
      ]
    },
    {
      "cell_type": "code",
      "execution_count": 6,
      "metadata": {
        "id": "o4PeRwP5aTYI",
        "colab": {
          "base_uri": "https://localhost:8080/"
        },
        "outputId": "33a5c1a5-73d6-4bc3-8877-bb8200c768ad"
      },
      "outputs": [
        {
          "output_type": "stream",
          "name": "stdout",
          "text": [
            "가\n",
            "----------\n",
            "나\n",
            "----------\n",
            "다\n",
            "----------\n",
            "가\n",
            "나\n",
            "다\n"
          ]
        }
      ],
      "source": [
        "리스트 = [\"가\", \"나\", \"다\"]\n",
        "for 변수 in 리스트 :\n",
        "    print(변수)\n",
        "    print(\"-\" * 10)\n",
        "for 변수 in 리스트 :\n",
        "    print(변수)"
      ]
    },
    {
      "cell_type": "markdown",
      "metadata": {
        "id": "Kjy080YTaTYI"
      },
      "source": [
        "```python\n",
        "리스트 = [\"가\", \"나\", \"다\"]\n",
        "for 변수 in 리스트 :\n",
        "    print(변수)    \n",
        "    for k in 리스트 :\n",
        "        print(k)\n",
        "```"
      ]
    },
    {
      "cell_type": "code",
      "execution_count": 10,
      "metadata": {
        "id": "4rnfkMvLaTYJ",
        "colab": {
          "base_uri": "https://localhost:8080/"
        },
        "outputId": "738ed412-ca5e-415e-fe5a-ea74009f8d44"
      },
      "outputs": [
        {
          "output_type": "stream",
          "name": "stdout",
          "text": [
            "가\n",
            "\n",
            "가\n",
            "나\n",
            "다\n",
            "\n",
            "나\n",
            "\n",
            "가\n",
            "나\n",
            "다\n",
            "\n",
            "다\n",
            "\n",
            "가\n",
            "나\n",
            "다\n",
            "\n"
          ]
        }
      ],
      "source": [
        "리스트 = [\"가\", \"나\", \"다\"]\n",
        "for 변수 in 리스트 :\n",
        "    print(변수)\n",
        "    print(\"\")    \n",
        "    for k in 리스트 :\n",
        "        print(k)\n",
        "    print(\"\")"
      ]
    },
    {
      "cell_type": "markdown",
      "metadata": {
        "id": "WVE5-HLxaTYJ"
      },
      "source": [
        "###### 연습문제 - 2\n",
        "리스트에서 앞의 두 개의 값을 다음과 같이 출력하라.  \n",
        "```\n",
        "가\n",
        "나\n",
        "```"
      ]
    },
    {
      "cell_type": "code",
      "source": [
        "print(\"가\")\n",
        "print(\"나\")"
      ],
      "metadata": {
        "colab": {
          "base_uri": "https://localhost:8080/"
        },
        "id": "O9lgvKUmk769",
        "outputId": "1e1160a7-e88a-4e0e-bd13-76d1a6fce876"
      },
      "execution_count": 8,
      "outputs": [
        {
          "output_type": "stream",
          "name": "stdout",
          "text": [
            "가\n",
            "나\n"
          ]
        }
      ]
    },
    {
      "cell_type": "code",
      "execution_count": 16,
      "metadata": {
        "id": "mY8p4O2caTYJ",
        "colab": {
          "base_uri": "https://localhost:8080/"
        },
        "outputId": "7578e63c-bdab-49b9-f0fe-32cf3fb2d7fb"
      },
      "outputs": [
        {
          "output_type": "stream",
          "name": "stdout",
          "text": [
            "가\n",
            "나\n"
          ]
        }
      ],
      "source": [
        "# 슬라이싱 이용해서 문제를 해결하라.\n",
        "리스트 = [\"가\", \"나\", \"다\"]\n",
        "for i in 리스트[:2]:\n",
        "    print(i)"
      ]
    },
    {
      "cell_type": "code",
      "execution_count": 18,
      "metadata": {
        "id": "B-ADq7-NaTYK",
        "outputId": "6b1f799d-c3c1-4b73-8a80-bc4adaeb4210",
        "colab": {
          "base_uri": "https://localhost:8080/"
        }
      },
      "outputs": [
        {
          "output_type": "stream",
          "name": "stdout",
          "text": [
            "가\n",
            "나\n"
          ]
        }
      ],
      "source": [
        "# 분기문을 이용해서 문제를 해결하라.\n",
        "리스트 = [\"가\", \"나\", \"다\"]\n",
        "for i in 리스트:\n",
        "    if i != \"다\":\n",
        "        print(i)"
      ]
    },
    {
      "cell_type": "markdown",
      "metadata": {
        "id": "jtLe1xaoaTYK"
      },
      "source": [
        "###### 연습문제 - 3\n",
        "20 이상인 값을 출력하라"
      ]
    },
    {
      "cell_type": "code",
      "execution_count": 12,
      "metadata": {
        "id": "clvBXYntaTYK",
        "outputId": "75f636ac-6ece-425d-fb9f-399efdb5c47b",
        "colab": {
          "base_uri": "https://localhost:8080/"
        }
      },
      "outputs": [
        {
          "output_type": "stream",
          "name": "stdout",
          "text": [
            "20\n",
            "30\n"
          ]
        }
      ],
      "source": [
        "리스트 = [20, 10, 30]\n",
        "for 변수 in 리스트:\n",
        "    if 변수 >= 20:\n",
        "        print(변수)"
      ]
    },
    {
      "cell_type": "code",
      "source": [
        "변수 = []\n",
        "리스트 = [20, 10, 30]\n",
        "for r in 리스트:\n",
        "    if r >= 20:\n",
        "        변수.append(r)\n",
        "print(변수)"
      ],
      "metadata": {
        "colab": {
          "base_uri": "https://localhost:8080/"
        },
        "id": "CuW61feZtaxq",
        "outputId": "a3b86bca-086d-40d2-bf50-e01e87e0baf1"
      },
      "execution_count": 22,
      "outputs": [
        {
          "output_type": "stream",
          "name": "stdout",
          "text": [
            "[20, 30]\n"
          ]
        }
      ]
    },
    {
      "cell_type": "markdown",
      "metadata": {
        "id": "-EPXavyAaTYK"
      },
      "source": [
        "###### 연습문제 - 4\n",
        "`xls` 파일만을 출력하라"
      ]
    },
    {
      "cell_type": "code",
      "execution_count": 29,
      "metadata": {
        "id": "oayFTB44aTYK",
        "outputId": "a60783d2-4d82-42ca-80b8-e7904f30af12",
        "colab": {
          "base_uri": "https://localhost:8080/"
        }
      },
      "outputs": [
        {
          "output_type": "stream",
          "name": "stdout",
          "text": [
            "['ab.xls', 'bbbbb.xls']\n"
          ]
        }
      ],
      "source": [
        "list1 = []\n",
        "리스트 = [\"ab.xls\", \"a.hwp\", \"b.exe\", \"bbbbb.xls\"]\n",
        "for x in 리스트:\n",
        "    if \".xls\" in x:\n",
        "        list1.append(x)\n",
        "print(list1)"
      ]
    },
    {
      "cell_type": "markdown",
      "metadata": {
        "id": "xciGcEqiaTYK"
      },
      "source": [
        "###### 연습문제 - 5\n",
        "반복문을 사용해서 변수에 저장된 종목을 화면에 출력하라.  \n",
        "```\n",
        "보유종목:Naver \n",
        "보유종목:Samsung\n",
        "보유종목:SK Hynix\n",
        "```"
      ]
    },
    {
      "cell_type": "code",
      "execution_count": 27,
      "metadata": {
        "id": "p7QyECvSaTYK",
        "colab": {
          "base_uri": "https://localhost:8080/"
        },
        "outputId": "ec1f0929-d6ca-4013-8b57-f12b2f570ba3"
      },
      "outputs": [
        {
          "output_type": "stream",
          "name": "stdout",
          "text": [
            "보유종목: Naver\n",
            "보유종목: Samsung\n",
            "보유종목: SK Hynix\n"
          ]
        }
      ],
      "source": [
        "interest_stocks = [\"Naver\", \"Samsung\", \"SK Hynix\"]\n",
        "\n",
        "for company in interest_stocks:\n",
        "    print(\"보유종목:\",company)"
      ]
    },
    {
      "cell_type": "markdown",
      "metadata": {
        "id": "khjzaJlJaTYL"
      },
      "source": [
        "###### 연습문제 - 6\n",
        "반복문을 사용해서 변수에 저장된 종목을 화면에 출력하라.  \n",
        "```\n",
        "보유종목:Naver \n",
        "--------------\n",
        "보유종목:Samsung\n",
        "--------------\n",
        "보유종목:SK Hynix\n",
        "--------------\n",
        "```"
      ]
    },
    {
      "cell_type": "code",
      "execution_count": 50,
      "metadata": {
        "id": "woTkHFiUaTYL",
        "colab": {
          "base_uri": "https://localhost:8080/"
        },
        "outputId": "6817deb0-fe93-4358-9780-da43fc281d80"
      },
      "outputs": [
        {
          "output_type": "stream",
          "name": "stdout",
          "text": [
            "보유종목: Naver\n",
            "----------\n",
            "보유종목: Samsung\n",
            "----------\n",
            "보유종목: SK Hynix\n",
            "----------\n"
          ]
        }
      ],
      "source": [
        "interest_stocks = [\"Naver\", \"Samsung\", \"SK Hynix\"]\n",
        "for com in interest_stocks:\n",
        "    print(\"보유종목:\",com)\n",
        "    for i in range(1,11):\n",
        "        if i == 10:\n",
        "            print(\"-\" * i)"
      ]
    },
    {
      "cell_type": "markdown",
      "metadata": {
        "id": "pP_RPqqoaTYL"
      },
      "source": [
        "###### 연습문제 - 7\n",
        "반복문을 사용해서 변수에 저장된 종목을 화면에 출력하라.   \n",
        "```\n",
        "1999년 성적: 수 \n",
        "2000년 성적: 양 \n",
        "2001년 성적: 미 \n",
        "2002년 성적: 수 \n",
        "```"
      ]
    },
    {
      "cell_type": "code",
      "execution_count": null,
      "metadata": {
        "id": "Q5GxMJ2QaTYL",
        "outputId": "8e5ab46f-4268-4aa8-cb36-3ef238aff532"
      },
      "outputs": [
        {
          "name": "stdout",
          "output_type": "stream",
          "text": [
            "1999년 성적: 수\n",
            "2000년 성적: 양\n",
            "2001년 성적: 미\n",
            "2002년 성적: 수\n"
          ]
        }
      ],
      "source": [
        "my_grade = [\"1999-수\", \"2000-양\", \"2001-미\", \"2002-수\"]\n",
        "\n",
        "\n"
      ]
    },
    {
      "cell_type": "markdown",
      "metadata": {
        "id": "hGCU6Pt3aTYL"
      },
      "source": [
        "문제 더 풀어보기  \n",
        "- https://wikidocs.net/78562\n",
        "- https://wikidocs.net/7020\n",
        "- https://wikidocs.net/78768"
      ]
    },
    {
      "cell_type": "code",
      "execution_count": 35,
      "metadata": {
        "id": "mFz1mVaHaTYL",
        "colab": {
          "base_uri": "https://localhost:8080/"
        },
        "outputId": "144ce494-37e3-4a5e-9847-5a34d1bbf26d"
      },
      "outputs": [
        {
          "output_type": "stream",
          "name": "stdout",
          "text": [
            "Collecting pybithumb\n",
            "  Downloading pybithumb-1.0.21-py3-none-any.whl (9.9 kB)\n",
            "Collecting websockets\n",
            "  Downloading websockets-10.2-cp37-cp37m-manylinux_2_5_x86_64.manylinux1_x86_64.manylinux_2_12_x86_64.manylinux2010_x86_64.whl (111 kB)\n",
            "\u001b[K     |████████████████████████████████| 111 kB 7.7 MB/s \n",
            "\u001b[?25hRequirement already satisfied: html5lib in /usr/local/lib/python3.7/dist-packages (from pybithumb) (1.0.1)\n",
            "Requirement already satisfied: bs4 in /usr/local/lib/python3.7/dist-packages (from pybithumb) (0.0.1)\n",
            "Requirement already satisfied: requests in /usr/local/lib/python3.7/dist-packages (from pybithumb) (2.23.0)\n",
            "Collecting datetime\n",
            "  Downloading DateTime-4.4-py2.py3-none-any.whl (51 kB)\n",
            "\u001b[K     |████████████████████████████████| 51 kB 403 kB/s \n",
            "\u001b[?25hRequirement already satisfied: pandas in /usr/local/lib/python3.7/dist-packages (from pybithumb) (1.3.5)\n",
            "Requirement already satisfied: beautifulsoup4 in /usr/local/lib/python3.7/dist-packages (from bs4->pybithumb) (4.6.3)\n",
            "Collecting zope.interface\n",
            "  Downloading zope.interface-5.4.0-cp37-cp37m-manylinux2010_x86_64.whl (251 kB)\n",
            "\u001b[K     |████████████████████████████████| 251 kB 42.1 MB/s \n",
            "\u001b[?25hRequirement already satisfied: pytz in /usr/local/lib/python3.7/dist-packages (from datetime->pybithumb) (2018.9)\n",
            "Requirement already satisfied: webencodings in /usr/local/lib/python3.7/dist-packages (from html5lib->pybithumb) (0.5.1)\n",
            "Requirement already satisfied: six>=1.9 in /usr/local/lib/python3.7/dist-packages (from html5lib->pybithumb) (1.15.0)\n",
            "Requirement already satisfied: numpy>=1.17.3 in /usr/local/lib/python3.7/dist-packages (from pandas->pybithumb) (1.21.5)\n",
            "Requirement already satisfied: python-dateutil>=2.7.3 in /usr/local/lib/python3.7/dist-packages (from pandas->pybithumb) (2.8.2)\n",
            "Requirement already satisfied: urllib3!=1.25.0,!=1.25.1,<1.26,>=1.21.1 in /usr/local/lib/python3.7/dist-packages (from requests->pybithumb) (1.24.3)\n",
            "Requirement already satisfied: idna<3,>=2.5 in /usr/local/lib/python3.7/dist-packages (from requests->pybithumb) (2.10)\n",
            "Requirement already satisfied: certifi>=2017.4.17 in /usr/local/lib/python3.7/dist-packages (from requests->pybithumb) (2021.10.8)\n",
            "Requirement already satisfied: chardet<4,>=3.0.2 in /usr/local/lib/python3.7/dist-packages (from requests->pybithumb) (3.0.4)\n",
            "Requirement already satisfied: setuptools in /usr/local/lib/python3.7/dist-packages (from zope.interface->datetime->pybithumb) (57.4.0)\n",
            "Installing collected packages: zope.interface, websockets, datetime, pybithumb\n",
            "Successfully installed datetime-4.4 pybithumb-1.0.21 websockets-10.2 zope.interface-5.4.0\n"
          ]
        }
      ],
      "source": [
        "!pip install pybithumb"
      ]
    },
    {
      "cell_type": "code",
      "source": [
        "import pybithumb\n",
        "import time\n",
        "\n",
        "pybithumb.get_current_price(\"BTC\")"
      ],
      "metadata": {
        "colab": {
          "base_uri": "https://localhost:8080/"
        },
        "id": "6pnV9f7px7M1",
        "outputId": "9fb25943-7c58-458d-a263-7323b86734ba"
      },
      "execution_count": 36,
      "outputs": [
        {
          "output_type": "execute_result",
          "data": {
            "text/plain": [
              "51567000.0"
            ]
          },
          "metadata": {},
          "execution_count": 36
        }
      ]
    },
    {
      "cell_type": "code",
      "source": [
        "price = pybithumb.get_current_price(\"BTC\")\n",
        "print(price)\n",
        "time.sleep(1) #1초 대기\n",
        "\n",
        "price = pybithumb.get_current_price(\"XRP\")\n",
        "print(price)\n",
        "time.sleep(1) #1초 대기"
      ],
      "metadata": {
        "colab": {
          "base_uri": "https://localhost:8080/"
        },
        "id": "zBPB6YC8yFGl",
        "outputId": "d9c4eca4-6c22-42c1-af65-7b833bc13e30"
      },
      "execution_count": 40,
      "outputs": [
        {
          "output_type": "stream",
          "name": "stdout",
          "text": [
            "51573000.0\n",
            "912.8\n"
          ]
        }
      ]
    },
    {
      "cell_type": "code",
      "source": [
        "for 변수 in [\"BTC\", \"XRP\"]:\n",
        "    price = pybithumb.get_current_price(변수)\n",
        "    print(price)\n",
        "    time.sleep(1) #1초 대기"
      ],
      "metadata": {
        "colab": {
          "base_uri": "https://localhost:8080/"
        },
        "id": "DxhBXMSeyN7A",
        "outputId": "4392d403-eb40-4703-f839-1f92af6ba09d"
      },
      "execution_count": 42,
      "outputs": [
        {
          "output_type": "stream",
          "name": "stdout",
          "text": [
            "51595000.0\n",
            "913.7\n"
          ]
        }
      ]
    },
    {
      "cell_type": "code",
      "source": [
        "tickers = pybithumb.get_tickers()\n",
        "len(tickers)"
      ],
      "metadata": {
        "colab": {
          "base_uri": "https://localhost:8080/"
        },
        "id": "D4Vay-Qgyopz",
        "outputId": "ecdf5afd-4e56-4f3a-eec3-bde338dd810f"
      },
      "execution_count": 43,
      "outputs": [
        {
          "output_type": "execute_result",
          "data": {
            "text/plain": [
              "199"
            ]
          },
          "metadata": {},
          "execution_count": 43
        }
      ]
    },
    {
      "cell_type": "code",
      "source": [
        "list2 = []\n",
        "for 변수 in tickers[:3]:\n",
        "    price = pybithumb.get_current_price(변수)\n",
        "    print(f\"{변수}: {price}\")\n",
        "    list2.append(price)\n",
        "    time.sleep(1) #1초 대기\n",
        "print(list2)"
      ],
      "metadata": {
        "colab": {
          "base_uri": "https://localhost:8080/"
        },
        "id": "fDcIk5t4y3nN",
        "outputId": "e950acaf-b5b7-46a1-8ea0-47730c447b7d"
      },
      "execution_count": 46,
      "outputs": [
        {
          "output_type": "stream",
          "name": "stdout",
          "text": [
            "BTC: 51581000.0\n",
            "ETH: 3902000.0\n",
            "LTC: 137500.0\n",
            "[51581000.0, 3902000.0, 137500.0]\n"
          ]
        }
      ]
    },
    {
      "cell_type": "code",
      "source": [
        "list2"
      ],
      "metadata": {
        "colab": {
          "base_uri": "https://localhost:8080/"
        },
        "id": "8fktGSUBy7u6",
        "outputId": "0c90d1a9-a42c-4367-a4e7-7672bd893ca8"
      },
      "execution_count": 47,
      "outputs": [
        {
          "output_type": "execute_result",
          "data": {
            "text/plain": [
              "[51581000.0, 3902000.0, 137500.0]"
            ]
          },
          "metadata": {},
          "execution_count": 47
        }
      ]
    },
    {
      "cell_type": "code",
      "source": [
        ""
      ],
      "metadata": {
        "id": "HkG4599_zp0H"
      },
      "execution_count": null,
      "outputs": []
    }
  ],
  "metadata": {
    "kernelspec": {
      "display_name": "Python 3",
      "language": "python",
      "name": "python3"
    },
    "language_info": {
      "codemirror_mode": {
        "name": "ipython",
        "version": 3
      },
      "file_extension": ".py",
      "mimetype": "text/x-python",
      "name": "python",
      "nbconvert_exporter": "python",
      "pygments_lexer": "ipython3",
      "version": "3.8.8"
    },
    "toc": {
      "base_numbering": 1,
      "nav_menu": {},
      "number_sections": true,
      "sideBar": true,
      "skip_h1_title": false,
      "title_cell": "Table of Contents",
      "title_sidebar": "Contents",
      "toc_cell": false,
      "toc_position": {},
      "toc_section_display": true,
      "toc_window_display": false
    },
    "colab": {
      "name": "반복문-1.ipynb의 사본",
      "provenance": [],
      "include_colab_link": true
    }
  },
  "nbformat": 4,
  "nbformat_minor": 0
}