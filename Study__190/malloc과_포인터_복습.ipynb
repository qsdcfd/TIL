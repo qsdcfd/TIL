{
  "nbformat": 4,
  "nbformat_minor": 0,
  "metadata": {
    "colab": {
      "name": "malloc과 포인터 복습",
      "provenance": [],
      "authorship_tag": "ABX9TyO69DpaPN7OA061sA/Vmd2J"
    },
    "kernelspec": {
      "name": "python3",
      "display_name": "Python 3"
    },
    "language_info": {
      "name": "python"
    }
  },
  "cells": [
    {
      "cell_type": "markdown",
      "source": [
        "int main(void)\n",
        "{\n",
        "    int *x;\n",
        "    int *y;\n",
        "\n",
        "    x = malloc(sizeof(int));\n",
        "\n",
        "    *x = 42;\n",
        "    *y = 13;\n",
        "}\n",
        "```\n",
        "\n",
        "main 함수 안의 첫 두 줄에서는 포인터 x와 y를 선언합니다.\n",
        "\n",
        "그리고 x에는 malloc 함수를 이용해서 int 자료형 크기에 해당하는 메모리를 할당합니다.\n",
        "\n",
        "그 다음에는 x와 y 포인터가 가리키는 지점에 각각 42와 13을 저장합니다.\n",
        "\n",
        "여기서 문제가 될 만한 부분은 *y = 13 입니다. y는 포인터로만 선언되었을 뿐이지, 어디를 가리킬지에 대해서는 아직 정의가 되지 않았습니다.\n",
        "\n",
        "따라서 초기화 되지 않은 *y는 프로그램 어딘가를 임의로 가리키고 있을 수도 있습니다.\n",
        "\n",
        "따라서 그 곳에 13이라는 값을 저장하는 것이 오류를 발생시킬 수도 있는 것이죠.\n",
        "\n",
        "\n",
        "\n",
        "아래 코드와 같이 y = x; 라는 코드를 더해주면,  y는 x가 가리키는 곳과 동일한 곳을 가리키게 됩니다.\n",
        "\n",
        "따라서 *y = 13; 으로 저장하면  x가 가리키는 곳에도 동일하게 13으로 저장될 것입니다.\n",
        "\n",
        " \n",
        "\n",
        "```\n",
        "y = x;\n",
        "\n",
        "*y = 13;\n",
        "```"
      ],
      "metadata": {
        "id": "P-MlYwKRfOnF"
      }
    },
    {
      "cell_type": "code",
      "source": [
        ""
      ],
      "metadata": {
        "id": "PTCuzPb2fP8P"
      },
      "execution_count": null,
      "outputs": []
    }
  ]
}