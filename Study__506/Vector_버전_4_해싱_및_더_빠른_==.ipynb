{
  "nbformat": 4,
  "nbformat_minor": 0,
  "metadata": {
    "colab": {
      "provenance": [],
      "authorship_tag": "ABX9TyNWskbRilmkwlmhLp6j3j4q"
    },
    "kernelspec": {
      "name": "python3",
      "display_name": "Python 3"
    },
    "language_info": {
      "name": "python"
    }
  },
  "cells": [
    {
      "cell_type": "markdown",
      "source": [
        "# 시퀀스 해킹, 해시, 슬라이스\n",
        "\n",
        "\n",
        "## 객체지향 상용구\n",
        "### Vector 버전 #4: 해싱 및 더 빠른 ==\n",
        "\n",
        "reduce() 메서드는 일련의 값을 하나의 값으로 줄이는 것으로 reduce()가 받는 첫 번째 인수는 두 개의 인수를 받는 함수, 두 번째 인수는 반복형으로 인수 두 개를 받는 함수fn과 리스트 lst가 있을 때, reduce(fn,lst)를 호출하면 첫 번째 요소 쌍에 fn을 적용해서 첫 번째 결과 r1을 생성한다.\n",
        "\n",
        "```\n",
        "import functools\n",
        "functools.reduce(lambda a,b: a*b, range(1,6))\n",
        "```"
      ],
      "metadata": {
        "id": "zGlJDDaxNUXp"
      }
    },
    {
      "cell_type": "code",
      "source": [],
      "metadata": {
        "id": "wFRLx6WGNV7K"
      },
      "execution_count": null,
      "outputs": []
    },
    {
      "cell_type": "code",
      "source": [],
      "metadata": {
        "id": "7irLt57MNWM3"
      },
      "execution_count": null,
      "outputs": []
    }
  ]
}