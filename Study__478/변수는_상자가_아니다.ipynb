{
  "nbformat": 4,
  "nbformat_minor": 0,
  "metadata": {
    "colab": {
      "provenance": [],
      "authorship_tag": "ABX9TyNxQ3DYHFTYDnI0PlQnZa7J"
    },
    "kernelspec": {
      "name": "python3",
      "display_name": "Python 3"
    },
    "language_info": {
      "name": "python"
    }
  },
  "cells": [
    {
      "cell_type": "markdown",
      "source": [
        "# 객체지향 상용구\n",
        "## 객체 참조, 가변성, 재활용\n",
        "\n",
        "파이썬 객체의 정체성, 동질성, 별명의 개념으로 튜플의 놀라운 성질도 드러난다.\n",
        "\n",
        "튜플은 불변형이지만 그 안에 들어 있는 값은 바뀔 수 있고, 얕은 복사와 깊은 복사에 대해 설명이 된다.\n",
        "\n",
        "가변 매개변수가 기본이 될 때의 문제 및 함수 호출자가 전달한 가변 인수의 안전한 처리에 대해 이야기한다.\n",
        "\n",
        "\n",
        "### 변수는 상자가 아니다\n",
        "\n",
        "린 안드레아 스타인 교수는 흔히 비유하는 상자로서의 변수 개념이 실제로 객체지향 언어에서 참조 변수를 이해하는데 방해가 되고, 파이썬 변수는 자바에서의 참조 변수와 같으므로 변수는 객체에 붙은 레이블이라고 생각하는 것이 좋다.\n",
        "\n",
        "```\n",
        "#사본이 아니라 동일한 리스트를 참조하는 변수 a 와 b\n",
        "a = [1,2,3]\n",
        "b = a\n",
        "a.append(4)\n",
        "b\n",
        "```\n",
        "\n",
        "<br>\n",
        "\n",
        "**참조 변수의 경우 변수가 객체에 할당되었다는 표현이 객체를 변수에 할당했다는 표현보다 타당하다**\n",
        "\n",
        "```\n",
        "class Gizmo:\n",
        "\tdef __init__(self):\n",
        "    \tprint(\"Gizmo id: %d' % id(self))\n",
        "\n",
        "x = Gizmo()\n",
        "y = Gizmo()\n",
        "dir()\n",
        "```\n",
        "\\|"
      ],
      "metadata": {
        "id": "oGO7kPluwZOl"
      }
    },
    {
      "cell_type": "code",
      "source": [],
      "metadata": {
        "id": "8nS1p_VywZ5Y"
      },
      "execution_count": null,
      "outputs": []
    }
  ]
}