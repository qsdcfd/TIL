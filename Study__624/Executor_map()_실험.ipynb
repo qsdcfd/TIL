{
  "nbformat": 4,
  "nbformat_minor": 0,
  "metadata": {
    "colab": {
      "provenance": [],
      "authorship_tag": "ABX9TyNc6Uiqb8zjFNicVUto2Mar"
    },
    "kernelspec": {
      "name": "python3",
      "display_name": "Python 3"
    },
    "language_info": {
      "name": "python"
    }
  },
  "cells": [
    {
      "cell_type": "markdown",
      "source": [
        "# 제어 흐름\n",
        "## Future를 이용한 동시성\n",
        "### Executor.map() 실험\n",
        "\n",
        "Executor.map() 메서드를 이용하면 여러 콜러블을 아주 간단히 동시에 실행할 수 있다.\n",
        "\n",
        "```\n",
        "#ThreadPoolExecutor.map()메서드\n",
        "\n",
        "from time import sleep, strftime\n",
        "from concurrent import futures\n",
        "\n",
        "def display(*args):\n",
        "\tprint(strftime('[%H:%M:S]'), end=' ')\n",
        "    print(*args)\n",
        "    \n",
        "def loiter(n):\n",
        "\tmsg = '{}loiter({}): doing nothing for {}s...'\n",
        "    display(msg.format('\\t'*n, n, n))\n",
        "    sleep(n)\n",
        "    msg = '{}loiter({}): done.'\n",
        "    display(msg.format('\\t'*n,n))\n",
        "    display(msg.format('\\t'*n, n))\n",
        "    return n* 10\n",
        "    \n",
        "def main():\n",
        "\tdisplay('Script starting.')\n",
        "    executor = futures.ThreadPoolExecutor(max_workers=3)\n",
        "    results = executor.map(loiter, range(5))\n",
        "    display('results:', results)\n",
        "    display('Waiting for individual results:')\n",
        "    for i, result in enumerate(results):\n",
        "    \tdisplay('result {}: {}'.format(i,result))\n",
        "main()\n",
        "```\n",
        "\n",
        ">실행을 한 후 하나씩 나오는 결과를 직접 확인하면서 ThreadPoolExecutor 대한 max_workers인수도 변경하고 executor.\n",
        "\n",
        "![](https://velog.velcdn.com/images/qsdcfd/post/d36e6e3a-f0bf-4735-a917-eea6ddaca35a/image.png)\n",
        "\n",
        "<br>\n",
        "\n",
        "Executor.map()은 사용하기 쉽지만, 호출한 순서 그대로 결과를 반환한다.\n",
        "이러한 특징은 장단점이 있다.\n",
        "\n",
        "먼저 호출이 결과를 생성할 때까지 10초 걸리고 나머지 호출은 1초씩 걸린다면, map()이 반환한 제너레이터가 첫번째 결과를 가져오기까지 10초 걸린다. 그 후 다른 함수는 이미 실행을 완료했으므로 나머지 결과를 바로 가져올 수 있다.\n",
        "\n"
      ],
      "metadata": {
        "id": "096ATIdaep0v"
      }
    },
    {
      "cell_type": "code",
      "source": [],
      "metadata": {
        "id": "ADF-SUv_eqAu"
      },
      "execution_count": null,
      "outputs": []
    }
  ]
}