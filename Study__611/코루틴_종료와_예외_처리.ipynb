{
  "nbformat": 4,
  "nbformat_minor": 0,
  "metadata": {
    "colab": {
      "provenance": [],
      "authorship_tag": "ABX9TyMF8P34tS/qIS+pZgs3hPkU"
    },
    "kernelspec": {
      "name": "python3",
      "display_name": "Python 3"
    },
    "language_info": {
      "name": "python"
    }
  },
  "cells": [
    {
      "cell_type": "markdown",
      "source": [
        "# 제어 흐름\n",
        "## 코루틴\n",
        "### 코루틴 종료와 예외 처리\n",
        "\n",
        "```\n",
        "#처리하지 않은 예외에 의한 코루틴 종료\n",
        "\n",
        "from coroaverager1 import averager\n",
        "coro_avg = averager()\n",
        "coro_avg.send(50)\n",
        "coro_avg.send('spam')\n",
        "\n",
        "\"\"\"\n",
        "코루틴의 total 변수에 더할 수 없는 'spam'문자열 전송으로 인해서 에러가 발생했고, 코루틴에 알려주는 구분 표시를 전송해서 코루틴을 종료한다.\n",
        "\"\"\"\n",
        "```\n",
        "\n",
        "\n",
        "**close()와 thorw()가 코루틴 제어**\n",
        "\n",
        "```\n",
        "#코루틴의 예외 처리 방법을 설명하기 위한 제너레이터\n",
        "\n",
        "class DemoException(Exception):\n",
        "\t\"\"\"설명에 사용할 예외 유형\"\"\"\n",
        "    \n",
        "    \n",
        "  def demo_exc_handling():\n",
        "  \tprint('-> corotuine started')\n",
        "    while True:\n",
        "    \ttry:\n",
        "        \tx=yield\n",
        "        except DemoException:\n",
        "        \tprint('*** DemoEXception handeld. Continuing...')\n",
        "        else:\n",
        "        \tprint('-> coroutine received: {!r}'.format(x))\n",
        "    raise RuntimeError('This line should never run.')\n",
        "```\n",
        "\n",
        "```\n",
        "#예외를 발생시키지 않는 demo_exec_handling() 활성화 및 종료\n",
        "\n",
        "exc_coro = demo_exc_handling()\n",
        "next(exc_coro)\n",
        "exc_coro.send(11)\n",
        "exc_coro.close()\n",
        "from inspect import getgeneratorstate\n",
        "\n",
        "\"\"\"DemoException을 코루틴 안으로 던지면, 이 예외가 처리되어 demo_exc_handling() 코루틴\"\"\"\n",
        "\n",
        "exc_coro = demo_exc_handling()\n",
        "next(exc_coro)\n",
        "exc_coro.send(11)\n",
        "exc_coro.throw(DemoException)\n",
        "getgeneratorstate(exc_coro)\n",
        "\n",
        "#자신에게 던져진 예외를 처리할 수 없으면 코루틴 종료\n",
        "\n",
        "exc_coro = demo_exc_handling()\n",
        "next(exc_coro)\n",
        "exc_coro.send(11)\n",
        "exc_coro.throw(ZeroDivisionError)\n",
        "getgeneratorstate(exc_coro)\n",
        "```\n",
        "\n",
        "<br>\n",
        "\n",
        ">코루틴이 어떻게 종료되든 어떤 정리 코드를 실행해야 하는 경우에는 try/finally 블록 안에 코루틴의 해당 코드를 넣어야 한다.\n",
        "\n",
        "```\n",
        "class DemoException(Exception):\n",
        "\t\"\"\"설명에 사용할 예외 유형\"\"\"\n",
        "    \n",
        "def demo_finally():\n",
        "\tprint('-> coroutine started')\n",
        "    try:\n",
        "    \twhile True:\n",
        "        \ttry:\n",
        "            \tx = yield\n",
        "            except DemoException:\n",
        "            \tprint('*** DemoException handled. Continuing..')\n",
        "        print('-> coroutine ending')\n",
        "```"
      ],
      "metadata": {
        "id": "6ScuS_Ig2DfB"
      }
    },
    {
      "cell_type": "code",
      "source": [],
      "metadata": {
        "id": "jvuPRiot2DoS"
      },
      "execution_count": null,
      "outputs": []
    }
  ]
}