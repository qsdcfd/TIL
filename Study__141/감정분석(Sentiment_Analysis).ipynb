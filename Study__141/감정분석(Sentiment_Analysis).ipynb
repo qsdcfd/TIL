{
  "nbformat": 4,
  "nbformat_minor": 0,
  "metadata": {
    "colab": {
      "name": "감정분석(Sentiment Analysis).ipynb",
      "provenance": []
    },
    "kernelspec": {
      "name": "python3",
      "display_name": "Python 3"
    },
    "language_info": {
      "name": "python"
    }
  },
  "cells": [
    {
      "cell_type": "markdown",
      "source": [
        "## Sentiment Analysis\n",
        "\n",
        "정의\n",
        "\n",
        ">view or emtion 뒤의 상황 인식한다. 즉, 감정을 찾고 분석하거나 의사소통의 부분적인 요소들을 분석하기도 한다.\n",
        "\n",
        "<br>\n",
        "\n",
        "배경\n",
        "\n",
        ">사실 인간은 다양한 언어를 통해 여러 가지 표현방식으로 의사소통을 하고 그 모든 것에는 감정(긍정,부정,neutral)이 관련이 되어있습니다. \n",
        "\n",
        "\n",
        "<br>\n",
        "\n",
        "핵심\n",
        "\n",
        ">우리의 데이터는 음성이 아닌 텍스트이기에 텍스트 데이터에서 벌어지는 감정분석에 대해서 집중할 것입니다.\n",
        "\n",
        "<br>\n",
        "\n",
        "데이터\n",
        "\n",
        ">패스트 푸드 음식점 리뷰\n",
        "Review 1: I love the cheese sandwich.(Postivite Statement)\n",
        "Review 2: The beef burger has a bad taste.(Negative Statement)\n",
        "Review 3: I orderd this cheese pizza tonight.(Neutral Statement)\n",
        "\n",
        "<br>\n",
        "\n",
        "분류\n",
        "\n",
        ">위와 같이 우리는 저런 식으로 다양하게 분류를 할 것입니다. 우리의 데이터는 한글이지만 일단, 영어로 어떻게 짤 수 있는지 알아보기 위해서 영어 데이터를 이용합니다.\n",
        "\n",
        "<br>\n",
        "\n",
        "Challenge\n",
        "\n",
        "- 한국어 데이터로도 구현이 가능할 것 같은가?\n",
        "\n",
        "- 지금은 txt파일이지만 우리의 파일은 csv, json파일 이라는 것이기에 어떻게 적용을 할 것인가?\n",
        "\n",
        "- 다중분류가 잘 될 것인가?(유사한 부분에서)\n",
        "\n",
        "   - bare minimum is not enough\n",
        "\n",
        "- 단순히 긍정/부정/Netural이 아닌 세부적으로 어떻게 나눌 것인가?\n",
        "\n",
        "\n",
        "<br>\n",
        "\n",
        "Solution\n",
        "\n",
        "- Sentiment Analysis Model 사용\n",
        "\n",
        "   - 많은 데이터 수집\n",
        "\n",
        "   - 패턴과 규칙 찾아서 증거 수집 for 결론내기\n",
        "\n",
        "   - 작은 샘플 데이터로 추정해서 실험\n",
        "\n",
        "\n",
        "<br>\n",
        "\n",
        "- 감정 쪼개기\n",
        "\n",
        "    - Happy, Love, Surprise\n",
        "\n",
        "    - Sad, Fear, Angry"
      ],
      "metadata": {
        "id": "h6_lsIZctMY1"
      }
    }
  ]
}