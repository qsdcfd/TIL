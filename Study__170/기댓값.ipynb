{
  "nbformat": 4,
  "nbformat_minor": 0,
  "metadata": {
    "colab": {
      "name": "기댓값",
      "provenance": [],
      "authorship_tag": "ABX9TyM7048yShqYwGdeZ483v+Zx"
    },
    "kernelspec": {
      "name": "python3",
      "display_name": "Python 3"
    },
    "language_info": {
      "name": "python"
    }
  },
  "cells": [
    {
      "cell_type": "markdown",
      "source": [
        "## 확률변수 X의 기댓값(expectation or expected value)\n",
        "\n",
        "\n",
        "![](https://images.velog.io/images/qsdcfd/post/08671342-9cf8-4e40-902d-d2400c8ab757/image.png)\n",
        "\n",
        "확률변수 x가 이산형인 경우에는 x가 취할 수 있는 값과 확률을 곱해서 전부 더해 줍니다.\n",
        "\n",
        "x에다가 확률 밀도함수 f(x)를 곱해서 적분을 하게 됩니다.\n",
        "\n",
        "\n",
        "특히 x의 기댓값을 뮤라는 그리스문자로 표현을 많이 하고 이 기댓값은 표본평균이 아니라 모집단이 갖고 있는 평균이라는 의미에서 모평균이라고 부릅니다.\n",
        "\n",
        "이것은 우리가 추출한 표본과는 관계없이 모집단이 갖고 있는 평균이며 뮤라는 표현을 쓰고 모평균이라고 부릅니다.\n",
        "\n",
        "기댓값의 성질 중에 기대값의 선형성이라는 굉장히 유용한 성질로 linearity property of expectation이라는 것을 번역한 것입니다.\n",
        "\n",
        "\n",
        "*확률변수 X의 k차 적률(k-th moment)\n",
        "\n",
        "g(x)에 대한 기댓값을 말씀을 드렸는데 x^k도 일종에 g(x)라고 할 수 있죠. 즉 g(x)=x^k이다.\n",
        "그렇다면 이산형인 경우에는 xi^k* P(xi) 을 다 더해주면 되고, 연속형인 경우에는 x^k* f(x)를 적분을 하시면 됩니다.\n",
        "\n",
        "![](https://images.velog.io/images/qsdcfd/post/16ba86f7-e03f-463b-9173-a45c8e5b1d27/image.png)\n",
        "\n",
        "*확률변수 X의 k차 중식적률\n",
        "\n",
        "확률변수 x의 k차 중심적률 k-th central moment는 위의 적률계산에서 X의 값 대신 X-mu의 값을 합하거나 적분한 것입니다.\n",
        "\n",
        "![](https://images.velog.io/images/qsdcfd/post/fa82b8c0-0108-4437-8b62-f8a6d3296e03/image.png)\n",
        "\n",
        "*2차 중심 적률\n",
        "\n",
        "![](https://images.velog.io/images/qsdcfd/post/887c3bbf-3c9c-44a9-b107-1e4152e3332d/image.png)\n",
        "\n",
        "모분산 = 2차적률 - 1치적률^2\n",
        "\n",
        "\n",
        "이제 모평균과 모분산을 알 수 없기 때문에 모집단으로부터 표본을 추출해서, 모평균을 알기 위해서 표본평균을 계산해 보고, 모분산을 알기 위해서 표본분산을 계산 해 보는 것입니다.\n",
        "\n",
        "![](https://images.velog.io/images/qsdcfd/post/b5cbfeee-fbac-4a3f-b5cf-d0a278f3fe24/image.png) \n",
        "\n",
        "모평균과 모분산은 모집단의 평균과 분산을 나타내는 모수(parameter)로 모수는 모집단의 특성을 나타내주는 값입니다.\n"
      ],
      "metadata": {
        "id": "89Px5_7uWLfY"
      }
    },
    {
      "cell_type": "code",
      "source": [
        ""
      ],
      "metadata": {
        "id": "R1c7BQOIWL2Z"
      },
      "execution_count": null,
      "outputs": []
    }
  ]
}