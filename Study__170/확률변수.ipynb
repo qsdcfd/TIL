{
  "nbformat": 4,
  "nbformat_minor": 0,
  "metadata": {
    "colab": {
      "name": "확률변수",
      "provenance": [],
      "authorship_tag": "ABX9TyNp0UzKUVzzOqJpikl3myXe"
    },
    "kernelspec": {
      "name": "python3",
      "display_name": "Python 3"
    },
    "language_info": {
      "name": "python"
    }
  },
  "cells": [
    {
      "cell_type": "markdown",
      "source": [
        "### 확률변수(random variable)\n",
        "\n",
        "표본 공간에서 정의된 함수\n",
        "\n",
        "\n",
        "*확률변수\n",
        "\n",
        "X의 정의구역은 표본공간이 되고 치역에 해당되는 부분은 수직선이 됩니다.\n",
        "\n",
        "그래서 다시 한 번 정의를 하면 확률변수 X는 표본공간의 각 단위사건에 실수 값을 부여하는 함수라고 정의합니다.\n",
        "\n",
        "*이산 확률변수\n",
        "\n",
        "확률변수는 크게 이산 확률변수와 연속 확률변수가 있는데 확률변수 X가 취할 수 있는 값이 유한개 finite한 경우, 자연수와 일대일 대응이 되는 무한개 countable가 될 수 있으며 이런 확률변수를 이산 확률변수라고 합니다.\n",
        "\n",
        "확률변수 X가 xi라는 값을 취하는 확률, i는 1부터 k까지인데, 이것을 f(xi)라고 놓겠습니다.\n",
        "\n",
        "*확률분포\n",
        "\n",
        "![](https://images.velog.io/images/qsdcfd/post/ed31741c-aebf-4f97-bb43-48b9094b2bcd/image.png)\n",
        "\n",
        "\n",
        "*확률 분포 성질\n",
        "\n",
        "![](https://images.velog.io/images/qsdcfd/post/7eab79c4-d25f-40fb-ad1f-cc6a30816964/image.png)\n",
        "\n",
        "먼저 취하는 값 1부터 k까지 xi의 값에 대한 확률이 항상 양수가 되어야 하고, \n",
        "\n",
        "그 다음에 취할 수 있는 모든 값에 f(xi) 즉 확률의 합은 1이 되어야 합니다.\n",
        "\n",
        "*연속확률 변수\n",
        "\n",
        "![](https://images.velog.io/images/qsdcfd/post/ab6eb809-9c19-41c0-81c8-fb65d08832ff/image.png)\n",
        "\n",
        "연속확률변수라는 것은 일정 구간의 모든 실수 값을 가질 수 있으면 이것을 연속확률변수라고 하고 continuous random variable이라고 합니다.\n",
        "\n",
        "*확률밀도 함수\n",
        "\n",
        "확률밀도함수가 만족해야 할 두 가지 성질은 이산확률변수와 마찬가지로 모든 임의의 x에서 f(x)는 0보다 크거나 같아야 되고 그 다음에 그 f(x)의 면적, 즉 적분 값이 1이 되어야 합니다.\n",
        "\n",
        "이산 확률변수인 경우는 합으로 표시된 것이 연속확률변수에서는 적분으로 바뀐 것입니다\n",
        "\n",
        "![](https://images.velog.io/images/qsdcfd/post/9b4b6cfe-5b5f-41dc-8939-118e2fee28d5/image.png)\n",
        "\n",
        "\n",
        "*확률밀도함수가 여러 가지 형태\n",
        "\n",
        "![](https://images.velog.io/images/qsdcfd/post/e2b361d9-b514-4c94-b9df-5a8bf6aa5593/image.png)"
      ],
      "metadata": {
        "id": "tNc5fKjTSt0d"
      }
    },
    {
      "cell_type": "code",
      "source": [
        ""
      ],
      "metadata": {
        "id": "Ez3sji3kSvQy"
      },
      "execution_count": null,
      "outputs": []
    }
  ]
}