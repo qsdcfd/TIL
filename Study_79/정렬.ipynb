{
 "cells": [
  {
   "cell_type": "markdown",
   "id": "laughing-richardson",
   "metadata": {},
   "source": [
    "\n",
    "## 위에서 아래로"
   ]
  },
  {
   "cell_type": "code",
   "execution_count": 6,
   "id": "advance-ocean",
   "metadata": {},
   "outputs": [
    {
     "name": "stdout",
     "output_type": "stream",
     "text": [
      "3\n",
      "15\n",
      "27\n",
      "12\n",
      "27 15 12 "
     ]
    }
   ],
   "source": [
    "N = int(input()) # 숫자 개수\n",
    "\n",
    "array = [] # 정렬을 할 거니까 N을 입력받아 리스트로 저장\n",
    "\n",
    "for i in range(N):\n",
    "    \n",
    "    array.append(int(input())) #입력 값들 추가해서 리스트 형성, 입력예시처럼 한 줄로 입력\n",
    "    \n",
    "# array = sorted(array, ascending = False) # 정렬된 것을 내림차순\n",
    "\n",
    "array = sorted(array, reverse = True) #내림차순\n",
    "\n",
    "for i in array: # 출력하기\n",
    "    \n",
    "    print(i, end=' ')\n",
    "    \n",
    "\n",
    "\n",
    "\n",
    "    "
   ]
  },
  {
   "cell_type": "markdown",
   "id": "increased-conducting",
   "metadata": {},
   "source": [
    "## 성적이 나은 순서로 학생 출력\n",
    "\n"
   ]
  },
  {
   "cell_type": "markdown",
   "id": "representative-naples",
   "metadata": {},
   "source": [
    "list.sort()와 sorted()는 모두 비교하기 전에 각 리스트 요소에 대해 호출할 함수(또는 다른 콜러블)를 지정하는 key 매개 변수를 가지고 있습니다.\n",
    "\n",
    "key 매개 변수의 값은 단일 인자를 취하고 정렬 목적으로 사용할 키를 반환하는 함수(또는 다른 콜러블)여야 합니다. 키 함수가 각 입력 레코드에 대해 정확히 한 번 호출되기 때문에 이 기법은 빠릅니다."
   ]
  },
  {
   "cell_type": "code",
   "execution_count": 8,
   "id": "horizontal-tennis",
   "metadata": {},
   "outputs": [
    {
     "name": "stdout",
     "output_type": "stream",
     "text": [
      "2\n",
      "홍길동 95\n",
      "이순신 77\n",
      "이순신 홍길동 "
     ]
    }
   ],
   "source": [
    "N = int(input()) # 개수\n",
    "\n",
    "#정렬 문제이 기본 폼\n",
    "array = []\n",
    "\n",
    "for i in range(N):\n",
    "    \n",
    "    data = input().split() # 입력조건 두 번째 입력을 공백으로 구분되어서 해야함.\n",
    "    \n",
    "    array.append((data[0], int(data[1]))) #문자와 숫자 데이터\n",
    "\n",
    "#sorted(student_tuples, key=lambda student: student[2])   # sort by age\n",
    "\n",
    "array = sorted(array, key = lambda student : student[1]) # 정렬 시 성적을 기준으로 한다. \n",
    "\n",
    "for student in array:\n",
    "    \n",
    "    print(student[0], end= ' ')\n"
   ]
  },
  {
   "cell_type": "markdown",
   "id": "framed-moscow",
   "metadata": {},
   "source": [
    "## 두 배열의 원소 교체\n",
    "\n"
   ]
  },
  {
   "cell_type": "code",
   "execution_count": 12,
   "id": "rubber-retro",
   "metadata": {},
   "outputs": [
    {
     "name": "stdout",
     "output_type": "stream",
     "text": [
      "5 3\n",
      "1 2 5 4 3\n",
      "5 5 6 6 5\n",
      "26\n"
     ]
    }
   ],
   "source": [
    "N, K = map(int,input().split()) # 어떤 숫자를 몇 번 바꿔치기 할건가\n",
    "\n",
    "A = list(map(int,input().split())) # 입력조건 부분 리스트로 받기\n",
    "\n",
    "B = list(map(int,input().split())) # 입력조건 부분 리스트로 받기\n",
    "\n",
    "# 바꿔치기 위한 과정\n",
    "\n",
    "A.sort() #오름차순\n",
    "\n",
    "B.sort(reverse=True) # 내림차순\n",
    "\n",
    "for i in range(K):\n",
    "    \n",
    "    if A[i] < B[i]:\n",
    "        \n",
    "        A[i], B[i] =  B[i] , A[i] #바꿔치기\n",
    "        \n",
    "    else:\n",
    "        \n",
    "        break\n",
    "        \n",
    "print(sum(A))\n"
   ]
  },
  {
   "cell_type": "code",
   "execution_count": null,
   "id": "activated-rescue",
   "metadata": {},
   "outputs": [],
   "source": []
  }
 ],
 "metadata": {
  "kernelspec": {
   "display_name": "Python 3",
   "language": "python",
   "name": "python3"
  },
  "language_info": {
   "codemirror_mode": {
    "name": "ipython",
    "version": 3
   },
   "file_extension": ".py",
   "mimetype": "text/x-python",
   "name": "python",
   "nbconvert_exporter": "python",
   "pygments_lexer": "ipython3",
   "version": "3.7.9"
  }
 },
 "nbformat": 4,
 "nbformat_minor": 5
}
