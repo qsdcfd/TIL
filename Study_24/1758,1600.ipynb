{
 "cells": [
  {
   "cell_type": "code",
   "execution_count": null,
   "id": "engaged-steam",
   "metadata": {},
   "outputs": [],
   "source": [
    "import sys\n",
    "input = sys.stdin.readline\n",
    " \n",
    "n = int(input())\n",
    "arr = [int(input()) for _ in range(n)]\n",
    " \n",
    "arr.sort(reverse=True)\n",
    "sum = 0\n",
    " \n",
    "for i in range(n):\n",
    "    if arr[i] - i < 0:\n",
    "        continue\n",
    "    sum += (arr[i] - i)\n",
    "print(sum)"
   ]
  },
  {
   "cell_type": "code",
   "execution_count": null,
   "id": "opposite-kazakhstan",
   "metadata": {},
   "outputs": [],
   "source": [
    "from collections import deque\n",
    "import sys\n",
    "sys.setrecursionlimit(10**8)\n",
    "\n",
    "\n",
    "h_dx = [-1, -2, -2, -1, 1, 2, 2, 1]\n",
    "h_dy = [-2, -1, 1, 2, 2, 1, -1, -2]\n",
    "\n",
    "\n",
    "dx = [-1, 1, 0, 0]\n",
    "dy = [0, 0, -1, 1]\n",
    "\n",
    "\n",
    "def bfs():\n",
    "    q = deque()\n",
    "    q.append((0, 0, 0, k))\n",
    "\n",
    "    while q:\n",
    "        x, y, cnt, remain_k = q.popleft()\n",
    "        if remain_k >= 1:\n",
    "            \n",
    "            for i in range(8):\n",
    "                nx, ny = x + h_dx[i], y + h_dy[i]\n",
    "                if 0 <= nx < h and 0 <= ny < w and maps[nx][ny] == 0:\n",
    "                    if visited[nx][ny] == -1 or visited[nx][ny] < remain_k - 1:\n",
    "                        if nx == h - 1 and ny == w - 1:\n",
    "                            return cnt + 1\n",
    "                        visited[nx][ny] = remain_k - 1\n",
    "                        q.append((nx, ny, cnt + 1, remain_k - 1))\n",
    "       \n",
    "        for i in range(4):\n",
    "            nx, ny = x + dx[i], y + dy[i]\n",
    "            if 0 <= nx < h and 0 <= ny < w and maps[nx][ny] == 0:\n",
    "                if visited[nx][ny] == -1 or visited[nx][ny] < remain_k:\n",
    "                    if nx == h - 1 and ny == w - 1:\n",
    "                        return cnt + 1\n",
    "                    visited[nx][ny] = remain_k\n",
    "                    q.append((nx, ny, cnt + 1, remain_k))\n",
    "    return -1\n",
    "\n",
    "\n",
    "if __name__ == \"__main__\":\n",
    "    k = int(sys.stdin.readline())\n",
    "    w, h = map(int, sys.stdin.readline().split())\n",
    "    maps = [list(map(int, sys.stdin.readline().split())) for _ in range(h)]\n",
    "    visited = [[-1] * w for _ in range(h)]\n",
    "\n",
    "    if w == 1 and h == 1:\n",
    "        print(0)\n",
    "    else:\n",
    "        print(bfs())"
   ]
  },
  {
   "cell_type": "code",
   "execution_count": null,
   "id": "coral-indonesia",
   "metadata": {},
   "outputs": [],
   "source": []
  }
 ],
 "metadata": {
  "kernelspec": {
   "display_name": "Python 3",
   "language": "python",
   "name": "python3"
  },
  "language_info": {
   "codemirror_mode": {
    "name": "ipython",
    "version": 3
   },
   "file_extension": ".py",
   "mimetype": "text/x-python",
   "name": "python",
   "nbconvert_exporter": "python",
   "pygments_lexer": "ipython3",
   "version": "3.7.9"
  }
 },
 "nbformat": 4,
 "nbformat_minor": 5
}
