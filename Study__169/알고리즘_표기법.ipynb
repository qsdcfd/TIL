{
  "nbformat": 4,
  "nbformat_minor": 0,
  "metadata": {
    "colab": {
      "name": "알고리즘 표기법",
      "provenance": [],
      "authorship_tag": "ABX9TyP0TiU1xjbWBobMWpeWpy1A"
    },
    "kernelspec": {
      "name": "python3",
      "display_name": "Python 3"
    },
    "language_info": {
      "name": "python"
    }
  },
  "cells": [
    {
      "cell_type": "markdown",
      "source": [
        "#### Intro\n",
        "\n",
        "우리가 프로그램을 작성한 후에 실행하면 작업이 완료될때까지 어느정도 시간이 소요됩니다. \n",
        "\n",
        "아주 간단한 프로그램인 경우에는 실행 시간을 걱정할 필요가 없지만, 처리하는 데이터가 많아지고 처리하는 작업이 복잡해질수록 실행 시간은 매우 중요해집니다.\n",
        "\n",
        "특정 알고리즘을 작성하였을 때 그 실행 시간을 표기하는 방법을 배워보겠습니다.\n",
        "\n",
        "\n",
        "\n",
        "---\n",
        "\n",
        "![](https://images.velog.io/images/qsdcfd/post/d791cb3f-527d-4bc4-8d65-df8ca2351fed/image.png)\n",
        "\n",
        "\n",
        "위와 같은 그림을 공식으로 표기한 것이 Big O 표기법입니다.\n",
        "\n",
        "여기서 O는 “on the order of”의 약자로, 쉽게 생각하면 “~만큼의 정도로 커지는” 것이라고 볼 수 있습니다.\n",
        "\n",
        "O(n) 은 n만큼 커지는 것이므로 n이 늘어날수록 선형적으로 증가하게 됩니다. O(n/2)도 결국 n이 매우 커지면 1/2은 큰 의미가 없어지므로 O(n)이라고 볼 수 있습니다.\n",
        "\n",
        "주로 아래 목록과 같은 Big O 표기가 실행 시간을 나타내기 위해 많이 사용됩니다.\n",
        "\n",
        "O(n^2)\n",
        "O(n log n)\n",
        "O(n) - 선형 검색\n",
        "O(log n) - 이진 검색\n",
        "O(1)\n",
        "\n",
        "\n",
        "Big O가 알고리즘 실행 시간의 상한을 나타낸 것이라면, 반대로 Big Ω는 알고리즘 실행 시간의 하한을 나타내는 것입니다.\n",
        "\n",
        "예를 들어 선형 검색에서는 n개의 항목이 있을때 최대 n번의 검색을 해야 하므로 상한이 O(n)이 되지만 운이 좋다면 한 번만에 검색을 끝낼수도 있으므로 하한은 Ω(1)이 됩니다.\n",
        "\n",
        "역시 아래 목록과 같은 Big Ω 표기가 많이 사용됩니다.\n",
        "\n",
        "Ω(n^2)\n",
        "Ω(n log n)\n",
        "Ω(n) - 배열 안에 존재하는 값의 개수 세기\n",
        "Ω(log n)\n",
        "Ω(1) - 선형 검색, 이진 검색\n"
      ],
      "metadata": {
        "id": "AabndLMr1sy7"
      }
    },
    {
      "cell_type": "code",
      "source": [
        ""
      ],
      "metadata": {
        "id": "5fz44enW1uUw"
      },
      "execution_count": null,
      "outputs": []
    }
  ]
}