{
  "nbformat": 4,
  "nbformat_minor": 0,
  "metadata": {
    "colab": {
      "provenance": [],
      "authorship_tag": "ABX9TyMwgPv+SLBQtKERjaa7nviU"
    },
    "kernelspec": {
      "name": "python3",
      "display_name": "Python 3"
    },
    "language_info": {
      "name": "python"
    }
  },
  "cells": [
    {
      "cell_type": "markdown",
      "source": [
        "# 객체지향 상용구\n",
        "## 내장 자료형 상속과 다중 상속\n",
        "### 실세계에서의 다중 상속\n",
        "\n",
        "collections.abc 패키지를 통해서 다중 상속을 많이 사용하고, Tcl/Tk에 대한 파이썬 인터페이스로서 tkinter 모듈에 구현된 Tkinter GUI 툴킷은 표준 라이브러리에 다중 상속을 극단적으로 사용하는 예이다.\n",
        "\n",
        "![](https://velog.velcdn.com/images/qsdcfd/post/68140d29-c0fd-46d3-9ee6-6df7974e9c99/image.png)\n",
        "\n",
        "```\n",
        "#print_mro()구현\n",
        "\n",
        "import tkinter\n",
        "print_mro(tkinter.Toplevel)\n",
        "print_mro(tkinter.Widget)\n",
        "print_mro(tkinter.Button)\n",
        "print_mro(tkinter.Entry)\n",
        "print_mro(tkinter.Text)\n",
        "```\n",
        "\n",
        "<br>\n",
        "\n",
        "### 주의점\n",
        "\n",
        "**Toplevel**\n",
        "\n",
        "시각적 위젯 중 유일하게 Widget에서 상속하지 않고, 최상위 윈도우이므로 다른 윈도우나 프레임에 연결되는 등의 일반적인 위젯 작동 방식을 사용할 수 없으므로, Wm을 상속하며, Wm은 윈도우 타이틀을 설정하고 테두리를 설정하는 등 호스트 윈도우 매니저의 함수를 직접 접근할 수 있게 해준다.\n",
        "\n",
        "\n",
        "<br>\n",
        "\n",
        "**Widget**\n",
        "\n",
        "BaseWidget과 Pack, Place, Grid를 직접 상속하고, 기하 도형 관리자로서 윈도우나 프레임 안에 위젯을 배치하는 책임을 지고 있으며, 각 클래스는 서로 다른 배치 전략 및 위젯 위치 지정 API를 담고 있다.\n",
        "\n",
        "<br>\n",
        "\n",
        ">대부분의 위젯과 마찬가지로 Button은 Widget만 상속하지만, 모든 위젯에 숫ㅂ 가지 메서드를 제공하는 Misc를 간접적으로 상속한다.\n",
        "\n",
        "\n",
        "<br>\n",
        "\n",
        "**Entry**\n",
        "\n",
        "Widget과 XView 클래스(수평 스크롤기능을 구현)를 상속한다.\n",
        "\n",
        "<br>\n",
        "\n",
        "**Text**\n",
        "\n",
        "Widget과 XView,YView 클래스(슂ㄱ 스크롤 기능을 구현) 상속한다.\n"
      ],
      "metadata": {
        "id": "tBiX5xpNYaat"
      }
    },
    {
      "cell_type": "code",
      "source": [],
      "metadata": {
        "id": "3giCrNgfYa2F"
      },
      "execution_count": null,
      "outputs": []
    }
  ]
}