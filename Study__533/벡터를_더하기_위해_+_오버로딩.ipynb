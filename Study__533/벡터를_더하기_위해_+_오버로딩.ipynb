{
  "nbformat": 4,
  "nbformat_minor": 0,
  "metadata": {
    "colab": {
      "provenance": [],
      "authorship_tag": "ABX9TyO2oQREehCV8xBbJDF5Tv41"
    },
    "kernelspec": {
      "name": "python3",
      "display_name": "Python 3"
    },
    "language_info": {
      "name": "python"
    }
  },
  "cells": [
    {
      "cell_type": "markdown",
      "source": [
        "# 객체지향 상용구\n",
        "## 연산자 오버로딩: 제대로 하기\n",
        "### 벡터를 더하기 위해 + 오버로딩하기\n",
        "\n",
        ">시퀀스의 결합을 위해서 + 연산자를, 시퀀스의 반복을 위ㅐ서는 * 연산자를 지원해야 한다.\n",
        "\n",
        "\n",
        "<br>\n",
        "\n",
        "```\n",
        "v1 = Vector([3,4,5])\n",
        "v2 = Vector([6,7,8])\n",
        "v1 + v2\n",
        "```\n",
        "\n",
        "<br>\n",
        "\n",
        ">길이가 다른 두 개이 Vector 객체를 더하면, 에러가 생길 수 있으나 정보 검색등에서 활용되는 사례를 보면, 짧은 쪽 벡터의 빈 공간을 0으로 채워서 더하는 것이 낫다.\n",
        "\n",
        "```\n",
        "v1 = Vector[3,4,5,6])\n",
        "v3 = Vector([1,2])\n",
        "v1 + v3\n",
        "```\n",
        "\n",
        "```\n",
        "#Vector 클래스 내부\n",
        "\n",
        "def __add__(self, othher):\n",
        "\tpairs = itertools.zip_longest(self, other, fillvalue=0.0)\n",
        "    return Vector(a + b for a, b in pairs)\n",
        "```\n",
        "![](https://velog.velcdn.com/images/qsdcfd/post/4eb7e1c8-d522-44e3-b3ad-6a289bc8667d/image.png)\n"
      ],
      "metadata": {
        "id": "QcniUOS85u9l"
      }
    },
    {
      "cell_type": "code",
      "source": [],
      "metadata": {
        "id": "pYHaFkwd5vPY"
      },
      "execution_count": null,
      "outputs": []
    },
    {
      "cell_type": "markdown",
      "source": [],
      "metadata": {
        "id": "Yz1WFZ7K5wiu"
      }
    }
  ]
}