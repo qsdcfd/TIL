{
  "nbformat": 4,
  "nbformat_minor": 0,
  "metadata": {
    "colab": {
      "provenance": [],
      "authorship_tag": "ABX9TyOxCokf9vJARw8xQqHRUR4i"
    },
    "kernelspec": {
      "name": "python3",
      "display_name": "Python 3"
    },
    "language_info": {
      "name": "python"
    }
  },
  "cells": [
    {
      "cell_type": "markdown",
      "source": [
        "# 객체지향 상용구\n",
        "## 파이썬스러운 객체\n",
        "### 벡터 클래스의 부활\n",
        "\n",
        ">객체 표현을 생성하기 위해 사용하는 여러 메서드의 예를 살펴보기 위해 Vector2d 클래스를 사용하므로 클래스를 계속 확장해나간다.\n",
        "\n",
        "```\n",
        "#다양하게 표현되는 Vector2d 객체\n",
        "v1 = Vector2d(3,4)\n",
        "print(v1.x, v1.y)\n",
        "x,y = v1\n",
        "x,y\n",
        "v1\n",
        "v1_clone = eval(repr(v1))\n",
        "v1 == v1_clone\n",
        "print(v1)\n",
        "octets = bytes(v1)\n",
        "octets\n",
        "abs(v1)\n",
        "bool(v1), bool(Vector2d(0,0))\n",
        "```\n",
        "\n",
        ">Vec/tor2d 클래스는 vector2d_vo.py에 구현되어 있지만 비교를 위해 사용하는 ==연산자를 제외한 중위 연산자는 구현된다.\n",
        "<br>\n",
        "현재 Vector2d는 잘 설계된 객체에서 파이썬 개발자가 기대하는 연산을 제공하기 위해서 여러 특별 메서드를 구현하고 있다.\n",
        "\n",
        "<br>\n",
        "\n",
        "```\n",
        "from array import array\n",
        "import math\n",
        "\n",
        "class Vector2d:\n",
        "\ttypecode = 'd'\n",
        "    \n",
        "    def __init__(self,x,y):\n",
        "    \tself.x = float(x)\n",
        "        self.y = float(y)\n",
        "        \n",
        "    def  __iter__(self):\n",
        "    \treturn (i for i in (self.x, self.y))\n",
        "        \n",
        "    def __repr__(self):\n",
        "    \tclass_name = type(self).__name__\n",
        "        return '{}({!r}, {!r})'.format(class_name, *self)\n",
        "       \n",
        "    def __str__(self):\n",
        "    \treturn str(tuple(self))\n",
        "        \n",
        "    def __bytes__(self):\n",
        "    \treturn (bytes([ord(self.typecode)]) + \n",
        "        \t\tbytes(array(self.typecode, self)))\n",
        "                \n",
        "    def __eq__(self, other):\n",
        "    \treturn tuple(self) == tuple(other)\n",
        "        \n",
        "    def __abs__(self):\n",
        "    \treturn math.hypot(self.x, self.y)\n",
        "        \n",
        "    def __bool__(self):\n",
        "    \treturn bool(abs(self))\n",
        "```"
      ],
      "metadata": {
        "id": "2L0fMdZm28zQ"
      }
    },
    {
      "cell_type": "code",
      "source": [],
      "metadata": {
        "id": "1XIYeOPc29E-"
      },
      "execution_count": null,
      "outputs": []
    }
  ]
}