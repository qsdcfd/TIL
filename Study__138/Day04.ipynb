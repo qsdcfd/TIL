{
 "cells": [
  {
   "cell_type": "markdown",
   "id": "bottom-generator",
   "metadata": {},
   "source": [
    "## 오늘 한 일\n",
    "\n",
    "이제 해커톤에 대한 기획서는 제출한 상태에서, 저희의 과업 분업많이 남았습니다. 저희의 큰 틀은 병렬적으로 가지만 세부적인 것은 직렬적으로 간다입니다. \n",
    "\n",
    "왜냐하면, 병렬적으로 가게 될 경우 업무 효율은 느릴 수도 있다는 단점과 자기 파트 말고는 알지 못한다는 큰 단점이 있기에, 저희는 병렬적 프로세스를 통해서 현재 어떻게 시스템이 돌아가고 내가 하지 않은 부분이더라도 이해를 할 수 있게 됩니다. 그\n",
    "\n",
    "러므로, 저희의 모토는 협업을 하면서 동시에 서로의 역할을 이해하여 \"각자\"가 아닌 \"팀\"으로 준비한다입니다.\n",
    "\n",
    "저의 역할은 XAI for NLP입니다.\n",
    "\n",
    "생소하시죠?\n",
    "\n",
    "이 역할은 바로, AI가 어떤 과정을 처리하고 결과를 냈을 때 왜 그렇게 내었는지에 대한 판단 근거를 알려주는 것으로, 엄청난 성능 향상을 기대할 수는 없겠지만 개선을 위해서 무엇이 필요하고 \n",
    "\n",
    "Overfitting or underfitting등이 언제 일어났는지에 대해서 알게 되어 하이퍼파라미터 조정을 조금 더 효율적으로 할 수 있게 됩니다.\n",
    "\n",
    "\n",
    "하나 걱정인 것은, XAI는 주로 CV(자율주행)에서 보통 이용이 되고 NLP관점에서는 처음이라는 사실입니다. 허나 구글링을 통해서 LRP라는 논문과 여러 강의 및 깃허브가 있다는 것을 알게 되었기에 너무나 다행입니다.\n",
    "\n",
    "\n",
    "**어려운 점**\n",
    "\n",
    "XAI for NLP(LRP)에 대한 이해를 잘 할 수 있을까?\n",
    "\n",
    "업무 분배\n",
    "\n",
    "**극복**\n",
    "\n",
    "정보 과잉인 이 시대에서 못 찾는 것은 없고, 이미 참고할 블로그, 강의, 논문등이 있다. 물론 영어로 되었지만 유학을 했기에 어느정도 영어에 익숙하여 큰 문제는 없을 거라고 봅니다."
   ]
  },
  {
   "cell_type": "code",
   "execution_count": null,
   "id": "alien-tribune",
   "metadata": {},
   "outputs": [],
   "source": []
  }
 ],
 "metadata": {
  "kernelspec": {
   "display_name": "Python 3",
   "language": "python",
   "name": "python3"
  },
  "language_info": {
   "codemirror_mode": {
    "name": "ipython",
    "version": 3
   },
   "file_extension": ".py",
   "mimetype": "text/x-python",
   "name": "python",
   "nbconvert_exporter": "python",
   "pygments_lexer": "ipython3",
   "version": "3.7.9"
  }
 },
 "nbformat": 4,
 "nbformat_minor": 5
}
