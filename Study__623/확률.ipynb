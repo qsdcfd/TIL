{
  "nbformat": 4,
  "nbformat_minor": 0,
  "metadata": {
    "colab": {
      "provenance": [],
      "authorship_tag": "ABX9TyO+5IyM23+2OPgl4Ki0vMqm"
    },
    "kernelspec": {
      "name": "python3",
      "display_name": "Python 3"
    },
    "language_info": {
      "name": "python"
    }
  },
  "cells": [
    {
      "cell_type": "code",
      "execution_count": 1,
      "metadata": {
        "id": "OnFkmeSKISFF"
      },
      "outputs": [],
      "source": [
        "from scipy.stats import binom, poisson, norm\n",
        "from scipy.special import factorial\n",
        "from numpy import arange, exp, power\n",
        "\n",
        "import matplotlib.pyplot as plt\n",
        "import math\n",
        "\n",
        "\n",
        "#포아송 분포와 정규 분포를 이용해 이항 분포를 근사Approximate해보세요\n",
        "def poisson_binom_plot(n, p):\n",
        "\n",
        "    x_min = int(-n*0.2)\n",
        "    x_max = int(n*1.2)\n",
        "\n",
        "    probs_binom = [binom.pmf(i,n,p) for i in range(x_min, x_max+1)] # x가 i, n이 시행횟수, p는 확률\n",
        "    probs_poisson = [power(n*p,i) * power(math.exp(n*p),-1) / factorial(i) for i in range(x_min,x_max+1)] # https://math100.tistory.com/31\n",
        "    probs_norm = [norm.pdf(i,n*p,power(n*p*(1-p),0.5)) for i in range(x_min, x_max+1)] # chrome-extension://efaidnbmnnnibpcajpcglclefindmkaj/http://contents.kocw.net/KOCW/document/2014/deagucatholic/ohkwangsik1/7.pdf\n",
        "    \n",
        "    plt.plot(range(x_min, x_max+1), probs_binom, alpha=0.5)\n",
        "    plt.plot(range(x_min, x_max+1), probs_poisson, alpha=0.5)\n",
        "    plt.plot(range(x_min, x_max+1), probs_norm, alpha=0.5)\n",
        "    plt.legend(['binom', 'poisson', 'norm'])\n",
        "    plt.title(f'N={n}, p={p}')\n",
        "    plt.show()"
      ]
    },
    {
      "cell_type": "code",
      "source": [],
      "metadata": {
        "id": "IJtJ6Wx5ISpK"
      },
      "execution_count": null,
      "outputs": []
    }
  ]
}