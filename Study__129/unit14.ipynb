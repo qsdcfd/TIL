{
 "cells": [
  {
   "attachments": {},
   "cell_type": "markdown",
   "id": "engaging-lover",
   "metadata": {},
   "source": [
    "<else 이용하기>\n",
    "if만으로는 흐름을 둘 이상으로 나눌 수 없지만 else를 이용하면 가능합니다.\n",
    "\n",
    "if 조건식:\n",
    "     코드1\n",
    "else:\n",
    "     코드2\n",
    "     \n",
    "ex)\n",
    ">>> x = 5\n",
    ">>> if x == 10:\n",
    "...      print('10입니다.')\n",
    "... else:\n",
    "...      print('10이 아닙니다.')\n",
    "... \n",
    "10이 아닙니다.\n",
    "\n",
    "축약형\n",
    "-> 변수 = 값 if 조건문 else 값\n",
    "\n",
    ">>> x = 5\n",
    ">>> y = x if x == 10 else 0\n",
    ">>> y\n",
    "0\n",
    "\n",
    "<else들여쓰기>\n",
    "if와 마찬가지로 들여쓰기는 필수이며, 여러 줄 일 때 들여쓰기 깊이가 같게 만들어야 한다\n",
    "\n",
    "\n",
    "<if조건문의 동작 방식>\n",
    "if True:\n",
    "    print('참')    # True는 참\n",
    "else:\n",
    "    print('거짓')\n",
    " \n",
    "if False:\n",
    "    print('참')\n",
    "else:\n",
    "    print('거짓')    # False는 거짓\n",
    " \n",
    "if None:\n",
    "    print('참')\n",
    "else:\n",
    "    print('거짓')    # None은 거짓\n",
    "\n",
    "<if조건문에 숫자 지정>\n",
    "정수,실수,문자열,불 는 참\n",
    "0, 빈 문자열, None,은 거짓.\n",
    "\n",
    " True, False로 취급하는 것들\n",
    "다음은 파이썬 문법 중에서 False로 취급하는 것들입니다.\n",
    "\n",
    "None\n",
    "\n",
    "False\n",
    "\n",
    "0인 숫자들: 0, 0.0, 0j\n",
    "\n",
    "비어 있는 문자열, 리스트, 튜플, 딕셔너리, 세트: '', \"\", [], (), {}, set()\n",
    "\n",
    "클래스 인스턴스의 __bool__(), __len__() 메서드가 0 또는 False를 반환할 때\n",
    "\n",
    "앞에서 나열한 것들을 제외한 모든 요소들은 True로 취급합니다. 세트는 뒤에서 자세히 설명하겠습니다.\n",
    "\n",
    "<조건식을 여러 개 지정하기>\n",
    "by 논리 연산자에 의해서\n",
    "\n",
    "x = 10\n",
    "y = 20\n",
    " \n",
    "if x == 10 and y == 20:     # x가 10이면서 y가 20일 때\n",
    "    print('참')\n",
    "else:\n",
    "    print('거짓')"
   ]
  },
  {
   "cell_type": "markdown",
   "id": "genetic-venture",
   "metadata": {},
   "source": [
    "![image](https://user-images.githubusercontent.com/86671456/132641013-578413a9-70e6-4a3b-b79c-375b29dddbee.png)\n"
   ]
  },
  {
   "cell_type": "code",
   "execution_count": null,
   "id": "official-voltage",
   "metadata": {},
   "outputs": [],
   "source": [
    "k, e,m, s = map(int, input().split())\n",
    "\n",
    "if k < 0 or k > 100 or e < 0 or e> 100 or m < 0 or m > 100 or s < 0 or s > 100:\n",
    "  print('잘못된 점수')\n",
    "else:\n",
    "  if (k + e + m + s) / 4 >= 80:\n",
    "    print('합격')\n",
    "  else:\n",
    "    print('불합격')"
   ]
  },
  {
   "cell_type": "code",
   "execution_count": null,
   "id": "annual-project",
   "metadata": {},
   "outputs": [],
   "source": [
    "k,e,m,s = map(int, input().split())\n",
    "\n",
    "if k < 0 or k > 100 or e < 0 or e> 100 or m < 0 or m > 100 or s < 0 or s > 100:\n",
    "  print('잘못된 점수')\n",
    "else:\n",
    "  if (k + e + m + s) / 4 >= 80:\n",
    "    print('합격')\n",
    "  else:\n",
    "    print('불합격')"
   ]
  },
  {
   "cell_type": "code",
   "execution_count": null,
   "id": "affected-oklahoma",
   "metadata": {},
   "outputs": [],
   "source": []
  },
  {
   "cell_type": "code",
   "execution_count": null,
   "id": "humanitarian-plasma",
   "metadata": {},
   "outputs": [],
   "source": []
  }
 ],
 "metadata": {
  "kernelspec": {
   "display_name": "Python 3",
   "language": "python",
   "name": "python3"
  },
  "language_info": {
   "codemirror_mode": {
    "name": "ipython",
    "version": 3
   },
   "file_extension": ".py",
   "mimetype": "text/x-python",
   "name": "python",
   "nbconvert_exporter": "python",
   "pygments_lexer": "ipython3",
   "version": "3.7.9"
  }
 },
 "nbformat": 4,
 "nbformat_minor": 5
}
