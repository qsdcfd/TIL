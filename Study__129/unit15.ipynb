{
 "cells": [
  {
   "cell_type": "markdown",
   "id": "endangered-rebound",
   "metadata": {},
   "source": [
    "<elif>\n",
    " -->else + if = elif\n",
    " -->elif는 조건식을 여러 개 지정 가능\n",
    " --> 단독 사용 불가\n",
    " --> 여러번 사용 가능\n",
    "   \n",
    "\n",
    "if 조건식:\n",
    "     코드1\n",
    "elif 조건식:\n",
    "     코드2\n",
    "ex)\n",
    ">>> x = 20\n",
    ">>> if x == 10:\n",
    "...      print('10입니다.')\n",
    "... elif x == 20:\n",
    "...      print('20입니다.')\n",
    "... \n",
    "20입니다.    \n",
    "    \n",
    "if 조건식:\n",
    "    코드1\n",
    "elif 조건식:\n",
    "    코드2\n",
    "else:\n",
    "    코드3\n",
    "\n",
    "ex)\n",
    "x = 30\n",
    " \n",
    "if x == 10:             # x가 10일 때\n",
    "    print('10입니다.')\n",
    "elif x == 20:           # x가 20일 때\n",
    "    print('20입니다.')\n",
    "else:                   # 앞의 조건식에 모두 만족하지 않을 때\n",
    "    print('10도 20도 아닙니다.')"
   ]
  },
  {
   "cell_type": "code",
   "execution_count": null,
   "id": "cultural-tolerance",
   "metadata": {},
   "outputs": [],
   "source": [
    "age = int(input())\n",
    "balance = 9000\n",
    "\n",
    "if age <=12:\n",
    "   balance -= 650\n",
    "elif age <=18:\n",
    "   balance -= 1050\n",
    "elif age >=19:\n",
    "   balance -= 1250\n",
    "print(balance)"
   ]
  },
  {
   "cell_type": "code",
   "execution_count": null,
   "id": "documented-london",
   "metadata": {},
   "outputs": [],
   "source": []
  },
  {
   "cell_type": "code",
   "execution_count": null,
   "id": "dense-serve",
   "metadata": {},
   "outputs": [],
   "source": []
  }
 ],
 "metadata": {
  "kernelspec": {
   "display_name": "Python 3",
   "language": "python",
   "name": "python3"
  },
  "language_info": {
   "codemirror_mode": {
    "name": "ipython",
    "version": 3
   },
   "file_extension": ".py",
   "mimetype": "text/x-python",
   "name": "python",
   "nbconvert_exporter": "python",
   "pygments_lexer": "ipython3",
   "version": "3.7.9"
  }
 },
 "nbformat": 4,
 "nbformat_minor": 5
}
