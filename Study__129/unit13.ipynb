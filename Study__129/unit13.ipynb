{
 "cells": [
  {
   "cell_type": "markdown",
   "id": "honest-dublin",
   "metadata": {},
   "source": [
    "<if 조건문>\n",
    "--주의사항: 조건식 후에는 :(콜론) 붙이기, 코드는 들여쓰기(4칸 or 2칸) 필수.\n",
    "if 조건식:\n",
    "     코드\n",
    "\n",
    "* pass: 아무 일도 하지 않고 그냥 넘어간다\n",
    "https://blockdmask.tistory.com/535\n",
    "\n",
    "<중첩if문>\n",
    "핵심은 들여쓰기!!\n",
    "들여쓰기 한 번 더 해준다\n",
    "\n",
    "if x >= 10:\n",
    "    print('10 이상입니다.')\n",
    " \n",
    "    if x == 15:\n",
    "        print('15입니다.')\n",
    " \n",
    "    if x == 20:\n",
    "        print('20입니다.') \n",
    " <사용자가 입력한 값에 if조건문 사용>\n",
    " \n",
    "x = int(input())          # 입력받은 값을 변수에 저장\n",
    " \n",
    "if x == 10:               # x가 10이면\n",
    "    print('10입니다.')    # '10입니다.'를 출력\n",
    " \n",
    "if x == 20:               # x가 20이면\n",
    "    print('20입니다.')    # '20입니다.'를 출력"
   ]
  },
  {
   "cell_type": "code",
   "execution_count": null,
   "id": "graphic-tactics",
   "metadata": {},
   "outputs": [],
   "source": [
    "a = int(input())\n",
    "b = input()\n",
    "\n",
    "if b == 'Cash3000':\n",
    "    a -= 3000\n",
    "    \n",
    "if b == 'Cash5000':\n",
    "    a -= 5000\n",
    "print(a)"
   ]
  },
  {
   "cell_type": "code",
   "execution_count": null,
   "id": "associate-hunter",
   "metadata": {},
   "outputs": [],
   "source": []
  }
 ],
 "metadata": {
  "kernelspec": {
   "display_name": "Python 3",
   "language": "python",
   "name": "python3"
  },
  "language_info": {
   "codemirror_mode": {
    "name": "ipython",
    "version": 3
   },
   "file_extension": ".py",
   "mimetype": "text/x-python",
   "name": "python",
   "nbconvert_exporter": "python",
   "pygments_lexer": "ipython3",
   "version": "3.7.9"
  }
 },
 "nbformat": 4,
 "nbformat_minor": 5
}
