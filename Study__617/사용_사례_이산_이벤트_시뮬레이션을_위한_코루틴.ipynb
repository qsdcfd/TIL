{
  "nbformat": 4,
  "nbformat_minor": 0,
  "metadata": {
    "colab": {
      "provenance": [],
      "authorship_tag": "ABX9TyMWaJd7R/UpjyR/Pw+Zruna"
    },
    "kernelspec": {
      "name": "python3",
      "display_name": "Python 3"
    },
    "language_info": {
      "name": "python"
    }
  },
  "cells": [
    {
      "cell_type": "markdown",
      "source": [
        "# 제어 흐름\n",
        "## 코루틴\n",
        "### 사용 사례: 이산 이벤트 시뮬레이션을 위한 코루틴\n",
        "\n",
        "***이산 이벤트 시뮬레이션(DES)에 대해***\n",
        "\n",
        "일련의 이벤트로 모델링을 하는 것이므로 고정된 값만큼 진행하는 것이 아니라, 모델링된 다음 이벤트의 시뮬레이션된 시각으로 바로 진행이 된다.\n",
        "\n",
        "즉, 이벤트 루프에 의해 작동하는 콜백이나 코루틴 등의 객체지향 프로그래밍 기법을 이용해서 다중 스레드나 단일 스레드로 구현할 수 있고, 실시간으로 동시에 발생하는 행동을 표현하기 위해 여러 스다중 스레드나 단일 스레드로 구현한다.\n",
        "\n",
        "\n",
        "<br>\n",
        "\n",
        "***택시 집단 시뮬레이션***\n",
        "\n",
        ">각 택시는 일정 횟수의 운행을 마친 후 찝으로 돌아가고, 택시는 차고를 나와 승객을 찾으면서 배회한다. 이 상태는 승객을 태울 때까지 계속되고난 후에 운행이 시작되며 승객이 내리면 택시는 다시 배회 상태이다.\n",
        "\n",
        "\n",
        "```\n",
        "end of simulation time: 3 events pending #대기하고 있는 이벤트를 남겨 놓고 시뮬레이션 끝난 후 이벤트가 남아 있는 경우 메시지 출력\n",
        "\n",
        "Event= collections.namedtuple('Event', 'time proc action') #다른 곳에 정의된 함수와 Event 클래스 객체를 사용한다\n",
        "\n",
        "```\n",
        "\n",
        "<br>\n",
        "\n",
        "*코드*\n",
        "\n",
        "```\n",
        "def taxi_process(ident, trips, start_time=0):\n",
        "\t\"\"\"각 단계 변화마다 이벤트를 생성하며 시뮬레이터에 제어권을 넘긴다.\"\"\"\n",
        "    time = yield Event(start_time, ident, 'leave garage')\n",
        "    for i in range(trips):\n",
        "    \ttime = yield Event(time, ident, 'pick up passenger')\n",
        "        time = yield Event(time, ident,'drop off passenger')\n",
        "        \n",
        "        yield Event(time, ident, 'going home')\n",
        "        \n",
        "#taxi_process)_ 코루틴\n",
        "\n",
        "from taix_sim import taxi_process\n",
        "taix = taxi_process(ident=13, trips=2, start_time=0)\n",
        "next(taxi)\n",
        "taxi.seed(_.time + 7)\n",
        "\n",
        "#Simulator클래스의 객체를 생성하기 위해서 taxi 딕셔너리 만들기\n",
        "\n",
        "taxis = {i:taxi_process(i,(i+1)*2, i * DEPARTURE_INTERVAL)\n",
        "\t\t for i in range(num_taxis)}{\n",
        "sim = Simulator(taxis)\n",
        "```\n",
        "\n",
        "```\n",
        "# Simulator 이산 이벤트 시 시뮬레이션 클래스.run()메서드르 중심\n",
        "\n",
        "class Simulator:\n",
        "\n",
        "\tdef __init__(self, procs_map):\n",
        "    \tself.events = queue.PriorityQueue()\n",
        "        self.procs = dict(procs_map)\n",
        "        \n",
        "    def run(self,end_time):\n",
        "    \t\"\"\"시간이 끝날 때까지 이벤트를 스케쥴링하고 출력한다.\"\"\"\n",
        "        for _, proc in sorted(self.procs.items()):\n",
        "        \tfirst_event = next(proc)\n",
        "            self.events.put(firts_event)\n",
        "\n",
        "```\n",
        "\n"
      ],
      "metadata": {
        "id": "LOo6TGy0fSTC"
      }
    },
    {
      "cell_type": "code",
      "source": [],
      "metadata": {
        "id": "8bwVKxV0fSov"
      },
      "execution_count": null,
      "outputs": []
    }
  ]
}