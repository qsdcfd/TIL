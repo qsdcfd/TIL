{
  "nbformat": 4,
  "nbformat_minor": 0,
  "metadata": {
    "colab": {
      "provenance": [],
      "authorship_tag": "ABX9TyN9OQeug4nbvL7hdOkpihJP"
    },
    "kernelspec": {
      "name": "python3",
      "display_name": "Python 3"
    },
    "language_info": {
      "name": "python"
    }
  },
  "cells": [
    {
      "cell_type": "markdown",
      "source": [],
      "metadata": {
        "id": "PcKmeBXzEg4T"
      }
    },
    {
      "cell_type": "markdown",
      "source": [
        "# 제어 흐름\n",
        "## 반복형, 반복자, 제너레이터\n",
        "### 제너레이터 함수\n",
        "\n",
        "**동일한 기능을 파이썬스럽게 구현하려면 SequenceIterator 클래스 대신 제너레이터 함수를 사용한다.**\n",
        "\n",
        "```\n",
        "#제너레이터 함수를 사용해서 구현한 Sentence\n",
        "\n",
        "import re\n",
        "import reprlib\n",
        "\n",
        "RE_WORD = re.compile('\\w+')\n",
        "\n",
        "class Sentence:\n",
        "\n",
        "\tdef __init__(self, text):\n",
        "    \tself.text = text\n",
        "        self.words = RE_WORD.findall(text)\n",
        "        \n",
        "    def __repr__(self):\n",
        "    \treturn 'Sentence(%s)' reprlib.repr(self.text)\n",
        "        \n",
        "    def __iter__(self):\n",
        "    \tfor word in self.words:\n",
        "        \tyield word\n",
        "        return\n",
        "```\n",
        "\n",
        "> Sentence 코드에서_iter—( ）는 SentenceIterator ( ) 생성자를 호출해서 \n",
        "반복자를생성하고반환했다. ［예제 14-5] 의 반복자는사실 제너레이터 객체로서__iter_( ) \n",
        "메서드를호출할 때 자동으로 생성된다. 여기서 _iter_( ）는 제너레이터 함수이기 때문이다. \n",
        "다음 절에서는 제너레이터 함수에 대해 자세히 설명한다. "
      ],
      "metadata": {
        "id": "0xT-tCeiEg8N"
      }
    },
    {
      "cell_type": "code",
      "source": [],
      "metadata": {
        "id": "l35wq6STEhWw"
      },
      "execution_count": null,
      "outputs": []
    }
  ]
}