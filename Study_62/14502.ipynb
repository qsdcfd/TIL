{
 "cells": [
  {
   "cell_type": "code",
   "execution_count": null,
   "id": "challenging-conditions",
   "metadata": {},
   "outputs": [],
   "source": [
    "import sys\n",
    "import copy\n",
    "sys.setrecursionlimit(10**6)\n",
    "input = sys.stdin.readline\n",
    "\n",
    "N, M = map(int,input().split())\n",
    "graph = [list(map(int,input().split())) for _ in range(N)] \n",
    "graph_copy = copy.deepcopy(graph)\n",
    "dx, dy = [-1,1,0,0], [0,0,-1,1] \n",
    "\n",
    "safe_region = 0 \n",
    "\n",
    "\n",
    "def dfs(x,y,sel_wall):\n",
    "    sel_wall[x][y] = 2\n",
    "\n",
    "   \n",
    "    for i in range(4):\n",
    "        nx, ny = x + dx[i], y + dy[i]\n",
    "        if 0 <= nx < N and 0 <= ny < M:\n",
    "            if sel_wall[nx][ny] == 0: \n",
    "                dfs(nx,ny,sel_wall) \n",
    "\n",
    "\n",
    "\n",
    "def select_wall(start, count):\n",
    "    global safe_region\n",
    "\n",
    "    if count == 3: \n",
    "        sel_wall = copy.deepcopy(graph_copy) \n",
    "        \n",
    "        for i in range(N):\n",
    "            for j in range(M):\n",
    "                if sel_wall[i][j] == 2: \n",
    "                    dfs(i,j,sel_wall)\n",
    "        safe_count = sum(_.count(0) for _ in sel_wall) \n",
    "        safe_region = max(safe_region,safe_count) \n",
    "        return\n",
    "\n",
    "    else: \n",
    "        for i in range(start, N*M):\n",
    "            r = i // M \n",
    "            c = i % M \n",
    "            if graph_copy[r][c] == 0: \n",
    "                graph_copy[r][c] = 1 \n",
    "                select_wall(i,count+1) \n",
    "                graph_copy[r][c] = 0\n",
    "\n",
    "select_wall(0,0)\n",
    "print(safe_region)"
   ]
  }
 ],
 "metadata": {
  "kernelspec": {
   "display_name": "Python 3",
   "language": "python",
   "name": "python3"
  },
  "language_info": {
   "codemirror_mode": {
    "name": "ipython",
    "version": 3
   },
   "file_extension": ".py",
   "mimetype": "text/x-python",
   "name": "python",
   "nbconvert_exporter": "python",
   "pygments_lexer": "ipython3",
   "version": "3.7.9"
  }
 },
 "nbformat": 4,
 "nbformat_minor": 5
}
