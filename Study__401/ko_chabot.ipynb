{
  "nbformat": 4,
  "nbformat_minor": 0,
  "metadata": {
    "colab": {
      "provenance": [],
      "authorship_tag": "ABX9TyMmMxQRgxz6NvUQV/RATqVX",
      "include_colab_link": true
    },
    "kernelspec": {
      "name": "python3",
      "display_name": "Python 3"
    },
    "language_info": {
      "name": "python"
    },
    "accelerator": "GPU"
  },
  "cells": [
    {
      "cell_type": "markdown",
      "metadata": {
        "id": "view-in-github",
        "colab_type": "text"
      },
      "source": [
        "<a href=\"https://colab.research.google.com/github/qsdcfd/TIL/blob/TIL/Study__401/ko_chabot.ipynb\" target=\"_parent\"><img src=\"https://colab.research.google.com/assets/colab-badge.svg\" alt=\"Open In Colab\"/></a>"
      ]
    },
    {
      "cell_type": "code",
      "execution_count": 1,
      "metadata": {
        "colab": {
          "base_uri": "https://localhost:8080/"
        },
        "id": "njJqfxG07ht_",
        "outputId": "3e372b47-7742-46c2-f6c7-7d9e9ad1b4d1"
      },
      "outputs": [
        {
          "output_type": "stream",
          "name": "stdout",
          "text": [
            "Cloning into 'Chatbot_data'...\n",
            "remote: Enumerating objects: 57, done.\u001b[K\n",
            "remote: Counting objects: 100% (39/39), done.\u001b[K\n",
            "remote: Compressing objects: 100% (36/36), done.\u001b[K\n",
            "remote: Total 57 (delta 21), reused 6 (delta 3), pack-reused 18\u001b[K\n",
            "Unpacking objects: 100% (57/57), done.\n"
          ]
        }
      ],
      "source": [
        "!git clone \"https://github.com/songys/Chatbot_data.git\""
      ]
    },
    {
      "cell_type": "code",
      "source": [
        "import os   #디렉토리 관리\n",
        "import re   #문자열 정규식\n",
        "\n",
        "import numpy as np   #행렬 연산\n",
        "import pandas as pd   #데이터 프레임\n",
        "import matplotlib.pyplot as plt   #데이터 시각화\n",
        "\n",
        "import tensorflow as tf   #신경망\n",
        "import tensorflow_datasets as tfds   #단어장 만들기"
      ],
      "metadata": {
        "id": "KZH54J_K7xyu"
      },
      "execution_count": 2,
      "outputs": []
    },
    {
      "cell_type": "code",
      "source": [
        "#/content/Chatbot_data/ChatbotData.csv\n",
        "dataset = pd.read_csv(\"/content/Chatbot_data/ChatbotData.csv\")\n",
        "dataset.sample(5)"
      ],
      "metadata": {
        "colab": {
          "base_uri": "https://localhost:8080/",
          "height": 206
        },
        "id": "5GHPkjP67kxN",
        "outputId": "cd6dc740-3c8c-4783-8f0d-5d6520d8e1c5"
      },
      "execution_count": 3,
      "outputs": [
        {
          "output_type": "execute_result",
          "data": {
            "text/plain": [
              "                   Q                 A  label\n",
              "9725        매일매일 사랑해        표현하는 게 좋죠.      2\n",
              "5859  내 사랑의 끝은 이별이지만  더 좋은 시작이 있을 거예요.      1\n",
              "1297   돈 빌려줬는데 연락 두절      차용증 썼길 바랍니다.      0\n",
              "8982  계속 그 사람 생각만 해.      자연스러운 현상이에요.      2\n",
              "3980             잠 와    잠을 깨요! 기운 내요!!      0"
            ],
            "text/html": [
              "\n",
              "  <div id=\"df-e79dfdb8-7864-4187-b172-19c3abb091d0\">\n",
              "    <div class=\"colab-df-container\">\n",
              "      <div>\n",
              "<style scoped>\n",
              "    .dataframe tbody tr th:only-of-type {\n",
              "        vertical-align: middle;\n",
              "    }\n",
              "\n",
              "    .dataframe tbody tr th {\n",
              "        vertical-align: top;\n",
              "    }\n",
              "\n",
              "    .dataframe thead th {\n",
              "        text-align: right;\n",
              "    }\n",
              "</style>\n",
              "<table border=\"1\" class=\"dataframe\">\n",
              "  <thead>\n",
              "    <tr style=\"text-align: right;\">\n",
              "      <th></th>\n",
              "      <th>Q</th>\n",
              "      <th>A</th>\n",
              "      <th>label</th>\n",
              "    </tr>\n",
              "  </thead>\n",
              "  <tbody>\n",
              "    <tr>\n",
              "      <th>9725</th>\n",
              "      <td>매일매일 사랑해</td>\n",
              "      <td>표현하는 게 좋죠.</td>\n",
              "      <td>2</td>\n",
              "    </tr>\n",
              "    <tr>\n",
              "      <th>5859</th>\n",
              "      <td>내 사랑의 끝은 이별이지만</td>\n",
              "      <td>더 좋은 시작이 있을 거예요.</td>\n",
              "      <td>1</td>\n",
              "    </tr>\n",
              "    <tr>\n",
              "      <th>1297</th>\n",
              "      <td>돈 빌려줬는데 연락 두절</td>\n",
              "      <td>차용증 썼길 바랍니다.</td>\n",
              "      <td>0</td>\n",
              "    </tr>\n",
              "    <tr>\n",
              "      <th>8982</th>\n",
              "      <td>계속 그 사람 생각만 해.</td>\n",
              "      <td>자연스러운 현상이에요.</td>\n",
              "      <td>2</td>\n",
              "    </tr>\n",
              "    <tr>\n",
              "      <th>3980</th>\n",
              "      <td>잠 와</td>\n",
              "      <td>잠을 깨요! 기운 내요!!</td>\n",
              "      <td>0</td>\n",
              "    </tr>\n",
              "  </tbody>\n",
              "</table>\n",
              "</div>\n",
              "      <button class=\"colab-df-convert\" onclick=\"convertToInteractive('df-e79dfdb8-7864-4187-b172-19c3abb091d0')\"\n",
              "              title=\"Convert this dataframe to an interactive table.\"\n",
              "              style=\"display:none;\">\n",
              "        \n",
              "  <svg xmlns=\"http://www.w3.org/2000/svg\" height=\"24px\"viewBox=\"0 0 24 24\"\n",
              "       width=\"24px\">\n",
              "    <path d=\"M0 0h24v24H0V0z\" fill=\"none\"/>\n",
              "    <path d=\"M18.56 5.44l.94 2.06.94-2.06 2.06-.94-2.06-.94-.94-2.06-.94 2.06-2.06.94zm-11 1L8.5 8.5l.94-2.06 2.06-.94-2.06-.94L8.5 2.5l-.94 2.06-2.06.94zm10 10l.94 2.06.94-2.06 2.06-.94-2.06-.94-.94-2.06-.94 2.06-2.06.94z\"/><path d=\"M17.41 7.96l-1.37-1.37c-.4-.4-.92-.59-1.43-.59-.52 0-1.04.2-1.43.59L10.3 9.45l-7.72 7.72c-.78.78-.78 2.05 0 2.83L4 21.41c.39.39.9.59 1.41.59.51 0 1.02-.2 1.41-.59l7.78-7.78 2.81-2.81c.8-.78.8-2.07 0-2.86zM5.41 20L4 18.59l7.72-7.72 1.47 1.35L5.41 20z\"/>\n",
              "  </svg>\n",
              "      </button>\n",
              "      \n",
              "  <style>\n",
              "    .colab-df-container {\n",
              "      display:flex;\n",
              "      flex-wrap:wrap;\n",
              "      gap: 12px;\n",
              "    }\n",
              "\n",
              "    .colab-df-convert {\n",
              "      background-color: #E8F0FE;\n",
              "      border: none;\n",
              "      border-radius: 50%;\n",
              "      cursor: pointer;\n",
              "      display: none;\n",
              "      fill: #1967D2;\n",
              "      height: 32px;\n",
              "      padding: 0 0 0 0;\n",
              "      width: 32px;\n",
              "    }\n",
              "\n",
              "    .colab-df-convert:hover {\n",
              "      background-color: #E2EBFA;\n",
              "      box-shadow: 0px 1px 2px rgba(60, 64, 67, 0.3), 0px 1px 3px 1px rgba(60, 64, 67, 0.15);\n",
              "      fill: #174EA6;\n",
              "    }\n",
              "\n",
              "    [theme=dark] .colab-df-convert {\n",
              "      background-color: #3B4455;\n",
              "      fill: #D2E3FC;\n",
              "    }\n",
              "\n",
              "    [theme=dark] .colab-df-convert:hover {\n",
              "      background-color: #434B5C;\n",
              "      box-shadow: 0px 1px 3px 1px rgba(0, 0, 0, 0.15);\n",
              "      filter: drop-shadow(0px 1px 2px rgba(0, 0, 0, 0.3));\n",
              "      fill: #FFFFFF;\n",
              "    }\n",
              "  </style>\n",
              "\n",
              "      <script>\n",
              "        const buttonEl =\n",
              "          document.querySelector('#df-e79dfdb8-7864-4187-b172-19c3abb091d0 button.colab-df-convert');\n",
              "        buttonEl.style.display =\n",
              "          google.colab.kernel.accessAllowed ? 'block' : 'none';\n",
              "\n",
              "        async function convertToInteractive(key) {\n",
              "          const element = document.querySelector('#df-e79dfdb8-7864-4187-b172-19c3abb091d0');\n",
              "          const dataTable =\n",
              "            await google.colab.kernel.invokeFunction('convertToInteractive',\n",
              "                                                     [key], {});\n",
              "          if (!dataTable) return;\n",
              "\n",
              "          const docLinkHtml = 'Like what you see? Visit the ' +\n",
              "            '<a target=\"_blank\" href=https://colab.research.google.com/notebooks/data_table.ipynb>data table notebook</a>'\n",
              "            + ' to learn more about interactive tables.';\n",
              "          element.innerHTML = '';\n",
              "          dataTable['output_type'] = 'display_data';\n",
              "          await google.colab.output.renderOutput(dataTable, element);\n",
              "          const docLink = document.createElement('div');\n",
              "          docLink.innerHTML = docLinkHtml;\n",
              "          element.appendChild(docLink);\n",
              "        }\n",
              "      </script>\n",
              "    </div>\n",
              "  </div>\n",
              "  "
            ]
          },
          "metadata": {},
          "execution_count": 3
        }
      ]
    },
    {
      "cell_type": "code",
      "source": [
        "dataset.info()\n"
      ],
      "metadata": {
        "colab": {
          "base_uri": "https://localhost:8080/"
        },
        "id": "EzuwlUEI7uVN",
        "outputId": "e1781656-358b-4c5f-fd65-d8b827f4a1e3"
      },
      "execution_count": 4,
      "outputs": [
        {
          "output_type": "stream",
          "name": "stdout",
          "text": [
            "<class 'pandas.core.frame.DataFrame'>\n",
            "RangeIndex: 11823 entries, 0 to 11822\n",
            "Data columns (total 3 columns):\n",
            " #   Column  Non-Null Count  Dtype \n",
            "---  ------  --------------  ----- \n",
            " 0   Q       11823 non-null  object\n",
            " 1   A       11823 non-null  object\n",
            " 2   label   11823 non-null  int64 \n",
            "dtypes: int64(1), object(2)\n",
            "memory usage: 277.2+ KB\n"
          ]
        }
      ]
    },
    {
      "cell_type": "code",
      "source": [
        "#전처리 함수===========================\n",
        "def preprocess_sentence(sentence):\n",
        "    sentence = sentence.lower().strip()\n",
        "    sentence = re.sub(r\"([0-9?.!,])\", r\" \\1 \", sentence)\n",
        "    sentence = re.sub(r'[\" \"]+', \" \", sentence)\n",
        "    sentence = re.sub(r\"[^a-zA-Zㄱ-ㅎ가-힣0-9?.!,]+\", \" \", sentence)\n",
        "    sentence = sentence.strip()\n",
        "    return sentence\n",
        "#End===================================\n",
        "\n",
        "\n",
        "#문장 전처리===========================\n",
        "questions, answers = [], []\n",
        "for idx, row in dataset.iterrows():\n",
        "    questions.append(preprocess_sentence(row[\"Q\"]))\n",
        "    answers.append(preprocess_sentence(row[\"A\"]))\n",
        "#End===================================\n",
        "\n",
        "\n",
        "#출력부================================\n",
        "print(\"*\" * 50)\n",
        "print(\"Question: {0} ===> {1}\".format(dataset[\"Q\"][0], questions[0]))\n",
        "print(\"Answer: {0} ===> {1}\".format(dataset[\"A\"][0], answers[0]))\n",
        "print(\"*\" * 50)\n",
        "print(\"Question len: {0}\\tAnswer len: {1}\".format(len(questions), len(answers)))\n",
        "#End==================================="
      ],
      "metadata": {
        "colab": {
          "base_uri": "https://localhost:8080/"
        },
        "id": "i6uDCG8X8W70",
        "outputId": "0358830e-3ddf-4b50-9d02-4322773e33b4"
      },
      "execution_count": 5,
      "outputs": [
        {
          "output_type": "stream",
          "name": "stdout",
          "text": [
            "**************************************************\n",
            "Question: 12시 땡! ===> 1 2 시 땡 !\n",
            "Answer: 하루가 또 가네요. ===> 하루가 또 가네요 .\n",
            "**************************************************\n",
            "Question len: 11823\tAnswer len: 11823\n"
          ]
        }
      ]
    },
    {
      "cell_type": "code",
      "source": [
        "question_len = [len(s.split()) for s in questions]   #원문에 대한 문장 길이\n",
        "answers_len = [len(s.split()) for s in answers]   #요약문에 대한 문장 길이\n",
        "\n",
        "\n",
        "#출력부============================\n",
        "print(\"*\" * 60)\n",
        "print('question min len: {}'.format(np.min(question_len)))\n",
        "print('question max len: {}'.format(np.max(question_len)))\n",
        "print('question avg len: {}'.format(np.mean(question_len)))\n",
        "\n",
        "print('\\nanswer min len: {}'.format(np.min(answers_len)))\n",
        "print('answer max len: {}'.format(np.max(answers_len)))\n",
        "print('answer avg len: {}'.format(np.mean(answers_len)))\n",
        "print(\"*\" * 60)\n",
        "#End==============================\n",
        "\n",
        "\n",
        "#시각화===========================\n",
        "data_list = (question_len, answers_len)\n",
        "title_list = (\"Question\", \"Answer\")\n",
        "\n",
        "plt.figure(figsize=(11, 9))\n",
        "plt.suptitle(\"<Fig. 1> Sentence Length\", fontsize=14)\n",
        "plt.subplots_adjust(top=0.9, wspace=0.2)\n",
        "\n",
        "for idx, data in enumerate(data_list):\n",
        "    idx += 1\n",
        "    plt.subplot(2, 2, idx)\n",
        "    \n",
        "    plt.boxplot(data)\n",
        "    plt.title(title_list[idx-1])\n",
        "    \n",
        "    plt.subplot(2, 2, idx + 2)\n",
        "    plt.hist(data, bins=40)\n",
        "    plt.xlabel(\"length of samples\")\n",
        "    plt.ylabel(\"number of samples\")\n",
        "\n",
        "plt.show()\n",
        "#End=============================="
      ],
      "metadata": {
        "colab": {
          "base_uri": "https://localhost:8080/",
          "height": 733
        },
        "id": "3K11nMHx8YkY",
        "outputId": "21e8aaca-c172-48f1-c08d-cacd1b5462c9"
      },
      "execution_count": 6,
      "outputs": [
        {
          "output_type": "stream",
          "name": "stdout",
          "text": [
            "************************************************************\n",
            "question min len: 1\n",
            "question max len: 16\n",
            "question avg len: 3.9808001353294427\n",
            "\n",
            "answer min len: 1\n",
            "answer max len: 24\n",
            "answer avg len: 4.720375539203248\n",
            "************************************************************\n"
          ]
        },
        {
          "output_type": "display_data",
          "data": {
            "text/plain": [
              "<Figure size 792x648 with 4 Axes>"
            ],
            "image/png": "[encoded data removed]"
          },
          "metadata": {
            "needs_background": "light"
          }
        }
      ]
    },
    {
      "cell_type": "code",
      "source": [
        "tokenizer = tfds.deprecated.text.SubwordTextEncoder.build_from_corpus(\n",
        "    questions + answers,\n",
        "    target_vocab_size=8192   #단어사전 크기\n",
        ")"
      ],
      "metadata": {
        "id": "hKd4iZCZ8agL"
      },
      "execution_count": 7,
      "outputs": []
    },
    {
      "cell_type": "code",
      "source": [
        "START_TOKEN, END_TOKEN = [tokenizer.vocab_size], [tokenizer.vocab_size + 1]\n",
        "VOCAB_SIZE = tokenizer.vocab_size + 2   #시작, 종료 토큰 추가 시의 vocab 크기\n",
        "\n",
        "\n",
        "#출력부================================\n",
        "print(\"*\" * 50)\n",
        "print('START_TOKEN:' ,START_TOKEN)\n",
        "print('END_TOKEN:' ,END_TOKEN)\n",
        "print(\"VOCAB SIZE:\", VOCAB_SIZE)\n",
        "print(\"*\" * 50)\n",
        "#End==================================="
      ],
      "metadata": {
        "colab": {
          "base_uri": "https://localhost:8080/"
        },
        "id": "Z6ClE34o8cn3",
        "outputId": "2acb0bcc-c777-4300-aca2-d8670ae951c0"
      },
      "execution_count": 8,
      "outputs": [
        {
          "output_type": "stream",
          "name": "stdout",
          "text": [
            "**************************************************\n",
            "START_TOKEN: [8145]\n",
            "END_TOKEN: [8146]\n",
            "VOCAB SIZE: 8147\n",
            "**************************************************\n"
          ]
        }
      ]
    },
    {
      "cell_type": "code",
      "source": [
        "MAX_LENGTH = 10\n",
        "\n",
        "#================================\n",
        "def tokenize_and_filter(inputs, outputs):\n",
        "    tokenized_inputs, tokenized_outputs = [], []\n",
        "  \n",
        "    for (sentence1, sentence2) in zip(inputs, outputs):\n",
        "        # 정수 인코딩 과정에서 시작 토큰과 종료 토큰을 추가\n",
        "        sentence1 = START_TOKEN + tokenizer.encode(sentence1) + END_TOKEN\n",
        "        sentence2 = START_TOKEN + tokenizer.encode(sentence2) + END_TOKEN\n",
        "\n",
        "        # 최대 길이 40 이하인 경우에만 데이터셋으로 허용\n",
        "        if len(sentence1) <= MAX_LENGTH and len(sentence2) <= MAX_LENGTH:\n",
        "            tokenized_inputs.append(sentence1)\n",
        "            tokenized_outputs.append(sentence2)\n",
        "  \n",
        "    # 최대 길이 40으로 모든 데이터셋을 패딩\n",
        "    tokenized_inputs = tf.keras.preprocessing.sequence.pad_sequences(\n",
        "        tokenized_inputs, maxlen=MAX_LENGTH, padding='post'\n",
        "    )\n",
        "    tokenized_outputs = tf.keras.preprocessing.sequence.pad_sequences(\n",
        "        tokenized_outputs, maxlen=MAX_LENGTH, padding='post'\n",
        "    )\n",
        "    return tokenized_inputs, tokenized_outputs\n",
        "#End===================================\n",
        "\n",
        "\n",
        "questions, answers = tokenize_and_filter(questions, answers)\n",
        "\n",
        "\n",
        "#출력부================================\n",
        "print(\"*\" * 50)\n",
        "print('필터링 후의 질문 샘플 개수: {}'.format(len(questions)))\n",
        "print('필터링 후의 답변 샘플 개수: {}'.format(len(answers)))\n",
        "print(\"*\" * 50)\n",
        "#End==================================="
      ],
      "metadata": {
        "colab": {
          "base_uri": "https://localhost:8080/"
        },
        "id": "gs9s_Wik8hC9",
        "outputId": "25213ca3-bad9-45b9-95a2-e98cf5094932"
      },
      "execution_count": 9,
      "outputs": [
        {
          "output_type": "stream",
          "name": "stdout",
          "text": [
            "**************************************************\n",
            "필터링 후의 질문 샘플 개수: 9084\n",
            "필터링 후의 답변 샘플 개수: 9084\n",
            "**************************************************\n"
          ]
        }
      ]
    },
    {
      "cell_type": "code",
      "source": [
        "BATCH_SIZE = 64\n",
        "BUFFER_SIZE = 10000\n",
        "\n",
        "#데이터셋 생성=============================================\n",
        "dataset = tf.data.Dataset.from_tensor_slices((\n",
        "    {\n",
        "        'inputs': questions,\n",
        "        #마지막 글자 제외 = END TOKEN 제외\n",
        "        'dec_inputs': answers[:, :-1]\n",
        "    },\n",
        "    {\n",
        "        #첫 번째 글자 제외 = START TOKEN 제외\n",
        "        'outputs': answers[:, 1:]\n",
        "    },\n",
        "))\n",
        "\n",
        "dataset = dataset.cache()\n",
        "dataset = dataset.shuffle(BUFFER_SIZE)\n",
        "dataset = dataset.batch(BATCH_SIZE)\n",
        "dataset = dataset.prefetch(tf.data.experimental.AUTOTUNE)\n",
        "#End=========================================================\n",
        "\n",
        "\n",
        "#출력부======================================================\n",
        "for input_data, output_data in dataset.take(1): break;\n",
        "rand_idx = np.random.randint(0, BATCH_SIZE)\n",
        "seq = input_data[\"inputs\"][rand_idx]\n",
        "\n",
        "print(\"*\" * 70)\n",
        "for word in seq.numpy():\n",
        "    try:\n",
        "        word = tokenizer.subwords[word - 1]\n",
        "        if word == \" , ,\": break;\n",
        "        print(word, end=\"\")\n",
        "    except:\n",
        "        pass\n",
        "print(\"\\n\" + \"↓\" * 35)\n",
        "print(seq.numpy())\n",
        "print(\"*\" * 70)\n",
        "#End========================================================="
      ],
      "metadata": {
        "colab": {
          "base_uri": "https://localhost:8080/"
        },
        "id": "EZef4OoE8kCE",
        "outputId": "d6397fb5-0eef-4d53-94ac-2421a5788dcd"
      },
      "execution_count": 10,
      "outputs": [
        {
          "output_type": "stream",
          "name": "stdout",
          "text": [
            "**********************************************************************\n",
            "그녀를_생각할_수록_내가_비참해져 .\n",
            "↓↓↓↓↓↓↓↓↓↓↓↓↓↓↓↓↓↓↓↓↓↓↓↓↓↓↓↓↓↓↓↓↓↓↓\n",
            "[8145  753 1101  788   53 2980 3826    1 8146    0]\n",
            "**********************************************************************\n"
          ]
        }
      ]
    },
    {
      "cell_type": "code",
      "source": [
        "# 포지셔널 인코딩 레이어++++++++++++++++++++++++++++++++++++++++++++++++++++++\n",
        "class PositionalEncoding(tf.keras.layers.Layer):\n",
        "\n",
        "    def __init__(self, position, d_model):\n",
        "        #position: 행 크기(=문장 길이), d_model:  임베딩 차원\n",
        "        super(PositionalEncoding, self).__init__()\n",
        "        self.pos_encoding = self.positional_encoding(position, d_model)\n",
        "\n",
        "    #(pos / 10000 ** 2i / d_model)==============================\n",
        "    def get_angles(self, position, i, d_model):\n",
        "        #tf.pow(x, y): x ** y\n",
        "        angles = 1 / tf.pow(10000, (2 * (i // 2)) / tf.cast(d_model, tf.float32))\n",
        "        return position * angles\n",
        "    #End========================================================\n",
        "    \n",
        "    def positional_encoding(self, position, d_model):\n",
        "        # 각도 배열 생성\n",
        "        angle_rads = self.get_angles(\n",
        "            position=tf.range(position, dtype=tf.float32)[:, tf.newaxis],\n",
        "            i=tf.range(d_model, dtype=tf.float32)[tf.newaxis, :],\n",
        "            d_model=d_model\n",
        "        )\n",
        "\n",
        "        # 배열의 짝수 인덱스에는 sin 함수 적용\n",
        "        sines = tf.math.sin(angle_rads[:, 0::2])\n",
        "        \n",
        "        # 배열의 홀수 인덱스에는 cosine 함수 적용\n",
        "        cosines = tf.math.cos(angle_rads[:, 1::2])\n",
        "\n",
        "        # sin과 cosine이 교차되도록 재배열\n",
        "        pos_encoding = tf.stack([sines, cosines], axis=0)   #순차대로 적재\n",
        "        pos_encoding = tf.transpose(pos_encoding, [1, 2, 0]) \n",
        "        pos_encoding = tf.reshape(pos_encoding, [position, d_model])\n",
        "\n",
        "        pos_encoding = pos_encoding[tf.newaxis, ...]\n",
        "        return tf.cast(pos_encoding, tf.float32)\n",
        "\n",
        "    def call(self, inputs):   #input과 positional encoding과 합치기\n",
        "        return inputs + self.pos_encoding[:, :tf.shape(inputs)[1], :]\n",
        "#End++++++++++++++++++++++++++++++++++++++++++++++++++++++++++++++++++++++++++"
      ],
      "metadata": {
        "id": "orvg4WgV8k-d"
      },
      "execution_count": 11,
      "outputs": []
    },
    {
      "cell_type": "code",
      "source": [
        "EMBEDDING_SIZE = 512\n",
        "\n",
        "sample_pos_encoding = PositionalEncoding(MAX_LENGTH, EMBEDDING_SIZE)\n",
        "\n",
        "plt.pcolormesh(sample_pos_encoding.pos_encoding.numpy()[0], cmap='RdBu')\n",
        "plt.xlabel('Depth')\n",
        "plt.xlim((0, EMBEDDING_SIZE))\n",
        "plt.ylabel('Position')\n",
        "plt.colorbar()\n",
        "plt.show()"
      ],
      "metadata": {
        "colab": {
          "base_uri": "https://localhost:8080/",
          "height": 283
        },
        "id": "wYVhoDH58sUi",
        "outputId": "9773ad10-9eac-4b42-f978-51292cd4d228"
      },
      "execution_count": 12,
      "outputs": [
        {
          "output_type": "display_data",
          "data": {
            "text/plain": [
              "<Figure size 432x288 with 2 Axes>"
            ],
            "image/png": "[encoded data removed]"
          },
          "metadata": {
            "needs_background": "light"
          }
        }
      ]
    },
    {
      "cell_type": "code",
      "source": [
        "print(\"*\" * 50)\n",
        "print(sample_pos_encoding.pos_encoding.shape)\n",
        "print(\"↓↓↓↓↓drop duplicate data↓↓↓↓↓\")\n",
        "\n",
        "#중복행 제거\n",
        "test_pd = pd.DataFrame(sample_pos_encoding.pos_encoding.numpy()[0]).copy()\n",
        "\n",
        "print(test_pd.drop_duplicates(test_pd.columns.tolist()).shape)\n",
        "print(\"*\" * 50)"
      ],
      "metadata": {
        "colab": {
          "base_uri": "https://localhost:8080/"
        },
        "id": "Uzh4bUjc8t9h",
        "outputId": "6b158b5d-1684-4af2-e284-2cbe43a3814c"
      },
      "execution_count": 13,
      "outputs": [
        {
          "output_type": "stream",
          "name": "stdout",
          "text": [
            "**************************************************\n",
            "(1, 10, 512)\n",
            "↓↓↓↓↓drop duplicate data↓↓↓↓↓\n",
            "(10, 512)\n",
            "**************************************************\n"
          ]
        }
      ]
    },
    {
      "cell_type": "code",
      "source": [
        "\n",
        "\n",
        "#스케일드 닷 프로덕트 어텐션 함수(Q, K, V, mask)===============\n",
        "def scaled_dot_product_attention(query, key, value, mask):\n",
        "    #Q ·K product\n",
        "    matmul_qk = tf.matmul(query, key, transpose_b=True)\n",
        "\n",
        "    # 가중치를 정규화\n",
        "    depth = tf.cast(tf.shape(key)[-1], tf.float32)   #depth=d_k\n",
        "    logits = matmul_qk / tf.math.sqrt(depth)\n",
        "\n",
        "    # 패딩에 마스크 추가\n",
        "    #Key에서 패딩열에 아주 작은 값으로 대체한다.\n",
        "    if mask is not None:\n",
        "        logits += (mask * -1e9)\n",
        "\n",
        "    # softmax적용\n",
        "    attention_weights = tf.nn.softmax(logits, axis=-1)\n",
        "\n",
        "    # 최종 어텐션은 가중치와 V의 닷 프로덕트\n",
        "    output = tf.matmul(attention_weights, value)\n",
        "    return output\n",
        "#End==========================================================="
      ],
      "metadata": {
        "id": "T9Yy62Yo8vL5"
      },
      "execution_count": 14,
      "outputs": []
    },
    {
      "cell_type": "code",
      "source": [
        "def create_padding_mask(x):\n",
        "    mask = tf.cast(tf.math.equal(x, 0), tf.float32)\n",
        "    # (batch_size, 1, 1, sequence length)\n",
        "    return mask[:, tf.newaxis, tf.newaxis, :]"
      ],
      "metadata": {
        "id": "Ltgi_BeJ8w7H"
      },
      "execution_count": 15,
      "outputs": []
    },
    {
      "cell_type": "code",
      "source": [
        "class MultiHeadAttention(tf.keras.layers.Layer):\n",
        "    #d_model: 단어 벡터 크기, num_heads: 병렬 처리 개수\n",
        "    def __init__(self, d_model, num_heads, name=\"multi_head_attention\"):\n",
        "        super(MultiHeadAttention, self).__init__(name=name)\n",
        "        self.num_heads = num_heads\n",
        "        self.d_model = d_model\n",
        "\n",
        "        #assert 문이 False이면 assert 에러 발생\n",
        "        #assert는 에러문이 발생하지만, 코드가 중단되지는 않는다.\n",
        "        #즉 단어 벡터 크기가 병렬 처리 개수로 나누었을 때,\n",
        "        #맞아 떨어져야 잘 작동한 다는 뜻이다.\n",
        "        assert d_model % self.num_heads == 0\n",
        "\n",
        "        #하나의 head가 가지는 벡터 크기\n",
        "        self.depth = d_model // self.num_heads\n",
        "\n",
        "        self.query_dense = tf.keras.layers.Dense(units=d_model)\n",
        "        self.key_dense = tf.keras.layers.Dense(units=d_model)\n",
        "        self.value_dense = tf.keras.layers.Dense(units=d_model)\n",
        "\n",
        "        self.dense = tf.keras.layers.Dense(units=d_model)\n",
        "\n",
        "    def split_heads(self, inputs, batch_size):\n",
        "        inputs = tf.reshape(\n",
        "            #shape(batch_size, MAX_LENGTH, num_heads, depth)\n",
        "            #=(64, 40, 8, 64)\n",
        "            inputs, shape=(batch_size, -1, self.num_heads, self.depth)\n",
        "        )\n",
        "        #shape(batch_size, num_heads, MAX_LENGTH, depth)\n",
        "        #=(64, 8, 40, 64)\n",
        "        return tf.transpose(inputs, perm=[0, 2, 1, 3])\n",
        "\n",
        "    def call(self, inputs):\n",
        "        query, key, value, mask = inputs['query'], inputs['key'], inputs['value'], inputs['mask']\n",
        "        batch_size = tf.shape(query)[0]\n",
        "\n",
        "        # Q, K, V에 각각 Dense를 적용합니다\n",
        "        query = self.query_dense(query)\n",
        "        key = self.key_dense(key)\n",
        "        value = self.value_dense(value)\n",
        "\n",
        "        \n",
        "        # 병렬 연산을 위한 머리를 여러 개 만듭니다+++++++++++\n",
        "        #num_head 수 만큼 나누기\n",
        "        #shape(batch_size, num_heads, MAX_LENGTH, depth)\n",
        "        #=(64, 8, 40, 64)\n",
        "        query = self.split_heads(query, batch_size)\n",
        "        key = self.split_heads(key, batch_size)\n",
        "        value = self.split_heads(value, batch_size)\n",
        "        #End+++++++++++++++++++++++++++++++++++++++++++++++++\n",
        "        \n",
        "\n",
        "        # 스케일드 닷 프로덕트 어텐션 함수\n",
        "        scaled_attention = scaled_dot_product_attention(query, key, value, mask)\n",
        "        #shape(batch_size, MAX_LENGTH, num_heads, depth)\n",
        "        #=(64, 40, 8, 64)\n",
        "        scaled_attention = tf.transpose(scaled_attention, perm=[0, 2, 1, 3])\n",
        "\n",
        "        # 어텐션 연산 후에 각 결과를 다시 연결(concatenate)합니다\n",
        "        concat_attention = tf.reshape(\n",
        "            scaled_attention,\n",
        "            #shape(batch_size, MAX_LENGTH, (num_heads, depth))\n",
        "            #=(64, 40, 512)\n",
        "            (batch_size, -1, self.d_model)\n",
        "        )\n",
        "\n",
        "        # 최종 결과에도 Dense를 한 번 더 적용합니다\n",
        "        outputs = self.dense(concat_attention)\n",
        "\n",
        "        return outputs"
      ],
      "metadata": {
        "id": "468_Oe7D8zgo"
      },
      "execution_count": 16,
      "outputs": []
    },
    {
      "cell_type": "code",
      "source": [
        "# 인코더 하나의 레이어를 함수로 구현.\n",
        "# 이 하나의 레이어 안에는 두 개의 서브 레이어가 존재합니다.\n",
        "def encoder_layer(units, d_model, num_heads, dropout, name=\"encoder_layer\"):\n",
        "    inputs = tf.keras.Input(shape=(None, d_model), name=\"inputs\")\n",
        "\n",
        "    # 패딩 마스크 사용\n",
        "    padding_mask = tf.keras.Input(shape=(1, 1, None), name=\"padding_mask\")\n",
        "\n",
        "    # 첫 번째 서브 레이어 : 멀티 헤드 어텐션 수행 (셀프 어텐션)\n",
        "    attention = MultiHeadAttention(\n",
        "        d_model, num_heads, name=\"attention\")({\n",
        "            'query': inputs,\n",
        "            'key': inputs,\n",
        "            'value': inputs,\n",
        "            'mask': padding_mask\n",
        "        }\n",
        "    )\n",
        "\n",
        "    # 어텐션의 결과는 Dropout과 Layer Normalization이라는 훈련을 돕는 테크닉을 수행\n",
        "    attention = tf.keras.layers.Dropout(rate=dropout)(attention)\n",
        "    attention = tf.keras.layers.LayerNormalization(epsilon=1e-6)(inputs + attention)\n",
        "\n",
        "    # 두 번째 서브 레이어 : 2개의 완전연결층\n",
        "    outputs = tf.keras.layers.Dense(units=units, activation='relu')(attention)\n",
        "    outputs = tf.keras.layers.Dense(units=d_model)(outputs)\n",
        "\n",
        "    # 완전연결층의 결과는 Dropout과 LayerNormalization이라는 훈련을 돕는 테크닉을 수행\n",
        "    outputs = tf.keras.layers.Dropout(rate=dropout)(outputs)\n",
        "    outputs = tf.keras.layers.LayerNormalization(epsilon=1e-6)(attention + outputs)\n",
        "\n",
        "    return tf.keras.Model(\n",
        "        inputs=[inputs, padding_mask], outputs=outputs, name=name\n",
        "    )\n"
      ],
      "metadata": {
        "id": "eGVS-_sa82Bp"
      },
      "execution_count": 17,
      "outputs": []
    },
    {
      "cell_type": "code",
      "source": [
        "def encoder(\n",
        "    vocab_size,\n",
        "    num_layers,\n",
        "    units,\n",
        "    d_model,\n",
        "    num_heads,\n",
        "    dropout,\n",
        "    name=\"encoder\"\n",
        "):\n",
        "    inputs = tf.keras.Input(shape=(None,), name=\"inputs\")\n",
        "\n",
        "    # 패딩 마스크 사용\n",
        "    padding_mask = tf.keras.Input(shape=(1, 1, None), name=\"padding_mask\")\n",
        "\n",
        "    # 임베딩 레이어\n",
        "    embeddings = tf.keras.layers.Embedding(vocab_size, d_model)(inputs)\n",
        "    embeddings *= tf.math.sqrt(tf.cast(d_model, tf.float32))\n",
        "\n",
        "    # 포지셔널 인코딩\n",
        "    embeddings = PositionalEncoding(vocab_size, d_model)(embeddings)\n",
        "\n",
        "    outputs = tf.keras.layers.Dropout(rate=dropout)(embeddings)\n",
        "\n",
        "    # num_layers만큼 쌓아올린 인코더의 층.\n",
        "    for i in range(num_layers):\n",
        "        outputs = encoder_layer(\n",
        "            units=units,\n",
        "            d_model=d_model,\n",
        "            num_heads=num_heads,\n",
        "            dropout=dropout,\n",
        "            name=\"encoder_layer_{}\".format(i),\n",
        "        )([outputs, padding_mask])\n",
        "\n",
        "    return tf.keras.Model(\n",
        "    inputs=[inputs, padding_mask], outputs=outputs, name=name\n",
        "    )"
      ],
      "metadata": {
        "id": "LkMdN0_X83uw"
      },
      "execution_count": 18,
      "outputs": []
    },
    {
      "cell_type": "code",
      "source": [
        "def create_look_ahead_mask(x):\n",
        "    seq_len = tf.shape(x)[1]\n",
        "    look_ahead_mask = 1 - tf.linalg.band_part(tf.ones((seq_len, seq_len)), -1, 0)\n",
        "    padding_mask = create_padding_mask(x)\n",
        "    return tf.maximum(look_ahead_mask, padding_mask)"
      ],
      "metadata": {
        "id": "tCVCIBhG85Sv"
      },
      "execution_count": 19,
      "outputs": []
    },
    {
      "cell_type": "code",
      "source": [
        "# 디코더 하나의 레이어를 함수로 구현.\n",
        "# 이 하나의 레이어 안에는 세 개의 서브 레이어가 존재합니다.\n",
        "def decoder_layer(units, d_model, num_heads, dropout, name=\"decoder_layer\"):\n",
        "    inputs = tf.keras.Input(shape=(None, d_model), name=\"inputs\")\n",
        "    enc_outputs = tf.keras.Input(shape=(None, d_model), name=\"encoder_outputs\")\n",
        "    look_ahead_mask = tf.keras.Input(\n",
        "        shape=(1, None, None), name=\"look_ahead_mask\"\n",
        "    )\n",
        "    padding_mask = tf.keras.Input(shape=(1, 1, None), name='padding_mask')\n",
        "\n",
        "    # 첫 번째 서브 레이어 : 멀티 헤드 어텐션 수행 (셀프 어텐션)\n",
        "    attention1 = MultiHeadAttention(\n",
        "        d_model, num_heads, name=\"attention_1\")(inputs={\n",
        "            'query': inputs,\n",
        "            'key': inputs,\n",
        "            'value': inputs,\n",
        "            'mask': look_ahead_mask\n",
        "        })\n",
        "\n",
        "    # 멀티 헤드 어텐션의 결과는 LayerNormalization이라는 훈련을 돕는 테크닉을 수행\n",
        "    attention1 = tf.keras.layers.LayerNormalization(\n",
        "        epsilon=1e-6\n",
        "    )(attention1 + inputs)\n",
        "\n",
        "    # 두 번째 서브 레이어 : 마스크드 멀티 헤드 어텐션 수행 (인코더-디코더 어텐션)\n",
        "    attention2 = MultiHeadAttention(\n",
        "        d_model, num_heads, name=\"attention_2\")(inputs={\n",
        "            'query': attention1,\n",
        "            'key': enc_outputs,\n",
        "            'value': enc_outputs,\n",
        "            'mask': padding_mask\n",
        "        })\n",
        "\n",
        "    # 마스크드 멀티 헤드 어텐션의 결과는\n",
        "    # Dropout과 LayerNormalization이라는 훈련을 돕는 테크닉을 수행\n",
        "    attention2 = tf.keras.layers.Dropout(rate=dropout)(attention2)\n",
        "    attention2 = tf.keras.layers.LayerNormalization(\n",
        "        epsilon=1e-6\n",
        "    )(attention2 + attention1)\n",
        "\n",
        "    # 세 번째 서브 레이어 : 2개의 완전연결층\n",
        "    outputs = tf.keras.layers.Dense(units=units, activation='relu')(attention2)\n",
        "    outputs = tf.keras.layers.Dense(units=d_model)(outputs)\n",
        "\n",
        "    # 완전연결층의 결과는 Dropout과 LayerNormalization 수행\n",
        "    outputs = tf.keras.layers.Dropout(rate=dropout)(outputs)\n",
        "    outputs = tf.keras.layers.LayerNormalization(\n",
        "        epsilon=1e-6\n",
        "    )(outputs + attention2)\n",
        "\n",
        "    return tf.keras.Model(\n",
        "        inputs=[inputs, enc_outputs, look_ahead_mask, padding_mask],\n",
        "        outputs=outputs,\n",
        "        name=name\n",
        "    )"
      ],
      "metadata": {
        "id": "aXmrnmzi87ln"
      },
      "execution_count": 20,
      "outputs": []
    },
    {
      "cell_type": "code",
      "source": [
        "def decoder(\n",
        "    vocab_size,\n",
        "    num_layers,\n",
        "    units,\n",
        "    d_model,\n",
        "    num_heads,\n",
        "    dropout,\n",
        "    name='decoder'\n",
        "):\n",
        "    inputs = tf.keras.Input(shape=(None,), name='inputs')\n",
        "    enc_outputs = tf.keras.Input(shape=(None, d_model), name='encoder_outputs')\n",
        "    look_ahead_mask = tf.keras.Input(\n",
        "        shape=(1, None, None), name='look_ahead_mask'\n",
        "    )\n",
        "\n",
        "    # 패딩 마스크\n",
        "    padding_mask = tf.keras.Input(shape=(1, 1, None), name='padding_mask')\n",
        "  \n",
        "    # 임베딩 레이어\n",
        "    embeddings = tf.keras.layers.Embedding(vocab_size, d_model)(inputs)\n",
        "    embeddings *= tf.math.sqrt(tf.cast(d_model, tf.float32))\n",
        "\n",
        "    # 포지셔널 인코딩\n",
        "    embeddings = PositionalEncoding(vocab_size, d_model)(embeddings)\n",
        "\n",
        "    # Dropout이라는 훈련을 돕는 테크닉을 수행\n",
        "    outputs = tf.keras.layers.Dropout(rate=dropout)(embeddings)\n",
        "\n",
        "    for i in range(num_layers):\n",
        "        outputs = decoder_layer(\n",
        "            units=units,\n",
        "            d_model=d_model,\n",
        "            num_heads=num_heads,\n",
        "            dropout=dropout,\n",
        "            name='decoder_layer_{}'.format(i),\n",
        "        )(inputs=[outputs, enc_outputs, look_ahead_mask, padding_mask])\n",
        "\n",
        "    return tf.keras.Model(\n",
        "        inputs=[inputs, enc_outputs, look_ahead_mask, padding_mask],\n",
        "        outputs=outputs,\n",
        "        name=name\n",
        "    )"
      ],
      "metadata": {
        "id": "ODIRAuJn9BB3"
      },
      "execution_count": 21,
      "outputs": []
    },
    {
      "cell_type": "code",
      "source": [
        "def transformer(\n",
        "    vocab_size,\n",
        "    num_layers,\n",
        "    units,\n",
        "    d_model,\n",
        "    num_heads,\n",
        "    dropout,\n",
        "    name=\"transformer\"\n",
        "):\n",
        "    inputs = tf.keras.Input(shape=(None,), name=\"inputs\")\n",
        "    dec_inputs = tf.keras.Input(shape=(None,), name=\"dec_inputs\")\n",
        "\n",
        "    # 인코더에서 패딩을 위한 마스크\n",
        "    enc_padding_mask = tf.keras.layers.Lambda(\n",
        "        create_padding_mask, output_shape=(1, 1, None), name='enc_padding_mask'\n",
        "    )(inputs)\n",
        "\n",
        "    # 디코더에서 미래의 토큰을 마스크 하기 위해서 사용합니다.\n",
        "    # 내부적으로 패딩 마스크도 포함되어져 있습니다.\n",
        "    look_ahead_mask = tf.keras.layers.Lambda(\n",
        "        create_look_ahead_mask,\n",
        "        output_shape=(1, None, None), name='look_ahead_mask'\n",
        "    )(dec_inputs)\n",
        "\n",
        "    # 두 번째 어텐션 블록에서 인코더의 벡터들을 마스킹\n",
        "    # 디코더에서 패딩을 위한 마스크\n",
        "    dec_padding_mask = tf.keras.layers.Lambda(\n",
        "        create_padding_mask, output_shape=(1, 1, None), name='dec_padding_mask'\n",
        "    )(inputs)\n",
        "\n",
        "    # 인코더\n",
        "    enc_outputs = encoder(\n",
        "        vocab_size=vocab_size,\n",
        "        num_layers=num_layers,\n",
        "        units=units,\n",
        "        d_model=d_model,\n",
        "        num_heads=num_heads,\n",
        "        dropout=dropout,\n",
        "    )(inputs=[inputs, enc_padding_mask])\n",
        "    # 디코더\n",
        "    dec_outputs = decoder(\n",
        "        vocab_size=vocab_size,\n",
        "        num_layers=num_layers,\n",
        "        units=units,\n",
        "        d_model=d_model,\n",
        "        num_heads=num_heads,\n",
        "        dropout=dropout,\n",
        "    )(inputs=[dec_inputs, enc_outputs, look_ahead_mask, dec_padding_mask])\n",
        "\n",
        "    # 완전연결층\n",
        "    outputs = tf.keras.layers.Dense(units=vocab_size, name=\"outputs\")(dec_outputs)\n",
        "\n",
        "    return tf.keras.Model(inputs=[inputs, dec_inputs], outputs=outputs, name=name)\n",
        "\n",
        "\n"
      ],
      "metadata": {
        "id": "lz4kf9q59DQ3"
      },
      "execution_count": 22,
      "outputs": []
    },
    {
      "cell_type": "code",
      "source": [
        "tf.keras.backend.clear_session()\n",
        "\n",
        "# 하이퍼파라미터\n",
        "NUM_LAYERS = 2 # 인코더와 디코더의 층의 개수\n",
        "D_MODEL = 256 # 인코더와 디코더 내부의 입, 출력의 고정 차원\n",
        "NUM_HEADS = 8 # 멀티 헤드 어텐션에서의 헤드 수 \n",
        "UNITS = 512 # 피드 포워드 신경망의 은닉층의 크기\n",
        "DROPOUT = 0.1 # 드롭아웃의 비율\n",
        "\n",
        "model = transformer(\n",
        "    vocab_size=VOCAB_SIZE,\n",
        "    num_layers=NUM_LAYERS,\n",
        "    units=UNITS,\n",
        "    d_model=D_MODEL,\n",
        "    num_heads=NUM_HEADS,\n",
        "    dropout=DROPOUT\n",
        ")\n",
        "\n",
        "model.summary()"
      ],
      "metadata": {
        "colab": {
          "base_uri": "https://localhost:8080/"
        },
        "id": "qb3iBjwZ9KzN",
        "outputId": "85c73e17-0587-46c5-ee0f-bb6e94da08c4"
      },
      "execution_count": 23,
      "outputs": [
        {
          "output_type": "stream",
          "name": "stdout",
          "text": [
            "Model: \"transformer\"\n",
            "__________________________________________________________________________________________________\n",
            " Layer (type)                   Output Shape         Param #     Connected to                     \n",
            "==================================================================================================\n",
            " inputs (InputLayer)            [(None, None)]       0           []                               \n",
            "                                                                                                  \n",
            " dec_inputs (InputLayer)        [(None, None)]       0           []                               \n",
            "                                                                                                  \n",
            " enc_padding_mask (Lambda)      (None, 1, 1, None)   0           ['inputs[0][0]']                 \n",
            "                                                                                                  \n",
            " encoder (Functional)           (None, None, 256)    3139840     ['inputs[0][0]',                 \n",
            "                                                                  'enc_padding_mask[0][0]']       \n",
            "                                                                                                  \n",
            " look_ahead_mask (Lambda)       (None, 1, None, Non  0           ['dec_inputs[0][0]']             \n",
            "                                e)                                                                \n",
            "                                                                                                  \n",
            " dec_padding_mask (Lambda)      (None, 1, 1, None)   0           ['inputs[0][0]']                 \n",
            "                                                                                                  \n",
            " decoder (Functional)           (None, None, 256)    3667200     ['dec_inputs[0][0]',             \n",
            "                                                                  'encoder[0][0]',                \n",
            "                                                                  'look_ahead_mask[0][0]',        \n",
            "                                                                  'dec_padding_mask[0][0]']       \n",
            "                                                                                                  \n",
            " outputs (Dense)                (None, None, 8147)   2093779     ['decoder[0][0]']                \n",
            "                                                                                                  \n",
            "==================================================================================================\n",
            "Total params: 8,900,819\n",
            "Trainable params: 8,900,819\n",
            "Non-trainable params: 0\n",
            "__________________________________________________________________________________________________\n"
          ]
        }
      ]
    },
    {
      "cell_type": "code",
      "source": [
        "def loss_function(y_true, y_pred):\n",
        "    y_true = tf.reshape(y_true, shape=(-1, MAX_LENGTH - 1))\n",
        "  \n",
        "    loss = tf.keras.losses.SparseCategoricalCrossentropy(\n",
        "        from_logits=True, reduction='none'\n",
        "    )(y_true, y_pred)\n",
        "\n",
        "    mask = tf.cast(tf.not_equal(y_true, 0), tf.float32)\n",
        "    #패딩이 아닌 단어만 살리기\n",
        "    loss = tf.multiply(loss, mask)\n",
        "\n",
        "    return tf.reduce_mean(loss)"
      ],
      "metadata": {
        "id": "ikMOEhdJ9MRE"
      },
      "execution_count": 24,
      "outputs": []
    },
    {
      "cell_type": "code",
      "source": [
        "class CustomSchedule(tf.keras.optimizers.schedules.LearningRateSchedule):\n",
        "    def __init__(self, d_model, warmup_steps=4000):\n",
        "        super(CustomSchedule, self).__init__()\n",
        "\n",
        "        self.d_model = d_model\n",
        "        self.d_model = tf.cast(self.d_model, tf.float32)\n",
        "\n",
        "        self.warmup_steps = warmup_steps\n",
        "\n",
        "    def __call__(self, step):\n",
        "        arg1 = tf.math.rsqrt(step)\n",
        "        arg2 = step * (self.warmup_steps**-1.5)\n",
        "\n",
        "        return tf.math.rsqrt(self.d_model) * tf.math.minimum(arg1, arg2)\n",
        "    \n",
        "    \n",
        "#시각화=====================\n",
        "sample_learning_rate = CustomSchedule(d_model=128)\n",
        "\n",
        "plt.plot(sample_learning_rate(tf.range(200000, dtype=tf.float32)))\n",
        "plt.ylabel(\"Learning Rate\")\n",
        "plt.xlabel(\"Train Step\")\n",
        "#End========================"
      ],
      "metadata": {
        "colab": {
          "base_uri": "https://localhost:8080/",
          "height": 297
        },
        "id": "Tswug_SS9Okg",
        "outputId": "fa1975fc-5a1a-467b-8cb0-d5ceff5d40ef"
      },
      "execution_count": 25,
      "outputs": [
        {
          "output_type": "execute_result",
          "data": {
            "text/plain": [
              "Text(0.5, 0, 'Train Step')"
            ]
          },
          "metadata": {},
          "execution_count": 25
        },
        {
          "output_type": "display_data",
          "data": {
            "text/plain": [
              "<Figure size 432x288 with 1 Axes>"
            ],
            "image/png": "[encoded data removed]"
          },
          "metadata": {
            "needs_background": "light"
          }
        }
      ]
    },
    {
      "cell_type": "code",
      "source": [
        "learning_rate = CustomSchedule(D_MODEL)\n",
        "\n",
        "optimizer = tf.keras.optimizers.Adam(\n",
        "    learning_rate, beta_1=0.9, beta_2=0.98, epsilon=1e-9\n",
        ")\n",
        "\n",
        "def accuracy(y_true, y_pred):\n",
        "    y_true = tf.reshape(y_true, shape=(-1, MAX_LENGTH - 1))\n",
        "    return tf.keras.metrics.sparse_categorical_accuracy(y_true, y_pred)\n",
        "\n",
        "model.compile(optimizer=optimizer, loss=loss_function, metrics=[accuracy])\n"
      ],
      "metadata": {
        "id": "TgY53NoR9Q8u"
      },
      "execution_count": 26,
      "outputs": []
    },
    {
      "cell_type": "code",
      "source": [
        "EPOCHS = 25\n",
        "model.fit(dataset, epochs=EPOCHS, verbose=1)"
      ],
      "metadata": {
        "colab": {
          "base_uri": "https://localhost:8080/"
        },
        "id": "6n8cp0rI9Sj4",
        "outputId": "170d2776-485f-42f8-a419-38686e7ba28b"
      },
      "execution_count": 27,
      "outputs": [
        {
          "output_type": "stream",
          "name": "stdout",
          "text": [
            "Epoch 1/25\n",
            "142/142 [==============================] - 14s 29ms/step - loss: 5.6083 - accuracy: 0.0886\n",
            "Epoch 2/25\n",
            "142/142 [==============================] - 4s 29ms/step - loss: 4.7343 - accuracy: 0.2023\n",
            "Epoch 3/25\n",
            "142/142 [==============================] - 4s 28ms/step - loss: 3.9352 - accuracy: 0.2152\n",
            "Epoch 4/25\n",
            "142/142 [==============================] - 5s 33ms/step - loss: 3.5130 - accuracy: 0.2200\n",
            "Epoch 5/25\n",
            "142/142 [==============================] - 4s 29ms/step - loss: 3.2905 - accuracy: 0.2314\n",
            "Epoch 6/25\n",
            "142/142 [==============================] - 4s 28ms/step - loss: 3.1008 - accuracy: 0.2421\n",
            "Epoch 7/25\n",
            "142/142 [==============================] - 4s 28ms/step - loss: 2.9047 - accuracy: 0.2577\n",
            "Epoch 8/25\n",
            "142/142 [==============================] - 4s 28ms/step - loss: 2.6934 - accuracy: 0.2795\n",
            "Epoch 9/25\n",
            "142/142 [==============================] - 4s 29ms/step - loss: 2.4545 - accuracy: 0.3073\n",
            "Epoch 10/25\n",
            "142/142 [==============================] - 5s 36ms/step - loss: 2.1993 - accuracy: 0.3373\n",
            "Epoch 11/25\n",
            "142/142 [==============================] - 4s 30ms/step - loss: 1.9252 - accuracy: 0.3705\n",
            "Epoch 12/25\n",
            "142/142 [==============================] - 4s 28ms/step - loss: 1.6435 - accuracy: 0.4056\n",
            "Epoch 13/25\n",
            "142/142 [==============================] - 4s 29ms/step - loss: 1.3634 - accuracy: 0.4447\n",
            "Epoch 14/25\n",
            "142/142 [==============================] - 4s 29ms/step - loss: 1.1030 - accuracy: 0.4810\n",
            "Epoch 15/25\n",
            "142/142 [==============================] - 4s 30ms/step - loss: 0.8575 - accuracy: 0.5182\n",
            "Epoch 16/25\n",
            "142/142 [==============================] - 4s 28ms/step - loss: 0.6496 - accuracy: 0.5528\n",
            "Epoch 17/25\n",
            "142/142 [==============================] - 4s 28ms/step - loss: 0.4720 - accuracy: 0.5836\n",
            "Epoch 18/25\n",
            "142/142 [==============================] - 4s 28ms/step - loss: 0.3385 - accuracy: 0.6069\n",
            "Epoch 19/25\n",
            "142/142 [==============================] - 4s 28ms/step - loss: 0.2417 - accuracy: 0.6241\n",
            "Epoch 20/25\n",
            "142/142 [==============================] - 4s 29ms/step - loss: 0.1727 - accuracy: 0.6353\n",
            "Epoch 21/25\n",
            "142/142 [==============================] - 4s 29ms/step - loss: 0.1373 - accuracy: 0.6401\n",
            "Epoch 22/25\n",
            "142/142 [==============================] - 4s 28ms/step - loss: 0.1130 - accuracy: 0.6437\n",
            "Epoch 23/25\n",
            "142/142 [==============================] - 4s 28ms/step - loss: 0.1044 - accuracy: 0.6443\n",
            "Epoch 24/25\n",
            "142/142 [==============================] - 4s 28ms/step - loss: 0.0939 - accuracy: 0.6453\n",
            "Epoch 25/25\n",
            "142/142 [==============================] - 4s 28ms/step - loss: 0.0915 - accuracy: 0.6455\n"
          ]
        },
        {
          "output_type": "execute_result",
          "data": {
            "text/plain": [
              "<keras.callbacks.History at 0x7fd2c92f1650>"
            ]
          },
          "metadata": {},
          "execution_count": 27
        }
      ]
    },
    {
      "cell_type": "code",
      "source": [
        "def decoder_inference(sentence):\n",
        "    sentence = preprocess_sentence(sentence)   #정규식을 이용한 전처리\n",
        "\n",
        "    # 입력된 문장을 정수 인코딩 후, 시작 토큰과 종료 토큰을 앞뒤로 추가.\n",
        "    sentence = tf.expand_dims(\n",
        "        START_TOKEN + tokenizer.encode(sentence) + END_TOKEN, axis=0\n",
        "    )\n",
        "\n",
        "    # 디코더의 현재까지의 예측한 출력 시퀀스가 지속적으로 저장되는 변수.\n",
        "    # 처음에는 예측한 내용이 없음으로 시작 토큰만 별도 저장. ex) 8331\n",
        "    output_sequence = tf.expand_dims(START_TOKEN, 0)\n",
        "\n",
        "    # 디코더의 인퍼런스 단계\n",
        "    for i in range(MAX_LENGTH):\n",
        "        # 디코더는 최대 MAX_LENGTH의 길이만큼 다음 단어 예측을 반복합니다.\n",
        "        predictions = model(inputs=[sentence, output_sequence], training=False)\n",
        "        predictions = predictions[:, -1:, :]\n",
        "\n",
        "        # 현재 예측한 단어의 정수\n",
        "        predicted_id = tf.cast(tf.argmax(predictions, axis=-1), tf.int32)\n",
        "\n",
        "        # 만약 현재 예측한 단어가 종료 토큰이라면 for문을 종료\n",
        "        if tf.equal(predicted_id, END_TOKEN[0]):\n",
        "            break\n",
        "\n",
        "        # 예측한 단어들은 지속적으로 output_sequence에 추가됩니다.\n",
        "        # 이 output_sequence는 다시 디코더의 입력이 됩니다.\n",
        "        output_sequence = tf.concat([output_sequence, predicted_id], axis=-1)\n",
        "\n",
        "    return tf.squeeze(output_sequence, axis=0)"
      ],
      "metadata": {
        "id": "jrp1z_Xx9Vzc"
      },
      "execution_count": 28,
      "outputs": []
    },
    {
      "cell_type": "code",
      "source": [
        "def sentence_generation(sentence):\n",
        "    # 입력 문장에 대해서 디코더를 동작 시켜 예측된 정수 시퀀스를 리턴받습니다.\n",
        "    prediction = decoder_inference(sentence)\n",
        "\n",
        "    # 정수 시퀀스를 다시 텍스트 시퀀스로 변환합니다.\n",
        "    predicted_sentence = tokenizer.decode(\n",
        "        [i for i in prediction if i < tokenizer.vocab_size]\n",
        "    )\n",
        "\n",
        "    print('입력 : {}'.format(sentence))\n",
        "    return ('출력 : {}'.format(predicted_sentence))"
      ],
      "metadata": {
        "id": "L3g8HBX09ZsC"
      },
      "execution_count": 29,
      "outputs": []
    },
    {
      "cell_type": "code",
      "source": [
        "print(\"*\" * 50)\n",
        "print(sentence_generation('밥 먹었니?'), end=\"\\n\\n\")\n",
        "print(sentence_generation('너 누구야?'), end=\"\\n\\n\")\n",
        "print(sentence_generation('안녕~'), end=\"\\n\\n\")\n",
        "print(sentence_generation('여행가자'), end=\"\\n\\n\")\n",
        "print(sentence_generation('사랑이 뭐야?'), end=\"\\n\\n\")\n",
        "print(\"*\" * 50)"
      ],
      "metadata": {
        "colab": {
          "base_uri": "https://localhost:8080/"
        },
        "id": "T3NqmSGB9aIj",
        "outputId": "73555845-fb87-46fb-c476-56789b5321c7"
      },
      "execution_count": 30,
      "outputs": [
        {
          "output_type": "stream",
          "name": "stdout",
          "text": [
            "**************************************************\n",
            "입력 : 밥 먹었니?\n",
            "출력 : 배고프지 않아요 .\n",
            "\n",
            "입력 : 너 누구야?\n",
            "출력 : 저는 마음을 이어주는 위로봇입니다 .\n",
            "\n",
            "입력 : 안녕~\n",
            "출력 : 안녕하세요 .\n",
            "\n",
            "입력 : 여행가자\n",
            "출력 : 아직 안 자요 .\n",
            "\n",
            "입력 : 사랑이 뭐야?\n",
            "출력 : 신뢰입니다 .\n",
            "\n",
            "**************************************************\n"
          ]
        }
      ]
    },
    {
      "cell_type": "code",
      "source": [],
      "metadata": {
        "id": "w80azPId9Zst"
      },
      "execution_count": 30,
      "outputs": []
    },
    {
      "cell_type": "code",
      "source": [],
      "metadata": {
        "id": "Fds4QXuh9Zuh"
      },
      "execution_count": 30,
      "outputs": []
    },
    {
      "cell_type": "code",
      "source": [],
      "metadata": {
        "id": "N5nZtKkd9ZwV"
      },
      "execution_count": 30,
      "outputs": []
    },
    {
      "cell_type": "code",
      "source": [],
      "metadata": {
        "id": "-M8ia66b9Zz_"
      },
      "execution_count": 30,
      "outputs": []
    }
  ]
}