{
  "nbformat": 4,
  "nbformat_minor": 0,
  "metadata": {
    "colab": {
      "name": "EDA_Primary Key and Summary",
      "provenance": [],
      "mount_file_id": "1g1ziTjEzwP4ahJgHvMoeJ36gLrD50x9M",
      "authorship_tag": "ABX9TyMie0xah8uGLzwO5RD/8RcA",
      "include_colab_link": true
    },
    "kernelspec": {
      "name": "python3",
      "display_name": "Python 3"
    },
    "language_info": {
      "name": "python"
    }
  },
  "cells": [
    {
      "cell_type": "markdown",
      "metadata": {
        "id": "view-in-github",
        "colab_type": "text"
      },
      "source": [
        "<a href=\"https://colab.research.google.com/github/qsdcfd/TIL/blob/TIL/Study__245/EDA_Primary_Key_and_Summary.ipynb\" target=\"_parent\"><img src=\"https://colab.research.google.com/assets/colab-badge.svg\" alt=\"Open In Colab\"/></a>"
      ]
    },
    {
      "cell_type": "markdown",
      "source": [
        "### Import Packages\n"
      ],
      "metadata": {
        "id": "tlgInkqXh8ft"
      }
    },
    {
      "cell_type": "code",
      "execution_count": 1,
      "metadata": {
        "id": "WmR8Stbxf43e"
      },
      "outputs": [],
      "source": [
        "import os #파일 확인 가능: 현재 디렉토리,디렉토리 변경,파일 목록 확인, csv파일 호출\n",
        "import gc #메모리 관리 함수 제공\n",
        "import warnings #모듈을 임포트할 때 경고의 베이스 범주 제거\n",
        "\n",
        "import pandas as pd\n",
        "import numpy as np\n",
        "import seaborn as sns\n",
        "import plotly.graph_objects as go\n",
        "import plotly.express as px\n",
        "from plotly.subplots import make_subplots"
      ]
    },
    {
      "cell_type": "code",
      "source": [
        "#Configuration :설정 관리\n",
        "warnings.simplefilter('ignore')\n",
        "pd.set_option('max_column', None)\n",
        "sns.set_style('darkgrid')\n",
        "colors = sns.color_palette('Set2')"
      ],
      "metadata": {
        "id": "JMwovcUoh9pG"
      },
      "execution_count": 2,
      "outputs": []
    },
    {
      "cell_type": "code",
      "source": [
        "from google.colab import drive\n",
        "drive.mount('/content/drive')"
      ],
      "metadata": {
        "colab": {
          "base_uri": "https://localhost:8080/"
        },
        "id": "PwsfbOEAkbZI",
        "outputId": "0cf5474d-0e36-41e7-d37f-3bfa06f3f0fc"
      },
      "execution_count": 4,
      "outputs": [
        {
          "output_type": "stream",
          "name": "stdout",
          "text": [
            "Mounted at /content/drive\n"
          ]
        }
      ]
    },
    {
      "cell_type": "code",
      "source": [
        "#불러올 훈련 데이터 경로 설정\n",
        "train_dir = '/content/drive/MyDrive/jpx-tokyo-stock-exchange-prediction/train_files' "
      ],
      "metadata": {
        "id": "u1ePLZmch9ro"
      },
      "execution_count": 5,
      "outputs": []
    },
    {
      "cell_type": "code",
      "source": [
        ""
      ],
      "metadata": {
        "id": "8pM7HagRm7_E"
      },
      "execution_count": null,
      "outputs": []
    },
    {
      "cell_type": "markdown",
      "source": [
        "### 데이터 불러오기"
      ],
      "metadata": {
        "id": "Ku0uOtAjk0UB"
      }
    },
    {
      "cell_type": "markdown",
      "source": [
        "#### 훈련 데이터 불러오기"
      ],
      "metadata": {
        "id": "LJZWy_mMmVxk"
      }
    },
    {
      "cell_type": "code",
      "source": [
        "%%time\n",
        "\n",
        "\n",
        "df_prices = pd.read_csv(os.path.join(train_dir, 'stock_prices.csv'))\n",
        "df_prices_sec = pd.read_csv(os.path.join(train_dir, 'secondary_stock_prices.csv'))\n",
        "df_fins = pd.read_csv(os.path.join(train_dir, 'financials.csv'))\n",
        "df_opts = pd.read_csv(os.path.join(train_dir, 'options.csv'))\n",
        "df_trades = pd.read_csv(os.path.join(train_dir, 'trades.csv'))\n",
        "stock_list = pd.read_csv(os.path.join('/content/drive/MyDrive/jpx-tokyo-stock-exchange-prediction/stock_list.csv'))"
      ],
      "metadata": {
        "colab": {
          "base_uri": "https://localhost:8080/"
        },
        "id": "0s4SskoYh9v0",
        "outputId": "8d3248ec-63fc-4c99-f8a9-9dd1920d9767"
      },
      "execution_count": 7,
      "outputs": [
        {
          "output_type": "stream",
          "name": "stdout",
          "text": [
            "CPU times: user 21.1 s, sys: 5.13 s, total: 26.2 s\n",
            "Wall time: 36.1 s\n"
          ]
        }
      ]
    },
    {
      "cell_type": "code",
      "source": [
        ""
      ],
      "metadata": {
        "id": "lO6qBfEsm6Ny"
      },
      "execution_count": null,
      "outputs": []
    },
    {
      "cell_type": "markdown",
      "source": [
        "#### stock_prices.csv\n",
        "\n",
        "- File Description\n",
        "\n",
        "\n",
        "- Primary Key\n",
        "\n",
        "- Missing Values\n",
        "\n",
        "- Target Exploration\n",
        "\n",
        "- Stock List Fusion\n",
        "\n",
        "- Secondary Stocks"
      ],
      "metadata": {
        "id": "knTGz9QOml7Z"
      }
    },
    {
      "cell_type": "code",
      "source": [
        ""
      ],
      "metadata": {
        "id": "MZZHN_sgnBCT"
      },
      "execution_count": null,
      "outputs": []
    },
    {
      "cell_type": "markdown",
      "source": [
        "##### File Description\n",
        "\n",
        "- 주식과 target 열에 매일 종가가 포함\n",
        "\n",
        "- 컬럼 정보는 stock_price_spec.csv\n",
        "\n",
        "- RowId:가격 측정의 unique id로 날짜와 보안코드로 구성 (Primary Key)\n",
        "\n",
        "- Date: 주식 시장 날짜\n",
        "\n",
        "- SecuritiesCode: local securities code\n",
        "\n",
        "- Open: 시가\n",
        "\n",
        "- High: 고가\n",
        "\n",
        "- Low: 저가\n",
        "\n",
        "- Close: 종가\n",
        "\n",
        "- Volume: 주식 거래량\n",
        "\n",
        "- AdjustmentFactor: 가격과 거래량에 대한 이론적 계산(주식의 분할과 병합이 일어날 때)\n",
        "\n",
        "- ExpectedDividend: 기댓값으로 분할 금액의 frequency와 연관이 있다. 그리고, 가장 많은 missing 값을 가지고 있으므로 주의 깊게 봐야함\n",
        "\n",
        "- SupervisionFlag:supervision and securities 정보\n",
        "\n",
        "- Target: 주식 시장 당일, t+2,t+1,t+0 사이에 적용되는 종가 비율\n"
      ],
      "metadata": {
        "id": "N329fSRTm41g"
      }
    },
    {
      "cell_type": "code",
      "source": [
        ""
      ],
      "metadata": {
        "id": "igoOO5Zek2e_"
      },
      "execution_count": null,
      "outputs": []
    },
    {
      "cell_type": "markdown",
      "source": [
        "##### stock_price.csv\n"
      ],
      "metadata": {
        "id": "D43BYXiCslTY"
      }
    },
    {
      "cell_type": "code",
      "source": [
        "#함수를 설정하여 csv파일의 결측치 비율과 구성 체크 가능\n",
        "def summarize(df, file_name, n_rows_to_show = 10): \n",
        "    \"\"\" \n",
        "    간단한게 DF설명해드립니다.\n",
        "\n",
        "    파라미터:\n",
        "        df: pd.DataFrame, raw DataFrame\n",
        "        file_name: str, name of the file\n",
        "        n_rows_to_show: int, number of rows to show\n",
        "    \"\"\"\n",
        "    print(f\"----Summary of {file_name}----\")\n",
        "    print(f'shape: {df.shape}')\n",
        "\n",
        "    #데이터 분석에서 필요한 결측치 비율 파악\n",
        "    nan_ratio = pd.isna(df).sum() / len(df) * 100\n",
        "    nan_ratio.sort_values(ascending=False, inplace=True)\n",
        "    nan_ratio = nan_ratio.to_frame(name = 'NaN Ratio').T #df으로 바꾸고 1 * N의 형태로 바뀜\n",
        "    print('NaN ratio:')\n",
        "    display(nan_ratio)\n",
        "\n",
        "    display(df.head(n_rows_to_show))"
      ],
      "metadata": {
        "id": "5BNTByhVk2jr"
      },
      "execution_count": 10,
      "outputs": []
    },
    {
      "cell_type": "code",
      "source": [
        "summarize(df_prices, 'stock_prices.csv')"
      ],
      "metadata": {
        "colab": {
          "base_uri": "https://localhost:8080/",
          "height": 736
        },
        "id": "HazSQ6Pak2l-",
        "outputId": "0d1a8d70-5e96-4edc-d446-9159ecd31b94"
      },
      "execution_count": 11,
      "outputs": [
        {
          "output_type": "stream",
          "name": "stdout",
          "text": [
            "----Summary of stock_prices.csv----\n",
            "shape: (2332531, 12)\n",
            "NaN ratio:\n"
          ]
        },
        {
          "output_type": "display_data",
          "data": {
            "text/plain": [
              "           ExpectedDividend      Open      High       Low     Close    Target  \\\n",
              "NaN Ratio         99.191222  0.326169  0.326169  0.326169  0.326169  0.010204   \n",
              "\n",
              "           RowId  Date  SecuritiesCode  Volume  AdjustmentFactor  \\\n",
              "NaN Ratio    0.0   0.0             0.0     0.0               0.0   \n",
              "\n",
              "           SupervisionFlag  \n",
              "NaN Ratio              0.0  "
            ],
            "text/html": [
              "\n",
              "  <div id=\"df-d728d1f9-2c3b-460c-b53d-79aee7ce4917\">\n",
              "    <div class=\"colab-df-container\">\n",
              "      <div>\n",
              "<style scoped>\n",
              "    .dataframe tbody tr th:only-of-type {\n",
              "        vertical-align: middle;\n",
              "    }\n",
              "\n",
              "    .dataframe tbody tr th {\n",
              "        vertical-align: top;\n",
              "    }\n",
              "\n",
              "    .dataframe thead th {\n",
              "        text-align: right;\n",
              "    }\n",
              "</style>\n",
              "<table border=\"1\" class=\"dataframe\">\n",
              "  <thead>\n",
              "    <tr style=\"text-align: right;\">\n",
              "      <th></th>\n",
              "      <th>ExpectedDividend</th>\n",
              "      <th>Open</th>\n",
              "      <th>High</th>\n",
              "      <th>Low</th>\n",
              "      <th>Close</th>\n",
              "      <th>Target</th>\n",
              "      <th>RowId</th>\n",
              "      <th>Date</th>\n",
              "      <th>SecuritiesCode</th>\n",
              "      <th>Volume</th>\n",
              "      <th>AdjustmentFactor</th>\n",
              "      <th>SupervisionFlag</th>\n",
              "    </tr>\n",
              "  </thead>\n",
              "  <tbody>\n",
              "    <tr>\n",
              "      <th>NaN Ratio</th>\n",
              "      <td>99.191222</td>\n",
              "      <td>0.326169</td>\n",
              "      <td>0.326169</td>\n",
              "      <td>0.326169</td>\n",
              "      <td>0.326169</td>\n",
              "      <td>0.010204</td>\n",
              "      <td>0.0</td>\n",
              "      <td>0.0</td>\n",
              "      <td>0.0</td>\n",
              "      <td>0.0</td>\n",
              "      <td>0.0</td>\n",
              "      <td>0.0</td>\n",
              "    </tr>\n",
              "  </tbody>\n",
              "</table>\n",
              "</div>\n",
              "      <button class=\"colab-df-convert\" onclick=\"convertToInteractive('df-d728d1f9-2c3b-460c-b53d-79aee7ce4917')\"\n",
              "              title=\"Convert this dataframe to an interactive table.\"\n",
              "              style=\"display:none;\">\n",
              "        \n",
              "  <svg xmlns=\"http://www.w3.org/2000/svg\" height=\"24px\"viewBox=\"0 0 24 24\"\n",
              "       width=\"24px\">\n",
              "    <path d=\"M0 0h24v24H0V0z\" fill=\"none\"/>\n",
              "    <path d=\"M18.56 5.44l.94 2.06.94-2.06 2.06-.94-2.06-.94-.94-2.06-.94 2.06-2.06.94zm-11 1L8.5 8.5l.94-2.06 2.06-.94-2.06-.94L8.5 2.5l-.94 2.06-2.06.94zm10 10l.94 2.06.94-2.06 2.06-.94-2.06-.94-.94-2.06-.94 2.06-2.06.94z\"/><path d=\"M17.41 7.96l-1.37-1.37c-.4-.4-.92-.59-1.43-.59-.52 0-1.04.2-1.43.59L10.3 9.45l-7.72 7.72c-.78.78-.78 2.05 0 2.83L4 21.41c.39.39.9.59 1.41.59.51 0 1.02-.2 1.41-.59l7.78-7.78 2.81-2.81c.8-.78.8-2.07 0-2.86zM5.41 20L4 18.59l7.72-7.72 1.47 1.35L5.41 20z\"/>\n",
              "  </svg>\n",
              "      </button>\n",
              "      \n",
              "  <style>\n",
              "    .colab-df-container {\n",
              "      display:flex;\n",
              "      flex-wrap:wrap;\n",
              "      gap: 12px;\n",
              "    }\n",
              "\n",
              "    .colab-df-convert {\n",
              "      background-color: #E8F0FE;\n",
              "      border: none;\n",
              "      border-radius: 50%;\n",
              "      cursor: pointer;\n",
              "      display: none;\n",
              "      fill: #1967D2;\n",
              "      height: 32px;\n",
              "      padding: 0 0 0 0;\n",
              "      width: 32px;\n",
              "    }\n",
              "\n",
              "    .colab-df-convert:hover {\n",
              "      background-color: #E2EBFA;\n",
              "      box-shadow: 0px 1px 2px rgba(60, 64, 67, 0.3), 0px 1px 3px 1px rgba(60, 64, 67, 0.15);\n",
              "      fill: #174EA6;\n",
              "    }\n",
              "\n",
              "    [theme=dark] .colab-df-convert {\n",
              "      background-color: #3B4455;\n",
              "      fill: #D2E3FC;\n",
              "    }\n",
              "\n",
              "    [theme=dark] .colab-df-convert:hover {\n",
              "      background-color: #434B5C;\n",
              "      box-shadow: 0px 1px 3px 1px rgba(0, 0, 0, 0.15);\n",
              "      filter: drop-shadow(0px 1px 2px rgba(0, 0, 0, 0.3));\n",
              "      fill: #FFFFFF;\n",
              "    }\n",
              "  </style>\n",
              "\n",
              "      <script>\n",
              "        const buttonEl =\n",
              "          document.querySelector('#df-d728d1f9-2c3b-460c-b53d-79aee7ce4917 button.colab-df-convert');\n",
              "        buttonEl.style.display =\n",
              "          google.colab.kernel.accessAllowed ? 'block' : 'none';\n",
              "\n",
              "        async function convertToInteractive(key) {\n",
              "          const element = document.querySelector('#df-d728d1f9-2c3b-460c-b53d-79aee7ce4917');\n",
              "          const dataTable =\n",
              "            await google.colab.kernel.invokeFunction('convertToInteractive',\n",
              "                                                     [key], {});\n",
              "          if (!dataTable) return;\n",
              "\n",
              "          const docLinkHtml = 'Like what you see? Visit the ' +\n",
              "            '<a target=\"_blank\" href=https://colab.research.google.com/notebooks/data_table.ipynb>data table notebook</a>'\n",
              "            + ' to learn more about interactive tables.';\n",
              "          element.innerHTML = '';\n",
              "          dataTable['output_type'] = 'display_data';\n",
              "          await google.colab.output.renderOutput(dataTable, element);\n",
              "          const docLink = document.createElement('div');\n",
              "          docLink.innerHTML = docLinkHtml;\n",
              "          element.appendChild(docLink);\n",
              "        }\n",
              "      </script>\n",
              "    </div>\n",
              "  </div>\n",
              "  "
            ]
          },
          "metadata": {}
        },
        {
          "output_type": "display_data",
          "data": {
            "text/plain": [
              "           RowId        Date  SecuritiesCode    Open    High     Low   Close  \\\n",
              "0  20170104_1301  2017-01-04            1301  2734.0  2755.0  2730.0  2742.0   \n",
              "1  20170104_1332  2017-01-04            1332   568.0   576.0   563.0   571.0   \n",
              "2  20170104_1333  2017-01-04            1333  3150.0  3210.0  3140.0  3210.0   \n",
              "3  20170104_1376  2017-01-04            1376  1510.0  1550.0  1510.0  1550.0   \n",
              "4  20170104_1377  2017-01-04            1377  3270.0  3350.0  3270.0  3330.0   \n",
              "5  20170104_1379  2017-01-04            1379  2105.0  2147.0  2101.0  2143.0   \n",
              "6  20170104_1381  2017-01-04            1381  1950.0  1960.0  1949.0  1960.0   \n",
              "7  20170104_1407  2017-01-04            1407   857.0   877.0   851.0   866.0   \n",
              "8  20170104_1414  2017-01-04            1414  4940.0  5060.0  4935.0  5050.0   \n",
              "9  20170104_1417  2017-01-04            1417  1051.0  1063.0  1048.0  1053.0   \n",
              "\n",
              "    Volume  AdjustmentFactor  ExpectedDividend  SupervisionFlag    Target  \n",
              "0    31400               1.0               NaN            False  0.000730  \n",
              "1  2798500               1.0               NaN            False  0.012324  \n",
              "2   270800               1.0               NaN            False  0.006154  \n",
              "3    11300               1.0               NaN            False  0.011053  \n",
              "4   150800               1.0               NaN            False  0.003026  \n",
              "5    77300               1.0               NaN            False  0.005169  \n",
              "6     1300               1.0               NaN            False -0.009326  \n",
              "7   147000               1.0               NaN            False -0.003437  \n",
              "8   119600               1.0               NaN            False  0.000000  \n",
              "9   347500               1.0               NaN            False -0.007463  "
            ],
            "text/html": [
              "\n",
              "  <div id=\"df-640f1893-708e-472d-8560-c1288dbdc1ed\">\n",
              "    <div class=\"colab-df-container\">\n",
              "      <div>\n",
              "<style scoped>\n",
              "    .dataframe tbody tr th:only-of-type {\n",
              "        vertical-align: middle;\n",
              "    }\n",
              "\n",
              "    .dataframe tbody tr th {\n",
              "        vertical-align: top;\n",
              "    }\n",
              "\n",
              "    .dataframe thead th {\n",
              "        text-align: right;\n",
              "    }\n",
              "</style>\n",
              "<table border=\"1\" class=\"dataframe\">\n",
              "  <thead>\n",
              "    <tr style=\"text-align: right;\">\n",
              "      <th></th>\n",
              "      <th>RowId</th>\n",
              "      <th>Date</th>\n",
              "      <th>SecuritiesCode</th>\n",
              "      <th>Open</th>\n",
              "      <th>High</th>\n",
              "      <th>Low</th>\n",
              "      <th>Close</th>\n",
              "      <th>Volume</th>\n",
              "      <th>AdjustmentFactor</th>\n",
              "      <th>ExpectedDividend</th>\n",
              "      <th>SupervisionFlag</th>\n",
              "      <th>Target</th>\n",
              "    </tr>\n",
              "  </thead>\n",
              "  <tbody>\n",
              "    <tr>\n",
              "      <th>0</th>\n",
              "      <td>20170104_1301</td>\n",
              "      <td>2017-01-04</td>\n",
              "      <td>1301</td>\n",
              "      <td>2734.0</td>\n",
              "      <td>2755.0</td>\n",
              "      <td>2730.0</td>\n",
              "      <td>2742.0</td>\n",
              "      <td>31400</td>\n",
              "      <td>1.0</td>\n",
              "      <td>NaN</td>\n",
              "      <td>False</td>\n",
              "      <td>0.000730</td>\n",
              "    </tr>\n",
              "    <tr>\n",
              "      <th>1</th>\n",
              "      <td>20170104_1332</td>\n",
              "      <td>2017-01-04</td>\n",
              "      <td>1332</td>\n",
              "      <td>568.0</td>\n",
              "      <td>576.0</td>\n",
              "      <td>563.0</td>\n",
              "      <td>571.0</td>\n",
              "      <td>2798500</td>\n",
              "      <td>1.0</td>\n",
              "      <td>NaN</td>\n",
              "      <td>False</td>\n",
              "      <td>0.012324</td>\n",
              "    </tr>\n",
              "    <tr>\n",
              "      <th>2</th>\n",
              "      <td>20170104_1333</td>\n",
              "      <td>2017-01-04</td>\n",
              "      <td>1333</td>\n",
              "      <td>3150.0</td>\n",
              "      <td>3210.0</td>\n",
              "      <td>3140.0</td>\n",
              "      <td>3210.0</td>\n",
              "      <td>270800</td>\n",
              "      <td>1.0</td>\n",
              "      <td>NaN</td>\n",
              "      <td>False</td>\n",
              "      <td>0.006154</td>\n",
              "    </tr>\n",
              "    <tr>\n",
              "      <th>3</th>\n",
              "      <td>20170104_1376</td>\n",
              "      <td>2017-01-04</td>\n",
              "      <td>1376</td>\n",
              "      <td>1510.0</td>\n",
              "      <td>1550.0</td>\n",
              "      <td>1510.0</td>\n",
              "      <td>1550.0</td>\n",
              "      <td>11300</td>\n",
              "      <td>1.0</td>\n",
              "      <td>NaN</td>\n",
              "      <td>False</td>\n",
              "      <td>0.011053</td>\n",
              "    </tr>\n",
              "    <tr>\n",
              "      <th>4</th>\n",
              "      <td>20170104_1377</td>\n",
              "      <td>2017-01-04</td>\n",
              "      <td>1377</td>\n",
              "      <td>3270.0</td>\n",
              "      <td>3350.0</td>\n",
              "      <td>3270.0</td>\n",
              "      <td>3330.0</td>\n",
              "      <td>150800</td>\n",
              "      <td>1.0</td>\n",
              "      <td>NaN</td>\n",
              "      <td>False</td>\n",
              "      <td>0.003026</td>\n",
              "    </tr>\n",
              "    <tr>\n",
              "      <th>5</th>\n",
              "      <td>20170104_1379</td>\n",
              "      <td>2017-01-04</td>\n",
              "      <td>1379</td>\n",
              "      <td>2105.0</td>\n",
              "      <td>2147.0</td>\n",
              "      <td>2101.0</td>\n",
              "      <td>2143.0</td>\n",
              "      <td>77300</td>\n",
              "      <td>1.0</td>\n",
              "      <td>NaN</td>\n",
              "      <td>False</td>\n",
              "      <td>0.005169</td>\n",
              "    </tr>\n",
              "    <tr>\n",
              "      <th>6</th>\n",
              "      <td>20170104_1381</td>\n",
              "      <td>2017-01-04</td>\n",
              "      <td>1381</td>\n",
              "      <td>1950.0</td>\n",
              "      <td>1960.0</td>\n",
              "      <td>1949.0</td>\n",
              "      <td>1960.0</td>\n",
              "      <td>1300</td>\n",
              "      <td>1.0</td>\n",
              "      <td>NaN</td>\n",
              "      <td>False</td>\n",
              "      <td>-0.009326</td>\n",
              "    </tr>\n",
              "    <tr>\n",
              "      <th>7</th>\n",
              "      <td>20170104_1407</td>\n",
              "      <td>2017-01-04</td>\n",
              "      <td>1407</td>\n",
              "      <td>857.0</td>\n",
              "      <td>877.0</td>\n",
              "      <td>851.0</td>\n",
              "      <td>866.0</td>\n",
              "      <td>147000</td>\n",
              "      <td>1.0</td>\n",
              "      <td>NaN</td>\n",
              "      <td>False</td>\n",
              "      <td>-0.003437</td>\n",
              "    </tr>\n",
              "    <tr>\n",
              "      <th>8</th>\n",
              "      <td>20170104_1414</td>\n",
              "      <td>2017-01-04</td>\n",
              "      <td>1414</td>\n",
              "      <td>4940.0</td>\n",
              "      <td>5060.0</td>\n",
              "      <td>4935.0</td>\n",
              "      <td>5050.0</td>\n",
              "      <td>119600</td>\n",
              "      <td>1.0</td>\n",
              "      <td>NaN</td>\n",
              "      <td>False</td>\n",
              "      <td>0.000000</td>\n",
              "    </tr>\n",
              "    <tr>\n",
              "      <th>9</th>\n",
              "      <td>20170104_1417</td>\n",
              "      <td>2017-01-04</td>\n",
              "      <td>1417</td>\n",
              "      <td>1051.0</td>\n",
              "      <td>1063.0</td>\n",
              "      <td>1048.0</td>\n",
              "      <td>1053.0</td>\n",
              "      <td>347500</td>\n",
              "      <td>1.0</td>\n",
              "      <td>NaN</td>\n",
              "      <td>False</td>\n",
              "      <td>-0.007463</td>\n",
              "    </tr>\n",
              "  </tbody>\n",
              "</table>\n",
              "</div>\n",
              "      <button class=\"colab-df-convert\" onclick=\"convertToInteractive('df-640f1893-708e-472d-8560-c1288dbdc1ed')\"\n",
              "              title=\"Convert this dataframe to an interactive table.\"\n",
              "              style=\"display:none;\">\n",
              "        \n",
              "  <svg xmlns=\"http://www.w3.org/2000/svg\" height=\"24px\"viewBox=\"0 0 24 24\"\n",
              "       width=\"24px\">\n",
              "    <path d=\"M0 0h24v24H0V0z\" fill=\"none\"/>\n",
              "    <path d=\"M18.56 5.44l.94 2.06.94-2.06 2.06-.94-2.06-.94-.94-2.06-.94 2.06-2.06.94zm-11 1L8.5 8.5l.94-2.06 2.06-.94-2.06-.94L8.5 2.5l-.94 2.06-2.06.94zm10 10l.94 2.06.94-2.06 2.06-.94-2.06-.94-.94-2.06-.94 2.06-2.06.94z\"/><path d=\"M17.41 7.96l-1.37-1.37c-.4-.4-.92-.59-1.43-.59-.52 0-1.04.2-1.43.59L10.3 9.45l-7.72 7.72c-.78.78-.78 2.05 0 2.83L4 21.41c.39.39.9.59 1.41.59.51 0 1.02-.2 1.41-.59l7.78-7.78 2.81-2.81c.8-.78.8-2.07 0-2.86zM5.41 20L4 18.59l7.72-7.72 1.47 1.35L5.41 20z\"/>\n",
              "  </svg>\n",
              "      </button>\n",
              "      \n",
              "  <style>\n",
              "    .colab-df-container {\n",
              "      display:flex;\n",
              "      flex-wrap:wrap;\n",
              "      gap: 12px;\n",
              "    }\n",
              "\n",
              "    .colab-df-convert {\n",
              "      background-color: #E8F0FE;\n",
              "      border: none;\n",
              "      border-radius: 50%;\n",
              "      cursor: pointer;\n",
              "      display: none;\n",
              "      fill: #1967D2;\n",
              "      height: 32px;\n",
              "      padding: 0 0 0 0;\n",
              "      width: 32px;\n",
              "    }\n",
              "\n",
              "    .colab-df-convert:hover {\n",
              "      background-color: #E2EBFA;\n",
              "      box-shadow: 0px 1px 2px rgba(60, 64, 67, 0.3), 0px 1px 3px 1px rgba(60, 64, 67, 0.15);\n",
              "      fill: #174EA6;\n",
              "    }\n",
              "\n",
              "    [theme=dark] .colab-df-convert {\n",
              "      background-color: #3B4455;\n",
              "      fill: #D2E3FC;\n",
              "    }\n",
              "\n",
              "    [theme=dark] .colab-df-convert:hover {\n",
              "      background-color: #434B5C;\n",
              "      box-shadow: 0px 1px 3px 1px rgba(0, 0, 0, 0.15);\n",
              "      filter: drop-shadow(0px 1px 2px rgba(0, 0, 0, 0.3));\n",
              "      fill: #FFFFFF;\n",
              "    }\n",
              "  </style>\n",
              "\n",
              "      <script>\n",
              "        const buttonEl =\n",
              "          document.querySelector('#df-640f1893-708e-472d-8560-c1288dbdc1ed button.colab-df-convert');\n",
              "        buttonEl.style.display =\n",
              "          google.colab.kernel.accessAllowed ? 'block' : 'none';\n",
              "\n",
              "        async function convertToInteractive(key) {\n",
              "          const element = document.querySelector('#df-640f1893-708e-472d-8560-c1288dbdc1ed');\n",
              "          const dataTable =\n",
              "            await google.colab.kernel.invokeFunction('convertToInteractive',\n",
              "                                                     [key], {});\n",
              "          if (!dataTable) return;\n",
              "\n",
              "          const docLinkHtml = 'Like what you see? Visit the ' +\n",
              "            '<a target=\"_blank\" href=https://colab.research.google.com/notebooks/data_table.ipynb>data table notebook</a>'\n",
              "            + ' to learn more about interactive tables.';\n",
              "          element.innerHTML = '';\n",
              "          dataTable['output_type'] = 'display_data';\n",
              "          await google.colab.output.renderOutput(dataTable, element);\n",
              "          const docLink = document.createElement('div');\n",
              "          docLink.innerHTML = docLinkHtml;\n",
              "          element.appendChild(docLink);\n",
              "        }\n",
              "      </script>\n",
              "    </div>\n",
              "  </div>\n",
              "  "
            ]
          },
          "metadata": {}
        }
      ]
    },
    {
      "cell_type": "markdown",
      "source": [
        "##### RowID"
      ],
      "metadata": {
        "id": "3ze4He4Fqxz0"
      }
    },
    {
      "cell_type": "code",
      "source": [
        "row_id = (df_prices['Date'].apply(lambda data: ''.join(data.split('-'))+'_')\n",
        "                                                                        + df_prices['SecuritiesCode'].astype(str))\n",
        "assert(df_prices['RowId'] == row_id).all()"
      ],
      "metadata": {
        "id": "9bw9IX2vk2oN"
      },
      "execution_count": 13,
      "outputs": []
    },
    {
      "cell_type": "code",
      "source": [
        "#nunique()함수\n",
        "#데이터에 고유값들의 수를 출력해주는 함수입니다.\n",
        "#출력된 결과를 보면 품목들의 수를 알려주고 있습니다. \n",
        "#데이터의 고유값의 총 수를 알고 싶을때 유용한 함수입니다.\n",
        "n_dates = df_prices['Date'].nunique()\n",
        "date_min, date_max = df_prices['Date'].min(), df_prices['Date'].max()\n",
        "n_stocks = df_prices['SecuritiesCode'].nunique()\n",
        "\n",
        "print(f\"Number of unique dates: {n_dates} ({date_min} ~ {date_max})\\n\"\n",
        "      f\"Number of unique stocks: {n_stocks}\")"
      ],
      "metadata": {
        "colab": {
          "base_uri": "https://localhost:8080/"
        },
        "id": "QeheZRTch9xu",
        "outputId": "14b5a590-7db3-4bb4-86dc-ea438f464f25"
      },
      "execution_count": 17,
      "outputs": [
        {
          "output_type": "stream",
          "name": "stdout",
          "text": [
            "Number of unique dates: 1202 (2017-01-04 ~ 2021-12-03)\n",
            "Number of unique stocks: 2000\n"
          ]
        }
      ]
    },
    {
      "cell_type": "markdown",
      "source": [
        "사실, 주식의 90%는 이미 훈련기간(2017-01-04 ~ 2021-12-03)동안 끝났습니다.\n",
        "\n",
        "그러나, ExpectedDividend, price columns의 컬럼에 들어있는 missing values을 주의깊게 봐야합니다"
      ],
      "metadata": {
        "id": "oMD8IckHuOBv"
      }
    },
    {
      "cell_type": "code",
      "source": [
        "#시각화를 통해서 RowID에 대해서 더 알아보겠습니다.\n",
        "from matplotlib import pyplot as plt\n",
        "n_dates_per_stock = df_prices.groupby(['SecuritiesCode'])['Date'].count()\n",
        "stock_cnt_max = (n_dates_per_stock == n_dates_per_stock.max()).sum()\n",
        "stock_ratio_max = stock_cnt_max / len(n_dates_per_stock) * 100\n",
        "\n",
        "fig, ax = plt.subplots(figsize=(10, 5))\n",
        "sns.histplot(data=n_dates_per_stock.values, bins=100, palette=colors, ax=ax)\n",
        "ax.axhline(y=stock_cnt_max, color='red', linestyle='dotted', linewidth=2,\n",
        "           label=f'{stock_ratio_max}% of #Stocks')\n",
        "ax.set_title(f\"Number of Dates per Stock\\nMin {n_dates_per_stock.min()} | \"\n",
        "             f\"Max {n_dates_per_stock.max()}\")\n",
        "ax.set_xlabel(\"#Dates\")\n",
        "ax.set_ylabel(\"Stock Count\")\n",
        "ax.legend()\n",
        "plt.show()\n"
      ],
      "metadata": {
        "colab": {
          "base_uri": "https://localhost:8080/",
          "height": 365
        },
        "id": "teOJjFYUtnCb",
        "outputId": "7fdb9340-686d-48a0-a65a-ace5c7d85abd"
      },
      "execution_count": 19,
      "outputs": [
        {
          "output_type": "display_data",
          "data": {
            "text/plain": [
              "<Figure size 720x360 with 1 Axes>"
            ],
            "image/png": "[encoded data removed]"
          },
          "metadata": {}
        }
      ]
    },
    {
      "cell_type": "code",
      "source": [
        "#Tradind data missing values\n",
        "\n",
        "n_stocks_per_date = df_prices.groupby(['Date'])['SecuritiesCode'].count()\n",
        "date_cnt_max = (n_stocks_per_date == n_stocks_per_date.max()).sum()\n",
        "date_ratio_max = round(date_cnt_max / len(n_stocks_per_date) * 100, 2)\n",
        "\n",
        "\n",
        "fig, ax = plt.subplots(figsize=(10, 5))\n",
        "sns.histplot(data=n_stocks_per_date.values, bins=100, palette=colors, ax=ax)\n",
        "ax.axvline(x=n_stocks_per_date.mean(), color='orange', linestyle='dotted',\n",
        "           linewidth=2, label='Mean')\n",
        "ax.axvline(x=n_stocks_per_date.median(), color='green', linestyle='--',\n",
        "           linewidth=2, label='Median')\n",
        "ax.axhline(y=date_cnt_max, color='red', linestyle='dotted', linewidth=2,\n",
        "           label=f'{date_ratio_max}% of #Dates')\n",
        "ax.set_title(f\"Number of Stocks per Date\\nMin {n_stocks_per_date.min()} | \"\n",
        "             f\"Max {n_stocks_per_date.max()}\")\n",
        "ax.set_xlabel(\"#Stocks\")\n",
        "ax.set_ylabel(\"Date Count\")\n",
        "ax.legend()\n",
        "plt.show()"
      ],
      "metadata": {
        "colab": {
          "base_uri": "https://localhost:8080/",
          "height": 365
        },
        "id": "1w4S2AZByRM3",
        "outputId": "b1eb76fa-e0bd-40e2-bd57-88f345bf8b6a"
      },
      "execution_count": 20,
      "outputs": [
        {
          "output_type": "display_data",
          "data": {
            "text/plain": [
              "<Figure size 720x360 with 1 Axes>"
            ],
            "image/png": "[encoded data removed]"
          },
          "metadata": {}
        }
      ]
    },
    {
      "cell_type": "code",
      "source": [
        ""
      ],
      "metadata": {
        "id": "v7vB6Bgc-NpE"
      },
      "execution_count": null,
      "outputs": []
    },
    {
      "cell_type": "code",
      "source": [
        ""
      ],
      "metadata": {
        "id": "u5OcPeWl-Nrh"
      },
      "execution_count": null,
      "outputs": []
    },
    {
      "cell_type": "code",
      "source": [
        ""
      ],
      "metadata": {
        "id": "-iZNuGxS-NuG"
      },
      "execution_count": null,
      "outputs": []
    },
    {
      "cell_type": "code",
      "source": [
        ""
      ],
      "metadata": {
        "id": "V7pIUhaH-N5I"
      },
      "execution_count": null,
      "outputs": []
    },
    {
      "cell_type": "code",
      "source": [
        ""
      ],
      "metadata": {
        "id": "nRuHp4b--N7q"
      },
      "execution_count": null,
      "outputs": []
    },
    {
      "cell_type": "code",
      "source": [
        ""
      ],
      "metadata": {
        "id": "Xod61fal-N-u"
      },
      "execution_count": null,
      "outputs": []
    }
  ]
}