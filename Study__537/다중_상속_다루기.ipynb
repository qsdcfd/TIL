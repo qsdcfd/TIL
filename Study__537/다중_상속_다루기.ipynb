{
  "nbformat": 4,
  "nbformat_minor": 0,
  "metadata": {
    "colab": {
      "provenance": [],
      "authorship_tag": "ABX9TyPgmgL9oAYgp8EmzzLow0Tl"
    },
    "kernelspec": {
      "name": "python3",
      "display_name": "Python 3"
    },
    "language_info": {
      "name": "python"
    }
  },
  "cells": [
    {
      "cell_type": "markdown",
      "source": [
        "# 객체지향 상용구\n",
        "## 내장 자료형 상속과 다중 상속\n",
        "### 다중 상속 다루기\n",
        "\n",
        "**인터페이스 상속과 구현 상속을 구분한다.**\n",
        "\n",
        "- 인터페이스 상속은 'is-a'관계를 의미하는 서브타입을 생성\n",
        "- 구현 상속은 재사용을 통해 코드 중복을 피한다.\n",
        "\n",
        "<br>\n",
        "\n",
        "**ABC를 이용해서 인터페이스를 명확히 한다.**\n",
        "\n",
        "<br>\n",
        "\n",
        "**코드를 재사용하기 위해 믹스인을 사용한다.**\n",
        "\n",
        ">믹스인 클래스로 객체를 생성하면 안되며, 믹스인 클래스를 상속하는 구상 클래스는 다른 클래스도 상속해야 한다.\n",
        "\n",
        "<br>\n",
        "\n",
        "**이름을 통해 믹스인임을 명확히 한다.**\n",
        "\n",
        "<br>\n",
        "\n",
        "**ABC가 믹스인이 될 수는 있지만, 믹스인이라고 해서 ABC인 것은 아니다.**\n",
        "\n",
        "<br>\n",
        "\n",
        "**두 개 이상의 구상 클래스에서 상속받지 않는다.**\n",
        "\n",
        "```\n",
        "class MyConcreteClass(Alpha, Beta, Gamma):\n",
        "\t\"\"\"구상 클래스: 객체를 생성할 수 있다.\"\"\"\n",
        "    \n",
        "```\n",
        "\n",
        "<br>\n",
        "\n",
        "**사용자에게 집합 클래스를 제공한다.**\n",
        "\n",
        "```\n",
        "class Widget(BaseWidget, Pack, Place, Grid):\n",
        "\t\"\"\" 내부 클래스\n",
        "    \n",
        "    Pack, Place, Grid 기하 도형 관리자로 위치를 지정할 수 있는 위젯 기반 클래스\"\"\"\n",
        "    pass\n",
        "```\n",
        "\n",
        "<br>\n",
        "\n",
        "**클래스 상속보다 객체 구성을 사용하라**"
      ],
      "metadata": {
        "id": "seaRC5dy7xN3"
      }
    },
    {
      "cell_type": "code",
      "source": [],
      "metadata": {
        "id": "8xhoGXYh7xVW"
      },
      "execution_count": null,
      "outputs": []
    }
  ]
}