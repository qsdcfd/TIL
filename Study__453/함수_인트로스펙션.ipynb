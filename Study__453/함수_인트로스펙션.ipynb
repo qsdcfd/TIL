{
  "nbformat": 4,
  "nbformat_minor": 0,
  "metadata": {
    "colab": {
      "provenance": [],
      "authorship_tag": "ABX9TyNXxwGfM/1PMXSVQY98Clft"
    },
    "kernelspec": {
      "name": "python3",
      "display_name": "Python 3"
    },
    "language_info": {
      "name": "python"
    }
  },
  "cells": [
    {
      "cell_type": "markdown",
      "source": [
        "# 객체로서의 함수\n",
        "## 일급함수\n",
        "### 함수 인트로스펙션\n",
        "\n",
        "함수 객체는 __doc__이외에도 많은 속성을 갖고 있고 dir()함수가 factorial() 함수에 대해서 공개\n",
        "\n",
        "```\n",
        "dir(factorial)\n",
        "```\n",
        "\n",
        "대부분 파이썬 객체에 존재하는 속성으로 함수를 객체로 다루는 것과 관련된 속성을 살펴보면 되므로 __dict__ 속성을 살펴라\n",
        "\n",
        "사용자 정의 클래스의 객체와 함수는 __dict__ 속성을 이용해서 객체에 할당된 사용자 속성을 보관하고 이 속성은 기본적인 애너테이션 형태로 쓸모가 많고, 장고와 같은 프레임워크는 이 기능을 사용한다.\n",
        "\n",
        "\n",
        "```\n",
        "def uppper_case_name(obj):\n",
        "\treturn (\"%s %s\" % (obj.first_name,obj.last_name)).upper())\n",
        "upper_case_name.short_description = 'Customer name'\n",
        "\n",
        "#일반 객체에는 존재하지 않는 함수 속성 나열하기\n",
        "\n",
        "class C:pass\n",
        "obj= C()\n",
        "def func(): pass\n",
        "sorted(set(dir(func)) - set(dir(obj))\n",
        "```\n",
        "\n",
        ">파이썬이 함수 매개변수를 선언하고 인수 전달\n",
        "\n"
      ],
      "metadata": {
        "id": "p7hcCHY51tpq"
      }
    },
    {
      "cell_type": "code",
      "source": [],
      "metadata": {
        "id": "02NK3gkk1t7v"
      },
      "execution_count": null,
      "outputs": []
    }
  ]
}