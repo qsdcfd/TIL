{
  "nbformat": 4,
  "nbformat_minor": 0,
  "metadata": {
    "colab": {
      "provenance": [],
      "authorship_tag": "ABX9TyNXSFOSUnq6lUKGwqCDPbjK"
    },
    "kernelspec": {
      "name": "python3",
      "display_name": "Python 3"
    },
    "language_info": {
      "name": "python"
    }
  },
  "cells": [
    {
      "cell_type": "markdown",
      "source": [
        "# 객체지향 상용구\n",
        "## 파이썬스러운 객체\n",
        "### 대안 생성자\n",
        "\n",
        ">Vector2d를 bytes로 변환하는 메서드가 있으니, 당연히 bytes를 vector2d로 변환하는 메서드도 있어야할 것이고 영감을 얻기 위해서 표준 라이브러리를 살펴보면, frombytes()라는 클래스 메서드를 가진 array.array가 우리 상황에 맞다.\n",
        "\n",
        "```\n",
        "#vector2d_v1.py: frombytes() 클래스 메서드\n",
        "\n",
        "@classmethod\n",
        "\n",
        "def frombytes(cls, octets):\n",
        "\ttypecode = chr(octets[0])\n",
        "    memv = memoryview(octets[1:]).cast(typecode)\n",
        "    return cls(*memv)\n",
        "```"
      ],
      "metadata": {
        "id": "0hv-iwUboAtG"
      }
    },
    {
      "cell_type": "code",
      "source": [],
      "metadata": {
        "id": "5OCvPML-oA_3"
      },
      "execution_count": null,
      "outputs": []
    }
  ]
}