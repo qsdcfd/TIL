{
  "nbformat": 4,
  "nbformat_minor": 0,
  "metadata": {
    "colab": {
      "provenance": [],
      "authorship_tag": "ABX9TyOJY3buLzaO8+rxCg4Q2FwX"
    },
    "kernelspec": {
      "name": "python3",
      "display_name": "Python 3"
    },
    "language_info": {
      "name": "python"
    }
  },
  "cells": [
    {
      "cell_type": "markdown",
      "source": [
        "# 딕셔너리\n",
        "## 지능형 딕셔너리\n",
        "> 모든  반복형 객체에서 키-값 쌍을 생성함으로써 딕셔너리 객체를 만들 수 있고, 이를 활용해서 동일한 튜플 리스트에서 딕셔너리 두 개를 생성할 수 있다.\n",
        "\n",
        "```\n",
        "DIAL_CODES = [\n",
        "\t\t(86, 'China'),\n",
        "        (91, 'India'),\n",
        "        (1, 'United States'),\n",
        "        (62, 'Indonesia'),\n",
        "        (55, 'Brazil'),\n",
        "        (92, 'Pakistan'),\n",
        "        (880, 'Bangladesh'),\n",
        "        (234, 'Nigeria'),\n",
        "        (7, 'Russia'),\n",
        "        (81, 'Japan'),\n",
        "   ]\n",
        "   \n",
        "country_code = {country: code for code, country in DIAL_CODES}\n",
        "country_code\n",
        "\n",
        "{code: country.upper() for country, code in country_code.items() if code < 66}\n",
        "```\n",
        "\n",
        "listcomp에 익숙해지면 자연스럽게 dictcomp에도 익숙해지므로 listcomp를 확장한 구문이 많이 나온다."
      ],
      "metadata": {
        "id": "FmELMw--9295"
      }
    },
    {
      "cell_type": "code",
      "source": [],
      "metadata": {
        "id": "49xmU53c93Mz"
      },
      "execution_count": null,
      "outputs": []
    }
  ]
}