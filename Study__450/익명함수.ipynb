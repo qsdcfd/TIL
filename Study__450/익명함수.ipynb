{
  "nbformat": 4,
  "nbformat_minor": 0,
  "metadata": {
    "colab": {
      "provenance": [],
      "authorship_tag": "ABX9TyNgiHTmVzOnM9nvnh4kCnZa"
    },
    "kernelspec": {
      "name": "python3",
      "display_name": "Python 3"
    },
    "language_info": {
      "name": "python"
    }
  },
  "cells": [
    {
      "cell_type": "markdown",
      "source": [
        "# 객체로서의 함수\n",
        "## 익명 함수\n",
        "\n",
        "lambda는 파이썬의 단순한 구문이 람다 함수의 순수한 표현식만으로 구성되도록 제한하고, 람다 본체에선 할당문이나 while, try등의 파이선 뭄ㄴ장을 사용할 수 없으므로 익명 함수는 인수 목록 안에서 아주 유용하게 사용된다.\n",
        "\n",
        "```\n",
        "fruits = ['strawberry','fig','apple','cherry','raspberry','banana']\n",
        "sorted(fruits, key=lambda word: word[::-1])\n",
        "\"\"\"\n",
        "고위 함수의 인수로 사용하는 방법 외에 익명 함수는 파이썬에서 거의 사용되지 않고\n",
        "복잡한 람다는 가독성이 떨어지고 사용하기 까다롭다\n",
        "\"\"\"\n",
        "```\n",
        "\n",
        "**람다 리팩토링 비법**\n",
        "\n",
        "- 람다가 하는 일이 무엇인지 설명하는 주석을 작성한다.\n",
        "\n",
        "- 잠시 주석을 주의 깊게 파악하고, 주석의 본질을 전달하는 이름을 생각해낸다.\n",
        "\n",
        "- 그 이름을 이용해서 람다를 def 문으로 변경한다\n",
        "\n",
        "- 주석을 제거한다."
      ],
      "metadata": {
        "id": "WfMJuFsu4pPA"
      }
    },
    {
      "cell_type": "code",
      "source": [],
      "metadata": {
        "id": "UxkFfkrB4pdj"
      },
      "execution_count": null,
      "outputs": []
    }
  ]
}