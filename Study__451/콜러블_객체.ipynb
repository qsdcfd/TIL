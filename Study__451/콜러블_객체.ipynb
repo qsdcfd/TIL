{
  "nbformat": 4,
  "nbformat_minor": 0,
  "metadata": {
    "colab": {
      "provenance": [],
      "authorship_tag": "ABX9TyPFzTQx/x5TW7f4ywriWatF"
    },
    "kernelspec": {
      "name": "python3",
      "display_name": "Python 3"
    },
    "language_info": {
      "name": "python"
    }
  },
  "cells": [
    {
      "cell_type": "markdown",
      "source": [
        "# 객체로서의 함수\n",
        "## 일급 함수\n",
        "### 일곱 가지 맛의 콜러블 객체\n",
        "\n",
        ">호출 연산자인 ()는 사용자 정의 함수 이외의 다른 객체에도 적용할 수 있고, 호출할 수 있는 객체인지 알아보려면 callable() 내장 함수를 사용한다.\n",
        "\n",
        "<br>\n",
        "\n",
        "**사용자 정의 함수**\n",
        "\n",
        "def 문이나 람다 표현식으로 생성한다.\n",
        "\n",
        "**내장 함수**\n",
        "\n",
        "len()이나 time.strftime()처럼 C언어로 구현된 함수(Cpython)\n",
        "\n",
        "**내장 메서드**\n",
        "\n",
        "dict.get()처럼 C언어로 구현된 메서드\n",
        "\n",
        "**메서드**\n",
        "\n",
        "클래스 본체에 정의된 함수\n",
        "\n",
        "**클래스**\n",
        "\n",
        "호출될 때 클래스는 자신의 __new__() 메서드를 실행해서 객체를 생성하고, __init__()으로 초기화한 후, 최종적으로 호출자에 객체를 반환하고, 파이썬에는 new 연산자가 없으므로 클래스를 호출하는 것은 함수를 호출하는 것과 동일하다.\n",
        "\n",
        "보통, 클래스를 호출하면 해당 클래스의 객체가 생성되지만, __new__() 메서드를 오버라이딩하면 다르게 적용할 수도 있다.\n",
        "\n",
        "\n",
        "**클래스 객체**\n",
        "\n",
        "클래스가 __call__()메서드를 구현하면 이 클래스의 객체는 함수로 호출될 수 있다.\n",
        "\n",
        "\n",
        "**제너레이터 함수**\n",
        "\n",
        "yield 키워드를 사용하는 함수나 메서드, 이 함수가 호출되면 제너레이터 객체를 반환한다.\n",
        "\n",
        "\n",
        "<br>\n",
        "\n",
        "```\n",
        "abs,str,13\n",
        "\n",
        "[callable(obj) for obj in (abs, str,13)]\n",
        "```\n"
      ],
      "metadata": {
        "id": "a1zrILwYBpap"
      }
    }
  ]
}