{
 "cells": [
  {
   "cell_type": "markdown",
   "id": "large-karaoke",
   "metadata": {},
   "source": [
    "<기획>\n",
    "n면체 주사위 만들기\n",
    "\n",
    "<기능>\n",
    "1.주사위의 면의 개수 n입력\n",
    
    "2.주사위 던지면 1~n눈의 수 중 랜덤으로 값 출력\n",
    "\n",
    "<틀>\n",
    "\n",
    "클래스 -Funny Dice\n",
    "\n",
    "n - 인스턴스 변수 선언\n",
    "메소드 -throw (1~n)값 나오게 함\n",
    "\n",
    "setval: 주사위의 값을 특정 값으로 세팅\n",
    "\n",
    "getval: 사용자 현재 주사위 값 읽기\n",
    "\n",
    "<주 프로그램 - main 함수>\n",
    "\n",
    "1. n = get_inputs(): 주사위 면의 수 입력 받기\n",
    "\n",
    "2. mydice = FunnyDice(n) : 주사위 객체 만들기\n",
    "\n",
    "<FunnyDice 클래스>\n",
    "1.생성자 __init__구현\n",
    "2.피라미터 n\n",
    "     n = 6 (디폴트값) , n을 정수형으로 구현\n",
    "    \n",
    "3.인스턴스 변수\n",
    "   numbers: self.numbers는 주사위의 눈들\n",
    "   range()함수 -> 1~ n +1까지의 리스트를 만들었다\n",
    "   \n",
    "   index : self.index(number리스트의 인덱스), 주사위 던지기 전 눈의 수를 위해 인덱스 변수 추가\n",
    "   \n",
    "   randrange()함수-->랜덤으로 나오게 만든다.\n",
    "   \n",
    "   val : self.val(주사위 눈)\n",
    "   \n",
    " \n",
    "4.메소드\n",
    "\n",
    " throw(): 랜덤으로 주사위 눈이 나오게 함\n",
    " getval():주사위 눈의 변수 val 반환 및 눈의 값 얻음\n",
    " setval(): 주사위 눈 세팅 할 수 있게 함"
   ]
  },
  {
   "cell_type": "code",
   "execution_count": 8,
   "id": "streaming-correspondence",
   "metadata": {},
   "outputs": [
    {
     "name": "stdout",
     "output_type": "stream",
     "text": [
      "주사위 면의 개수를 입력하세요: 1534\n",
      "행운의 숫자는? 721\n"
     ]
    }
   ],
   "source": [
    "# funnydice.py\n",
    "\n",
    "from random import randrange\n",
    "\n",
    "class FunnyDice:\n",
    "    def __init__(self, n=6):\n",
    "        self.n = n\n",
    "        self.options = list(range(1, n+1))\n",
    "        self.index = randrange(0, self.n)\n",
    "        self.val = self.options[self.index]\n",
    "    \n",
    "    def throw(self):\n",
    "        self.index = randrange(0, self.n)\n",
    "        self.val = self.options[self.index]\n",
    "    \n",
    "    def getval(self):\n",
    "        return self.val\n",
    "    \n",
    "    def setval(self, val):\n",
    "        if val <= self.n:\n",
    "            self.val = val\n",
    "        else:\n",
    "            msg = \"주사위에 없는 숫자입니다. 주사위는 1 ~ {0}까지 있습니다. \".format(self.n)\n",
    "            raise ValueError(msg)\n",
    "\n",
    "def get_inputs():\n",
    "    n = int(input(\"주사위 면의 개수를 입력하세요: \"))\n",
    "    return n\n",
    "\n",
    "def main():\n",
    "    n = get_inputs()\n",
    "    mydice = FunnyDice(n)\n",
    "    mydice.throw()\n",
    "    print(\"행운의 숫자는? {0}\".format(mydice.getval()))\n",
    "\n",
    "if __name__ == '__main__':\n",
    "    main()"
   ]
  },
  {
   "cell_type": "code",
   "execution_count": null,
   "id": "agreed-gibson",
   "metadata": {},
   "outputs": [],
   "source": []
  },
  {
   "cell_type": "code",
   "execution_count": null,
   "id": "single-border",
   "metadata": {},
   "outputs": [],
   "source": []
  }
 ],
 "metadata": {
  "kernelspec": {
   "display_name": "Python 3",
   "language": "python",
   "name": "python3"
  },
  "language_info": {
   "codemirror_mode": {
    "name": "ipython",
    "version": 3
   },
   "file_extension": ".py",
   "mimetype": "text/x-python",
   "name": "python",
   "nbconvert_exporter": "python",
   "pygments_lexer": "ipython3",
   "version": "3.7.9"
  }
 },
 "nbformat": 4,
 "nbformat_minor": 5
}
