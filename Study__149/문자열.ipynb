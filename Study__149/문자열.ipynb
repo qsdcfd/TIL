{
  "nbformat": 4,
  "nbformat_minor": 0,
  "metadata": {
    "colab": {
      "name": "문자열",
      "provenance": [],
      "authorship_tag": "ABX9TyMUfwi7XVxxXnDxVIxCwg7K"
    },
    "kernelspec": {
      "name": "python3",
      "display_name": "Python 3"
    },
    "language_info": {
      "name": "python"
    }
  },
  "cells": [
    {
      "cell_type": "markdown",
      "source": [
        "### 학습 목표\n",
        "\n",
        "C로 문자열 형식을 가진 변수를 선언하고 출력하는 프로그램을 만들 수 있습니다.\n",
        "\n",
        "<br>\n",
        "\n",
        "### 핵심 단어\n",
        "\n",
        "형식지정자\n",
        "\n",
        "string\n",
        "\n",
        "make\n",
        "\n",
        "---\n",
        "\n",
        "*스크래치 블록\n",
        "\n",
        "사용자의 입력을 받고 사람의 이름을 불러서 인사를 합니다.\n",
        "\n",
        "![](https://images.velog.io/images/qsdcfd/post/f9da5387-0146-47ac-ac0f-4834260e18ec/image.png)\n",
        "\n",
        "스크래치의 ask함수와 가장 비슷한 것은 get_string함수(in CS50 Sandbox)입니다.\n",
        "\n",
        "String은 단어나 구절, 문장을 부르는 말입니다.(형식 지정자)\n",
        "\n",
        "C언어의 경우 변수를 저장하는 데이터의 종류를 아주 정확하게 명시\n",
        "\n",
        "\n",
        "```\n",
        "#include <cs50.h>#cs50.h파일 안에 string문자열 형식과 get_string라는 함수 코드 포함, 이 파일을 포함해야만 전체 코드를 컴파일하고 실행\n",
        "\n",
        "#include <studio.h>\n",
        "\n",
        "int main(void)\n",
        "\n",
        "{\n",
        "#get_string: 함수가 사용자의 이름을 반환하면 그 이름을 answer이라는 변수 저장\n",
        "\n",
        "string_answer = get_string(\"What's your name?\\n\");\n",
        "\n",
        "#answer이라는 변수에 들어있는 이름을 출력을 해야하므로 %사용\n",
        "# 이때 어떤 종류의 인자를 받는지 말해야합니다.\n",
        "# 우리는 이름이라는 문자열을 받기에 string에서의 s를 붙입니다.\n",
        "\n",
        "printf(\"hello,%s\\n\", answer);\n",
        "}\n",
        "```\n",
        "\n",
        "\n",
        "*터미널창에 명령어 입력하여 컴파일하기\n",
        "\n",
        "\n",
        "```\n",
        "$clang -o string string.c -lcs50\n",
        "\n",
        "#-o string: string.c를 string.out라는 머신코드로 저장하는 명령어\n",
        "\n",
        "#-lcs50은 link의 의미를 지닌 -l이라는 인자에 우리가 추가로 표함하는 cs50파일 합친 것으로 컴파일 시 cs50파일 연결\n",
        "\n",
        "#너무 복잡하죠? 단순하게 하는 법을 알려드릴게요\n",
        "\n",
        "#make명령어 쓰기\n",
        "\n",
        "$make string\n",
        "\n",
        "#작성한 코드를 컴파일 후 실행하면, 사용자에게 입력값을 받고 문장 내에 포함하여 출력하는 프로그램\n",
        "\n",
        "```\n",
        "\n",
        "<br>\n",
        "\n",
        "**생각해보기**\n",
        "\n",
        "문제: \"좋아하는 동물을 알려주세요\"랴는 질문을 하면 동물 이름을 animal라는 변수에 저장하고, \"내가 좋아하는 동물은\" 출력해주는 코드 작성\n",
        "\n",
        "```\n",
        "#include <cs50.h> #파일 부르기\n",
        "\n",
        "#include <studio.h>\n",
        "\n",
        "int main(void)\n",
        "\n",
        "{\n",
        "string_animal = get_string(\"좋아하는 동물을 알려주세요\");\n",
        "printf(\"내가 좋아하는 동물은 %s\\n \",animal);\n",
        "}\n",
        "```\n"
      ],
      "metadata": {
        "id": "sT9W6HsDCSHb"
      }
    },
    {
      "cell_type": "code",
      "source": [
        ""
      ],
      "metadata": {
        "id": "QhAzYLGcCTM_"
      },
      "execution_count": null,
      "outputs": []
    }
  ]
}