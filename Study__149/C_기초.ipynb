{
  "nbformat": 4,
  "nbformat_minor": 0,
  "metadata": {
    "colab": {
      "name": " C 기초",
      "provenance": [],
      "authorship_tag": "ABX9TyPYfT5WoNA1QCVWTaB5VVq1"
    },
    "kernelspec": {
      "name": "python3",
      "display_name": "Python 3"
    },
    "language_info": {
      "name": "python"
    }
  },
  "cells": [
    {
      "cell_type": "markdown",
      "source": [
        "#### 학습 목표\n",
        "\n",
        "C로 “hello, world”를 출력하는 프로그램을 만들 수 있습니다.\n",
        "\n",
        "<br>\n",
        "\n",
        "#### 핵심 단어\n",
        "\n",
        "stdio.h\n",
        "\n",
        "clang\n",
        "\n",
        "컴파일러\n",
        "\n",
        "---\n",
        "\n",
        "### C언어\n",
        "\n",
        "가장 오래되고 전통적인 순수 텍스트기반 언어입니다.\n",
        "\n",
        "C로 작성한 코드는 \"파일이름.c\"로 저장해야합니다.\n",
        "\n",
        "\n",
        "*스크래치 \n",
        "\n",
        "![](https://images.velog.io/images/qsdcfd/post/cb2770ec-5288-4d0c-9ea3-8afdad7d287d/image.png)\n",
        "\n",
        "*예시\n",
        "\n",
        "```\n",
        "#include<stdio.h> #'stdio.h'라는 이름 파일을 찾아 \"printf\"함수에 접근하도록 해준다.\n",
        "\n",
        "int main(void) #시작한다는 의미, 중괄호 안에 코드를 작성합니다.\n",
        "\n",
        "{\n",
        "                         # 세미클론(;)는 마침표(.)와 같은 기능합니다.\n",
        "  printf(\"hello,world\"); #\"hello,world\"출력, 텍스트는 쌍따옴표로 감싼다.\n",
        "} \n",
        "\n",
        "```\n",
        "\n",
        "<br>\n",
        "\n",
        "### 컴파일러\n",
        "\n",
        "![](https://images.velog.io/images/qsdcfd/post/34bc51b1-6a26-416b-abd0-6a7b25fd2c30/image.png)\n",
        "\n",
        "- source code: 우리가 직접 작성한 코드\n",
        "\n",
        "- compiler: 소스코드를 2진수로 작성되는 머신 코드로 바꾸는 것입니다.\n",
        "\n",
        "- machine code: 2진수로 작성된 컴퓨터가 이해하는 코드\n",
        "\n",
        "- \"$\"기호 옆에 우리가 원하는 명령어 입력\n",
        "\n",
        "- clang hello.c라는 명령어는 \"clang\"라는 컴파일러로 \"hello.c\"라는 코드를 컴파일하라는 의미입니다.\n",
        "\n",
        "- 그 결과, a.out라는 파일 생성\n",
        "\n",
        "- ./a out라는 명령어 실행 시 컴퓨터가 현재 디렉토리에 있는 a.out/이라는 프로그램 실행"
      ],
      "metadata": {
        "id": "048UibW9PI6D"
      }
    },
    {
      "cell_type": "code",
      "source": [
        ""
      ],
      "metadata": {
        "id": "bKfxOR0RPJan"
      },
      "execution_count": null,
      "outputs": []
    }
  ]
}