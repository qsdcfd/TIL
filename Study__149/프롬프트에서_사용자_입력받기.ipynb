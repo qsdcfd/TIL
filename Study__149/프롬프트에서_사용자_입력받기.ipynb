{
  "nbformat": 4,
  "nbformat_minor": 0,
  "metadata": {
    "colab": {
      "name": "프롬프트에서 사용자 입력받기",
      "provenance": [],
      "authorship_tag": "ABX9TyNYkneTm6rK3pGVSmYGcZok",
      "include_colab_link": true
    },
    "kernelspec": {
      "name": "python3",
      "display_name": "Python 3"
    },
    "language_info": {
      "name": "python"
    }
  },
  "cells": [
    {
      "cell_type": "markdown",
      "metadata": {
        "id": "view-in-github",
        "colab_type": "text"
      },
      "source": [
        "<a href=\"https://colab.research.google.com/github/qsdcfd/TIL/blob/TIL/Study__149/%ED%94%84%EB%A1%AC%ED%94%84%ED%8A%B8%EC%97%90%EC%84%9C_%EC%82%AC%EC%9A%A9%EC%9E%90_%EC%9E%85%EB%A0%A5%EB%B0%9B%EA%B8%B0.ipynb\" target=\"_parent\"><img src=\"https://colab.research.google.com/assets/colab-badge.svg\" alt=\"Open In Colab\"/></a>"
      ]
    },
    {
      "cell_type": "code",
      "source": [
        "your_name = input('Enter your name: ')\n",
        "print(\"Hello\", your_name)"
      ],
      "metadata": {
        "colab": {
          "base_uri": "https://localhost:8080/"
        },
        "id": "R7n13E48xUCf",
        "outputId": "8e05e659-7b2b-4959-d4c7-47c7d31afe70"
      },
      "execution_count": 8,
      "outputs": [
        {
          "output_type": "stream",
          "name": "stdout",
          "text": [
            "Enter your name: Chunck\n",
            "Hello Chunck\n"
          ]
        }
      ]
    },
    {
      "cell_type": "code",
      "source": [
        "hours = int(input('Enter Hours: '))\n",
        "Rate = float(input('Enter Rate: '))\n",
        "\n",
        "pay = hours * Rate\n",
        "\n",
        "print('Pay: ',pay)\n"
      ],
      "metadata": {
        "colab": {
          "base_uri": "https://localhost:8080/"
        },
        "id": "C93tnj2cxe7v",
        "outputId": "73823427-dfb1-4a3e-fc0f-a1acec9df996"
      },
      "execution_count": 10,
      "outputs": [
        {
          "output_type": "stream",
          "name": "stdout",
          "text": [
            "Enter Hours: 35\n",
            "Enter Rate: 2.75\n",
            "Pay:  96.25\n"
          ]
        }
      ]
    },
    {
      "cell_type": "code",
      "source": [
        ""
      ],
      "metadata": {
        "id": "C1NNMzGzyCzE"
      },
      "execution_count": null,
      "outputs": []
    }
  ]
}