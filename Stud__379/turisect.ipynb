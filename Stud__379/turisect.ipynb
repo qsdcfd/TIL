{
  "nbformat": 4,
  "nbformat_minor": 0,
  "metadata": {
    "colab": {
      "provenance": [],
      "authorship_tag": "ABX9TyOGAtOMSf7tlBFi4WPS0vIj"
    },
    "kernelspec": {
      "name": "python3",
      "display_name": "Python 3"
    },
    "language_info": {
      "name": "python"
    }
  },
  "cells": [
    {
      "cell_type": "code",
      "source": [
        "! pip install turicreate"
      ],
      "metadata": {
        "colab": {
          "base_uri": "https://localhost:8080/",
          "height": 1000
        },
        "id": "MdxI_3twHakU",
        "outputId": "59ad4049-f185-4042-83db-fe286bd8ad5a"
      },
      "execution_count": 2,
      "outputs": [
        {
          "output_type": "stream",
          "name": "stdout",
          "text": [
            "Looking in indexes: https://pypi.org/simple, https://us-python.pkg.dev/colab-wheels/public/simple/\n",
            "Collecting turicreate\n",
            "  Downloading turicreate-6.4.1-cp37-cp37m-manylinux1_x86_64.whl (92.0 MB)\n",
            "\u001b[K     |████████████████████████████████| 92.0 MB 1.1 MB/s \n",
            "\u001b[?25hRequirement already satisfied: decorator>=4.0.9 in /usr/local/lib/python3.7/dist-packages (from turicreate) (4.4.2)\n",
            "Collecting tensorflow<2.1.0,>=2.0.0\n",
            "  Downloading tensorflow-2.0.4-cp37-cp37m-manylinux2010_x86_64.whl (86.4 MB)\n",
            "\u001b[K     |████████████████████████████████| 86.4 MB 1.1 MB/s \n",
            "\u001b[?25hRequirement already satisfied: numpy in /usr/local/lib/python3.7/dist-packages (from turicreate) (1.21.6)\n",
            "Collecting coremltools==3.3\n",
            "  Downloading coremltools-3.3-cp37-none-manylinux1_x86_64.whl (3.5 MB)\n",
            "\u001b[K     |████████████████████████████████| 3.5 MB 40.9 MB/s \n",
            "\u001b[?25hRequirement already satisfied: pandas>=0.23.2 in /usr/local/lib/python3.7/dist-packages (from turicreate) (1.3.5)\n",
            "Collecting prettytable==0.7.2\n",
            "  Downloading prettytable-0.7.2.zip (28 kB)\n",
            "Collecting resampy==0.2.1\n",
            "  Downloading resampy-0.2.1.tar.gz (322 kB)\n",
            "\u001b[K     |████████████████████████████████| 322 kB 76.4 MB/s \n",
            "\u001b[?25hRequirement already satisfied: six>=1.10.0 in /usr/local/lib/python3.7/dist-packages (from turicreate) (1.15.0)\n",
            "Requirement already satisfied: pillow>=5.2.0 in /usr/local/lib/python3.7/dist-packages (from turicreate) (7.1.2)\n",
            "Requirement already satisfied: scipy>=1.1.0 in /usr/local/lib/python3.7/dist-packages (from turicreate) (1.7.3)\n",
            "Collecting numba<0.51.0\n",
            "  Downloading numba-0.50.1-cp37-cp37m-manylinux2014_x86_64.whl (3.6 MB)\n",
            "\u001b[K     |████████████████████████████████| 3.6 MB 50.8 MB/s \n",
            "\u001b[?25hRequirement already satisfied: requests>=2.9.1 in /usr/local/lib/python3.7/dist-packages (from turicreate) (2.23.0)\n",
            "Requirement already satisfied: protobuf>=3.1.0 in /usr/local/lib/python3.7/dist-packages (from coremltools==3.3->turicreate) (3.17.3)\n",
            "Collecting llvmlite<0.34,>=0.33.0.dev0\n",
            "  Downloading llvmlite-0.33.0-cp37-cp37m-manylinux1_x86_64.whl (18.3 MB)\n",
            "\u001b[K     |████████████████████████████████| 18.3 MB 488 kB/s \n",
            "\u001b[?25hRequirement already satisfied: setuptools in /usr/local/lib/python3.7/dist-packages (from numba<0.51.0->turicreate) (57.4.0)\n",
            "Requirement already satisfied: python-dateutil>=2.7.3 in /usr/local/lib/python3.7/dist-packages (from pandas>=0.23.2->turicreate) (2.8.2)\n",
            "Requirement already satisfied: pytz>=2017.3 in /usr/local/lib/python3.7/dist-packages (from pandas>=0.23.2->turicreate) (2022.2.1)\n",
            "Requirement already satisfied: certifi>=2017.4.17 in /usr/local/lib/python3.7/dist-packages (from requests>=2.9.1->turicreate) (2022.6.15)\n",
            "Requirement already satisfied: urllib3!=1.25.0,!=1.25.1,<1.26,>=1.21.1 in /usr/local/lib/python3.7/dist-packages (from requests>=2.9.1->turicreate) (1.24.3)\n",
            "Requirement already satisfied: chardet<4,>=3.0.2 in /usr/local/lib/python3.7/dist-packages (from requests>=2.9.1->turicreate) (3.0.4)\n",
            "Requirement already satisfied: idna<3,>=2.5 in /usr/local/lib/python3.7/dist-packages (from requests>=2.9.1->turicreate) (2.10)\n",
            "Collecting gast==0.2.2\n",
            "  Downloading gast-0.2.2.tar.gz (10 kB)\n",
            "Requirement already satisfied: termcolor>=1.1.0 in /usr/local/lib/python3.7/dist-packages (from tensorflow<2.1.0,>=2.0.0->turicreate) (1.1.0)\n",
            "Collecting h5py<=2.10.0\n",
            "  Downloading h5py-2.10.0-cp37-cp37m-manylinux1_x86_64.whl (2.9 MB)\n",
            "\u001b[K     |████████████████████████████████| 2.9 MB 47.0 MB/s \n",
            "\u001b[?25hRequirement already satisfied: opt-einsum>=2.3.2 in /usr/local/lib/python3.7/dist-packages (from tensorflow<2.1.0,>=2.0.0->turicreate) (3.3.0)\n",
            "Requirement already satisfied: google-pasta>=0.1.6 in /usr/local/lib/python3.7/dist-packages (from tensorflow<2.1.0,>=2.0.0->turicreate) (0.2.0)\n",
            "Requirement already satisfied: wrapt>=1.11.1 in /usr/local/lib/python3.7/dist-packages (from tensorflow<2.1.0,>=2.0.0->turicreate) (1.14.1)\n",
            "Requirement already satisfied: grpcio>=1.8.6 in /usr/local/lib/python3.7/dist-packages (from tensorflow<2.1.0,>=2.0.0->turicreate) (1.48.1)\n",
            "Requirement already satisfied: keras-preprocessing>=1.0.5 in /usr/local/lib/python3.7/dist-packages (from tensorflow<2.1.0,>=2.0.0->turicreate) (1.1.2)\n",
            "Collecting tensorboard<2.1.0,>=2.0.0\n",
            "  Downloading tensorboard-2.0.2-py3-none-any.whl (3.8 MB)\n",
            "\u001b[K     |████████████████████████████████| 3.8 MB 52.6 MB/s \n",
            "\u001b[?25hRequirement already satisfied: wheel>=0.26 in /usr/local/lib/python3.7/dist-packages (from tensorflow<2.1.0,>=2.0.0->turicreate) (0.37.1)\n",
            "Requirement already satisfied: absl-py>=0.7.0 in /usr/local/lib/python3.7/dist-packages (from tensorflow<2.1.0,>=2.0.0->turicreate) (1.2.0)\n",
            "Requirement already satisfied: astor>=0.6.0 in /usr/local/lib/python3.7/dist-packages (from tensorflow<2.1.0,>=2.0.0->turicreate) (0.8.1)\n",
            "Collecting keras-applications>=1.0.8\n",
            "  Downloading Keras_Applications-1.0.8-py3-none-any.whl (50 kB)\n",
            "\u001b[K     |████████████████████████████████| 50 kB 8.2 MB/s \n",
            "\u001b[?25hCollecting tensorflow-estimator<2.1.0,>=2.0.0\n",
            "  Downloading tensorflow_estimator-2.0.1-py2.py3-none-any.whl (449 kB)\n",
            "\u001b[K     |████████████████████████████████| 449 kB 78.7 MB/s \n",
            "\u001b[?25hCollecting numpy\n",
            "  Downloading numpy-1.18.5-cp37-cp37m-manylinux1_x86_64.whl (20.1 MB)\n",
            "\u001b[K     |████████████████████████████████| 20.1 MB 1.2 MB/s \n",
            "\u001b[?25hRequirement already satisfied: google-auth<2,>=1.6.3 in /usr/local/lib/python3.7/dist-packages (from tensorboard<2.1.0,>=2.0.0->tensorflow<2.1.0,>=2.0.0->turicreate) (1.35.0)\n",
            "Requirement already satisfied: google-auth-oauthlib<0.5,>=0.4.1 in /usr/local/lib/python3.7/dist-packages (from tensorboard<2.1.0,>=2.0.0->tensorflow<2.1.0,>=2.0.0->turicreate) (0.4.6)\n",
            "Requirement already satisfied: werkzeug>=0.11.15 in /usr/local/lib/python3.7/dist-packages (from tensorboard<2.1.0,>=2.0.0->tensorflow<2.1.0,>=2.0.0->turicreate) (1.0.1)\n",
            "Requirement already satisfied: markdown>=2.6.8 in /usr/local/lib/python3.7/dist-packages (from tensorboard<2.1.0,>=2.0.0->tensorflow<2.1.0,>=2.0.0->turicreate) (3.4.1)\n",
            "Requirement already satisfied: cachetools<5.0,>=2.0.0 in /usr/local/lib/python3.7/dist-packages (from google-auth<2,>=1.6.3->tensorboard<2.1.0,>=2.0.0->tensorflow<2.1.0,>=2.0.0->turicreate) (4.2.4)\n",
            "Requirement already satisfied: rsa<5,>=3.1.4 in /usr/local/lib/python3.7/dist-packages (from google-auth<2,>=1.6.3->tensorboard<2.1.0,>=2.0.0->tensorflow<2.1.0,>=2.0.0->turicreate) (4.9)\n",
            "Requirement already satisfied: pyasn1-modules>=0.2.1 in /usr/local/lib/python3.7/dist-packages (from google-auth<2,>=1.6.3->tensorboard<2.1.0,>=2.0.0->tensorflow<2.1.0,>=2.0.0->turicreate) (0.2.8)\n",
            "Requirement already satisfied: requests-oauthlib>=0.7.0 in /usr/local/lib/python3.7/dist-packages (from google-auth-oauthlib<0.5,>=0.4.1->tensorboard<2.1.0,>=2.0.0->tensorflow<2.1.0,>=2.0.0->turicreate) (1.3.1)\n",
            "Requirement already satisfied: importlib-metadata>=4.4 in /usr/local/lib/python3.7/dist-packages (from markdown>=2.6.8->tensorboard<2.1.0,>=2.0.0->tensorflow<2.1.0,>=2.0.0->turicreate) (4.12.0)\n",
            "Requirement already satisfied: typing-extensions>=3.6.4 in /usr/local/lib/python3.7/dist-packages (from importlib-metadata>=4.4->markdown>=2.6.8->tensorboard<2.1.0,>=2.0.0->tensorflow<2.1.0,>=2.0.0->turicreate) (4.1.1)\n",
            "Requirement already satisfied: zipp>=0.5 in /usr/local/lib/python3.7/dist-packages (from importlib-metadata>=4.4->markdown>=2.6.8->tensorboard<2.1.0,>=2.0.0->tensorflow<2.1.0,>=2.0.0->turicreate) (3.8.1)\n",
            "Requirement already satisfied: pyasn1<0.5.0,>=0.4.6 in /usr/local/lib/python3.7/dist-packages (from pyasn1-modules>=0.2.1->google-auth<2,>=1.6.3->tensorboard<2.1.0,>=2.0.0->tensorflow<2.1.0,>=2.0.0->turicreate) (0.4.8)\n",
            "Requirement already satisfied: oauthlib>=3.0.0 in /usr/local/lib/python3.7/dist-packages (from requests-oauthlib>=0.7.0->google-auth-oauthlib<0.5,>=0.4.1->tensorboard<2.1.0,>=2.0.0->tensorflow<2.1.0,>=2.0.0->turicreate) (3.2.0)\n",
            "Building wheels for collected packages: prettytable, resampy, gast\n",
            "  Building wheel for prettytable (setup.py) ... \u001b[?25l\u001b[?25hdone\n",
            "  Created wheel for prettytable: filename=prettytable-0.7.2-py3-none-any.whl size=13714 sha256=a94d8d2dc4f584a673759d4f66ef83c4a5be920f426f9751e3e8d32a34f8ce9c\n",
            "  Stored in directory: /root/.cache/pip/wheels/b2/7f/f6/f180315b584f00445045ff1699b550fa895d09471337ce21c6\n",
            "  Building wheel for resampy (setup.py) ... \u001b[?25l\u001b[?25hdone\n",
            "  Created wheel for resampy: filename=resampy-0.2.1-py3-none-any.whl size=320859 sha256=ea664e075f1628a1876ba6eed0d4a4d46e8e8e750c66ae40e46fd090a6b52b85\n",
            "  Stored in directory: /root/.cache/pip/wheels/71/74/53/d5ceb7c5ee7a168c7d106041863e71ac3273f4a4677743a284\n",
            "  Building wheel for gast (setup.py) ... \u001b[?25l\u001b[?25hdone\n",
            "  Created wheel for gast: filename=gast-0.2.2-py3-none-any.whl size=7554 sha256=aadd0cc8cf669dd2a90bcec4b02330601abedb1bf3b4c60466da16658fb58ce1\n",
            "  Stored in directory: /root/.cache/pip/wheels/21/7f/02/420f32a803f7d0967b48dd823da3f558c5166991bfd204eef3\n",
            "Successfully built prettytable resampy gast\n",
            "Installing collected packages: numpy, llvmlite, h5py, tensorflow-estimator, tensorboard, numba, keras-applications, gast, tensorflow, resampy, prettytable, coremltools, turicreate\n",
            "  Attempting uninstall: numpy\n",
            "    Found existing installation: numpy 1.21.6\n",
            "    Uninstalling numpy-1.21.6:\n",
            "      Successfully uninstalled numpy-1.21.6\n",
            "  Attempting uninstall: llvmlite\n",
            "    Found existing installation: llvmlite 0.39.1\n",
            "    Uninstalling llvmlite-0.39.1:\n",
            "      Successfully uninstalled llvmlite-0.39.1\n",
            "  Attempting uninstall: h5py\n",
            "    Found existing installation: h5py 3.1.0\n",
            "    Uninstalling h5py-3.1.0:\n",
            "      Successfully uninstalled h5py-3.1.0\n",
            "  Attempting uninstall: tensorflow-estimator\n",
            "    Found existing installation: tensorflow-estimator 2.8.0\n",
            "    Uninstalling tensorflow-estimator-2.8.0:\n",
            "      Successfully uninstalled tensorflow-estimator-2.8.0\n",
            "  Attempting uninstall: tensorboard\n",
            "    Found existing installation: tensorboard 2.8.0\n",
            "    Uninstalling tensorboard-2.8.0:\n",
            "      Successfully uninstalled tensorboard-2.8.0\n",
            "  Attempting uninstall: numba\n",
            "    Found existing installation: numba 0.56.2\n",
            "    Uninstalling numba-0.56.2:\n",
            "      Successfully uninstalled numba-0.56.2\n",
            "  Attempting uninstall: gast\n",
            "    Found existing installation: gast 0.5.3\n",
            "    Uninstalling gast-0.5.3:\n",
            "      Successfully uninstalled gast-0.5.3\n",
            "  Attempting uninstall: tensorflow\n",
            "    Found existing installation: tensorflow 2.8.2+zzzcolab20220719082949\n",
            "    Uninstalling tensorflow-2.8.2+zzzcolab20220719082949:\n",
            "      Successfully uninstalled tensorflow-2.8.2+zzzcolab20220719082949\n",
            "  Attempting uninstall: resampy\n",
            "    Found existing installation: resampy 0.4.0\n",
            "    Uninstalling resampy-0.4.0:\n",
            "      Successfully uninstalled resampy-0.4.0\n",
            "  Attempting uninstall: prettytable\n",
            "    Found existing installation: prettytable 3.4.1\n",
            "    Uninstalling prettytable-3.4.1:\n",
            "      Successfully uninstalled prettytable-3.4.1\n",
            "\u001b[31mERROR: pip's dependency resolver does not currently take into account all the packages that are installed. This behaviour is the source of the following dependency conflicts.\n",
            "xarray-einstats 0.2.2 requires numpy>=1.21, but you have numpy 1.18.5 which is incompatible.\n",
            "tensorflow-probability 0.16.0 requires gast>=0.3.2, but you have gast 0.2.2 which is incompatible.\n",
            "tables 3.7.0 requires numpy>=1.19.0, but you have numpy 1.18.5 which is incompatible.\n",
            "plotnine 0.8.0 requires numpy>=1.19.0, but you have numpy 1.18.5 which is incompatible.\n",
            "librosa 0.8.1 requires resampy>=0.2.2, but you have resampy 0.2.1 which is incompatible.\n",
            "jaxlib 0.3.15+cuda11.cudnn805 requires numpy>=1.19, but you have numpy 1.18.5 which is incompatible.\n",
            "jax 0.3.17 requires numpy>=1.20, but you have numpy 1.18.5 which is incompatible.\n",
            "cmdstanpy 1.0.7 requires numpy>=1.21, but you have numpy 1.18.5 which is incompatible.\u001b[0m\n",
            "Successfully installed coremltools-3.3 gast-0.2.2 h5py-2.10.0 keras-applications-1.0.8 llvmlite-0.33.0 numba-0.50.1 numpy-1.18.5 prettytable-0.7.2 resampy-0.2.1 tensorboard-2.0.2 tensorflow-2.0.4 tensorflow-estimator-2.0.1 turicreate-6.4.1\n"
          ]
        },
        {
          "output_type": "display_data",
          "data": {
            "application/vnd.colab-display-data+json": {
              "pip_warning": {
                "packages": [
                  "numpy"
                ]
              }
            }
          },
          "metadata": {}
        }
      ]
    },
    {
      "cell_type": "code",
      "execution_count": 1,
      "metadata": {
        "id": "b0PVkfzrGpWe"
      },
      "outputs": [],
      "source": [
        "import pandas as pd\n",
        "\n",
        "movies = pd.read_csv('./movie.csv')\n",
        "ratings = pd.read_csv('./rating.csv')\n",
        "full_data = ratings.merge(movies, how='left', on='movieId')\n",
        "full_data.to_csv('./clean_ratings.csv')"
      ]
    },
    {
      "cell_type": "code",
      "source": [],
      "metadata": {
        "id": "yxFcJluoHphb"
      },
      "execution_count": null,
      "outputs": []
    },
    {
      "cell_type": "code",
      "source": [
        "import turicreate as tc\n",
        "\n",
        "data = tc.SFrame.read_csv('clean_ratings.csv')\n",
        "train, test = tc.recommender.util.random_split_by_user(data, 'userId', 'title')"
      ],
      "metadata": {
        "colab": {
          "base_uri": "https://localhost:8080/",
          "height": 215
        },
        "id": "9AKAFEDgHZAn",
        "outputId": "fa31b1bf-1624-4182-ba4b-c8788c0d18b8"
      },
      "execution_count": 2,
      "outputs": [
        {
          "output_type": "display_data",
          "data": {
            "text/plain": [
              "Finished parsing file /content/clean_ratings.csv"
            ],
            "text/html": [
              "<pre>Finished parsing file /content/clean_ratings.csv</pre>"
            ]
          },
          "metadata": {}
        },
        {
          "output_type": "display_data",
          "data": {
            "text/plain": [
              "Parsing completed. Parsed 100 lines in 3.07998 secs."
            ],
            "text/html": [
              "<pre>Parsing completed. Parsed 100 lines in 3.07998 secs.</pre>"
            ]
          },
          "metadata": {}
        },
        {
          "output_type": "stream",
          "name": "stdout",
          "text": [
            "------------------------------------------------------\n",
            "Inferred types from first 100 line(s) of file as \n",
            "column_type_hints=[int,int,int,float,str,str,str]\n",
            "If parsing fails due to incorrect types, you can correct\n",
            "the inferred type list above and pass it to read_csv in\n",
            "the column_type_hints argument\n",
            "------------------------------------------------------\n"
          ]
        },
        {
          "output_type": "display_data",
          "data": {
            "text/plain": [
              "Finished parsing file /content/clean_ratings.csv"
            ],
            "text/html": [
              "<pre>Finished parsing file /content/clean_ratings.csv</pre>"
            ]
          },
          "metadata": {}
        },
        {
          "output_type": "display_data",
          "data": {
            "text/plain": [
              "Parsing completed. Parsed 571382 lines in 1.71106 secs."
            ],
            "text/html": [
              "<pre>Parsing completed. Parsed 571382 lines in 1.71106 secs.</pre>"
            ]
          },
          "metadata": {}
        }
      ]
    },
    {
      "cell_type": "code",
      "source": [
        "\n",
        "model = tc.recommender.create(train, 'userId', 'title', target='rating')\n",
        "\n",
        "# Recommendations for all users\n",
        "results = model.recommend()"
      ],
      "metadata": {
        "colab": {
          "base_uri": "https://localhost:8080/",
          "height": 954
        },
        "id": "-IvW4afCHeS1",
        "outputId": "540e3526-83b0-46ac-c334-1aa2719ef9ae"
      },
      "execution_count": 3,
      "outputs": [
        {
          "output_type": "display_data",
          "data": {
            "text/plain": [
              "Preparing data set."
            ],
            "text/html": [
              "<pre>Preparing data set.</pre>"
            ]
          },
          "metadata": {}
        },
        {
          "output_type": "display_data",
          "data": {
            "text/plain": [
              "    Data has 540314 observations with 3846 users and 12651 items."
            ],
            "text/html": [
              "<pre>    Data has 540314 observations with 3846 users and 12651 items.</pre>"
            ]
          },
          "metadata": {}
        },
        {
          "output_type": "display_data",
          "data": {
            "text/plain": [
              "    Data prepared in: 2.18168s"
            ],
            "text/html": [
              "<pre>    Data prepared in: 2.18168s</pre>"
            ]
          },
          "metadata": {}
        },
        {
          "output_type": "display_data",
          "data": {
            "text/plain": [
              "Training ranking_factorization_recommender for recommendations."
            ],
            "text/html": [
              "<pre>Training ranking_factorization_recommender for recommendations.</pre>"
            ]
          },
          "metadata": {}
        },
        {
          "output_type": "display_data",
          "data": {
            "text/plain": [
              "+--------------------------------+--------------------------------------------------+----------+"
            ],
            "text/html": [
              "<pre>+--------------------------------+--------------------------------------------------+----------+</pre>"
            ]
          },
          "metadata": {}
        },
        {
          "output_type": "display_data",
          "data": {
            "text/plain": [
              "| Parameter                      | Description                                      | Value    |"
            ],
            "text/html": [
              "<pre>| Parameter                      | Description                                      | Value    |</pre>"
            ]
          },
          "metadata": {}
        },
        {
          "output_type": "display_data",
          "data": {
            "text/plain": [
              "+--------------------------------+--------------------------------------------------+----------+"
            ],
            "text/html": [
              "<pre>+--------------------------------+--------------------------------------------------+----------+</pre>"
            ]
          },
          "metadata": {}
        },
        {
          "output_type": "display_data",
          "data": {
            "text/plain": [
              "| num_factors                    | Factor Dimension                                 | 32       |"
            ],
            "text/html": [
              "<pre>| num_factors                    | Factor Dimension                                 | 32       |</pre>"
            ]
          },
          "metadata": {}
        },
        {
          "output_type": "display_data",
          "data": {
            "text/plain": [
              "| regularization                 | L2 Regularization on Factors                     | 1e-09    |"
            ],
            "text/html": [
              "<pre>| regularization                 | L2 Regularization on Factors                     | 1e-09    |</pre>"
            ]
          },
          "metadata": {}
        },
        {
          "output_type": "display_data",
          "data": {
            "text/plain": [
              "| solver                         | Solver used for training                         | adagrad  |"
            ],
            "text/html": [
              "<pre>| solver                         | Solver used for training                         | adagrad  |</pre>"
            ]
          },
          "metadata": {}
        },
        {
          "output_type": "display_data",
          "data": {
            "text/plain": [
              "| linear_regularization          | L2 Regularization on Linear Coefficients         | 1e-09    |"
            ],
            "text/html": [
              "<pre>| linear_regularization          | L2 Regularization on Linear Coefficients         | 1e-09    |</pre>"
            ]
          },
          "metadata": {}
        },
        {
          "output_type": "display_data",
          "data": {
            "text/plain": [
              "| ranking_regularization         | Rank-based Regularization Weight                 | 0.25     |"
            ],
            "text/html": [
              "<pre>| ranking_regularization         | Rank-based Regularization Weight                 | 0.25     |</pre>"
            ]
          },
          "metadata": {}
        },
        {
          "output_type": "display_data",
          "data": {
            "text/plain": [
              "| max_iterations                 | Maximum Number of Iterations                     | 25       |"
            ],
            "text/html": [
              "<pre>| max_iterations                 | Maximum Number of Iterations                     | 25       |</pre>"
            ]
          },
          "metadata": {}
        },
        {
          "output_type": "display_data",
          "data": {
            "text/plain": [
              "+--------------------------------+--------------------------------------------------+----------+"
            ],
            "text/html": [
              "<pre>+--------------------------------+--------------------------------------------------+----------+</pre>"
            ]
          },
          "metadata": {}
        },
        {
          "output_type": "display_data",
          "data": {
            "text/plain": [
              "  Optimizing model using SGD; tuning step size."
            ],
            "text/html": [
              "<pre>  Optimizing model using SGD; tuning step size.</pre>"
            ]
          },
          "metadata": {}
        },
        {
          "output_type": "display_data",
          "data": {
            "text/plain": [
              "  Using 67539 / 540314 points for tuning the step size."
            ],
            "text/html": [
              "<pre>  Using 67539 / 540314 points for tuning the step size.</pre>"
            ]
          },
          "metadata": {}
        },
        {
          "output_type": "display_data",
          "data": {
            "text/plain": [
              "+---------+-------------------+------------------------------------------+"
            ],
            "text/html": [
              "<pre>+---------+-------------------+------------------------------------------+</pre>"
            ]
          },
          "metadata": {}
        },
        {
          "output_type": "display_data",
          "data": {
            "text/plain": [
              "| Attempt | Initial Step Size | Estimated Objective Value                |"
            ],
            "text/html": [
              "<pre>| Attempt | Initial Step Size | Estimated Objective Value                |</pre>"
            ]
          },
          "metadata": {}
        },
        {
          "output_type": "display_data",
          "data": {
            "text/plain": [
              "+---------+-------------------+------------------------------------------+"
            ],
            "text/html": [
              "<pre>+---------+-------------------+------------------------------------------+</pre>"
            ]
          },
          "metadata": {}
        },
        {
          "output_type": "display_data",
          "data": {
            "text/plain": [
              "| 0       | 8.33333           | Not Viable                               |"
            ],
            "text/html": [
              "<pre>| 0       | 8.33333           | Not Viable                               |</pre>"
            ]
          },
          "metadata": {}
        },
        {
          "output_type": "display_data",
          "data": {
            "text/plain": [
              "| 1       | 2.08333           | Not Viable                               |"
            ],
            "text/html": [
              "<pre>| 1       | 2.08333           | Not Viable                               |</pre>"
            ]
          },
          "metadata": {}
        },
        {
          "output_type": "display_data",
          "data": {
            "text/plain": [
              "| 2       | 0.520833          | Not Viable                               |"
            ],
            "text/html": [
              "<pre>| 2       | 0.520833          | Not Viable                               |</pre>"
            ]
          },
          "metadata": {}
        },
        {
          "output_type": "display_data",
          "data": {
            "text/plain": [
              "| 3       | 0.130208          | Not Viable                               |"
            ],
            "text/html": [
              "<pre>| 3       | 0.130208          | Not Viable                               |</pre>"
            ]
          },
          "metadata": {}
        },
        {
          "output_type": "display_data",
          "data": {
            "text/plain": [
              "| 4       | 0.0325521         | 1.2211                                   |"
            ],
            "text/html": [
              "<pre>| 4       | 0.0325521         | 1.2211                                   |</pre>"
            ]
          },
          "metadata": {}
        },
        {
          "output_type": "display_data",
          "data": {
            "text/plain": [
              "| 5       | 0.016276          | 1.19294                                  |"
            ],
            "text/html": [
              "<pre>| 5       | 0.016276          | 1.19294                                  |</pre>"
            ]
          },
          "metadata": {}
        },
        {
          "output_type": "display_data",
          "data": {
            "text/plain": [
              "| 6       | 0.00813802        | 1.96403                                  |"
            ],
            "text/html": [
              "<pre>| 6       | 0.00813802        | 1.96403                                  |</pre>"
            ]
          },
          "metadata": {}
        },
        {
          "output_type": "display_data",
          "data": {
            "text/plain": [
              "| 7       | 0.00406901        | 1.73932                                  |"
            ],
            "text/html": [
              "<pre>| 7       | 0.00406901        | 1.73932                                  |</pre>"
            ]
          },
          "metadata": {}
        },
        {
          "output_type": "display_data",
          "data": {
            "text/plain": [
              "| 8       | 0.00203451        | 1.90982                                  |"
            ],
            "text/html": [
              "<pre>| 8       | 0.00203451        | 1.90982                                  |</pre>"
            ]
          },
          "metadata": {}
        },
        {
          "output_type": "display_data",
          "data": {
            "text/plain": [
              "+---------+-------------------+------------------------------------------+"
            ],
            "text/html": [
              "<pre>+---------+-------------------+------------------------------------------+</pre>"
            ]
          },
          "metadata": {}
        },
        {
          "output_type": "display_data",
          "data": {
            "text/plain": [
              "| Final   | 0.016276          | 1.19294                                  |"
            ],
            "text/html": [
              "<pre>| Final   | 0.016276          | 1.19294                                  |</pre>"
            ]
          },
          "metadata": {}
        },
        {
          "output_type": "display_data",
          "data": {
            "text/plain": [
              "+---------+-------------------+------------------------------------------+"
            ],
            "text/html": [
              "<pre>+---------+-------------------+------------------------------------------+</pre>"
            ]
          },
          "metadata": {}
        },
        {
          "output_type": "display_data",
          "data": {
            "text/plain": [
              "Starting Optimization."
            ],
            "text/html": [
              "<pre>Starting Optimization.</pre>"
            ]
          },
          "metadata": {}
        },
        {
          "output_type": "display_data",
          "data": {
            "text/plain": [
              "+---------+--------------+-------------------+-----------------------+-------------+"
            ],
            "text/html": [
              "<pre>+---------+--------------+-------------------+-----------------------+-------------+</pre>"
            ]
          },
          "metadata": {}
        },
        {
          "output_type": "display_data",
          "data": {
            "text/plain": [
              "| Iter.   | Elapsed Time | Approx. Objective | Approx. Training RMSE | Step Size   |"
            ],
            "text/html": [
              "<pre>| Iter.   | Elapsed Time | Approx. Objective | Approx. Training RMSE | Step Size   |</pre>"
            ]
          },
          "metadata": {}
        },
        {
          "output_type": "display_data",
          "data": {
            "text/plain": [
              "+---------+--------------+-------------------+-----------------------+-------------+"
            ],
            "text/html": [
              "<pre>+---------+--------------+-------------------+-----------------------+-------------+</pre>"
            ]
          },
          "metadata": {}
        },
        {
          "output_type": "display_data",
          "data": {
            "text/plain": [
              "| Initial | 121us        | 2.17727           | 1.05379               |             |"
            ],
            "text/html": [
              "<pre>| Initial | 121us        | 2.17727           | 1.05379               |             |</pre>"
            ]
          },
          "metadata": {}
        },
        {
          "output_type": "display_data",
          "data": {
            "text/plain": [
              "+---------+--------------+-------------------+-----------------------+-------------+"
            ],
            "text/html": [
              "<pre>+---------+--------------+-------------------+-----------------------+-------------+</pre>"
            ]
          },
          "metadata": {}
        },
        {
          "output_type": "display_data",
          "data": {
            "text/plain": [
              "| 1       | 1.79s        | 2.00096           | 1.09317               | 0.016276    |"
            ],
            "text/html": [
              "<pre>| 1       | 1.79s        | 2.00096           | 1.09317               | 0.016276    |</pre>"
            ]
          },
          "metadata": {}
        },
        {
          "output_type": "display_data",
          "data": {
            "text/plain": [
              "| 2       | 3.57s        | 1.45342           | 0.894293              | 0.016276    |"
            ],
            "text/html": [
              "<pre>| 2       | 3.57s        | 1.45342           | 0.894293              | 0.016276    |</pre>"
            ]
          },
          "metadata": {}
        },
        {
          "output_type": "display_data",
          "data": {
            "text/plain": [
              "| 3       | 5.34s        | 1.22516           | 0.808785              | 0.016276    |"
            ],
            "text/html": [
              "<pre>| 3       | 5.34s        | 1.22516           | 0.808785              | 0.016276    |</pre>"
            ]
          },
          "metadata": {}
        },
        {
          "output_type": "display_data",
          "data": {
            "text/plain": [
              "| 4       | 7.07s        | 1.08025           | 0.752992              | 0.016276    |"
            ],
            "text/html": [
              "<pre>| 4       | 7.07s        | 1.08025           | 0.752992              | 0.016276    |</pre>"
            ]
          },
          "metadata": {}
        },
        {
          "output_type": "display_data",
          "data": {
            "text/plain": [
              "| 5       | 8.81s        | 0.969229          | 0.712181              | 0.016276    |"
            ],
            "text/html": [
              "<pre>| 5       | 8.81s        | 0.969229          | 0.712181              | 0.016276    |</pre>"
            ]
          },
          "metadata": {}
        },
        {
          "output_type": "display_data",
          "data": {
            "text/plain": [
              "| 10      | 17.12s       | 0.672019          | 0.593138              | 0.016276    |"
            ],
            "text/html": [
              "<pre>| 10      | 17.12s       | 0.672019          | 0.593138              | 0.016276    |</pre>"
            ]
          },
          "metadata": {}
        },
        {
          "output_type": "display_data",
          "data": {
            "text/plain": [
              "| 15      | 25.27s       | 0.918564          | 0.764465              | 0.016276    |"
            ],
            "text/html": [
              "<pre>| 15      | 25.27s       | 0.918564          | 0.764465              | 0.016276    |</pre>"
            ]
          },
          "metadata": {}
        },
        {
          "output_type": "display_data",
          "data": {
            "text/plain": [
              "| 20      | 33.50s       | 0.715998          | 0.679581              | 0.016276    |"
            ],
            "text/html": [
              "<pre>| 20      | 33.50s       | 0.715998          | 0.679581              | 0.016276    |</pre>"
            ]
          },
          "metadata": {}
        },
        {
          "output_type": "display_data",
          "data": {
            "text/plain": [
              "| 25      | 41.51s       | 0.534889          | 0.573102              | 0.016276    |"
            ],
            "text/html": [
              "<pre>| 25      | 41.51s       | 0.534889          | 0.573102              | 0.016276    |</pre>"
            ]
          },
          "metadata": {}
        },
        {
          "output_type": "display_data",
          "data": {
            "text/plain": [
              "+---------+--------------+-------------------+-----------------------+-------------+"
            ],
            "text/html": [
              "<pre>+---------+--------------+-------------------+-----------------------+-------------+</pre>"
            ]
          },
          "metadata": {}
        },
        {
          "output_type": "display_data",
          "data": {
            "text/plain": [
              "Optimization Complete: Maximum number of passes through the data reached."
            ],
            "text/html": [
              "<pre>Optimization Complete: Maximum number of passes through the data reached.</pre>"
            ]
          },
          "metadata": {}
        },
        {
          "output_type": "display_data",
          "data": {
            "text/plain": [
              "Computing final objective value and training RMSE."
            ],
            "text/html": [
              "<pre>Computing final objective value and training RMSE.</pre>"
            ]
          },
          "metadata": {}
        },
        {
          "output_type": "display_data",
          "data": {
            "text/plain": [
              "       Final objective value: 0.514523"
            ],
            "text/html": [
              "<pre>       Final objective value: 0.514523</pre>"
            ]
          },
          "metadata": {}
        },
        {
          "output_type": "display_data",
          "data": {
            "text/plain": [
              "       Final training RMSE: 0.556741"
            ],
            "text/html": [
              "<pre>       Final training RMSE: 0.556741</pre>"
            ]
          },
          "metadata": {}
        },
        {
          "output_type": "display_data",
          "data": {
            "text/plain": [
              "recommendations finished on 1000/3846 queries. users per second: 1527.34"
            ],
            "text/html": [
              "<pre>recommendations finished on 1000/3846 queries. users per second: 1527.34</pre>"
            ]
          },
          "metadata": {}
        },
        {
          "output_type": "display_data",
          "data": {
            "text/plain": [
              "recommendations finished on 2000/3846 queries. users per second: 1528.76"
            ],
            "text/html": [
              "<pre>recommendations finished on 2000/3846 queries. users per second: 1528.76</pre>"
            ]
          },
          "metadata": {}
        },
        {
          "output_type": "display_data",
          "data": {
            "text/plain": [
              "recommendations finished on 3000/3846 queries. users per second: 1521.85"
            ],
            "text/html": [
              "<pre>recommendations finished on 3000/3846 queries. users per second: 1521.85</pre>"
            ]
          },
          "metadata": {}
        }
      ]
    },
    {
      "cell_type": "code",
      "source": [
        "recommendations = model.recommend(users=[1, 30, 138491])\n",
        "recommendations.print_rows(num_rows=30, num_columns=4)"
      ],
      "metadata": {
        "colab": {
          "base_uri": "https://localhost:8080/"
        },
        "id": "OOBom88WTys-",
        "outputId": "6d61a1e9-52f2-4802-c65c-9d83530d58cd"
      },
      "execution_count": 4,
      "outputs": [
        {
          "output_type": "stream",
          "name": "stdout",
          "text": [
            "+--------+-------------------------------+--------------------+------+\n",
            "| userId |             title             |       score        | rank |\n",
            "+--------+-------------------------------+--------------------+------+\n",
            "|   1    |   Princess Bride, The (1987)  | 4.181172024264837  |  1   |\n",
            "|   1    |    Wizard of Oz, The (1939)   | 4.157594498053099  |  2   |\n",
            "|   1    |   Blues Brothers, The (1980)  |  4.08572193588307  |  3   |\n",
            "|   1    |         Brazil (1985)         | 4.0813398918061505 |  4   |\n",
            "|   1    |   Clockwork Orange, A (1971)  | 4.079682390943075  |  5   |\n",
            "|   1    |      Trainspotting (1996)     | 4.078340228453184  |  6   |\n",
            "|   1    |        Outbreak (1995)        | 4.072718497171904  |  7   |\n",
            "|   1    |     Thelma & Louise (1991)    | 4.0295099725871335 |  8   |\n",
            "|   1    |  Being John Malkovich (1999)  | 4.023838992968107  |  9   |\n",
            "|   1    |      Citizen Kane (1941)      | 4.021632905855681  |  10  |\n",
            "|   30   | Twelve Monkeys (a.k.a. 12 ... | 4.539844851747061  |  1   |\n",
            "|   30   |    Wizard of Oz, The (1939)   | 4.237278502240683  |  2   |\n",
            "|   30   | Pirates of the Caribbean: ... | 4.219357143893744  |  3   |\n",
            "|   30   |   Clockwork Orange, A (1971)  | 4.205791156545187  |  4   |\n",
            "|   30   |      Trainspotting (1996)     | 4.184898834481741  |  5   |\n",
            "|   30   | Monty Python and the Holy ... | 4.183927189364935  |  6   |\n",
            "|   30   |         Brazil (1985)         | 4.170648228183294  |  7   |\n",
            "|   30   |      Citizen Kane (1941)      | 4.150179248109366  |  8   |\n",
            "|   30   | Willy Wonka & the Chocolat... | 4.144459884419943  |  9   |\n",
            "|   30   | Run Lola Run (Lola rennt) ... | 4.143019538178946  |  10  |\n",
            "| 138491 | Twelve Monkeys (a.k.a. 12 ... | 4.526583086505438  |  1   |\n",
            "| 138491 |   Princess Bride, The (1987)  | 4.370656858935858  |  2   |\n",
            "| 138491 | Silence of the Lambs, The ... | 4.295102249637152  |  3   |\n",
            "| 138491 |    Sixth Sense, The (1999)    | 4.261668216243292  |  4   |\n",
            "| 138491 | Eternal Sunshine of the Sp... | 4.246589075580145  |  5   |\n",
            "| 138491 | Monty Python and the Holy ... | 4.210038613334204  |  6   |\n",
            "| 138491 |    Wizard of Oz, The (1939)   | 4.191117834105993  |  7   |\n",
            "| 138491 | Harry Potter and the Priso... | 4.1748511305003415 |  8   |\n",
            "| 138491 | Lord of the Rings: The Ret... | 4.156042467608954  |  9   |\n",
            "| 138491 | O Brother, Where Art Thou?... |  4.14973695184281  |  10  |\n",
            "+--------+-------------------------------+--------------------+------+\n",
            "[30 rows x 4 columns]\n",
            "\n"
          ]
        }
      ]
    },
    {
      "cell_type": "code",
      "source": [
        "# Recommendations for new users\n",
        "new_user = model.recommend([139000])\n",
        "\n",
        "# New user and limiting number of recommendations\n",
        "lim_3 = model.recommend(users=[139000], k=3)\n",
        "\n",
        "# Include items seen during training\n",
        "with_seen = model.recommend(users=[1], exclude_known=False)"
      ],
      "metadata": {
        "id": "XPPTm8w2T8XY"
      },
      "execution_count": 5,
      "outputs": []
    },
    {
      "cell_type": "code",
      "source": [
        "# Save model\n",
        "model.save('movie_recs.model')\n",
        "\n",
        "# Reload model\n",
        "model = tc.load_model('movie_recs.model')"
      ],
      "metadata": {
        "id": "kANMCdf8UAjU"
      },
      "execution_count": 6,
      "outputs": []
    },
    {
      "cell_type": "code",
      "source": [
        "# Predict the rating a user would give an item\n",
        "f_model = tc.factorization_recommender.create(train, user_id='userId', item_id='title', target='rating')\n",
        "f_results = f_model.recommend(users=[1, 30, 138491], k=3)\n",
        "\n",
        "\n",
        "# Predict how likely it is that a user would rate the movie highly\n",
        "# Absolute values of predicted scores may not match actual ratings\n",
        "s_model = tc.item_similarity_recommender.create(train, 'userId', 'title', target='rating')\n",
        "s_results = s_model.recommend(users=[1, 30, 138491], k=3)"
      ],
      "metadata": {
        "colab": {
          "base_uri": "https://localhost:8080/",
          "height": 1000
        },
        "id": "UB7nP30wUKsd",
        "outputId": "53639b8f-2f69-43f2-8788-ca5fac4fd5b0"
      },
      "execution_count": 7,
      "outputs": [
        {
          "output_type": "display_data",
          "data": {
            "text/plain": [
              "Preparing data set."
            ],
            "text/html": [
              "<pre>Preparing data set.</pre>"
            ]
          },
          "metadata": {}
        },
        {
          "output_type": "display_data",
          "data": {
            "text/plain": [
              "    Data has 540314 observations with 3846 users and 12651 items."
            ],
            "text/html": [
              "<pre>    Data has 540314 observations with 3846 users and 12651 items.</pre>"
            ]
          },
          "metadata": {}
        },
        {
          "output_type": "display_data",
          "data": {
            "text/plain": [
              "    Data prepared in: 1.0083s"
            ],
            "text/html": [
              "<pre>    Data prepared in: 1.0083s</pre>"
            ]
          },
          "metadata": {}
        },
        {
          "output_type": "display_data",
          "data": {
            "text/plain": [
              "Training factorization_recommender for recommendations."
            ],
            "text/html": [
              "<pre>Training factorization_recommender for recommendations.</pre>"
            ]
          },
          "metadata": {}
        },
        {
          "output_type": "display_data",
          "data": {
            "text/plain": [
              "+--------------------------------+--------------------------------------------------+----------+"
            ],
            "text/html": [
              "<pre>+--------------------------------+--------------------------------------------------+----------+</pre>"
            ]
          },
          "metadata": {}
        },
        {
          "output_type": "display_data",
          "data": {
            "text/plain": [
              "| Parameter                      | Description                                      | Value    |"
            ],
            "text/html": [
              "<pre>| Parameter                      | Description                                      | Value    |</pre>"
            ]
          },
          "metadata": {}
        },
        {
          "output_type": "display_data",
          "data": {
            "text/plain": [
              "+--------------------------------+--------------------------------------------------+----------+"
            ],
            "text/html": [
              "<pre>+--------------------------------+--------------------------------------------------+----------+</pre>"
            ]
          },
          "metadata": {}
        },
        {
          "output_type": "display_data",
          "data": {
            "text/plain": [
              "| num_factors                    | Factor Dimension                                 | 8        |"
            ],
            "text/html": [
              "<pre>| num_factors                    | Factor Dimension                                 | 8        |</pre>"
            ]
          },
          "metadata": {}
        },
        {
          "output_type": "display_data",
          "data": {
            "text/plain": [
              "| regularization                 | L2 Regularization on Factors                     | 1e-08    |"
            ],
            "text/html": [
              "<pre>| regularization                 | L2 Regularization on Factors                     | 1e-08    |</pre>"
            ]
          },
          "metadata": {}
        },
        {
          "output_type": "display_data",
          "data": {
            "text/plain": [
              "| solver                         | Solver used for training                         | adagrad  |"
            ],
            "text/html": [
              "<pre>| solver                         | Solver used for training                         | adagrad  |</pre>"
            ]
          },
          "metadata": {}
        },
        {
          "output_type": "display_data",
          "data": {
            "text/plain": [
              "| linear_regularization          | L2 Regularization on Linear Coefficients         | 1e-10    |"
            ],
            "text/html": [
              "<pre>| linear_regularization          | L2 Regularization on Linear Coefficients         | 1e-10    |</pre>"
            ]
          },
          "metadata": {}
        },
        {
          "output_type": "display_data",
          "data": {
            "text/plain": [
              "| max_iterations                 | Maximum Number of Iterations                     | 50       |"
            ],
            "text/html": [
              "<pre>| max_iterations                 | Maximum Number of Iterations                     | 50       |</pre>"
            ]
          },
          "metadata": {}
        },
        {
          "output_type": "display_data",
          "data": {
            "text/plain": [
              "+--------------------------------+--------------------------------------------------+----------+"
            ],
            "text/html": [
              "<pre>+--------------------------------+--------------------------------------------------+----------+</pre>"
            ]
          },
          "metadata": {}
        },
        {
          "output_type": "display_data",
          "data": {
            "text/plain": [
              "  Optimizing model using SGD; tuning step size."
            ],
            "text/html": [
              "<pre>  Optimizing model using SGD; tuning step size.</pre>"
            ]
          },
          "metadata": {}
        },
        {
          "output_type": "display_data",
          "data": {
            "text/plain": [
              "  Using 67539 / 540314 points for tuning the step size."
            ],
            "text/html": [
              "<pre>  Using 67539 / 540314 points for tuning the step size.</pre>"
            ]
          },
          "metadata": {}
        },
        {
          "output_type": "display_data",
          "data": {
            "text/plain": [
              "+---------+-------------------+------------------------------------------+"
            ],
            "text/html": [
              "<pre>+---------+-------------------+------------------------------------------+</pre>"
            ]
          },
          "metadata": {}
        },
        {
          "output_type": "display_data",
          "data": {
            "text/plain": [
              "| Attempt | Initial Step Size | Estimated Objective Value                |"
            ],
            "text/html": [
              "<pre>| Attempt | Initial Step Size | Estimated Objective Value                |</pre>"
            ]
          },
          "metadata": {}
        },
        {
          "output_type": "display_data",
          "data": {
            "text/plain": [
              "+---------+-------------------+------------------------------------------+"
            ],
            "text/html": [
              "<pre>+---------+-------------------+------------------------------------------+</pre>"
            ]
          },
          "metadata": {}
        },
        {
          "output_type": "display_data",
          "data": {
            "text/plain": [
              "| 0       | 8.33333           | Not Viable                               |"
            ],
            "text/html": [
              "<pre>| 0       | 8.33333           | Not Viable                               |</pre>"
            ]
          },
          "metadata": {}
        },
        {
          "output_type": "display_data",
          "data": {
            "text/plain": [
              "| 1       | 2.08333           | Not Viable                               |"
            ],
            "text/html": [
              "<pre>| 1       | 2.08333           | Not Viable                               |</pre>"
            ]
          },
          "metadata": {}
        },
        {
          "output_type": "display_data",
          "data": {
            "text/plain": [
              "| 2       | 0.520833          | Not Viable                               |"
            ],
            "text/html": [
              "<pre>| 2       | 0.520833          | Not Viable                               |</pre>"
            ]
          },
          "metadata": {}
        },
        {
          "output_type": "display_data",
          "data": {
            "text/plain": [
              "| 3       | 0.130208          | 0.24755                                  |"
            ],
            "text/html": [
              "<pre>| 3       | 0.130208          | 0.24755                                  |</pre>"
            ]
          },
          "metadata": {}
        },
        {
          "output_type": "display_data",
          "data": {
            "text/plain": [
              "| 4       | 0.0651042         | 0.339888                                 |"
            ],
            "text/html": [
              "<pre>| 4       | 0.0651042         | 0.339888                                 |</pre>"
            ]
          },
          "metadata": {}
        },
        {
          "output_type": "display_data",
          "data": {
            "text/plain": [
              "| 5       | 0.0325521         | 0.414182                                 |"
            ],
            "text/html": [
              "<pre>| 5       | 0.0325521         | 0.414182                                 |</pre>"
            ]
          },
          "metadata": {}
        },
        {
          "output_type": "display_data",
          "data": {
            "text/plain": [
              "| 6       | 0.016276          | 0.627783                                 |"
            ],
            "text/html": [
              "<pre>| 6       | 0.016276          | 0.627783                                 |</pre>"
            ]
          },
          "metadata": {}
        },
        {
          "output_type": "display_data",
          "data": {
            "text/plain": [
              "+---------+-------------------+------------------------------------------+"
            ],
            "text/html": [
              "<pre>+---------+-------------------+------------------------------------------+</pre>"
            ]
          },
          "metadata": {}
        },
        {
          "output_type": "display_data",
          "data": {
            "text/plain": [
              "| Final   | 0.130208          | 0.24755                                  |"
            ],
            "text/html": [
              "<pre>| Final   | 0.130208          | 0.24755                                  |</pre>"
            ]
          },
          "metadata": {}
        },
        {
          "output_type": "display_data",
          "data": {
            "text/plain": [
              "+---------+-------------------+------------------------------------------+"
            ],
            "text/html": [
              "<pre>+---------+-------------------+------------------------------------------+</pre>"
            ]
          },
          "metadata": {}
        },
        {
          "output_type": "display_data",
          "data": {
            "text/plain": [
              "Starting Optimization."
            ],
            "text/html": [
              "<pre>Starting Optimization.</pre>"
            ]
          },
          "metadata": {}
        },
        {
          "output_type": "display_data",
          "data": {
            "text/plain": [
              "+---------+--------------+-------------------+-----------------------+-------------+"
            ],
            "text/html": [
              "<pre>+---------+--------------+-------------------+-----------------------+-------------+</pre>"
            ]
          },
          "metadata": {}
        },
        {
          "output_type": "display_data",
          "data": {
            "text/plain": [
              "| Iter.   | Elapsed Time | Approx. Objective | Approx. Training RMSE | Step Size   |"
            ],
            "text/html": [
              "<pre>| Iter.   | Elapsed Time | Approx. Objective | Approx. Training RMSE | Step Size   |</pre>"
            ]
          },
          "metadata": {}
        },
        {
          "output_type": "display_data",
          "data": {
            "text/plain": [
              "+---------+--------------+-------------------+-----------------------+-------------+"
            ],
            "text/html": [
              "<pre>+---------+--------------+-------------------+-----------------------+-------------+</pre>"
            ]
          },
          "metadata": {}
        },
        {
          "output_type": "display_data",
          "data": {
            "text/plain": [
              "| Initial | 121us        | 1.11048           | 1.05379               |             |"
            ],
            "text/html": [
              "<pre>| Initial | 121us        | 1.11048           | 1.05379               |             |</pre>"
            ]
          },
          "metadata": {}
        },
        {
          "output_type": "display_data",
          "data": {
            "text/plain": [
              "+---------+--------------+-------------------+-----------------------+-------------+"
            ],
            "text/html": [
              "<pre>+---------+--------------+-------------------+-----------------------+-------------+</pre>"
            ]
          },
          "metadata": {}
        },
        {
          "output_type": "display_data",
          "data": {
            "text/plain": [
              "| 1       | 593.553ms    | DIVERGED          | DIVERGED              | 0.130208    |"
            ],
            "text/html": [
              "<pre>| 1       | 593.553ms    | DIVERGED          | DIVERGED              | 0.130208    |</pre>"
            ]
          },
          "metadata": {}
        },
        {
          "output_type": "display_data",
          "data": {
            "text/plain": [
              "| RESET   | 720.699ms    | 1.11044           | 1.05378               |             |"
            ],
            "text/html": [
              "<pre>| RESET   | 720.699ms    | 1.11044           | 1.05378               |             |</pre>"
            ]
          },
          "metadata": {}
        },
        {
          "output_type": "display_data",
          "data": {
            "text/plain": [
              "| 1       | 1.24s        | 0.824615          | 0.907978              | 0.0651042   |"
            ],
            "text/html": [
              "<pre>| 1       | 1.24s        | 0.824615          | 0.907978              | 0.0651042   |</pre>"
            ]
          },
          "metadata": {}
        },
        {
          "output_type": "display_data",
          "data": {
            "text/plain": [
              "| 2       | 1.84s        | 0.522797          | 0.722876              | 0.0651042   |"
            ],
            "text/html": [
              "<pre>| 2       | 1.84s        | 0.522797          | 0.722876              | 0.0651042   |</pre>"
            ]
          },
          "metadata": {}
        },
        {
          "output_type": "display_data",
          "data": {
            "text/plain": [
              "| 3       | 2.40s        | 0.47141           | 0.686399              | 0.0651042   |"
            ],
            "text/html": [
              "<pre>| 3       | 2.40s        | 0.47141           | 0.686399              | 0.0651042   |</pre>"
            ]
          },
          "metadata": {}
        },
        {
          "output_type": "display_data",
          "data": {
            "text/plain": [
              "| 4       | 3.16s        | 0.493443          | 0.702271              | 0.0651042   |"
            ],
            "text/html": [
              "<pre>| 4       | 3.16s        | 0.493443          | 0.702271              | 0.0651042   |</pre>"
            ]
          },
          "metadata": {}
        },
        {
          "output_type": "display_data",
          "data": {
            "text/plain": [
              "| 5       | 3.68s        | 0.545332          | 0.738301              | 0.0651042   |"
            ],
            "text/html": [
              "<pre>| 5       | 3.68s        | 0.545332          | 0.738301              | 0.0651042   |</pre>"
            ]
          },
          "metadata": {}
        },
        {
          "output_type": "display_data",
          "data": {
            "text/plain": [
              "| 9       | 4.86s        | 0.341965          | 0.584576              | 0.0651042   |"
            ],
            "text/html": [
              "<pre>| 9       | 4.86s        | 0.341965          | 0.584576              | 0.0651042   |</pre>"
            ]
          },
          "metadata": {}
        },
        {
          "output_type": "display_data",
          "data": {
            "text/plain": [
              "| 14      | 6.81s        | 0.297885          | 0.545565              | 0.0651042   |"
            ],
            "text/html": [
              "<pre>| 14      | 6.81s        | 0.297885          | 0.545565              | 0.0651042   |</pre>"
            ]
          },
          "metadata": {}
        },
        {
          "output_type": "display_data",
          "data": {
            "text/plain": [
              "| 19      | 8.02s        | 0.622233          | 0.788664              | 0.0651042   |"
            ],
            "text/html": [
              "<pre>| 19      | 8.02s        | 0.622233          | 0.788664              | 0.0651042   |</pre>"
            ]
          },
          "metadata": {}
        },
        {
          "output_type": "display_data",
          "data": {
            "text/plain": [
              "| 24      | 9.29s        | 0.212919          | 0.461172              | 0.0651042   |"
            ],
            "text/html": [
              "<pre>| 24      | 9.29s        | 0.212919          | 0.461172              | 0.0651042   |</pre>"
            ]
          },
          "metadata": {}
        },
        {
          "output_type": "display_data",
          "data": {
            "text/plain": [
              "| 29      | 10.92s       | 0.823264          | 0.907209              | 0.0651042   |"
            ],
            "text/html": [
              "<pre>| 29      | 10.92s       | 0.823264          | 0.907209              | 0.0651042   |</pre>"
            ]
          },
          "metadata": {}
        },
        {
          "output_type": "display_data",
          "data": {
            "text/plain": [
              "| 34      | 12.59s       | 0.352429          | 0.593463              | 0.0651042   |"
            ],
            "text/html": [
              "<pre>| 34      | 12.59s       | 0.352429          | 0.593463              | 0.0651042   |</pre>"
            ]
          },
          "metadata": {}
        },
        {
          "output_type": "display_data",
          "data": {
            "text/plain": [
              "| 39      | 14.09s       | 1.6978            | 1.30291               | 0.0651042   |"
            ],
            "text/html": [
              "<pre>| 39      | 14.09s       | 1.6978            | 1.30291               | 0.0651042   |</pre>"
            ]
          },
          "metadata": {}
        },
        {
          "output_type": "display_data",
          "data": {
            "text/plain": [
              "| 44      | 15.23s       | 0.311374          | 0.557806              | 0.0651042   |"
            ],
            "text/html": [
              "<pre>| 44      | 15.23s       | 0.311374          | 0.557806              | 0.0651042   |</pre>"
            ]
          },
          "metadata": {}
        },
        {
          "output_type": "display_data",
          "data": {
            "text/plain": [
              "| 49      | 16.41s       | 0.265772          | 0.515312              | 0.0651042   |"
            ],
            "text/html": [
              "<pre>| 49      | 16.41s       | 0.265772          | 0.515312              | 0.0651042   |</pre>"
            ]
          },
          "metadata": {}
        },
        {
          "output_type": "display_data",
          "data": {
            "text/plain": [
              "| 50      | 16.71s       | DIVERGED          | DIVERGED              | 0.0651042   |"
            ],
            "text/html": [
              "<pre>| 50      | 16.71s       | DIVERGED          | DIVERGED              | 0.0651042   |</pre>"
            ]
          },
          "metadata": {}
        },
        {
          "output_type": "display_data",
          "data": {
            "text/plain": [
              "| RESET   | 16.79s       | 1.11044           | 1.05377               |             |"
            ],
            "text/html": [
              "<pre>| RESET   | 16.79s       | 1.11044           | 1.05377               |             |</pre>"
            ]
          },
          "metadata": {}
        },
        {
          "output_type": "display_data",
          "data": {
            "text/plain": [
              "| 4       | 17.85s       | 0.379268          | 0.615769              | 0.0325521   |"
            ],
            "text/html": [
              "<pre>| 4       | 17.85s       | 0.379268          | 0.615769              | 0.0325521   |</pre>"
            ]
          },
          "metadata": {}
        },
        {
          "output_type": "display_data",
          "data": {
            "text/plain": [
              "+---------+--------------+-------------------+-----------------------+-------------+"
            ],
            "text/html": [
              "<pre>+---------+--------------+-------------------+-----------------------+-------------+</pre>"
            ]
          },
          "metadata": {}
        },
        {
          "output_type": "display_data",
          "data": {
            "text/plain": [
              "Optimization Complete: Maximum number of passes through the data reached (hard limit)."
            ],
            "text/html": [
              "<pre>Optimization Complete: Maximum number of passes through the data reached (hard limit).</pre>"
            ]
          },
          "metadata": {}
        },
        {
          "output_type": "display_data",
          "data": {
            "text/plain": [
              "Computing final objective value and training RMSE."
            ],
            "text/html": [
              "<pre>Computing final objective value and training RMSE.</pre>"
            ]
          },
          "metadata": {}
        },
        {
          "output_type": "display_data",
          "data": {
            "text/plain": [
              "       Final objective value: 0.322322"
            ],
            "text/html": [
              "<pre>       Final objective value: 0.322322</pre>"
            ]
          },
          "metadata": {}
        },
        {
          "output_type": "display_data",
          "data": {
            "text/plain": [
              "       Final training RMSE: 0.56765"
            ],
            "text/html": [
              "<pre>       Final training RMSE: 0.56765</pre>"
            ]
          },
          "metadata": {}
        },
        {
          "output_type": "display_data",
          "data": {
            "text/plain": [
              "Warning: Ignoring columns X1, movieId, timestamp, genres;"
            ],
            "text/html": [
              "<pre>Warning: Ignoring columns X1, movieId, timestamp, genres;</pre>"
            ]
          },
          "metadata": {}
        },
        {
          "output_type": "display_data",
          "data": {
            "text/plain": [
              "    To use these columns in scoring predictions, use a model that allows the use of additional features."
            ],
            "text/html": [
              "<pre>    To use these columns in scoring predictions, use a model that allows the use of additional features.</pre>"
            ]
          },
          "metadata": {}
        },
        {
          "output_type": "display_data",
          "data": {
            "text/plain": [
              "Preparing data set."
            ],
            "text/html": [
              "<pre>Preparing data set.</pre>"
            ]
          },
          "metadata": {}
        },
        {
          "output_type": "display_data",
          "data": {
            "text/plain": [
              "    Data has 540314 observations with 3846 users and 12651 items."
            ],
            "text/html": [
              "<pre>    Data has 540314 observations with 3846 users and 12651 items.</pre>"
            ]
          },
          "metadata": {}
        },
        {
          "output_type": "display_data",
          "data": {
            "text/plain": [
              "    Data prepared in: 0.425688s"
            ],
            "text/html": [
              "<pre>    Data prepared in: 0.425688s</pre>"
            ]
          },
          "metadata": {}
        },
        {
          "output_type": "display_data",
          "data": {
            "text/plain": [
              "Training model from provided data."
            ],
            "text/html": [
              "<pre>Training model from provided data.</pre>"
            ]
          },
          "metadata": {}
        },
        {
          "output_type": "display_data",
          "data": {
            "text/plain": [
              "Gathering per-item and per-user statistics."
            ],
            "text/html": [
              "<pre>Gathering per-item and per-user statistics.</pre>"
            ]
          },
          "metadata": {}
        },
        {
          "output_type": "display_data",
          "data": {
            "text/plain": [
              "+--------------------------------+------------+"
            ],
            "text/html": [
              "<pre>+--------------------------------+------------+</pre>"
            ]
          },
          "metadata": {}
        },
        {
          "output_type": "display_data",
          "data": {
            "text/plain": [
              "| Elapsed Time (Item Statistics) | % Complete |"
            ],
            "text/html": [
              "<pre>| Elapsed Time (Item Statistics) | % Complete |</pre>"
            ]
          },
          "metadata": {}
        },
        {
          "output_type": "display_data",
          "data": {
            "text/plain": [
              "+--------------------------------+------------+"
            ],
            "text/html": [
              "<pre>+--------------------------------+------------+</pre>"
            ]
          },
          "metadata": {}
        },
        {
          "output_type": "display_data",
          "data": {
            "text/plain": [
              "| 7.498ms                        | 26         |"
            ],
            "text/html": [
              "<pre>| 7.498ms                        | 26         |</pre>"
            ]
          },
          "metadata": {}
        },
        {
          "output_type": "display_data",
          "data": {
            "text/plain": [
              "| 22.621ms                       | 100        |"
            ],
            "text/html": [
              "<pre>| 22.621ms                       | 100        |</pre>"
            ]
          },
          "metadata": {}
        },
        {
          "output_type": "display_data",
          "data": {
            "text/plain": [
              "+--------------------------------+------------+"
            ],
            "text/html": [
              "<pre>+--------------------------------+------------+</pre>"
            ]
          },
          "metadata": {}
        },
        {
          "output_type": "display_data",
          "data": {
            "text/plain": [
              "Setting up lookup tables."
            ],
            "text/html": [
              "<pre>Setting up lookup tables.</pre>"
            ]
          },
          "metadata": {}
        },
        {
          "output_type": "display_data",
          "data": {
            "text/plain": [
              "Processing data in one pass using dense lookup tables."
            ],
            "text/html": [
              "<pre>Processing data in one pass using dense lookup tables.</pre>"
            ]
          },
          "metadata": {}
        },
        {
          "output_type": "display_data",
          "data": {
            "text/plain": [
              "+-------------------------------------+------------------+-----------------+"
            ],
            "text/html": [
              "<pre>+-------------------------------------+------------------+-----------------+</pre>"
            ]
          },
          "metadata": {}
        },
        {
          "output_type": "display_data",
          "data": {
            "text/plain": [
              "| Elapsed Time (Constructing Lookups) | Total % Complete | Items Processed |"
            ],
            "text/html": [
              "<pre>| Elapsed Time (Constructing Lookups) | Total % Complete | Items Processed |</pre>"
            ]
          },
          "metadata": {}
        },
        {
          "output_type": "display_data",
          "data": {
            "text/plain": [
              "+-------------------------------------+------------------+-----------------+"
            ],
            "text/html": [
              "<pre>+-------------------------------------+------------------+-----------------+</pre>"
            ]
          },
          "metadata": {}
        },
        {
          "output_type": "display_data",
          "data": {
            "text/plain": [
              "| 686.41ms                            | 0                | 1               |"
            ],
            "text/html": [
              "<pre>| 686.41ms                            | 0                | 1               |</pre>"
            ]
          },
          "metadata": {}
        },
        {
          "output_type": "display_data",
          "data": {
            "text/plain": [
              "| 3.22s                               | 100              | 12651           |"
            ],
            "text/html": [
              "<pre>| 3.22s                               | 100              | 12651           |</pre>"
            ]
          },
          "metadata": {}
        },
        {
          "output_type": "display_data",
          "data": {
            "text/plain": [
              "+-------------------------------------+------------------+-----------------+"
            ],
            "text/html": [
              "<pre>+-------------------------------------+------------------+-----------------+</pre>"
            ]
          },
          "metadata": {}
        },
        {
          "output_type": "display_data",
          "data": {
            "text/plain": [
              "Finalizing lookup tables."
            ],
            "text/html": [
              "<pre>Finalizing lookup tables.</pre>"
            ]
          },
          "metadata": {}
        },
        {
          "output_type": "display_data",
          "data": {
            "text/plain": [
              "Generating candidate set for working with new users."
            ],
            "text/html": [
              "<pre>Generating candidate set for working with new users.</pre>"
            ]
          },
          "metadata": {}
        },
        {
          "output_type": "display_data",
          "data": {
            "text/plain": [
              "Finished training in 3.28218s"
            ],
            "text/html": [
              "<pre>Finished training in 3.28218s</pre>"
            ]
          },
          "metadata": {}
        }
      ]
    },
    {
      "cell_type": "code",
      "source": [
        "s_results"
      ],
      "metadata": {
        "colab": {
          "base_uri": "https://localhost:8080/",
          "height": 317
        },
        "id": "qYPgVGZpUdVU",
        "outputId": "48636345-5c93-490a-de83-0e91cf1bed34"
      },
      "execution_count": 10,
      "outputs": [
        {
          "output_type": "execute_result",
          "data": {
            "text/plain": [
              "Columns:\n",
              "\tuserId\tint\n",
              "\ttitle\tstr\n",
              "\tscore\tfloat\n",
              "\trank\tint\n",
              "\n",
              "Rows: 9\n",
              "\n",
              "Data:\n",
              "+--------+-------------------------------+---------------------+------+\n",
              "| userId |             title             |        score        | rank |\n",
              "+--------+-------------------------------+---------------------+------+\n",
              "|   1    |       Matrix, The (1999)      | 0.08466681442060671 |  1   |\n",
              "|   1    | Indiana Jones and the Temp... | 0.08412769791129586 |  2   |\n",
              "|   1    |      Groundhog Day (1993)     | 0.07961283822159668 |  3   |\n",
              "|   30   |   Fifth Element, The (1997)   | 0.08969012960310906 |  1   |\n",
              "|   30   |         Aliens (1986)         |  0.0877993683661184 |  2   |\n",
              "|   30   | Star Wars: Episode I - The... | 0.08732250044422765 |  3   |\n",
              "| 138491 | Silence of the Lambs, The ... | 0.32100847840309144 |  1   |\n",
              "| 138491 | Terminator 2: Judgment Day... | 0.31245723128318786 |  2   |\n",
              "| 138491 | Star Wars: Episode V - The... |   0.30881143450737  |  3   |\n",
              "+--------+-------------------------------+---------------------+------+\n",
              "[9 rows x 4 columns]"
            ],
            "text/html": [
              "<div style=\"max-height:1000px;max-width:1500px;overflow:auto;\"><table frame=\"box\" rules=\"cols\">\n",
              "    <tr>\n",
              "        <th style=\"padding-left: 1em; padding-right: 1em; text-align: center\">userId</th>\n",
              "        <th style=\"padding-left: 1em; padding-right: 1em; text-align: center\">title</th>\n",
              "        <th style=\"padding-left: 1em; padding-right: 1em; text-align: center\">score</th>\n",
              "        <th style=\"padding-left: 1em; padding-right: 1em; text-align: center\">rank</th>\n",
              "    </tr>\n",
              "    <tr>\n",
              "        <td style=\"padding-left: 1em; padding-right: 1em; text-align: center; vertical-align: top\">1</td>\n",
              "        <td style=\"padding-left: 1em; padding-right: 1em; text-align: center; vertical-align: top\">Matrix, The (1999)</td>\n",
              "        <td style=\"padding-left: 1em; padding-right: 1em; text-align: center; vertical-align: top\">0.08466681442060671</td>\n",
              "        <td style=\"padding-left: 1em; padding-right: 1em; text-align: center; vertical-align: top\">1</td>\n",
              "    </tr>\n",
              "    <tr>\n",
              "        <td style=\"padding-left: 1em; padding-right: 1em; text-align: center; vertical-align: top\">1</td>\n",
              "        <td style=\"padding-left: 1em; padding-right: 1em; text-align: center; vertical-align: top\">Indiana Jones and the<br>Temple of Doom (1984) ...</td>\n",
              "        <td style=\"padding-left: 1em; padding-right: 1em; text-align: center; vertical-align: top\">0.08412769791129586</td>\n",
              "        <td style=\"padding-left: 1em; padding-right: 1em; text-align: center; vertical-align: top\">2</td>\n",
              "    </tr>\n",
              "    <tr>\n",
              "        <td style=\"padding-left: 1em; padding-right: 1em; text-align: center; vertical-align: top\">1</td>\n",
              "        <td style=\"padding-left: 1em; padding-right: 1em; text-align: center; vertical-align: top\">Groundhog Day (1993)</td>\n",
              "        <td style=\"padding-left: 1em; padding-right: 1em; text-align: center; vertical-align: top\">0.07961283822159668</td>\n",
              "        <td style=\"padding-left: 1em; padding-right: 1em; text-align: center; vertical-align: top\">3</td>\n",
              "    </tr>\n",
              "    <tr>\n",
              "        <td style=\"padding-left: 1em; padding-right: 1em; text-align: center; vertical-align: top\">30</td>\n",
              "        <td style=\"padding-left: 1em; padding-right: 1em; text-align: center; vertical-align: top\">Fifth Element, The (1997)</td>\n",
              "        <td style=\"padding-left: 1em; padding-right: 1em; text-align: center; vertical-align: top\">0.08969012960310906</td>\n",
              "        <td style=\"padding-left: 1em; padding-right: 1em; text-align: center; vertical-align: top\">1</td>\n",
              "    </tr>\n",
              "    <tr>\n",
              "        <td style=\"padding-left: 1em; padding-right: 1em; text-align: center; vertical-align: top\">30</td>\n",
              "        <td style=\"padding-left: 1em; padding-right: 1em; text-align: center; vertical-align: top\">Aliens (1986)</td>\n",
              "        <td style=\"padding-left: 1em; padding-right: 1em; text-align: center; vertical-align: top\">0.0877993683661184</td>\n",
              "        <td style=\"padding-left: 1em; padding-right: 1em; text-align: center; vertical-align: top\">2</td>\n",
              "    </tr>\n",
              "    <tr>\n",
              "        <td style=\"padding-left: 1em; padding-right: 1em; text-align: center; vertical-align: top\">30</td>\n",
              "        <td style=\"padding-left: 1em; padding-right: 1em; text-align: center; vertical-align: top\">Star Wars: Episode I -<br>The Phantom Menace (1 ...</td>\n",
              "        <td style=\"padding-left: 1em; padding-right: 1em; text-align: center; vertical-align: top\">0.08732250044422765</td>\n",
              "        <td style=\"padding-left: 1em; padding-right: 1em; text-align: center; vertical-align: top\">3</td>\n",
              "    </tr>\n",
              "    <tr>\n",
              "        <td style=\"padding-left: 1em; padding-right: 1em; text-align: center; vertical-align: top\">138491</td>\n",
              "        <td style=\"padding-left: 1em; padding-right: 1em; text-align: center; vertical-align: top\">Silence of the Lambs, The<br>(1991) ...</td>\n",
              "        <td style=\"padding-left: 1em; padding-right: 1em; text-align: center; vertical-align: top\">0.32100847840309144</td>\n",
              "        <td style=\"padding-left: 1em; padding-right: 1em; text-align: center; vertical-align: top\">1</td>\n",
              "    </tr>\n",
              "    <tr>\n",
              "        <td style=\"padding-left: 1em; padding-right: 1em; text-align: center; vertical-align: top\">138491</td>\n",
              "        <td style=\"padding-left: 1em; padding-right: 1em; text-align: center; vertical-align: top\">Terminator 2: Judgment<br>Day (1991) ...</td>\n",
              "        <td style=\"padding-left: 1em; padding-right: 1em; text-align: center; vertical-align: top\">0.31245723128318786</td>\n",
              "        <td style=\"padding-left: 1em; padding-right: 1em; text-align: center; vertical-align: top\">2</td>\n",
              "    </tr>\n",
              "    <tr>\n",
              "        <td style=\"padding-left: 1em; padding-right: 1em; text-align: center; vertical-align: top\">138491</td>\n",
              "        <td style=\"padding-left: 1em; padding-right: 1em; text-align: center; vertical-align: top\">Star Wars: Episode V -<br>The Empire Strikes Back ...</td>\n",
              "        <td style=\"padding-left: 1em; padding-right: 1em; text-align: center; vertical-align: top\">0.30881143450737</td>\n",
              "        <td style=\"padding-left: 1em; padding-right: 1em; text-align: center; vertical-align: top\">3</td>\n",
              "    </tr>\n",
              "</table>\n",
              "[9 rows x 4 columns]<br/>\n",
              "</div>"
            ]
          },
          "metadata": {},
          "execution_count": 10
        }
      ]
    },
    {
      "cell_type": "code",
      "source": [
        "\n",
        "rf_model = tc.ranking_factorization_recommender.create(train, 'userId', 'title', target='rating')\n",
        "rf_results = rf_model.recommend(users=[1, 30, 138491], k=3)"
      ],
      "metadata": {
        "colab": {
          "base_uri": "https://localhost:8080/",
          "height": 902
        },
        "id": "r003gghyUOmf",
        "outputId": "abd98e02-c844-40ec-fe4b-7b40b90231d8"
      },
      "execution_count": 8,
      "outputs": [
        {
          "output_type": "display_data",
          "data": {
            "text/plain": [
              "Preparing data set."
            ],
            "text/html": [
              "<pre>Preparing data set.</pre>"
            ]
          },
          "metadata": {}
        },
        {
          "output_type": "display_data",
          "data": {
            "text/plain": [
              "    Data has 540314 observations with 3846 users and 12651 items."
            ],
            "text/html": [
              "<pre>    Data has 540314 observations with 3846 users and 12651 items.</pre>"
            ]
          },
          "metadata": {}
        },
        {
          "output_type": "display_data",
          "data": {
            "text/plain": [
              "    Data prepared in: 1.01005s"
            ],
            "text/html": [
              "<pre>    Data prepared in: 1.01005s</pre>"
            ]
          },
          "metadata": {}
        },
        {
          "output_type": "display_data",
          "data": {
            "text/plain": [
              "Training ranking_factorization_recommender for recommendations."
            ],
            "text/html": [
              "<pre>Training ranking_factorization_recommender for recommendations.</pre>"
            ]
          },
          "metadata": {}
        },
        {
          "output_type": "display_data",
          "data": {
            "text/plain": [
              "+--------------------------------+--------------------------------------------------+----------+"
            ],
            "text/html": [
              "<pre>+--------------------------------+--------------------------------------------------+----------+</pre>"
            ]
          },
          "metadata": {}
        },
        {
          "output_type": "display_data",
          "data": {
            "text/plain": [
              "| Parameter                      | Description                                      | Value    |"
            ],
            "text/html": [
              "<pre>| Parameter                      | Description                                      | Value    |</pre>"
            ]
          },
          "metadata": {}
        },
        {
          "output_type": "display_data",
          "data": {
            "text/plain": [
              "+--------------------------------+--------------------------------------------------+----------+"
            ],
            "text/html": [
              "<pre>+--------------------------------+--------------------------------------------------+----------+</pre>"
            ]
          },
          "metadata": {}
        },
        {
          "output_type": "display_data",
          "data": {
            "text/plain": [
              "| num_factors                    | Factor Dimension                                 | 32       |"
            ],
            "text/html": [
              "<pre>| num_factors                    | Factor Dimension                                 | 32       |</pre>"
            ]
          },
          "metadata": {}
        },
        {
          "output_type": "display_data",
          "data": {
            "text/plain": [
              "| regularization                 | L2 Regularization on Factors                     | 1e-09    |"
            ],
            "text/html": [
              "<pre>| regularization                 | L2 Regularization on Factors                     | 1e-09    |</pre>"
            ]
          },
          "metadata": {}
        },
        {
          "output_type": "display_data",
          "data": {
            "text/plain": [
              "| solver                         | Solver used for training                         | adagrad  |"
            ],
            "text/html": [
              "<pre>| solver                         | Solver used for training                         | adagrad  |</pre>"
            ]
          },
          "metadata": {}
        },
        {
          "output_type": "display_data",
          "data": {
            "text/plain": [
              "| linear_regularization          | L2 Regularization on Linear Coefficients         | 1e-09    |"
            ],
            "text/html": [
              "<pre>| linear_regularization          | L2 Regularization on Linear Coefficients         | 1e-09    |</pre>"
            ]
          },
          "metadata": {}
        },
        {
          "output_type": "display_data",
          "data": {
            "text/plain": [
              "| ranking_regularization         | Rank-based Regularization Weight                 | 0.25     |"
            ],
            "text/html": [
              "<pre>| ranking_regularization         | Rank-based Regularization Weight                 | 0.25     |</pre>"
            ]
          },
          "metadata": {}
        },
        {
          "output_type": "display_data",
          "data": {
            "text/plain": [
              "| max_iterations                 | Maximum Number of Iterations                     | 25       |"
            ],
            "text/html": [
              "<pre>| max_iterations                 | Maximum Number of Iterations                     | 25       |</pre>"
            ]
          },
          "metadata": {}
        },
        {
          "output_type": "display_data",
          "data": {
            "text/plain": [
              "+--------------------------------+--------------------------------------------------+----------+"
            ],
            "text/html": [
              "<pre>+--------------------------------+--------------------------------------------------+----------+</pre>"
            ]
          },
          "metadata": {}
        },
        {
          "output_type": "display_data",
          "data": {
            "text/plain": [
              "  Optimizing model using SGD; tuning step size."
            ],
            "text/html": [
              "<pre>  Optimizing model using SGD; tuning step size.</pre>"
            ]
          },
          "metadata": {}
        },
        {
          "output_type": "display_data",
          "data": {
            "text/plain": [
              "  Using 67539 / 540314 points for tuning the step size."
            ],
            "text/html": [
              "<pre>  Using 67539 / 540314 points for tuning the step size.</pre>"
            ]
          },
          "metadata": {}
        },
        {
          "output_type": "display_data",
          "data": {
            "text/plain": [
              "+---------+-------------------+------------------------------------------+"
            ],
            "text/html": [
              "<pre>+---------+-------------------+------------------------------------------+</pre>"
            ]
          },
          "metadata": {}
        },
        {
          "output_type": "display_data",
          "data": {
            "text/plain": [
              "| Attempt | Initial Step Size | Estimated Objective Value                |"
            ],
            "text/html": [
              "<pre>| Attempt | Initial Step Size | Estimated Objective Value                |</pre>"
            ]
          },
          "metadata": {}
        },
        {
          "output_type": "display_data",
          "data": {
            "text/plain": [
              "+---------+-------------------+------------------------------------------+"
            ],
            "text/html": [
              "<pre>+---------+-------------------+------------------------------------------+</pre>"
            ]
          },
          "metadata": {}
        },
        {
          "output_type": "display_data",
          "data": {
            "text/plain": [
              "| 0       | 8.33333           | Not Viable                               |"
            ],
            "text/html": [
              "<pre>| 0       | 8.33333           | Not Viable                               |</pre>"
            ]
          },
          "metadata": {}
        },
        {
          "output_type": "display_data",
          "data": {
            "text/plain": [
              "| 1       | 2.08333           | Not Viable                               |"
            ],
            "text/html": [
              "<pre>| 1       | 2.08333           | Not Viable                               |</pre>"
            ]
          },
          "metadata": {}
        },
        {
          "output_type": "display_data",
          "data": {
            "text/plain": [
              "| 2       | 0.520833          | Not Viable                               |"
            ],
            "text/html": [
              "<pre>| 2       | 0.520833          | Not Viable                               |</pre>"
            ]
          },
          "metadata": {}
        },
        {
          "output_type": "display_data",
          "data": {
            "text/plain": [
              "| 3       | 0.130208          | Not Viable                               |"
            ],
            "text/html": [
              "<pre>| 3       | 0.130208          | Not Viable                               |</pre>"
            ]
          },
          "metadata": {}
        },
        {
          "output_type": "display_data",
          "data": {
            "text/plain": [
              "| 4       | 0.0325521         | 0.453917                                 |"
            ],
            "text/html": [
              "<pre>| 4       | 0.0325521         | 0.453917                                 |</pre>"
            ]
          },
          "metadata": {}
        },
        {
          "output_type": "display_data",
          "data": {
            "text/plain": [
              "| 5       | 0.016276          | 1.0741                                   |"
            ],
            "text/html": [
              "<pre>| 5       | 0.016276          | 1.0741                                   |</pre>"
            ]
          },
          "metadata": {}
        },
        {
          "output_type": "display_data",
          "data": {
            "text/plain": [
              "+---------+-------------------+------------------------------------------+"
            ],
            "text/html": [
              "<pre>+---------+-------------------+------------------------------------------+</pre>"
            ]
          },
          "metadata": {}
        },
        {
          "output_type": "display_data",
          "data": {
            "text/plain": [
              "| Final   | 0.0325521         | 0.453917                                 |"
            ],
            "text/html": [
              "<pre>| Final   | 0.0325521         | 0.453917                                 |</pre>"
            ]
          },
          "metadata": {}
        },
        {
          "output_type": "display_data",
          "data": {
            "text/plain": [
              "+---------+-------------------+------------------------------------------+"
            ],
            "text/html": [
              "<pre>+---------+-------------------+------------------------------------------+</pre>"
            ]
          },
          "metadata": {}
        },
        {
          "output_type": "display_data",
          "data": {
            "text/plain": [
              "Starting Optimization."
            ],
            "text/html": [
              "<pre>Starting Optimization.</pre>"
            ]
          },
          "metadata": {}
        },
        {
          "output_type": "display_data",
          "data": {
            "text/plain": [
              "+---------+--------------+-------------------+-----------------------+-------------+"
            ],
            "text/html": [
              "<pre>+---------+--------------+-------------------+-----------------------+-------------+</pre>"
            ]
          },
          "metadata": {}
        },
        {
          "output_type": "display_data",
          "data": {
            "text/plain": [
              "| Iter.   | Elapsed Time | Approx. Objective | Approx. Training RMSE | Step Size   |"
            ],
            "text/html": [
              "<pre>| Iter.   | Elapsed Time | Approx. Objective | Approx. Training RMSE | Step Size   |</pre>"
            ]
          },
          "metadata": {}
        },
        {
          "output_type": "display_data",
          "data": {
            "text/plain": [
              "+---------+--------------+-------------------+-----------------------+-------------+"
            ],
            "text/html": [
              "<pre>+---------+--------------+-------------------+-----------------------+-------------+</pre>"
            ]
          },
          "metadata": {}
        },
        {
          "output_type": "display_data",
          "data": {
            "text/plain": [
              "| Initial | 131us        | 2.17725           | 1.05378               |             |"
            ],
            "text/html": [
              "<pre>| Initial | 131us        | 2.17725           | 1.05378               |             |</pre>"
            ]
          },
          "metadata": {}
        },
        {
          "output_type": "display_data",
          "data": {
            "text/plain": [
              "+---------+--------------+-------------------+-----------------------+-------------+"
            ],
            "text/html": [
              "<pre>+---------+--------------+-------------------+-----------------------+-------------+</pre>"
            ]
          },
          "metadata": {}
        },
        {
          "output_type": "display_data",
          "data": {
            "text/plain": [
              "| 1       | 2.75s        | DIVERGED          | DIVERGED              | 0.0325521   |"
            ],
            "text/html": [
              "<pre>| 1       | 2.75s        | DIVERGED          | DIVERGED              | 0.0325521   |</pre>"
            ]
          },
          "metadata": {}
        },
        {
          "output_type": "display_data",
          "data": {
            "text/plain": [
              "| RESET   | 3.35s        | 2.1772            | 1.05378               |             |"
            ],
            "text/html": [
              "<pre>| RESET   | 3.35s        | 2.1772            | 1.05378               |             |</pre>"
            ]
          },
          "metadata": {}
        },
        {
          "output_type": "display_data",
          "data": {
            "text/plain": [
              "| 1       | 5.16s        | 1.94665           | 1.09326               | 0.016276    |"
            ],
            "text/html": [
              "<pre>| 1       | 5.16s        | 1.94665           | 1.09326               | 0.016276    |</pre>"
            ]
          },
          "metadata": {}
        },
        {
          "output_type": "display_data",
          "data": {
            "text/plain": [
              "| 2       | 6.93s        | 1.49355           | 0.925908              | 0.016276    |"
            ],
            "text/html": [
              "<pre>| 2       | 6.93s        | 1.49355           | 0.925908              | 0.016276    |</pre>"
            ]
          },
          "metadata": {}
        },
        {
          "output_type": "display_data",
          "data": {
            "text/plain": [
              "| 3       | 8.67s        | 1.31178           | 0.854478              | 0.016276    |"
            ],
            "text/html": [
              "<pre>| 3       | 8.67s        | 1.31178           | 0.854478              | 0.016276    |</pre>"
            ]
          },
          "metadata": {}
        },
        {
          "output_type": "display_data",
          "data": {
            "text/plain": [
              "| 4       | 10.42s       | 1.14306           | 0.774464              | 0.016276    |"
            ],
            "text/html": [
              "<pre>| 4       | 10.42s       | 1.14306           | 0.774464              | 0.016276    |</pre>"
            ]
          },
          "metadata": {}
        },
        {
          "output_type": "display_data",
          "data": {
            "text/plain": [
              "| 5       | 12.17s       | 1.02936           | 0.725939              | 0.016276    |"
            ],
            "text/html": [
              "<pre>| 5       | 12.17s       | 1.02936           | 0.725939              | 0.016276    |</pre>"
            ]
          },
          "metadata": {}
        },
        {
          "output_type": "display_data",
          "data": {
            "text/plain": [
              "| 9       | 19.12s       | 0.737513          | 0.601901              | 0.016276    |"
            ],
            "text/html": [
              "<pre>| 9       | 19.12s       | 0.737513          | 0.601901              | 0.016276    |</pre>"
            ]
          },
          "metadata": {}
        },
        {
          "output_type": "display_data",
          "data": {
            "text/plain": [
              "| 14      | 27.82s       | 0.591459          | 0.527315              | 0.016276    |"
            ],
            "text/html": [
              "<pre>| 14      | 27.82s       | 0.591459          | 0.527315              | 0.016276    |</pre>"
            ]
          },
          "metadata": {}
        },
        {
          "output_type": "display_data",
          "data": {
            "text/plain": [
              "| 19      | 36.77s       | 0.466199          | 0.473059              | 0.016276    |"
            ],
            "text/html": [
              "<pre>| 19      | 36.77s       | 0.466199          | 0.473059              | 0.016276    |</pre>"
            ]
          },
          "metadata": {}
        },
        {
          "output_type": "display_data",
          "data": {
            "text/plain": [
              "| 24      | 45.55s       | 0.402634          | 0.447112              | 0.016276    |"
            ],
            "text/html": [
              "<pre>| 24      | 45.55s       | 0.402634          | 0.447112              | 0.016276    |</pre>"
            ]
          },
          "metadata": {}
        },
        {
          "output_type": "display_data",
          "data": {
            "text/plain": [
              "| 25      | 47.42s       | 0.395187          | 0.443397              | 0.016276    |"
            ],
            "text/html": [
              "<pre>| 25      | 47.42s       | 0.395187          | 0.443397              | 0.016276    |</pre>"
            ]
          },
          "metadata": {}
        },
        {
          "output_type": "display_data",
          "data": {
            "text/plain": [
              "+---------+--------------+-------------------+-----------------------+-------------+"
            ],
            "text/html": [
              "<pre>+---------+--------------+-------------------+-----------------------+-------------+</pre>"
            ]
          },
          "metadata": {}
        },
        {
          "output_type": "display_data",
          "data": {
            "text/plain": [
              "Optimization Complete: Maximum number of passes through the data reached."
            ],
            "text/html": [
              "<pre>Optimization Complete: Maximum number of passes through the data reached.</pre>"
            ]
          },
          "metadata": {}
        },
        {
          "output_type": "display_data",
          "data": {
            "text/plain": [
              "Computing final objective value and training RMSE."
            ],
            "text/html": [
              "<pre>Computing final objective value and training RMSE.</pre>"
            ]
          },
          "metadata": {}
        },
        {
          "output_type": "display_data",
          "data": {
            "text/plain": [
              "       Final objective value: 0.427676"
            ],
            "text/html": [
              "<pre>       Final objective value: 0.427676</pre>"
            ]
          },
          "metadata": {}
        },
        {
          "output_type": "display_data",
          "data": {
            "text/plain": [
              "       Final training RMSE: 0.464515"
            ],
            "text/html": [
              "<pre>       Final training RMSE: 0.464515</pre>"
            ]
          },
          "metadata": {}
        }
      ]
    },
    {
      "cell_type": "code",
      "source": [
        "rf_results"
      ],
      "metadata": {
        "colab": {
          "base_uri": "https://localhost:8080/",
          "height": 247
        },
        "id": "hVSRb8gkUndM",
        "outputId": "1db8f986-0e10-4b04-c15d-505f4d0cfac8"
      },
      "execution_count": 11,
      "outputs": [
        {
          "output_type": "execute_result",
          "data": {
            "text/plain": [
              "Columns:\n",
              "\tuserId\tint\n",
              "\ttitle\tstr\n",
              "\tscore\tfloat\n",
              "\trank\tint\n",
              "\n",
              "Rows: 9\n",
              "\n",
              "Data:\n",
              "+--------+-------------------------------+--------------------+------+\n",
              "| userId |             title             |       score        | rank |\n",
              "+--------+-------------------------------+--------------------+------+\n",
              "|   1    |      Groundhog Day (1993)     | 4.417391614794634  |  1   |\n",
              "|   1    |        True Lies (1994)       | 4.411330321609877  |  2   |\n",
              "|   1    |        Outbreak (1995)        | 4.390012563943766  |  3   |\n",
              "|   30   |      Donnie Darko (2001)      | 4.537588331654571  |  1   |\n",
              "|   30   | Harry Potter and the Priso... | 4.498054399892591  |  2   |\n",
              "|   30   |      Groundhog Day (1993)     | 4.460989709749721  |  3   |\n",
              "| 138491 |      Donnie Darko (2001)      | 4.5211877932696565 |  1   |\n",
              "| 138491 |      Groundhog Day (1993)     | 4.468249808803104  |  2   |\n",
              "| 138491 |        Outbreak (1995)        | 4.411800693526767  |  3   |\n",
              "+--------+-------------------------------+--------------------+------+\n",
              "[9 rows x 4 columns]"
            ],
            "text/html": [
              "<div style=\"max-height:1000px;max-width:1500px;overflow:auto;\"><table frame=\"box\" rules=\"cols\">\n",
              "    <tr>\n",
              "        <th style=\"padding-left: 1em; padding-right: 1em; text-align: center\">userId</th>\n",
              "        <th style=\"padding-left: 1em; padding-right: 1em; text-align: center\">title</th>\n",
              "        <th style=\"padding-left: 1em; padding-right: 1em; text-align: center\">score</th>\n",
              "        <th style=\"padding-left: 1em; padding-right: 1em; text-align: center\">rank</th>\n",
              "    </tr>\n",
              "    <tr>\n",
              "        <td style=\"padding-left: 1em; padding-right: 1em; text-align: center; vertical-align: top\">1</td>\n",
              "        <td style=\"padding-left: 1em; padding-right: 1em; text-align: center; vertical-align: top\">Groundhog Day (1993)</td>\n",
              "        <td style=\"padding-left: 1em; padding-right: 1em; text-align: center; vertical-align: top\">4.417391614794634</td>\n",
              "        <td style=\"padding-left: 1em; padding-right: 1em; text-align: center; vertical-align: top\">1</td>\n",
              "    </tr>\n",
              "    <tr>\n",
              "        <td style=\"padding-left: 1em; padding-right: 1em; text-align: center; vertical-align: top\">1</td>\n",
              "        <td style=\"padding-left: 1em; padding-right: 1em; text-align: center; vertical-align: top\">True Lies (1994)</td>\n",
              "        <td style=\"padding-left: 1em; padding-right: 1em; text-align: center; vertical-align: top\">4.411330321609877</td>\n",
              "        <td style=\"padding-left: 1em; padding-right: 1em; text-align: center; vertical-align: top\">2</td>\n",
              "    </tr>\n",
              "    <tr>\n",
              "        <td style=\"padding-left: 1em; padding-right: 1em; text-align: center; vertical-align: top\">1</td>\n",
              "        <td style=\"padding-left: 1em; padding-right: 1em; text-align: center; vertical-align: top\">Outbreak (1995)</td>\n",
              "        <td style=\"padding-left: 1em; padding-right: 1em; text-align: center; vertical-align: top\">4.390012563943766</td>\n",
              "        <td style=\"padding-left: 1em; padding-right: 1em; text-align: center; vertical-align: top\">3</td>\n",
              "    </tr>\n",
              "    <tr>\n",
              "        <td style=\"padding-left: 1em; padding-right: 1em; text-align: center; vertical-align: top\">30</td>\n",
              "        <td style=\"padding-left: 1em; padding-right: 1em; text-align: center; vertical-align: top\">Donnie Darko (2001)</td>\n",
              "        <td style=\"padding-left: 1em; padding-right: 1em; text-align: center; vertical-align: top\">4.537588331654571</td>\n",
              "        <td style=\"padding-left: 1em; padding-right: 1em; text-align: center; vertical-align: top\">1</td>\n",
              "    </tr>\n",
              "    <tr>\n",
              "        <td style=\"padding-left: 1em; padding-right: 1em; text-align: center; vertical-align: top\">30</td>\n",
              "        <td style=\"padding-left: 1em; padding-right: 1em; text-align: center; vertical-align: top\">Harry Potter and the<br>Prisoner of Azkaban ...</td>\n",
              "        <td style=\"padding-left: 1em; padding-right: 1em; text-align: center; vertical-align: top\">4.498054399892591</td>\n",
              "        <td style=\"padding-left: 1em; padding-right: 1em; text-align: center; vertical-align: top\">2</td>\n",
              "    </tr>\n",
              "    <tr>\n",
              "        <td style=\"padding-left: 1em; padding-right: 1em; text-align: center; vertical-align: top\">30</td>\n",
              "        <td style=\"padding-left: 1em; padding-right: 1em; text-align: center; vertical-align: top\">Groundhog Day (1993)</td>\n",
              "        <td style=\"padding-left: 1em; padding-right: 1em; text-align: center; vertical-align: top\">4.460989709749721</td>\n",
              "        <td style=\"padding-left: 1em; padding-right: 1em; text-align: center; vertical-align: top\">3</td>\n",
              "    </tr>\n",
              "    <tr>\n",
              "        <td style=\"padding-left: 1em; padding-right: 1em; text-align: center; vertical-align: top\">138491</td>\n",
              "        <td style=\"padding-left: 1em; padding-right: 1em; text-align: center; vertical-align: top\">Donnie Darko (2001)</td>\n",
              "        <td style=\"padding-left: 1em; padding-right: 1em; text-align: center; vertical-align: top\">4.5211877932696565</td>\n",
              "        <td style=\"padding-left: 1em; padding-right: 1em; text-align: center; vertical-align: top\">1</td>\n",
              "    </tr>\n",
              "    <tr>\n",
              "        <td style=\"padding-left: 1em; padding-right: 1em; text-align: center; vertical-align: top\">138491</td>\n",
              "        <td style=\"padding-left: 1em; padding-right: 1em; text-align: center; vertical-align: top\">Groundhog Day (1993)</td>\n",
              "        <td style=\"padding-left: 1em; padding-right: 1em; text-align: center; vertical-align: top\">4.468249808803104</td>\n",
              "        <td style=\"padding-left: 1em; padding-right: 1em; text-align: center; vertical-align: top\">2</td>\n",
              "    </tr>\n",
              "    <tr>\n",
              "        <td style=\"padding-left: 1em; padding-right: 1em; text-align: center; vertical-align: top\">138491</td>\n",
              "        <td style=\"padding-left: 1em; padding-right: 1em; text-align: center; vertical-align: top\">Outbreak (1995)</td>\n",
              "        <td style=\"padding-left: 1em; padding-right: 1em; text-align: center; vertical-align: top\">4.411800693526767</td>\n",
              "        <td style=\"padding-left: 1em; padding-right: 1em; text-align: center; vertical-align: top\">3</td>\n",
              "    </tr>\n",
              "</table>\n",
              "[9 rows x 4 columns]<br/>\n",
              "</div>"
            ]
          },
          "metadata": {},
          "execution_count": 11
        }
      ]
    },
    {
      "cell_type": "code",
      "source": [
        "models = [f_model, s_model, rf_model]\n",
        "model_names = ['Factorization', 'Item similarity', 'Ranking factorization']\n",
        "tc.recommender.util.compare_models(test, models, model_names=model_names, metric='rmse', target='rating')\n"
      ],
      "metadata": {
        "colab": {
          "base_uri": "https://localhost:8080/"
        },
        "id": "rq8L_mwVUQQd",
        "outputId": "ead77082-c943-466d-ca95-b199aec3f3bb"
      },
      "execution_count": 9,
      "outputs": [
        {
          "output_type": "stream",
          "name": "stdout",
          "text": [
            "PROGRESS: Evaluate model Factorization\n",
            "\n",
            "Overall RMSE: 0.9220283478766871\n",
            "\n",
            "Per User RMSE (best)\n",
            "+--------+---------------------+-------+\n",
            "| userId |         rmse        | count |\n",
            "+--------+---------------------+-------+\n",
            "|  2266  | 0.17270567447578025 |   3   |\n",
            "+--------+---------------------+-------+\n",
            "[1 rows x 3 columns]\n",
            "\n",
            "\n",
            "Per User RMSE (worst)\n",
            "+--------+--------------------+-------+\n",
            "| userId |        rmse        | count |\n",
            "+--------+--------------------+-------+\n",
            "|  3453  | 3.6999108653853248 |   6   |\n",
            "+--------+--------------------+-------+\n",
            "[1 rows x 3 columns]\n",
            "\n",
            "\n",
            "Per Item RMSE (best)\n",
            "+-----------------------+----------------------+-------+\n",
            "|         title         |         rmse         | count |\n",
            "+-----------------------+----------------------+-------+\n",
            "| Faces of Death (1978) | 0.001157165503054891 |   1   |\n",
            "+-----------------------+----------------------+-------+\n",
            "[1 rows x 3 columns]\n",
            "\n",
            "\n",
            "Per Item RMSE (worst)\n",
            "+-------------------------------+-------------------+-------+\n",
            "|             title             |        rmse       | count |\n",
            "+-------------------------------+-------------------+-------+\n",
            "| The Diary of a Teenage Gir... | 5.981418394023312 |   1   |\n",
            "+-------------------------------+-------------------+-------+\n",
            "[1 rows x 3 columns]\n",
            "\n",
            "PROGRESS: Evaluate model Item similarity\n",
            "\n",
            "Overall RMSE: 3.6305657716606263\n",
            "\n",
            "Per User RMSE (best)\n",
            "+--------+-------------------+-------+\n",
            "| userId |        rmse       | count |\n",
            "+--------+-------------------+-------+\n",
            "|  3052  | 1.333243403860485 |   53  |\n",
            "+--------+-------------------+-------+\n",
            "[1 rows x 3 columns]\n",
            "\n",
            "\n",
            "Per User RMSE (worst)\n",
            "+--------+------------------+-------+\n",
            "| userId |       rmse       | count |\n",
            "+--------+------------------+-------+\n",
            "|  2522  | 4.99780238528342 |   3   |\n",
            "+--------+------------------+-------+\n",
            "[1 rows x 3 columns]\n",
            "\n",
            "\n",
            "Per Item RMSE (best)\n",
            "+--------------------------+---------------------+-------+\n",
            "|          title           |         rmse        | count |\n",
            "+--------------------------+---------------------+-------+\n",
            "| Back-up Plan, The (2010) | 0.48416998831258307 |   1   |\n",
            "+--------------------------+---------------------+-------+\n",
            "[1 rows x 3 columns]\n",
            "\n",
            "\n",
            "Per Item RMSE (worst)\n",
            "+-------------------------+------+-------+\n",
            "|          title          | rmse | count |\n",
            "+-------------------------+------+-------+\n",
            "| Teddy Bear (Mis) (1981) | 5.0  |   1   |\n",
            "+-------------------------+------+-------+\n",
            "[1 rows x 3 columns]\n",
            "\n",
            "PROGRESS: Evaluate model Ranking factorization\n",
            "\n",
            "Overall RMSE: 1.2553164692185654\n",
            "\n",
            "Per User RMSE (best)\n",
            "+--------+---------------------+-------+\n",
            "| userId |         rmse        | count |\n",
            "+--------+---------------------+-------+\n",
            "|  1962  | 0.03640530734514247 |   1   |\n",
            "+--------+---------------------+-------+\n",
            "[1 rows x 3 columns]\n",
            "\n",
            "\n",
            "Per User RMSE (worst)\n",
            "+--------+-------------------+-------+\n",
            "| userId |        rmse       | count |\n",
            "+--------+-------------------+-------+\n",
            "|  3453  | 6.098537944362247 |   6   |\n",
            "+--------+-------------------+-------+\n",
            "[1 rows x 3 columns]\n",
            "\n",
            "\n",
            "Per Item RMSE (best)\n",
            "+-------------------------+-----------------------+-------+\n",
            "|          title          |          rmse         | count |\n",
            "+-------------------------+-----------------------+-------+\n",
            "| Lassie Come Home (1943) | 0.0001529056101197135 |   1   |\n",
            "+-------------------------+-----------------------+-------+\n",
            "[1 rows x 3 columns]\n",
            "\n",
            "\n",
            "Per Item RMSE (worst)\n",
            "+--------------------+-------------------+-------+\n",
            "|       title        |        rmse       | count |\n",
            "+--------------------+-------------------+-------+\n",
            "| Don't Blink (2014) | 10.10037097536878 |   1   |\n",
            "+--------------------+-------------------+-------+\n",
            "[1 rows x 3 columns]\n",
            "\n"
          ]
        },
        {
          "output_type": "execute_result",
          "data": {
            "text/plain": [
              "[{'rmse_by_user': Columns:\n",
              "  \tuserId\tint\n",
              "  \trmse\tfloat\n",
              "  \tcount\tint\n",
              "  \n",
              "  Rows: 998\n",
              "  \n",
              "  Data:\n",
              "  +--------+--------------------+-------+\n",
              "  | userId |        rmse        | count |\n",
              "  +--------+--------------------+-------+\n",
              "  |  2779  | 1.2100913906400592 |   5   |\n",
              "  |  118   | 1.4133347510279122 |   6   |\n",
              "  |  3365  | 0.8107400383926773 |   42  |\n",
              "  |  839   | 0.5936498439083114 |   8   |\n",
              "  |  2807  | 1.1131878374303268 |   11  |\n",
              "  |  2043  | 1.095789414801873  |   18  |\n",
              "  |  3159  | 2.1339540707228006 |   6   |\n",
              "  |  699   | 0.7629859166930952 |   57  |\n",
              "  |  2465  | 1.005205111135264  |   22  |\n",
              "  |  2445  | 0.4285714963978198 |   5   |\n",
              "  +--------+--------------------+-------+\n",
              "  [998 rows x 3 columns]\n",
              "  Note: Only the head of the SFrame is printed.\n",
              "  You can use print_rows(num_rows=m, num_columns=n) to print more rows and columns.,\n",
              "  'rmse_by_item': Columns:\n",
              "  \ttitle\tstr\n",
              "  \trmse\tfloat\n",
              "  \tcount\tint\n",
              "  \n",
              "  Rows: 5712\n",
              "  \n",
              "  Data:\n",
              "  +--------------------------------+---------------------+-------+\n",
              "  |             title              |         rmse        | count |\n",
              "  +--------------------------------+---------------------+-------+\n",
              "  | American Tail: Fievel Goes...  |  0.7393402861771223 |   3   |\n",
              "  | For Whom the Bell Tolls (1943) | 0.27115987244954565 |   2   |\n",
              "  |   My Life Without Me (2003)    |  0.3879983919719585 |   1   |\n",
              "  |   Hero and the Terror (1988)   |  2.5102045702106555 |   1   |\n",
              "  |    Parent Trap, The (1998)     |  0.644250008741168  |   4   |\n",
              "  | How to Lose Friends & Alie...  |  0.894986178351159  |   1   |\n",
              "  |  Hellraiser: Bloodline (1996)  |  0.7492012344176648 |   2   |\n",
              "  | Bill & Ted's Excellent Adv...  |  0.7167149831426175 |   5   |\n",
              "  |        Sneakers (1992)         |  0.8544085268745439 |   25  |\n",
              "  | Day Watch (Dnevnoy dozor) ...  |  0.6897699017273856 |   2   |\n",
              "  +--------------------------------+---------------------+-------+\n",
              "  [5712 rows x 3 columns]\n",
              "  Note: Only the head of the SFrame is printed.\n",
              "  You can use print_rows(num_rows=m, num_columns=n) to print more rows and columns.,\n",
              "  'rmse_overall': 0.9220283478766871},\n",
              " {'rmse_by_user': Columns:\n",
              "  \tuserId\tint\n",
              "  \trmse\tfloat\n",
              "  \tcount\tint\n",
              "  \n",
              "  Rows: 998\n",
              "  \n",
              "  Data:\n",
              "  +--------+--------------------+-------+\n",
              "  | userId |        rmse        | count |\n",
              "  +--------+--------------------+-------+\n",
              "  |  2779  | 3.831297915305032  |   5   |\n",
              "  |  118   | 4.269920570033804  |   6   |\n",
              "  |  3365  | 3.9346107831909705 |   42  |\n",
              "  |  839   | 4.083153331406486  |   8   |\n",
              "  |  2807  | 3.3788352676928284 |   11  |\n",
              "  |  2043  | 4.056860669764593  |   18  |\n",
              "  |  3159  | 3.0317616411000214 |   6   |\n",
              "  |  699   | 3.5814996279512217 |   57  |\n",
              "  |  2465  | 3.9576898651933567 |   22  |\n",
              "  |  2445  | 4.130834021998356  |   5   |\n",
              "  +--------+--------------------+-------+\n",
              "  [998 rows x 3 columns]\n",
              "  Note: Only the head of the SFrame is printed.\n",
              "  You can use print_rows(num_rows=m, num_columns=n) to print more rows and columns.,\n",
              "  'rmse_by_item': Columns:\n",
              "  \ttitle\tstr\n",
              "  \trmse\tfloat\n",
              "  \tcount\tint\n",
              "  \n",
              "  Rows: 5712\n",
              "  \n",
              "  Data:\n",
              "  +--------------------------------+---------------------+-------+\n",
              "  |             title              |         rmse        | count |\n",
              "  +--------------------------------+---------------------+-------+\n",
              "  | American Tail: Fievel Goes...  |  3.5177934501473653 |   3   |\n",
              "  | For Whom the Bell Tolls (1943) |  3.5355339059327378 |   2   |\n",
              "  |   My Life Without Me (2003)    |  3.9985352082540526 |   1   |\n",
              "  |   Hero and the Terror (1988)   | 0.49571673336334054 |   1   |\n",
              "  |    Parent Trap, The (1998)     |  3.602697444318415  |   4   |\n",
              "  | How to Lose Friends & Alie...  |         4.5         |   1   |\n",
              "  |  Hellraiser: Bloodline (1996)  |  2.912097306207326  |   2   |\n",
              "  | Bill & Ted's Excellent Adv...  |  3.6372250426996855 |   5   |\n",
              "  |        Sneakers (1992)         |  3.627462523458797  |   25  |\n",
              "  | Day Watch (Dnevnoy dozor) ...  |  2.7601011311250554 |   2   |\n",
              "  +--------------------------------+---------------------+-------+\n",
              "  [5712 rows x 3 columns]\n",
              "  Note: Only the head of the SFrame is printed.\n",
              "  You can use print_rows(num_rows=m, num_columns=n) to print more rows and columns.,\n",
              "  'rmse_overall': 3.6305657716606263},\n",
              " {'rmse_by_user': Columns:\n",
              "  \tuserId\tint\n",
              "  \trmse\tfloat\n",
              "  \tcount\tint\n",
              "  \n",
              "  Rows: 998\n",
              "  \n",
              "  Data:\n",
              "  +--------+--------------------+-------+\n",
              "  | userId |        rmse        | count |\n",
              "  +--------+--------------------+-------+\n",
              "  |  2779  | 1.2440405762896578 |   5   |\n",
              "  |  118   | 1.390462543770902  |   6   |\n",
              "  |  3365  | 1.7744638075243435 |   42  |\n",
              "  |  839   | 0.5390675687751304 |   8   |\n",
              "  |  2807  | 1.100571432259456  |   11  |\n",
              "  |  2043  | 1.0483916989634836 |   18  |\n",
              "  |  3159  | 3.0831359484409626 |   6   |\n",
              "  |  699   | 0.7978850914194939 |   57  |\n",
              "  |  2465  | 1.0012904220391732 |   22  |\n",
              "  |  2445  | 0.5863823107094416 |   5   |\n",
              "  +--------+--------------------+-------+\n",
              "  [998 rows x 3 columns]\n",
              "  Note: Only the head of the SFrame is printed.\n",
              "  You can use print_rows(num_rows=m, num_columns=n) to print more rows and columns.,\n",
              "  'rmse_by_item': Columns:\n",
              "  \ttitle\tstr\n",
              "  \trmse\tfloat\n",
              "  \tcount\tint\n",
              "  \n",
              "  Rows: 5712\n",
              "  \n",
              "  Data:\n",
              "  +--------------------------------+--------------------+-------+\n",
              "  |             title              |        rmse        | count |\n",
              "  +--------------------------------+--------------------+-------+\n",
              "  | American Tail: Fievel Goes...  | 0.6866305801697429 |   3   |\n",
              "  | For Whom the Bell Tolls (1943) | 0.6835613031713663 |   2   |\n",
              "  |   My Life Without Me (2003)    | 1.0090214783643203 |   1   |\n",
              "  |   Hero and the Terror (1988)   | 1.5912297913354463 |   1   |\n",
              "  |    Parent Trap, The (1998)     | 0.8031067888518356 |   4   |\n",
              "  | How to Lose Friends & Alie...  | 4.123843903238228  |   1   |\n",
              "  |  Hellraiser: Bloodline (1996)  | 0.9121098001584941 |   2   |\n",
              "  | Bill & Ted's Excellent Adv...  | 0.7834810345747717 |   5   |\n",
              "  |        Sneakers (1992)         | 0.8643600823523968 |   25  |\n",
              "  | Day Watch (Dnevnoy dozor) ...  | 0.2511105826228524 |   2   |\n",
              "  +--------------------------------+--------------------+-------+\n",
              "  [5712 rows x 3 columns]\n",
              "  Note: Only the head of the SFrame is printed.\n",
              "  You can use print_rows(num_rows=m, num_columns=n) to print more rows and columns.,\n",
              "  'rmse_overall': 1.2553164692185654}]"
            ]
          },
          "metadata": {},
          "execution_count": 9
        }
      ]
    }
  ]
}