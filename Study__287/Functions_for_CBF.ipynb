{
  "nbformat": 4,
  "nbformat_minor": 0,
  "metadata": {
    "colab": {
      "name": "Functions for CBF",
      "provenance": [],
      "authorship_tag": "ABX9TyML1I7Juo0ukvGSRo1LD/EG"
    },
    "kernelspec": {
      "name": "python3",
      "display_name": "Python 3"
    },
    "language_info": {
      "name": "python"
    }
  },
  "cells": [
    {
      "cell_type": "markdown",
      "source": [
        "## Utilities 정의\n",
        "\n",
        "- 영화 메타데이터 load"
      ],
      "metadata": {
        "id": "dcWM8v3gnMD9"
      }
    },
    {
      "cell_type": "code",
      "execution_count": 1,
      "metadata": {
        "colab": {
          "base_uri": "https://localhost:8080/",
          "height": 337
        },
        "id": "olBjICkSlR0g",
        "outputId": "e2f79707-d56e-4a43-899e-17ff5f0b53a3"
      },
      "outputs": [
        {
          "output_type": "execute_result",
          "data": {
            "text/plain": [
              "   movieId  imdbId                               title  \\\n",
              "0        1  114709                    Toy Story (1995)   \n",
              "1        2  113497                      Jumanji (1995)   \n",
              "2        3  113228             Grumpier Old Men (1995)   \n",
              "3        4  114885            Waiting to Exhale (1995)   \n",
              "4        5  113041  Father of the Bride Part II (1995)   \n",
              "\n",
              "                                        genres  \\\n",
              "0  Adventure|Animation|Children|Comedy|Fantasy   \n",
              "1                   Adventure|Children|Fantasy   \n",
              "2                               Comedy|Romance   \n",
              "3                         Comedy|Drama|Romance   \n",
              "4                                       Comedy   \n",
              "\n",
              "                                              imgurl  \n",
              "0  https://images-na.ssl-images-amazon.com/images...  \n",
              "1  https://images-na.ssl-images-amazon.com/images...  \n",
              "2  https://images-na.ssl-images-amazon.com/images...  \n",
              "3  https://images-na.ssl-images-amazon.com/images...  \n",
              "4  https://images-na.ssl-images-amazon.com/images...  "
            ],
            "text/html": [
              "\n",
              "  <div id=\"df-a203db21-35dd-407a-837e-4460f84c29d4\">\n",
              "    <div class=\"colab-df-container\">\n",
              "      <div>\n",
              "<style scoped>\n",
              "    .dataframe tbody tr th:only-of-type {\n",
              "        vertical-align: middle;\n",
              "    }\n",
              "\n",
              "    .dataframe tbody tr th {\n",
              "        vertical-align: top;\n",
              "    }\n",
              "\n",
              "    .dataframe thead th {\n",
              "        text-align: right;\n",
              "    }\n",
              "</style>\n",
              "<table border=\"1\" class=\"dataframe\">\n",
              "  <thead>\n",
              "    <tr style=\"text-align: right;\">\n",
              "      <th></th>\n",
              "      <th>movieId</th>\n",
              "      <th>imdbId</th>\n",
              "      <th>title</th>\n",
              "      <th>genres</th>\n",
              "      <th>imgurl</th>\n",
              "    </tr>\n",
              "  </thead>\n",
              "  <tbody>\n",
              "    <tr>\n",
              "      <th>0</th>\n",
              "      <td>1</td>\n",
              "      <td>114709</td>\n",
              "      <td>Toy Story (1995)</td>\n",
              "      <td>Adventure|Animation|Children|Comedy|Fantasy</td>\n",
              "      <td>https://images-na.ssl-images-amazon.com/images...</td>\n",
              "    </tr>\n",
              "    <tr>\n",
              "      <th>1</th>\n",
              "      <td>2</td>\n",
              "      <td>113497</td>\n",
              "      <td>Jumanji (1995)</td>\n",
              "      <td>Adventure|Children|Fantasy</td>\n",
              "      <td>https://images-na.ssl-images-amazon.com/images...</td>\n",
              "    </tr>\n",
              "    <tr>\n",
              "      <th>2</th>\n",
              "      <td>3</td>\n",
              "      <td>113228</td>\n",
              "      <td>Grumpier Old Men (1995)</td>\n",
              "      <td>Comedy|Romance</td>\n",
              "      <td>https://images-na.ssl-images-amazon.com/images...</td>\n",
              "    </tr>\n",
              "    <tr>\n",
              "      <th>3</th>\n",
              "      <td>4</td>\n",
              "      <td>114885</td>\n",
              "      <td>Waiting to Exhale (1995)</td>\n",
              "      <td>Comedy|Drama|Romance</td>\n",
              "      <td>https://images-na.ssl-images-amazon.com/images...</td>\n",
              "    </tr>\n",
              "    <tr>\n",
              "      <th>4</th>\n",
              "      <td>5</td>\n",
              "      <td>113041</td>\n",
              "      <td>Father of the Bride Part II (1995)</td>\n",
              "      <td>Comedy</td>\n",
              "      <td>https://images-na.ssl-images-amazon.com/images...</td>\n",
              "    </tr>\n",
              "  </tbody>\n",
              "</table>\n",
              "</div>\n",
              "      <button class=\"colab-df-convert\" onclick=\"convertToInteractive('df-a203db21-35dd-407a-837e-4460f84c29d4')\"\n",
              "              title=\"Convert this dataframe to an interactive table.\"\n",
              "              style=\"display:none;\">\n",
              "        \n",
              "  <svg xmlns=\"http://www.w3.org/2000/svg\" height=\"24px\"viewBox=\"0 0 24 24\"\n",
              "       width=\"24px\">\n",
              "    <path d=\"M0 0h24v24H0V0z\" fill=\"none\"/>\n",
              "    <path d=\"M18.56 5.44l.94 2.06.94-2.06 2.06-.94-2.06-.94-.94-2.06-.94 2.06-2.06.94zm-11 1L8.5 8.5l.94-2.06 2.06-.94-2.06-.94L8.5 2.5l-.94 2.06-2.06.94zm10 10l.94 2.06.94-2.06 2.06-.94-2.06-.94-.94-2.06-.94 2.06-2.06.94z\"/><path d=\"M17.41 7.96l-1.37-1.37c-.4-.4-.92-.59-1.43-.59-.52 0-1.04.2-1.43.59L10.3 9.45l-7.72 7.72c-.78.78-.78 2.05 0 2.83L4 21.41c.39.39.9.59 1.41.59.51 0 1.02-.2 1.41-.59l7.78-7.78 2.81-2.81c.8-.78.8-2.07 0-2.86zM5.41 20L4 18.59l7.72-7.72 1.47 1.35L5.41 20z\"/>\n",
              "  </svg>\n",
              "      </button>\n",
              "      \n",
              "  <style>\n",
              "    .colab-df-container {\n",
              "      display:flex;\n",
              "      flex-wrap:wrap;\n",
              "      gap: 12px;\n",
              "    }\n",
              "\n",
              "    .colab-df-convert {\n",
              "      background-color: #E8F0FE;\n",
              "      border: none;\n",
              "      border-radius: 50%;\n",
              "      cursor: pointer;\n",
              "      display: none;\n",
              "      fill: #1967D2;\n",
              "      height: 32px;\n",
              "      padding: 0 0 0 0;\n",
              "      width: 32px;\n",
              "    }\n",
              "\n",
              "    .colab-df-convert:hover {\n",
              "      background-color: #E2EBFA;\n",
              "      box-shadow: 0px 1px 2px rgba(60, 64, 67, 0.3), 0px 1px 3px 1px rgba(60, 64, 67, 0.15);\n",
              "      fill: #174EA6;\n",
              "    }\n",
              "\n",
              "    [theme=dark] .colab-df-convert {\n",
              "      background-color: #3B4455;\n",
              "      fill: #D2E3FC;\n",
              "    }\n",
              "\n",
              "    [theme=dark] .colab-df-convert:hover {\n",
              "      background-color: #434B5C;\n",
              "      box-shadow: 0px 1px 3px 1px rgba(0, 0, 0, 0.15);\n",
              "      filter: drop-shadow(0px 1px 2px rgba(0, 0, 0, 0.3));\n",
              "      fill: #FFFFFF;\n",
              "    }\n",
              "  </style>\n",
              "\n",
              "      <script>\n",
              "        const buttonEl =\n",
              "          document.querySelector('#df-a203db21-35dd-407a-837e-4460f84c29d4 button.colab-df-convert');\n",
              "        buttonEl.style.display =\n",
              "          google.colab.kernel.accessAllowed ? 'block' : 'none';\n",
              "\n",
              "        async function convertToInteractive(key) {\n",
              "          const element = document.querySelector('#df-a203db21-35dd-407a-837e-4460f84c29d4');\n",
              "          const dataTable =\n",
              "            await google.colab.kernel.invokeFunction('convertToInteractive',\n",
              "                                                     [key], {});\n",
              "          if (!dataTable) return;\n",
              "\n",
              "          const docLinkHtml = 'Like what you see? Visit the ' +\n",
              "            '<a target=\"_blank\" href=https://colab.research.google.com/notebooks/data_table.ipynb>data table notebook</a>'\n",
              "            + ' to learn more about interactive tables.';\n",
              "          element.innerHTML = '';\n",
              "          dataTable['output_type'] = 'display_data';\n",
              "          await google.colab.output.renderOutput(dataTable, element);\n",
              "          const docLink = document.createElement('div');\n",
              "          docLink.innerHTML = docLinkHtml;\n",
              "          element.appendChild(docLink);\n",
              "        }\n",
              "      </script>\n",
              "    </div>\n",
              "  </div>\n",
              "  "
            ]
          },
          "metadata": {},
          "execution_count": 1
        }
      ],
      "source": [
        "import pandas as pd\n",
        "\n",
        "movies = pd.read_csv('/content/movies_w_imgurl.csv')\n",
        "movies.head()"
      ]
    },
    {
      "cell_type": "code",
      "source": [
        ""
      ],
      "metadata": {
        "id": "dywra1conl6X"
      },
      "execution_count": null,
      "outputs": []
    },
    {
      "cell_type": "markdown",
      "source": [
        "**1. define displayMovies function**"
      ],
      "metadata": {
        "id": "mjBUaw2knn59"
      }
    },
    {
      "cell_type": "code",
      "source": [
        "\n",
        "from IPython.display import display, HTML\n",
        "\n",
        "def displayMovies(movies, movieIds, ratings = []):\n",
        "\n",
        "    html = \"\"\n",
        "\n",
        "    for i, movieId in enumerate(movieIds):\n",
        "        movie = movies[movies['movieId'] == movieId].iloc[0]\n",
        "\n",
        "        html += f\"\"\"\n",
        "            <div style=\"display:inline-block;min-width:150px;max-width:150px; vertical-align:top\">\n",
        "                <img src = '{movie.imgurl}' width=120> <br/>\n",
        "                <span>{movie.title}</span> <br/>\n",
        "                {f'<span>{ratings[i]}</span> <br/>' if len(ratings) > 0 else \"\"}\n",
        "                <ul>{\"\".join([f\"<li>{genre}</li>\" for genre in movie.genres.split('|')])}</ul>\n",
        "            </div>            \n",
        "        \"\"\"\n",
        "    \n",
        "    display(HTML(html))\n",
        "\n",
        "displayMovies(movies, [1,2,3], [4,3,3])"
      ],
      "metadata": {
        "colab": {
          "base_uri": "https://localhost:8080/",
          "height": 331
        },
        "id": "yyB-2moqnoL5",
        "outputId": "2654c566-6659-4cb4-8579-4fb97d8a0ecd"
      },
      "execution_count": 2,
      "outputs": [
        {
          "output_type": "display_data",
          "data": {
            "text/plain": [
              "<IPython.core.display.HTML object>"
            ],
            "text/html": [
              "\n",
              "            <div style=\"display:inline-block;min-width:150px;max-width:150px; vertical-align:top\">\n",
              "                <img src = 'https://images-na.ssl-images-amazon.com/images/M/MV5BMDU2ZWJlMjktMTRhMy00ZTA5LWEzNDgtYmNmZTEwZTViZWJkXkEyXkFqcGdeQXVyNDQ2OTk4MzI@._V1_UX182_CR0,0,182,268_AL_.jpg' width=120> <br/>\n",
              "                <span>Toy Story (1995)</span> <br/>\n",
              "                <span>4</span> <br/>\n",
              "                <ul><li>Adventure</li><li>Animation</li><li>Children</li><li>Comedy</li><li>Fantasy</li></ul>\n",
              "            </div>            \n",
              "        \n",
              "            <div style=\"display:inline-block;min-width:150px;max-width:150px; vertical-align:top\">\n",
              "                <img src = 'https://images-na.ssl-images-amazon.com/images/M/MV5BZTk2ZmUwYmEtNTcwZS00YmMyLWFkYjMtNTRmZDA3YWExMjc2XkEyXkFqcGdeQXVyMTQxNzMzNDI@._V1_UY268_CR10,0,182,268_AL_.jpg' width=120> <br/>\n",
              "                <span>Jumanji (1995)</span> <br/>\n",
              "                <span>3</span> <br/>\n",
              "                <ul><li>Adventure</li><li>Children</li><li>Fantasy</li></ul>\n",
              "            </div>            \n",
              "        \n",
              "            <div style=\"display:inline-block;min-width:150px;max-width:150px; vertical-align:top\">\n",
              "                <img src = 'https://images-na.ssl-images-amazon.com/images/M/MV5BMjQxM2YyNjMtZjUxYy00OGYyLTg0MmQtNGE2YzNjYmUyZTY1XkEyXkFqcGdeQXVyMTQxNzMzNDI@._V1_UX182_CR0,0,182,268_AL_.jpg' width=120> <br/>\n",
              "                <span>Grumpier Old Men (1995)</span> <br/>\n",
              "                <span>3</span> <br/>\n",
              "                <ul><li>Comedy</li><li>Romance</li></ul>\n",
              "            </div>            \n",
              "        "
            ]
          },
          "metadata": {}
        }
      ]
    },
    {
      "cell_type": "code",
      "source": [
        ""
      ],
      "metadata": {
        "id": "BAE-wxxcrP_C"
      },
      "execution_count": null,
      "outputs": []
    },
    {
      "cell_type": "markdown",
      "source": [
        "**define getMAE and getRMSE functions**"
      ],
      "metadata": {
        "id": "44N0brxCsDie"
      }
    },
    {
      "cell_type": "code",
      "source": [
        "import numpy as np\n",
        "import math\n",
        "\n",
        "def getMAE(real, pred):\n",
        "     errors = real - pred\n",
        "     return errors.abs().mean()\n",
        "\n",
        "def getRMSE(real, pred):\n",
        "    errors = real - pred\n",
        "    return math.sqrt(errors.pow(2).mean())\n",
        "\n",
        "mat = np.array([\n",
        "    [1, 2, 3],          # movieId\n",
        "    [3.0, 4.0, 5.0],    # rating\n",
        "    [3.2, 3.8, 4.3]     # prediction\n",
        "])\n",
        "\n",
        "ratings = pd.DataFrame(data=mat.T, columns=['movieId', 'rating', 'pred'])\n",
        "\n",
        "\n",
        "mae = getMAE(ratings['rating'], ratings['pred'])\n",
        "rmse = getRMSE(ratings['rating'], ratings['pred'])\n",
        "\n",
        "print(f\"MAE : {mae:.4f}\")\n",
        "print(f\"RMSE: {rmse:.4f}\")"
      ],
      "metadata": {
        "colab": {
          "base_uri": "https://localhost:8080/"
        },
        "id": "jC-Qvi7GsIb9",
        "outputId": "a887e7cf-26fc-4236-9f21-10c2285856ec"
      },
      "execution_count": 3,
      "outputs": [
        {
          "output_type": "stream",
          "name": "stdout",
          "text": [
            "MAE : 0.3667\n",
            "RMSE: 0.4359\n"
          ]
        }
      ]
    },
    {
      "cell_type": "code",
      "source": [
        ""
      ],
      "metadata": {
        "id": "y-699VNssR3e"
      },
      "execution_count": null,
      "outputs": []
    }
  ]
}