{
  "nbformat": 4,
  "nbformat_minor": 0,
  "metadata": {
    "colab": {
      "name": "Day06",
      "provenance": [],
      "toc_visible": true
    },
    "kernelspec": {
      "name": "python3",
      "display_name": "Python 3"
    },
    "language_info": {
      "name": "python"
    }
  },
  "cells": [
    {
      "cell_type": "markdown",
      "source": [
        "## 오늘 한 일\n",
        "\n",
        "해커톤3가 처음 시작이 되는 날이었지만 지난주에 매일 몇 시간씩 회의를 하고 업무 분담을 하였기에\n",
        "각자의 일을 잘 수행한 것 같습니다. 저는 머신러닝과 xai for nlp관련해서 담당을 맡았지만 먼저 저희의 task인 감정 분류부분에 대한 이해를 높여야 한다고 생각을 하여 관련 블로그를 먼저 읽고 깃허브를 통해서 코드리뷰 또한 했습니다.\n",
        "\n",
        "그리고 그 블로그를 분석하여, 우리의 challenge는 뭔지 어떻게 solution을 할지에 대해서 심오한 고민을 해결하지 못한 하루였습니다.\n",
        "\n",
        "물론, 팀원들은 self-attention으로 어느정도 할 수는 있다고 하지만 어떻게 해야할지에 대해 완벽한 해결책은 찾지 못한 것 같습니다.\n",
        "\n",
        "<br>\n",
        "\n",
        "- 어려움\n",
        "\n",
        "   - 영어로는 가능하지만 한국어로는 될까?\n",
        "   \n",
        "   - 우리가 원하는 느낌일까?\n",
        "   \n",
        "\n",
        "- 해결책\n",
        "\n",
        "    - 찾는 주웅"
      ],
      "metadata": {
        "id": "fI_L_dGFDGc7"
      }
    }
  ]
}