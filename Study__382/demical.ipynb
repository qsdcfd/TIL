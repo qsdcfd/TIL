{
  "nbformat": 4,
  "nbformat_minor": 0,
  "metadata": {
    "colab": {
      "provenance": [],
      "authorship_tag": "ABX9TyP2kq/8KTFLd53XuB7JUCD8"
    },
    "kernelspec": {
      "name": "python3",
      "display_name": "Python 3"
    },
    "language_info": {
      "name": "python"
    }
  },
  "cells": [
    {
      "cell_type": "code",
      "execution_count": null,
      "metadata": {
        "id": "R5oLsL4BrHIa"
      },
      "outputs": [],
      "source": []
    },
    {
      "cell_type": "markdown",
      "source": [
        "## 정확도가 매우 중요한 경우에는 decimal을 사용하라\n",
        "\n",
        "### Decimal 클래스\n",
        "\n",
        "- 디폴트로 소수점 이하 28번째 자리까지 고정소수점 수 연산을 제공\n",
        "\n",
        "- 자릿수를 더 늘릴 수도 있다.\n",
        "\n",
        "- 반올림 처리 정확성도 증가\n",
        "\n",
        "```\n",
        "from decimal import Decimal\n",
        "\n",
        "rate = Decimal('1.45')\n",
        "seconds = Decimal(3*60 +42)\n",
        "cost = rate * seconds / Decimal(60)\n",
        "print(cost)\n",
        "5.365\n",
        "```\n",
        "\n",
        "<br>\n",
        "\n",
        "### Decimal 인스턴스에 값 지정\n",
        "\n",
        "1. 숫자가 들어있는 str을 Decimal 생성자에 전달\n",
        "\n",
        "```\n",
        "print(Decimal('1.45')) # 1.45\n",
        "print(Decimal(1.45)) #1.44999999999999999999999999559\n",
        "\n",
        "```\n",
        "\n",
        "<br>\n",
        "\n",
        "**내장 함수를 활용하여 반올림**\n",
        "\n",
        "\n",
        "```\n",
        "from decimal import ROUND_UP\n",
        "\n",
        "rounded = cost.quantize(Decimal('0.01'), rounding = ROUND_UP)\n",
        "print(f'반올림 전: {cost} 반올림 후:{rounded}')\n",
        "반올림 전: 5.365 반올림 후:5.37\n",
        "#quantize메서드를 사용하면 더 저렴하게 처리 가능\n",
        "\n",
        "rate = Decimal('0.05')\n",
        "seconds = Decimal('5')\n",
        "small_cost = rate * seconds / Decimal(60)\n",
        "print(small_cost)\n",
        "rounded = small_cost.quantize(Decimal('0.01'), rounding = ROUND_UP)\n",
        "print(f'반올림 전: {small_cost} 반올림 후: {rounded}')\n",
        "0.004166666666666666666666666667\n",
        "반올림 전: 0.004166666666666666666666666667 반올림 후: 0.01\n",
        "\n",
        "```"
      ],
      "metadata": {
        "id": "BRMR_GyzusLE"
      }
    },
    {
      "cell_type": "code",
      "source": [],
      "metadata": {
        "id": "v1EtDBkaus4n"
      },
      "execution_count": null,
      "outputs": []
    }
  ]
}