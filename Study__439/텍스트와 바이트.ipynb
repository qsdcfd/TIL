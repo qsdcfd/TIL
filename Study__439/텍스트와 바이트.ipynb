{
 "cells": [
  {
   "cell_type": "markdown",
   "id": "6f9a103e",
   "metadata": {},
   "source": [
    "# 텍스트와 바이트\n",
    "\n",
    "파이썬 3부터는 인간이 사용하는 텍스트 문자열과 원시 바이트 시퀀스를 엄격히 구분하려고 했는데 암묵적으로 바이트 시퀀스를 유니코드 텍스트로 변환하는 것은 과거의 일이다.\n",
    "\n",
    "이젠, 아스키 텍스트만 사용하는 프로그래머들에겐 아무런 영향을 미치지 않지만 문자열과 바이트는 구분을 해야한다.\n",
    "\n"
   ]
  },
  {
   "cell_type": "markdown",
   "id": "e2922876",
   "metadata": {},
   "source": [
    "## 문자 문제\n",
    "\n",
    "현재는 문자를 잘 정의한 것은 유니코드 문자이기에 str에서 가져오는 항목도 유니코드 문자입니다.\n",
    "\n",
    "<br>\n",
    "\n",
    "**유니코드 표준은 문자의 단위 원소와 특정 바이트 표현을 명확히 구분한다.**\n",
    "\n",
    "- 문자의 단위 원소는 10진수 0에서 1.114.111까지의 숫자며, 유니코드 표준에서 'U+' 접두사를 붙여서 4 자리에서                                                                                                                   \n",
    "\n",
    "- 문자를 표현하는 실제 바이트는 사용하는 인코등에 따라 달라지고, 코드 포인트를 바이트 시퀀스로 변환하는 알고리즘이다."
   ]
  },
  {
   "cell_type": "code",
   "execution_count": 1,
   "id": "fcf4bafe",
   "metadata": {},
   "outputs": [
    {
     "data": {
      "text/plain": [
       "4"
      ]
     },
     "execution_count": 1,
     "metadata": {},
     "output_type": "execute_result"
    }
   ],
   "source": [
    "s = 'cafe'\n",
    "len(s)"
   ]
  },
  {
   "cell_type": "code",
   "execution_count": 3,
   "id": "4124e35a",
   "metadata": {},
   "outputs": [
    {
     "data": {
      "text/plain": [
       "b'cafe'"
      ]
     },
     "execution_count": 3,
     "metadata": {},
     "output_type": "execute_result"
    }
   ],
   "source": [
    "b = s.encode('utf8')\n",
    "b"
   ]
  },
  {
   "cell_type": "code",
   "execution_count": 4,
   "id": "f657f55b",
   "metadata": {},
   "outputs": [
    {
     "data": {
      "text/plain": [
       "4"
      ]
     },
     "execution_count": 4,
     "metadata": {},
     "output_type": "execute_result"
    }
   ],
   "source": [
    "len(b)"
   ]
  },
  {
   "cell_type": "code",
   "execution_count": 5,
   "id": "f5dae276",
   "metadata": {},
   "outputs": [
    {
     "data": {
      "text/plain": [
       "'cafe'"
      ]
     },
     "execution_count": 5,
     "metadata": {},
     "output_type": "execute_result"
    }
   ],
   "source": [
    "b.decode('utf8')"
   ]
  },
  {
   "cell_type": "markdown",
   "id": "819200b0",
   "metadata": {},
   "source": [
    "파이썬 3 의 str은 파이썬 2 의 unicode 형의 이름을 변경한 것과 상당히 비슷하지만, 파이썬 3의 bytes는 단지 이전의 str 클래스의 이름을 변경한 것이 아니며, 이와 밀접하게 연관되어 있는 bytearray 형도 있다. \n",
    "\n",
    "따라서 인코딩과 디코딩 문제로 넘어가기 전에 이진 시퀀스형을 살펴볼 필요가 있다."
   ]
  },
  {
   "cell_type": "code",
   "execution_count": null,
   "id": "e3767311",
   "metadata": {},
   "outputs": [],
   "source": []
  }
 ],
 "metadata": {
  "kernelspec": {
   "display_name": "Python 3 (ipykernel)",
   "language": "python",
   "name": "python3"
  },
  "language_info": {
   "codemirror_mode": {
    "name": "ipython",
    "version": 3
   },
   "file_extension": ".py",
   "mimetype": "text/x-python",
   "name": "python",
   "nbconvert_exporter": "python",
   "pygments_lexer": "ipython3",
   "version": "3.8.13"
  }
 },
 "nbformat": 4,
 "nbformat_minor": 5
}
