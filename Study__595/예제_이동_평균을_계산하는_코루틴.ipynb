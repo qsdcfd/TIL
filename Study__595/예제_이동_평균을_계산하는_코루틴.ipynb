{
  "nbformat": 4,
  "nbformat_minor": 0,
  "metadata": {
    "colab": {
      "provenance": [],
      "authorship_tag": "ABX9TyOtqgDDsLLiOTABNmPHnbfK"
    },
    "kernelspec": {
      "name": "python3",
      "display_name": "Python 3"
    },
    "language_info": {
      "name": "python"
    }
  },
  "cells": [
    {
      "cell_type": "markdown",
      "source": [
        "# 제어 흐름\n",
        "## 코루틴\n",
        "### 예제: 이동 평균을 계산하는 코루틴\n",
        "\n",
        "**클러저를 생성한 후 total과 count를 변수를 보존하는 고급함수**\n",
        "\n",
        "```\n",
        "def averager():\n",
        "\ttotal = 0.0\n",
        "    count = 0\n",
        "    average = None\n",
        "    while = True\n",
        "    \tterm = yield average\n",
        "        total += term\n",
        "        count += 1\n",
        "        average = total/count\n",
        "```\n",
        "\n",
        "<br>\n",
        "\n",
        "코루틴을 사용 시, total과 count를 지역변수로 사용할 수 있고, 객체 속성이나 별도의 클로저없이 평균을 구한느데 필요한 값들을 유지할 수 있다.\n",
        "\n",
        "<br>\n",
        "\n",
        "```\n",
        "#이동 평균 코루틴에 대한 doctest\n",
        "\n",
        "coro_avg = averager()\n",
        "next(coro_avg)\n",
        "coro_avg.send(10)\n",
        "```"
      ],
      "metadata": {
        "id": "NprdxDihv872"
      }
    },
    {
      "cell_type": "code",
      "source": [],
      "metadata": {
        "id": "Kf7GxcLlv_JR"
      },
      "execution_count": null,
      "outputs": []
    }
  ]
}