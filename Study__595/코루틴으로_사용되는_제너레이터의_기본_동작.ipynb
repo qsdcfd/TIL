{
  "nbformat": 4,
  "nbformat_minor": 0,
  "metadata": {
    "colab": {
      "provenance": [],
      "authorship_tag": "ABX9TyN/B6ZcazU4s0HtqFcaUhJh"
    },
    "kernelspec": {
      "name": "python3",
      "display_name": "Python 3"
    },
    "language_info": {
      "name": "python"
    }
  },
  "cells": [
    {
      "cell_type": "markdown",
      "source": [
        "# 제어 흐름\n",
        "## 코루틴\n",
        "### 코루틴으로 사용되는 제너레이터의 기본 동작\n",
        "```\n",
        "def simple_coroutine():\n",
        "\tprint('-> coroutine started')\n",
        "    x = yield\n",
        "    print('-> coroutine received:',x)\n",
        "    \n",
        "my_coro = simple_coroutine()\n",
        "my_coro\n",
        "next(my_coro)\n",
        "my_coro.send(42)\n",
        "```\n",
        "\n",
        "*코루틴이 갖는 4가지 상태로 inspect.getgeneratorstate() 함수를 이용해서 현재 상태를 알 수 있다.*\n",
        "**GEN_CREATED**\n",
        "\n",
        "실행을 시작하기 위해 대기하고 있는 상태\n",
        "\n",
        "**GEN_RUNNING**\n",
        "\n",
        "현재 인터프리터가 실행하고 있는 상태\n",
        "\n",
        "**GEN_SUSPENDED**\n",
        "\n",
        "현재 yield 문에서 대기하고 있는 상태\n",
        "\n",
        "**GEN_CLOSED**\n",
        "\n",
        "실행이 완료된 상태\n",
        "\n",
        "<br>\n",
        "\n",
        "send() 메서드에 전달한 인수가 대기하고 있는 yield 표현식의 값이 되므로, 코루틴이 현재 대기 상태에 있을 경우 my_coro.send(42)와 같은 형태로만 호출할 수 있지만 코루틴이 아직 기동되지 않은 상태인 경우에는 send() 메서드를 호출할 수 없으므로 코루틴을 처음 활성화하기 위해 next(my_coro)를 호출한다.\n",
        "\n",
        "```\n",
        "my_coro =simple_coroutine()\n",
        "my_coro.send(1729)\n",
        "```\n",
        "\n",
        "<br>\n",
        "\n",
        "처음 next(my_coro)를 호출할 때, 코루틴을 기동한다고 표현하므로 코루틴이 호출자로부터 값을 받을 수 있도록 처음 나오는 yield문까지 실행 진행한다.\n",
        "\n",
        "```\n",
        "def simple_coro2(a):\n",
        "\tprint('-> Started: a=', a)\n",
        "    b = yield a\n",
        "    print('-> Received: b=', b)\n",
        "    c = yield a + b\n",
        "    print('-> Received: c=',c)\n",
        "my_coro2 = simple_coro2(14)\n",
        "from inspect import getgeneratorstate\n",
        "getgeneratorstate(my_coro2)\n",
        "```\n",
        "\n",
        "코루틴 실행은 yield 키워드에서 중단됨을 잘 알고 있고, 할당문에서 실제 값을 할당하기 전에 = 오른쪽 코드를 실행하고, b=yield a와 같은 코드에서는 나중에 호출자가 값을 보낸 후에야 변수 b가 설정된다.\n",
        "\n",
        "![](https://velog.velcdn.com/images/qsdcfd/post/35543f1b-9490-48d8-ae10-3c05b1b81d27/image.png)\n"
      ],
      "metadata": {
        "id": "ahGXIh1H0-Hv"
      }
    },
    {
      "cell_type": "code",
      "source": [],
      "metadata": {
        "id": "73LTYQX60-W3"
      },
      "execution_count": null,
      "outputs": []
    }
  ]
}