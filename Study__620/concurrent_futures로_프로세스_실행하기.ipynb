{
  "nbformat": 4,
  "nbformat_minor": 0,
  "metadata": {
    "colab": {
      "provenance": [],
      "authorship_tag": "ABX9TyMIdenS4uArzcq6Id3p5bkK"
    },
    "kernelspec": {
      "name": "python3",
      "display_name": "Python 3"
    },
    "language_info": {
      "name": "python"
    }
  },
  "cells": [
    {
      "cell_type": "markdown",
      "source": [
        "# 제어 흐름\n",
        "## Fulture를 이용한 동시성\n",
        "### concurrent.futures로 프로세스 실행하기\n",
        "\n",
        "concurrent.futures 문서 페이지의 부제는 '병렬 작업의 실행으로, ProcessPoolExecutor 클래스를 사용해서 작업을 여러 파이썬 프로세스에 분산시켜서 진정한 병렬 컴퓨팅 진행.\n",
        "ProcessPoolExecutor는 GIL을 우회하므로 계산 위주의 작업을 수행해야 하는 경우 가용한 CPU를 모두 사용한다.\n",
        "\n",
        "ProcessPoolExecutor와 ThreadPoolExecutor는 모두 범용 Executor인터페이스를 구현하므로, concurrent.futures를 사용하는 경우에는 스레드 기반의 프로그램을 프로세스 기반의 프로그램으로 쉽게 변환\n",
        "\n",
        "```\n",
        "def download_many(cc_list):\n",
        "\tworkers = min(MAX_WORKERS, len(cc_list))\n",
        "    with futures.ThreadPoolExecutor(workers) as executor:\n",
        "    \n",
        "-->변경\n",
        "\n",
        "def download_many(cc_list):\n",
        "\twith futures.ProcessPoolExecutor() as executor:\n",
        "```\n",
        "\n",
        ">ProcessPoolExecutor는 계산 위주의 작업에서 진가를 발휘한다.\n",
        "\n",
        "**arcfour_futures.py**\n",
        "\n",
        "순수하게 파이썬으로 구현된 RC4 알고리즘을 이용해서 149KB에서 384KB 정도 되는 바이트 배열 10개를 암호화하고 복호하\n",
        "\n",
        "**sha_futures.py**\n",
        "\n",
        "OpenSSL 라이브러리를 사용하는 표준 라이브러리 패키지 hashlib를 이용해서 1MB 바이트 배열 10개에 대한 SHA-256 해시를 계산\n",
        "\n",
        "![](https://velog.velcdn.com/images/qsdcfd/post/47963377-dcd4-448f-810e-b3ccb3aa5806/image.png)\n"
      ],
      "metadata": {
        "id": "ctcvPKqNdb27"
      }
    },
    {
      "cell_type": "code",
      "source": [],
      "metadata": {
        "id": "aRxJOLENdcAh"
      },
      "execution_count": null,
      "outputs": []
    }
  ]
}