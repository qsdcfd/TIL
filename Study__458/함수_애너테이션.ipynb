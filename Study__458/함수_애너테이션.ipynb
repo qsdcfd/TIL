{
  "nbformat": 4,
  "nbformat_minor": 0,
  "metadata": {
    "colab": {
      "provenance": [],
      "authorship_tag": "ABX9TyM4Gz3+yUfRBTP1w12nYtii"
    },
    "kernelspec": {
      "name": "python3",
      "display_name": "Python 3"
    },
    "language_info": {
      "name": "python"
    }
  },
  "cells": [
    {
      "cell_type": "markdown",
      "source": [
        "# 객체로서의 함수\n",
        "## 일급 함수\n",
        "### 함수 애너테이션\n",
        "\n",
        "파이썬3는 함수의 매개변수와 반환값에 메타데이터를 추가할 수 있는 구문을 제공합니다.\n",
        "\n",
        "```\n",
        "#애너테이션을 추가한 clip()함수\n",
        "\n",
        "def clip(text:str, max_len:'int >0'=80) ->str:\n",
        "\t\"\"\"\n",
        "    max_len 앞이나 뒤의 마지막 공백에서 잘라낸 텍스트를 반환한다.\n",
        "    \"\"\"\n",
        "    end = None\n",
        "    if len(text) > max_len:\n",
        "    \tspace_before = text.rfind(' ',0, max_len)\n",
        "        if space_before >= 0:\n",
        "        \tend = space_before\n",
        "        else:\n",
        "        \tspace_after = text.rfind(' ', max_len)\n",
        "            if space_after >= 0:\n",
        "            \tend = space_after\n",
        "    if end is None:\n",
        "    \tend = len(text)\n",
        "    return text[:end].rstrip()\n",
        "```\n",
        "\n",
        "\n",
        ">함수 선언에서 각 매개변수에는 콜론 뒤에 애너테이션 표현식을 추가하고, 기본값이 있을 때 애너테이션은 인수명과 등호 사이에 들어갑니다. 그리고, 반환값에 애너테이션을 추가하려면 매개변수를 닫는 괄호와 함수 선언의 제일 뒤에 오는 콜론 사이에 -> 기호와 표현식을 추가한다. <br>\n",
        "표현식은 어떤 자료형도 될 수 있고, str이나 int와 같은 클래스, 혹은  max_len에 대한 애너테이션인  'int>0'과 같은 문자열이 가장 널리 사용되는 자료형이다. 즉, 애너테이션은 전혀 처리하지 않으며, 단지 함수 객체 안의 dict형 __annotation__속성에 저장될 뿐이다.\n",
        "\n",
        "<br>\n",
        "\n",
        "```\n",
        "fkrom clip_annot import clip\n",
        "clip.__annotations__\n",
        "```\n",
        "\n",
        "\n",
        ">'return'키에 대한 항목에서 함수 선언부 중 -> 기호로 표시한 반환값 애너테이션을 담고 있고 파이썬은 애너테이션을 함수의 __annotations__ 속성에 저장할 뿐이며, 검사, 단속, 검증등 아무런 행동도 취하지 않는다. <br>\n",
        "애너테이션은 파이썬 인터프리터에 아무런 의미가 없고, 애너테이션 도구(IDE 등), 프레임워크, 데커레이터가 사용할 수 있는 메타데이터일 뿐이다.\n",
        "\n",
        "<br>\n",
        "\n",
        "```\n",
        "from clip_annot import clip\n",
        "from inspect import signature\n",
        "sig = signature(clip)\n",
        "sig.return_annotation\n",
        "for param in sig.parameters.values():\n",
        "\tnote = repr(param.annotation).1just(13)\n",
        "    print(note,':', param.name, '=', param.default)\n",
        "```\n",
        "\n",
        ">signature() 함수는 Signature 객체를 반환하는 것으로 Signature에는 return_annotation과 parameters 속성이 있고, parameters는 파라미터명을 Parameter 객체에 매핑하는 딕셔너리로, 각 Parameter 객체는 annotation 속성을 가지고 있습니다.\n",
        "\n",
        "**price:float**\n",
        "쿼리 문자열을 함수가 받는 float형으로 자동 변환한다.\n",
        "\n",
        "**quantity:'int >0'**\n",
        "함수 애너테이션은 Bobo와 같은 동적 설정보단 IDE나 linter와 같은 도구에서 정적 자료형 검사를 지원하기 위한 선택적인 자료형 정보를 제공하는데 큰 영향을 줄 것이다."
      ],
      "metadata": {
        "id": "ZS2K41lFK7ka"
      }
    },
    {
      "cell_type": "code",
      "source": [],
      "metadata": {
        "id": "KwSZ42M5K8Gf"
      },
      "execution_count": null,
      "outputs": []
    }
  ]
}