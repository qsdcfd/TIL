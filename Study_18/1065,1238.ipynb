{
 "cells": [
  {
   "cell_type": "code",
   "execution_count": null,
   "id": "reliable-termination",
   "metadata": {},
   "outputs": [],
   "source": [
    "n = int(input())\n",
    "han = 0\n",
    "for i in range(1, n + 1):\n",
    "    if i < 100:\n",
    "        han += 1\n",
    "    else:\n",
    "        ns = list(map(int, str(i)))\n",
    "        if ns[0] - ns[1] == ns[1] - ns[2]:\n",
    "            han += 1\n",
    "print(han)"
   ]
  },
  {
   "cell_type": "code",
   "execution_count": null,
   "id": "broad-yield",
   "metadata": {},
   "outputs": [],
   "source": [
    "import heapq\n",
    "import sys\n",
    "\n",
    "input = sys.stdin.readline\n",
    "INF = int(1e9)\n",
    "\n",
    "v, e, x = map(int, input().split())\n",
    "graph = [[] for _ in range(v + 1)]\n",
    "\n",
    "for _ in range(e):\n",
    "    a, b, cost = map(int, input().split())\n",
    "    graph[a].append((b, cost))\n",
    "\n",
    "\n",
    "def dijkstra(start):\n",
    "    q = []\n",
    "    distance = [INF] * (v + 1)\n",
    "\n",
    "    heapq.heappush(q, (0, start))\n",
    "    distance[start] = 0\n",
    "\n",
    "    while q:\n",
    "        dist, now = heapq.heappop(q)\n",
    "\n",
    "        if distance[now] < dist:\n",
    "            continue\n",
    "\n",
    "        for node_index, node_cost in graph[now]:\n",
    "            cost = dist + node_cost\n",
    "\n",
    "            if distance[node_index] > cost:\n",
    "                distance[node_index] = cost\n",
    "                heapq.heappush(q, (cost, node_index))\n",
    "\n",
    "    return distance\n",
    "\n",
    "\n",
    "result = 0\n",
    "for i in range(1, v + 1):\n",
    "    go = dijkstra(i)\n",
    "    back = dijkstra(x)\n",
    "    result = max(result, go[x] + back[i])\n",
    "\n",
    "print(result)"
   ]
  }
 ],
 "metadata": {
  "kernelspec": {
   "display_name": "Python 3",
   "language": "python",
   "name": "python3"
  },
  "language_info": {
   "codemirror_mode": {
    "name": "ipython",
    "version": 3
   },
   "file_extension": ".py",
   "mimetype": "text/x-python",
   "name": "python",
   "nbconvert_exporter": "python",
   "pygments_lexer": "ipython3",
   "version": "3.7.9"
  }
 },
 "nbformat": 4,
 "nbformat_minor": 5
}
