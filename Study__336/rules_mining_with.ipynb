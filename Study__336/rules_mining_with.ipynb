{
  "metadata": {
    "kernelspec": {
      "language": "python",
      "display_name": "Python 3",
      "name": "python3"
    },
    "language_info": {
      "name": "python",
      "version": "3.7.12",
      "mimetype": "text/x-python",
      "codemirror_mode": {
        "name": "ipython",
        "version": 3
      },
      "pygments_lexer": "ipython3",
      "nbconvert_exporter": "python",
      "file_extension": ".py"
    },
    "colab": {
      "name": "rules-mining-with.ipynb",
      "provenance": []
    }
  },
  "nbformat_minor": 0,
  "nbformat": 4,
  "cells": [
    {
      "cell_type": "code",
      "source": [
        "# This Python 3 environment comes with many helpful analytics libraries installed\n",
        "# It is defined by the kaggle/python Docker image: https://github.com/kaggle/docker-python\n",
        "# For example, here's several helpful packages to load\n",
        "\n",
        "import numpy as np # linear algebra\n",
        "import pandas as pd # data processing, CSV file I/O (e.g. pd.read_csv)\n",
        "\n",
        "# Input data files are available in the read-only \"../input/\" directory\n",
        "# For example, running this (by clicking run or pressing Shift+Enter) will list all files under the input directory\n",
        "\n",
        "import os\n",
        "for dirname, _, filenames in os.walk('/kaggle/input'):\n",
        "    for filename in filenames:\n",
        "        print(os.path.join(dirname, filename))\n",
        "\n",
        "# You can write up to 20GB to the current directory (/kaggle/working/) that gets preserved as output when you create a version using \"Save & Run All\" \n",
        "# You can also write temporary files to /kaggle/temp/, but they won't be saved outside of the current session"
      ],
      "metadata": {
        "_uuid": "8f2839f25d086af736a60e9eeb907d3b93b6e0e5",
        "_cell_guid": "b1076dfc-b9ad-4769-8c92-a6c4dae69d19",
        "execution": {
          "iopub.status.busy": "2022-08-05T01:08:30.247927Z",
          "iopub.execute_input": "2022-08-05T01:08:30.248709Z",
          "iopub.status.idle": "2022-08-05T01:08:30.267579Z",
          "shell.execute_reply.started": "2022-08-05T01:08:30.248590Z",
          "shell.execute_reply": "2022-08-05T01:08:30.266103Z"
        },
        "trusted": true,
        "id": "bY4GiP6BEgyb"
      },
      "execution_count": null,
      "outputs": []
    },
    {
      "cell_type": "markdown",
      "source": [
        "- association analysis with 연관규칙분석\n",
        "    - 간단한 연관 룰 생성 {A} -> {B}\n",
        "    \n",
        "    - 두 개의 아이템 연관분석을 통해서 \n",
        "    \n",
        "    \n",
        " <br>\n",
        " \n",
        " - Python Generators\n",
        " \n",
        "   - iterable sequence of items\n",
        "   - yields -> next method"
      ],
      "metadata": {
        "id": "Bavk7WXVEgyw"
      }
    },
    {
      "cell_type": "markdown",
      "source": [
        "Get all possible item pairs for a given order\n",
        "\n",
        "eg:  order 1:  apple, egg, milk   -->  item pairs: {apple, egg}, {apple, milk}, {egg, milk}\n",
        "     order 2:  egg, milk          -->  item pairs: {egg, milk}\n",
        "Count the number of times each item pair appears\n",
        "\n",
        "eg: {apple, egg}: 1\n",
        "    {apple, milk}: 1\n",
        "    {egg, milk}: 2\n",
        "Here's the generator that implements the above tasks:"
      ],
      "metadata": {
        "id": "gAIswobDEgy0"
      }
    },
    {
      "cell_type": "code",
      "source": [
        "import numpy as np # linear algebra\n",
        "import pandas as pd # data processing, CSV file I/O (e.g. pd.read_csv)\n",
        "import matplotlib.pyplot as plt\n",
        "import seaborn as sns\n",
        "color = sns.color_palette()\n",
        "\n",
        "%matplotlib inline\n",
        "\n",
        "pd.options.mode.chained_assignment = None  # default='warn'"
      ],
      "metadata": {
        "execution": {
          "iopub.status.busy": "2022-08-05T01:08:30.270145Z",
          "iopub.execute_input": "2022-08-05T01:08:30.271218Z",
          "iopub.status.idle": "2022-08-05T01:08:30.918987Z",
          "shell.execute_reply.started": "2022-08-05T01:08:30.271170Z",
          "shell.execute_reply": "2022-08-05T01:08:30.917717Z"
        },
        "trusted": true,
        "id": "fEwiJVagEgy2"
      },
      "execution_count": null,
      "outputs": []
    },
    {
      "cell_type": "code",
      "source": [
        "import numpy as np # linear algebra\n",
        "import pandas as pd # data processing, CSV file I/O (e.g. pd.read_csv)\n",
        "import zipfile # zip 파일 풀기\n",
        "\n",
        "from sklearn.feature_extraction.text import CountVectorizer\n",
        "from sklearn.metrics.pairwise import cosine_similarity\n",
        "\n",
        "\n",
        "import os\n",
        "files = []\n",
        "for dirname, _, filenames in os.walk('/kaggle/input'):\n",
        "    for filename in filenames:\n",
        "        # print(os.path.join(dirname, filename))\n",
        "        files.append(filename.split('.zip')[0])\n",
        "        with zipfile.ZipFile(os.path.join(dirname, filename),\"r\") as z:\n",
        "            z.extractall()"
      ],
      "metadata": {
        "execution": {
          "iopub.status.busy": "2022-08-05T01:08:30.921104Z",
          "iopub.execute_input": "2022-08-05T01:08:30.921942Z",
          "iopub.status.idle": "2022-08-05T01:08:38.294580Z",
          "shell.execute_reply.started": "2022-08-05T01:08:30.921897Z",
          "shell.execute_reply": "2022-08-05T01:08:38.293654Z"
        },
        "trusted": true,
        "id": "ppqr6hE7Egy3"
      },
      "execution_count": null,
      "outputs": []
    },
    {
      "cell_type": "code",
      "source": [
        "files"
      ],
      "metadata": {
        "execution": {
          "iopub.status.busy": "2022-08-05T01:08:38.297415Z",
          "iopub.execute_input": "2022-08-05T01:08:38.298084Z",
          "iopub.status.idle": "2022-08-05T01:08:38.307048Z",
          "shell.execute_reply.started": "2022-08-05T01:08:38.298049Z",
          "shell.execute_reply": "2022-08-05T01:08:38.305749Z"
        },
        "trusted": true,
        "id": "wVqsW6wHEgy6"
      },
      "execution_count": null,
      "outputs": []
    },
    {
      "cell_type": "code",
      "source": [
        "#룰 예시\n",
        "import numpy as np\n",
        "from itertools import combinations, groupby\n",
        "from collections import Counter\n",
        "\n",
        "# Sample data\n",
        "orders = np.array([[1,'apple'], [1,'egg'], [1,'milk'], [2,'egg'], [2,'milk']], dtype=object)\n",
        "\n",
        "# Generator that yields item pairs, one at a time\n",
        "def get_item_pairs(order_item):\n",
        "    \n",
        "    # For each order, generate a list of items in that order\n",
        "    for order_id, order_object in groupby(orders, lambda x: x[0]):\n",
        "        item_list = [item[1] for item in order_object]      \n",
        "    \n",
        "        # For each item list, generate item pairs, one at a time\n",
        "        for item_pair in combinations(item_list, 2):\n",
        "            yield item_pair                                      \n",
        "\n",
        "\n",
        "# Counter iterates through the item pairs returned by our generator and keeps a tally of their occurrence\n",
        "Counter(get_item_pairs(orders))"
      ],
      "metadata": {
        "execution": {
          "iopub.status.busy": "2022-08-05T01:08:38.309363Z",
          "iopub.execute_input": "2022-08-05T01:08:38.309909Z",
          "iopub.status.idle": "2022-08-05T01:08:38.341796Z",
          "shell.execute_reply.started": "2022-08-05T01:08:38.309843Z",
          "shell.execute_reply": "2022-08-05T01:08:38.340571Z"
        },
        "trusted": true,
        "id": "iMvhq1zVEgy7"
      },
      "execution_count": null,
      "outputs": []
    },
    {
      "cell_type": "markdown",
      "source": [
        "get_item_pairs()\n",
        "\n",
        "- 아이템 리스트에서 순서에 맞게 item pairs를 생성한다.\n",
        "\n"
      ],
      "metadata": {
        "id": "oWKFkjS0Egy9"
      }
    },
    {
      "cell_type": "markdown",
      "source": [
        "![image.png](attachment:7f485bd4-2928-47f4-a63c-d209d8849a83.png)\n",
        "\n",
        "![image.png](attachment:197449fc-1bbc-435e-abe5-4030b3e88176.png)\n",
        "\n",
        "![image.png](attachment:f35783b4-8e98-4e5f-9bea-b82c62c0f2de.png)\n",
        "\n",
        "![image.png](attachment:cca54bc4-4a14-4722-889a-863bb10845a6.png)"
      ],
      "metadata": {
        "id": "5id96ttzEgy_"
      }
    },
    {
      "cell_type": "code",
      "source": [
        "import pandas as pd\n",
        "import numpy as np\n",
        "import sys\n",
        "from itertools import combinations, groupby\n",
        "from collections import Counter\n",
        "from IPython.display import display"
      ],
      "metadata": {
        "execution": {
          "iopub.status.busy": "2022-08-05T01:08:38.342866Z",
          "iopub.execute_input": "2022-08-05T01:08:38.343562Z",
          "iopub.status.idle": "2022-08-05T01:08:38.348351Z",
          "shell.execute_reply.started": "2022-08-05T01:08:38.343508Z",
          "shell.execute_reply": "2022-08-05T01:08:38.347382Z"
        },
        "trusted": true,
        "id": "pnR73j3NEgzB"
      },
      "execution_count": null,
      "outputs": []
    },
    {
      "cell_type": "code",
      "source": [
        "# Function that returns the size of an object in MB\n",
        "def size(obj):\n",
        "    return \"{0:.2f} MB\".format(sys.getsizeof(obj) / (1000 * 1000))"
      ],
      "metadata": {
        "execution": {
          "iopub.status.busy": "2022-08-05T01:08:38.349486Z",
          "iopub.execute_input": "2022-08-05T01:08:38.349988Z",
          "iopub.status.idle": "2022-08-05T01:08:38.357871Z",
          "shell.execute_reply.started": "2022-08-05T01:08:38.349959Z",
          "shell.execute_reply": "2022-08-05T01:08:38.357006Z"
        },
        "trusted": true,
        "id": "lBZIAmBkEgzC"
      },
      "execution_count": null,
      "outputs": []
    },
    {
      "cell_type": "markdown",
      "source": [
        "## Input dataset(order_products_prior)"
      ],
      "metadata": {
        "id": "epxlOlCMEgzD"
      }
    },
    {
      "cell_type": "code",
      "source": [
        "departments = pd.read_csv('./'+files[0], dtype = {'departments_id': np.int32})\n",
        "order_products_train = pd.read_csv('./'+files[2], dtype = {'order_id' : np.int32, 'product_id' : np.int32,\n",
        "                                                           'add_to_cart_order' : np.int16, 'reordered' : np.int16})\n",
        "orders = pd.read_csv('./'+files[3], dtype = {'order_id' : np.int32, 'product_id' : np.int32,\n",
        "                                                           'add_to_cart_order' : np.int16, 'reordered' : np.int16})\n",
        "orders1 = pd.read_csv('./'+files[4], dtype = {'order_id' : np.int32,'user_id' : np.int32,\n",
        "                                             'order_number' : np.int16,'order_dow' : np.int16,\n",
        "                                             'order_hour_of_day' : np.int16})\n",
        "products = pd.read_csv('./'+files[5],dtype={'products_id': np.int32})\n",
        "aisles = pd.read_csv('./'+files[6], dtype={'aisles_id': np.int32})"
      ],
      "metadata": {
        "execution": {
          "iopub.status.busy": "2022-08-05T01:08:38.358985Z",
          "iopub.execute_input": "2022-08-05T01:08:38.359426Z",
          "iopub.status.idle": "2022-08-05T01:08:47.264288Z",
          "shell.execute_reply.started": "2022-08-05T01:08:38.359398Z",
          "shell.execute_reply": "2022-08-05T01:08:47.263238Z"
        },
        "trusted": true,
        "id": "nimdfZIMEgzG"
      },
      "execution_count": null,
      "outputs": []
    },
    {
      "cell_type": "code",
      "source": [
        "print('orders -- dimensions: {0};   size: {1}'.format(orders.shape, size(orders)))\n",
        "display(orders.head())"
      ],
      "metadata": {
        "execution": {
          "iopub.status.busy": "2022-08-05T01:08:47.265923Z",
          "iopub.execute_input": "2022-08-05T01:08:47.266440Z",
          "iopub.status.idle": "2022-08-05T01:08:47.282243Z",
          "shell.execute_reply.started": "2022-08-05T01:08:47.266408Z",
          "shell.execute_reply": "2022-08-05T01:08:47.281037Z"
        },
        "trusted": true,
        "id": "fiTuFCm-EgzJ"
      },
      "execution_count": null,
      "outputs": []
    },
    {
      "cell_type": "markdown",
      "source": [
        "**association rules 함수에 맞게 order_products_prior형식 변환**"
      ],
      "metadata": {
        "id": "tj3CnWrMEgzK"
      }
    },
    {
      "cell_type": "code",
      "source": [
        "#df -> series 변환, order_id as index이고 item_id는 값\n",
        "orders = orders.set_index('order_id')['product_id'].rename('item_id')\n",
        "display(orders.head(10))\n",
        "type(orders)"
      ],
      "metadata": {
        "execution": {
          "iopub.status.busy": "2022-08-05T01:08:47.283905Z",
          "iopub.execute_input": "2022-08-05T01:08:47.284241Z",
          "iopub.status.idle": "2022-08-05T01:08:47.615249Z",
          "shell.execute_reply.started": "2022-08-05T01:08:47.284212Z",
          "shell.execute_reply": "2022-08-05T01:08:47.614067Z"
        },
        "trusted": true,
        "id": "oLlQSh0tEgzL"
      },
      "execution_count": null,
      "outputs": []
    },
    {
      "cell_type": "code",
      "source": [
        "orders = orders.squeeze() # <- Converts to a pandas series\n"
      ],
      "metadata": {
        "execution": {
          "iopub.status.busy": "2022-08-05T01:08:47.617627Z",
          "iopub.execute_input": "2022-08-05T01:08:47.618098Z",
          "iopub.status.idle": "2022-08-05T01:08:47.623744Z",
          "shell.execute_reply.started": "2022-08-05T01:08:47.618051Z",
          "shell.execute_reply": "2022-08-05T01:08:47.622581Z"
        },
        "trusted": true,
        "id": "_C8zr79gEgzM"
      },
      "execution_count": null,
      "outputs": []
    },
    {
      "cell_type": "code",
      "source": [
        "type(orders)"
      ],
      "metadata": {
        "execution": {
          "iopub.status.busy": "2022-08-05T01:08:47.625580Z",
          "iopub.execute_input": "2022-08-05T01:08:47.625985Z",
          "iopub.status.idle": "2022-08-05T01:08:47.633968Z",
          "shell.execute_reply.started": "2022-08-05T01:08:47.625946Z",
          "shell.execute_reply": "2022-08-05T01:08:47.632929Z"
        },
        "trusted": true,
        "id": "ImDlw0fYEgzN"
      },
      "execution_count": null,
      "outputs": []
    },
    {
      "cell_type": "markdown",
      "source": [
        "**order data를 위한 통계적 요약**"
      ],
      "metadata": {
        "id": "vC72Jc2AEgzO"
      }
    },
    {
      "cell_type": "code",
      "source": [
        "print('dimensions: {0};   size: {1};   unique_orders: {2};   unique_items: {3}'\n",
        "      .format(orders.shape, size(orders), len(orders.index.unique()), len(orders.value_counts())))"
      ],
      "metadata": {
        "execution": {
          "iopub.status.busy": "2022-08-05T01:08:47.637326Z",
          "iopub.execute_input": "2022-08-05T01:08:47.637887Z",
          "iopub.status.idle": "2022-08-05T01:08:48.586942Z",
          "shell.execute_reply.started": "2022-08-05T01:08:47.637853Z",
          "shell.execute_reply": "2022-08-05T01:08:48.586000Z"
        },
        "trusted": true,
        "id": "i4monUDOEgzO"
      },
      "execution_count": null,
      "outputs": []
    },
    {
      "cell_type": "markdown",
      "source": [
        "## Association Rules Function"
      ],
      "metadata": {
        "id": "LOaKL5O8EgzP"
      }
    },
    {
      "cell_type": "markdown",
      "source": [
        "**Helper functions to the main association rules function**"
      ],
      "metadata": {
        "id": "hjQ_WByyEgzQ"
      }
    },
    {
      "cell_type": "code",
      "source": [
        "# Returns frequency counts for items and item pairs\n",
        "def freq(iterable):\n",
        "    if type(iterable) == pd.core.series.Series:\n",
        "        return iterable.value_counts().rename(\"freq\")\n",
        "    else: \n",
        "        return pd.Series(Counter(iterable)).rename(\"freq\")\n",
        "\n",
        "    \n",
        "# Returns number of unique orders\n",
        "def order_count(order_item):\n",
        "    return len(set(order_item.index))\n",
        "\n",
        "\n",
        "# Returns generator that yields item pairs, one at a time\n",
        "def get_item_pairs(order_item):\n",
        "\n",
        "    order_item = order_item.reset_index().values\n",
        "    for order_id, order_object in groupby(order_item, lambda x: x[0]):\n",
        "        item_list = [item[1] for item in order_object]\n",
        "              \n",
        "        for item_pair in combinations(item_list, 2):\n",
        "            yield item_pair\n",
        "            \n",
        "\n",
        "# Returns frequency and support associated with item\n",
        "def merge_item_stats(item_pairs, item_stats):\n",
        "    return (item_pairs\n",
        "                .merge(item_stats.rename(columns={'freq': 'freqA', 'support': 'supportA'}), left_on='item_A', right_index=True)\n",
        "                .merge(item_stats.rename(columns={'freq': 'freqB', 'support': 'supportB'}), left_on='item_B', right_index=True))\n",
        "\n",
        "\n",
        "# Returns name associated with item\n",
        "def merge_item_name(rules, item_name):\n",
        "    columns = ['itemA','itemB','freqAB','supportAB','freqA','supportA','freqB','supportB', \n",
        "               'confidenceAtoB','confidenceBtoA','lift']\n",
        "    rules = (rules\n",
        "                .merge(item_name.rename(columns={'item_name': 'itemA'}), left_on='item_A', right_on='item_id')\n",
        "                .merge(item_name.rename(columns={'item_name': 'itemB'}), left_on='item_B', right_on='item_id'))\n",
        "    return rules[columns]               "
      ],
      "metadata": {
        "execution": {
          "iopub.status.busy": "2022-08-05T01:08:48.587949Z",
          "iopub.execute_input": "2022-08-05T01:08:48.588287Z",
          "iopub.status.idle": "2022-08-05T01:08:48.600593Z",
          "shell.execute_reply.started": "2022-08-05T01:08:48.588257Z",
          "shell.execute_reply": "2022-08-05T01:08:48.599048Z"
        },
        "trusted": true,
        "id": "tSYkSFYEEgzR"
      },
      "execution_count": null,
      "outputs": []
    },
    {
      "cell_type": "markdown",
      "source": [
        "**Association rules fuction**"
      ],
      "metadata": {
        "id": "gV_K9PcNEgzT"
      }
    },
    {
      "cell_type": "code",
      "source": [
        "def association_rules(order_item, min_support):\n",
        "\n",
        "    print(\"Starting order_item: {:22d}\".format(len(order_item)))\n",
        "\n",
        "\n",
        "    # Calculate item frequency and support\n",
        "    item_stats             = freq(order_item).to_frame(\"freq\")\n",
        "    item_stats['support']  = item_stats['freq'] / order_count(order_item) * 100\n",
        "\n",
        "\n",
        "    # Filter from order_item items below min support \n",
        "    qualifying_items       = item_stats[item_stats['support'] >= min_support].index\n",
        "    order_item             = order_item[order_item.isin(qualifying_items)]\n",
        "\n",
        "    print(\"Items with support >= {}: {:15d}\".format(min_support, len(qualifying_items)))\n",
        "    print(\"Remaining order_item: {:21d}\".format(len(order_item)))\n",
        "\n",
        "\n",
        "    # Filter from order_item orders with less than 2 items\n",
        "    order_size= freq(order_item.index)\n",
        "    qualifying_orders= order_size[order_size >= 2].index\n",
        "    order_item = order_item[order_item.index.isin(qualifying_orders)]\n",
        "\n",
        "    print(\"Remaining orders with 2+ items: {:11d}\".format(len(qualifying_orders)))\n",
        "    print(\"Remaining order_item: {:21d}\".format(len(order_item)))\n",
        "\n",
        "\n",
        "    # Recalculate item frequency and support\n",
        "    item_stats = freq(order_item).to_frame(\"freq\")\n",
        "    item_stats['support']  = item_stats['freq'] / order_count(order_item) * 100\n",
        "\n",
        "\n",
        "    # Get item pairs generator\n",
        "    item_pair_gen          = get_item_pairs(order_item)\n",
        "\n",
        "\n",
        "    # Calculate item pair frequency and support\n",
        "    item_pairs              = freq(item_pair_gen).to_frame(\"freqAB\")\n",
        "    item_pairs['supportAB'] = item_pairs['freqAB'] / len(qualifying_orders) * 100\n",
        "\n",
        "    print(\"Item pairs: {:31d}\".format(len(item_pairs)))\n",
        "\n",
        "\n",
        "    # Filter from item_pairs those below min support\n",
        "    item_pairs              = item_pairs[item_pairs['supportAB'] >= min_support]\n",
        "\n",
        "    print(\"Item pairs with support >= {}: {:10d}\\n\".format(min_support, len(item_pairs)))\n",
        "\n",
        "\n",
        "    # Create table of association rules and compute relevant metrics\n",
        "    item_pairs = item_pairs.reset_index().rename(columns={'level_0': 'item_A', 'level_1': 'item_B'})\n",
        "    item_pairs = merge_item_stats(item_pairs, item_stats)\n",
        "    \n",
        "    item_pairs['confidenceAtoB'] = item_pairs['supportAB'] / item_pairs['supportA']\n",
        "    item_pairs['confidenceBtoA'] = item_pairs['supportAB'] / item_pairs['supportB']\n",
        "    item_pairs['lift']           = item_pairs['supportAB'] / (item_pairs['supportA'] * item_pairs['supportB'])\n",
        "    \n",
        "    \n",
        "    # Return association rules sorted by lift in descending order\n",
        "    return item_pairs.sort_values('lift', ascending=False)"
      ],
      "metadata": {
        "execution": {
          "iopub.status.busy": "2022-08-05T01:08:48.602266Z",
          "iopub.execute_input": "2022-08-05T01:08:48.602639Z",
          "iopub.status.idle": "2022-08-05T01:08:48.617183Z",
          "shell.execute_reply.started": "2022-08-05T01:08:48.602604Z",
          "shell.execute_reply": "2022-08-05T01:08:48.616305Z"
        },
        "trusted": true,
        "id": "5XFdqzvBEgzU"
      },
      "execution_count": null,
      "outputs": []
    },
    {
      "cell_type": "markdown",
      "source": [
        "**Association Rules Mining**"
      ],
      "metadata": {
        "id": "_lYv577-EgzV"
      }
    },
    {
      "cell_type": "code",
      "source": [
        "%%time\n",
        "rules = association_rules(orders, 0.01)  "
      ],
      "metadata": {
        "execution": {
          "iopub.status.busy": "2022-08-05T01:08:48.618575Z",
          "iopub.execute_input": "2022-08-05T01:08:48.619039Z",
          "iopub.status.idle": "2022-08-05T01:14:05.027270Z",
          "shell.execute_reply.started": "2022-08-05T01:08:48.619007Z",
          "shell.execute_reply": "2022-08-05T01:14:05.026324Z"
        },
        "trusted": true,
        "id": "bF5mvxOCEgzW"
      },
      "execution_count": null,
      "outputs": []
    },
    {
      "cell_type": "code",
      "source": [
        "# Replace item ID with item name and display association rules\n",
        "item_name   = pd.read_csv('./'+files[5],dtype={'products_id': np.int32})\n",
        "item_name   = item_name.rename(columns={'product_id':'item_id', 'product_name':'item_name'})\n",
        "rules_final = merge_item_name(rules, item_name).sort_values('lift', ascending=False)\n",
        "display(rules_final)"
      ],
      "metadata": {
        "execution": {
          "iopub.status.busy": "2022-08-05T01:15:11.602520Z",
          "iopub.execute_input": "2022-08-05T01:15:11.603405Z",
          "iopub.status.idle": "2022-08-05T01:15:11.729690Z",
          "shell.execute_reply.started": "2022-08-05T01:15:11.603365Z",
          "shell.execute_reply": "2022-08-05T01:15:11.728341Z"
        },
        "trusted": true,
        "id": "JKBcytgfEgzX"
      },
      "execution_count": null,
      "outputs": []
    },
    {
      "cell_type": "markdown",
      "source": [
        "![image.png](attachment:6923dc6b-e75d-4bb3-8152-c1ee4476b8a4.png)"
      ],
      "metadata": {
        "id": "x7Wzf4wkEgzY"
      }
    },
    {
      "cell_type": "code",
      "source": [
        ""
      ],
      "metadata": {
        "id": "_esWnXDvEgzZ"
      },
      "execution_count": null,
      "outputs": []
    }
  ]
}