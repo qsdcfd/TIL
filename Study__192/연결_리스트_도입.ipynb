{
  "nbformat": 4,
  "nbformat_minor": 0,
  "metadata": {
    "colab": {
      "name": "연결 리스트: 도입",
      "provenance": [],
      "authorship_tag": "ABX9TyMyMhg6l+jkED+LBk7vG0eo"
    },
    "kernelspec": {
      "name": "python3",
      "display_name": "Python 3"
    },
    "language_info": {
      "name": "python"
    }
  },
  "cells": [
    {
      "cell_type": "markdown",
      "source": [
        "데이터 구조는 우리가 컴퓨터 메모리를 더 효율적으로 관리하기 위해 새로 정의하는 구조체입니다.\n",
        "\n",
        "일종의 메모리 레이아웃, 또는 지도라고 생각할 수 있습니다.\n",
        "\n",
        "이번 강의에서는 데이터 구조중 하나인 연결 리스트에 대해 알아보겠습니다.\n",
        "\n",
        "\n",
        "\n",
        "배열에서는 각 인덱스의 값이 메모리상에서 연이어 저장되어 있습니다.\n",
        "\n",
        "하지만 꼭 그럴 필요가 있을까요? 각 값이 메모리상의 여러 군데 나뉘어져 있다고 하더라도 바로 다음 값의 메모리 주소만 기억하고 있다면 여전히 값을 연이어서 읽어들일 수 있습니다.\n",
        "\n",
        "이를 ‘연결 리스트’라고 합니다. 아래 그림과 같이 크기가 3인 연결 리스트는 각 인덱스의 메모리 주소에서 자신의 값과 함께 바로 다음 값의 주소(포인터)를 저장합니다.\n",
        "\n",
        "\n",
        "\n",
        "![](https://images.velog.io/images/qsdcfd/post/2cc355a0-52a1-4d1b-a1a4-4a76abaf7d33/image.png)\n",
        "\n",
        "\n",
        "\n",
        "연결 리스트의 가장 첫 번째 값인 1은 2의 메모리 주소를, 2는 3의 메모리 주소를 함께 저장하고 있습니다.\n",
        "\n",
        "3은 다음 값이 없기 때문에 NULL (\\0, 즉 0으로 채워진 값을 의미합니다)을 다음 값의 주소로 저장합니다. \n",
        "\n",
        "\n",
        "\n",
        "연결 리스트는 아래 코드와 같이 간단한 구조체로 정의할 수 있습니다. \n",
        "\n",
        "```\n",
        "typedef struct node\n",
        "{\n",
        "    int number;\n",
        "    struct node *next;\n",
        "}\n",
        "node;\n",
        "```\n",
        "\n",
        "node 라는 이름의 구조체는 number 와 *next  두 개의 필드가 함께 정의되어 있습니다.\n",
        "\n",
        "number는 각 node가 가지는 값, *next 는 다음 node를 가리키는 포인터가 됩니다.\n",
        "\n",
        "여기서 typedef struct 대신에 typedef struct node 라고 ‘node’를 함께 명시해 주는 것은, 구조체 안에서 node를 사용하기 위함입니다."
      ],
      "metadata": {
        "id": "OWwMRfYmpnkv"
      }
    },
    {
      "cell_type": "code",
      "source": [
        ""
      ],
      "metadata": {
        "id": "B55ujRQbpnyw"
      },
      "execution_count": null,
      "outputs": []
    }
  ]
}