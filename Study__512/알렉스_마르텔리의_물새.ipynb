{
  "nbformat": 4,
  "nbformat_minor": 0,
  "metadata": {
    "colab": {
      "provenance": [],
      "authorship_tag": "ABX9TyMTEXrC8luAtXPEXQRqsjyE"
    },
    "kernelspec": {
      "name": "python3",
      "display_name": "Python 3"
    },
    "language_info": {
      "name": "python"
    }
  },
  "cells": [
    {
      "cell_type": "markdown",
      "source": [
        "# 객체지향 상용구\n",
        "## 인터페이스: 프로토콜에서 ABC까지\n",
        "### 알렉스 마르텔리의 물새\n",
        "\n",
        "```\n",
        "#문자열이나 문자열의 반복 가능형을 처리하기 위한 덕 타이핑\n",
        "\n",
        "try:\n",
        "\tfield_names = field_names.replace((',', ' ').split()\n",
        "except AttributeError:\n",
        "\tpass\n",
        "field_names = tuple(field_names)\n",
        "```\n",
        "\n",
        ">ABC는 시퀀스나 정확한 숫자 같은 일종의 프레임워크가 소개하는 상당히 광범위한 개념이나 추상성을 담기 위해서 이 책을 읽는 독자라면 ABC를 새로 만들 필요가 전혀 없으므로 단지 기존 ABC를 제대로 사용한느 것만으로 잘못된 설계 위험없이 99.9%의 혜택을 볼 것이다."
      ],
      "metadata": {
        "id": "NJX_V-hFlEtv"
      }
    },
    {
      "cell_type": "code",
      "source": [],
      "metadata": {
        "id": "deQVERgUlFD5"
      },
      "execution_count": null,
      "outputs": []
    }
  ]
}