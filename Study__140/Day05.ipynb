{
 "cells": [
  {
   "cell_type": "markdown",
   "id": "convertible-response",
   "metadata": {},
   "source": [
    "## 오늘 한 일\n",
    "\n",
    "업무 분배가 시작이 되었다.\n",
    "\n",
    "제가 해야할 부분은 setiment analysis분야를 리서칭하고 pytorch로 구현하기 입니다. \n",
    "\n",
    "정리본: [링크텍스트](https://www.analyticsvidhya.com/blog/2021/06/nlp-sentiment-analysis/)"
   ]
  },
  {
   "cell_type": "code",
   "execution_count": null,
   "id": "existing-circumstances",
   "metadata": {},
   "outputs": [],
   "source": []
  }
 ],
 "metadata": {
  "kernelspec": {
   "display_name": "Python 3",
   "language": "python",
   "name": "python3"
  },
  "language_info": {
   "codemirror_mode": {
    "name": "ipython",
    "version": 3
   },
   "file_extension": ".py",
   "mimetype": "text/x-python",
   "name": "python",
   "nbconvert_exporter": "python",
   "pygments_lexer": "ipython3",
   "version": "3.7.9"
  }
 },
 "nbformat": 4,
 "nbformat_minor": 5
}
