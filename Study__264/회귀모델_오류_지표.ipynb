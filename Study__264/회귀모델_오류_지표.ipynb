{
  "nbformat": 4,
  "nbformat_minor": 0,
  "metadata": {
    "colab": {
      "name": "회귀모델 오류 지표",
      "provenance": [],
      "authorship_tag": "ABX9TyOSrO/2QJUJDF3m0/+vzUxC"
    },
    "kernelspec": {
      "name": "python3",
      "display_name": "Python 3"
    },
    "language_info": {
      "name": "python"
    }
  },
  "cells": [
    {
      "cell_type": "markdown",
      "source": [
        "**선형회귀 모델에서 오류를 측정하는 방법 4가지에 대해서 알아볼 것입니다.**\n",
        "\n",
        "<br>\n",
        "\n",
        "- Mean Absolute Error\n",
        "- Mean Absolute Percentage Error\n",
        "- Mean Square Error\n",
        "- Mean Percentage Error"
      ],
      "metadata": {
        "id": "UqaFZGXe6kqg"
      }
    },
    {
      "cell_type": "markdown",
      "source": [
        "데이터는 캐글 데이터를 활용했습니다.\n",
        "\n",
        "https://www.kaggle.com/rush4ratio/video-game-sales-with-ratings/data"
      ],
      "metadata": {
        "id": "xW3g3Zn27Awc"
      }
    },
    {
      "cell_type": "code",
      "execution_count": 1,
      "metadata": {
        "colab": {
          "base_uri": "https://localhost:8080/",
          "height": 478
        },
        "id": "HuUzSu9P6Y1E",
        "outputId": "eadc9898-7846-4682-bfcd-fadf148c68e6"
      },
      "outputs": [
        {
          "output_type": "execute_result",
          "data": {
            "text/plain": [
              "      index                               Name Platform  Year_of_Release  \\\n",
              "6820  16667         E.T. The Extra-Terrestrial      GBA           2001.0   \n",
              "6821  16677     Mortal Kombat: Deadly Alliance      GBA           2002.0   \n",
              "6822  16696  Metal Gear Solid V: Ground Zeroes       PC           2014.0   \n",
              "6823  16700                             Breach       PC           2011.0   \n",
              "6824  16706            STORM: Frontline Nation       PC           2011.0   \n",
              "\n",
              "         Genre                     Publisher  NA_Sales  EU_Sales  JP_Sales  \\\n",
              "6820    Action                      NewKidCo      0.01      0.00       0.0   \n",
              "6821  Fighting                  Midway Games      0.01      0.00       0.0   \n",
              "6822    Action  Konami Digital Entertainment      0.00      0.01       0.0   \n",
              "6823   Shooter                     Destineer      0.01      0.00       0.0   \n",
              "6824  Strategy                       Unknown      0.00      0.01       0.0   \n",
              "\n",
              "      Other_Sales  Global_Sales  Critic_Score  Critic_Count User_Score  \\\n",
              "6820          0.0          0.01          46.0           4.0        2.4   \n",
              "6821          0.0          0.01          81.0          12.0        8.8   \n",
              "6822          0.0          0.01          80.0          20.0        7.6   \n",
              "6823          0.0          0.01          61.0          12.0        5.8   \n",
              "6824          0.0          0.01          60.0          12.0        7.2   \n",
              "\n",
              "      User_Count           Developer Rating  \n",
              "6820        21.0       Fluid Studios      E  \n",
              "6821         9.0     Criterion Games      M  \n",
              "6822       412.0  Kojima Productions      M  \n",
              "6823        43.0        Atomic Games      T  \n",
              "6824        13.0              SimBin   E10+  "
            ],
            "text/html": [
              "\n",
              "  <div id=\"df-013fc891-eee4-4ef6-a489-ee546e6086d7\">\n",
              "    <div class=\"colab-df-container\">\n",
              "      <div>\n",
              "<style scoped>\n",
              "    .dataframe tbody tr th:only-of-type {\n",
              "        vertical-align: middle;\n",
              "    }\n",
              "\n",
              "    .dataframe tbody tr th {\n",
              "        vertical-align: top;\n",
              "    }\n",
              "\n",
              "    .dataframe thead th {\n",
              "        text-align: right;\n",
              "    }\n",
              "</style>\n",
              "<table border=\"1\" class=\"dataframe\">\n",
              "  <thead>\n",
              "    <tr style=\"text-align: right;\">\n",
              "      <th></th>\n",
              "      <th>index</th>\n",
              "      <th>Name</th>\n",
              "      <th>Platform</th>\n",
              "      <th>Year_of_Release</th>\n",
              "      <th>Genre</th>\n",
              "      <th>Publisher</th>\n",
              "      <th>NA_Sales</th>\n",
              "      <th>EU_Sales</th>\n",
              "      <th>JP_Sales</th>\n",
              "      <th>Other_Sales</th>\n",
              "      <th>Global_Sales</th>\n",
              "      <th>Critic_Score</th>\n",
              "      <th>Critic_Count</th>\n",
              "      <th>User_Score</th>\n",
              "      <th>User_Count</th>\n",
              "      <th>Developer</th>\n",
              "      <th>Rating</th>\n",
              "    </tr>\n",
              "  </thead>\n",
              "  <tbody>\n",
              "    <tr>\n",
              "      <th>6820</th>\n",
              "      <td>16667</td>\n",
              "      <td>E.T. The Extra-Terrestrial</td>\n",
              "      <td>GBA</td>\n",
              "      <td>2001.0</td>\n",
              "      <td>Action</td>\n",
              "      <td>NewKidCo</td>\n",
              "      <td>0.01</td>\n",
              "      <td>0.00</td>\n",
              "      <td>0.0</td>\n",
              "      <td>0.0</td>\n",
              "      <td>0.01</td>\n",
              "      <td>46.0</td>\n",
              "      <td>4.0</td>\n",
              "      <td>2.4</td>\n",
              "      <td>21.0</td>\n",
              "      <td>Fluid Studios</td>\n",
              "      <td>E</td>\n",
              "    </tr>\n",
              "    <tr>\n",
              "      <th>6821</th>\n",
              "      <td>16677</td>\n",
              "      <td>Mortal Kombat: Deadly Alliance</td>\n",
              "      <td>GBA</td>\n",
              "      <td>2002.0</td>\n",
              "      <td>Fighting</td>\n",
              "      <td>Midway Games</td>\n",
              "      <td>0.01</td>\n",
              "      <td>0.00</td>\n",
              "      <td>0.0</td>\n",
              "      <td>0.0</td>\n",
              "      <td>0.01</td>\n",
              "      <td>81.0</td>\n",
              "      <td>12.0</td>\n",
              "      <td>8.8</td>\n",
              "      <td>9.0</td>\n",
              "      <td>Criterion Games</td>\n",
              "      <td>M</td>\n",
              "    </tr>\n",
              "    <tr>\n",
              "      <th>6822</th>\n",
              "      <td>16696</td>\n",
              "      <td>Metal Gear Solid V: Ground Zeroes</td>\n",
              "      <td>PC</td>\n",
              "      <td>2014.0</td>\n",
              "      <td>Action</td>\n",
              "      <td>Konami Digital Entertainment</td>\n",
              "      <td>0.00</td>\n",
              "      <td>0.01</td>\n",
              "      <td>0.0</td>\n",
              "      <td>0.0</td>\n",
              "      <td>0.01</td>\n",
              "      <td>80.0</td>\n",
              "      <td>20.0</td>\n",
              "      <td>7.6</td>\n",
              "      <td>412.0</td>\n",
              "      <td>Kojima Productions</td>\n",
              "      <td>M</td>\n",
              "    </tr>\n",
              "    <tr>\n",
              "      <th>6823</th>\n",
              "      <td>16700</td>\n",
              "      <td>Breach</td>\n",
              "      <td>PC</td>\n",
              "      <td>2011.0</td>\n",
              "      <td>Shooter</td>\n",
              "      <td>Destineer</td>\n",
              "      <td>0.01</td>\n",
              "      <td>0.00</td>\n",
              "      <td>0.0</td>\n",
              "      <td>0.0</td>\n",
              "      <td>0.01</td>\n",
              "      <td>61.0</td>\n",
              "      <td>12.0</td>\n",
              "      <td>5.8</td>\n",
              "      <td>43.0</td>\n",
              "      <td>Atomic Games</td>\n",
              "      <td>T</td>\n",
              "    </tr>\n",
              "    <tr>\n",
              "      <th>6824</th>\n",
              "      <td>16706</td>\n",
              "      <td>STORM: Frontline Nation</td>\n",
              "      <td>PC</td>\n",
              "      <td>2011.0</td>\n",
              "      <td>Strategy</td>\n",
              "      <td>Unknown</td>\n",
              "      <td>0.00</td>\n",
              "      <td>0.01</td>\n",
              "      <td>0.0</td>\n",
              "      <td>0.0</td>\n",
              "      <td>0.01</td>\n",
              "      <td>60.0</td>\n",
              "      <td>12.0</td>\n",
              "      <td>7.2</td>\n",
              "      <td>13.0</td>\n",
              "      <td>SimBin</td>\n",
              "      <td>E10+</td>\n",
              "    </tr>\n",
              "  </tbody>\n",
              "</table>\n",
              "</div>\n",
              "      <button class=\"colab-df-convert\" onclick=\"convertToInteractive('df-013fc891-eee4-4ef6-a489-ee546e6086d7')\"\n",
              "              title=\"Convert this dataframe to an interactive table.\"\n",
              "              style=\"display:none;\">\n",
              "        \n",
              "  <svg xmlns=\"http://www.w3.org/2000/svg\" height=\"24px\"viewBox=\"0 0 24 24\"\n",
              "       width=\"24px\">\n",
              "    <path d=\"M0 0h24v24H0V0z\" fill=\"none\"/>\n",
              "    <path d=\"M18.56 5.44l.94 2.06.94-2.06 2.06-.94-2.06-.94-.94-2.06-.94 2.06-2.06.94zm-11 1L8.5 8.5l.94-2.06 2.06-.94-2.06-.94L8.5 2.5l-.94 2.06-2.06.94zm10 10l.94 2.06.94-2.06 2.06-.94-2.06-.94-.94-2.06-.94 2.06-2.06.94z\"/><path d=\"M17.41 7.96l-1.37-1.37c-.4-.4-.92-.59-1.43-.59-.52 0-1.04.2-1.43.59L10.3 9.45l-7.72 7.72c-.78.78-.78 2.05 0 2.83L4 21.41c.39.39.9.59 1.41.59.51 0 1.02-.2 1.41-.59l7.78-7.78 2.81-2.81c.8-.78.8-2.07 0-2.86zM5.41 20L4 18.59l7.72-7.72 1.47 1.35L5.41 20z\"/>\n",
              "  </svg>\n",
              "      </button>\n",
              "      \n",
              "  <style>\n",
              "    .colab-df-container {\n",
              "      display:flex;\n",
              "      flex-wrap:wrap;\n",
              "      gap: 12px;\n",
              "    }\n",
              "\n",
              "    .colab-df-convert {\n",
              "      background-color: #E8F0FE;\n",
              "      border: none;\n",
              "      border-radius: 50%;\n",
              "      cursor: pointer;\n",
              "      display: none;\n",
              "      fill: #1967D2;\n",
              "      height: 32px;\n",
              "      padding: 0 0 0 0;\n",
              "      width: 32px;\n",
              "    }\n",
              "\n",
              "    .colab-df-convert:hover {\n",
              "      background-color: #E2EBFA;\n",
              "      box-shadow: 0px 1px 2px rgba(60, 64, 67, 0.3), 0px 1px 3px 1px rgba(60, 64, 67, 0.15);\n",
              "      fill: #174EA6;\n",
              "    }\n",
              "\n",
              "    [theme=dark] .colab-df-convert {\n",
              "      background-color: #3B4455;\n",
              "      fill: #D2E3FC;\n",
              "    }\n",
              "\n",
              "    [theme=dark] .colab-df-convert:hover {\n",
              "      background-color: #434B5C;\n",
              "      box-shadow: 0px 1px 3px 1px rgba(0, 0, 0, 0.15);\n",
              "      filter: drop-shadow(0px 1px 2px rgba(0, 0, 0, 0.3));\n",
              "      fill: #FFFFFF;\n",
              "    }\n",
              "  </style>\n",
              "\n",
              "      <script>\n",
              "        const buttonEl =\n",
              "          document.querySelector('#df-013fc891-eee4-4ef6-a489-ee546e6086d7 button.colab-df-convert');\n",
              "        buttonEl.style.display =\n",
              "          google.colab.kernel.accessAllowed ? 'block' : 'none';\n",
              "\n",
              "        async function convertToInteractive(key) {\n",
              "          const element = document.querySelector('#df-013fc891-eee4-4ef6-a489-ee546e6086d7');\n",
              "          const dataTable =\n",
              "            await google.colab.kernel.invokeFunction('convertToInteractive',\n",
              "                                                     [key], {});\n",
              "          if (!dataTable) return;\n",
              "\n",
              "          const docLinkHtml = 'Like what you see? Visit the ' +\n",
              "            '<a target=\"_blank\" href=https://colab.research.google.com/notebooks/data_table.ipynb>data table notebook</a>'\n",
              "            + ' to learn more about interactive tables.';\n",
              "          element.innerHTML = '';\n",
              "          dataTable['output_type'] = 'display_data';\n",
              "          await google.colab.output.renderOutput(dataTable, element);\n",
              "          const docLink = document.createElement('div');\n",
              "          docLink.innerHTML = docLinkHtml;\n",
              "          element.appendChild(docLink);\n",
              "        }\n",
              "      </script>\n",
              "    </div>\n",
              "  </div>\n",
              "  "
            ]
          },
          "metadata": {},
          "execution_count": 1
        }
      ],
      "source": [
        "import pandas as pd\n",
        "df = pd.read_csv('.//Video_Games_Sales_as_at_22_Dec_2016.csv').dropna().reset_index()\n",
        "df.tail()"
      ]
    },
    {
      "cell_type": "code",
      "source": [
        "#전체의 데이터중에 Critic_Score, User_Score, Global_Sales열만 사용하도록 하겠습니다.\n",
        "X = df[['Critic_Score','User_Score']].astype('float32')\n",
        "\n",
        "sales = df['Global_Sales'].astype('float32')\n"
      ],
      "metadata": {
        "id": "RnfhNtYI7HVq"
      },
      "execution_count": 2,
      "outputs": []
    },
    {
      "cell_type": "code",
      "source": [
        "#시각화\n",
        "import matplotlib.pyplot as plt\n",
        "%matplotlib inline\n",
        "\n",
        "df[['Critic_Score','User_Score',\n",
        "    'Global_Sales']].astype('float').plot.scatter(x='Critic_Score',\n",
        "                                                  y='Global_Sales',\n",
        "                                                  c='User_Score')\n",
        "                    "
      ],
      "metadata": {
        "colab": {
          "base_uri": "https://localhost:8080/",
          "height": 270
        },
        "id": "H3CU98dY7MMd",
        "outputId": "34fb6cd0-13af-46a8-f225-4136ef7caf83"
      },
      "execution_count": 4,
      "outputs": [
        {
          "output_type": "execute_result",
          "data": {
            "text/plain": [
              "<matplotlib.axes._subplots.AxesSubplot at 0x7f2d30439b90>"
            ]
          },
          "metadata": {},
          "execution_count": 4
        },
        {
          "output_type": "display_data",
          "data": {
            "text/plain": [
              "<Figure size 432x288 with 2 Axes>"
            ],
            "image/png": "[encoded data removed]"
          },
          "metadata": {
            "needs_background": "light"
          }
        }
      ]
    },
    {
      "cell_type": "markdown",
      "source": [
        "x축은 평론가 점수이고 y축은 비디오 게임의 판매량입니다. 그리고 유저들의 평가는 색상으로 표현했습니다. \n",
        "\n",
        "점수가 높을 수록 판매량이 높은 분명한 선형 관계가 보입니다.\n",
        "\n",
        "그리고 몇개의 특이값(outliners) 보입니다."
      ],
      "metadata": {
        "id": "EtF6ZkDP7Vai"
      }
    },
    {
      "cell_type": "code",
      "source": [
        "#선형회귀모델 만들었습니다.\n",
        "from sklearn.linear_model import LinearRegression\n",
        "lm = LinearRegression(n_jobs=-1)\n",
        "lm.fit(X, sales)\n",
        "y_true = sales.values\n",
        "y_pred = lm.predict(X)"
      ],
      "metadata": {
        "id": "R3nPv30C7NOM"
      },
      "execution_count": 5,
      "outputs": []
    },
    {
      "cell_type": "markdown",
      "source": [
        "생성한 선형회귀 모델을 평가하는 지표를 차례대로 살펴보면서 각각의 지표에 대한 특성을 이해하고 상황에 맞게 잘 사용을 하시길 기원합니다."
      ],
      "metadata": {
        "id": "Jvh12CYX7eDs"
      }
    },
    {
      "cell_type": "code",
      "source": [
        "#MAE\n",
        "import numpy as np\n",
        "\n",
        "def MAE(y_true, y_pred): \n",
        "    return np.mean(np.abs((y_true - y_pred)))\n",
        "\n",
        "MAE(y_true, y_pred)"
      ],
      "metadata": {
        "colab": {
          "base_uri": "https://localhost:8080/"
        },
        "id": "50bpGeGl7ZmH",
        "outputId": "90c47ea9-2fed-4876-b2b7-615bf8f5a523"
      },
      "execution_count": 6,
      "outputs": [
        {
          "output_type": "execute_result",
          "data": {
            "text/plain": [
              "0.76997954"
            ]
          },
          "metadata": {},
          "execution_count": 6
        }
      ]
    },
    {
      "cell_type": "code",
      "source": [
        "from sklearn.metrics import mean_absolute_error\n",
        "mean_absolute_error(y_true, y_pred)"
      ],
      "metadata": {
        "colab": {
          "base_uri": "https://localhost:8080/"
        },
        "id": "ElBW9o7W7qM7",
        "outputId": "1fa3707d-0f53-41cd-8c16-e6c7eb1158e1"
      },
      "execution_count": 7,
      "outputs": [
        {
          "output_type": "execute_result",
          "data": {
            "text/plain": [
              "0.76997954"
            ]
          },
          "metadata": {},
          "execution_count": 7
        }
      ]
    },
    {
      "cell_type": "markdown",
      "source": [
        "우리 모델의 MAE는 0.760이며, 우리의 데이터 판매 범위는 0.01에서 83이기 때문에 상당히 괜찮은 값입니다."
      ],
      "metadata": {
        "id": "lv7PiNs47vnx"
      }
    },
    {
      "cell_type": "code",
      "source": [
        ""
      ],
      "metadata": {
        "id": "C7sGVRKf7uwd"
      },
      "execution_count": null,
      "outputs": []
    },
    {
      "cell_type": "code",
      "source": [
        "def MSE(y_true, y_pred):\n",
        "    return np.mean(np.square((y_true - y_pred)))\n",
        "\n",
        "MSE(y_true, y_pred)"
      ],
      "metadata": {
        "colab": {
          "base_uri": "https://localhost:8080/"
        },
        "id": "TNLohiAc70cg",
        "outputId": "7f34389b-2061-48e1-b51d-2c7d115eab1d"
      },
      "execution_count": 8,
      "outputs": [
        {
          "output_type": "execute_result",
          "data": {
            "text/plain": [
              "3.6227748"
            ]
          },
          "metadata": {},
          "execution_count": 8
        }
      ]
    },
    {
      "cell_type": "code",
      "source": [
        "from sklearn.metrics import mean_squared_error\n",
        "mean_squared_error(y_true, y_pred)"
      ],
      "metadata": {
        "colab": {
          "base_uri": "https://localhost:8080/"
        },
        "id": "q_2zfYZe71pr",
        "outputId": "fe9335e8-0fa8-411f-ca4b-8b8153f25911"
      },
      "execution_count": 9,
      "outputs": [
        {
          "output_type": "execute_result",
          "data": {
            "text/plain": [
              "3.6227748"
            ]
          },
          "metadata": {},
          "execution_count": 9
        }
      ]
    },
    {
      "cell_type": "code",
      "source": [
        ""
      ],
      "metadata": {
        "id": "1ssmp5417279"
      },
      "execution_count": null,
      "outputs": []
    },
    {
      "cell_type": "code",
      "source": [
        "np.sqrt(MSE(y_true, y_pred))"
      ],
      "metadata": {
        "colab": {
          "base_uri": "https://localhost:8080/"
        },
        "id": "fmoAlyDu73hK",
        "outputId": "2a703510-4865-47ec-a3f8-15588d64e285"
      },
      "execution_count": 10,
      "outputs": [
        {
          "output_type": "execute_result",
          "data": {
            "text/plain": [
              "1.9033588"
            ]
          },
          "metadata": {},
          "execution_count": 10
        }
      ]
    },
    {
      "cell_type": "code",
      "source": [
        ""
      ],
      "metadata": {
        "id": "3Ft4D7bn73jo"
      },
      "execution_count": null,
      "outputs": []
    },
    {
      "cell_type": "code",
      "source": [
        "def MAPE(y_true, y_pred): \n",
        "    return np.mean(np.abs((y_true - y_pred) / y_true)) * 100\n",
        "\n",
        "MAPE(y_true, y_pred)"
      ],
      "metadata": {
        "colab": {
          "base_uri": "https://localhost:8080/"
        },
        "id": "F88m1vAU77s7",
        "outputId": "5c259ae9-7f63-4c71-f9de-0bfd57fd8471"
      },
      "execution_count": 11,
      "outputs": [
        {
          "output_type": "execute_result",
          "data": {
            "text/plain": [
              "558.8788509368896"
            ]
          },
          "metadata": {},
          "execution_count": 11
        }
      ]
    },
    {
      "cell_type": "code",
      "source": [
        ""
      ],
      "metadata": {
        "id": "MJiXyvYk78GI"
      },
      "execution_count": null,
      "outputs": []
    },
    {
      "cell_type": "code",
      "source": [
        "def MPE(y_true, y_pred): \n",
        "    return np.mean((y_true - y_pred) / y_true) * 100\n",
        "MPE(y_true, y_pred)"
      ],
      "metadata": {
        "colab": {
          "base_uri": "https://localhost:8080/"
        },
        "id": "JO5Lrk4k7_kV",
        "outputId": "afead008-5d55-4789-8584-109d09692568"
      },
      "execution_count": 12,
      "outputs": [
        {
          "output_type": "execute_result",
          "data": {
            "text/plain": [
              "-468.23267936706543"
            ]
          },
          "metadata": {},
          "execution_count": 12
        }
      ]
    },
    {
      "cell_type": "code",
      "source": [
        ""
      ],
      "metadata": {
        "id": "3eaJoRgD8AE2"
      },
      "execution_count": null,
      "outputs": []
    },
    {
      "cell_type": "markdown",
      "source": [
        "![image.png](data:image/png;base64,iVBORw0KGgoAAAANSUhEUgAAAfAAAAD5CAYAAADY1GeaAAAgAElEQVR4nO3dP2waW/o//jc/bZG9NLnV4Cbm4ya+1fU2BBdJoIqvhARXigWWImW2im/jZEURu0ERDWyB4k0T3yqzUiSwHMlGQrK3wjcpYGnireJv4zhpgCpufJPu/IozAzPDDNj4D4zzfklIiWFmzswc5pnznDMHnxBCgIiIiDzl/xt1AYiIiOj0GMCJiIg8iAGciIjIgxjAiYiIPIgBnIiIyIMYwImIiDyIAZyIiMiDGMCJiIg8iAGciIjIgxjAiYiIPIgBnIiIyIMYwImIiDyIAZyIiMiDGMCJiIg8iAGciIjIgxjAiYiIPIgBnIguWB15nw8+8ysYRmJxDbut89nC3loEgUAEq3vf+pchUcI5bRKtUgI+nw/5+jmt0HPO67ye/7np8W0fW2sa6kdOm89b96HnlUDpwgp2NgzgRHRJHuJltYpqdROvEgHs/f4bojOL2HG6qJ7KN+DoG9rtfey33AI4XZyLOq/naE/Dr79t4dCpekwnUK1W9ddLPATQ3acqqtVniFy/3OKe1F9GXQAi+l5MYyYSQRgAIgnMBGfwt3/8jq16HnNzZ7lCXsPMch1fnwDXrp1TUekULuq8np/Dw333N69PIxKZ1v9zDTKhYtqnMcYWOBGNxPXrvRf3oz0Ni3NB+Hw+BKbn8KS0j2/dN7GmhhH0+eALTGPuSQn7+putUgJ//as5nf0Ne2sqwkH52dTqLiyXcD1tmjDlRntT4i3sri1ibjoAn8+H4NwTlPbZwh/E/bxOI6Cfu1R+C72H8hv2t55gLuiDzxfE3JMdHBpvneR8HW7hibGNYBjqah1HaGFncRrhhTKAMhYmhkyJH+1BW5zDdMAHny+A6VQeW2NQFxjAieiSHOHoSL4O62tYXv4DUB4jpecnv+3lMfe3v2Pn2iKK29tYVa9hayECdasF4Ag7y3/DbzvXkHi1je3VRQT3d7DnciE+LKXwt9/+jdZMDkUtj8jeDnZOWdrWzjIWV48wvbyG6uZLRI7+hYXIM+yO/ro9Zgac17o8r1vfwni2WcXmszAOV35FRC11AzQAlP8OVQtAXdvEy4cB/OdfvyC1unfCMuxhNfEr/rU/jWV9G992drH/7TpmFtfw7CEA3MXTzSFS4t/qyM/9DX/f+obws01UN58hfLiCXyMqSoeDF79QgojoQtVEDhCwvBRxM/lc1L4Yn2mKYhwCN5+K6pcv4suXL+LLl6bYfASBu6/ER/Fe5BQI3H0pPjhsoVmMCwAiV9O3p0Dg5+fivb0M8aJoCiFELScAiHix6bIOm69fxIdXcQEoIvf+BJ//LpzivOKh2PzSXfL985/lsayZ1mM5t7ZzOOh8NTdFEhB4tC2+OpU0BwHEhWnxAfuUE8ZpNbbz0LoD4mdAKCM++WyBE9ElkQODtp/HAbRxfSaMmU5L6BCHZQD/75+I/vgjfvzxR/z44wR+/R3AHy20MIO5Z3eh/PEbfgrOYXG1hLpbGrR1iHobQGQG0y4fOZkj1NcWZUr3rz/ip7+XAbQBtsBtTnBe70ZMfwNmwnMA2qgfmk7i9evofiSIYBjA/w5xdJLjHYhAfTQJ/P4LgtMpPNF2cHhOg+gO5Q4gYt0BzAFo1w8vbuT8CTCAE9ElkQOD5p6s4tU94L8rT3of+7r7FJud0b/6672KMICZxV3sf9yWI51XFzA7EUbfDOu1axh+TNsRdhanMfvbDq4tFrFdrWLz6d2h13a1neC8XrjrmFs7RLNWxHLkCDvLv+D/psdsJPwFYAAnoksWRCqfwy38FyuLa5AxeBozjwD80QJmIohETK+ZQGfJ68E5qKsa6jsvcRf/xe6+Q/vnegBBAKjvW/pYna7lR9+6gcYacvax93sbeKyhtJzCXCSCmZnxGFE9vpzOaxDBOIA/drFnOgF79R0ACsLBgGUN3QGLdeyUAdybQdB0F+Z+vqRAOIUnazvY0x4B7d+x12fw+Yn3Su4Adq07gB0ASjiIgNuCl2GkCXwiR7IfSkkWxUend0/cn0XjobdfUYivovpY0fs19bP8/rm4BQjl7kPxvLgttovPxcO7ilAebYsv4r14fksRdx++FJvVTfHy4S0B/CxyNdnjae2P/iqqTxUBKOLu41die/OVeHxPbqvTB/61Kp4qEFDuidxmVWy+fCjuKjCt4714/rPx/rYoPre/zz7wk57Xr+9znfP6Uj/Wtyzfb2M9irj3tCi2t4vi6T15/h5t6/3Og87Xl23xSJkU8Zx5+e414n1Oru/e4+ficW7T8briuk9f34vcLQgod8XDl5uiuvlSPLwFASUpiu4ruhQM4DSGuoNj7r3q/YYwgHuN04VeyIFHivVC+OVDUTy+d1MogIByU9x79FIfEPVVfNjMiYe3JgUAody8Jx5vdutGTzD9+kG8eijXo9xMiue1D2L7kdIN4EKIr+9fiuRNRQCT4tbD56JWlTcQxjrM7997XBQfPm6LRwoDeNcpzuv7V+KR6bwmc5viw1frepSnm2I7d09MAgKT98Tj4gfLgLT+5+uLqL18JO7dlDcPk7ceipfvTYPOPm6Lx/cm5SC7e0/Ftuu1w2WfvrwXrx7dEzcVY6BeTmx+cBoud7l8QggxkqY/kas68r5ZrAAAbiFX28VyuJtHq+d9mF2Jo9jcQmqk+SsiotFhHziNr1u3ZH9aYsDzlq1drHUmWQhaJvgw5lmeWd1BfTWBoM+HQOQJdg6PsF9ymTQCAyYUISIaAwzgNL4SqygVk1Da61hI5eE8sLWFneVFrB5NY3mtis2XERz9awGRZ7uWgPu/f6hYPkxgbTOHmf1/QU3NIbV6hMRqd9KIRU2G8P4TihARjYlR5/CJeun9ULmaEOKrqOVuCQDiVq4mvor+feBfv3wQr+IQUHL6JB7dCTyMHtOPr+4KAOJxVe/D+rItHgECyU3RHDihCBHReGALnMbcNYSfrCF3C/jvSgKqUy79qI61xTkEfT789cef4DbfhtGLfu2afBwoYPzyxfXr8rGjb98weEIRIqLxwF8jo/F3bQbLpSL2wgtYX0jh8JbpvaMdLE7/gt+vxZErbiMc+IadZ7/in3+ccZt3n2Lz2RwsT/5enx77Xyciou8HAzh5QzAFbesQh7Mr+O9/TX/f38PvbeBxtYTlyDUAh2idab4NfUKR3/UJRTh3BxGNKabQyTOuhZdRenXP9sdr+BlAKb+KrZ0SVlUVT8pn2cp1zC0+xy38G4sJFaulHeyUVqFGAggs7jjO5vX9OsL+Vh5qRP8JR18A0xEV+a39sTpOR3UNqzvmrpc9rEUCCERWXQZG0kU62t9CXo3oT434EJiOQM1vYX+YSvNtH1trGurmZW0/PXq0s4igL3glB6EygJOnBNU1bD6c7P5hZhHayySu763g10UNh3NrqG8/gnKWjcw8wc6HIlLX6sgv/IJfnqyhNf0MW3lbSv179m0fWmoaP/26gt3rc8hvVlHdzGMuUMfqrz9hem5cguMhdvJ/xz/Mvzv6DTj61kZ7fx+tsSjj9+Ib9rUUpn/6FSu71zGX30S1uon8XAD11V/x0/Tc6edQ39Pw629bOOyz2LdvR/iGT9hvjdNt5TkZ9Sg6IvKar6L2VP4cZNJhLsmPxaRQAPHz05rjTzterpp42nmiwezrGJTt+/K19lT+BKfTFMkfi3L2tp+fitopTszHYrz3iRSHnx79+vVqnm0GcCI6nWZRxGH/vW0zfR7xzoVVPsr38/Oa+FB8LO5NQp+edNtyIZfTbZqmSjVNpSmnLU2K4vuqyOlTYsrf5f5im2I1KZ4bP0b9/qW4NWn7vWr549H6b1Rbp8v8uN1dDybviUcva6L7s9Zynx9tvhebj03TfW7zwcKTMY75z+K5c6XRfyPcCLxO58j8m+5Nsf1In5q189Lrmz2AOwR0Y2rUSWPK3sfF7tSu+rlOFt+Lqj61q5J7L4T4It6/fKjXKUXcvPdYFEc8nSpT6ER0Kkd7uygDQCqMGcdPzCCcAoCy5Rec/pdPIFEKQF0bdvKcXTxJPMN+YhXV6g7UaQB7GhaXd3Etlcf2dhFqcBf/mE1BOwQQjCC/+hR3AeDhS/nTpAnnXwg/LKUQ/mUFuwG5/WIK2PptFnP5uuVxxN9/ncPqUQKr26/wKPAf/OuXFNbO4RevrryjPezKSoOwc6XBjKw0KO/unWAMxXXMLK7h2UMAuIunm1VUq89ONuj02x7yc3/D33euYbG4je1VFde2FhBRtyyPie4+SeDZfgKr1Sp21Gkc7Szjb7/t4FriFba3V7EY3MfO3oj71Ud6+0BEnmP8iEe8z6/JfHx1z/QZveV096X4YHzga1U87rTiB0+ec5JtCvFVfNl+KgCI5GbTKKzMFlhS6PbWXU3kFHtG4YvYfGhq1RnreWpaT+3pCcpEQoju8TP9mEyPj6/EPVMLu38LXP+L06ROA1rgsi7dFE+rRl37IpqbjwRwV7z66F5W+Ytmd8XLD2JssAVORKdy7br8BZnyofsE9a3WfwAAgeumH3O+fr07CPDaNMJxAP/7hm+nmDzH/vvRwDfsb+WRmg7A5/srfvzln/KvpxkL1TpEvQ0gMoNu+/w6ZubiAMqw7KZ1YoBTbOQ7d+26/N3s8iFca02rhf8AQOA6rrl95hwcysqGf0aNuvYjJmRlQ8ta2Sy/9T0z9wx3lT/w209BzC2uolQf/ah2BnAiOpXrMxHEAWBnD87Z4z3USwAQR2TGLcg5RNi7T7FZrcpUt/F6r/adPGdvNYKffl1FK/xMLvvy4an2hS7J9RlEZKXBnkuXw56sNIhHZi7h1shIu5tf76H2q2wzi9jd/4jtVwkE9laxMDuB8OrehZe0H07kQkSnE0hg+enPKP/zGZ6V5lBKBS1vH5byyP8P+PnpMhJuP/d6tIedMoB4EMGhJ89pYX/3v8DdV9A0VU6He21niP0JIqzIvtd9RPR+/SPsyQIiGOy/OJ1EAInlp/i5/E88e1bCXCkFy2E9LCEvKw2WEwGgk3dpyWyK3iQ/jwfBpmVlQwsziJx2pqbrQcypq5hTFxGO/ITfdvfRejKDUf2qMVvgRHRK1xB+VsKrJLC+8H8IJp5A29rF7paGJ6lphBfWgXvPoT0LW1Oh5SdQl0vY2SlhObWIf0PBo8U5BIaePOcargcA/LGGvLaDLe0JEql/9nzmGgBsrWF5+QnW6k659TDUtSSU//0DiUQepZ0dlJZTWPw3cCvX5yaETuVa+BlKstLg/4IJPNG2sLu7Be1JCtPhBazjHp5rzxC+BgABhBP3APwLy0807OyUkE+k0Ht2FQB1aPlVPMlvuafnTa7PLeL5LeDfiwmoq7I+rqoRBAKL2Olzh7C3GkYgomJtaxdba3lofwA/h4Oj7UgZdSc8EXmV/gjXXeNxHkXcvPtQ5DY/dB+/EkJ0B7E9Fjn9ESzl5j3xeNP6CNaXD0Xx+J6+LuWmuPfopTCeCDMGsfU8zv1xWzzWHyu7mXwuqs334uUt88Cyr+L9y6S4qUBg8pZ4+OqDOMtjZJbBcE6PJ9FAXz5sitzDu/KcAEK5eVc8zG2KD1/sn/wots31pVgTxUeKdXCZ+fzfeyq2T/wY2QdRfHxPL4Mibt57JF52K5vDwEchvn7YFLmHt0yPnm2O/NcJfUIIMcobCCK66urI+2axEi+iuZUaWbqR6KphCp2IiMiDGMCJiIg8iCl0IiIiD2ILnIiIyIMYwImIiDyIAZyIiMiDGMCJiIg8iAGciIjIgxjAiYiIPIgBnIiIyIP6/hqZz+e7rHIQERFdORc51UrfAH58fHxhGyYiIqLhMYVORETkQQzgREREHsQATkRE5EEM4ERERB7EAE5ERORBDOBEREQexABORETkQQzgREREHsQATkRE5EEM4ERERB7EAG7TKPjh9xfQ6Peh9gaSfj+SG+3LKpazRgF+13I0UPD7Uei7I8NqYyN52v1vY6OwgaGPmH7M/Q6vkZ+HMdHeSMLvds4bhcH1emjD1LXh64P8jibhetr7fi9MJdhIwp88Q50k7zCuHy7ne2CdGlMM4I4yKLieyTY2llRULrU8zhrvMgCAivr6gi7M56j9Fm/OoZDZ6jGOj62v9Xnl7Cv2vDbevpG1MnOWG6XLcob6EEpXkUUFb94672XjXQaIaXjBekEGZR7rBxpiFRWv7fWuvYFCBshW1+G1KsMA7iAWi6GiLjnfjTVeQx2H6N2pdFVkkcG7cY/gnz6PxU3PldV4DbUSg1bVEKu8gUtsGx9nqg8h3M4ClTdvHW5UGniXAWL378Bj12K6aMo80ln7Da7eIMtWkQ6NsGxDYgB3cj8NLVaB2nurho1CBshq0GL2hWQasZPatecTbSlgc3qvvZGEv9DopED9fVI9nWXevkEFWdwOyYtZxjWCy3S3sV5zsSzbs6eP9DSk6/707JvT8jJl2yj44Y9mgIqKKb+9i2LAcTuF3uMot+P2995jYEu7NgryPHSOxfim2GSr8z7uhO7gfsy9dWqth9aU+nnVB6fUdKPQXaZvfbBtx20zoQfOran2RgEZZJHWm1J998nCoRvAtV4PLh+Np1C6imxFxZJxUo0b3wdG9LZeLx3rscv3ZxQYwB1NYl7eqtm+vK+hVrKopu/YPt9AwR9FQzvQ07oH0BrR7kWuvYHk1BvcP9DTvgcaYG/hZ6JYwgt9eVsl6yHTpTHtAUIAQrcdytpZ7RLwQm73QIshE9UvSO0NLKmA1inTfbxZ0itrowB/NGNKV1eRzUSHDq6htNw2YhoOjo9xfJxG6CTHbRiW42hsx/nv7Y0kpizHQAPUKWsQr6iYendbX25cU2yy1ZlNz0OBgjv3Yy7dKhnI6qAf61gGUeMCNQ71oVGAP9qwnI9G1CVIKndwP2a/cdW7EbK3u+f3zX19G8eQX7szdC+cpnw0pkJ4oBnfjwYK0Qxi2gv9e93GRnIKaqja6Z6rhlRMJbvfg2gmi6rRfVcFoiM++QzgbkJpVLMV0xdetr6NoGnW3iggY+lzUzD/QkMs805eRJV5rJsv/opDK8myvJ4i/PzJuWz6XeP9O/rnQ7dd+wTN/TrK/AtoxnY/fUYFIUx2yjSP9fV5KJ0sgzmlFEK6mgWM/TknA4+bg0x0wAA2t77Pnr838FqtmL68AJR5vNBittRsFtUxz60Zrc7bejGVO/cRc+xWyaK6Pq+nlvVjbaTbR14fjO9X7/lwzi7JGxVLGdpvIeN3SF98Hced/dWPy9DdC6ctH40reR3MoJC0Zmu6DbTu91222GWdaX9qALEbmOy+ieMRXxsYwPswp+naG0tQK6aTbfLpc8WUDtRfU70D3brpl6mT9aM3PjmPmDTSpZ2i6HeVjn2CZgomQ/qNQeiBbIH1pIk+4XMFiN2YtC46ecMlKAzvpMfNzD6IbegBbO1PaAAITVqXVyZDgBf6kDusrU4A3b6+QSdLmUQIFXz+hDGoD3I7FXXKcoM21eeLosynkTUNOG28VlGJaXhguaaaumgG1K3zLh+NKwXz6SwqlQqy1W6Wrv2pAUD/DnReUWSMpebTyBrXqzFJuzCA99MZ9JDEklpxbH0DwOSNGJCtwj46+vj4ASb1dHXS70e0YaQMDxz60E9KpkvtgW9KlcGwp9vefecwv25KE43gcayBx40G01udyEQtgSWagWu3irNR14dJyOrQ+5TB8YNJlxtT82C23sFrsv/b1EVzoGHor91Q5aOxNXmjpy4okyFTt4759QKy0zSEtLmrbwzGQDCADyBTKBVU+jyWokyGXNKJChRFH3AW03BgSucNy0iXVnsqmbwp6N/q0i9yttZUKH2M42pWvxDKC1VP+v7TZ33Q3Bl3wGTQcbtQyiRCABqfrJdemSYzZzfGm9Hq7L3o9H/USi78DhnEYG9cj6Y+yOyQY/1VFNfvjcySvcHbjXfWdGhnnMjBOT1mOFz5yEMmb7h0sdivR/Jm92AMuk8YwAfS77r6Bd/QbWSRsQ5oMEYww0jLfoZxCZTp+GHK4pAu7XDoE4T1kYlGIdq9yDUKljRQ410GCE1C0dNLyERNd5dysIfzdtFJxXaDhf55O/0YtNv65wYct4tlDGYxDSZsb8hMi2ceQer3yJTTo1bm+Q2Mc5qWfbrnWB96uiEaBThVB3t9kIMxo7BWhwGZAH08iaray2PqLgIweP4GeaPSvSD3fn6o8pF3GHXJPNCxvYGk6WmW7rnWbxDtd7+X7C8j3fqVEUL6+AA3klPw+42/xaBVH+hvP4AWm0LUL69iMe0ABxqwdMqtGIE/6zJwQplPI6tGES3cxnFaL0MaWPL79QtRDNqBPgJ78ja0QrRb3piGg3V9vaE0jquAP+rv9P8gW+0zYEMOavJHp+BXASCL6oGG2NTn3rL5M3o51jGvDDhuDjLmMnWKPlwrS5lfxwGSmJryQz3jukZB3pDFoLmkC0IPNMQyKpY27mB9EkBMQxpL8Pv1sBTTcKCf03OtD6E0qlk/osZxzVZxoMVgqg7O9SGUxvHBDSSn/OhWBw19qgM6N66VSmfwmmX/p6KQX7sYtIMDaK7fOjmo743l81VkKwXLfp2+fOQdsmU9WfBjyq92/pqtHsguvTv3EZoyrnGQ34ERXyt8Qgjh9uaff/55mWUhIiK6Un744YcLWzdT6ERERB7EAE5ERORBDOBEREQexABORETkQQzgREREHsQATkRE5EEM4ERERB7EAE5ERORBDOBEREQexABORETkQX2nUiUiIqLxxBY4ERGRBzGAExEReRADOBERkQcxgBMREXkQAzgREZEHMYATERF5EAM4ERGRBzGAExEReRADOBERkQcxgBMREXkQA/ggrRISPh8SpVbfj9XzPvh8edQvqVjO2+++BpV3PLVQSriUXT8PPoeXN/eV+rka9ZnGl7zW+PLOV+xWKQFfooRxr3UM4CdUXtDcg3M9j9mVyyyNffM+zNaLaAoBIQREswgsLOIqXvNyNX0fTa+tVGDUxaJz9D3VZxqxlVm4xHBP+MuoC+ANccTjK5jNRyCWw7b3WijlRxi9UcfuCpCrpdAJY4EUtkRqhGUiGhbrM12uldkEgs0teLEdwBb4iYSxvJwDVvK9rYC6hoVyHMVirmepVilhSgMmepa1pgnN6fc68r4ESq068qY0ouOdYusQdQD1w37NEz1d1ElHlvT1m8phWblDKtuWwja/1yol4MvXTfvb3ZdBx8DyfkLDYZ+9GMStHCcvn22f63mZRqvnXctP5+wc6rNT+rOnjg9Zn9GpC32+k+QZuVoNOZSxsDgoXW6tc+NyLWAAP6mwimK8jAXNFujyK4gX15AKWj/eKiUwsRBGzUgD1sJYmLAGzVnUOmngWm4Fs5arQRkLE7uI6O83i3GszDr0sQdSWM4B5YUJl0rVQikxgQV0U5JrKOFUOYNWCYmJElLNPinNlVksYk3fn2WET3AM5PtA0VjvWhD18mkK5sChHP3LZ9p+swgsTFiDeHkBE7sRfTlv3qV7yhjXZ9Tz8M3WLfWlPssg7m1hLDeLiJcXMOF6InvrnLxUjEEQF9RfsyjiyIla598QuZr+Xi0nYLxn/reoiZz5c52PQ8SLTeftDFq+WRRxxIX74hBA99XZTi0nYF/Otq5aDgLWjYlivE9Zbe83i3GBeFFYPz3oGMj3rdvos1392AMu++lajv7ls2/L8lnLOaHLdJb67HS+e+u42Unqs3PdbBbjfdZL40ueT+PUNYtxSz3rvQ7Yr72DrpGXgy3w09BbByv5ElqoIz+7gnhRhb1X3EgDrsxaR9L2DHQzp/FONAqujEOXHHN42RjU1UQxDpT1FkXrsA4gjOA5tBy7Kf8JLAxqKQ86Bvr74VMWzD6IbegBbC7bDwTDQLmE3VHfWX/nxq4+4xCHZSMz0K3PE4MXJA8IpLZQy3XrmZlznQtAXip2RzpSnQH8lMKqTLcsJvJYQQ7LTgEkEEQY8W6qzfRai8iP1PM++CYWEDYCUq23D304AaS2ZL+OW7A/Nf1GozsyWF5U+xdj8DEgGmxM6jOCCMadn4IQanDsHzeiwcLLTdlNOpHH7qgLc0IM4KcVSGGtGEe5XEauttzb+gYgv+xllByacYFAAN2RtgI9g9rPu7jBs2+gtVtCOV5Ec8s0MnigAccgEHQ5dpdE3759sFTrsA7EU4iwr3ssja4+yxbXyq5DP2kgcIr10PgKILVWRBwrWDBlVmSdq8N6qWhBXioiIz33DOBDCKS2IES/4BtAJBW3pWPkKEY5TkLezXeDh0zHD8MYKWsef1HPz2IlXoQaBhCOIAfzALkWSosLMCf+gsE4sLJrGpm9aEkpyrTyYWeEuP19Z4OOQRiRHCwD80623vMShlq0la9VwuJCeeRfyu/ZedTnnm4Q2zwNw9VnICwrrK1snGTmSgmksGXPhhoDmE0j1WWdiSM14jt9BvALEkht6aOuTf1s4RrUYAtAAKnlnKk/bRcRUcMwSfRAaksfoW7qZ66bWxf6KMuVWf39RWC5iLhlHWsoxlcwqy+/iDVY6nBY7Xm/OTjnOOAYGCmrPtt1YO9TP8ssXfLYoVs+OSSdE8OM0HnUZ4SXUcuVu+d1N2Ktr0PWZ4SXOyPPzWVbZpfQ1RJettWHAFJbTRSxgInO2AegOAbPjvuEEGK0RaBL13mMZvQVkOjMWJ/pO8UWOBERkQcxgBMREXkQU+hEREQexBY4ERGRBzGAExEReRADOBERkQcxgBMREXkQAzgREZEHMYATERF5EAM4ERGRB/2l35t//vnnZZWDiIjoyvnhhx8ubN1sgRMREXkQAzgREZEHMYATERF5EAM4ERGRBzGAExEReRADOBERkQcxgBMREXkQAzgREZEHMYATERF5EAM4ERGRB41tAG8U/PD7ba/kBtrnvqU2Ngp91tveQNLvR3Kj/5ZleQtonHv5TsZ+vAaVdzy1sZF0Kbt+HnrqhGf3lfq5GvWZxpe81vgLzlfs9kbyguLN+bCk6gMAABl/SURBVBrbAA4AyFZxfHysvw6gQcXUeQfJ9lu8OcEKK+pr9+02CohmzrNQp9Mo+BFtaDgwjtWBBqhLuIrXvGz12FQn5Gt9Xhl1segcfU/1mUYsE4VLDPeE8Q7gFgrmX2iIoYFP5/lF/vQZlYEfiiEWyyDqeKbb2CiMMHqjgXcZIJueRyeMKfNYP14H4xp5D+szXa5MNOnZm0MPBXBDBZ8/df/X3kj2T7U1CtaUqykINwp++KMZoKJiyt8vBR5COp0FMoXeE914DbUSg6Zle5ayls1eSRoouJRLvpfERtv6Gef7h09oAGj0vavR00WdY7Shr990HCwrd0hl21LY5vfaG0n4Cw3T/naPY/9jYHs/+Rqf++zFIG7lOHn5bPvcKMg0WqcOefeL7hnnUJ+d0p89dXzI+my/nni59UZAtlpFFhWoS4PS5dY6Ny7XAg8F8DY2llRUYhoehPS/bCQxpQLagTnVNtX9MjYK8EczprRrFdlMtPNFDqWPcaDFgJiRrksj5Lb50ANosQrU17ZAV8ggpr3A/KSttBtJTKkhVI00YDUEdco46Q0U/FHAVi7rxaACdeodbuvLH2gxZKIONxjKPNJZoKJOuVSqNjaSU1DRTUm+wBucKmfQ3kBy6g3uH/RJaWaiWMILfX/kcex/DBzO34sbaAxOh/TnUI7+5etTfwB5c/futr4cW4EXbozrs7yeNCz1pRFlEPe2ENIHGmIVFVOuJ7K3zslLxeiD+HgH8EzUdMczBTVUxfG6kVpr4LVakcHTuKgq83ihxVB58xZtI7WdrSLduYqHkK5mgcy7IfrR9RS+OdA2XkOtZJHuuarLsmWrpgASSqOareDN27Ysx/GxpVy3s0DmnbVU5uWVO/dduw9C6WNUs4AM+rYWhZEheNFNScp1nWbXbSlM5Q7ux4x90cU0vLAch0HHwOn83cH9AQXLRAcMbuopR//yudcfQxbVtOttHV2A8azPppt1W32xf2/JY/TziEzUebCkU52bfwHNXmdGYLwDuD6I7UCLAYhBe2C6kOqpttCk9WKtTIaAyhu8bX/C5woQu2FrGk/eQAwZDPWd01sHmcIG2migEM0gpj3obbXrZbMHG/tAN3P69mSD4KzdB2ahtGmwXwyo6C2K9qcGgBAmz6Hl2B0ZPAV1UEt50DFwOX+D2AexDT2AbWD9GW61dD7Grj5DXk9kZqBbn6cGL0geoMyvo5rt1jMz5zqnQF4q3o50pPp4B3CdcbczuJ/i4oUeyHTLUrKADJxa3wCUSYQQ66baTK8XdwCj/9ucXq72dqEPScH8uuzXcQv2p6b3F3ZHBsuLav9iDDoGRCcxJvUZk7gRc34K4vjB5MivS3R2ofSBjDNTBbwddWFOyBMBvJO+rqhYMm6PlEmE0DvYpf2pAcTu444iv3AV+7f+02dUkMXtYbOiRpq1YksPW0zihkt6RVEUoPEOGWRR7dfnfk6UybNvof32DSoxDQfrppHBAw04Bvr5G5mB9Wc0xaL+RlefZYvLMV2uKKdYD40v40mnDFRTZkXWOXv3ZRvyUnFnpOfeIwEc3cDZSXGE8MDyfwDtDSypFf2gKphPZ23P+cm0N7K3rcGj8hmfALTbJ7uPVubXcWzpw+75BO7ct5VNH8VYaEBP45sqxBmeIzfS8ObxF41CFBljsF/oNrIwPwKnDwY0rWPyRswyLqC9sWRJKcq0sjxGTu87G3AMjH7/aMF1uxdrUP2hUTiP+tzTDWL7fg1Xn4HQbfv1RKbhOcnMFaLMY92eDjUGMJsywLLOxHB/xHf63gngMKXS9dF/yvy6PhpQ75OSQ4q7/aKhNI6rWVM/bBSZbBXHpsirzKflBcHvx9TU+U0Wocyv66OurYPwHky29b707gAd/7vbOB4yhy6PQczS1xxtmFsX+ijLzoDAJSCtWQb9yOMqj4Hf78cSXlhT+qEHPe8fDM459j8GMFJWfbbrwN6nfpZZugbWH7p051GfjcGS5u+Xpb4OWZ8RSndGnpvLlmaX0NUSStvqg4L5dWMiMWPsA6AdjP6pFJ8QQri9+eeff15mWeiydB6jGX0FJDoz1mcaYz/88MOFrdtTLXAiIiKSGMCJiIg8iCl0IiKiC8IUOhEREVkwgBMREXkQAzgREZEHMYATERF5EAM4ERGRBzGAExEReRADOBERkQf1fQ6ciIiIxhNb4ERERB7EAE5ERORBDOBEREQexABORETkQQzgREREHsQATkRE5EEM4ERERB7EAE5ERORBDOBEREQexABORETkQZcfwFslJHw+JEqtvh+r533w+fKoX1KxXEqBvM8HX6KE3tK2UEoM3o9htUoJl+32Uc8jf4YDJo+57XXaMoxEC6W8F8pJRHR+RtYCLy9o7sG5nsfsymWWxkV9FysAUF6ANto7iROp757DQcvVIITQX00UsYCJkd9IDdDaRWmsC0hEdP5GFMDjiMdXMOvYXGyhlB+H6K2XI1dDLQes7I57hGjh8NyLGEBqrYg4VjDWu394iPKoy0BEdMlGFMDDWF7OASt59GSg6xoWynEUi7mepVqlhCm9m7Atq6e7jZfl5qCOvC+BUsv6mb7p5tYuSmUgFwkjHMkBK7uurVBz6tmaUu9XJpmCd98fh204LJ8otfRuiQkslIGVWXs5bNs5bUo8EEQYQP3QWOp0x7lbDttylnL0WWc9Lz9bz5uOVTcjUM/74JtdAcoLmLC917e+6F059i4D1/KepW+CiOgCjG4QW1hFMV7GgmYLSvkVxItrSAWtH2+VEphYCKNmpHdrYSxMGBflOvK+WaBmpH5ryK3M2gJ0GQsTu4joyzeLcazMuqeGW7sllONFqGEA4QhyWEHeIcKWFyawGzHKlEN5YaKz3Xp+FiumlHQNRplaKCUmsIAimp3ywLQ/pxRIYUvUkAOQ04/BVirQ3U7YVIbwAiZOE8Rbh6gDCAcDMI5zvdjsptjrs7bgZj3OshxyOfOxaKZKWCy1TrbO8gImdiPd903Zm/CyPJeIG8dyGWHo9aWUsh7fRWO/68hPLCBsri/6sTOXt/9+EhGNmLhszaKIIydqnX9D5Gr6e7WcgPGe+d+iJnLmz3U+DhEvNh03U8tBoLvi3uWbRRFHXDgvLj9vXnctB4F4UXT/0hTFeO/2u9t1fr+7n/ZtWz/fLMYt27Puj9P2HfbRcgzN++a8327bMNZhL5Ne0O75dDlPzuUwFh+wTodl7cs4rqN3Q93zbSlzd9/djn3vfhIRjd5oHyMLpCAz6SW0UEd+dgXxooqw/XN6K9BIDxsv+0A3c8r0ZIPgyjg8dPhzfRcriCMVCXT+FFaLiJdL2B3QdA0G40D9EC0EkFqWLXJ7ur51WAcQRjBgXjKAYBgol3bPbTS13M4KZi1p4ln0PTQrs6bPTmChnENNb9UeHpZNqWr9NbEwsP+5vrsCxIMIOrw37DpRPoTTqbNtuZsGN68zEETY0q9fx+6KkWU4Q5mIiC7RyJ8Dl4FxAYuJPFaQw3Iq0PuhQBBhxFFsCtMIaflaiwDGhdqcYq/1dqGfmBzNXcbChP0Cbk/5D9q5ZVnOZhH12ct/LC4QDJtSy+bXGiJuC1lGoXdT0oB+c9LzvoAQKoJD3nVcxDoB42bOlAZvFhHvvBvGci1nuiGU6f3l8MWWiYjoPI08gCOQwloxjnK5jFxtubf1DQAIIhgvo+TQ/A0EAnqLudtSPJNWCXLwee/NQrMY7zuYDWhht1QGwkFYG9cpbOl9t7t1PbCijsOWddnDOhBPReBwCzOcYNAlaxBAYIiNBIJhl/3vv75wJOfaYh52nf3J8xAvNvU+bbs68rN16w3hcrfmXEyZiIjO1+gDOIBAagtCCCy7Rt8AIqk4yguLpkFecnR1vg4ZqMwB8QzPkbd2Sygjh4hDWQKRVM8jVebn2VulRTmCXg3r5TMNSmvtolSOIxhEdwDfYncwmbGsOW1vFgxabx7k53s/J0eLt9BqAQhEkLJtR46+HjIToA/mm3UaJX7K5ep5/dwNu047/QahJXdcdkd0+kdaKC2aU+BhRHK2DIt5BPp5lemSGV1IjmPt6vkLzADJDNjpxvgNP/mOfOqjz4BP/YmFQZMsDTVZEnmT8dSJy/keWKfG1cV3s9ucdDCQ08CnWk4A6L5yNdFsNvW3rH8XtdwJBrE5/w09o7DMRTAGdckBXrmaXLex7e6iTdEsWstrXa0xQMx4WQeW9Q6ksn4+Xmz2DOJrFuPWY2Aps7kcTdE80SA2Jw7lrjX1croMYjO953Tu+q7TbRCb5W/mdZsHqpn/1hTFuP5eLdc7SK1nYGG//RxHpvI6DejrM5Dw7PqddxfNoogPGng4YHt9B7CeYN0nGvxIV4fTNb/f3z3g8gM40Yg5P70wRBAaJ8YNSM3l6YpxC+BON1GnWtwtSPcP7mYM4N8ft6eJBjdcxtNYpNCJLlMwaO+O0Z/ZN5779yA50j+FSFh2mziNFwFgm8DGmlLvO/GNZSKd/hPbOKWmzRMR9Zt8x74dt80Yg1/tY0pbJetg2P6TP5k5dAO0SkgMOA6cGsBbwss15MoL+hwU6E4c1vni95/4yvp7EaOfYpoBnL47gdSWPnGO6ZFE1CC2Uuc3gPBSycfgcsspBDrjRZx+a2AFs4vAmnlCHOMC1SphcQHdgX3NFErG2Il6Hr7ZFdPATjlR0rAT27hNviO3YxpcqD+94biZQASpuH2KY30QaS5ygsl8hnCa8tGYCkMtGt8P49HlNcj7vQETX9XzmF3JmSYTg8t04JdodI1/IjoPPWMCnPr0nFLo5sltXFPsLinGPhMtOaWm7eMr3MZ42FPfzWLcNb15ov1229+eMgya7On05aNxpZ/LuK3+DJj4ahy7XNgCJ/I0a6sTQHeCpEG/QBMIImxMZhRWZYu8J214iMMyEA/apuEJBs/5R27kdoyJj4zXhNOjFkbxU8uWKY7r2kJ3+uMOl8l8LqF8NK70SbZsjy4PmvgqkFpGzuj2GXXLW8cATuRl+o/uWGfQ02cidPqxIFcBpLZMacMTPIZ1voKQ8+f0zr8g1KBL2juMSM6YvVB2I5jnUeg/mc9llI/GVjDYUxcGT3wVxrL5txHGYAwEAziRhxmtzt6LTg059BnMBnSmDLY3rsPL+g/zlHbR0gNX2T7n8OGh63wJw5HP7jtmDQIB17EJnSmOS7u2mRwHTeZzOeUjDznxxFfyZrdZjI/8Z6YZwMkbXH7+8yQTdlxdva3OLnPr1GD+RT05gAe5ZTmAp563pAXrcnJ4BPR0Iyy/7mcsG3Gc+TAgJ/XvXgjdJlayTL6jz9hn+xXBen7A+TUmK1qwl2fQZD528kale0Hu/fxQ5SPvGDDxVauUsPxM826p3Nu1dNkuv9udaAgenmzhosgJetx+UU90jlm82Ow8d10zT/Zj/kW3Zs06cY3jRDe2yZK6b/YMALNPrNQ72Mth8h1Tmc3lqDnNOmTZzbjDREn2ddkm8xEOg5J6Pu/wy31DlI/GUJ/ridvEV81msWcyqlHzCSHEZd4wEA2lVUJC/w1v9yl3iYi+H0yh05XRKiXgy9dNk3d0U19Of+8s45aON+Y/70ze4cG5konoyvrLqAtAdK5WZrFYbEKIrc6fWm5/LyUwoU9ekgpAb+VPIAHTwKfyAib0iR2IiMYJW+DkKd3f8HYZwBYvYs1p1HHP3+vQFsqmWZjQ/Wlby8CvHGrM2RPRGGIAJ0+xP4c79CNCrUPUAYSD1uV7RlATEY0pBnAiIiIPYgCn71MgiDCA+qG1qd06rMtf9eLMHEQ05hjA6Ttl/CqR6WdFWyUsLpRdJkYhIhovDODkKfZBbGeZia3nZ0XlkPRzmnqTiOhicSIXIiIiD2ILnIiIyIMYwImIiDyIAZyIiMiDGMCJiIg8iAGciIjIgxjAiYiIPIgBnIiIyIMYwImIiDyIAZyIiMiDGMCJiIg86C/93vzzzz8vqxxERERXzg8//HBh62YLnIiIyIMYwImIiDyIAZyIiMiDGMCJiIg8iAGciIjIgxjAiYiIPIgBnIiIyIMYwImIiDyIAZyIiMiDGMCJiIg86OoF8EYBfr8fhUa/D7WxkfTDn9xA+7LKZdIo+OH3214jKsvpNFDof2AvTnsDSfsx01/JjfE/cjRCjQL8/iScq0kDBdfrRQMFy3L6dcNfwIi+BTQs4/rhcp2V12S3OjK+rl4A12UK7gGxvbEEtXKpxemVreL4+Fh/HUCDiqlxvzA03iEz4iJkq8em4yZf6/PKiEtF468Cdel0N8ntjQIy2TQ61av9Fm8qAJBBwWtX+u+dMo/1Aw2xiorX9otsewOFDJCtrsNrl5KrGcBjMcQqKpYcv2QNvB559LZTMP9CQwwZvBvjCN7+NMaFIxqkomLqxBmkNt6+AbQHoc5fGq9VVGIaqloMlTdvPZAxIwtlHumsvXHXxsaSikq2inSoz7Jj6moGcNxHWouhor7uadG2NwrIIAtNi9nf0dNjbiltmWrrvG++EDQK8vN6+l6+TtmaViYRAtD4ZGz1NNszpX4sZbCll23vWa5lffdBHpsptQJkoj3Hp72RNC1jS0O5pL675eqzn6fU3kjCX2iYyiPL7/b33rI7HC+340zeogdeZKIDutd0jddQcR93Oi2yBt5lgNj9OwjduY9Y5Q3esi54TihdRdbcuGu8hlqJmW7U+scBa/fn6DOmVzSAA5PzaWR7Ul2y9Z2tpnHH8uk2NpJTUEPdtHY1pGKqc/IaKPijQCd9W0XWfiGoqJh6d7ubEo9lED1NMGp/QgNAaFLpbK+hHXTX14hag5tle3rqp1GAP5oxpZkPcP/Nkgw6jQL80Qa0A/29Aw2NqP+E+6Bgfv0Y1Sy6qf/1eSiQAXDqzX0c6MftQIMpVdlAYUpFyHzcINPgMu19gv08rUwUS3ihry+NUJ+/tzeSmFJhOSZQp6xB3Ok4kydNzq+jmgUy0cE3Yo13GcTu30E3fr9DBlmk5xVAuYP7sQrUnlwsjb8QHnQadw0UohnEtBf693pAHGgUEM1kUTW676o43TX+AlzZAA6EkK5mUVGXOl/W9kYBmZiGB/ZUSeM11EoWVVMORd6pGXfZIaSPj00plhBuZ4GMJd9tXl7BnfsxoPHphGk2PY2DLG6HuuV80YkWeoo98850x2ctLyAvOrCkghTMr69jXmljo2CuqACUebzQYmfeB2V+vRPMAUAxt07an9DQ90mSx83IMpxsP60y0QED2Czr6/d3eTPndEys6dHe40zeFUpXkUUF6lS/1lMD7zJ6sAYAyO8Psrf1G0L9u9GnntL4UuZfQItlUEgWujdlwMA40P7UAGI3MNl9E8cjvjZc4QAOIPQAmnGn3N7AklpBNt0NNgbZt5tB1JLmjfYM2DKnW6MnGc1V+YxPbu8ZqWi/H37/lKw4esvw0+eKbPmZyzOlon/PvZ7iuzHp8N4nyFVOWYLf1EnGAvTbB9O2C07lVCYRsvTryzLKLMNw+2kfxDb0ADZLxqNLmQwBTI9eYSGkD+R4E7fWkxy8drubvdEHr2W7d6JQ9AzfOI9ZITcK5tNZVCoyG9tJng+IA8p8GlnjejXilrfhagdw/UQhU0BySQ5A6Wl9Q79ox7ROGrj7eqGn2mWAmlJDnfRJNXvGollGoVvTvZM3Yg7vH+P4+AEmhwosk5Cr7B3Bffxg8kyDceRNjSkNfqChO7pAZkG6reYoMqYMwfnvJ9EJKPNYl7l0JDfst6dtvH1TsQTr9ts3qMCe/ZEX9n5Pu9AYm7wB+yiowXFAZmI7XX0DH1e+eFc8gAMIpVHNVlCpxKC96G19A5An07HVpUBR0On/qpr7VC+QMhlySc/p5XEk09OVz07tZQVylQ61TVGcj8mJyItdTDtwaQk3UDD3ux8fW1JOw+3nOekZNCjJNJl58BJdSaE0qlmgoqrWTFv7Ld7AfKNvdLUc9N5oVrPM1lwlg+KA6f/z68c46OmCvHxXP4ADCKUHDEAyBqWYnxNtbyBpjDKcvIEYGugOEC+cLIU+dIFvI2tP8RkjovsulrWNsm2goO9D73tyROWpJ0HR+8Tb7TaMG4PuTYPRl98pEW5nK1CnXPqth9zP82EMZumOkTC6WSyDl+jKCqUPYH8YpfFaBXoGr8Vw3+mOLnQbWVTwhhH8ahgQB9obSdP1Um+8OHZZXp6/jHTrY0PeUU0W/Jjyq52/ZqsHMpWrzCOdVRGd8kOVb+C4moX/3UWVJ4T08QFuJKfg9xt/i0GrPhiwWBrHVcAf9XdaFZ19CKVxfHADySk/uqvUMGiVltU/0BDLqPox0jMSDzTEpqLwZ/QyHhxAw5JcoFFAtKHh4NiU+WgU4I8uYePOOuaV0+9nxrRv3d1wywD0p8yv4wBJTBnn9QzrIi9SML9exWd/VP+/PnjtWOn8vxDNADHNJSMjbwIzqlGfL6fUdFEGxIE79xGamkLnrWwVxyM+6T4hhHB7888//7zMstAV0yj4UbhhD4jdR/I4uJvGSaPgRxTVkY8spqvlhx9+uLB1M4DThek+Z91tnTQKftkqX3cZj0BEdIVcZABnCp0ujFOKGtkqjtfZwiEiOiu2wImIiC7IRbbAv4tR6ERERFcNAzgREZEHMYATERF5EAM4ERGRBzGAExEReRADOBERkQcxgBMREXlQ3+fAiYiIaDyxBU5ERORBDOBEREQexABORETkQQzgREREHsQATkRE5EEM4ERERB7EAE5ERORB/z8z1rFnCh9EigAAAABJRU5ErkJggg==)"
      ],
      "metadata": {
        "id": "DpgZynDj8DxM"
      }
    },
    {
      "cell_type": "markdown",
      "source": [
        "수 많은 지표가 있고 데이터 상황에 따라서 다르게 써야한다는 사실을 얻으셨길 바랍니다.\n",
        "\n",
        "추가적으로, 사이킷런 공식문서에 다양한 회귀지표가 있다는 것을 알면 좋을 것 같아서 공유합니다.\n",
        "\n",
        "https://scikit-learn.org/stable/modules/model_evaluation.html#regression-metrics"
      ],
      "metadata": {
        "id": "pDqcNciT8E4i"
      }
    },
    {
      "cell_type": "code",
      "source": [
        ""
      ],
      "metadata": {
        "id": "pkmiPN488EKh"
      },
      "execution_count": null,
      "outputs": []
    }
  ]
}