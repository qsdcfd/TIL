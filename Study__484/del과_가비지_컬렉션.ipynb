{
  "nbformat": 4,
  "nbformat_minor": 0,
  "metadata": {
    "colab": {
      "provenance": [],
      "authorship_tag": "ABX9TyMTacAmmPJPl9UYPNH7s9+H"
    },
    "kernelspec": {
      "name": "python3",
      "display_name": "Python 3"
    },
    "language_info": {
      "name": "python"
    }
  },
  "cells": [
    {
      "cell_type": "markdown",
      "source": [
        "# 객체지향 상용구\n",
        "## 객체 참조, 가변성, 재활용\n",
        "### del과 가비지 컬렉션\n",
        "\n",
        "del 명령은 이름을 제거하는 것인지, 객체를 제거하는 것이 아니라 del 명령의 결과로 객체가 가비지 컬렉트될 수 있지만, 제거된 변수가 객체를 참조하는 최후의 변수거나 객체에 도달할 수 없을 때만 가비지 컬렉트되므로 변수를 다시 바인딩해도 객체에 대한 참조 카운트를 0으로 만들어 객체가 제거될 수 있다.\n",
        "\n",
        "<br>\n",
        "\n",
        "CPython의 경우 가비지 컬렉션은 주로 참조 카운트에 기반하여 본질적으로 각 객체는 얼마나 많은 참조가 자신을 가리키는지 개수를 세어서 refcount가 0이 되자마자 CPython이 객체의 __del__() 메서드를 호출하고 객체에 할당되어 있는 메모리를 해체함으로써 객체가 제거된다.\n",
        "\n",
        "참고로, CPython엔 순환 참조에 관련된 객체 그룹을 탐지하기 위해 세대별 가비지 컬렉션 알고리즘을 추가하여 다른 파이썬 구현에서는 참조 카운트에 기반하지 않는 더 정교한 가비지 컬렉터를 사용하므로 객체에 대한 참조가 모두 사라진 경우에도 __del__()메서드가 바로 호출되지 않을 수 있다.\n",
        "\n",
        "<br>\n",
        "\n",
        "```\n",
        "#객체가 소멸될 때를 보여주기 위해서 weakref.finalize()를 사용해서 객체가 소멸될 때 호출되는 콜백 함수를 등록한다.\n",
        "\n",
        "#가리키는 참조가 없을 때 객체가 소멸되는 것을 지켜보기\n",
        "\n",
        "import weakref\n",
        "s1 = {1,2,3}\n",
        "s2 = s1\n",
        "def bye():\n",
        "\tprint('Gone with the wind...')\n",
        "    \n",
        "encoder = weakref.finalize(s1,bye)\n",
        "encoder.alive\n",
        "\n",
        "del s1\n",
        "encoder.alive\n",
        "s2='spam'\n",
        "encoder.alive\n",
        "\n",
        "\"\"\"\n",
        "del이 객체를 제거하는 것이 아니고, del을 실행한 후 객체가 도달할 수 없게 된 결과로 객체가 제거됨을 명확히 보여준다.\n",
        "\"\"\"\n",
        "```\n",
        "\n",
        "<br>\n",
        "\n",
        ">del은 객체를 제거하는 것이 아니고, del을 실행한 후 객체가 도달할 수 없게 된 결과로 객체가 제거됨을 명확히 보여주고, {1,2,3}튜플 객체가  제거된 이유는 약한 참조를 갖고 있기 때문이고 이건 다음 포스팅에서 알아보자."
      ],
      "metadata": {
        "id": "qXXacusEewWE"
      }
    },
    {
      "cell_type": "code",
      "source": [],
      "metadata": {
        "id": "SGaJVMUCewiu"
      },
      "execution_count": null,
      "outputs": []
    }
  ]
}