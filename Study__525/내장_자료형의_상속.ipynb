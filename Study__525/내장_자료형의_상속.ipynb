{
  "nbformat": 4,
  "nbformat_minor": 0,
  "metadata": {
    "colab": {
      "provenance": [],
      "authorship_tag": "ABX9TyOLwqFrqb9GiFfIhUHcuu5n"
    },
    "kernelspec": {
      "name": "python3",
      "display_name": "Python 3"
    },
    "language_info": {
      "name": "python"
    }
  },
  "cells": [
    {
      "cell_type": "markdown",
      "source": [
        "# 객체지향 상용구\n",
        "## 내장 자료형 상속과 다중 상속\n",
        "\n",
        "이번주는 Tkinter GUI 툴킷과 장고 웹 프레임워크라는 2개의 중요 파이썬 프로젝트를 이용해서 다중 상속을 설명한다.\n",
        "\n",
        "### 내장 자료형의 상속은 까다롭다.\n",
        "\n",
        ">파이썬 2.2이전까지는 list나 dict등 내장 자료혀을 사용할 수 없지만, 2.2 버전 이후부터는 내장 자료형을 상속할 수는 있었으나 C언어로 작성된 내장 클래스의 코드는 사용자가 오버라이드한 코드를 호출하지 않으므로 상당한 주의가 필요하다.\n",
        "\n",
        "\n",
        "<br>\n",
        "\n",
        "공식적으로 CPython은 내장 자료형의 서브클래스에서 오버라이드한 메서드가 언제 호출되는지, 혹은 호출되지 않는지에 대해 명확한 규칙을 정의하지 않고, 일반적으로 서브클래스에서 오버라이드한 메서드 같은 객체의 다른 내장 메서드에 의해 결코 호출되지 않고, dict의 서브 클래스에서 오버라이드한 __getitem__()메서드는 내장된 get()과 같은 메서드에 의해 호출되지 않는다.\n",
        "\n",
        "\n",
        "```\n",
        "#__setitem__()을 오버라이드한 메서드를 무시하는 내장된 dict의 __init__()과 __update__() 메서드\n",
        "\n",
        "class DoppelDict(dict):\n",
        "\tdef __setitem__(self, key, value):\n",
        "    \tsuper().__setitem__(key, [value]*2)\n",
        "        \n",
        "dd = DoppelDict(one=1)\n",
        "dd #{'one':1}\n",
        "dd['two']=2\n",
        "dd.update(three=3)\n",
        "dd\n",
        "```\n",
        "\n",
        "내장 자료형은 '슈퍼클래스에서 구현된 메서드 안에서 호출하더라도 메서드 검색은 대상 객체의 클래스에서 시작해야 한다는 객체지향 프로그래밍의 기본 규칙을 어기고 있으나, __missing__()메서드는 예외적인 상황을 처리하는 메서드이므로 문서화된대로 작동한다.\n",
        "\n",
        "허나, self.geT()이 self.__getitem__()을 호출하는 경우처럼 객체 안에서 호출할 때뿐만 아니라, 내장 메서드가 호출하는 다른 클래스의 오버라이드된 메서드에서도 발생한다.\n",
        "\n",
        "\n",
        "```\n",
        "#AnswerDict의 __getitem__()을 지나치는 dict.update()\n",
        "\n",
        "class AnswerDict(dict):\n",
        "\tdef __getitem__(self, key):\n",
        "    \treturn 42\n",
        "        \n",
        "ad = AnswerDict(a='foo')\n",
        "ad['a']\n",
        "d={}\n",
        "d.update(ad)\n",
        "d['a']\n",
        "d\n",
        "```\n",
        "\n",
        "\n",
        "<br>"
      ],
      "metadata": {
        "id": "2yJ8_mVAdpE2"
      }
    },
    {
      "cell_type": "code",
      "source": [],
      "metadata": {
        "id": "gwGmbfYqdpP6"
      },
      "execution_count": null,
      "outputs": []
    }
  ]
}