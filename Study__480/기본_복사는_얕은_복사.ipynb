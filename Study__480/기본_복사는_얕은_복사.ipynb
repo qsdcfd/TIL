{
  "nbformat": 4,
  "nbformat_minor": 0,
  "metadata": {
    "colab": {
      "provenance": [],
      "authorship_tag": "ABX9TyNhdQhJSDnoLUrx+EQmmRYB"
    },
    "kernelspec": {
      "name": "python3",
      "display_name": "Python 3"
    },
    "language_info": {
      "name": "python"
    }
  },
  "cells": [
    {
      "cell_type": "markdown",
      "source": [
        "# 객체지향 상용구\n",
        "## 객체 참조, 가변성, 재활용\n",
        "# 기본 복사는 얕은 복사\n",
        "\n",
        "```\n",
        "#리스트나 대부분의 내장 가변 컬렉션을 복사하는 가장 손 쉬운 방법은 그 자료형 자체의 내장 생성자를 사용\n",
        "\n",
        "l1 = [3.[55,44],(7,8,9)]\n",
        "l2 = list(l1)\n",
        "l2\n",
        "l2 == l1\n",
        "l2 is l1\n",
        "```\n",
        "\n",
        ">생성자나 [:]을 사용하면 얕은 본사를 생성하고, 최상위 컨테이너는 복제하지만 사본은 원래 컨테이너에 들어있던 동일 객체에 대한 참조로 채워지고,모든 항목이 불변형이면 이 방식은 메모리를 절약하며 아무런 문제를 일으키진 않지만 가변 항목이 들어 있을 경우 불쾌한 문제를 야기할 수 있다.\n",
        "\n",
        "```\n",
        "l1 = [3,[66,55,44], (7,8,9)]\n",
        "l2 = list(l1)\n",
        "l1.append(100)\n",
        "l1[1].remove(55)\n",
        "print('l1:',l1)\n",
        "print('l2:',l2)\n",
        "l2[1] += [33,22]\n",
        "l2[2] += (10,11)\n",
        "print('l1:',l1)\n",
        "print('l2:',l2)\n",
        "```\n",
        "\n",
        "![](https://velog.velcdn.com/images/qsdcfd/post/63b5a33c-aaf0-4267-ab1e-b0051262f9a0/image.png)\n",
        "\n",
        "\n",
        "<br>\n",
        "\n",
        "#### 객체의 깊은 복사와 얕은 복사\n",
        "\n",
        ">얕게 복사한다고 해서 늘 문제가 생기는 것은 아니지만, 내포된 객체의 참조를 공유하지 않도록 깊게 복사할 필요가 있는 경우가 종종 있고 copy 모듈이 제공하는 deepcopy() 함수는 깊은 복사를, copy() 함수는 얕은 복사를 지원한다.\n",
        "\n",
        "```\n",
        "#승객을 승하차하는 버스\n",
        "\n",
        "class Bus:\n",
        "\t\n",
        "    def __init__(self, passengers=None):\n",
        "    \tif passengers is None:\n",
        "        \tself.passengers = []\n",
        "        else:\n",
        "        \tself.passengers = list(passenger)\n",
        "            \n",
        "    def pick(self, name):\n",
        "    \tself.passengers.append(name)\n",
        "        \n",
        "    def drop(self, name):\n",
        "    \tself.passengers.remove(name)\n",
        "```\n",
        "\n",
        "```\n",
        "#copy()와 deepcopy()의 비교\n",
        "import copy\n",
        "bus1 = Bus(['Alice','Bill','Claire','David'])\n",
        "bus2 = copy.copy(bus1)\n",
        "bus3 = copy.deepcopy(bus1)\n",
        "id(bus1),id(bus2),id(bus3)\n",
        "bus1.drop('Bill')\n",
        "bus2.passengers\n",
        "id(bus1.passengers), id(bus2.passengers), id(bus3.passengers)\n",
        "bus3.passengers\n",
        "```\n",
        "\n",
        ">깊은 사본을 만드는 일은 간단하지 않으므로 객체 안에 순환 참조가 있을 경우 단순한 알고리즘은 무한 루프에 빠질 수 있다. deepcopy() 함수는 순환 참조를 제대로 처리하기 위해서 이미 복사한 객체에 대한 참조 기억을 하고 있다.\n",
        "\n",
        "```\n",
        "#순환 참조 b가 a를 참조한 후에 a의 뒤에 바인딩되는데, deepcopy()는 a를 제대로 복사한다.\n",
        "\n",
        "a = [10,20]\n",
        "b = [a,30]\n",
        "a.append(b)\n",
        "a\n",
        "from copy import deepcopy\n",
        "c  = deepcopy(a)\n",
        "c\n",
        "```"
      ],
      "metadata": {
        "id": "hBVXPgOqtmnp"
      }
    },
    {
      "cell_type": "code",
      "source": [],
      "metadata": {
        "id": "P2glASeptm8w"
      },
      "execution_count": null,
      "outputs": []
    }
  ]
}