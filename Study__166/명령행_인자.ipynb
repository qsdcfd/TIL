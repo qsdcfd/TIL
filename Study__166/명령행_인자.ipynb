{
  "nbformat": 4,
  "nbformat_minor": 0,
  "metadata": {
    "colab": {
      "name": "명령행 인자",
      "provenance": [],
      "authorship_tag": "ABX9TyPcfFaXRbAa5AOebkXlCahd"
    },
    "kernelspec": {
      "name": "python3",
      "display_name": "Python 3"
    },
    "language_info": {
      "name": "python"
    }
  },
  "cells": [
    {
      "cell_type": "markdown",
      "source": [
        "#### 학습 목표\n",
        "\n",
        "명령행 인자를 받는 프로그램을 C로 작성할 수 있습니다.\n",
        "\n",
        "make나 clang과 같은 프로그램을 실행할 때 컴파일하고자 하는 코드 외에도 컴파일 후 저장하고자 하는 파일명과 같이 추가적인 정보\n",
        "\n",
        "이런 정보들을 명령행 인자 라고 부릅니다. 우리가 작성하는 프로그램에서도 명령행 인자를 받을 수 있도록 설계\n",
        "\n",
        "#### 핵심 단어\n",
        "\n",
        "명령행 인자\n",
        "\n",
        "argv\n",
        "\n",
        "argc\n",
        "\n",
        "---\n",
        "\n",
        "\n",
        "우리가 여태껏 많이 사용해온 main 함수를 보다 자세히 들여다볼 때가 왔습니다.\n",
        "\n",
        "main도 그 형태를 보면 하나의 함수임을 알 수 있는데요, 이젠 더이상 main() 안에 기계적으로 void 라고 입력하는 대신 아래 코드와 같이 argc, argv 를 정의해보겠습니다.\n",
        "\n",
        "\n",
        "```\n",
        "\n",
        "#include <cs50.h>\n",
        "#include <stdio.h>\n",
        "\n",
        "int main(int argc, string argv[])\n",
        "{\n",
        "    if (argc == 2)\n",
        "    {\n",
        "        printf(\"hello, %s\\n\", argv[1]);\n",
        "    }\n",
        "    else\n",
        "    {\n",
        "        printf(\"hello, world\\n\");\n",
        "    }\n",
        "}\n",
        " \n",
        "```\n",
        "\n",
        "여기서 첫번째 변수 argc는 main 함수가 받게 될 입력의 개수입니다.\n",
        "\n",
        "그리고 argv[]는 그 입력이 포함되어 있는 배열로 프로그램을 명령행에서 실행하므로, 입력은 문자열로 주어집니다.\n",
        "\n",
        "따라서 argv[]는 string 배열이 됩니다.\n",
        "\n",
        "argv[0]는 기본적으로 프로그램의 이름으로 저장됩니다.\n"
      ],
      "metadata": {
        "id": "2RPMSDB1pTOi"
      }
    },
    {
      "cell_type": "code",
      "source": [
        ""
      ],
      "metadata": {
        "id": "-O2_plMZpUgO"
      },
      "execution_count": null,
      "outputs": []
    }
  ]
}