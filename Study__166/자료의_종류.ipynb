{
  "nbformat": 4,
  "nbformat_minor": 0,
  "metadata": {
    "colab": {
      "name": "자료의 종류",
      "provenance": [],
      "authorship_tag": "ABX9TyM/THVt3c+CMfcQ7SfiNhT7"
    },
    "kernelspec": {
      "name": "python3",
      "display_name": "Python 3"
    },
    "language_info": {
      "name": "python"
    }
  },
  "cells": [
    {
      "cell_type": "markdown",
      "source": [
        "### 자료의 정리\n",
        "\n",
        "\n",
        "먼저 우리가 자료라고 하는 것 흔히 DATA라고 하는데 DATA는 DATUM이라는 단어의 복수형 입니다.\n",
        "\n",
        "그래서 통계학이란 여러 가지로 해석을 할 수 있지만 자료라는 재료를 이용해서 여러 가지 요리를 만들어내는 것에 비유를 할 수가 있습니다.\n",
        "\n",
        "자료의 정리는 자료의 종류에 따라서 달라지기 때문에 자료의 종류부터 살펴보겠습니다.\n",
        "\n",
        "<br>\n",
        "\n",
        "**양적인 자료**\n",
        "\n",
        "먼저 양적인 자료는 quantitative data 또는 numerical data라고 하고 자료 자체가 숫자와 1대 1로 대응이 됩니다.\n",
        "\n",
        "1대1로 대응이 되는데 일정 구간에 있는 모든 실수 값과 대응이 되느냐 아니면 특정한 정수 값만 대응이 되느냐에 따라서 연속형 자료와 이산형 자료로 구분되어집니다.\n",
        "\n",
        "*연속형 자료(continous data)\n",
        "\n",
        "- 일정 구간에 있는 실수 값\n",
        "\n",
        "- (a,b)로 이루어진 특정한 실수 값 특정한 구간에 있는 실수 값을 모두 취할 수 있는 자료\n",
        "\n",
        "- ex:) 혈압, 몸무게\n",
        "\n",
        "\n",
        "<br>\n",
        "\n",
        "*이산형 자료(discrete data)\n",
        "\n",
        "- 어떠한 정수 값만을 취하는 자료\n",
        "\n",
        "- ex)\n",
        "\n",
        "   - ‘어떤 학급의 여학생수가 17명이다’ .\n",
        "\n",
        "   - 어느 특정 지역의 연간결혼 건수가 35건 \n",
        "<br>\n",
        "\n",
        "**질적인 자료(Qualitative data)**\n",
        "\n",
        "자료 그 자체가 숫자의 개념을 가지는 것이 아니라 구분하는 개념을 가지고 있습니다.\n",
        "\n",
        "*명목형 자료(nominal data)\n",
        "\n",
        "- 구분을 위해서 숫자 대응\n",
        "\n",
        "- 예시\n",
        "\n",
        "   - 성별 자료화(남-1, 여-0)\n",
        "   \n",
        "*순서형 자료(ordinal data)\n",
        "\n",
        "- 순서형 자료는 구분을 해주는 것뿐만 아니라 순서의 개념을 가지고 있습니다.\n",
        "\n",
        "- 예시\n",
        "\n",
        "   - 상 중 하를 표현할 때 123 혹은 321로 표시하는 것\n",
        "   \n",
        "   - 설문조사 평가(54321 , 12345)"
      ],
      "metadata": {
        "id": "yeUjzECflFvk"
      }
    },
    {
      "cell_type": "code",
      "source": [
        ""
      ],
      "metadata": {
        "id": "r353xsxElGA8"
      },
      "execution_count": null,
      "outputs": []
    }
  ]
}