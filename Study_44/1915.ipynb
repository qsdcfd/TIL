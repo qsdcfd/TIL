{
 "cells": [
  {
   "cell_type": "code",
   "execution_count": null,
   "id": "dressed-prototype",
   "metadata": {},
   "outputs": [],
   "source": [
    "n, m = map(int, input().split())\n",
    " \n",
    "data = []\n",
    " \n",
    "for i in range(n):\n",
    "    s = input()\n",
    "    data.append(list(map(int, list(s))))\n",
    " \n",
    "dp = [[0 for _ in range(m + 1)] for _ in range(n + 1)]\n",
    "side = 0\n",
    " \n",
    "for i in range(1, n + 1):\n",
    "    for j in range(1, m + 1):\n",
    "        if data[i - 1][j - 1] == 1:\n",
    "            dp[i][j] = min(dp[i][j - 1], dp[i - 1][j], dp[i - 1][j - 1]) + 1\n",
    " \n",
    "            if dp[i][j] > side:\n",
    "                side = dp[i][j]\n",
    " \n",
    "print(side**2)"
   ]
  }
 ],
 "metadata": {
  "kernelspec": {
   "display_name": "Python 3",
   "language": "python",
   "name": "python3"
  },
  "language_info": {
   "codemirror_mode": {
    "name": "ipython",
    "version": 3
   },
   "file_extension": ".py",
   "mimetype": "text/x-python",
   "name": "python",
   "nbconvert_exporter": "python",
   "pygments_lexer": "ipython3",
   "version": "3.7.9"
  }
 },
 "nbformat": 4,
 "nbformat_minor": 5
}
