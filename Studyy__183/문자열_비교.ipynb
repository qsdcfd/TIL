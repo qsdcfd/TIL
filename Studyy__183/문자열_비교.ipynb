{
  "nbformat": 4,
  "nbformat_minor": 0,
  "metadata": {
    "colab": {
      "name": "문자열 비교",
      "provenance": [],
      "authorship_tag": "ABX9TyNacjA781O6gwzvuEtCwCKg"
    },
    "kernelspec": {
      "name": "python3",
      "display_name": "Python 3"
    },
    "language_info": {
      "name": "python"
    }
  },
  "cells": [
    {
      "cell_type": "markdown",
      "source": [
        "malloc 함수를 이용하여 메모리를 할당한 후에는 free라는 함수를 이용하여 메모리를 해제해줘야 합니다.\n",
        "\n",
        "그렇지 않은 경우 메모리에 저장한 값은 쓰레기 값으로 남게 되어 메모리 용량의 낭비가 발생하게 되기 때문이죠.\n",
        "\n",
        "이러한 현상을 ‘메모리 누수’라고 일컫습니다.\n",
        "\n",
        "\n",
        "\n",
        "valgrind 라는 프로그램을 사용하면 우리가 작성한 코드에서 메모리와 관련된 문제가 있는지를 쉽게 확인할 수 있습니다. \n",
        "\n",
        "help50 valgrind ./filename\n",
        " 와 같은 명령어를 사용하면 filename 파일에 대한 valgrind의 검사 내용을 쉽게 확인할 수 있습니다.\n",
        "\n",
        "\n",
        "\n",
        "아래와 같은 코드가 있다고 생각해봅시다.\n",
        "```\n",
        "\n",
        "#include <stdlib.h>\n",
        "\n",
        "void f(void)\n",
        "{\n",
        "    int *x = malloc(10 * sizeof(int));\n",
        "    x[10] = 0;\n",
        "}\n",
        "\n",
        "int main(void)\n",
        "{\n",
        "    f();\n",
        "    return 0;\n",
        "}\n",
        "```\n",
        "\n",
        "f 함수를 살펴보면 먼저 포인터 x에는 int형의 사이즈(4바이트)에 10배에 해당하는 크기의 메모리, 즉 40바이트를 할당합니다.\n",
        "\n",
        "그리고 x의 10번째 값으로 0을 할당합니다.\n",
        "\n",
        "그리고 main 함수에서 f를 실행하게 되는데, 이 코드를 valgrind 로 검사해보면 버퍼 오버플로우와 메모리 누수 두 가지 에러를 확인할 수 있습니다.\n",
        "\n",
        "먼저 버퍼 오버플로우는 x[10] = 0; 코드로 인해 발생합니다.\n",
        "\n",
        "우리는 10개의 int형의 배열을 만들었는데 배열의 인덱스가 0부터 시작한다는 점을 감안하면 인덱스 10은 11번째 인덱스에 접근하겠다는 의미이고, 이는 정의되지 않은 것이기 때문에 버퍼 오버플로우가 발생하는 것이죠.\n",
        "\n",
        "따라서 이 오류는 0에서 9 사이의 인덱스를 사용하면 해결할 수 있습니다.\n",
        "\n",
        "또한 메모리 누수는 x라는 포인터를 통해 할당한 메모리를 해제하기 위해 free(x) 라는 코드를 추가해줌으로써 해결할 수 있습니다.\n"
      ],
      "metadata": {
        "id": "VzEz_VvON9e2"
      }
    }
  ]
}