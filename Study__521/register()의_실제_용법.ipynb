{
  "nbformat": 4,
  "nbformat_minor": 0,
  "metadata": {
    "colab": {
      "provenance": [],
      "authorship_tag": "ABX9TyNNhmWdzjp3juRWvMvbkPu+"
    },
    "kernelspec": {
      "name": "python3",
      "display_name": "Python 3"
    },
    "language_info": {
      "name": "python"
    }
  },
  "cells": [
    {
      "cell_type": "markdown",
      "source": [
        "# 객체지향 상용구\n",
        "## 인터페이스: 프로토콜에서 ABC까지\n",
        "### register()의 실제 용법\n",
        "\n",
        ">register()를 데커레이터로도 사용할 수 있지만, 다른 곳에서 정의된 클래스를 등록하기 위해서 함수 형태로 사용하는 경우가 더 많습니다.\n",
        "\n",
        "```\n",
        "\"\"\"\n",
        "collections, abc에 대한 소스코드에선 tuple, str,range,memoryview 내장 자료형이 다음과 같이 Sequence의 가상 서브클래스로 등록되었다.\n",
        "\"\"\"\n",
        "Sequence.register(tuple)\n",
        "Sequence.register(str)\n",
        "Sequence.register(range)\n",
        "Sequence.register(memoryview)\n",
        "```\n",
        "\n",
        ">내장 자료형이 _collections_abc.py에 있는 ABC에 등록이 되어있고, 모듈이 임포트될 때만 등록되는데, ABC에 접근하면 어째든 임포트를 해야하므로 아무런 문제가 되지 않고, MutablMapping에 접근 해야 isinstance(my_dict, MutableMapping)코드를 실행할 수 있다."
      ],
      "metadata": {
        "id": "lJrkTWNAu05G"
      }
    },
    {
      "cell_type": "code",
      "source": [],
      "metadata": {
        "id": "GXSMFdXju1Lc"
      },
      "execution_count": null,
      "outputs": []
    }
  ]
}