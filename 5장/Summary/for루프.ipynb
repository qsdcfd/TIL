{
  "nbformat": 4,
  "nbformat_minor": 0,
  "metadata": {
    "colab": {
      "name": "for루프",
      "provenance": [],
      "authorship_tag": "ABX9TyMyJ4TRT02K6jqcvm0j0PyO"
    },
    "kernelspec": {
      "name": "python3",
      "display_name": "Python 3"
    },
    "language_info": {
      "name": "python"
    }
  },
  "cells": [
    {
      "cell_type": "markdown",
      "source": [
        "#### 학습목표\n",
        "\n",
        "파이썬에서의 반복작업은 어떤식으로 수행되는지 이해하고 활용할 수 있다.\n",
        "\n",
        "<br>\n",
        "\n",
        "\n",
        "#### 핵심 키워드\n",
        "\n",
        "for 루프\n",
        "\n",
        "---\n",
        "\n",
        "### for 루프\n",
        "\n",
        "![](https://images.velog.io/images/qsdcfd/post/a82cae4f-16a4-4897-8975-986539477a46/image.png)\n",
        "\n",
        "for루프는 하나의 파일에 들어 있는 문장의 갯수와 리스트 안에 들어있는 항목들의 수는 유한이고, \n",
        "이 항목들 중에서 특정 조치들을 취하고 싶을 때 for루프를 사용합니다. 위의 사진처럼요.\n",
        "\n",
        "*위의 사진 코드화\n",
        "\n",
        "```\n",
        "for i in [5,4,3,2,1] :\n",
        "    print(i)\n",
        "print('Blastoff!')\n",
        "\n",
        "# 5\n",
        "# 4\n",
        "# 3\n",
        "# 2\n",
        "# 1\n",
        "# Blastoff!\n",
        "```\n",
        "\n",
        "*문자열 리스트\n",
        "\n",
        "```\n",
        "friends = ['Connect', 'Korea', 'NHN']\n",
        "for friend in friends:\n",
        "    print('Happy New Year!! ', friend)\n",
        "print('Done!')\n",
        "# Happy New Year!!  Connect\n",
        "# Happy New Year!!  Korea\n",
        "# Happy New Year!!  NHN\n",
        "# Done!\n",
        "```"
      ],
      "metadata": {
        "id": "sR4OKDBQtihF"
      }
    },
    {
      "cell_type": "code",
      "source": [
        ""
      ],
      "metadata": {
        "id": "lNdfJ_JLtkLH"
      },
      "execution_count": null,
      "outputs": []
    }
  ]
}