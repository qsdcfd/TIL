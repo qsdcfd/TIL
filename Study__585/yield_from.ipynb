{
  "nbformat": 4,
  "nbformat_minor": 0,
  "metadata": {
    "colab": {
      "provenance": [],
      "authorship_tag": "ABX9TyPbDAUp5wTDzld7exHivErH"
    },
    "kernelspec": {
      "name": "python3",
      "display_name": "Python 3"
    },
    "language_info": {
      "name": "python"
    }
  },
  "cells": [
    {
      "cell_type": "markdown",
      "source": [
        "# 제어 흐름\n",
        "## 반복형,반복자,제너레이터\n",
        "### yield from\n",
        "\n",
        "**다른 제너레이터에서 생성된 값을 상위 제너레이터 함수가 생성해야할 때는 전통적으로 중첩된 for 루프를 사용했다.**\n",
        "\n",
        "\n",
        "```\n",
        "def chain(*iterables):\n",
        "\tfor it i iterables:\n",
        "    \tfor i in it:\n",
        "        \tyield i\n",
        "s = 'ABC'\n",
        "t = tuple(range(3))\n",
        "list(chain(s,t))\n",
        "```\n",
        "<br>\n",
        "\n",
        ">chain() 제너레이터 함수는 입력받은 각각의 반복형에 차례대로 위임된다.\n",
        "\n",
        "```\n",
        "def chain(*iterables):\n",
        "\tfor i in iterables:\n",
        "    \tyield from i\n",
        "list(chain(s,t))\n",
        "```\n",
        "\n",
        "**yielf from i 문이 내부 for 루프를 완전히 대체한다.**\n",
        "\n",
        "루프를 대체하는 일 외에도 yielf from은 외부 제너레이터의 호출자와 내부 제너레이터를 연결하는 통로로 만들다.\n",
        "\n",
        "제너레이터를 코루틴으로 사용해서 호출자 코드에 값을 생성해줄 뿐만 아니라 호출자 코드에서 가져온 값을 소비하는 경우에는 정말 중요해진다."
      ],
      "metadata": {
        "id": "3pKsHvsQ_XsT"
      }
    },
    {
      "cell_type": "code",
      "source": [],
      "metadata": {
        "id": "SQ1G8sCO_YBs"
      },
      "execution_count": null,
      "outputs": []
    }
  ]
}