{
 "cells": [
  {
   "cell_type": "code",
   "execution_count": null,
   "id": "earlier-antenna",
   "metadata": {},
   "outputs": [],
   "source": [
    "from collections import deque\n",
    "import sys\n",
    "input = sys.stdin.readline\n",
    "def bfs(mid):\n",
    "    visit[i1] = 1\n",
    "    q = deque()\n",
    "    q.append(i1)\n",
    "    while q:\n",
    "        start = q.popleft()\n",
    "        if start == i2: return True\n",
    "        for nx, nc in s[start]:\n",
    "            if visit[nx] == 0 and mid <= nc:\n",
    "                q.append(nx)\n",
    "                visit[nx] = 1\n",
    "    return False\n",
    "n, m = map(int, input().split())\n",
    "s = [[] for i in range(n + 1)]\n",
    "for i in range(m):\n",
    "    a, b, c = map(int, input().split())\n",
    "    s[a].append([b, c])\n",
    "    s[b].append([a, c])\n",
    "i1, i2 = map(int, input().split())\n",
    "low, high = 1, 1000000000\n",
    "while low <= high:\n",
    "    visit = [0 for i in range(n + 1)]\n",
    "    mid = (low + high) // 2\n",
    "    if bfs(mid): low = mid + 1\n",
    "    else: high = mid - 1\n",
    "print(high)"
   ]
  }
 ],
 "metadata": {
  "kernelspec": {
   "display_name": "Python 3",
   "language": "python",
   "name": "python3"
  },
  "language_info": {
   "codemirror_mode": {
    "name": "ipython",
    "version": 3
   },
   "file_extension": ".py",
   "mimetype": "text/x-python",
   "name": "python",
   "nbconvert_exporter": "python",
   "pygments_lexer": "ipython3",
   "version": "3.7.9"
  }
 },
 "nbformat": 4,
 "nbformat_minor": 5
}
