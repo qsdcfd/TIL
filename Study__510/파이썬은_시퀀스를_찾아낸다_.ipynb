{
  "nbformat": 4,
  "nbformat_minor": 0,
  "metadata": {
    "colab": {
      "provenance": [],
      "authorship_tag": "ABX9TyNRIRFwtRdFL2+P6BND/ppZ"
    },
    "kernelspec": {
      "name": "python3",
      "display_name": "Python 3"
    },
    "language_info": {
      "name": "python"
    }
  },
  "cells": [
    {
      "cell_type": "markdown",
      "source": [
        "# 객체지향 상용구\n",
        "## 인터페이스: 프로토콜에서 ABC까지\n",
        "### 파이썬은 시퀀스를 찾아낸다.\n",
        "\n",
        ">파이썬 데이터 모델은 가능한 한 많이 핵심 프로토콜과 협업하겠다는 철할을 가지고 있고, 시퀀스의 경우 가장 단순한 객체를 사용하는 경우에도 파이썬은 최선을 다한다.\n",
        "\n",
        "\n",
        "```\n",
        "\"\"\"\n",
        "abc.Sequence를 상속하지 않으며, 시퀀스 프로토콜 메서드 중 __getitem__()메서드 하나만 구현한다.\n",
        "__getitem__()으로 부분 구현한 시퀀스 프로토콜, 항목에 접근할 수 있고, 반복할 수 있으며 in 연산자에서 사용할 수 있다.\n",
        "\"\"\"\n",
        "\n",
        "class Foo:\n",
        "\tdef __getitem__(self,pos):\n",
        "    \treturn range(0,30,10)[pos]\n",
        "f = Foo()\n",
        "f[1]\n",
        "for i in f: print(i)\n",
        "```\n",
        "\n",
        ">__iter__()메서든ㄴ 아직 구현하지 않았지만, 대체 수단인 __getitem__()메서드가 구현되어 있으므로 Foo 객체를 반복할 수 있고, 파이썬 인터프리터는 0부터 시작하는 정수 인덱스로 __getitem__()메서드를 호출하여 객체 반복을 시도하기 때문이다.\n",
        "\n",
        "<br>\n",
        "\n",
        "파이썬은 Foo객체를 반복할만큼 충분히 똑똑하므로 Foo에 __contains__() 메서드가 구현되어 있지 않지만, 객체 전체를 조사해서 항목을 찾아냄으로써 in 연산자도 작동시킬 수 있다.\n",
        "\n",
        "<br>\n",
        "\n",
        ">시퀀스 프로토콜의 중요성 때문에 __iter__()와 __contains__() 메서드가 구현되어 있지 않더라도 파이썬은 __getitem__() 메서드를 호출해서 객체를 반복하고 in 연산자를 사용할 수 있게 해준다.\n",
        "\n",
        "\n",
        "```\n",
        "import collections\n",
        "\n",
        "Card = collections.namedtuple('Card', ['rank', 'suit'])\n",
        "\n",
        "class FrenchDeck:\n",
        "\tranks = [str(n) for n in range(2,11)] + list('JQKA')\n",
        "    suits = 'spades diamonds clubs hearts'.split()\n",
        "    \n",
        "    def __init__(self):\n",
        "    \tself._cards = [Card(rank,suit) for suit in self.suits\n",
        "        \t\t\t\t\t\t\t   for rank in self.ranks]\n",
        "    \n",
        "    def __len__(self):\n",
        "    \treturn len(self._cards)\n",
        "        \n",
        "    def __getitem__(self, position):\n",
        "    \treturn self._cards[position]\n",
        "```\n"
      ],
      "metadata": {
        "id": "1kQooLRcVYXU"
      }
    },
    {
      "cell_type": "code",
      "source": [],
      "metadata": {
        "id": "J0XnFu31VdJA"
      },
      "execution_count": null,
      "outputs": []
    }
  ]
}