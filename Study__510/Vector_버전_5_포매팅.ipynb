{
  "nbformat": 4,
  "nbformat_minor": 0,
  "metadata": {
    "colab": {
      "provenance": [],
      "authorship_tag": "ABX9TyMwMpP2Jleo85nOiYnxbaWb"
    },
    "kernelspec": {
      "name": "python3",
      "display_name": "Python 3"
    },
    "language_info": {
      "name": "python"
    }
  },
  "cells": [
    {
      "cell_type": "markdown",
      "source": [
        "# 시퀀스 해킹, 해시, 슬라이스\n",
        "## 객체지향 상용구\n",
        "### Vector 버전 #5: 포매팅\n",
        "\n",
        ">Vector의 __format__() 메서드는 Vector2d의 __format__과 비슷하지만 구면 좌표를 사용한다.\n",
        "\n",
        "즉, 4차원 공간을 표현하는 방식이 조금 다르다.\n",
        "\n",
        "<br>\n",
        "\n",
        "__format__() 메서드를수정하기 위해선 몇 가지 지원 메서드를 구현해야 하는데 angle(n)은 특정 좌표의 각 좌표를 계산하여, 모든 각 좌표의 반복형을 반환한다.\n",
        "\n",
        "```\n",
        "import itertools\n",
        "\n",
        "class Vector:\n",
        "\ttypecode = 'd'\n",
        "    \n",
        "    def __init__(self, components):\n",
        "    \tself._components = array(self.typecode, components)\n",
        "        \n",
        "    def __iter__(self):\n",
        "    \treturn iter(self._components)\n",
        "        \n",
        "    def __repr__(self):\n",
        "    \tcomponents = reprlib.repr(self._components)\n",
        "        components = components[components.find('['):-1]\n",
        "        return \"Vector({})\".format(components)\n",
        "        \n",
        "    def __str__(self):\n",
        "    \treturn str(tuple(self))\n",
        "        \n",
        "    def __bytes__(self):\n",
        "    \treturn (bytes([ord(self.typecode)]) + bytes(self._components)\n",
        "        \n",
        "\n",
        "```"
      ],
      "metadata": {
        "id": "gieq0nfGn0CB"
      }
    },
    {
      "cell_type": "code",
      "source": [],
      "metadata": {
        "id": "RdPRYkYHn0jU"
      },
      "execution_count": null,
      "outputs": []
    }
  ]
}