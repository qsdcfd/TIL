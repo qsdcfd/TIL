{
 "cells": [
  {
   "cell_type": "code",
   "execution_count": 1,
   "id": "d881975f",
   "metadata": {},
   "outputs": [],
   "source": [
    "\n",
    "import os\n",
    "import gc\n",
    "import warnings\n",
    "warnings.filterwarnings(\"ignore\")\n",
    "\n",
    "\n",
    "import numpy as np\n",
    "import pandas as pd\n"
   ]
  },
  {
   "cell_type": "code",
   "execution_count": 27,
   "id": "f70ca3fe",
   "metadata": {},
   "outputs": [
    {
     "data": {
      "text/html": [
       "<div>\n",
       "<style scoped>\n",
       "    .dataframe tbody tr th:only-of-type {\n",
       "        vertical-align: middle;\n",
       "    }\n",
       "\n",
       "    .dataframe tbody tr th {\n",
       "        vertical-align: top;\n",
       "    }\n",
       "\n",
       "    .dataframe thead th {\n",
       "        text-align: right;\n",
       "    }\n",
       "</style>\n",
       "<table border=\"1\" class=\"dataframe\">\n",
       "  <thead>\n",
       "    <tr style=\"text-align: right;\">\n",
       "      <th></th>\n",
       "      <th>id</th>\n",
       "      <th>customer_id</th>\n",
       "      <th>course_id</th>\n",
       "      <th>type</th>\n",
       "      <th>state</th>\n",
       "      <th>course_title</th>\n",
       "      <th>category_title</th>\n",
       "      <th>format</th>\n",
       "      <th>completed_at</th>\n",
       "      <th>transaction_amount</th>\n",
       "      <th>coupon_title</th>\n",
       "      <th>coupon_discount_amount</th>\n",
       "      <th>sale_price</th>\n",
       "      <th>tax_free_amount</th>\n",
       "      <th>pg</th>\n",
       "      <th>method</th>\n",
       "      <th>subcategory_title</th>\n",
       "      <th>marketing_start_at</th>\n",
       "    </tr>\n",
       "  </thead>\n",
       "  <tbody>\n",
       "    <tr>\n",
       "      <th>0</th>\n",
       "      <td>970634</td>\n",
       "      <td>504760.0</td>\n",
       "      <td>201435.0</td>\n",
       "      <td>ORDER</td>\n",
       "      <td>CANCELLED</td>\n",
       "      <td>올인원 패키지 : 알고리즘 기술면접 완전 정복</td>\n",
       "      <td>프로그래밍</td>\n",
       "      <td>올인원</td>\n",
       "      <td>2021-03-28 15:00:11</td>\n",
       "      <td>90500</td>\n",
       "      <td>20000.0원 할인</td>\n",
       "      <td>20000.0</td>\n",
       "      <td>110500.0</td>\n",
       "      <td>110500.0</td>\n",
       "      <td>default</td>\n",
       "      <td>VBANK</td>\n",
       "      <td>개발자 커리어</td>\n",
       "      <td>2021-03-28 15:00:11</td>\n",
       "    </tr>\n",
       "    <tr>\n",
       "      <th>1</th>\n",
       "      <td>970650</td>\n",
       "      <td>432862.0</td>\n",
       "      <td>203178.0</td>\n",
       "      <td>ORDER</td>\n",
       "      <td>CANCELLED</td>\n",
       "      <td>초격차 패키지 : 한번에 끝내는 영상 촬영과 편집</td>\n",
       "      <td>영상/3D</td>\n",
       "      <td>올인원</td>\n",
       "      <td>2021-03-28 15:16:53</td>\n",
       "      <td>96000</td>\n",
       "      <td>20000.0원 할인</td>\n",
       "      <td>20000.0</td>\n",
       "      <td>116000.0</td>\n",
       "      <td>116000.0</td>\n",
       "      <td>default</td>\n",
       "      <td>CARD</td>\n",
       "      <td>영상 편집</td>\n",
       "      <td>2020-12-02 0:00:00</td>\n",
       "    </tr>\n",
       "    <tr>\n",
       "      <th>2</th>\n",
       "      <td>970657</td>\n",
       "      <td>72297.0</td>\n",
       "      <td>204246.0</td>\n",
       "      <td>PAYMENT</td>\n",
       "      <td>COMPLETED</td>\n",
       "      <td>시크릿코드 : 프론트엔드 실무 완성편</td>\n",
       "      <td>프로그래밍</td>\n",
       "      <td>스쿨 온라인</td>\n",
       "      <td>2021-03-28 15:21:43</td>\n",
       "      <td>171810</td>\n",
       "      <td>19090.0원 할인</td>\n",
       "      <td>19090.0</td>\n",
       "      <td>190900.0</td>\n",
       "      <td>190900.0</td>\n",
       "      <td>default</td>\n",
       "      <td>CARD</td>\n",
       "      <td>NaN</td>\n",
       "      <td>2021-03-04 0:00:00</td>\n",
       "    </tr>\n",
       "    <tr>\n",
       "      <th>3</th>\n",
       "      <td>970656</td>\n",
       "      <td>72297.0</td>\n",
       "      <td>204246.0</td>\n",
       "      <td>ORDER</td>\n",
       "      <td>CANCELLED</td>\n",
       "      <td>시크릿코드 : 프론트엔드 실무 완성편</td>\n",
       "      <td>프로그래밍</td>\n",
       "      <td>스쿨 온라인</td>\n",
       "      <td>2021-03-28 15:21:43</td>\n",
       "      <td>171810</td>\n",
       "      <td>19090.0원 할인</td>\n",
       "      <td>19090.0</td>\n",
       "      <td>190900.0</td>\n",
       "      <td>190900.0</td>\n",
       "      <td>default</td>\n",
       "      <td>CARD</td>\n",
       "      <td>NaN</td>\n",
       "      <td>2021-03-04 0:00:00</td>\n",
       "    </tr>\n",
       "    <tr>\n",
       "      <th>4</th>\n",
       "      <td>970658</td>\n",
       "      <td>478028.0</td>\n",
       "      <td>201797.0</td>\n",
       "      <td>PAYMENT</td>\n",
       "      <td>COMPLETED</td>\n",
       "      <td>올인원 패키지 : 직장인 필수 스킬 3종 세트 MAX</td>\n",
       "      <td>업무 생산성</td>\n",
       "      <td>올인원</td>\n",
       "      <td>2021-03-28 15:21:54</td>\n",
       "      <td>97500</td>\n",
       "      <td>20000.0원 할인</td>\n",
       "      <td>20000.0</td>\n",
       "      <td>117500.0</td>\n",
       "      <td>117500.0</td>\n",
       "      <td>default</td>\n",
       "      <td>CARD</td>\n",
       "      <td>PPT/보고서</td>\n",
       "      <td>2019-11-14 0:00:00</td>\n",
       "    </tr>\n",
       "  </tbody>\n",
       "</table>\n",
       "</div>"
      ],
      "text/plain": [
       "       id  customer_id  course_id     type      state  \\\n",
       "0  970634     504760.0   201435.0    ORDER  CANCELLED   \n",
       "1  970650     432862.0   203178.0    ORDER  CANCELLED   \n",
       "2  970657      72297.0   204246.0  PAYMENT  COMPLETED   \n",
       "3  970656      72297.0   204246.0    ORDER  CANCELLED   \n",
       "4  970658     478028.0   201797.0  PAYMENT  COMPLETED   \n",
       "\n",
       "                    course_title category_title  format         completed_at  \\\n",
       "0      올인원 패키지 : 알고리즘 기술면접 완전 정복          프로그래밍     올인원  2021-03-28 15:00:11   \n",
       "1    초격차 패키지 : 한번에 끝내는 영상 촬영과 편집          영상/3D     올인원  2021-03-28 15:16:53   \n",
       "2           시크릿코드 : 프론트엔드 실무 완성편          프로그래밍  스쿨 온라인  2021-03-28 15:21:43   \n",
       "3           시크릿코드 : 프론트엔드 실무 완성편          프로그래밍  스쿨 온라인  2021-03-28 15:21:43   \n",
       "4  올인원 패키지 : 직장인 필수 스킬 3종 세트 MAX         업무 생산성     올인원  2021-03-28 15:21:54   \n",
       "\n",
       "   transaction_amount coupon_title  coupon_discount_amount  sale_price  \\\n",
       "0               90500  20000.0원 할인                 20000.0    110500.0   \n",
       "1               96000  20000.0원 할인                 20000.0    116000.0   \n",
       "2              171810  19090.0원 할인                 19090.0    190900.0   \n",
       "3              171810  19090.0원 할인                 19090.0    190900.0   \n",
       "4               97500  20000.0원 할인                 20000.0    117500.0   \n",
       "\n",
       "   tax_free_amount       pg method subcategory_title   marketing_start_at  \n",
       "0         110500.0  default  VBANK           개발자 커리어  2021-03-28 15:00:11  \n",
       "1         116000.0  default   CARD             영상 편집   2020-12-02 0:00:00  \n",
       "2         190900.0  default   CARD               NaN   2021-03-04 0:00:00  \n",
       "3         190900.0  default   CARD               NaN   2021-03-04 0:00:00  \n",
       "4         117500.0  default   CARD           PPT/보고서   2019-11-14 0:00:00  "
      ]
     },
     "execution_count": 27,
     "metadata": {},
     "output_type": "execute_result"
    }
   ],
   "source": [
    "data= pd.read_csv('../Project/final.csv')\n",
    "data.head(5)"
   ]
  },
  {
   "cell_type": "code",
   "execution_count": 4,
   "id": "c9a153f0",
   "metadata": {},
   "outputs": [
    {
     "data": {
      "text/plain": [
       "id                        105402\n",
       "customer_id                53742\n",
       "course_id                   1351\n",
       "type                           3\n",
       "state                          5\n",
       "course_title                1640\n",
       "category_title                15\n",
       "format                        15\n",
       "completed_at               98565\n",
       "transaction_amount          2391\n",
       "coupon_title                1884\n",
       "coupon_discount_amount      1502\n",
       "sale_price                   741\n",
       "tax_free_amount              741\n",
       "pg                             6\n",
       "method                         8\n",
       "subcategory_title             33\n",
       "marketing_start_at         16937\n",
       "dtype: int64"
      ]
     },
     "execution_count": 4,
     "metadata": {},
     "output_type": "execute_result"
    }
   ],
   "source": [
    "data.nunique()"
   ]
  },
  {
   "cell_type": "code",
   "execution_count": 5,
   "id": "6704dd74",
   "metadata": {},
   "outputs": [
    {
     "data": {
      "text/plain": [
       "array(['ORDER', 'PAYMENT', 'REFUND'], dtype=object)"
      ]
     },
     "execution_count": 5,
     "metadata": {},
     "output_type": "execute_result"
    }
   ],
   "source": [
    "data['type'].unique()"
   ]
  },
  {
   "cell_type": "code",
   "execution_count": 6,
   "id": "a7e0774b",
   "metadata": {},
   "outputs": [
    {
     "data": {
      "text/plain": [
       "array(['CANCELLED', 'COMPLETED', 'PENDING', 'DELETED', 'REQUESTED'],\n",
       "      dtype=object)"
      ]
     },
     "execution_count": 6,
     "metadata": {},
     "output_type": "execute_result"
    }
   ],
   "source": [
    "data['state'].unique()"
   ]
  },
  {
   "cell_type": "code",
   "execution_count": 7,
   "id": "03255f1e",
   "metadata": {},
   "outputs": [],
   "source": [
    "idx = data[data['type'] == \"ORDER\"].index     \n",
    "data.drop(idx , inplace=True) # 해당 인덱스를 제거함\n",
    "\n"
   ]
  },
  {
   "cell_type": "code",
   "execution_count": 8,
   "id": "e36d549b",
   "metadata": {},
   "outputs": [
    {
     "data": {
      "text/plain": [
       "id                        65243\n",
       "customer_id               43489\n",
       "course_id                  1336\n",
       "type                          2\n",
       "state                         5\n",
       "course_title               1609\n",
       "category_title               14\n",
       "format                       15\n",
       "completed_at              64299\n",
       "transaction_amount         2298\n",
       "coupon_title               1450\n",
       "coupon_discount_amount     1454\n",
       "sale_price                  733\n",
       "tax_free_amount             733\n",
       "pg                            6\n",
       "method                        8\n",
       "subcategory_title            33\n",
       "marketing_start_at        11372\n",
       "dtype: int64"
      ]
     },
     "execution_count": 8,
     "metadata": {},
     "output_type": "execute_result"
    }
   ],
   "source": [
    "data.nunique()"
   ]
  },
  {
   "cell_type": "code",
   "execution_count": 9,
   "id": "fb48052b",
   "metadata": {},
   "outputs": [],
   "source": [
    "idx = data[data['state'] == \"PENDING\"].index     \n",
    "data.drop(idx , inplace=True) # 해당 인덱스를 제거함"
   ]
  },
  {
   "cell_type": "code",
   "execution_count": 10,
   "id": "5eabebf3",
   "metadata": {},
   "outputs": [],
   "source": [
    "idx = data[data['state'] == \"CANCELLED\"].index     \n",
    "data.drop(idx , inplace=True) # 해당 인덱스를 제거함"
   ]
  },
  {
   "cell_type": "code",
   "execution_count": 11,
   "id": "af77ed94",
   "metadata": {},
   "outputs": [],
   "source": [
    "idx = data[data['state'] == \"HIDDEN\"].index     \n",
    "data.drop(idx , inplace=True) # 해당 인덱스를 제거함"
   ]
  },
  {
   "cell_type": "code",
   "execution_count": 15,
   "id": "16b0058e",
   "metadata": {},
   "outputs": [],
   "source": [
    "idx = data[data['state'] == \"DELETED\"].index     \n",
    "data.drop(idx , inplace=True) # 해당 인덱스를 제거함"
   ]
  },
  {
   "cell_type": "code",
   "execution_count": 16,
   "id": "b9435d4d",
   "metadata": {},
   "outputs": [
    {
     "data": {
      "text/plain": [
       "id                        56736\n",
       "customer_id               40569\n",
       "course_id                  1314\n",
       "type                          2\n",
       "state                         2\n",
       "course_title               1586\n",
       "category_title               14\n",
       "format                       14\n",
       "completed_at              55903\n",
       "transaction_amount         2266\n",
       "coupon_title               1444\n",
       "coupon_discount_amount     1443\n",
       "sale_price                  726\n",
       "tax_free_amount             726\n",
       "pg                            6\n",
       "method                        8\n",
       "subcategory_title            33\n",
       "marketing_start_at         9949\n",
       "dtype: int64"
      ]
     },
     "execution_count": 16,
     "metadata": {},
     "output_type": "execute_result"
    }
   ],
   "source": [
    "data.nunique()"
   ]
  },
  {
   "cell_type": "code",
   "execution_count": 17,
   "id": "b3bfdeb6",
   "metadata": {},
   "outputs": [
    {
     "data": {
      "text/plain": [
       "array(['COMPLETED', 'REQUESTED'], dtype=object)"
      ]
     },
     "execution_count": 17,
     "metadata": {},
     "output_type": "execute_result"
    }
   ],
   "source": [
    "data['state'].unique()"
   ]
  },
  {
   "cell_type": "code",
   "execution_count": 18,
   "id": "8508f1a5",
   "metadata": {},
   "outputs": [],
   "source": [
    "data1 = data.copy()"
   ]
  },
  {
   "cell_type": "code",
   "execution_count": 19,
   "id": "c10c44c1",
   "metadata": {},
   "outputs": [
    {
     "data": {
      "text/plain": [
       "id                        56736\n",
       "customer_id               40569\n",
       "course_id                  1314\n",
       "type                          2\n",
       "state                         2\n",
       "course_title               1586\n",
       "category_title               14\n",
       "format                       14\n",
       "completed_at              55903\n",
       "transaction_amount         2266\n",
       "coupon_title               1444\n",
       "coupon_discount_amount     1443\n",
       "sale_price                  726\n",
       "tax_free_amount             726\n",
       "pg                            6\n",
       "method                        8\n",
       "subcategory_title            33\n",
       "marketing_start_at         9949\n",
       "dtype: int64"
      ]
     },
     "execution_count": 19,
     "metadata": {},
     "output_type": "execute_result"
    }
   ],
   "source": [
    "data1.nunique()"
   ]
  },
  {
   "cell_type": "code",
   "execution_count": 20,
   "id": "5510ca61",
   "metadata": {},
   "outputs": [],
   "source": [
    "dataframe = pd.DataFrame(data1) ## 데이터프래임 생성\n",
    "dataframe.to_csv('./Download',index=False) ## 구분자를 탭으로 하여 저장. 인덱스칼럼은 저장 안함.\n"
   ]
  },
  {
   "cell_type": "code",
   "execution_count": 59,
   "id": "402c95d1",
   "metadata": {},
   "outputs": [
    {
     "data": {
      "text/html": [
       "<div>\n",
       "<style scoped>\n",
       "    .dataframe tbody tr th:only-of-type {\n",
       "        vertical-align: middle;\n",
       "    }\n",
       "\n",
       "    .dataframe tbody tr th {\n",
       "        vertical-align: top;\n",
       "    }\n",
       "\n",
       "    .dataframe thead th {\n",
       "        text-align: right;\n",
       "    }\n",
       "</style>\n",
       "<table border=\"1\" class=\"dataframe\">\n",
       "  <thead>\n",
       "    <tr style=\"text-align: right;\">\n",
       "      <th></th>\n",
       "      <th>id</th>\n",
       "      <th>customer_id</th>\n",
       "      <th>course_id</th>\n",
       "      <th>type</th>\n",
       "      <th>state</th>\n",
       "      <th>course_title</th>\n",
       "      <th>category_title</th>\n",
       "      <th>format</th>\n",
       "      <th>completed_at</th>\n",
       "      <th>transaction_amount</th>\n",
       "      <th>coupon_title</th>\n",
       "      <th>coupon_discount_amount</th>\n",
       "      <th>sale_price</th>\n",
       "      <th>tax_free_amount</th>\n",
       "      <th>pg</th>\n",
       "      <th>method</th>\n",
       "      <th>subcategory_title</th>\n",
       "      <th>marketing_start_at</th>\n",
       "    </tr>\n",
       "  </thead>\n",
       "  <tbody>\n",
       "    <tr>\n",
       "      <th>0</th>\n",
       "      <td>970657</td>\n",
       "      <td>72297.0</td>\n",
       "      <td>204246.0</td>\n",
       "      <td>PAYMENT</td>\n",
       "      <td>COMPLETED</td>\n",
       "      <td>시크릿코드 : 프론트엔드 실무 완성편</td>\n",
       "      <td>프로그래밍</td>\n",
       "      <td>스쿨 온라인</td>\n",
       "      <td>2021-03-28 15:21:43</td>\n",
       "      <td>171810</td>\n",
       "      <td>19090.0원 할인</td>\n",
       "      <td>19090.0</td>\n",
       "      <td>190900.0</td>\n",
       "      <td>190900.0</td>\n",
       "      <td>default</td>\n",
       "      <td>CARD</td>\n",
       "      <td>NaN</td>\n",
       "      <td>2021-03-04 0:00:00</td>\n",
       "    </tr>\n",
       "    <tr>\n",
       "      <th>1</th>\n",
       "      <td>970658</td>\n",
       "      <td>478028.0</td>\n",
       "      <td>201797.0</td>\n",
       "      <td>PAYMENT</td>\n",
       "      <td>COMPLETED</td>\n",
       "      <td>올인원 패키지 : 직장인 필수 스킬 3종 세트 MAX</td>\n",
       "      <td>업무 생산성</td>\n",
       "      <td>올인원</td>\n",
       "      <td>2021-03-28 15:21:54</td>\n",
       "      <td>97500</td>\n",
       "      <td>20000.0원 할인</td>\n",
       "      <td>20000.0</td>\n",
       "      <td>117500.0</td>\n",
       "      <td>117500.0</td>\n",
       "      <td>default</td>\n",
       "      <td>CARD</td>\n",
       "      <td>PPT/보고서</td>\n",
       "      <td>2019-11-14 0:00:00</td>\n",
       "    </tr>\n",
       "    <tr>\n",
       "      <th>2</th>\n",
       "      <td>970669</td>\n",
       "      <td>478033.0</td>\n",
       "      <td>203178.0</td>\n",
       "      <td>PAYMENT</td>\n",
       "      <td>COMPLETED</td>\n",
       "      <td>초격차 패키지 : 한번에 끝내는 영상 촬영과 편집</td>\n",
       "      <td>영상/3D</td>\n",
       "      <td>올인원</td>\n",
       "      <td>2021-03-28 15:26:47</td>\n",
       "      <td>96000</td>\n",
       "      <td>20000.0원 할인</td>\n",
       "      <td>20000.0</td>\n",
       "      <td>116000.0</td>\n",
       "      <td>116000.0</td>\n",
       "      <td>default</td>\n",
       "      <td>CARD</td>\n",
       "      <td>영상 편집</td>\n",
       "      <td>2020-12-02 0:00:00</td>\n",
       "    </tr>\n",
       "    <tr>\n",
       "      <th>3</th>\n",
       "      <td>970671</td>\n",
       "      <td>469860.0</td>\n",
       "      <td>203644.0</td>\n",
       "      <td>PAYMENT</td>\n",
       "      <td>COMPLETED</td>\n",
       "      <td>올인원 패키지 : 권오상의 금융 아카데미 - 권오상의 재무제표 분석 기초(평생소장)</td>\n",
       "      <td>부동산/금융</td>\n",
       "      <td>올인원</td>\n",
       "      <td>2021-03-28 15:27:17</td>\n",
       "      <td>263000</td>\n",
       "      <td>0.0원 할인</td>\n",
       "      <td>0.0</td>\n",
       "      <td>263000.0</td>\n",
       "      <td>263000.0</td>\n",
       "      <td>default</td>\n",
       "      <td>CARD</td>\n",
       "      <td>NaN</td>\n",
       "      <td>2020-11-27 0:00:00</td>\n",
       "    </tr>\n",
       "    <tr>\n",
       "      <th>4</th>\n",
       "      <td>970676</td>\n",
       "      <td>478035.0</td>\n",
       "      <td>203720.0</td>\n",
       "      <td>PAYMENT</td>\n",
       "      <td>COMPLETED</td>\n",
       "      <td>초격차 패키지 : 한 번에 끝내는 프론트엔드 개발</td>\n",
       "      <td>프로그래밍</td>\n",
       "      <td>올인원</td>\n",
       "      <td>2021-03-28 15:31:01</td>\n",
       "      <td>91000</td>\n",
       "      <td>20000.0원 할인</td>\n",
       "      <td>20000.0</td>\n",
       "      <td>111000.0</td>\n",
       "      <td>111000.0</td>\n",
       "      <td>default</td>\n",
       "      <td>CARD</td>\n",
       "      <td>프론트엔드 개발</td>\n",
       "      <td>2021-02-02 0:00:00</td>\n",
       "    </tr>\n",
       "    <tr>\n",
       "      <th>...</th>\n",
       "      <td>...</td>\n",
       "      <td>...</td>\n",
       "      <td>...</td>\n",
       "      <td>...</td>\n",
       "      <td>...</td>\n",
       "      <td>...</td>\n",
       "      <td>...</td>\n",
       "      <td>...</td>\n",
       "      <td>...</td>\n",
       "      <td>...</td>\n",
       "      <td>...</td>\n",
       "      <td>...</td>\n",
       "      <td>...</td>\n",
       "      <td>...</td>\n",
       "      <td>...</td>\n",
       "      <td>...</td>\n",
       "      <td>...</td>\n",
       "      <td>...</td>\n",
       "    </tr>\n",
       "    <tr>\n",
       "      <th>56731</th>\n",
       "      <td>1364969</td>\n",
       "      <td>669238.0</td>\n",
       "      <td>204286.0</td>\n",
       "      <td>PAYMENT</td>\n",
       "      <td>COMPLETED</td>\n",
       "      <td>초격차 패키지 : 한번에 끝내는 3D 디자인 툴</td>\n",
       "      <td>디자인</td>\n",
       "      <td>올인원</td>\n",
       "      <td>2021-09-25 13:39:26</td>\n",
       "      <td>212000</td>\n",
       "      <td>[미래투자금] 온라인 강의 2만원 할인쿠폰</td>\n",
       "      <td>20000.0</td>\n",
       "      <td>232000.0</td>\n",
       "      <td>232000.0</td>\n",
       "      <td>INICIS</td>\n",
       "      <td>CARD</td>\n",
       "      <td>디자인툴</td>\n",
       "      <td>2021-04-23 0:00:00</td>\n",
       "    </tr>\n",
       "    <tr>\n",
       "      <th>56732</th>\n",
       "      <td>1364976</td>\n",
       "      <td>384003.0</td>\n",
       "      <td>203178.0</td>\n",
       "      <td>PAYMENT</td>\n",
       "      <td>COMPLETED</td>\n",
       "      <td>초격차 패키지 : 한번에 끝내는 영상 촬영과 편집</td>\n",
       "      <td>영상/3D</td>\n",
       "      <td>올인원</td>\n",
       "      <td>2021-09-25 13:46:29</td>\n",
       "      <td>149000</td>\n",
       "      <td>0.0</td>\n",
       "      <td>0.0</td>\n",
       "      <td>149000.0</td>\n",
       "      <td>149000.0</td>\n",
       "      <td>KAKAO</td>\n",
       "      <td>CARD</td>\n",
       "      <td>영상 편집</td>\n",
       "      <td>2020-12-02 0:00:00</td>\n",
       "    </tr>\n",
       "    <tr>\n",
       "      <th>56733</th>\n",
       "      <td>1364991</td>\n",
       "      <td>670891.0</td>\n",
       "      <td>203935.0</td>\n",
       "      <td>PAYMENT</td>\n",
       "      <td>COMPLETED</td>\n",
       "      <td>초격차 패키지 : 한 번에 끝내는 파이썬 웹 개발</td>\n",
       "      <td>프로그래밍</td>\n",
       "      <td>올인원</td>\n",
       "      <td>2021-09-25 14:01:26</td>\n",
       "      <td>159000</td>\n",
       "      <td>[미래투자금] 온라인 강의 2만원 할인쿠폰</td>\n",
       "      <td>20000.0</td>\n",
       "      <td>179000.0</td>\n",
       "      <td>179000.0</td>\n",
       "      <td>INICIS</td>\n",
       "      <td>CARD</td>\n",
       "      <td>백엔드 개발</td>\n",
       "      <td>2021-05-31 0:00:00</td>\n",
       "    </tr>\n",
       "    <tr>\n",
       "      <th>56734</th>\n",
       "      <td>1364996</td>\n",
       "      <td>640697.0</td>\n",
       "      <td>205365.0</td>\n",
       "      <td>PAYMENT</td>\n",
       "      <td>COMPLETED</td>\n",
       "      <td>초격차 패키지 : 한 번에 끝내는 유튜브 크리에이터 되기</td>\n",
       "      <td>영상/3D</td>\n",
       "      <td>올인원</td>\n",
       "      <td>2021-09-25 14:17:41</td>\n",
       "      <td>96000</td>\n",
       "      <td>[WELCOME] 온라인 강의 2만원 할인쿠폰</td>\n",
       "      <td>20000.0</td>\n",
       "      <td>116000.0</td>\n",
       "      <td>116000.0</td>\n",
       "      <td>INICIS</td>\n",
       "      <td>VBANK</td>\n",
       "      <td>영상 편집</td>\n",
       "      <td>2021-06-15 0:00:00</td>\n",
       "    </tr>\n",
       "    <tr>\n",
       "      <th>56735</th>\n",
       "      <td>1365007</td>\n",
       "      <td>610626.0</td>\n",
       "      <td>206720.0</td>\n",
       "      <td>PAYMENT</td>\n",
       "      <td>COMPLETED</td>\n",
       "      <td>용호수의 돈 버는 실전 영상 제작</td>\n",
       "      <td>영상/3D</td>\n",
       "      <td>올인원</td>\n",
       "      <td>2021-09-25 14:25:47</td>\n",
       "      <td>139000</td>\n",
       "      <td>[WELCOME] 온라인 강의 3만원 할인쿠폰</td>\n",
       "      <td>30000.0</td>\n",
       "      <td>169000.0</td>\n",
       "      <td>169000.0</td>\n",
       "      <td>NAVER</td>\n",
       "      <td>POINT</td>\n",
       "      <td>영상 편집</td>\n",
       "      <td>2021-08-17 0:00:00</td>\n",
       "    </tr>\n",
       "  </tbody>\n",
       "</table>\n",
       "<p>56736 rows × 18 columns</p>\n",
       "</div>"
      ],
      "text/plain": [
       "            id  customer_id  course_id     type      state  \\\n",
       "0       970657      72297.0   204246.0  PAYMENT  COMPLETED   \n",
       "1       970658     478028.0   201797.0  PAYMENT  COMPLETED   \n",
       "2       970669     478033.0   203178.0  PAYMENT  COMPLETED   \n",
       "3       970671     469860.0   203644.0  PAYMENT  COMPLETED   \n",
       "4       970676     478035.0   203720.0  PAYMENT  COMPLETED   \n",
       "...        ...          ...        ...      ...        ...   \n",
       "56731  1364969     669238.0   204286.0  PAYMENT  COMPLETED   \n",
       "56732  1364976     384003.0   203178.0  PAYMENT  COMPLETED   \n",
       "56733  1364991     670891.0   203935.0  PAYMENT  COMPLETED   \n",
       "56734  1364996     640697.0   205365.0  PAYMENT  COMPLETED   \n",
       "56735  1365007     610626.0   206720.0  PAYMENT  COMPLETED   \n",
       "\n",
       "                                         course_title category_title  format  \\\n",
       "0                                시크릿코드 : 프론트엔드 실무 완성편          프로그래밍  스쿨 온라인   \n",
       "1                       올인원 패키지 : 직장인 필수 스킬 3종 세트 MAX         업무 생산성     올인원   \n",
       "2                         초격차 패키지 : 한번에 끝내는 영상 촬영과 편집          영상/3D     올인원   \n",
       "3      올인원 패키지 : 권오상의 금융 아카데미 - 권오상의 재무제표 분석 기초(평생소장)         부동산/금융     올인원   \n",
       "4                         초격차 패키지 : 한 번에 끝내는 프론트엔드 개발          프로그래밍     올인원   \n",
       "...                                               ...            ...     ...   \n",
       "56731                      초격차 패키지 : 한번에 끝내는 3D 디자인 툴            디자인     올인원   \n",
       "56732                     초격차 패키지 : 한번에 끝내는 영상 촬영과 편집          영상/3D     올인원   \n",
       "56733                     초격차 패키지 : 한 번에 끝내는 파이썬 웹 개발          프로그래밍     올인원   \n",
       "56734                 초격차 패키지 : 한 번에 끝내는 유튜브 크리에이터 되기          영상/3D     올인원   \n",
       "56735                              용호수의 돈 버는 실전 영상 제작          영상/3D     올인원   \n",
       "\n",
       "              completed_at  transaction_amount               coupon_title  \\\n",
       "0      2021-03-28 15:21:43              171810                19090.0원 할인   \n",
       "1      2021-03-28 15:21:54               97500                20000.0원 할인   \n",
       "2      2021-03-28 15:26:47               96000                20000.0원 할인   \n",
       "3      2021-03-28 15:27:17              263000                    0.0원 할인   \n",
       "4      2021-03-28 15:31:01               91000                20000.0원 할인   \n",
       "...                    ...                 ...                        ...   \n",
       "56731  2021-09-25 13:39:26              212000    [미래투자금] 온라인 강의 2만원 할인쿠폰   \n",
       "56732  2021-09-25 13:46:29              149000                        0.0   \n",
       "56733  2021-09-25 14:01:26              159000    [미래투자금] 온라인 강의 2만원 할인쿠폰   \n",
       "56734  2021-09-25 14:17:41               96000  [WELCOME] 온라인 강의 2만원 할인쿠폰   \n",
       "56735  2021-09-25 14:25:47              139000  [WELCOME] 온라인 강의 3만원 할인쿠폰   \n",
       "\n",
       "       coupon_discount_amount  sale_price  tax_free_amount       pg method  \\\n",
       "0                     19090.0    190900.0         190900.0  default   CARD   \n",
       "1                     20000.0    117500.0         117500.0  default   CARD   \n",
       "2                     20000.0    116000.0         116000.0  default   CARD   \n",
       "3                         0.0    263000.0         263000.0  default   CARD   \n",
       "4                     20000.0    111000.0         111000.0  default   CARD   \n",
       "...                       ...         ...              ...      ...    ...   \n",
       "56731                 20000.0    232000.0         232000.0   INICIS   CARD   \n",
       "56732                     0.0    149000.0         149000.0    KAKAO   CARD   \n",
       "56733                 20000.0    179000.0         179000.0   INICIS   CARD   \n",
       "56734                 20000.0    116000.0         116000.0   INICIS  VBANK   \n",
       "56735                 30000.0    169000.0         169000.0    NAVER  POINT   \n",
       "\n",
       "      subcategory_title  marketing_start_at  \n",
       "0                   NaN  2021-03-04 0:00:00  \n",
       "1               PPT/보고서  2019-11-14 0:00:00  \n",
       "2                 영상 편집  2020-12-02 0:00:00  \n",
       "3                   NaN  2020-11-27 0:00:00  \n",
       "4              프론트엔드 개발  2021-02-02 0:00:00  \n",
       "...                 ...                 ...  \n",
       "56731              디자인툴  2021-04-23 0:00:00  \n",
       "56732             영상 편집  2020-12-02 0:00:00  \n",
       "56733            백엔드 개발  2021-05-31 0:00:00  \n",
       "56734             영상 편집  2021-06-15 0:00:00  \n",
       "56735             영상 편집  2021-08-17 0:00:00  \n",
       "\n",
       "[56736 rows x 18 columns]"
      ]
     },
     "execution_count": 59,
     "metadata": {},
     "output_type": "execute_result"
    }
   ],
   "source": [
    "df = pd.read_csv('../Project/final1.csv')\n",
    "df"
   ]
  },
  {
   "cell_type": "code",
   "execution_count": 60,
   "id": "4d183884",
   "metadata": {},
   "outputs": [
    {
     "data": {
      "text/plain": [
       "id                        56736\n",
       "customer_id               40569\n",
       "course_id                  1314\n",
       "type                          2\n",
       "state                         2\n",
       "course_title               1586\n",
       "category_title               14\n",
       "format                       14\n",
       "completed_at              55903\n",
       "transaction_amount         2266\n",
       "coupon_title               1444\n",
       "coupon_discount_amount     1443\n",
       "sale_price                  726\n",
       "tax_free_amount             726\n",
       "pg                            6\n",
       "method                        8\n",
       "subcategory_title            33\n",
       "marketing_start_at         9949\n",
       "dtype: int64"
      ]
     },
     "execution_count": 60,
     "metadata": {},
     "output_type": "execute_result"
    }
   ],
   "source": [
    "df.nunique()"
   ]
  },
  {
   "cell_type": "code",
   "execution_count": 61,
   "id": "ab3c7515",
   "metadata": {},
   "outputs": [
    {
     "data": {
      "text/plain": [
       "id                            0\n",
       "customer_id                   0\n",
       "course_id                     0\n",
       "type                          0\n",
       "state                         0\n",
       "course_title                  0\n",
       "category_title                0\n",
       "format                        0\n",
       "completed_at                  0\n",
       "transaction_amount            0\n",
       "coupon_title                  0\n",
       "coupon_discount_amount        0\n",
       "sale_price                    0\n",
       "tax_free_amount               0\n",
       "pg                            0\n",
       "method                        0\n",
       "subcategory_title         10305\n",
       "marketing_start_at            0\n",
       "dtype: int64"
      ]
     },
     "execution_count": 61,
     "metadata": {},
     "output_type": "execute_result"
    }
   ],
   "source": [
    "df.isnull().sum()"
   ]
  },
  {
   "cell_type": "code",
   "execution_count": 35,
   "id": "f3bae770",
   "metadata": {},
   "outputs": [
    {
     "data": {
      "text/plain": [
       "array(['프로그래밍', '업무 생산성', '영상/3D', '부동산/금융', '데이터사이언스', '디자인', '마케팅',\n",
       "       '크리에이티브', '투자/재테크', '교육', '관리', '비즈니스', '지식콘텐츠', '파이낸스'],\n",
       "      dtype=object)"
      ]
     },
     "execution_count": 35,
     "metadata": {},
     "output_type": "execute_result"
    }
   ],
   "source": [
    "df['category_title'].unique()"
   ]
  },
  {
   "cell_type": "code",
   "execution_count": 29,
   "id": "38b435ab",
   "metadata": {},
   "outputs": [
    {
     "data": {
      "text/plain": [
       "array([nan, 'PPT/보고서', '영상 편집', '프론트엔드 개발', 'DevOps', 'UX/UI', '머신러닝',\n",
       "       '모션그래픽', '딥러닝/인공지능', '글쓰기/카피라이팅', '디지털마케팅', '엑셀/VBA', '모바일앱',\n",
       "       '업무자동화', 'SNS마케팅', '게임', '부동산 개발', '데이터분석', '시각디자인', '개발자 커리어',\n",
       "       '백엔드 개발', '데이터마케팅', '디자인툴', '금융/투자 실무', '회계/재무/세무', '코딩 입문',\n",
       "       '커뮤니케이션', '부동산 투자', '리더십', '일러스트', '주식 투자', '게임 그래픽', '데이터엔지니어링',\n",
       "       'VFX'], dtype=object)"
      ]
     },
     "execution_count": 29,
     "metadata": {},
     "output_type": "execute_result"
    }
   ],
   "source": [
    "df['subcategory_title'].unique()"
   ]
  }
 ],
 "metadata": {
  "kernelspec": {
   "display_name": "Python 3 (ipykernel)",
   "language": "python",
   "name": "python3"
  },
  "language_info": {
   "codemirror_mode": {
    "name": "ipython",
    "version": 3
   },
   "file_extension": ".py",
   "mimetype": "text/x-python",
   "name": "python",
   "nbconvert_exporter": "python",
   "pygments_lexer": "ipython3",
   "version": "3.8.13"
  }
 },
 "nbformat": 4,
 "nbformat_minor": 5
}
