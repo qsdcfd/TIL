{
 "cells": [
  {
   "cell_type": "markdown",
   "id": "prepared-moses",
   "metadata": {},
   "source": [
    "### 주제: 프로그래밍을 하는 이유\n",
    "\n",
    "### 핵심 키워드\n",
    "\n",
    "- 프로그래머\n",
    "\n",
    "- 파이썬\n",
    "\n",
    "- 컴퓨터 언어"
   ]
  },
  {
   "cell_type": "markdown",
   "id": "prospective-adams",
   "metadata": {},
   "source": [
    "#### 컴퓨터\n",
    "\n",
    "- 목적: 사람을 위해 만들어짐\n",
    "\n",
    "- 언어 공부: 컴퓨터에게 원하는 일 시키기\n",
    "\n",
    "- 실행: 명령어를 이용(다음에 할 거 알려주기)\n",
    "\n",
    "<br>\n",
    "\n",
    "#### 프로그래머\n",
    "\n",
    "- 프로그램을 어떻게 하는지 안다.\n",
    "\n",
    "   - 컴퓨터의 작동 방식과 언어 학습\n",
    "   \n",
    "   - 도구를 사용해서 새로운 도구를 만듦\n",
    "   \n",
    "   - 사용자를 위해 도구나 특정 일을 자동화하여 도우미 개발\n",
    "   \n",
    "   \n",
    "- 사용자의 요구 충족시키는 소프트웨어 개발\n",
    "\n",
    "- HW/SW, 데이터, 정보, 네트워크 문제 해결\n",
    "\n",
    "<br>\n",
    "\n",
    "#### 사용자 \n",
    "\n",
    "- 사용자: 컴퓨터를 도구로 사용\n",
    "\n",
    "<br>\n",
    "\n",
    "#### 코드, 소프트웨어, 프로그램\n",
    "\n",
    "- 명령문\n",
    "\n",
    "   - 컴퓨터의 작은 지능\n",
    "   \n",
    "   - 시간과 에너지를 아끼기 위해서, 생각과 계산이 필요한 일들을 파이썬 코드화 및 실행\n",
    "   \n",
    "\n",
    "\n",
    "\n"
   ]
  }
 ],
 "metadata": {
  "kernelspec": {
   "display_name": "Python 3",
   "language": "python",
   "name": "python3"
  },
  "language_info": {
   "codemirror_mode": {
    "name": "ipython",
    "version": 3
   },
   "file_extension": ".py",
   "mimetype": "text/x-python",
   "name": "python",
   "nbconvert_exporter": "python",
   "pygments_lexer": "ipython3",
   "version": "3.7.9"
  }
 },
 "nbformat": 4,
 "nbformat_minor": 5
}
