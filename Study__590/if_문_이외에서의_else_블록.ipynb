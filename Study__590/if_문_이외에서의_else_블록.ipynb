{
  "nbformat": 4,
  "nbformat_minor": 0,
  "metadata": {
    "colab": {
      "provenance": [],
      "authorship_tag": "ABX9TyPWLRnK/ergdNQIm0mLWXTv"
    },
    "kernelspec": {
      "name": "python3",
      "display_name": "Python 3"
    },
    "language_info": {
      "name": "python"
    }
  },
  "cells": [
    {
      "cell_type": "markdown",
      "source": [
        "# 제어 흐름\n",
        "## 콘텍스트 관리자와 else 블록\n",
        "\n",
        "with문은 콘텍스트 관리자 객체의 제어를 받아서 임시로 콘텍스트를 생성하고 신뢰성 있게 해제한다.\n",
        "\n",
        "with문은 에러를 예방하고 반복되는 코드를 줄여주며, API를 안전하고 편리하게 사용할 수 있게 만들고, 파일을 자동으로 닫아주는 기능 이상을 with 블록이 제공하고 있다.\n",
        "\n",
        "### if 문 이외에서의 else 블록\n",
        "\n",
        "*else절은 if문뿐만 아니라 for,while,try문에서도 사용할 수 있다.*\n",
        "\n",
        "<br>\n",
        "\n",
        "**for**\n",
        "\n",
        "for루프가 완전히 실행된 후에 break 문으로 중간에 멈추지 않고 else 블록이 실행된다.\n",
        "\n",
        "**while**\n",
        "\n",
        "조건식이 거짓이 되어 while 루프를 빠져나온 후에 break 문으로 중간에 멈추지 않고 else 블록이 실행된다.\n",
        "\n",
        "**try**\n",
        "\n",
        "try블록에서 예외가 발생하지 않을 때만 else블록이 실행되고, else 블록에서 발생한 예외는 else블록 앞에 나오는 except 블록에서 처리되지 않는다.\n",
        "\n",
        "<br>\n",
        "\n",
        "\n",
        ">예외, return, break, continue문이 복합문의 주요 블록을 빠져나오게 만들면 else블록이 실행되지 않는다.\n",
        "\n",
        "\n",
        "**일반적**\n",
        "\n",
        "```\n",
        "for item in my_list:\n",
        "\tif item.flavor == 'banana':\n",
        "    \tbreak\n",
        "else:\n",
        "\traise ValueError('No banana floavor found!')\n",
        "\n",
        "```\n",
        "\n",
        "**try/except블록**\n",
        "\n",
        "```\n",
        "try:\n",
        "\tdangerous_call()\n",
        "except OSError:\n",
        "\tlog('OSError...')\n",
        "else:\n",
        "\tafter_call()\n",
        "```\n",
        "\n",
        "<br>\n",
        "\n",
        "![](https://velog.velcdn.com/images/qsdcfd/post/44353efd-24a1-4a03-9156-bf1e06147337/image.png)"
      ],
      "metadata": {
        "id": "ZD3kMWR5gHnA"
      }
    },
    {
      "cell_type": "code",
      "source": [],
      "metadata": {
        "id": "oh84f1ArgHyB"
      },
      "execution_count": null,
      "outputs": []
    }
  ]
}