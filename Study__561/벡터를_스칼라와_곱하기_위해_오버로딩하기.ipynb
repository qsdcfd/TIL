{
  "nbformat": 4,
  "nbformat_minor": 0,
  "metadata": {
    "colab": {
      "provenance": [],
      "authorship_tag": "ABX9TyMRq3HCTm7u0HAVct/qWd18"
    },
    "kernelspec": {
      "name": "python3",
      "display_name": "Python 3"
    },
    "language_info": {
      "name": "python"
    }
  },
  "cells": [
    {
      "cell_type": "markdown",
      "source": [
        "# 연산자 오버로딩: 제대로 하기\n",
        "## 객체지향 상용구\n",
        "### 벡터를 스칼라와 곱하기 위해 * 오버로딩하기\n",
        "\n",
        ">Vector 피연산자를 이용해서 곱하는 또 다른 방법은 두 벡터의 내적을 구하는 스칼라곱으로 현재 Numpy 및 이와 유사한 라이브러리에선 *연산자를 사용하는 경우, 벡터의 각 항목에 값을 곱하며, 벡터의 스칼라곱을 구하기 위해서 numpy.dot()함수 사용\n",
        "\n",
        "```\n",
        "#Vector 클래스 내부\n",
        "\n",
        "def __mul__(self, scalar):\n",
        "\treturn Vector(n * scalar for n in self)\n",
        "\n",
        "def __rmul__(self, scalar):\n",
        "\treturn self * scalar\n",
        "```\n",
        "\n"
      ],
      "metadata": {
        "id": "ufprxvK7_oHg"
      }
    },
    {
      "cell_type": "code",
      "source": [],
      "metadata": {
        "id": "IHD1MlQc_oZ4"
      },
      "execution_count": null,
      "outputs": []
    }
  ]
}