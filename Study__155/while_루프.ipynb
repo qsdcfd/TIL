{
  "nbformat": 4,
  "nbformat_minor": 0,
  "metadata": {
    "colab": {
      "name": "while 루프",
      "provenance": [],
      "authorship_tag": "ABX9TyOsvmGW4/d6gXx5PGedg7I7"
    },
    "kernelspec": {
      "name": "python3",
      "display_name": "Python 3"
    },
    "language_info": {
      "name": "python"
    }
  },
  "cells": [
    {
      "cell_type": "markdown",
      "source": [
        "#### 학습목표\n",
        "\n",
        "파이썬에서의 반복작업은 어떤식으로 수행되는지 이해하고 활용할 수 있다.\n",
        "\n",
        "<br>\n",
        "\n",
        "#### 핵심 키워드\n",
        "\n",
        "while 루프\n",
        "\n",
        "---\n",
        "\n",
        "### While\n",
        "\n",
        "*전문\n",
        "\n",
        "![](https://images.velog.io/images/qsdcfd/post/150cdd4a-44a1-400d-971f-e0631a7921ba/image.png)\n",
        "\n",
        "while와 :(콜론) 사이에 오는 조건문이 참의 값을 가지는 경우에는 콜론 이하의 코드를 반복해서 작동을 합니다. 그러나 무한 루프에 빠질 수도 있는 단점도 있습니다.\n",
        "\n",
        "```\n",
        "n = 5\n",
        "\n",
        "while n > 0:\n",
        "    print(n)\n",
        "    n = n - 1\n",
        "\n",
        "print('Blastoff!')\n",
        "print(n)\n",
        "\n",
        "```\n",
        "\n",
        "<br>\n",
        "\n",
        "*break\n",
        "\n",
        "![](https://images.velog.io/images/qsdcfd/post/b4bdca69-5c28-48f0-8b36-7c610a5bdb5f/image.png)\n",
        "\n",
        "루프가 break를 만나면 해당 루프의 실행이 종료 되어 while문 바로 뒤의 코드로 실행합니다.\n",
        "\n",
        "```\n",
        "while True:\n",
        "    line = input('> ') \n",
        "    if line == 'done':\n",
        "        break\n",
        "    print(line)\n",
        "print('Done!')\n",
        "\n",
        "# > hello there로 입력\n",
        "# hello there로 출력됨\n",
        "# > finished로 입력\n",
        "# finished로 출력됨\n",
        "# > done로 입력\n",
        "# Done!으로 출력됨\n",
        "```\n",
        "\n",
        "<br>\n",
        "\n",
        "*continue\n",
        "\n",
        "![](https://images.velog.io/images/qsdcfd/post/db578201-6286-4e32-b871-3c5069b4ecc6/image.png)\n",
        "\n",
        "루프가 continue를 만나서 해당 루프는 실행이 종료되고 시작된 지점부터 다시 실행\n",
        "\n",
        "```\n",
        "while True:\n",
        "    line = input('> ')\n",
        "    if line[0] == '#' :\n",
        "        continue\n",
        "    if line == 'done' :\n",
        "        break\n",
        "    print(line)\n",
        "print('Done!')\n",
        "\n",
        "# > hello there 입력\n",
        "# hello there로 출력\n",
        "# # don't print this '#'을 입력하게 되면 continue를 만나게 되고 continue는 loop의 시작점으로 다시 돌아가서 loop를 실행하게 됩니다.\n",
        "# > print this! 입력\n",
        "# print this!로 출력\n",
        "# > done 입력\n",
        "# Done!으로 출력 done을 입력하게 되면 break를 만나게 되고 break는 loop끝나는 점 바로 다음에 오는 코드를 실행하게 됩니다.\n",
        "```\n"
      ],
      "metadata": {
        "id": "5qKKcaO8gYmu"
      }
    },
    {
      "cell_type": "code",
      "source": [
        ""
      ],
      "metadata": {
        "id": "b1JiRnnwgaRR"
      },
      "execution_count": null,
      "outputs": []
    }
  ]
}