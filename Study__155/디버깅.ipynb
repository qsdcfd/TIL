{
  "nbformat": 4,
  "nbformat_minor": 0,
  "metadata": {
    "colab": {
      "name": "디버깅",
      "provenance": [],
      "authorship_tag": "ABX9TyNCDDyYQgLKtmNYfRvkfQ48"
    },
    "kernelspec": {
      "name": "python3",
      "display_name": "Python 3"
    },
    "language_info": {
      "name": "python"
    }
  },
  "cells": [
    {
      "cell_type": "markdown",
      "source": [
        "#### 학습 목표\n",
        "\n",
        "디버깅 하는 여러 방법을 설명할 수 있습니다.\n",
        "\n",
        "<br>\n",
        "\n",
        "#### 핵심 단어\n",
        "\n",
        "디버깅\n",
        "\n",
        "help50\n",
        "\n",
        "debug50\n",
        "\n",
        "---\n",
        "\n",
        "### 버그와 디버깅\n",
        "\n",
        "*버그\n",
        "\n",
        "코드에 들어있는 오류로 프로그램의 실행 실패 혹은 원하는대로 동작 방해을 일으킵니다.\n",
        "\n",
        "*디버깅\n",
        "\n",
        "코드에 있는 버그를 식별하여 고치는 과정으로 디버거라는 프로그램을 사용하여 디버깅합니다.\n",
        "\n",
        "<br>\n",
        "\n",
        "### 디버깅의 기본\n",
        "\n",
        "디버거는 프로그램을 특정 행에서 멈출 수 있게 해쥐 때문에 도움이 되고, 멈추는 특정 지점을 중지점이라고 합니다. 이를 통해 한 행씩 실행시키게 도와주기에 모든 결정을 단계별로 따르기 가능합니다.\n",
        "\n",
        "<br>\n",
        "\n",
        "### 예시\n",
        "\n",
        "*help50\n",
        "\n",
        "```\n",
        "<stdio.h>\n",
        "int main(void)\n",
        "{\n",
        "    printf(\"hello,world\\n\");\n",
        "}\n",
        "```\n",
        "\n",
        "*printf\n",
        "\n",
        "```\n",
        "# \"#\"을 10개 출력하기 위해 작성\n",
        "\n",
        "#include<stdio.h>\n",
        "\n",
        "int main(void)\n",
        "\n",
        "{\n",
        "    for(int( i = 0;i<=10;i++)\n",
        "    {\n",
        "        printf(\"#\\n\"); # #를 11개 출력\n",
        "    }\n",
        "}\n",
        "```\n",
        "\n",
        "```\n",
        "# 왜 11개가 출력되는지 변수 i 출력\n",
        "\n",
        "#include<stdio.h>\n",
        "\n",
        "int main(void)\n",
        "{\n",
        "    for(int i = 0;i<=10;i++)\n",
        "    {\n",
        "        printf(\"i is now %i\",i);\n",
        "        printf(\"#\\n\");\n",
        "    }\n",
        "}\n",
        "\n",
        "# i는 11번 나오므로 i <=10 -> i<10 수정하면 됩니다.\n",
        "```\n",
        "\n",
        "<br>\n",
        "\n",
        "*debug50\n",
        "\n",
        "소스 코드에 직접 브레이크 포인트를 지정하고 소스파일을 컴파일한 후에 \"debug50 파일명\"으로 실행하면, 변수의 값을 확인하거나 브레이크 포인트부터 한 줄씩 코드 실행\n",
        "\n",
        "Crtl + c를 누르면 디버깅 종료\n",
        "\n",
        "\n",
        "![](https://images.velog.io/images/qsdcfd/post/5a500815-3dd7-492a-9488-5526bef8cce1/image.png)"
      ],
      "metadata": {
        "id": "_4WDflR5WkAx"
      }
    },
    {
      "cell_type": "code",
      "source": [
        ""
      ],
      "metadata": {
        "id": "1_AmZ9XKWkS2"
      },
      "execution_count": null,
      "outputs": []
    }
  ]
}