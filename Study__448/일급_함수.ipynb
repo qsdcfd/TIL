{
  "nbformat": 4,
  "nbformat_minor": 0,
  "metadata": {
    "colab": {
      "provenance": [],
      "authorship_tag": "ABX9TyPOXRofrp5z3j0feBHXFbRb"
    },
    "kernelspec": {
      "name": "python3",
      "display_name": "Python 3"
    },
    "language_info": {
      "name": "python"
    }
  },
  "cells": [
    {
      "cell_type": "markdown",
      "source": [
        "# 객체로서의 함수\n",
        "## 일급 함수\n",
        "\n",
        "파이썬의 함수는 일급 객체로 다양한 기능이 구현됩니다.\n",
        "\n",
        "- 런타임에 생성할 수 있다.\n",
        "- 데이터 구조체의 변수나 요소에 할당할 수 있다.\n",
        "- 함수 인수로 전달할 수 있다.\n",
        "- 함수 결과로 반환할 수 있다.\n",
        "\n",
        "<br>\n",
        "\n",
        "### 함수를 객체처럼 다루기\n",
        "\n",
        "```\n",
        "\"\"\"\n",
        "함수를 생성하고, 호출\n",
        "__doc__속성을 읽고 함수 객체 자체가 function 클래스의 객체\n",
        "\"\"\"\n",
        "#함수를 생성해서 테스트하고, 함수 __doc__을 읽어서 자료형 확인\n",
        "\n",
        "def factorial(n):\n",
        "\t\"\"\"returns n!\"\"\"\n",
        "    return 1 if n < 2 else n * factorial(n-1)\n",
        "    \n",
        "factorial(42)\n",
        "factorial.__doc__\n",
        "type(factorial)\n",
        "\"\"\"\n",
        "__doc__ 속성은 객체의 도움말 텍스트를 생성하기 위해서 사용된다.\n",
        "\n",
        "파이썬 대화형 콘솔에서 help(factorial) 명령과 같은 화면 출력하고, 설명문은 함수 객체의 __doc__ 속성에서 가져온다\n",
        "\"\"\"\n",
        "```\n",
        "\n",
        "![](https://velog.velcdn.com/images/qsdcfd/post/44a67218-abc3-4619-bf7e-e5740df82a31/image.png)\n",
        "\n",
        "<br>\n",
        "\n",
        "```\n",
        "#함수를 다른 이름으로 사용하고 함수의 인수로 전달하기\n",
        "\n",
        "fact = factorial\n",
        "fact\n",
        "fact(5)\n",
        "map(factorial, range(11))\n",
        "list(map(fact, range(11)))\n",
        "```"
      ],
      "metadata": {
        "id": "eGmJsPSTgmEx"
      }
    },
    {
      "cell_type": "code",
      "source": [],
      "metadata": {
        "id": "XmDS-q3GgmcN"
      },
      "execution_count": null,
      "outputs": []
    }
  ]
}