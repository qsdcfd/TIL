{
  "cells": [
    {
      "cell_type": "markdown",
      "metadata": {
        "id": "view-in-github",
        "colab_type": "text"
      },
      "source": [
        "<a href=\"https://colab.research.google.com/github/qsdcfd/TIL/blob/TIL/Study__218/%E1%84%85%E1%85%B5%E1%84%89%E1%85%B3%E1%84%90%E1%85%B3.ipynb\" target=\"_parent\"><img src=\"https://colab.research.google.com/assets/colab-badge.svg\" alt=\"Open In Colab\"/></a>"
      ]
    },
    {
      "cell_type": "markdown",
      "metadata": {
        "id": "yV2Xz0xSolQk"
      },
      "source": [
        "# 파이썬 자료구조\n",
        "자료구조는 데이터를 넣을 수 있는 바구니와 같습니다.  \n",
        "파이썬에는 리스트/튜플/딕셔너리의 자료구조가 있는데 하나씩 살펴봅시다."
      ]
    },
    {
      "cell_type": "markdown",
      "metadata": {
        "id": "aePOalwbolQn"
      },
      "source": [
        "## 리스트 (list)\n",
        "리스트는 순서가 있는 자료구조로 대괄호 기호 `[ ]`로 정의합니다.  "
      ]
    },
    {
      "cell_type": "markdown",
      "metadata": {
        "id": "MeFxTTJvolQo"
      },
      "source": [
        "<img src=\"https://i.ibb.co/wwnt9bY/2-0.png\" style=\"float:left\" />"
      ]
    },
    {
      "cell_type": "markdown",
      "metadata": {
        "id": "HJiV1jkdolQo"
      },
      "source": [
        "파이썬의 리스트를 사용하면 데이터 타입과 상관없이 값을 마음대로 넣을 수 있습니다."
      ]
    },
    {
      "cell_type": "markdown",
      "metadata": {
        "id": "stfNFuRoolQp"
      },
      "source": [
        "### 리스트에 값 추가하기"
      ]
    },
    {
      "cell_type": "markdown",
      "metadata": {
        "id": "w4l8o_OJolQp"
      },
      "source": [
        "`append` 메서드 사용하면 리스트를 생성한 후에 값을 추가할 수 있습니다.  \n",
        "리스트의 <span style=\"color:red\"><b>끝에 값이 추가</b></span> 됩니다. "
      ]
    },
    {
      "cell_type": "code",
      "execution_count": 1,
      "metadata": {
        "scrolled": true,
        "id": "-WNR1CckolQq",
        "colab": {
          "base_uri": "https://localhost:8080/"
        },
        "outputId": "af38a982-7380-47c1-dc23-d2e6f8a6ef28"
      },
      "outputs": [
        {
          "output_type": "execute_result",
          "data": {
            "text/plain": [
              "[10, 20, 30]"
            ]
          },
          "metadata": {},
          "execution_count": 1
        }
      ],
      "source": [
        "리스트 = [10,20]\n",
        "리스트.append(30)\n",
        "리스트"
      ]
    },
    {
      "cell_type": "markdown",
      "metadata": {
        "id": "jl5N7vjSolQq"
      },
      "source": [
        "`insert` 메서드로 특정 위치에 값을 추가할 수 있습니다. "
      ]
    },
    {
      "cell_type": "code",
      "execution_count": 2,
      "metadata": {
        "id": "Bvgcqo0OolQq",
        "colab": {
          "base_uri": "https://localhost:8080/"
        },
        "outputId": "e2663ac8-7dd8-4d24-89a4-f2b8422a3d38"
      },
      "outputs": [
        {
          "output_type": "execute_result",
          "data": {
            "text/plain": [
              "[40, 10, 20, 30]"
            ]
          },
          "metadata": {},
          "execution_count": 2
        }
      ],
      "source": [
        "리스트.insert(0,40)\n",
        "리스트"
      ]
    },
    {
      "cell_type": "markdown",
      "metadata": {
        "id": "mkEWPOkwolQr"
      },
      "source": [
        "`extend` 메서드로 다차원 리스트를 추가할 수 있습니다. "
      ]
    },
    {
      "cell_type": "code",
      "execution_count": null,
      "metadata": {
        "id": "eT-5SIoqolQr"
      },
      "outputs": [],
      "source": [
        "# 추후 설명"
      ]
    },
    {
      "cell_type": "markdown",
      "metadata": {
        "id": "bOzT0TAWolQr"
      },
      "source": [
        "리스트의 덧셈은 두 개의 리스트를 하나로 합칩니다. "
      ]
    },
    {
      "cell_type": "code",
      "execution_count": 3,
      "metadata": {
        "id": "eVpsDIziolQs",
        "colab": {
          "base_uri": "https://localhost:8080/"
        },
        "outputId": "fe71aa83-7dc7-4a27-df55-af17a11fde87"
      },
      "outputs": [
        {
          "output_type": "execute_result",
          "data": {
            "text/plain": [
              "[10, 20, 30, 40]"
            ]
          },
          "metadata": {},
          "execution_count": 3
        }
      ],
      "source": [
        "[10,20] + [30,40]"
      ]
    },
    {
      "cell_type": "markdown",
      "metadata": {
        "id": "o6eYcjPbolQs"
      },
      "source": [
        "### 리스트 인덱싱과 슬라이싱"
      ]
    },
    {
      "cell_type": "markdown",
      "metadata": {
        "id": "5aSQ6wDOolQs"
      },
      "source": [
        "데이터는 저장된 순서대로 0부터 시작하는 인덱스가 차례로 부여됩니다.  \n",
        "슬라이싱에 사용되는 인덱스는 데이터와 데이터 사이에 위치합니다.  \n",
        "문자열 인덱싱/슬라이싱과 원리가 같습니다.  "
      ]
    },
    {
      "cell_type": "markdown",
      "metadata": {
        "id": "PS2s5PgQolQs"
      },
      "source": [
        "<img src=\"https://i.ibb.co/tHTjCzM/2-1.png\" style=\"float:left\" />"
      ]
    },
    {
      "cell_type": "code",
      "execution_count": 5,
      "metadata": {
        "id": "yU3CZSByolQt",
        "colab": {
          "base_uri": "https://localhost:8080/",
          "height": 36
        },
        "outputId": "069ef2eb-fad6-4d4f-93b7-61335b4ba2d7"
      },
      "outputs": [
        {
          "output_type": "execute_result",
          "data": {
            "text/plain": [
              "'삼성'"
            ],
            "application/vnd.google.colaboratory.intrinsic+json": {
              "type": "string"
            }
          },
          "metadata": {},
          "execution_count": 5
        }
      ],
      "source": [
        "interest = [\"삼성전자\", \"LG전자\", \"카카오\"]\n",
        "interest[0][:2]"
      ]
    },
    {
      "cell_type": "markdown",
      "metadata": {
        "id": "YJl6Iiy9olQt"
      },
      "source": [
        "인덱스가 있으니 인덱싱과 슬라이싱을 할 수 있겠죠?  \n",
        "문자열을 슬라이싱하면 문자열! 리스트를 슬라이싱하면 리스트!"
      ]
    },
    {
      "cell_type": "code",
      "execution_count": 6,
      "metadata": {
        "id": "Ytk8xkqSolQt",
        "colab": {
          "base_uri": "https://localhost:8080/"
        },
        "outputId": "7df50e3d-e873-4ce5-8b77-66b3ff5b36e8"
      },
      "outputs": [
        {
          "output_type": "execute_result",
          "data": {
            "text/plain": [
              "['삼성전자', 'LG전자']"
            ]
          },
          "metadata": {},
          "execution_count": 6
        }
      ],
      "source": [
        "interest = [\"삼성전자\", \"LG전자\", \"카카오\"]\n",
        "interest[0:2]"
      ]
    },
    {
      "cell_type": "markdown",
      "metadata": {
        "id": "bgOzbj2eolQt"
      },
      "source": [
        "인덱스를 벗어나면?"
      ]
    },
    {
      "cell_type": "code",
      "execution_count": 7,
      "metadata": {
        "id": "4xIimi6zolQt",
        "colab": {
          "base_uri": "https://localhost:8080/",
          "height": 171
        },
        "outputId": "f5aa7a2f-44c2-4e86-b886-8005e9835c10"
      },
      "outputs": [
        {
          "output_type": "error",
          "ename": "IndexError",
          "evalue": "ignored",
          "traceback": [
            "\u001b[0;31m---------------------------------------------------------------------------\u001b[0m",
            "\u001b[0;31mIndexError\u001b[0m                                Traceback (most recent call last)",
            "\u001b[0;32m<ipython-input-7-6e78f90e397b>\u001b[0m in \u001b[0;36m<module>\u001b[0;34m()\u001b[0m\n\u001b[0;32m----> 1\u001b[0;31m \u001b[0minterest\u001b[0m\u001b[0;34m[\u001b[0m\u001b[0;36m3\u001b[0m\u001b[0;34m]\u001b[0m\u001b[0;34m\u001b[0m\u001b[0;34m\u001b[0m\u001b[0m\n\u001b[0m",
            "\u001b[0;31mIndexError\u001b[0m: list index out of range"
          ]
        }
      ],
      "source": [
        "interest[3]"
      ]
    },
    {
      "cell_type": "markdown",
      "metadata": {
        "id": "J4qOnxwZolQu"
      },
      "source": [
        "문자열과 달리 리스트의 값은 수정이 가능합니다.  \n",
        "아래는 리스트의 1번 인덱스의 값을 변경하는 코드입니다. "
      ]
    },
    {
      "cell_type": "markdown",
      "metadata": {
        "id": "V_iGynZaolQu"
      },
      "source": [
        "### 리스트의 데이터 삭제"
      ]
    },
    {
      "cell_type": "markdown",
      "metadata": {
        "id": "4HI0UfCholQu"
      },
      "source": [
        "`remove` 메서드는 삭제할 값을 입력받아 리스트에서 제거합니다. "
      ]
    },
    {
      "cell_type": "code",
      "execution_count": 8,
      "metadata": {
        "id": "R_GpE0ktolQu",
        "colab": {
          "base_uri": "https://localhost:8080/"
        },
        "outputId": "07f3fb67-89b8-414b-e470-4ac05db3f05e"
      },
      "outputs": [
        {
          "output_type": "execute_result",
          "data": {
            "text/plain": [
              "[10, 20, 30]"
            ]
          },
          "metadata": {},
          "execution_count": 8
        }
      ],
      "source": [
        "리스트.remove(40)\n",
        "리스트"
      ]
    },
    {
      "cell_type": "markdown",
      "metadata": {
        "id": "I5aXgtf_olQu"
      },
      "source": [
        "`pop` 메서드는 인덱스를 입력받아 하나의 값을 제거합니다. "
      ]
    },
    {
      "cell_type": "code",
      "execution_count": 9,
      "metadata": {
        "id": "dvjplYg4olQu",
        "colab": {
          "base_uri": "https://localhost:8080/"
        },
        "outputId": "c4e2956f-c40b-44da-bfef-7dbf44a68944"
      },
      "outputs": [
        {
          "output_type": "execute_result",
          "data": {
            "text/plain": [
              "30"
            ]
          },
          "metadata": {},
          "execution_count": 9
        }
      ],
      "source": [
        "리스트.pop()"
      ]
    },
    {
      "cell_type": "markdown",
      "metadata": {
        "id": "fObSf9WYolQv"
      },
      "source": [
        "`del` 키워드를 사용해서 제거할 수도 있습니다. "
      ]
    },
    {
      "cell_type": "code",
      "execution_count": null,
      "metadata": {
        "id": "1BzZZtLBolQv"
      },
      "outputs": [],
      "source": [
        "del 리스트[0]           "
      ]
    },
    {
      "cell_type": "markdown",
      "metadata": {
        "id": "TF4ZJcvSolQv"
      },
      "source": [
        "`clear` 메서드로 모든 데이터를 제거할 수 있습니다. "
      ]
    },
    {
      "cell_type": "code",
      "execution_count": null,
      "metadata": {
        "id": "D3rDQfLaolQv"
      },
      "outputs": [],
      "source": [
        ""
      ]
    },
    {
      "cell_type": "markdown",
      "metadata": {
        "id": "KyLRYUPfolQv"
      },
      "source": [
        "슬라이싱을 활용할 수도 있구요."
      ]
    },
    {
      "cell_type": "code",
      "execution_count": null,
      "metadata": {
        "id": "S0FZvtKDolQv"
      },
      "outputs": [],
      "source": [
        "리스트 = 리스트[1:]"
      ]
    },
    {
      "cell_type": "markdown",
      "metadata": {
        "id": "sXIKKtQOolQv"
      },
      "source": [
        "##### 연습문제 - 1\n",
        "리스트에서 c와 d를 제거하라."
      ]
    },
    {
      "cell_type": "code",
      "execution_count": 11,
      "metadata": {
        "id": "Nw6cGzu1olQv",
        "colab": {
          "base_uri": "https://localhost:8080/"
        },
        "outputId": "785a8c69-d995-4049-c00a-70bb7d15ed2e"
      },
      "outputs": [
        {
          "output_type": "execute_result",
          "data": {
            "text/plain": [
              "['a', 'b']"
            ]
          },
          "metadata": {},
          "execution_count": 11
        }
      ],
      "source": [
        "리스트 = ['a', 'b', 'c', 'd']\n",
        "리스트 = 리스트[0:2]\n",
        "#del 리스트[2:]\n",
        "#리스트.remove('c')\n",
        "#리스트.remove('d')\n",
        "리스트"
      ]
    },
    {
      "cell_type": "markdown",
      "metadata": {
        "id": "SPp9E2SnolQw"
      },
      "source": [
        "파이썬 리스트 문제 더 풀어보기   \n",
        "https://wikidocs.net/30105  \n",
        "https://wikidocs.net/30106  "
      ]
    },
    {
      "cell_type": "markdown",
      "metadata": {
        "id": "IHWs-L0RolQw"
      },
      "source": [
        "## 리스트와 메서드"
      ]
    },
    {
      "cell_type": "markdown",
      "metadata": {
        "id": "CJyr_Y92olQw"
      },
      "source": [
        "###### 위치 찾기\n",
        "`index` 메서드"
      ]
    },
    {
      "cell_type": "code",
      "execution_count": 12,
      "metadata": {
        "id": "h1FXZqMHolQw",
        "colab": {
          "base_uri": "https://localhost:8080/"
        },
        "outputId": "e4eaca56-3127-486a-89f4-d9a4cbe06489"
      },
      "outputs": [
        {
          "output_type": "execute_result",
          "data": {
            "text/plain": [
              "0"
            ]
          },
          "metadata": {},
          "execution_count": 12
        }
      ],
      "source": [
        "리스트 = [\"101호\", \"102호\", \"103호\", \"104호\", \"105호\", \"106호\", \"107호\"]\n",
        "리스트.index('101호')"
      ]
    },
    {
      "cell_type": "markdown",
      "metadata": {
        "id": "OgtGIkzFolQw"
      },
      "source": [
        "###### 연습문제 - 3\n",
        "리스트에는 집주소로 정렬된 거주인원의 이름이 저장돼 있습니다.   \n",
        "`| 아름 | 종훈 | 현호 | 시후 | 아라 | 정현 |`  \n",
        "\n",
        "----\n",
        "\n",
        "하나의 이름을 입력받아 인접한 두 집을 출력하세요.  \n",
        "`name = input(\"이름:\")`\n",
        "\n",
        "----\n",
        "\n",
        "```python\n",
        "# 출력 예시\n",
        ">> 이름: 현호\n",
        "주변에는 종훈 시후가 살고 있습니다.\n",
        "```"
      ]
    },
    {
      "cell_type": "code",
      "execution_count": 16,
      "metadata": {
        "id": "M2mTRSGuolQw",
        "outputId": "5423f8f9-c698-485f-ffa4-e1722596d33c",
        "colab": {
          "base_uri": "https://localhost:8080/"
        }
      },
      "outputs": [
        {
          "name": "stdout",
          "output_type": "stream",
          "text": [
            "이름:현호\n"
          ]
        },
        {
          "output_type": "execute_result",
          "data": {
            "text/plain": [
              "2"
            ]
          },
          "metadata": {},
          "execution_count": 16
        }
      ],
      "source": [
        "거주순서 = [\"아름\", \"종훈\", \"현호\", \"시후\", \"아라\", \"정현\"]\n",
        "\n",
        "name = input(\"이름:\")\n",
        "\n",
        "거주순서.index(name)"
      ]
    },
    {
      "cell_type": "markdown",
      "metadata": {
        "id": "gc8ywnFdolQx"
      },
      "source": [
        "###### 정렬하기 \n",
        "`sort`와 `reverse` 메서드"
      ]
    },
    {
      "cell_type": "code",
      "execution_count": 19,
      "metadata": {
        "id": "WP093qBtolQx",
        "colab": {
          "base_uri": "https://localhost:8080/"
        },
        "outputId": "559a2147-4c03-4deb-986b-b0fdf226845b"
      },
      "outputs": [
        {
          "output_type": "execute_result",
          "data": {
            "text/plain": [
              "['c', 'b', 'a']"
            ]
          },
          "metadata": {},
          "execution_count": 19
        }
      ],
      "source": [
        "리스트 = ['c','b','a']\n",
        "리스트.sort(reverse=True)\n",
        "리스트"
      ]
    },
    {
      "cell_type": "markdown",
      "metadata": {
        "id": "-Nj_V_TMolQx"
      },
      "source": [
        "###### 갯수세기\n",
        "`count` 메서드"
      ]
    },
    {
      "cell_type": "markdown",
      "metadata": {
        "id": "FPuzXvV4olQx"
      },
      "source": [
        "###### 존재여부 확인\n",
        "`in` 메서드는 리스트에 데이터의 존재 여부를 확인"
      ]
    },
    {
      "cell_type": "code",
      "execution_count": 20,
      "metadata": {
        "id": "Bj7bMayDolQx",
        "colab": {
          "base_uri": "https://localhost:8080/"
        },
        "outputId": "9cd838de-8947-4ddb-808d-f7f343743c9c"
      },
      "outputs": [
        {
          "output_type": "execute_result",
          "data": {
            "text/plain": [
              "True"
            ]
          },
          "metadata": {},
          "execution_count": 20
        }
      ],
      "source": [
        "'a' in 리스트"
      ]
    },
    {
      "cell_type": "markdown",
      "metadata": {
        "id": "rTiQl09RolQx"
      },
      "source": [
        "###### join 연산자\n",
        "구분자를 기준으로 리스트 안의 모든 문자열 데이터를 연결"
      ]
    },
    {
      "cell_type": "code",
      "source": [
        "\"\".join(리스트)"
      ],
      "metadata": {
        "colab": {
          "base_uri": "https://localhost:8080/",
          "height": 36
        },
        "id": "px7UP3izmkOI",
        "outputId": "bb25db36-218b-4764-fbad-904d0697d80f"
      },
      "execution_count": 21,
      "outputs": [
        {
          "output_type": "execute_result",
          "data": {
            "text/plain": [
              "'cba'"
            ],
            "application/vnd.google.colaboratory.intrinsic+json": {
              "type": "string"
            }
          },
          "metadata": {},
          "execution_count": 21
        }
      ]
    },
    {
      "cell_type": "code",
      "source": [
        "리스트[0] ='C'\n",
        "리스트"
      ],
      "metadata": {
        "colab": {
          "base_uri": "https://localhost:8080/"
        },
        "id": "2oLok2sMnWoZ",
        "outputId": "79666da5-a6bf-4f60-b7cc-33d338109714"
      },
      "execution_count": 22,
      "outputs": [
        {
          "output_type": "execute_result",
          "data": {
            "text/plain": [
              "['C', 'b', 'a']"
            ]
          },
          "metadata": {},
          "execution_count": 22
        }
      ]
    },
    {
      "cell_type": "markdown",
      "metadata": {
        "id": "GdRAtMa2olQx"
      },
      "source": [
        "## 이차원 데이터"
      ]
    },
    {
      "cell_type": "markdown",
      "metadata": {
        "id": "fBNQtSAlolQy"
      },
      "source": [
        "가로축과 세로축이 있는 데이터를 이차원 데이터라고 부릅니다. 엑셀에 저장할 수 있는 데이터는 이차원 데이터에 좋은 예제 입니다. "
      ]
    },
    {
      "cell_type": "code",
      "execution_count": null,
      "metadata": {
        "id": "lJFkXRp6olQy"
      },
      "outputs": [],
      "source": [
        "interest = [\n",
        "    [0, 1, 2],\n",
        "    [3, 4, 5],    \n",
        "]"
      ]
    },
    {
      "cell_type": "code",
      "execution_count": null,
      "metadata": {
        "id": "X1zvEdUPolQy",
        "outputId": "97436191-13b7-4130-e182-eb031fdafef8"
      },
      "outputs": [
        {
          "name": "stdout",
          "output_type": "stream",
          "text": [
            "[[0, 1, 2], [3, 4, 5]]\n"
          ]
        }
      ],
      "source": [
        "print(interest)"
      ]
    },
    {
      "cell_type": "markdown",
      "metadata": {
        "id": "ILYmnl4RolQy"
      },
      "source": [
        "공백과 줄바꿈은 가독성 향상을 위해 사용했습니다. 사용하지 않아도 결과는 같습니다. "
      ]
    },
    {
      "cell_type": "code",
      "execution_count": null,
      "metadata": {
        "id": "MlKFiz0iolQy"
      },
      "outputs": [],
      "source": [
        "interest = [[0, 1, 2],[3, 4, 5],]"
      ]
    },
    {
      "cell_type": "code",
      "execution_count": null,
      "metadata": {
        "id": "WhOFWrfLolQy"
      },
      "outputs": [],
      "source": [
        "print(interest)"
      ]
    },
    {
      "cell_type": "markdown",
      "metadata": {
        "id": "vahBcw2ColQy"
      },
      "source": [
        "###### 연습문제 - 3\n",
        "다음 표를 리스트로 표현하라.  \n",
        "\n",
        "| | | | | \n",
        "|---|---|---|---|\n",
        "| 101 | 102 | 103 | 104 |\n",
        "| 201 | 202 | 203 | 204 |"
      ]
    },
    {
      "cell_type": "markdown",
      "metadata": {
        "id": "2khVHXxBolQy"
      },
      "source": [
        "###### 리스트 안에 리스트 추가하기"
      ]
    },
    {
      "cell_type": "code",
      "execution_count": null,
      "metadata": {
        "id": "Z85fzy23olQz"
      },
      "outputs": [],
      "source": [
        ""
      ]
    },
    {
      "cell_type": "markdown",
      "metadata": {
        "id": "w51Yy3iNolQz"
      },
      "source": [
        "## 리스트와 메모리"
      ]
    },
    {
      "cell_type": "markdown",
      "metadata": {
        "id": "zqriq3LLolQz"
      },
      "source": [
        "리스트를 대입연산하면 메모리 상에서는 어떻게 될까?"
      ]
    },
    {
      "cell_type": "code",
      "execution_count": null,
      "metadata": {
        "id": "7h3pshZoolQz"
      },
      "outputs": [],
      "source": [
        "리스트0 = [\"가\", \"나\", \"다\"]\n",
        "리스트1 = 리스트0"
      ]
    },
    {
      "cell_type": "code",
      "execution_count": null,
      "metadata": {
        "id": "Z7FOPxa0olQz"
      },
      "outputs": [],
      "source": [
        "print(id(리스트0))\n",
        "print(id(리스트1))"
      ]
    },
    {
      "cell_type": "markdown",
      "metadata": {
        "id": "O0ii-Ax4olQz"
      },
      "source": [
        "동일한 값을 갖는 두개의 리스트를 복사하는 방법"
      ]
    },
    {
      "cell_type": "code",
      "execution_count": null,
      "metadata": {
        "id": "LWYJwptoolQz"
      },
      "outputs": [],
      "source": [
        ""
      ]
    },
    {
      "cell_type": "markdown",
      "metadata": {
        "id": "5NLnlhxmolQz"
      },
      "source": [
        "슬라이싱한 결과는 어떻게 될까?"
      ]
    },
    {
      "cell_type": "code",
      "execution_count": null,
      "metadata": {
        "id": "82qFCUUrolQz"
      },
      "outputs": [],
      "source": [
        ""
      ]
    },
    {
      "cell_type": "markdown",
      "metadata": {
        "id": "ij1SSjiJolQz"
      },
      "source": [
        "파이썬 리스트 문제 더 풀어보기   \n",
        "https://wikidocs.net/30105  \n",
        "https://wikidocs.net/30106  "
      ]
    },
    {
      "cell_type": "code",
      "execution_count": null,
      "metadata": {
        "id": "eiyItzQYolQ0"
      },
      "outputs": [],
      "source": [
        ""
      ]
    }
  ],
  "metadata": {
    "kernelspec": {
      "display_name": "Python 3",
      "language": "python",
      "name": "python3"
    },
    "language_info": {
      "codemirror_mode": {
        "name": "ipython",
        "version": 3
      },
      "file_extension": ".py",
      "mimetype": "text/x-python",
      "name": "python",
      "nbconvert_exporter": "python",
      "pygments_lexer": "ipython3",
      "version": "3.8.8"
    },
    "toc": {
      "base_numbering": 1,
      "nav_menu": {},
      "number_sections": true,
      "sideBar": true,
      "skip_h1_title": false,
      "title_cell": "Table of Contents",
      "title_sidebar": "Contents",
      "toc_cell": false,
      "toc_position": {},
      "toc_section_display": true,
      "toc_window_display": false
    },
    "colab": {
      "name": "리스트.ipynb",
      "provenance": [],
      "collapsed_sections": [],
      "include_colab_link": true
    }
  },
  "nbformat": 4,
  "nbformat_minor": 0
}