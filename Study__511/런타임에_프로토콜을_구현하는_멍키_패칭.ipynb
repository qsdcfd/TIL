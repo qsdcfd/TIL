{
  "nbformat": 4,
  "nbformat_minor": 0,
  "metadata": {
    "colab": {
      "provenance": [],
      "authorship_tag": "ABX9TyMsQX38Gkj0+KBnO43g/WTm"
    },
    "kernelspec": {
      "name": "python3",
      "display_name": "Python 3"
    },
    "language_info": {
      "name": "python"
    }
  },
  "cells": [
    {
      "cell_type": "markdown",
      "source": [
        "# 객체지향 상용구\n",
        "## 인터페이스:프로트콜에서 ABC까지\n",
        "### 런타임에 프로토콜을 구현하는 멍키 패칭\n",
        "\n",
        "시퀀스처럼 작동하는 클래스가 있다면 shuffle()메서드를 직접 구현할 필요가 없다. 왜냐하면, random.shuffle()함수 문서에서 설명하는 것처럼 random.shuffle()함수가 시퀀스 객체 안의 항목들을 섞어주기 때문이다.\n",
        "\n",
        "```\n",
        "from random import shuffle\n",
        "l = list(range(10))\n",
        "shuffle(l)\n",
        "```\n",
        "\n",
        "<br>\n",
        "\n",
        "```\n",
        "#random.shuffle()이 FrenchDeck 처리 못한다.\n",
        "\n",
        "from random import shuffle\n",
        "from frenchdeck import FrenchDeck\n",
        "deck = FrenchDeck()\n",
        "shuffle(deck)\n",
        "```\n",
        "\n",
        ">'FrenchDeck'객체가 할당을 지원하지 않고, shuffle()함수는 컬렉션 안의 항목들을 교환시키고, FrenchDeck 클래스는 불변 시퀀스 프로토콜만 구현하고 있고, 가변 시퀀스는 __setitem__() 메서드도 지원\n",
        "\n",
        "<br>\n",
        "\n",
        "```\n",
        "#FrenchDeck을 가변형으로 만들어 random.shuffle()을 사용\n",
        "\n",
        "def set_card(deck, position, card):\n",
        "\tdeck._cards[position] = card\n",
        "    \n",
        "FrenchDeck.__setitem__ = set_card\n",
        "shuffle(deck)\n",
        "```\n",
        "\n",
        "첫 번째 매개변수로 self를 사용하는 것은 관례이지만 콘솔 세션에선 이렇게 해도 괜찮지만 파이썬 소스 파일에선 문서화된 대로 self, key,value를 매개변수로 사용하는 것이 좋다.\n",
        "\n",
        "<br>\n",
        "\n",
        "deck객체에 _cards라는 이름의 속성이 있고, _cards가 가변 시퀀스임을 set_card()가 알고 있고난 후에 set_card()함수가 FrenchDeck클래스의 __setitem__특별 메서드에 연결되고 이를 멍키 패칭이다."
      ],
      "metadata": {
        "id": "BXHZtUWT4aZP"
      }
    },
    {
      "cell_type": "code",
      "source": [],
      "metadata": {
        "id": "o0nSXCY14aoo"
      },
      "execution_count": null,
      "outputs": []
    }
  ]
}