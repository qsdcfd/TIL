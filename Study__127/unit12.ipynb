{
 "cells": [
  {
   "cell_type": "markdown",
   "id": "built-jewelry",
   "metadata": {},
   "source": [
    "<딕셔너리>\n",
    ":연관된 값을 묶어서 저장(말 그대로 사전느낌)\n",
    " ex)\n",
    "lux = {'health': 490, 'mana': 334, 'melee': 550, 'armor': 18.72}\n",
    "<만들기>\n",
    "딕셔너리 = {키1: 값1, 키2: 값2} (일대일 대응)\n",
    "* 키 이름 중복 시 가장 뒤에 값만 사용되고 동시 저장X\n",
    "lux = {'health': 490, 'health': 800, 'mana': 334, 'melee': 550, 'armor': 18.72}\n",
    ">>> lux['health']    # 키가 중복되면 가장 뒤에 있는 값만 사용함\n",
    "800\n",
    ">>> lux    # 중복되는 키는 저장되지 않음\n",
    "{'health': 800, 'mana': 334, 'melee': 550, 'armor': 18.72}\n",
    "\n",
    "<딕셔너리 키의 자료형>\n",
    "값은 모든 자료형이 가능\n",
    "키는 리스트와 딕셔너리 빼고 가능.\n",
    "< 빈 딕셔너리>\n",
    "리스트와 튜플과 같다.\n",
    "딕셔너리 = {}\n",
    "딕셔너리 = dict()\n",
    " x = {}\n",
    ">>> x\n",
    "{}\n",
    ">>> y = dict()\n",
    ">>> y\n",
    "{}\n",
    "<dict로 만들기>\n",
    "dict의 키는 어차피 문자열로 바뀌기 때문에 따옴표는 필요가 없다.\n",
    "\n",
    "딕셔너리 = dict(키1=값1, 키2=값2)\n",
    "딕셔너리 = dict(zip([키1, 키2], [값1, 값2]))\n",
    "딕셔너리 = dict([(키1, 값1), (키2, 값2)])\n",
    "딕셔너리 = dict({키1: 값1, 키2: 값2})\n",
    "\n",
    "<키에 값 할당>\n",
    "\n",
    "* 딕셔너리[키]\n",
    "\n",
    "lux = {'health': 490, 'mana': 334, 'melee': 550, 'armor': 18.72}\n",
    ">>> lux['health']\n",
    "490\n",
    "\n",
    "<키에 값 할당하여 바꾸기>\n",
    " * 딕셔너리[키] = 값\n",
    " \n",
    " lux = {'health': 490, 'mana': 334, 'melee': 550, 'armor': 18.72}\n",
    ">>> lux['health'] = 2037    # 키 'health'의 값을 2037로 변경\n",
    ">>> lux['mana'] = 1184      # 키 'mana'의 값을 1184로 변경\n",
    ">>> lux\n",
    "{'health': 2037, 'mana': 1184, 'melee': 550, 'armor': 18.72}\n",
    "\n",
    "<딕셔너리에 키 있는지 확인>\n",
    "\n",
    "* 키 in 딕셔너리\n",
    "\n",
    "lux = {'health': 490, 'mana': 334, 'melee': 550, 'armor': 18.72}\n",
    ">>> 'health' in lux\n",
    "True\n",
    ">>> 'attack_speed' in lux\n",
    "False"
   ]
  },
  {
   "cell_type": "code",
   "execution_count": 1,
   "id": "micro-length",
   "metadata": {},
   "outputs": [
    {
     "name": "stdout",
     "output_type": "stream",
     "text": [
      "health health_regen mana mana_regen\n",
      "575.6 1.7 338.8 1.63\n",
      "{'health': '575.6', 'health_regen': '1.7', 'mana': '338.8', 'mana_regen': '1.63'}\n"
     ]
    }
   ],
   "source": [
    "a = input().split()\n",
    "b = input().split()\n",
    "lux = dict(zip(a,b))\n",
    "print(lux)"
   ]
  },
  {
   "cell_type": "code",
   "execution_count": null,
   "id": "global-carol",
   "metadata": {},
   "outputs": [],
   "source": []
  }
 ],
 "metadata": {
  "kernelspec": {
   "display_name": "Python 3",
   "language": "python",
   "name": "python3"
  },
  "language_info": {
   "codemirror_mode": {
    "name": "ipython",
    "version": 3
   },
   "file_extension": ".py",
   "mimetype": "text/x-python",
   "name": "python",
   "nbconvert_exporter": "python",
   "pygments_lexer": "ipython3",
   "version": "3.7.9"
  }
 },
 "nbformat": 4,
 "nbformat_minor": 5
}
