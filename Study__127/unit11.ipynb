{
 "cells": [
  {
   "cell_type": "markdown",
   "id": "neither-mississippi",
   "metadata": {},
   "source": [
    "시퀀스 자료형: 값이 연속적으로 이어진 자료형\n",
    "ex) 리스트, 튜플, range, 문자열\n",
    "공통 기능: 값=요소(정수,실수,'문자열')\n",
    "i) 특정 값 있는지 확인하기\n",
    "  값 in 시퀀스 객체\n",
    "ii) 특정 값 없는지 확인하기\n",
    "  값 not in 시퀀스객체\n",
    "iii) 시퀀스 객체 연결하기\n",
    "시퀀스객체 1 + 시퀀스 객체2 (range로는 불가. 문자열+ 숫자도 불가.(단 숫자를 변환하면 가능)\n",
    "iv)시퀀스 객체 반복\n",
    " 시퀀스 객체 * 정수\n",
    " 정수 * 시퀀스 객체\n",
    " list(range(0,5,2)) * 3\n",
    " tuple(range(0,5,2)) * 3\n",
    " 문자열도 가능함\n",
    "len(): 시퀀스 객체들의 요소 개수를 구하는 함수\n",
    "* ()안에 리스트, 튜플, 문자열(영어,한국어,빈칸,특수문자)\n",
    "len(range(시작,끝,증가폭))- range의 숫자 생성 개수 구하기\n",
    "-시퀀스 객체[인덱스]\n",
    "인덱스는 0부터 시작한다/\n",
    "시퀀스 객체에 인덱스 지정하지 않으면 시퀀스 전체를 뜻함\n",
    "- ._getitem_메서드는 인덱스와 같다.\n",
    "\n",
    "음수 인덱스는 리스트의 뒤에서 부터 시작\n",
    "<요소에 값 할당하기>\n",
    "시퀀스객체[인덱스]  = 값\n",
    "del 시퀀스객체[인덱스]: 삭제.(리스트는 가능 튜플,range,문자열은 안됨)\n",
    "시퀀스 슬라이스: 시퀀스 객체의 일부를 잘라 새로운 것을 만든다.\n",
    "-시퀀스객체[시작인덱스:끝인덱스]\n",
    "-시퀀스객체[시작인덱스:끝인덱스:인덱스증가폭]\n",
    "-시퀀스객체[:끝인덱스] (~ 끝 가져온다)\n",
    "-시퀀스객체[시작인덱스:] (시작 ~ 가져온다)\n",
    "-시퀀스객체[:](전체 다 가져온다)"
   ]
  },
  {
   "cell_type": "code",
   "execution_count": null,
   "id": "boring-netscape",
   "metadata": {},
   "outputs": [],
   "source": [
    "a = [0, 10, 20, 30, 40, 50, 60, 70, 80, 90]\n",
    ">>> 30 in a\n",
    "True\n",
    ">>> 100 in a\n",
    "False"
   ]
  },
  {
   "cell_type": "code",
   "execution_count": null,
   "id": "organic-burns",
   "metadata": {},
   "outputs": [],
   "source": [
    ">>> a = [0, 10, 20, 30, 40, 50, 60, 70, 80, 90]\n",
    ">>> 100 not in a\n",
    "True\n",
    ">>> 30 not in a\n",
    "False"
   ]
  },
  {
   "cell_type": "code",
   "execution_count": null,
   "id": "weekly-globe",
   "metadata": {},
   "outputs": [],
   "source": [
    ">>> 43 in (38, 76, 43, 62, 19)\n",
    "True\n",
    ">>> 1 in range(10)\n",
    "True\n",
    ">>> 'P' in 'Hello, Python'\n",
    "True"
   ]
  },
  {
   "cell_type": "code",
   "execution_count": null,
   "id": "everyday-visibility",
   "metadata": {},
   "outputs": [],
   "source": [
    ">>> a = [0, 10, 20, 30]\n",
    ">>> b = [9, 8, 7, 6]\n",
    ">>> a + b\n",
    "[0, 10, 20, 30, 9, 8, 7, 6]"
   ]
  },
  {
   "cell_type": "code",
   "execution_count": null,
   "id": "valuable-silicon",
   "metadata": {},
   "outputs": [],
   "source": [
    "'Hello, ' + 'world!'\n",
    "'Hello, world!'"
   ]
  },
  {
   "cell_type": "code",
   "execution_count": null,
   "id": "declared-realtor",
   "metadata": {},
   "outputs": [],
   "source": [
    ">>> 'Hello, ' + str(10)      # str을 사용하여 정수를 문자열로 변환\n",
    "'Hello, 10'\n",
    ">>> 'Hello, ' + str(1.5)     # str을 사용하여 실수를 문자열로 변환\n",
    "'Hello, 1.5'"
   ]
  },
  {
   "cell_type": "code",
   "execution_count": null,
   "id": "forward-questionnaire",
   "metadata": {},
   "outputs": [],
   "source": [
    " [0, 10, 20, 30] * 3\n",
    "[0, 10, 20, 30, 0, 10, 20, 30, 0, 10, 20, 30]"
   ]
  },
  {
   "cell_type": "code",
   "execution_count": null,
   "id": "young-integrity",
   "metadata": {},
   "outputs": [],
   "source": [
    ">>> list(range(0, 5, 2)) * 3\n",
    "[0, 2, 4, 0, 2, 4, 0, 2, 4]\n",
    ">>> tuple(range(0, 5, 2)) * 3\n",
    "(0, 2, 4, 0, 2, 4, 0, 2, 4)"
   ]
  },
  {
   "cell_type": "code",
   "execution_count": null,
   "id": "medical-electric",
   "metadata": {},
   "outputs": [],
   "source": [
    "> a = [38, 21, 53, 62, 19]\n",
    ">>> a[0]    # 리스트의 첫 번째(인덱스 0) 요소 출력\n",
    "38\n",
    ">>> a[2]    # 리스트의 세 번째(인덱스 2) 요소 출력\n",
    "53\n",
    ">>> a[4]    # 리스트의 다섯 번째(인덱스 4) 요소 출력\n",
    "19"
   ]
  },
  {
   "cell_type": "code",
   "execution_count": null,
   "id": "mechanical-hindu",
   "metadata": {},
   "outputs": [],
   "source": [
    ">>> a = [38, 21, 53, 62, 19]\n",
    ">>> a    # 시퀀스 객체에 인덱스를 지정하지 않으면 시퀀스 객체 전체를 뜻함\n",
    "[38, 21, 53, 62, 19]"
   ]
  },
  {
   "cell_type": "code",
   "execution_count": null,
   "id": "impressive-color",
   "metadata": {},
   "outputs": [],
   "source": [
    ">>> a = [38, 21, 53, 62, 19]\n",
    ">>> a    # 시퀀스 객체에 인덱스를 지정하지 않으면 시퀀스 객체 전체를 뜻함\n",
    "[38, 21, 53, 62, 19]"
   ]
  },
  {
   "cell_type": "code",
   "execution_count": null,
   "id": "handled-merit",
   "metadata": {},
   "outputs": [],
   "source": [
    ">>> a = [38, 21, 53, 62, 19]\n",
    ">>> a[-1]   # 리스트의 뒤에서 첫 번째(인덱스 -1) 요소 출력\n",
    "19\n",
    ">>> a[-5]   # 리스트의 뒤에서 다섯 번째(인덱스 -5) 요소 출력\n",
    "38"
   ]
  },
  {
   "cell_type": "code",
   "execution_count": null,
   "id": "supported-impact",
   "metadata": {},
   "outputs": [],
   "source": [
    ">>> a = [0, 0, 0, 0, 0]    # 0이 5개 들어있는 리스트\n",
    ">>> a[0] = 38\n",
    ">>> a[1] = 21\n",
    ">>> a[2] = 53\n",
    ">>> a[3] = 62\n",
    ">>> a[4] = 19\n",
    ">>> a\n",
    "[38, 21, 53, 62, 19]\n",
    ">>> a[0]\n",
    "38\n",
    ">>> a[4]\n",
    "19"
   ]
  },
  {
   "cell_type": "code",
   "execution_count": null,
   "id": "alternative-bottom",
   "metadata": {},
   "outputs": [],
   "source": [
    " a = [0, 10, 20, 30, 40, 50, 60, 70, 80, 90]\n",
    ">>> a[0:4]     # 인덱스 0부터 3까지 잘라서 새 리스트를 만듦\n",
    "[0, 10, 20, 30]"
   ]
  },
  {
   "cell_type": "code",
   "execution_count": null,
   "id": "alpha-league",
   "metadata": {},
   "outputs": [],
   "source": [
    ">>> a = [0, 10, 20, 30, 40, 50, 60, 70, 80, 90]\n",
    ">>> a[2:8:3]    # 인덱스 2부터 3씩 증가시키면서 인덱스 7까지 가져옴\n",
    "[20, 50]"
   ]
  },
  {
   "cell_type": "markdown",
   "id": "recovered-bandwidth",
   "metadata": {},
   "source": [
    "심사문제\n",
    "표준 입력으로 숫자 또는 문자열 여러 개가 입력되어 리스트 x에 저장됩니다(입력되는 숫자 또는 문자열의 개수는 정해져 있지 않음). 다음 소스 코드를 완성하여 리스트 x의 마지막 요소 5개를 삭제한 뒤 튜플로 출력되게 만드세요."
   ]
  },
  {
   "cell_type": "code",
   "execution_count": 4,
   "id": "frozen-bahamas",
   "metadata": {},
   "outputs": [
    {
     "name": "stdout",
     "output_type": "stream",
     "text": [
      "1 2 3 4 5 6 7 8 9 10\n",
      "('1', '2', '3', '4', '5')\n"
     ]
    }
   ],
   "source": [
    "x = input().split()\n",
    "\n",
    "del x[-5:len(x)]\n",
    "print(tuple(x))"
   ]
  },
  {
   "cell_type": "code",
   "execution_count": 9,
   "id": "medium-traveler",
   "metadata": {},
   "outputs": [
    {
     "name": "stdout",
     "output_type": "stream",
     "text": [
      "1 2 3 4 5 6 7 8 9 10\n",
      "('1', '2', '3', '4', '5', '10')\n"
     ]
    }
   ],
   "source": [
    "x = input().split()\n",
    "\n",
    "del x[-5:-1]\n",
    "print(tuple(x))\n"
   ]
  },
  {
   "cell_type": "code",
   "execution_count": 1,
   "id": "unique-blood",
   "metadata": {},
   "outputs": [
    {
     "name": "stdout",
     "output_type": "stream",
     "text": [
      "python\n",
      "python\n",
      "yhnpto\n"
     ]
    }
   ],
   "source": [
    "a = input()\n",
    "b = input()\n",
    "print(a[1::2]+b[::2])"
   ]
  },
  {
   "cell_type": "code",
   "execution_count": null,
   "id": "expired-combining",
   "metadata": {},
   "outputs": [],
   "source": []
  }
 ],
 "metadata": {
  "kernelspec": {
   "display_name": "Python 3",
   "language": "python",
   "name": "python3"
  },
  "language_info": {
   "codemirror_mode": {
    "name": "ipython",
    "version": 3
   },
   "file_extension": ".py",
   "mimetype": "text/x-python",
   "name": "python",
   "nbconvert_exporter": "python",
   "pygments_lexer": "ipython3",
   "version": "3.7.9"
  }
 },
 "nbformat": 4,
 "nbformat_minor": 5
}
