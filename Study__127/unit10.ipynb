{
 "cells": [
  {
   "cell_type": "markdown",
   "id": "early-resort",
   "metadata": {},
   "source": [
    "하나 하나 귀찮게 저장했던 것을 한 줄로 깔끔하게 저장하기 위해서는 리스트(편집가능)를 쓴다\n",
    "**리스트 = [값, 값, 값] (값은 정수, 실수, '문자열'된다)\n",
    "문자열 넣을 시 조각남\n",
    "< 빈 리스트 만들기>\n",
    "리스트 = []\n",
    "리스트 = list()\n",
    "<range를 사용>\n",
    "range(횟수)-- 연속된 숫자를 생성하는 함수\n",
    "range(시작,끝)\n",
    "range(시작,끝,증가표)-등차수열개념\n",
    "\n",
    "**튜플(편집불가) = (값, 값, 값)\n",
    "리스트와 같이 값에는 정수, 실수, '문자열' 가능함.\n",
    "< 요소 한 개 튜플>\n",
    "튜플 = (값, )\n",
    "튜플 = 값,\n",
    "<range 사용>\n",
    "튜플 = tuple(range(횟수))\n",
    "list와 동일\n",
    "[튜플-->리스트, 리스트->튜플]\n",
    "\n",
    "[리스트와 튜블로 변수 만들기]\n",
    "변수의 개수 = 리스트(튜플)의 요소개수\n",
    "*list unnpacking, tuple unpacking"
   ]
  },
  {
   "cell_type": "code",
   "execution_count": 1,
   "id": "resistant-township",
   "metadata": {},
   "outputs": [
    {
     "data": {
      "text/plain": [
       "[8, 21, 242, 56, 16]"
      ]
     },
     "execution_count": 1,
     "metadata": {},
     "output_type": "execute_result"
    }
   ],
   "source": [
    "a = [8,21,242,56,16]\n",
    "a\n"
   ]
  },
  {
   "cell_type": "code",
   "execution_count": 2,
   "id": "earlier-biography",
   "metadata": {},
   "outputs": [
    {
     "data": {
      "text/plain": [
       "[]"
      ]
     },
     "execution_count": 2,
     "metadata": {},
     "output_type": "execute_result"
    }
   ],
   "source": [
    " a =[]\n",
    " a"
   ]
  },
  {
   "cell_type": "code",
   "execution_count": 3,
   "id": "related-change",
   "metadata": {},
   "outputs": [
    {
     "data": {
      "text/plain": [
       "[]"
      ]
     },
     "execution_count": 3,
     "metadata": {},
     "output_type": "execute_result"
    }
   ],
   "source": [
    "b = list()\n",
    "b"
   ]
  },
  {
   "cell_type": "code",
   "execution_count": 4,
   "id": "systematic-copper",
   "metadata": {},
   "outputs": [
    {
     "data": {
      "text/plain": [
       "[0, 1, 2, 3, 4, 5, 6, 7, 8, 9]"
      ]
     },
     "execution_count": 4,
     "metadata": {},
     "output_type": "execute_result"
    }
   ],
   "source": [
    " a = list(range(0,10))\n",
    " a"
   ]
  },
  {
   "cell_type": "code",
   "execution_count": 5,
   "id": "saving-track",
   "metadata": {},
   "outputs": [
    {
     "data": {
      "text/plain": [
       "[0, 1, 2, 3, 4, 5, 6, 7, 8, 9]"
      ]
     },
     "execution_count": 5,
     "metadata": {},
     "output_type": "execute_result"
    }
   ],
   "source": [
    "a = list(range(10))\n",
    "a"
   ]
  },
  {
   "cell_type": "code",
   "execution_count": 6,
   "id": "happy-virgin",
   "metadata": {},
   "outputs": [
    {
     "data": {
      "text/plain": [
       "(1, 2, 3)"
      ]
     },
     "execution_count": 6,
     "metadata": {},
     "output_type": "execute_result"
    }
   ],
   "source": [
    "c=(1,2,3)\n",
    "c"
   ]
  },
  {
   "cell_type": "code",
   "execution_count": 7,
   "id": "uniform-characterization",
   "metadata": {},
   "outputs": [
    {
     "data": {
      "text/plain": [
       "(1, 2, 3)"
      ]
     },
     "execution_count": 7,
     "metadata": {},
     "output_type": "execute_result"
    }
   ],
   "source": [
    "a = [1,2,3]\n",
    "tuple(a)"
   ]
  },
  {
   "cell_type": "code",
   "execution_count": 9,
   "id": "secure-retail",
   "metadata": {},
   "outputs": [
    {
     "name": "stdout",
     "output_type": "stream",
     "text": [
      "10 20\n"
     ]
    },
    {
     "data": {
      "text/plain": [
       "['10', '20']"
      ]
     },
     "execution_count": 9,
     "metadata": {},
     "output_type": "execute_result"
    }
   ],
   "source": [
    "input().split()"
   ]
  },
  {
   "cell_type": "code",
   "execution_count": 10,
   "id": "statewide-deputy",
   "metadata": {},
   "outputs": [
    {
     "name": "stdout",
     "output_type": "stream",
     "text": [
      "10 20\n"
     ]
    }
   ],
   "source": [
    "x = input().split()"
   ]
  },
  {
   "cell_type": "code",
   "execution_count": 11,
   "id": "tender-respondent",
   "metadata": {},
   "outputs": [
    {
     "name": "stdout",
     "output_type": "stream",
     "text": [
      "10 20\n"
     ]
    }
   ],
   "source": [
    "a, b = x\n",
    "print(a,b)"
   ]
  },
  {
   "cell_type": "markdown",
   "id": "further-yahoo",
   "metadata": {},
   "source": [
    "심사문제\n"
   ]
  },
  {
   "cell_type": "code",
   "execution_count": 12,
   "id": "flying-massachusetts",
   "metadata": {},
   "outputs": [
    {
     "name": "stdout",
     "output_type": "stream",
     "text": [
      "2\n",
      "(-10, -8, -6, -4, -2, 0, 2, 4, 6, 8)\n"
     ]
    }
   ],
   "source": [
    " a = int(input())\n",
    " b = tuple(range(-10,10,a))\n",
    " print(b)"
   ]
  },
  {
   "cell_type": "code",
   "execution_count": 13,
   "id": "secondary-poster",
   "metadata": {},
   "outputs": [
    {
     "name": "stdout",
     "output_type": "stream",
     "text": [
      "2\n",
      "(-10, -8, -6, -4, -2, 0, 2, 4, 6, 8)\n"
     ]
    }
   ],
   "source": [
    "a = tuple(range(-10,10,int(input())))\n",
    "print(a)"
   ]
  },
  {
   "cell_type": "code",
   "execution_count": null,
   "id": "final-geometry",
   "metadata": {},
   "outputs": [],
   "source": []
  }
 ],
 "metadata": {
  "kernelspec": {
   "display_name": "Python 3",
   "language": "python",
   "name": "python3"
  },
  "language_info": {
   "codemirror_mode": {
    "name": "ipython",
    "version": 3
   },
   "file_extension": ".py",
   "mimetype": "text/x-python",
   "name": "python",
   "nbconvert_exporter": "python",
   "pygments_lexer": "ipython3",
   "version": "3.7.9"
  }
 },
 "nbformat": 4,
 "nbformat_minor": 5
}
