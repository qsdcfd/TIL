{
 "cells": [
  {
   "cell_type": "markdown",
   "id": "present-florence",
   "metadata": {},
   "source": [
    "논리연산자 : and, or, not\n",
    "i) and는 두 값이 모두 true여야 true입니다.\n",
    "ii) or은 두 값 중 하나라도 true면 true, 두 값이 모두 false이면 false.\n",
    "iii) not은 반대로 값을 변환.\n",
    "iv)세 연산자가 한 식에 있을 경우not>and>or\n"
   ]
  },
  {
   "cell_type": "code",
   "execution_count": 1,
   "id": "designing-waters",
   "metadata": {},
   "outputs": [
    {
     "data": {
      "text/plain": [
       "True"
      ]
     },
     "execution_count": 1,
     "metadata": {},
     "output_type": "execute_result"
    }
   ],
   "source": [
    "True and True"
   ]
  },
  {
   "cell_type": "code",
   "execution_count": 2,
   "id": "seasonal-thomas",
   "metadata": {},
   "outputs": [
    {
     "data": {
      "text/plain": [
       "False"
      ]
     },
     "execution_count": 2,
     "metadata": {},
     "output_type": "execute_result"
    }
   ],
   "source": [
    "True and False"
   ]
  },
  {
   "cell_type": "code",
   "execution_count": 3,
   "id": "macro-upset",
   "metadata": {},
   "outputs": [
    {
     "data": {
      "text/plain": [
       "True"
      ]
     },
     "execution_count": 3,
     "metadata": {},
     "output_type": "execute_result"
    }
   ],
   "source": [
    "True or False"
   ]
  },
  {
   "cell_type": "code",
   "execution_count": 4,
   "id": "coastal-montana",
   "metadata": {},
   "outputs": [
    {
     "data": {
      "text/plain": [
       "False"
      ]
     },
     "execution_count": 4,
     "metadata": {},
     "output_type": "execute_result"
    }
   ],
   "source": [
    "False or False"
   ]
  },
  {
   "cell_type": "code",
   "execution_count": 6,
   "id": "previous-introduction",
   "metadata": {},
   "outputs": [
    {
     "data": {
      "text/plain": [
       "False"
      ]
     },
     "execution_count": 6,
     "metadata": {},
     "output_type": "execute_result"
    }
   ],
   "source": [
    "not True"
   ]
  },
  {
   "cell_type": "code",
   "execution_count": 7,
   "id": "reasonable-memory",
   "metadata": {},
   "outputs": [
    {
     "data": {
      "text/plain": [
       "True"
      ]
     },
     "execution_count": 7,
     "metadata": {},
     "output_type": "execute_result"
    }
   ],
   "source": [
    "not True and False or not False"
   ]
  },
  {
   "cell_type": "markdown",
   "id": "material-effort",
   "metadata": {},
   "source": [
    "논리 연산자와 비교연산자 사용\n",
    "비교연산자(is,is not, ==, !=,<,>,<=,>=)를 먼저 판단하고 그 이후에 논리 연산자(not,and,or)를 판단합니다."
   ]
  },
  {
   "cell_type": "code",
   "execution_count": 11,
   "id": "understood-integer",
   "metadata": {},
   "outputs": [
    {
     "data": {
      "text/plain": [
       "True"
      ]
     },
     "execution_count": 11,
     "metadata": {},
     "output_type": "execute_result"
    }
   ],
   "source": [
    "7 >= 4 or 10 is 10.0 or 9 is not 9.0 and not(5 == 4)"
   ]
  },
  {
   "cell_type": "markdown",
   "id": "corporate-corps",
   "metadata": {},
   "source": [
    "bool(값), 값에는 정수, 실수,'문자열'이 들어갈 수 있습니다. 불은 false값을 넣어도 값을 넣었기 때문에 true로 값을 도출합니다. 정수 0과 실수 0.0을 제외하고는 다 true입니다."
   ]
  },
  {
   "cell_type": "code",
   "execution_count": 12,
   "id": "assured-vegetation",
   "metadata": {},
   "outputs": [
    {
     "data": {
      "text/plain": [
       "True"
      ]
     },
     "execution_count": 12,
     "metadata": {},
     "output_type": "execute_result"
    }
   ],
   "source": [
    "bool(1)"
   ]
  },
  {
   "cell_type": "code",
   "execution_count": 13,
   "id": "understood-nurse",
   "metadata": {},
   "outputs": [
    {
     "data": {
      "text/plain": [
       "False"
      ]
     },
     "execution_count": 13,
     "metadata": {},
     "output_type": "execute_result"
    }
   ],
   "source": [
    "bool(0)"
   ]
  },
  {
   "cell_type": "code",
   "execution_count": 14,
   "id": "digital-triumph",
   "metadata": {},
   "outputs": [
    {
     "data": {
      "text/plain": [
       "True"
      ]
     },
     "execution_count": 14,
     "metadata": {},
     "output_type": "execute_result"
    }
   ],
   "source": [
    "bool(1.5)"
   ]
  },
  {
   "cell_type": "code",
   "execution_count": 15,
   "id": "specialized-decline",
   "metadata": {},
   "outputs": [
    {
     "data": {
      "text/plain": [
       "True"
      ]
     },
     "execution_count": 15,
     "metadata": {},
     "output_type": "execute_result"
    }
   ],
   "source": [
    "bool('false')"
   ]
  },
  {
   "cell_type": "markdown",
   "id": "affected-invite",
   "metadata": {},
   "source": [
    "파이썬에서 논리 연산자\n",
    "단락평가에 따라 반환하는 값이 결정!\n",
    "'문자열' and 비교연산자인 경우\n",
    " 뒤에 것 기준으로 나온다.\n",
    "비교연산자 and '문자열'\n",
    " 뒤에 것 기준"
   ]
  }
 ],
 "metadata": {
  "kernelspec": {
   "display_name": "Python 3",
   "language": "python",
   "name": "python3"
  },
  "language_info": {
   "codemirror_mode": {
    "name": "ipython",
    "version": 3
   },
   "file_extension": ".py",
   "mimetype": "text/x-python",
   "name": "python",
   "nbconvert_exporter": "python",
   "pygments_lexer": "ipython3",
   "version": "3.7.9"
  }
 },
 "nbformat": 4,
 "nbformat_minor": 5
}
