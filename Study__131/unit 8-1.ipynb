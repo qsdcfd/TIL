{
 "cells": [
  {
   "cell_type": "markdown",
   "id": "facial-mexico",
   "metadata": {},
   "source": [
    "불:true,false 표현.\n",
    "비교 연산자 와 논리연산자의 판단 결과는 True,Fasle로표현\n",
    "비교 연산자:==(같다), !=(다르다),부등호(>,<,>=,<=)\n",
    "정수 객체와 실수 객체비교하기\n",
    "id함수이용한다.(객체의 고유값인 메모리 주소 구함)\n",
    "고유값이 다르다면 다른 객체.\n",
    "그러므로,is는 객체비교이다. 값 비교는 비교연산자이용"
   ]
  },
  {
   "cell_type": "code",
   "execution_count": 2,
   "id": "meaning-balloon",
   "metadata": {},
   "outputs": [
    {
     "data": {
      "text/plain": [
       "True"
      ]
     },
     "execution_count": 2,
     "metadata": {},
     "output_type": "execute_result"
    }
   ],
   "source": [
    "10 == 10"
   ]
  },
  {
   "cell_type": "code",
   "execution_count": 3,
   "id": "polyphonic-hybrid",
   "metadata": {
    "scrolled": true
   },
   "outputs": [
    {
     "data": {
      "text/plain": [
       "True"
      ]
     },
     "execution_count": 3,
     "metadata": {},
     "output_type": "execute_result"
    }
   ],
   "source": [
    "10 != 5"
   ]
  },
  {
   "cell_type": "code",
   "execution_count": 4,
   "id": "boring-wings",
   "metadata": {},
   "outputs": [
    {
     "data": {
      "text/plain": [
       "False"
      ]
     },
     "execution_count": 4,
     "metadata": {},
     "output_type": "execute_result"
    }
   ],
   "source": [
    "'Python' == 'pytho'"
   ]
  },
  {
   "cell_type": "code",
   "execution_count": 5,
   "id": "engaged-vaccine",
   "metadata": {},
   "outputs": [
    {
     "data": {
      "text/plain": [
       "True"
      ]
     },
     "execution_count": 5,
     "metadata": {},
     "output_type": "execute_result"
    }
   ],
   "source": [
    " 1 == 1.0"
   ]
  },
  {
   "cell_type": "code",
   "execution_count": 6,
   "id": "continued-office",
   "metadata": {
    "scrolled": true
   },
   "outputs": [
    {
     "data": {
      "text/plain": [
       "False"
      ]
     },
     "execution_count": 6,
     "metadata": {},
     "output_type": "execute_result"
    }
   ],
   "source": [
    "1 is 1.0"
   ]
  },
  {
   "cell_type": "code",
   "execution_count": 7,
   "id": "iraqi-disco",
   "metadata": {},
   "outputs": [
    {
     "data": {
      "text/plain": [
       "94430811292288"
      ]
     },
     "execution_count": 7,
     "metadata": {},
     "output_type": "execute_result"
    }
   ],
   "source": [
    "id(1)"
   ]
  },
  {
   "cell_type": "code",
   "execution_count": 8,
   "id": "classical-administrator",
   "metadata": {},
   "outputs": [
    {
     "data": {
      "text/plain": [
       "140326054515184"
      ]
     },
     "execution_count": 8,
     "metadata": {},
     "output_type": "execute_result"
    }
   ],
   "source": [
    "id(1.0)"
   ]
  }
 ],
 "metadata": {
  "kernelspec": {
   "display_name": "Python 3",
   "language": "python",
   "name": "python3"
  },
  "language_info": {
   "codemirror_mode": {
    "name": "ipython",
    "version": 3
   },
   "file_extension": ".py",
   "mimetype": "text/x-python",
   "name": "python",
   "nbconvert_exporter": "python",
   "pygments_lexer": "ipython3",
   "version": "3.7.9"
  }
 },
 "nbformat": 4,
 "nbformat_minor": 5
}
