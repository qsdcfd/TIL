{
 "cells": [
  {
   "cell_type": "markdown",
   "id": "charming-expert",
   "metadata": {},
   "source": [
    "문자열을 묶는 방법에는 ' '(작은 따옴표) , \" \"(큰 따옴표), ''' , \"\"\" 등이 있습니다.\n",
    "-->이렇게 다양한 방식이 있는 이유는 문자열 안에 큰 따옴표와 작은 따옴표가 동시에 존재할 가능성도 있기 때문입니다.\n",
    "print()함수를 이용하여 출력하면 문자열만 나오고 묶은 따옴표들은 출력이되지 않습니다.\n",
    "문자열에 \",\" 특수문자를 넣고 싶으면 이스케이프라고 불리는 \\를 이용하면 됩니다.\n",
    "\n",
    "파이썬 셸에서는 문자열이나 변수를 그대로 입력하면 출력 결과가 문자열이라는 것을 정확하게 표현하기 위해 작은따옴표로 묶인 문자열이 출력됩니다.\n",
    "\n",
    "스크립트 파일에서는 문자열이나 변수만으로 출력을 할 수 없으므로 print를 사용합니다."
   ]
  },
  {
   "cell_type": "code",
   "execution_count": 1,
   "id": "genuine-surgery",
   "metadata": {},
   "outputs": [
    {
     "data": {
      "text/plain": [
       "\"Python isn't difficult\""
      ]
     },
     "execution_count": 1,
     "metadata": {},
     "output_type": "execute_result"
    }
   ],
   "source": [
    "s = \"Python isn't difficult\"\n",
    "s"
   ]
  },
  {
   "cell_type": "code",
   "execution_count": 2,
   "id": "protecting-naples",
   "metadata": {},
   "outputs": [
    {
     "data": {
      "text/plain": [
       "'He said \"Python is easy\"'"
      ]
     },
     "execution_count": 2,
     "metadata": {},
     "output_type": "execute_result"
    }
   ],
   "source": [
    "a= 'He said \"Python is easy\"'\n",
    "a"
   ]
  },
  {
   "cell_type": "markdown",
   "id": "growing-alarm",
   "metadata": {},
   "source": [
    "심사문제\n"
   ]
  },
  {
   "cell_type": "code",
   "execution_count": 6,
   "id": "middle-kinase",
   "metadata": {},
   "outputs": [
    {
     "name": "stdout",
     "output_type": "stream",
     "text": [
      " 'Python' is a \"programming language\"\n",
      "that lets you work quickly\n",
      "and\n",
      "integrate systems more effectively.\n"
     ]
    }
   ],
   "source": [
    "s= \"\"\" \\'Python\\' is a \\\"programming language\\\"\n",
    "that lets you work quickly\n",
    "and\n",
    "integrate systems more effectively.\"\"\"\n",
    "print(s)"
   ]
  },
  {
   "cell_type": "code",
   "execution_count": null,
   "id": "laughing-lying",
   "metadata": {},
   "outputs": [],
   "source": []
  }
 ],
 "metadata": {
  "kernelspec": {
   "display_name": "Python 3",
   "language": "python",
   "name": "python3"
  },
  "language_info": {
   "codemirror_mode": {
    "name": "ipython",
    "version": 3
   },
   "file_extension": ".py",
   "mimetype": "text/x-python",
   "name": "python",
   "nbconvert_exporter": "python",
   "pygments_lexer": "ipython3",
   "version": "3.7.9"
  }
 },
 "nbformat": 4,
 "nbformat_minor": 5
}
