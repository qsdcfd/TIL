{
  "nbformat": 4,
  "nbformat_minor": 0,
  "metadata": {
    "colab": {
      "provenance": [],
      "authorship_tag": "ABX9TyNYg/0Xx2mCP1Q9c6wXEKi5"
    },
    "kernelspec": {
      "name": "python3",
      "display_name": "Python 3"
    },
    "language_info": {
      "name": "python"
    }
  },
  "cells": [
    {
      "cell_type": "markdown",
      "source": [
        "**1-1**"
      ],
      "metadata": {
        "id": "bCa3FeGYJPgr"
      }
    },
    {
      "cell_type": "code",
      "execution_count": 5,
      "metadata": {
        "id": "Wr3GpXT4I_vS"
      },
      "outputs": [],
      "source": [
        "def pmf_coin(outcome):\n",
        "    '''\n",
        "    본 함수는 동전을 던졌을 때 나오는 결과(Head 혹은 Tail)를 입력값으로 받는다.\n",
        "    입력값 outcome이 Head와 Tail 둘 중 하나일 때는 0.5, 그 외에는 0이 확률이 된다.\n",
        "    확률 변수의 형식으로, 주어진 outcome에 대한 확률을 출력한다.\n",
        "    '''\n",
        "\n",
        "    \n",
        "    if outcome in ['Head','Tail']:\n",
        "        p = 0.5\n",
        "    else:\n",
        "        p=0\n",
        "\n",
        "    print(f\"P(X = x) = {p:.2f}\")"
      ]
    },
    {
      "cell_type": "code",
      "source": [
        "pmf_coin('Head')\n",
        "\n",
        "pmf_coin('Tail')\n",
        "\n",
        "pmf_coin('etc')"
      ],
      "metadata": {
        "colab": {
          "base_uri": "https://localhost:8080/"
        },
        "id": "2Q0OGbaqJHUP",
        "outputId": "7713ffb6-2c73-476b-906b-c2d86b179ab3"
      },
      "execution_count": 6,
      "outputs": [
        {
          "output_type": "stream",
          "name": "stdout",
          "text": [
            "P(X = x) = 0.50\n",
            "P(X = x) = 0.50\n",
            "P(X = x) = 0.00\n"
          ]
        }
      ]
    },
    {
      "cell_type": "markdown",
      "source": [
        "**1-2**"
      ],
      "metadata": {
        "id": "B3bCmascJR7n"
      }
    },
    {
      "cell_type": "code",
      "source": [
        "def pmf_binom(p, x):\n",
        "    '''\n",
        "    주어진 p와 x에 관한 베르누이 분포의 확률 값을 반환한다.\n",
        "    x는 0과 1만이 가능하다.\n",
        "    '''\n",
        "    if x in [0,1]:\n",
        "        prob = ((p)**x)*(1-p)**(1-x)\n",
        "    else:\n",
        "        prob = 0\n",
        "    print(f\"P(X={x}; p={p}) = {prob:.2f}\")\n",
        "    return prob\n"
      ],
      "metadata": {
        "id": "AHxK-2I0JTSh"
      },
      "execution_count": 15,
      "outputs": []
    },
    {
      "cell_type": "code",
      "source": [
        "pmf_binom(p=0.7, x=1)\n",
        "\n",
        "pmf_binom(p=0.2, x=1)\n",
        "\n",
        "pmf_binom(p=0.2, x=0)\n"
      ],
      "metadata": {
        "colab": {
          "base_uri": "https://localhost:8080/"
        },
        "id": "Bo8cdVSvLHDU",
        "outputId": "5026d877-04cc-4ef8-e5ea-1726dfa52937"
      },
      "execution_count": 16,
      "outputs": [
        {
          "output_type": "stream",
          "name": "stdout",
          "text": [
            "P(X=1; p=0.7) = 0.70\n",
            "P(X=1; p=0.2) = 0.20\n",
            "P(X=0; p=0.2) = 0.80\n"
          ]
        },
        {
          "output_type": "execute_result",
          "data": {
            "text/plain": [
              "0.8"
            ]
          },
          "metadata": {},
          "execution_count": 16
        }
      ]
    },
    {
      "cell_type": "markdown",
      "source": [
        "**1.3**"
      ],
      "metadata": {
        "id": "HgkQ-cqnUPvi"
      }
    },
    {
      "cell_type": "code",
      "source": [
        "def pdf_unif(x, a=0, b=1):\n",
        "    if a < x <b :\n",
        "        prob = 1/(b-a)*(x-a)\n",
        "    else:\n",
        "        prob = 0\n",
        "    print(\"P(X=%s; a=%s, b=%s) = %.2f\"%(x, a, b, prob))"
      ],
      "metadata": {
        "id": "oSxp7tasMcKA"
      },
      "execution_count": 21,
      "outputs": []
    },
    {
      "cell_type": "code",
      "source": [
        "pdf_unif(x=0.5)\n",
        "\n",
        "pdf_unif(x=0, a=-1, b=2)\n",
        "\n",
        "pdf_unif(x=2.5, a=0, b=3.5)"
      ],
      "metadata": {
        "colab": {
          "base_uri": "https://localhost:8080/"
        },
        "id": "mMlrrstzM7qA",
        "outputId": "65303d01-eab1-4947-e17c-1e2e4afedeaf"
      },
      "execution_count": 22,
      "outputs": [
        {
          "output_type": "stream",
          "name": "stdout",
          "text": [
            "P(X=0.5; a=0, b=1) = 0.50\n",
            "P(X=0; a=-1, b=2) = 0.33\n",
            "P(X=2.5; a=0, b=3.5) = 0.71\n"
          ]
        }
      ]
    },
    {
      "cell_type": "markdown",
      "source": [
        "**1.4**"
      ],
      "metadata": {
        "id": "k5g0y7yuURvE"
      }
    },
    {
      "cell_type": "code",
      "source": [
        "from scipy.stats import norm # scipy 패키지를 사용합니다. \n",
        "def pdf_norm(x, mu=0, sigma=1):\n",
        "    '''\n",
        "    주어진 x, mu, sigma에 관한 정규 분포의 확률 값을 출력한다.\n",
        "    '''\n",
        "    prob = norm.pdf(x, mu, sigma)\n",
        "    print(f\"P(X={x}; mu={mu}, sigma={sigma}) = {prob:.2f}\")"
      ],
      "metadata": {
        "id": "EKNCAT6xUL69"
      },
      "execution_count": 31,
      "outputs": []
    },
    {
      "cell_type": "code",
      "source": [
        "pdf_norm(0)\n",
        "\n",
        "pdf_norm(1.96, 0, 1)\n",
        "\n",
        "pdf_norm(-1, 2, 10)\n"
      ],
      "metadata": {
        "colab": {
          "base_uri": "https://localhost:8080/"
        },
        "id": "CvhQGOFcUUmE",
        "outputId": "5b757c9a-4cec-43f8-db2b-ded73a2e7cb7"
      },
      "execution_count": 32,
      "outputs": [
        {
          "output_type": "stream",
          "name": "stdout",
          "text": [
            "P(X=0; mu=0, sigma=1) = 0.40\n",
            "P(X=1.96; mu=0, sigma=1) = 0.06\n",
            "P(X=-1; mu=2, sigma=10) = 0.04\n"
          ]
        }
      ]
    },
    {
      "cell_type": "code",
      "source": [
        "from scipy.stats import binom # scipy 패키지를 사용합니다. \n",
        "def pdf_binom(x, n, p):\n",
        "    '''\n",
        "    주어진 x, n, p 관한 이항 분포의 확률 값을 출력한다.\n",
        "    '''\n",
        "    prob = binom.pmf(x,n,p)\n",
        "    print(f\"P(X={x}; n={n}, p={p}) = {prob:.2f}\")"
      ],
      "metadata": {
        "id": "7-vEoBe2VFCz"
      },
      "execution_count": 35,
      "outputs": []
    },
    {
      "cell_type": "code",
      "source": [
        "pdf_binom(x=3, n=10, p=0.3)\n",
        "\n",
        "pdf_binom(x=7, n=10, p=0.7)\n",
        "\n",
        "pdf_binom(x=50, n=100, p=0.1)"
      ],
      "metadata": {
        "colab": {
          "base_uri": "https://localhost:8080/"
        },
        "id": "sJlG8sWkYg2_",
        "outputId": "b25264ae-6a4a-4b51-cfa3-de7c86da90c4"
      },
      "execution_count": 36,
      "outputs": [
        {
          "output_type": "stream",
          "name": "stdout",
          "text": [
            "P(X=3; n=10, p=0.3) = 0.27\n",
            "P(X=7; n=10, p=0.7) = 0.27\n",
            "P(X=50; n=100, p=0.1) = 0.00\n"
          ]
        }
      ]
    },
    {
      "cell_type": "code",
      "source": [],
      "metadata": {
        "id": "6Ddb3EGuYi_a"
      },
      "execution_count": null,
      "outputs": []
    }
  ]
}