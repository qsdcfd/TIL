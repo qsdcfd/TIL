{
  "nbformat": 4,
  "nbformat_minor": 0,
  "metadata": {
    "colab": {
      "name": "컴퓨팅 사고 Computational Thinking(2진법)",
      "provenance": []
    },
    "kernelspec": {
      "name": "python3",
      "display_name": "Python 3"
    },
    "language_info": {
      "name": "python"
    }
  },
  "cells": [
    {
      "cell_type": "markdown",
      "source": [
        "### 학습 목표\n",
        "\n",
        "컴퓨터 과학이 무엇인지 정의하고, 컴퓨터가 정보를 표현하는 방법에 대해 설명할 수 있습니다.\n",
        "\n",
        "<br>\n",
        "\n",
        "### 핵심 단어\n",
        "\n",
        "- 컴퓨터 과학\n",
        "\n",
        "- 2진법\n",
        "\n",
        "- 비트\n",
        "\n",
        "- 바이트\n",
        "\n",
        "---\n",
        "\n",
        "\n",
        "#### 컴퓨터 과학\n",
        "\n",
        "![](https://images.velog.io/images/qsdcfd/post/aae1f45f-437d-4608-b5ca-a7c71ed65ec9/image.png)\n",
        "\n",
        "*정의\n",
        "\n",
        ">위의 이미지처럼, 입력을 전달받아 출력을 만들어내는 중간과정을 말할 수도 있고, 어떠한 컴퓨터적 문제를 해결하기 위한 방식이라고도 이야기합니다.(ex:생명과학, 지구과학)\n",
        "\n",
        "<br>\n",
        "\n",
        "#### 정보의 표현\n",
        "\n",
        "필요성: 입출력을 표현하기 위해선 기본적으로 공통 언어가 필요합니다.\n",
        "   \n",
        "<br>\n",
        "\n",
        "*2진법\n",
        "\n",
        "- 0과 1로만 표현하는 것\n",
        "\n",
        "- 어떻게 0과1만으로 글자, 사진, 영상, 소리등을 저장할 수 있을까요?\n",
        "\n",
        "   - 자릿수로 표현하기(2의 거듭제곱)\n",
        "\n",
        "![](https://images.velog.io/images/qsdcfd/post/065a846f-6b6b-4d33-bad0-166790ab44f4/image.png)\n",
        "\n",
        "\n",
        "- 컴퓨터에서 많은 스위치는 on/off상태를 0과1로 표현이됩니다.\n",
        " \n",
        "\n",
        "<br>\n",
        "\n",
        "#### 비트(Bit)\n",
        "\n",
        "0과 1 값만 가지고, 정보 저장 및 연산 수행을 하는 단위입니다.\n",
        " \n",
        "그러나, 비트 한 개는 많은 양의 데이터를 나타내기에 턱없이 부족하다. 그렇기 때문에 여러 숫자 조합을 컴퓨터에 나타내기 위해 비트열을 사용합니다.\n",
        "\n",
        "\n",
        "그 결과, 디지털 데이터 또한 여러 개의 비트로 나타내어서 많은 양의 정보를 저장하고 수학적 연산이 가능합니다.\n",
        "\n",
        "<br>\n",
        "\n",
        "#### 바이트(Byte)\n",
        "\n",
        "\n",
        "![](https://images.velog.io/images/qsdcfd/post/f615fd69-36ff-4443-8e8b-aa9c9148e1a5/image.png)\n",
        "\n",
        "\n",
        "바이트는 여덟 개의 비트가 모여 만들어진 것입니다.\n",
        "\n",
        "하나의 바이트에 여덟 개의 비트가 있고, 비트 하나는 0과 1로 표현될 수 있기에  바이트는 0에서 255까지 256개의 상태를 표현이 가능합니다.\n",
        "\n",
        "그렇다면, 바이트가 모이면 어떻게 될까요?\n",
        "\n",
        "![](https://images.velog.io/images/qsdcfd/post/22a47b10-a462-4876-b1be-4f7ed6ee0194/image.png)"
      ],
      "metadata": {
        "id": "0uNEoOxdwjby"
      }
    },
    {
      "cell_type": "code",
      "source": [
        ""
      ],
      "metadata": {
        "id": "IijS2MkewlF9"
      },
      "execution_count": null,
      "outputs": []
    }
  ]
}