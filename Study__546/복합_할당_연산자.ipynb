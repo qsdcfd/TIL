{
  "nbformat": 4,
  "nbformat_minor": 0,
  "metadata": {
    "colab": {
      "provenance": [],
      "authorship_tag": "ABX9TyNLWJZWcD/T4FPve1AgvISZ"
    },
    "kernelspec": {
      "name": "python3",
      "display_name": "Python 3"
    },
    "language_info": {
      "name": "python"
    }
  },
  "cells": [
    {
      "cell_type": "markdown",
      "source": [
        "\n",
        "# 객체지향 상용구\n",
        "## 연산자 오버로딩: 제대로하기\n",
        "###  복합 할당 연산자\n",
        "\n",
        ">객체 내용을 변경하는 연산자를 보여주기 위해서 BingoCage 클래스를 확장해서 __add__와 __iadd__()를 구현(새로운 서브클래스: AddableBingoCage)\n",
        "\n",
        "```\n",
        "#AddabieBingoCage객체 사용법\n",
        "\n",
        "vowels = 'AEIOU'\n",
        "globe = AddableBingoCage(vowels)\n",
        "globe.inspect()\n",
        "globe.pick() in vowels\n",
        "len(globe.inspect())\n",
        "globe2 = AddableBingoCage(\"XYZ\")\n",
        "globe3 = globe + globe2\n",
        "len(globe3.inspect())\n",
        "void = globe + [10,20]\n",
        "```\n",
        "\n",
        "<br>\n",
        "\n",
        "**AddableBingoCage는 가변형이다.**\n",
        "\n",
        "```\n",
        "#+=연산자를 사용해서 기존 AddabieBingoCage 객체에 항목 추가\n",
        "\n",
        "globe_orig = globe\n",
        "len(globe.insepct())\n",
        "globe += globe2\n",
        "len(globe.inspect())\n",
        "globe += ['M', 'N']\n",
        "len(globe.inspect()))\n",
        "globe is globe_orig\n",
        "globe +=1\n",
        "```\n",
        "\n",
        "두 번째 피연산자의 측면에서 보면 += 연산자가 + 연산자보다 자유로우므로, +연산자의 경우 서로 다른 자료형을 받으면 결과가 어떤 자료형이 되어야 하는지 혼란스러울 수 있고, 양쪽 피연산자가 동일한 자료형이길 원하므로 += 연산자의 경우에는 이런 혼란이 없고, 왼쪽 객체의 내용이 갱신되므로 연산 결과 자료형이 명확하다.\n",
        "\n",
        "<br>\n",
        "\n",
        "```\n",
        "import itertools\n",
        "\n",
        "from tombola import Tombola\n",
        "from bingo import BingoCage\n",
        "\n",
        "class AddableBingoCage(BingoCage):\n",
        "\t\n",
        "    def __add__(self, other):\n",
        "    \tif isinstance(other, Tombola):\n",
        "        \treturn AddableBingoCage(self.inspect() + other.inspect())\n",
        "        else:\n",
        "        \treturn NotImplemented\n",
        "            \n",
        "     def __iadd__(self, other):\n",
        "     \tif isinstance(other, Tombola):\n",
        "        \tother_iterable = other.inspect()\n",
        "        else:\n",
        "        \ttry:\n",
        "            \tother_iterable = iter(ohter)\n",
        "                \n",
        "            except TypeError:\n",
        "            \tself_cls = type(self).__name__\n",
        "                msg = \"right operand in += must be {!r} or an iterable\"\n",
        "                raise TypeError(msg.format(self_cls))\n",
        "       self.load(other_iterable)\n",
        "       return self\n",
        "```\n",
        "\n",
        "\n",
        "<br>\n",
        "\n",
        "![](https://velog.velcdn.com/images/qsdcfd/post/1f0ae443-4b15-485d-b110-2a0b4f8b8a02/image.png)\n",
        "\n",
        "\n",
        "\n",
        "\n"
      ],
      "metadata": {
        "id": "VqmwvOiTxTNZ"
      }
    },
    {
      "cell_type": "code",
      "source": [],
      "metadata": {
        "id": "BntF1m9HxWy5"
      },
      "execution_count": null,
      "outputs": []
    }
  ]
}