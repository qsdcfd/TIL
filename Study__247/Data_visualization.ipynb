{
 "cells": [
  {
   "cell_type": "code",
   "execution_count": 1,
   "id": "728b1be7",
   "metadata": {},
   "outputs": [],
   "source": [
    "import os\n",
    "import gc\n",
    "import warnings\n",
    "warnings.filterwarnings(\"ignore\")\n",
    "\n",
    "\n",
    "import numpy as np\n",
    "import pandas as pd\n",
    "import seaborn as sns\n",
    "import matplotlib.pyplot as plt"
   ]
  },
  {
   "cell_type": "code",
   "execution_count": 17,
   "id": "75dc0ffa",
   "metadata": {},
   "outputs": [
    {
     "data": {
      "text/html": [
       "        <script type=\"text/javascript\">\n",
       "        window.PlotlyConfig = {MathJaxConfig: 'local'};\n",
       "        if (window.MathJax) {MathJax.Hub.Config({SVG: {font: \"STIX-Web\"}});}\n",
       "        if (typeof require !== 'undefined') {\n",
       "        require.undef(\"plotly\");\n",
       "        requirejs.config({\n",
       "            paths: {\n",
       "                'plotly': ['https://cdn.plot.ly/plotly-2.11.1.min']\n",
       "            }\n",
       "        });\n",
       "        require(['plotly'], function(Plotly) {\n",
       "            window._Plotly = Plotly;\n",
       "        });\n",
       "        }\n",
       "        </script>\n",
       "        "
      ]
     },
     "metadata": {},
     "output_type": "display_data"
    }
   ],
   "source": [
    "import datetime, nltk, warnings\n",
    "import matplotlib as mpl\n",
    "import matplotlib.cm as cm\n",
    "import itertools\n",
    "from pathlib import Path\n",
    "from sklearn.preprocessing import StandardScaler\n",
    "from sklearn.cluster import KMeans\n",
    "from sklearn.metrics import silhouette_samples, silhouette_score\n",
    "from sklearn import preprocessing, model_selection, metrics, feature_selection\n",
    "from sklearn.model_selection import GridSearchCV, learning_curve\n",
    "from sklearn.svm import SVC\n",
    "from sklearn.metrics import confusion_matrix\n",
    "from sklearn import neighbors, linear_model, svm, tree, ensemble\n",
    "from wordcloud import WordCloud, STOPWORDS\n",
    "from sklearn.ensemble import AdaBoostClassifier\n",
    "from sklearn.decomposition import PCA\n",
    "from IPython.display import display, HTML\n",
    "import plotly.graph_objs as go\n",
    "from plotly.offline import init_notebook_mode,iplot\n",
    "init_notebook_mode(connected=True)\n",
    "warnings.filterwarnings(\"ignore\")\n",
    "plt.rcParams[\"patch.force_edgecolor\"] = True\n",
    "plt.style.use('fivethirtyeight')\n",
    "mpl.rc('patch', edgecolor = 'dimgray', linewidth=1)\n",
    "%matplotlib inline"
   ]
  },
  {
   "cell_type": "code",
   "execution_count": 27,
   "id": "8aa0c370",
   "metadata": {},
   "outputs": [],
   "source": [
    "plt.rc(\"font\", family = \"Malgun Gothic\")\n",
    "sns.set(font=\"Malgun Gothic\", \n",
    "rc={\"axes.unicode_minus\":False}, style='darkgrid')"
   ]
  },
  {
   "cell_type": "code",
   "execution_count": 29,
   "id": "79185d87",
   "metadata": {},
   "outputs": [],
   "source": [
    "\n",
    "plt.rcParams['axes.unicode_minus'] = False\n",
    "plt.rcParams['font.family'] = 'AppleGothic'"
   ]
  },
  {
   "cell_type": "markdown",
   "id": "362f0a0b",
   "metadata": {},
   "source": [
    "### 데이터 로드"
   ]
  },
  {
   "cell_type": "code",
   "execution_count": 2,
   "id": "da192c85",
   "metadata": {},
   "outputs": [
    {
     "data": {
      "text/html": [
       "<div>\n",
       "<style scoped>\n",
       "    .dataframe tbody tr th:only-of-type {\n",
       "        vertical-align: middle;\n",
       "    }\n",
       "\n",
       "    .dataframe tbody tr th {\n",
       "        vertical-align: top;\n",
       "    }\n",
       "\n",
       "    .dataframe thead th {\n",
       "        text-align: right;\n",
       "    }\n",
       "</style>\n",
       "<table border=\"1\" class=\"dataframe\">\n",
       "  <thead>\n",
       "    <tr style=\"text-align: right;\">\n",
       "      <th></th>\n",
       "      <th>id</th>\n",
       "      <th>customer_id</th>\n",
       "      <th>course_id</th>\n",
       "      <th>type</th>\n",
       "      <th>state</th>\n",
       "      <th>course_title</th>\n",
       "      <th>category_title</th>\n",
       "      <th>format</th>\n",
       "      <th>completed_at</th>\n",
       "      <th>transaction_amount</th>\n",
       "      <th>coupon_title</th>\n",
       "      <th>coupon_discount_amount</th>\n",
       "      <th>sale_price</th>\n",
       "      <th>tax_free_amount</th>\n",
       "      <th>pg</th>\n",
       "      <th>method</th>\n",
       "      <th>subcategory_title</th>\n",
       "      <th>marketing_start_at</th>\n",
       "    </tr>\n",
       "  </thead>\n",
       "  <tbody>\n",
       "    <tr>\n",
       "      <th>0</th>\n",
       "      <td>970634</td>\n",
       "      <td>504760.0</td>\n",
       "      <td>201435.0</td>\n",
       "      <td>ORDER</td>\n",
       "      <td>CANCELLED</td>\n",
       "      <td>올인원 패키지 : 알고리즘 기술면접 완전 정복</td>\n",
       "      <td>프로그래밍</td>\n",
       "      <td>올인원</td>\n",
       "      <td>2021-03-28 15:00:11</td>\n",
       "      <td>90500</td>\n",
       "      <td>20000.0원 할인</td>\n",
       "      <td>20000.0</td>\n",
       "      <td>110500.0</td>\n",
       "      <td>110500.0</td>\n",
       "      <td>default</td>\n",
       "      <td>VBANK</td>\n",
       "      <td>개발자 커리어</td>\n",
       "      <td>2021-03-28 15:00:11</td>\n",
       "    </tr>\n",
       "    <tr>\n",
       "      <th>1</th>\n",
       "      <td>970650</td>\n",
       "      <td>432862.0</td>\n",
       "      <td>203178.0</td>\n",
       "      <td>ORDER</td>\n",
       "      <td>CANCELLED</td>\n",
       "      <td>초격차 패키지 : 한번에 끝내는 영상 촬영과 편집</td>\n",
       "      <td>영상/3D</td>\n",
       "      <td>올인원</td>\n",
       "      <td>2021-03-28 15:16:53</td>\n",
       "      <td>96000</td>\n",
       "      <td>20000.0원 할인</td>\n",
       "      <td>20000.0</td>\n",
       "      <td>116000.0</td>\n",
       "      <td>116000.0</td>\n",
       "      <td>default</td>\n",
       "      <td>CARD</td>\n",
       "      <td>영상 편집</td>\n",
       "      <td>2020-12-02 0:00:00</td>\n",
       "    </tr>\n",
       "    <tr>\n",
       "      <th>2</th>\n",
       "      <td>970657</td>\n",
       "      <td>72297.0</td>\n",
       "      <td>204246.0</td>\n",
       "      <td>PAYMENT</td>\n",
       "      <td>COMPLETED</td>\n",
       "      <td>시크릿코드 : 프론트엔드 실무 완성편</td>\n",
       "      <td>프로그래밍</td>\n",
       "      <td>스쿨 온라인</td>\n",
       "      <td>2021-03-28 15:21:43</td>\n",
       "      <td>171810</td>\n",
       "      <td>19090.0원 할인</td>\n",
       "      <td>19090.0</td>\n",
       "      <td>190900.0</td>\n",
       "      <td>190900.0</td>\n",
       "      <td>default</td>\n",
       "      <td>CARD</td>\n",
       "      <td>NaN</td>\n",
       "      <td>2021-03-04 0:00:00</td>\n",
       "    </tr>\n",
       "    <tr>\n",
       "      <th>3</th>\n",
       "      <td>970656</td>\n",
       "      <td>72297.0</td>\n",
       "      <td>204246.0</td>\n",
       "      <td>ORDER</td>\n",
       "      <td>CANCELLED</td>\n",
       "      <td>시크릿코드 : 프론트엔드 실무 완성편</td>\n",
       "      <td>프로그래밍</td>\n",
       "      <td>스쿨 온라인</td>\n",
       "      <td>2021-03-28 15:21:43</td>\n",
       "      <td>171810</td>\n",
       "      <td>19090.0원 할인</td>\n",
       "      <td>19090.0</td>\n",
       "      <td>190900.0</td>\n",
       "      <td>190900.0</td>\n",
       "      <td>default</td>\n",
       "      <td>CARD</td>\n",
       "      <td>NaN</td>\n",
       "      <td>2021-03-04 0:00:00</td>\n",
       "    </tr>\n",
       "    <tr>\n",
       "      <th>4</th>\n",
       "      <td>970658</td>\n",
       "      <td>478028.0</td>\n",
       "      <td>201797.0</td>\n",
       "      <td>PAYMENT</td>\n",
       "      <td>COMPLETED</td>\n",
       "      <td>올인원 패키지 : 직장인 필수 스킬 3종 세트 MAX</td>\n",
       "      <td>업무 생산성</td>\n",
       "      <td>올인원</td>\n",
       "      <td>2021-03-28 15:21:54</td>\n",
       "      <td>97500</td>\n",
       "      <td>20000.0원 할인</td>\n",
       "      <td>20000.0</td>\n",
       "      <td>117500.0</td>\n",
       "      <td>117500.0</td>\n",
       "      <td>default</td>\n",
       "      <td>CARD</td>\n",
       "      <td>PPT/보고서</td>\n",
       "      <td>2019-11-14 0:00:00</td>\n",
       "    </tr>\n",
       "    <tr>\n",
       "      <th>5</th>\n",
       "      <td>970655</td>\n",
       "      <td>478028.0</td>\n",
       "      <td>201797.0</td>\n",
       "      <td>ORDER</td>\n",
       "      <td>CANCELLED</td>\n",
       "      <td>올인원 패키지 : 직장인 필수 스킬 3종 세트 MAX</td>\n",
       "      <td>업무 생산성</td>\n",
       "      <td>올인원</td>\n",
       "      <td>2021-03-28 15:21:56</td>\n",
       "      <td>97500</td>\n",
       "      <td>20000.0원 할인</td>\n",
       "      <td>20000.0</td>\n",
       "      <td>117500.0</td>\n",
       "      <td>117500.0</td>\n",
       "      <td>default</td>\n",
       "      <td>CARD</td>\n",
       "      <td>PPT/보고서</td>\n",
       "      <td>2019-11-14 0:00:00</td>\n",
       "    </tr>\n",
       "    <tr>\n",
       "      <th>6</th>\n",
       "      <td>970614</td>\n",
       "      <td>477910.0</td>\n",
       "      <td>1.0</td>\n",
       "      <td>ORDER</td>\n",
       "      <td>CANCELLED</td>\n",
       "      <td>프로모션 : 2021 내 커리어 지켜 줄 UX/UI 디자인 한끝세트 (3월 프리패스)</td>\n",
       "      <td>크리에이티브</td>\n",
       "      <td>올인원</td>\n",
       "      <td>2021-03-28 15:22:36</td>\n",
       "      <td>299000</td>\n",
       "      <td>0.0원 할인</td>\n",
       "      <td>0.0</td>\n",
       "      <td>299000.0</td>\n",
       "      <td>299000.0</td>\n",
       "      <td>default</td>\n",
       "      <td>CARD</td>\n",
       "      <td>NaN</td>\n",
       "      <td>2021-03-28 15:22:36</td>\n",
       "    </tr>\n",
       "    <tr>\n",
       "      <th>7</th>\n",
       "      <td>970664</td>\n",
       "      <td>460730.0</td>\n",
       "      <td>200622.0</td>\n",
       "      <td>ORDER</td>\n",
       "      <td>CANCELLED</td>\n",
       "      <td>올인원 패키지 : 기업가치 평가와 M&amp;A 전략 실무</td>\n",
       "      <td>부동산/금융</td>\n",
       "      <td>올인원</td>\n",
       "      <td>2021-03-28 15:25:42</td>\n",
       "      <td>112500</td>\n",
       "      <td>10000.0원 할인</td>\n",
       "      <td>10000.0</td>\n",
       "      <td>122500.0</td>\n",
       "      <td>122500.0</td>\n",
       "      <td>default</td>\n",
       "      <td>CARD</td>\n",
       "      <td>금융/투자 실무</td>\n",
       "      <td>2019-05-02 0:00:00</td>\n",
       "    </tr>\n",
       "    <tr>\n",
       "      <th>8</th>\n",
       "      <td>970669</td>\n",
       "      <td>478033.0</td>\n",
       "      <td>203178.0</td>\n",
       "      <td>PAYMENT</td>\n",
       "      <td>COMPLETED</td>\n",
       "      <td>초격차 패키지 : 한번에 끝내는 영상 촬영과 편집</td>\n",
       "      <td>영상/3D</td>\n",
       "      <td>올인원</td>\n",
       "      <td>2021-03-28 15:26:47</td>\n",
       "      <td>96000</td>\n",
       "      <td>20000.0원 할인</td>\n",
       "      <td>20000.0</td>\n",
       "      <td>116000.0</td>\n",
       "      <td>116000.0</td>\n",
       "      <td>default</td>\n",
       "      <td>CARD</td>\n",
       "      <td>영상 편집</td>\n",
       "      <td>2020-12-02 0:00:00</td>\n",
       "    </tr>\n",
       "    <tr>\n",
       "      <th>9</th>\n",
       "      <td>970667</td>\n",
       "      <td>478033.0</td>\n",
       "      <td>203178.0</td>\n",
       "      <td>ORDER</td>\n",
       "      <td>CANCELLED</td>\n",
       "      <td>초격차 패키지 : 한번에 끝내는 영상 촬영과 편집</td>\n",
       "      <td>영상/3D</td>\n",
       "      <td>올인원</td>\n",
       "      <td>2021-03-28 15:26:48</td>\n",
       "      <td>96000</td>\n",
       "      <td>20000.0원 할인</td>\n",
       "      <td>20000.0</td>\n",
       "      <td>116000.0</td>\n",
       "      <td>116000.0</td>\n",
       "      <td>default</td>\n",
       "      <td>CARD</td>\n",
       "      <td>영상 편집</td>\n",
       "      <td>2020-12-02 0:00:00</td>\n",
       "    </tr>\n",
       "  </tbody>\n",
       "</table>\n",
       "</div>"
      ],
      "text/plain": [
       "       id  customer_id  course_id     type      state  \\\n",
       "0  970634     504760.0   201435.0    ORDER  CANCELLED   \n",
       "1  970650     432862.0   203178.0    ORDER  CANCELLED   \n",
       "2  970657      72297.0   204246.0  PAYMENT  COMPLETED   \n",
       "3  970656      72297.0   204246.0    ORDER  CANCELLED   \n",
       "4  970658     478028.0   201797.0  PAYMENT  COMPLETED   \n",
       "5  970655     478028.0   201797.0    ORDER  CANCELLED   \n",
       "6  970614     477910.0        1.0    ORDER  CANCELLED   \n",
       "7  970664     460730.0   200622.0    ORDER  CANCELLED   \n",
       "8  970669     478033.0   203178.0  PAYMENT  COMPLETED   \n",
       "9  970667     478033.0   203178.0    ORDER  CANCELLED   \n",
       "\n",
       "                                      course_title category_title  format  \\\n",
       "0                        올인원 패키지 : 알고리즘 기술면접 완전 정복          프로그래밍     올인원   \n",
       "1                      초격차 패키지 : 한번에 끝내는 영상 촬영과 편집          영상/3D     올인원   \n",
       "2                             시크릿코드 : 프론트엔드 실무 완성편          프로그래밍  스쿨 온라인   \n",
       "3                             시크릿코드 : 프론트엔드 실무 완성편          프로그래밍  스쿨 온라인   \n",
       "4                    올인원 패키지 : 직장인 필수 스킬 3종 세트 MAX         업무 생산성     올인원   \n",
       "5                    올인원 패키지 : 직장인 필수 스킬 3종 세트 MAX         업무 생산성     올인원   \n",
       "6  프로모션 : 2021 내 커리어 지켜 줄 UX/UI 디자인 한끝세트 (3월 프리패스)         크리에이티브     올인원   \n",
       "7                     올인원 패키지 : 기업가치 평가와 M&A 전략 실무         부동산/금융     올인원   \n",
       "8                      초격차 패키지 : 한번에 끝내는 영상 촬영과 편집          영상/3D     올인원   \n",
       "9                      초격차 패키지 : 한번에 끝내는 영상 촬영과 편집          영상/3D     올인원   \n",
       "\n",
       "          completed_at  transaction_amount coupon_title  \\\n",
       "0  2021-03-28 15:00:11               90500  20000.0원 할인   \n",
       "1  2021-03-28 15:16:53               96000  20000.0원 할인   \n",
       "2  2021-03-28 15:21:43              171810  19090.0원 할인   \n",
       "3  2021-03-28 15:21:43              171810  19090.0원 할인   \n",
       "4  2021-03-28 15:21:54               97500  20000.0원 할인   \n",
       "5  2021-03-28 15:21:56               97500  20000.0원 할인   \n",
       "6  2021-03-28 15:22:36              299000      0.0원 할인   \n",
       "7  2021-03-28 15:25:42              112500  10000.0원 할인   \n",
       "8  2021-03-28 15:26:47               96000  20000.0원 할인   \n",
       "9  2021-03-28 15:26:48               96000  20000.0원 할인   \n",
       "\n",
       "   coupon_discount_amount  sale_price  tax_free_amount       pg method  \\\n",
       "0                 20000.0    110500.0         110500.0  default  VBANK   \n",
       "1                 20000.0    116000.0         116000.0  default   CARD   \n",
       "2                 19090.0    190900.0         190900.0  default   CARD   \n",
       "3                 19090.0    190900.0         190900.0  default   CARD   \n",
       "4                 20000.0    117500.0         117500.0  default   CARD   \n",
       "5                 20000.0    117500.0         117500.0  default   CARD   \n",
       "6                     0.0    299000.0         299000.0  default   CARD   \n",
       "7                 10000.0    122500.0         122500.0  default   CARD   \n",
       "8                 20000.0    116000.0         116000.0  default   CARD   \n",
       "9                 20000.0    116000.0         116000.0  default   CARD   \n",
       "\n",
       "  subcategory_title   marketing_start_at  \n",
       "0           개발자 커리어  2021-03-28 15:00:11  \n",
       "1             영상 편집   2020-12-02 0:00:00  \n",
       "2               NaN   2021-03-04 0:00:00  \n",
       "3               NaN   2021-03-04 0:00:00  \n",
       "4           PPT/보고서   2019-11-14 0:00:00  \n",
       "5           PPT/보고서   2019-11-14 0:00:00  \n",
       "6               NaN  2021-03-28 15:22:36  \n",
       "7          금융/투자 실무   2019-05-02 0:00:00  \n",
       "8             영상 편집   2020-12-02 0:00:00  \n",
       "9             영상 편집   2020-12-02 0:00:00  "
      ]
     },
     "execution_count": 2,
     "metadata": {},
     "output_type": "execute_result"
    }
   ],
   "source": [
    "data= pd.read_csv('../Project/final.csv')\n",
    "data.head(10)"
   ]
  },
  {
   "cell_type": "markdown",
   "id": "d81ab72f",
   "metadata": {},
   "source": [
    "### Data_check"
   ]
  },
  {
   "cell_type": "code",
   "execution_count": 3,
   "id": "49e7f424",
   "metadata": {},
   "outputs": [
    {
     "data": {
      "text/plain": [
       "id                            0\n",
       "customer_id                   0\n",
       "course_id                     0\n",
       "type                          0\n",
       "state                         0\n",
       "course_title                  0\n",
       "category_title                0\n",
       "format                        0\n",
       "completed_at                  0\n",
       "transaction_amount            0\n",
       "coupon_title                  0\n",
       "coupon_discount_amount        0\n",
       "sale_price                    0\n",
       "tax_free_amount               0\n",
       "pg                            0\n",
       "method                        0\n",
       "subcategory_title         19812\n",
       "marketing_start_at            0\n",
       "dtype: int64"
      ]
     },
     "execution_count": 3,
     "metadata": {},
     "output_type": "execute_result"
    }
   ],
   "source": [
    "data.isnull().sum()"
   ]
  },
  {
   "cell_type": "code",
   "execution_count": 8,
   "id": "a201dd56",
   "metadata": {},
   "outputs": [
    {
     "data": {
      "text/plain": [
       "id                        105402\n",
       "customer_id                53742\n",
       "course_id                   1351\n",
       "type                           3\n",
       "state                          5\n",
       "course_title                1640\n",
       "category_title                15\n",
       "format                        15\n",
       "completed_at               98565\n",
       "transaction_amount          2391\n",
       "coupon_title                1884\n",
       "coupon_discount_amount      1502\n",
       "sale_price                   741\n",
       "tax_free_amount              741\n",
       "pg                             6\n",
       "method                         8\n",
       "subcategory_title             33\n",
       "marketing_start_at         16937\n",
       "dtype: int64"
      ]
     },
     "execution_count": 8,
     "metadata": {},
     "output_type": "execute_result"
    }
   ],
   "source": [
    "data.nunique()"
   ]
  },
  {
   "cell_type": "code",
   "execution_count": 4,
   "id": "31510ec3",
   "metadata": {},
   "outputs": [
    {
     "name": "stdout",
     "output_type": "stream",
     "text": [
      "<class 'pandas.core.frame.DataFrame'>\n",
      "RangeIndex: 105402 entries, 0 to 105401\n",
      "Data columns (total 18 columns):\n",
      " #   Column                  Non-Null Count   Dtype  \n",
      "---  ------                  --------------   -----  \n",
      " 0   id                      105402 non-null  int64  \n",
      " 1   customer_id             105402 non-null  float64\n",
      " 2   course_id               105402 non-null  float64\n",
      " 3   type                    105402 non-null  object \n",
      " 4   state                   105402 non-null  object \n",
      " 5   course_title            105402 non-null  object \n",
      " 6   category_title          105402 non-null  object \n",
      " 7   format                  105402 non-null  object \n",
      " 8   completed_at            105402 non-null  object \n",
      " 9   transaction_amount      105402 non-null  int64  \n",
      " 10  coupon_title            105402 non-null  object \n",
      " 11  coupon_discount_amount  105402 non-null  float64\n",
      " 12  sale_price              105402 non-null  float64\n",
      " 13  tax_free_amount         105402 non-null  float64\n",
      " 14  pg                      105402 non-null  object \n",
      " 15  method                  105402 non-null  object \n",
      " 16  subcategory_title       85590 non-null   object \n",
      " 17  marketing_start_at      105402 non-null  object \n",
      "dtypes: float64(5), int64(2), object(11)\n",
      "memory usage: 14.5+ MB\n"
     ]
    }
   ],
   "source": [
    "data.info()"
   ]
  },
  {
   "cell_type": "code",
   "execution_count": 5,
   "id": "250179f6",
   "metadata": {},
   "outputs": [
    {
     "data": {
      "text/html": [
       "<div>\n",
       "<style scoped>\n",
       "    .dataframe tbody tr th:only-of-type {\n",
       "        vertical-align: middle;\n",
       "    }\n",
       "\n",
       "    .dataframe tbody tr th {\n",
       "        vertical-align: top;\n",
       "    }\n",
       "\n",
       "    .dataframe thead th {\n",
       "        text-align: right;\n",
       "    }\n",
       "</style>\n",
       "<table border=\"1\" class=\"dataframe\">\n",
       "  <thead>\n",
       "    <tr style=\"text-align: right;\">\n",
       "      <th></th>\n",
       "      <th>id</th>\n",
       "      <th>customer_id</th>\n",
       "      <th>course_id</th>\n",
       "      <th>transaction_amount</th>\n",
       "      <th>coupon_discount_amount</th>\n",
       "      <th>sale_price</th>\n",
       "      <th>tax_free_amount</th>\n",
       "    </tr>\n",
       "  </thead>\n",
       "  <tbody>\n",
       "    <tr>\n",
       "      <th>count</th>\n",
       "      <td>1.054020e+05</td>\n",
       "      <td>105402.000000</td>\n",
       "      <td>105402.000000</td>\n",
       "      <td>1.054020e+05</td>\n",
       "      <td>1.054020e+05</td>\n",
       "      <td>1.054020e+05</td>\n",
       "      <td>1.054020e+05</td>\n",
       "    </tr>\n",
       "    <tr>\n",
       "      <th>mean</th>\n",
       "      <td>1.147066e+06</td>\n",
       "      <td>417240.724227</td>\n",
       "      <td>193830.133660</td>\n",
       "      <td>1.463583e+05</td>\n",
       "      <td>3.144480e+04</td>\n",
       "      <td>1.778030e+05</td>\n",
       "      <td>1.743145e+05</td>\n",
       "    </tr>\n",
       "    <tr>\n",
       "      <th>std</th>\n",
       "      <td>1.125905e+05</td>\n",
       "      <td>206421.612434</td>\n",
       "      <td>44136.180706</td>\n",
       "      <td>7.188392e+05</td>\n",
       "      <td>1.183235e+05</td>\n",
       "      <td>7.174715e+05</td>\n",
       "      <td>7.144509e+05</td>\n",
       "    </tr>\n",
       "    <tr>\n",
       "      <th>min</th>\n",
       "      <td>5.679930e+05</td>\n",
       "      <td>16.000000</td>\n",
       "      <td>0.000000</td>\n",
       "      <td>-4.144074e+06</td>\n",
       "      <td>-2.280000e+05</td>\n",
       "      <td>-1.800000e+06</td>\n",
       "      <td>-1.800000e+06</td>\n",
       "    </tr>\n",
       "    <tr>\n",
       "      <th>25%</th>\n",
       "      <td>1.048947e+06</td>\n",
       "      <td>256401.000000</td>\n",
       "      <td>202789.000000</td>\n",
       "      <td>8.350000e+04</td>\n",
       "      <td>0.000000e+00</td>\n",
       "      <td>1.090000e+05</td>\n",
       "      <td>1.090000e+05</td>\n",
       "    </tr>\n",
       "    <tr>\n",
       "      <th>50%</th>\n",
       "      <td>1.135217e+06</td>\n",
       "      <td>501046.000000</td>\n",
       "      <td>203720.000000</td>\n",
       "      <td>1.175000e+05</td>\n",
       "      <td>0.000000e+00</td>\n",
       "      <td>1.340000e+05</td>\n",
       "      <td>1.332000e+05</td>\n",
       "    </tr>\n",
       "    <tr>\n",
       "      <th>75%</th>\n",
       "      <td>1.240489e+06</td>\n",
       "      <td>566602.500000</td>\n",
       "      <td>204737.000000</td>\n",
       "      <td>1.590000e+05</td>\n",
       "      <td>2.000000e+04</td>\n",
       "      <td>1.720000e+05</td>\n",
       "      <td>1.720000e+05</td>\n",
       "    </tr>\n",
       "    <tr>\n",
       "      <th>max</th>\n",
       "      <td>1.381657e+06</td>\n",
       "      <td>672308.000000</td>\n",
       "      <td>207742.000000</td>\n",
       "      <td>1.134000e+08</td>\n",
       "      <td>1.084407e+07</td>\n",
       "      <td>1.134000e+08</td>\n",
       "      <td>1.134000e+08</td>\n",
       "    </tr>\n",
       "  </tbody>\n",
       "</table>\n",
       "</div>"
      ],
      "text/plain": [
       "                 id    customer_id      course_id  transaction_amount  \\\n",
       "count  1.054020e+05  105402.000000  105402.000000        1.054020e+05   \n",
       "mean   1.147066e+06  417240.724227  193830.133660        1.463583e+05   \n",
       "std    1.125905e+05  206421.612434   44136.180706        7.188392e+05   \n",
       "min    5.679930e+05      16.000000       0.000000       -4.144074e+06   \n",
       "25%    1.048947e+06  256401.000000  202789.000000        8.350000e+04   \n",
       "50%    1.135217e+06  501046.000000  203720.000000        1.175000e+05   \n",
       "75%    1.240489e+06  566602.500000  204737.000000        1.590000e+05   \n",
       "max    1.381657e+06  672308.000000  207742.000000        1.134000e+08   \n",
       "\n",
       "       coupon_discount_amount    sale_price  tax_free_amount  \n",
       "count            1.054020e+05  1.054020e+05     1.054020e+05  \n",
       "mean             3.144480e+04  1.778030e+05     1.743145e+05  \n",
       "std              1.183235e+05  7.174715e+05     7.144509e+05  \n",
       "min             -2.280000e+05 -1.800000e+06    -1.800000e+06  \n",
       "25%              0.000000e+00  1.090000e+05     1.090000e+05  \n",
       "50%              0.000000e+00  1.340000e+05     1.332000e+05  \n",
       "75%              2.000000e+04  1.720000e+05     1.720000e+05  \n",
       "max              1.084407e+07  1.134000e+08     1.134000e+08  "
      ]
     },
     "execution_count": 5,
     "metadata": {},
     "output_type": "execute_result"
    }
   ],
   "source": [
    "data.describe()"
   ]
  },
  {
   "cell_type": "markdown",
   "id": "e99137db",
   "metadata": {},
   "source": [
    "###  칼럼 속 카테고리 "
   ]
  },
  {
   "cell_type": "markdown",
   "id": "fb09fb74",
   "metadata": {},
   "source": [
    "id :                        105402 - 고유값\n",
    "\n",
    "customer_id :               53742 - 보통 1인당 대략 2개 정도 사는 것 같다\n",
    "\n",
    "course_id :                  1351 - 강의 항목 코드\n",
    "\n",
    "course_title :                1640 - 강의 제목\n",
    "\n",
    "marketing_start_at :         16937 - 날짜를 뜻하므로 구간별 짜르기\n",
    "\n",
    "completed_at :               98565 - 날짜를 뜻하므로 구간별 짜르기\n",
    "\n",
    "subcategory_title :            33 - 강의를 뜻하는 해시테크 느낌\n",
    "\n"
   ]
  },
  {
   "cell_type": "code",
   "execution_count": null,
   "id": "806421be",
   "metadata": {},
   "outputs": [],
   "source": []
  },
  {
   "cell_type": "markdown",
   "id": "19a67507",
   "metadata": {},
   "source": [
    "transaction_amount :         2391 - 가격대를 구간별로 나누기\n",
    "\n",
    "coupon_title :               1884 - 할인 금액\n",
    "\n",
    "coupon_discount_amount :      1502 - 할인 가격 구간 나누기\n",
    "\n",
    "sale_price :                  741 - 가격대의 분포도별로 짜르기\n",
    "\n",
    "tax_free_amount :              741 - 가격대의 분포도별로 짜르기\n",
    "\n",
    "subcategory_title :             33 - 강의를 뜻하는 해시테크 느낌\n"
   ]
  },
  {
   "cell_type": "markdown",
   "id": "7f6912bb",
   "metadata": {},
   "source": [
    "**직접 찍어서 보기**\n",
    "\n",
    "type                           3 \n",
    "\n",
    "state                          5\n",
    "\n",
    "category_title                15\n",
    "\n",
    "format                        15\n",
    "\n",
    "\n",
    "pg                             6\n",
    "\n",
    "method                         8"
   ]
  },
  {
   "cell_type": "code",
   "execution_count": 23,
   "id": "5ab7d5d9",
   "metadata": {},
   "outputs": [],
   "source": [
    "data1 = data.copy()"
   ]
  },
  {
   "cell_type": "code",
   "execution_count": 9,
   "id": "5a3ff739",
   "metadata": {},
   "outputs": [
    {
     "data": {
      "text/plain": [
       "array(['ORDER', 'PAYMENT', 'REFUND'], dtype=object)"
      ]
     },
     "execution_count": 9,
     "metadata": {},
     "output_type": "execute_result"
    }
   ],
   "source": [
    "data['type'].unique()"
   ]
  },
  {
   "cell_type": "code",
   "execution_count": 25,
   "id": "19481dd2",
   "metadata": {},
   "outputs": [
    {
     "data": {
      "text/plain": [
       "<AxesSubplot:xlabel='type', ylabel='count'>"
      ]
     },
     "execution_count": 25,
     "metadata": {},
     "output_type": "execute_result"
    },
    {
     "data": {
      "image/png": "[encoded data removed]",
      "text/plain": [
       "<Figure size 432x288 with 1 Axes>"
      ]
     },
     "metadata": {
      "needs_background": "light"
     },
     "output_type": "display_data"
    }
   ],
   "source": [
    "sns.countplot('type', data=data1)"
   ]
  },
  {
   "cell_type": "code",
   "execution_count": 10,
   "id": "8cdf95d7",
   "metadata": {},
   "outputs": [
    {
     "data": {
      "text/plain": [
       "array(['CANCELLED', 'COMPLETED', 'PENDING', 'DELETED', 'REQUESTED'],\n",
       "      dtype=object)"
      ]
     },
     "execution_count": 10,
     "metadata": {},
     "output_type": "execute_result"
    }
   ],
   "source": [
    "data['state'].unique()"
   ]
  },
  {
   "cell_type": "code",
   "execution_count": 24,
   "id": "27a96683",
   "metadata": {},
   "outputs": [
    {
     "data": {
      "text/plain": [
       "<AxesSubplot:xlabel='state', ylabel='count'>"
      ]
     },
     "execution_count": 24,
     "metadata": {},
     "output_type": "execute_result"
    },
    {
     "data": {
      "image/png": "[encoded data removed]",
      "text/plain": [
       "<Figure size 432x288 with 1 Axes>"
      ]
     },
     "metadata": {
      "needs_background": "light"
     },
     "output_type": "display_data"
    }
   ],
   "source": [
    "sns.countplot('state', data=data1)"
   ]
  },
  {
   "cell_type": "code",
   "execution_count": 13,
   "id": "8d63b53f",
   "metadata": {},
   "outputs": [
    {
     "data": {
      "text/plain": [
       "array(['프로그래밍', '영상/3D', '업무 생산성', '크리에이티브', '부동산/금융', '데이터사이언스', '디자인',\n",
       "       '마케팅', '교육', '투자/재테크', '관리', '비즈니스', '지식콘텐츠', '일러스트', '파이낸스'],\n",
       "      dtype=object)"
      ]
     },
     "execution_count": 13,
     "metadata": {},
     "output_type": "execute_result"
    }
   ],
   "source": [
    "data['category_title'].unique()"
   ]
  },
  {
   "cell_type": "code",
   "execution_count": 44,
   "id": "b6997a66",
   "metadata": {},
   "outputs": [
    {
     "data": {
      "text/plain": [
       "<AxesSubplot:xlabel='category_title', ylabel='count'>"
      ]
     },
     "execution_count": 44,
     "metadata": {},
     "output_type": "execute_result"
    },
    {
     "data": {
      "image/png": "[encoded data removed]",
      "text/plain": [
       "<Figure size 1440x576 with 1 Axes>"
      ]
     },
     "metadata": {},
     "output_type": "display_data"
    }
   ],
   "source": [
    "plt.figure(figsize = (20,8))\n",
    "sns.countplot('category_title', data=data1)\n",
    "\n",
    " "
   ]
  },
  {
   "cell_type": "code",
   "execution_count": 14,
   "id": "7bb8d6fc",
   "metadata": {},
   "outputs": [
    {
     "data": {
      "text/plain": [
       "array(['올인원', '스쿨 온라인', '온라인 완주반', 'RED', 'B2B 온라인', '캠프', '스쿨', 'B2B',\n",
       "       '이벤트', '하루10분컷', '아카이브', '관리', 'MBA', '콜로소', 'B2G'], dtype=object)"
      ]
     },
     "execution_count": 14,
     "metadata": {},
     "output_type": "execute_result"
    }
   ],
   "source": [
    "data['format'].unique()"
   ]
  },
  {
   "cell_type": "code",
   "execution_count": 45,
   "id": "9d93d8f7",
   "metadata": {},
   "outputs": [
    {
     "data": {
      "text/plain": [
       "<AxesSubplot:xlabel='format', ylabel='count'>"
      ]
     },
     "execution_count": 45,
     "metadata": {},
     "output_type": "execute_result"
    },
    {
     "data": {
      "image/png": "[encoded data removed]",
      "text/plain": [
       "<Figure size 1440x576 with 1 Axes>"
      ]
     },
     "metadata": {},
     "output_type": "display_data"
    }
   ],
   "source": [
    "plt.figure(figsize = (20,8))\n",
    "sns.countplot('format', data=data1)"
   ]
  },
  {
   "cell_type": "code",
   "execution_count": 15,
   "id": "12d564fd",
   "metadata": {},
   "outputs": [
    {
     "data": {
      "text/plain": [
       "array(['default', 'INICIS', 'KAKAO', 'CHAI', 'PAYCO', 'NAVER'],\n",
       "      dtype=object)"
      ]
     },
     "execution_count": 15,
     "metadata": {},
     "output_type": "execute_result"
    }
   ],
   "source": [
    "data['pg'].unique()"
   ]
  },
  {
   "cell_type": "code",
   "execution_count": 46,
   "id": "c27c3836",
   "metadata": {},
   "outputs": [
    {
     "data": {
      "text/plain": [
       "<AxesSubplot:xlabel='pg', ylabel='count'>"
      ]
     },
     "execution_count": 46,
     "metadata": {},
     "output_type": "execute_result"
    },
    {
     "data": {
      "image/png": "[encoded data removed]",
      "text/plain": [
       "<Figure size 1080x576 with 1 Axes>"
      ]
     },
     "metadata": {},
     "output_type": "display_data"
    }
   ],
   "source": [
    "plt.figure(figsize = (15,8))\n",
    "sns.countplot('pg', data=data1)"
   ]
  },
  {
   "cell_type": "code",
   "execution_count": 16,
   "id": "4c71e155",
   "metadata": {},
   "outputs": [
    {
     "data": {
      "text/plain": [
       "array(['VBANK', 'CARD', 'TRANS', 'PROMOTION', 'TRANSFER', 'ONSITE',\n",
       "       'POINT', 'VOUCHER'], dtype=object)"
      ]
     },
     "execution_count": 16,
     "metadata": {},
     "output_type": "execute_result"
    }
   ],
   "source": [
    "data['method'].unique()"
   ]
  },
  {
   "cell_type": "code",
   "execution_count": 47,
   "id": "0f0b5eaf",
   "metadata": {},
   "outputs": [
    {
     "data": {
      "text/plain": [
       "<AxesSubplot:xlabel='method', ylabel='count'>"
      ]
     },
     "execution_count": 47,
     "metadata": {},
     "output_type": "execute_result"
    },
    {
     "data": {
      "image/png": "[encoded data removed]",
      "text/plain": [
       "<Figure size 1080x576 with 1 Axes>"
      ]
     },
     "metadata": {},
     "output_type": "display_data"
    }
   ],
   "source": [
    "plt.figure(figsize = (15,8))\n",
    "sns.countplot('method', data=data1) #카드사 할인?"
   ]
  },
  {
   "cell_type": "code",
   "execution_count": null,
   "id": "c7bfe261",
   "metadata": {},
   "outputs": [],
   "source": []
  },
  {
   "cell_type": "markdown",
   "id": "5bd86527",
   "metadata": {},
   "source": [
    "### Plotly를 활용한 시각화"
   ]
  },
  {
   "cell_type": "code",
   "execution_count": 48,
   "id": "9a6db4ea",
   "metadata": {
    "collapsed": true
   },
   "outputs": [
    {
     "name": "stdout",
     "output_type": "stream",
     "text": [
      "Collecting jupyterlab>=3\n",
      "  Downloading jupyterlab-3.4.0-py3-none-any.whl (8.7 MB)\n",
      "\u001b[2K     \u001b[38;2;114;156;31m━━━━━━━━━━━━━━━━━━━━━━━━━━━━━━━━━━━━━━━━\u001b[0m \u001b[32m8.7/8.7 MB\u001b[0m \u001b[31m6.2 MB/s\u001b[0m eta \u001b[36m0:00:00\u001b[0mm eta \u001b[36m0:00:01\u001b[0m[36m0:00:01\u001b[0m\n",
      "\u001b[?25hRequirement already satisfied: ipywidgets>=7.6 in /Users/krc/miniforge3/envs/krc/lib/python3.8/site-packages (7.6.5)\n",
      "Requirement already satisfied: tornado>=6.1.0 in /Users/krc/miniforge3/envs/krc/lib/python3.8/site-packages (from jupyterlab>=3) (6.1)\n",
      "Requirement already satisfied: packaging in /Users/krc/miniforge3/envs/krc/lib/python3.8/site-packages (from jupyterlab>=3) (21.3)\n",
      "Requirement already satisfied: jupyter-core in /Users/krc/miniforge3/envs/krc/lib/python3.8/site-packages (from jupyterlab>=3) (4.9.2)\n",
      "Requirement already satisfied: ipython in /Users/krc/miniforge3/envs/krc/lib/python3.8/site-packages (from jupyterlab>=3) (8.2.0)\n",
      "Requirement already satisfied: jinja2>=2.1 in /Users/krc/miniforge3/envs/krc/lib/python3.8/site-packages (from jupyterlab>=3) (3.0.3)\n",
      "Collecting nbclassic~=0.2\n",
      "  Downloading nbclassic-0.3.7-py3-none-any.whl (13 kB)\n",
      "Collecting jupyter-server~=1.16\n",
      "  Downloading jupyter_server-1.17.0-py3-none-any.whl (342 kB)\n",
      "\u001b[2K     \u001b[38;2;114;156;31m━━━━━━━━━━━━━━━━━━━━━━━━━━━━━━━━━━━━━━━\u001b[0m \u001b[32m342.8/342.8 KB\u001b[0m \u001b[31m6.6 MB/s\u001b[0m eta \u001b[36m0:00:00\u001b[0m[36m0:00:01\u001b[0m\n",
      "\u001b[?25hCollecting jupyterlab-server~=2.10\n",
      "  Downloading jupyterlab_server-2.13.0-py3-none-any.whl (53 kB)\n",
      "\u001b[2K     \u001b[38;2;114;156;31m━━━━━━━━━━━━━━━━━━━━━━━━━━━━━━━━━━━━━━━━\u001b[0m \u001b[32m53.5/53.5 KB\u001b[0m \u001b[31m2.3 MB/s\u001b[0m eta \u001b[36m0:00:00\u001b[0m\n",
      "\u001b[?25hRequirement already satisfied: ipykernel>=4.5.1 in /Users/krc/miniforge3/envs/krc/lib/python3.8/site-packages (from ipywidgets>=7.6) (6.9.1)\n",
      "Requirement already satisfied: nbformat>=4.2.0 in /Users/krc/miniforge3/envs/krc/lib/python3.8/site-packages (from ipywidgets>=7.6) (5.1.3)\n",
      "Requirement already satisfied: traitlets>=4.3.1 in /Users/krc/miniforge3/envs/krc/lib/python3.8/site-packages (from ipywidgets>=7.6) (5.1.1)\n",
      "Requirement already satisfied: jupyterlab-widgets>=1.0.0 in /Users/krc/miniforge3/envs/krc/lib/python3.8/site-packages (from ipywidgets>=7.6) (1.0.0)\n",
      "Requirement already satisfied: ipython-genutils~=0.2.0 in /Users/krc/miniforge3/envs/krc/lib/python3.8/site-packages (from ipywidgets>=7.6) (0.2.0)\n",
      "Requirement already satisfied: widgetsnbextension~=3.5.0 in /Users/krc/miniforge3/envs/krc/lib/python3.8/site-packages (from ipywidgets>=7.6) (3.5.2)\n",
      "Requirement already satisfied: debugpy<2.0,>=1.0.0 in /Users/krc/miniforge3/envs/krc/lib/python3.8/site-packages (from ipykernel>=4.5.1->ipywidgets>=7.6) (1.5.1)\n",
      "Requirement already satisfied: matplotlib-inline<0.2.0,>=0.1.0 in /Users/krc/miniforge3/envs/krc/lib/python3.8/site-packages (from ipykernel>=4.5.1->ipywidgets>=7.6) (0.1.2)\n",
      "Requirement already satisfied: jupyter-client<8.0 in /Users/krc/miniforge3/envs/krc/lib/python3.8/site-packages (from ipykernel>=4.5.1->ipywidgets>=7.6) (7.1.2)\n",
      "Requirement already satisfied: appnope in /Users/krc/miniforge3/envs/krc/lib/python3.8/site-packages (from ipykernel>=4.5.1->ipywidgets>=7.6) (0.1.2)\n",
      "Requirement already satisfied: nest-asyncio in /Users/krc/miniforge3/envs/krc/lib/python3.8/site-packages (from ipykernel>=4.5.1->ipywidgets>=7.6) (1.5.1)\n",
      "Requirement already satisfied: backcall in /Users/krc/miniforge3/envs/krc/lib/python3.8/site-packages (from ipython->jupyterlab>=3) (0.2.0)\n",
      "Requirement already satisfied: jedi>=0.16 in /Users/krc/miniforge3/envs/krc/lib/python3.8/site-packages (from ipython->jupyterlab>=3) (0.18.1)\n",
      "Requirement already satisfied: stack-data in /Users/krc/miniforge3/envs/krc/lib/python3.8/site-packages (from ipython->jupyterlab>=3) (0.2.0)\n",
      "Requirement already satisfied: decorator in /Users/krc/miniforge3/envs/krc/lib/python3.8/site-packages (from ipython->jupyterlab>=3) (5.1.1)\n",
      "Requirement already satisfied: pexpect>4.3 in /Users/krc/miniforge3/envs/krc/lib/python3.8/site-packages (from ipython->jupyterlab>=3) (4.8.0)\n",
      "Requirement already satisfied: pygments>=2.4.0 in /Users/krc/miniforge3/envs/krc/lib/python3.8/site-packages (from ipython->jupyterlab>=3) (2.11.2)\n",
      "Requirement already satisfied: pickleshare in /Users/krc/miniforge3/envs/krc/lib/python3.8/site-packages (from ipython->jupyterlab>=3) (0.7.5)\n",
      "Requirement already satisfied: prompt-toolkit!=3.0.0,!=3.0.1,<3.1.0,>=2.0.0 in /Users/krc/miniforge3/envs/krc/lib/python3.8/site-packages (from ipython->jupyterlab>=3) (3.0.20)\n",
      "Requirement already satisfied: setuptools>=18.5 in /Users/krc/miniforge3/envs/krc/lib/python3.8/site-packages (from ipython->jupyterlab>=3) (58.0.4)\n",
      "Requirement already satisfied: MarkupSafe>=2.0 in /Users/krc/miniforge3/envs/krc/lib/python3.8/site-packages (from jinja2>=2.1->jupyterlab>=3) (2.0.1)\n",
      "Requirement already satisfied: Send2Trash in /Users/krc/miniforge3/envs/krc/lib/python3.8/site-packages (from jupyter-server~=1.16->jupyterlab>=3) (1.8.0)\n",
      "Collecting nbformat>=4.2.0\n",
      "  Downloading nbformat-5.4.0-py3-none-any.whl (73 kB)\n",
      "\u001b[2K     \u001b[38;2;114;156;31m━━━━━━━━━━━━━━━━━━━━━━━━━━━━━━━━━━━━━━━━\u001b[0m \u001b[32m73.3/73.3 KB\u001b[0m \u001b[31m3.1 MB/s\u001b[0m eta \u001b[36m0:00:00\u001b[0m\n",
      "\u001b[?25hRequirement already satisfied: argon2-cffi in /Users/krc/miniforge3/envs/krc/lib/python3.8/site-packages (from jupyter-server~=1.16->jupyterlab>=3) (21.3.0)\n",
      "Requirement already satisfied: prometheus-client in /Users/krc/miniforge3/envs/krc/lib/python3.8/site-packages (from jupyter-server~=1.16->jupyterlab>=3) (0.13.1)\n",
      "Requirement already satisfied: terminado>=0.8.3 in /Users/krc/miniforge3/envs/krc/lib/python3.8/site-packages (from jupyter-server~=1.16->jupyterlab>=3) (0.13.1)\n",
      "Collecting websocket-client\n",
      "  Downloading websocket_client-1.3.2-py3-none-any.whl (54 kB)\n",
      "\u001b[2K     \u001b[38;2;114;156;31m━━━━━━━━━━━━━━━━━━━━━━━━━━━━━━━━━━━━━━━━\u001b[0m \u001b[32m54.3/54.3 KB\u001b[0m \u001b[31m2.1 MB/s\u001b[0m eta \u001b[36m0:00:00\u001b[0m\n",
      "\u001b[?25hCollecting anyio<4,>=3.1.0\n",
      "  Downloading anyio-3.5.0-py3-none-any.whl (79 kB)\n",
      "\u001b[2K     \u001b[38;2;114;156;31m━━━━━━━━━━━━━━━━━━━━━━━━━━━━━━━━━━━━━━━━\u001b[0m \u001b[32m79.2/79.2 KB\u001b[0m \u001b[31m3.3 MB/s\u001b[0m eta \u001b[36m0:00:00\u001b[0m\n",
      "\u001b[?25hRequirement already satisfied: pyzmq>=17 in /Users/krc/miniforge3/envs/krc/lib/python3.8/site-packages (from jupyter-server~=1.16->jupyterlab>=3) (22.3.0)\n",
      "Collecting nbconvert>=6.4.4\n",
      "  Downloading nbconvert-6.5.0-py3-none-any.whl (561 kB)\n",
      "\u001b[2K     \u001b[38;2;114;156;31m━━━━━━━━━━━━━━━━━━━━━━━━━━━━━━━━━━━━━━━\u001b[0m \u001b[32m561.6/561.6 KB\u001b[0m \u001b[31m9.9 MB/s\u001b[0m eta \u001b[36m0:00:00\u001b[0m[36m0:00:01\u001b[0m\n",
      "\u001b[?25hRequirement already satisfied: jsonschema>=3.0.1 in /Users/krc/miniforge3/envs/krc/lib/python3.8/site-packages (from jupyterlab-server~=2.10->jupyterlab>=3) (3.2.0)\n",
      "Requirement already satisfied: importlib-metadata>=3.6 in /Users/krc/miniforge3/envs/krc/lib/python3.8/site-packages (from jupyterlab-server~=2.10->jupyterlab>=3) (4.11.3)\n",
      "Collecting json5\n",
      "  Downloading json5-0.9.8.tar.gz (22 kB)\n",
      "  Preparing metadata (setup.py) ... \u001b[?25ldone\n",
      "\u001b[?25hCollecting babel\n",
      "  Downloading Babel-2.10.1-py3-none-any.whl (9.5 MB)\n",
      "\u001b[2K     \u001b[38;2;114;156;31m━━━━━━━━━━━━━━━━━━━━━━━━━━━━━━━━━━━━━━━━\u001b[0m \u001b[32m9.5/9.5 MB\u001b[0m \u001b[31m11.5 MB/s\u001b[0m eta \u001b[36m0:00:00\u001b[0mm eta \u001b[36m0:00:01\u001b[0m[36m0:00:01\u001b[0m\n",
      "\u001b[?25hRequirement already satisfied: requests in /Users/krc/miniforge3/envs/krc/lib/python3.8/site-packages (from jupyterlab-server~=2.10->jupyterlab>=3) (2.27.1)\n",
      "Requirement already satisfied: notebook<7 in /Users/krc/miniforge3/envs/krc/lib/python3.8/site-packages (from nbclassic~=0.2->jupyterlab>=3) (6.4.8)\n",
      "Collecting notebook-shim>=0.1.0\n",
      "  Downloading notebook_shim-0.1.0-py3-none-any.whl (13 kB)\n",
      "Collecting fastjsonschema\n",
      "  Downloading fastjsonschema-2.15.3-py3-none-any.whl (22 kB)\n",
      "Requirement already satisfied: pyparsing!=3.0.5,>=2.0.2 in /Users/krc/miniforge3/envs/krc/lib/python3.8/site-packages (from packaging->jupyterlab>=3) (3.0.4)\n",
      "Requirement already satisfied: sniffio>=1.1 in /Users/krc/miniforge3/envs/krc/lib/python3.8/site-packages (from anyio<4,>=3.1.0->jupyter-server~=1.16->jupyterlab>=3) (1.2.0)\n",
      "Requirement already satisfied: idna>=2.8 in /Users/krc/miniforge3/envs/krc/lib/python3.8/site-packages (from anyio<4,>=3.1.0->jupyter-server~=1.16->jupyterlab>=3) (3.3)\n",
      "Requirement already satisfied: zipp>=0.5 in /Users/krc/miniforge3/envs/krc/lib/python3.8/site-packages (from importlib-metadata>=3.6->jupyterlab-server~=2.10->jupyterlab>=3) (3.7.0)\n",
      "Requirement already satisfied: parso<0.9.0,>=0.8.0 in /Users/krc/miniforge3/envs/krc/lib/python3.8/site-packages (from jedi>=0.16->ipython->jupyterlab>=3) (0.8.3)\n",
      "Requirement already satisfied: pyrsistent>=0.14.0 in /Users/krc/miniforge3/envs/krc/lib/python3.8/site-packages (from jsonschema>=3.0.1->jupyterlab-server~=2.10->jupyterlab>=3) (0.18.0)\n",
      "Requirement already satisfied: attrs>=17.4.0 in /Users/krc/miniforge3/envs/krc/lib/python3.8/site-packages (from jsonschema>=3.0.1->jupyterlab-server~=2.10->jupyterlab>=3) (21.4.0)\n",
      "Requirement already satisfied: six>=1.11.0 in /Users/krc/miniforge3/envs/krc/lib/python3.8/site-packages (from jsonschema>=3.0.1->jupyterlab-server~=2.10->jupyterlab>=3) (1.16.0)\n",
      "Requirement already satisfied: entrypoints in /Users/krc/miniforge3/envs/krc/lib/python3.8/site-packages (from jupyter-client<8.0->ipykernel>=4.5.1->ipywidgets>=7.6) (0.3)\n",
      "Requirement already satisfied: python-dateutil>=2.1 in /Users/krc/miniforge3/envs/krc/lib/python3.8/site-packages (from jupyter-client<8.0->ipykernel>=4.5.1->ipywidgets>=7.6) (2.8.2)\n",
      "Collecting tinycss2\n",
      "  Downloading tinycss2-1.1.1-py3-none-any.whl (21 kB)\n",
      "Requirement already satisfied: jupyterlab-pygments in /Users/krc/miniforge3/envs/krc/lib/python3.8/site-packages (from nbconvert>=6.4.4->jupyter-server~=1.16->jupyterlab>=3) (0.1.2)\n",
      "Requirement already satisfied: defusedxml in /Users/krc/miniforge3/envs/krc/lib/python3.8/site-packages (from nbconvert>=6.4.4->jupyter-server~=1.16->jupyterlab>=3) (0.7.1)\n",
      "Requirement already satisfied: pandocfilters>=1.4.1 in /Users/krc/miniforge3/envs/krc/lib/python3.8/site-packages (from nbconvert>=6.4.4->jupyter-server~=1.16->jupyterlab>=3) (1.5.0)\n",
      "Requirement already satisfied: mistune<2,>=0.8.1 in /Users/krc/miniforge3/envs/krc/lib/python3.8/site-packages (from nbconvert>=6.4.4->jupyter-server~=1.16->jupyterlab>=3) (0.8.4)\n",
      "Requirement already satisfied: nbclient>=0.5.0 in /Users/krc/miniforge3/envs/krc/lib/python3.8/site-packages (from nbconvert>=6.4.4->jupyter-server~=1.16->jupyterlab>=3) (0.5.11)\n",
      "Requirement already satisfied: beautifulsoup4 in /Users/krc/miniforge3/envs/krc/lib/python3.8/site-packages (from nbconvert>=6.4.4->jupyter-server~=1.16->jupyterlab>=3) (4.10.0)\n",
      "Requirement already satisfied: bleach in /Users/krc/miniforge3/envs/krc/lib/python3.8/site-packages (from nbconvert>=6.4.4->jupyter-server~=1.16->jupyterlab>=3) (4.1.0)\n",
      "Requirement already satisfied: ptyprocess>=0.5 in /Users/krc/miniforge3/envs/krc/lib/python3.8/site-packages (from pexpect>4.3->ipython->jupyterlab>=3) (0.7.0)\n",
      "Requirement already satisfied: wcwidth in /Users/krc/miniforge3/envs/krc/lib/python3.8/site-packages (from prompt-toolkit!=3.0.0,!=3.0.1,<3.1.0,>=2.0.0->ipython->jupyterlab>=3) (0.2.5)\n",
      "Requirement already satisfied: argon2-cffi-bindings in /Users/krc/miniforge3/envs/krc/lib/python3.8/site-packages (from argon2-cffi->jupyter-server~=1.16->jupyterlab>=3) (21.2.0)\n",
      "Requirement already satisfied: pytz>=2015.7 in /Users/krc/miniforge3/envs/krc/lib/python3.8/site-packages (from babel->jupyterlab-server~=2.10->jupyterlab>=3) (2021.3)\n",
      "Requirement already satisfied: charset-normalizer~=2.0.0 in /Users/krc/miniforge3/envs/krc/lib/python3.8/site-packages (from requests->jupyterlab-server~=2.10->jupyterlab>=3) (2.0.12)\n",
      "Requirement already satisfied: certifi>=2017.4.17 in /Users/krc/miniforge3/envs/krc/lib/python3.8/site-packages (from requests->jupyterlab-server~=2.10->jupyterlab>=3) (2021.10.8)\n",
      "Requirement already satisfied: urllib3<1.27,>=1.21.1 in /Users/krc/miniforge3/envs/krc/lib/python3.8/site-packages (from requests->jupyterlab-server~=2.10->jupyterlab>=3) (1.26.9)\n",
      "Requirement already satisfied: executing in /Users/krc/miniforge3/envs/krc/lib/python3.8/site-packages (from stack-data->ipython->jupyterlab>=3) (0.8.3)\n",
      "Requirement already satisfied: pure-eval in /Users/krc/miniforge3/envs/krc/lib/python3.8/site-packages (from stack-data->ipython->jupyterlab>=3) (0.2.2)\n",
      "Requirement already satisfied: asttokens in /Users/krc/miniforge3/envs/krc/lib/python3.8/site-packages (from stack-data->ipython->jupyterlab>=3) (2.0.5)\n",
      "Requirement already satisfied: cffi>=1.0.1 in /Users/krc/miniforge3/envs/krc/lib/python3.8/site-packages (from argon2-cffi-bindings->argon2-cffi->jupyter-server~=1.16->jupyterlab>=3) (1.15.0)\n",
      "Requirement already satisfied: soupsieve>1.2 in /Users/krc/miniforge3/envs/krc/lib/python3.8/site-packages (from beautifulsoup4->nbconvert>=6.4.4->jupyter-server~=1.16->jupyterlab>=3) (2.3.1)\n",
      "Requirement already satisfied: webencodings in /Users/krc/miniforge3/envs/krc/lib/python3.8/site-packages (from bleach->nbconvert>=6.4.4->jupyter-server~=1.16->jupyterlab>=3) (0.5.1)\n",
      "Requirement already satisfied: pycparser in /Users/krc/miniforge3/envs/krc/lib/python3.8/site-packages (from cffi>=1.0.1->argon2-cffi-bindings->argon2-cffi->jupyter-server~=1.16->jupyterlab>=3) (2.21)\n",
      "Building wheels for collected packages: json5\n",
      "  Building wheel for json5 (setup.py) ... \u001b[?25ldone\n",
      "\u001b[?25h  Created wheel for json5: filename=json5-0.9.8-py2.py3-none-any.whl size=18604 sha256=fcd8b64d708050404bffcd2cffe930515bb8d10ac3e68defad7a66230832e1bc\n",
      "  Stored in directory: /Users/krc/Library/Caches/pip/wheels/ec/fb/6f/3a96bd8561194ae86da3c5101ed7462eb466ce35ea7a85db16\n",
      "Successfully built json5\n",
      "Installing collected packages: json5, fastjsonschema, websocket-client, tinycss2, babel, anyio, nbformat, nbconvert, jupyter-server, notebook-shim, jupyterlab-server, nbclassic, jupyterlab\n",
      "  Attempting uninstall: nbformat\n",
      "    Found existing installation: nbformat 5.1.3\n",
      "    Uninstalling nbformat-5.1.3:\n",
      "      Successfully uninstalled nbformat-5.1.3\n",
      "  Attempting uninstall: nbconvert\n",
      "    Found existing installation: nbconvert 6.3.0\n",
      "    Uninstalling nbconvert-6.3.0:\n",
      "      Successfully uninstalled nbconvert-6.3.0\n",
      "Successfully installed anyio-3.5.0 babel-2.10.1 fastjsonschema-2.15.3 json5-0.9.8 jupyter-server-1.17.0 jupyterlab-3.4.0 jupyterlab-server-2.13.0 nbclassic-0.3.7 nbconvert-6.5.0 nbformat-5.4.0 notebook-shim-0.1.0 tinycss2-1.1.1 websocket-client-1.3.2\n"
     ]
    }
   ],
   "source": [
    "!pip install \"jupyterlab>=3\" \"ipywidgets>=7.6\"\n",
    "\n"
   ]
  },
  {
   "cell_type": "code",
   "execution_count": 49,
   "id": "f1099667",
   "metadata": {
    "collapsed": true
   },
   "outputs": [
    {
     "name": "stdout",
     "output_type": "stream",
     "text": [
      "Collecting jupyter-dash\n",
      "  Downloading jupyter_dash-0.4.2-py3-none-any.whl (23 kB)\n",
      "Collecting flask\n",
      "  Downloading Flask-2.1.2-py3-none-any.whl (95 kB)\n",
      "\u001b[2K     \u001b[38;2;114;156;31m━━━━━━━━━━━━━━━━━━━━━━━━━━━━━━━━━━━━━━━━\u001b[0m \u001b[32m95.2/95.2 KB\u001b[0m \u001b[31m2.7 MB/s\u001b[0m eta \u001b[36m0:00:00\u001b[0m\n",
      "\u001b[?25hCollecting ansi2html\n",
      "  Downloading ansi2html-1.7.0-py3-none-any.whl (15 kB)\n",
      "Requirement already satisfied: nest-asyncio in /Users/krc/miniforge3/envs/krc/lib/python3.8/site-packages (from jupyter-dash) (1.5.1)\n",
      "Collecting retrying\n",
      "  Downloading retrying-1.3.3.tar.gz (10 kB)\n",
      "  Preparing metadata (setup.py) ... \u001b[?25ldone\n",
      "\u001b[?25hRequirement already satisfied: ipython in /Users/krc/miniforge3/envs/krc/lib/python3.8/site-packages (from jupyter-dash) (8.2.0)\n",
      "Requirement already satisfied: requests in /Users/krc/miniforge3/envs/krc/lib/python3.8/site-packages (from jupyter-dash) (2.27.1)\n",
      "Requirement already satisfied: ipykernel in /Users/krc/miniforge3/envs/krc/lib/python3.8/site-packages (from jupyter-dash) (6.9.1)\n",
      "Collecting dash\n",
      "  Downloading dash-2.3.1-py3-none-any.whl (9.6 MB)\n",
      "\u001b[2K     \u001b[38;2;114;156;31m━━━━━━━━━━━━━━━━━━━━━━━━━━━━━━━━━━━━━━━━\u001b[0m \u001b[32m9.6/9.6 MB\u001b[0m \u001b[31m13.9 MB/s\u001b[0m eta \u001b[36m0:00:00\u001b[0mm eta \u001b[36m0:00:01\u001b[0m[36m0:00:01\u001b[0m\n",
      "\u001b[?25hCollecting dash-table==5.0.0\n",
      "  Downloading dash_table-5.0.0-py3-none-any.whl (3.9 kB)\n",
      "Requirement already satisfied: plotly>=5.0.0 in /Users/krc/miniforge3/envs/krc/lib/python3.8/site-packages (from dash->jupyter-dash) (5.7.0)\n",
      "Collecting dash-core-components==2.0.0\n",
      "  Downloading dash_core_components-2.0.0-py3-none-any.whl (3.8 kB)\n",
      "Collecting flask-compress\n",
      "  Downloading Flask_Compress-1.12-py3-none-any.whl (7.9 kB)\n",
      "Collecting dash-html-components==2.0.0\n",
      "  Downloading dash_html_components-2.0.0-py3-none-any.whl (4.1 kB)\n",
      "Requirement already satisfied: click>=8.0 in /Users/krc/.local/lib/python3.8/site-packages (from flask->jupyter-dash) (8.1.2)\n",
      "Requirement already satisfied: Werkzeug>=2.0 in /Users/krc/miniforge3/envs/krc/lib/python3.8/site-packages (from flask->jupyter-dash) (2.0.3)\n",
      "Requirement already satisfied: Jinja2>=3.0 in /Users/krc/miniforge3/envs/krc/lib/python3.8/site-packages (from flask->jupyter-dash) (3.0.3)\n",
      "Requirement already satisfied: importlib-metadata>=3.6.0 in /Users/krc/miniforge3/envs/krc/lib/python3.8/site-packages (from flask->jupyter-dash) (4.11.3)\n",
      "Collecting itsdangerous>=2.0\n",
      "  Downloading itsdangerous-2.1.2-py3-none-any.whl (15 kB)\n",
      "Requirement already satisfied: tornado<7.0,>=4.2 in /Users/krc/miniforge3/envs/krc/lib/python3.8/site-packages (from ipykernel->jupyter-dash) (6.1)\n",
      "Requirement already satisfied: traitlets<6.0,>=5.1.0 in /Users/krc/miniforge3/envs/krc/lib/python3.8/site-packages (from ipykernel->jupyter-dash) (5.1.1)\n",
      "Requirement already satisfied: matplotlib-inline<0.2.0,>=0.1.0 in /Users/krc/miniforge3/envs/krc/lib/python3.8/site-packages (from ipykernel->jupyter-dash) (0.1.2)\n",
      "Requirement already satisfied: appnope in /Users/krc/miniforge3/envs/krc/lib/python3.8/site-packages (from ipykernel->jupyter-dash) (0.1.2)\n",
      "Requirement already satisfied: debugpy<2.0,>=1.0.0 in /Users/krc/miniforge3/envs/krc/lib/python3.8/site-packages (from ipykernel->jupyter-dash) (1.5.1)\n",
      "Requirement already satisfied: jupyter-client<8.0 in /Users/krc/miniforge3/envs/krc/lib/python3.8/site-packages (from ipykernel->jupyter-dash) (7.1.2)\n",
      "Requirement already satisfied: prompt-toolkit!=3.0.0,!=3.0.1,<3.1.0,>=2.0.0 in /Users/krc/miniforge3/envs/krc/lib/python3.8/site-packages (from ipython->jupyter-dash) (3.0.20)\n",
      "Requirement already satisfied: decorator in /Users/krc/miniforge3/envs/krc/lib/python3.8/site-packages (from ipython->jupyter-dash) (5.1.1)\n",
      "Requirement already satisfied: backcall in /Users/krc/miniforge3/envs/krc/lib/python3.8/site-packages (from ipython->jupyter-dash) (0.2.0)\n",
      "Requirement already satisfied: pickleshare in /Users/krc/miniforge3/envs/krc/lib/python3.8/site-packages (from ipython->jupyter-dash) (0.7.5)\n",
      "Requirement already satisfied: setuptools>=18.5 in /Users/krc/miniforge3/envs/krc/lib/python3.8/site-packages (from ipython->jupyter-dash) (58.0.4)\n",
      "Requirement already satisfied: pexpect>4.3 in /Users/krc/miniforge3/envs/krc/lib/python3.8/site-packages (from ipython->jupyter-dash) (4.8.0)\n",
      "Requirement already satisfied: pygments>=2.4.0 in /Users/krc/miniforge3/envs/krc/lib/python3.8/site-packages (from ipython->jupyter-dash) (2.11.2)\n",
      "Requirement already satisfied: stack-data in /Users/krc/miniforge3/envs/krc/lib/python3.8/site-packages (from ipython->jupyter-dash) (0.2.0)\n",
      "Requirement already satisfied: jedi>=0.16 in /Users/krc/miniforge3/envs/krc/lib/python3.8/site-packages (from ipython->jupyter-dash) (0.18.1)\n",
      "Requirement already satisfied: urllib3<1.27,>=1.21.1 in /Users/krc/miniforge3/envs/krc/lib/python3.8/site-packages (from requests->jupyter-dash) (1.26.9)\n",
      "Requirement already satisfied: charset-normalizer~=2.0.0 in /Users/krc/miniforge3/envs/krc/lib/python3.8/site-packages (from requests->jupyter-dash) (2.0.12)\n",
      "Requirement already satisfied: certifi>=2017.4.17 in /Users/krc/miniforge3/envs/krc/lib/python3.8/site-packages (from requests->jupyter-dash) (2021.10.8)\n",
      "Requirement already satisfied: idna<4,>=2.5 in /Users/krc/miniforge3/envs/krc/lib/python3.8/site-packages (from requests->jupyter-dash) (3.3)\n",
      "Requirement already satisfied: six>=1.7.0 in /Users/krc/miniforge3/envs/krc/lib/python3.8/site-packages (from retrying->jupyter-dash) (1.16.0)\n",
      "Requirement already satisfied: zipp>=0.5 in /Users/krc/miniforge3/envs/krc/lib/python3.8/site-packages (from importlib-metadata>=3.6.0->flask->jupyter-dash) (3.7.0)\n",
      "Requirement already satisfied: parso<0.9.0,>=0.8.0 in /Users/krc/miniforge3/envs/krc/lib/python3.8/site-packages (from jedi>=0.16->ipython->jupyter-dash) (0.8.3)\n",
      "Requirement already satisfied: MarkupSafe>=2.0 in /Users/krc/miniforge3/envs/krc/lib/python3.8/site-packages (from Jinja2>=3.0->flask->jupyter-dash) (2.0.1)\n",
      "Requirement already satisfied: entrypoints in /Users/krc/miniforge3/envs/krc/lib/python3.8/site-packages (from jupyter-client<8.0->ipykernel->jupyter-dash) (0.3)\n",
      "Requirement already satisfied: python-dateutil>=2.1 in /Users/krc/miniforge3/envs/krc/lib/python3.8/site-packages (from jupyter-client<8.0->ipykernel->jupyter-dash) (2.8.2)\n",
      "Requirement already satisfied: jupyter-core>=4.6.0 in /Users/krc/miniforge3/envs/krc/lib/python3.8/site-packages (from jupyter-client<8.0->ipykernel->jupyter-dash) (4.9.2)\n",
      "Requirement already satisfied: pyzmq>=13 in /Users/krc/miniforge3/envs/krc/lib/python3.8/site-packages (from jupyter-client<8.0->ipykernel->jupyter-dash) (22.3.0)\n",
      "Requirement already satisfied: ptyprocess>=0.5 in /Users/krc/miniforge3/envs/krc/lib/python3.8/site-packages (from pexpect>4.3->ipython->jupyter-dash) (0.7.0)\n",
      "Requirement already satisfied: tenacity>=6.2.0 in /Users/krc/miniforge3/envs/krc/lib/python3.8/site-packages (from plotly>=5.0.0->dash->jupyter-dash) (8.0.1)\n",
      "Requirement already satisfied: wcwidth in /Users/krc/miniforge3/envs/krc/lib/python3.8/site-packages (from prompt-toolkit!=3.0.0,!=3.0.1,<3.1.0,>=2.0.0->ipython->jupyter-dash) (0.2.5)\n",
      "Collecting brotli\n",
      "  Downloading Brotli-1.0.9-cp38-cp38-macosx_10_9_universal2.whl (786 kB)\n",
      "\u001b[2K     \u001b[38;2;114;156;31m━━━━━━━━━━━━━━━━━━━━━━━━━━━━━━━━━━━━━━\u001b[0m \u001b[32m786.7/786.7 KB\u001b[0m \u001b[31m13.0 MB/s\u001b[0m eta \u001b[36m0:00:00\u001b[0m MB/s\u001b[0m eta \u001b[36m0:00:01\u001b[0m\n",
      "\u001b[?25hRequirement already satisfied: pure-eval in /Users/krc/miniforge3/envs/krc/lib/python3.8/site-packages (from stack-data->ipython->jupyter-dash) (0.2.2)\n",
      "Requirement already satisfied: asttokens in /Users/krc/miniforge3/envs/krc/lib/python3.8/site-packages (from stack-data->ipython->jupyter-dash) (2.0.5)\n",
      "Requirement already satisfied: executing in /Users/krc/miniforge3/envs/krc/lib/python3.8/site-packages (from stack-data->ipython->jupyter-dash) (0.8.3)\n",
      "Building wheels for collected packages: retrying\n",
      "  Building wheel for retrying (setup.py) ... \u001b[?25ldone\n",
      "\u001b[?25h  Created wheel for retrying: filename=retrying-1.3.3-py3-none-any.whl size=11447 sha256=82ba8a43c66a4254626b19c0bc14fbe0c50888fef1e3975a971707469f7775ff\n",
      "  Stored in directory: /Users/krc/Library/Caches/pip/wheels/c4/a7/48/0a434133f6d56e878ca511c0e6c38326907c0792f67b476e56\n",
      "Successfully built retrying\n",
      "Installing collected packages: dash-table, dash-html-components, dash-core-components, brotli, retrying, itsdangerous, ansi2html, flask, flask-compress, dash, jupyter-dash\n",
      "Successfully installed ansi2html-1.7.0 brotli-1.0.9 dash-2.3.1 dash-core-components-2.0.0 dash-html-components-2.0.0 dash-table-5.0.0 flask-2.1.2 flask-compress-1.12 itsdangerous-2.1.2 jupyter-dash-0.4.2 retrying-1.3.3\r\n"
     ]
    }
   ],
   "source": [
    "!pip install jupyter-dash"
   ]
  },
  {
   "cell_type": "code",
   "execution_count": 65,
   "id": "0c0f8de7",
   "metadata": {},
   "outputs": [],
   "source": [
    "import plotly.graph_objects as go \n",
    "fig = go.Figure(data=go.Bar(y=[2, 3, 1])) \n",
    "fig.write_html('first_figure.html', auto_open=True)\n"
   ]
  },
  {
   "cell_type": "code",
   "execution_count": 51,
   "id": "368777d6",
   "metadata": {
    "collapsed": true
   },
   "outputs": [
    {
     "name": "stdout",
     "output_type": "stream",
     "text": [
      "Requirement already satisfied: notebook>=5.3 in /Users/krc/miniforge3/envs/krc/lib/python3.8/site-packages (6.4.8)\n",
      "Requirement already satisfied: ipywidgets>=7.5 in /Users/krc/miniforge3/envs/krc/lib/python3.8/site-packages (7.6.5)\n",
      "Requirement already satisfied: pyzmq>=17 in /Users/krc/miniforge3/envs/krc/lib/python3.8/site-packages (from notebook>=5.3) (22.3.0)\n",
      "Requirement already satisfied: ipython-genutils in /Users/krc/miniforge3/envs/krc/lib/python3.8/site-packages (from notebook>=5.3) (0.2.0)\n",
      "Requirement already satisfied: ipykernel in /Users/krc/miniforge3/envs/krc/lib/python3.8/site-packages (from notebook>=5.3) (6.9.1)\n",
      "Requirement already satisfied: argon2-cffi in /Users/krc/miniforge3/envs/krc/lib/python3.8/site-packages (from notebook>=5.3) (21.3.0)\n",
      "Requirement already satisfied: tornado>=6.1 in /Users/krc/miniforge3/envs/krc/lib/python3.8/site-packages (from notebook>=5.3) (6.1)\n",
      "Requirement already satisfied: traitlets>=4.2.1 in /Users/krc/miniforge3/envs/krc/lib/python3.8/site-packages (from notebook>=5.3) (5.1.1)\n",
      "Requirement already satisfied: jupyter-client>=5.3.4 in /Users/krc/miniforge3/envs/krc/lib/python3.8/site-packages (from notebook>=5.3) (7.1.2)\n",
      "Requirement already satisfied: nest-asyncio>=1.5 in /Users/krc/miniforge3/envs/krc/lib/python3.8/site-packages (from notebook>=5.3) (1.5.1)\n",
      "Requirement already satisfied: nbformat in /Users/krc/miniforge3/envs/krc/lib/python3.8/site-packages (from notebook>=5.3) (5.4.0)\n",
      "Requirement already satisfied: Send2Trash>=1.8.0 in /Users/krc/miniforge3/envs/krc/lib/python3.8/site-packages (from notebook>=5.3) (1.8.0)\n",
      "Requirement already satisfied: terminado>=0.8.3 in /Users/krc/miniforge3/envs/krc/lib/python3.8/site-packages (from notebook>=5.3) (0.13.1)\n",
      "Requirement already satisfied: nbconvert in /Users/krc/miniforge3/envs/krc/lib/python3.8/site-packages (from notebook>=5.3) (6.5.0)\n",
      "Requirement already satisfied: jinja2 in /Users/krc/miniforge3/envs/krc/lib/python3.8/site-packages (from notebook>=5.3) (3.0.3)\n",
      "Requirement already satisfied: prometheus-client in /Users/krc/miniforge3/envs/krc/lib/python3.8/site-packages (from notebook>=5.3) (0.13.1)\n",
      "Requirement already satisfied: jupyter-core>=4.6.1 in /Users/krc/miniforge3/envs/krc/lib/python3.8/site-packages (from notebook>=5.3) (4.9.2)\n",
      "Requirement already satisfied: jupyterlab-widgets>=1.0.0 in /Users/krc/miniforge3/envs/krc/lib/python3.8/site-packages (from ipywidgets>=7.5) (1.0.0)\n",
      "Requirement already satisfied: widgetsnbextension~=3.5.0 in /Users/krc/miniforge3/envs/krc/lib/python3.8/site-packages (from ipywidgets>=7.5) (3.5.2)\n",
      "Requirement already satisfied: ipython>=4.0.0 in /Users/krc/miniforge3/envs/krc/lib/python3.8/site-packages (from ipywidgets>=7.5) (8.2.0)\n",
      "Requirement already satisfied: appnope in /Users/krc/miniforge3/envs/krc/lib/python3.8/site-packages (from ipykernel->notebook>=5.3) (0.1.2)\n",
      "Requirement already satisfied: matplotlib-inline<0.2.0,>=0.1.0 in /Users/krc/miniforge3/envs/krc/lib/python3.8/site-packages (from ipykernel->notebook>=5.3) (0.1.2)\n",
      "Requirement already satisfied: debugpy<2.0,>=1.0.0 in /Users/krc/miniforge3/envs/krc/lib/python3.8/site-packages (from ipykernel->notebook>=5.3) (1.5.1)\n",
      "Requirement already satisfied: pickleshare in /Users/krc/miniforge3/envs/krc/lib/python3.8/site-packages (from ipython>=4.0.0->ipywidgets>=7.5) (0.7.5)\n",
      "Requirement already satisfied: decorator in /Users/krc/miniforge3/envs/krc/lib/python3.8/site-packages (from ipython>=4.0.0->ipywidgets>=7.5) (5.1.1)\n",
      "Requirement already satisfied: pygments>=2.4.0 in /Users/krc/miniforge3/envs/krc/lib/python3.8/site-packages (from ipython>=4.0.0->ipywidgets>=7.5) (2.11.2)\n",
      "Requirement already satisfied: jedi>=0.16 in /Users/krc/miniforge3/envs/krc/lib/python3.8/site-packages (from ipython>=4.0.0->ipywidgets>=7.5) (0.18.1)\n",
      "Requirement already satisfied: stack-data in /Users/krc/miniforge3/envs/krc/lib/python3.8/site-packages (from ipython>=4.0.0->ipywidgets>=7.5) (0.2.0)\n",
      "Requirement already satisfied: setuptools>=18.5 in /Users/krc/miniforge3/envs/krc/lib/python3.8/site-packages (from ipython>=4.0.0->ipywidgets>=7.5) (58.0.4)\n",
      "Requirement already satisfied: backcall in /Users/krc/miniforge3/envs/krc/lib/python3.8/site-packages (from ipython>=4.0.0->ipywidgets>=7.5) (0.2.0)\n",
      "Requirement already satisfied: pexpect>4.3 in /Users/krc/miniforge3/envs/krc/lib/python3.8/site-packages (from ipython>=4.0.0->ipywidgets>=7.5) (4.8.0)\n",
      "Requirement already satisfied: prompt-toolkit!=3.0.0,!=3.0.1,<3.1.0,>=2.0.0 in /Users/krc/miniforge3/envs/krc/lib/python3.8/site-packages (from ipython>=4.0.0->ipywidgets>=7.5) (3.0.20)\n",
      "Requirement already satisfied: python-dateutil>=2.1 in /Users/krc/miniforge3/envs/krc/lib/python3.8/site-packages (from jupyter-client>=5.3.4->notebook>=5.3) (2.8.2)\n",
      "Requirement already satisfied: entrypoints in /Users/krc/miniforge3/envs/krc/lib/python3.8/site-packages (from jupyter-client>=5.3.4->notebook>=5.3) (0.3)\n",
      "Requirement already satisfied: fastjsonschema in /Users/krc/miniforge3/envs/krc/lib/python3.8/site-packages (from nbformat->notebook>=5.3) (2.15.3)\n",
      "Requirement already satisfied: jsonschema>=2.6 in /Users/krc/miniforge3/envs/krc/lib/python3.8/site-packages (from nbformat->notebook>=5.3) (3.2.0)\n",
      "Requirement already satisfied: ptyprocess in /Users/krc/miniforge3/envs/krc/lib/python3.8/site-packages (from terminado>=0.8.3->notebook>=5.3) (0.7.0)\n",
      "Requirement already satisfied: argon2-cffi-bindings in /Users/krc/miniforge3/envs/krc/lib/python3.8/site-packages (from argon2-cffi->notebook>=5.3) (21.2.0)\n",
      "Requirement already satisfied: MarkupSafe>=2.0 in /Users/krc/miniforge3/envs/krc/lib/python3.8/site-packages (from jinja2->notebook>=5.3) (2.0.1)\n",
      "Requirement already satisfied: bleach in /Users/krc/miniforge3/envs/krc/lib/python3.8/site-packages (from nbconvert->notebook>=5.3) (4.1.0)\n",
      "Requirement already satisfied: packaging in /Users/krc/miniforge3/envs/krc/lib/python3.8/site-packages (from nbconvert->notebook>=5.3) (21.3)\n",
      "Requirement already satisfied: pandocfilters>=1.4.1 in /Users/krc/miniforge3/envs/krc/lib/python3.8/site-packages (from nbconvert->notebook>=5.3) (1.5.0)\n",
      "Requirement already satisfied: defusedxml in /Users/krc/miniforge3/envs/krc/lib/python3.8/site-packages (from nbconvert->notebook>=5.3) (0.7.1)\n",
      "Requirement already satisfied: beautifulsoup4 in /Users/krc/miniforge3/envs/krc/lib/python3.8/site-packages (from nbconvert->notebook>=5.3) (4.10.0)\n",
      "Requirement already satisfied: tinycss2 in /Users/krc/miniforge3/envs/krc/lib/python3.8/site-packages (from nbconvert->notebook>=5.3) (1.1.1)\n",
      "Requirement already satisfied: jupyterlab-pygments in /Users/krc/miniforge3/envs/krc/lib/python3.8/site-packages (from nbconvert->notebook>=5.3) (0.1.2)\n",
      "Requirement already satisfied: nbclient>=0.5.0 in /Users/krc/miniforge3/envs/krc/lib/python3.8/site-packages (from nbconvert->notebook>=5.3) (0.5.11)\n",
      "Requirement already satisfied: mistune<2,>=0.8.1 in /Users/krc/miniforge3/envs/krc/lib/python3.8/site-packages (from nbconvert->notebook>=5.3) (0.8.4)\n",
      "Requirement already satisfied: parso<0.9.0,>=0.8.0 in /Users/krc/miniforge3/envs/krc/lib/python3.8/site-packages (from jedi>=0.16->ipython>=4.0.0->ipywidgets>=7.5) (0.8.3)\n",
      "Requirement already satisfied: attrs>=17.4.0 in /Users/krc/miniforge3/envs/krc/lib/python3.8/site-packages (from jsonschema>=2.6->nbformat->notebook>=5.3) (21.4.0)\n",
      "Requirement already satisfied: six>=1.11.0 in /Users/krc/miniforge3/envs/krc/lib/python3.8/site-packages (from jsonschema>=2.6->nbformat->notebook>=5.3) (1.16.0)\n",
      "Requirement already satisfied: pyrsistent>=0.14.0 in /Users/krc/miniforge3/envs/krc/lib/python3.8/site-packages (from jsonschema>=2.6->nbformat->notebook>=5.3) (0.18.0)\n",
      "Requirement already satisfied: wcwidth in /Users/krc/miniforge3/envs/krc/lib/python3.8/site-packages (from prompt-toolkit!=3.0.0,!=3.0.1,<3.1.0,>=2.0.0->ipython>=4.0.0->ipywidgets>=7.5) (0.2.5)\n",
      "Requirement already satisfied: cffi>=1.0.1 in /Users/krc/miniforge3/envs/krc/lib/python3.8/site-packages (from argon2-cffi-bindings->argon2-cffi->notebook>=5.3) (1.15.0)\n",
      "Requirement already satisfied: soupsieve>1.2 in /Users/krc/miniforge3/envs/krc/lib/python3.8/site-packages (from beautifulsoup4->nbconvert->notebook>=5.3) (2.3.1)\n",
      "Requirement already satisfied: webencodings in /Users/krc/miniforge3/envs/krc/lib/python3.8/site-packages (from bleach->nbconvert->notebook>=5.3) (0.5.1)\n",
      "Requirement already satisfied: pyparsing!=3.0.5,>=2.0.2 in /Users/krc/miniforge3/envs/krc/lib/python3.8/site-packages (from packaging->nbconvert->notebook>=5.3) (3.0.4)\n",
      "Requirement already satisfied: pure-eval in /Users/krc/miniforge3/envs/krc/lib/python3.8/site-packages (from stack-data->ipython>=4.0.0->ipywidgets>=7.5) (0.2.2)\n",
      "Requirement already satisfied: executing in /Users/krc/miniforge3/envs/krc/lib/python3.8/site-packages (from stack-data->ipython>=4.0.0->ipywidgets>=7.5) (0.8.3)\n",
      "Requirement already satisfied: asttokens in /Users/krc/miniforge3/envs/krc/lib/python3.8/site-packages (from stack-data->ipython>=4.0.0->ipywidgets>=7.5) (2.0.5)\n",
      "Requirement already satisfied: pycparser in /Users/krc/miniforge3/envs/krc/lib/python3.8/site-packages (from cffi>=1.0.1->argon2-cffi-bindings->argon2-cffi->notebook>=5.3) (2.21)\r\n"
     ]
    }
   ],
   "source": [
    "!pip install \"notebook>=5.3\" \"ipywidgets>=7.5\"\n"
   ]
  },
  {
   "cell_type": "code",
   "execution_count": 52,
   "id": "bb533970",
   "metadata": {},
   "outputs": [
    {
     "data": {
      "application/vnd.plotly.v1+json": {
       "config": {
        "plotlyServerURL": "https://plot.ly"
       },
       "data": [
        {
         "type": "bar",
         "y": [
          2,
          3,
          1
         ]
        }
       ],
       "layout": {
        "template": {
         "data": {
          "bar": [
           {
            "error_x": {
             "color": "#2a3f5f"
            },
            "error_y": {
             "color": "#2a3f5f"
            },
            "marker": {
             "line": {
              "color": "#E5ECF6",
              "width": 0.5
             },
             "pattern": {
              "fillmode": "overlay",
              "size": 10,
              "solidity": 0.2
             }
            },
            "type": "bar"
           }
          ],
          "barpolar": [
           {
            "marker": {
             "line": {
              "color": "#E5ECF6",
              "width": 0.5
             },
             "pattern": {
              "fillmode": "overlay",
              "size": 10,
              "solidity": 0.2
             }
            },
            "type": "barpolar"
           }
          ],
          "carpet": [
           {
            "aaxis": {
             "endlinecolor": "#2a3f5f",
             "gridcolor": "white",
             "linecolor": "white",
             "minorgridcolor": "white",
             "startlinecolor": "#2a3f5f"
            },
            "baxis": {
             "endlinecolor": "#2a3f5f",
             "gridcolor": "white",
             "linecolor": "white",
             "minorgridcolor": "white",
             "startlinecolor": "#2a3f5f"
            },
            "type": "carpet"
           }
          ],
          "choropleth": [
           {
            "colorbar": {
             "outlinewidth": 0,
             "ticks": ""
            },
            "type": "choropleth"
           }
          ],
          "contour": [
           {
            "colorbar": {
             "outlinewidth": 0,
             "ticks": ""
            },
            "colorscale": [
             [
              0,
              "#0d0887"
             ],
             [
              0.1111111111111111,
              "#46039f"
             ],
             [
              0.2222222222222222,
              "#7201a8"
             ],
             [
              0.3333333333333333,
              "#9c179e"
             ],
             [
              0.4444444444444444,
              "#bd3786"
             ],
             [
              0.5555555555555556,
              "#d8576b"
             ],
             [
              0.6666666666666666,
              "#ed7953"
             ],
             [
              0.7777777777777778,
              "#fb9f3a"
             ],
             [
              0.8888888888888888,
              "#fdca26"
             ],
             [
              1,
              "#f0f921"
             ]
            ],
            "type": "contour"
           }
          ],
          "contourcarpet": [
           {
            "colorbar": {
             "outlinewidth": 0,
             "ticks": ""
            },
            "type": "contourcarpet"
           }
          ],
          "heatmap": [
           {
            "colorbar": {
             "outlinewidth": 0,
             "ticks": ""
            },
            "colorscale": [
             [
              0,
              "#0d0887"
             ],
             [
              0.1111111111111111,
              "#46039f"
             ],
             [
              0.2222222222222222,
              "#7201a8"
             ],
             [
              0.3333333333333333,
              "#9c179e"
             ],
             [
              0.4444444444444444,
              "#bd3786"
             ],
             [
              0.5555555555555556,
              "#d8576b"
             ],
             [
              0.6666666666666666,
              "#ed7953"
             ],
             [
              0.7777777777777778,
              "#fb9f3a"
             ],
             [
              0.8888888888888888,
              "#fdca26"
             ],
             [
              1,
              "#f0f921"
             ]
            ],
            "type": "heatmap"
           }
          ],
          "heatmapgl": [
           {
            "colorbar": {
             "outlinewidth": 0,
             "ticks": ""
            },
            "colorscale": [
             [
              0,
              "#0d0887"
             ],
             [
              0.1111111111111111,
              "#46039f"
             ],
             [
              0.2222222222222222,
              "#7201a8"
             ],
             [
              0.3333333333333333,
              "#9c179e"
             ],
             [
              0.4444444444444444,
              "#bd3786"
             ],
             [
              0.5555555555555556,
              "#d8576b"
             ],
             [
              0.6666666666666666,
              "#ed7953"
             ],
             [
              0.7777777777777778,
              "#fb9f3a"
             ],
             [
              0.8888888888888888,
              "#fdca26"
             ],
             [
              1,
              "#f0f921"
             ]
            ],
            "type": "heatmapgl"
           }
          ],
          "histogram": [
           {
            "marker": {
             "pattern": {
              "fillmode": "overlay",
              "size": 10,
              "solidity": 0.2
             }
            },
            "type": "histogram"
           }
          ],
          "histogram2d": [
           {
            "colorbar": {
             "outlinewidth": 0,
             "ticks": ""
            },
            "colorscale": [
             [
              0,
              "#0d0887"
             ],
             [
              0.1111111111111111,
              "#46039f"
             ],
             [
              0.2222222222222222,
              "#7201a8"
             ],
             [
              0.3333333333333333,
              "#9c179e"
             ],
             [
              0.4444444444444444,
              "#bd3786"
             ],
             [
              0.5555555555555556,
              "#d8576b"
             ],
             [
              0.6666666666666666,
              "#ed7953"
             ],
             [
              0.7777777777777778,
              "#fb9f3a"
             ],
             [
              0.8888888888888888,
              "#fdca26"
             ],
             [
              1,
              "#f0f921"
             ]
            ],
            "type": "histogram2d"
           }
          ],
          "histogram2dcontour": [
           {
            "colorbar": {
             "outlinewidth": 0,
             "ticks": ""
            },
            "colorscale": [
             [
              0,
              "#0d0887"
             ],
             [
              0.1111111111111111,
              "#46039f"
             ],
             [
              0.2222222222222222,
              "#7201a8"
             ],
             [
              0.3333333333333333,
              "#9c179e"
             ],
             [
              0.4444444444444444,
              "#bd3786"
             ],
             [
              0.5555555555555556,
              "#d8576b"
             ],
             [
              0.6666666666666666,
              "#ed7953"
             ],
             [
              0.7777777777777778,
              "#fb9f3a"
             ],
             [
              0.8888888888888888,
              "#fdca26"
             ],
             [
              1,
              "#f0f921"
             ]
            ],
            "type": "histogram2dcontour"
           }
          ],
          "mesh3d": [
           {
            "colorbar": {
             "outlinewidth": 0,
             "ticks": ""
            },
            "type": "mesh3d"
           }
          ],
          "parcoords": [
           {
            "line": {
             "colorbar": {
              "outlinewidth": 0,
              "ticks": ""
             }
            },
            "type": "parcoords"
           }
          ],
          "pie": [
           {
            "automargin": true,
            "type": "pie"
           }
          ],
          "scatter": [
           {
            "fillpattern": {
             "fillmode": "overlay",
             "size": 10,
             "solidity": 0.2
            },
            "type": "scatter"
           }
          ],
          "scatter3d": [
           {
            "line": {
             "colorbar": {
              "outlinewidth": 0,
              "ticks": ""
             }
            },
            "marker": {
             "colorbar": {
              "outlinewidth": 0,
              "ticks": ""
             }
            },
            "type": "scatter3d"
           }
          ],
          "scattercarpet": [
           {
            "marker": {
             "colorbar": {
              "outlinewidth": 0,
              "ticks": ""
             }
            },
            "type": "scattercarpet"
           }
          ],
          "scattergeo": [
           {
            "marker": {
             "colorbar": {
              "outlinewidth": 0,
              "ticks": ""
             }
            },
            "type": "scattergeo"
           }
          ],
          "scattergl": [
           {
            "marker": {
             "colorbar": {
              "outlinewidth": 0,
              "ticks": ""
             }
            },
            "type": "scattergl"
           }
          ],
          "scattermapbox": [
           {
            "marker": {
             "colorbar": {
              "outlinewidth": 0,
              "ticks": ""
             }
            },
            "type": "scattermapbox"
           }
          ],
          "scatterpolar": [
           {
            "marker": {
             "colorbar": {
              "outlinewidth": 0,
              "ticks": ""
             }
            },
            "type": "scatterpolar"
           }
          ],
          "scatterpolargl": [
           {
            "marker": {
             "colorbar": {
              "outlinewidth": 0,
              "ticks": ""
             }
            },
            "type": "scatterpolargl"
           }
          ],
          "scatterternary": [
           {
            "marker": {
             "colorbar": {
              "outlinewidth": 0,
              "ticks": ""
             }
            },
            "type": "scatterternary"
           }
          ],
          "surface": [
           {
            "colorbar": {
             "outlinewidth": 0,
             "ticks": ""
            },
            "colorscale": [
             [
              0,
              "#0d0887"
             ],
             [
              0.1111111111111111,
              "#46039f"
             ],
             [
              0.2222222222222222,
              "#7201a8"
             ],
             [
              0.3333333333333333,
              "#9c179e"
             ],
             [
              0.4444444444444444,
              "#bd3786"
             ],
             [
              0.5555555555555556,
              "#d8576b"
             ],
             [
              0.6666666666666666,
              "#ed7953"
             ],
             [
              0.7777777777777778,
              "#fb9f3a"
             ],
             [
              0.8888888888888888,
              "#fdca26"
             ],
             [
              1,
              "#f0f921"
             ]
            ],
            "type": "surface"
           }
          ],
          "table": [
           {
            "cells": {
             "fill": {
              "color": "#EBF0F8"
             },
             "line": {
              "color": "white"
             }
            },
            "header": {
             "fill": {
              "color": "#C8D4E3"
             },
             "line": {
              "color": "white"
             }
            },
            "type": "table"
           }
          ]
         },
         "layout": {
          "annotationdefaults": {
           "arrowcolor": "#2a3f5f",
           "arrowhead": 0,
           "arrowwidth": 1
          },
          "autotypenumbers": "strict",
          "coloraxis": {
           "colorbar": {
            "outlinewidth": 0,
            "ticks": ""
           }
          },
          "colorscale": {
           "diverging": [
            [
             0,
             "#8e0152"
            ],
            [
             0.1,
             "#c51b7d"
            ],
            [
             0.2,
             "#de77ae"
            ],
            [
             0.3,
             "#f1b6da"
            ],
            [
             0.4,
             "#fde0ef"
            ],
            [
             0.5,
             "#f7f7f7"
            ],
            [
             0.6,
             "#e6f5d0"
            ],
            [
             0.7,
             "#b8e186"
            ],
            [
             0.8,
             "#7fbc41"
            ],
            [
             0.9,
             "#4d9221"
            ],
            [
             1,
             "#276419"
            ]
           ],
           "sequential": [
            [
             0,
             "#0d0887"
            ],
            [
             0.1111111111111111,
             "#46039f"
            ],
            [
             0.2222222222222222,
             "#7201a8"
            ],
            [
             0.3333333333333333,
             "#9c179e"
            ],
            [
             0.4444444444444444,
             "#bd3786"
            ],
            [
             0.5555555555555556,
             "#d8576b"
            ],
            [
             0.6666666666666666,
             "#ed7953"
            ],
            [
             0.7777777777777778,
             "#fb9f3a"
            ],
            [
             0.8888888888888888,
             "#fdca26"
            ],
            [
             1,
             "#f0f921"
            ]
           ],
           "sequentialminus": [
            [
             0,
             "#0d0887"
            ],
            [
             0.1111111111111111,
             "#46039f"
            ],
            [
             0.2222222222222222,
             "#7201a8"
            ],
            [
             0.3333333333333333,
             "#9c179e"
            ],
            [
             0.4444444444444444,
             "#bd3786"
            ],
            [
             0.5555555555555556,
             "#d8576b"
            ],
            [
             0.6666666666666666,
             "#ed7953"
            ],
            [
             0.7777777777777778,
             "#fb9f3a"
            ],
            [
             0.8888888888888888,
             "#fdca26"
            ],
            [
             1,
             "#f0f921"
            ]
           ]
          },
          "colorway": [
           "#636efa",
           "#EF553B",
           "#00cc96",
           "#ab63fa",
           "#FFA15A",
           "#19d3f3",
           "#FF6692",
           "#B6E880",
           "#FF97FF",
           "#FECB52"
          ],
          "font": {
           "color": "#2a3f5f"
          },
          "geo": {
           "bgcolor": "white",
           "lakecolor": "white",
           "landcolor": "#E5ECF6",
           "showlakes": true,
           "showland": true,
           "subunitcolor": "white"
          },
          "hoverlabel": {
           "align": "left"
          },
          "hovermode": "closest",
          "mapbox": {
           "style": "light"
          },
          "paper_bgcolor": "white",
          "plot_bgcolor": "#E5ECF6",
          "polar": {
           "angularaxis": {
            "gridcolor": "white",
            "linecolor": "white",
            "ticks": ""
           },
           "bgcolor": "#E5ECF6",
           "radialaxis": {
            "gridcolor": "white",
            "linecolor": "white",
            "ticks": ""
           }
          },
          "scene": {
           "xaxis": {
            "backgroundcolor": "#E5ECF6",
            "gridcolor": "white",
            "gridwidth": 2,
            "linecolor": "white",
            "showbackground": true,
            "ticks": "",
            "zerolinecolor": "white"
           },
           "yaxis": {
            "backgroundcolor": "#E5ECF6",
            "gridcolor": "white",
            "gridwidth": 2,
            "linecolor": "white",
            "showbackground": true,
            "ticks": "",
            "zerolinecolor": "white"
           },
           "zaxis": {
            "backgroundcolor": "#E5ECF6",
            "gridcolor": "white",
            "gridwidth": 2,
            "linecolor": "white",
            "showbackground": true,
            "ticks": "",
            "zerolinecolor": "white"
           }
          },
          "shapedefaults": {
           "line": {
            "color": "#2a3f5f"
           }
          },
          "ternary": {
           "aaxis": {
            "gridcolor": "white",
            "linecolor": "white",
            "ticks": ""
           },
           "baxis": {
            "gridcolor": "white",
            "linecolor": "white",
            "ticks": ""
           },
           "bgcolor": "#E5ECF6",
           "caxis": {
            "gridcolor": "white",
            "linecolor": "white",
            "ticks": ""
           }
          },
          "title": {
           "x": 0.05
          },
          "xaxis": {
           "automargin": true,
           "gridcolor": "white",
           "linecolor": "white",
           "ticks": "",
           "title": {
            "standoff": 15
           },
           "zerolinecolor": "white",
           "zerolinewidth": 2
          },
          "yaxis": {
           "automargin": true,
           "gridcolor": "white",
           "linecolor": "white",
           "ticks": "",
           "title": {
            "standoff": 15
           },
           "zerolinecolor": "white",
           "zerolinewidth": 2
          }
         }
        }
       }
      },
      "text/html": [
       "<div>                            <div id=\"9e02c255-14d6-4825-a80f-00b0276fe975\" class=\"plotly-graph-div\" style=\"height:525px; width:100%;\"></div>            <script type=\"text/javascript\">                require([\"plotly\"], function(Plotly) {                    window.PLOTLYENV=window.PLOTLYENV || {};                                    if (document.getElementById(\"9e02c255-14d6-4825-a80f-00b0276fe975\")) {                    Plotly.newPlot(                        \"9e02c255-14d6-4825-a80f-00b0276fe975\",                        [{\"y\":[2,3,1],\"type\":\"bar\"}],                        {\"template\":{\"data\":{\"histogram2dcontour\":[{\"type\":\"histogram2dcontour\",\"colorbar\":{\"outlinewidth\":0,\"ticks\":\"\"},\"colorscale\":[[0.0,\"#0d0887\"],[0.1111111111111111,\"#46039f\"],[0.2222222222222222,\"#7201a8\"],[0.3333333333333333,\"#9c179e\"],[0.4444444444444444,\"#bd3786\"],[0.5555555555555556,\"#d8576b\"],[0.6666666666666666,\"#ed7953\"],[0.7777777777777778,\"#fb9f3a\"],[0.8888888888888888,\"#fdca26\"],[1.0,\"#f0f921\"]]}],\"choropleth\":[{\"type\":\"choropleth\",\"colorbar\":{\"outlinewidth\":0,\"ticks\":\"\"}}],\"histogram2d\":[{\"type\":\"histogram2d\",\"colorbar\":{\"outlinewidth\":0,\"ticks\":\"\"},\"colorscale\":[[0.0,\"#0d0887\"],[0.1111111111111111,\"#46039f\"],[0.2222222222222222,\"#7201a8\"],[0.3333333333333333,\"#9c179e\"],[0.4444444444444444,\"#bd3786\"],[0.5555555555555556,\"#d8576b\"],[0.6666666666666666,\"#ed7953\"],[0.7777777777777778,\"#fb9f3a\"],[0.8888888888888888,\"#fdca26\"],[1.0,\"#f0f921\"]]}],\"heatmap\":[{\"type\":\"heatmap\",\"colorbar\":{\"outlinewidth\":0,\"ticks\":\"\"},\"colorscale\":[[0.0,\"#0d0887\"],[0.1111111111111111,\"#46039f\"],[0.2222222222222222,\"#7201a8\"],[0.3333333333333333,\"#9c179e\"],[0.4444444444444444,\"#bd3786\"],[0.5555555555555556,\"#d8576b\"],[0.6666666666666666,\"#ed7953\"],[0.7777777777777778,\"#fb9f3a\"],[0.8888888888888888,\"#fdca26\"],[1.0,\"#f0f921\"]]}],\"heatmapgl\":[{\"type\":\"heatmapgl\",\"colorbar\":{\"outlinewidth\":0,\"ticks\":\"\"},\"colorscale\":[[0.0,\"#0d0887\"],[0.1111111111111111,\"#46039f\"],[0.2222222222222222,\"#7201a8\"],[0.3333333333333333,\"#9c179e\"],[0.4444444444444444,\"#bd3786\"],[0.5555555555555556,\"#d8576b\"],[0.6666666666666666,\"#ed7953\"],[0.7777777777777778,\"#fb9f3a\"],[0.8888888888888888,\"#fdca26\"],[1.0,\"#f0f921\"]]}],\"contourcarpet\":[{\"type\":\"contourcarpet\",\"colorbar\":{\"outlinewidth\":0,\"ticks\":\"\"}}],\"contour\":[{\"type\":\"contour\",\"colorbar\":{\"outlinewidth\":0,\"ticks\":\"\"},\"colorscale\":[[0.0,\"#0d0887\"],[0.1111111111111111,\"#46039f\"],[0.2222222222222222,\"#7201a8\"],[0.3333333333333333,\"#9c179e\"],[0.4444444444444444,\"#bd3786\"],[0.5555555555555556,\"#d8576b\"],[0.6666666666666666,\"#ed7953\"],[0.7777777777777778,\"#fb9f3a\"],[0.8888888888888888,\"#fdca26\"],[1.0,\"#f0f921\"]]}],\"surface\":[{\"type\":\"surface\",\"colorbar\":{\"outlinewidth\":0,\"ticks\":\"\"},\"colorscale\":[[0.0,\"#0d0887\"],[0.1111111111111111,\"#46039f\"],[0.2222222222222222,\"#7201a8\"],[0.3333333333333333,\"#9c179e\"],[0.4444444444444444,\"#bd3786\"],[0.5555555555555556,\"#d8576b\"],[0.6666666666666666,\"#ed7953\"],[0.7777777777777778,\"#fb9f3a\"],[0.8888888888888888,\"#fdca26\"],[1.0,\"#f0f921\"]]}],\"mesh3d\":[{\"type\":\"mesh3d\",\"colorbar\":{\"outlinewidth\":0,\"ticks\":\"\"}}],\"scatter\":[{\"fillpattern\":{\"fillmode\":\"overlay\",\"size\":10,\"solidity\":0.2},\"type\":\"scatter\"}],\"parcoords\":[{\"type\":\"parcoords\",\"line\":{\"colorbar\":{\"outlinewidth\":0,\"ticks\":\"\"}}}],\"scatterpolargl\":[{\"type\":\"scatterpolargl\",\"marker\":{\"colorbar\":{\"outlinewidth\":0,\"ticks\":\"\"}}}],\"bar\":[{\"error_x\":{\"color\":\"#2a3f5f\"},\"error_y\":{\"color\":\"#2a3f5f\"},\"marker\":{\"line\":{\"color\":\"#E5ECF6\",\"width\":0.5},\"pattern\":{\"fillmode\":\"overlay\",\"size\":10,\"solidity\":0.2}},\"type\":\"bar\"}],\"scattergeo\":[{\"type\":\"scattergeo\",\"marker\":{\"colorbar\":{\"outlinewidth\":0,\"ticks\":\"\"}}}],\"scatterpolar\":[{\"type\":\"scatterpolar\",\"marker\":{\"colorbar\":{\"outlinewidth\":0,\"ticks\":\"\"}}}],\"histogram\":[{\"marker\":{\"pattern\":{\"fillmode\":\"overlay\",\"size\":10,\"solidity\":0.2}},\"type\":\"histogram\"}],\"scattergl\":[{\"type\":\"scattergl\",\"marker\":{\"colorbar\":{\"outlinewidth\":0,\"ticks\":\"\"}}}],\"scatter3d\":[{\"type\":\"scatter3d\",\"line\":{\"colorbar\":{\"outlinewidth\":0,\"ticks\":\"\"}},\"marker\":{\"colorbar\":{\"outlinewidth\":0,\"ticks\":\"\"}}}],\"scattermapbox\":[{\"type\":\"scattermapbox\",\"marker\":{\"colorbar\":{\"outlinewidth\":0,\"ticks\":\"\"}}}],\"scatterternary\":[{\"type\":\"scatterternary\",\"marker\":{\"colorbar\":{\"outlinewidth\":0,\"ticks\":\"\"}}}],\"scattercarpet\":[{\"type\":\"scattercarpet\",\"marker\":{\"colorbar\":{\"outlinewidth\":0,\"ticks\":\"\"}}}],\"carpet\":[{\"aaxis\":{\"endlinecolor\":\"#2a3f5f\",\"gridcolor\":\"white\",\"linecolor\":\"white\",\"minorgridcolor\":\"white\",\"startlinecolor\":\"#2a3f5f\"},\"baxis\":{\"endlinecolor\":\"#2a3f5f\",\"gridcolor\":\"white\",\"linecolor\":\"white\",\"minorgridcolor\":\"white\",\"startlinecolor\":\"#2a3f5f\"},\"type\":\"carpet\"}],\"table\":[{\"cells\":{\"fill\":{\"color\":\"#EBF0F8\"},\"line\":{\"color\":\"white\"}},\"header\":{\"fill\":{\"color\":\"#C8D4E3\"},\"line\":{\"color\":\"white\"}},\"type\":\"table\"}],\"barpolar\":[{\"marker\":{\"line\":{\"color\":\"#E5ECF6\",\"width\":0.5},\"pattern\":{\"fillmode\":\"overlay\",\"size\":10,\"solidity\":0.2}},\"type\":\"barpolar\"}],\"pie\":[{\"automargin\":true,\"type\":\"pie\"}]},\"layout\":{\"autotypenumbers\":\"strict\",\"colorway\":[\"#636efa\",\"#EF553B\",\"#00cc96\",\"#ab63fa\",\"#FFA15A\",\"#19d3f3\",\"#FF6692\",\"#B6E880\",\"#FF97FF\",\"#FECB52\"],\"font\":{\"color\":\"#2a3f5f\"},\"hovermode\":\"closest\",\"hoverlabel\":{\"align\":\"left\"},\"paper_bgcolor\":\"white\",\"plot_bgcolor\":\"#E5ECF6\",\"polar\":{\"bgcolor\":\"#E5ECF6\",\"angularaxis\":{\"gridcolor\":\"white\",\"linecolor\":\"white\",\"ticks\":\"\"},\"radialaxis\":{\"gridcolor\":\"white\",\"linecolor\":\"white\",\"ticks\":\"\"}},\"ternary\":{\"bgcolor\":\"#E5ECF6\",\"aaxis\":{\"gridcolor\":\"white\",\"linecolor\":\"white\",\"ticks\":\"\"},\"baxis\":{\"gridcolor\":\"white\",\"linecolor\":\"white\",\"ticks\":\"\"},\"caxis\":{\"gridcolor\":\"white\",\"linecolor\":\"white\",\"ticks\":\"\"}},\"coloraxis\":{\"colorbar\":{\"outlinewidth\":0,\"ticks\":\"\"}},\"colorscale\":{\"sequential\":[[0.0,\"#0d0887\"],[0.1111111111111111,\"#46039f\"],[0.2222222222222222,\"#7201a8\"],[0.3333333333333333,\"#9c179e\"],[0.4444444444444444,\"#bd3786\"],[0.5555555555555556,\"#d8576b\"],[0.6666666666666666,\"#ed7953\"],[0.7777777777777778,\"#fb9f3a\"],[0.8888888888888888,\"#fdca26\"],[1.0,\"#f0f921\"]],\"sequentialminus\":[[0.0,\"#0d0887\"],[0.1111111111111111,\"#46039f\"],[0.2222222222222222,\"#7201a8\"],[0.3333333333333333,\"#9c179e\"],[0.4444444444444444,\"#bd3786\"],[0.5555555555555556,\"#d8576b\"],[0.6666666666666666,\"#ed7953\"],[0.7777777777777778,\"#fb9f3a\"],[0.8888888888888888,\"#fdca26\"],[1.0,\"#f0f921\"]],\"diverging\":[[0,\"#8e0152\"],[0.1,\"#c51b7d\"],[0.2,\"#de77ae\"],[0.3,\"#f1b6da\"],[0.4,\"#fde0ef\"],[0.5,\"#f7f7f7\"],[0.6,\"#e6f5d0\"],[0.7,\"#b8e186\"],[0.8,\"#7fbc41\"],[0.9,\"#4d9221\"],[1,\"#276419\"]]},\"xaxis\":{\"gridcolor\":\"white\",\"linecolor\":\"white\",\"ticks\":\"\",\"title\":{\"standoff\":15},\"zerolinecolor\":\"white\",\"automargin\":true,\"zerolinewidth\":2},\"yaxis\":{\"gridcolor\":\"white\",\"linecolor\":\"white\",\"ticks\":\"\",\"title\":{\"standoff\":15},\"zerolinecolor\":\"white\",\"automargin\":true,\"zerolinewidth\":2},\"scene\":{\"xaxis\":{\"backgroundcolor\":\"#E5ECF6\",\"gridcolor\":\"white\",\"linecolor\":\"white\",\"showbackground\":true,\"ticks\":\"\",\"zerolinecolor\":\"white\",\"gridwidth\":2},\"yaxis\":{\"backgroundcolor\":\"#E5ECF6\",\"gridcolor\":\"white\",\"linecolor\":\"white\",\"showbackground\":true,\"ticks\":\"\",\"zerolinecolor\":\"white\",\"gridwidth\":2},\"zaxis\":{\"backgroundcolor\":\"#E5ECF6\",\"gridcolor\":\"white\",\"linecolor\":\"white\",\"showbackground\":true,\"ticks\":\"\",\"zerolinecolor\":\"white\",\"gridwidth\":2}},\"shapedefaults\":{\"line\":{\"color\":\"#2a3f5f\"}},\"annotationdefaults\":{\"arrowcolor\":\"#2a3f5f\",\"arrowhead\":0,\"arrowwidth\":1},\"geo\":{\"bgcolor\":\"white\",\"landcolor\":\"#E5ECF6\",\"subunitcolor\":\"white\",\"showland\":true,\"showlakes\":true,\"lakecolor\":\"white\"},\"title\":{\"x\":0.05},\"mapbox\":{\"style\":\"light\"}}}},                        {\"responsive\": true}                    ).then(function(){\n",
       "                            \n",
       "var gd = document.getElementById('9e02c255-14d6-4825-a80f-00b0276fe975');\n",
       "var x = new MutationObserver(function (mutations, observer) {{\n",
       "        var display = window.getComputedStyle(gd).display;\n",
       "        if (!display || display === 'none') {{\n",
       "            console.log([gd, 'removed!']);\n",
       "            Plotly.purge(gd);\n",
       "            observer.disconnect();\n",
       "        }}\n",
       "}});\n",
       "\n",
       "// Listen for the removal of the full notebook cells\n",
       "var notebookContainer = gd.closest('#notebook-container');\n",
       "if (notebookContainer) {{\n",
       "    x.observe(notebookContainer, {childList: true});\n",
       "}}\n",
       "\n",
       "// Listen for the clearing of the current output cell\n",
       "var outputEl = gd.closest('.output');\n",
       "if (outputEl) {{\n",
       "    x.observe(outputEl, {childList: true});\n",
       "}}\n",
       "\n",
       "                        })                };                });            </script>        </div>"
      ]
     },
     "metadata": {},
     "output_type": "display_data"
    }
   ],
   "source": [
    "import plotly.graph_objects as go \n",
    "fig = go.Figure(data=go.Bar(y=[2, 3, 1]))\n",
    "fig.show()\n"
   ]
  },
  {
   "cell_type": "markdown",
   "id": "fc7b7bb5",
   "metadata": {},
   "source": [
    "### Dash 에서 실행하기\n"
   ]
  },
  {
   "cell_type": "code",
   "execution_count": 55,
   "id": "0ebcdc4b",
   "metadata": {},
   "outputs": [],
   "source": [
    "import plotly.graph_objects as go #or plotly.express as px \n",
    "fig = go.Figure() # or any Plotly Express function e.g. px.bar(...)\n",
    "# fig.add_trace( ... ) \n",
    "# fig.update_layout( ... ) \n",
    "import dash \n",
    "import dash_core_components as dcc \n",
    "import dash_html_components as html \n"
   ]
  },
  {
   "cell_type": "code",
   "execution_count": 61,
   "id": "e10c4a30",
   "metadata": {},
   "outputs": [],
   "source": [
    "import pandas as pd\n",
    "import numpy as np\n",
    "import scipy as sp\n",
    "import chart_studio.plotly as py"
   ]
  },
  {
   "cell_type": "code",
   "execution_count": 60,
   "id": "b975b0ca",
   "metadata": {
    "collapsed": true
   },
   "outputs": [
    {
     "name": "stdout",
     "output_type": "stream",
     "text": [
      "Collecting chart-studio\n",
      "  Downloading chart_studio-1.1.0-py3-none-any.whl (64 kB)\n",
      "\u001b[2K     \u001b[38;2;114;156;31m━━━━━━━━━━━━━━━━━━━━━━━━━━━━━━━━━━━━━━━━\u001b[0m \u001b[32m64.4/64.4 KB\u001b[0m \u001b[31m2.0 MB/s\u001b[0m eta \u001b[36m0:00:00\u001b[0m\n",
      "\u001b[?25hRequirement already satisfied: six in /Users/krc/miniforge3/envs/krc/lib/python3.8/site-packages (from chart-studio) (1.16.0)\n",
      "Requirement already satisfied: plotly in /Users/krc/miniforge3/envs/krc/lib/python3.8/site-packages (from chart-studio) (5.7.0)\n",
      "Requirement already satisfied: requests in /Users/krc/miniforge3/envs/krc/lib/python3.8/site-packages (from chart-studio) (2.27.1)\n",
      "Requirement already satisfied: retrying>=1.3.3 in /Users/krc/miniforge3/envs/krc/lib/python3.8/site-packages (from chart-studio) (1.3.3)\n",
      "Requirement already satisfied: tenacity>=6.2.0 in /Users/krc/miniforge3/envs/krc/lib/python3.8/site-packages (from plotly->chart-studio) (8.0.1)\n",
      "Requirement already satisfied: certifi>=2017.4.17 in /Users/krc/miniforge3/envs/krc/lib/python3.8/site-packages (from requests->chart-studio) (2021.10.8)\n",
      "Requirement already satisfied: idna<4,>=2.5 in /Users/krc/miniforge3/envs/krc/lib/python3.8/site-packages (from requests->chart-studio) (3.3)\n",
      "Requirement already satisfied: charset-normalizer~=2.0.0 in /Users/krc/miniforge3/envs/krc/lib/python3.8/site-packages (from requests->chart-studio) (2.0.12)\n",
      "Requirement already satisfied: urllib3<1.27,>=1.21.1 in /Users/krc/miniforge3/envs/krc/lib/python3.8/site-packages (from requests->chart-studio) (1.26.9)\n",
      "Installing collected packages: chart-studio\n",
      "Successfully installed chart-studio-1.1.0\n"
     ]
    }
   ],
   "source": [
    "!pip install chart-studio"
   ]
  },
  {
   "cell_type": "code",
   "execution_count": 72,
   "id": "38173487",
   "metadata": {},
   "outputs": [
    {
     "name": "stdout",
     "output_type": "stream",
     "text": [
      "Collecting plotly==5.0.0\n",
      "  Downloading plotly-5.0.0-py2.py3-none-any.whl (19.1 MB)\n",
      "\u001b[2K     \u001b[38;2;114;156;31m━━━━━━━━━━━━━━━━━━━━━━━━━━━━━━━━━━━━━━━━\u001b[0m \u001b[32m19.1/19.1 MB\u001b[0m \u001b[31m11.6 MB/s\u001b[0m eta \u001b[36m0:00:00\u001b[0mm eta \u001b[36m0:00:01\u001b[0m0:01\u001b[0m:01\u001b[0m\n",
      "\u001b[?25hRequirement already satisfied: six in /Users/krc/miniforge3/envs/krc/lib/python3.8/site-packages (from plotly==5.0.0) (1.16.0)\n",
      "Requirement already satisfied: tenacity>=6.2.0 in /Users/krc/miniforge3/envs/krc/lib/python3.8/site-packages (from plotly==5.0.0) (8.0.1)\n",
      "Installing collected packages: plotly\n",
      "  Attempting uninstall: plotly\n",
      "    Found existing installation: plotly 5.7.0\n",
      "    Uninstalling plotly-5.7.0:\n",
      "      Successfully uninstalled plotly-5.7.0\n",
      "Successfully installed plotly-5.0.0\n",
      "Requirement already satisfied: cufflinks in /Users/krc/miniforge3/envs/krc/lib/python3.8/site-packages (0.17.3)\n",
      "Requirement already satisfied: numpy>=1.9.2 in /Users/krc/miniforge3/envs/krc/lib/python3.8/site-packages (from cufflinks) (1.21.2)\n",
      "Requirement already satisfied: colorlover>=0.2.1 in /Users/krc/miniforge3/envs/krc/lib/python3.8/site-packages (from cufflinks) (0.3.0)\n",
      "Requirement already satisfied: setuptools>=34.4.1 in /Users/krc/miniforge3/envs/krc/lib/python3.8/site-packages (from cufflinks) (58.0.4)\n",
      "Requirement already satisfied: pandas>=0.19.2 in /Users/krc/miniforge3/envs/krc/lib/python3.8/site-packages (from cufflinks) (1.4.1)\n",
      "Requirement already satisfied: plotly>=4.1.1 in /Users/krc/miniforge3/envs/krc/lib/python3.8/site-packages (from cufflinks) (5.0.0)\n",
      "Requirement already satisfied: ipython>=5.3.0 in /Users/krc/miniforge3/envs/krc/lib/python3.8/site-packages (from cufflinks) (8.2.0)\n",
      "Requirement already satisfied: six>=1.9.0 in /Users/krc/miniforge3/envs/krc/lib/python3.8/site-packages (from cufflinks) (1.16.0)\n",
      "Requirement already satisfied: ipywidgets>=7.0.0 in /Users/krc/miniforge3/envs/krc/lib/python3.8/site-packages (from cufflinks) (7.6.5)\n",
      "Requirement already satisfied: stack-data in /Users/krc/miniforge3/envs/krc/lib/python3.8/site-packages (from ipython>=5.3.0->cufflinks) (0.2.0)\n",
      "Requirement already satisfied: jedi>=0.16 in /Users/krc/miniforge3/envs/krc/lib/python3.8/site-packages (from ipython>=5.3.0->cufflinks) (0.18.1)\n",
      "Requirement already satisfied: prompt-toolkit!=3.0.0,!=3.0.1,<3.1.0,>=2.0.0 in /Users/krc/miniforge3/envs/krc/lib/python3.8/site-packages (from ipython>=5.3.0->cufflinks) (3.0.20)\n",
      "Requirement already satisfied: traitlets>=5 in /Users/krc/miniforge3/envs/krc/lib/python3.8/site-packages (from ipython>=5.3.0->cufflinks) (5.1.1)\n",
      "Requirement already satisfied: decorator in /Users/krc/miniforge3/envs/krc/lib/python3.8/site-packages (from ipython>=5.3.0->cufflinks) (5.1.1)\n",
      "Requirement already satisfied: appnope in /Users/krc/miniforge3/envs/krc/lib/python3.8/site-packages (from ipython>=5.3.0->cufflinks) (0.1.2)\n",
      "Requirement already satisfied: pexpect>4.3 in /Users/krc/miniforge3/envs/krc/lib/python3.8/site-packages (from ipython>=5.3.0->cufflinks) (4.8.0)\n",
      "Requirement already satisfied: matplotlib-inline in /Users/krc/miniforge3/envs/krc/lib/python3.8/site-packages (from ipython>=5.3.0->cufflinks) (0.1.2)\n",
      "Requirement already satisfied: backcall in /Users/krc/miniforge3/envs/krc/lib/python3.8/site-packages (from ipython>=5.3.0->cufflinks) (0.2.0)\n",
      "Requirement already satisfied: pickleshare in /Users/krc/miniforge3/envs/krc/lib/python3.8/site-packages (from ipython>=5.3.0->cufflinks) (0.7.5)\n",
      "Requirement already satisfied: pygments>=2.4.0 in /Users/krc/miniforge3/envs/krc/lib/python3.8/site-packages (from ipython>=5.3.0->cufflinks) (2.11.2)\n",
      "Requirement already satisfied: widgetsnbextension~=3.5.0 in /Users/krc/miniforge3/envs/krc/lib/python3.8/site-packages (from ipywidgets>=7.0.0->cufflinks) (3.5.2)\n",
      "Requirement already satisfied: ipython-genutils~=0.2.0 in /Users/krc/miniforge3/envs/krc/lib/python3.8/site-packages (from ipywidgets>=7.0.0->cufflinks) (0.2.0)\n",
      "Requirement already satisfied: jupyterlab-widgets>=1.0.0 in /Users/krc/miniforge3/envs/krc/lib/python3.8/site-packages (from ipywidgets>=7.0.0->cufflinks) (1.0.0)\n",
      "Requirement already satisfied: nbformat>=4.2.0 in /Users/krc/miniforge3/envs/krc/lib/python3.8/site-packages (from ipywidgets>=7.0.0->cufflinks) (5.4.0)\n",
      "Requirement already satisfied: ipykernel>=4.5.1 in /Users/krc/miniforge3/envs/krc/lib/python3.8/site-packages (from ipywidgets>=7.0.0->cufflinks) (6.9.1)\n",
      "Requirement already satisfied: python-dateutil>=2.8.1 in /Users/krc/miniforge3/envs/krc/lib/python3.8/site-packages (from pandas>=0.19.2->cufflinks) (2.8.2)\n",
      "Requirement already satisfied: pytz>=2020.1 in /Users/krc/miniforge3/envs/krc/lib/python3.8/site-packages (from pandas>=0.19.2->cufflinks) (2021.3)\n",
      "Requirement already satisfied: tenacity>=6.2.0 in /Users/krc/miniforge3/envs/krc/lib/python3.8/site-packages (from plotly>=4.1.1->cufflinks) (8.0.1)\n",
      "Requirement already satisfied: tornado<7.0,>=4.2 in /Users/krc/miniforge3/envs/krc/lib/python3.8/site-packages (from ipykernel>=4.5.1->ipywidgets>=7.0.0->cufflinks) (6.1)\n",
      "Requirement already satisfied: debugpy<2.0,>=1.0.0 in /Users/krc/miniforge3/envs/krc/lib/python3.8/site-packages (from ipykernel>=4.5.1->ipywidgets>=7.0.0->cufflinks) (1.5.1)\n",
      "Requirement already satisfied: jupyter-client<8.0 in /Users/krc/miniforge3/envs/krc/lib/python3.8/site-packages (from ipykernel>=4.5.1->ipywidgets>=7.0.0->cufflinks) (7.1.2)\n",
      "Requirement already satisfied: nest-asyncio in /Users/krc/miniforge3/envs/krc/lib/python3.8/site-packages (from ipykernel>=4.5.1->ipywidgets>=7.0.0->cufflinks) (1.5.1)\n",
      "Requirement already satisfied: parso<0.9.0,>=0.8.0 in /Users/krc/miniforge3/envs/krc/lib/python3.8/site-packages (from jedi>=0.16->ipython>=5.3.0->cufflinks) (0.8.3)\n",
      "Requirement already satisfied: fastjsonschema in /Users/krc/miniforge3/envs/krc/lib/python3.8/site-packages (from nbformat>=4.2.0->ipywidgets>=7.0.0->cufflinks) (2.15.3)\n",
      "Requirement already satisfied: jupyter-core in /Users/krc/miniforge3/envs/krc/lib/python3.8/site-packages (from nbformat>=4.2.0->ipywidgets>=7.0.0->cufflinks) (4.9.2)\n",
      "Requirement already satisfied: jsonschema>=2.6 in /Users/krc/miniforge3/envs/krc/lib/python3.8/site-packages (from nbformat>=4.2.0->ipywidgets>=7.0.0->cufflinks) (3.2.0)\n",
      "Requirement already satisfied: ptyprocess>=0.5 in /Users/krc/miniforge3/envs/krc/lib/python3.8/site-packages (from pexpect>4.3->ipython>=5.3.0->cufflinks) (0.7.0)\n",
      "Requirement already satisfied: wcwidth in /Users/krc/miniforge3/envs/krc/lib/python3.8/site-packages (from prompt-toolkit!=3.0.0,!=3.0.1,<3.1.0,>=2.0.0->ipython>=5.3.0->cufflinks) (0.2.5)\n",
      "Requirement already satisfied: notebook>=4.4.1 in /Users/krc/miniforge3/envs/krc/lib/python3.8/site-packages (from widgetsnbextension~=3.5.0->ipywidgets>=7.0.0->cufflinks) (6.4.8)\n",
      "Requirement already satisfied: executing in /Users/krc/miniforge3/envs/krc/lib/python3.8/site-packages (from stack-data->ipython>=5.3.0->cufflinks) (0.8.3)\n",
      "Requirement already satisfied: pure-eval in /Users/krc/miniforge3/envs/krc/lib/python3.8/site-packages (from stack-data->ipython>=5.3.0->cufflinks) (0.2.2)\n",
      "Requirement already satisfied: asttokens in /Users/krc/miniforge3/envs/krc/lib/python3.8/site-packages (from stack-data->ipython>=5.3.0->cufflinks) (2.0.5)\n",
      "Requirement already satisfied: attrs>=17.4.0 in /Users/krc/miniforge3/envs/krc/lib/python3.8/site-packages (from jsonschema>=2.6->nbformat>=4.2.0->ipywidgets>=7.0.0->cufflinks) (21.4.0)\n",
      "Requirement already satisfied: pyrsistent>=0.14.0 in /Users/krc/miniforge3/envs/krc/lib/python3.8/site-packages (from jsonschema>=2.6->nbformat>=4.2.0->ipywidgets>=7.0.0->cufflinks) (0.18.0)\n",
      "Requirement already satisfied: entrypoints in /Users/krc/miniforge3/envs/krc/lib/python3.8/site-packages (from jupyter-client<8.0->ipykernel>=4.5.1->ipywidgets>=7.0.0->cufflinks) (0.3)\n",
      "Requirement already satisfied: pyzmq>=13 in /Users/krc/miniforge3/envs/krc/lib/python3.8/site-packages (from jupyter-client<8.0->ipykernel>=4.5.1->ipywidgets>=7.0.0->cufflinks) (22.3.0)\n",
      "Requirement already satisfied: Send2Trash>=1.8.0 in /Users/krc/miniforge3/envs/krc/lib/python3.8/site-packages (from notebook>=4.4.1->widgetsnbextension~=3.5.0->ipywidgets>=7.0.0->cufflinks) (1.8.0)\n",
      "Requirement already satisfied: jinja2 in /Users/krc/miniforge3/envs/krc/lib/python3.8/site-packages (from notebook>=4.4.1->widgetsnbextension~=3.5.0->ipywidgets>=7.0.0->cufflinks) (3.0.3)\n",
      "Requirement already satisfied: terminado>=0.8.3 in /Users/krc/miniforge3/envs/krc/lib/python3.8/site-packages (from notebook>=4.4.1->widgetsnbextension~=3.5.0->ipywidgets>=7.0.0->cufflinks) (0.13.1)\n",
      "Requirement already satisfied: prometheus-client in /Users/krc/miniforge3/envs/krc/lib/python3.8/site-packages (from notebook>=4.4.1->widgetsnbextension~=3.5.0->ipywidgets>=7.0.0->cufflinks) (0.13.1)\n",
      "Requirement already satisfied: nbconvert in /Users/krc/miniforge3/envs/krc/lib/python3.8/site-packages (from notebook>=4.4.1->widgetsnbextension~=3.5.0->ipywidgets>=7.0.0->cufflinks) (6.5.0)\n",
      "Requirement already satisfied: argon2-cffi in /Users/krc/miniforge3/envs/krc/lib/python3.8/site-packages (from notebook>=4.4.1->widgetsnbextension~=3.5.0->ipywidgets>=7.0.0->cufflinks) (21.3.0)\n",
      "Requirement already satisfied: argon2-cffi-bindings in /Users/krc/miniforge3/envs/krc/lib/python3.8/site-packages (from argon2-cffi->notebook>=4.4.1->widgetsnbextension~=3.5.0->ipywidgets>=7.0.0->cufflinks) (21.2.0)\n",
      "Requirement already satisfied: MarkupSafe>=2.0 in /Users/krc/miniforge3/envs/krc/lib/python3.8/site-packages (from jinja2->notebook>=4.4.1->widgetsnbextension~=3.5.0->ipywidgets>=7.0.0->cufflinks) (2.0.1)\n",
      "Requirement already satisfied: nbclient>=0.5.0 in /Users/krc/miniforge3/envs/krc/lib/python3.8/site-packages (from nbconvert->notebook>=4.4.1->widgetsnbextension~=3.5.0->ipywidgets>=7.0.0->cufflinks) (0.5.11)\n",
      "Requirement already satisfied: bleach in /Users/krc/miniforge3/envs/krc/lib/python3.8/site-packages (from nbconvert->notebook>=4.4.1->widgetsnbextension~=3.5.0->ipywidgets>=7.0.0->cufflinks) (4.1.0)\n",
      "Requirement already satisfied: mistune<2,>=0.8.1 in /Users/krc/miniforge3/envs/krc/lib/python3.8/site-packages (from nbconvert->notebook>=4.4.1->widgetsnbextension~=3.5.0->ipywidgets>=7.0.0->cufflinks) (0.8.4)\n",
      "Requirement already satisfied: packaging in /Users/krc/miniforge3/envs/krc/lib/python3.8/site-packages (from nbconvert->notebook>=4.4.1->widgetsnbextension~=3.5.0->ipywidgets>=7.0.0->cufflinks) (21.3)\n",
      "Requirement already satisfied: jupyterlab-pygments in /Users/krc/miniforge3/envs/krc/lib/python3.8/site-packages (from nbconvert->notebook>=4.4.1->widgetsnbextension~=3.5.0->ipywidgets>=7.0.0->cufflinks) (0.1.2)\n",
      "Requirement already satisfied: pandocfilters>=1.4.1 in /Users/krc/miniforge3/envs/krc/lib/python3.8/site-packages (from nbconvert->notebook>=4.4.1->widgetsnbextension~=3.5.0->ipywidgets>=7.0.0->cufflinks) (1.5.0)\n",
      "Requirement already satisfied: tinycss2 in /Users/krc/miniforge3/envs/krc/lib/python3.8/site-packages (from nbconvert->notebook>=4.4.1->widgetsnbextension~=3.5.0->ipywidgets>=7.0.0->cufflinks) (1.1.1)\n",
      "Requirement already satisfied: defusedxml in /Users/krc/miniforge3/envs/krc/lib/python3.8/site-packages (from nbconvert->notebook>=4.4.1->widgetsnbextension~=3.5.0->ipywidgets>=7.0.0->cufflinks) (0.7.1)\n",
      "Requirement already satisfied: beautifulsoup4 in /Users/krc/miniforge3/envs/krc/lib/python3.8/site-packages (from nbconvert->notebook>=4.4.1->widgetsnbextension~=3.5.0->ipywidgets>=7.0.0->cufflinks) (4.10.0)\n",
      "Requirement already satisfied: cffi>=1.0.1 in /Users/krc/miniforge3/envs/krc/lib/python3.8/site-packages (from argon2-cffi-bindings->argon2-cffi->notebook>=4.4.1->widgetsnbextension~=3.5.0->ipywidgets>=7.0.0->cufflinks) (1.15.0)\n",
      "Requirement already satisfied: soupsieve>1.2 in /Users/krc/miniforge3/envs/krc/lib/python3.8/site-packages (from beautifulsoup4->nbconvert->notebook>=4.4.1->widgetsnbextension~=3.5.0->ipywidgets>=7.0.0->cufflinks) (2.3.1)\n",
      "Requirement already satisfied: webencodings in /Users/krc/miniforge3/envs/krc/lib/python3.8/site-packages (from bleach->nbconvert->notebook>=4.4.1->widgetsnbextension~=3.5.0->ipywidgets>=7.0.0->cufflinks) (0.5.1)\n",
      "Requirement already satisfied: pyparsing!=3.0.5,>=2.0.2 in /Users/krc/miniforge3/envs/krc/lib/python3.8/site-packages (from packaging->nbconvert->notebook>=4.4.1->widgetsnbextension~=3.5.0->ipywidgets>=7.0.0->cufflinks) (3.0.4)\n",
      "Requirement already satisfied: pycparser in /Users/krc/miniforge3/envs/krc/lib/python3.8/site-packages (from cffi>=1.0.1->argon2-cffi-bindings->argon2-cffi->notebook>=4.4.1->widgetsnbextension~=3.5.0->ipywidgets>=7.0.0->cufflinks) (2.21)\n"
     ]
    }
   ],
   "source": [
    "!pip install plotly==5.0.0\n",
    "!pip install cufflinks"
   ]
  },
  {
   "cell_type": "code",
   "execution_count": 73,
   "id": "107eb83d",
   "metadata": {
    "scrolled": true
   },
   "outputs": [
    {
     "ename": "ImportError",
     "evalue": "\nThe plotly.plotly module is deprecated,\nplease install the chart-studio package and use the\nchart_studio.plotly module instead. \n",
     "output_type": "error",
     "traceback": [
      "\u001b[0;31m---------------------------------------------------------------------------\u001b[0m",
      "\u001b[0;31mImportError\u001b[0m                               Traceback (most recent call last)",
      "Input \u001b[0;32mIn [73]\u001b[0m, in \u001b[0;36m<cell line: 1>\u001b[0;34m()\u001b[0m\n\u001b[0;32m----> 1\u001b[0m \u001b[38;5;28;01mimport\u001b[39;00m \u001b[38;5;21;01mplotly\u001b[39;00m\u001b[38;5;21;01m.\u001b[39;00m\u001b[38;5;21;01mplotly\u001b[39;00m \u001b[38;5;28;01mas\u001b[39;00m \u001b[38;5;21;01mpy\u001b[39;00m\n\u001b[1;32m      2\u001b[0m \u001b[38;5;28;01mimport\u001b[39;00m \u001b[38;5;21;01mplotly\u001b[39;00m\u001b[38;5;21;01m.\u001b[39;00m\u001b[38;5;21;01mgraph_objs\u001b[39;00m \u001b[38;5;28;01mas\u001b[39;00m \u001b[38;5;21;01mgo\u001b[39;00m\n",
      "File \u001b[0;32m~/miniforge3/envs/krc/lib/python3.8/site-packages/plotly/plotly/__init__.py:4\u001b[0m, in \u001b[0;36m<module>\u001b[0;34m\u001b[0m\n\u001b[1;32m      1\u001b[0m \u001b[38;5;28;01mfrom\u001b[39;00m \u001b[38;5;21;01m__future__\u001b[39;00m \u001b[38;5;28;01mimport\u001b[39;00m absolute_import\n\u001b[1;32m      2\u001b[0m \u001b[38;5;28;01mfrom\u001b[39;00m \u001b[38;5;21;01m_plotly_future_\u001b[39;00m \u001b[38;5;28;01mimport\u001b[39;00m _chart_studio_error\n\u001b[0;32m----> 4\u001b[0m \u001b[43m_chart_studio_error\u001b[49m\u001b[43m(\u001b[49m\u001b[38;5;124;43m\"\u001b[39;49m\u001b[38;5;124;43mplotly\u001b[39;49m\u001b[38;5;124;43m\"\u001b[39;49m\u001b[43m)\u001b[49m\n",
      "File \u001b[0;32m~/miniforge3/envs/krc/lib/python3.8/site-packages/_plotly_future_/__init__.py:43\u001b[0m, in \u001b[0;36m_chart_studio_error\u001b[0;34m(submodule)\u001b[0m\n\u001b[1;32m     42\u001b[0m \u001b[38;5;28;01mdef\u001b[39;00m \u001b[38;5;21m_chart_studio_error\u001b[39m(submodule):\n\u001b[0;32m---> 43\u001b[0m     \u001b[38;5;28;01mraise\u001b[39;00m \u001b[38;5;167;01mImportError\u001b[39;00m(\n\u001b[1;32m     44\u001b[0m         \u001b[38;5;124;03m\"\"\"\u001b[39;00m\n\u001b[1;32m     45\u001b[0m \u001b[38;5;124;03mThe plotly.{submodule} module is deprecated,\u001b[39;00m\n\u001b[1;32m     46\u001b[0m \u001b[38;5;124;03mplease install the chart-studio package and use the\u001b[39;00m\n\u001b[1;32m     47\u001b[0m \u001b[38;5;124;03mchart_studio.{submodule} module instead. \u001b[39;00m\n\u001b[1;32m     48\u001b[0m \u001b[38;5;124;03m\"\"\"\u001b[39;00m\u001b[38;5;241m.\u001b[39mformat(\n\u001b[1;32m     49\u001b[0m             submodule\u001b[38;5;241m=\u001b[39msubmodule\n\u001b[1;32m     50\u001b[0m         )\n\u001b[1;32m     51\u001b[0m     )\n",
      "\u001b[0;31mImportError\u001b[0m: \nThe plotly.plotly module is deprecated,\nplease install the chart-studio package and use the\nchart_studio.plotly module instead. \n"
     ]
    }
   ],
   "source": [
    "import plotly.plotly as py\n",
    "import plotly.graph_objs as go"
   ]
  },
  {
   "cell_type": "code",
   "execution_count": null,
   "id": "d34c2641",
   "metadata": {},
   "outputs": [],
   "source": [
    "import chart_studio.plotly as py\n",
    "import plotly.figure_factory as ff\n",
    "import pandas as pd\n",
    "from plotly.offline import iplot\n",
    "df = data1\n",
    "table = ff.create_table(df)\n",
    "py.iplot(table, filename='jupyter-table1')"
   ]
  },
  {
   "cell_type": "markdown",
   "id": "835bf24b",
   "metadata": {},
   "source": [
    "https://plotly.com/python/ipython-notebook-tutorial/\n",
    "\n",
    "https://github.com/santosjorge/cufflinks/issues/267\n",
    "\n",
    "https://dailyheumsi.tistory.com/118"
   ]
  }
 ],
 "metadata": {
  "kernelspec": {
   "display_name": "Python 3 (ipykernel)",
   "language": "python",
   "name": "python3"
  },
  "language_info": {
   "codemirror_mode": {
    "name": "ipython",
    "version": 3
   },
   "file_extension": ".py",
   "mimetype": "text/x-python",
   "name": "python",
   "nbconvert_exporter": "python",
   "pygments_lexer": "ipython3",
   "version": "3.8.13"
  }
 },
 "nbformat": 4,
 "nbformat_minor": 5
}
