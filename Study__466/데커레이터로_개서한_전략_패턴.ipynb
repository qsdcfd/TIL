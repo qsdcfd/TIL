{
  "nbformat": 4,
  "nbformat_minor": 0,
  "metadata": {
    "colab": {
      "provenance": [],
      "authorship_tag": "ABX9TyNbooOXZcXFQpU/alz3LhYD"
    },
    "kernelspec": {
      "name": "python3",
      "display_name": "Python 3"
    },
    "language_info": {
      "name": "python"
    }
  },
  "cells": [
    {
      "cell_type": "markdown",
      "source": [
        "# 객체로서의 함수\n",
        "## 함수 데커레이터와 클로저\n",
        "### 데커레이터로 개선한 전략 패턴\n",
        "\n",
        "코드를 반복하는 행위를 줄여야 하는데, 그 방법은 등록 데커레이터를 사용하는 것이다.\n",
        "\n",
        "```\n",
        "promos = []\n",
        "\n",
        "def promotion(promo_func):\n",
        "\tpromos.append(promo_func)\n",
        "    return promo_func\n",
        "\n",
        "@promotion\n",
        "def fidelity(order):\n",
        "\t\"\"\"충성도 포인트가 1000점 이상인 고객에게 전체 5% 할인 적용\"\"\"\n",
        "    return order.total() * .05 if order.customer.fidelity >= 1000 else 0\n",
        "    \n",
        "@promotion\n",
        "def bulk_item(order):\n",
        "\t\"\"\"20개 이상의 동일 상품을 구입하면 10% 할인 적용\"\"\"\n",
        "    discount = 0\n",
        "    for item in order.cart:\n",
        "    \tif item.quantity >= 20:\n",
        "        \tdiscount += item.total() *.1\n",
        "    return discount\n",
        "\n",
        "@promotion\n",
        "def large_order(order):\n",
        "\t\"\"\"10종류 이상의 상품을 구입하면 전체 7% 할인 적용\"\"\"\n",
        "    distinct_items = {item.product for item in order.cart}\n",
        "    if len(distinct_item) >= 10:\n",
        "    \treturn order.total() *.07\n",
        "    return 0\n",
        "\n",
        "\n",
        "def best_promo(order):\n",
        "\t\"\"\"최대로 할인 받을 금액 반환\"\"\"\n",
        "    return max(promo(order) for promo in promos)\n",
        "```\n",
        "\n",
        ">프로모션 전략 함수명이 특별한 형태로 되어 있을 필요 없고, @promotion 데커레이터는 데커레이터된 함수의 목적을 명확히 알려주며, 임시로 어떤 프로모션을 배저할 수 있지만 주석처리 필수. <br> 프로모션 할인 전략을 구현한 함수는 @promotion 데커레이터가 적용되는 한 어느 모듈에서든 정의할 수 있다.\n",
        "\n",
        "<br>\n",
        "\n",
        "대부분의 데커레이터는 데커리이트된 함수를 변경하고, 내부 함수를 정의하여 그것을 반환하여 데커레이터된 함수를 대체하고, 내부 함수를 사용하는 코드는 제대로 동작하기 위해서 거의 항상 클로저에 의존하고, 이를 이해하기 위해서 파이썬에서 변수 범위의 작동 방식 생각하기\n"
      ],
      "metadata": {
        "id": "6Lmt6oq0rNoM"
      }
    },
    {
      "cell_type": "code",
      "source": [],
      "metadata": {
        "id": "ZeYhCsEerPh6"
      },
      "execution_count": null,
      "outputs": []
    }
  ]
}