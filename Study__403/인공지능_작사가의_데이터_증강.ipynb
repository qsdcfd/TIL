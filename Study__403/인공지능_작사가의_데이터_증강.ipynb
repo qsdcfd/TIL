{
  "nbformat": 4,
  "nbformat_minor": 0,
  "metadata": {
    "colab": {
      "provenance": [],
      "authorship_tag": "ABX9TyNKEPPgE+PPpuhLnvdlHObJ"
    },
    "kernelspec": {
      "name": "python3",
      "display_name": "Python 3"
    },
    "language_info": {
      "name": "python"
    },
    "accelerator": "GPU"
  },
  "cells": [
    {
      "cell_type": "markdown",
      "source": [
        "## 순환 신경망을 이용한 문장 생성 예제\n",
        "\n",
        "**Simple RNN, GRU, LSTM 활용**"
      ],
      "metadata": {
        "id": "lJ8yWVOD7pYc"
      }
    },
    {
      "cell_type": "code",
      "source": [
        "!git clone \"https://github.com/brunoklein99/deep-learning-notes\""
      ],
      "metadata": {
        "colab": {
          "base_uri": "https://localhost:8080/"
        },
        "id": "PWX_AETnmUqg",
        "outputId": "14b8df83-67b9-4cd0-be2f-25775f1a403a"
      },
      "execution_count": null,
      "outputs": [
        {
          "output_type": "stream",
          "name": "stdout",
          "text": [
            "Cloning into 'deep-learning-notes'...\n",
            "remote: Enumerating objects: 491, done.\u001b[K\n",
            "remote: Total 491 (delta 0), reused 0 (delta 0), pack-reused 491\u001b[K\n",
            "Receiving objects: 100% (491/491), 57.55 MiB | 13.51 MiB/s, done.\n",
            "Resolving deltas: 100% (183/183), done.\n"
          ]
        }
      ]
    },
    {
      "cell_type": "code",
      "source": [
        "#라이브러리 호출\n",
        "import re   #문자열 정규식\n",
        "import os   #디렉토리 관리\n",
        "import glob   #디렉토리 관리(2)\n",
        "import nltk   #자연어 처리\n",
        "import tensorflow as tf   #텐서관리\n",
        "import matplotlib.pyplot as plt   #데이터 시각화"
      ],
      "metadata": {
        "id": "ORWlHq7hldoN"
      },
      "execution_count": 1,
      "outputs": []
    },
    {
      "cell_type": "code",
      "source": [
        "#/content/deep-learning-notes/shakespeare.txt\n",
        "\n",
        "txt_file_path = \"/content/shakespeare.txt\"\n",
        "txt_list = glob.glob(txt_file_path)\n",
        "\n",
        "raw_corpus = []\n",
        "for txt_file in txt_list:\n",
        "    with open(txt_file, \"r\") as f:\n",
        "        raw = f.read().splitlines()\n",
        "        raw_corpus.extend(raw)"
      ],
      "metadata": {
        "id": "hXRBNX5Pl7VC"
      },
      "execution_count": 2,
      "outputs": []
    },
    {
      "cell_type": "code",
      "source": [
        "#단어 단위 분할 함수+++++++++++++++++++++++++++++++\n",
        "def clean_str(string, TREC=False):\n",
        "    \"\"\"\n",
        "    Tokenization/string cleaning for all datasets except for SST.\n",
        "    Every dataset is lower cased except for TREC\n",
        "    \"\"\"\n",
        "    #코드 수정==========================\n",
        "    string = re.sub(r\"[^A-Za-z!?\\']\", \" \", string)\n",
        "    string = re.sub(r'[\" \"]+', \" \", string)\n",
        "    #End================================\n",
        "    \n",
        "    string = re.sub(r\"\\'s\", \" \\'s\", string) \n",
        "    string = re.sub(r\"\\'ve\", \" \\'ve\", string) \n",
        "    string = re.sub(r\"n\\'t\", \" n\\'t\", string) \n",
        "    string = re.sub(r\"\\'re\", \" \\'re\", string) \n",
        "    string = re.sub(r\"\\'d\", \" \\'d\", string) \n",
        "    string = re.sub(r\"\\'ll\", \" \\'ll\", string) \n",
        "    \n",
        "    string = re.sub(r\"!\", \" ! \", string) \n",
        "    string = re.sub(r\"\\?\", \" \\? \", string) \n",
        "    string = re.sub(r\"\\s{2,}\", \" \", string)\n",
        "    \n",
        "    #코드 수정==========================\n",
        "    string = re.sub(r\",\", \" \", string) \n",
        "    string = re.sub(r\"\\(\", \" \", string) \n",
        "    string = re.sub(r\"\\)\", \" \", string) \n",
        "    #End================================\n",
        "    return string.strip() if TREC else string.strip().lower()\n",
        "#\"CNN_sentence\", Kim Yoon, accessed Oct, 8, 2021, https://github.com/yoonkim/CNN_sentence\n",
        "#End++++++++++++++++++++++++++++++++++++++++++++++++++\n",
        "\n",
        "\n",
        "#문장별로 정제하기===========================\n",
        "corpus_sample = [clean_str(sentence) for sentence in raw_corpus if len(sentence) != 0]\n",
        "#End=========================================\n",
        "\n",
        "\n",
        "print(\"*\" * 50, end=\"\\n\\n\")\n",
        "print(raw_corpus[3], \"\\n\\n\" + \"↓\" * 30 + \"\\n\\n\", corpus_sample[3])\n",
        "print(\"\\n\" + \"*\" * 50)"
      ],
      "metadata": {
        "colab": {
          "base_uri": "https://localhost:8080/"
        },
        "id": "MtRak27VmxJx",
        "outputId": "74c2877e-94be-4bcc-a76a-5878262ab626"
      },
      "execution_count": 3,
      "outputs": [
        {
          "output_type": "stream",
          "name": "stdout",
          "text": [
            "**************************************************\n",
            "\n",
            "often releases Etexts that are NOT placed in the Public Domain!! \n",
            "\n",
            "↓↓↓↓↓↓↓↓↓↓↓↓↓↓↓↓↓↓↓↓↓↓↓↓↓↓↓↓↓↓\n",
            "\n",
            " often releases etexts that are not placed in the public domain ! !\n",
            "\n",
            "**************************************************\n"
          ]
        }
      ]
    },
    {
      "cell_type": "code",
      "source": [
        "#데이터 일부 출력========\n",
        "print(\"*\" * 50)\n",
        "for line in corpus_sample[10:15]:\n",
        "    print(line, end=\"\\n\\n\")\n",
        "print(\"*\" * 50)\n",
        "#End======================\n",
        "\n",
        "#data_len=================\n",
        "print(\"\\n*sentence num:\", len(corpus_sample), end=\"\\n\\n\")"
      ],
      "metadata": {
        "colab": {
          "base_uri": "https://localhost:8080/"
        },
        "id": "SJ76tKudmz9u",
        "outputId": "7c92ecf3-6a64-42da-c464-5934d7d3a59b"
      },
      "execution_count": 4,
      "outputs": [
        {
          "output_type": "stream",
          "name": "stdout",
          "text": [
            "**************************************************\n",
            "distributed so long as such copies are for your or others\n",
            "\n",
            "personal use only and are not distributed or used\n",
            "\n",
            "commercially prohibited commercial distribution includes by any\n",
            "\n",
            "service that charges for download time or for membership\n",
            "\n",
            "project gutenberg is proud to cooperate with the world library\n",
            "\n",
            "**************************************************\n",
            "\n",
            "*sentence num: 115051\n",
            "\n"
          ]
        }
      ]
    },
    {
      "cell_type": "code",
      "source": [
        "sentence_len = [len(sentence.split(\" \")) for sentence in corpus_sample]\n",
        "sentence_len.sort()\n",
        "\n",
        "\n",
        "cut_size = int(len(sentence_len) * 0.85)\n",
        "print(\"*\" * 50)\n",
        "print(\"minimum word:\", sentence_len[0])\n",
        "print(\"maximum word:\", sentence_len[-1])\n",
        "print(\"85% word:\", sentence_len[cut_size])\n",
        "print(\"*\" * 50)\n",
        "\n",
        "# #14개 이하 단어로 구성된 문장으로 정제\n",
        "# corpus = [sentence for sentence in corpus if len(sentence.split(\" \")) < 15]\n",
        "\n",
        "\n",
        "#시각화==========================\n",
        "plt.figure(figsize=(7, 4))\n",
        "plt.title(\"<Fig. 1> word num by sentence\")\n",
        "plt.plot(sentence_len, color=\"#1e90ff\")\n",
        "plt.show()\n",
        "\n",
        "#End================================="
      ],
      "metadata": {
        "colab": {
          "base_uri": "https://localhost:8080/",
          "height": 366
        },
        "id": "wyjefGcLm4Cr",
        "outputId": "642e1f6a-14d5-4193-9490-20c4d27d8ee5"
      },
      "execution_count": 5,
      "outputs": [
        {
          "output_type": "stream",
          "name": "stdout",
          "text": [
            "**************************************************\n",
            "minimum word: 1\n",
            "maximum word: 19\n",
            "85% word: 11\n",
            "**************************************************\n"
          ]
        },
        {
          "output_type": "display_data",
          "data": {
            "text/plain": [
              "<Figure size 504x288 with 1 Axes>"
            ],
            "image/png": "[encoded data removed]"
          },
          "metadata": {
            "needs_background": "light"
          }
        }
      ]
    },
    {
      "cell_type": "code",
      "source": [
        "one_word_sentence = {sentence for sentence in corpus_sample if len(sentence.split(\" \")) == 1}\n",
        "\n",
        "print(\"*\" * 50)\n",
        "for line in list(one_word_sentence)[10:15]:\n",
        "    print(line, end=\"\\n\\n\")\n",
        "print(\"*\" * 50)\n",
        "\n",
        "print(\"\\n*one word sentence num:\", len(one_word_sentence))"
      ],
      "metadata": {
        "colab": {
          "base_uri": "https://localhost:8080/"
        },
        "id": "RpR4Gc9Gm6eS",
        "outputId": "1aaf0fec-c889-4f82-b58c-6f12d23c93aa"
      },
      "execution_count": 6,
      "outputs": [
        {
          "output_type": "stream",
          "name": "stdout",
          "text": [
            "**************************************************\n",
            "performance\n",
            "\n",
            "plays\n",
            "\n",
            "praise\n",
            "\n",
            "lady\n",
            "\n",
            "ruminat\n",
            "\n",
            "**************************************************\n",
            "\n",
            "*one word sentence num: 833\n"
          ]
        }
      ]
    },
    {
      "cell_type": "code",
      "source": [
        "word_list_dup = [word for sentence in corpus_sample for word in sentence.split(\" \")]\n",
        "word_list = {word for word in word_list_dup}\n",
        "nltk_text = nltk.Text(word_list_dup)\n",
        "\n",
        "print(\"*\" * 50)\n",
        "print(\"*word num:\", len(word_list))\n",
        "print(\"*\" * 50)\n",
        "\n",
        "\n",
        "plt.figure(figsize=(11, 3))\n",
        "plt.title(\"<Fig. 2> word num\")\n",
        "nltk_text.plot(40)\n",
        "plt.show()"
      ],
      "metadata": {
        "colab": {
          "base_uri": "https://localhost:8080/",
          "height": 306
        },
        "id": "qVZhKMf2m9sV",
        "outputId": "33a7db05-4537-4283-e1dd-39637d4ed3b9"
      },
      "execution_count": 7,
      "outputs": [
        {
          "output_type": "stream",
          "name": "stdout",
          "text": [
            "**************************************************\n",
            "*word num: 25003\n",
            "**************************************************\n"
          ]
        },
        {
          "output_type": "display_data",
          "data": {
            "text/plain": [
              "<Figure size 792x216 with 1 Axes>"
            ],
            "image/png": "[encoded data removed]"
          },
          "metadata": {
            "needs_background": "light"
          }
        }
      ]
    },
    {
      "cell_type": "code",
      "source": [
        "word_len = [len(word) for word in word_list]\n",
        "word_len.sort()\n",
        "\n",
        "#시각화==========================\n",
        "plt.figure(figsize=(7, 4))\n",
        "plt.title(\"<Fig. 3> letter num by word\")\n",
        "plt.plot(word_len, color=\"#1e90ff\")\n",
        "plt.show()\n",
        "#End================================="
      ],
      "metadata": {
        "colab": {
          "base_uri": "https://localhost:8080/",
          "height": 281
        },
        "id": "kMImyTZhnAHe",
        "outputId": "83363981-f0be-421d-e5b0-677e529a6785"
      },
      "execution_count": 8,
      "outputs": [
        {
          "output_type": "display_data",
          "data": {
            "text/plain": [
              "<Figure size 504x288 with 1 Axes>"
            ],
            "image/png": "[encoded data removed]"
          },
          "metadata": {
            "needs_background": "light"
          }
        }
      ]
    },
    {
      "cell_type": "code",
      "source": [
        "word_over_ten = [word for word in word_list if len(word) >= 15]\n",
        "\n",
        "print(\"*\" * 50)\n",
        "for word in word_over_ten[:10]:\n",
        "    print(word, end=\"\\n\\n\")\n",
        "print(\"*\" * 50)"
      ],
      "metadata": {
        "colab": {
          "base_uri": "https://localhost:8080/"
        },
        "id": "zoObT_xAnG8y",
        "outputId": "1841c8ab-de17-42bd-e03c-fad9ba2530d8"
      },
      "execution_count": 9,
      "outputs": [
        {
          "output_type": "stream",
          "name": "stdout",
          "text": [
            "**************************************************\n",
            "distinguishment\n",
            "\n",
            "gloucestershire\n",
            "\n",
            "unreconciliable\n",
            "\n",
            "undistinguishable\n",
            "\n",
            "interchangement\n",
            "\n",
            "interrogatories\n",
            "\n",
            "superstitiously\n",
            "\n",
            "gioucestershire\n",
            "\n",
            "uncomprehensive\n",
            "\n",
            "circumscription\n",
            "\n",
            "**************************************************\n"
          ]
        }
      ]
    },
    {
      "cell_type": "code",
      "source": [
        "sample_corpus = None\n",
        "corpus = []\n",
        "for sentence in raw_corpus:\n",
        "    if len(sentence) == 0: continue;   #길이가 0인 문장\n",
        "    if sentence[-1] == \":\": continue;   #문장의 끝이 ':'인 문장\n",
        "\n",
        "    new_sentence = clean_str(sentence, TREC=False)\n",
        "\n",
        "    if len(new_sentence.split(\" \")) < 3: continue;   #단어가 2개 이하인 문장 제외\n",
        "    if len(new_sentence.split(\" \")) > 12: continue;   #토큰이 15개 이상인 문장\n",
        "    \n",
        "    #단어 중심===========\n",
        "    letter_num_TF = True\n",
        "    for word in new_sentence.split(\" \"):\n",
        "        if len(word) > 14:   #글자 수 15개 이상 단어 제외\n",
        "            letter_num_TF = False\n",
        "            break\n",
        "    if not letter_num_TF: continue\n",
        "    #End=================\n",
        "        \n",
        "    new_sentence = \"<start> \" + new_sentence + \" <end>\"\n",
        "    corpus.append(new_sentence)"
      ],
      "metadata": {
        "id": "j91dlM_CnLHl"
      },
      "execution_count": 10,
      "outputs": []
    },
    {
      "cell_type": "code",
      "source": [
        "word_list = {word for sentence in corpus for word in sentence.split(\" \")}\n",
        "\n",
        "\n",
        "#데이터 일부 출력========\n",
        "print(\"*\" * 50)\n",
        "for line in corpus[10:15]:\n",
        "    print(line, end=\"\\n\\n\")\n",
        "print(\"*\" * 50)\n",
        "#End======================\n",
        "\n",
        "\n",
        "print(\"\\n*sentence num:\", len(corpus))\n",
        "print(\"*word num:\", len(word_list))"
      ],
      "metadata": {
        "colab": {
          "base_uri": "https://localhost:8080/"
        },
        "id": "-6RAdjbMnNXq",
        "outputId": "7173ec7a-cc9e-4182-b7e2-84551f681088"
      },
      "execution_count": 11,
      "outputs": [
        {
          "output_type": "stream",
          "name": "stdout",
          "text": [
            "**************************************************\n",
            "<start> commercially prohibited commercial distribution includes by any <end>\n",
            "\n",
            "<start> service that charges for download time or for membership <end>\n",
            "\n",
            "<start> project gutenberg is proud to cooperate with the world library <end>\n",
            "\n",
            "<start> in the presentation of the complete works of william shakespeare <end>\n",
            "\n",
            "<start> for your reading for education and entertainment however this <end>\n",
            "\n",
            "**************************************************\n",
            "\n",
            "*sentence num: 102066\n",
            "*word num: 23944\n"
          ]
        }
      ]
    },
    {
      "cell_type": "code",
      "source": [
        " #토크나이즈 함수======================================\n",
        "def tokenize(corpus):\n",
        "    tokenizer = tf.keras.preprocessing.text.Tokenizer(\n",
        "        num_words=12000, \n",
        "        oov_token=\"<unk>\",   #포함되지 못한 단어는 \"<unk>\"로 처리\n",
        "        filters=' '   #전처리되었으므로 제외\n",
        "    )\n",
        "    \n",
        "    tokenizer.fit_on_texts(corpus)   #매개변수로 토크나이저 내부 단어장 생성\n",
        "    tensor = tokenizer.texts_to_sequences(corpus)   #매개변수 Tensor로 변환\n",
        "    tensor = tf.keras.preprocessing.sequence.pad_sequences(tensor, padding=\"post\", maxlen = 15)\n",
        "    return tensor, tokenizer\n",
        "#End====================================================\n",
        "\n",
        "\n",
        "tensor, tokenizer = tokenize(corpus)\n",
        "\n",
        "print(\"*tensor shape:\", tensor.shape)\n",
        "print(\"\\n*one_sample:\", tensor[:1])\n",
        "\n",
        "print(\"\\n\" + \"*\" * 50)\n",
        "for idx in tokenizer.index_word:\n",
        "    print(idx, \":\", tokenizer.index_word[idx])\n",
        "    if idx >= 8: break\n",
        "print(\"*\" * 50)"
      ],
      "metadata": {
        "colab": {
          "base_uri": "https://localhost:8080/"
        },
        "id": "jPGdC5xZnPC1",
        "outputId": "ff0cc197-63c5-4343-e86b-2309e8ca4238"
      },
      "execution_count": 12,
      "outputs": [
        {
          "output_type": "stream",
          "name": "stdout",
          "text": [
            "*tensor shape: (102066, 15)\n",
            "\n",
            "*one_sample: [[   2   26   15    4 7302  380 3689 3538   37  378  409    5    3    0\n",
            "     0]]\n",
            "\n",
            "**************************************************\n",
            "1 : <unk>\n",
            "2 : <start>\n",
            "3 : <end>\n",
            "4 : the\n",
            "5 : and\n",
            "6 : i\n",
            "7 : to\n",
            "8 : of\n",
            "**************************************************\n"
          ]
        }
      ]
    },
    {
      "cell_type": "code",
      "source": [
        "#학습데이터와 정답 데이터 분리하기\n",
        "from sklearn.model_selection import train_test_split\n",
        "src_input = tensor[:, :-1]   #마지막 토큰을 잘라내 소스문장 생성 => x_data\n",
        "tgt_input = tensor[:, 1:]   #첫번째 idx인 <start>를 잘라내기 => target_data\n",
        "\n",
        "enc_train, enc_val, dec_train, dec_val = train_test_split(src_input, tgt_input, test_size = 0.2, random_state = 2)\n",
        "\n",
        "#텐서플로 데이터셋으로 만들기==============\n",
        "BUFFER_SIZE = len(src_input)\n",
        "BATCH_SIZE = 32\n",
        "\n",
        "dataset = tf.data.Dataset.from_tensor_slices((src_input, tgt_input))   #tensor를 dataset으로 변환\n",
        "# dataset = dataset.shuffle(BUFFER_SIZE)\n",
        "dataset = dataset.batch(BATCH_SIZE, drop_remainder=True)\n",
        "#End=======================================\n",
        "\n",
        "print(\"\\n\" + \"*\" * 50)\n",
        "print(\"Source Train:\", enc_train.shape)\n",
        "print(\"Source val Train:\", enc_val.shape)\n",
        "\n",
        "print(\"\\nTarget Train:\", dec_train.shape)\n",
        "print(\"Target val Train:\", dec_val.shape)\n",
        "print(\"*\" * 50)"
      ],
      "metadata": {
        "colab": {
          "base_uri": "https://localhost:8080/"
        },
        "id": "vTDSc48hnQ2D",
        "outputId": "f646ea83-1afa-463f-c1b1-42d413e2b38d"
      },
      "execution_count": 13,
      "outputs": [
        {
          "output_type": "stream",
          "name": "stdout",
          "text": [
            "\n",
            "**************************************************\n",
            "Source Train: (81652, 14)\n",
            "Source val Train: (20414, 14)\n",
            "\n",
            "Target Train: (81652, 14)\n",
            "Target val Train: (20414, 14)\n",
            "**************************************************\n"
          ]
        }
      ]
    },
    {
      "cell_type": "code",
      "source": [
        "#모델 생성 클래스=================================\n",
        "class TextGenerator(tf.keras.Model):\n",
        "    def __init__(\n",
        "            self,\n",
        "            model_type, #\"LSTM\", \"GRU\", \"RNN\"\n",
        "            vocab_size,   #단어사전 크기\n",
        "        ):\n",
        "        super().__init__()\n",
        "        \n",
        "        self.embedding = tf.keras.layers.Embedding(vocab_size, 500)\n",
        "        \n",
        "        if model_type == \"LSTM\":\n",
        "            self.rnn_1 = tf.keras.layers.LSTM(2000, return_sequences=True)\n",
        "        elif model_type == \"GRU\":\n",
        "            self.rnn_1 = tf.keras.layers.GRU(2000, return_sequences=True)\n",
        "        else:\n",
        "            self.rnn_1 = tf.keras.layers.SimpleRNN(2000, return_sequences=True, activation=\"tanh\")\n",
        "            \n",
        "        self.dropout_1 = tf.keras.layers.Dropout(rate=0.2)\n",
        "        \n",
        "        self.batnorm_1 = tf.keras.layers.BatchNormalization()\n",
        "        self.linear = tf.keras.layers.Dense(vocab_size)\n",
        "        \n",
        "    def call(self, x):\n",
        "        out = self.embedding(x)\n",
        "        out = self.rnn_1(out)\n",
        "        out = self.dropout_1(out)\n",
        "        \n",
        "        out = self.batnorm_1(out)\n",
        "        out = self.linear(out)\n",
        "        \n",
        "        return out\n",
        "#End==============================================\n",
        "    \n",
        "    \n",
        "#문장 예측 함수====================================\n",
        "def generate_text(model, tokenizer, init_sentence=\"<start>\", max_len=15):\n",
        "    test_input = tokenizer.texts_to_sequences([init_sentence])\n",
        "    test_tensor = tf.convert_to_tensor(test_input, dtype=tf.int64)\n",
        "    end_token = tokenizer.word_index[\"<end>\"]\n",
        "\n",
        "    while True:\n",
        "        predict = model(test_tensor)\n",
        "        predict_word = tf.argmax(tf.nn.softmax(predict, axis=-1), axis=-1)[:, -1]\n",
        "        test_tensor = tf.concat(\n",
        "            [test_tensor, tf.expand_dims(predict_word, axis=0)], axis=-1\n",
        "        )\n",
        "        if predict_word.numpy()[0] == end_token: break\n",
        "        if test_tensor.shape[1] >= max_len: break\n",
        "\n",
        "    generated = \"\"\n",
        "    for word_index in test_tensor[0].numpy():\n",
        "        generated += tokenizer.index_word[word_index] + \" \"\n",
        "    \n",
        "    return generated\n",
        "#End==============================================\n",
        "\n",
        "\n",
        "#콜백 함수========================================\n",
        "def train_model(epoch, logs):\n",
        "    print(\"\\n\\n\" + \"*\" * 25)\n",
        "    words = [\"i\", \"you\", \"love\"]\n",
        "    for init_word in words:\n",
        "        sentence = generate_text(model, tokenizer, \"<start> \" + init_word, 15)\n",
        "        print(sentence, end=\"\\n\\n\")\n",
        "    print(\"*\" * 25)\n",
        "    \n",
        "testmodelcb = tf.keras.callbacks.LambdaCallback(on_epoch_end=train_model)\n",
        "#End==============================================\n",
        "\n",
        "\n",
        "#컴파일 및 학습 함수==============================\n",
        "def compile_fit(model, callback_func):\n",
        "    optimizer = tf.keras.optimizers.Adam()\n",
        "    loss = tf.keras.losses.SparseCategoricalCrossentropy(\n",
        "        from_logits=True, reduction='none'\n",
        "    )\n",
        "\n",
        "    model.compile(loss=loss, optimizer=optimizer)\n",
        "\n",
        "    hist = model.fit(\n",
        "        enc_train, dec_train, \n",
        "        epochs=4,\n",
        "        batch_size=32,\n",
        "        validation_data=(enc_val, dec_val),\n",
        "        shuffle=True,\n",
        "        callbacks=[callback_func],\n",
        "        verbose=1\n",
        "    )\n",
        "    return None\n",
        "#End=============================================="
      ],
      "metadata": {
        "id": "LGyx44sMnSon"
      },
      "execution_count": 14,
      "outputs": []
    },
    {
      "cell_type": "code",
      "source": [
        "for src_sample, _ in dataset.take(1): break   #dataset으로부터 하나의 데이터 받아오기\n"
      ],
      "metadata": {
        "id": "z_7dwB4znVxq"
      },
      "execution_count": 15,
      "outputs": []
    },
    {
      "cell_type": "code",
      "source": [
        "model = TextGenerator(\n",
        "    \"SimpleRNN\",\n",
        "    tokenizer.num_words + 1,   #tokenizer.num_words: 단어사전 사이즈 + <pad>\n",
        ")\n",
        "\n",
        "model(src_sample)   #해당 데이터를 넣어줌으로써 모델 input_size 설정\n",
        "model.summary()"
      ],
      "metadata": {
        "colab": {
          "base_uri": "https://localhost:8080/"
        },
        "id": "5RjmtpeanXKf",
        "outputId": "4a5a536a-9cc0-4362-8e14-875d02cf760a"
      },
      "execution_count": 16,
      "outputs": [
        {
          "output_type": "stream",
          "name": "stdout",
          "text": [
            "Model: \"text_generator\"\n",
            "_________________________________________________________________\n",
            " Layer (type)                Output Shape              Param #   \n",
            "=================================================================\n",
            " embedding (Embedding)       multiple                  6000500   \n",
            "                                                                 \n",
            " simple_rnn (SimpleRNN)      multiple                  5002000   \n",
            "                                                                 \n",
            " dropout (Dropout)           multiple                  0         \n",
            "                                                                 \n",
            " batch_normalization (BatchN  multiple                 8000      \n",
            " ormalization)                                                   \n",
            "                                                                 \n",
            " dense (Dense)               multiple                  24014001  \n",
            "                                                                 \n",
            "=================================================================\n",
            "Total params: 35,024,501\n",
            "Trainable params: 35,020,501\n",
            "Non-trainable params: 4,000\n",
            "_________________________________________________________________\n"
          ]
        }
      ]
    },
    {
      "cell_type": "code",
      "source": [
        "compile_fit(model, testmodelcb)\n"
      ],
      "metadata": {
        "colab": {
          "base_uri": "https://localhost:8080/"
        },
        "id": "sqIjwOpInZHu",
        "outputId": "29d8984b-154f-4340-c3e0-6b742854e629"
      },
      "execution_count": null,
      "outputs": [
        {
          "output_type": "stream",
          "name": "stdout",
          "text": [
            "Epoch 1/4\n",
            "2107/2552 [=======================>......] - ETA: 18s - loss: 4.1302"
          ]
        }
      ]
    },
    {
      "cell_type": "code",
      "source": [
        "model = TextGenerator(\n",
        "    \"GRU\",\n",
        "    tokenizer.num_words + 1,   #tokenizer.num_words: 단어사전 사이즈 + <pad>\n",
        ")\n",
        "\n",
        "model(src_sample)   #해당 데이터를 넣어줌으로써 모델 input_size 설정\n",
        "model.summary()"
      ],
      "metadata": {
        "id": "8DE4C405nazB"
      },
      "execution_count": null,
      "outputs": []
    },
    {
      "cell_type": "code",
      "source": [
        "compile_fit(model, testmodelcb)\n"
      ],
      "metadata": {
        "id": "bdIQWsPIneuU"
      },
      "execution_count": null,
      "outputs": []
    },
    {
      "cell_type": "code",
      "source": [
        "model = TextGenerator(\n",
        "    \"LSTM\",\n",
        "    tokenizer.num_words + 1,   #tokenizer.num_words: 단어사전 사이즈 + <pad>\n",
        ")\n",
        "\n",
        "model(src_sample)   #해당 데이터를 넣어줌으로써 모델 input_size 설정\n",
        "model.summary()"
      ],
      "metadata": {
        "id": "5dBNIczqnhOt"
      },
      "execution_count": null,
      "outputs": []
    },
    {
      "cell_type": "code",
      "source": [
        "compile_fit(model, testmodelcb)\n"
      ],
      "metadata": {
        "id": "_GkHOK5fnhKE"
      },
      "execution_count": null,
      "outputs": []
    },
    {
      "cell_type": "code",
      "source": [],
      "metadata": {
        "id": "lYPGdNiinoPC"
      },
      "execution_count": null,
      "outputs": []
    }
  ]
}