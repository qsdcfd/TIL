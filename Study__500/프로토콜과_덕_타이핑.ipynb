{
  "nbformat": 4,
  "nbformat_minor": 0,
  "metadata": {
    "colab": {
      "provenance": [],
      "authorship_tag": "ABX9TyNYSOdjofBZTZYxozdI/RLv"
    },
    "kernelspec": {
      "name": "python3",
      "display_name": "Python 3"
    },
    "language_info": {
      "name": "python"
    }
  },
  "cells": [
    {
      "cell_type": "markdown",
      "source": [
        "# 4부 객체 지향 상용구\n",
        "## 시퀀스,해킹,해시,슬라이스\n",
        "\n",
        "\n",
        "### 프로토콜과 덕 타이핑\n",
        "\n",
        ">프로토콜은 객체지향 프로그래밍에서 프로토콜은 문서에만 정의되어 있고 실제 코드엔 정의되지 않은 비공식 인터페이스이다.\n",
        "\n",
        "예를 들어, 파이썬의 시퀀스 프로토콜은 __len__()과 __getitem__() 메서드를 동반하여 표준 시그니처와 의미에 따라서 이 메서드들을 구현하는 어떠한 클래스도 시퀀스가 필요한 곳에 사용될 수 있고, 그 클래스의 슈퍼 클래스가 무엇인지는 중요하지 않고 단지 필요한 메서드만 제공하면 된다.\n",
        "\n",
        "```\n",
        "import collections\n",
        "\n",
        "Card = collections.nametuple(\"Card\", ['rank','suit'])\n",
        "\n",
        "class FrenchDeck:\n",
        "\tranks = [str(n) for n in range(2,11)] + list('JQKA')\n",
        "    suits = 'spaders diamonds clubs hearts'.split()\n",
        "    \n",
        "   def __init__(self):\n",
        "   \tself._cards = [Card(rank, suit) for suit in self.suits\n",
        "    \t\t\t\t\t\t\t\tfor suit in self.ranks]\n",
        "                                    \n",
        "   def __len__(self):\n",
        "   \treturn len(self._cards)\n",
        "   \n",
        "   def __getitem__(self,position):\n",
        "   \treturn self._cards[position]\n",
        "```\n",
        "\n",
        ">FrenchDeck 클래스는 시퀀스 프로토콜을 구현하므로 파이썬에서 제공하는 여러 기능을 활용할 수 있고, 코드 어디에서나 시퀀스 프로토콜을 따르는 정의가 없으므로 이 클래스가 object를 상속하고 있지만 파이썬 경험이 있는 프로그래머들은 코드를 본 후 시퀀스처럼 동작하므로 시권스라는 것을 알 수 있다."
      ],
      "metadata": {
        "id": "gvez2oIVjrWa"
      }
    },
    {
      "cell_type": "code",
      "source": [],
      "metadata": {
        "id": "XlfEwdaxjrnI"
      },
      "execution_count": null,
      "outputs": []
    }
  ]
}