{
 "cells": [
  {
   "cell_type": "code",
   "execution_count": null,
   "id": "applicable-century",
   "metadata": {},
   "outputs": [],
   "source": [
    "from collections import defaultdict, deque\n",
    "import sys\n",
    "\n",
    "input = sys.stdin.readline\n",
    "\n",
    "N = int(input())\n",
    "\n",
    "dp_table = [0] * (N + 1)\n",
    "degree = [0] * (N + 1)\n",
    "dependency = defaultdict(list)\n",
    "work_time = [0] * (N + 1)\n",
    "\n",
    "for i in range(1, N + 1):\n",
    "    S = list(map(int, input().split()))\n",
    "\n",
    "    work_time[i] = S[0]\n",
    "    degree[i] = S[1]\n",
    "    for element in S[2:]:\n",
    "        dependency[element].append(i)\n",
    "\n",
    "Q = deque()\n",
    "\n",
    "for i in range(1, len(degree)):\n",
    "    if degree[i] == 0:\n",
    "        Q.append(i)\n",
    "        dp_table[i] = work_time[i]\n",
    "\n",
    "while Q:\n",
    "    now = Q.popleft()\n",
    "    for element in dependency[now]:\n",
    "        degree[element] -= 1\n",
    "        dp_table[element] = max(dp_table[element], dp_table[now] + work_time[element])\n",
    "        if degree[element] == 0:\n",
    "            Q.append(element)\n",
    "\n",
    "print(max(dp_table))\n"
   ]
  },
  {
   "cell_type": "code",
   "execution_count": null,
   "id": "mysterious-suggestion",
   "metadata": {},
   "outputs": [],
   "source": [
    "N = int(input())\n",
    "li = [float(input()) for _ in range(N)]\n",
    "for i in range(1, N):\n",
    "    li[i] = max(li[i], li[i]*li[i-1])\n",
    "print(\"%.3f\" % (max(li)))"
   ]
  }
 ],
 "metadata": {
  "kernelspec": {
   "display_name": "Python 3",
   "language": "python",
   "name": "python3"
  },
  "language_info": {
   "codemirror_mode": {
    "name": "ipython",
    "version": 3
   },
   "file_extension": ".py",
   "mimetype": "text/x-python",
   "name": "python",
   "nbconvert_exporter": "python",
   "pygments_lexer": "ipython3",
   "version": "3.7.9"
  }
 },
 "nbformat": 4,
 "nbformat_minor": 5
}
