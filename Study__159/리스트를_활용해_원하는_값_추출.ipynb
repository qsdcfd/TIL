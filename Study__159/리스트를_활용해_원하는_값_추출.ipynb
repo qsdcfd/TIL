{
  "nbformat": 4,
  "nbformat_minor": 0,
  "metadata": {
    "colab": {
      "name": "리스트를 활용해 원하는 값 추출",
      "provenance": [],
      "authorship_tag": "ABX9TyOwI2LZB528qBC7CK71i6Pp"
    },
    "kernelspec": {
      "name": "python3",
      "display_name": "Python 3"
    },
    "language_info": {
      "name": "python"
    }
  },
  "cells": [
    {
      "cell_type": "markdown",
      "source": [
        "#### 학습목표\n",
        "\n",
        "리스트의 개념을 이해하고 기존의 데이터에서 email만 추출할 수 있다.\n",
        "\n",
        "기본적인 메소드를 활용해서 생각보다 많은 일들을 할 수 있다는 것을 여러분들은 확인할 수 있습니다. \n",
        "\n",
        "<br>\n",
        "\n",
        "#### 핵심 키워드\n",
        "\n",
        "리스트\n",
        "\n",
        "내장 함수\n",
        "\n",
        "---\n",
        "\n",
        "### 문자열과 리스트\n",
        "\n",
        "문자열과 리스트는 잘 어울려 사용됩니다.\n",
        "\n",
        "```\n",
        "abc = 'With three words'\n",
        "stuff = abc.split()\n",
        "print(stuff)\n",
        "\n",
        "# ['With', 'three', 'words'] 로 출력됩니다.\n",
        "```\n",
        " \n",
        "<br>\n",
        "\n",
        "### 구분자\n",
        "\n",
        "명시적으로 구분자를 넣어주지 않으면, 빈칸을 구분자로 인지하고 나누게 됩니다.\n",
        "\n",
        "```\n",
        "words2 = 'first;second;third'\n",
        "stuff2 = words2.split()\n",
        "print(stuff2)\n",
        "# ['first;second;third']\n",
        "stuff2 = words2.split(';')\n",
        "print(stuff2)\n",
        "# ['first', 'second', 'third']\n",
        "```\n",
        " \n",
        "<br>\n",
        "\n",
        "### 이메일 주소 추출하기\n",
        "\n",
        "지금까지 배운 메소드와 자료구조를 활용하면 우리가 원하는 값만을 추출할 수가 있습니다.\n",
        "\n",
        "```\n",
        "line = 'From stephen.marquard@uct.ac.za Sat Jan 5 09:14:16 2008'\n",
        "# line 에 uct.ac.za만 추출하는 방법을 찾아 보도록 하겠습니다.\n",
        "words = line.split()\n",
        "# words는 해당 라인을 빈칸을 구분자로 하여 리스트로 저장됩니다.\n",
        "print(words[1])\n",
        "# stephen.marquard@uct.ac.za이 출력됩니다.\n",
        "email = words[1]\n",
        "address = email.split('@')\n",
        "print(address)\n",
        "# ['stephen.marquard', 'uct.ac.za'] 가 출력됩니다.\n",
        "print(address[1])\n",
        "# uct.ac.za가 출력됩니다.\n",
        "```"
      ],
      "metadata": {
        "id": "9_-Q6PLJ-w2h"
      }
    },
    {
      "cell_type": "code",
      "source": [
        ""
      ],
      "metadata": {
        "id": "YZVIzno4-xIt"
      },
      "execution_count": null,
      "outputs": []
    }
  ]
}