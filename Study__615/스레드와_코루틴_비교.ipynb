{
  "nbformat": 4,
  "nbformat_minor": 0,
  "metadata": {
    "colab": {
      "provenance": [],
      "authorship_tag": "ABX9TyO3c7vlOre8JXjw93zLfiiD"
    },
    "kernelspec": {
      "name": "python3",
      "display_name": "Python 3"
    },
    "language_info": {
      "name": "python"
    }
  },
  "cells": [
    {
      "cell_type": "markdown",
      "source": [
        "# 제어 흐름\n",
        "## asyncio를 이용한 동시성\n",
        "asyncio는 이벤트 루프에 의해 운용되는 코루틴을 이용해서 동시성을 구현하는 패키지이다.\n",
        "\n",
        "\n",
        "###  스레드와 코루틴 비교\n",
        "\n",
        "스레드 및 GIL에 대해 설명하면서 미셜 시미오나토는 장시간 연산이 실행되는 동안 multiprocessing 패키지를 이용해서 콘솔에 아스키 문자로 스피너 애니메이션을 보여준다.\n",
        "\n",
        "```\n",
        "#코루틴으로 넥스트 스피너 애니메이트하기\n",
        "\n",
        "import asyncio\n",
        "import itertools\n",
        "import sys\n",
        "\n",
        "@asyncio.coroutine\n",
        "def spin(msg):\n",
        "\twrite, flush = sys.stdout.write, sys.stdout.flush\n",
        "    for char in itertools.cycle('|/-\\\\'):\n",
        "    \tstatus = char + ' ' + msg\n",
        "        write(status)\n",
        "        flush()\n",
        "        write('\\x088' * len(status))\n",
        "        try:\n",
        "        \tyield from asyncio.sleep(.1)\n",
        "        except asyncio.CancelledError:\n",
        "        \tbreak\n",
        "    write(' ' * len(status) + '\\x088' * len(Status)\n",
        "\n",
        "@asyncio.coroutine\n",
        "def slow_function():\n",
        "\t#입출력을 위해 장시간 기다리는 것처럼 보이게 만든다.\n",
        "    yield from asyncio.sleep(3)\n",
        "    return 42\n",
        "    \n",
        "@asyncio.coroutine\n",
        "def supervisor():\n",
        "\tspinner = asyncio.async(spin('thinking!'))\n",
        "    print('spinner object:',spiner)\n",
        "    result = yield from slow_function()\n",
        "    spinner.cancel()\n",
        "    return result\n",
        "    \n",
        "def main():\n",
        "\tloop = asyncio.get_event_loop()\n",
        "    result = loop.run_until_complete(supervisor())\n",
        "    loop.close()\n",
        "    print('Answer:', result)\n",
        "   \n",
        "if __name__ = '__main__':\n",
        "\tmain()\n",
        "\n",
        "```\n",
        "반드시 @asyncio.coroutine 데커레이터를 사용해야 하는 것은 아니지만. 되도록이면 사용 하라고 강력히 권고한다. @asyncio.coroutine은 코루틴을 일반 함수와 다르게 보이도록 만 들며, 코루틴이 yield from 되지 않고(즉, 일부 작업이 완료되지 않았으므로, 버그가 발생할 가능성이 높다.)"
      ],
      "metadata": {
        "id": "6PRWSAW-qT4H"
      }
    }
  ]
}