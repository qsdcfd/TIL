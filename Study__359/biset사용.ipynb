{
  "nbformat": 4,
  "nbformat_minor": 0,
  "metadata": {
    "colab": {
      "name": "biset사용",
      "provenance": [],
      "authorship_tag": "ABX9TyN/ntqe4NUaZsqF5nPOiyTk"
    },
    "kernelspec": {
      "name": "python3",
      "display_name": "Python 3"
    },
    "language_info": {
      "name": "python"
    }
  },
  "cells": [
    {
      "cell_type": "markdown",
      "source": [
        "## 정렬된 시퀀스를 검색할 때는 bisect를 사용하라\n",
        "\n"
      ],
      "metadata": {
        "id": "OGbW-Tndl0Hm"
      }
    },
    {
      "cell_type": "markdown",
      "source": [
        "**메모리에 정렬된 리스트로 존재하는 커다란 데이터를 검색**\n",
        "\n",
        "- 프로그램이 구체적으로 처리해야 하는 정보의 유형이 무엇이든, 리스트에서 index함수를 사용해서 특정 값을 찾아내려면 리스트 길이에 선형으로 비례하는 시간이 필요"
      ],
      "metadata": {
        "id": "i42lH4U2nxav"
      }
    },
    {
      "cell_type": "code",
      "source": [
        "#선형 비례\n",
        "\n",
        "data = list(range(10**5))\n",
        "index = data.index(91234)\n",
        "assert index == 91234"
      ],
      "metadata": {
        "id": "FEc2ync4nw35"
      },
      "execution_count": 1,
      "outputs": []
    },
    {
      "cell_type": "markdown",
      "source": [
        "*찾는 값이 리스트 안에 들어 있는지 모르다면, 원하는 값과 같거나 그보다 큰 값의 인덱스 중 가장 작은 인덱스를 찾기*"
      ],
      "metadata": {
        "id": "dedXFLXEqUkh"
      }
    },
    {
      "cell_type": "code",
      "source": [
        "def find_closet(sequence, goal):\n",
        "    for index, value in enumerate(sequence):\n",
        "        if goal < value:\n",
        "\n",
        "            return index\n",
        "\n",
        "    raise ValueError(f'범위를 벗어남: {goal}')\n",
        "\n",
        "index = find_closet(data, 91234.56)\n",
        "assert index == 91235"
      ],
      "metadata": {
        "id": "Pc5dxYhjqija"
      },
      "execution_count": 3,
      "outputs": []
    },
    {
      "cell_type": "markdown",
      "source": [
        "### 파이썬 내장 bisect\n",
        "\n",
        "- bisect 모듈은 순서가 정해져 있는 리스트에 대해 이런 유형의 검사를 더 효과적으로 수행\n",
        "\n",
        "- bisect_letf함수를 사용하여 정렬된 원소로 이뤄진 시퀀스에 대해서 이진 검색\n",
        "\n",
        "- bisect_left가 반환하는 인덱스는 리스트에 찾는 값의 원소가 존재하는 경우 이 원소의 인덱스\n",
        "\n",
        "- 리스트에 찾는 값의 원소가 존재하지 않는 경우 정렬 순서상 해당 값을 삽입해야 할 자리의 인덱스"
      ],
      "metadata": {
        "id": "wHb54Lfes9w4"
      }
    },
    {
      "cell_type": "code",
      "source": [
        "from bisect import bisect_left\n",
        "\n",
        "index = bisect_left(data, 91234) #정확한 일치\n",
        "assert index == 91234\n",
        "\n",
        "index = bisect_left(data, 91234.56) #근접한 값과 일치\n",
        "assert index == 91235\n",
        "\n",
        "index = bisect_left(data, 91234.23) #근접한 값과 일치(찾는 값 이상의 값 중에서 근접한 값을 찾음)\n",
        "assert index == 91235"
      ],
      "metadata": {
        "id": "CeQkjvHiszIz"
      },
      "execution_count": null,
      "outputs": []
    },
    {
      "cell_type": "markdown",
      "source": [
        "**bisect 모듈이 사용하는 이진 검색 알고리즘의 복잡도는 로그 복잡도다.**\n",
        "\n",
        "- 길이가 100만인 리스트르 bisect로 검색하는데 걸리는 시간과 길이가 20인 리스트를 list.index로 선형 검색하는데 걸리는 시간이 같다.\n",
        "\n",
        "- 그러므로, (math.log2(10**6) == 19.93) 이므로 bisect쪽이 훨씬 더 빠르다.\n",
        "\n",
        "- timeit를 사용하여 마이크로 벤치마크를 수행해서 bisect를 사용하면 성능 향상 검증 가능\n"
      ],
      "metadata": {
        "id": "EfKNxZSAt4tO"
      }
    },
    {
      "cell_type": "code",
      "source": [
        "import random\n",
        "import timeit\n",
        "\n",
        "size = 10 ** 5\n",
        "iterations = 1000\n",
        "\n",
        "data = list(range(size))\n",
        "to_lookup = [random.randint(0, size)\n",
        "             for _ in range(iterations)]\n",
        "\n",
        "def run_linear(data, to_lookup):\n",
        "    for index in to_lookup:\n",
        "        data.index(index)\n",
        "\n",
        "def run_bisect(data, to_lookup):\n",
        "    for index in to_lookup:\n",
        "        bisect_left(data, index)\n",
        "\n",
        "baseline = timeit.timeit(\n",
        "    stmt = 'run_linear(data, index)',\n",
        "    globals = globals(),\n",
        "    number = 10)\n",
        "print(f'선형 검색: {baseline:.6f} 초')\n",
        "\n",
        "comparison = timeit.timeit(\n",
        "    stmt = 'run_bisect(data, to_lookup)',\n",
        "    globals = globals(),\n",
        "    number = 10)\n",
        "print(f'이진 검색: {comparison:.6f}초')\n",
        "\n",
        "slowdown = 1 + ((baseline - comparison) / comparison)\n",
        "print(f'선형 검색이 {slowdown:1f}배 더 걸림')"
      ],
      "metadata": {
        "id": "-TXdGtpPuN76"
      },
      "execution_count": null,
      "outputs": []
    },
    {
      "cell_type": "markdown",
      "source": [
        "![image.png](data:image/png;base64,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)"
      ],
      "metadata": {
        "id": "FdqVp7SSxt1v"
      }
    },
    {
      "cell_type": "markdown",
      "source": [
        "### Summary\n",
        "\n",
        "- 리스트에 들어있는 정렬된 데이터를 검색할 때 index 메서드를 사용하거나 for 루프와 맹목적인 비교를 하면 선형 시간이 걸린다.\n",
        "\n",
        "- bisect 내장 모듈의 biscet_left함수는 정렬된 리스트에서 원하는 값을 찾는데 로그 시간이 걸린다. 따라서 다른 접근 방법보다 훨씬 빠르다."
      ],
      "metadata": {
        "id": "Ls2R48S00S0W"
      }
    },
    {
      "cell_type": "code",
      "source": [],
      "metadata": {
        "id": "BpknIGAr1Srg"
      },
      "execution_count": null,
      "outputs": []
    }
  ]
}