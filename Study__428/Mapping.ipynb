{
  "nbformat": 4,
  "nbformat_minor": 0,
  "metadata": {
    "colab": {
      "provenance": [],
      "authorship_tag": "ABX9TyMF9i7fJwXHSw7N5dyerQBW"
    },
    "kernelspec": {
      "name": "python3",
      "display_name": "Python 3"
    },
    "language_info": {
      "name": "python"
    }
  },
  "cells": [
    {
      "cell_type": "markdown",
      "source": [
        "# 딕셔너리와 집합\n",
        "\n",
        ">dict 형은 애플리케이션에서 널리 사용되고 파이썬에서 핵심 부분이다. 왜냐하면, 모듈 네임스페이스, 클래스 및 인스턴스 속성, 함수의 키워드 인수 등 핵심 부분에 딕셔너리가 사용되고 있고, 내장 함수들은 __builtins__.__dict__에 들어 있다. <br>\n",
        "파이썬 dict 클래스는 해시 테이블이라는 엔진으로 인해서 상당히 최적화가 된 상태이다.\n",
        "\n",
        "## 일반적인 매핑형\n",
        "\n",
        "collections.abc 모듈은 dict 및 유사한 자료형의 인터페이스를 정의하기 위해 매핑 및 MutableMapping 추상 베이스 클래스를 제공합니다.\n",
        "\n",
        " ![](https://velog.velcdn.com/images/qsdcfd/post/e59dd9c8-67e9-42a2-a39c-de2beb1f48b9/image.png)\n",
        "\n",
        "특화된 매핑은 추상 베이스 클래스 대신 dict나 collections.UserDict 클래스를 상속한다.\n",
        "\n",
        "추상 베이스 클래스는 매핑이 제공해야 하는 최소한의 인터페이스를 정의하고 문서화를 진행하는 것이며 넓은 의미의 매핑을 지원해야 하는 코드에서 isinstance() 테스트 기준\n",
        "\n",
        "```\n",
        "my_dict ={}\n",
        "import collections\n",
        "isinstance(my_dict, collections.abs.Mapping) #True\n",
        "\n",
        "\"\"\"\n",
        "함수 인수가 dict형인지 검사하는 것보다 isinstance() 함수를 사용하는 것이 좋고, 다른 매핑형이 사용될 수 있기 때문이다. \n",
        "\n",
        "표준 라이브러리에서 제공하는 매핑형은 모두 dict를 이용해서 구현이 되므로 키가 해시 가능해야 한다는 제한을 갖고 있다.(키만 해싱 가능하면 된다.)\n",
        "\"\"\"\n",
        "```\n",
        "\n",
        "**해시 가능: 수명 주기 동안 결코 변하지 않는 해시값을 갖고 있고(__hash__() 메서드가 필요하다) 다른 객체와 비교할 수 있으면(__eq__()메서드가 필요하다.)**\n",
        "\n",
        "\n",
        "<br>\n",
        "\n",
        "```\n",
        "\"\"\"\n",
        "원자적 불변형은 모두 해시가 가능하고, frozenset는 언제나 해시 가능하다. \n",
        "\n",
        "모든 요소가 해시 가능하도록 정의되어 있으므로, 튜플은 들어 있는 항목들이 모두 해시 가능해야 해시 가능하다.\n",
        "\"\"\"\n",
        "\n",
        "\n",
        "tt = (1,2,(30,40))\n",
        "hash(tt)\n",
        "t1 = (1,2,[30,40])\n",
        "hash(t1)\n",
        "tf=(1,2,frozenset([30,40])\n",
        "hash(tf)\n",
        "```\n",
        "\n",
        "<br>\n",
        "\n",
        "```\n",
        "\"\"\"\n",
        "dict 구현\n",
        "\"\"\"\n",
        "a = dict(one=1, two=2, three =3)\n",
        "b = {'one':1, 'two':2, 'three':3)\n",
        "c = dict(zip(['one','two','three'], [1,2,3]))\n",
        "d = dict(['two',2),('one',1),('three',3)])\n",
        "e = dict({'three':3, 'one':1, 'two':2})\n",
        "a == b == c == d == e #True\n",
        "```"
      ],
      "metadata": {
        "id": "uIsq1F-NGhlQ"
      }
    },
    {
      "cell_type": "code",
      "source": [],
      "metadata": {
        "id": "V9PFNh80GhxS"
      },
      "execution_count": null,
      "outputs": []
    }
  ]
}