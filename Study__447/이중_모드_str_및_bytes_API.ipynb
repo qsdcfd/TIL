{
  "nbformat": 4,
  "nbformat_minor": 0,
  "metadata": {
    "colab": {
      "provenance": [],
      "authorship_tag": "ABX9TyOCCZokzS4Nf2HqEm84KY+3"
    },
    "kernelspec": {
      "name": "python3",
      "display_name": "Python 3"
    },
    "language_info": {
      "name": "python"
    }
  },
  "cells": [
    {
      "cell_type": "markdown",
      "source": [
        "# 이중 모드 str 및 bytes API\n",
        "\n",
        "표준 라이브러리에는 str이나 bytes 인수를 모두 받을 시, 인수의 자료형에 따라 다르게 작용하는 함수들이 있고, re 와 os 모듈이 대표적이다.\n",
        "\n",
        "<br>\n",
        "\n",
        "### 정규 표현식에서의 str과 bytes\n",
        "\n",
        "bytes로 정규 표현식을 만들 경우 \\d와 \\w같은 패턴은 아스키 문자만 매칭되고, str로 이 패턴을 만들 시 아스키 문자 외외에 유니코드 숫자나 문자도 매칭된다.\n",
        "\n",
        "```\n",
        "\"\"\"\n",
        "정규 표현식을 str과 bytes에 사용할 수 있지만,\n",
        "bytes에 정규 표현식을 사용하면 아스키 범위를 벗어나는  문자들은 숫자나 단어로 처리하지 않는다.\n",
        "\"\"\"\n",
        "import re\n",
        "\n",
        "re_numbers_str = re.compile(r'\\d+')\n",
        "re_words_str = re.comile(r'\\w+')\n",
        "renumbers_bytes = re.compile(rb'\\d+')\n",
        "rewords_bytes = re.compile(rb'\\w+')\n",
        "\n",
        "text_str = (\"Ramanujan saw \\u0be7\\u0be7\\u0bed\\u0be8\\u0bef\n",
        "\" \"as 1729 = 1^3 + 12^3 = 9^3 + 10^3.\")\n",
        "\n",
        "text_bytes = text_str.encode('utf_8')\n",
        "\n",
        "print('Text', repr(text_str), sep='\\n ')\n",
        "print('Numbers')\n",
        "print(' str :'. re_numbers_str.findall(text_str))\n",
        "print(' bytes :', re_nqumbers_bytes.findall(text_bytes))\n",
        "print('Words')\n",
        "print(' str :', re_word_str.findall(text_str))\n",
        "print(' bytes :', re_words_bytes.findall(text_bytes))\n",
        "```\n",
        "![](https://velog.velcdn.com/images/qsdcfd/post/e8749615-46d9-4614-83f5-e8ff17efd8b1/image.png)\n",
        "\n",
        "<br>\n",
        "\n",
        "### os모듈 함수에서 str과 bytes\n",
        "\n",
        "GNU/리눅스 커널은 유니코드를 모르기에 실제 os의 파일명은 어떠한 인코딩 체계에서도 올바르지 않은 바이트 시퀀스로 구성되어 있기에 str로 디코딩 할 수 없고, 다양한 운영 체계를 클라이언트로 가지는 파일 서버는 이런 문제가 발생하기 쉽다.\n",
        "\n",
        "<br>\n",
        "\n",
        ">해결은 파일명이나 경로명을 받는 모든 os 모듈 함수는 str이나 bytes형의 인수를 받고 str 인수로 호출하면 인수는 sys.getfilesystemencoding() 함수에 의해 지정된 코덱을 이ㅛㅇ해서 자동으로 변환되고, 운영 체계의 응답은 동일 코덱을 이용해서 디코딩 되므로 유니코드 샌드위치 모델에 따라서 원하는대로 가능\n",
        "\n",
        "```\n",
        "#str과 bytes 인수로 호출한 listdir()메서드와 결과\n",
        "\n",
        "os.listdir('.')\n",
        "os.listdir(b'.')\n",
        "```\n",
        "\n",
        "<br>\n",
        "    \n",
        "**fsencode(파일명)**\n",
        "\n",
        ">파일명이 str형이면 sys.getfilesystemencoding()이 변환한 코덱명을 이용해서 파일명을 bytes형으로 인코딩한다. 그러나,파일명이 bytes형이면 변환하지 않고 그대로 반환한다.\n",
        "\n",
        "**fsdecode(파일명)**\n",
        "\n",
        ">파일명이 bytes 형이면 sys.getfilesystemencoding()이 반환한 코덱명을 이용해서 파일명을 str형으로 디코딩하고, 파일명이 str형이면 변환하지 않고 그대로 반환한다.\n",
        "\n",
        "<br>\n",
        "\n",
        "**surrogateescape를 이용해서 깨진 문자 처리하기**\n",
        "\n",
        ">예상치 못한 bytes나 모르는 인코딩을 처리하기 위한 바이트 제안서의 설명을 바탕으로 python에선 surrogateescape 코덱 에러 처리기 사용\n",
        "\n",
        "```\n",
        "\"\"\"\n",
        "디코딩할 수 없는 바이트를 유니코드 표준에서 하위 써로게이트 영역이라고 코드 포인트로 치환한다.\n",
        "\n",
        "애플리케이션 내부 용도로 사용할 수 있도록 한다.\n",
        "\"\"\"\n",
        "\n",
        "os.listdir('.')\n",
        "os.listdir(b'.')\n",
        "pi_name_bytes = os.listdir(b'.')\n",
        "pi_name_str = pi_name_bytes.decode('ascii',surrogateescape')\n",
        "pi_name_str\n",
        "```}"
      ],
      "metadata": {
        "id": "ZpBAH2IechgH"
      }
    },
    {
      "cell_type": "code",
      "source": [],
      "metadata": {
        "id": "Ngzl1tk6ciBe"
      },
      "execution_count": null,
      "outputs": []
    }
  ]
}