{
  "cells": [
    {
      "cell_type": "code",
      "execution_count": null,
      "id": "9fb5a882",
      "metadata": {
        "id": "9fb5a882"
      },
      "outputs": [],
      "source": [
        "# 네이버에서 검색어 입력받아 검색 한 후 블로그 메뉴를 선택하고\n",
        "# 오른쪽에 있는 검색옵션 버튼을 눌러서\n",
        "# 정렬 방식과 기간을 입력하기\n",
        "\n",
        "#Step 0. 필요한 모듈과 라이브러리를 로딩합니다.\n",
        "import sys # 시스템\n",
        "import os  # 시스템\n",
        "import re  # 정규표현식\n",
        "\n",
        "import pandas as pd  # 판다스 : 데이터분석 라이브러리\n",
        "import numpy as np   # 넘파이 : 숫자, 행렬 데이터 라이브러리\n",
        "\n",
        "from bs4 import BeautifulSoup    # html 데이터를 전처리\n",
        "from selenium import webdriver   # 웹 브라우저 자동화\n",
        "from selenium.webdriver.common.keys import Keys\n",
        "import chromedriver_autoinstaller\n",
        "\n",
        "import time    # 서버와 통신할 때 중간중간 시간 지연. 보통은 1초\n",
        "from tqdm import tqdm_notebook   # for문 돌릴 때 진행상황을 %게이지로 알려준다.\n",
        "\n",
        "# 워닝 무시\n",
        "import warnings\n",
        "warnings.filterwarnings('ignore')"
      ]
    },
    {
      "cell_type": "code",
      "execution_count": null,
      "id": "65342912",
      "metadata": {
        "id": "65342912"
      },
      "outputs": [],
      "source": [
        "# Step 1. 크롬 웹브라우저 실행\n",
        "# pip install chromedriver_autoinstaller\n",
        "import chromedriver_autoinstaller\n",
        "chrome_path = chromedriver_autoinstaller.install()\n",
        "driver = webdriver.Chrome(chrome_path)\n",
        "\n",
        "# 무신사 접속\n",
        "# 월간 인기 랭크\n",
        "driver.get('https://www.musinsa.com/ranking/best?period=month&age=ALL&mainCategory=&subCategory=&leafCategory=&price=&golf=false&kids=false&newProduct=false&exclusive=false&discount=false&soldOut=false&page=1&viewType=small&priceMin=&priceMax=')\n",
        "time.sleep(2)  # 2초간 정지\n",
        "\n",
        "# 3개월간\n",
        "driver.find_element_by_xpath('//*[@id=\"goodsRankForm\"]/div[1]/div[1]/dl/dd/ul/li[5]/a').click()\n",
        "\n",
        "# 상의\n",
        "driver.find_element_by_xpath('//*[@id=\"goodsRankForm\"]/div[1]/div[2]/dl/dd/ul/li[1]/a[1]').click()\n",
        "\n"
      ]
    },
    {
      "cell_type": "code",
      "execution_count": null,
      "id": "66fe75a3",
      "metadata": {
        "id": "66fe75a3"
      },
      "outputs": [],
      "source": [
        "# 스크롤 다운\n",
        "driver.execute_script(\"window.scrollTo(0, 19431049)\")\n",
        "time.sleep(2)"
      ]
    },
    {
      "cell_type": "code",
      "execution_count": null,
      "id": "acfd3b21",
      "metadata": {
        "id": "acfd3b21",
        "outputId": "f5c739b9-ac3d-47e3-8d6b-9e23e4412962"
      },
      "outputs": [
        {
          "data": {
            "text/plain": [
              "['1848166',\n",
              " '2024232',\n",
              " '1954316',\n",
              " '1935180',\n",
              " '1921901',\n",
              " '1841764',\n",
              " '1884943',\n",
              " '2442409',\n",
              " '1911516',\n",
              " '2453556',\n",
              " '1503352',\n",
              " '2479911',\n",
              " '903340',\n",
              " '1935174',\n",
              " '2524570',\n",
              " '2024212',\n",
              " '1848789',\n",
              " '1882578',\n",
              " '2471760',\n",
              " '2368712',\n",
              " '1939099',\n",
              " '1871984',\n",
              " '1008043',\n",
              " '345889',\n",
              " '2329824',\n",
              " '2477667',\n",
              " '1236364',\n",
              " '2456003',\n",
              " '1899755',\n",
              " '2376229',\n",
              " '2024234',\n",
              " '2487717',\n",
              " '2409894',\n",
              " '2398381',\n",
              " '1763157',\n",
              " '1955452',\n",
              " '1031260',\n",
              " '996177',\n",
              " '1779737',\n",
              " '751030',\n",
              " '1935179',\n",
              " '2453552',\n",
              " '1763164',\n",
              " '1782647',\n",
              " '1820701',\n",
              " '2462040',\n",
              " '1846930',\n",
              " '2401885',\n",
              " '2351775',\n",
              " '1763123',\n",
              " '2015684',\n",
              " '2477673',\n",
              " '1793420',\n",
              " '1886950',\n",
              " '1893766',\n",
              " '2272830',\n",
              " '1860490',\n",
              " '1201415',\n",
              " '2477598',\n",
              " '2426596',\n",
              " '747950',\n",
              " '1498092',\n",
              " '2377269',\n",
              " '2457846',\n",
              " '2406942',\n",
              " '2500583',\n",
              " '1420730',\n",
              " '1763218',\n",
              " '2591897',\n",
              " '1706633',\n",
              " '2409397',\n",
              " '2392759',\n",
              " '2461377',\n",
              " '1882396',\n",
              " '2406919',\n",
              " '2477648',\n",
              " '2086653',\n",
              " '1821755',\n",
              " '1816729',\n",
              " '2376233',\n",
              " '1976299',\n",
              " '1842348',\n",
              " '2368710',\n",
              " '1336398',\n",
              " '1388775',\n",
              " '996178',\n",
              " '2406930',\n",
              " '2391261',\n",
              " '2409398',\n",
              " '2487719']"
            ]
          },
          "execution_count": 9,
          "metadata": {},
          "output_type": "execute_result"
        }
      ],
      "source": [
        "# 전체 상품리스트 가져오기\n",
        "GoodsList = driver.find_elements_by_css_selector(\"#goodsRankList .li_box\")\n",
        "# 마우스 우클릭 - copy (selector, xpath)\n",
        "\n",
        "# 상품번호 가져오기 get_attribute('data-goods-no')\n",
        "GoodsNumber = []\n",
        "for goods in GoodsList:\n",
        "    GoodsNumber.append(goods.get_attribute('data-goods-no'))\n",
        "\n",
        "GoodsNumber"
      ]
    }
  ],
  "metadata": {
    "kernelspec": {
      "display_name": "Python 3",
      "language": "python",
      "name": "python3"
    },
    "language_info": {
      "codemirror_mode": {
        "name": "ipython",
        "version": 3
      },
      "file_extension": ".py",
      "mimetype": "text/x-python",
      "name": "python",
      "nbconvert_exporter": "python",
      "pygments_lexer": "ipython3",
      "version": "3.8.8"
    },
    "toc": {
      "base_numbering": 1,
      "nav_menu": {},
      "number_sections": true,
      "sideBar": true,
      "skip_h1_title": false,
      "title_cell": "Table of Contents",
      "title_sidebar": "Contents",
      "toc_cell": false,
      "toc_position": {},
      "toc_section_display": true,
      "toc_window_display": false
    },
    "varInspector": {
      "cols": {
        "lenName": 16,
        "lenType": 16,
        "lenVar": 40
      },
      "kernels_config": {
        "python": {
          "delete_cmd_postfix": "",
          "delete_cmd_prefix": "del ",
          "library": "var_list.py",
          "varRefreshCmd": "print(var_dic_list())"
        },
        "r": {
          "delete_cmd_postfix": ") ",
          "delete_cmd_prefix": "rm(",
          "library": "var_list.r",
          "varRefreshCmd": "cat(var_dic_list()) "
        }
      },
      "types_to_exclude": [
        "module",
        "function",
        "builtin_function_or_method",
        "instance",
        "_Feature"
      ],
      "window_display": false
    },
    "vscode": {
      "interpreter": {
        "hash": "4685cf8fad66a3b5e1d83fe36d59de227ad64c6532a47c7a0b6e8e6da20ed48b"
      }
    },
    "colab": {
      "name": "무신사월간인기랭크크롤링.ipynb",
      "provenance": []
    }
  },
  "nbformat": 4,
  "nbformat_minor": 5
}