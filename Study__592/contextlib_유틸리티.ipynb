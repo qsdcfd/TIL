{
  "nbformat": 4,
  "nbformat_minor": 0,
  "metadata": {
    "colab": {
      "provenance": [],
      "authorship_tag": "ABX9TyPHgEFaEGW0lSXieyYGOGyS"
    },
    "kernelspec": {
      "name": "python3",
      "display_name": "Python 3"
    },
    "language_info": {
      "name": "python"
    }
  },
  "cells": [
    {
      "cell_type": "markdown",
      "source": [
        "# 제어 흐름\n",
        "## 콘텍스트 관리자와 else블록\n",
        "### contextlib 유틸리티\n",
        "\n",
        "**closing()**\n",
        "\n",
        ">close() 메서드는 제공하지만 __enter__()/__exit__() 프로토콜을 구현하지 않는 객체로부터 콘텍스트 관리자를 생성하는 함수\n",
        "\n",
        "**suppress**\n",
        "\n",
        ">지정한 예외를 임시로 무시하는 콘텍스트 관리자\n",
        "\n",
        "**@contextmanager**\n",
        "\n",
        ">클래스를 생성하고 프로토콜을 구현하는 대신, 간단한 제너레이터 함수로부터 콘텍스트 관리자를 생성할 수 있게 해주는 데커레이터\n",
        "\n",
        "**ContextDecorator**\n",
        "\n",
        ">콘텍스트 관리자를 함수 데커레이터로도 사용할 수 있게 해주는 기반 클래스\n",
        "\n",
        "**ExitStack**\n",
        "\n",
        ">여러 콘텍스트 관리자를 입력할 수 있게 해주는 콘텍스트 관리자, with 블록이 끝나면 ExitStack은 누적된 콘텍스트 관리자들의 __exit__() 메서드를 LIFO 순서로 호출한다."
      ],
      "metadata": {
        "id": "v3_keYGEzmXk"
      }
    },
    {
      "cell_type": "code",
      "source": [],
      "metadata": {
        "id": "Eo4amIDRzmkY"
      },
      "execution_count": null,
      "outputs": []
    }
  ]
}