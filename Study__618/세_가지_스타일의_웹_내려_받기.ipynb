{
  "nbformat": 4,
  "nbformat_minor": 0,
  "metadata": {
    "colab": {
      "provenance": [],
      "authorship_tag": "ABX9TyMGql7fxdbjMd/8H5d2fW5x"
    },
    "kernelspec": {
      "name": "python3",
      "display_name": "Python 3"
    },
    "language_info": {
      "name": "python"
    }
  },
  "cells": [
    {
      "cell_type": "markdown",
      "source": [
        "# 제어 흐름\n",
        "## Future를 이용한 동시성\n",
        "\n",
        "### 세 가지 스타일의 웹 내려 받기\n",
        "\n",
        ">긴 지연 시간동안 CPU 클록을 낭비하지 않기 위해서 네트워크 입출력을 효율적으로 처리하라면 동시성을 이용해야하고, 네트워크에서 응답이 오는 동안 다른 일을 처리하는 것이 좋다.\n",
        "\n",
        "***순차 내려받기 스크립트***\n",
        "\n",
        "```\n",
        "#순차 내려 받기 스크립트, 몇몇 함수는 다른 스크립트에서 재사용할 것이다.\n",
        "import os\n",
        "import time\n",
        "import sys\n",
        "import requests\n",
        " \n",
        "POP20_CC = ('CN IN US ID BR PK NG BD RU JP '\n",
        " \t\t\t'MK PH VN ET EG DE IR TR CD FR').split()\n",
        "\n",
        "BASE_URL = 'http://flupy.org/data/flags'\n",
        "DEST_DIR = 'downloads'/\n",
        "\n",
        "def save_flag(img, filename):\n",
        "\tpath = os.path.join(DEST_DIR, filename)\n",
        "    with open(path,'wb') as fp:\n",
        "    \tfp.write(img)\n",
        "        \n",
        "def get_flag(cc):\n",
        "\turl = '{}/{cc}/{cc}/gif'.format(BASE_URL, cc=cc.lower())\n",
        "    resp = requests.get(url)\n",
        "    return resp.content\n",
        "    \n",
        "def show(text):\n",
        "\tprint(text, end=' ')\n",
        "    sys.stdout.flush()\n",
        "\n",
        "def download_many(cc_list):\n",
        "\tfor cc in sorted(cc_list):\n",
        "    \timage= get_flag(cc)\n",
        "        show(cc)\n",
        "        save_flag(image, cc.lower() + '.gif')\n",
        "        return len(cc_list)\n",
        "       \n",
        "    def main(download_many):\n",
        "    \tt0 =time.time()\n",
        "        count = download_many(POP20_CC)\n",
        "        elapsed = time.time() - t0\n",
        "        msg = '\\n{} flags downloaded in {:.2f}s'\n",
        "        print(msg.format(count,elapsed))\n",
        "        \n",
        "    if __name__ == '__main__':\n",
        "    \tmain(download_many)\n",
        "```\n",
        "\n",
        ">동시성 버전을 구현할 때 중복을 피하기 위해 하나의 라이브러리로 사용"
      ],
      "metadata": {
        "id": "SL_xRKnbpBCr"
      }
    },
    {
      "cell_type": "code",
      "source": [],
      "metadata": {
        "id": "PYadiVXqpEl6"
      },
      "execution_count": null,
      "outputs": []
    }
  ]
}