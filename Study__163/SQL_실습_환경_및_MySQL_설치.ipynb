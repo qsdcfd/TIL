{
  "nbformat": 4,
  "nbformat_minor": 0,
  "metadata": {
    "colab": {
      "name": "SQL 실습 환경 및 MySQL 설치",
      "provenance": [],
      "authorship_tag": "ABX9TyOdRzy1mGEsFGEnIDrpkuxx"
    },
    "kernelspec": {
      "name": "python3",
      "display_name": "Python 3"
    },
    "language_info": {
      "name": "python"
    }
  },
  "cells": [
    {
      "cell_type": "markdown",
      "source": [
        "#### 핵심키워드\n",
        "\n",
        "MySQL Server\n",
        "\n",
        "Workbench\n",
        "\n",
        "SQL 국제 표준화\n",
        "\n",
        "---\n",
        "\n",
        "![](https://images.velog.io/images/qsdcfd/post/29ad7b0c-bc1e-43f7-99b3-8f410d6549a9/image.png)\n",
        "\n",
        "**MySQL Server**\n",
        "\n",
        "오라클에서 관리 및 지원하는 오픈 소스 관계형 데이터베이스\n",
        "\n",
        "<br>\n",
        "\n",
        "**Workbench**\n",
        "\n",
        "MySQL Server를 관리하기 위한 소프트 웨어\n",
        "\n",
        "<br>\n",
        "\n",
        "**SQL 국제 표준화**\n",
        "\n",
        "SQL은 국제 표준화된 ㅇㄴ어이기에 데이터베이스 관리시스템 종류에 얽매이지 않고 사용이 가능하다\n",
        "\n",
        "<br>\n",
        "\n",
        "**MySQL설치**\n",
        "\n",
        "- 구글 검색 창에 download mysql workbench입력\n"
      ],
      "metadata": {
        "id": "-iviFhgfcsR6"
      }
    }
  ]
}