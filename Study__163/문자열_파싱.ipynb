{
  "nbformat": 4,
  "nbformat_minor": 0,
  "metadata": {
    "colab": {
      "name": "문자열 파싱",
      "provenance": [],
      "authorship_tag": "ABX9TyPXHtqPNTjtCWXoy7GRSVUH"
    },
    "kernelspec": {
      "name": "python3",
      "display_name": "Python 3"
    },
    "language_info": {
      "name": "python"
    }
  },
  "cells": [
    {
      "cell_type": "code",
      "execution_count": 1,
      "metadata": {
        "colab": {
          "base_uri": "https://localhost:8080/"
        },
        "id": "5Ty-_NUeO5uI",
        "outputId": "a65fa36b-994d-4e9f-e2bd-9d1f8b03711a"
      },
      "outputs": [
        {
          "output_type": "stream",
          "name": "stdout",
          "text": [
            "0.8475\n"
          ]
        }
      ],
      "source": [
        "str = 'X-DSPM-Confidence: 0.8475'\n",
        "\n",
        "ipos = str.find(':') # \":\"부분 탐색(위치값 발견)\n",
        "piece = str[ipos+2:] # 공백 고려하여 +2부터 뒷부분을 출력하면 값 나온다\n",
        "value = float(piece) # 문자열일테니 소수 타입으로 변경\n",
        "print(value) # 출력"
      ]
    },
    {
      "cell_type": "code",
      "source": [
        ""
      ],
      "metadata": {
        "id": "GAVIlmJ_RbM8"
      },
      "execution_count": null,
      "outputs": []
    }
  ]
}