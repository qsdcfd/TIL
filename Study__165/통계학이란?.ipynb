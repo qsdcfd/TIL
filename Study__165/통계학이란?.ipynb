{
  "nbformat": 4,
  "nbformat_minor": 0,
  "metadata": {
    "colab": {
      "name": "통계학이란?",
      "provenance": [],
      "authorship_tag": "ABX9TyN6wYGqlhO/p72kJH9XtpZ7"
    },
    "kernelspec": {
      "name": "python3",
      "display_name": "Python 3"
    },
    "language_info": {
      "name": "python"
    }
  },
  "cells": [
    {
      "cell_type": "markdown",
      "source": [
        "### 통계학\n",
        "\n",
        "*정의\n",
        "\n",
        "수학의 한 부문으로, 사회 현상을 통계에 의하여 관찰·연구하는 학문으로 집단에 관한 자료를 정리하여 그 특징을 나타내는 여러 가지 수치를 산출하고 그 자료가 가리키는 용도로 활용이됩니다.\n",
        "\n",
        "<br>\n",
        "\n",
        "**활용**\n",
        "\n",
        "*과거\n",
        "\n",
        "- 농산물의 생산량에 대한 기록\n",
        "\n",
        "- 국가간 교역량, 실업률 파악\n",
        "\n",
        "- 경제 관련 자료에 대한 기록\n",
        "\n",
        "<br>\n",
        "\n",
        "*현재\n",
        "\n",
        "- 수학을 바탕으로 더 과학적이고 논리적인 체계를 갖춘 학문\n",
        "\n",
        "- 자료가 발생될 수 있는 모든 분야로 확대\n",
        "\n",
        "- 빅데이터: 계산량이 엄청나 접근할 수 없던 분야의 자료\n",
        "\n",
        "- AI와 융합하여 사회 경제 의료 각 분야에 활용\n",
        "\n",
        "- 인공지능의 입력은 반드시 데이터와 연결\n",
        "\n",
        "   - 알파고\n",
        "   \n",
        "   - 시리\n",
        "   \n",
        "   - 네비게이션(교통)\n",
        "   \n",
        "   - Watson for Oncology(의학, 암)\n",
        "   \n",
        " \n",
        " - AI 핵심 기술\n",
        " \n",
        "    - 음성인식: 알렉스, 시리,빅스비...\n",
        "    \n",
        "    - 형상인식(Pattern): Drone, 자율주행. 3D\n",
        "    \n",
        "    "
      ],
      "metadata": {
        "id": "XywoZsjkiNot"
      }
    },
    {
      "cell_type": "code",
      "source": [
        ""
      ],
      "metadata": {
        "id": "4Vhx3zGziO2t"
      },
      "execution_count": null,
      "outputs": []
    }
  ]
}