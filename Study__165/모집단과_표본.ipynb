{
  "nbformat": 4,
  "nbformat_minor": 0,
  "metadata": {
    "colab": {
      "name": "모집단과 표본",
      "provenance": [],
      "authorship_tag": "ABX9TyMjWU5c9tITKetPz9J4/3DA"
    },
    "kernelspec": {
      "name": "python3",
      "display_name": "Python 3"
    },
    "language_info": {
      "name": "python"
    }
  },
  "cells": [
    {
      "cell_type": "markdown",
      "source": [
        "### 모집단과 표본\n",
        "\n",
        "![](https://images.velog.io/images/qsdcfd/post/a256cec7-af84-4050-affd-75080a0d15d4/image.png)\n",
        "\n",
        "*모집단\n",
        "\n",
        "통계학에서 우리가 관심있게 분석하고자하는 전체 집단, 전체 대상을 말합니다\n",
        "\n",
        "<br>\n",
        "\n",
        "*표본추출(sampling)\n",
        "\n",
        "모집단에서 표본을 추출하는 행위를 말합니다.\n",
        "\n",
        "<br>\n",
        "\n",
        "*표본\n",
        "\n",
        "모집단의 부분집합에 해당되는 부분을 추출하면 이 추출된 자료를 말합니다.\n",
        "\n",
        "\n",
        "*예시\n",
        "\n",
        "![](https://images.velog.io/images/qsdcfd/post/cbf615e4-11cf-4cf2-a87f-04a93726b344/image.png)"
      ],
      "metadata": {
        "id": "hjX0FhXp3aOL"
      }
    },
    {
      "cell_type": "code",
      "source": [
        ""
      ],
      "metadata": {
        "id": "X3s5Ij8V3ac2"
      },
      "execution_count": null,
      "outputs": []
    }
  ]
}