{
  "nbformat": 4,
  "nbformat_minor": 0,
  "metadata": {
    "colab": {
      "provenance": [],
      "authorship_tag": "ABX9TyNfwOrkkjyeOxhAIeYtbjVd"
    },
    "kernelspec": {
      "name": "python3",
      "display_name": "Python 3"
    },
    "language_info": {
      "name": "python"
    }
  },
  "cells": [
    {
      "cell_type": "markdown",
      "source": [
        "# 객제치향 상용구\n",
        "## 연산자 오버로딩: 제대로 하기\n",
        "### 향상된 비교 연산자\n",
        "\n",
        ">파이썬 인터프리터가 ==, != ,> , <, >=, <= 비교 연산자를 다루는 방법은 앞에서 설명한 방법과 비슷하다.\n",
        "\n",
        "![](https://velog.velcdn.com/images/qsdcfd/post/f890e5f5-9aa1-4058-9734-4cee93c87245/image.png)\n",
        "\n",
        "\n",
        "```\n",
        "class Vector:\n",
        "\n",
        "\tdef __eq__(self, other):\n",
        "    \treturn (len(self) == len(other) and\n",
        "        \tall (a == b for a, b in zip(self, other))\n",
        "\n",
        "va = Vector([1.0,2.0,3.0])\n",
        "vb = Vector(range(1,4))\n",
        "va == vb\n",
        "\n",
        "from vector2d_v3 import Vector2d\n",
        "v2d = Vector2d(1,2)\n",
        "```\n"
      ],
      "metadata": {
        "id": "0MwX2rxmkw8O"
      }
    },
    {
      "cell_type": "code",
      "source": [],
      "metadata": {
        "id": "NmRgCkJokxPA"
      },
      "execution_count": null,
      "outputs": []
    }
  ]
}