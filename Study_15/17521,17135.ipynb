{
 "cells": [
  {
   "cell_type": "code",
   "execution_count": null,
   "id": "romance-engine",
   "metadata": {},
   "outputs": [],
   "source": [
    "import sys\n",
    "\n",
    "n, w = map(int, sys.stdin.readline().split( ))\n",
    "cash = [int(sys.stdin.readline()) for _ in range(n)]\n",
    "coin = 0\n",
    "result = []\n",
    "for i in range(1,n):\n",
    "  if coin == 0:\n",
    "    if cash[i-1] < cash[i]:\n",
    "        coin = coin + (w // cash[i-1])\n",
    "        w = w - (coin * cash[i-1])\n",
    "  elif (coin != 0) and cash[i-1] > cash[i]:\n",
    "        w = w + (coin * cash[i-1])\n",
    "        coin = 0\n",
    "print(w + (coin * cash[n-1]))"
   ]
  },
  {
   "cell_type": "code",
   "execution_count": null,
   "id": "eleven-change",
   "metadata": {},
   "outputs": [],
   "source": [
    "N, M, D = map(int, input().split())\n",
    " \n",
    "board = []\n",
    " \n",
    "for _ in range(N):\n",
    "    board.append(list(map(int, input().split())))\n",
    " \n",
    "def shoot(y, position, s_board):\n",
    "    for d in range(1, D+1):\n",
    "        for left in range(d, -1, -1): # left 부터 파악\n",
    "            height = d - left\n",
    "            if height > 0 and 0 <= y - height < N and 0 <= position - left < M and s_board[y - height][position - left] == 1:\n",
    "                return (y - height, position - left)\n",
    "        for right in range(1, d+1, 1): # left 부터 파악\n",
    "            height = d - right\n",
    "            if height > 0 and 0 <= y - height < N and 0 <= position + right < M and s_board[y - height][position + right] == 1:\n",
    "                return (y - height, position + right)\n",
    "        \n",
    "    return None\n",
    " \n",
    "def simulation(positions):\n",
    "    s_board = [line[:] for line in board]\n",
    "    killed_amount = 0\n",
    "    for y in range(N, 0, -1):\n",
    "        killed = []\n",
    "        for position in positions:\n",
    "            killed_enemy = shoot(y, position, s_board)\n",
    "            if killed_enemy is not None:\n",
    "                killed.append(killed_enemy)\n",
    "        for killed_enemy in killed:\n",
    "            if s_board[killed_enemy[0]][killed_enemy[1]] == 1:\n",
    "                s_board[killed_enemy[0]][killed_enemy[1]] = 0\n",
    "                killed_amount += 1\n",
    "    return killed_amount\n",
    " \n",
    "max_v = 0\n",
    "for i in range(M):\n",
    "    for j in range(i + 1, M):\n",
    "        for k in range(j + 1, M):\n",
    "            max_v = max(max_v, simulation((i, j, k)))\n",
    " \n",
    "print(max_v)"
   ]
  }
 ],
 "metadata": {
  "kernelspec": {
   "display_name": "Python 3",
   "language": "python",
   "name": "python3"
  },
  "language_info": {
   "codemirror_mode": {
    "name": "ipython",
    "version": 3
   },
   "file_extension": ".py",
   "mimetype": "text/x-python",
   "name": "python",
   "nbconvert_exporter": "python",
   "pygments_lexer": "ipython3",
   "version": "3.7.9"
  }
 },
 "nbformat": 4,
 "nbformat_minor": 5
}
