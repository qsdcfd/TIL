{
  "nbformat": 4,
  "nbformat_minor": 0,
  "metadata": {
    "colab": {
      "name": "반복문",
      "provenance": [],
      "authorship_tag": "ABX9TyMHXYf89sFIUY23MlsFoF03"
    },
    "kernelspec": {
      "name": "python3",
      "display_name": "Python 3"
    },
    "language_info": {
      "name": "python"
    }
  },
  "cells": [
    {
      "cell_type": "markdown",
      "source": [
        "#### 학습목표\n",
        "\n",
        "파이썬에서의 반복작업은 어떤식으로 수행되는지 이해하고 응용할 수 있다.\n",
        " \n",
        "<br>\n",
        "\n",
        "#### 핵심 키워드\n",
        "\n",
        "for 루프\n",
        "\n",
        "---\n",
        "\n",
        "### 루프의 응용\n",
        "\n",
        "![](https://images.velog.io/images/qsdcfd/post/e9748119-f0bc-4433-9a1d-c9c3295bd966/image.png)\n",
        "\n",
        "특정조건이 참인 경우에는 반복적으로 실행되는 불확정 루프의 종류인 while문과 유한개의 요소를 가지고 있으며, 개별 요소를 모두 순회하게 되면 종료되는 for 루프를 살펴보았습니다. \n",
        "\n",
        "먼저, for 루프를 이용해 가장 큰 수를 찾아내는 코드를 만들어 보도록 하겠습니다.\n",
        "\n",
        "```\n",
        "largest_so_far = -1 # 값을 가지고 있는 변수를 선언해 줍니다. 작은 수로 -1로 선언을 합니다.\n",
        "print('Before', largest_so_far) # 최초의 값과 루프 이후의 값을 비교하기 위해 print 함수로 현재의 값을 확인 합니다.\n",
        "numbers = [9, 41, 12, 3, 74, 15] # 강의와는 달리 numbers라는 int를 원소로 가지는 list를 선언하였습니다.\n",
        "for the_num in numbers :\n",
        "    if the_num > largest_so_far : # iteration value의 현재의 값(the_num)이 현재 가장 큰 값이 할당 되어 있는 largest_so_far보다 크다면 largest_so_far의 값을 the_num으로 바꿔줍니다.\n",
        "        largest_so_far = the_num\n",
        "    print('largest_so_far: ', largest_so_far, 'current number: ',the_num)\n",
        "\n",
        "print('After', largest_so_far)\n",
        "\n",
        "# Before -1\n",
        "# largest_so_far:  9 current number:  9\n",
        "# largest_so_far:  41 current number:  41\n",
        "# largest_so_far:  41 current number:  12\n",
        "# largest_so_far:  41 current number:  3\n",
        "# largest_so_far:  74 current number:  74\n",
        "# largest_so_far:  74 current number:  15\n",
        "# After 74\n",
        "```\n",
        "\n",
        "가장 큰 수를 찾는 문제에 대해서 인간이 해결하는 방식과 컴퓨터가 해결하는 방식에 있어서의 차이를 이해해야합니다. \n",
        "\n",
        "인간은 전체의 수가 펼쳐져 있는 상태에서 가장 큰 수를 찾기 위해 앞뒤로 유동적으로 비교를 할 수 있는 반면 컴퓨터는 순차적으로 인간이 입력한 코드에 따라 숫자를 비교하게 됩니다. "
      ],
      "metadata": {
        "id": "Yvpi2IdDvegp"
      }
    },
    {
      "cell_type": "code",
      "source": [
        ""
      ],
      "metadata": {
        "id": "aSp1IWPvvg-6"
      },
      "execution_count": null,
      "outputs": []
    }
  ]
}