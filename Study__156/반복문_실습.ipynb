{
  "nbformat": 4,
  "nbformat_minor": 0,
  "metadata": {
    "colab": {
      "name": "반복문 실습",
      "provenance": [],
      "authorship_tag": "ABX9TyOL+9GOhwBiV/bG2QGR7eYc"
    },
    "kernelspec": {
      "name": "python3",
      "display_name": "Python 3"
    },
    "language_info": {
      "name": "python"
    }
  },
  "cells": [
    {
      "cell_type": "markdown",
      "source": [
        "#Question\n",
        "\n",
        "*while 무한루프에 input함수를 이용하여 계속 문구가 나오고 값을 넣을 수 있게 하기\n",
        "```\n",
        "Enter a number: 4\n",
        "\n",
        "Enter a number: 5\n",
        "```\n",
        "\n",
        "<br>\n",
        "\n",
        "*try~excpet문으로 done외의 다른 문자 입력시 invalid input이라고 규정 그 후 숫자를 다시 넣어야 하므로 continue를 이용하기\n",
        "\n",
        "\n",
        "```\n",
        "Enter a number: bad data\n",
        "\n",
        "Invalid Input\n",
        "```\n",
        "\n",
        "\n",
        "*continue로 인해서 다시 윗 줄부터 재 가동\n",
        "\n",
        "```\n",
        "\n",
        "Enter a number: 7 \n",
        "\n",
        "Enter a number: done #if~break문으로 설정\n",
        "```\n",
        "\n",
        "\n",
        "\n",
        "\n",
        "16 3 5.33333333333333 #결과(누적된 데이터)"
      ],
      "metadata": {
        "id": "t8qEisn-DAjc"
      }
    },
    {
      "cell_type": "code",
      "execution_count": 4,
      "metadata": {
        "colab": {
          "base_uri": "https://localhost:8080/"
        },
        "id": "KW79jrK412pU",
        "outputId": "2e7c05c9-4d71-4ef0-e31d-3748818c444e"
      },
      "outputs": [
        {
          "output_type": "stream",
          "name": "stdout",
          "text": [
            "Enter a number: 4\n",
            "Enter a number: 5\n",
            "Enter a number: bad data\n",
            "Invalid input\n",
            "Enter a number: 7\n",
            "Enter a number: done\n",
            "16.0 3 5.333333333333333\n"
          ]
        }
      ],
      "source": [
        "#개수를 세기 위한 로직\n",
        "\n",
        "num = 0\n",
        "total = 0.0\n",
        "while True : # 무한루프\n",
        "    sval = input('Enter a number: ')\n",
        "    if sval == 'done': #done를 인식하고 싶어서\n",
        "        break\n",
        "    try: #done이 아닌 다른 문자가 들어올 때 에러 처리가 아닌 excpet값 나오기\n",
        "        fval = float(sval)\n",
        "    except:\n",
        "        print(\"Invalid input\")\n",
        "        continue #다시 위로 올라가서 시작해라, 두 번째 입력값 받기\n",
        "\n",
        "    #print(fval)\n",
        "    num = num + 1\n",
        "    total = total + fval\n",
        "\n",
        "#print(\"ALL DONE\")\n",
        "print(total,num, total/num)"
      ]
    }
  ]
}