{
  "nbformat": 4,
  "nbformat_minor": 0,
  "metadata": {
    "colab": {
      "name": "크롤링 맛보기",
      "provenance": [],
      "authorship_tag": "ABX9TyMVFrwPPztB2rF23bHFfZ6b"
    },
    "kernelspec": {
      "name": "python3",
      "display_name": "Python 3"
    },
    "language_info": {
      "name": "python"
    }
  },
  "cells": [
    {
      "cell_type": "code",
      "execution_count": 1,
      "metadata": {
        "colab": {
          "base_uri": "https://localhost:8080/"
        },
        "id": "oxxShqAYfBN3",
        "outputId": "580e23eb-3050-4cd6-8fb2-1de6dbd09cba"
      },
      "outputs": [
        {
          "output_type": "stream",
          "name": "stdout",
          "text": [
            "Requirement already satisfied: requests in /usr/local/lib/python3.7/dist-packages (2.23.0)\n",
            "Requirement already satisfied: urllib3!=1.25.0,!=1.25.1,<1.26,>=1.21.1 in /usr/local/lib/python3.7/dist-packages (from requests) (1.24.3)\n",
            "Requirement already satisfied: idna<3,>=2.5 in /usr/local/lib/python3.7/dist-packages (from requests) (2.10)\n",
            "Requirement already satisfied: chardet<4,>=3.0.2 in /usr/local/lib/python3.7/dist-packages (from requests) (3.0.4)\n",
            "Requirement already satisfied: certifi>=2017.4.17 in /usr/local/lib/python3.7/dist-packages (from requests) (2021.10.8)\n"
          ]
        }
      ],
      "source": [
        "! pip install requests"
      ]
    },
    {
      "cell_type": "code",
      "source": [
        "import requests\n",
        "print(\"requests installed!\")"
      ],
      "metadata": {
        "colab": {
          "base_uri": "https://localhost:8080/"
        },
        "id": "0h9d9unofLH5",
        "outputId": "d0e1110a-cb47-475e-df3c-f670de37c14d"
      },
      "execution_count": 2,
      "outputs": [
        {
          "output_type": "stream",
          "name": "stdout",
          "text": [
            "requests installed!\n"
          ]
        }
      ]
    },
    {
      "cell_type": "code",
      "source": [
        "! pip install beautifulsoup4"
      ],
      "metadata": {
        "colab": {
          "base_uri": "https://localhost:8080/"
        },
        "id": "pNCQF3s7fflL",
        "outputId": "8a493181-e9fa-404b-a611-054dbfe25050"
      },
      "execution_count": 3,
      "outputs": [
        {
          "output_type": "stream",
          "name": "stdout",
          "text": [
            "Requirement already satisfied: beautifulsoup4 in /usr/local/lib/python3.7/dist-packages (4.6.3)\n"
          ]
        }
      ]
    },
    {
      "cell_type": "code",
      "source": [
        "import bs4\n",
        "print(\"beautifulsoup4 installed!\")"
      ],
      "metadata": {
        "colab": {
          "base_uri": "https://localhost:8080/"
        },
        "id": "QdH5F8TffjKJ",
        "outputId": "a986039a-f5f4-4c79-9a79-a5575e50eb19"
      },
      "execution_count": 4,
      "outputs": [
        {
          "output_type": "stream",
          "name": "stdout",
          "text": [
            "beautifulsoup4 installed!\n"
          ]
        }
      ]
    },
    {
      "cell_type": "code",
      "source": [
        "import requests\n",
        "import bs4\n",
        "\n",
        "req = requests.get(\"https://comic.naver.com/webtoon/weekday\")\n",
        "html = bs4.BeautifulSoup(req.text, 'html.parser')\n",
        "\n",
        "columns = html.find_all('div',{'class':'col_inner'})\n",
        "\n",
        "for column in columns:\n",
        "    day = column.find('h4').text\n",
        "    webtoons = column.find_all('a',{'class':'title'})[:5]\n",
        "    print(day)\n",
        "    for index in range(len(webtoons)):\n",
        "        title = webtoons[index].text\n",
        "        print(f\"{index+1}.{title}\")\n",
        "    print()"
      ],
      "metadata": {
        "colab": {
          "base_uri": "https://localhost:8080/"
        },
        "id": "zdXj4D8LfqB1",
        "outputId": "3e530b66-9f35-405f-bf0b-b4e1075798b4"
      },
      "execution_count": 9,
      "outputs": [
        {
          "output_type": "stream",
          "name": "stdout",
          "text": [
            "월요 웹툰\n",
            "1.참교육\n",
            "2.쇼미더럭키짱!\n",
            "3.신의 탑\n",
            "4.뷰티풀 군바리\n",
            "5.퀘스트지상주의\n",
            "\n",
            "화요 웹툰\n",
            "1.쇼미더럭키짱!\n",
            "2.여신강림\n",
            "3.김부장\n",
            "4.멸망 이후의 세계\n",
            "5.1을 줄게\n",
            "\n",
            "수요 웹툰\n",
            "1.전지적 독자 시점\n",
            "2.쇼미더럭키짱!\n",
            "3.화산귀환\n",
            "4.헬퍼 2 : 킬베로스\n",
            "5.먹는 인생\n",
            "\n",
            "목요 웹툰\n",
            "1.독립일기\n",
            "2.쇼미더럭키짱!\n",
            "3.연애혁명\n",
            "4.더 복서\n",
            "5.나노마신\n",
            "\n",
            "금요 웹툰\n",
            "1.외모지상주의\n",
            "2.쇼미더럭키짱!\n",
            "3.갓 오브 하이스쿨\n",
            "4.나 혼자 만렙 뉴비\n",
            "5.내과 박원장\n",
            "\n",
            "토요 웹툰\n",
            "1.프리드로우\n",
            "2.신림/남/22\n",
            "3.취사병 전설이 되다\n",
            "4.은탄\n",
            "5.먹는 인생\n",
            "\n",
            "일요 웹툰\n",
            "1.독립일기\n",
            "2.싸움독학\n",
            "3.입학용병\n",
            "4.열렙전사\n",
            "5.약한영웅\n",
            "\n"
          ]
        }
      ]
    },
    {
      "cell_type": "code",
      "source": [
        ""
      ],
      "metadata": {
        "id": "fvv83QGnf3-u"
      },
      "execution_count": null,
      "outputs": []
    }
  ]
}