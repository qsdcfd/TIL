{
  "nbformat": 4,
  "nbformat_minor": 0,
  "metadata": {
    "colab": {
      "provenance": [],
      "authorship_tag": "ABX9TyOmrtfSpw1zXbzL9dQqmEi+"
    },
    "kernelspec": {
      "name": "python3",
      "display_name": "Python 3"
    },
    "language_info": {
      "name": "python"
    }
  },
  "cells": [
    {
      "cell_type": "markdown",
      "source": [
        "# 제어 흐름\n",
        "## 반복형, 반복자, 제너레이터\n",
        "## 제너레이터 표현식\n",
        "\n",
        "제너레이터 표현식은 지능형 리스트의 느긋한 버전으로 리스트를 생성하는 대신, 필요에 따라 항목을 느긋하게 생성하는 제너레이터를 반환하므로 지능형 리스트가 리스트 팩토리라면, 제너레이터 표현식은 제너레이터 팩토리라고 생각할 수 있다.\n",
        "\n",
        "```\n",
        "def gen_AB():\n",
        "\tprint('start')\n",
        "    yield 'A'\n",
        "    print('continue')\n",
        "    yield 'B'\n",
        "    print('end.')\n",
        "\n",
        "res1 = [x*3 for x in gen_AB()]\n",
        "\n",
        "for i in res1:\n",
        "\tprint('-->', i)\n",
        "    \n",
        "res2 = (x*3 for x in gen_AB())\n",
        "res2\n",
        "for i in res2:\n",
        "\tprint('-->', i)\n",
        "```\n",
        "\n",
        "<br>\n",
        "\n",
        ">제너레이터 표현식은 제너레이터를 생성하고, 이 표현식을 사용하면 Sentence 클래스의 코드를 더 짧게 만들 수 있다.\n",
        "\n",
        "```\n",
        "import re\n",
        "import reprlib\n",
        "\n",
        "RE_WORD = re.compile('\\w+')\n",
        "\n",
        "class Sentence:\n",
        "\n",
        "\tdef __init__(self, text):\n",
        "    \tself.text = text\n",
        "        \n",
        "    def __repr__(self):\n",
        "    \treturn 'Sentence(%s)' reprlib.repr(self.text)\n",
        "        \n",
        "    def __iter__(self):\n",
        "    \treturn (match.group() for match in RE_WORD.finditer(self.text))\n",
        "```\n",
        "\n",
        "<br>\n",
        "\n",
        "제너레이터 함수가 아니면, 제너레이터를 생성해서 반환하는 제너레이터 표현식을 사용한다.\n",
        "\n",
        "제너레이터 표현식은 편리 구문으로, 제너레이터 함수로 대체할 수 있지만, 더 편한 경우도 있다.\n"
      ],
      "metadata": {
        "id": "_C7sy_5oLuwz"
      }
    },
    {
      "cell_type": "code",
      "source": [],
      "metadata": {
        "id": "nB_sxX9rLvcT"
      },
      "execution_count": null,
      "outputs": []
    }
  ]
}