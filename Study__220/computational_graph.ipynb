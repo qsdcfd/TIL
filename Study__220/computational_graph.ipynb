{
  "nbformat": 4,
  "nbformat_minor": 0,
  "metadata": {
    "colab": {
      "name": "computational_graph.ipynb의 사본",
      "provenance": [],
      "collapsed_sections": [],
      "include_colab_link": true
    },
    "kernelspec": {
      "name": "python3",
      "display_name": "Python 3"
    },
    "language_info": {
      "name": "python"
    }
  },
  "cells": [
    {
      "cell_type": "markdown",
      "metadata": {
        "id": "view-in-github",
        "colab_type": "text"
      },
      "source": [
        "<a href=\"https://colab.research.google.com/github/qsdcfd/TIL/blob/TIL/Study__220/computational_graph.ipynb\" target=\"_parent\"><img src=\"https://colab.research.google.com/assets/colab-badge.svg\" alt=\"Open In Colab\"/></a>"
      ]
    },
    {
      "cell_type": "code",
      "execution_count": null,
      "metadata": {
        "id": "yv9uo8VuXlgZ"
      },
      "outputs": [],
      "source": [
        "import numpy as np"
      ]
    },
    {
      "cell_type": "markdown",
      "source": [
        "$$\n",
        "y = e^{2x+1}\n",
        "$$"
      ],
      "metadata": {
        "id": "SBDPsi-AtzJE"
      }
    },
    {
      "cell_type": "code",
      "source": [
        "def add(x, a):\n",
        "    # WRITE CODE HERE [+]\n",
        "    return x+a, 1\n",
        "\n",
        "def mul(x, a):\n",
        "    # WRITE CODE HERE [+]\n",
        "    return a*x, a\n",
        "\n",
        "def exp(x):\n",
        "    # WRITE CODE HERE [+]\n",
        "    return np.exp(x), np.exp(x)"
      ],
      "metadata": {
        "id": "Jk3ehVH3XnaZ"
      },
      "execution_count": null,
      "outputs": []
    },
    {
      "cell_type": "code",
      "source": [
        "x0 = 1.5\n",
        "\n",
        "# WRITE CODE HERE [+]\n",
        "a, dx0 = mul(x0, 2)\n",
        "b, da = add(a, 1)\n",
        "y, db = exp(b)\n",
        "\n",
        "print(f\"f({x0})={y:.3f}\")\n",
        "print(f\"f'({x0})={dx0*da*db:.3f}\")"
      ],
      "metadata": {
        "id": "NVP56mILX7p6",
        "colab": {
          "base_uri": "https://localhost:8080/"
        },
        "outputId": "43469e95-4e4b-48d0-8a58-a7d1bd77ac93"
      },
      "execution_count": null,
      "outputs": [
        {
          "output_type": "stream",
          "name": "stdout",
          "text": [
            "f(1.5)=54.598\n",
            "f'(1.5)=109.196\n"
          ]
        }
      ]
    },
    {
      "cell_type": "code",
      "source": [
        "np.exp(2*x0+1), 2*np.exp(2*x0+1)"
      ],
      "metadata": {
        "colab": {
          "base_uri": "https://localhost:8080/"
        },
        "id": "L9FAlY57jz1J",
        "outputId": "cb939edb-6caf-433c-a29c-2e5a55bd5d1d"
      },
      "execution_count": null,
      "outputs": [
        {
          "output_type": "execute_result",
          "data": {
            "text/plain": [
              "(54.598150033144236, 109.19630006628847)"
            ]
          },
          "metadata": {},
          "execution_count": 5
        }
      ]
    },
    {
      "cell_type": "markdown",
      "source": [
        "$$\n",
        "y = \\left( \\frac{\\sqrt{x}}{2} - 1 \\right)^{-10}\n",
        "$$"
      ],
      "metadata": {
        "id": "USwjLcMEoUc-"
      }
    },
    {
      "cell_type": "code",
      "source": [
        "import sympy as S"
      ],
      "metadata": {
        "id": "madEV_R3YPVq"
      },
      "execution_count": null,
      "outputs": []
    },
    {
      "cell_type": "code",
      "source": [
        "x = S.Symbol('x')\n",
        "\n",
        "y = (S.sqrt(x)/2 -1)**(-10)\n",
        "y\n"
      ],
      "metadata": {
        "id": "0u8uZHyGaFPo",
        "colab": {
          "base_uri": "https://localhost:8080/",
          "height": 71
        },
        "outputId": "a516374f-9d8e-41db-d58d-d3e284fab491"
      },
      "execution_count": null,
      "outputs": [
        {
          "output_type": "execute_result",
          "data": {
            "text/plain": [
              "(sqrt(x)/2 - 1)**(-10)"
            ],
            "text/latex": "$\\displaystyle \\frac{1}{\\left(\\frac{\\sqrt{x}}{2} - 1\\right)^{10}}$"
          },
          "metadata": {},
          "execution_count": 7
        }
      ]
    },
    {
      "cell_type": "code",
      "source": [
        "dy = S.diff(y, x)\n",
        "dy"
      ],
      "metadata": {
        "id": "PSi02mXUopLE",
        "colab": {
          "base_uri": "https://localhost:8080/",
          "height": 71
        },
        "outputId": "2e887ff3-d5d6-4537-f1f0-97839041ca25"
      },
      "execution_count": null,
      "outputs": [
        {
          "output_type": "execute_result",
          "data": {
            "text/plain": [
              "-5/(2*sqrt(x)*(sqrt(x)/2 - 1)**11)"
            ],
            "text/latex": "$\\displaystyle - \\frac{5}{2 \\sqrt{x} \\left(\\frac{\\sqrt{x}}{2} - 1\\right)^{11}}$"
          },
          "metadata": {},
          "execution_count": 8
        }
      ]
    },
    {
      "cell_type": "code",
      "source": [
        "x0 = 1\n",
        "print(f\"f({x0})={y.subs({x:x0})}\" )\n",
        "print(f\"f'({x0})={dy.subs({x:x0})}\" )"
      ],
      "metadata": {
        "id": "l8dqnSi3aMmV",
        "colab": {
          "base_uri": "https://localhost:8080/"
        },
        "outputId": "5de89a62-f994-4067-d81c-0a59eb83c7f1"
      },
      "execution_count": null,
      "outputs": [
        {
          "output_type": "stream",
          "name": "stdout",
          "text": [
            "f(1)=1024\n",
            "f'(1)=5120\n"
          ]
        }
      ]
    },
    {
      "cell_type": "code",
      "source": [
        "def pow(x, n):\n",
        "    # WRITE CODE HERE [+]\n",
        "    return x**n, n*x**(n-1)"
      ],
      "metadata": {
        "id": "Uz1mj2dPnf_m"
      },
      "execution_count": null,
      "outputs": []
    },
    {
      "cell_type": "code",
      "source": [
        "x0 = 1\n",
        "\n",
        "# WRITE CODE HERE [+]\n",
        "a, dx0 = pow(x0, (1/2))\n",
        "b, da = mul(a, (1/2))\n",
        "c, db = add(b, -1)\n",
        "y, dc = pow(c, -10)\n",
        "\n",
        "print(f\"f({x0})={y}\")\n",
        "print(f\"f'({x0})={dc*db*da*dx0}\")"
      ],
      "metadata": {
        "id": "V7PqViDdnsn2",
        "colab": {
          "base_uri": "https://localhost:8080/"
        },
        "outputId": "0349a15f-bd6f-4106-a6d7-a0f887529594"
      },
      "execution_count": null,
      "outputs": [
        {
          "output_type": "stream",
          "name": "stdout",
          "text": [
            "f(1)=1024.0\n",
            "f'(1)=5120.0\n"
          ]
        }
      ]
    },
    {
      "cell_type": "code",
      "source": [
        ""
      ],
      "metadata": {
        "id": "1mvgVB-YoMs_"
      },
      "execution_count": null,
      "outputs": []
    }
  ]
}