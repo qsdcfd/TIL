{
 "cells": [
  {
   "attachments": {
    "image.png": {
     "image/png": "[encoded data removed]"
    }
   },
   "cell_type": "markdown",
   "id": "wireless-spine",
   "metadata": {},
   "source": [
    "### Deep Learning\n",
    "\n",
    "* 정의: 사람에 의해서 가공된 데이터를 입력하는 것이 아닌 가공되지 않은 데이터를 입력받아서 결과 도출\n",
    "\n",
    "* 데이터 표현(계층적  관계로, 1~4번으로 내려갈 수록 사람 개입이 커짐)\n",
    "\n",
    "1.분자형태: 가공을 거치지 않은  데이터\n",
    "\n",
    "2.이미지; 조금 가공된 시각적 표현\n",
    "\n",
    "3.표 : 데이터가 갖고 있는 특징을 기반으로 열을 만들어서 나타냄\n",
    "\n",
    "4카테고리: 사람이 의도적인 정리를 위해서 표현\n",
    "\n",
    "목표: 사람의 개입 없이 내재적 표현을 도출시키는 거\n",
    "\n",
    "* 신경망\n",
    "\n",
    "함수이다! 왜냐하면 본질은 입력, 내부연산,출력 구조를 갖기 때문이다\n",
    "\n",
    "* 선형대수 개념\n",
    "\n",
    "-Linear Transformation: 간단하게 말하면 행렬의 곱 연산\n",
    "\n",
    "-Transformation: vector을 입력받아 출력\n",
    "2차원 명면에서 축을 옮기거나 휘게 혹은 꼬이게 하는 등 즉, 변형이 가능하다고 할 수 있다\n",
    "\n",
    "* 함수이용\n",
    "\n",
    "1.One to one\n",
    "\n",
    ":입력값과 출력값이 모두 스칼라인 경우\n",
    "![image.png](attachment:image.png)\n",
    ":회귀문제\n",
    "\n",
    "2.Many to one\n",
    "\n",
    ": 여러개의 입력값과 하나의 출력값\n",
    ": 회귀문제\n",
    "\n",
    "3.Many  to Many\n",
    "\n",
    ":입력값과 출력값이 모두 벡터\n",
    ":분류문제\n",
    "\n",
    "* 함수와 모델의 차이점\n",
    "\n",
    "함수는 그래프나 점에대한 정보를 주는 반명\n",
    "모델은 데이터 기반으로 모든 변수를 생각하고 추출\n",
    "\n",
    "* 함수를 찾는 과정\n",
    "\n",
    "1.어떤 모델로 함수를 표현할 것인가\n",
    "\n",
    "당연히 경우에 따라서 * 모델 이용파트에서 본 3개중 하나를 이용한다. 왜냐하면 우리가 볼 데이터는 비정형 데이터이기 때문이다.\n",
    " \n",
    "2.최적의 함수를 찾아라\n",
    "\n",
    "모델을 정했다면 그 모델이 그리는 공간이 있을거고 그 속에서도 수많은 경우들이 있을것이다 그중 가장 적합한 것을 찾는 것이 임무이다\n",
    "\n",
    "보통 딥러닝은 Gradient Descent를 다룬다"
   ]
  }
 ],
 "metadata": {
  "kernelspec": {
   "display_name": "Python 3",
   "language": "python",
   "name": "python3"
  },
  "language_info": {
   "codemirror_mode": {
    "name": "ipython",
    "version": 3
   },
   "file_extension": ".py",
   "mimetype": "text/x-python",
   "name": "python",
   "nbconvert_exporter": "python",
   "pygments_lexer": "ipython3",
   "version": "3.7.9"
  }
 },
 "nbformat": 4,
 "nbformat_minor": 5
}
