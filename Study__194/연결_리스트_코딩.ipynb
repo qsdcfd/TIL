{
  "nbformat": 4,
  "nbformat_minor": 0,
  "metadata": {
    "colab": {
      "name": "연결 리스트: 코딩",
      "provenance": [],
      "authorship_tag": "ABX9TyMqAv9PEQqdI/8vpbs1AO3Y"
    },
    "kernelspec": {
      "name": "python3",
      "display_name": "Python 3"
    },
    "language_info": {
      "name": "python"
    }
  },
  "cells": [
    {
      "cell_type": "markdown",
      "source": [
        "앞서 정의한 구조체를 활용해서 실제로 연결 리스트를 구현해보도록 하겠습니다.\n",
        "\n",
        "아래 코드의 내용과 각 주석을 따라가 보세요.\n",
        "```\n",
        "\n",
        "#include <stdio.h>\n",
        "#include <stdlib.h>\n",
        "\n",
        "//연결 리스트의 기본 단위가 되는 node 구조체를 정의합니다.\n",
        "typedef struct node\n",
        "{\n",
        "    //node 안에서 정수형 값이 저장되는 변수를 name으로 지정합니다.\n",
        "    int number; \n",
        "\n",
        "    //다음 node의 주소를 가리키는 포인터를  *next로 지정합니다.\n",
        "    struct node *next;\n",
        "}\n",
        "node;\n",
        "\n",
        "int main(void)\n",
        "{\n",
        "    // list라는 이름의 node 포인터를 정의합니다. 연결 리스트의 가장 첫 번째 node를 가리킬 것입니다. \n",
        "    // 이 포인터는 현재 아무 것도 가리키고 있지 않기 때문에 NULL 로 초기화합니다.\n",
        "    node *list = NULL;\n",
        "\n",
        "    // 새로운 node를 위해 메모리를 할당하고 포인터 *n으로 가리킵니다.\n",
        "    node *n = malloc(sizeof(node));\n",
        "    if (n == NULL)\n",
        "    {\n",
        "        return 1;\n",
        "    }\n",
        "\n",
        "    // n의 number 필드에 1의 값을 저장합니다. “n->number”는 “(*n).numer”와 동일한 의미입니다. \n",
        "    // 즉, n이 가리키는 node의 number 필드를 의미하는 것입니다. \n",
        "    // 간단하게 화살표 표시 ‘->’로 쓸 수 있습니다. n의 number의 값을 1로 저장합니다.\n",
        "    n->number = 1;\n",
        "\n",
        "    // n 다음에 정의된 node가 없으므로 NULL로 초기화합니다.\n",
        "    n->next = NULL;\n",
        "\n",
        "    // 이제 첫번째 node를 정의했기 떄문에 list 포인터를 n 포인터로 바꿔 줍니다.\n",
        "    list = n;\n",
        "\n",
        "    // 이제 list에 다른 node를 더 연결하기 위해 n에 새로운 메모리를 다시 할당합니다.\n",
        "    n = malloc(sizeof(node));\n",
        "    if (n == NULL)\n",
        "    {\n",
        "        return 1;\n",
        "    }\n",
        "\n",
        "    // n의 number와 next의 값을 각각 저장합니다.\n",
        "    n->number = 2;\n",
        "    n->next = NULL;\n",
        "\n",
        "    // list가 가리키는 것은 첫 번째 node입니다. \n",
        "    //이 node의 다음 node를 n 포인터로 지정합니다.\n",
        "    list->next = n;\n",
        "\n",
        "    // 다시 한 번 n 포인터에 새로운 메모리를 할당하고 number과 next의 값을 저장합니다.\n",
        "    n = malloc(sizeof(node));\n",
        "    if (n == NULL)\n",
        "    {\n",
        "        return 1;\n",
        "    }\n",
        "\n",
        "    n->number = 3;\n",
        "    n->next = NULL;\n",
        "\n",
        "    // 현재 list는 첫번째 node를 가리키고, 이는 두번째 node와 연결되어 있습니다. \n",
        "    // 따라서 세 번째 node를 더 연결하기 위해 첫 번째 node (list)의 \n",
        "    // 다음 node(list->next)의 다음 node(list->next->next)를 n 포인터로 지정합니다.\n",
        "    list->next->next = n;\n",
        "\n",
        "    // 이제 list에 연결된 node를 처음부터 방문하면서 각 number 값을 출력합니다. \n",
        "    // 마지막 node의 next에는 NULL이 저장되어 있을 것이기 때문에 이 것이 for 루프의 종료 조건이 됩니다.\n",
        "    for (node *tmp = list; tmp != NULL; tmp = tmp->next)\n",
        "    {\n",
        "        printf(\"%i\\n\", tmp->number);\n",
        "    }\n",
        "\n",
        "    // 메모리를 해제해주기 위해 list에 연결된 node들을 처음부터 방문하면서 free 해줍니다.\n",
        "    while (list != NULL)\n",
        "    {\n",
        "        node *tmp = list->next;\n",
        "        free(list);\n",
        "        list = tmp;\n",
        "    }\n",
        "}\n",
        "```"
      ],
      "metadata": {
        "id": "FWvgr0J5W7xG"
      }
    },
    {
      "cell_type": "code",
      "source": [
        ""
      ],
      "metadata": {
        "id": "hT88MM8wW9Gf"
      },
      "execution_count": null,
      "outputs": []
    }
  ]
}