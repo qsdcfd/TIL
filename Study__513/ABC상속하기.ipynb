{
  "nbformat": 4,
  "nbformat_minor": 0,
  "metadata": {
    "colab": {
      "provenance": [],
      "authorship_tag": "ABX9TyPWuVQB6zCt07aoCgUtk+jp"
    },
    "kernelspec": {
      "name": "python3",
      "display_name": "Python 3"
    },
    "language_info": {
      "name": "python"
    }
  },
  "cells": [
    {
      "cell_type": "markdown",
      "source": [
        "# 객체지향 상용구\n",
        "## 인터페이스: 프로토콜에서 ABC까지\n",
        "### ABC상속하기\n",
        "\n",
        "**Collections.MutableSequence활용하기**\n",
        "\n",
        "```\n",
        "import collections\n",
        "\n",
        "Card = collections.namedtuple(\"Card\", ['rank', 'suit'])\n",
        "\n",
        "class FrenchDeck2(collections.MutableSequence):\n",
        "\tranks = [str(n) for n in range(2,11)] + list(\"JQKA\")\n",
        "    suits = 'spades diamonds clubs hearts'.split()\n",
        "    \n",
        "    def __init__(self):\n",
        "    \tself._cards = [Card(rank, suit) for suit in self.suits\n",
        "        \t\t\t\t\t\t\t    for rank in self.ranks]\n",
        "                                        \n",
        "    def __len__(self):\n",
        "    \treturn len(self._cards)\n",
        "    \n",
        "    def __getitem__(self, position):\n",
        "    \treturn self._cards[position]\n",
        "        \n",
        "    def __setitem__(self, position, value):\n",
        "    \tself._cards[position] = value\n",
        "        \n",
        "    def __delitem__(self, position):\n",
        "    \tdel self._cards[position]\n",
        "        \n",
        "    def insert(self, position, value):\n",
        "    \tself._cards.insert(position, value)\n",
        "```\n",
        "\n",
        "<br>\n",
        "\n",
        "파이썬은 모듈을 로딩하거나 컴파일할 때가 아니라 실행 도중 실제로 FrenchDeck2 객체를 생성할 때 추상 메서드의 구현 여부를 확인하여 추상 메서드 중 하나라도 구현되어 있지 않으면 생성할 수 없다라는 메시지와 TypeError발생한다.\n",
        "\n",
        "\n",
        "<br>\n",
        "\n",
        "> 구현한 FrenchDeck2 예제에서 사용되지 않은 __delitem__()과 inset() 메서드를 구현해야 하므로 MutableSequence ABC가 요구하는 사항이다.\n",
        "\n",
        "\n",
        "<br>\n",
        "\n",
        "FrenchDeck2는 Sequence로부터 __contains__(), __iter__(), __reversed__(), index(), count()와 같은 바로 사용할 수 있는 메서드를 상속하여 MutablSequence 클래스로부터 append(), reverse(), extend(), pop(), remove(), __iadd__()메서드를 상속한다.\n",
        "\n",
        "\n"
      ],
      "metadata": {
        "id": "2bPayGznu4hy"
      }
    },
    {
      "cell_type": "code",
      "source": [],
      "metadata": {
        "id": "V96jk8S_u4qI"
      },
      "execution_count": null,
      "outputs": []
    }
  ]
}