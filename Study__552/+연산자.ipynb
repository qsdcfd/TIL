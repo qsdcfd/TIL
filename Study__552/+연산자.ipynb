{
  "nbformat": 4,
  "nbformat_minor": 0,
  "metadata": {
    "colab": {
      "provenance": [],
      "authorship_tag": "ABX9TyOpUZbloHVbDkPapUQ11AXm"
    },
    "kernelspec": {
      "name": "python3",
      "display_name": "Python 3"
    },
    "language_info": {
      "name": "python"
    }
  },
  "cells": [
    {
      "cell_type": "markdown",
      "source": [
        "유클리드 벡터 두 개를 더하면 양쪽 벡터 각 요소의 합으로 구성된 새로운 벡터가 생성된다. 다\n",
        "음예제를보자.\n",
        "»> v1 = Vector( [3, 4, 51)\n",
        "»> v2 = Vector( [6, 7, 81)\n",
        "»> v1 + v2\n",
        "Vector([9.0, 11.0, 13.0])\n",
        "»> v1 + v2 == Vector([3+6, 4+7, 5+81)\n",
        "True\n",
        "길이가 다른 두 개의 Vector 객체를 더하면 어떻게 될까? 에러를 발생시킬 수도 있지만, 정보\n",
        "검색 등에서 활용되는 사례를 보면, 짧은 쪽 벡터의 빈 공간을 으로 채워서 더하는 것이 낫다.\n",
        "즉, 다음과 같이 작동해야 한다.\n",
        "»> v1 = Vector( [3, 4, 5, 61)\n",
        "»> v3 = Vector([ 1 , 21)\n",
        "»> v1 + v3\n",
        "Vector([4.0, 6.0, 5.0, 6.0])\n",
        "이러한 요구사항을 기반으로 [예제 13-4]와 같이 __ add—( ) 메서드를 간단하고도 멋지게 구\n",
        "현할수있다.\n",
        "예제 13-4 Vector.add ( ) 메서드. 버전 #1\n",
        "# Vector 클래스 내부\n",
        "def _add_(self, other):\n",
        "pairs = itertools.zip_longest(self, other, fillvalue=0.0) O\n",
        "return Vector(a + b for a, b in pairs) 6\n",
        "0 pairs 는 self 에서 를. other에서 를 가져와서 ( a, b ) 튜플을 생성하는 제너레이터다. self와 other\n",
        "의 길이가 다른 경우에는 짧은 쪽 반복형의 빠진 값을 fillvalue로 채운다.\n",
        "@ pairs 양쪽 항목의 합을 생성하는 제너레이터 표현식을 이용해서 새로운 Vector 객체를 생성한다.\n",
        "—add—( ) 메서드는 새로운 Vector 객체를 만들며. self 나 other의 값을 변경하지 않음에\n",
        "주의하라."
      ],
      "metadata": {
        "id": "fOe9XwGYmiDE"
      }
    },
    {
      "cell_type": "code",
      "source": [],
      "metadata": {
        "id": "-ntyikPcwa1u"
      },
      "execution_count": null,
      "outputs": []
    }
  ]
}