{
  "nbformat": 4,
  "nbformat_minor": 0,
  "metadata": {
    "colab": {
      "name": "MLOps의 구성요소",
      "provenance": [],
      "authorship_tag": "ABX9TyOiqv0rI/6zPffFvi1LPoXE",
      "include_colab_link": true
    },
    "kernelspec": {
      "name": "python3",
      "display_name": "Python 3"
    },
    "language_info": {
      "name": "python"
    }
  },
  "cells": [
    {
      "cell_type": "markdown",
      "metadata": {
        "id": "view-in-github",
        "colab_type": "text"
      },
      "source": [
        "<a href=\"https://colab.research.google.com/github/qsdcfd/TIL/blob/TIL/Study__148/MLOps%EC%9D%98_%EA%B5%AC%EC%84%B1%EC%9A%94%EC%86%8C.ipynb\" target=\"_parent\"><img src=\"https://colab.research.google.com/assets/colab-badge.svg\" alt=\"Open In Colab\"/></a>"
      ]
    },
    {
      "cell_type": "markdown",
      "source": [
        "**적절한 오픈소스와 상용 소프트웨어 선정할 때 필요**\n",
        "\n",
        "### 데이터\n",
        "\n",
        "- 데이터 수집 파이프라인\n",
        "\n",
        "   - Sqoop, Flume, Kafka, Flink\n",
        "   \n",
        "   - Spark Streaming, Airflow\n",
        "   \n",
        "   \n",
        "- 데이터 저장\n",
        "\n",
        "   - MySQL, Hadoop, Amazon S3, MinlO\n",
        "   \n",
        "\n",
        "- 데이터 관리\n",
        "\n",
        "   - TFDV, DVC, Feast, Amundsen\n",
        "\n",
        "\n",
        "<br>\n",
        "\n",
        "### 모델\n",
        "\n",
        "\n",
        "- 모델 개발\n",
        "\n",
        "   - Jupyter Hub, Docker, Kubeflow, Optuna\n",
        "   \n",
        "   - Ray, Katib\n",
        "   \n",
        "   \n",
        "- 모델 버전 관리\n",
        "\n",
        "   - Git, MLflow\n",
        "   \n",
        "   - Github Action, Jenkins\n",
        "   \n",
        "   \n",
        "- 모델 학습 스케쥴링 관리\n",
        "\n",
        "   - Grafana, Kubernetes\n",
        "\n",
        "<br>\n",
        "\n",
        "### 서빙\n",
        "\n",
        ">데이터를 받은 후 ML모델의 predict함수를 부른 후 결과를 반환하는 일련의 행위를 코드로 진행되는 것이 아닌 서버에서 API형태로 제공하는 서비스\n",
        "\n",
        "\n",
        "- 모델 패키징\n",
        "\n",
        "   - Docker, Flask, FastAPI\n",
        "   \n",
        "   - BentoML, Kubeflow, TFServing, seldon-core\n",
        "   \n",
        "   \n",
        "- 서빙 모니터링\n",
        "\n",
        "   - Prometheus, Grafana, Thanos\n",
        "   \n",
        "   \n",
        "- 파이프라인 매니징\n",
        "\n",
        "   - Kubeflow, argo workflows, Airflow"
      ],
      "metadata": {
        "id": "vD4w7hpZUcji"
      }
    }
  ]
}