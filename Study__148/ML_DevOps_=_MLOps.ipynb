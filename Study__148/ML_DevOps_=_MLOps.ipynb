{
  "nbformat": 4,
  "nbformat_minor": 0,
  "metadata": {
    "colab": {
      "name": "ML DevOps = MLOps",
      "provenance": [],
      "authorship_tag": "ABX9TyPeqXPVL42A+3CpyOwivuIR",
      "include_colab_link": true
    },
    "kernelspec": {
      "name": "python3",
      "display_name": "Python 3"
    },
    "language_info": {
      "name": "python"
    }
  },
  "cells": [
    {
      "cell_type": "markdown",
      "metadata": {
        "id": "view-in-github",
        "colab_type": "text"
      },
      "source": [
        "<a href=\"https://colab.research.google.com/github/qsdcfd/TIL/blob/TIL/Study__148/ML_DevOps_%3D_MLOps.ipynb\" target=\"_parent\"><img src=\"https://colab.research.google.com/assets/colab-badge.svg\" alt=\"Open In Colab\"/></a>"
      ]
    },
    {
      "cell_type": "markdown",
      "source": [
        "*과거의 소프트웨어 개발 방식(단 반향)\n",
        "\n",
        "![](https://images.velog.io/images/qsdcfd/post/93fde550-00ee-4796-bfe5-8bfd7637f597/image.png)\n",
        "\n",
        "*DevOps의 탄생\n",
        "\n",
        "- 빌드 자동화, 테스트 자동화\n",
        "\n",
        "- 운영 중 이슈 관리\n",
        "\n",
        "![](https://images.velog.io/images/qsdcfd/post/07be7770-9904-4939-a845-50a3df65a8ca/image.png)\n",
        "\n",
        "<br>\n",
        "\n",
        "*ML 프로젝트와 SW프로젝트 유사성\n",
        "\n",
        "- 버전관리\n",
        "\n",
        "   - 데이터와 모델 버전\n",
        "   \n",
        "   \n",
        "- 테스트 자동화\n",
        "\n",
        "   - 모델 학습, 모델 성능 평가\n",
        "   \n",
        "- 모니터링\n",
        "\n",
        "   - 서빙 모델\n",
        "   \n",
        "   - 데이터 변화\n",
        "   \n",
        "   - 시스템 안정성\n",
        "   \n",
        "   \n",
        "   \n",
        "<br>\n",
        "\n",
        "*AI 서비스와 일반 sw의 차이점\n",
        "\n",
        "AI Service = SW + Data (데이터가 정말 핵심!!!)\n",
        "\n",
        "Data의 중요성이 부각이 되면서 MLOps의 새로운 분야 탄생\n",
        "\n",
        "MLOps = ML + DevOps\n",
        "\n",
        ">ML을 효율적으로 개발하고 성공적으로 서비스화하여 운영할 때 필요한 모든 것을 다루는 분야입니다."
      ],
      "metadata": {
        "id": "Fa7b6vsbRw0W"
      }
    }
  ]
}