{
  "nbformat": 4,
  "nbformat_minor": 0,
  "metadata": {
    "colab": {
      "name": "MLOps에서 쿠버네티스와 도커가 필요한 이유",
      "provenance": [],
      "authorship_tag": "ABX9TyPvRkFID1a9IDqBc4t0lIcM",
      "include_colab_link": true
    },
    "kernelspec": {
      "name": "python3",
      "display_name": "Python 3"
    },
    "language_info": {
      "name": "python"
    }
  },
  "cells": [
    {
      "cell_type": "markdown",
      "metadata": {
        "id": "view-in-github",
        "colab_type": "text"
      },
      "source": [
        "<a href=\"https://colab.research.google.com/github/qsdcfd/TIL/blob/TIL/Study__148/MLOps%EC%97%90%EC%84%9C_%EC%BF%A0%EB%B2%84%EB%84%A4%ED%8B%B0%EC%8A%A4%EC%99%80_%EB%8F%84%EC%BB%A4%EA%B0%80_%ED%95%84%EC%9A%94%ED%95%9C_%EC%9D%B4%EC%9C%A0.ipynb\" target=\"_parent\"><img src=\"https://colab.research.google.com/assets/colab-badge.svg\" alt=\"Open In Colab\"/></a>"
      ]
    },
    {
      "cell_type": "markdown",
      "source": [
        "#### MLOps와 쿠버네티스\n",
        "\n",
        "- Reproducibility: 실행 환경의 일관성 및 독립성\n",
        "\n",
        "- Job Scheduling: 스케줄관리, 병렬 작업 관리, 유휴 자원 관리\n",
        "\n",
        "- Auto-healing & Auto-scaling: 장애 대응, 트래픽 대응\n",
        "\n",
        "\n",
        "<br>\n",
        "\n",
        "#### 도커\n",
        "\n",
        "\n",
        "![](https://images.velog.io/images/qsdcfd/post/90f7c638-a195-4d21-a0a0-324fa8f6e7bc/image.png)\n",
        "\n",
        "\n",
        "- 핵심기능: Containerization\n",
        "\n",
        "\n",
        "- Containerization: 컨테이너화 하는 기술\n",
        "\n",
        "- Container: 격리된 공간에서 프로세스를 실행시킬 수 있는 기술\n",
        "\n",
        "\n",
        "- Bulid Once, Run Anywhere\n",
        "\n",
        "- Dockerize: 인프라 구축을 위한 방식으로 어느 모델, 어느 방식을 이용하더라도 같은 결과를 나타낸다.\n",
        "\n",
        "<br>\n",
        "\n",
        "#### 쿠버네티스\n",
        "\n",
        "![](https://images.velog.io/images/qsdcfd/post/26cd4518-bb7d-4d59-b92f-4e7b42d9eed5/image.png)\n",
        "\n",
        "- 핵심기능: Container Orchestration\n",
        "\n",
        "- Container Orchestration: 컨테이너를 관리하고 지휘하는 기술\n",
        "\n",
        "*설치와 수정이 어려워서 관리 서비스 이용 필수(비용문제있음)\n",
        "\n",
        "![](https://images.velog.io/images/qsdcfd/post/726a51dd-1617-4b4e-876b-2c64966ea4ee/image.png)\n",
        "\n",
        "*작은 쿠버네티스 정도는 만들 수 있음\n",
        "\n",
        "\n",
        "![](https://images.velog.io/images/qsdcfd/post/fb671392-e2b7-4cb2-b3f4-84a9ebae5f5d/image.png)\n",
        "\n",
        "<br>\n",
        "\n",
        "*쿠버네티스의 컨셉: 선언형 인터페이스와 Desired State*\n",
        "\n",
        "- 명령형 인터페이스: A를 요리조리해서 하나 만들어\n",
        "\n",
        "- 선언형 인터페이스: A가 하나 있었으면 좋겠어\n",
        "\n",
        "<br>\n",
        "\n",
        "*쿠버네티스의 컨셉: Master Node & Worker Node*\n",
        "\n",
        "구성: 하나의 마스터 노드와 여러 개의 워커 노드\n",
        "\n",
        "API Server: 클라이언트 보내는 요청\n",
        "\n",
        "etcd: 요청을 T_Value형식으로 변환\n",
        "\n",
        "kubelet: 명령을 받고 현재 상태를 API에게 전달하는 역할,워커노드 내부, 컨테이너 관리\n",
        "\n",
        "\n",
        "![](https://images.velog.io/images/qsdcfd/post/58e0ce60-2d28-47b1-a946-08287bcbd809/image.png)"
      ],
      "metadata": {
        "id": "iuXfP489ZtbJ"
      }
    }
  ]
}