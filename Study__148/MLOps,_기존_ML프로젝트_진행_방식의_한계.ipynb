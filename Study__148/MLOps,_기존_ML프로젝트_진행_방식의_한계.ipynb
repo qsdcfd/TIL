{
  "nbformat": 4,
  "nbformat_minor": 0,
  "metadata": {
    "colab": {
      "name": "MLOps, 기존 ML프로젝트 진행 방식의 한계",
      "provenance": [],
      "authorship_tag": "ABX9TyNukS3fVptsiUV9NZhKMBlm",
      "include_colab_link": true
    },
    "kernelspec": {
      "name": "python3",
      "display_name": "Python 3"
    },
    "language_info": {
      "name": "python"
    }
  },
  "cells": [
    {
      "cell_type": "markdown",
      "metadata": {
        "id": "view-in-github",
        "colab_type": "text"
      },
      "source": [
        "<a href=\"https://colab.research.google.com/github/qsdcfd/TIL/blob/TIL/Study__148/MLOps%2C_%EA%B8%B0%EC%A1%B4_ML%ED%94%84%EB%A1%9C%EC%A0%9D%ED%8A%B8_%EC%A7%84%ED%96%89_%EB%B0%A9%EC%8B%9D%EC%9D%98_%ED%95%9C%EA%B3%84.ipynb\" target=\"_parent\"><img src=\"https://colab.research.google.com/assets/colab-badge.svg\" alt=\"Open In Colab\"/></a>"
      ]
    },
    {
      "cell_type": "markdown",
      "source": [
        "### 기존 방식\n",
        "\n",
        "![](https://images.velog.io/images/qsdcfd/post/f8b4e03a-e893-4a09-9b2d-2616672455d4/image.png)\n",
        "\n",
        "위의 사진처럼 다양한 방식으로 최고의 성능 모델을 찾아냈지만, 가장 좋았던 모델 정보를 시간이 지난 후에 바로 확인이 되지 않은 어려움이 있었습니다.\n",
        "\n",
        "*MNIST모델 좋은 성능을 가진 것을 바로 못 찾음\n",
        "\n",
        "![](https://images.velog.io/images/qsdcfd/post/3f6ca098-8d48-4477-a6b6-71d105bc2dd8/image.png)\n",
        "\n",
        "*학습 환경과 배포 환경이 같지 않다.\n",
        "\n",
        "![](https://images.velog.io/images/qsdcfd/post/d72df686-6ef8-467e-8156-716033b86295/image.png)\n",
        "\n",
        "*혼자서는 가능\n",
        "\n",
        "![](https://images.velog.io/images/qsdcfd/post/efcfe1e1-0680-4dd5-8357-8516cf9d6b5e/image.png)\n",
        "\n",
        "*협업 시 문제들이 발생한다. 그로 인해 배포가 어려워집니다.\n",
        "\n",
        "![](https://images.velog.io/images/qsdcfd/post/4284e494-6a33-4780-aa38-76fcf75ce178/image.png)\n",
        "\n",
        "*서비스화 시 필요한 스킬\n",
        "\n",
        "![](https://images.velog.io/images/qsdcfd/post/b3443ff4-0601-4894-b5cf-cea6cbad598d/image.png)\n",
        "\n",
        "\n",
        "*이상적인 ML 서비스화\n",
        "\n",
        "![](https://images.velog.io/images/qsdcfd/post/38fc04e9-f445-453d-8d97-f8c21255ea1f/image.png)"
      ],
      "metadata": {
        "id": "AnqEtgUNPpoM"
      }
    },
    {
      "cell_type": "code",
      "source": [
        ""
      ],
      "metadata": {
        "id": "tjkXBZv3QBdr"
      },
      "execution_count": null,
      "outputs": []
    }
  ]
}