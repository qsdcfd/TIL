{
  "nbformat": 4,
  "nbformat_minor": 0,
  "metadata": {
    "colab": {
      "name": "모두를 위한 파이썬-언어로써 파이썬",
      "provenance": [],
      "authorship_tag": "ABX9TyPFczOjvodFQGijqs1U41s5",
      "include_colab_link": true
    },
    "kernelspec": {
      "name": "python3",
      "display_name": "Python 3"
    },
    "language_info": {
      "name": "python"
    }
  },
  "cells": [
    {
      "cell_type": "markdown",
      "metadata": {
        "id": "view-in-github",
        "colab_type": "text"
      },
      "source": [
        "<a href=\"https://colab.research.google.com/github/qsdcfd/TIL/blob/TIL/Study__148/%EB%AA%A8%EB%91%90%EB%A5%BC_%EC%9C%84%ED%95%9C_%ED%8C%8C%EC%9D%B4%EC%8D%AC_%EC%96%B8%EC%96%B4%EB%A1%9C%EC%8D%A8_%ED%8C%8C%EC%9D%B4%EC%8D%AC.ipynb\" target=\"_parent\"><img src=\"https://colab.research.google.com/assets/colab-badge.svg\" alt=\"Open In Colab\"/></a>"
      ]
    },
    {
      "cell_type": "markdown",
      "source": [
        "### 학습목표\n",
        "\n",
        "파이썬 언어의 등장과 파이썬을 이용해 컴퓨터와 의사소통 하는 메커니즘을 이해하고 설명할 수 있다.\n",
        "\n",
        "<br> \n",
        "\n",
        "### 핵심 키워드\n",
        "\n",
        "파이썬\n",
        "\n",
        "문법 에러\n",
        "\n",
        "---\n",
        "\n",
        "프로그래밍을 하면서 여러분은 문법 에러를 보게될 것입니다.\n",
        "\n",
        "*문법에러란?*\n",
        "\n",
        "문법 에러라는 것은 여러분의 프로그래밍 실력을 탓하기 보다는, 컴퓨터가 파이썬 해당 코드 블럭을 이해하지 못했으며, 자세한 설명을 해달라는 도움의 요청이라고 생각하면 됩니다.\n",
        "\n",
        "파이썬은 정확하게만 내용을 전달해준다면 누구보다 성실하게 여러분이 원하는 목적을 달성할 수 있도록 도와줄 비교적 쉬운 언어입니다."
      ],
      "metadata": {
        "id": "jrFLWokY2bHL"
      }
    }
  ]
}