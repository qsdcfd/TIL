{
  "nbformat": 4,
  "nbformat_minor": 0,
  "metadata": {
    "colab": {
      "name": "모두를 위한 파이썬 - 컴퓨터의 내부구조",
      "provenance": [],
      "authorship_tag": "ABX9TyMYyNWHuxJlB4/RUBo33UmW",
      "include_colab_link": true
    },
    "kernelspec": {
      "name": "python3",
      "display_name": "Python 3"
    },
    "language_info": {
      "name": "python"
    }
  },
  "cells": [
    {
      "cell_type": "markdown",
      "metadata": {
        "id": "view-in-github",
        "colab_type": "text"
      },
      "source": [
        "<a href=\"https://colab.research.google.com/github/qsdcfd/TIL/blob/TIL/Study__148/%EB%AA%A8%EB%91%90%EB%A5%BC_%EC%9C%84%ED%95%9C_%ED%8C%8C%EC%9D%B4%EC%8D%AC_%EC%BB%B4%ED%93%A8%ED%84%B0%EC%9D%98_%EB%82%B4%EB%B6%80%EA%B5%AC%EC%A1%B0.ipynb\" target=\"_parent\"><img src=\"https://colab.research.google.com/assets/colab-badge.svg\" alt=\"Open In Colab\"/></a>"
      ]
    },
    {
      "cell_type": "markdown",
      "source": [
        "### 학습목표\n",
        "\n",
        "컴퓨터의 내부 구조를 이해하고 설명할 수 있다.\n",
        "\n",
        "<br> \n",
        "\n",
        "### 핵심 키워드\n",
        "\n",
        "하드웨어의 구성\n",
        "\n",
        "CPU\n",
        "\n",
        "입력 장치\n",
        "\n",
        "출력 장치\n",
        "\n",
        "메인 메모리\n",
        "\n",
        "보조 기억장치\n",
        "\n",
        "마더보드 \n",
        "\n",
        "---\n",
        "\n",
        "*하드웨어 공부 필요성*\n",
        "\n",
        "보조 기억장치, CPU, RAM, 주변 장치, 입력 장치같은 단어를 이해하고 사용해야하기 때문입니다.\n",
        "\n",
        "*라즈베리 파이\n",
        "\n",
        "초기에 쓰이던 작은 하드웨어로 단일 보드 컴퓨터입니다.\n",
        "\n",
        "*일반적인 컴퓨터 구성도\n",
        "\n",
        "![](https://images.velog.io/images/qsdcfd/post/f524e922-9069-4947-be43-ba13f1764054/image.png)\n",
        "\n",
        "- CPU(Central Processing Unit)\n",
        "\n",
        "프로그램을 실행하는 마이크로 프로세서로 다음에 무엇을 할지 정하여 처리하는 능력이 좋은 중앙처리장치입니다.\n",
        "\n",
        "\n",
        "새로운 명령이 필요할 경우, 메인 메모리에게 명령이 어디있는 확인 후 전달받은 형식입니다.\n",
        "\n",
        "소프트웨어에의해 제어됩니다.\n",
        "\n",
        "<br>\n",
        "\n",
        "- 보조기억장치(하드웨어)\n",
        "\n",
        "메인 메모리(RAM)는 매우 빠르지만 전원을 끄면 정보가 사라집니다.\n",
        "\n",
        "ROM: 전원이 꺼져도 영구적으로 정보가 저장이 됩니다.(EX:운영 체제, 파일, 응용 프로그램)\n",
        "\n",
        "<br>\n",
        "\n",
        "- 입력 장치\n",
        "\n",
        "사람에 의해 정보를 입력받는 기기들입니다. 예를 들어 키보드, 마우스, 터치 스크린입니다.\n",
        "\n",
        "<br>\n",
        "\n",
        "- 출력 장치\n",
        "\n",
        "처리된 정보의 결과를 보여주는 기계입니다. 예를 들어 화면, 스피커, 프린터, DVD 기록기 입니다.\n",
        "\n",
        "<br>\n",
        "\n",
        "- 메인 메모리\n",
        "\n",
        "적은 양의 정보를 저장하는 장치이며, 속도는 매우 빠르지만 컴퓨터를 종료하면 사라지는 휘발성 메모리입니다.\n",
        "\n",
        "<br>\n",
        "\n",
        "- 보조 기억장치\n",
        "\n",
        "지우지 않는 이상 정보를 계속해서 가지고 있습니다. 예를들면, SSD, HDD가 되겠지요."
      ],
      "metadata": {
        "id": "MIVeJ1bY03u7"
      }
    }
  ]
}