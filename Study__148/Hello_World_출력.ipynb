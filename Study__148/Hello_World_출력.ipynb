{
  "nbformat": 4,
  "nbformat_minor": 0,
  "metadata": {
    "colab": {
      "name": "Hello World 출력 ",
      "provenance": [],
      "authorship_tag": "ABX9TyNVWQIhZS4zP7XH0o9V4qFA",
      "include_colab_link": true
    },
    "kernelspec": {
      "name": "python3",
      "display_name": "Python 3"
    },
    "language_info": {
      "name": "python"
    }
  },
  "cells": [
    {
      "cell_type": "markdown",
      "metadata": {
        "id": "view-in-github",
        "colab_type": "text"
      },
      "source": [
        "<a href=\"https://colab.research.google.com/github/qsdcfd/TIL/blob/TIL/Study__148/Hello_World_%EC%B6%9C%EB%A0%A5.ipynb\" target=\"_parent\"><img src=\"https://colab.research.google.com/assets/colab-badge.svg\" alt=\"Open In Colab\"/></a>"
      ]
    },
    {
      "cell_type": "code",
      "execution_count": 2,
      "metadata": {
        "colab": {
          "base_uri": "https://localhost:8080/"
        },
        "id": "-ix2nO3V_jyZ",
        "outputId": "be6e8030-1ff7-45db-d518-b0482c19132d"
      },
      "outputs": [
        {
          "output_type": "stream",
          "name": "stdout",
          "text": [
            "Hello World\n",
            "Hello World\n"
          ]
        }
      ],
      "source": [
        "## print를 사용하여 Hello World 출력 프로그램 짜기\n",
        "\n",
        "a = \"Hello World\"\n",
        "\n",
        "print(a)\n",
        "print('Hello World')"
      ]
    },
    {
      "cell_type": "code",
      "source": [
        ""
      ],
      "metadata": {
        "id": "IRmrOey_AW71"
      },
      "execution_count": null,
      "outputs": []
    }
  ]
}