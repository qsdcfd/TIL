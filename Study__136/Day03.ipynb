{
 "cells": [
  {
   "cell_type": "markdown",
   "id": "approved-commissioner",
   "metadata": {},
   "source": [
    "## 오늘 한 일\n",
    "\n",
    "오늘 해커톤의 기획서를 오늘 제출했고 다른 캠퍼스이지만 하나의 기업을 프로젝트 수행을 하고 있기에 서로의 방향성과 막막함에 대해서 공유를 하니까 조금 공감도 되고 좋았던 것 같다.\n",
    "\n",
    "그리고, 같은 이야기를 들어도 서로의 가치관과 이해도가 분명히 다르게 때문에 많은 대화가 오고 갔습니다. 이러한 상황을 본 저는 어떻게 이 과정을 잘 풀어나가서 긍정적인 효과를 도출할 수 있을지에 대해서 생각을 많이 하게 되었습니다.\n",
    "\n",
    "이제 3일 차인데 처음으로 의견이 다르고 대화량이 많아져서 신기했지만, 이제 다른 의견을 어떻게 수용하고 앞으로 나아갈 어려움을 해결할지 고민입니다. 즉, 협업의 첫 발을 디딘 것 같습니다.\n",
    "\n",
    "<br>\n",
    "\n",
    "어려움: 의견과 가치관이 다른 것을 협의 하에 잘 종합하기\n",
    "\n",
    "\n",
    "해결: \n",
    "\n",
    "- 휴식하기(에너지 충전), 왜냐하면 바로 이야기를 하기엔 에너지 소모가 된 상태이기에 충전이 된 후에 해야 조금 더 이성적으로 생각이 가능\n",
    "\n",
    "- 서로의 가치관과 의견을 먼저 이야기.\n",
    "\n",
    "- 가치관을 수렴.\n",
    "\n",
    "- 멘토와 이야기\n"
   ]
  },
  {
   "cell_type": "code",
   "execution_count": null,
   "id": "engaging-arlington",
   "metadata": {},
   "outputs": [],
   "source": []
  }
 ],
 "metadata": {
  "kernelspec": {
   "display_name": "Python 3",
   "language": "python",
   "name": "python3"
  },
  "language_info": {
   "codemirror_mode": {
    "name": "ipython",
    "version": 3
   },
   "file_extension": ".py",
   "mimetype": "text/x-python",
   "name": "python",
   "nbconvert_exporter": "python",
   "pygments_lexer": "ipython3",
   "version": "3.7.9"
  }
 },
 "nbformat": 4,
 "nbformat_minor": 5
}
