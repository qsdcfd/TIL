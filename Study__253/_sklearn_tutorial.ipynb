{
  "cells": [
    {
      "cell_type": "markdown",
      "id": "d90ca7ff",
      "metadata": {
        "id": "d90ca7ff"
      },
      "source": [
        "### Scikit-learn을 이용한 머신러닝 학습 가이드!\n",
        "\n",
        "- scikit-learn(sklearn)을 완전히 사용해서 end-to-end로 학습시키는 코드를 완성해봅니다!\n",
        "\n",
        "- 너무나 유명한 california house pricing 데이터를 이용하여 회귀분석 예제 코드를 만들어봅시다.\n",
        "\n",
        "\n",
        "> Data Load - Data Preprocessing - Fit - Evalution - Predict"
      ]
    },
    {
      "cell_type": "code",
      "execution_count": null,
      "id": "e5e1add9",
      "metadata": {
        "id": "e5e1add9"
      },
      "outputs": [],
      "source": [
        "!pip install sklearn"
      ]
    },
    {
      "cell_type": "code",
      "execution_count": 5,
      "id": "ae90ce8c",
      "metadata": {
        "id": "ae90ce8c",
        "colab": {
          "base_uri": "https://localhost:8080/"
        },
        "outputId": "32c31cda-1423-49fb-84b2-8ac48a85cd77"
      },
      "outputs": [
        {
          "output_type": "stream",
          "name": "stdout",
          "text": [
            "(20640, 8) (20640,)\n"
          ]
        }
      ],
      "source": [
        "# Hands-on!!\n",
        "from sklearn.datasets import fetch_california_housing\n",
        "\n",
        "\n",
        "X = fetch_california_housing(as_frame=True).data #X fetch_ 함수에서.data를 활용하여 데이터프레임으로 만들 수 있다.\n",
        "y = fetch_california_housing(as_frame=True).target #y\n",
        "#fetch_california_housing(as_frame=True).frame# X ,y\n",
        "\n",
        "print(X.shape, y.shape)"
      ]
    },
    {
      "cell_type": "markdown",
      "source": [
        "### Data Preprocessing + EDA\n",
        "\n"
      ],
      "metadata": {
        "id": "IN9hzPmwhHjw"
      },
      "id": "IN9hzPmwhHjw"
    },
    {
      "cell_type": "code",
      "source": [
        "import numpy as np\n",
        "import pandas as pd\n",
        "import seaborn as sns\n",
        "import matplotlib.pyplot as plt\n",
        "\n",
        "#1.결측치 확인\n",
        "#2.dtype이 object인 column이 있는지 확인 -> categorical feature확인\n",
        "\n",
        "X.info()\n",
        "#X[X.isnull().any(axis=1)] : 결측치가 있다면 보여주세요\n",
        "\n",
        "#3.target distribution\n",
        "\n",
        "plt.figure(figsize=(12,8))\n",
        "sns.histplot(y)\n",
        "plt.show"
      ],
      "metadata": {
        "colab": {
          "base_uri": "https://localhost:8080/",
          "height": 783
        },
        "id": "eU7pM4lXfbGe",
        "outputId": "7dd6ead4-b4b9-45b8-cdce-f4ed9fa890e4"
      },
      "id": "eU7pM4lXfbGe",
      "execution_count": 9,
      "outputs": [
        {
          "output_type": "stream",
          "name": "stdout",
          "text": [
            "<class 'pandas.core.frame.DataFrame'>\n",
            "RangeIndex: 20640 entries, 0 to 20639\n",
            "Data columns (total 8 columns):\n",
            " #   Column      Non-Null Count  Dtype  \n",
            "---  ------      --------------  -----  \n",
            " 0   MedInc      20640 non-null  float64\n",
            " 1   HouseAge    20640 non-null  float64\n",
            " 2   AveRooms    20640 non-null  float64\n",
            " 3   AveBedrms   20640 non-null  float64\n",
            " 4   Population  20640 non-null  float64\n",
            " 5   AveOccup    20640 non-null  float64\n",
            " 6   Latitude    20640 non-null  float64\n",
            " 7   Longitude   20640 non-null  float64\n",
            "dtypes: float64(8)\n",
            "memory usage: 1.3 MB\n"
          ]
        },
        {
          "output_type": "execute_result",
          "data": {
            "text/plain": [
              "<function matplotlib.pyplot.show>"
            ]
          },
          "metadata": {},
          "execution_count": 9
        },
        {
          "output_type": "display_data",
          "data": {
            "text/plain": [
              "<Figure size 864x576 with 1 Axes>"
            ],
            "image/png": "[encoded data removed]"
          },
          "metadata": {
            "needs_background": "light"
          }
        }
      ]
    },
    {
      "cell_type": "code",
      "source": [
        "#train_test_split\n",
        "\n",
        "from sklearn.model_selection import train_test_split\n",
        "\n",
        "X_train, X_test, y_train, y_test = train_test_split(X,y, test_size=0.2, random_state=100)\n",
        "print(X_train.shape, X_test.shape, y_train.shape, y_test.shape)"
      ],
      "metadata": {
        "colab": {
          "base_uri": "https://localhost:8080/"
        },
        "id": "esnqB4qdhORb",
        "outputId": "0cb66f44-5162-471c-f920-a7aa21a05e88"
      },
      "id": "esnqB4qdhORb",
      "execution_count": 11,
      "outputs": [
        {
          "output_type": "stream",
          "name": "stdout",
          "text": [
            "(16512, 8) (4128, 8) (16512,) (4128,)\n"
          ]
        }
      ]
    },
    {
      "cell_type": "code",
      "source": [
        ""
      ],
      "metadata": {
        "id": "69RmCjujiwKV"
      },
      "id": "69RmCjujiwKV",
      "execution_count": null,
      "outputs": []
    },
    {
      "cell_type": "markdown",
      "source": [
        "### Training(Fit)"
      ],
      "metadata": {
        "id": "uq5-o7LskKgk"
      },
      "id": "uq5-o7LskKgk"
    },
    {
      "cell_type": "code",
      "source": [
        "#1.사용할 함수를 불러온다\n",
        "from sklearn.linear_model import LinearRegression\n",
        "#2. 사용할 함수의 객체를 생성한다.\n",
        "reg = LinearRegression()\n",
        "#3. 학습\n",
        "reg.fit(X_train,y_train)#회귀는 지도학습부분이기에 y부분 ㅊ필요"
      ],
      "metadata": {
        "colab": {
          "base_uri": "https://localhost:8080/"
        },
        "id": "vooK1nR4kMNe",
        "outputId": "aa880f47-e5c4-4fef-cde9-e963aeb66bb6"
      },
      "id": "vooK1nR4kMNe",
      "execution_count": 14,
      "outputs": [
        {
          "output_type": "execute_result",
          "data": {
            "text/plain": [
              "LinearRegression()"
            ]
          },
          "metadata": {},
          "execution_count": 14
        }
      ]
    },
    {
      "cell_type": "markdown",
      "source": [
        "### Evaluation"
      ],
      "metadata": {
        "id": "iyIjdSfilzFz"
      },
      "id": "iyIjdSfilzFz"
    },
    {
      "cell_type": "code",
      "source": [
        "#학습 결과를 확인(평가 지표.)\n",
        "from sklearn.metrics import mean_squared_error, r2_score\n",
        "\n",
        "pred = reg.predict(X_train) #y_hat\n",
        "pred"
      ],
      "metadata": {
        "colab": {
          "base_uri": "https://localhost:8080/"
        },
        "id": "KGfPndyQlpzj",
        "outputId": "a01a32f2-29c5-4d21-f8bc-ae1b37e208a5"
      },
      "id": "KGfPndyQlpzj",
      "execution_count": 16,
      "outputs": [
        {
          "output_type": "execute_result",
          "data": {
            "text/plain": [
              "array([1.72441662, 2.34061463, 0.80938884, ..., 1.95650644, 1.54009365,\n",
              "       2.79819134])"
            ]
          },
          "metadata": {},
          "execution_count": 16
        }
      ]
    },
    {
      "cell_type": "code",
      "source": [
        "print(\"MSE: %.4f\" % mean_squared_error(y_train, pred))\n",
        "print(\"R2: %.4f\" % r2_score(y_train,pred))"
      ],
      "metadata": {
        "colab": {
          "base_uri": "https://localhost:8080/"
        },
        "id": "lrR15PpVl67p",
        "outputId": "7cee98de-c15e-48d7-b1c9-9be76a0e63b0"
      },
      "id": "lrR15PpVl67p",
      "execution_count": 17,
      "outputs": [
        {
          "output_type": "stream",
          "name": "stdout",
          "text": [
            "MSE: 0.5283\n",
            "R2: 0.6021\n"
          ]
        }
      ]
    },
    {
      "cell_type": "markdown",
      "source": [
        "\n",
        "### Prediction"
      ],
      "metadata": {
        "id": "vFkqSsRfnNqL"
      },
      "id": "vFkqSsRfnNqL"
    },
    {
      "cell_type": "code",
      "source": [
        "result = reg.predict(X_test)\n",
        "print(\"MSE: %.4f\" % mean_squared_error(y_test, result))\n",
        "print(\"R2: %.4f\" % r2_score(y_test, result))\n",
        "#prediction이 올랐다는 것은 train시 개선의 가능성이 있다는 것이다."
      ],
      "metadata": {
        "colab": {
          "base_uri": "https://localhost:8080/"
        },
        "id": "vmVDutB_l6mB",
        "outputId": "1846f6d5-8f4d-4a31-f6cb-5358e3b6d19e"
      },
      "id": "vmVDutB_l6mB",
      "execution_count": 19,
      "outputs": [
        {
          "output_type": "stream",
          "name": "stdout",
          "text": [
            "MSE: 0.5089\n",
            "R2: 0.6223\n"
          ]
        }
      ]
    },
    {
      "cell_type": "markdown",
      "source": [
        "### Light GBM"
      ],
      "metadata": {
        "id": "UDfZKq0wnNu1"
      },
      "id": "UDfZKq0wnNu1"
    },
    {
      "cell_type": "code",
      "source": [
        "from lightgbm.sklearn import LGBMRegressor\n",
        "reg2 = LGBMRegressor()\n",
        "\n",
        "reg2.fit(X_train,y_train)\n",
        "\n",
        "pred2 = reg2.predict(X_train)"
      ],
      "metadata": {
        "id": "dSyjnSo-l6oF"
      },
      "id": "dSyjnSo-l6oF",
      "execution_count": 22,
      "outputs": []
    },
    {
      "cell_type": "code",
      "source": [
        "print(\"MSE: %.4f\" % mean_squared_error(y_train, pred2))\n",
        "print(\"R2: %.4f\" % r2_score(y_train,pred2))"
      ],
      "metadata": {
        "colab": {
          "base_uri": "https://localhost:8080/"
        },
        "id": "Uf9MFu7Vl6rN",
        "outputId": "cc8b46e6-80fc-4446-cc4d-f3f685f25e78"
      },
      "id": "Uf9MFu7Vl6rN",
      "execution_count": 23,
      "outputs": [
        {
          "output_type": "stream",
          "name": "stdout",
          "text": [
            "MSE: 0.1568\n",
            "R2: 0.8819\n"
          ]
        }
      ]
    },
    {
      "cell_type": "code",
      "source": [
        "result2 = reg2.predict(X_test)\n",
        "print(\"MSE: %.4f\" % mean_squared_error(y_test, result2))\n",
        "print(\"R2: %.4f\" % r2_score(y_test,result2))"
      ],
      "metadata": {
        "colab": {
          "base_uri": "https://localhost:8080/"
        },
        "id": "vFMxrAvrooSn",
        "outputId": "7faea9e6-fcfe-4fe2-82c3-a8f8355c26fa"
      },
      "id": "vFMxrAvrooSn",
      "execution_count": 25,
      "outputs": [
        {
          "output_type": "stream",
          "name": "stdout",
          "text": [
            "MSE: 0.2058\n",
            "R2: 0.8472\n"
          ]
        }
      ]
    },
    {
      "cell_type": "code",
      "source": [
        ""
      ],
      "metadata": {
        "id": "hO8g0eFmo9hD"
      },
      "id": "hO8g0eFmo9hD",
      "execution_count": null,
      "outputs": []
    }
  ],
  "metadata": {
    "kernelspec": {
      "display_name": "Python 3 (ipykernel)",
      "language": "python",
      "name": "python3"
    },
    "language_info": {
      "codemirror_mode": {
        "name": "ipython",
        "version": 3
      },
      "file_extension": ".py",
      "mimetype": "text/x-python",
      "name": "python",
      "nbconvert_exporter": "python",
      "pygments_lexer": "ipython3",
      "version": "3.10.2"
    },
    "colab": {
      "name": "6. sklearn-tutorial.ipynb",
      "provenance": []
    }
  },
  "nbformat": 4,
  "nbformat_minor": 5
}