{
  "nbformat": 4,
  "nbformat_minor": 0,
  "metadata": {
    "colab": {
      "name": "Study",
      "provenance": [],
      "authorship_tag": "ABX9TyMVmLQE34C1CbF+cYoDD/XC"
    },
    "kernelspec": {
      "name": "python3",
      "display_name": "Python 3"
    },
    "language_info": {
      "name": "python"
    }
  },
  "cells": [
    {
      "cell_type": "markdown",
      "source": [
        "### 샘플링\n",
        "\n",
        "- 모집단 전체에 대한 조사가 불가능하기에 임의의 sample을 뽑아내어서 추정치를 파악하는 것입니다.\n",
        "\n",
        "- 주의할 점\n",
        "\n",
        "   - 모집단의 일부일뿐 전체가 아니다.\n",
        "\n",
        "   - noise는 당연히 생긴다"
      ],
      "metadata": {
        "id": "gmyslyOjynZ9"
      }
    },
    {
      "cell_type": "code",
      "execution_count": 2,
      "metadata": {
        "colab": {
          "base_uri": "https://localhost:8080/"
        },
        "id": "ms4k8rUSylTI",
        "outputId": "36b5f7d2-36b0-4133-a5e2-1589d0443f95"
      },
      "outputs": [
        {
          "output_type": "execute_result",
          "data": {
            "text/plain": [
              "array([4, 0, 0])"
            ]
          },
          "metadata": {},
          "execution_count": 2
        }
      ],
      "source": [
        "#code로 보기\n",
        "#Numpy documentation 발췌\n",
        "\n",
        "import numpy as np\n",
        "\n",
        "\n",
        "np.random.choice(5,3)\n",
        "#무작위로 0~4 중에서 3개뽑기"
      ]
    },
    {
      "cell_type": "code",
      "source": [
        "#균일 분포\n",
        "np.random.choice(5, 3, replace=False)"
      ],
      "metadata": {
        "colab": {
          "base_uri": "https://localhost:8080/"
        },
        "id": "-MRVmflC0Bpx",
        "outputId": "ada410ed-d415-433c-b884-d8b0b7e9dd60"
      },
      "execution_count": 13,
      "outputs": [
        {
          "output_type": "execute_result",
          "data": {
            "text/plain": [
              "array([3, 0, 4])"
            ]
          },
          "metadata": {},
          "execution_count": 13
        }
      ]
    },
    {
      "cell_type": "code",
      "source": [
        "#균일하지 않게 뽑기\n",
        "np.random.choice(5, 3, p=[0.1, 0, 0.3, 0.6, 0]) #0~4까지의 숫자가 뽑힐 확률 설정"
      ],
      "metadata": {
        "colab": {
          "base_uri": "https://localhost:8080/"
        },
        "id": "tmhSnRjqy88T",
        "outputId": "065fae5e-4fad-4d52-ba8e-3dfc5727f12d"
      },
      "execution_count": 7,
      "outputs": [
        {
          "output_type": "execute_result",
          "data": {
            "text/plain": [
              "array([0, 3, 3])"
            ]
          },
          "metadata": {},
          "execution_count": 7
        }
      ]
    },
    {
      "cell_type": "markdown",
      "source": [
        "### 리샘플링\n",
        "\n",
        "- 모집단의 분포형태를 알 수 없을 때 주로 사용\n",
        "\n",
        "   - 일반적인 통계적 공식 사용 어려움\n",
        "   - 같은 샘플을 여러번 사용해서 성능 측정\n",
        "   - k-fold\n"
      ],
      "metadata": {
        "id": "BzouUqKM0IdW"
      }
    },
    {
      "cell_type": "code",
      "source": [
        "from scipy import signal"
      ],
      "metadata": {
        "id": "ad9Jnm6KzKyB"
      },
      "execution_count": 14,
      "outputs": []
    },
    {
      "cell_type": "code",
      "source": [
        "x = np.linspace(0, 10, 20, endpoint=False)\n",
        "y = np.cos(-x**2/6.0)\n",
        "f = signal.resample(y, 100)\n",
        "xnew = np.linspace(0, 10, 100, endpoint=False)"
      ],
      "metadata": {
        "id": "8JyE9KTHzOLK"
      },
      "execution_count": 18,
      "outputs": []
    },
    {
      "cell_type": "code",
      "source": [
        "import matplotlib.pyplot as plt\n",
        "plt.plot(x, y, 'go-', xnew, f, '.-', 10, y[0], 'ro')\n",
        "plt.legend(['data', 'resampled'], loc='best')\n",
        "plt.show()"
      ],
      "metadata": {
        "colab": {
          "base_uri": "https://localhost:8080/",
          "height": 265
        },
        "id": "Huy4_0CM0i8p",
        "outputId": "da51f88b-8c09-4528-ead1-0a85aab8b84b"
      },
      "execution_count": 19,
      "outputs": [
        {
          "output_type": "display_data",
          "data": {
            "text/plain": [
              "<Figure size 432x288 with 1 Axes>"
            ],
            "image/png": "[encoded data removed]"
          },
          "metadata": {
            "needs_background": "light"
          }
        }
      ]
    },
    {
      "cell_type": "code",
      "source": [
        ""
      ],
      "metadata": {
        "id": "I9Q-xPXj0lVN"
      },
      "execution_count": null,
      "outputs": []
    }
  ]
}