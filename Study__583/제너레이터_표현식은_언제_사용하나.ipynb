{
  "nbformat": 4,
  "nbformat_minor": 0,
  "metadata": {
    "colab": {
      "provenance": [],
      "authorship_tag": "ABX9TyPF4tuvDJeulJfo0cZEvWUD"
    },
    "kernelspec": {
      "name": "python3",
      "display_name": "Python 3"
    },
    "language_info": {
      "name": "python"
    }
  },
  "cells": [
    {
      "cell_type": "markdown",
      "source": [
        "# 제어 흐름\n",
        "## 반복형, 반복자, 제너레이터\n",
        "### 제너레이터 표현식은 언제 사용하나\n",
        "\n",
        ">.__eq__(), __hash__(), __abs__(), angle(), format(), __add__()z, __mul__() 메서드가 각각 제너레이터 표현식을 사용하고 메서드에서 지능형 리스트를 사용해도 제대로 작동하겠지만, 중간의 리스트 값을 저장하기 위한 메모리를 더 많이 사용한다.\n",
        "\n",
        "<br>\n",
        "\n",
        "제너레이터 함수는 융통성이 높기에 여러 문장으로 구성된 복잡한 논리를 구현할 수 있고 코루틴으로 사용도 가능하다.\n",
        "\n",
        "<br>\n",
        "\n",
        "**제너레이터 표현식을 함수나 생성자에 단일 인수로 전달할 때는 함수를 호출하는 괄호 안에서 제너레이터 표현식을 괄호로 에워쌀 필요가 없고 __mul__() 메서드에서 Vector() 생성자를 호출할 때 본 것처럼 한 쌍의 괄호만 사용하면 된다.\n",
        "\n",
        "<br>\n",
        "\n",
        "```\n",
        "def __mul__(self, scalar):\n",
        "\tif isinstance(scalar, numbers, Real):\n",
        "    \treturn Vector(n * scalar for n in self)\n",
        "    else:\n",
        "    \treturn NotImplemented\n",
        "```"
      ],
      "metadata": {
        "id": "RyD7z3VhSG76"
      }
    },
    {
      "cell_type": "code",
      "source": [],
      "metadata": {
        "id": "yo0JLO9eSIs_"
      },
      "execution_count": null,
      "outputs": []
    }
  ]
}