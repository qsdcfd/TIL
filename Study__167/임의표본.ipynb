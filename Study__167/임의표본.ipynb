{
  "nbformat": 4,
  "nbformat_minor": 0,
  "metadata": {
    "colab": {
      "name": "임의표본",
      "provenance": [],
      "authorship_tag": "ABX9TyMjBZxBUto2wDRkDzro8/FI"
    },
    "kernelspec": {
      "name": "python3",
      "display_name": "Python 3"
    },
    "language_info": {
      "name": "python"
    }
  },
  "cells": [
    {
      "cell_type": "markdown",
      "source": [
        "### 임의표본(random sample)\n",
        "\n",
        "모집단으로부터 크기 n인 표본 x1, x2, ... xn을 추출하였을 때 이 표본들은 서로 독립이고 동일한 분포를 가질 경우 x1, x2, ... xn을 임의표본이라 합니다\n",
        "\n",
        "동일한 분포를 갖는 다는 것은 같은 모집단으로부터 추출된 표본이라는 뜻입니다.\n",
        "\n",
        "흔히 임의표본을 iid라고도 하는데 이는 independent and identically distributed의 첫글자를 따서 부르는 표현입니다.\n",
        "\n",
        "그래서 임의표본을 흔히 iid라고도 하고 random sample을 줄여서 r.s라고도 합니다.\n",
        "\n",
        "그런 면에서 x1, x2는 독립입니다. 즉 독립을 가정하는 것이 의미가 있습니다.\n",
        "아울러 동일한 모집단을 갖는다는 가정도 타당합니다.\n",
        "\n",
        "왜냐하면 두 학생은 같은 대한민국에서 태어났고 유사한 환경에서 자랐다는 의미에서 같은 모집단을 갖습니다.\n",
        "\n",
        "만약 한 학생은 한국 학생이고 또 다른 학생은 미국이나 유럽학생일 경우 이런 같은 분포를 가진다는 가정이 틀릴 수 있지만\n",
        "\n",
        "동일한 모집단에서 뽑아낸 표본은 독립이고 같은 분포를 갖는다는 것은 충분히 합리적인 가정이라고 생각할 수 있습니다.\n",
        "\n",
        "\n"
      ],
      "metadata": {
        "id": "ss_slr2VYZa5"
      }
    },
    {
      "cell_type": "code",
      "source": [
        ""
      ],
      "metadata": {
        "id": "m0XuwLhMYZyK"
      },
      "execution_count": null,
      "outputs": []
    }
  ]
}