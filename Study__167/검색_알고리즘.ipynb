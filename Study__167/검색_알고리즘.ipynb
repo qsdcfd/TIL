{
  "nbformat": 4,
  "nbformat_minor": 0,
  "metadata": {
    "colab": {
      "name": "검색 알고리즘",
      "provenance": [],
      "authorship_tag": "ABX9TyMwN2319+E4CSCciqRqddcm"
    },
    "kernelspec": {
      "name": "python3",
      "display_name": "Python 3"
    },
    "language_info": {
      "name": "python"
    }
  },
  "cells": [
    {
      "cell_type": "markdown",
      "source": [
        "#### Intro\n",
        "\n",
        "우리는 메모리의 구조, 자료형, 배열과 같은 기본적인 개념을 익혔고 이 블로그에선 여태까지 배\n",
        "운 내용을 활용하여 검색이나 정렬과 같은 문제를 푸는 알고리즘을 배워 보겠습니다.\n",
        "\n",
        "먼저 주어진 배열 속에서 특정 값을 찾는 방법부터 시작해 보겠습니다.\n",
        "\n",
        "배열은 한 자료형의 여러 값들이 메모리상에 모여 있는 구조로 컴퓨터는 이 값들에 접근할 때 배열의 인덱스 하나하나를 접근합니다.\n",
        "\n",
        "### 선형 검색\n",
        "\n",
        "배열의 인덱스를 처음부터 끝까지 하나씩 증가시키면서 방문하여 그 값이 속하는지를 검사합니다.\n",
        "\n",
        "\n",
        "*의사 코드\n",
        "\n",
        "```\n",
        "For i from 0 to n–1\n",
        "\n",
        "    If i'th element is 50\n",
        "\n",
        "        Return true\n",
        "\n",
        "Return false\n",
        "```\n",
        "\n",
        "<br>\n",
        "\n",
        "### 이진 검색\n",
        "\n",
        "만약 배열이 정렬되어 있다면, 배열 중간 인덱스부터 시작하여 찾고자 하는 값과 비교하며 그보다 작은(작은 값이 저장되어 있는) 인덱스 또는 큰 (큰 값이 저장되어 있는) 인덱스로 이동을 반복하면 됩니다.\n",
        "\n",
        "*의사코드\n",
        "\n",
        "```\n",
        "If no items\n",
        "\n",
        "    Return false\n",
        "\n",
        "If middle item is 50\n",
        "\n",
        "    Return true\n",
        "\n",
        "Else if 50 < middle item\n",
        "\n",
        "    Search left half\n",
        "\n",
        "Else if 50 > middle item\n",
        "\n",
        "    Search right half\n",
        "```"
      ],
      "metadata": {
        "id": "Z-iemVOYRMj9"
      }
    },
    {
      "cell_type": "code",
      "source": [
        ""
      ],
      "metadata": {
        "id": "rqMRJ4knRMyr"
      },
      "execution_count": null,
      "outputs": []
    }
  ]
}