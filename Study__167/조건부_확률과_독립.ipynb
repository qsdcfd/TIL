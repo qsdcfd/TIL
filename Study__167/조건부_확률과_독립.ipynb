{
  "nbformat": 4,
  "nbformat_minor": 0,
  "metadata": {
    "colab": {
      "name": "조건부 확률과 독립",
      "provenance": [],
      "authorship_tag": "ABX9TyP+YC38ct1dVBkGQPaWpncH"
    },
    "kernelspec": {
      "name": "python3",
      "display_name": "Python 3"
    },
    "language_info": {
      "name": "python"
    }
  },
  "cells": [
    {
      "cell_type": "markdown",
      "source": [
        "![](https://images.velog.io/images/qsdcfd/post/be7892a4-4f42-49c7-aa81-a393612e74b9/image.png)\n",
        "\n",
        "먼저 사건 B가 주어져 있을 때 A의 조건부 확률은 사건 B에 대한 확률이 0보다 큰 경우에만 정의됩니다.\n",
        "그럴 경우에 사건 B가 주어져 있을 때 사건A의 조건부 확률은 A와 B의 교집합을 B의 확률로 나누어 준 것을 의미하고 이러한 표현을 사용합니다.\n",
        "\n",
        "<br>\n",
        "\n",
        "### 조건부 확률(statistically independent)\n",
        "\n",
        "\n",
        "![](https://images.velog.io/images/qsdcfd/post/2b9c64ec-26ee-4ed6-afcb-46b5bf417db9/image.png)\n",
        "\n",
        "실제로 조건부 확률이 정의되기 위해서는 조금 전에 말씀드린 것처럼 분모에 있는 B의 확률이 양수인 경우에만 정의됩니다.\n",
        "\n",
        "그 다음 두 사건 A와 B가 주어졌을 때 A가 일어날 확률이 주어진사건 B와 관계없이 항상 A가 일어날 확률과 같다고 하면 두 사건 A와 B는 서로 독립이다.\n",
        "\n",
        "\n",
        "만약에 A가 주어졌을 때 B가 일어날 확률이 A가 어떤 사건이 주어진 것과 상관없이 B의 확률과 같다고 하면 이것 역시 A와 B가 독립임을 의미합니다.\n",
        "\n",
        "그래서 이 두 가지 조건은 독립에 대한 똑같은 조건이라고 말씀드릴 수가 있습니다.\n",
        "\n",
        "자 그렇다면 여기에 있는 조건부 확률과 여기에 있는 독립이라는 정의로부터 독립인 경우에 정리를 만들 수 있습니다.\n",
        "\n",
        "위 식에서 조건부확률이 독립과 무관하게 항상 성립되는 것은 교집합에 대한 확률은 A의 조건부 확률에 B의 확률을 곱한 것과 같습니다.\n",
        "\n",
        "\n",
        "A와 B의 교집합의 확률은 B의 조건부확률과 A의 확률의 곱과도 같습니다.\n",
        " \n",
        "두 사건의 교집합은 조건부 확률과 각 사건의 곱으로 표현이 되는데 A와 B가 독립이면 조건부 확률이 각각 와 A의 확률과 B의 확률과 같기 때문에 이 사실을 독립에 대입을 하면 A와 B의 교집합에 대한 확률은 각각 확률의 곱과 같습니다.\n",
        "\n",
        "이렇게 되면 두 사건 A와 B는 독립이라고 합니다."
      ],
      "metadata": {
        "id": "2dSKiLR3XaeT"
      }
    },
    {
      "cell_type": "code",
      "source": [
        ""
      ],
      "metadata": {
        "id": "sxyJINSLXayK"
      },
      "execution_count": null,
      "outputs": []
    }
  ]
}