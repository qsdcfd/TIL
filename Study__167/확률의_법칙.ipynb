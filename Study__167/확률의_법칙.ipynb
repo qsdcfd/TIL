{
  "nbformat": 4,
  "nbformat_minor": 0,
  "metadata": {
    "colab": {
      "name": "확률의 법칙",
      "provenance": [],
      "authorship_tag": "ABX9TyMy/JgnoWQ8meU+/0Dh3Pgd"
    },
    "kernelspec": {
      "name": "python3",
      "display_name": "Python 3"
    },
    "language_info": {
      "name": "python"
    }
  },
  "cells": [
    {
      "cell_type": "markdown",
      "source": [
        "#### 집합의 종류\n",
        "\n",
        "![](https://images.velog.io/images/qsdcfd/post/023a580b-8e61-45d0-82e5-e3135f1734e9/image.png)\n",
        "\n",
        "합집합이란 집합 A가 있고 집합 B가 있을 때 어느 한쪽이라도 속하게 되면 이 전체를 합집합이라 하고 AUB로 표현합니다.\n",
        "\n",
        "그 다음에 집합 A가 있고 집합 B가 있을 때 두 집합의 공통되는 영역을 intersection이라고 부르고 AB라고 표현합니다.\n",
        "\n",
        "여집합이라고 하는 것은 A라는 사건이 있을 때 A가 아닌 부분을 여집합이라고 합니다.\n",
        "\n",
        "\n",
        "여집합을 표현할 때 여러 가지 기호를 사용할 수 있는데 A bar, A^c 등으로 표현합니다.\n",
        "그 다음 두 사건이 배반사건 disjoint event라고 하는 것은 집합 A와 B의 교집합이 영집합 일 때를 의미합니다.\n",
        "\n",
        "흔히 이것을 null set이라 하고 이 기호를 많이 사용해서 표현합니다.\n",
        "벤다이어그램으로 그리면 집합 A가 있고 집합 B가 있을 때 두 개의 겹치는 부분이 전혀 없는 경우입니다.\n",
        "\n",
        "<br>\n",
        "\n",
        "### 확률의 법칙\n",
        "\n",
        "![](https://images.velog.io/images/qsdcfd/post/28ecca94-c57a-4db8-9a03-fa705f9b2cbb/image.png)\n",
        "\n",
        "\n",
        "\n",
        "**여사건의 법칙(law of complement)**\n",
        "\n",
        "어떤 사건의 여사건에 대한 확률은 표본공간 전체에 대한 확률이 1이기 때문에 1에서 A의 확률을 뺀 것인데 벤다이어그램을 통해서 보면 더 확실합니다.\n",
        "\n",
        "이 표본공간 전체에서 A가 아닌 부분이기 때문에 1에서 빼준 것입니다.\n",
        "\n",
        "\n",
        "**합집합(law of addition)**\n",
        "\n",
        "그 다음 두 집합의 union 즉 합집합에 대한 법칙 law of addition이라고 부르고 두 집합의 union에 대한 확률은 각각의 확률의 합에서 교집합의 확률을 뺀 것입니다.\n",
        "\n",
        "이것도 역시 벤다이어그램을 그려서 설명을 하자면 A가 있고 B가있을 때 합집합에 대한 부분은 각각의 합에 가운데 부분은 두 번 합쳐졌기 때문에 한번을 빼줘야 합니다.\n",
        "\n",
        "이 사실로부터 이 확률은 언제나 0보다는 크거나 같기 때문에 A와 B의 union에 대한 확률은 각각의 확률의 합보다는 언제나 작습니다.\n",
        "이를 본페로니 부등식이라고 부릅니다.\n",
        "\n"
      ],
      "metadata": {
        "id": "3J0A_GCtUh0N"
      }
    },
    {
      "cell_type": "code",
      "source": [
        ""
      ],
      "metadata": {
        "id": "3pRG52SuUiO4"
      },
      "execution_count": null,
      "outputs": []
    }
  ]
}