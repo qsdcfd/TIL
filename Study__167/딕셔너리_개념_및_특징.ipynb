{
  "nbformat": 4,
  "nbformat_minor": 0,
  "metadata": {
    "colab": {
      "name": "딕셔너리 개념 및 특징",
      "provenance": [],
      "authorship_tag": "ABX9TyMy9W7wYkzDiX18x5CE22D2"
    },
    "kernelspec": {
      "name": "python3",
      "display_name": "Python 3"
    },
    "language_info": {
      "name": "python"
    }
  },
  "cells": [
    {
      "cell_type": "markdown",
      "source": [
        "#### Intro\n",
        "\n",
        "지금까지는 리스트라는 컬렉션만 배웠었는데요, 오늘은 파이썬의 강력한 컬렉션인 딕셔너리에 대해 배워보도록 하겠습니다.\n",
        "\n",
        "먼저 딕셔너리의 개념과 특징에 대해 살펴보고, 딕셔너리를 생성하는 방법과 딕셔너리에 저장된 값에 접근하는 방법을 배워 보도록 하겠습니다.\n",
        "\n",
        "\n",
        "![](https://images.velog.io/images/qsdcfd/post/1d582a9a-619c-4b49-af5d-c58abd5d2df2/image.png)\n",
        "\n",
        "\n",
        "---\n",
        "\n",
        "### 컬렉션(collection)\n",
        "\n",
        "리스트나 딕셔너리 같은 변수를 가지는 상황이며 하나의 정보보다는 여러 개의 정보를 저장\n",
        "\n",
        "<br>\n",
        "\n",
        "### 리스트(list)\n",
        "\n",
        "리스트는 순서대로 정리된 컬렉션으로 데이터를 추가하면 항상 리스트의 끝에 추가되고 0부터 n-1번 위치까지 순서대로 n개의 원소가 저장\n",
        "\n",
        "\n",
        "<br>\n",
        "\n",
        "### 딕셔너리(Dictionary)\n",
        "\n",
        "리스트와 달리 딕셔너리에는 순서라는 것이 없는 대신 키(Key)라는 것이 존재합니다. \n",
        "\n",
        "딕셔너리는 다음과 같이 dict()라는 생성자를 통해 생성할 수 있습니다.\n",
        "\n",
        "그리고 다음과 같이 생성할 수 있습니다.\n",
        "\n",
        "```\n",
        "purse = dict() # 또는 purse = {} 와 같이 생성할 수도 있습니다.\n",
        "purse['money'] = 12 # 'money'라는 키에 12라는 값 연결\n",
        "purse['candy'] = 3  # 'candy'라는 키에 3이라는 값 연결\n",
        "purse['tissues'] = 75 # 'tissues'라는 키에 75라는 값 연결\n",
        "```\n",
        "\n",
        "이때 purse를 실행해보면 다음과 같은 형태로 출력이 됩니다. \n",
        "\n",
        "여기서는 입력한 순서대로 나오지만 항상 입력한 순서대로 출력되는 것은 아닙니다.\n",
        "\n",
        "```\n",
        "print(purse)\n",
        "#{'money': 12, 'candy': 3, 'tissues': 75}\n",
        "```\n",
        "\n",
        "여기에서 candy라는 키에 저장된 값에 접근하려면 다음과 같이 대괄호 안에 키를 넣어서 접근할 수 있으며\n",
        "\n",
        "```\n",
        "print(purse['candy'])\n",
        "#3\n",
        "```\n",
        "\n",
        "접근한 내용을 업데이트할 수도 있습니다.\n",
        "\n",
        "```\n",
        "purse['candy']  = purse['candy'] + 2\n",
        "print(purse)\n",
        "#{'money': 12, 'candy': 5, 'tissues': 75}\n",
        "```\n",
        "\n",
        "<br>\n",
        "\n",
        "### 연관 배열(Associative Arrays)\n",
        "\n",
        "이렇게 키와 값이 연결되는 개념을 보통 연관 배열이라고 불리는데 접근하는 방식이 리스트와 비슷하지만 키를 갖고 접근한다는 차이점이 있습니다.\n",
        "\n",
        "*연관이 의미하는 것은 키와 값 사이의 연결 관계입니다.*\n",
        "\n",
        "리스트에는 위치와 값 사이에 연결 관계가 있었습니다. 그러나 위치와의 연결 관계는 비교적 덜 강력하고 덜 유연합니다."
      ],
      "metadata": {
        "id": "rs2cjZMmTy7K"
      }
    },
    {
      "cell_type": "code",
      "source": [
        ""
      ],
      "metadata": {
        "id": "n7_YsjFvTzRf"
      },
      "execution_count": null,
      "outputs": []
    }
  ]
}