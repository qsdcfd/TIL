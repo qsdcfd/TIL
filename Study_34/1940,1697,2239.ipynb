{
 "cells": [
  {
   "cell_type": "code",
   "execution_count": null,
   "id": "better-appraisal",
   "metadata": {},
   "outputs": [],
   "source": [
    "N = int(input())\n",
    "M = int(input())\n",
    "li = sorted(list(map(int, input().split())))\n",
    "ans = 0\n",
    "s, e = 0, len(li)-1\n",
    "\n",
    "while s != e:\n",
    "    if li[s] + li[e] == M:\n",
    "        ans += 1\n",
    "        e -= 1\n",
    "    elif li[s] + li[e] < M:\n",
    "        s += 1\n",
    "    elif li[s] + li[e] > M:\n",
    "        e -= 1\n",
    "        \n",
    "print(ans)\n",
    "\n"
   ]
  },
  {
   "cell_type": "code",
   "execution_count": null,
   "id": "still-livestock",
   "metadata": {},
   "outputs": [],
   "source": [
    "from collections import deque\n",
    "n, k = map(int, input().split())\n",
    "visit = [0 for i in range(100001)]\n",
    "queue = deque()\n",
    "queue.append([n, 0])\n",
    "while queue:\n",
    "    p, d = queue[0][0], queue[0][1]\n",
    "    if p == k:\n",
    "        break\n",
    "    queue.popleft()\n",
    "    visit[p] = 1\n",
    "    if p - 1 >= 0 and visit[p - 1] == 0:\n",
    "        queue.append([p - 1, d + 1])\n",
    "    if p + 1 <= 100000 and visit[p + 1] == 0:\n",
    "        queue.append([p + 1, d + 1])\n",
    "    if p * 2 <= 100000 and visit[p * 2] == 0:\n",
    "        queue.append([p * 2, d + 1])\n",
    "print(queue[0][1])"
   ]
  },
  {
   "cell_type": "code",
   "execution_count": null,
   "id": "efficient-reunion",
   "metadata": {},
   "outputs": [],
   "source": [
    "def cal(x, y):\n",
    "    return (x//3)*3 + (y//3)\n",
    "\n",
    "def sol(n):\n",
    "    if n == 81:\n",
    "        for i in B:\n",
    "            print(''.join(map(str, i)))\n",
    "        return True\n",
    "    x = n // 9\n",
    "    y = n % 9\n",
    "    if B[x][y]: return sol(n+1)\n",
    "    else:\n",
    "        for i in range(1, 10):\n",
    "            if not c1[x][i] and not c2[y][i] and not c3[cal(x,y)][i]:\n",
    "                c1[x][i] = c2[y][i] = c3[cal(x,y)][i] = True\n",
    "                B[x][y] = i\n",
    "                if sol(n+1): return True\n",
    "                c1[x][i] = c2[y][i] = c3[cal(x,y)][i] = False\n",
    "                B[x][y] = 0\n",
    "    return False\n",
    "\n",
    "B = [list(map(int, input())) for _ in range(9)]\n",
    "c1 = [[False]*10 for _ in range(9)] #행\n",
    "c2 = [[False]*10 for _ in range(9)] #열\n",
    "c3 = [[False]*10 for _ in range(9)] #사각형\n",
    "for i in range(9):\n",
    "    for j in range(9):\n",
    "        if B[i][j]:\n",
    "            c1[i][B[i][j]] = True\n",
    "            c2[j][B[i][j]] = True\n",
    "            c3[cal(i, j)][B[i][j]] = True\n",
    "sol(0)"
   ]
  }
 ],
 "metadata": {
  "kernelspec": {
   "display_name": "Python 3",
   "language": "python",
   "name": "python3"
  },
  "language_info": {
   "codemirror_mode": {
    "name": "ipython",
    "version": 3
   },
   "file_extension": ".py",
   "mimetype": "text/x-python",
   "name": "python",
   "nbconvert_exporter": "python",
   "pygments_lexer": "ipython3",
   "version": "3.7.9"
  }
 },
 "nbformat": 4,
 "nbformat_minor": 5
}
