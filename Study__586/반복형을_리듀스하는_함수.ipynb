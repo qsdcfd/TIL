{
  "nbformat": 4,
  "nbformat_minor": 0,
  "metadata": {
    "colab": {
      "provenance": [],
      "authorship_tag": "ABX9TyN23AmpAYl2l+KGkC8EIogk"
    },
    "kernelspec": {
      "name": "python3",
      "display_name": "Python 3"
    },
    "language_info": {
      "name": "python"
    }
  },
  "cells": [
    {
      "cell_type": "markdown",
      "source": [
        "# 제어 흐름\n",
        "## 반복형, 반복자, 제너레이터\n",
        "###  반복형을 리듀스하는 함수\n",
        "\n",
        ">모두 반복형을 입력받아 하나의 값으로 반환하고, 이 함수는 \"리듀스\",\"폴딩\",\"누적\"함수라고 한다.\n",
        "\n",
        "이런 함수는 모두 functools.reduce() 함수로 구현할 수 있지만, 자주 발생하는 특정 문제를 쉽게 처리하기 때문에 별도의 내장형 함수로 존재하고, all() 과 any()는 단락 평가 함수로, reduce()로 최적화할 수 없다.\n",
        "\n",
        "![](https://velog.velcdn.com/images/qsdcfd/post/9b1afc58-9cfd-4766-abe8-29c89216c1af/image.png)\n",
        "\n",
        "\n",
        "```\n",
        "all([1,2,3])\n",
        "any([1,2,3])\n",
        "```\n",
        "\n",
        "sorted()도 반복형을 입력받아서 정렬된 것을 반환하는 내장 함수로, sorted()는 제너레이터 함수인 reversed()와 달리 실제 리스트를 만들어서 반환하고, 입력된 반복형의 항목을 모두 읽어야 정렬할 수 있으며 리스트 안에서 발생하므로 sorted()는 정렬 완료 된다.\n",
        "\n",
        "sorted()함수가 모든 반복형을 소비할 수 있다.\n",
        "\n",
        "<br>\n",
        "\n",
        ">sorted와 리듀스 함수는 유한 반복형에만 사용할 수 있고 그렇지 않으면 항목을 계속 수집하고 결과를 반환하지 못한다."
      ],
      "metadata": {
        "id": "JyLY5DAdzE2c"
      }
    },
    {
      "cell_type": "code",
      "source": [],
      "metadata": {
        "id": "ELPZvOuMzE9E"
      },
      "execution_count": null,
      "outputs": []
    }
  ]
}