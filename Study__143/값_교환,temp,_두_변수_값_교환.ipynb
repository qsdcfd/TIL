{
  "nbformat": 4,
  "nbformat_minor": 0,
  "metadata": {
    "colab": {
      "name": "값 교환,temp, 두 변수 값 교환.ipynb",
      "provenance": []
    },
    "kernelspec": {
      "name": "python3",
      "display_name": "Python 3"
    },
    "language_info": {
      "name": "python"
    }
  },
  "cells": [
    {
      "cell_type": "code",
      "source": [
        "#변수 선언 및 값 할당\n",
        "a = 100\n",
        "b = 200\n",
        "print(a , b)\n",
        "\n"
      ],
      "metadata": {
        "colab": {
          "base_uri": "https://localhost:8080/"
        },
        "id": "xZbysAT4VgKE",
        "outputId": "f012456b-a1dd-4b4e-f812-9767bc4c685a"
      },
      "execution_count": 13,
      "outputs": [
        {
          "output_type": "stream",
          "name": "stdout",
          "text": [
            "100 200\n"
          ]
        }
      ]
    },
    {
      "cell_type": "code",
      "source": [
        "#값 교환을 어떻게 하면 좋을까?\n",
        "#변수 swap이용하기\n",
        "\n",
        "#swap이용 전\n",
        "#a = b\n",
        "#b = a\n",
        "\n",
        "\n",
        "#print(a, b ) #200\n",
        "\n",
        "#temp 변수 활용하여 swap\n",
        "#어떠한 스킬적인 것보다 하나의 값을 new변수로 설정하여 주기\n",
        "\n",
        "temp = a\n",
        "\n",
        "a = b # 200\n",
        "\n",
        "b = temp # 100\n",
        "\n",
        "print(a,b)"
      ],
      "metadata": {
        "colab": {
          "base_uri": "https://localhost:8080/"
        },
        "id": "eZj0kWSDVUBu",
        "outputId": "911d95ed-2569-41bf-c516-28262181810f"
      },
      "execution_count": 14,
      "outputs": [
        {
          "output_type": "stream",
          "name": "stdout",
          "text": [
            "200 100\n"
          ]
        }
      ]
    },
    {
      "cell_type": "code",
      "source": [
        "#변수 선언 및 할당\n",
        "#값을 할당하기\n",
        "\n",
        "c = 100\n",
        "\n",
        "d = 200\n",
        "\n",
        "c , d = 200, 100\n",
        "\n",
        "print(c,d)"
      ],
      "metadata": {
        "colab": {
          "base_uri": "https://localhost:8080/"
        },
        "id": "DhmQuwXRV0eW",
        "outputId": "6d56a90d-b980-4886-e32f-ad3854a98e86"
      },
      "execution_count": 15,
      "outputs": [
        {
          "output_type": "stream",
          "name": "stdout",
          "text": [
            "200 100\n"
          ]
        }
      ]
    },
    {
      "cell_type": "code",
      "source": [
        "#두번 째 방법\n",
        "c = 100\n",
        "\n",
        "d = 200\n",
        "\n",
        "c,d = d, c\n",
        "\n",
        "print(c,d)"
      ],
      "metadata": {
        "colab": {
          "base_uri": "https://localhost:8080/"
        },
        "id": "8BD0cFRcZBIe",
        "outputId": "3070ac02-3766-4b1a-e360-af32062dbc57"
      },
      "execution_count": 17,
      "outputs": [
        {
          "output_type": "stream",
          "name": "stdout",
          "text": [
            "200 100\n"
          ]
        }
      ]
    },
    {
      "cell_type": "code",
      "source": [
        ""
      ],
      "metadata": {
        "id": "nFarX9OtZWCf"
      },
      "execution_count": null,
      "outputs": []
    }
  ]
}