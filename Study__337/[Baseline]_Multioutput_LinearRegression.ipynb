{
  "cells": [
    {
      "cell_type": "markdown",
      "id": "fd510dcf-85b2-4396-858c-a14a37960c76",
      "metadata": {
        "id": "fd510dcf-85b2-4396-858c-a14a37960c76"
      },
      "source": [
        "## Import"
      ]
    },
    {
      "cell_type": "code",
      "execution_count": null,
      "id": "5c415d9d-1111-46ed-bc2d-849c75ab962a",
      "metadata": {
        "id": "5c415d9d-1111-46ed-bc2d-849c75ab962a"
      },
      "outputs": [],
      "source": [
        "import pandas as pd\n",
        "import random\n",
        "import os\n",
        "import numpy as np\n",
        "\n",
        "from sklearn.linear_model import LinearRegression\n",
        "from sklearn.multioutput import MultiOutputRegressor"
      ]
    },
    {
      "cell_type": "code",
      "execution_count": null,
      "id": "edae871a-b31b-4f06-bb88-0fd1f6660b13",
      "metadata": {
        "id": "edae871a-b31b-4f06-bb88-0fd1f6660b13"
      },
      "outputs": [],
      "source": [
        "def seed_everything(seed):\n",
        "    random.seed(seed)\n",
        "    os.environ['PYTHONHASHSEED'] = str(seed)\n",
        "    np.random.seed(seed)\n",
        "seed_everything(42) # Seed 고정"
      ]
    },
    {
      "cell_type": "markdown",
      "id": "18003e8e-4227-4e98-98de-0861ba8dc6cc",
      "metadata": {
        "id": "18003e8e-4227-4e98-98de-0861ba8dc6cc"
      },
      "source": [
        "## Data Load"
      ]
    },
    {
      "cell_type": "code",
      "execution_count": null,
      "id": "ee76c413-001b-475e-9d1c-6662d25d2db2",
      "metadata": {
        "id": "ee76c413-001b-475e-9d1c-6662d25d2db2"
      },
      "outputs": [],
      "source": [
        "train_df = pd.read_csv('./train.csv')"
      ]
    },
    {
      "cell_type": "code",
      "execution_count": null,
      "id": "ffc6afcd-a059-4c16-81a5-ab3d4d750a41",
      "metadata": {
        "id": "ffc6afcd-a059-4c16-81a5-ab3d4d750a41"
      },
      "outputs": [],
      "source": [
        "train_x = train_df.filter(regex='X') # Input : X Featrue\n",
        "train_y = train_df.filter(regex='Y') # Output : Y Feature"
      ]
    },
    {
      "cell_type": "markdown",
      "id": "d8ddc03e-78a5-4ffe-acdb-7c97e9b5fe09",
      "metadata": {
        "id": "d8ddc03e-78a5-4ffe-acdb-7c97e9b5fe09"
      },
      "source": [
        "## Regression Model Fit"
      ]
    },
    {
      "cell_type": "code",
      "execution_count": null,
      "id": "c6ca77bc-154c-4cb3-9251-3fe45d671416",
      "metadata": {
        "id": "c6ca77bc-154c-4cb3-9251-3fe45d671416",
        "outputId": "61705986-c21a-4b51-9a53-075c950fef04"
      },
      "outputs": [
        {
          "name": "stdout",
          "output_type": "stream",
          "text": [
            "Done.\n"
          ]
        }
      ],
      "source": [
        "LR = MultiOutputRegressor(LinearRegression()).fit(train_x, train_y)\n",
        "print('Done.')"
      ]
    },
    {
      "cell_type": "markdown",
      "id": "ca6c1a72-b593-4caa-b042-4a7c581b3e46",
      "metadata": {
        "id": "ca6c1a72-b593-4caa-b042-4a7c581b3e46"
      },
      "source": [
        "## Inference"
      ]
    },
    {
      "cell_type": "code",
      "execution_count": null,
      "id": "98aba1db-4653-42eb-9e28-0cbdd327bc04",
      "metadata": {
        "id": "98aba1db-4653-42eb-9e28-0cbdd327bc04"
      },
      "outputs": [],
      "source": [
        "test_x = pd.read_csv('./test.csv').drop(columns=['ID'])"
      ]
    },
    {
      "cell_type": "code",
      "execution_count": null,
      "id": "33b68656-3d7d-4221-b508-24d0d7622179",
      "metadata": {
        "id": "33b68656-3d7d-4221-b508-24d0d7622179",
        "outputId": "7b1e2519-dc38-4817-bce2-362da7e59f3c"
      },
      "outputs": [
        {
          "name": "stdout",
          "output_type": "stream",
          "text": [
            "Done.\n"
          ]
        }
      ],
      "source": [
        "preds = LR.predict(test_x)\n",
        "print('Done.')"
      ]
    },
    {
      "cell_type": "markdown",
      "id": "6f41cc9f-5cc4-4b03-9640-8c1982a7acad",
      "metadata": {
        "id": "6f41cc9f-5cc4-4b03-9640-8c1982a7acad"
      },
      "source": [
        "## Submit"
      ]
    },
    {
      "cell_type": "code",
      "execution_count": null,
      "id": "20c5e156-d7c4-400f-b552-0bb86ebfd3e3",
      "metadata": {
        "id": "20c5e156-d7c4-400f-b552-0bb86ebfd3e3"
      },
      "outputs": [],
      "source": [
        "submit = pd.read_csv('./sample_submission.csv')"
      ]
    },
    {
      "cell_type": "code",
      "execution_count": null,
      "id": "5b869ab6-6852-45a1-bc75-39dee40b583f",
      "metadata": {
        "id": "5b869ab6-6852-45a1-bc75-39dee40b583f",
        "outputId": "79e75b72-7bcf-4ed0-9ffc-d2bbc9ba1ca3"
      },
      "outputs": [
        {
          "name": "stdout",
          "output_type": "stream",
          "text": [
            "Done.\n"
          ]
        }
      ],
      "source": [
        "for idx, col in enumerate(submit.columns):\n",
        "    if col=='ID':\n",
        "        continue\n",
        "    submit[col] = preds[:,idx-1]\n",
        "print('Done.')"
      ]
    },
    {
      "cell_type": "code",
      "execution_count": null,
      "id": "026b00cd-5680-4bf2-b7f8-0bea6ae8299e",
      "metadata": {
        "id": "026b00cd-5680-4bf2-b7f8-0bea6ae8299e"
      },
      "outputs": [],
      "source": [
        "submit.to_csv('./submit.csv', index=False)"
      ]
    }
  ],
  "metadata": {
    "kernelspec": {
      "display_name": "Python 3 (ipykernel)",
      "language": "python",
      "name": "python3"
    },
    "language_info": {
      "codemirror_mode": {
        "name": "ipython",
        "version": 3
      },
      "file_extension": ".py",
      "mimetype": "text/x-python",
      "name": "python",
      "nbconvert_exporter": "python",
      "pygments_lexer": "ipython3",
      "version": "3.8.3"
    },
    "colab": {
      "name": "[Baseline]_Multioutput LinearRegression.ipynb",
      "provenance": []
    }
  },
  "nbformat": 4,
  "nbformat_minor": 5
}