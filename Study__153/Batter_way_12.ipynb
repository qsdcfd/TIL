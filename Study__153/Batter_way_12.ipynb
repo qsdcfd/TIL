{
  "nbformat": 4,
  "nbformat_minor": 0,
  "metadata": {
    "colab": {
      "name": "Batter way 12",
      "provenance": [],
      "authorship_tag": "ABX9TyM6Dv3j/JpI7QojfSC78m2a"
    },
    "kernelspec": {
      "name": "python3",
      "display_name": "Python 3"
    },
    "language_info": {
      "name": "python"
    }
  },
  "cells": [
    {
      "cell_type": "markdown",
      "source": [
        "### 스트라이드와 슬라이스를 한 식에 함께 사용하지 말라\n",
        "\n",
        "- 스트라이드(Stride)\n",
        "\n",
        "   - 파이썬은 리스트[시작:끝:증가값]으로 일정한 간격을 두고 슬라이싱\n",
        "   \n",
        "   - 증가값을 이용하여 원하는 간격(등차수열로 얻기 가능)\n",
        "   \n",
        "```\n",
        "x = ['빨강', '주황', '노랑', '초록', '파랑', '자주']\n",
        "\n",
        "odds = x[::2]\n",
        "evens = x[1::2]\n",
        "print(odds) # ['빨강', '노랑', '파랑']\n",
        "print(evens) # ['주황', '초록', '자주'] \n",
        "```\n",
        "\n",
        "<br>\n",
        "\n",
        "- 문자열을 역으로 뒤집기 by -1을 증가값으로 사용\n",
        "\n",
        "   - 유니코드 문자열 가능\n",
        "   \n",
        "   - UTF-인코딩한 문자열에선 안됨\n",
        "\n",
        "```\n",
        "x = b'mongoose'\n",
        "y = x[::-1]\n",
        "print(y) # b'esoognom'\n",
        "```\n",
        "\n",
        "- 스트라이딩한 다음 슬라이싱하면 데이터를 한 번 얕게 복사하게 된다.\n",
        "\n",
        "   - 시관 메모리를 감당할 수 없다면 itertools 내장 모듈의 islice메서드 고려\n",
        "   \n",
        "   - 시작, 끝, 중간값에 음수 사용 불가\n",
        "   \n",
        "```\n",
        "y = [x::2] # ['a','c','e','g']\n",
        "z = y[1:-1] # ['c','e']\n",
        "```\n",
        "\n",
        "<br>\n",
        "\n",
        "\n",
        "#### 총 정리\n",
        "\n",
        "- 슬라이스에 시작,끝,증가값을 함께 지정하면 코드의 의미 혼동\n",
        "\n",
        "- 시작이나 끝 인덱스가 없는 슬라이스를 만들 때 양수 증가값 사용\n",
        "\n",
        "- 한 슬라이스 안에서 시작,끝,증가값 함께 사용하지 말라\n",
        "\n",
        "   - 만약 모두 써야 한다면, 두 번은 대입 사용하거나 itertools내장 모듈의 islice사"
      ],
      "metadata": {
        "id": "oH48j4sNVdIv"
      }
    },
    {
      "cell_type": "code",
      "source": [
        ""
      ],
      "metadata": {
        "id": "BX9fbtmeVdgA"
      },
      "execution_count": null,
      "outputs": []
    }
  ]
}