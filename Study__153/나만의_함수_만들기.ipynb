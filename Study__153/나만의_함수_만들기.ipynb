{
  "nbformat": 4,
  "nbformat_minor": 0,
  "metadata": {
    "colab": {
      "name": "나만의 함수 만들기",
      "provenance": [],
      "authorship_tag": "ABX9TyPsjygGU/ESjkebo9HeKbwN"
    },
    "kernelspec": {
      "name": "python3",
      "display_name": "Python 3"
    },
    "language_info": {
      "name": "python"
    }
  },
  "cells": [
    {
      "cell_type": "code",
      "execution_count": null,
      "metadata": {
        "id": "VTmh43dVOH86"
      },
      "outputs": [],
      "source": [
        "#초과 근무 5할 가산 지급 논리 사용\n",
        "\n",
        "def computepay(hours, rate):\n",
        "    if hours > 40:\n",
        "        reg = rate * hours\n",
        "        otp = (hours - 40.0) * (rate * 0.5)\n",
        "        pay = reg + otp\n",
        "    else:\n",
        "        pay = hours * rate\n",
        "    return pay\n",
        "\n",
        "sh = input(\"Enter Hours: \")\n",
        "sr = input(\"Enter Rate: \")\n",
        "fh = float(sh)\n",
        "fr = float(sr)\n",
        "\n",
        "xp = computepay(fh, fr)\n",
        "\n",
        "print(\"Pay: \", xp)\n"
      ]
    }
  ]
}