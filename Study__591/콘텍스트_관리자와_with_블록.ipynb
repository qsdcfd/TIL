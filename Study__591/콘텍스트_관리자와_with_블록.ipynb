{
  "nbformat": 4,
  "nbformat_minor": 0,
  "metadata": {
    "colab": {
      "provenance": [],
      "authorship_tag": "ABX9TyPaDazCWHz6qkJgr6gBH+ab"
    },
    "kernelspec": {
      "name": "python3",
      "display_name": "Python 3"
    },
    "language_info": {
      "name": "python"
    }
  },
  "cells": [
    {
      "cell_type": "markdown",
      "source": [
        "# 제어 흐름\n",
        "## 콘텍스트 관리자와 else 블록\n",
        "### 콘텍스트 관리자와 with 블록\n",
        "\n",
        "반복자가 for문을 제어하기 위해 존재하는 것처럼 콘텍스트 관리자 객체는 with문을 제어하기 위해 존재한다.\n",
        "\n",
        "with문은 try//finally 패턴(이 패턴은 예외,return, sys.exit()호출등의 이유로 어떤 블록의 실행이 중단되더라도 이후의 일정한 코드를 반드시 실행할 수 있게 보장)을 단순화하기 위해 설계되었다.\n",
        "\n",
        "일반적으로 finally 절 안에 있는 코드는 중요한 리소스를 해체하거나 임시로 변경된 상태를 복원하기 위해 사용된다.\n",
        "\n",
        "콘텍스트 관리자 프로토콜은 __enter__()와 __exit__() 메서드로 구성되어 있고, with문이 시작될 때 콘텍스트 관리자 객체의 __enter__()메서드가 호출되므로 with 블록의 끝에서 finally절의 역할을 수행한다.\n",
        "\n",
        "<br>\n",
        "\n",
        "```\n",
        "#콘텍스트 관리자로서 파일 객체의 사용 예\n",
        "\n",
        "with open('mirror.py') as fp:\n",
        "\tsrc = fp.read(60)\n",
        "len(src)\n",
        "fp\n",
        "fp.closed.fp.encdoing\n",
        "fp.read(60)\n",
        "```\n",
        "\n",
        "<br>\n",
        "\n",
        "제어 흐름이 with문을 빠져나온 후에는 __enter__() 메서드는 반환한 객체가 아니라 켄텍스트 관리자 객체의 __exit__()메서드가 호출된다.\n",
        "\n",
        "with 문의 as절은 선택적으로 open()의 경우에는 파일에 대한 참조가 필요하지만, 사용자에게 반환할 적절한 객체가 없어 None을 반환하는 콘텍스트 관리자도 있다.\n",
        "\n",
        "```\n",
        "from mirror import LookingGlass\n",
        "with LookingGlass() as what:\n",
        "\tprint(\"Alice, Kitty and Snowdrop')\n",
        "    print(what)\n",
        "```\n",
        "\n",
        "\n",
        "<br>\n",
        "\n",
        "```\n",
        "\n",
        "\n",
        "class LookingGlass:\n",
        "\n",
        "\tdef __enter__(self):\n",
        "    \timport sys\n",
        "        self.original_write = sys.stdout.write\n",
        "        sys.stdout.write = self.reverse_write\n",
        "        return 'JABBERWOCKY'\n",
        "        \n",
        "     def reverse_write(self, text):\n",
        "     \tself.original_write(text[::-1]])\n",
        "        \n",
        "      def __exit__(self, exc_type, exc_value, traceback):\n",
        "      \timport sys\n",
        "        sys.stdout.write = self.original_write\n",
        "        if exc_type is ZeroDivisionError:\n",
        "        \tprint('Please DO NOT divide by zero!')\n",
        "            return True\n",
        "```\n"
      ],
      "metadata": {
        "id": "0aR4SQdpw9_P"
      }
    },
    {
      "cell_type": "code",
      "source": [],
      "metadata": {
        "id": "Lcf89Vvpw_3x"
      },
      "execution_count": null,
      "outputs": []
    }
  ]
}